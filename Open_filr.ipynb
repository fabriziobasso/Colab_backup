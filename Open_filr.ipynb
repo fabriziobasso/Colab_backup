{
  "nbformat": 4,
  "nbformat_minor": 0,
  "metadata": {
    "colab": {
      "provenance": [],
      "include_colab_link": true
    },
    "kernelspec": {
      "name": "python3",
      "display_name": "Python 3"
    },
    "language_info": {
      "name": "python"
    }
  },
  "cells": [
    {
      "cell_type": "markdown",
      "metadata": {
        "id": "view-in-github",
        "colab_type": "text"
      },
      "source": [
        "<a href=\"https://colab.research.google.com/github/fabriziobasso/Colab_backup/blob/main/Open_filr.ipynb\" target=\"_parent\"><img src=\"https://colab.research.google.com/assets/colab-badge.svg\" alt=\"Open In Colab\"/></a>"
      ]
    },
    {
      "cell_type": "code",
      "source": [
        "%%capture\n",
        "# Clone the repository\n",
        "!git clone https://github.com/PacktPublishing/Modern-Time-Series-Forecasting-with-Python-2E.git"
      ],
      "metadata": {
        "id": "thJeCVQoWTyf"
      },
      "execution_count": null,
      "outputs": []
    },
    {
      "cell_type": "code",
      "source": [
        "import numpy as np\n",
        "import matplotlib.pyplot as plt\n",
        "import plotly.express as px\n",
        "import os\n",
        "import plotly.io as pio\n",
        "pio.templates.default = \"plotly_white\"\n",
        "import pandas as pd\n",
        "from pathlib import Path\n",
        "from tqdm.auto import tqdm\n",
        "import missingno as msno\n",
        "from itertools import cycle\n",
        "from sklearn.metrics import mean_absolute_error\n",
        "from IPython.display import display, HTML\n",
        "# %load_ext autoreload\n",
        "# %autoreload 2\n",
        "np.random.seed()\n",
        "tqdm.pandas()\n",
        "\n",
        "# Navigate to the repository's root directory\n",
        "%cd Modern-Time-Series-Forecasting-with-Python-2E\n",
        "\n",
        "from src.utils.data_utils import compact_to_expanded\n",
        "from src.imputation.interpolation import SeasonalInterpolation"
      ],
      "metadata": {
        "id": "d9q__r7fWr75"
      },
      "execution_count": null,
      "outputs": []
    },
    {
      "cell_type": "code",
      "source": [
        "from google.colab import drive\n",
        "drive.mount('/content/drive')"
      ],
      "metadata": {
        "id": "3Cu5YK6FR4CM"
      },
      "execution_count": null,
      "outputs": []
    },
    {
      "cell_type": "code",
      "source": [
        "%cd"
      ],
      "metadata": {
        "id": "1xUUV4hTZulN"
      },
      "execution_count": null,
      "outputs": []
    },
    {
      "cell_type": "code",
      "source": [
        "os.makedirs(\"/content/drive/MyDrive/Books/Modern Time Series Forecasting/Chapter II/imgs/chapter_2\", exist_ok=True)\n",
        "preprocessed = Path(\"/content/drive/MyDrive/Books/Modern Time Series Forecasting/Data/data/london_smart_meters/data/london_smart_meters/preprocessed\")\n",
        "base_directory = Path(\"/content/drive/MyDrive/Books/Modern Time Series Forecasting/Chapter II/\")"
      ],
      "metadata": {
        "id": "dcEIKcoyWudv"
      },
      "execution_count": null,
      "outputs": []
    },
    {
      "cell_type": "code",
      "source": [
        "def format_plot(fig, legends = None, font_size=15, title_font_size=20):\n",
        "    if legends:\n",
        "        names = cycle(legends)\n",
        "        fig.for_each_trace(lambda t:  t.update(name = next(names)))\n",
        "    fig.update_layout(\n",
        "            autosize=False,\n",
        "            width=900,\n",
        "            height=500,\n",
        "            title={\n",
        "            'x':0.5,\n",
        "            'xanchor': 'center',\n",
        "            'yanchor': 'top'},\n",
        "            titlefont={\n",
        "                \"size\": title_font_size\n",
        "            },\n",
        "            legend_title = None,\n",
        "            legend=dict(\n",
        "                font=dict(size=font_size),\n",
        "                orientation=\"h\",\n",
        "                yanchor=\"bottom\",\n",
        "                y=0.98,\n",
        "                xanchor=\"right\",\n",
        "                x=1,\n",
        "            ),\n",
        "            yaxis=dict(\n",
        "                title_text=\"Value\",\n",
        "                titlefont=dict(size=font_size),\n",
        "                tickfont=dict(size=font_size),\n",
        "            ),\n",
        "            xaxis=dict(\n",
        "                title_text=\"Day\",\n",
        "                titlefont=dict(size=font_size),\n",
        "                tickfont=dict(size=font_size),\n",
        "            )\n",
        "        )\n",
        "    return fig"
      ],
      "metadata": {
        "id": "Cj8ZEI-1X5bC"
      },
      "execution_count": null,
      "outputs": []
    },
    {
      "cell_type": "code",
      "source": [
        "from itertools import cycle\n",
        "from src.utils import plotting_utils\n",
        "\n",
        "def format_plot(fig, legends = None, xlabel=\"Time\", ylabel=\"Value\", figsize=(500,900), font_size=15, title_font_size=20):\n",
        "    if legends:\n",
        "        names = cycle(legends)\n",
        "        fig.for_each_trace(lambda t:  t.update(name = next(names)))\n",
        "    fig.update_layout(\n",
        "            autosize=False,\n",
        "            width=figsize[1],\n",
        "            height=figsize[0],\n",
        "            title={\n",
        "            'x':0.5,\n",
        "            'xanchor': 'center',\n",
        "            'yanchor': 'top'},\n",
        "            titlefont={\n",
        "                \"size\": 20\n",
        "            },\n",
        "            legend_title = None,\n",
        "            legend=dict(\n",
        "                font=dict(size=font_size),\n",
        "                orientation=\"h\",\n",
        "                yanchor=\"bottom\",\n",
        "                y=0.98,\n",
        "                xanchor=\"right\",\n",
        "                x=1,\n",
        "            ),\n",
        "            yaxis=dict(\n",
        "                title_text=ylabel,\n",
        "                titlefont=dict(size=font_size),\n",
        "                tickfont=dict(size=font_size),\n",
        "            ),\n",
        "            xaxis=dict(\n",
        "                title_text=xlabel,\n",
        "                titlefont=dict(size=font_size),\n",
        "                tickfont=dict(size=font_size),\n",
        "            )\n",
        "        )\n",
        "    return fig"
      ],
      "metadata": {
        "id": "o5VEWZj9DTE0"
      },
      "execution_count": null,
      "outputs": []
    },
    {
      "cell_type": "markdown",
      "source": [
        "### Reading Market Volumes data:"
      ],
      "metadata": {
        "id": "Zl0ru8p1c7bk"
      }
    },
    {
      "cell_type": "code",
      "source": [
        "try:\n",
        "    block_df = pd.read_csv(base_directory/\"vol.csv\", skiprows=3)\n",
        "    display(block_df.head())\n",
        "except FileNotFoundError:\n",
        "    display(HTML(\"\"\"\n",
        "    <div class=\"alert alert-block alert-warning\">\n",
        "    <b>Warning!</b> File not found. Please make sure you have run 02 - Preprocessing London Smart Meter Dataset.ipynb in Chapter02\n",
        "    </div>\n",
        "    \"\"\"))"
      ],
      "metadata": {
        "id": "GaPJLvJDc3gF"
      },
      "execution_count": null,
      "outputs": []
    },
    {
      "cell_type": "code",
      "source": [
        "block_df[\"Dates\"] = pd.to_datetime(block_df[\"Dates\"],format=\"%d/%m/%Y\")\n",
        "block_df.set_index(\"Dates\", inplace=True)\n",
        "block_df.head()"
      ],
      "metadata": {
        "id": "BuZnNGJoqpcm"
      },
      "execution_count": null,
      "outputs": []
    },
    {
      "cell_type": "code",
      "source": [
        "msno.matrix(block_df, fontsize=10)\n",
        "#plt.savefig('/content/drive/MyDrive/Books/Modern Time Series Forecasting/Chapter II/imgs/chapter_2/imgs/missing_no_full.png', bbox_inches='tight')\n",
        "plt.show()"
      ],
      "metadata": {
        "id": "emZEu2zwn1Wc"
      },
      "execution_count": null,
      "outputs": []
    },
    {
      "cell_type": "code",
      "source": [
        "filtered_block_df = block_df[(block_df.index >= pd.to_datetime(\"2024-06-03\", format=\"%Y-%m-%d\")) & (block_df.index <= pd.to_datetime(\"2025-04-03\", format=\"%Y-%m-%d\"))]\n",
        "msno.matrix(filtered_block_df, fontsize=10)\n",
        "#plt.savefig('imgs/chapter_2/missing_no_mac000193.png', bbox_inches='tight')\n",
        "plt.show()"
      ],
      "metadata": {
        "id": "2N9wcvYLspNm"
      },
      "execution_count": null,
      "outputs": []
    },
    {
      "cell_type": "markdown",
      "source": [
        "Whereas all the obs are missing that date is removed:"
      ],
      "metadata": {
        "id": "bzVB7YdPseK5"
      }
    },
    {
      "cell_type": "code",
      "source": [
        "block_df = block_df.dropna(axis=0, thresh=0.9)\n",
        "msno.matrix(block_df, fontsize=10)\n",
        "plt.show()"
      ],
      "metadata": {
        "id": "0AvwkqbFqjzD"
      },
      "execution_count": null,
      "outputs": []
    },
    {
      "cell_type": "code",
      "source": [
        "sec = \"6472 JT Equity\"\n",
        "ts_df = block_df[[sec]]\n",
        "\n",
        "\n",
        "ts_df[\"day\"] = ts_df.index.day\n",
        "ts_df[\"weekday\"] = ts_df.index.weekday\n",
        "ts_df[\"month\"] = ts_df.index.month\n",
        "ts_df[\"year\"] = ts_df.index.year"
      ],
      "metadata": {
        "id": "HK3XNKA8vMJz"
      },
      "execution_count": null,
      "outputs": []
    },
    {
      "cell_type": "markdown",
      "source": [],
      "metadata": {
        "id": "4LYEU4yX2ynR"
      }
    },
    {
      "cell_type": "code",
      "source": [
        "fig = px.line(ts_df, y=sec, title=f\"{sec} Volumes\")\n",
        "fig = format_plot(fig)\n",
        "#fig.write_image(\"imgs/chapter_2/mac000193_missing.png\")\n",
        "fig.show()"
      ],
      "metadata": {
        "id": "_LNrtv2b2cxm"
      },
      "execution_count": null,
      "outputs": []
    },
    {
      "cell_type": "code",
      "source": [
        "week_profile = ts_df.groupby(['weekday'])[sec].mean().reset_index()"
      ],
      "metadata": {
        "id": "1yOJMjFW18jO"
      },
      "execution_count": null,
      "outputs": []
    },
    {
      "cell_type": "code",
      "source": [
        "fig = px.line(week_profile, y=sec, title=f\"{sec} Volumes\")\n",
        "fig = format_plot(fig)\n",
        "#fig.write_image(\"imgs/chapter_2/mac000193_missing.png\")\n",
        "fig.show()"
      ],
      "metadata": {
        "id": "SX3Ex-Y22UG3"
      },
      "execution_count": null,
      "outputs": []
    },
    {
      "cell_type": "code",
      "source": [
        "month_profile = ts_df.groupby(['month'])[sec].mean().reset_index()"
      ],
      "metadata": {
        "id": "Ne0EXiKD2UuG"
      },
      "execution_count": null,
      "outputs": []
    },
    {
      "cell_type": "code",
      "source": [
        "fig = px.line(month_profile, y=sec, title=f\"{sec} Volumes\")\n",
        "fig = format_plot(fig)\n",
        "#fig.write_image(\"imgs/chapter_2/mac000193_missing.png\")\n",
        "fig.show()"
      ],
      "metadata": {
        "id": "oESZQogM56IY"
      },
      "execution_count": null,
      "outputs": []
    },
    {
      "cell_type": "code",
      "source": [
        "month_day_profile = ts_df.groupby(['month',\"day\"])[sec].mean().reset_index()"
      ],
      "metadata": {
        "id": "Kza5QIcr5_6Q"
      },
      "execution_count": null,
      "outputs": []
    },
    {
      "cell_type": "code",
      "source": [
        "month_day_profile\n",
        "\n",
        "# Hourly Profiles by week Day\n",
        "px.line(month_day_profile, x=\"day\", y=sec, color=\"month\", title=\"Daily Profiles by Month: Jan (0-Monday - 4-Friday)\")"
      ],
      "metadata": {
        "id": "Uf01z8t96Rde"
      },
      "execution_count": null,
      "outputs": []
    },
    {
      "cell_type": "code",
      "source": [
        "def format_plot(fig, legends = None, xlabel=\"Time\", ylabel=\"Value\", figsize=(500,900), font_size=15, title_font_size=20):\n",
        "    if legends:\n",
        "        names = cycle(legends)\n",
        "        fig.for_each_trace(lambda t:  t.update(name = next(names)))\n",
        "    fig.update_layout(\n",
        "            autosize=False,\n",
        "            width=figsize[1],\n",
        "            height=figsize[0],\n",
        "            title={\n",
        "            'x':0.5,\n",
        "            'xanchor': 'center',\n",
        "            'yanchor': 'top'},\n",
        "            titlefont={\n",
        "                \"size\": 20\n",
        "            },\n",
        "            legend_title = None,\n",
        "            legend=dict(\n",
        "                font=dict(size=font_size),\n",
        "                orientation=\"h\",\n",
        "                yanchor=\"bottom\",\n",
        "                y=0.98,\n",
        "                xanchor=\"right\",\n",
        "                x=1,\n",
        "            ),\n",
        "            yaxis=dict(\n",
        "                title_text=ylabel,\n",
        "                titlefont=dict(size=font_size),\n",
        "                tickfont=dict(size=font_size),\n",
        "            ),\n",
        "            xaxis=dict(\n",
        "                title_text=xlabel,\n",
        "                titlefont=dict(size=font_size),\n",
        "                tickfont=dict(size=font_size),\n",
        "            )\n",
        "        )\n",
        "    return fig"
      ],
      "metadata": {
        "id": "UtNbVmZb_U8l"
      },
      "execution_count": null,
      "outputs": []
    },
    {
      "cell_type": "code",
      "source": [
        "#Montlhly Average energy consumption\n",
        "plot_df = ts_df.groupby([\"year\", \"month\"],observed=False)[[sec]].mean().reset_index()"
      ],
      "metadata": {
        "id": "jaNiOO9B-sx_"
      },
      "execution_count": null,
      "outputs": []
    },
    {
      "cell_type": "code",
      "source": [
        "fig = px.line(plot_df, x=\"month\", y=sec, color=\"year\", line_dash=\"year\", title=\"Seasonal Plot - Monthly\")\n",
        "fig = format_plot(fig, ylabel=sec, xlabel=\"Month\")\n",
        "fig.update_layout(legend=dict(\n",
        "                font=dict(size=15),\n",
        "                orientation=\"h\",\n",
        "                yanchor=\"bottom\",\n",
        "                y=0.98,\n",
        "                xanchor=\"right\",\n",
        "                x=1,\n",
        "            ),\n",
        "            yaxis=dict(\n",
        "                # title_text=ylabel,\n",
        "                titlefont=dict(size=15),\n",
        "                tickfont=dict(size=15),\n",
        "            ),\n",
        "            xaxis=dict(\n",
        "                # title_text=xlabel,\n",
        "                titlefont=dict(size=15),\n",
        "                tickfont=dict(size=15),\n",
        "            ))\n",
        "#fig.write_image(\"imgs/chapter_3/seasonal_plot_monthly.png\")\n",
        "fig.show()"
      ],
      "metadata": {
        "id": "6VLUmoTO_GvA"
      },
      "execution_count": null,
      "outputs": []
    },
    {
      "cell_type": "markdown",
      "source": [
        "## Seasonal Box Plots"
      ],
      "metadata": {
        "id": "WYWJoC8GDSoB"
      }
    },
    {
      "cell_type": "code",
      "source": [
        "plot_df =  ts_df.groupby([\"month\",\"day\"],observed=False)[sec].mean().reset_index().dropna()"
      ],
      "metadata": {
        "id": "sUENZ0wjDBG3"
      },
      "execution_count": null,
      "outputs": []
    },
    {
      "cell_type": "code",
      "source": [
        "fig = px.box(plot_df, y=sec, x=\"month\", log_y=True, title=\"Box Plot: Month Average\")\n",
        "fig = format_plot(fig, ylabel=\"Volumes\", xlabel=\"Month\", legends=None)\n",
        "#fig.write_image(\"imgs/chapter_3/box_plot_hourly_avg.png\")\n",
        "fig.show()"
      ],
      "metadata": {
        "id": "s3UPKbXZDV0M"
      },
      "execution_count": null,
      "outputs": []
    },
    {
      "cell_type": "markdown",
      "source": [
        "## Calendar Heatmap"
      ],
      "metadata": {
        "id": "qvwF7rWdDxsl"
      }
    },
    {
      "cell_type": "code",
      "source": [
        "plot_df = pd.pivot_table(ts_df, index=\"month\", values=sec, columns=\"day\", aggfunc=\"mean\")\n",
        "# plot_df.index = \"Day \"+ plot_df.index.astype(str)\n",
        "plot_df"
      ],
      "metadata": {
        "id": "KA1oa9XaDiUw"
      },
      "execution_count": null,
      "outputs": []
    },
    {
      "cell_type": "code",
      "source": [
        "fig = px.imshow(plot_df, height=600, width=1200, title=\"Energy Consumption: Hours vs Week Day\")\n",
        "fig = format_plot(fig, ylabel=\"Day\", xlabel=\"Month\", legends=None)\n",
        "#fig.write_image(\"imgs/chapter_3/hour_weekday_heatmap.png\")\n",
        "fig.show()"
      ],
      "metadata": {
        "id": "kJMjQyRiD2Iq"
      },
      "execution_count": null,
      "outputs": []
    },
    {
      "cell_type": "code",
      "source": [],
      "metadata": {
        "id": "scKBi3uYDA62"
      },
      "execution_count": null,
      "outputs": []
    },
    {
      "cell_type": "markdown",
      "source": [
        "# Autocorrelation Plots"
      ],
      "metadata": {
        "id": "dcHSzY0JEWiz"
      }
    },
    {
      "cell_type": "code",
      "source": [
        "from src.decomposition.seasonal import MultiSeasonalDecomposition, STL\n",
        "stl = MultiSeasonalDecomposition(seasonal_model=\"fourier\",seasonality_periods=[\"day_of_year\",\"month\"], model = \"additive\", n_fourier_terms=10, )\n",
        "res = stl.fit(ts_df[sec])"
      ],
      "metadata": {
        "id": "wsL116XQEOEA"
      },
      "execution_count": null,
      "outputs": []
    },
    {
      "cell_type": "code",
      "source": [
        "fig = plotting_utils.plot_autocorrelation(res.resid, vertical=True)\n",
        "#fig.write_image(\"imgs/chapter_3/acf_pacf.png\")\n",
        "fig.show()"
      ],
      "metadata": {
        "id": "mgzoMXrpEcoE"
      },
      "execution_count": null,
      "outputs": []
    },
    {
      "cell_type": "code",
      "source": [
        "fig = px.line(month_day_profile, y=sec, title=f\"{sec} Volumes\")\n",
        "fig = format_plot(fig)\n",
        "#fig.write_image(\"imgs/chapter_2/mac000193_missing.png\")\n",
        "fig.show()"
      ],
      "metadata": {
        "id": "aCrBZxAy6Lgp"
      },
      "execution_count": null,
      "outputs": []
    },
    {
      "cell_type": "code",
      "source": [
        "ts_df.tail(63)"
      ],
      "metadata": {
        "id": "l30NPaJi6NoK"
      },
      "execution_count": null,
      "outputs": []
    },
    {
      "cell_type": "markdown",
      "source": [
        "# 3.0 **Decomposing Time Series**"
      ],
      "metadata": {
        "id": "fPlggmjRAtpo"
      }
    },
    {
      "cell_type": "code",
      "source": [
        "import numpy as np\n",
        "import matplotlib.pyplot as plt\n",
        "import seaborn as sns\n",
        "\n",
        "import plotly.express as px\n",
        "import os\n",
        "import plotly.io as pio\n",
        "pio.templates.default = \"plotly_white\"\n",
        "import pandas as pd\n",
        "from pathlib import Path\n",
        "from tqdm.auto import tqdm\n",
        "from IPython.display import display, HTML\n",
        "import missingno as msno\n",
        "import statsmodels.api as sm\n",
        "from statsmodels.tsa.seasonal import MSTL , DecomposeResult\n",
        "\n",
        "import requests\n",
        "from io import StringIO\n",
        "# %load_ext autoreload\n",
        "# %autoreload 2\n",
        "np.random.seed()\n",
        "tqdm.pandas()"
      ],
      "metadata": {
        "id": "i3-eaxI7Bb8K"
      },
      "execution_count": null,
      "outputs": []
    },
    {
      "cell_type": "code",
      "source": [
        "from itertools import cycle\n",
        "\n",
        "\n",
        "def format_plot(fig, legends = None, xlabel=\"Time\", ylabel=\"Value\", font_size=15, title_font_size=20):\n",
        "    if legends:\n",
        "        names = cycle(legends)\n",
        "        fig.for_each_trace(lambda t:  t.update(name = next(names)))\n",
        "    fig.update_layout(\n",
        "            autosize=False,\n",
        "            width=900,\n",
        "            height=500,\n",
        "            title={\n",
        "            'x':0.5,\n",
        "            'xanchor': 'center',\n",
        "            'yanchor': 'top'},\n",
        "            titlefont={\n",
        "                \"size\": 20\n",
        "            },\n",
        "            legend_title = None,\n",
        "            legend=dict(\n",
        "                font=dict(size=font_size),\n",
        "                orientation=\"h\",\n",
        "                yanchor=\"bottom\",\n",
        "                y=0.98,\n",
        "                xanchor=\"right\",\n",
        "                x=1,\n",
        "            ),\n",
        "            yaxis=dict(\n",
        "                title_text=ylabel,\n",
        "                titlefont=dict(size=font_size),\n",
        "                tickfont=dict(size=font_size),\n",
        "            ),\n",
        "            xaxis=dict(\n",
        "                title_text=xlabel,\n",
        "                titlefont=dict(size=font_size),\n",
        "                tickfont=dict(size=font_size),\n",
        "            )\n",
        "        )\n",
        "    return fig"
      ],
      "metadata": {
        "id": "T6q6RUQLAwBH"
      },
      "execution_count": null,
      "outputs": []
    },
    {
      "cell_type": "markdown",
      "source": [
        "## Seasonal Decomposition"
      ],
      "metadata": {
        "id": "FP1fg37Znb8Y"
      }
    },
    {
      "cell_type": "code",
      "source": [
        "ts_df.head()"
      ],
      "metadata": {
        "id": "Gb16ABUuBRZK"
      },
      "execution_count": null,
      "outputs": []
    },
    {
      "cell_type": "code",
      "source": [
        "from statsmodels.tsa.seasonal import seasonal_decompose\n",
        "from src.decomposition.seasonal import STL, FourierDecomposition, MultiSeasonalDecomposition"
      ],
      "metadata": {
        "id": "7l3aamNPnSiO"
      },
      "execution_count": null,
      "outputs": []
    },
    {
      "cell_type": "code",
      "source": [
        "from plotly.subplots import make_subplots\n",
        "import plotly.graph_objects as go\n",
        "def decomposition_plot(\n",
        "        ts_index, observed=None, seasonal=None, trend=None, resid=None\n",
        "    ):\n",
        "        \"\"\"Plots the decomposition output\n",
        "        \"\"\"\n",
        "        series = []\n",
        "        if observed is not None:\n",
        "            series += [\"Original\"]\n",
        "        if trend is not None:\n",
        "            series += [\"Trend\"]\n",
        "        if seasonal is not None:\n",
        "            series += [\"Seasonal\"]\n",
        "        if resid is not None:\n",
        "            series += [\"Residual\"]\n",
        "        if len(series) == 0:\n",
        "            raise ValueError(\n",
        "                \"All component flags were off. Need atleast one of the flags turned on to plot.\"\n",
        "            )\n",
        "        fig = make_subplots(\n",
        "            rows=len(series), cols=1, shared_xaxes=True, subplot_titles=series\n",
        "        )\n",
        "        x = ts_index\n",
        "        row = 1\n",
        "        if observed is not None:\n",
        "            fig.append_trace(\n",
        "                go.Scatter(x=x, y=observed, name=\"Original\"), row=row, col=1\n",
        "            )\n",
        "            row += 1\n",
        "        if trend is not None:\n",
        "            fig.append_trace(\n",
        "                go.Scatter(x=x, y=trend, name=\"Trend\"), row=row, col=1\n",
        "            )\n",
        "            row += 1\n",
        "        if seasonal is not None:\n",
        "            fig.append_trace(\n",
        "                go.Scatter(x=x, y=seasonal, name=\"Seasonal\"),\n",
        "                row=row,\n",
        "                col=1,\n",
        "            )\n",
        "            row += 1\n",
        "        if resid is not None:\n",
        "            fig.append_trace(\n",
        "                go.Scatter(x=x, y=resid, name=\"Residual\"), row=row, col=1\n",
        "            )\n",
        "            row += 1\n",
        "\n",
        "        fig.update_layout(\n",
        "            title_text=\"Seasonal Decomposition\",\n",
        "            autosize=False,\n",
        "            width=1200,\n",
        "            height=700,\n",
        "            title={\"x\": 0.5, \"xanchor\": \"center\", \"yanchor\": \"top\"},\n",
        "            titlefont={\"size\": 20},\n",
        "            legend_title=None,\n",
        "            showlegend=False,\n",
        "            legend=dict(\n",
        "                font=dict(size=15),\n",
        "                orientation=\"h\",\n",
        "                yanchor=\"bottom\",\n",
        "                y=0.98,\n",
        "                xanchor=\"right\",\n",
        "                x=1,\n",
        "            ),\n",
        "            yaxis=dict(\n",
        "                # title_text=ylabel,\n",
        "                titlefont=dict(size=15),\n",
        "                tickfont=dict(size=15),\n",
        "            ),\n",
        "            xaxis=dict(\n",
        "                # title_text=xlabel,\n",
        "                titlefont=dict(size=15),\n",
        "                tickfont=dict(size=15),\n",
        "            )\n",
        "        )\n",
        "        return fig"
      ],
      "metadata": {
        "id": "omz680yZnVqi"
      },
      "execution_count": null,
      "outputs": []
    },
    {
      "cell_type": "markdown",
      "source": [
        "## Moving Averages\n",
        "\n",
        "**seasonal_decompose from statsmodel**\n",
        "\n",
        "statsmodels.tsa.seasonal has a function called seasonal_decompose. This is an\n",
        "implementation that uses moving averages for the trend component and period-adjusted averages\n",
        "for the seasonal component. It supports both additive and multiplicative modes of decomposition.\n",
        "However, it doesn’t tolerate missing values. Let’s see how we can use it"
      ],
      "metadata": {
        "id": "AwobEySMnhFR"
      }
    },
    {
      "cell_type": "code",
      "source": [
        "ts = ts_df[sec].values.squeeze()\n",
        "ts\n",
        "365/2"
      ],
      "metadata": {
        "id": "yWWDs8u5BdNV"
      },
      "execution_count": null,
      "outputs": []
    },
    {
      "cell_type": "code",
      "source": [
        "#Does not support misssing values, so using imputed ts instead\n",
        "res = seasonal_decompose(ts, period=365, model=\"additive\", extrapolate_trend=\"freq\", filt=np.repeat(1/180, 180))"
      ],
      "metadata": {
        "id": "0mi_T5xYndOJ"
      },
      "execution_count": null,
      "outputs": []
    },
    {
      "cell_type": "markdown",
      "source": [
        "A few key parameters to keep in mind are as follows:\n",
        "* period is the seasonal period you expect the pattern to repeat.\n",
        "* model takes additive or multiplicative as arguments to determine the type\n",
        "of decomposition.\n",
        "* filt takes in an array that is used as the weights in the moving average (convolution, to be\n",
        "specific). It can also be used to define the window over which we need our moving average.\n",
        "We can increase it to smooth out the trend component to some extent.\n",
        "* extrapolate_trend is a parameter that we can use to extend the trend component to both\n",
        "sides to avoid the missing values that are generated when applying the moving average filter.\n",
        "* two_sided is a parameter that lets us define how the moving averages are calculated. If True,\n",
        "which it is by default, the moving average is calculated using the past as well as future values\n",
        "because the window for the moving average is centered. If False, it only uses past values to\n",
        "calculate the moving average.\n",
        "\n",
        "Let’s see how well we have been able to decompose one of the time series in our datasets. We used\n",
        "period=7*48 to capture a weekday-hourly profile and filt=np.repeat(1/(30*48),\n",
        "30*48) to make the moving average over 30 days with uniform weights:"
      ],
      "metadata": {
        "id": "Y6gJJEJFoW6I"
      }
    },
    {
      "cell_type": "code",
      "source": [
        "fig = decomposition_plot(ts_df.index, res.observed, res.seasonal, res.trend, res.resid)\n",
        "#fig.write_image(\"imgs/chapter_3/moving_avg_decomposition.png\")\n",
        "fig.show()"
      ],
      "metadata": {
        "id": "DMDje4WTnkwa"
      },
      "execution_count": null,
      "outputs": []
    },
    {
      "cell_type": "markdown",
      "source": [
        "## Seasonality and Trend Decomposition using LOESS (STL)\n",
        "\n",
        "As we saw earlier, LOESS is much more suited for trend estimation. Seasonality and trend decomposition using LOESS (STL) is an implementation that uses LOESS for trend estimation and period averages for seasonality. Although statsmodels has an implementation, we have reimplemented it for better performance and flexibility. This implementation can be found in this book’s GitHub repository under src.decomposition.seasonal.py. It expects a pandas DataFrame or series with a datetime index as an input. Let’s see how we can use this:"
      ],
      "metadata": {
        "id": "3HwDiOMLozwR"
      }
    },
    {
      "cell_type": "code",
      "source": [
        "#Supports missing values and expects a series or dataframe with datetime index\n",
        "stl = STL(seasonality_period=365, model = \"multiplicative\")\n",
        "res_new = stl.fit(ts_df[sec])"
      ],
      "metadata": {
        "id": "vThWSfQ7npf3"
      },
      "execution_count": null,
      "outputs": []
    },
    {
      "cell_type": "markdown",
      "source": [
        "The key parameters here are as follows:\n",
        "* **seasonality_period** is the seasonal period you expect the pattern to repeat.\n",
        "* **model** takes additive or multiplicative as arguments to determine the type\n",
        "of decomposition.\n",
        "* **lo_frac** is the fraction of the data that will be used to fit the LOESS regression.\n",
        "* **lo_delta** is the fractional distance within which we use a linear interpolation instead of\n",
        "weighted regression. Using a non-zero lo_delta significantly decreases computation time.\n",
        "\n",
        "Let’s see what this decomposition looks like. Here, we used seasonality_period=7*48 to\n",
        "capture a weekday-hourly profile:"
      ],
      "metadata": {
        "id": "a3__7yZzpIGq"
      }
    },
    {
      "cell_type": "code",
      "source": [
        "fig = res_new.plot(interactive=True)\n",
        "fig.update_layout(\n",
        "            legend=dict(\n",
        "                font=dict(size=15),\n",
        "                orientation=\"h\",\n",
        "                yanchor=\"bottom\",\n",
        "                y=0.98,\n",
        "                xanchor=\"right\",\n",
        "                x=1,\n",
        "            ),\n",
        "            yaxis=dict(\n",
        "                # title_text=ylabel,\n",
        "                titlefont=dict(size=15),\n",
        "                tickfont=dict(size=15),\n",
        "            ),\n",
        "            xaxis=dict(\n",
        "                # title_text=xlabel,\n",
        "                titlefont=dict(size=15),\n",
        "                tickfont=dict(size=15),\n",
        "            )\n",
        "        )\n",
        "#fig.write_image(\"imgs/chapter_3/stl_decomposition.png\")\n",
        "fig.show()"
      ],
      "metadata": {
        "id": "X_QGNlVEnnQs"
      },
      "execution_count": null,
      "outputs": []
    },
    {
      "cell_type": "markdown",
      "source": [
        "The trend is smooth enough now and seasonality has also been captured. Here, we can clearly see the\n",
        "hourly peaks and valleys and the higher peaks on weekends. But since we are relying on averages to\n",
        "derive the seasonality, it is also highly influenced by outliers. A few very high or very low values in the time series will skew your seasonality profile that’s been derived from period averages. Another disadvantage of this technique is that the “goodness” of the seasonality that’s been extracted suffers when the difference between the resolution of the data and the expected seasonality cycle is greater. For instance, when extracting a yearly seasonality on daily or sub-daily data, this would make the extracted seasonality very noisy. This technique will also not work if you have less than two cycles of the expected seasonality – for instance, if we want to extract a yearly seasonality, but we have less than 2 years of data."
      ],
      "metadata": {
        "id": "hp6Mt_s9yWsv"
      }
    },
    {
      "cell_type": "markdown",
      "source": [
        "## Seasonality and Trend Decomposition using Loess and Fourier Terms (Fourier Decomposition)"
      ],
      "metadata": {
        "id": "bgEFpGEMpyR_"
      }
    },
    {
      "cell_type": "markdown",
      "source": [
        "We can find the Python implementation for decomposing a time series using Fourier terms in src.\n",
        "decomposition.seasonal.py. It uses LOESS for trend detection and Fourier terms for seasonality\n",
        "extraction. There are two ways we can use it. First, we can specify seasonality_period as one\n",
        "of the pandas datetime properties (such as hour, week_of_day, and so on):"
      ],
      "metadata": {
        "id": "eXdUQ5k5ydRS"
      }
    },
    {
      "cell_type": "code",
      "source": [
        "#Doesn't support missing values, and expects a series or datafeame with datetime index\n",
        "stl = FourierDecomposition(seasonality_period=\"day\", model = \"additive\", n_fourier_terms=5)\n",
        "res_new = stl.fit(pd.Series(ts.squeeze(), index=ts_df.index))"
      ],
      "metadata": {
        "id": "QP_BHdYJnpf1"
      },
      "execution_count": null,
      "outputs": []
    },
    {
      "cell_type": "code",
      "source": [
        "fig = res_new.plot(interactive=True)\n",
        "fig.update_layout(\n",
        "            legend=dict(\n",
        "                font=dict(size=15),\n",
        "                orientation=\"h\",\n",
        "                yanchor=\"bottom\",\n",
        "                y=0.98,\n",
        "                xanchor=\"right\",\n",
        "                x=1,\n",
        "            ),\n",
        "            yaxis=dict(\n",
        "                # title_text=ylabel,\n",
        "                titlefont=dict(size=15),\n",
        "                tickfont=dict(size=15),\n",
        "            ),\n",
        "            xaxis=dict(\n",
        "                # title_text=xlabel,\n",
        "                titlefont=dict(size=15),\n",
        "                tickfont=dict(size=15),\n",
        "            )\n",
        "        )\n",
        "#fig.write_image(\"imgs/chapter_3/fourier_decomposition_hourly.png\")\n",
        "fig.show()"
      ],
      "metadata": {
        "id": "j--xsSxbAyFq"
      },
      "execution_count": null,
      "outputs": []
    },
    {
      "cell_type": "markdown",
      "source": [
        " - **Custom Seasonality**"
      ],
      "metadata": {
        "id": "2K7RPnHyqkwJ"
      }
    },
    {
      "cell_type": "markdown",
      "source": [
        "Alternatively, we can create any custom seasonality array that’s the same length as the time series that has an ordinal representation of the seasonality. If it is an annual seasonality of daily data, the array would have a minimum value of 1 and a maximum value of 365 as it increases by one every day of the year:"
      ],
      "metadata": {
        "id": "tBOTDN8GIjAi"
      }
    },
    {
      "cell_type": "code",
      "source": [
        "#Making a custom seasonality term\n",
        "ts_df[\"dayofweek\"] = ts_df.index.dayofweek\n",
        "ts_df[\"month\"] = ts_df.index.month\n",
        "#Creating a sorted unique combination df\n",
        "map_df = ts_df[[\"dayofweek\",\"month\"]].drop_duplicates().sort_values([\"dayofweek\", \"month\"])\n",
        "# Assigning an ordinal variable to capture the order\n",
        "map_df[\"map\"] = np.arange(1, len(map_df)+1)\n",
        "# mapping the oprdinal mapping back to the original df and getting the seasonality array\n",
        "seasonality = ts_df.merge(map_df, on=[\"dayofweek\",\"month\"], how='left', validate=\"many_to_one\")['map']"
      ],
      "metadata": {
        "id": "8QrNG5QWqh6f"
      },
      "execution_count": null,
      "outputs": []
    },
    {
      "cell_type": "code",
      "source": [
        "map_df\n",
        "seasonality"
      ],
      "metadata": {
        "id": "Q-dBXygaqw30"
      },
      "execution_count": null,
      "outputs": []
    },
    {
      "cell_type": "code",
      "source": [
        "stl = FourierDecomposition(model = \"additive\", n_fourier_terms=50)\n",
        "res_new = stl.fit(pd.Series(ts, index=ts_df.index), seasonality=seasonality)"
      ],
      "metadata": {
        "id": "o2fviMDEqojT"
      },
      "execution_count": null,
      "outputs": []
    },
    {
      "cell_type": "code",
      "source": [
        "fig = res_new.plot(interactive=True)\n",
        "fig.update_layout(\n",
        "            legend=dict(\n",
        "                font=dict(size=15),\n",
        "                orientation=\"h\",\n",
        "                yanchor=\"bottom\",\n",
        "                y=0.98,\n",
        "                xanchor=\"right\",\n",
        "                x=1,\n",
        "            ),\n",
        "            yaxis=dict(\n",
        "                # title_text=ylabel,\n",
        "                titlefont=dict(size=15),\n",
        "                tickfont=dict(size=15),\n",
        "            ),\n",
        "            xaxis=dict(\n",
        "                # title_text=xlabel,\n",
        "                titlefont=dict(size=15),\n",
        "                tickfont=dict(size=15),\n",
        "            )\n",
        "        )\n",
        "#fig.write_image(\"imgs/chapter_3/fourier_decomposition.png\")\n",
        "fig.show()"
      ],
      "metadata": {
        "id": "BEkOXODSqwfV"
      },
      "execution_count": null,
      "outputs": []
    },
    {
      "cell_type": "markdown",
      "source": [
        "The trend is going to be the same as the STL one because we are using LOESS here as well. The\n",
        "seasonality profile may be slightly different and robust to outliers because we are doing regularized regression using the Fourier terms on the signal. Another advantage is that we have decoupled the resolution of the data and the expected seasonality. Now, extracting a yearly seasonality on sub-daily data is not as challenging as with period averages.\n",
        "So far, we have only seen techniques that extract one seasonality per series; mostly, we extract the major seasonality. So, what do we do when we have multiple seasonal patterns?"
      ],
      "metadata": {
        "id": "eBIhb5W6rOyD"
      }
    },
    {
      "cell_type": "markdown",
      "source": [
        "## Multiple seasonality decomposition using LOESS (MSTL)\n",
        "Time series with high-frequency data (such as daily, hourly, or minutely data) are prone to exhibit\n",
        "multiple seasonal patterns. For instance, there may be an hourly seasonality pattern, a weekly seasonality pattern, and a yearly seasonality pattern. But if we extract only the dominant pattern and leave the rest to residuals, we are not doing justice to the decomposition. Kasun Bandara et al. proposed an extension of STL decomposition for ***multiple seasonality, known as multiple seasonal-trend decomposition using LOESS (MSTL)***, and a corresponding implementation is present in the R ecosystem. A very similar implementation in Python can be found in src.decomposition.seasonal.py. In addition to MSTL, the implementation extracts multiple seasonality using Fourier terms."
      ],
      "metadata": {
        "id": "fC9r8xtrus02"
      }
    },
    {
      "cell_type": "code",
      "source": [
        "48*365, 48*7, 48"
      ],
      "metadata": {
        "id": "cZhdYAx0vKW8"
      },
      "execution_count": null,
      "outputs": []
    },
    {
      "cell_type": "code",
      "source": [
        "stl = MultiSeasonalDecomposition(seasonal_model=\"averages\",seasonality_periods=[365, 31], model = \"additive\")\n",
        "res_new = stl.fit(pd.Series(ts, index=ts_df.index))"
      ],
      "metadata": {
        "id": "GC-DLaqsrFB2"
      },
      "execution_count": null,
      "outputs": []
    },
    {
      "cell_type": "code",
      "source": [
        "fig = res_new.plot(interactive=True)\n",
        "fig.update_layout(\n",
        "            legend=dict(\n",
        "                font=dict(size=15),\n",
        "                orientation=\"h\",\n",
        "                yanchor=\"bottom\",\n",
        "                y=0.98,\n",
        "                xanchor=\"right\",\n",
        "                x=1,\n",
        "            ),\n",
        "            yaxis=dict(\n",
        "                # title_text=ylabel,\n",
        "                titlefont=dict(size=15),\n",
        "                tickfont=dict(size=15),\n",
        "            ),\n",
        "            xaxis=dict(\n",
        "                # title_text=xlabel,\n",
        "                titlefont=dict(size=15),\n",
        "                tickfont=dict(size=15),\n",
        "            )\n",
        "        )\n",
        "#fig.write_image(\"imgs/chapter_3/mstl_decomposition_averages.png\")\n",
        "fig.show()"
      ],
      "metadata": {
        "id": "0hk5rVjGvWtd"
      },
      "execution_count": null,
      "outputs": []
    },
    {
      "cell_type": "markdown",
      "source": [
        "Here, we can see that the day_of_week seasonality has been extracted. To see the day_of_week\n",
        "and hour seasonal components, we need to zoom in a bit"
      ],
      "metadata": {
        "id": "97QGWJKHwFw4"
      }
    },
    {
      "cell_type": "code",
      "source": [
        "fig.update_xaxes(type=\"date\", range=[\"2020-01-01\", \"2021-01-01\"])\n",
        "#fig.write_image(\"imgs/chapter_3/mstl_decomposition_averages_zoomed.png\")\n",
        "fig.show()"
      ],
      "metadata": {
        "id": "ckE4oBY_vY3x"
      },
      "execution_count": null,
      "outputs": []
    },
    {
      "cell_type": "markdown",
      "source": [
        "## Using Fourier Decomposition as seasonal model"
      ],
      "metadata": {
        "id": "SRCOMcVIwnZ3"
      }
    },
    {
      "cell_type": "markdown",
      "source": [
        "The key parameters here are as follows:\n",
        "* **seasonality_periods** is the list of expected seasonalities. For STL, it is a list of seasonal\n",
        "periods, while for FourierDecomposition, it is a list of strings that denotes pandas\n",
        "datetime properties.\n",
        "* **seasonality_model** takes fourier or averages as arguments to determine the type\n",
        "of seasonality decomposition.\n",
        "* **model** takes additive or multiplicative as arguments to determine the type\n",
        "of decomposition.\n",
        "* **n_fourier_terms** determines the number of Fourier terms to be used to extract the\n",
        "seasonality. As we increase this parameter, the more complex the seasonality that is extracted\n",
        "from the data.\n",
        "70 Analyzing and Visualizing Time Series Data\n",
        "* **lo_frac** is the fraction of the data that will be used to fit the LOESS regression.\n",
        "* **lo_delta** is the fractional distance within which we use linear interpolation instead of\n",
        "weighted regression. Using a non-zero lo_delta significantly decreases computation time.\n",
        "\n",
        "Let’s see what the decomposition looks like when using Fourier decomposition"
      ],
      "metadata": {
        "id": "vJiS55S9vs19"
      }
    },
    {
      "cell_type": "code",
      "source": [
        "stl = MultiSeasonalDecomposition(seasonal_model=\"fourier\",seasonality_periods=[\"day_of_year\", \"quarter\", \"month\",], model = \"additive\", n_fourier_terms=10)\n",
        "res_new = stl.fit(pd.Series(ts, index=ts_df.index))"
      ],
      "metadata": {
        "id": "eqr6I5QmwNJi"
      },
      "execution_count": null,
      "outputs": []
    },
    {
      "cell_type": "code",
      "source": [
        "fig = res_new.plot(interactive=True)\n",
        "fig.update_layout(\n",
        "            legend=dict(\n",
        "                font=dict(size=15),\n",
        "                orientation=\"h\",\n",
        "                yanchor=\"bottom\",\n",
        "                y=0.98,\n",
        "                xanchor=\"right\",\n",
        "                x=1,\n",
        "            ),\n",
        "            yaxis=dict(\n",
        "                # title_text=ylabel,\n",
        "                titlefont=dict(size=15),\n",
        "                tickfont=dict(size=15),\n",
        "            ),\n",
        "            xaxis=dict(\n",
        "                # title_text=xlabel,\n",
        "                titlefont=dict(size=15),\n",
        "                tickfont=dict(size=15),\n",
        "            )\n",
        "        )\n",
        "#fig.write_image(\"imgs/chapter_3/mstl_decomposition_fourier.png\")\n",
        "fig.show()"
      ],
      "metadata": {
        "id": "8UfrAtGfxltd"
      },
      "execution_count": null,
      "outputs": []
    },
    {
      "cell_type": "code",
      "source": [
        "fig.update_xaxes(type=\"date\", range=[\"2022-11-4\", \"2023-12-4\"])\n",
        "#fig.write_image(\"imgs/chapter_3/mstl_decomposition_fourier_zoomed.png\")\n",
        "fig.show()"
      ],
      "metadata": {
        "id": "bgJA-SmixpnF"
      },
      "execution_count": null,
      "outputs": []
    },
    {
      "cell_type": "markdown",
      "source": [
        "Here, we can observe that the hour seasonality has been extracted well and that it has also isolated the day_of_week seasonal component, which peaks on weekends. The discrete step nature of the day_of_week seasonal component is because the frequency of the data is half-hourly, and for 48\n",
        "data points, day_of_week will be the same.\n",
        "We have summarized the four techniques we’ve covered in the following table:\n",
        "\n",
        "\n",
        "![approach.png](data:image/png;base64,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)"
      ],
      "metadata": {
        "id": "jkpCMO1Gx3la"
      }
    },
    {
      "cell_type": "markdown",
      "source": [
        "## Multiple seasonality decomposition using LOESS\n",
        "\n",
        "Time series with high-frequency data (such as daily, hourly, or minutely data) are prone to exhibit\n",
        "multiple seasonal patterns. For instance, there may be an hourly seasonality pattern, a weekly seasonality pattern, and a yearly seasonality pattern. But if we extract only the dominant pattern and leave the rest to residuals, we are not doing justice to the decomposition. Kasun Bandara et al. proposed an extension of STL decomposition for multiple seasonality, known as **multiple seasonal-trend decomposition using LOESS (MSTL)**, and a corresponding implementation is present in the R ecosystem. A very similar implementation in Python can be found in src.decomposition.seasonal.py. In addition to MSTL, the implementation extracts multiple seasonality using Fourier terms."
      ],
      "metadata": {
        "id": "_F8tGPzqvkOb"
      }
    },
    {
      "cell_type": "markdown",
      "source": [
        "### MSTL decomposition in STATSMODELS\n",
        "We will break out time series up in to daily and weekly seasonal components."
      ],
      "metadata": {
        "id": "a7075Op1zC7j"
      }
    },
    {
      "cell_type": "code",
      "source": [
        "exp_block_df = ts_df[[sec]]\n",
        "exp_block_df.head()"
      ],
      "metadata": {
        "id": "J8xMMLJsxxKr"
      },
      "execution_count": null,
      "outputs": []
    },
    {
      "cell_type": "code",
      "source": [
        "ts_df_mstl = exp_block_df.copy() #exp_block_df[exp_block_df.LCLid==\"MAC000050\"][['timestamp','energy_consumption']].set_index('timestamp')\n",
        "ts_df_mstl.head()\n",
        "ts_df_mstl['6472 JT Equity']"
      ],
      "metadata": {
        "id": "qw8wYG1QzGUJ"
      },
      "execution_count": null,
      "outputs": []
    },
    {
      "cell_type": "code",
      "source": [
        "stl_kwargs = {\"seasonal_deg\": 0, }\n",
        "mstl = MSTL(ts_df_mstl[sec],\n",
        "            periods=[30, 365],\n",
        "            #windows=[101, 101],  # Setting this large along with `seasonal_deg=0` will force the seasonality to be periodic.\n",
        "            #stl_kwargs = stl_kwargs,\n",
        "            )\n",
        "res = mstl.fit()"
      ],
      "metadata": {
        "id": "xHQuV1LJwCIV"
      },
      "execution_count": null,
      "outputs": []
    },
    {
      "cell_type": "code",
      "source": [
        "res.trend.head()"
      ],
      "metadata": {
        "id": "gTQQv5T7wG60"
      },
      "execution_count": null,
      "outputs": []
    },
    {
      "cell_type": "code",
      "source": [
        "res.seasonal.head()"
      ],
      "metadata": {
        "id": "g9HhjrnmwN6l"
      },
      "execution_count": null,
      "outputs": []
    },
    {
      "cell_type": "code",
      "source": [
        "res.resid.head()"
      ],
      "metadata": {
        "id": "UK6BpTJswQTd"
      },
      "execution_count": null,
      "outputs": []
    },
    {
      "cell_type": "code",
      "source": [
        "sns.set_style(\"darkgrid\")\n",
        "plt.rc(\"figure\", figsize=(16, 12))\n",
        "plt.rc(\"font\", size=13)\n",
        "\n",
        "# Creating a plot\n",
        "fig = res.plot()\n",
        "\n",
        "#for ax in fig.axes:\n",
        "#    ax.set_xlim(pd.Timestamp('2012-01-01'), pd.Timestamp('2012-02-01'))\n",
        "\n",
        "plt.tight_layout()  # Adjust layout to make sure everything fits without overlapping\n",
        "plt.show()"
      ],
      "metadata": {
        "id": "CENKd5MVwRN1"
      },
      "execution_count": null,
      "outputs": []
    },
    {
      "cell_type": "code",
      "source": [],
      "metadata": {
        "id": "IUSoboeNq_F5"
      },
      "execution_count": null,
      "outputs": []
    },
    {
      "cell_type": "code",
      "source": [],
      "metadata": {
        "id": "VRzKZVSgHieS"
      },
      "execution_count": null,
      "outputs": []
    }
  ]
}