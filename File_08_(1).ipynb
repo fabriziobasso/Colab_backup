{
  "metadata": {
    "kernelspec": {
      "display_name": "Python 3",
      "name": "python3"
    },
    "language_info": {
      "name": "python",
      "version": "3.10.12",
      "mimetype": "text/x-python",
      "codemirror_mode": {
        "name": "ipython",
        "version": 3
      },
      "pygments_lexer": "ipython3",
      "nbconvert_exporter": "python",
      "file_extension": ".py"
    },
    "kaggle": {
      "accelerator": "nvidiaTeslaT4",
      "dataSources": [
        {
          "sourceId": 90274,
          "databundleVersionId": 10951356,
          "sourceType": "competition"
        }
      ],
      "dockerImageVersionId": 30840,
      "isInternetEnabled": true,
      "language": "python",
      "sourceType": "notebook",
      "isGpuEnabled": true
    },
    "papermill": {
      "default_parameters": {},
      "duration": 1860.937789,
      "end_time": "2024-10-26T20:02:26.852331",
      "environment_variables": {},
      "exception": null,
      "input_path": "__notebook__.ipynb",
      "output_path": "__notebook__.ipynb",
      "parameters": {},
      "start_time": "2024-10-26T19:31:25.914542",
      "version": "2.6.0"
    },
    "colab": {
      "provenance": [],
      "machine_shape": "hm",
      "toc_visible": true,
      "include_colab_link": true
    }
  },
  "nbformat_minor": 0,
  "nbformat": 4,
  "cells": [
    {
      "cell_type": "markdown",
      "metadata": {
        "id": "view-in-github",
        "colab_type": "text"
      },
      "source": [
        "<a href=\"https://colab.research.google.com/github/fabriziobasso/Colab_backup/blob/main/File_08_(1).ipynb\" target=\"_parent\"><img src=\"https://colab.research.google.com/assets/colab-badge.svg\" alt=\"Open In Colab\"/></a>"
      ]
    },
    {
      "cell_type": "markdown",
      "source": [
        "# 1. Time Series Forecasting for Retail Sales with MLP, ARIMA, KAN, and Chronos"
      ],
      "metadata": {
        "papermill": {
          "duration": 0.008519,
          "end_time": "2024-10-26T19:31:29.283114",
          "exception": false,
          "start_time": "2024-10-26T19:31:29.274595",
          "status": "completed"
        },
        "tags": [],
        "id": "eFQAje2z1KTY"
      }
    },
    {
      "cell_type": "markdown",
      "source": [
        "references:\n",
        "\n",
        "[github](https://github.com/ageron/handson-ml3/blob/main/15_processing_sequences_using_rnns_and_cnns.ipynb)\n",
        "\n",
        "\n",
        "[article](https://medium.com/@kylejones_47003/time-series-forecasting-for-retail-sales-with-mlp-arima-kan-and-chronos-258abbbf4779)\n",
        "\n",
        "[New Feature Colab](https://developers.googleblog.com/en/data-science-agent-in-colab-with-gemini/)"
      ],
      "metadata": {
        "id": "MOsObxB6SXtH"
      }
    },
    {
      "cell_type": "code",
      "source": [
        "# Necessry to run LGBMRegressor\n",
        "!mkdir -p /etc/OpenCL/vendors && echo \"libnvidia-opencl.so.1\" > /etc/OpenCL/vendors/nvidia.icd"
      ],
      "metadata": {
        "id": "v0r46Q3q2iUS"
      },
      "execution_count": null,
      "outputs": []
    },
    {
      "cell_type": "code",
      "source": [
        "%%capture\n",
        "#!pip install -qq pytorch_tabnet\n",
        "!pip install optuna\n",
        "!pip install catboost\n",
        "#!pip install optuna-integration-pytorch-tabnet\n",
        "\n",
        "!pip install tensorflow --upgrade\n",
        "!pip install keras --upgrade\n",
        "\n",
        "!pip install --upgrade category-encoders\n",
        "!pip install optuna-integration\n",
        "!pip install colorama\n",
        "#!pip install pyfiglet\n",
        "!pip install keras-tuner --upgrade\n",
        "!pip install keras-nlp\n",
        "!pip install BorutaShap\n",
        "!pip install --upgrade scikit-learn\n",
        "!pip install scikit-lego\n",
        "!pip install skops\n",
        "!pip install pykan\n",
        "!pip install chronos-forecasting\n",
        "\n",
        "#from pytorch_tabnet.tab_model import TabNetRegressor"
      ],
      "metadata": {
        "id": "VdgjH0IaaV61"
      },
      "execution_count": null,
      "outputs": []
    },
    {
      "cell_type": "code",
      "source": [
        "import pandas as pd\n",
        "import numpy as np\n",
        "\n",
        "from termcolor import colored\n",
        "from sklearn.model_selection import StratifiedKFold\n",
        "from sklearn.metrics import roc_auc_score\n",
        "import os\n",
        "from joblib import dump, load\n",
        "import pandas as pd\n",
        "import numpy as np\n",
        "from scipy.stats import iqr, skew, kurtosis, mode\n",
        "import matplotlib.pyplot as plt\n",
        "import joblib\n",
        "%matplotlib inline\n",
        "import seaborn as sns\n",
        "sns.set_style(\"dark\", {\"grid.color\": \".1\", \"grid.linestyle\": \":\", \"axes.facecolor\": \".9\"})\n",
        "\n",
        "from warnings import filterwarnings\n",
        "from termcolor import colored\n",
        "from warnings import filterwarnings; filterwarnings(action = 'ignore');\n",
        "from tqdm.notebook import tqdm\n",
        "\n",
        "from sklearn.base import BaseEstimator, ClassifierMixin, TransformerMixin, clone\n",
        "from sklearn.metrics import accuracy_score, roc_auc_score, f1_score, precision_score, recall_score, log_loss, \\\n",
        "                            mean_squared_error, mean_absolute_error, r2_score, mean_absolute_percentage_error, \\\n",
        "                            make_scorer,root_mean_squared_error\n",
        "\n",
        "from sklearn.compose import ColumnTransformer\n",
        "from sklearn.pipeline import Pipeline, make_pipeline\n",
        "from sklearn.preprocessing import StandardScaler, RobustScaler, MinMaxScaler, PowerTransformer, FunctionTransformer, \\\n",
        "                                  OrdinalEncoder, OneHotEncoder\n",
        "\n",
        "from sklearn.cluster import KMeans\n",
        "from sklearn.base import clone\n",
        "\n",
        "from category_encoders import TargetEncoder, CatBoostEncoder, LeaveOneOutEncoder, OrdinalEncoder, CountEncoder\n",
        "from sklearn.impute import SimpleImputer\n",
        "\n",
        "from sklearn.model_selection import StratifiedKFold, KFold, GroupKFold, RepeatedStratifiedKFold, \\\n",
        "                                    cross_val_score, RepeatedKFold\n",
        "from sklearn.decomposition import PCA, TruncatedSVD\n",
        "from sklearn.cluster import k_means\n",
        "from sklearn.feature_selection import RFECV, SequentialFeatureSelector, mutual_info_classif, mutual_info_regression\n",
        "from sklearn.feature_extraction.text import TfidfVectorizer\n",
        "\n",
        "from sklearn.neighbors import KNeighborsRegressor, KNeighborsClassifier\n",
        "from sklearn.linear_model import LinearRegression, LogisticRegression, Ridge, Lasso, ElasticNet\n",
        "from sklearn.ensemble import VotingClassifier, StackingClassifier, VotingRegressor, StackingRegressor, \\\n",
        "                             RandomForestClassifier, RandomForestRegressor, ExtraTreesClassifier, ExtraTreesRegressor, \\\n",
        "                             HistGradientBoostingClassifier, HistGradientBoostingRegressor \\\n",
        "\n",
        "from lightgbm import LGBMClassifier, LGBMRegressor, early_stopping, log_evaluation\n",
        "import lightgbm as lgb\n",
        "\n",
        "from xgboost import XGBClassifier, XGBRegressor, DMatrix\n",
        "from catboost import CatBoostClassifier, CatBoostRegressor, Pool\n",
        "import optuna\n",
        "from optuna.samplers import TPESampler\n",
        "\n",
        "import matplotlib as mpl\n",
        "\n",
        "\n",
        "import tensorflow as tf\n",
        "import keras\n",
        "from keras import ops\n",
        "from keras import layers\n",
        "\n",
        "from keras.layers import Input, LSTM, Dense, Lambda, RepeatVector, Reshape, GRU\n",
        "from keras.models import Model\n",
        "from keras.losses import MeanSquaredError\n",
        "from keras.metrics import RootMeanSquaredError\n",
        "\n",
        "from keras.utils import FeatureSpace, plot_model\n",
        "\n",
        "# Import libraries for Hypertuning\n",
        "import keras_tuner as kt\n",
        "from keras_tuner.tuners import RandomSearch, GridSearch, BayesianOptimization"
      ],
      "metadata": {
        "_cell_guid": "b1076dfc-b9ad-4769-8c92-a6c4dae69d19",
        "_kg_hide-input": true,
        "_uuid": "8f2839f25d086af736a60e9eeb907d3b93b6e0e5",
        "execution": {
          "iopub.status.busy": "2025-02-03T01:57:33.914813Z",
          "iopub.execute_input": "2025-02-03T01:57:33.915083Z",
          "iopub.status.idle": "2025-02-03T01:57:42.908563Z",
          "shell.execute_reply.started": "2025-02-03T01:57:33.915055Z",
          "shell.execute_reply": "2025-02-03T01:57:42.907652Z"
        },
        "papermill": {
          "duration": 6.371992,
          "end_time": "2024-10-26T19:31:35.662482",
          "exception": false,
          "start_time": "2024-10-26T19:31:29.29049",
          "status": "completed"
        },
        "tags": [],
        "trusted": true,
        "id": "NoIuwT_21KTa"
      },
      "outputs": [],
      "execution_count": null
    },
    {
      "cell_type": "code",
      "source": [
        "sns.set({\"axes.facecolor\"       : \"#ffffff\",\n",
        "         \"figure.facecolor\"     : \"#ffffff\",\n",
        "         \"axes.edgecolor\"       : \"#000000\",\n",
        "         \"grid.color\"           : \"#ffffff\",\n",
        "         \"font.family\"          : ['Cambria'],\n",
        "         \"axes.labelcolor\"      : \"#000000\",\n",
        "         \"xtick.color\"          : \"#000000\",\n",
        "         \"ytick.color\"          : \"#000000\",\n",
        "         \"grid.linewidth\"       : 0.5,\n",
        "         'grid.alpha'           :0.5,\n",
        "         \"grid.linestyle\"       : \"--\",\n",
        "         \"axes.titlecolor\"      : 'black',\n",
        "         'axes.titlesize'       : 12,\n",
        "#         'axes.labelweight'     : \"bold\",\n",
        "         'legend.fontsize'      : 7.0,\n",
        "         'legend.title_fontsize': 7.0,\n",
        "         'font.size'            : 7.5,\n",
        "         'xtick.labelsize'      : 7.5,\n",
        "         'ytick.labelsize'      : 7.5,\n",
        "        });\n",
        "\n",
        "sns.set_style(\"whitegrid\",{\"grid.linestyle\":\"--\", 'grid.linewidth':0.2, 'grid.alpha':0.5})\n",
        "# Set Style\n",
        "mpl.rcParams['figure.dpi'] = 120;\n",
        "\n",
        "# import font colors\n",
        "from colorama import Fore, Style, init\n",
        "\n",
        "# Making sklearn pipeline outputs as dataframe:-\n",
        "pd.set_option('display.max_columns', 100);\n",
        "pd.set_option('display.max_rows', 50);\n",
        "\n",
        "sns.despine(left=True, bottom=True, top=False, right=False)\n",
        "\n",
        "mpl.rcParams['axes.spines.left'] = True\n",
        "mpl.rcParams['axes.spines.right'] = False\n",
        "mpl.rcParams['axes.spines.top'] = False\n",
        "mpl.rcParams['axes.spines.bottom'] = True\n",
        "\n",
        "init(autoreset=True)"
      ],
      "metadata": {
        "id": "L_QF4gmj5M61",
        "colab": {
          "base_uri": "https://localhost:8080/",
          "height": 35
        },
        "outputId": "0c529f19-dee4-4eac-c1c7-d4d8d4d8cfa3"
      },
      "execution_count": null,
      "outputs": [
        {
          "output_type": "display_data",
          "data": {
            "text/plain": [
              "<Figure size 768x576 with 0 Axes>"
            ]
          },
          "metadata": {}
        }
      ]
    },
    {
      "cell_type": "markdown",
      "source": [
        "**SPECIFIC LIBRARIES USED IN THE NOTEBOOK**"
      ],
      "metadata": {
        "id": "xxT96EmEIN-1"
      }
    },
    {
      "cell_type": "code",
      "source": [
        "import torch\n",
        "import torch.nn as nn\n",
        "import datetime\n",
        "import random\n",
        "import matplotlib.pyplot as plt\n",
        "from matplotlib.dates import DateFormatter\n",
        "from statsmodels.tsa.arima.model import ARIMA\n",
        "from statsmodels.tsa.statespace.sarimax import SARIMAX\n",
        "from pandas_datareader import data as web\n",
        "from sklearn.metrics import mean_squared_error, mean_absolute_error\n",
        "from kan import KAN\n",
        "from chronos import ChronosPipeline\n",
        "import time"
      ],
      "metadata": {
        "id": "xoNEZx9ZIL22"
      },
      "execution_count": null,
      "outputs": []
    },
    {
      "cell_type": "code",
      "source": [
        "# Connect to Colab:#\n",
        "from google.colab import drive\n",
        "import os\n",
        "drive.mount('/content/drive')"
      ],
      "metadata": {
        "id": "87t8frSLdEsX",
        "colab": {
          "base_uri": "https://localhost:8080/"
        },
        "outputId": "092ed8df-b679-4d76-c430-c5c5434e7522"
      },
      "execution_count": null,
      "outputs": [
        {
          "output_type": "stream",
          "name": "stdout",
          "text": [
            "Mounted at /content/drive\n"
          ]
        }
      ]
    },
    {
      "cell_type": "code",
      "source": [
        "print(\"Num GPUs Available: \", len(tf.config.list_physical_devices('GPU')))"
      ],
      "metadata": {
        "id": "pZ1cBlKwHkh6",
        "colab": {
          "base_uri": "https://localhost:8080/"
        },
        "outputId": "48d2ebf2-933e-4448-d943-7cbca0f7d1e4"
      },
      "execution_count": null,
      "outputs": [
        {
          "output_type": "stream",
          "name": "stdout",
          "text": [
            "Num GPUs Available:  0\n"
          ]
        }
      ]
    },
    {
      "cell_type": "code",
      "source": [
        "print(\"Keras backend:\", keras.backend.backend())"
      ],
      "metadata": {
        "id": "Ta7Zcr6iHo6o",
        "colab": {
          "base_uri": "https://localhost:8080/"
        },
        "outputId": "23706bdb-a318-479b-a1f5-789b24d03269"
      },
      "execution_count": null,
      "outputs": [
        {
          "output_type": "stream",
          "name": "stdout",
          "text": [
            "Keras backend: tensorflow\n"
          ]
        }
      ]
    },
    {
      "cell_type": "markdown",
      "source": [
        "Retail forecasting is high-stakes. Misses mean stockouts, markdowns, or investor panic. ARIMA is the legacy tool: fast, interpretable, consistent. Newer models like LSTMs and KANs claim to capture nonlinearity. Transformers promise everything.\n",
        "\n",
        "We tested all of them using U.S. retail sales and updated the results through April 2025. The outcomes reflect real-world constraints: fixed forecast window, same input features, same evaluation horizon.\n",
        "\n",
        "We pulled seasonally adjusted U.S. Retail and Food Services Sales from the FRED API:"
      ],
      "metadata": {
        "papermill": {
          "duration": 0.007142,
          "end_time": "2024-10-26T19:31:35.677236",
          "exception": false,
          "start_time": "2024-10-26T19:31:35.670094",
          "status": "completed"
        },
        "tags": [],
        "id": "OJLTekfn1KTb"
      }
    },
    {
      "cell_type": "code",
      "source": [
        "import pandas_datareader.data as web\n",
        "import datetime\n",
        "\n",
        "start = datetime.datetime(1990, 1, 1)\n",
        "end = datetime.datetime(2025, 5, 1)\n",
        "series = web.DataReader(\"RSAFS\", \"fred\", start, end).dropna()[\"RSAFS\"]\n",
        "series.index.freq = \"MS\""
      ],
      "metadata": {
        "_kg_hide-input": true,
        "execution": {
          "iopub.status.busy": "2025-02-03T01:57:42.909948Z",
          "iopub.execute_input": "2025-02-03T01:57:42.91046Z",
          "iopub.status.idle": "2025-02-03T01:57:45.254458Z",
          "shell.execute_reply.started": "2025-02-03T01:57:42.910435Z",
          "shell.execute_reply": "2025-02-03T01:57:45.253807Z"
        },
        "papermill": {
          "duration": 0.671233,
          "end_time": "2024-10-26T19:31:36.355611",
          "exception": false,
          "start_time": "2024-10-26T19:31:35.684378",
          "status": "completed"
        },
        "tags": [],
        "trusted": true,
        "id": "PEhAxeTp1KTb"
      },
      "outputs": [],
      "execution_count": null
    },
    {
      "cell_type": "code",
      "source": [
        "mean_val, std_val = series.mean(), series.std()\n",
        "norm_series = (series - mean_val) / std_val"
      ],
      "metadata": {
        "id": "3Y6J_K5XH1KW"
      },
      "execution_count": null,
      "outputs": []
    },
    {
      "cell_type": "markdown",
      "source": [
        "Data is in millions of U.S. dollars. We normalize it for neural networks but leave it raw for ARIMA. Our prediction window is 12 months. All models start their forecast at the same point: April 2024.\n",
        "\n",
        "We use a lag window of 24 months. That’s long enough to capture seasonal trends, short enough to avoid structural breaks."
      ],
      "metadata": {
        "id": "kBX31HvJF5kl"
      }
    },
    {
      "cell_type": "code",
      "source": [
        "series.plot()\n",
        "plt.title(\"US Retail Sales and Food Services\")\n",
        "plt.ylabel(\"Millions of Dollars\")\n",
        "plt.show()"
      ],
      "metadata": {
        "id": "He0vO488HL31",
        "colab": {
          "base_uri": "https://localhost:8080/",
          "height": 553
        },
        "outputId": "8342e504-5c23-43fc-d274-19589a4fb547"
      },
      "execution_count": null,
      "outputs": [
        {
          "output_type": "display_data",
          "data": {
            "text/plain": [
              "<Figure size 768x576 with 1 Axes>"
            ],
            "image/png": "[encoded data removed]"
          },
          "metadata": {}
        }
      ]
    },
    {
      "cell_type": "code",
      "source": [
        "# Set seed for reproducibility\n",
        "seed = 42\n",
        "random.seed(seed)\n",
        "np.random.seed(seed)\n",
        "torch.manual_seed(seed)\n",
        "keras.utils.set_random_seed(seed)\n",
        "tf.random.set_seed(seed)\n",
        "\n",
        "# Unified config\n",
        "prediction_length = 12\n",
        "window = 24"
      ],
      "metadata": {
        "id": "8fE4N3-LHL0n"
      },
      "execution_count": null,
      "outputs": []
    },
    {
      "cell_type": "code",
      "source": [
        "def make_lagged(series, window):\n",
        "    X, y = [], []\n",
        "    for i in range(len(series) - window):\n",
        "        X.append(series.iloc[i:i + window].values)\n",
        "        y.append(series.iloc[i + window])\n",
        "    return np.array(X), np.array(y)"
      ],
      "metadata": {
        "id": "aviY3jm_HLx9"
      },
      "execution_count": null,
      "outputs": []
    },
    {
      "cell_type": "code",
      "source": [
        "# Split\n",
        "split = series.index[-(window + prediction_length)]\n",
        "train_raw, test_raw = series[series.index <= split], series[series.index > split]\n",
        "train_norm, test_norm = norm_series[norm_series.index <= split], norm_series[norm_series.index > split]"
      ],
      "metadata": {
        "id": "FY0LPLMiHLux"
      },
      "execution_count": null,
      "outputs": []
    },
    {
      "cell_type": "code",
      "source": [
        "train_raw.shape, test_raw.shape"
      ],
      "metadata": {
        "id": "JF0w732F1RIH",
        "colab": {
          "base_uri": "https://localhost:8080/"
        },
        "outputId": "5dce384e-af3d-4e55-f02f-8e204c0d7693"
      },
      "execution_count": null,
      "outputs": [
        {
          "output_type": "execute_result",
          "data": {
            "text/plain": [
              "((364,), (35,))"
            ]
          },
          "metadata": {},
          "execution_count": 21
        }
      ]
    },
    {
      "cell_type": "code",
      "source": [
        "X_train, y_train = make_lagged(train_norm, window)\n",
        "X_test, y_test = make_lagged(test_norm, window)"
      ],
      "metadata": {
        "id": "s0qg0pf1HLrr"
      },
      "execution_count": null,
      "outputs": []
    },
    {
      "cell_type": "code",
      "source": [
        "y_test#.shape"
      ],
      "metadata": {
        "id": "kKH5U8uVMtKu",
        "colab": {
          "base_uri": "https://localhost:8080/"
        },
        "outputId": "99a33551-ab21-4184-a9af-535b2e8ebb40"
      },
      "execution_count": null,
      "outputs": [
        {
          "output_type": "execute_result",
          "data": {
            "text/plain": [
              "array([2.1654686 , 2.16177774, 2.21919403, 2.20844212, 2.24635351,\n",
              "       2.27728571, 2.30820427, 2.34584277, 2.30353783, 2.30503191,\n",
              "       2.37560836])"
            ]
          },
          "metadata": {},
          "execution_count": 23
        }
      ]
    },
    {
      "cell_type": "code",
      "source": [
        "X_train_t = torch.tensor(X_train, dtype=torch.float32)\n",
        "y_train_t = torch.tensor(y_train, dtype=torch.float32).unsqueeze(1)\n",
        "X_test_t = torch.tensor(X_test, dtype=torch.float32)"
      ],
      "metadata": {
        "id": "cmH-1_UiHLok"
      },
      "execution_count": null,
      "outputs": []
    },
    {
      "cell_type": "code",
      "source": [
        "X_train_k = X_train.reshape(X_train.shape[0], X_train.shape[1], 1)\n",
        "y_train_k = y_train.reshape(y_train.shape[0], 1)\n",
        "X_test_k = X_test.reshape(X_test.shape[0], X_test.shape[1], 1)"
      ],
      "metadata": {
        "id": "hxnYJ8clHLls"
      },
      "execution_count": null,
      "outputs": []
    },
    {
      "cell_type": "code",
      "source": [
        "y_test\n",
        "X_train.shape,y_train.shape,X_test_k.shape"
      ],
      "metadata": {
        "id": "HYkvU5V-0cqN",
        "colab": {
          "base_uri": "https://localhost:8080/"
        },
        "outputId": "2825c09b-c1d4-4d62-e089-af57618f9377"
      },
      "execution_count": null,
      "outputs": [
        {
          "output_type": "execute_result",
          "data": {
            "text/plain": [
              "((340, 24), (340,), (11, 24, 1))"
            ]
          },
          "metadata": {},
          "execution_count": 26
        }
      ]
    },
    {
      "cell_type": "markdown",
      "source": [
        "## 1.0 Arima Model:"
      ],
      "metadata": {
        "id": "Tf-T-zfWLQZd"
      }
    },
    {
      "cell_type": "code",
      "source": [
        "import statsmodels.api as sm"
      ],
      "metadata": {
        "id": "5IUM_BFZMOA_"
      },
      "execution_count": null,
      "outputs": []
    },
    {
      "cell_type": "code",
      "source": [
        "sm.graphics.tsa.plot_acf(train_raw.values.squeeze(), lags=40)\n",
        "sm.graphics.tsa.plot_pacf(train_raw.values.squeeze(), lags=40, method=\"ywm\")\n",
        "plt.show()"
      ],
      "metadata": {
        "id": "QXEMPS0UMPN9",
        "colab": {
          "base_uri": "https://localhost:8080/",
          "height": 1000
        },
        "outputId": "f9262c7d-7144-44fc-a7bd-8cbd88fa3dbb"
      },
      "execution_count": null,
      "outputs": [
        {
          "output_type": "display_data",
          "data": {
            "text/plain": [
              "<Figure size 768x576 with 1 Axes>"
            ],
            "image/png": "[encoded data removed]"
          },
          "metadata": {}
        },
        {
          "output_type": "display_data",
          "data": {
            "text/plain": [
              "<Figure size 768x576 with 1 Axes>"
            ],
            "image/png": "[encoded data removed]"
          },
          "metadata": {}
        }
      ]
    },
    {
      "cell_type": "code",
      "source": [
        "train_raw.reset_index()"
      ],
      "metadata": {
        "id": "gVC7gLkRtn5C",
        "colab": {
          "base_uri": "https://localhost:8080/",
          "height": 423
        },
        "outputId": "5713faba-ac76-4c2f-82b9-1883ba2c0cde"
      },
      "execution_count": null,
      "outputs": [
        {
          "output_type": "execute_result",
          "data": {
            "text/plain": [
              "          DATE   RSAFS\n",
              "0   1992-01-01  159177\n",
              "1   1992-02-01  159189\n",
              "2   1992-03-01  158647\n",
              "3   1992-04-01  159921\n",
              "4   1992-05-01  160471\n",
              "..         ...     ...\n",
              "359 2021-12-01  619938\n",
              "360 2022-01-01  631509\n",
              "361 2022-02-01  638101\n",
              "362 2022-03-01  651027\n",
              "363 2022-04-01  660194\n",
              "\n",
              "[364 rows x 2 columns]"
            ],
            "text/html": [
              "\n",
              "  <div id=\"df-90e1b3a2-2d9d-4a6f-932a-c5b0e778392b\" class=\"colab-df-container\">\n",
              "    <div>\n",
              "<style scoped>\n",
              "    .dataframe tbody tr th:only-of-type {\n",
              "        vertical-align: middle;\n",
              "    }\n",
              "\n",
              "    .dataframe tbody tr th {\n",
              "        vertical-align: top;\n",
              "    }\n",
              "\n",
              "    .dataframe thead th {\n",
              "        text-align: right;\n",
              "    }\n",
              "</style>\n",
              "<table border=\"1\" class=\"dataframe\">\n",
              "  <thead>\n",
              "    <tr style=\"text-align: right;\">\n",
              "      <th></th>\n",
              "      <th>DATE</th>\n",
              "      <th>RSAFS</th>\n",
              "    </tr>\n",
              "  </thead>\n",
              "  <tbody>\n",
              "    <tr>\n",
              "      <th>0</th>\n",
              "      <td>1992-01-01</td>\n",
              "      <td>159177</td>\n",
              "    </tr>\n",
              "    <tr>\n",
              "      <th>1</th>\n",
              "      <td>1992-02-01</td>\n",
              "      <td>159189</td>\n",
              "    </tr>\n",
              "    <tr>\n",
              "      <th>2</th>\n",
              "      <td>1992-03-01</td>\n",
              "      <td>158647</td>\n",
              "    </tr>\n",
              "    <tr>\n",
              "      <th>3</th>\n",
              "      <td>1992-04-01</td>\n",
              "      <td>159921</td>\n",
              "    </tr>\n",
              "    <tr>\n",
              "      <th>4</th>\n",
              "      <td>1992-05-01</td>\n",
              "      <td>160471</td>\n",
              "    </tr>\n",
              "    <tr>\n",
              "      <th>...</th>\n",
              "      <td>...</td>\n",
              "      <td>...</td>\n",
              "    </tr>\n",
              "    <tr>\n",
              "      <th>359</th>\n",
              "      <td>2021-12-01</td>\n",
              "      <td>619938</td>\n",
              "    </tr>\n",
              "    <tr>\n",
              "      <th>360</th>\n",
              "      <td>2022-01-01</td>\n",
              "      <td>631509</td>\n",
              "    </tr>\n",
              "    <tr>\n",
              "      <th>361</th>\n",
              "      <td>2022-02-01</td>\n",
              "      <td>638101</td>\n",
              "    </tr>\n",
              "    <tr>\n",
              "      <th>362</th>\n",
              "      <td>2022-03-01</td>\n",
              "      <td>651027</td>\n",
              "    </tr>\n",
              "    <tr>\n",
              "      <th>363</th>\n",
              "      <td>2022-04-01</td>\n",
              "      <td>660194</td>\n",
              "    </tr>\n",
              "  </tbody>\n",
              "</table>\n",
              "<p>364 rows × 2 columns</p>\n",
              "</div>\n",
              "    <div class=\"colab-df-buttons\">\n",
              "\n",
              "  <div class=\"colab-df-container\">\n",
              "    <button class=\"colab-df-convert\" onclick=\"convertToInteractive('df-90e1b3a2-2d9d-4a6f-932a-c5b0e778392b')\"\n",
              "            title=\"Convert this dataframe to an interactive table.\"\n",
              "            style=\"display:none;\">\n",
              "\n",
              "  <svg xmlns=\"http://www.w3.org/2000/svg\" height=\"24px\" viewBox=\"0 -960 960 960\">\n",
              "    <path d=\"M120-120v-720h720v720H120Zm60-500h600v-160H180v160Zm220 220h160v-160H400v160Zm0 220h160v-160H400v160ZM180-400h160v-160H180v160Zm440 0h160v-160H620v160ZM180-180h160v-160H180v160Zm440 0h160v-160H620v160Z\"/>\n",
              "  </svg>\n",
              "    </button>\n",
              "\n",
              "  <style>\n",
              "    .colab-df-container {\n",
              "      display:flex;\n",
              "      gap: 12px;\n",
              "    }\n",
              "\n",
              "    .colab-df-convert {\n",
              "      background-color: #E8F0FE;\n",
              "      border: none;\n",
              "      border-radius: 50%;\n",
              "      cursor: pointer;\n",
              "      display: none;\n",
              "      fill: #1967D2;\n",
              "      height: 32px;\n",
              "      padding: 0 0 0 0;\n",
              "      width: 32px;\n",
              "    }\n",
              "\n",
              "    .colab-df-convert:hover {\n",
              "      background-color: #E2EBFA;\n",
              "      box-shadow: 0px 1px 2px rgba(60, 64, 67, 0.3), 0px 1px 3px 1px rgba(60, 64, 67, 0.15);\n",
              "      fill: #174EA6;\n",
              "    }\n",
              "\n",
              "    .colab-df-buttons div {\n",
              "      margin-bottom: 4px;\n",
              "    }\n",
              "\n",
              "    [theme=dark] .colab-df-convert {\n",
              "      background-color: #3B4455;\n",
              "      fill: #D2E3FC;\n",
              "    }\n",
              "\n",
              "    [theme=dark] .colab-df-convert:hover {\n",
              "      background-color: #434B5C;\n",
              "      box-shadow: 0px 1px 3px 1px rgba(0, 0, 0, 0.15);\n",
              "      filter: drop-shadow(0px 1px 2px rgba(0, 0, 0, 0.3));\n",
              "      fill: #FFFFFF;\n",
              "    }\n",
              "  </style>\n",
              "\n",
              "    <script>\n",
              "      const buttonEl =\n",
              "        document.querySelector('#df-90e1b3a2-2d9d-4a6f-932a-c5b0e778392b button.colab-df-convert');\n",
              "      buttonEl.style.display =\n",
              "        google.colab.kernel.accessAllowed ? 'block' : 'none';\n",
              "\n",
              "      async function convertToInteractive(key) {\n",
              "        const element = document.querySelector('#df-90e1b3a2-2d9d-4a6f-932a-c5b0e778392b');\n",
              "        const dataTable =\n",
              "          await google.colab.kernel.invokeFunction('convertToInteractive',\n",
              "                                                    [key], {});\n",
              "        if (!dataTable) return;\n",
              "\n",
              "        const docLinkHtml = 'Like what you see? Visit the ' +\n",
              "          '<a target=\"_blank\" href=https://colab.research.google.com/notebooks/data_table.ipynb>data table notebook</a>'\n",
              "          + ' to learn more about interactive tables.';\n",
              "        element.innerHTML = '';\n",
              "        dataTable['output_type'] = 'display_data';\n",
              "        await google.colab.output.renderOutput(dataTable, element);\n",
              "        const docLink = document.createElement('div');\n",
              "        docLink.innerHTML = docLinkHtml;\n",
              "        element.appendChild(docLink);\n",
              "      }\n",
              "    </script>\n",
              "  </div>\n",
              "\n",
              "\n",
              "    <div id=\"df-2e021983-b88f-40d6-a32e-13871ca3b9b1\">\n",
              "      <button class=\"colab-df-quickchart\" onclick=\"quickchart('df-2e021983-b88f-40d6-a32e-13871ca3b9b1')\"\n",
              "                title=\"Suggest charts\"\n",
              "                style=\"display:none;\">\n",
              "\n",
              "<svg xmlns=\"http://www.w3.org/2000/svg\" height=\"24px\"viewBox=\"0 0 24 24\"\n",
              "     width=\"24px\">\n",
              "    <g>\n",
              "        <path d=\"M19 3H5c-1.1 0-2 .9-2 2v14c0 1.1.9 2 2 2h14c1.1 0 2-.9 2-2V5c0-1.1-.9-2-2-2zM9 17H7v-7h2v7zm4 0h-2V7h2v10zm4 0h-2v-4h2v4z\"/>\n",
              "    </g>\n",
              "</svg>\n",
              "      </button>\n",
              "\n",
              "<style>\n",
              "  .colab-df-quickchart {\n",
              "      --bg-color: #E8F0FE;\n",
              "      --fill-color: #1967D2;\n",
              "      --hover-bg-color: #E2EBFA;\n",
              "      --hover-fill-color: #174EA6;\n",
              "      --disabled-fill-color: #AAA;\n",
              "      --disabled-bg-color: #DDD;\n",
              "  }\n",
              "\n",
              "  [theme=dark] .colab-df-quickchart {\n",
              "      --bg-color: #3B4455;\n",
              "      --fill-color: #D2E3FC;\n",
              "      --hover-bg-color: #434B5C;\n",
              "      --hover-fill-color: #FFFFFF;\n",
              "      --disabled-bg-color: #3B4455;\n",
              "      --disabled-fill-color: #666;\n",
              "  }\n",
              "\n",
              "  .colab-df-quickchart {\n",
              "    background-color: var(--bg-color);\n",
              "    border: none;\n",
              "    border-radius: 50%;\n",
              "    cursor: pointer;\n",
              "    display: none;\n",
              "    fill: var(--fill-color);\n",
              "    height: 32px;\n",
              "    padding: 0;\n",
              "    width: 32px;\n",
              "  }\n",
              "\n",
              "  .colab-df-quickchart:hover {\n",
              "    background-color: var(--hover-bg-color);\n",
              "    box-shadow: 0 1px 2px rgba(60, 64, 67, 0.3), 0 1px 3px 1px rgba(60, 64, 67, 0.15);\n",
              "    fill: var(--button-hover-fill-color);\n",
              "  }\n",
              "\n",
              "  .colab-df-quickchart-complete:disabled,\n",
              "  .colab-df-quickchart-complete:disabled:hover {\n",
              "    background-color: var(--disabled-bg-color);\n",
              "    fill: var(--disabled-fill-color);\n",
              "    box-shadow: none;\n",
              "  }\n",
              "\n",
              "  .colab-df-spinner {\n",
              "    border: 2px solid var(--fill-color);\n",
              "    border-color: transparent;\n",
              "    border-bottom-color: var(--fill-color);\n",
              "    animation:\n",
              "      spin 1s steps(1) infinite;\n",
              "  }\n",
              "\n",
              "  @keyframes spin {\n",
              "    0% {\n",
              "      border-color: transparent;\n",
              "      border-bottom-color: var(--fill-color);\n",
              "      border-left-color: var(--fill-color);\n",
              "    }\n",
              "    20% {\n",
              "      border-color: transparent;\n",
              "      border-left-color: var(--fill-color);\n",
              "      border-top-color: var(--fill-color);\n",
              "    }\n",
              "    30% {\n",
              "      border-color: transparent;\n",
              "      border-left-color: var(--fill-color);\n",
              "      border-top-color: var(--fill-color);\n",
              "      border-right-color: var(--fill-color);\n",
              "    }\n",
              "    40% {\n",
              "      border-color: transparent;\n",
              "      border-right-color: var(--fill-color);\n",
              "      border-top-color: var(--fill-color);\n",
              "    }\n",
              "    60% {\n",
              "      border-color: transparent;\n",
              "      border-right-color: var(--fill-color);\n",
              "    }\n",
              "    80% {\n",
              "      border-color: transparent;\n",
              "      border-right-color: var(--fill-color);\n",
              "      border-bottom-color: var(--fill-color);\n",
              "    }\n",
              "    90% {\n",
              "      border-color: transparent;\n",
              "      border-bottom-color: var(--fill-color);\n",
              "    }\n",
              "  }\n",
              "</style>\n",
              "\n",
              "      <script>\n",
              "        async function quickchart(key) {\n",
              "          const quickchartButtonEl =\n",
              "            document.querySelector('#' + key + ' button');\n",
              "          quickchartButtonEl.disabled = true;  // To prevent multiple clicks.\n",
              "          quickchartButtonEl.classList.add('colab-df-spinner');\n",
              "          try {\n",
              "            const charts = await google.colab.kernel.invokeFunction(\n",
              "                'suggestCharts', [key], {});\n",
              "          } catch (error) {\n",
              "            console.error('Error during call to suggestCharts:', error);\n",
              "          }\n",
              "          quickchartButtonEl.classList.remove('colab-df-spinner');\n",
              "          quickchartButtonEl.classList.add('colab-df-quickchart-complete');\n",
              "        }\n",
              "        (() => {\n",
              "          let quickchartButtonEl =\n",
              "            document.querySelector('#df-2e021983-b88f-40d6-a32e-13871ca3b9b1 button');\n",
              "          quickchartButtonEl.style.display =\n",
              "            google.colab.kernel.accessAllowed ? 'block' : 'none';\n",
              "        })();\n",
              "      </script>\n",
              "    </div>\n",
              "\n",
              "    </div>\n",
              "  </div>\n"
            ],
            "application/vnd.google.colaboratory.intrinsic+json": {
              "type": "dataframe",
              "summary": "{\n  \"name\": \"train_raw\",\n  \"rows\": 364,\n  \"fields\": [\n    {\n      \"column\": \"DATE\",\n      \"properties\": {\n        \"dtype\": \"date\",\n        \"min\": \"1992-01-01 00:00:00\",\n        \"max\": \"2022-04-01 00:00:00\",\n        \"num_unique_values\": 364,\n        \"samples\": [\n          \"2008-02-01 00:00:00\",\n          \"1994-10-01 00:00:00\",\n          \"1993-04-01 00:00:00\"\n        ],\n        \"semantic_type\": \"\",\n        \"description\": \"\"\n      }\n    },\n    {\n      \"column\": \"RSAFS\",\n      \"properties\": {\n        \"dtype\": \"number\",\n        \"std\": 115508,\n        \"min\": 158647,\n        \"max\": 660194,\n        \"num_unique_values\": 364,\n        \"samples\": [\n          364126,\n          193914,\n          172102\n        ],\n        \"semantic_type\": \"\",\n        \"description\": \"\"\n      }\n    }\n  ]\n}"
            }
          },
          "metadata": {},
          "execution_count": 29
        }
      ]
    },
    {
      "cell_type": "code",
      "source": [
        "len(test_raw)"
      ],
      "metadata": {
        "id": "CTHbljIvvd3-",
        "colab": {
          "base_uri": "https://localhost:8080/"
        },
        "outputId": "9429fce0-efc6-4e1e-8f63-33498a553ea1"
      },
      "execution_count": null,
      "outputs": [
        {
          "output_type": "execute_result",
          "data": {
            "text/plain": [
              "35"
            ]
          },
          "metadata": {},
          "execution_count": 30
        }
      ]
    },
    {
      "cell_type": "code",
      "source": [
        "# ARIMA\n",
        "start_arima = time.time()\n",
        "arima = SARIMAX(endog=train_raw, dates=train_raw.index, order=(2, 1, 0), seasonal_order=(1, 1, 1, 12)).fit()\n",
        "arima = ARIMA(train_raw, order=(2, 1, 0),seasonal_order=(1, 1, 1, 12)).fit()\n",
        "pred_arima = arima.forecast(steps=len(test_raw))\n",
        "pred_arima.index = test_raw.index\n",
        "arima_time = time.time() - start_arima"
      ],
      "metadata": {
        "id": "77cYseOlHLic"
      },
      "execution_count": null,
      "outputs": []
    },
    {
      "cell_type": "code",
      "source": [
        "print(arima.summary())"
      ],
      "metadata": {
        "id": "xxEewqq3HLfv",
        "colab": {
          "base_uri": "https://localhost:8080/"
        },
        "outputId": "bdccc246-5af9-4061-828a-d7855f36aa80"
      },
      "execution_count": null,
      "outputs": [
        {
          "output_type": "stream",
          "name": "stdout",
          "text": [
            "                                     SARIMAX Results                                      \n",
            "==========================================================================================\n",
            "Dep. Variable:                              RSAFS   No. Observations:                  364\n",
            "Model:             ARIMA(2, 1, 0)x(1, 1, [1], 12)   Log Likelihood               -3714.219\n",
            "Date:                            Wed, 30 Apr 2025   AIC                           7438.439\n",
            "Time:                                    16:42:15   BIC                           7457.743\n",
            "Sample:                                01-01-1992   HQIC                          7446.122\n",
            "                                     - 04-01-2022                                         \n",
            "Covariance Type:                              opg                                         \n",
            "==============================================================================\n",
            "                 coef    std err          z      P>|z|      [0.025      0.975]\n",
            "------------------------------------------------------------------------------\n",
            "ar.L1          0.0297      0.022      1.345      0.179      -0.014       0.073\n",
            "ar.L2         -0.1631      0.031     -5.245      0.000      -0.224      -0.102\n",
            "ar.S.L12       0.1571      0.037      4.229      0.000       0.084       0.230\n",
            "ma.S.L12      -0.8654      0.045    -19.124      0.000      -0.954      -0.777\n",
            "sigma2      1.277e+08   2.73e-10   4.68e+17      0.000    1.28e+08    1.28e+08\n",
            "===================================================================================\n",
            "Ljung-Box (L1) (Q):                   0.00   Jarque-Bera (JB):             16443.71\n",
            "Prob(Q):                              0.97   Prob(JB):                         0.00\n",
            "Heteroskedasticity (H):               4.20   Skew:                             0.98\n",
            "Prob(H) (two-sided):                  0.00   Kurtosis:                        36.47\n",
            "===================================================================================\n",
            "\n",
            "Warnings:\n",
            "[1] Covariance matrix calculated using the outer product of gradients (complex-step).\n",
            "[2] Covariance matrix is singular or near-singular, with condition number 2.02e+33. Standard errors may be unstable.\n"
          ]
        }
      ]
    },
    {
      "cell_type": "code",
      "source": [
        "plt.plot(train_raw[-50:], color=\"royalblue\")\n",
        "plt.plot(test_raw, color=\"royalblue\", linestyle=\"dashed\")\n",
        "plt.plot(pred_arima, color=\"salmon\")\n",
        "\n",
        "plt.show()"
      ],
      "metadata": {
        "id": "Q69Q2q9iHLc1",
        "colab": {
          "base_uri": "https://localhost:8080/",
          "height": 509
        },
        "outputId": "f8d8b547-2c9e-4f0b-9133-c881d5aea4c9"
      },
      "execution_count": null,
      "outputs": [
        {
          "output_type": "display_data",
          "data": {
            "text/plain": [
              "<Figure size 768x576 with 1 Axes>"
            ],
            "image/png": "[encoded data removed]"
          },
          "metadata": {}
        }
      ]
    },
    {
      "cell_type": "markdown",
      "source": [
        "**Store Results**"
      ],
      "metadata": {
        "id": "3Dq61WA1y88I"
      }
    },
    {
      "cell_type": "code",
      "source": [
        "def store_results(error_df, target, predic, model_name=\"insert_name\"):\n",
        "  df = error_df.copy()\n",
        "  t = target.copy()\n",
        "  p = predic.copy()\n",
        "\n",
        "  df[:][model_name]=0\n",
        "\n",
        "  df.loc[model_name,\"RMSE\"] = np.round(root_mean_squared_error(t,p),2)\n",
        "  df.loc[model_name,\"MAE\"] = np.round(mean_absolute_error(t,p)  ,2)\n",
        "  df.loc[model_name,\"MAPE\"] = np.round(mean_absolute_percentage_error(t,p),4)\n",
        "\n",
        "  return df"
      ],
      "metadata": {
        "id": "yyqvH6c-zCaY"
      },
      "execution_count": null,
      "outputs": []
    },
    {
      "cell_type": "code",
      "source": [
        "print(test_raw.shape, pred_arima.shape)\n",
        "root_mean_squared_error(test_raw[:12],pred_arima[:12])\n",
        "\n",
        "df_error = pd.DataFrame(columns=[\"RMSE\",\"MAE\",\"MAPE\"])\n",
        "df_results = store_results(df_error, test_raw, pred_arima, model_name=\"ARIMA\")\n",
        "df_results"
      ],
      "metadata": {
        "id": "81CbdaV3tCv9",
        "colab": {
          "base_uri": "https://localhost:8080/",
          "height": 107
        },
        "outputId": "76a499ea-4c68-4c71-d891-c4847d20f2a0"
      },
      "execution_count": null,
      "outputs": [
        {
          "output_type": "stream",
          "name": "stdout",
          "text": [
            "(35,) (35,)\n"
          ]
        },
        {
          "output_type": "execute_result",
          "data": {
            "text/plain": [
              "           RMSE       MAE    MAPE\n",
              "ARIMA  31839.35  29438.18  0.0427"
            ],
            "text/html": [
              "\n",
              "  <div id=\"df-583e1c76-3d18-4117-abd7-5d91bc40f2d2\" class=\"colab-df-container\">\n",
              "    <div>\n",
              "<style scoped>\n",
              "    .dataframe tbody tr th:only-of-type {\n",
              "        vertical-align: middle;\n",
              "    }\n",
              "\n",
              "    .dataframe tbody tr th {\n",
              "        vertical-align: top;\n",
              "    }\n",
              "\n",
              "    .dataframe thead th {\n",
              "        text-align: right;\n",
              "    }\n",
              "</style>\n",
              "<table border=\"1\" class=\"dataframe\">\n",
              "  <thead>\n",
              "    <tr style=\"text-align: right;\">\n",
              "      <th></th>\n",
              "      <th>RMSE</th>\n",
              "      <th>MAE</th>\n",
              "      <th>MAPE</th>\n",
              "    </tr>\n",
              "  </thead>\n",
              "  <tbody>\n",
              "    <tr>\n",
              "      <th>ARIMA</th>\n",
              "      <td>31839.35</td>\n",
              "      <td>29438.18</td>\n",
              "      <td>0.0427</td>\n",
              "    </tr>\n",
              "  </tbody>\n",
              "</table>\n",
              "</div>\n",
              "    <div class=\"colab-df-buttons\">\n",
              "\n",
              "  <div class=\"colab-df-container\">\n",
              "    <button class=\"colab-df-convert\" onclick=\"convertToInteractive('df-583e1c76-3d18-4117-abd7-5d91bc40f2d2')\"\n",
              "            title=\"Convert this dataframe to an interactive table.\"\n",
              "            style=\"display:none;\">\n",
              "\n",
              "  <svg xmlns=\"http://www.w3.org/2000/svg\" height=\"24px\" viewBox=\"0 -960 960 960\">\n",
              "    <path d=\"M120-120v-720h720v720H120Zm60-500h600v-160H180v160Zm220 220h160v-160H400v160Zm0 220h160v-160H400v160ZM180-400h160v-160H180v160Zm440 0h160v-160H620v160ZM180-180h160v-160H180v160Zm440 0h160v-160H620v160Z\"/>\n",
              "  </svg>\n",
              "    </button>\n",
              "\n",
              "  <style>\n",
              "    .colab-df-container {\n",
              "      display:flex;\n",
              "      gap: 12px;\n",
              "    }\n",
              "\n",
              "    .colab-df-convert {\n",
              "      background-color: #E8F0FE;\n",
              "      border: none;\n",
              "      border-radius: 50%;\n",
              "      cursor: pointer;\n",
              "      display: none;\n",
              "      fill: #1967D2;\n",
              "      height: 32px;\n",
              "      padding: 0 0 0 0;\n",
              "      width: 32px;\n",
              "    }\n",
              "\n",
              "    .colab-df-convert:hover {\n",
              "      background-color: #E2EBFA;\n",
              "      box-shadow: 0px 1px 2px rgba(60, 64, 67, 0.3), 0px 1px 3px 1px rgba(60, 64, 67, 0.15);\n",
              "      fill: #174EA6;\n",
              "    }\n",
              "\n",
              "    .colab-df-buttons div {\n",
              "      margin-bottom: 4px;\n",
              "    }\n",
              "\n",
              "    [theme=dark] .colab-df-convert {\n",
              "      background-color: #3B4455;\n",
              "      fill: #D2E3FC;\n",
              "    }\n",
              "\n",
              "    [theme=dark] .colab-df-convert:hover {\n",
              "      background-color: #434B5C;\n",
              "      box-shadow: 0px 1px 3px 1px rgba(0, 0, 0, 0.15);\n",
              "      filter: drop-shadow(0px 1px 2px rgba(0, 0, 0, 0.3));\n",
              "      fill: #FFFFFF;\n",
              "    }\n",
              "  </style>\n",
              "\n",
              "    <script>\n",
              "      const buttonEl =\n",
              "        document.querySelector('#df-583e1c76-3d18-4117-abd7-5d91bc40f2d2 button.colab-df-convert');\n",
              "      buttonEl.style.display =\n",
              "        google.colab.kernel.accessAllowed ? 'block' : 'none';\n",
              "\n",
              "      async function convertToInteractive(key) {\n",
              "        const element = document.querySelector('#df-583e1c76-3d18-4117-abd7-5d91bc40f2d2');\n",
              "        const dataTable =\n",
              "          await google.colab.kernel.invokeFunction('convertToInteractive',\n",
              "                                                    [key], {});\n",
              "        if (!dataTable) return;\n",
              "\n",
              "        const docLinkHtml = 'Like what you see? Visit the ' +\n",
              "          '<a target=\"_blank\" href=https://colab.research.google.com/notebooks/data_table.ipynb>data table notebook</a>'\n",
              "          + ' to learn more about interactive tables.';\n",
              "        element.innerHTML = '';\n",
              "        dataTable['output_type'] = 'display_data';\n",
              "        await google.colab.output.renderOutput(dataTable, element);\n",
              "        const docLink = document.createElement('div');\n",
              "        docLink.innerHTML = docLinkHtml;\n",
              "        element.appendChild(docLink);\n",
              "      }\n",
              "    </script>\n",
              "  </div>\n",
              "\n",
              "\n",
              "  <div id=\"id_56a60cbc-7ccc-4a59-89ad-a7f439f400f5\">\n",
              "    <style>\n",
              "      .colab-df-generate {\n",
              "        background-color: #E8F0FE;\n",
              "        border: none;\n",
              "        border-radius: 50%;\n",
              "        cursor: pointer;\n",
              "        display: none;\n",
              "        fill: #1967D2;\n",
              "        height: 32px;\n",
              "        padding: 0 0 0 0;\n",
              "        width: 32px;\n",
              "      }\n",
              "\n",
              "      .colab-df-generate:hover {\n",
              "        background-color: #E2EBFA;\n",
              "        box-shadow: 0px 1px 2px rgba(60, 64, 67, 0.3), 0px 1px 3px 1px rgba(60, 64, 67, 0.15);\n",
              "        fill: #174EA6;\n",
              "      }\n",
              "\n",
              "      [theme=dark] .colab-df-generate {\n",
              "        background-color: #3B4455;\n",
              "        fill: #D2E3FC;\n",
              "      }\n",
              "\n",
              "      [theme=dark] .colab-df-generate:hover {\n",
              "        background-color: #434B5C;\n",
              "        box-shadow: 0px 1px 3px 1px rgba(0, 0, 0, 0.15);\n",
              "        filter: drop-shadow(0px 1px 2px rgba(0, 0, 0, 0.3));\n",
              "        fill: #FFFFFF;\n",
              "      }\n",
              "    </style>\n",
              "    <button class=\"colab-df-generate\" onclick=\"generateWithVariable('df_results')\"\n",
              "            title=\"Generate code using this dataframe.\"\n",
              "            style=\"display:none;\">\n",
              "\n",
              "  <svg xmlns=\"http://www.w3.org/2000/svg\" height=\"24px\"viewBox=\"0 0 24 24\"\n",
              "       width=\"24px\">\n",
              "    <path d=\"M7,19H8.4L18.45,9,17,7.55,7,17.6ZM5,21V16.75L18.45,3.32a2,2,0,0,1,2.83,0l1.4,1.43a1.91,1.91,0,0,1,.58,1.4,1.91,1.91,0,0,1-.58,1.4L9.25,21ZM18.45,9,17,7.55Zm-12,3A5.31,5.31,0,0,0,4.9,8.1,5.31,5.31,0,0,0,1,6.5,5.31,5.31,0,0,0,4.9,4.9,5.31,5.31,0,0,0,6.5,1,5.31,5.31,0,0,0,8.1,4.9,5.31,5.31,0,0,0,12,6.5,5.46,5.46,0,0,0,6.5,12Z\"/>\n",
              "  </svg>\n",
              "    </button>\n",
              "    <script>\n",
              "      (() => {\n",
              "      const buttonEl =\n",
              "        document.querySelector('#id_56a60cbc-7ccc-4a59-89ad-a7f439f400f5 button.colab-df-generate');\n",
              "      buttonEl.style.display =\n",
              "        google.colab.kernel.accessAllowed ? 'block' : 'none';\n",
              "\n",
              "      buttonEl.onclick = () => {\n",
              "        google.colab.notebook.generateWithVariable('df_results');\n",
              "      }\n",
              "      })();\n",
              "    </script>\n",
              "  </div>\n",
              "\n",
              "    </div>\n",
              "  </div>\n"
            ],
            "application/vnd.google.colaboratory.intrinsic+json": {
              "type": "dataframe",
              "variable_name": "df_results",
              "summary": "{\n  \"name\": \"df_results\",\n  \"rows\": 1,\n  \"fields\": [\n    {\n      \"column\": \"RMSE\",\n      \"properties\": {\n        \"dtype\": \"date\",\n        \"min\": 31839.35,\n        \"max\": 31839.35,\n        \"num_unique_values\": 1,\n        \"samples\": [\n          31839.35\n        ],\n        \"semantic_type\": \"\",\n        \"description\": \"\"\n      }\n    },\n    {\n      \"column\": \"MAE\",\n      \"properties\": {\n        \"dtype\": \"date\",\n        \"min\": 29438.18,\n        \"max\": 29438.18,\n        \"num_unique_values\": 1,\n        \"samples\": [\n          29438.18\n        ],\n        \"semantic_type\": \"\",\n        \"description\": \"\"\n      }\n    },\n    {\n      \"column\": \"MAPE\",\n      \"properties\": {\n        \"dtype\": \"date\",\n        \"min\": 0.0427,\n        \"max\": 0.0427,\n        \"num_unique_values\": 1,\n        \"samples\": [\n          0.0427\n        ],\n        \"semantic_type\": \"\",\n        \"description\": \"\"\n      }\n    }\n  ]\n}"
            }
          },
          "metadata": {},
          "execution_count": 35
        }
      ]
    },
    {
      "cell_type": "code",
      "source": [
        "pred_arima_is = arima.predict()\n",
        "\n",
        "plt.plot(train_raw, color=\"royalblue\", linestyle=\"dashed\")\n",
        "plt.plot(pred_arima_is, color=\"salmon\")"
      ],
      "metadata": {
        "id": "LRqtiFJcHLZk",
        "colab": {
          "base_uri": "https://localhost:8080/",
          "height": 527
        },
        "outputId": "47428df4-5588-4b6e-e74d-bf2c19d47cae"
      },
      "execution_count": null,
      "outputs": [
        {
          "output_type": "execute_result",
          "data": {
            "text/plain": [
              "[<matplotlib.lines.Line2D at 0x7eeef67b5550>]"
            ]
          },
          "metadata": {},
          "execution_count": 36
        },
        {
          "output_type": "display_data",
          "data": {
            "text/plain": [
              "<Figure size 768x576 with 1 Axes>"
            ],
            "image/png": "[encoded data removed]"
          },
          "metadata": {}
        }
      ]
    },
    {
      "cell_type": "markdown",
      "source": [
        "## 2.0 Neural Networks:"
      ],
      "metadata": {
        "id": "OgzvNIX_0S4u"
      }
    },
    {
      "cell_type": "code",
      "source": [
        "tf.random.set_seed(42)\n",
        "ahead=35\n",
        "\n",
        "def split_inputs_and_targets(series, ahead=35, target_col=None):\n",
        "    return tf.expand_dims(series[:, :-ahead],-1), series[:, -ahead:]"
      ],
      "metadata": {
        "id": "NO1WD1yLQxry"
      },
      "execution_count": null,
      "outputs": []
    },
    {
      "cell_type": "code",
      "source": [
        "sampler = keras.utils.timeseries_dataset_from_array(\n",
        "                                                      norm_series,\n",
        "                                                      sequence_length=36+ahead,\n",
        "                                                      targets=None,\n",
        "                                                      sequence_stride=1,\n",
        "                                                      sampling_rate=1,\n",
        "                                                      batch_size=12,\n",
        "                                                      shuffle=False,\n",
        "                                                      seed=42,\n",
        "                                                      start_index=None,\n",
        "                                                      end_index=None\n",
        "                                                  ).map(split_inputs_and_targets)"
      ],
      "metadata": {
        "id": "2-e7zPHPHLWU"
      },
      "execution_count": null,
      "outputs": []
    },
    {
      "cell_type": "code",
      "source": [
        "norm_series_k = norm_series.values\n",
        "norm_series_k.shape"
      ],
      "metadata": {
        "id": "_XOuGXSgPspX",
        "colab": {
          "base_uri": "https://localhost:8080/"
        },
        "outputId": "07af7282-574d-4b27-a0a4-90a795ca59d5"
      },
      "execution_count": null,
      "outputs": [
        {
          "output_type": "execute_result",
          "data": {
            "text/plain": [
              "(399,)"
            ]
          },
          "metadata": {},
          "execution_count": 39
        }
      ]
    },
    {
      "cell_type": "code",
      "source": [
        "for a, b in sampler.take(1):\n",
        "  print(a.shape, b.shape)"
      ],
      "metadata": {
        "id": "5YtwxPDs0B_h",
        "colab": {
          "base_uri": "https://localhost:8080/"
        },
        "outputId": "8601cdd0-905a-47d3-c899-d022065ba760"
      },
      "execution_count": null,
      "outputs": [
        {
          "output_type": "stream",
          "name": "stdout",
          "text": [
            "(12, 36, 1) (12, 35)\n"
          ]
        }
      ]
    },
    {
      "cell_type": "code",
      "source": [
        "norm_series_train_v0 = norm_series.iloc[:-ahead]\n",
        "norm_series_test = norm_series.iloc[-(36+ahead):]"
      ],
      "metadata": {
        "id": "ICbZn20i0B8X"
      },
      "execution_count": null,
      "outputs": []
    },
    {
      "cell_type": "code",
      "source": [
        "train_sampler = keras.utils.timeseries_dataset_from_array(\n",
        "                                                      norm_series_train_v0,\n",
        "                                                      sequence_length=36+ahead,\n",
        "                                                      targets=None,\n",
        "                                                      sequence_stride=1,\n",
        "                                                      sampling_rate=1,\n",
        "                                                      batch_size=12,\n",
        "                                                      shuffle=False,\n",
        "                                                      seed=42,\n",
        "                                                      start_index=None,\n",
        "                                                      end_index=None\n",
        "                                                  ).map(split_inputs_and_targets)\n",
        "\n",
        "test_sampler = keras.utils.timeseries_dataset_from_array(\n",
        "                                                      norm_series_test,\n",
        "                                                      sequence_length=36+ahead,\n",
        "                                                      targets=None,\n",
        "                                                      sequence_stride=1,\n",
        "                                                      sampling_rate=1,\n",
        "                                                      batch_size=12,\n",
        "                                                      shuffle=False,\n",
        "                                                      seed=42,\n",
        "                                                      start_index=None,\n",
        "                                                      end_index=None\n",
        "                                                  ).map(split_inputs_and_targets)"
      ],
      "metadata": {
        "id": "bcG7KkOv0B5a"
      },
      "execution_count": null,
      "outputs": []
    },
    {
      "cell_type": "code",
      "source": [
        "for a, b in test_sampler.take(1):\n",
        "  print(a.shape, b.shape)"
      ],
      "metadata": {
        "id": "XcjkV8Hb0B2X",
        "colab": {
          "base_uri": "https://localhost:8080/"
        },
        "outputId": "cc7e46af-cc43-4a1a-a246-ca540fba5d68"
      },
      "execution_count": null,
      "outputs": [
        {
          "output_type": "stream",
          "name": "stdout",
          "text": [
            "(1, 36, 1) (1, 35)\n"
          ]
        }
      ]
    },
    {
      "cell_type": "markdown",
      "source": [
        "**CREATE NUMPY VERSION FOR PYTORCH**"
      ],
      "metadata": {
        "id": "gikevTVGLQqy"
      }
    },
    {
      "cell_type": "code",
      "source": [
        "train_sampler_ = keras.utils.timeseries_dataset_from_array(\n",
        "                                                      norm_series_train_v0,\n",
        "                                                      sequence_length=36+ahead,\n",
        "                                                      targets=None,\n",
        "                                                      sequence_stride=1,\n",
        "                                                      sampling_rate=1,\n",
        "                                                      batch_size=1024,\n",
        "                                                      shuffle=False,\n",
        "                                                      seed=42,\n",
        "                                                      start_index=None,\n",
        "                                                      end_index=None\n",
        "                                                  ).map(split_inputs_and_targets)\n",
        "\n",
        "test_sampler_ = keras.utils.timeseries_dataset_from_array(\n",
        "                                                      norm_series_test,\n",
        "                                                      sequence_length=36+ahead,\n",
        "                                                      targets=None,\n",
        "                                                      sequence_stride=1,\n",
        "                                                      sampling_rate=1,\n",
        "                                                      batch_size=1024,\n",
        "                                                      shuffle=False,\n",
        "                                                      seed=42,\n",
        "                                                      start_index=None,\n",
        "                                                      end_index=None\n",
        "                                                  ).map(split_inputs_and_targets)"
      ],
      "metadata": {
        "id": "_u0mY0_o0QWd"
      },
      "execution_count": null,
      "outputs": []
    },
    {
      "cell_type": "code",
      "source": [
        "for xtrain_numpy, ytrain_numpy in train_sampler_.take(1):\n",
        "  print(xtrain_numpy.shape, ytrain_numpy.shape)\n",
        "\n",
        "xtrain_numpy = xtrain_numpy.numpy()\n",
        "ytrain_numpy = ytrain_numpy.numpy()\n",
        "\n",
        "for xtest_numpy, ytest_numpy in test_sampler_.take(1):\n",
        "  print(xtest_numpy.shape, ytest_numpy.shape)\n",
        "\n",
        "xtest_numpy = xtest_numpy.numpy()\n",
        "ytest_numpy = ytest_numpy.numpy()"
      ],
      "metadata": {
        "id": "Q3LJuEzf0QTf",
        "colab": {
          "base_uri": "https://localhost:8080/"
        },
        "outputId": "5bf6e7fa-42ff-449d-d8a1-6693ad9f4ac2"
      },
      "execution_count": null,
      "outputs": [
        {
          "output_type": "stream",
          "name": "stdout",
          "text": [
            "(294, 36, 1) (294, 35)\n",
            "(1, 36, 1) (1, 35)\n"
          ]
        }
      ]
    },
    {
      "cell_type": "markdown",
      "source": [
        "### 2.1 LSTM"
      ],
      "metadata": {
        "id": "ZBdgUgDxN6BV"
      }
    },
    {
      "cell_type": "code",
      "source": [
        "from keras.models import Sequential"
      ],
      "metadata": {
        "id": "vsXQ8gbPPd9O"
      },
      "execution_count": null,
      "outputs": []
    },
    {
      "cell_type": "code",
      "source": [
        "class lstm_model:\n",
        "  def __init__(self, input_shape, output_shape):\n",
        "    self.input_shape = input_shape\n",
        "    self.output_shape = output_shape\n",
        "    self.model = self.build_model()\n",
        "\n",
        "  def build_model(self,units=64):\n",
        "    model = Sequential()\n",
        "    model.add(GRU(units, activation=\"tanh\", input_shape=self.input_shape, kernel_regularizer=keras.regularizers.l2(0.001), dropout=0.2, return_sequences=False))\n",
        "    #model.add(GRU(int(units/2), activation=\"relu\", input_shape=self.input_shape, kernel_regularizer=keras.regularizers.l2(0.001), dropout=0.2, return_sequences=False))\n",
        "    model.add(layers.BatchNormalization())\n",
        "    model.add(Dense(64,activation=\"relu\", kernel_regularizer=keras.regularizers.l2(0.001)))\n",
        "    model.add(layers.BatchNormalization())\n",
        "    model.add(layers.Dropout(0.25))\n",
        "    model.add(Dense(self.output_shape[0]))\n",
        "    model.compile(optimizer='adam', loss='mse')\n",
        "    return model"
      ],
      "metadata": {
        "id": "jB-BaE7f0QQs"
      },
      "execution_count": null,
      "outputs": []
    },
    {
      "cell_type": "code",
      "source": [
        "input_shape = (36, 1)\n",
        "output_shape = (35, 1)\n",
        "lstm_mod = lstm_model(input_shape, output_shape)\n",
        "model_v0 = lstm_mod.build_model(64)"
      ],
      "metadata": {
        "id": "JeuGVeuy0QNk"
      },
      "execution_count": null,
      "outputs": []
    },
    {
      "cell_type": "code",
      "source": [
        "model_v0.summary()"
      ],
      "metadata": {
        "id": "ZavbY6PK0Bzd",
        "colab": {
          "base_uri": "https://localhost:8080/",
          "height": 367
        },
        "outputId": "6436a7d0-5bbb-487d-8c09-bced4a76f9c3"
      },
      "execution_count": null,
      "outputs": [
        {
          "output_type": "display_data",
          "data": {
            "text/plain": [
              "\u001b[1mModel: \"sequential_13\"\u001b[0m\n"
            ],
            "text/html": [
              "<pre style=\"white-space:pre;overflow-x:auto;line-height:normal;font-family:Menlo,'DejaVu Sans Mono',consolas,'Courier New',monospace\"><span style=\"font-weight: bold\">Model: \"sequential_13\"</span>\n",
              "</pre>\n"
            ]
          },
          "metadata": {}
        },
        {
          "output_type": "display_data",
          "data": {
            "text/plain": [
              "┏━━━━━━━━━━━━━━━━━━━━━━━━━━━━━━━━━┳━━━━━━━━━━━━━━━━━━━━━━━━┳━━━━━━━━━━━━━━━┓\n",
              "┃\u001b[1m \u001b[0m\u001b[1mLayer (type)                   \u001b[0m\u001b[1m \u001b[0m┃\u001b[1m \u001b[0m\u001b[1mOutput Shape          \u001b[0m\u001b[1m \u001b[0m┃\u001b[1m \u001b[0m\u001b[1m      Param #\u001b[0m\u001b[1m \u001b[0m┃\n",
              "┡━━━━━━━━━━━━━━━━━━━━━━━━━━━━━━━━━╇━━━━━━━━━━━━━━━━━━━━━━━━╇━━━━━━━━━━━━━━━┩\n",
              "│ gru_23 (\u001b[38;5;33mGRU\u001b[0m)                    │ (\u001b[38;5;45mNone\u001b[0m, \u001b[38;5;34m64\u001b[0m)             │        \u001b[38;5;34m12,864\u001b[0m │\n",
              "├─────────────────────────────────┼────────────────────────┼───────────────┤\n",
              "│ batch_normalization_21          │ (\u001b[38;5;45mNone\u001b[0m, \u001b[38;5;34m64\u001b[0m)             │           \u001b[38;5;34m256\u001b[0m │\n",
              "│ (\u001b[38;5;33mBatchNormalization\u001b[0m)            │                        │               │\n",
              "├─────────────────────────────────┼────────────────────────┼───────────────┤\n",
              "│ dense_21 (\u001b[38;5;33mDense\u001b[0m)                │ (\u001b[38;5;45mNone\u001b[0m, \u001b[38;5;34m64\u001b[0m)             │         \u001b[38;5;34m4,160\u001b[0m │\n",
              "├─────────────────────────────────┼────────────────────────┼───────────────┤\n",
              "│ batch_normalization_22          │ (\u001b[38;5;45mNone\u001b[0m, \u001b[38;5;34m64\u001b[0m)             │           \u001b[38;5;34m256\u001b[0m │\n",
              "│ (\u001b[38;5;33mBatchNormalization\u001b[0m)            │                        │               │\n",
              "├─────────────────────────────────┼────────────────────────┼───────────────┤\n",
              "│ dropout_9 (\u001b[38;5;33mDropout\u001b[0m)             │ (\u001b[38;5;45mNone\u001b[0m, \u001b[38;5;34m64\u001b[0m)             │             \u001b[38;5;34m0\u001b[0m │\n",
              "├─────────────────────────────────┼────────────────────────┼───────────────┤\n",
              "│ dense_22 (\u001b[38;5;33mDense\u001b[0m)                │ (\u001b[38;5;45mNone\u001b[0m, \u001b[38;5;34m35\u001b[0m)             │         \u001b[38;5;34m2,275\u001b[0m │\n",
              "└─────────────────────────────────┴────────────────────────┴───────────────┘\n"
            ],
            "text/html": [
              "<pre style=\"white-space:pre;overflow-x:auto;line-height:normal;font-family:Menlo,'DejaVu Sans Mono',consolas,'Courier New',monospace\">┏━━━━━━━━━━━━━━━━━━━━━━━━━━━━━━━━━┳━━━━━━━━━━━━━━━━━━━━━━━━┳━━━━━━━━━━━━━━━┓\n",
              "┃<span style=\"font-weight: bold\"> Layer (type)                    </span>┃<span style=\"font-weight: bold\"> Output Shape           </span>┃<span style=\"font-weight: bold\">       Param # </span>┃\n",
              "┡━━━━━━━━━━━━━━━━━━━━━━━━━━━━━━━━━╇━━━━━━━━━━━━━━━━━━━━━━━━╇━━━━━━━━━━━━━━━┩\n",
              "│ gru_23 (<span style=\"color: #0087ff; text-decoration-color: #0087ff\">GRU</span>)                    │ (<span style=\"color: #00d7ff; text-decoration-color: #00d7ff\">None</span>, <span style=\"color: #00af00; text-decoration-color: #00af00\">64</span>)             │        <span style=\"color: #00af00; text-decoration-color: #00af00\">12,864</span> │\n",
              "├─────────────────────────────────┼────────────────────────┼───────────────┤\n",
              "│ batch_normalization_21          │ (<span style=\"color: #00d7ff; text-decoration-color: #00d7ff\">None</span>, <span style=\"color: #00af00; text-decoration-color: #00af00\">64</span>)             │           <span style=\"color: #00af00; text-decoration-color: #00af00\">256</span> │\n",
              "│ (<span style=\"color: #0087ff; text-decoration-color: #0087ff\">BatchNormalization</span>)            │                        │               │\n",
              "├─────────────────────────────────┼────────────────────────┼───────────────┤\n",
              "│ dense_21 (<span style=\"color: #0087ff; text-decoration-color: #0087ff\">Dense</span>)                │ (<span style=\"color: #00d7ff; text-decoration-color: #00d7ff\">None</span>, <span style=\"color: #00af00; text-decoration-color: #00af00\">64</span>)             │         <span style=\"color: #00af00; text-decoration-color: #00af00\">4,160</span> │\n",
              "├─────────────────────────────────┼────────────────────────┼───────────────┤\n",
              "│ batch_normalization_22          │ (<span style=\"color: #00d7ff; text-decoration-color: #00d7ff\">None</span>, <span style=\"color: #00af00; text-decoration-color: #00af00\">64</span>)             │           <span style=\"color: #00af00; text-decoration-color: #00af00\">256</span> │\n",
              "│ (<span style=\"color: #0087ff; text-decoration-color: #0087ff\">BatchNormalization</span>)            │                        │               │\n",
              "├─────────────────────────────────┼────────────────────────┼───────────────┤\n",
              "│ dropout_9 (<span style=\"color: #0087ff; text-decoration-color: #0087ff\">Dropout</span>)             │ (<span style=\"color: #00d7ff; text-decoration-color: #00d7ff\">None</span>, <span style=\"color: #00af00; text-decoration-color: #00af00\">64</span>)             │             <span style=\"color: #00af00; text-decoration-color: #00af00\">0</span> │\n",
              "├─────────────────────────────────┼────────────────────────┼───────────────┤\n",
              "│ dense_22 (<span style=\"color: #0087ff; text-decoration-color: #0087ff\">Dense</span>)                │ (<span style=\"color: #00d7ff; text-decoration-color: #00d7ff\">None</span>, <span style=\"color: #00af00; text-decoration-color: #00af00\">35</span>)             │         <span style=\"color: #00af00; text-decoration-color: #00af00\">2,275</span> │\n",
              "└─────────────────────────────────┴────────────────────────┴───────────────┘\n",
              "</pre>\n"
            ]
          },
          "metadata": {}
        },
        {
          "output_type": "display_data",
          "data": {
            "text/plain": [
              "\u001b[1m Total params: \u001b[0m\u001b[38;5;34m19,811\u001b[0m (77.39 KB)\n"
            ],
            "text/html": [
              "<pre style=\"white-space:pre;overflow-x:auto;line-height:normal;font-family:Menlo,'DejaVu Sans Mono',consolas,'Courier New',monospace\"><span style=\"font-weight: bold\"> Total params: </span><span style=\"color: #00af00; text-decoration-color: #00af00\">19,811</span> (77.39 KB)\n",
              "</pre>\n"
            ]
          },
          "metadata": {}
        },
        {
          "output_type": "display_data",
          "data": {
            "text/plain": [
              "\u001b[1m Trainable params: \u001b[0m\u001b[38;5;34m19,555\u001b[0m (76.39 KB)\n"
            ],
            "text/html": [
              "<pre style=\"white-space:pre;overflow-x:auto;line-height:normal;font-family:Menlo,'DejaVu Sans Mono',consolas,'Courier New',monospace\"><span style=\"font-weight: bold\"> Trainable params: </span><span style=\"color: #00af00; text-decoration-color: #00af00\">19,555</span> (76.39 KB)\n",
              "</pre>\n"
            ]
          },
          "metadata": {}
        },
        {
          "output_type": "display_data",
          "data": {
            "text/plain": [
              "\u001b[1m Non-trainable params: \u001b[0m\u001b[38;5;34m256\u001b[0m (1.00 KB)\n"
            ],
            "text/html": [
              "<pre style=\"white-space:pre;overflow-x:auto;line-height:normal;font-family:Menlo,'DejaVu Sans Mono',consolas,'Courier New',monospace\"><span style=\"font-weight: bold\"> Non-trainable params: </span><span style=\"color: #00af00; text-decoration-color: #00af00\">256</span> (1.00 KB)\n",
              "</pre>\n"
            ]
          },
          "metadata": {}
        }
      ]
    },
    {
      "cell_type": "code",
      "source": [
        "optimizer = keras.optimizers.Adam(learning_rate=1e-2)\n",
        "model_v0.compile(optimizer=optimizer, loss=keras.losses.MeanSquaredError(name=\"mean_squared_error\"),\n",
        "              metrics=[keras.metrics.RootMeanSquaredError(name=\"RMSE\")])"
      ],
      "metadata": {
        "id": "mW-iwuAx0BwV"
      },
      "execution_count": null,
      "outputs": []
    },
    {
      "cell_type": "markdown",
      "source": [
        "**FIT THE MODEL:**"
      ],
      "metadata": {
        "id": "OQk6ZTkHTkkX"
      }
    },
    {
      "cell_type": "code",
      "source": [
        "xtrain_numpy.shape"
      ],
      "metadata": {
        "id": "Ln7BppuBZzTH",
        "colab": {
          "base_uri": "https://localhost:8080/"
        },
        "outputId": "d5993b19-5111-4516-9d29-75e3c3e8aa68"
      },
      "execution_count": null,
      "outputs": [
        {
          "output_type": "execute_result",
          "data": {
            "text/plain": [
              "(294, 36, 1)"
            ]
          },
          "metadata": {},
          "execution_count": 101
        }
      ]
    },
    {
      "cell_type": "code",
      "source": [
        "# Fit the model\n",
        "model_v0.fit(xtrain_numpy,ytrain_numpy,\n",
        "              validation_split=0.2,\n",
        "              epochs=120,\n",
        "              batch_size=16,\n",
        "              callbacks=[keras.callbacks.ReduceLROnPlateau(patience=7, min_lr=0.00001, factor=0.5),\n",
        "                         keras.callbacks.EarlyStopping(patience=30, restore_best_weights=True, monitor=\"val_RMSE\",\n",
        "                                                        start_from_epoch=3, mode=\"min\")])"
      ],
      "metadata": {
        "colab": {
          "base_uri": "https://localhost:8080/"
        },
        "id": "pBkxjgN9nQmF",
        "outputId": "168d3294-cfbe-4fad-de98-2c1c7ad1b015"
      },
      "execution_count": null,
      "outputs": [
        {
          "output_type": "stream",
          "name": "stdout",
          "text": [
            "Epoch 1/120\n",
            "15/15 ━━━━━━━━━━━━━━━━━━━━ 1s 35ms/step - RMSE: 0.2485 - loss: 0.0679 - val_RMSE: 0.2299 - val_loss: 0.0588 - learning_rate: 1.0000e-05\n",
            "Epoch 2/120\n",
            "15/15 ━━━━━━━━━━━━━━━━━━━━ 0s 31ms/step - RMSE: 0.2662 - loss: 0.0771 - val_RMSE: 0.2106 - val_loss: 0.0503 - learning_rate: 1.0000e-05\n",
            "Epoch 3/120\n",
            "15/15 ━━━━━━━━━━━━━━━━━━━━ 0s 32ms/step - RMSE: 0.2743 - loss: 0.0814 - val_RMSE: 0.1914 - val_loss: 0.0425 - learning_rate: 1.0000e-05\n",
            "Epoch 4/120\n",
            "15/15 ━━━━━━━━━━━━━━━━━━━━ 1s 35ms/step - RMSE: 0.2660 - loss: 0.0771 - val_RMSE: 0.1797 - val_loss: 0.0382 - learning_rate: 1.0000e-05\n",
            "Epoch 5/120\n",
            "15/15 ━━━━━━━━━━━━━━━━━━━━ 1s 37ms/step - RMSE: 0.2708 - loss: 0.0802 - val_RMSE: 0.1717 - val_loss: 0.0354 - learning_rate: 1.0000e-05\n",
            "Epoch 6/120\n",
            "15/15 ━━━━━━━━━━━━━━━━━━━━ 1s 35ms/step - RMSE: 0.2626 - loss: 0.0761 - val_RMSE: 0.1678 - val_loss: 0.0341 - learning_rate: 1.0000e-05\n",
            "Epoch 7/120\n",
            "15/15 ━━━━━━━━━━━━━━━━━━━━ 1s 37ms/step - RMSE: 0.2672 - loss: 0.0779 - val_RMSE: 0.1665 - val_loss: 0.0336 - learning_rate: 1.0000e-05\n",
            "Epoch 8/120\n",
            "15/15 ━━━━━━━━━━━━━━━━━━━━ 1s 34ms/step - RMSE: 0.2136 - loss: 0.0520 - val_RMSE: 0.1670 - val_loss: 0.0338 - learning_rate: 1.0000e-05\n",
            "Epoch 9/120\n",
            "15/15 ━━━━━━━━━━━━━━━━━━━━ 1s 33ms/step - RMSE: 0.2353 - loss: 0.0626 - val_RMSE: 0.1687 - val_loss: 0.0344 - learning_rate: 1.0000e-05\n",
            "Epoch 10/120\n",
            "15/15 ━━━━━━━━━━━━━━━━━━━━ 0s 32ms/step - RMSE: 0.2246 - loss: 0.0568 - val_RMSE: 0.1715 - val_loss: 0.0353 - learning_rate: 1.0000e-05\n",
            "Epoch 11/120\n",
            "15/15 ━━━━━━━━━━━━━━━━━━━━ 0s 31ms/step - RMSE: 0.2140 - loss: 0.0529 - val_RMSE: 0.1751 - val_loss: 0.0366 - learning_rate: 1.0000e-05\n",
            "Epoch 12/120\n",
            "15/15 ━━━━━━━━━━━━━━━━━━━━ 0s 28ms/step - RMSE: 0.2336 - loss: 0.0609 - val_RMSE: 0.1771 - val_loss: 0.0373 - learning_rate: 1.0000e-05\n",
            "Epoch 13/120\n",
            "15/15 ━━━━━━━━━━━━━━━━━━━━ 0s 28ms/step - RMSE: 0.2771 - loss: 0.0830 - val_RMSE: 0.1805 - val_loss: 0.0385 - learning_rate: 1.0000e-05\n",
            "Epoch 14/120\n",
            "15/15 ━━━━━━━━━━━━━━━━━━━━ 0s 27ms/step - RMSE: 0.2729 - loss: 0.0807 - val_RMSE: 0.1863 - val_loss: 0.0406 - learning_rate: 1.0000e-05\n",
            "Epoch 15/120\n",
            "15/15 ━━━━━━━━━━━━━━━━━━━━ 0s 27ms/step - RMSE: 0.2278 - loss: 0.0581 - val_RMSE: 0.1901 - val_loss: 0.0420 - learning_rate: 1.0000e-05\n",
            "Epoch 16/120\n",
            "15/15 ━━━━━━━━━━━━━━━━━━━━ 0s 27ms/step - RMSE: 0.2300 - loss: 0.0606 - val_RMSE: 0.1913 - val_loss: 0.0425 - learning_rate: 1.0000e-05\n",
            "Epoch 17/120\n",
            "15/15 ━━━━━━━━━━━━━━━━━━━━ 0s 28ms/step - RMSE: 0.2232 - loss: 0.0571 - val_RMSE: 0.1928 - val_loss: 0.0430 - learning_rate: 1.0000e-05\n",
            "Epoch 18/120\n",
            "15/15 ━━━━━━━━━━━━━━━━━━━━ 0s 30ms/step - RMSE: 0.2397 - loss: 0.0635 - val_RMSE: 0.1929 - val_loss: 0.0431 - learning_rate: 1.0000e-05\n",
            "Epoch 19/120\n",
            "15/15 ━━━━━━━━━━━━━━━━━━━━ 0s 28ms/step - RMSE: 0.2430 - loss: 0.0671 - val_RMSE: 0.1961 - val_loss: 0.0443 - learning_rate: 1.0000e-05\n",
            "Epoch 20/120\n",
            "15/15 ━━━━━━━━━━━━━━━━━━━━ 0s 29ms/step - RMSE: 0.2259 - loss: 0.0589 - val_RMSE: 0.1980 - val_loss: 0.0451 - learning_rate: 1.0000e-05\n",
            "Epoch 21/120\n",
            "15/15 ━━━━━━━━━━━━━━━━━━━━ 0s 30ms/step - RMSE: 0.2475 - loss: 0.0680 - val_RMSE: 0.2003 - val_loss: 0.0460 - learning_rate: 1.0000e-05\n",
            "Epoch 22/120\n",
            "15/15 ━━━━━━━━━━━━━━━━━━━━ 0s 27ms/step - RMSE: 0.2375 - loss: 0.0629 - val_RMSE: 0.2028 - val_loss: 0.0470 - learning_rate: 1.0000e-05\n",
            "Epoch 23/120\n",
            "15/15 ━━━━━━━━━━━━━━━━━━━━ 0s 28ms/step - RMSE: 0.2797 - loss: 0.0844 - val_RMSE: 0.2057 - val_loss: 0.0482 - learning_rate: 1.0000e-05\n",
            "Epoch 24/120\n",
            "15/15 ━━━━━━━━━━━━━━━━━━━━ 0s 27ms/step - RMSE: 0.2315 - loss: 0.0603 - val_RMSE: 0.2067 - val_loss: 0.0486 - learning_rate: 1.0000e-05\n",
            "Epoch 25/120\n",
            "15/15 ━━━━━━━━━━━━━━━━━━━━ 0s 27ms/step - RMSE: 0.2654 - loss: 0.0771 - val_RMSE: 0.2095 - val_loss: 0.0497 - learning_rate: 1.0000e-05\n",
            "Epoch 26/120\n",
            "15/15 ━━━━━━━━━━━━━━━━━━━━ 0s 26ms/step - RMSE: 0.2407 - loss: 0.0649 - val_RMSE: 0.2156 - val_loss: 0.0523 - learning_rate: 1.0000e-05\n",
            "Epoch 27/120\n",
            "15/15 ━━━━━━━━━━━━━━━━━━━━ 0s 27ms/step - RMSE: 0.2417 - loss: 0.0648 - val_RMSE: 0.2150 - val_loss: 0.0521 - learning_rate: 1.0000e-05\n",
            "Epoch 28/120\n",
            "15/15 ━━━━━━━━━━━━━━━━━━━━ 0s 30ms/step - RMSE: 0.2579 - loss: 0.0732 - val_RMSE: 0.2142 - val_loss: 0.0517 - learning_rate: 1.0000e-05\n",
            "Epoch 29/120\n",
            "15/15 ━━━━━━━━━━━━━━━━━━━━ 0s 30ms/step - RMSE: 0.2317 - loss: 0.0601 - val_RMSE: 0.2134 - val_loss: 0.0514 - learning_rate: 1.0000e-05\n",
            "Epoch 30/120\n",
            "15/15 ━━━━━━━━━━━━━━━━━━━━ 0s 29ms/step - RMSE: 0.2217 - loss: 0.0555 - val_RMSE: 0.2136 - val_loss: 0.0515 - learning_rate: 1.0000e-05\n",
            "Epoch 31/120\n",
            "15/15 ━━━━━━━━━━━━━━━━━━━━ 0s 29ms/step - RMSE: 0.2627 - loss: 0.0752 - val_RMSE: 0.2135 - val_loss: 0.0514 - learning_rate: 1.0000e-05\n",
            "Epoch 32/120\n",
            "15/15 ━━━━━━━━━━━━━━━━━━━━ 0s 27ms/step - RMSE: 0.2162 - loss: 0.0530 - val_RMSE: 0.2089 - val_loss: 0.0494 - learning_rate: 1.0000e-05\n",
            "Epoch 33/120\n",
            "15/15 ━━━━━━━━━━━━━━━━━━━━ 0s 27ms/step - RMSE: 0.2583 - loss: 0.0737 - val_RMSE: 0.2081 - val_loss: 0.0491 - learning_rate: 1.0000e-05\n",
            "Epoch 34/120\n",
            "15/15 ━━━━━━━━━━━━━━━━━━━━ 0s 28ms/step - RMSE: 0.3106 - loss: 0.1034 - val_RMSE: 0.2066 - val_loss: 0.0485 - learning_rate: 1.0000e-05\n",
            "Epoch 35/120\n",
            "15/15 ━━━━━━━━━━━━━━━━━━━━ 0s 30ms/step - RMSE: 0.2519 - loss: 0.0698 - val_RMSE: 0.2061 - val_loss: 0.0483 - learning_rate: 1.0000e-05\n",
            "Epoch 36/120\n",
            "15/15 ━━━━━━━━━━━━━━━━━━━━ 0s 28ms/step - RMSE: 0.2340 - loss: 0.0613 - val_RMSE: 0.2058 - val_loss: 0.0482 - learning_rate: 1.0000e-05\n",
            "Epoch 37/120\n",
            "15/15 ━━━━━━━━━━━━━━━━━━━━ 0s 26ms/step - RMSE: 0.2146 - loss: 0.0526 - val_RMSE: 0.2039 - val_loss: 0.0474 - learning_rate: 1.0000e-05\n"
          ]
        },
        {
          "output_type": "execute_result",
          "data": {
            "text/plain": [
              "<keras.src.callbacks.history.History at 0x7eeeda0b2510>"
            ]
          },
          "metadata": {},
          "execution_count": 154
        }
      ]
    },
    {
      "cell_type": "code",
      "source": [
        "# Fit the model\n",
        "model_v0.fit(xtrain_numpy[:280,],ytrain_numpy[:280],\n",
        "              validation_data=[xtrain_numpy[280:,],ytrain_numpy[280:]],\n",
        "              epochs=211,\n",
        "              batch_size=16,\n",
        "              callbacks=[keras.callbacks.ReduceLROnPlateau(patience=5, min_lr=0.00001, factor=0.5),\n",
        "                         keras.callbacks.EarlyStopping(patience=30, restore_best_weights=True, monitor=\"val_RMSE\",\n",
        "                                                        start_from_epoch=3, mode=\"min\")])"
      ],
      "metadata": {
        "id": "6O-Ghi-uS238",
        "colab": {
          "base_uri": "https://localhost:8080/"
        },
        "outputId": "ebd2af60-0240-42f6-9018-3a34dde8f42b"
      },
      "execution_count": null,
      "outputs": [
        {
          "output_type": "stream",
          "name": "stdout",
          "text": [
            "Epoch 1/211\n",
            "18/18 ━━━━━━━━━━━━━━━━━━━━ 3s 51ms/step - RMSE: 0.2966 - loss: 0.0941 - val_RMSE: 0.2743 - val_loss: 0.0812 - learning_rate: 1.0000e-05\n",
            "Epoch 2/211\n",
            "18/18 ━━━━━━━━━━━━━━━━━━━━ 0s 24ms/step - RMSE: 0.3050 - loss: 0.0992 - val_RMSE: 0.2971 - val_loss: 0.0942 - learning_rate: 1.0000e-05\n",
            "Epoch 3/211\n",
            "18/18 ━━━━━━━━━━━━━━━━━━━━ 0s 25ms/step - RMSE: 0.3141 - loss: 0.1049 - val_RMSE: 0.3188 - val_loss: 0.1076 - learning_rate: 1.0000e-05\n",
            "Epoch 4/211\n",
            "18/18 ━━━━━━━━━━━━━━━━━━━━ 0s 25ms/step - RMSE: 0.3061 - loss: 0.0997 - val_RMSE: 0.3452 - val_loss: 0.1251 - learning_rate: 1.0000e-05\n",
            "Epoch 5/211\n",
            "18/18 ━━━━━━━━━━━━━━━━━━━━ 0s 26ms/step - RMSE: 0.3321 - loss: 0.1169 - val_RMSE: 0.3618 - val_loss: 0.1368 - learning_rate: 1.0000e-05\n",
            "Epoch 6/211\n",
            "18/18 ━━━━━━━━━━━━━━━━━━━━ 1s 30ms/step - RMSE: 0.3209 - loss: 0.1100 - val_RMSE: 0.3768 - val_loss: 0.1479 - learning_rate: 1.0000e-05\n",
            "Epoch 7/211\n",
            "18/18 ━━━━━━━━━━━━━━━━━━━━ 1s 31ms/step - RMSE: 0.3014 - loss: 0.0976 - val_RMSE: 0.3872 - val_loss: 0.1559 - learning_rate: 1.0000e-05\n",
            "Epoch 8/211\n",
            "18/18 ━━━━━━━━━━━━━━━━━━━━ 1s 32ms/step - RMSE: 0.3008 - loss: 0.0967 - val_RMSE: 0.3928 - val_loss: 0.1602 - learning_rate: 1.0000e-05\n",
            "Epoch 9/211\n",
            "18/18 ━━━━━━━━━━━━━━━━━━━━ 1s 32ms/step - RMSE: 0.2954 - loss: 0.0936 - val_RMSE: 0.4063 - val_loss: 0.1710 - learning_rate: 1.0000e-05\n",
            "Epoch 10/211\n",
            "18/18 ━━━━━━━━━━━━━━━━━━━━ 1s 34ms/step - RMSE: 0.3051 - loss: 0.1003 - val_RMSE: 0.4134 - val_loss: 0.1769 - learning_rate: 1.0000e-05\n",
            "Epoch 11/211\n",
            "18/18 ━━━━━━━━━━━━━━━━━━━━ 1s 28ms/step - RMSE: 0.3329 - loss: 0.1171 - val_RMSE: 0.4221 - val_loss: 0.1841 - learning_rate: 1.0000e-05\n",
            "Epoch 12/211\n",
            "18/18 ━━━━━━━━━━━━━━━━━━━━ 1s 27ms/step - RMSE: 0.3097 - loss: 0.1021 - val_RMSE: 0.4230 - val_loss: 0.1849 - learning_rate: 1.0000e-05\n",
            "Epoch 13/211\n",
            "18/18 ━━━━━━━━━━━━━━━━━━━━ 1s 28ms/step - RMSE: 0.3317 - loss: 0.1161 - val_RMSE: 0.4321 - val_loss: 0.1926 - learning_rate: 1.0000e-05\n",
            "Epoch 14/211\n",
            "18/18 ━━━━━━━━━━━━━━━━━━━━ 1s 29ms/step - RMSE: 0.3064 - loss: 0.0999 - val_RMSE: 0.4377 - val_loss: 0.1975 - learning_rate: 1.0000e-05\n",
            "Epoch 15/211\n",
            "18/18 ━━━━━━━━━━━━━━━━━━━━ 1s 30ms/step - RMSE: 0.2880 - loss: 0.0894 - val_RMSE: 0.4441 - val_loss: 0.2031 - learning_rate: 1.0000e-05\n",
            "Epoch 16/211\n",
            "18/18 ━━━━━━━━━━━━━━━━━━━━ 1s 29ms/step - RMSE: 0.3102 - loss: 0.1027 - val_RMSE: 0.4461 - val_loss: 0.2050 - learning_rate: 1.0000e-05\n",
            "Epoch 17/211\n",
            "18/18 ━━━━━━━━━━━━━━━━━━━━ 1s 27ms/step - RMSE: 0.3146 - loss: 0.1053 - val_RMSE: 0.4484 - val_loss: 0.2070 - learning_rate: 1.0000e-05\n",
            "Epoch 18/211\n",
            "18/18 ━━━━━━━━━━━━━━━━━━━━ 1s 29ms/step - RMSE: 0.3238 - loss: 0.1116 - val_RMSE: 0.4429 - val_loss: 0.2021 - learning_rate: 1.0000e-05\n",
            "Epoch 19/211\n",
            "18/18 ━━━━━━━━━━━━━━━━━━━━ 1s 27ms/step - RMSE: 0.3472 - loss: 0.1267 - val_RMSE: 0.4373 - val_loss: 0.1971 - learning_rate: 1.0000e-05\n",
            "Epoch 20/211\n",
            "18/18 ━━━━━━━━━━━━━━━━━━━━ 1s 27ms/step - RMSE: 0.3187 - loss: 0.1086 - val_RMSE: 0.4440 - val_loss: 0.2030 - learning_rate: 1.0000e-05\n",
            "Epoch 21/211\n",
            "18/18 ━━━━━━━━━━━━━━━━━━━━ 0s 27ms/step - RMSE: 0.3061 - loss: 0.0998 - val_RMSE: 0.4378 - val_loss: 0.1976 - learning_rate: 1.0000e-05\n",
            "Epoch 22/211\n",
            "18/18 ━━━━━━━━━━━━━━━━━━━━ 1s 27ms/step - RMSE: 0.2980 - loss: 0.0952 - val_RMSE: 0.4427 - val_loss: 0.2018 - learning_rate: 1.0000e-05\n",
            "Epoch 23/211\n",
            "18/18 ━━━━━━━━━━━━━━━━━━━━ 1s 27ms/step - RMSE: 0.2949 - loss: 0.0930 - val_RMSE: 0.4478 - val_loss: 0.2064 - learning_rate: 1.0000e-05\n",
            "Epoch 24/211\n",
            "18/18 ━━━━━━━━━━━━━━━━━━━━ 1s 28ms/step - RMSE: 0.3534 - loss: 0.1310 - val_RMSE: 0.4420 - val_loss: 0.2012 - learning_rate: 1.0000e-05\n",
            "Epoch 25/211\n",
            "18/18 ━━━━━━━━━━━━━━━━━━━━ 1s 30ms/step - RMSE: 0.3127 - loss: 0.1040 - val_RMSE: 0.4369 - val_loss: 0.1968 - learning_rate: 1.0000e-05\n",
            "Epoch 26/211\n",
            "18/18 ━━━━━━━━━━━━━━━━━━━━ 1s 27ms/step - RMSE: 0.2922 - loss: 0.0925 - val_RMSE: 0.4372 - val_loss: 0.1970 - learning_rate: 1.0000e-05\n",
            "Epoch 27/211\n",
            "18/18 ━━━━━━━━━━━━━━━━━━━━ 0s 26ms/step - RMSE: 0.3037 - loss: 0.0986 - val_RMSE: 0.4330 - val_loss: 0.1933 - learning_rate: 1.0000e-05\n",
            "Epoch 28/211\n",
            "18/18 ━━━━━━━━━━━━━━━━━━━━ 0s 26ms/step - RMSE: 0.2643 - loss: 0.0764 - val_RMSE: 0.4368 - val_loss: 0.1966 - learning_rate: 1.0000e-05\n",
            "Epoch 29/211\n",
            "18/18 ━━━━━━━━━━━━━━━━━━━━ 0s 25ms/step - RMSE: 0.3054 - loss: 0.0993 - val_RMSE: 0.4352 - val_loss: 0.1953 - learning_rate: 1.0000e-05\n",
            "Epoch 30/211\n",
            "18/18 ━━━━━━━━━━━━━━━━━━━━ 0s 27ms/step - RMSE: 0.2834 - loss: 0.0865 - val_RMSE: 0.4379 - val_loss: 0.1976 - learning_rate: 1.0000e-05\n",
            "Epoch 31/211\n",
            "18/18 ━━━━━━━━━━━━━━━━━━━━ 1s 28ms/step - RMSE: 0.3218 - loss: 0.1096 - val_RMSE: 0.4352 - val_loss: 0.1953 - learning_rate: 1.0000e-05\n",
            "Epoch 32/211\n",
            "18/18 ━━━━━━━━━━━━━━━━━━━━ 0s 26ms/step - RMSE: 0.3213 - loss: 0.1093 - val_RMSE: 0.4340 - val_loss: 0.1943 - learning_rate: 1.0000e-05\n",
            "Epoch 33/211\n",
            "18/18 ━━━━━━━━━━━━━━━━━━━━ 1s 27ms/step - RMSE: 0.2797 - loss: 0.0843 - val_RMSE: 0.4374 - val_loss: 0.1972 - learning_rate: 1.0000e-05\n",
            "Epoch 34/211\n",
            "18/18 ━━━━━━━━━━━━━━━━━━━━ 1s 27ms/step - RMSE: 0.3302 - loss: 0.1150 - val_RMSE: 0.4311 - val_loss: 0.1917 - learning_rate: 1.0000e-05\n"
          ]
        },
        {
          "output_type": "execute_result",
          "data": {
            "text/plain": [
              "<keras.src.callbacks.history.History at 0x7eeed9a28490>"
            ]
          },
          "metadata": {},
          "execution_count": 148
        }
      ]
    },
    {
      "cell_type": "code",
      "source": [
        "path = \"/content/drive/MyDrive/Medium\"\n",
        "#model_v0.save(path+'/location.keras')\n",
        "#model_v0 = keras.models.load_model(path+'/location.keras')\n",
        "\n",
        "model_v0.save(path+'/location_v0.keras')\n",
        "model_v0 = keras.models.load_model(path+'/location_v0.keras')"
      ],
      "metadata": {
        "id": "1fjxHiFeoO-K"
      },
      "execution_count": null,
      "outputs": []
    },
    {
      "cell_type": "code",
      "source": [
        "lstm_pred = model_v0.predict(xtest_numpy)\n",
        "\n",
        "lstm_pred = (lstm_pred*std_val) + mean_val"
      ],
      "metadata": {
        "id": "AX3_TJhJS2yK",
        "colab": {
          "base_uri": "https://localhost:8080/"
        },
        "outputId": "db3513b5-bd66-4baf-bfb5-1f9454d0cd65"
      },
      "execution_count": null,
      "outputs": [
        {
          "output_type": "stream",
          "name": "stdout",
          "text": [
            "1/1 ━━━━━━━━━━━━━━━━━━━━ 0s 50ms/step\n"
          ]
        }
      ]
    },
    {
      "cell_type": "code",
      "source": [
        "lstm_pred"
      ],
      "metadata": {
        "id": "59G3WH6PS2s6",
        "colab": {
          "base_uri": "https://localhost:8080/"
        },
        "outputId": "14f58709-db79-44d2-a493-bbd392a93024"
      },
      "execution_count": null,
      "outputs": [
        {
          "output_type": "execute_result",
          "data": {
            "text/plain": [
              "array([[631736.45954731, 633751.41267231, 640388.44392231,\n",
              "        635411.08454731, 651783.19392231, 649525.16267231,\n",
              "        657254.56892231, 655275.81892231, 656482.75642231,\n",
              "        655415.72517231, 666571.16267231, 672668.56892231,\n",
              "        676508.35017231, 680859.41267231, 675323.28767231,\n",
              "        679496.19392231, 692323.28767231, 695126.28767231,\n",
              "        692256.66267231, 697370.13142231, 699360.75642231,\n",
              "        707691.60017231, 706990.31892231, 708222.13142231,\n",
              "        698223.19392231, 713043.10017231, 709782.97517231,\n",
              "        714752.16267231, 709849.88142231, 714159.75642231,\n",
              "        708301.38142231, 719320.31892231, 714287.94392231,\n",
              "        715382.41267231, 722712.85017231]])"
            ]
          },
          "metadata": {},
          "execution_count": 156
        }
      ]
    },
    {
      "cell_type": "code",
      "source": [
        "lstm_test_stor = (xtest_numpy*std_val) + mean_val\n",
        "\n",
        "lstm_test_stor"
      ],
      "metadata": {
        "id": "Je2bqdejXVwi",
        "colab": {
          "base_uri": "https://localhost:8080/"
        },
        "outputId": "1b93cf3a-f907-4f2d-c4c9-8cff724c6ae2"
      },
      "execution_count": null,
      "outputs": [
        {
          "output_type": "execute_result",
          "data": {
            "text/plain": [
              "array([[[504741.],\n",
              "        [505251.],\n",
              "        [509091.],\n",
              "        [512561.],\n",
              "        [509282.],\n",
              "        [510648.],\n",
              "        [514215.],\n",
              "        [515866.],\n",
              "        [515119.],\n",
              "        [515330.],\n",
              "        [468324.],\n",
              "        [401028.],\n",
              "        [478449.],\n",
              "        [518038.],\n",
              "        [526304.],\n",
              "        [530735.],\n",
              "        [541302.],\n",
              "        [539114.],\n",
              "        [533941.],\n",
              "        [538548.],\n",
              "        [559230.],\n",
              "        [544891.],\n",
              "        [603581.],\n",
              "        [608961.],\n",
              "        [605282.],\n",
              "        [611950.],\n",
              "        [601817.],\n",
              "        [605533.],\n",
              "        [609671.],\n",
              "        [618573.],\n",
              "        [624874.],\n",
              "        [619938.],\n",
              "        [631509.],\n",
              "        [638101.],\n",
              "        [651027.],\n",
              "        [660194.]]])"
            ]
          },
          "metadata": {},
          "execution_count": 157
        }
      ]
    },
    {
      "cell_type": "code",
      "source": [
        "pred_lstm = pd.Series(lstm_pred.flatten(), index=test_raw.index)"
      ],
      "metadata": {
        "id": "g1HndmDzVdxf"
      },
      "execution_count": null,
      "outputs": []
    },
    {
      "cell_type": "code",
      "source": [
        "plt.plot(train_raw[-50:], color=\"royalblue\")\n",
        "plt.plot(test_raw, color=\"royalblue\", linestyle=\"dashed\")\n",
        "plt.plot(pred_lstm, color=\"salmon\")\n",
        "\n",
        "plt.show()"
      ],
      "metadata": {
        "id": "BPYFGCwrS2qE",
        "colab": {
          "base_uri": "https://localhost:8080/",
          "height": 509
        },
        "outputId": "a66c81a0-6d5d-4b0e-a380-2e31b58ea31d"
      },
      "execution_count": null,
      "outputs": [
        {
          "output_type": "display_data",
          "data": {
            "text/plain": [
              "<Figure size 768x576 with 1 Axes>"
            ],
            "image/png": "[encoded data removed]"
          },
          "metadata": {}
        }
      ]
    },
    {
      "cell_type": "code",
      "source": [
        "df_results = store_results(df_results, test_raw, pred_lstm, model_name=\"LSTM\")\n",
        "df_results"
      ],
      "metadata": {
        "id": "_5HFm-2gS2nL",
        "colab": {
          "base_uri": "https://localhost:8080/",
          "height": 125
        },
        "outputId": "328dd9dd-cd7f-4219-f1df-f6fee7b9cd03"
      },
      "execution_count": null,
      "outputs": [
        {
          "output_type": "execute_result",
          "data": {
            "text/plain": [
              "           RMSE       MAE    MAPE\n",
              "ARIMA  31839.35  29438.18  0.0427\n",
              "LSTM   14466.86  11263.21  0.0166"
            ],
            "text/html": [
              "\n",
              "  <div id=\"df-040c3962-0cf5-430c-b266-2781299a7dc6\" class=\"colab-df-container\">\n",
              "    <div>\n",
              "<style scoped>\n",
              "    .dataframe tbody tr th:only-of-type {\n",
              "        vertical-align: middle;\n",
              "    }\n",
              "\n",
              "    .dataframe tbody tr th {\n",
              "        vertical-align: top;\n",
              "    }\n",
              "\n",
              "    .dataframe thead th {\n",
              "        text-align: right;\n",
              "    }\n",
              "</style>\n",
              "<table border=\"1\" class=\"dataframe\">\n",
              "  <thead>\n",
              "    <tr style=\"text-align: right;\">\n",
              "      <th></th>\n",
              "      <th>RMSE</th>\n",
              "      <th>MAE</th>\n",
              "      <th>MAPE</th>\n",
              "    </tr>\n",
              "  </thead>\n",
              "  <tbody>\n",
              "    <tr>\n",
              "      <th>ARIMA</th>\n",
              "      <td>31839.35</td>\n",
              "      <td>29438.18</td>\n",
              "      <td>0.0427</td>\n",
              "    </tr>\n",
              "    <tr>\n",
              "      <th>LSTM</th>\n",
              "      <td>14466.86</td>\n",
              "      <td>11263.21</td>\n",
              "      <td>0.0166</td>\n",
              "    </tr>\n",
              "  </tbody>\n",
              "</table>\n",
              "</div>\n",
              "    <div class=\"colab-df-buttons\">\n",
              "\n",
              "  <div class=\"colab-df-container\">\n",
              "    <button class=\"colab-df-convert\" onclick=\"convertToInteractive('df-040c3962-0cf5-430c-b266-2781299a7dc6')\"\n",
              "            title=\"Convert this dataframe to an interactive table.\"\n",
              "            style=\"display:none;\">\n",
              "\n",
              "  <svg xmlns=\"http://www.w3.org/2000/svg\" height=\"24px\" viewBox=\"0 -960 960 960\">\n",
              "    <path d=\"M120-120v-720h720v720H120Zm60-500h600v-160H180v160Zm220 220h160v-160H400v160Zm0 220h160v-160H400v160ZM180-400h160v-160H180v160Zm440 0h160v-160H620v160ZM180-180h160v-160H180v160Zm440 0h160v-160H620v160Z\"/>\n",
              "  </svg>\n",
              "    </button>\n",
              "\n",
              "  <style>\n",
              "    .colab-df-container {\n",
              "      display:flex;\n",
              "      gap: 12px;\n",
              "    }\n",
              "\n",
              "    .colab-df-convert {\n",
              "      background-color: #E8F0FE;\n",
              "      border: none;\n",
              "      border-radius: 50%;\n",
              "      cursor: pointer;\n",
              "      display: none;\n",
              "      fill: #1967D2;\n",
              "      height: 32px;\n",
              "      padding: 0 0 0 0;\n",
              "      width: 32px;\n",
              "    }\n",
              "\n",
              "    .colab-df-convert:hover {\n",
              "      background-color: #E2EBFA;\n",
              "      box-shadow: 0px 1px 2px rgba(60, 64, 67, 0.3), 0px 1px 3px 1px rgba(60, 64, 67, 0.15);\n",
              "      fill: #174EA6;\n",
              "    }\n",
              "\n",
              "    .colab-df-buttons div {\n",
              "      margin-bottom: 4px;\n",
              "    }\n",
              "\n",
              "    [theme=dark] .colab-df-convert {\n",
              "      background-color: #3B4455;\n",
              "      fill: #D2E3FC;\n",
              "    }\n",
              "\n",
              "    [theme=dark] .colab-df-convert:hover {\n",
              "      background-color: #434B5C;\n",
              "      box-shadow: 0px 1px 3px 1px rgba(0, 0, 0, 0.15);\n",
              "      filter: drop-shadow(0px 1px 2px rgba(0, 0, 0, 0.3));\n",
              "      fill: #FFFFFF;\n",
              "    }\n",
              "  </style>\n",
              "\n",
              "    <script>\n",
              "      const buttonEl =\n",
              "        document.querySelector('#df-040c3962-0cf5-430c-b266-2781299a7dc6 button.colab-df-convert');\n",
              "      buttonEl.style.display =\n",
              "        google.colab.kernel.accessAllowed ? 'block' : 'none';\n",
              "\n",
              "      async function convertToInteractive(key) {\n",
              "        const element = document.querySelector('#df-040c3962-0cf5-430c-b266-2781299a7dc6');\n",
              "        const dataTable =\n",
              "          await google.colab.kernel.invokeFunction('convertToInteractive',\n",
              "                                                    [key], {});\n",
              "        if (!dataTable) return;\n",
              "\n",
              "        const docLinkHtml = 'Like what you see? Visit the ' +\n",
              "          '<a target=\"_blank\" href=https://colab.research.google.com/notebooks/data_table.ipynb>data table notebook</a>'\n",
              "          + ' to learn more about interactive tables.';\n",
              "        element.innerHTML = '';\n",
              "        dataTable['output_type'] = 'display_data';\n",
              "        await google.colab.output.renderOutput(dataTable, element);\n",
              "        const docLink = document.createElement('div');\n",
              "        docLink.innerHTML = docLinkHtml;\n",
              "        element.appendChild(docLink);\n",
              "      }\n",
              "    </script>\n",
              "  </div>\n",
              "\n",
              "\n",
              "    <div id=\"df-0ffc6277-13ff-413b-a6e8-2f6fba8509f2\">\n",
              "      <button class=\"colab-df-quickchart\" onclick=\"quickchart('df-0ffc6277-13ff-413b-a6e8-2f6fba8509f2')\"\n",
              "                title=\"Suggest charts\"\n",
              "                style=\"display:none;\">\n",
              "\n",
              "<svg xmlns=\"http://www.w3.org/2000/svg\" height=\"24px\"viewBox=\"0 0 24 24\"\n",
              "     width=\"24px\">\n",
              "    <g>\n",
              "        <path d=\"M19 3H5c-1.1 0-2 .9-2 2v14c0 1.1.9 2 2 2h14c1.1 0 2-.9 2-2V5c0-1.1-.9-2-2-2zM9 17H7v-7h2v7zm4 0h-2V7h2v10zm4 0h-2v-4h2v4z\"/>\n",
              "    </g>\n",
              "</svg>\n",
              "      </button>\n",
              "\n",
              "<style>\n",
              "  .colab-df-quickchart {\n",
              "      --bg-color: #E8F0FE;\n",
              "      --fill-color: #1967D2;\n",
              "      --hover-bg-color: #E2EBFA;\n",
              "      --hover-fill-color: #174EA6;\n",
              "      --disabled-fill-color: #AAA;\n",
              "      --disabled-bg-color: #DDD;\n",
              "  }\n",
              "\n",
              "  [theme=dark] .colab-df-quickchart {\n",
              "      --bg-color: #3B4455;\n",
              "      --fill-color: #D2E3FC;\n",
              "      --hover-bg-color: #434B5C;\n",
              "      --hover-fill-color: #FFFFFF;\n",
              "      --disabled-bg-color: #3B4455;\n",
              "      --disabled-fill-color: #666;\n",
              "  }\n",
              "\n",
              "  .colab-df-quickchart {\n",
              "    background-color: var(--bg-color);\n",
              "    border: none;\n",
              "    border-radius: 50%;\n",
              "    cursor: pointer;\n",
              "    display: none;\n",
              "    fill: var(--fill-color);\n",
              "    height: 32px;\n",
              "    padding: 0;\n",
              "    width: 32px;\n",
              "  }\n",
              "\n",
              "  .colab-df-quickchart:hover {\n",
              "    background-color: var(--hover-bg-color);\n",
              "    box-shadow: 0 1px 2px rgba(60, 64, 67, 0.3), 0 1px 3px 1px rgba(60, 64, 67, 0.15);\n",
              "    fill: var(--button-hover-fill-color);\n",
              "  }\n",
              "\n",
              "  .colab-df-quickchart-complete:disabled,\n",
              "  .colab-df-quickchart-complete:disabled:hover {\n",
              "    background-color: var(--disabled-bg-color);\n",
              "    fill: var(--disabled-fill-color);\n",
              "    box-shadow: none;\n",
              "  }\n",
              "\n",
              "  .colab-df-spinner {\n",
              "    border: 2px solid var(--fill-color);\n",
              "    border-color: transparent;\n",
              "    border-bottom-color: var(--fill-color);\n",
              "    animation:\n",
              "      spin 1s steps(1) infinite;\n",
              "  }\n",
              "\n",
              "  @keyframes spin {\n",
              "    0% {\n",
              "      border-color: transparent;\n",
              "      border-bottom-color: var(--fill-color);\n",
              "      border-left-color: var(--fill-color);\n",
              "    }\n",
              "    20% {\n",
              "      border-color: transparent;\n",
              "      border-left-color: var(--fill-color);\n",
              "      border-top-color: var(--fill-color);\n",
              "    }\n",
              "    30% {\n",
              "      border-color: transparent;\n",
              "      border-left-color: var(--fill-color);\n",
              "      border-top-color: var(--fill-color);\n",
              "      border-right-color: var(--fill-color);\n",
              "    }\n",
              "    40% {\n",
              "      border-color: transparent;\n",
              "      border-right-color: var(--fill-color);\n",
              "      border-top-color: var(--fill-color);\n",
              "    }\n",
              "    60% {\n",
              "      border-color: transparent;\n",
              "      border-right-color: var(--fill-color);\n",
              "    }\n",
              "    80% {\n",
              "      border-color: transparent;\n",
              "      border-right-color: var(--fill-color);\n",
              "      border-bottom-color: var(--fill-color);\n",
              "    }\n",
              "    90% {\n",
              "      border-color: transparent;\n",
              "      border-bottom-color: var(--fill-color);\n",
              "    }\n",
              "  }\n",
              "</style>\n",
              "\n",
              "      <script>\n",
              "        async function quickchart(key) {\n",
              "          const quickchartButtonEl =\n",
              "            document.querySelector('#' + key + ' button');\n",
              "          quickchartButtonEl.disabled = true;  // To prevent multiple clicks.\n",
              "          quickchartButtonEl.classList.add('colab-df-spinner');\n",
              "          try {\n",
              "            const charts = await google.colab.kernel.invokeFunction(\n",
              "                'suggestCharts', [key], {});\n",
              "          } catch (error) {\n",
              "            console.error('Error during call to suggestCharts:', error);\n",
              "          }\n",
              "          quickchartButtonEl.classList.remove('colab-df-spinner');\n",
              "          quickchartButtonEl.classList.add('colab-df-quickchart-complete');\n",
              "        }\n",
              "        (() => {\n",
              "          let quickchartButtonEl =\n",
              "            document.querySelector('#df-0ffc6277-13ff-413b-a6e8-2f6fba8509f2 button');\n",
              "          quickchartButtonEl.style.display =\n",
              "            google.colab.kernel.accessAllowed ? 'block' : 'none';\n",
              "        })();\n",
              "      </script>\n",
              "    </div>\n",
              "\n",
              "  <div id=\"id_39e8bc92-dbe7-4f7e-b2c7-9196100d86d0\">\n",
              "    <style>\n",
              "      .colab-df-generate {\n",
              "        background-color: #E8F0FE;\n",
              "        border: none;\n",
              "        border-radius: 50%;\n",
              "        cursor: pointer;\n",
              "        display: none;\n",
              "        fill: #1967D2;\n",
              "        height: 32px;\n",
              "        padding: 0 0 0 0;\n",
              "        width: 32px;\n",
              "      }\n",
              "\n",
              "      .colab-df-generate:hover {\n",
              "        background-color: #E2EBFA;\n",
              "        box-shadow: 0px 1px 2px rgba(60, 64, 67, 0.3), 0px 1px 3px 1px rgba(60, 64, 67, 0.15);\n",
              "        fill: #174EA6;\n",
              "      }\n",
              "\n",
              "      [theme=dark] .colab-df-generate {\n",
              "        background-color: #3B4455;\n",
              "        fill: #D2E3FC;\n",
              "      }\n",
              "\n",
              "      [theme=dark] .colab-df-generate:hover {\n",
              "        background-color: #434B5C;\n",
              "        box-shadow: 0px 1px 3px 1px rgba(0, 0, 0, 0.15);\n",
              "        filter: drop-shadow(0px 1px 2px rgba(0, 0, 0, 0.3));\n",
              "        fill: #FFFFFF;\n",
              "      }\n",
              "    </style>\n",
              "    <button class=\"colab-df-generate\" onclick=\"generateWithVariable('df_results')\"\n",
              "            title=\"Generate code using this dataframe.\"\n",
              "            style=\"display:none;\">\n",
              "\n",
              "  <svg xmlns=\"http://www.w3.org/2000/svg\" height=\"24px\"viewBox=\"0 0 24 24\"\n",
              "       width=\"24px\">\n",
              "    <path d=\"M7,19H8.4L18.45,9,17,7.55,7,17.6ZM5,21V16.75L18.45,3.32a2,2,0,0,1,2.83,0l1.4,1.43a1.91,1.91,0,0,1,.58,1.4,1.91,1.91,0,0,1-.58,1.4L9.25,21ZM18.45,9,17,7.55Zm-12,3A5.31,5.31,0,0,0,4.9,8.1,5.31,5.31,0,0,0,1,6.5,5.31,5.31,0,0,0,4.9,4.9,5.31,5.31,0,0,0,6.5,1,5.31,5.31,0,0,0,8.1,4.9,5.31,5.31,0,0,0,12,6.5,5.46,5.46,0,0,0,6.5,12Z\"/>\n",
              "  </svg>\n",
              "    </button>\n",
              "    <script>\n",
              "      (() => {\n",
              "      const buttonEl =\n",
              "        document.querySelector('#id_39e8bc92-dbe7-4f7e-b2c7-9196100d86d0 button.colab-df-generate');\n",
              "      buttonEl.style.display =\n",
              "        google.colab.kernel.accessAllowed ? 'block' : 'none';\n",
              "\n",
              "      buttonEl.onclick = () => {\n",
              "        google.colab.notebook.generateWithVariable('df_results');\n",
              "      }\n",
              "      })();\n",
              "    </script>\n",
              "  </div>\n",
              "\n",
              "    </div>\n",
              "  </div>\n"
            ],
            "application/vnd.google.colaboratory.intrinsic+json": {
              "type": "dataframe",
              "variable_name": "df_results",
              "summary": "{\n  \"name\": \"df_results\",\n  \"rows\": 2,\n  \"fields\": [\n    {\n      \"column\": \"RMSE\",\n      \"properties\": {\n        \"dtype\": \"date\",\n        \"min\": 14466.86,\n        \"max\": 31839.35,\n        \"num_unique_values\": 2,\n        \"samples\": [\n          14466.86,\n          31839.35\n        ],\n        \"semantic_type\": \"\",\n        \"description\": \"\"\n      }\n    },\n    {\n      \"column\": \"MAE\",\n      \"properties\": {\n        \"dtype\": \"date\",\n        \"min\": 11263.21,\n        \"max\": 29438.18,\n        \"num_unique_values\": 2,\n        \"samples\": [\n          11263.21,\n          29438.18\n        ],\n        \"semantic_type\": \"\",\n        \"description\": \"\"\n      }\n    },\n    {\n      \"column\": \"MAPE\",\n      \"properties\": {\n        \"dtype\": \"date\",\n        \"min\": 0.0166,\n        \"max\": 0.0427,\n        \"num_unique_values\": 2,\n        \"samples\": [\n          0.0166,\n          0.0427\n        ],\n        \"semantic_type\": \"\",\n        \"description\": \"\"\n      }\n    }\n  ]\n}"
            }
          },
          "metadata": {},
          "execution_count": 160
        }
      ]
    },
    {
      "cell_type": "code",
      "source": [
        "# Fit the model\n",
        "sample_=100\n",
        "lstm_pred_exp0 = model_v0.predict(xtrain_numpy[sample_,].reshape(1,36,1))\n",
        "\n",
        "lstm_pred_exp0 = (lstm_pred_exp0*std_val) + mean_val"
      ],
      "metadata": {
        "id": "PR6atgJ1S2kQ",
        "colab": {
          "base_uri": "https://localhost:8080/"
        },
        "outputId": "45b5b1c5-429b-406b-87e3-87bfa6a2433c"
      },
      "execution_count": null,
      "outputs": [
        {
          "output_type": "stream",
          "name": "stdout",
          "text": [
            "1/1 ━━━━━━━━━━━━━━━━━━━━ 0s 310ms/step\n"
          ]
        }
      ]
    },
    {
      "cell_type": "code",
      "source": [
        "lstm_pred_exp0.shape,xtest_numpy.shape"
      ],
      "metadata": {
        "id": "OErunfAAS2hY",
        "colab": {
          "base_uri": "https://localhost:8080/"
        },
        "outputId": "02f28d48-6b25-4f21-ac3d-7b8af15cadcf"
      },
      "execution_count": null,
      "outputs": [
        {
          "output_type": "execute_result",
          "data": {
            "text/plain": [
              "((1, 35), (1, 36, 1))"
            ]
          },
          "metadata": {},
          "execution_count": 163
        }
      ]
    },
    {
      "cell_type": "code",
      "source": [
        "ytrain_numpy_exp0 = (ytrain_numpy[sample_]*std_val) + mean_val\n",
        "ytrain_numpy_exp0.shape"
      ],
      "metadata": {
        "colab": {
          "base_uri": "https://localhost:8080/"
        },
        "id": "yklQhi1PpPhn",
        "outputId": "39dd0f4c-9f91-4a85-ba4e-b8001c94aaa0"
      },
      "execution_count": null,
      "outputs": [
        {
          "output_type": "execute_result",
          "data": {
            "text/plain": [
              "(35,)"
            ]
          },
          "metadata": {},
          "execution_count": 164
        }
      ]
    },
    {
      "cell_type": "code",
      "source": [
        "ytrain_numpy_exp0.shape,lstm_pred_exp0.shape"
      ],
      "metadata": {
        "colab": {
          "base_uri": "https://localhost:8080/"
        },
        "id": "-htlGn7fqg0U",
        "outputId": "dd7e9817-bc5b-4cd6-a403-11f81a9dcada"
      },
      "execution_count": null,
      "outputs": [
        {
          "output_type": "execute_result",
          "data": {
            "text/plain": [
              "((35,), (1, 35))"
            ]
          },
          "metadata": {},
          "execution_count": 165
        }
      ]
    },
    {
      "cell_type": "code",
      "source": [
        "plt.plot(ytrain_numpy_exp0, color=\"royalblue\", linestyle=\"dashed\")\n",
        "plt.plot(np.squeeze(lstm_pred_exp0), color=\"salmon\")\n",
        "\n",
        "plt.show()"
      ],
      "metadata": {
        "colab": {
          "base_uri": "https://localhost:8080/",
          "height": 509
        },
        "id": "woLbbclOpPeL",
        "outputId": "837c25ba-4e12-41ad-c4ef-e95d2432bc23"
      },
      "execution_count": null,
      "outputs": [
        {
          "output_type": "display_data",
          "data": {
            "text/plain": [
              "<Figure size 768x576 with 1 Axes>"
            ],
            "image/png": "[encoded data removed]"
          },
          "metadata": {}
        }
      ]
    },
    {
      "cell_type": "markdown",
      "source": [
        "### 2.2 KAN"
      ],
      "metadata": {
        "id": "gvNs22WlrLnB"
      }
    },
    {
      "cell_type": "code",
      "source": [
        "xtrain_numpy.shape,ytrain_numpy.shape,xtest_numpy.shape"
      ],
      "metadata": {
        "id": "F1R5JX7dsYWb",
        "outputId": "60f4a540-0123-4bfa-c656-ef329cd57821",
        "colab": {
          "base_uri": "https://localhost:8080/"
        }
      },
      "execution_count": null,
      "outputs": [
        {
          "output_type": "execute_result",
          "data": {
            "text/plain": [
              "((294, 36, 1), (294, 35), (1, 36, 1))"
            ]
          },
          "metadata": {},
          "execution_count": 174
        }
      ]
    },
    {
      "cell_type": "code",
      "source": [
        "X_train_t = torch.tensor(xtrain_numpy.squeeze(), dtype=torch.float32)\n",
        "y_train_t = torch.tensor(ytrain_numpy, dtype=torch.float32).unsqueeze(1)\n",
        "X_test_t = torch.tensor(xtest_numpy, dtype=torch.float32)\n",
        "\n"
      ],
      "metadata": {
        "id": "hpXA5gCpruGW"
      },
      "execution_count": null,
      "outputs": []
    },
    {
      "cell_type": "code",
      "source": [
        "loss_fn = nn.MSELoss()\n",
        "\n",
        "# KAN\n",
        "kan = KAN([window, 32, 1], grid=3, k=2)\n",
        "opt_kan = torch.optim.Adam(kan.parameters(), lr=0.01)\n",
        "\n",
        "start_kan = time.time()\n",
        "for _ in range(200):\n",
        "    kan.train(); opt_kan.zero_grad()\n",
        "    loss = loss_fn(kan(X_train_t), y_train_t); loss.backward(); opt_kan.step()\n",
        "kan_time = time.time() - start_kan\n",
        "\n",
        "kan.eval(); pred_kan = kan(X_test_t).squeeze().detach().numpy()"
      ],
      "metadata": {
        "id": "1ZG32daBpPak",
        "outputId": "99fc2f8c-b6f0-4bea-a960-266338086af2",
        "colab": {
          "base_uri": "https://localhost:8080/"
        }
      },
      "execution_count": null,
      "outputs": [
        {
          "output_type": "stream",
          "name": "stdout",
          "text": [
            "checkpoint directory created: ./model\n",
            "saving model version 0.0\n"
          ]
        }
      ]
    },
    {
      "cell_type": "code",
      "source": [
        "X_train_t.shape, y_train_t.shape"
      ],
      "metadata": {
        "id": "A0ZFEFKYpPXU",
        "outputId": "496839f5-5364-4c1b-b89f-e46f1b5813a8",
        "colab": {
          "base_uri": "https://localhost:8080/"
        }
      },
      "execution_count": null,
      "outputs": [
        {
          "output_type": "execute_result",
          "data": {
            "text/plain": [
              "(torch.Size([340, 24]), torch.Size([340, 1]))"
            ]
          },
          "metadata": {},
          "execution_count": 175
        }
      ]
    },
    {
      "cell_type": "code",
      "source": [],
      "metadata": {
        "id": "XO7qXJ-arhcO"
      },
      "execution_count": null,
      "outputs": []
    },
    {
      "cell_type": "code",
      "source": [],
      "metadata": {
        "id": "Lf_-AFXErhYo"
      },
      "execution_count": null,
      "outputs": []
    },
    {
      "cell_type": "code",
      "source": [],
      "metadata": {
        "id": "Tq_VJXGgrhVv"
      },
      "execution_count": null,
      "outputs": []
    },
    {
      "cell_type": "code",
      "source": [],
      "metadata": {
        "id": "DcaSpo-yrhTE"
      },
      "execution_count": null,
      "outputs": []
    },
    {
      "cell_type": "code",
      "source": [],
      "metadata": {
        "id": "e6EAeFyyrhQI"
      },
      "execution_count": null,
      "outputs": []
    },
    {
      "cell_type": "code",
      "source": [],
      "metadata": {
        "id": "hPXtWy0DrhM3"
      },
      "execution_count": null,
      "outputs": []
    },
    {
      "cell_type": "code",
      "source": [],
      "metadata": {
        "id": "66m3dHgqrhGk"
      },
      "execution_count": null,
      "outputs": []
    },
    {
      "cell_type": "code",
      "source": [],
      "metadata": {
        "id": "gn7CTLTPrhC6"
      },
      "execution_count": null,
      "outputs": []
    },
    {
      "cell_type": "code",
      "source": [],
      "metadata": {
        "id": "5Z3Wmm0srg8_"
      },
      "execution_count": null,
      "outputs": []
    },
    {
      "cell_type": "code",
      "source": [
        "data.X.shape, data.y.shape, data.X_test.shape"
      ],
      "metadata": {
        "id": "w1JQWVV9duYq"
      },
      "execution_count": null,
      "outputs": []
    },
    {
      "cell_type": "code",
      "source": [
        "print(data.cat_features)"
      ],
      "metadata": {
        "id": "YuDLMDjOe6x1"
      },
      "execution_count": null,
      "outputs": []
    },
    {
      "cell_type": "code",
      "source": [
        "data.X.info(),data.X_test.info(),"
      ],
      "metadata": {
        "id": "EunCWfhBfcnc"
      },
      "execution_count": null,
      "outputs": []
    },
    {
      "cell_type": "markdown",
      "source": [
        "# 3. Data Preprocessing\n",
        "Here we define a preprocessing class to handle missing values and perform some feature engineering."
      ],
      "metadata": {
        "papermill": {
          "duration": 0.011742,
          "end_time": "2024-10-26T19:31:36.380662",
          "exception": false,
          "start_time": "2024-10-26T19:31:36.36892",
          "status": "completed"
        },
        "tags": [],
        "id": "BsolTJDo1KTd"
      }
    },
    {
      "cell_type": "code",
      "source": [
        "class Preprocessing:\n",
        "    def __init__(self, data: Data):\n",
        "        self.data = data\n",
        "\n",
        "    def feature_preparation(self):\n",
        "        ''' User-define feature engineering and preprocessing'''\n",
        "        print('⇒ Train-Test-Original shapes before preprocessing:',\n",
        "              self.data.train.shape, self.data.test.shape, self.data.original.shape)\n",
        "\n",
        "        df = pd.concat([self.data.train, self.data.test, self.data.original], axis=0)\n",
        "        ## -- Operations\n",
        "        # Convert categoricals and handle missing\n",
        "        df = self.convert_categorical(df)\n",
        "        df = self.handle_nan(df)\n",
        "\n",
        "        # Retrieve train, test and original\n",
        "        self.data.train    = df[:len(self.data.train)].reset_index(drop=True)\n",
        "        self.data.test     = df[len(self.data.train):len(self.data.train)+\\\n",
        "                                len(self.data.test)].reset_index(drop=True).drop(columns=data.target)\n",
        "        self.data.original = df[len(self.data.train)+len(self.data.test):].reset_index(drop=True)\n",
        "        print('⇒ Train-Test-Original shapes after preprocessing:', self.data.train.shape, self.data.test.shape, self.data.original.shape)\n",
        "        print('⇒ Preprocessing finished')\n",
        "\n",
        "    @staticmethod\n",
        "    def convert_categorical(df):\n",
        "        '''For converting data to categoricals'''\n",
        "        for c in df.select_dtypes(include=['object', 'category', 'bool', 'int']).columns:\n",
        "            df[c] = df[c].astype(str).fillna('missing').astype('int')\n",
        "        return df\n",
        "\n",
        "    @staticmethod\n",
        "    def handle_nan(df):\n",
        "        for c in df.select_dtypes(exclude=['object', 'category', 'bool', 'int']).columns:\n",
        "            df[c] = df[c].fillna(df[c].median())\n",
        "\n",
        "        for c in df.select_dtypes(include=['object', 'category', 'bool', 'int']).columns:\n",
        "            df[c] = df[c].fillna(df[c].mode()[0])\n",
        "\n",
        "        return df\n",
        "\n",
        "    @staticmethod\n",
        "    def calculate_fi():\n",
        "\n",
        "        def sorted_fi(fi): # fi is a list of feature importances\n",
        "            fi = list(zip(data.X.columns.to_list(), fi))\n",
        "            return sorted(fi, key=lambda x: x[1], reverse=True)\n",
        "\n",
        "        # Make a pipeline to transform X for those method which can't handle categorical and NaN natively\n",
        "        pipe    = make_pipeline(SimpleImputer(strategy='most_frequent'), CountEncoder(), StandardScaler())\n",
        "        X_FE    = pipe.fit_transform(data.X)\n",
        "\n",
        "        FI_LGBM = sorted_fi(LGBMRegressor(verbose=-1, random_state=CFG.SEED).fit(data.X, data.y).feature_importances_)\n",
        "\n",
        "        FI_CB   = sorted_fi(CatBoostRegressor(verbose=0, random_state=CFG.SEED, cat_features=data.cat_features).fit(data.X, data.y).get_feature_importance())\n",
        "\n",
        "        FI_RF   = sorted_fi(RandomForestRegressor(n_estimators=100, random_state=CFG.SEED).fit(X_FE, data.y).feature_importances_)\n",
        "\n",
        "        FI_MI   = sorted_fi(list(mutual_info_regression(X_FE, data.y)))\n",
        "\n",
        "        FIS     = [FI_LGBM, FI_CB, FI_RF, FI_MI]\n",
        "        titles  = ['LGBM FI', 'CB FI', 'RF FI', 'MI']\n",
        "\n",
        "        fig, axes = plt.subplots(nrows=1, ncols=4, figsize=(25, 10))\n",
        "        for i, FI in enumerate(FIS):\n",
        "            # Convert the list of tuples to a DataFrame for easier plotting\n",
        "            FI_df = pd.DataFrame(FI[:15], columns=['Feature', 'Importance'])\n",
        "            sns.barplot(x='Importance', y='Feature', data=FI_df, ax=axes[i], palette='Blues_r')\n",
        "            axes[i].set_title(titles[i])\n",
        "\n",
        "        plt.tight_layout()\n",
        "        plt.show()\n",
        "\n",
        "\n",
        "data = Data()\n",
        "pp   = Preprocessing(data)\n",
        "pp.feature_preparation()\n",
        "#pp.calculate_fi()"
      ],
      "metadata": {
        "execution": {
          "iopub.status.busy": "2025-02-03T01:57:45.255839Z",
          "iopub.execute_input": "2025-02-03T01:57:45.256124Z",
          "iopub.status.idle": "2025-02-03T01:57:46.490442Z",
          "shell.execute_reply.started": "2025-02-03T01:57:45.256101Z",
          "shell.execute_reply": "2025-02-03T01:57:46.489645Z"
        },
        "papermill": {
          "duration": 26.783101,
          "end_time": "2024-10-26T19:32:03.175845",
          "exception": false,
          "start_time": "2024-10-26T19:31:36.392744",
          "status": "completed"
        },
        "tags": [],
        "trusted": true,
        "id": "25jm-nnR1KTe"
      },
      "outputs": [],
      "execution_count": null
    },
    {
      "cell_type": "code",
      "source": [
        "data.cat_features,data.num_features"
      ],
      "metadata": {
        "id": "gFvHEDvOe0oU"
      },
      "execution_count": null,
      "outputs": []
    },
    {
      "cell_type": "code",
      "source": [
        "data.X.info()"
      ],
      "metadata": {
        "id": "EEWwdyAUgkYh"
      },
      "execution_count": null,
      "outputs": []
    },
    {
      "cell_type": "markdown",
      "source": [
        "# 4. Modeling"
      ],
      "metadata": {
        "papermill": {
          "duration": 0.014189,
          "end_time": "2024-10-26T19:32:03.237017",
          "exception": false,
          "start_time": "2024-10-26T19:32:03.222828",
          "status": "completed"
        },
        "tags": [],
        "id": "7OZ_SPtJ1KTg"
      }
    },
    {
      "cell_type": "markdown",
      "source": [
        "### 4.0 Neural Network Model Functions:"
      ],
      "metadata": {
        "id": "aG58nE96v8Xp"
      }
    },
    {
      "cell_type": "code",
      "source": [
        "cat_features_card = []\n",
        "for f in data.cat_features:\n",
        "  cat_features_card.append(1 + data.X[f].astype(\"int\").max())\n",
        "\n",
        "cat_features_card"
      ],
      "metadata": {
        "id": "XpEkN-4CzCKW"
      },
      "execution_count": null,
      "outputs": []
    },
    {
      "cell_type": "code",
      "source": [
        "from keras.saving import register_keras_serializable\n",
        "\n",
        "#####################################################################################################################################################################################\n",
        "def build_model_v0_mm(units=512,last_layer = 1, activation=\"relu\",cat_features=data.cat_features,cat_features_card=cat_features_card):\n",
        "\n",
        "    x_input_cats = layers.Input(shape=(len(cat_features),))\n",
        "    embs = []\n",
        "    for j in range(len(cat_features)):\n",
        "        e = layers.Embedding(cat_features_card[j], int(np.ceil(np.sqrt(cat_features_card[j]))))\n",
        "        x = e(x_input_cats[:,j])\n",
        "        x = layers.Flatten()(x)\n",
        "        embs.append(x)\n",
        "\n",
        "    x_input_nums = layers.Input(shape=(len(data.num_features),))\n",
        "\n",
        "    x = layers.Concatenate(axis=-1)(embs+[x_input_nums])\n",
        "    x = layers.Dense(units, activation=activation)(x)\n",
        "    x = layers.BatchNormalization()(x)\n",
        "    x = layers.Dense(units, activation=activation)(x)\n",
        "    x = layers.BatchNormalization()(x)\n",
        "    x = layers.Dense(int(units/last_layer), activation=activation)(x)\n",
        "    x = layers.BatchNormalization()(x)\n",
        "    x = layers.Dense(1, activation='sigmoid')(x)\n",
        "\n",
        "    model = keras.Model(inputs=[x_input_cats,x_input_nums], outputs=x)\n",
        "    return model\n",
        "\n",
        "#####################################################################################################################################################################################\n",
        "def build_model_v0(units=512,last_layer = 1, activation=\"relu\",cat_features=data.cat_features,cat_features_card=cat_features_card):\n",
        "\n",
        "    x_input_cats = layers.Input(shape=(len(cat_features),))\n",
        "    embs = []\n",
        "    for j in range(len(cat_features)):\n",
        "        e = layers.Embedding(cat_features_card[j], int(np.ceil(np.sqrt(cat_features_card[j]))))\n",
        "        x = e(x_input_cats[:,j])\n",
        "        x = layers.Flatten()(x)\n",
        "        embs.append(x)\n",
        "\n",
        "    x_input_nums = layers.Input(shape=(len(data.num_features),))\n",
        "\n",
        "    x = layers.Concatenate(axis=-1)(embs+[x_input_nums])\n",
        "    x = layers.Dense(units, activation=activation)(x)\n",
        "    x = layers.BatchNormalization()(x)\n",
        "    x = layers.Dense(units, activation=activation)(x)\n",
        "    x = layers.BatchNormalization()(x)\n",
        "    x = layers.Dense(int(units/last_layer), activation=activation)(x)\n",
        "    x = layers.BatchNormalization()(x)\n",
        "    x = layers.Dense(1, activation='linear')(x)\n",
        "\n",
        "    model = keras.Model(inputs=[x_input_cats,x_input_nums], outputs=x)\n",
        "    return model\n",
        "\n",
        "#####################################################################################################################################################################################\n",
        "def build_model_v1(units=512,last_layer = 1, activation=\"relu\", cat_features=data.cat_features,cat_features_card=cat_features_card, dropout_rate=0.35, reg=0.001):\n",
        "\n",
        "    x_input_cats = layers.Input(shape=(len(cat_features),))\n",
        "    embs = []\n",
        "    for j in range(len(cat_features)):\n",
        "        e = layers.Embedding(cat_features_card[j], int(np.ceil(np.sqrt(cat_features_card[j]))))\n",
        "        x = e(x_input_cats[:,j])\n",
        "        x = layers.Flatten()(x)\n",
        "        embs.append(x)\n",
        "\n",
        "    x_input_nums = layers.Input(shape=(len(data.num_features),))\n",
        "\n",
        "    x = layers.Concatenate(axis=-1)(embs+[x_input_nums])\n",
        "\n",
        "    # Reshape for the Attention layer.  Crucial for keras.layers.Attention\n",
        "    # The Attention layer expects 3D tensors. Even if your \"sequence\"\n",
        "    # length is 1, you MUST add a dimension.\n",
        "\n",
        "    reshaped_features = layers.Reshape((1, -1))(x)\n",
        "\n",
        "    attention_output = layers.Attention()([reshaped_features, reshaped_features])  # Self-attention\n",
        "\n",
        "    # Flatten the attention output:\n",
        "    flattened_attention = layers.Flatten()(attention_output)\n",
        "\n",
        "    # Concatenate with original features (optional but often helpful):\n",
        "    x = layers.Concatenate(axis=-1)([x, flattened_attention])\n",
        "\n",
        "    x = layers.Dense(units, activation=activation, kernel_regularizer=keras.regularizers.l2(reg))(x)\n",
        "    x = layers.BatchNormalization()(x)\n",
        "    x = layers.Dropout(dropout_rate)(x)\n",
        "\n",
        "    x = layers.Dense(units, activation=activation, kernel_regularizer=keras.regularizers.l2(reg))(x)\n",
        "    x = layers.BatchNormalization()(x)\n",
        "    x = layers.Dropout(dropout_rate)(x)\n",
        "\n",
        "    x = layers.Dense(units, activation=activation, kernel_regularizer=keras.regularizers.l2(reg))(x)\n",
        "    x = layers.BatchNormalization()(x)\n",
        "    x = layers.Dropout(dropout_rate)(x)\n",
        "\n",
        "    x = layers.Dense(1, activation='linear')(x)\n",
        "\n",
        "    model = keras.Model(inputs=[x_input_cats,x_input_nums], outputs=x)\n",
        "    return model\n",
        "\n",
        "#####################################################################################################################################################################################\n",
        "def build_model_v2(units=512, last_layer=1, activation=\"relu\", cat_features=data.cat_features,cat_features_card=cat_features_card,\n",
        "                   repeat_att=2, dropout_rate=0.2, num_transformer_heads=4, transformer_units=64, reg=0.0001): # Reduced transformer_units\n",
        "\n",
        "    x_input_cats = layers.Input(shape=(len(cat_features),))\n",
        "    embs = []\n",
        "    transformer_outputs = [] # List to store transformer outputs for each categorical feature\n",
        "\n",
        "    for j in range(len(cat_features)):\n",
        "        e = layers.Embedding(cat_features_card[j], int(np.ceil(np.sqrt(cat_features_card[j]))))\n",
        "        x = e(x_input_cats[:, j])\n",
        "        x = layers.Flatten()(x)\n",
        "        x = layers.Dropout(dropout_rate)(x)\n",
        "        embs.append(x)\n",
        "\n",
        "        # Reshape for Transformer (batch_size, 1, features) - Crucial!\n",
        "        reshaped_embedding = layers.Reshape((1, -1))(x)\n",
        "\n",
        "        # Transformer Layer for each categorical feature\n",
        "        for q in list(range(repeat_att)):\n",
        "          if q == 0:\n",
        "            attention_output = reshaped_embedding\n",
        "\n",
        "          attention_output_ = layers.MultiHeadAttention(num_heads=num_transformer_heads, key_dim=transformer_units,name=f\"mh_{j}_{q}\")(attention_output, attention_output)\n",
        "          attention_output_ = layers.LayerNormalization(name=f\"mh_ln1_{j}_{q}\")(attention_output + attention_output_) #ResNet_1\n",
        "          attention_output_ = layers.Dense(reshaped_embedding.shape[-1], activation=activation,name=f\"mh_dense_{j}_{q}\")(attention_output_)\n",
        "          attention_output = layers.LayerNormalization(name=f\"mh_ln2_{j}_{q}\")(attention_output + attention_output_) #ResNet_1\n",
        "\n",
        "        transformer_outputs.append(layers.Flatten()(attention_output)) # Store flattened transformer output\n",
        "\n",
        "    x_input_nums = layers.Input(shape=(len(data.num_features),))\n",
        "\n",
        "    # Reshape for the Attention layer.  Crucial for keras.layers.Attention\n",
        "    # The Attention layer expects 3D tensors. Even if your \"sequence\"\n",
        "    # length is 1, you MUST add a dimension.\n",
        "\n",
        "    x_orig = layers.Concatenate(axis=-1)(embs+[x_input_nums])\n",
        "    reshaped_features = layers.Reshape((1, -1))(x_orig)\n",
        "\n",
        "    attention_output = layers.Attention()([reshaped_features, reshaped_features])  # Self-attention\n",
        "\n",
        "    # Flatten the attention output:\n",
        "    flattened_attention = layers.Flatten()(attention_output)\n",
        "\n",
        "    # Concatenate with original features (optional but often helpful):\n",
        "    x = layers.Concatenate(axis=-1)([x_orig, flattened_attention])\n",
        "\n",
        "    # Concatenate Transformer outputs and numerical features\n",
        "    all_features = layers.Concatenate(axis=-1)(transformer_outputs + [x])\n",
        "\n",
        "    x = layers.Dense(units, activation=activation, kernel_regularizer=keras.regularizers.l2(reg))(all_features)\n",
        "    x = layers.BatchNormalization()(x)\n",
        "    x = layers.Dropout(dropout_rate)(x)\n",
        "\n",
        "    x = layers.Dense(units, activation=activation, kernel_regularizer=keras.regularizers.l2(reg))(x)\n",
        "    x = layers.BatchNormalization()(x)\n",
        "    x = layers.Dropout(dropout_rate)(x)\n",
        "\n",
        "    x = layers.Dense(int(units/last_layer), activation=activation, kernel_regularizer=keras.regularizers.l2(reg))(x)\n",
        "    x = layers.BatchNormalization()(x)\n",
        "    x = layers.Dropout(dropout_rate)(x)\n",
        "\n",
        "    #x = layers.Concatenate(axis=-1)([x_orig, x])\n",
        "\n",
        "    x = layers.Dense(1, activation='linear')(x)\n",
        "\n",
        "    model = keras.Model(inputs=[x_input_cats,x_input_nums], outputs=x)\n",
        "    return model\n",
        "\n",
        "  ####################################################\n",
        "@register_keras_serializable()\n",
        "class exitesqueeze_layer(layers.Layer):\n",
        "    def __init__(self, exite_units,dropout_rate,activation,reg,**kwargs):\n",
        "        super().__init__(**kwargs)\n",
        "\n",
        "        self.exite_units = exite_units\n",
        "        self.activation=activation\n",
        "        self.reg=reg\n",
        "        self.dropout_rate=dropout_rate\n",
        "\n",
        "        self.reshaped_0 = layers.Reshape((-1, 1))\n",
        "        self.reshaped_1 = layers.Reshape((-1, ))\n",
        "\n",
        "        self.exite = layers.Dense(self.exite_units, activation=self.activation)\n",
        "        self.squeeze = layers.Dense(1, activation=\"linear\",kernel_regularizer=keras.regularizers.l2(reg))\n",
        "        self.lnorm_00 = layers.LayerNormalization()\n",
        "        self.lnorm_01 = layers.LayerNormalization()\n",
        "        self.drop = layers.Dropout(rate=self.dropout_rate)\n",
        "        self.attention = layers.Attention()\n",
        "\n",
        "    def call(self, inputs):\n",
        "        x = self.reshaped_0(inputs)\n",
        "        x = self.exite(x)\n",
        "        att_out = self.attention([x,x])\n",
        "        att_out = self.lnorm_00(att_out)\n",
        "        x = layers.add([x, att_out])\n",
        "        x = self.squeeze(x)\n",
        "        x = self.reshaped_1(x)\n",
        "\n",
        "        x = layers.multiply([x, inputs])\n",
        "\n",
        "        x = self.lnorm_01(x)\n",
        "        x = self.drop(x)\n",
        "\n",
        "        return x\n",
        "\n",
        "    # Remove build warnings\n",
        "    def build(self):\n",
        "        self.built = True\n",
        "\n",
        "    # Required for serialization:\n",
        "    def get_config(self):\n",
        "        config = super().get_config()\n",
        "        config.update({\n",
        "            'exite_units': self.exite_units,\n",
        "            'dropout_rate': self.dropout_rate, # Include necessary config items\n",
        "            'activation': self.activation,\n",
        "            'reg': self.reg\n",
        "        })\n",
        "        return config\n",
        "\n",
        "\n",
        "def build_model_v3(units=512,exite_units=64, last_layer = 1, activation=\"relu\", reg=0.001, dropout_rate=0.33):\n",
        "\n",
        "    x_input_cats = layers.Input(shape=(len(data.cat_features),))\n",
        "    embs = []\n",
        "    for j in range(len(data.cat_features)):\n",
        "        e = layers.Embedding(cat_features_card[j], int(np.ceil(np.sqrt(cat_features_card[j]))))\n",
        "        x = e(x_input_cats[:,j])\n",
        "        x = layers.Flatten()(x)\n",
        "        embs.append(x)\n",
        "\n",
        "    x_input_nums = layers.Input(shape=(len(data.num_features),))\n",
        "\n",
        "    x_0 = layers.Concatenate(axis=-1, name=\"input_concat\")(embs+[x_input_nums])\n",
        "\n",
        "    es_0 = exitesqueeze_layer(exite_units=exite_units,\n",
        "                              dropout_rate=dropout_rate,\n",
        "                              activation=activation,\n",
        "                              reg=reg)(x_0)\n",
        "\n",
        "    x = layers.Concatenate(axis=-1, name=\"se_0_concat\")([x_0,es_0])\n",
        "    x = layers.BatchNormalization(name=\"se_0_bn\")(x)\n",
        "\n",
        "    es_1 = exitesqueeze_layer(exite_units=exite_units,\n",
        "                              dropout_rate=dropout_rate,\n",
        "                              activation=activation,\n",
        "                              reg=reg)(x)\n",
        "\n",
        "    x = layers.Concatenate(axis=-1, name=\"se_1_concat\")([x,es_1])\n",
        "    x = layers.BatchNormalization(name=\"se_1_bn\")(x)\n",
        "\n",
        "    es_2 = exitesqueeze_layer(exite_units=exite_units,\n",
        "                              dropout_rate=dropout_rate,\n",
        "                              activation=activation,\n",
        "                              reg=reg)(x)\n",
        "\n",
        "    x = layers.Concatenate(axis=-1, name=\"se_2_concat\")([x,es_2])\n",
        "    x = layers.BatchNormalization(name=\"se_2_bn\")(x)\n",
        "\n",
        "    x_0 = layers.Dense(units, name=\"dense_0\", activation=activation, kernel_regularizer=keras.regularizers.l2(reg))(x_0)\n",
        "    x_0 = layers.BatchNormalization(name=\"bn_0\")(x_0)\n",
        "    x_0 = layers.Dropout(dropout_rate,name=\"do_0\")(x_0)\n",
        "\n",
        "    x_0 = layers.Dense(int(units/last_layer), name=\"dense_1\", activation=activation, kernel_regularizer=keras.regularizers.l2(reg))(x_0)\n",
        "    x_0 = layers.BatchNormalization(name=\"bn_1\")(x_0)\n",
        "    x_0 = layers.Dropout(dropout_rate,name=\"do_1\")(x_0)\n",
        "\n",
        "    x = layers.Concatenate(axis=-1)([x_0,x])\n",
        "\n",
        "    x = layers.Dense(1, activation='linear')(x)\n",
        "\n",
        "    model = keras.Model(inputs=[x_input_cats,x_input_nums], outputs=x)\n",
        "    return model"
      ],
      "metadata": {
        "id": "hb64lyLLwCoZ"
      },
      "execution_count": null,
      "outputs": []
    },
    {
      "cell_type": "markdown",
      "source": [
        "### 4.1 Stacking"
      ],
      "metadata": {
        "id": "OOAMQ6WiwE8B"
      }
    },
    {
      "cell_type": "code",
      "source": [
        "class TrainModels:\n",
        "    def __init__(self, X, y, X_test, X_original, y_original, models):\n",
        "        self.models     = models\n",
        "        self.X          = X\n",
        "        self.y          = y\n",
        "        self.X_original = X_original\n",
        "        self.y_original = y_original\n",
        "        self.X_test     = X_test\n",
        "        self._OOF_train = pd.DataFrame()\n",
        "        self._OOF_test  = pd.DataFrame()\n",
        "        self.categorical_features = X.select_dtypes(include=['category', 'bool', 'category','int']).columns.to_list()\n",
        "        self.numerical_features = X.select_dtypes(include=['float']).columns.to_list()\n",
        "\n",
        "    @staticmethod\n",
        "    def convert_cat(df_):\n",
        "        '''\n",
        "        A function to convert dtypes to categorical if the catboost with all categorical\n",
        "        features is called\n",
        "        '''\n",
        "        df = df_.copy()\n",
        "        for c in df.columns.to_list():\n",
        "            df[c] = df[c].astype(str).astype('category')\n",
        "        return df\n",
        "\n",
        "\n",
        "    def fit_model(self, name, model_, train_flag):\n",
        "        oof_train = np.zeros(self.X.shape[0])\n",
        "        oof_test  = np.zeros(self.X_test.shape[0])\n",
        "        scores_train = []\n",
        "        scores_val   = []\n",
        "\n",
        "        CB_CAT_FLAG = True if 'CB_CAT' in name.upper() else False\n",
        "\n",
        "        os.chdir('/content/drive/MyDrive/Exercises/Studies_Structured_Data/Models/S5E2/layers_3_staked_models_opt')\n",
        "\n",
        "        for fold, (train_idx, val_idx) in enumerate(CFG.CV.split(self.X, self.y)):\n",
        "            x_train, y_train = self.X.iloc[train_idx], self.y.iloc[train_idx]\n",
        "            x_val,   y_val   = self.X.iloc[val_idx],   self.y.iloc[val_idx]\n",
        "\n",
        "            # Adds the original data to training set only\n",
        "            if self.X_original is not None:\n",
        "                x_train = pd.concat([x_train, self.X_original], axis=0)\n",
        "                y_train = pd.concat([y_train, self.y_original], axis=0)\n",
        "\n",
        "            x_train[self.categorical_features] = x_train[self.categorical_features].astype(\"int\")\n",
        "            x_train[self.numerical_features] = x_train[self.numerical_features].astype(\"float\")\n",
        "\n",
        "            x_val[self.categorical_features] = x_val[self.categorical_features].astype(\"int\")\n",
        "            x_val[self.numerical_features] = x_val[self.numerical_features].astype(\"float\")\n",
        "\n",
        "            self.X_test[self.categorical_features] = self.X_test[self.categorical_features].astype(\"int\")\n",
        "            self.X_test[self.numerical_features] = self.X_test[self.numerical_features].astype(\"float\")\n",
        "\n",
        "            #print(x_train.info())\n",
        "            #print(x_val.info())\n",
        "            #print(self.X_test.info())\n",
        "\n",
        "            # -- Create a special block to convert all features to categorical\n",
        "            if CB_CAT_FLAG:\n",
        "                x_train = self.convert_cat(x_train)\n",
        "                x_val   = self.convert_cat(x_val)\n",
        "            if 'NN_' in name.upper():\n",
        "              model = model_\n",
        "            elif 'NNMM_' in name.upper():\n",
        "              model = model_\n",
        "            else:\n",
        "              model = clone(model_)\n",
        "\n",
        "#######################################################################################\n",
        "            if 'NN_' in name.upper():\n",
        "\n",
        "              model = model_\n",
        "\n",
        "              X_train_cat = x_train[self.categorical_features].astype(\"int32\")\n",
        "              X_train_num = x_train[self.numerical_features].astype(\"float32\")\n",
        "\n",
        "              X_valid_cat = x_val[self.categorical_features].astype(\"int32\")\n",
        "              X_valid_num = x_val[self.numerical_features].astype(\"float32\")\n",
        "\n",
        "              X_test_cat = self.X_test[self.categorical_features].astype(\"int32\")\n",
        "              X_test_num = self.X_test[self.numerical_features].astype(\"float32\")\n",
        "\n",
        "              # Compile the model\n",
        "              keras.utils.set_random_seed(42)\n",
        "\n",
        "              optimizer = keras.optimizers.Adam(learning_rate=1e-3)\n",
        "              model.compile(optimizer=optimizer, loss=keras.losses.MeanSquaredError(name=\"mse\"),\n",
        "                            metrics=[keras.metrics.RootMeanSquaredError(name=\"rmse\")])\n",
        "\n",
        "              # Fit the model\n",
        "              if train_flag==True:\n",
        "                model.fit([X_train_cat,X_train_num], y_train,\n",
        "                          validation_data=([X_valid_cat, X_valid_num], y_val),\n",
        "                          epochs=111,\n",
        "                          batch_size=2048,\n",
        "                          callbacks=[keras.callbacks.ReduceLROnPlateau(patience=3, monitor=\"val_rmse\", factor=0.5, min_lr=5e-5),\n",
        "                                     keras.callbacks.EarlyStopping(patience=21, restore_best_weights=True, monitor=\"val_rmse\",\n",
        "                                                                    start_from_epoch=3, mode=\"min\")])\n",
        "\n",
        "                model.save(f'{name}_{CFG.VERSION}.keras') # Saving the model after training\n",
        "\n",
        "              else:\n",
        "                print(\"Load Model\")\n",
        "                model = keras.models.load_model(f'{name}_{CFG.VERSION}.keras') # Loading the saved model\n",
        "\n",
        "#######################################################################################\n",
        "            if 'NNMM_' in name.upper():\n",
        "\n",
        "              model = model_\n",
        "\n",
        "              X_train_cat = x_train[self.categorical_features].astype(\"int32\")\n",
        "              X_train_num = x_train[self.numerical_features].astype(\"float32\")\n",
        "\n",
        "              X_valid_cat = x_val[self.categorical_features].astype(\"int32\")\n",
        "              X_valid_num = x_val[self.numerical_features].astype(\"float32\")\n",
        "\n",
        "              X_test_cat = self.X_test[self.categorical_features].astype(\"int32\")\n",
        "              X_test_num = self.X_test[self.numerical_features].astype(\"float32\")\n",
        "\n",
        "              y_train_mm = (y_train-15)/135\n",
        "              y_val_mm = (y_val-15)/135\n",
        "\n",
        "              # Compile the model\n",
        "              keras.utils.set_random_seed(42)\n",
        "\n",
        "              optimizer = keras.optimizers.Adam(learning_rate=1e-3)\n",
        "              model.compile(optimizer=optimizer, loss=keras.losses.MeanSquaredError(name=\"mse\"),\n",
        "                            metrics=[keras.metrics.RootMeanSquaredError(name=\"rmse\")])\n",
        "\n",
        "              # Fit the model\n",
        "              if train_flag==True:\n",
        "                model.fit([X_train_cat,X_train_num], y_train_mm,\n",
        "                          validation_data=([X_valid_cat, X_valid_num], y_val_mm),\n",
        "                          epochs=111,\n",
        "                          batch_size=2048,\n",
        "                          callbacks=[keras.callbacks.ReduceLROnPlateau(patience=3, monitor=\"val_rmse\", factor=0.5, min_lr=5e-5),\n",
        "                                     keras.callbacks.EarlyStopping(patience=21, restore_best_weights=True, monitor=\"val_rmse\",\n",
        "                                                                    start_from_epoch=3, mode=\"min\")])\n",
        "\n",
        "                model.save(f'{name}_{CFG.VERSION}.keras') # Saving the model after training\n",
        "\n",
        "              else:\n",
        "                print(\"Load Model\")\n",
        "                model = keras.models.load_model(f'{name}_{CFG.VERSION}.keras') # Loading the saved model\n",
        "\n",
        "#####################################################################################\n",
        "\n",
        "            elif 'CB' in name.upper():\n",
        "              if train_flag==True:\n",
        "                model.fit(x_train,y_train,eval_set=[(x_val,y_val)], early_stopping_rounds=101)\n",
        "                model.save_model(f\"{name}_{fold}_{CFG.VERSION}.bin\")\n",
        "              else:\n",
        "                print(\"Load Model\")\n",
        "                model = CatBoostRegressor()\n",
        "                model.load_model(f\"{name}_{fold}_{CFG.VERSION}.bin\")\n",
        "\n",
        "            elif 'LGBMR' in name.upper():\n",
        "              early_stop = early_stopping(stopping_rounds=101)\n",
        "              print(self.categorical_features)\n",
        "              if train_flag==True:\n",
        "                model.fit(x_train, y_train, eval_set=[(x_val, y_val)], callbacks=[early_stop],categorical_feature=self.categorical_features)\n",
        "                model.booster_.save_model(f'{name}_{fold}_{CFG.VERSION}.txt')\n",
        "              else:\n",
        "                print(\"Load Model\")\n",
        "                model = lgb.Booster(model_file=f'{name}_{fold}_{CFG.VERSION}.txt')\n",
        "\n",
        "            elif 'LGBMP' in name.upper():\n",
        "              # Fit the model\n",
        "              if train_flag==True:\n",
        "                model.fit(x_train, y_train)\n",
        "                dump(model, f'{name}_{fold}_{CFG.VERSION}.pkl')\n",
        "              else:\n",
        "                print(\"Load Model\")\n",
        "                model = load(f'{name}_{fold}_{CFG.VERSION}.pkl')\n",
        "\n",
        "            elif 'XGBR' in name.upper():\n",
        "              if train_flag==True:\n",
        "                model.fit(x_train, y_train, eval_set=[(x_val, y_val)],verbose=250)\n",
        "                model.save_model(f'{name}_{fold}_{CFG.VERSION}.json')\n",
        "              else:\n",
        "                print(\"Load Model\")\n",
        "                model = XGBRegressor()  # Create an instance of the model\n",
        "                model.load_model(f'{name}_{fold}_{CFG.VERSION}.json')\n",
        "\n",
        "            elif 'LGBM_2' in name.upper():\n",
        "              model.fit(x_train, y_train, eval_set=[(x_val, y_val)])\n",
        "\n",
        "\n",
        "            elif 'HGB_' in name.upper():\n",
        "              if train_flag==True:\n",
        "                model.fit(x_train, y_train)\n",
        "                dump(model, f'{name}_{fold}_{CFG.VERSION}.pkl')\n",
        "              else:\n",
        "                print(\"Load Model\")\n",
        "                model = load(f'{name}_{fold}_{CFG.VERSION}.pkl')\n",
        "\n",
        "            else:\n",
        "\n",
        "              model.fit(x_train, y_train)\n",
        "\n",
        "\n",
        "            #################### Predictions\n",
        "            if 'NN_' in name.upper():\n",
        "              y_pred_train = model.predict([X_train_cat,X_train_num], batch_size=2048).ravel()\n",
        "              y_pred_val   = model.predict([X_valid_cat, X_valid_num], batch_size=2048).ravel()\n",
        "              y_pred_test  = model.predict([X_test_cat, X_test_num], batch_size=1024).ravel()\n",
        "\n",
        "            elif 'NNMM_' in name.upper():\n",
        "              y_pred_train = model.predict([X_train_cat,X_train_num], batch_size=2048).ravel()\n",
        "              y_pred_val   = model.predict([X_valid_cat, X_valid_num], batch_size=2048).ravel()\n",
        "              y_pred_test  = model.predict([X_test_cat, X_test_num], batch_size=1024).ravel()\n",
        "\n",
        "              y_pred_train = y_pred_train*135+15\n",
        "              y_pred_val   = y_pred_val*135+15\n",
        "              y_pred_test  = y_pred_test*135+15\n",
        "\n",
        "            else:\n",
        "              y_pred_train = model.predict(x_train).ravel()\n",
        "              y_pred_val   = model.predict(x_val).ravel()\n",
        "              y_pred_test  = model.predict(self.X_test if not CB_CAT_FLAG else self.convert_cat(self.X_test)).ravel()\n",
        "\n",
        "            oof_train[val_idx] = y_pred_val\n",
        "            oof_test   += y_pred_test/CFG.CV.get_n_splits()\n",
        "\n",
        "            train_score = np.sqrt(mean_squared_error(y_train, y_pred_train))\n",
        "            val_score   = np.sqrt(mean_squared_error(y_val, y_pred_val))\n",
        "\n",
        "            print(f'Fold {fold+1} → Training set Score: {train_score:.5f} | Validation set Score: {val_score:.5f}')\n",
        "\n",
        "            scores_train.append(train_score)\n",
        "            scores_val.append(val_score)\n",
        "\n",
        "        self._OOF_train[name] = oof_train\n",
        "        self._OOF_test[name]  = oof_test\n",
        "\n",
        "        os.chdir('/content/drive/MyDrive/Exercises/Studies_Structured_Data/Data/S5E2')\n",
        "\n",
        "        print(colored(f'Overall → Training set Score: {np.mean(scores_train):.5f}±{np.std(scores_train):.7f} | Validation set Score: {np.mean(scores_val):.5f}±{np.std(scores_val):.7f}',\n",
        "              color='green', attrs=['bold', 'dark']))\n",
        "\n",
        "    def fit_models(self):\n",
        "        for name, model in list(self.models.items()):\n",
        "            print(colored(f'{\" \"*4} Fitting {name}', color='red', attrs=['dark', 'bold']))\n",
        "            self.fit_model(name, model[0], model[1])\n",
        "            print(\"\")\n",
        "\n",
        "    @property\n",
        "    def OOF_train(self):\n",
        "        return self._OOF_train\n",
        "    @property\n",
        "    def OOF_test(self):\n",
        "        return self._OOF_test\n",
        "\n",
        "    def save_predictions(self):\n",
        "        self._OOF_train.to_csv('OOF_train_many_models.csv', index=False)\n",
        "        self._OOF_test.to_csv('OOF_test_many_models.csv', index=False)"
      ],
      "metadata": {
        "execution": {
          "iopub.status.busy": "2025-02-03T01:57:46.491421Z",
          "iopub.execute_input": "2025-02-03T01:57:46.491688Z",
          "iopub.status.idle": "2025-02-03T01:57:46.503925Z",
          "shell.execute_reply.started": "2025-02-03T01:57:46.491663Z",
          "shell.execute_reply": "2025-02-03T01:57:46.50294Z"
        },
        "papermill": {
          "duration": 0.044089,
          "end_time": "2024-10-26T19:32:03.295732",
          "exception": false,
          "start_time": "2024-10-26T19:32:03.251643",
          "status": "completed"
        },
        "tags": [],
        "trusted": true,
        "id": "WypqJp7Q1KTh"
      },
      "outputs": [],
      "execution_count": null
    },
    {
      "cell_type": "markdown",
      "source": [
        "#### 4.1.1 First Level of Stacking\n",
        "We define a bunch of tree-based methods with many different hyperparameters configurations to aggregate diversity."
      ],
      "metadata": {
        "papermill": {
          "duration": 0.014633,
          "end_time": "2024-10-26T19:32:03.325194",
          "exception": false,
          "start_time": "2024-10-26T19:32:03.310561",
          "status": "completed"
        },
        "tags": [],
        "id": "mFxQScB81KTh"
      }
    },
    {
      "cell_type": "code",
      "source": [
        "os.chdir('/content/drive/MyDrive/Exercises/Studies_Structured_Data/Data/S5E2')"
      ],
      "metadata": {
        "id": "XEz8PpD8koh5"
      },
      "execution_count": null,
      "outputs": []
    },
    {
      "cell_type": "code",
      "source": [
        "data.X.info(),data.test.info()\n",
        "data.X.select_dtypes(include=['category', 'bool', 'category','int']).columns.to_list()"
      ],
      "metadata": {
        "id": "Um7Q4e55lmwT"
      },
      "execution_count": null,
      "outputs": []
    },
    {
      "cell_type": "code",
      "source": [
        "lgbm_params_1 = {'num_leaves': 103, 'min_child_samples': 36, 'subsample': 0.9131771240297577, 'subsample_freq': 2, 'colsample_bytree': 0.6190291906152294, 'reg_alpha': 0.03976551748855951, 'reg_lambda': 0.2576052197300848}\n",
        "lgbm_params_2 = {'max_depth': 5, 'learning_rate': 0.025, 'min_child_samples': 51, 'subsample': 0.90, 'subsample_freq': 1, 'colsample_bytree': 0.75, 'reg_alpha': 0.01, 'reg_lambda': 0.05}\n",
        "#lgbm_params_5 = {'max_depth': 5, 'learning_rate': 0.055, 'n_estimators': 3000, 'num_leaves': 31}\n",
        "#lgbm_params_6 = {'max_depth': 6, 'learning_rate': 0.01, 'n_estimators': 3000, 'num_leaves': 31}\n",
        "#lgbm_params_6 = {'max_depth': 9, 'learning_rate': 0.02, 'n_estimators': 2000, 'num_leaves': 31, \"subsample\":0.85, \"colsample_bytree\":0.85,\n",
        "#                 \"reg_alpha\":0.01, \"reg_lambda\":0.01, \"boosting_type\":\"gbdt\" }\n",
        "\n",
        "cb_cat_params_1   = {'iterations': 3000,'learning_rate': 0.025,'depth': 9, 'l2_leaf_reg': 0.004177701145518355,\n",
        "                     'bagging_temperature': 0.5, 'random_strength': 0.5,\"bootstrap_type\": \"Bayesian\",\n",
        "                     'cat_features': data.cat_features,'task_type': 'GPU',\n",
        "                     'random_seed':CFG.SEED,'verbose': 250,\"od_type\":'EBS',\"od_wait\":101,\"use_best_model\":True}\n",
        "\n",
        "cb_cat_params_2   = {'iterations': 1000,'learning_rate': 0.025,'depth': 4, 'l2_leaf_reg': 0.001,\n",
        "                     'bagging_temperature': 0.3, 'random_strength': 0.3,\"bootstrap_type\": \"Bayesian\",\n",
        "                     'cat_features': data.cat_features,'task_type': 'GPU',\n",
        "                     'random_seed':CFG.SEED,'verbose': 250,\"od_type\":'EBS',\"od_wait\":101,\"use_best_model\":True}\n",
        "\n",
        "xgb_params_1 = {'n_estimators': 3000,'learning_rate': 0.025,'max_depth': 9,'min_child_weight': 9,'subsample': 0.95,'colsample_bytree': 0.75,\n",
        "                'gamma': 0.5511841320880777,'reg_alpha': 0.006948944983035811,'reg_lambda': 0.0015661314558322087,\n",
        "                'objective': \"reg:squarederror\",'eval_metric': \"rmse\", \"early_stopping_rounds\":101, 'device':'gpu', 'tree_method': 'gpu_hist',\n",
        "                'random_state': CFG.SEED,'enable_categorical': True,\"verbosity\":0}\n",
        "\n",
        "xgb_params_2 = {'n_estimators': 1500,'learning_rate': 0.025,'max_depth': 5,'min_child_weight': 9,'subsample': 0.90,'colsample_bytree': 0.80,\n",
        "                'gamma': 0.10,'reg_alpha': 0.01,'reg_lambda': 0.01, 'objective': \"reg:squarederror\",'eval_metric': \"rmse\",\n",
        "                \"early_stopping_rounds\":101, 'device':'gpu', 'tree_method': 'gpu_hist','random_state': CFG.SEED,'enable_categorical': True,\"verbosity\":0}\n",
        "\n",
        "nn_params_v0 = {'units': 1024, 'last_layer': 2, 'activation': 'silu'}\n",
        "nn_params_v1 = {'units': 512, 'last_layer': 1, 'activation': 'relu', 'reg': 0.0002133354415296107, 'dropout_rate': 0.47090232042440616}\n",
        "nn_params_v2 = {'units': 256, 'last_layer': 1, 'activation': 'silu', 'reg': 0.0001, 'exite_units': 32, 'dropout_rate': 0.36}\n",
        "\n",
        "models={\n",
        "#        'LGBMR1_opt': [LGBMRegressor(learning_rate=0.02,boosting_type='gbdt',n_estimators=3000,objective=\"regression\",eval_metric=\"rmse\",device='gpu',verbose=-1,random_state= CFG.SEED,**lgbm_params_1),False],\n",
        "#        'LGBMR2_opt': [LGBMRegressor(verbose=-1, random_state=CFG.SEED, boosting_type='gbdt', device='cpu',n_estimators=1000,objective=\"regression\",eval_metric=\"rmse\", **lgbm_params_2),False],\n",
        "        #'LGBMR3': [LGBMRegressor(verbose=-1, random_state=CFG.SEED, data_sample_strategy='GOSS', device='gpu',n_estimators=211),False],\n",
        "        #'LGBMP4': [make_pipeline(CatBoostEncoder(), LGBMRegressor(verbose=-1, random_state=CFG.SEED, **lgbm_params_4, device='gpu')),False],\n",
        "        #'LGBMR5': [LGBMRegressor(verbose=-1, random_state=CFG.SEED, **lgbm_params_5, device='gpu'),False],\n",
        "        #'LGBMR6': [LGBMRegressor(verbose=-1, random_state=CFG.SEED, **lgbm_params_6, device='gpu'),False],\n",
        "\n",
        "#        'CB1_opt'   :[CatBoostRegressor(**cb_cat_params_1),False],\n",
        "#        'CB2_opt'   : [CatBoostRegressor(**cb_cat_params_2),False],\n",
        "    #    'CB3'   : [CatBoostRegressor(verbose=0, random_state=CFG.SEED, cat_features=data.cat_features, grow_policy='Lossguide', loss_function='RMSE', task_type='GPU', iterations=3000),False],\n",
        "    #    'CB4'   : [CatBoostRegressor(verbose=0, random_state=CFG.SEED, cat_features=data.cat_features, **cb_cat_params_4, loss_function='RMSE', task_type='GPU', iterations=3000),False],\n",
        "    #    'CB5'   : [CatBoostRegressor(verbose=0, random_state=CFG.SEED, cat_features=data.cat_features, iterations=3000, task_type='GPU'),False],\n",
        "    #   'CB_CAT1': [CatBoostRegressor(verbose=0, random_state=CFG.SEED, cat_features=data.test.columns.to_list(), iterations=750, task_type='GPU'),True],\n",
        "    #    'CB_CAT2': [CatBoostRegressor(verbose=0, random_state=CFG.SEED, cat_features=data.test.columns.to_list(), **cb_cat_params_4, loss_function='RMSE', task_type='GPU'),True],\n",
        "\n",
        "#        'XGBR1_opt' : [XGBRegressor(**xgb_params_1),False],\n",
        "#        'XGBR2_opt' : [XGBRegressor(**xgb_params_2),False],\n",
        "\n",
        "\n",
        "#        'HGB_TE': [make_pipeline(TargetEncoder(), HistGradientBoostingRegressor(random_state=CFG.SEED, max_iter=5000,\n",
        "#                                                                              learning_rate=0.035, max_depth=8,validation_fraction=0.15,\n",
        "#                                                                              early_stopping=True, l2_regularization=0.03,\n",
        "#                                                                             )),False],\n",
        "\n",
        "      #  'HGB_CE': [make_pipeline(CountEncoder(), HistGradientBoostingRegressor(random_state=CFG.SEED, max_iter=5000,\n",
        "      #                                                                          learning_rate=0.055, max_depth=5,\n",
        "      #                                                                          early_stopping=True,  validation_fraction=0.15\n",
        "      #                                                                        )),True],\n",
        "\n",
        "#        \"NN_v0\" : [build_model_v0(**nn_params_v0),True],\n",
        "#        \"NN_v1\" : [build_model_v1(**nn_params_v1),False],\n",
        "#        \"NN_v2\" : [build_model_v3(**nn_params_v2),False],\n",
        "         \"NNMM_v0\" : [build_model_v0_mm(**nn_params_v0),True],\n",
        "        }\n",
        "\n",
        "# TM = TrainModels(X=data.X, y=data.y, X_test=data.X_test, X_original=None, y_original=None, models=models)\n",
        "# TM.fit_models()"
      ],
      "metadata": {
        "execution": {
          "iopub.status.busy": "2025-02-03T01:57:46.505448Z",
          "iopub.execute_input": "2025-02-03T01:57:46.505649Z",
          "iopub.status.idle": "2025-02-03T02:51:59.869417Z",
          "shell.execute_reply.started": "2025-02-03T01:57:46.505631Z",
          "shell.execute_reply": "2025-02-03T02:51:59.868592Z"
        },
        "papermill": {
          "duration": 1396.693239,
          "end_time": "2024-10-26T19:55:20.033429",
          "exception": false,
          "start_time": "2024-10-26T19:32:03.34019",
          "status": "completed"
        },
        "tags": [],
        "trusted": true,
        "id": "CzGQ1DP71KTi"
      },
      "outputs": [],
      "execution_count": null
    },
    {
      "cell_type": "code",
      "source": [
        "# TM.OOF_test.to_csv(\"Stacked_Models_step1_OOF_test.csv\")\n",
        "# TM.OOF_train.to_csv(\"Stacked_Models_step1_OOF_train.csv\")"
      ],
      "metadata": {
        "id": "kN8VXc4Ua6tU"
      },
      "execution_count": null,
      "outputs": []
    },
    {
      "cell_type": "code",
      "source": [
        "OOF_train = pd.read_csv(\"/content/drive/MyDrive/Exercises/Studies_Structured_Data/Data/S5E2/Stacked_Models_step1_OOF_train.csv\", index_col=0)\n",
        "OOF_test = pd.read_csv(\"/content/drive/MyDrive/Exercises/Studies_Structured_Data/Data/S5E2/Stacked_Models_step1_OOF_test.csv\", index_col=0)"
      ],
      "metadata": {
        "id": "BA--HWmebXOl"
      },
      "execution_count": null,
      "outputs": []
    },
    {
      "cell_type": "code",
      "source": [
        "# OOF_train[\"NNMM_v0\"] = TM.OOF_train[\"NNMM_v0\"].values\n",
        "# OOF_test[\"NNMM_v0\"] = TM.OOF_test[\"NNMM_v0\"].values\n",
        "OOF_train[\"Target\"] = data.y\n",
        "OOF_train.head(5)"
      ],
      "metadata": {
        "id": "Ad3zmhyTb0Lt"
      },
      "execution_count": null,
      "outputs": []
    },
    {
      "cell_type": "code",
      "source": [
        "# OOF_test.to_csv(\"Stacked_Models_step1_OOF_test.csv\")\n",
        "# OOF_train.to_csv(\"Stacked_Models_step1_OOF_train.csv\")"
      ],
      "metadata": {
        "id": "aPdzqZ6n4OuF"
      },
      "execution_count": null,
      "outputs": []
    },
    {
      "cell_type": "code",
      "source": [
        "OOF_train.corr()"
      ],
      "metadata": {
        "id": "yde1IGghb-a_"
      },
      "execution_count": null,
      "outputs": []
    },
    {
      "cell_type": "code",
      "source": [
        "x1 = OOF_train[\"Target\"]\n",
        "x2 = OOF_train[\"LGBMR1_opt\"]\n",
        "\n",
        "plt.scatter(x1,x2)\n",
        "plt.show()"
      ],
      "metadata": {
        "id": "MyDHUxbdcYgn"
      },
      "execution_count": null,
      "outputs": []
    },
    {
      "cell_type": "code",
      "source": [
        "OOF_train_clipped = OOF_train.clip(15,150).copy()\n",
        "OOF_test_clipped = OOF_test.clip(15,150).copy()\n",
        "\n",
        "OOF_train_clipped.describe()"
      ],
      "metadata": {
        "id": "jMB0Y0qDSuGY"
      },
      "execution_count": null,
      "outputs": []
    },
    {
      "cell_type": "code",
      "source": [
        "OOF_train_clipped.corr()"
      ],
      "metadata": {
        "id": "vsBLnhydTDAZ"
      },
      "execution_count": null,
      "outputs": []
    },
    {
      "cell_type": "code",
      "source": [
        "OOF_train_clipped.describe()"
      ],
      "metadata": {
        "id": "DFOpS6XwZ-Iq"
      },
      "execution_count": null,
      "outputs": []
    },
    {
      "cell_type": "markdown",
      "source": [
        "#### 4.1.2 Second Level of Stacking\n",
        "We take the out-of-folds predictions from the previous models and fed them into simple linear methods like Ridge and Lasso. The alpha parameters have been tuned manually (i.e., trial and error)."
      ],
      "metadata": {
        "papermill": {
          "duration": 0.033525,
          "end_time": "2024-10-26T19:55:20.101705",
          "exception": false,
          "start_time": "2024-10-26T19:55:20.06818",
          "status": "completed"
        },
        "tags": [],
        "id": "Tl19oKm91KTj"
      }
    },
    {
      "cell_type": "code",
      "source": [
        "models2 = {\n",
        "          'Ridge2':[ Ridge(alpha=1),True],\n",
        "          'Lasso2': [Lasso(alpha=0.0002),True],\n",
        "          'LGBM_2' : [LGBMRegressor(max_depth=2, random_state=CFG.SEED, device='gpu'),True],\n",
        "          }\n",
        "\n",
        "TM2 = TrainModels(X=OOF_train_clipped.drop(\"Target\",axis=1), y=data.y, X_test=OOF_test_clipped, X_original=None, y_original=None, models=models2)\n",
        "TM2.fit_models()\n",
        "data.submit(sub=TM2.OOF_test.mean(axis=1), desc='lasso_ridge_mean')"
      ],
      "metadata": {
        "execution": {
          "iopub.status.busy": "2025-02-03T02:51:59.870325Z",
          "iopub.execute_input": "2025-02-03T02:51:59.870552Z",
          "iopub.status.idle": "2025-02-03T02:52:39.627066Z",
          "shell.execute_reply.started": "2025-02-03T02:51:59.870532Z",
          "shell.execute_reply": "2025-02-03T02:52:39.626195Z"
        },
        "papermill": {
          "duration": 1.891352,
          "end_time": "2024-10-26T19:55:22.027553",
          "exception": false,
          "start_time": "2024-10-26T19:55:20.136201",
          "status": "completed"
        },
        "tags": [],
        "trusted": true,
        "id": "AcuYSPyM1KTj"
      },
      "outputs": [],
      "execution_count": null
    },
    {
      "cell_type": "markdown",
      "source": [
        "Validation set Score Unclipped: 38.35725±0.3112433\n",
        "\n",
        "Validation set Score Clipped: 38.35690±0.3115080"
      ],
      "metadata": {
        "id": "iuCTx3FHloUo"
      }
    },
    {
      "cell_type": "code",
      "source": [
        "TM2_OOF_train = TM2.OOF_train.copy()\n",
        "TM2_OOF_test = TM2.OOF_test.copy()"
      ],
      "metadata": {
        "id": "blVXJ6EtkRfS"
      },
      "execution_count": null,
      "outputs": []
    },
    {
      "cell_type": "code",
      "source": [
        "submission = pd.read_csv(\"/content/drive/MyDrive/Exercises/Studies_Structured_Data/Data/S5E2/sample_submission.csv\",index_col=0)\n",
        "submission[\"Price\"] = TM2.OOF_test.mean(axis=1).values\n",
        "submission.to_csv(\"SUB_01_Second_Layer_clipped.csv\")\n",
        "second_layer_output = submission.copy()\n",
        "display(submission.head())"
      ],
      "metadata": {
        "id": "0C1DmHybk05n"
      },
      "execution_count": null,
      "outputs": []
    },
    {
      "cell_type": "markdown",
      "source": [
        "#### 4.1.3 Third Level of Stacking\n",
        "At this stage, the first level and second level out-of-fold predictions are incorporated into the original training data. This is then fed into another level of models to output the final stage of out-of-fold predictions which are finally averaged."
      ],
      "metadata": {
        "papermill": {
          "duration": 0.034722,
          "end_time": "2024-10-26T19:55:22.099225",
          "exception": false,
          "start_time": "2024-10-26T19:55:22.064503",
          "status": "completed"
        },
        "tags": [],
        "id": "0IuFkaqj1KTk"
      }
    },
    {
      "cell_type": "code",
      "source": [
        "data.cat_features,data.num_features"
      ],
      "metadata": {
        "id": "JNXfvkL7e871"
      },
      "execution_count": null,
      "outputs": []
    },
    {
      "cell_type": "code",
      "source": [
        "train = pd.concat([data.X,      OOF_train.drop(\"Target\",axis=1), TM2_OOF_train], axis=1)\n",
        "test  = pd.concat([data.X_test, OOF_test,  TM2_OOF_test], axis=1)\n",
        "\n",
        "models3 = {\n",
        "          'LGBM_21' : [LGBMRegressor(verbose=-1, random_state=CFG.SEED, max_depth=4, device='gpu'),True],\n",
        "          'CB_3'   : [CatBoostRegressor(verbose=0, random_state=CFG.SEED, cat_features=data.cat_features, task_type='GPU'),True],\n",
        "          'Ridge_3': [make_pipeline(TargetEncoder(cols=data.cat_features), Ridge(alpha=5)),True],\n",
        "          'Lasso_3': [make_pipeline(TargetEncoder(cols=data.cat_features), Lasso(alpha=0.001)),True],\n",
        "          }\n",
        "\n",
        "TM3  = TrainModels(X=train, y=data.y, X_test=test, X_original=None, y_original=None, models=models3)\n",
        "TM3.fit_models()\n",
        "\n",
        "TM3.save_predictions()"
      ],
      "metadata": {
        "execution": {
          "iopub.status.busy": "2025-02-03T02:52:39.628014Z",
          "iopub.execute_input": "2025-02-03T02:52:39.628303Z",
          "iopub.status.idle": "2025-02-03T03:02:09.91606Z",
          "shell.execute_reply.started": "2025-02-03T02:52:39.628278Z",
          "shell.execute_reply": "2025-02-03T03:02:09.915226Z"
        },
        "papermill": {
          "duration": 423.130115,
          "end_time": "2024-10-26T20:02:25.264332",
          "exception": false,
          "start_time": "2024-10-26T19:55:22.134217",
          "status": "completed"
        },
        "tags": [],
        "trusted": true,
        "id": "7XVP_opO1KTk"
      },
      "outputs": [],
      "execution_count": null
    },
    {
      "cell_type": "code",
      "source": [
        "data.submit(sub=TM3.OOF_test.mean(axis=1), desc='final_layer')"
      ],
      "metadata": {
        "execution": {
          "iopub.status.busy": "2025-02-03T03:02:09.91696Z",
          "iopub.execute_input": "2025-02-03T03:02:09.917291Z",
          "iopub.status.idle": "2025-02-03T03:02:10.278403Z",
          "shell.execute_reply.started": "2025-02-03T03:02:09.917259Z",
          "shell.execute_reply": "2025-02-03T03:02:10.277614Z"
        },
        "papermill": {
          "duration": 0.06412,
          "end_time": "2024-10-26T20:02:25.427822",
          "exception": false,
          "start_time": "2024-10-26T20:02:25.363702",
          "status": "completed"
        },
        "tags": [],
        "trusted": true,
        "id": "Ui09Yz5y1KTk"
      },
      "outputs": [],
      "execution_count": null
    },
    {
      "cell_type": "code",
      "source": [
        "TM3.OOF_test.mean(axis=1)"
      ],
      "metadata": {
        "trusted": true,
        "execution": {
          "iopub.status.busy": "2025-02-03T03:12:48.702102Z",
          "iopub.execute_input": "2025-02-03T03:12:48.702378Z",
          "iopub.status.idle": "2025-02-03T03:12:48.737359Z",
          "shell.execute_reply.started": "2025-02-03T03:12:48.702357Z",
          "shell.execute_reply": "2025-02-03T03:12:48.736785Z"
        },
        "id": "3UwUPsOx1KTl"
      },
      "outputs": [],
      "execution_count": null
    },
    {
      "cell_type": "code",
      "source": [
        "TM3.save_predictions()"
      ],
      "metadata": {
        "trusted": true,
        "id": "XMtQ8Rf-1KTl"
      },
      "outputs": [],
      "execution_count": null
    },
    {
      "cell_type": "code",
      "source": [
        "TM3.OOF_test.mean(axis=1)"
      ],
      "metadata": {
        "trusted": true,
        "id": "q-VVElGU1KTm"
      },
      "outputs": [],
      "execution_count": null
    },
    {
      "cell_type": "code",
      "source": [
        "submission = pd.read_csv(\"/content/drive/MyDrive/Exercises/Studies_Structured_Data/Data/S5E2/sample_submission.csv\",index_col=0)\n",
        "submission[\"Price\"] = TM3.OOF_test.mean(axis=1).values\n",
        "submission.to_csv(\"SUB_04_Final_Layer.csv\")\n",
        "final_layer_output = submission.copy()\n",
        "display(submission.head())\n",
        "submission[\"Price\"] = TM2.OOF_test.mean(axis=1).values\n",
        "submission.to_csv(\"SUB_04_Second_Layer.csv\")\n",
        "display(submission.head())\n",
        "second_layer_output = submission.copy()"
      ],
      "metadata": {
        "id": "DBNe-yhLnsdv"
      },
      "execution_count": null,
      "outputs": []
    },
    {
      "cell_type": "code",
      "source": [
        "OOF_train_clipped = OOF_train_clipped.clip(15,150)\n",
        "OOF_test_clipped = OOF_test_clipped.clip(15,150)\n",
        "OOF_test_clipped.describe()"
      ],
      "metadata": {
        "id": "m-GKbMevoq9K"
      },
      "execution_count": null,
      "outputs": []
    },
    {
      "cell_type": "code",
      "source": [
        "submission[\"Price\"] = OOF_test_clipped[\"NN_v0\"].values\n",
        "submission.to_csv(\"SUB_03_NN0.csv\")"
      ],
      "metadata": {
        "id": "z4Z1f8r7phKr"
      },
      "execution_count": null,
      "outputs": []
    },
    {
      "cell_type": "code",
      "source": [
        "root_mean_squared_error(OOF_train_clipped[\"Target\"],OOF_train_clipped[\"NN_v0\"])"
      ],
      "metadata": {
        "id": "iCXcFwNSadBn"
      },
      "execution_count": null,
      "outputs": []
    },
    {
      "cell_type": "code",
      "source": [
        "TM3.OOF_train[\"Target\"]=data.y.values"
      ],
      "metadata": {
        "id": "tL54z0zIF4Ci"
      },
      "execution_count": null,
      "outputs": []
    },
    {
      "cell_type": "code",
      "source": [
        "OOF_train_level_3 = TM3.OOF_train\n",
        "OOF_train_level_3\n",
        "\n",
        "all_forecast_train = pd.concat([OOF_train.drop(\"Target\",axis=1), TM2_OOF_train,OOF_train_level_3], axis=1)\n",
        "all_forecast_test = pd.concat([OOF_test,  TM2_OOF_test,TM3.OOF_test], axis=1)"
      ],
      "metadata": {
        "id": "3e-cRbjwF3-y"
      },
      "execution_count": null,
      "outputs": []
    },
    {
      "cell_type": "code",
      "source": [
        "all_forecast_test.corr()"
      ],
      "metadata": {
        "id": "FHS-FAWYF377"
      },
      "execution_count": null,
      "outputs": []
    },
    {
      "cell_type": "code",
      "source": [
        "all_forecast_train.to_csv(\"all_forecast_train.csv\")\n",
        "all_forecast_test.to_csv(\"all_forecast_test.csv\")"
      ],
      "metadata": {
        "id": "osBwUl30HXR8"
      },
      "execution_count": null,
      "outputs": []
    },
    {
      "cell_type": "markdown",
      "metadata": {
        "id": "jReIEHz6wysG"
      },
      "source": [
        "#### **4.6.4 NeuralNetwork v3**"
      ]
    },
    {
      "cell_type": "code",
      "source": [
        "data.cat_features,data.num_features"
      ],
      "metadata": {
        "id": "EyU08ZbXPTEe"
      },
      "execution_count": null,
      "outputs": []
    },
    {
      "cell_type": "code",
      "execution_count": null,
      "metadata": {
        "id": "QfBbW0LUwysH"
      },
      "outputs": [],
      "source": [
        "data.X.info()"
      ]
    },
    {
      "cell_type": "code",
      "source": [
        "class exitesqueeze_layer(layers.Layer):\n",
        "    def __init__(self, exite_units,dropout_rate,activation,reg):\n",
        "        super().__init__()\n",
        "\n",
        "        self.exite_units = exite_units\n",
        "        self.activation=activation\n",
        "        self.reg=reg\n",
        "\n",
        "        self.reshaped_0 = layers.Reshape((-1, 1))\n",
        "        self.reshaped_1 = layers.Reshape((-1, ))\n",
        "\n",
        "        self.exite = layers.Dense(self.exite_units, activation=self.activation)\n",
        "        self.squeeze = layers.Dense(1, activation=\"linear\",kernel_regularizer=keras.regularizers.l2(reg))\n",
        "        self.lnorm_00 = layers.LayerNormalization()\n",
        "        self.lnorm_01 = layers.LayerNormalization()\n",
        "        self.drop = layers.Dropout(rate=dropout_rate)\n",
        "        self.attention = layers.Attention()\n",
        "\n",
        "    def call(self, inputs):\n",
        "        x = self.reshaped_0(inputs)\n",
        "        x = self.exite(x)\n",
        "        att_out = self.attention([x,x])\n",
        "        att_out = self.lnorm_00(att_out)\n",
        "        x = layers.add([x, att_out])\n",
        "        x = self.squeeze(x)\n",
        "        x = self.reshaped_1(x)\n",
        "\n",
        "        x = layers.multiply([x, inputs])\n",
        "\n",
        "        x = self.lnorm_01(x)\n",
        "        x = self.drop(x)\n",
        "\n",
        "        return x\n",
        "\n",
        "    # Remove build warnings\n",
        "    def build(self):\n",
        "        self.built = True"
      ],
      "metadata": {
        "id": "UJ5OQf-rDnO8"
      },
      "execution_count": null,
      "outputs": []
    },
    {
      "cell_type": "code",
      "source": [
        "def build_model(units=512,exite_units=64, last_layer = 1, activation=\"relu\", reg=0.001, dropout_rate=0.33):\n",
        "\n",
        "    x_input_cats = layers.Input(shape=(len(data.cat_features),))\n",
        "    embs = []\n",
        "    for j in range(len(data.cat_features)):\n",
        "        e = layers.Embedding(cat_features_card[j], int(np.ceil(np.sqrt(cat_features_card[j]))))\n",
        "        x = e(x_input_cats[:,j])\n",
        "        x = layers.Flatten()(x)\n",
        "        embs.append(x)\n",
        "\n",
        "    x_input_nums = layers.Input(shape=(len(data.num_features),))\n",
        "\n",
        "    x_0 = layers.Concatenate(axis=-1, name=\"input_concat\")(embs+[x_input_nums])\n",
        "\n",
        "    es_0 = exitesqueeze_layer(exite_units=exite_units,\n",
        "                              dropout_rate=dropout_rate,\n",
        "                              activation=activation,\n",
        "                              reg=reg)(x_0)\n",
        "\n",
        "    x = layers.Concatenate(axis=-1, name=\"se_0_concat\")([x_0,es_0])\n",
        "    x = layers.BatchNormalization(name=\"se_0_bn\")(x)\n",
        "\n",
        "    es_1 = exitesqueeze_layer(exite_units=exite_units,\n",
        "                              dropout_rate=dropout_rate,\n",
        "                              activation=activation,\n",
        "                              reg=reg)(x)\n",
        "\n",
        "    x = layers.Concatenate(axis=-1, name=\"se_1_concat\")([x,es_1])\n",
        "    x = layers.BatchNormalization(name=\"se_1_bn\")(x)\n",
        "\n",
        "    es_2 = exitesqueeze_layer(exite_units=exite_units,\n",
        "                              dropout_rate=dropout_rate,\n",
        "                              activation=activation,\n",
        "                              reg=reg)(x)\n",
        "\n",
        "    x = layers.Concatenate(axis=-1, name=\"se_2_concat\")([x,es_2])\n",
        "    x = layers.BatchNormalization(name=\"se_2_bn\")(x)\n",
        "\n",
        "    x_0 = layers.Dense(units, name=\"dense_0\", activation=activation, kernel_regularizer=keras.regularizers.l2(reg))(x_0)\n",
        "    x_0 = layers.BatchNormalization(name=\"bn_0\")(x_0)\n",
        "    x_0 = layers.Dropout(dropout_rate,name=\"do_0\")(x_0)\n",
        "\n",
        "    x_0 = layers.Dense(int(units/last_layer), name=\"dense_1\", activation=activation, kernel_regularizer=keras.regularizers.l2(reg))(x_0)\n",
        "    x_0 = layers.BatchNormalization(name=\"bn_1\")(x_0)\n",
        "    x_0 = layers.Dropout(dropout_rate,name=\"do_1\")(x_0)\n",
        "\n",
        "    x = layers.Concatenate(axis=-1)([x_0,x])\n",
        "\n",
        "    x = layers.Dense(1, activation='linear')(x)\n",
        "\n",
        "    model = keras.Model(inputs=[x_input_cats,x_input_nums], outputs=x)\n",
        "    return model"
      ],
      "metadata": {
        "id": "avZAgIvUwysH"
      },
      "execution_count": null,
      "outputs": []
    },
    {
      "cell_type": "code",
      "source": [
        "mod_test = build_model(units=64,exite_units=16, last_layer = 2, activation=\"relu\", reg=0.001, dropout_rate=0.33)\n",
        "mod_test.summary()"
      ],
      "metadata": {
        "id": "cjfFlBj5wysI"
      },
      "execution_count": null,
      "outputs": []
    },
    {
      "cell_type": "code",
      "source": [
        "#plot_model(mod_test, show_shapes=True, show_dtype=True, show_layer_names=True, rankdir=\"TB\")"
      ],
      "metadata": {
        "id": "gxWhVnRkwysI"
      },
      "execution_count": null,
      "outputs": []
    },
    {
      "cell_type": "code",
      "source": [
        "#t.cat_features_card,np.ceil(np.sqrt(t.cat_features_card)),len(t.cat_features)"
      ],
      "metadata": {
        "id": "hTJyGENowysI"
      },
      "execution_count": null,
      "outputs": []
    },
    {
      "cell_type": "markdown",
      "metadata": {
        "id": "697CMLBjwysI"
      },
      "source": [
        "##### 4.2.2 Optuna Optimization:"
      ]
    },
    {
      "cell_type": "code",
      "execution_count": null,
      "metadata": {
        "id": "ujnWEIfcwysI"
      },
      "outputs": [],
      "source": [
        "categorical_feat = data.cat_features.copy()\n",
        "numerical_feat = data.num_features.copy()\n",
        "\n",
        "X_train_cat = data.X[categorical_feat].astype(\"int32\")\n",
        "X_train_num = data.X[numerical_feat].astype(\"float32\")\n",
        "\n",
        "X_test_cat = data.X_test[categorical_feat].astype(\"int32\")\n",
        "X_test_num = data.X_test[numerical_feat].astype(\"float32\")\n",
        "\n",
        "X_train_cat.info()\n",
        "X_train_num.info()"
      ]
    },
    {
      "cell_type": "code",
      "execution_count": null,
      "metadata": {
        "id": "DLdEjBBgwysI"
      },
      "outputs": [],
      "source": [
        "def objective_nn(trial, X, y, n_splits, n_repeats, model=build_model, use_gpu=True, rs=42, fit_scaling=False, cv_strategy=\"KFold\"):\n",
        "\n",
        "    model_class = model\n",
        "#(units=512,exite_units=64, last_layer = 1, activation=\"relu\",  reg=0.001, dropout_rate=0.33)\n",
        "    categorical_features = data.cat_features.copy()\n",
        "\n",
        "    num_cols = [col for col in X.columns if col not in categorical_features]\n",
        "\n",
        "    params = {'units': trial.suggest_categorical('units', [64,128,256]),#\n",
        "              'last_layer': trial.suggest_int('last_layer',1,2),#\n",
        "              'activation': trial.suggest_categorical('activation', [\"relu\",\"selu\",\"gelu\",\"silu\"]), #, reg=0.001, dropout_rate=0.33)\n",
        "              'reg': trial.suggest_categorical('reg', [0.00001,0.0001,0.001,0.01]),\n",
        "              \"exite_units\": trial.suggest_categorical('exite_units', [16,32,64]),#\n",
        "              'dropout_rate': trial.suggest_float('dropout_rate', 0.30, 0.51,step=0.03)\n",
        "              }\n",
        "\n",
        "    if cv_strategy == 'RepKFold':\n",
        "        kf = RepeatedKFold(n_splits=n_splits, n_repeats=n_repeats, random_state=rs)\n",
        "    elif cv_strategy == 'KFold':\n",
        "        kf = KFold(n_splits=n_splits, random_state=rs, shuffle=True)\n",
        "    elif cv_strategy == \"StratKFold\":\n",
        "        kf = StratifiedKFold(n_splits=n_splits, random_state=rs, shuffle=True)\n",
        "    elif cv_strategy == \"RepStratKFold\":\n",
        "        kf = RepeatedStratifiedKFold(n_splits=n_splits, n_repeats=n_repeats, random_state=rs)\n",
        "\n",
        "    rmse_scores = []\n",
        "\n",
        "    for idx_train, idx_valid in kf.split(X, y):\n",
        "\n",
        "        # Split the data into training and validation sets for the current fold\n",
        "        X_train, y_train = X.iloc[idx_train], y.iloc[idx_train].to_numpy()#.reshape(-1, 1)\n",
        "        X_valid, y_valid = X.iloc[idx_valid], y.iloc[idx_valid].to_numpy()#.reshape(-1, 1)\n",
        "\n",
        "        categorical_feat = data.cat_features.copy()\n",
        "        numerical_feat = data.num_features.copy()\n",
        "\n",
        "        X_train_cat = X_train[categorical_feat]\n",
        "        X_train_num = X_train[numerical_feat]\n",
        "\n",
        "        X_valid_cat = X_valid[categorical_feat]\n",
        "        X_valid_num = X_valid[numerical_feat]\n",
        "\n",
        "        # Create the model\n",
        "        keras.utils.set_random_seed(rs)\n",
        "        model = model_class(**params)\n",
        "\n",
        "        optimizer = keras.optimizers.Adam(learning_rate=1e-2)\n",
        "        model.compile(optimizer=optimizer, loss=keras.losses.MeanSquaredError(name=\"mean_squared_error\"),\n",
        "                      metrics=[keras.metrics.RootMeanSquaredError(name=\"RMSE\")])\n",
        "\n",
        "        # Fit the model\n",
        "        model.fit([X_train_cat,X_train_num], y_train,\n",
        "                  validation_data=([X_valid_cat, X_valid_num], y_valid),\n",
        "                  epochs=25,\n",
        "                  batch_size=1024,\n",
        "                  callbacks=[keras.callbacks.ReduceLROnPlateau(patience=2, min_lr=0.00005),\n",
        "                              keras.callbacks.EarlyStopping(patience=10, restore_best_weights=True, monitor=\"val_rmse\",\n",
        "                                                            start_from_epoch=3, mode=\"min\")])\n",
        "\n",
        "        # Make predictions on the validation set\n",
        "        y_pred = model.predict([X_valid_cat, X_valid_num], batch_size=1024)\n",
        "\n",
        "        # Calculate the RMSE for the current fold\n",
        "        rmse_score = root_mean_squared_error(y_valid, y_pred)\n",
        "        rmse_scores.append(rmse_score)\n",
        "\n",
        "    # Calculate the mean RMSLE score across all folds\n",
        "    key_metric = np.mean(rmse_scores)\n",
        "\n",
        "    return key_metric"
      ]
    },
    {
      "cell_type": "code",
      "execution_count": null,
      "metadata": {
        "id": "dyp2r5IkwysI"
      },
      "outputs": [],
      "source": [
        "# Step 2: Tuning Hyperparameters with Optuna\n",
        "def tune_hyperparameters(X, y, model_class, n_trials, n_splits_ ,n_repeats_, use_gpu=True):  #use_gpu\n",
        "    study = optuna.create_study(direction=\"minimize\", sampler=optuna.samplers.TPESampler(), pruner=optuna.pruners.MedianPruner(n_warmup_steps=5))\n",
        "    study.optimize(lambda trial: objective_nn(trial, X, y, n_splits=n_splits_, n_repeats=n_repeats_, model=build_model, use_gpu=use_gpu, cv_strategy=\"KFold\"), n_trials=n_trials)\n",
        "    return study  # Return the study object\n",
        "\n",
        "# Step 3: Saving Best Results and Models\n",
        "def save_results(study, model_class, model_name):\n",
        "    best_params_file = f\"{model_name}_best_params.joblib\"\n",
        "    joblib.dump(study.best_params, best_params_file)\n",
        "    print(f\"Best parameters for {model_name} saved to {best_params_file}\")\n",
        "\n",
        "    verbose_file = f\"{model_name}_optuna_verbose.log\"\n",
        "    with open(verbose_file, \"w\") as f:\n",
        "        f.write(str(study.trials))\n",
        "    print(f\"Optuna verbose for {model_name} saved to {verbose_file}\")# usage with XGBRegressor"
      ]
    },
    {
      "cell_type": "code",
      "execution_count": null,
      "metadata": {
        "id": "ZVi6cBIJwysI"
      },
      "outputs": [],
      "source": [
        "cat_study = tune_hyperparameters(data.X, data.y, model_class=build_model, n_trials=31, n_splits_ = 3 ,n_repeats_=3, use_gpu=True)\n",
        "#save_results(cat_study, TabNetClassifier, \"tabnet_ext\")\n",
        "cat_params = cat_study.best_params"
      ]
    },
    {
      "cell_type": "markdown",
      "source": [
        "- Trial 19 finished with value: 38.69609437218236\n",
        "- parameters: {'units': 256, 'last_layer': 1, 'activation': 'silu', 'reg': 0.0001, 'exite_units': 32, 'dropout_rate': 0.36}."
      ],
      "metadata": {
        "id": "tSHfbDyPOWgl"
      }
    },
    {
      "cell_type": "code",
      "source": [],
      "metadata": {
        "id": "0TKkv5dORbuZ"
      },
      "execution_count": null,
      "outputs": []
    }
  ]
}