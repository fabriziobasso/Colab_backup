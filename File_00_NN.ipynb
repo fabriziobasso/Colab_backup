{
  "nbformat": 4,
  "nbformat_minor": 0,
  "metadata": {
    "colab": {
      "provenance": [],
      "toc_visible": true,
      "machine_shape": "hm",
      "include_colab_link": true
    },
    "kernelspec": {
      "name": "python3",
      "display_name": "Python 3"
    },
    "language_info": {
      "name": "python"
    }
  },
  "cells": [
    {
      "cell_type": "markdown",
      "metadata": {
        "id": "view-in-github",
        "colab_type": "text"
      },
      "source": [
        "<a href=\"https://colab.research.google.com/github/fabriziobasso/Colab_backup/blob/main/File_00_NN.ipynb\" target=\"_parent\"><img src=\"https://colab.research.google.com/assets/colab-badge.svg\" alt=\"Open In Colab\"/></a>"
      ]
    },
    {
      "cell_type": "markdown",
      "metadata": {
        "id": "o16Z8wP_6UDV"
      },
      "source": [
        "# **<h1 align=\"center\"><font color='#001ddd'> GLUCOSE PREDICTION DATASET**</font></h1>\n",
        "\n",
        "## **Dataset Description**\n",
        "The dataset is from a study that collected data from young adults in the UK with type 1 diabetes, who used a continuous glucose monitor (CGM), an insulin pump and a smartwatch. These devices collected blood glucose readings, insulin dosage, carbohydrate intake, and activity data. The data collected was aggregated to five-minute intervals and formatted into samples. Each sample represents a point in time and includes the aggregated five-minute intervals from the previous six hours. The aim is to predict the blood glucose reading an hour into the future, for each of these samples.\n",
        "\n",
        "The training set takes samples from the first three months of study data from nine of the participants and includes the future blood glucose value. These training samples appear in chronological order and overlap. The testing set takes samples from the remainder of the study period from fifteen of the participants (so unseen participants appear in the testing set). These testing samples do not overlap and are in a random order to avoid data leakage.\n",
        "\n",
        "**Complexities to be aware of:**\n",
        "\n",
        "This is medical data so there are missing values and noise in the data\n",
        "the participants did not all use the same device models (CGM, insulin pump and smartwatch) so there may be differences in the collection method of the data\n",
        "some participants in the test set do not appear in the training set"
      ]
    },
    {
      "cell_type": "code",
      "execution_count": 1,
      "metadata": {
        "id": "--PrNXB8Ylys"
      },
      "outputs": [],
      "source": [
        "%%capture\n",
        "# Connect to Colab:#\n",
        "from google.colab import drive\n",
        "import os\n",
        "drive.mount('/content/drive')\n",
        "\n",
        "!pip install category-encoders\n",
        "!pip install optuna\n",
        "!pip install optuna-integration\n",
        "#!pip install scikit-learn==1.4\n",
        "!pip install catboost\n",
        "!pip install deeptables\n",
        "\n",
        "!pip install keras-tuner --upgrade\n",
        "!pip install keras-nlp\n",
        "!pip install BorutaShap\n",
        "!pip install scikit-lego\n",
        "!!pip install --no-index -U --find-links=/kaggle/input/deeptables-v0-2-5/deeptables-0.2.5 deeptables==0.2.5"
      ]
    },
    {
      "cell_type": "code",
      "execution_count": 2,
      "metadata": {
        "id": "ho3nCji3fPqQ"
      },
      "outputs": [],
      "source": [
        "folder_script = models_folders = \"/content/drive/MyDrive/Exercises/Studies_Structured_Data/Data/Glucose\"\n",
        "os.chdir(folder_script)"
      ]
    },
    {
      "cell_type": "code",
      "execution_count": 3,
      "metadata": {
        "id": "syKhpAm8jJZe",
        "colab": {
          "base_uri": "https://localhost:8080/",
          "height": 163
        },
        "outputId": "0a338e9a-c454-4a60-927d-cd1cf14e761b"
      },
      "outputs": [
        {
          "output_type": "stream",
          "name": "stderr",
          "text": [
            "/usr/local/lib/python3.10/dist-packages/dask/dataframe/__init__.py:42: FutureWarning: \n",
            "Dask dataframe query planning is disabled because dask-expr is not installed.\n",
            "\n",
            "You can install it with `pip install dask[dataframe]` or `conda install dask`.\n",
            "This will raise in a future version.\n",
            "\n",
            "  warnings.warn(msg, FutureWarning)\n"
          ]
        },
        {
          "output_type": "display_data",
          "data": {
            "text/plain": [
              "<Figure size 960x660 with 0 Axes>"
            ]
          },
          "metadata": {}
        }
      ],
      "source": [
        "from category_encoders.cat_boost import CatBoostEncoder\n",
        "from category_encoders.wrapper import PolynomialWrapper\n",
        "from category_encoders.count import CountEncoder\n",
        "\n",
        "# Setup notebook\n",
        "from pathlib import Path\n",
        "import ipywidgets as widgets\n",
        "import pandas as pd\n",
        "import numpy as np\n",
        "from pickle import load, dump\n",
        "import json\n",
        "import joblib\n",
        "#import calplot as cal\n",
        "import missingno as msno\n",
        "import category_encoders as ce\n",
        "\n",
        "# Graphic Libraries:\n",
        "import seaborn as sns\n",
        "import matplotlib as mpl\n",
        "import matplotlib.pyplot as plt\n",
        "import matplotlib.patches as patches\n",
        "import matplotlib.image as mpimg\n",
        "\n",
        "# Palette Setup\n",
        "colors = ['#FB5B68','#FFEB48','#2676A1','#FFBDB0',]\n",
        "colormap_0 = mpl.colors.LinearSegmentedColormap.from_list(\"\",colors)\n",
        "palette_1 = sns.color_palette(\"coolwarm\", as_cmap=True)\n",
        "palette_2 = sns.color_palette(\"YlOrBr\", as_cmap=True)\n",
        "palette_3 = sns.light_palette(\"red\", as_cmap=True)\n",
        "palette_4 = sns.color_palette(\"viridis\", as_cmap=True)\n",
        "palette_5 = sns.color_palette(\"rocket\", as_cmap=True)\n",
        "palette_6 = sns.color_palette(\"GnBu\", as_cmap=True)\n",
        "palette_7 = sns.color_palette(\"tab20c\", as_cmap=False)\n",
        "palette_8 = sns.color_palette(\"Set2\", as_cmap=False)\n",
        "\n",
        "palette_custom = ['#fbb4ae','#b3cde3','#ccebc5','#decbe4','#fed9a6','#ffffcc','#e5d8bd','#fddaec','#f2f2f2']\n",
        "palette_9 = sns.color_palette(palette_custom, as_cmap=False)\n",
        "\n",
        "\n",
        "# Bloomberg\n",
        "#from xbbg import blp\n",
        "from catboost import CatBoostRegressor, Pool\n",
        "import xgboost as xgb\n",
        "from xgboost import XGBRegressor, XGBClassifier\n",
        "from xgboost.callback import EarlyStopping\n",
        "\n",
        "import lightgbm as lgb\n",
        "from lightgbm import (LGBMRegressor,\n",
        "                      LGBMClassifier,\n",
        "                      early_stopping,\n",
        "                      record_evaluation,\n",
        "                      log_evaluation)\n",
        "\n",
        "# Time Management\n",
        "from tqdm import tqdm\n",
        "from datetime import date\n",
        "from datetime import datetime\n",
        "from pandas.tseries.offsets import BMonthEnd, QuarterEnd\n",
        "import datetime\n",
        "from pandas.tseries.offsets import BDay # BDay is business day, not birthday...\n",
        "import datetime as dt\n",
        "import click\n",
        "import glob\n",
        "import os\n",
        "import gc\n",
        "import re\n",
        "import string\n",
        "\n",
        "from ipywidgets import AppLayout\n",
        "from ipywidgets import Dropdown, Layout, HTML, AppLayout, VBox, Label, HBox, BoundedFloatText, interact, Output\n",
        "\n",
        "#from my_func import *\n",
        "\n",
        "import optuna\n",
        "from optuna.integration import TFKerasPruningCallback\n",
        "from optuna.trial import TrialState\n",
        "from optuna.visualization import plot_intermediate_values\n",
        "from optuna.visualization import plot_optimization_history\n",
        "from optuna.visualization import plot_param_importances\n",
        "from optuna.visualization import plot_contour\n",
        "\n",
        "os.environ[\"KERAS_BACKEND\"] = \"tensorflow\"\n",
        "\n",
        "import tensorflow as tf\n",
        "import keras\n",
        "from keras import ops\n",
        "from keras import layers\n",
        "\n",
        "from keras.layers import Input, LSTM, Dense, Lambda, RepeatVector, Reshape\n",
        "from keras.models import Model\n",
        "from keras.losses import MeanSquaredError\n",
        "from keras.metrics import RootMeanSquaredError, MeanAbsoluteError\n",
        "\n",
        "from keras.utils import FeatureSpace, plot_model\n",
        "\n",
        "# Import libraries for Hypertuning\n",
        "import keras_tuner as kt\n",
        "from keras_tuner.tuners import RandomSearch, GridSearch, BayesianOptimization\n",
        "\n",
        "#from my_func import *\n",
        "\n",
        "# preprocessing modules\n",
        "from sklearn.model_selection import train_test_split, KFold, StratifiedKFold, cross_val_score, cross_validate, GroupKFold, GridSearchCV, RepeatedStratifiedKFold, cross_val_predict\n",
        "\n",
        "from sklearn.preprocessing import (LabelEncoder,\n",
        "                                   StandardScaler,\n",
        "                                   MinMaxScaler,\n",
        "                                   OrdinalEncoder,\n",
        "                                   RobustScaler,\n",
        "                                   PowerTransformer,\n",
        "                                   OneHotEncoder,\n",
        "                                   LabelEncoder,\n",
        "                                   QuantileTransformer,\n",
        "                                   PolynomialFeatures)\n",
        "\n",
        "# metrics\n",
        "import sklearn\n",
        "from sklearn.metrics import (mean_squared_error,\n",
        "                             root_mean_squared_error,\n",
        "                             r2_score,\n",
        "                             mean_absolute_error,\n",
        "                             mean_absolute_percentage_error,\n",
        "                             classification_report,\n",
        "                             confusion_matrix,\n",
        "                             ConfusionMatrixDisplay,\n",
        "                             multilabel_confusion_matrix,\n",
        "                             accuracy_score,\n",
        "                             roc_auc_score,\n",
        "                             auc,\n",
        "                             roc_curve,\n",
        "                             log_loss,\n",
        "                             make_scorer)\n",
        "\n",
        "# modeling algos\n",
        "from sklearn.linear_model import (LogisticRegression,\n",
        "                                  Lasso,\n",
        "                                  ridge_regression,\n",
        "                                  LinearRegression,\n",
        "                                  Ridge,\n",
        "                                  RidgeCV,\n",
        "                                  ElasticNet,\n",
        "                                  BayesianRidge,\n",
        "                                  HuberRegressor,\n",
        "                                  TweedieRegressor,\n",
        "                                  QuantileRegressor,\n",
        "                                  ARDRegression,\n",
        "                                  TheilSenRegressor,\n",
        "                                  PoissonRegressor,\n",
        "                                  GammaRegressor)\n",
        "\n",
        "from sklearn.ensemble import (AdaBoostRegressor,\n",
        "                              AdaBoostClassifier,\n",
        "                              RandomForestRegressor,\n",
        "                              RandomForestClassifier,\n",
        "                              VotingRegressor,\n",
        "                              GradientBoostingRegressor,\n",
        "                              GradientBoostingClassifier,\n",
        "                              StackingRegressor,\n",
        "                              HistGradientBoostingClassifier,\n",
        "                              HistGradientBoostingRegressor,\n",
        "                              ExtraTreesClassifier)\n",
        "\n",
        "from sklearn.decomposition import PCA, TruncatedSVD\n",
        "from sklearn.compose import ColumnTransformer, make_column_transformer\n",
        "from sklearn.pipeline import Pipeline\n",
        "from sklearn.feature_selection import SelectFromModel\n",
        "from sklearn.preprocessing import FunctionTransformer\n",
        "from sklearn.experimental import enable_iterative_imputer\n",
        "from sklearn.impute import IterativeImputer\n",
        "from sklearn.feature_extraction.text import TfidfVectorizer\n",
        "from sklearn.cluster import KMeans\n",
        "from yellowbrick.cluster import KElbowVisualizer\n",
        "\n",
        "import warnings\n",
        "warnings.filterwarnings(\"ignore\")\n",
        "warnings.filterwarnings(\"ignore\", category=DeprecationWarning)\n",
        "warnings.filterwarnings(\"ignore\", category=FutureWarning)\n",
        "%matplotlib inline\n",
        "\n",
        "import seaborn as sns\n",
        "from statsmodels.tsa.deterministic import CalendarFourier, DeterministicProcess\n",
        "\n",
        "from sklearn.multioutput import RegressorChain\n",
        "from sklearn.preprocessing import LabelEncoder\n",
        "from xgboost import XGBRegressor\n",
        "\n",
        "import itertools\n",
        "import warnings\n",
        "import logging\n",
        "from openpyxl import load_workbook\n",
        "\n",
        "import statsmodels.api as sm\n",
        "from pylab import rcParams\n",
        "import scipy.stats as ss\n",
        "\n",
        "warnings.filterwarnings('ignore')\n",
        "#plt.style.use('fivethirtyeight')\n",
        "\n",
        "# Setting rc parameters in seaborn for plots and graphs-\n",
        "# Reference - https://matplotlib.org/stable/tutorials/introductory/customizing.html:-\n",
        "# To alter this, refer to matplotlib.rcParams.keys()\n",
        "\n",
        "sns.set({\"axes.facecolor\"       : \"#ffffff\",\n",
        "         \"figure.facecolor\"     : \"#ffffff\",\n",
        "         \"axes.edgecolor\"       : \"#000000\",\n",
        "         \"grid.color\"           : \"#ffffff\",\n",
        "         \"font.family\"          : ['Cambria'],\n",
        "         \"axes.labelcolor\"      : \"#000000\",\n",
        "         \"xtick.color\"          : \"#000000\",\n",
        "         \"ytick.color\"          : \"#000000\",\n",
        "         \"grid.linewidth\"       : 0.5,\n",
        "         'grid.alpha'           :0.5,\n",
        "         \"grid.linestyle\"       : \"--\",\n",
        "         \"axes.titlecolor\"      : 'black',\n",
        "         'axes.titlesize'       : 12,\n",
        "         'axes.labelweight'     : \"bold\",\n",
        "         'legend.fontsize'      : 7.0,\n",
        "         'legend.title_fontsize': 7.0,\n",
        "         'font.size'            : 7.5,\n",
        "         'xtick.labelsize'      : 7.5,\n",
        "         'ytick.labelsize'      : 7.5,\n",
        "        });\n",
        "\n",
        "sns.set_style(\"whitegrid\",{\"grid.linestyle\":\"--\", 'grid.linewidth':0.2, 'grid.alpha':0.5})\n",
        "# Set Style\n",
        "mpl.rcParams['figure.dpi'] = 120;\n",
        "\n",
        "# Making sklearn pipeline outputs as dataframe:-\n",
        "pd.set_option('display.max_columns', 100);\n",
        "pd.set_option('display.max_rows', 50);\n",
        "\n",
        "sns.despine(left=True, bottom=True, top=False, right=False)\n",
        "\n",
        "mpl.rcParams['axes.spines.left'] = True\n",
        "mpl.rcParams['axes.spines.right'] = False\n",
        "mpl.rcParams['axes.spines.top'] = False\n",
        "mpl.rcParams['axes.spines.bottom'] = True"
      ]
    },
    {
      "cell_type": "code",
      "source": [
        "tf.__version__"
      ],
      "metadata": {
        "id": "G8YvvLtMYTBK",
        "colab": {
          "base_uri": "https://localhost:8080/",
          "height": 36
        },
        "outputId": "c0ba1673-cd1d-4e1e-8cc2-27cb3f07c059"
      },
      "execution_count": 4,
      "outputs": [
        {
          "output_type": "execute_result",
          "data": {
            "text/plain": [
              "'2.17.0'"
            ],
            "application/vnd.google.colaboratory.intrinsic+json": {
              "type": "string"
            }
          },
          "metadata": {},
          "execution_count": 4
        }
      ]
    },
    {
      "cell_type": "markdown",
      "source": [
        "# 1.0 Upload Data"
      ],
      "metadata": {
        "id": "eIq4n5QIJtVc"
      }
    },
    {
      "cell_type": "markdown",
      "metadata": {
        "id": "UaMB0Ku9izBm"
      },
      "source": [
        "## 1.1 Functions:"
      ]
    },
    {
      "cell_type": "code",
      "execution_count": 5,
      "metadata": {
        "id": "HXVCNFXEiysu"
      },
      "outputs": [],
      "source": [
        "def encode_target(y_train, y_test, encoder_type='label', enc_strategy=False):\n",
        "    \"\"\"\n",
        "    Encodes the target columns in the training and testing data\n",
        "    using the specified encoder type.\n",
        "\n",
        "    Parameters:\n",
        "    y_train (pd.Series or pd.DataFrame): Training target data.\n",
        "    y_test (pd.Series or pd.DataFrame): Testing target data.\n",
        "\n",
        "    Returns:\n",
        "    y_train_encoded (pd.Series): Encoded training target data.\n",
        "    y_test_encoded (pd.Series): Encoded testing target data.\n",
        "    \"\"\"\n",
        "\n",
        "    if encoder_type == 'label':\n",
        "        encoder = LabelEncoder()\n",
        "        y_train_encoded = encoder.fit_transform(y_train)\n",
        "        y_test_encoded = encoder.transform(y_test)\n",
        "\n",
        "        y_train_encoded = pd.Series(y_train_encoded, index=y_train.index, name=\"Target\")\n",
        "        y_test_encoded = pd.Series(y_test_encoded, index=y_test.index, name=\"Target\")\n",
        "\n",
        "\n",
        "    elif encoder_type == 'onehot':\n",
        "        y_train_ = y_train.values.reshape(-1, 1)\n",
        "        y_test_ = y_test.values.reshape(-1, 1)\n",
        "\n",
        "        encoder = OneHotEncoder(sparse_output=False)\n",
        "        y_train_encoded = encoder.fit_transform(y_train_)\n",
        "        y_test_encoded = encoder.transform(y_test_)\n",
        "\n",
        "        y_train_encoded = pd.DataFrame(y_train_encoded, index=y_train.index)\n",
        "        y_test_encoded = pd.DataFrame(y_test_encoded, index=y_test.index)\n",
        "\n",
        "    else:\n",
        "        raise ValueError(\"Invalid encoder_type. Currently supported: 'label'.\")\n",
        "\n",
        "    if enc_strategy:\n",
        "        return y_train_encoded, y_test_encoded, encoder\n",
        "\n",
        "    else:\n",
        "        return y_train_encoded, y_test_encoded\n",
        "\n",
        "def encode_data(X_train, X_test, encoder_type='label', columns=None, map=None):\n",
        "    \"\"\"\n",
        "    Encodes the training and testing data using the specified encoder type.\n",
        "\n",
        "    Parameters:\n",
        "    X_train (pd.DataFrame): Training data.\n",
        "    X_test (pd.DataFrame): Testing data.\n",
        "    encoder_type (str): Type of encoder ('label' or 'onehot'). Default is 'label'.\n",
        "    columns (list): List of columns to encode. If None, all object type columns are encoded.\n",
        "\n",
        "    Returns:\n",
        "    X_train_encoded (pd.DataFrame): Encoded training data.\n",
        "    X_test_encoded (pd.DataFrame): Encoded testing data.\n",
        "    \"\"\"\n",
        "\n",
        "    if columns is None:\n",
        "        # Default to all object type columns if no columns are specified\n",
        "        columns = X_train.select_dtypes(include=['object']).columns.tolist()\n",
        "\n",
        "    X_train_encoded = X_train.copy()\n",
        "    X_test_encoded = X_test.copy()\n",
        "\n",
        "    if encoder_type == 'label':\n",
        "        for col in columns:\n",
        "            le = LabelEncoder()\n",
        "            X_train_encoded[col] = le.fit_transform(X_train[col])\n",
        "            X_test_encoded[col] = le.transform(X_test[col])\n",
        "\n",
        "    elif encoder_type == 'onehot':\n",
        "        for col in columns:\n",
        "            ohe = OneHotEncoder(handle_unknown='ignore', sparse_output=False, drop='first')\n",
        "            # Fit the encoder on the training data and transform both training and test data\n",
        "            encoded_train = ohe.fit_transform(X_train[[col]])\n",
        "            encoded_test = ohe.transform(X_test[[col]])\n",
        "\n",
        "            # Create a DataFrame with the encoded data\n",
        "            encoded_train_df = pd.DataFrame(encoded_train, columns=ohe.get_feature_names_out([col]))\n",
        "            encoded_test_df = pd.DataFrame(encoded_test, columns=ohe.get_feature_names_out([col]))\n",
        "\n",
        "            # Concatenate the new columns to the original dataframes and drop the original columns\n",
        "            X_train_encoded = pd.concat([X_train_encoded.drop(col, axis=1), encoded_train_df], axis=1)\n",
        "            X_test_encoded = pd.concat([X_test_encoded.drop(col, axis=1), encoded_test_df], axis=1)\n",
        "\n",
        "    elif encoder_type == 'count_encoder':\n",
        "\n",
        "          for col in columns:\n",
        "\n",
        "                target_encoder = CountEncoder(cols=columns)\n",
        "                X_train_encoded = target_encoder.fit_transform(X_train_encoded)\n",
        "                X_test_encoded = target_encoder.transform(X_test_encoded)\n",
        "\n",
        "    else:\n",
        "        raise ValueError(\"Invalid encoder_type. Currently supported: 'label', 'onehot', 'target_encoder'.\")\n",
        "\n",
        "    return X_train_encoded, X_test_encoded\n",
        "\n",
        "def plot_training_session(history):\n",
        "  # Plot training and validation loss scores\n",
        "  # against the number of epochs.\n",
        "  plt.figure(figsize=(8, 6))\n",
        "  plt.plot(history.history['loss'], label='Train')\n",
        "  plt.plot(history.history['val_loss'], label='Validation')\n",
        "  plt.grid(linestyle='--')\n",
        "  plt.ylabel('val_loss')\n",
        "  plt.xlabel('Epoch')\n",
        "  plt.title('Train-Validation Scores', pad=13)\n",
        "  plt.legend(loc='upper right');\n",
        "  plt.show()"
      ]
    },
    {
      "cell_type": "markdown",
      "metadata": {
        "id": "F5NjoRTdyVHe"
      },
      "source": [
        "## **1.2 Importing the Dataset**"
      ]
    },
    {
      "cell_type": "markdown",
      "metadata": {
        "id": "AEYVvvGmeG2W"
      },
      "source": [
        "### **1.2.1 Files**\n",
        "* activities.txt - a list of activity names that appear in the activity-X:XX columns\n",
        "* sample_submission.csv - a sample submission file in the correct format\n",
        "* test.csv - the test set\n",
        "* train.csv - the training set\n",
        "\n",
        "## **Columns**\n",
        "* train.csv:\n",
        "    * **id - row id** consisting of participant number and a count for that participant\n",
        "    * **p_num** - participant number\n",
        "    * **time** - time of day in the format HH:MM:SS\n",
        "    * **bg-X:XX** - blood glucose reading in mmol/L, X:XX(H:SS) time in the past (e.g. bg-2:35, would be the blood glucose reading from 2 hours and 35 minutes before the time value for that row), recorded by the continuous glucose monitor\n",
        "    * **insulin-X:XX** - total insulin dose received in units in the last 5 minutes, X:XX(H:SS) time in the past (e.g. insulin-2:35, would be the total insulin dose received between 2 hours and 40 minutes and 2 hours and 35 minutes before the time value for that row), recorded by the insulin pump\n",
        "    * **carbs-X:XX** - total carbohydrate value consumed in grammes in the last 5 minutes, X:XX(H:SS) time in the past (e.g. carbs-2:35, would be the total carbohydrate value consumed between 2 hours and 40 minutes and 2 hours and 35 minutes before the time value for that row), recorded by the participant\n",
        "    * **hr-X:XX** - mean heart rate in beats per minute in the last 5 minutes, X:XX(H:SS) time in the past (e.g. hr-2:35, would be the mean heart rate between 2 hours and 40 minutes and 2 hours and 35 minutes before the time value for that row), recorded by the smartwatch\n",
        "    * **steps-X:XX** - total steps walked in the last 5 minutes, X:XX(H:SS) time in the past (e.g. * steps-2:35, would be the total steps walked between 2 hours and 40 minutes and 2 hours and 35 minutes before the time value for that row), recorded by the smartwatch\n",
        "    * **cals-X:XX** - total calories burnt in the last 5 minutes, X:XX(H:SS) time in the past (e.g. cals-2:35, would be the total calories burned between 2 hours and 40 minutes and 2 hours and 35 minutes before the time value for that row), calculated by the smartwatch\n",
        "    * **activity-X:XX** - self-declared activity performed in the last 5 minutes, X:XX(H:SS) time in the past (e.g. activity-2:35, would show a string name of the activity performed between 2 hours and 40 minutes and 2 hours and 35 minutes before the time value for that row), set on the smartwatch\n",
        "    * **bg+1:00** - blood glucose reading in mmol/L an hour in the future, this is the value you will be predicting (not provided in test.csv)"
      ]
    },
    {
      "cell_type": "code",
      "execution_count": 6,
      "metadata": {
        "id": "9fiLvkXQuzJ3",
        "colab": {
          "base_uri": "https://localhost:8080/"
        },
        "outputId": "9b552e41-9ccc-4699-bcb2-9d0f5efa3cd0"
      },
      "outputs": [
        {
          "output_type": "stream",
          "name": "stdout",
          "text": [
            "(3644, 666) (177024, 667)\n"
          ]
        }
      ],
      "source": [
        "ext_data=True\n",
        "\n",
        "if ext_data==False:\n",
        "  df_train=pd.read_csv(\"/content/drive/MyDrive/Exercises/Studies_Structured_Data/Data/Glucose/train_cluster.csv\", index_col=0)\n",
        "  df_test=pd.read_csv(\"/content/drive/MyDrive/Exercises/Studies_Structured_Data/Data/Glucose/test_cluster.csv\", index_col=0)\n",
        "\n",
        "  df_train_scaled=pd.read_csv(\"/content/drive/MyDrive/Exercises/Studies_Structured_Data/Data/Glucose/X_train_scaled.csv\", index_col=0)\n",
        "  df_test.shape\n",
        "\n",
        "if ext_data==True:\n",
        "  df_train = pd.read_csv(\"/content/drive/MyDrive/Exercises/Studies_Structured_Data/Data/Glucose/train_cluster_enc_final.csv\", index_col=0)\n",
        "  df_test = pd.read_csv(\"/content/drive/MyDrive/Exercises/Studies_Structured_Data/Data/Glucose/test_cluster_enc_final.csv\", index_col=0)\n",
        "\n",
        "  df_train_scaled=pd.read_csv(\"/content/drive/MyDrive/Exercises/Studies_Structured_Data/Data/Glucose/X_train_scaled.csv\", index_col=0)\n",
        "  print(df_test.shape,df_train.shape)"
      ]
    },
    {
      "cell_type": "code",
      "execution_count": 8,
      "metadata": {
        "id": "UIdNSqVxOY7o",
        "colab": {
          "base_uri": "https://localhost:8080/",
          "height": 397
        },
        "outputId": "e6a8785e-cf31-43fd-fa5e-ccd05ffe560e"
      },
      "outputs": [
        {
          "output_type": "execute_result",
          "data": {
            "text/plain": [
              "p_num\n",
              "p03    26028\n",
              "p02    25872\n",
              "p10    25454\n",
              "p12    25299\n",
              "p04    24686\n",
              "p11    24555\n",
              "p01     8459\n",
              "p06     8383\n",
              "p05     8288\n",
              "Name: count, dtype: int64"
            ],
            "text/html": [
              "<div>\n",
              "<style scoped>\n",
              "    .dataframe tbody tr th:only-of-type {\n",
              "        vertical-align: middle;\n",
              "    }\n",
              "\n",
              "    .dataframe tbody tr th {\n",
              "        vertical-align: top;\n",
              "    }\n",
              "\n",
              "    .dataframe thead th {\n",
              "        text-align: right;\n",
              "    }\n",
              "</style>\n",
              "<table border=\"1\" class=\"dataframe\">\n",
              "  <thead>\n",
              "    <tr style=\"text-align: right;\">\n",
              "      <th></th>\n",
              "      <th>count</th>\n",
              "    </tr>\n",
              "    <tr>\n",
              "      <th>p_num</th>\n",
              "      <th></th>\n",
              "    </tr>\n",
              "  </thead>\n",
              "  <tbody>\n",
              "    <tr>\n",
              "      <th>p03</th>\n",
              "      <td>26028</td>\n",
              "    </tr>\n",
              "    <tr>\n",
              "      <th>p02</th>\n",
              "      <td>25872</td>\n",
              "    </tr>\n",
              "    <tr>\n",
              "      <th>p10</th>\n",
              "      <td>25454</td>\n",
              "    </tr>\n",
              "    <tr>\n",
              "      <th>p12</th>\n",
              "      <td>25299</td>\n",
              "    </tr>\n",
              "    <tr>\n",
              "      <th>p04</th>\n",
              "      <td>24686</td>\n",
              "    </tr>\n",
              "    <tr>\n",
              "      <th>p11</th>\n",
              "      <td>24555</td>\n",
              "    </tr>\n",
              "    <tr>\n",
              "      <th>p01</th>\n",
              "      <td>8459</td>\n",
              "    </tr>\n",
              "    <tr>\n",
              "      <th>p06</th>\n",
              "      <td>8383</td>\n",
              "    </tr>\n",
              "    <tr>\n",
              "      <th>p05</th>\n",
              "      <td>8288</td>\n",
              "    </tr>\n",
              "  </tbody>\n",
              "</table>\n",
              "</div><br><label><b>dtype:</b> int64</label>"
            ]
          },
          "metadata": {},
          "execution_count": 8
        }
      ],
      "source": [
        "df_train.p_num.value_counts()"
      ]
    },
    {
      "cell_type": "code",
      "source": [
        "df_train.p_num = df_train.p_num.astype(\"str\")\n",
        "df_test.p_num = df_test.p_num.astype(\"str\")"
      ],
      "metadata": {
        "id": "7CM4Y6Mr5CuF"
      },
      "execution_count": 9,
      "outputs": []
    },
    {
      "cell_type": "code",
      "source": [
        "#df_train.groupby([\"cluster\"])[\"p_num\"].count()"
      ],
      "metadata": {
        "id": "azNdRmatWeUD"
      },
      "execution_count": 10,
      "outputs": []
    },
    {
      "cell_type": "code",
      "execution_count": 11,
      "metadata": {
        "id": "N8OmmGKk8KPX"
      },
      "outputs": [],
      "source": [
        "#df_train.groupby([\"cluster\",\"p_num\"])[\"p_num\"].count()[8]"
      ]
    },
    {
      "cell_type": "code",
      "execution_count": 12,
      "metadata": {
        "id": "-nJ0_v3bl0_s",
        "colab": {
          "base_uri": "https://localhost:8080/"
        },
        "outputId": "4f24dae2-c955-4241-e786-62a08e2a1e7e"
      },
      "outputs": [
        {
          "output_type": "execute_result",
          "data": {
            "text/plain": [
              "Index(['p_num', 'hour', 'minute', 'obv_n', 'brake-5:55', 'brake-5:50',\n",
              "       'brake-5:45', 'brake-5:40', 'brake-5:35', 'brake-5:30',\n",
              "       ...\n",
              "       'PC_3', 'enc_01_v6', 'enc_02_v6', 'enc_07_v6', 'enc_08_v6', 'enc_01_v7',\n",
              "       'enc_03_v7', 'enc_04_v7', 'enc_06_v7', 'enc_07_v7'],\n",
              "      dtype='object', length=667)"
            ]
          },
          "metadata": {},
          "execution_count": 12
        }
      ],
      "source": [
        "df_train.head()\n",
        "df_train.columns"
      ]
    },
    {
      "cell_type": "code",
      "execution_count": 13,
      "metadata": {
        "id": "9Z8CiYrCCuNQ"
      },
      "outputs": [],
      "source": [
        "#df_all = pd.concat([df_train,df_test])"
      ]
    },
    {
      "cell_type": "markdown",
      "metadata": {
        "id": "5FXSnbRYnNg9"
      },
      "source": [
        "Sub-dataset are created for each main set of features to inpute missing values:"
      ]
    },
    {
      "cell_type": "code",
      "execution_count": 14,
      "metadata": {
        "id": "xHV_d6Ar-TX2"
      },
      "outputs": [],
      "source": [
        "# # Select columns containing the word \"bg\"\n",
        "# bg_col_train = df_train.filter(regex='bg|time|p_num|hour|minute')\n",
        "# bg_col_test = df_test.filter(regex='bg|time|p_num|hour|minute')\n",
        "\n",
        "# insulin_col_train = df_train.filter(regex='insulin|time|p_num|bg+1:00|hour|minute')\n",
        "# insulin_col_test = df_test.filter(regex='insulin|time|p_num|bg+1:00|hour|minute')\n",
        "# insulin_col_train[\"bg+1:00\"] = df_train[\"bg+1:00\"]\n",
        "\n",
        "# carb_col_train = df_train.filter(regex='carbs|time|p_num|bg+1:00|hour|minute')\n",
        "# carb_col_test = df_test.filter(regex='carbs|time|p_num|bg+1:00|hour|minute')\n",
        "# carb_col_train[\"bg+1:00\"] = df_train[\"bg+1:00\"]\n",
        "\n",
        "# hr_col_train = df_train.filter(regex='hr|time|p_num|bg+1:00|hour|minute')\n",
        "# hr_col_test = df_test.filter(regex='hr|time|p_num|bg+1:00|hour|minute')\n",
        "# hr_col_train[\"bg+1:00\"] = df_train[\"bg+1:00\"]\n",
        "\n",
        "# step_col_train = df_train.filter(regex='steps|time|p_num|bg+1:00|hour|minute')\n",
        "# step_col_test = df_test.filter(regex='steps|time|p_num|bg+1:00|hour|minute')\n",
        "# step_col_train[\"bg+1:00\"] = df_train[\"bg+1:00\"]\n",
        "\n",
        "# cal_col_train = df_train.filter(regex='cal|time|p_num|bg+1:00|hour|minute')\n",
        "# cal_col_test = df_test.filter(regex='cal|time|p_num|bg+1:00|hour|minute')\n",
        "# cal_col_train[\"bg+1:00\"] = df_train[\"bg+1:00\"]\n",
        "\n",
        "# act_col_train = df_train.filter(regex='activity|time|p_num|bg+1:00|hour|minute')\n",
        "# act_col_test = df_test.filter(regex='activity|time|p_num|bg+1:00|hour|minute')\n",
        "# act_col_train[\"bg+1:00\"] = df_train[\"bg+1:00\"]"
      ]
    },
    {
      "cell_type": "code",
      "source": [
        "print(df_train.shape)\n",
        "display(dict(df_train.groupby(\"p_num\")[\"p_num\"].count()))\n",
        "display(dict(df_test.groupby(\"p_num\")[\"p_num\"].count()))\n",
        "#display(df_train[df_train[\"p_num\"]==\"p01\"].head())\n",
        "#display(df_train[df_train[\"p_num\"]==\"p02\"].head())"
      ],
      "metadata": {
        "id": "IYaD4UwO-dDQ",
        "colab": {
          "base_uri": "https://localhost:8080/",
          "height": 473
        },
        "outputId": "a3aefa04-7a54-488e-b4ca-e3af22516ae6"
      },
      "execution_count": 15,
      "outputs": [
        {
          "output_type": "stream",
          "name": "stdout",
          "text": [
            "(177024, 667)\n"
          ]
        },
        {
          "output_type": "display_data",
          "data": {
            "text/plain": [
              "{'p01': 8459,\n",
              " 'p02': 25872,\n",
              " 'p03': 26028,\n",
              " 'p04': 24686,\n",
              " 'p05': 8288,\n",
              " 'p06': 8383,\n",
              " 'p10': 25454,\n",
              " 'p11': 24555,\n",
              " 'p12': 25299}"
            ]
          },
          "metadata": {}
        },
        {
          "output_type": "display_data",
          "data": {
            "text/plain": [
              "{'p01': 244,\n",
              " 'p02': 227,\n",
              " 'p04': 258,\n",
              " 'p05': 276,\n",
              " 'p06': 234,\n",
              " 'p10': 179,\n",
              " 'p11': 221,\n",
              " 'p12': 288,\n",
              " 'p15': 294,\n",
              " 'p16': 248,\n",
              " 'p18': 231,\n",
              " 'p19': 246,\n",
              " 'p21': 236,\n",
              " 'p22': 201,\n",
              " 'p24': 261}"
            ]
          },
          "metadata": {}
        }
      ]
    },
    {
      "cell_type": "markdown",
      "source": [
        "##### **Cross-Validation Strategy:**\n",
        "\n",
        "- *p03*: this individual is not among the test population. Therefore, it is heavily sampled by this observations. Total sampled: 25%/6028 obs.  \n",
        "- *Other*: About 5% of the onbs."
      ],
      "metadata": {
        "id": "V2TVKqQuHwES"
      }
    },
    {
      "cell_type": "markdown",
      "source": [
        "- Validation List 0"
      ],
      "metadata": {
        "id": "ue3pd5qk2Sw8"
      }
    },
    {
      "cell_type": "code",
      "source": [
        "unique_ind = df_train.groupby(\"p_num\")[\"p_num\"].count().index.tolist()\n",
        "#display(df_train.groupby(\"p_num\")[\"p_num\"].count())\n",
        "#unique_ind.remove(\"p03\")\n",
        "print(df_train.shape)\n",
        "val_index = []\n",
        "new_val_p01 = [f\"p01_{vali}\" for vali in range(8_000,8459)]\n",
        "new_val_p02 = [f\"p02_{vali}\" for vali in range(24_000,25_872)]\n",
        "new_val_p03 = [f\"p03_{vali}\" for vali in range(23_500,26_028)]\n",
        "new_val_p04 = [f\"p04_{vali}\" for vali in range(23_500,24_686)]\n",
        "new_val_p05 = [f\"p05_{vali}\" for vali in range(7800,8288)]\n",
        "new_val_p06 = [f\"p06_{vali}\" for vali in range(7900,8383)]\n",
        "new_val_p10 = [f\"p10_{vali}\" for vali in range(24_500,25454)]\n",
        "new_val_p11 = [f\"p11_{vali}\" for vali in range(23_500,24555)]\n",
        "new_val_p12 = [f\"p12_{vali}\" for vali in range(24_000,25299)]\n",
        "\n",
        "new_val_p01 = list(X_enc[(X_enc[\"p_num\"]==\"p01\")&(X_enc[\"obv_n\"]>=7600)].index)\n",
        "new_val_p02 = list(X_enc[(X_enc[\"p_num\"]==\"p02\")&(X_enc[\"obv_n\"]>=22500)].index)\n",
        "new_val_p03 = list(X_enc[(X_enc[\"p_num\"]==\"p03\")&(X_enc[\"obv_n\"]>=23000)].index)\n",
        "new_val_p04 = list(X_enc[(X_enc[\"p_num\"]==\"p04\")&(X_enc[\"obv_n\"]>=22000)].index)\n",
        "new_val_p05 = list(X_enc[(X_enc[\"p_num\"]==\"p05\")&(X_enc[\"obv_n\"]>=7600)].index)\n",
        "new_val_p06 = list(X_enc[(X_enc[\"p_num\"]==\"p06\")&(X_enc[\"obv_n\"]>=7600)].index)\n",
        "new_val_p01 = list(X_enc[(X_enc[\"p_num\"]==\"p10\")&(X_enc[\"obv_n\"]>=22500)].index)\n",
        "new_val_p01 = list(X_enc[(X_enc[\"p_num\"]==\"p11\")&(X_enc[\"obv_n\"]>=22000)].index)\n",
        "new_val_p01 = list(X_enc[(X_enc[\"p_num\"]==\"p12\")&(X_enc[\"obv_n\"]>=22500)].index)\n",
        "\n",
        "val_index.append(new_val_p01)\n",
        "val_index.append(new_val_p02)\n",
        "val_index.append(new_val_p03)\n",
        "val_index.append(new_val_p04)\n",
        "val_index.append(new_val_p05)\n",
        "val_index.append(new_val_p06)\n",
        "val_index.append(new_val_p10)\n",
        "val_index.append(new_val_p11)\n",
        "val_index.append(new_val_p12)\n",
        "#unique_ind\n",
        "val_list_v0 = [item for row in val_index for item in row]\n",
        "print(len(val_list_v0)/float(df_train.shape[0]))"
      ],
      "metadata": {
        "id": "MhkcZsDVJAAN",
        "colab": {
          "base_uri": "https://localhost:8080/"
        },
        "outputId": "6f4f0a33-73ce-4ccb-b845-333a213d600e"
      },
      "execution_count": null,
      "outputs": [
        {
          "output_type": "stream",
          "name": "stdout",
          "text": [
            "(177024, 654)\n",
            "0.058319775849602316\n"
          ]
        }
      ]
    },
    {
      "cell_type": "markdown",
      "source": [
        "- Validation List 1"
      ],
      "metadata": {
        "id": "4hXGd8zK2Wa1"
      }
    },
    {
      "cell_type": "code",
      "source": [
        "unique_ind = df_train.groupby(\"p_num\")[\"p_num\"].count().index.tolist()\n",
        "#display(df_train.groupby(\"p_num\")[\"p_num\"].count())\n",
        "#unique_ind.remove(\"p03\")\n",
        "print(df_train.shape)\n",
        "val_index = []\n",
        "new_val_p01 = [f\"p01_{vali}\" for vali in range(459)]\n",
        "new_val_p02 = [f\"p02_{vali}\" for vali in range(1872)]\n",
        "new_val_p03 = [f\"p03_{vali}\" for vali in range(2528)]\n",
        "new_val_p04 = [f\"p04_{vali}\" for vali in range(1186)]\n",
        "new_val_p05 = [f\"p05_{vali}\" for vali in range(488)]\n",
        "new_val_p06 = [f\"p06_{vali}\" for vali in range(483)]\n",
        "new_val_p10 = [f\"p10_{vali}\" for vali in range(954)]\n",
        "new_val_p11 = [f\"p11_{vali}\" for vali in range(1055)]\n",
        "new_val_p12 = [f\"p12_{vali}\" for vali in range(1299)]\n",
        "\n",
        "val_index.append(new_val_p01)\n",
        "val_index.append(new_val_p02)\n",
        "val_index.append(new_val_p03)\n",
        "val_index.append(new_val_p04)\n",
        "val_index.append(new_val_p05)\n",
        "val_index.append(new_val_p06)\n",
        "val_index.append(new_val_p10)\n",
        "val_index.append(new_val_p11)\n",
        "val_index.append(new_val_p12)\n",
        "#unique_ind\n",
        "val_list_v1 = [item for row in val_index for item in row]\n",
        "print(len(val_list_v1)/float(df_train.shape[0]))"
      ],
      "metadata": {
        "id": "E78phacmI_9H",
        "colab": {
          "base_uri": "https://localhost:8080/"
        },
        "outputId": "5b272f3c-459f-4864-82b6-225bc32360bf"
      },
      "execution_count": null,
      "outputs": [
        {
          "output_type": "stream",
          "name": "stdout",
          "text": [
            "(177024, 654)\n",
            "0.058319775849602316\n"
          ]
        }
      ]
    },
    {
      "cell_type": "markdown",
      "source": [
        "- Validation List 2: it Removes \"p03\" from the training:"
      ],
      "metadata": {
        "id": "UA45B4Sz2bH3"
      }
    },
    {
      "cell_type": "code",
      "source": [
        "val_index = []\n",
        "\n",
        "new_val_p03 = list(df_train[df_train[\"p_num\"]==\"p03\"].index)\n",
        "\n",
        "new_val_p01 = [f\"p01_{vali}\" for vali in range(8459,8459)]\n",
        "new_val_p02 = [f\"p02_{vali}\" for vali in range(24_000,25_872)]\n",
        "new_val_p04 = [f\"p04_{vali}\" for vali in range(23_500,24_686)]\n",
        "new_val_p05 = [f\"p05_{vali}\" for vali in range(7800,8288)]\n",
        "new_val_p06 = [f\"p06_{vali}\" for vali in range(7900,8383)]\n",
        "new_val_p10 = [f\"p10_{vali}\" for vali in range(24_500,25454)]\n",
        "new_val_p11 = [f\"p11_{vali}\" for vali in range(23_500,24555)]\n",
        "new_val_p12 = [f\"p12_{vali}\" for vali in range(24_000,25299)]\n",
        "\n",
        "val_index.append(new_val_p01)\n",
        "val_index.append(new_val_p02)\n",
        "val_index.append(new_val_p03)\n",
        "val_index.append(new_val_p04)\n",
        "val_index.append(new_val_p05)\n",
        "val_index.append(new_val_p06)\n",
        "val_index.append(new_val_p10)\n",
        "val_index.append(new_val_p11)\n",
        "val_index.append(new_val_p12)\n",
        "\n",
        "val_list_v2 = [item for row in val_index for item in row]\n",
        "print(len(val_list_v2)/float(df_train.shape[0]))"
      ],
      "metadata": {
        "id": "nSe2OTab2R-8",
        "colab": {
          "base_uri": "https://localhost:8080/"
        },
        "outputId": "df0ded34-ac84-4d8f-9f63-35262742e886"
      },
      "execution_count": null,
      "outputs": [
        {
          "output_type": "stream",
          "name": "stdout",
          "text": [
            "0.18847726861894432\n"
          ]
        }
      ]
    },
    {
      "cell_type": "markdown",
      "source": [
        "- Validation List 3"
      ],
      "metadata": {
        "id": "uhqBsTua6b9A"
      }
    },
    {
      "cell_type": "code",
      "source": [
        "_, vld = train_test_split(df_train, test_size=0.2, random_state=42, stratify=df_train[\"p_num\"], shuffle=True)\n",
        "val_list_v3 = vld.index.tolist()\n",
        "print(len(val_list_v3)/float(df_train.shape[0]))"
      ],
      "metadata": {
        "id": "j4-D2JoQ6fT8"
      },
      "execution_count": null,
      "outputs": []
    },
    {
      "cell_type": "code",
      "source": [
        "val_sets = [val_list_v0,val_list_v1,val_list_v2,val_list_v3]"
      ],
      "metadata": {
        "id": "Ust85u7II_55"
      },
      "execution_count": null,
      "outputs": []
    },
    {
      "cell_type": "markdown",
      "metadata": {
        "id": "vdYNfgB1gObc"
      },
      "source": [
        "###  **1.2.2 Data Preparation:**\n",
        "\n",
        "Data are scaled in groups."
      ]
    },
    {
      "cell_type": "code",
      "source": [
        "#X_train = df_train.drop(columns=[\"p_num\",\"obv_n\"]).copy()\n",
        "#X_test = df_test.drop(columns=[\"p_num\",\"obv_n\"]).copy()\n",
        "\n",
        "X_train = df_train.drop(columns=[\"obv_n\"]).copy()\n",
        "X_test = df_test.drop(columns=[\"obv_n\"]).copy()"
      ],
      "metadata": {
        "id": "UUDy375o9DPX"
      },
      "execution_count": null,
      "outputs": []
    },
    {
      "cell_type": "code",
      "execution_count": null,
      "metadata": {
        "id": "OwLn5-lSY1g3"
      },
      "outputs": [],
      "source": [
        "static_fields = [\"p_num\",\"hour\",\"minute\",'cluster'] #\"id\",\n",
        "target = [\"bg+1:00\"]\n",
        "ts_fields = list(X_train.drop(columns=static_fields+target))"
      ]
    },
    {
      "cell_type": "code",
      "source": [
        "target_scaler = StandardScaler()\n",
        "target_scaler.fit(df_train_scaled[target])"
      ],
      "metadata": {
        "id": "Nh2LRlxA3okI"
      },
      "execution_count": null,
      "outputs": []
    },
    {
      "cell_type": "code",
      "source": [
        "X_test[target] = np.nan\n",
        "\n",
        "X_train = X_train[list(X_test.columns)]"
      ],
      "metadata": {
        "id": "ACo0DVA5PDvk"
      },
      "execution_count": null,
      "outputs": []
    },
    {
      "cell_type": "code",
      "source": [
        "(X_train.columns==X_test.columns).all()"
      ],
      "metadata": {
        "id": "bm92GR08f5J4",
        "colab": {
          "base_uri": "https://localhost:8080/"
        },
        "outputId": "5f1e5be0-84bf-4539-d5d2-0119ae97a94a"
      },
      "execution_count": null,
      "outputs": [
        {
          "output_type": "execute_result",
          "data": {
            "text/plain": [
              "True"
            ]
          },
          "metadata": {},
          "execution_count": 381
        }
      ]
    },
    {
      "cell_type": "code",
      "execution_count": null,
      "metadata": {
        "id": "odQB0ciycJWf",
        "colab": {
          "base_uri": "https://localhost:8080/"
        },
        "outputId": "280c885a-6f33-40fc-903e-5bf70afcbbc4"
      },
      "outputs": [
        {
          "output_type": "execute_result",
          "data": {
            "text/plain": [
              "['bg',\n",
              " 'carbs_av',\n",
              " 'brake',\n",
              " 'activity',\n",
              " 'insulin_av',\n",
              " 'cals_av',\n",
              " 'steps_av',\n",
              " 'intake',\n",
              " 'hr']"
            ]
          },
          "metadata": {},
          "execution_count": 382
        }
      ],
      "source": [
        "ts_fields_group = list({q[:-5] for q in ts_fields})\n",
        "ts_fields_group"
      ]
    },
    {
      "cell_type": "code",
      "source": [
        "X_train = X_train.copy()\n",
        "X_test = X_test.copy()"
      ],
      "metadata": {
        "id": "EY2S5D2R_QWd"
      },
      "execution_count": null,
      "outputs": []
    },
    {
      "cell_type": "code",
      "source": [
        "int_cols = X_train.select_dtypes(include=['int']).columns.tolist()\n",
        "float_cols = X_train.select_dtypes(include=['float']).columns.tolist()\n",
        "obj_cols = X_train.select_dtypes(include=['object']).columns.tolist()\n",
        "\n",
        "X_train[int_cols] = X_train[int_cols].astype(\"int32\")\n",
        "X_train[float_cols] = X_train[float_cols].astype(\"float32\")\n",
        "X_train[obj_cols] = X_train[obj_cols].astype(\"string\")\n",
        "\n",
        "X_test[int_cols] = X_test[int_cols].astype(\"int32\")\n",
        "X_test[float_cols] = X_test[float_cols].astype(\"float32\")\n",
        "X_test[obj_cols] = X_test[obj_cols].astype(\"string\")"
      ],
      "metadata": {
        "id": "ouO2Yf1qpNiT"
      },
      "execution_count": null,
      "outputs": []
    },
    {
      "cell_type": "code",
      "source": [
        "X_train.shape, X_test.shape"
      ],
      "metadata": {
        "id": "2HEN6SUz_TL1",
        "colab": {
          "base_uri": "https://localhost:8080/"
        },
        "outputId": "d2f483a5-99cf-4512-cd9b-7066f6fafdeb"
      },
      "execution_count": null,
      "outputs": [
        {
          "output_type": "execute_result",
          "data": {
            "text/plain": [
              "((177024, 653), (3644, 653))"
            ]
          },
          "metadata": {},
          "execution_count": 385
        }
      ]
    },
    {
      "cell_type": "code",
      "source": [
        "X_train.info()"
      ],
      "metadata": {
        "id": "yb2Obgb13vdo",
        "colab": {
          "base_uri": "https://localhost:8080/"
        },
        "outputId": "6f80a555-4d90-4ae2-e22b-63474bdefa99"
      },
      "execution_count": null,
      "outputs": [
        {
          "output_type": "stream",
          "name": "stdout",
          "text": [
            "<class 'pandas.core.frame.DataFrame'>\n",
            "Index: 177024 entries, p01_0 to p12_25298\n",
            "Columns: 653 entries, p_num to bg+1:00\n",
            "dtypes: float32(649), int32(3), string(1)\n",
            "memory usage: 447.0+ MB\n"
          ]
        }
      ]
    },
    {
      "cell_type": "markdown",
      "source": [
        "# **2.0 Neural Network Preparation:**"
      ],
      "metadata": {
        "id": "UG_hd3oiJkiV"
      }
    },
    {
      "cell_type": "markdown",
      "source": [
        "## **2.1 MODEL 01**"
      ],
      "metadata": {
        "id": "XhpN5CyY8FpI"
      }
    },
    {
      "cell_type": "markdown",
      "source": [
        "### 2.1.1 Create Dataloader:"
      ],
      "metadata": {
        "id": "R0DhCJeVotb8"
      }
    },
    {
      "cell_type": "code",
      "source": [
        "#X_test.sample(3)"
      ],
      "metadata": {
        "id": "ew3vx-307akC"
      },
      "execution_count": null,
      "outputs": []
    },
    {
      "cell_type": "code",
      "source": [
        "gc.collect()\n",
        "#X_train.sample(3)"
      ],
      "metadata": {
        "id": "1I2oq5LHqUs8"
      },
      "execution_count": null,
      "outputs": []
    },
    {
      "cell_type": "code",
      "source": [
        "def dataframe_to_dataset(dataframe, shuffle=False, batch_size=32, flds = ts_fields):\n",
        "    dataframe = dataframe.copy()\n",
        "    target = dataframe[\"bg+1:00\"]\n",
        "    dataframe = dataframe.drop(columns=[\"bg+1:00\"])\n",
        "\n",
        "    timeseries_df = dataframe[flds].values\n",
        "    timeseries_df = timeseries_df.reshape((-1, 72, 9))\n",
        "    static_df = dataframe.drop(columns=flds)\n",
        "\n",
        "    ds = tf.data.Dataset.from_tensor_slices(((static_df[\"hour\"].values,  # First input\n",
        "                                              static_df[\"minute\"].values,  # Second input\n",
        "                                              static_df[\"cluster\"].values,  # Third input\n",
        "                                              static_df[\"p_num\"].values,  # Fourth input\n",
        "                                              timeseries_df),\n",
        "                                              target))\n",
        "\n",
        "    if shuffle:\n",
        "      ds = ds.shuffle(buffer_size=len(dataframe))\n",
        "\n",
        "    ds = ds.batch(batch_size)\n",
        "    ds = ds.prefetch(batch_size)\n",
        "\n",
        "    return ds"
      ],
      "metadata": {
        "id": "r4eag5z1pJhy"
      },
      "execution_count": null,
      "outputs": []
    },
    {
      "cell_type": "code",
      "source": [
        "train_ds = dataframe_to_dataset(X_train,batch_size=1)"
      ],
      "metadata": {
        "id": "IlhbQu21y0um"
      },
      "execution_count": null,
      "outputs": []
    },
    {
      "cell_type": "markdown",
      "source": [
        "* **TEST THE DATALOADER:**"
      ],
      "metadata": {
        "id": "vjaS-Nx74rFl"
      }
    },
    {
      "cell_type": "code",
      "source": [
        "for (x0, x1, x2, x3, x4), y in train_ds.take(1):\n",
        "    print(x0.shape)\n",
        "    print(x1.shape)\n",
        "    print(x2.shape)\n",
        "    print(x3.shape)\n",
        "    print(x4.shape)\n",
        "    print(y.shape)\n"
      ],
      "metadata": {
        "id": "8PK43bpz2qdG",
        "colab": {
          "base_uri": "https://localhost:8080/"
        },
        "outputId": "380a802c-0500-4625-d493-dcee0240fe3f"
      },
      "execution_count": null,
      "outputs": [
        {
          "output_type": "stream",
          "name": "stdout",
          "text": [
            "(1,)\n",
            "(1,)\n",
            "(1,)\n",
            "(1,)\n",
            "(1, 72, 9)\n",
            "(1,)\n"
          ]
        }
      ]
    },
    {
      "cell_type": "code",
      "source": [
        "#X_train.iloc[:2000,:].to_csv(\"train_sample.csv\")"
      ],
      "metadata": {
        "id": "H4CzShUj3LDM"
      },
      "execution_count": null,
      "outputs": []
    },
    {
      "cell_type": "markdown",
      "source": [
        "### **2.1.2 Encoding**"
      ],
      "metadata": {
        "id": "b6kva4RHJaOr"
      }
    },
    {
      "cell_type": "code",
      "source": [
        "static_col = list(X_train.drop(columns=ts_fields+[\"bg+1:00\"]).columns)\n",
        "\n",
        "static_entries = {}\n",
        "\n",
        "for col in static_col:\n",
        "    static_entries[col] = X_train[col].nunique()\n",
        "\n",
        "embed_dim = {'p_num': 3, 'hour': 8, 'minute': 4, 'cluster': 8}\n",
        "static_entries"
      ],
      "metadata": {
        "id": "f6Mp7XJtPyO4",
        "colab": {
          "base_uri": "https://localhost:8080/"
        },
        "outputId": "1f189fa6-770f-4af9-df19-3a0f025b567b"
      },
      "execution_count": null,
      "outputs": [
        {
          "output_type": "execute_result",
          "data": {
            "text/plain": [
              "{'p_num': 9, 'hour': 24, 'minute': 12, 'cluster': 22}"
            ]
          },
          "metadata": {},
          "execution_count": 393
        }
      ]
    },
    {
      "cell_type": "code",
      "source": [
        "def encode_tabular(inputs, list_categorical_nn, Cat_Feat_Entries=static_entries, num_dense_exp=False, embedding_dims=embed_dim, name=\"enc\"):\n",
        "    encoded_categorical_feature_list = []\n",
        "    numerical_feature_list = []\n",
        "\n",
        "    for counter, feature_name in enumerate(inputs):\n",
        "\n",
        "      vocabulary = Cat_Feat_Entries[feature_name]\n",
        "      emb_dim = embedding_dims[feature_name]\n",
        "\n",
        "      embedding = layers.Embedding(input_dim=vocabulary, output_dim=emb_dim, name=f\"embedder_{counter}\")\n",
        "      # Convert the index values to embedding representations.\n",
        "      encoded_categorical_feature = embedding(inputs[feature_name])\n",
        "\n",
        "      encoded_categorical_feature_list.append(encoded_categorical_feature)\n",
        "\n",
        "    return encoded_categorical_feature_list, numerical_feature_list"
      ],
      "metadata": {
        "id": "kc0z7t6_17cl"
      },
      "execution_count": null,
      "outputs": []
    },
    {
      "cell_type": "code",
      "source": [
        "X_train.info()"
      ],
      "metadata": {
        "id": "AuvXa0GH40YH",
        "colab": {
          "base_uri": "https://localhost:8080/"
        },
        "outputId": "33e659c7-0867-492d-8620-d8d124f098df"
      },
      "execution_count": null,
      "outputs": [
        {
          "output_type": "stream",
          "name": "stdout",
          "text": [
            "<class 'pandas.core.frame.DataFrame'>\n",
            "Index: 177024 entries, p01_0 to p12_25298\n",
            "Columns: 653 entries, p_num to bg+1:00\n",
            "dtypes: float32(649), int32(3), string(1)\n",
            "memory usage: 447.0+ MB\n"
          ]
        }
      ]
    },
    {
      "cell_type": "markdown",
      "source": [
        "### **2.1.3 Create Models:**"
      ],
      "metadata": {
        "id": "u63MJMKkTDnv"
      }
    },
    {
      "cell_type": "code",
      "source": [
        "X_train.minute.unique()\n",
        "list(range(0,60,5))"
      ],
      "metadata": {
        "id": "M6a1BBgDex2z",
        "colab": {
          "base_uri": "https://localhost:8080/"
        },
        "outputId": "48f27f2f-e3d4-4472-f814-e138c402f891"
      },
      "execution_count": null,
      "outputs": [
        {
          "output_type": "execute_result",
          "data": {
            "text/plain": [
              "[0, 5, 10, 15, 20, 25, 30, 35, 40, 45, 50, 55]"
            ]
          },
          "metadata": {},
          "execution_count": 396
        }
      ]
    },
    {
      "cell_type": "code",
      "source": [
        "def dense_block(cells, dropout=0.3,activation=\"selu\", reg=0.0, name=None, summary=False):\n",
        "  if activation == \"selu\":\n",
        "    block = keras.Sequential(name=name)\n",
        "    block.add(Dense(cells,\n",
        "                    activity_regularizer=keras.regularizers.l1(reg),\n",
        "                    name=f\"{name}_dense\",\n",
        "                    kernel_initializer=\"lecun_normal\"))\n",
        "    block.add(layers.BatchNormalization(name=f\"{name}_bn\"))\n",
        "    block.add(layers.Activation(activation, name=f\"{name}_activ\"))\n",
        "    block.add(layers.AlphaDropout(dropout, name=f\"{name}_do_alpha\"))\n",
        "\n",
        "  else:\n",
        "    block = keras.Sequential(name=name)\n",
        "    block.add(Dense(cells,\n",
        "                    activity_regularizer=keras.regularizers.l1(reg),\n",
        "                    name=f\"{name}_dense\",\n",
        "                    kernel_initializer=\"he_normal\"))\n",
        "    block.add(layers.BatchNormalization(name=f\"{name}_bn\"))\n",
        "    block.add(layers.Activation(activation, name=f\"{name}_activ\"))\n",
        "    block.add(layers.Dropout(dropout, name=f\"{name}_do\"))\n",
        "\n",
        "  return block\n",
        "\n",
        "def create_model_v0(vocabulary, dense_layers=[32,16],\n",
        "                    dropout=0.3, LSTM_layers=[64,32,32,16],\n",
        "                    activation=\"selu\", reg=0.0,lr=0.001,\n",
        "                    return_sequences=[64,32], summary=False):\n",
        "\n",
        "  # --- Tabular Data Processing ---\n",
        "  # Input layer for tabular data as a dictionary\n",
        "  hour_input = keras.Input(shape=(1,), name=\"hour_input\")\n",
        "  minute_input = keras.Input(shape=(1,), name=\"minute_input\")\n",
        "  cluster_input = keras.Input(shape=(1,), name=\"cluster_input\")\n",
        "  pnum_input = keras.Input(shape=(1,), name=\"pnum_input\", dtype=\"string\")\n",
        "\n",
        "  # Lookup Layer for the p_num:\n",
        "  lookup = layers.StringLookup(vocabulary=vocabulary,mask_token=None,num_oov_indices=1,\n",
        "                output_mode=\"int\", name=\"lookup_pnum\")\n",
        "  #lookup.adapt(X_train[\"p_num\"].values)\n",
        "  pnum_encoded = lookup(pnum_input)\n",
        "\n",
        "  # Lookup Layer for the minutes:\n",
        "  minute_lookup = layers.IntegerLookup(vocabulary=list(range(0,60,5)),mask_token=None,num_oov_indices=0,\n",
        "                output_mode=\"int\", name=\"lookup_min\")\n",
        "  #minute_lookup.adapt(X_train[\"minute\"].values)\n",
        "  minute_encoded = minute_lookup(minute_input)\n",
        "\n",
        "  # Embedding layers for hour and minute\n",
        "  hour_embedding = layers.Embedding(input_dim=24, output_dim=8, name=\"embed_hour\")(hour_input)\n",
        "  minute_embedding = layers.Embedding(input_dim=12, output_dim=6, name=\"embed_minute\")(minute_encoded)\n",
        "  pnum_encoded_embedding = layers.Embedding(input_dim=len(vocabulary)+1,\n",
        "                                            output_dim=3, name=\"embed_pnum\")(pnum_encoded)\n",
        "\n",
        "  # Embedding layer for cluster\n",
        "  cluster_embedding = layers.Embedding(input_dim=22, output_dim=8, name=\"embed_cluster\")(cluster_input)\n",
        "\n",
        "  # Flatten the embeddings\n",
        "  hour_flat = layers.Flatten()(hour_embedding)\n",
        "  minute_flat = layers.Flatten()(minute_embedding)\n",
        "  cluster_flat = layers.Flatten()(cluster_embedding)\n",
        "  pnum_flat = layers.Flatten()(pnum_encoded_embedding)\n",
        "\n",
        "  # Concatenate all tabular features\n",
        "  tabular_output = layers.concatenate([hour_flat, minute_flat, cluster_flat, pnum_flat])\n",
        "\n",
        "  # Dense layers for tabular data\n",
        "  for num, den in enumerate(dense_layers):\n",
        "    tabular_output = dense_block(den,dropout=dropout,activation=activation, reg=reg, name=f\"block_{num}\")(tabular_output)\n",
        "\n",
        "  # --- Time Series Data Processing ---\n",
        "  # Input layer for time series data\n",
        "  time_series_input = keras.Input(shape=(72, 9), name=\"time_series_input\")\n",
        "\n",
        "  # LSTM layers for time series data\n",
        "  for i in range(len(LSTM_layers)):\n",
        "    if i == 0 and len(LSTM_layers)>1:\n",
        "      time_series_output = layers.LSTM(LSTM_layers[i], return_sequences=True, name=f\"lstm_{i}\")(time_series_input)\n",
        "    elif i < len(LSTM_layers)-1:\n",
        "      time_series_output = layers.LSTM(LSTM_layers[i], return_sequences=True, name=f\"lstm_{i}\")(time_series_output)\n",
        "    elif len(LSTM_layers)==1:\n",
        "      time_series_output = layers.LSTM(LSTM_layers[i], return_sequences=False, name=f\"lstm_{i}\")(time_series_input)\n",
        "    else:\n",
        "      time_series_output = layers.LSTM(LSTM_layers[i], return_sequences=False, name=f\"lstm_{i}\")(time_series_output)\n",
        "\n",
        "  # --- Combine Tabular and Time Series Data ---\n",
        "  # Concatenate the outputs from both branches\n",
        "  concatenated = layers.concatenate([tabular_output, time_series_output])\n",
        "\n",
        "  # --- Output Layer ---\n",
        "  # Final dense layer for prediction\n",
        "  output = layers.Dense(1, name=\"output\")(concatenated)\n",
        "\n",
        "  # --- Create and Compile the Model ---\n",
        "  # Create the model\n",
        "  model = keras.Model(inputs=[hour_input, minute_input, cluster_input, pnum_input, time_series_input], outputs=output)\n",
        "  optimizer= keras.optimizers.Adam(learning_rate=lr)\n",
        "  metric = RootMeanSquaredError(name=\"rmse\", dtype=None)\n",
        "  metric_mae = MeanAbsoluteError(name=\"mae\", dtype=None)\n",
        "\n",
        "  # Compile the model\n",
        "  model.compile(optimizer=optimizer, loss=\"mse\", metrics=[metric,metric_mae])\n",
        "\n",
        "  # Print model summary\n",
        "  if summary==True:\n",
        "    model.summary()\n",
        "\n",
        "  return model\n",
        "\n",
        "\n",
        "vocabulary = X_train[\"p_num\"].unique().tolist()\n",
        "model = create_model_v0(vocabulary=vocabulary)"
      ],
      "metadata": {
        "id": "yAHTpsL-STbN"
      },
      "execution_count": null,
      "outputs": []
    },
    {
      "cell_type": "code",
      "source": [
        "#plot_model(model, show_shapes=True, show_layer_names=True, rankdir=\"LR\", expand_nested=True, show_layer_activations=True)"
      ],
      "metadata": {
        "id": "eMbyr5POYBQz"
      },
      "execution_count": null,
      "outputs": []
    },
    {
      "cell_type": "markdown",
      "source": [
        "### 2.1.4 Training Functions:"
      ],
      "metadata": {
        "id": "1BAk6TqcIpqu"
      }
    },
    {
      "cell_type": "code",
      "source": [
        "list(range(len(val_sets)))"
      ],
      "metadata": {
        "id": "FwvE7q0hZJBd",
        "colab": {
          "base_uri": "https://localhost:8080/"
        },
        "outputId": "49286288-4183-433b-f983-c642830e5284"
      },
      "execution_count": null,
      "outputs": [
        {
          "output_type": "execute_result",
          "data": {
            "text/plain": [
              "[0, 1, 2, 3]"
            ]
          },
          "metadata": {},
          "execution_count": 399
        }
      ]
    },
    {
      "cell_type": "markdown",
      "source": [
        "#### Main Function:"
      ],
      "metadata": {
        "id": "DXquRNpNdBdH"
      }
    },
    {
      "cell_type": "code",
      "source": [
        "def run_experiment(X_train, X_test, model_constructor, best_params, split=val_sets, experiment_name=\"baseline_nn\", rs=42, target=\"bg+1:00\",\n",
        "                   batch_size=64, num_epochs=200, learning_rate=0.001, target_scaler=target_scaler):\n",
        "\n",
        "  test_predictions = np.zeros((len(X_test),1))\n",
        "  test_results_df = pd.DataFrame(index=X_test.index, columns=list(range(len(val_sets))))\n",
        "\n",
        "  all_mse = []\n",
        "  all_rmse = []\n",
        "\n",
        "  for i, val_index in enumerate(split):\n",
        "\n",
        "    print(f\"\\nRunning CV {i}\\n\")\n",
        "    ########################################################################## Prepare the Dataset:\n",
        "    X_trn = X_train.drop(index=val_index)\n",
        "    X_val = X_train.loc[val_index,:]\n",
        "\n",
        "    vocabulary = X_trn[\"p_num\"].unique().tolist()\n",
        "\n",
        "    X = X_trn.drop(columns=[target]).copy()\n",
        "    y = X_trn[target].copy()\n",
        "\n",
        "    val_X = X_val.drop(columns=[target]).copy()\n",
        "    val_y = X_val[target].copy()\n",
        "\n",
        "    X_test = X_test.copy()\n",
        "    #################################################################### Prepare Datasets loaders:\n",
        "\n",
        "    train_dataset = dataframe_to_dataset(X_trn, batch_size=batch_size, shuffle=True)\n",
        "    valid_dataset = dataframe_to_dataset(X_val, batch_size=batch_size, shuffle=False)\n",
        "    test_dataset = dataframe_to_dataset(X_test, batch_size=batch_size, shuffle=False)\n",
        "\n",
        "    ##################################################################### Relevant Folders\n",
        "    folders_experiment = f\"/content/drive/MyDrive/Exercises/Studies_Structured_Data/Models/Glucose/{experiment_name}_{i}/\"\n",
        "    ##################################################################### Generate and Fit Model\n",
        "    # Callbacks:\n",
        "    checkpoint_filepath = folders_experiment + f'checkpoint/{experiment_name}.weights.h5'\n",
        "\n",
        "    # Generate the Model:\n",
        "    model = model_constructor(vocabulary=vocabulary,\n",
        "                              lr = learning_rate,\n",
        "                              **best_params)\n",
        "\n",
        "    print(\"Start training the model...\")\n",
        "    history = model.fit(train_dataset,\n",
        "                        epochs=num_epochs,\n",
        "                        callbacks=[keras.callbacks.EarlyStopping(monitor='val_rmse', patience=17, mode=\"min\",\n",
        "                                                  start_from_epoch=5,restore_best_weights=True),\n",
        "                                   keras.callbacks.ModelCheckpoint(filepath=checkpoint_filepath,\n",
        "                                                    save_weights_only=True,\n",
        "                                                    monitor=\"val_rmse\",\n",
        "                                                    mode='min',\n",
        "                                                    save_best_only=True),\n",
        "                                   keras.callbacks.ReduceLROnPlateau(monitor='val_rmse', factor=0.5,\n",
        "                                                          patience=5, min_lr=0.0001, mode=\"min\")],\n",
        "                        validation_data=valid_dataset)\n",
        "    print(\"Model training finished\")\n",
        "\n",
        "    model.load_weights(checkpoint_filepath)\n",
        "    model.evaluate(valid_dataset, verbose=0)\n",
        "\n",
        "    plot_training_session(history)\n",
        "\n",
        "    oof_res = model.predict(valid_dataset)\n",
        "    test_pred = model.predict(test_dataset)\n",
        "\n",
        "    print(f\"Out-of-Fold Shapes: {val_y.shape},{oof_res.shape}\")\n",
        "\n",
        "    rmse_score = root_mean_squared_error(val_y, oof_res)\n",
        "\n",
        "    val_pred = target_scaler.inverse_transform(oof_res)\n",
        "    real_val_y = target_scaler.inverse_transform(val_y.values.reshape(-1,1))\n",
        "    test_pred_real = target_scaler.inverse_transform(test_pred)\n",
        "\n",
        "    rmse_score_original = root_mean_squared_error(real_val_y, val_pred)\n",
        "\n",
        "    fig, axs = plt.subplots(1,1, figsize=(10,4))\n",
        "    axs.scatter(val_pred, real_val_y)\n",
        "    axs.set_title(f\"Out-of-Fold RMSE Score: {round(rmse_score, 3)}%\")\n",
        "    plt.tight_layout()\n",
        "    plt.show()\n",
        "\n",
        "    print(f\"Out-of-Fold RMSE Score Rebased: {round(rmse_score, 3)}%\")\n",
        "    print(f\"Out-of-Fold RMSE Score Original: {round(rmse_score_original, 3)}%\")\n",
        "\n",
        "    ##################################################################### Save the Model\n",
        "    model.save(f\"{folders_experiment}/model_{experiment_name}.keras\")\n",
        "\n",
        "    ##################################################################### Create Model Output\n",
        "    test_results_df.loc[:,i] = test_pred_real\n",
        "    all_rmse.append(round(rmse_score_original, 3))\n",
        "\n",
        "    gc.collect()\n",
        "\n",
        "  ##################################################################### Create Model Output\n",
        "  print(f\"All Valuation RMSE: {all_rmse}\")\n",
        "\n",
        "  return test_results_df"
      ],
      "metadata": {
        "id": "07SlowwyTEoM"
      },
      "execution_count": null,
      "outputs": []
    },
    {
      "cell_type": "markdown",
      "source": [
        "#### Keras Tuner:"
      ],
      "metadata": {
        "id": "wI0zCTwudEQ6"
      }
    },
    {
      "cell_type": "code",
      "source": [
        "tuning_on=False\n",
        "gc.collect()"
      ],
      "metadata": {
        "id": "Nr8CAgyscjdD",
        "colab": {
          "base_uri": "https://localhost:8080/"
        },
        "outputId": "0ea69a59-f358-4562-dd0b-160fe772121b"
      },
      "execution_count": null,
      "outputs": [
        {
          "output_type": "execute_result",
          "data": {
            "text/plain": [
              "11195"
            ]
          },
          "metadata": {},
          "execution_count": 401
        }
      ]
    },
    {
      "cell_type": "markdown",
      "source": [
        " Select a Validation set:"
      ],
      "metadata": {
        "id": "L430zzRRyk2L"
      }
    },
    {
      "cell_type": "code",
      "source": [
        "valid_index = val_sets[2]\n",
        "Xt = X_train.drop(index=valid_index)\n",
        "Xv = X_train.loc[valid_index,:]\n",
        "\n",
        "print(f\"Train Shape: {Xt.shape}, Val Shape: {Xv.shape}\")"
      ],
      "metadata": {
        "id": "MwP6-tQiyhnK",
        "colab": {
          "base_uri": "https://localhost:8080/"
        },
        "outputId": "e96a1bcb-03ec-4f6f-b12a-3b199d4dfcce"
      },
      "execution_count": null,
      "outputs": [
        {
          "output_type": "stream",
          "name": "stdout",
          "text": [
            "Train Shape: (143659, 653), Val Shape: (33365, 653)\n"
          ]
        }
      ]
    },
    {
      "cell_type": "code",
      "source": [
        "if tuning_on==True:\n",
        "  vocabulary = Xt[\"p_num\"].unique().tolist()\n",
        "\n",
        "  train_dataset = dataframe_to_dataset(Xt, batch_size=256, shuffle=True)\n",
        "  valid_dataset = dataframe_to_dataset(Xv, batch_size=256, shuffle=False)"
      ],
      "metadata": {
        "id": "efgE7LA5xyn7"
      },
      "execution_count": null,
      "outputs": []
    },
    {
      "cell_type": "code",
      "source": [
        "if tuning_on==True:\n",
        "  # Define the hyperparameter search space: EXPERIMENT 1\n",
        "  hp = kt.HyperParameters()\n",
        "  hp.Choice('main_activation', [\"relu\",\"silu\",\"gelu\",\"selu\"])\n",
        "  hp.Float('dropout',0.15,0.40, step=0.025)\n",
        "  hp.Float('reg',0.0001, 1.0,step=10,sampling=\"log\")\n",
        "  hp.Choice('num_dense_blocks', values=[1,2,3,4])\n",
        "  hp.Choice('units_dense', values=[32,64,128])\n",
        "  hp.Choice('num_LSTM_blocks', values=[1,2,3,4])\n",
        "  hp.Choice('units_LSTM', values=[32,64,128])"
      ],
      "metadata": {
        "id": "y0GrdW7W1X_d"
      },
      "execution_count": null,
      "outputs": []
    },
    {
      "cell_type": "code",
      "source": [
        "def create_turner_model(hp):\n",
        "\n",
        "  model = create_model_v0(vocabulary=vocabulary,\n",
        "                          dense_layers=[hp.get('units_dense')]*hp.get('num_dense_blocks'),\n",
        "                          dropout=hp.get('dropout'),\n",
        "                          LSTM_layers=[hp.get('units_LSTM')]*hp.get('num_LSTM_blocks'),\n",
        "                          activation=hp.get('activation'),\n",
        "                          reg=hp.get('reg'),\n",
        "                          lr=0.0025)\n",
        "  return model"
      ],
      "metadata": {
        "id": "rFJpjVGB1hns"
      },
      "execution_count": null,
      "outputs": []
    },
    {
      "cell_type": "code",
      "source": [
        "if tuning_on==True:\n",
        "  # Create a tuner and search for the best hyperparameters\n",
        "  tuner = BayesianOptimization(create_turner_model,\n",
        "                              objective=kt.Objective(\"val_rmse\", \"min\"),\n",
        "                              hyperparameters=hp, max_trials=50, overwrite=True)\n",
        "\n",
        "  stop_early = tf.keras.callbacks.EarlyStopping(monitor='val_rmse', patience=7, mode=\"min\", start_from_epoch=5)\n",
        "  reduce_ = tf.keras.callbacks.ReduceLROnPlateau(monitor='val_rmse', factor=0.5, patience=3, min_lr=0.0001, mode=\"min\")\n",
        "\n",
        "  tuner.search(train_dataset, validation_data=valid_dataset, epochs=31, callbacks=[stop_early,reduce_])"
      ],
      "metadata": {
        "id": "2x6sqh_27UzV"
      },
      "execution_count": null,
      "outputs": []
    },
    {
      "cell_type": "code",
      "source": [
        "if tuning_on==True:\n",
        "  tuner.results_summary(num_trials=10)"
      ],
      "metadata": {
        "id": "oC-pdn7J7ok4"
      },
      "execution_count": null,
      "outputs": []
    },
    {
      "cell_type": "code",
      "source": [
        "if tuning_on==True:\n",
        "  print(tuner.get_best_hyperparameters(4)[0].values)\n",
        "  print(tuner.get_best_hyperparameters(4)[1].values)\n",
        "  print(tuner.get_best_hyperparameters(4)[2].values)\n",
        "  print(tuner.get_best_hyperparameters(4)[3].values)"
      ],
      "metadata": {
        "id": "n8X6MeDZDMZt"
      },
      "execution_count": null,
      "outputs": []
    },
    {
      "cell_type": "markdown",
      "source": [
        "* {'main_activation': 'relu', 'dropout': 0.15, 'reg': 0.01, 'num_dense_blocks': 1, 'units_dense': 128, 'num_LSTM_blocks': 4, 'units_LSTM': 128}\n",
        "* {'main_activation': 'silu', 'dropout': 0.375, 'reg': 1.0, 'num_dense_blocks': 4, 'units_dense': 32, 'num_LSTM_blocks': 4, 'units_LSTM': 128}\n",
        "* {'main_activation': 'selu', 'dropout': 0.35, 'reg': 1.0, 'num_dense_blocks': 4, 'units_dense': 32, 'num_LSTM_blocks': 4, 'units_LSTM': 128}\n",
        "* {'main_activation': 'relu', 'dropout': 0.30, 'reg': 0.1, 'num_dense_blocks': 1, 'units_dense': 128, 'num_LSTM_blocks': 4, 'units_LSTM': 128}\n",
        "\n",
        "* Trial 32 summary Hyperparameters:\n",
        "\n",
        "main_activation: relu\n",
        "dropout: 0.15\n",
        "reg: 0.01\n",
        "num_dense_blocks: 1\n",
        "units_dense: 128\n",
        "num_LSTM_blocks: 4\n",
        "units_LSTM: 128\n",
        "\n",
        "Score: 0.764337956905365\n",
        "\n",
        "* Trial 27 summary Hyperparameters:\n",
        "\n",
        "main_activation: silu\n",
        "dropout: 0.375\n",
        "reg: 1.0\n",
        "num_dense_blocks: 4\n",
        "units_dense: 32\n",
        "num_LSTM_blocks: 4\n",
        "units_LSTM: 128\n",
        "\n",
        "Score: 0.7657054662704468\n",
        "\n",
        "* Trial 23 summary Hyperparameters:\n",
        "\n",
        "main_activation: selu\n",
        "dropout: 0.35\n",
        "reg: 1.0\n",
        "num_dense_blocks: 4\n",
        "units_dense: 32\n",
        "num_LSTM_blocks: 4\n",
        "units_LSTM: 128\n",
        "\n",
        "Score: 0.7657089233398438"
      ],
      "metadata": {
        "id": "12Yp7qG0sZVD"
      }
    },
    {
      "cell_type": "markdown",
      "source": [
        "#### Fit The Model:"
      ],
      "metadata": {
        "id": "9EZ3DWOkad4M"
      }
    },
    {
      "cell_type": "code",
      "source": [
        "#best_params = tuner.get_best_hyperparameters(1)[0].values\n",
        "best_params = {'activation': 'relu', 'dropout': 0.15, 'reg': 0.01, \"dense_layers\":[128], \"LSTM_layers\":[128,128,128,128]}"
      ],
      "metadata": {
        "id": "irgz7SIZai2w"
      },
      "execution_count": null,
      "outputs": []
    },
    {
      "cell_type": "code",
      "source": [
        "test_results_df = run_experiment(X_train, X_test, create_model_v0, best_params, split=val_sets,\n",
        "                                 experiment_name=\"baseline_nn\", rs=42, target=\"bg+1:00\",\n",
        "                                 batch_size=256, num_epochs=200, learning_rate=0.0005)"
      ],
      "metadata": {
        "id": "ocfx0fVAbBWY"
      },
      "execution_count": null,
      "outputs": []
    },
    {
      "cell_type": "markdown",
      "source": [
        "All Valuation RMSE: [2.195, 1.99, 2.329, 0.841]"
      ],
      "metadata": {
        "id": "2Ga0QcN4L9eI"
      }
    },
    {
      "cell_type": "code",
      "source": [
        "test_results_df[\"average\"] = test_results_df.mean(axis=1)\n",
        "test_results_df"
      ],
      "metadata": {
        "colab": {
          "base_uri": "https://localhost:8080/",
          "height": 455
        },
        "id": "Z1RU13t1Rcv_",
        "outputId": "81e3ca17-7b6c-4264-a735-e5760d38cffa"
      },
      "execution_count": null,
      "outputs": [
        {
          "output_type": "execute_result",
          "data": {
            "text/plain": [
              "                 0          1          2          3   average\n",
              "id                                                           \n",
              "p01_8459  7.696874   8.667991   7.392855   8.054377  7.953024\n",
              "p01_8460  6.547589   6.738853   6.364526   6.072936  6.430976\n",
              "p01_8461  8.284842   8.179171   7.317574  11.022959  8.701136\n",
              "p01_8462  9.443348  10.846434  10.142145   8.353101  9.696257\n",
              "p01_8463  7.011728   9.057802   7.000399   9.431748  8.125419\n",
              "...            ...        ...        ...        ...       ...\n",
              "p24_256   5.342841   4.503515   6.577925    8.45852    6.2207\n",
              "p24_257   8.850973   6.472766   9.153597   9.393887  8.467806\n",
              "p24_258   7.305124    5.77487   7.046444   8.513881   7.16008\n",
              "p24_259   8.273880   6.280878   8.438632   9.437197  8.107647\n",
              "p24_260   6.525710    5.02248   6.947204   8.712607     6.802\n",
              "\n",
              "[3644 rows x 5 columns]"
            ],
            "text/html": [
              "\n",
              "  <div id=\"df-0c935024-b677-4924-b2dc-278814fc2218\" class=\"colab-df-container\">\n",
              "    <div>\n",
              "<style scoped>\n",
              "    .dataframe tbody tr th:only-of-type {\n",
              "        vertical-align: middle;\n",
              "    }\n",
              "\n",
              "    .dataframe tbody tr th {\n",
              "        vertical-align: top;\n",
              "    }\n",
              "\n",
              "    .dataframe thead th {\n",
              "        text-align: right;\n",
              "    }\n",
              "</style>\n",
              "<table border=\"1\" class=\"dataframe\">\n",
              "  <thead>\n",
              "    <tr style=\"text-align: right;\">\n",
              "      <th></th>\n",
              "      <th>0</th>\n",
              "      <th>1</th>\n",
              "      <th>2</th>\n",
              "      <th>3</th>\n",
              "      <th>average</th>\n",
              "    </tr>\n",
              "    <tr>\n",
              "      <th>id</th>\n",
              "      <th></th>\n",
              "      <th></th>\n",
              "      <th></th>\n",
              "      <th></th>\n",
              "      <th></th>\n",
              "    </tr>\n",
              "  </thead>\n",
              "  <tbody>\n",
              "    <tr>\n",
              "      <th>p01_8459</th>\n",
              "      <td>7.696874</td>\n",
              "      <td>8.667991</td>\n",
              "      <td>7.392855</td>\n",
              "      <td>8.054377</td>\n",
              "      <td>7.953024</td>\n",
              "    </tr>\n",
              "    <tr>\n",
              "      <th>p01_8460</th>\n",
              "      <td>6.547589</td>\n",
              "      <td>6.738853</td>\n",
              "      <td>6.364526</td>\n",
              "      <td>6.072936</td>\n",
              "      <td>6.430976</td>\n",
              "    </tr>\n",
              "    <tr>\n",
              "      <th>p01_8461</th>\n",
              "      <td>8.284842</td>\n",
              "      <td>8.179171</td>\n",
              "      <td>7.317574</td>\n",
              "      <td>11.022959</td>\n",
              "      <td>8.701136</td>\n",
              "    </tr>\n",
              "    <tr>\n",
              "      <th>p01_8462</th>\n",
              "      <td>9.443348</td>\n",
              "      <td>10.846434</td>\n",
              "      <td>10.142145</td>\n",
              "      <td>8.353101</td>\n",
              "      <td>9.696257</td>\n",
              "    </tr>\n",
              "    <tr>\n",
              "      <th>p01_8463</th>\n",
              "      <td>7.011728</td>\n",
              "      <td>9.057802</td>\n",
              "      <td>7.000399</td>\n",
              "      <td>9.431748</td>\n",
              "      <td>8.125419</td>\n",
              "    </tr>\n",
              "    <tr>\n",
              "      <th>...</th>\n",
              "      <td>...</td>\n",
              "      <td>...</td>\n",
              "      <td>...</td>\n",
              "      <td>...</td>\n",
              "      <td>...</td>\n",
              "    </tr>\n",
              "    <tr>\n",
              "      <th>p24_256</th>\n",
              "      <td>5.342841</td>\n",
              "      <td>4.503515</td>\n",
              "      <td>6.577925</td>\n",
              "      <td>8.45852</td>\n",
              "      <td>6.2207</td>\n",
              "    </tr>\n",
              "    <tr>\n",
              "      <th>p24_257</th>\n",
              "      <td>8.850973</td>\n",
              "      <td>6.472766</td>\n",
              "      <td>9.153597</td>\n",
              "      <td>9.393887</td>\n",
              "      <td>8.467806</td>\n",
              "    </tr>\n",
              "    <tr>\n",
              "      <th>p24_258</th>\n",
              "      <td>7.305124</td>\n",
              "      <td>5.77487</td>\n",
              "      <td>7.046444</td>\n",
              "      <td>8.513881</td>\n",
              "      <td>7.16008</td>\n",
              "    </tr>\n",
              "    <tr>\n",
              "      <th>p24_259</th>\n",
              "      <td>8.273880</td>\n",
              "      <td>6.280878</td>\n",
              "      <td>8.438632</td>\n",
              "      <td>9.437197</td>\n",
              "      <td>8.107647</td>\n",
              "    </tr>\n",
              "    <tr>\n",
              "      <th>p24_260</th>\n",
              "      <td>6.525710</td>\n",
              "      <td>5.02248</td>\n",
              "      <td>6.947204</td>\n",
              "      <td>8.712607</td>\n",
              "      <td>6.802</td>\n",
              "    </tr>\n",
              "  </tbody>\n",
              "</table>\n",
              "<p>3644 rows × 5 columns</p>\n",
              "</div>\n",
              "    <div class=\"colab-df-buttons\">\n",
              "\n",
              "  <div class=\"colab-df-container\">\n",
              "    <button class=\"colab-df-convert\" onclick=\"convertToInteractive('df-0c935024-b677-4924-b2dc-278814fc2218')\"\n",
              "            title=\"Convert this dataframe to an interactive table.\"\n",
              "            style=\"display:none;\">\n",
              "\n",
              "  <svg xmlns=\"http://www.w3.org/2000/svg\" height=\"24px\" viewBox=\"0 -960 960 960\">\n",
              "    <path d=\"M120-120v-720h720v720H120Zm60-500h600v-160H180v160Zm220 220h160v-160H400v160Zm0 220h160v-160H400v160ZM180-400h160v-160H180v160Zm440 0h160v-160H620v160ZM180-180h160v-160H180v160Zm440 0h160v-160H620v160Z\"/>\n",
              "  </svg>\n",
              "    </button>\n",
              "\n",
              "  <style>\n",
              "    .colab-df-container {\n",
              "      display:flex;\n",
              "      gap: 12px;\n",
              "    }\n",
              "\n",
              "    .colab-df-convert {\n",
              "      background-color: #E8F0FE;\n",
              "      border: none;\n",
              "      border-radius: 50%;\n",
              "      cursor: pointer;\n",
              "      display: none;\n",
              "      fill: #1967D2;\n",
              "      height: 32px;\n",
              "      padding: 0 0 0 0;\n",
              "      width: 32px;\n",
              "    }\n",
              "\n",
              "    .colab-df-convert:hover {\n",
              "      background-color: #E2EBFA;\n",
              "      box-shadow: 0px 1px 2px rgba(60, 64, 67, 0.3), 0px 1px 3px 1px rgba(60, 64, 67, 0.15);\n",
              "      fill: #174EA6;\n",
              "    }\n",
              "\n",
              "    .colab-df-buttons div {\n",
              "      margin-bottom: 4px;\n",
              "    }\n",
              "\n",
              "    [theme=dark] .colab-df-convert {\n",
              "      background-color: #3B4455;\n",
              "      fill: #D2E3FC;\n",
              "    }\n",
              "\n",
              "    [theme=dark] .colab-df-convert:hover {\n",
              "      background-color: #434B5C;\n",
              "      box-shadow: 0px 1px 3px 1px rgba(0, 0, 0, 0.15);\n",
              "      filter: drop-shadow(0px 1px 2px rgba(0, 0, 0, 0.3));\n",
              "      fill: #FFFFFF;\n",
              "    }\n",
              "  </style>\n",
              "\n",
              "    <script>\n",
              "      const buttonEl =\n",
              "        document.querySelector('#df-0c935024-b677-4924-b2dc-278814fc2218 button.colab-df-convert');\n",
              "      buttonEl.style.display =\n",
              "        google.colab.kernel.accessAllowed ? 'block' : 'none';\n",
              "\n",
              "      async function convertToInteractive(key) {\n",
              "        const element = document.querySelector('#df-0c935024-b677-4924-b2dc-278814fc2218');\n",
              "        const dataTable =\n",
              "          await google.colab.kernel.invokeFunction('convertToInteractive',\n",
              "                                                    [key], {});\n",
              "        if (!dataTable) return;\n",
              "\n",
              "        const docLinkHtml = 'Like what you see? Visit the ' +\n",
              "          '<a target=\"_blank\" href=https://colab.research.google.com/notebooks/data_table.ipynb>data table notebook</a>'\n",
              "          + ' to learn more about interactive tables.';\n",
              "        element.innerHTML = '';\n",
              "        dataTable['output_type'] = 'display_data';\n",
              "        await google.colab.output.renderOutput(dataTable, element);\n",
              "        const docLink = document.createElement('div');\n",
              "        docLink.innerHTML = docLinkHtml;\n",
              "        element.appendChild(docLink);\n",
              "      }\n",
              "    </script>\n",
              "  </div>\n",
              "\n",
              "\n",
              "<div id=\"df-9d7a23ed-051a-4073-bdf9-ec7574552cbd\">\n",
              "  <button class=\"colab-df-quickchart\" onclick=\"quickchart('df-9d7a23ed-051a-4073-bdf9-ec7574552cbd')\"\n",
              "            title=\"Suggest charts\"\n",
              "            style=\"display:none;\">\n",
              "\n",
              "<svg xmlns=\"http://www.w3.org/2000/svg\" height=\"24px\"viewBox=\"0 0 24 24\"\n",
              "     width=\"24px\">\n",
              "    <g>\n",
              "        <path d=\"M19 3H5c-1.1 0-2 .9-2 2v14c0 1.1.9 2 2 2h14c1.1 0 2-.9 2-2V5c0-1.1-.9-2-2-2zM9 17H7v-7h2v7zm4 0h-2V7h2v10zm4 0h-2v-4h2v4z\"/>\n",
              "    </g>\n",
              "</svg>\n",
              "  </button>\n",
              "\n",
              "<style>\n",
              "  .colab-df-quickchart {\n",
              "      --bg-color: #E8F0FE;\n",
              "      --fill-color: #1967D2;\n",
              "      --hover-bg-color: #E2EBFA;\n",
              "      --hover-fill-color: #174EA6;\n",
              "      --disabled-fill-color: #AAA;\n",
              "      --disabled-bg-color: #DDD;\n",
              "  }\n",
              "\n",
              "  [theme=dark] .colab-df-quickchart {\n",
              "      --bg-color: #3B4455;\n",
              "      --fill-color: #D2E3FC;\n",
              "      --hover-bg-color: #434B5C;\n",
              "      --hover-fill-color: #FFFFFF;\n",
              "      --disabled-bg-color: #3B4455;\n",
              "      --disabled-fill-color: #666;\n",
              "  }\n",
              "\n",
              "  .colab-df-quickchart {\n",
              "    background-color: var(--bg-color);\n",
              "    border: none;\n",
              "    border-radius: 50%;\n",
              "    cursor: pointer;\n",
              "    display: none;\n",
              "    fill: var(--fill-color);\n",
              "    height: 32px;\n",
              "    padding: 0;\n",
              "    width: 32px;\n",
              "  }\n",
              "\n",
              "  .colab-df-quickchart:hover {\n",
              "    background-color: var(--hover-bg-color);\n",
              "    box-shadow: 0 1px 2px rgba(60, 64, 67, 0.3), 0 1px 3px 1px rgba(60, 64, 67, 0.15);\n",
              "    fill: var(--button-hover-fill-color);\n",
              "  }\n",
              "\n",
              "  .colab-df-quickchart-complete:disabled,\n",
              "  .colab-df-quickchart-complete:disabled:hover {\n",
              "    background-color: var(--disabled-bg-color);\n",
              "    fill: var(--disabled-fill-color);\n",
              "    box-shadow: none;\n",
              "  }\n",
              "\n",
              "  .colab-df-spinner {\n",
              "    border: 2px solid var(--fill-color);\n",
              "    border-color: transparent;\n",
              "    border-bottom-color: var(--fill-color);\n",
              "    animation:\n",
              "      spin 1s steps(1) infinite;\n",
              "  }\n",
              "\n",
              "  @keyframes spin {\n",
              "    0% {\n",
              "      border-color: transparent;\n",
              "      border-bottom-color: var(--fill-color);\n",
              "      border-left-color: var(--fill-color);\n",
              "    }\n",
              "    20% {\n",
              "      border-color: transparent;\n",
              "      border-left-color: var(--fill-color);\n",
              "      border-top-color: var(--fill-color);\n",
              "    }\n",
              "    30% {\n",
              "      border-color: transparent;\n",
              "      border-left-color: var(--fill-color);\n",
              "      border-top-color: var(--fill-color);\n",
              "      border-right-color: var(--fill-color);\n",
              "    }\n",
              "    40% {\n",
              "      border-color: transparent;\n",
              "      border-right-color: var(--fill-color);\n",
              "      border-top-color: var(--fill-color);\n",
              "    }\n",
              "    60% {\n",
              "      border-color: transparent;\n",
              "      border-right-color: var(--fill-color);\n",
              "    }\n",
              "    80% {\n",
              "      border-color: transparent;\n",
              "      border-right-color: var(--fill-color);\n",
              "      border-bottom-color: var(--fill-color);\n",
              "    }\n",
              "    90% {\n",
              "      border-color: transparent;\n",
              "      border-bottom-color: var(--fill-color);\n",
              "    }\n",
              "  }\n",
              "</style>\n",
              "\n",
              "  <script>\n",
              "    async function quickchart(key) {\n",
              "      const quickchartButtonEl =\n",
              "        document.querySelector('#' + key + ' button');\n",
              "      quickchartButtonEl.disabled = true;  // To prevent multiple clicks.\n",
              "      quickchartButtonEl.classList.add('colab-df-spinner');\n",
              "      try {\n",
              "        const charts = await google.colab.kernel.invokeFunction(\n",
              "            'suggestCharts', [key], {});\n",
              "      } catch (error) {\n",
              "        console.error('Error during call to suggestCharts:', error);\n",
              "      }\n",
              "      quickchartButtonEl.classList.remove('colab-df-spinner');\n",
              "      quickchartButtonEl.classList.add('colab-df-quickchart-complete');\n",
              "    }\n",
              "    (() => {\n",
              "      let quickchartButtonEl =\n",
              "        document.querySelector('#df-9d7a23ed-051a-4073-bdf9-ec7574552cbd button');\n",
              "      quickchartButtonEl.style.display =\n",
              "        google.colab.kernel.accessAllowed ? 'block' : 'none';\n",
              "    })();\n",
              "  </script>\n",
              "</div>\n",
              "\n",
              "  <div id=\"id_ea8e35d9-5fa4-4af7-b63e-daa5d7786bf3\">\n",
              "    <style>\n",
              "      .colab-df-generate {\n",
              "        background-color: #E8F0FE;\n",
              "        border: none;\n",
              "        border-radius: 50%;\n",
              "        cursor: pointer;\n",
              "        display: none;\n",
              "        fill: #1967D2;\n",
              "        height: 32px;\n",
              "        padding: 0 0 0 0;\n",
              "        width: 32px;\n",
              "      }\n",
              "\n",
              "      .colab-df-generate:hover {\n",
              "        background-color: #E2EBFA;\n",
              "        box-shadow: 0px 1px 2px rgba(60, 64, 67, 0.3), 0px 1px 3px 1px rgba(60, 64, 67, 0.15);\n",
              "        fill: #174EA6;\n",
              "      }\n",
              "\n",
              "      [theme=dark] .colab-df-generate {\n",
              "        background-color: #3B4455;\n",
              "        fill: #D2E3FC;\n",
              "      }\n",
              "\n",
              "      [theme=dark] .colab-df-generate:hover {\n",
              "        background-color: #434B5C;\n",
              "        box-shadow: 0px 1px 3px 1px rgba(0, 0, 0, 0.15);\n",
              "        filter: drop-shadow(0px 1px 2px rgba(0, 0, 0, 0.3));\n",
              "        fill: #FFFFFF;\n",
              "      }\n",
              "    </style>\n",
              "    <button class=\"colab-df-generate\" onclick=\"generateWithVariable('test_results_df')\"\n",
              "            title=\"Generate code using this dataframe.\"\n",
              "            style=\"display:none;\">\n",
              "\n",
              "  <svg xmlns=\"http://www.w3.org/2000/svg\" height=\"24px\"viewBox=\"0 0 24 24\"\n",
              "       width=\"24px\">\n",
              "    <path d=\"M7,19H8.4L18.45,9,17,7.55,7,17.6ZM5,21V16.75L18.45,3.32a2,2,0,0,1,2.83,0l1.4,1.43a1.91,1.91,0,0,1,.58,1.4,1.91,1.91,0,0,1-.58,1.4L9.25,21ZM18.45,9,17,7.55Zm-12,3A5.31,5.31,0,0,0,4.9,8.1,5.31,5.31,0,0,0,1,6.5,5.31,5.31,0,0,0,4.9,4.9,5.31,5.31,0,0,0,6.5,1,5.31,5.31,0,0,0,8.1,4.9,5.31,5.31,0,0,0,12,6.5,5.46,5.46,0,0,0,6.5,12Z\"/>\n",
              "  </svg>\n",
              "    </button>\n",
              "    <script>\n",
              "      (() => {\n",
              "      const buttonEl =\n",
              "        document.querySelector('#id_ea8e35d9-5fa4-4af7-b63e-daa5d7786bf3 button.colab-df-generate');\n",
              "      buttonEl.style.display =\n",
              "        google.colab.kernel.accessAllowed ? 'block' : 'none';\n",
              "\n",
              "      buttonEl.onclick = () => {\n",
              "        google.colab.notebook.generateWithVariable('test_results_df');\n",
              "      }\n",
              "      })();\n",
              "    </script>\n",
              "  </div>\n",
              "\n",
              "    </div>\n",
              "  </div>\n"
            ],
            "application/vnd.google.colaboratory.intrinsic+json": {
              "type": "dataframe",
              "variable_name": "test_results_df",
              "summary": "{\n  \"name\": \"test_results_df\",\n  \"rows\": 3644,\n  \"fields\": [\n    {\n      \"column\": \"id\",\n      \"properties\": {\n        \"dtype\": \"string\",\n        \"num_unique_values\": 3644,\n        \"samples\": [\n          \"p02_26043\",\n          \"p19_227\",\n          \"p22_12\"\n        ],\n        \"semantic_type\": \"\",\n        \"description\": \"\"\n      }\n    },\n    {\n      \"column\": 0,\n      \"properties\": {\n        \"dtype\": \"float32\",\n        \"num_unique_values\": 3644,\n        \"samples\": [\n          8.87963581085205,\n          6.761340141296387,\n          5.1189446449279785\n        ],\n        \"semantic_type\": \"\",\n        \"description\": \"\"\n      }\n    },\n    {\n      \"column\": 1,\n      \"properties\": {\n        \"dtype\": \"date\",\n        \"min\": 3.9533936977386475,\n        \"max\": 22.892148971557617,\n        \"num_unique_values\": 3643,\n        \"samples\": [\n          9.631195068359375,\n          9.179384231567383,\n          6.397213459014893\n        ],\n        \"semantic_type\": \"\",\n        \"description\": \"\"\n      }\n    },\n    {\n      \"column\": 2,\n      \"properties\": {\n        \"dtype\": \"date\",\n        \"min\": 4.988212585449219,\n        \"max\": 19.607391357421875,\n        \"num_unique_values\": 3644,\n        \"samples\": [\n          9.394669532775879,\n          6.94634485244751,\n          6.4553375244140625\n        ],\n        \"semantic_type\": \"\",\n        \"description\": \"\"\n      }\n    },\n    {\n      \"column\": 3,\n      \"properties\": {\n        \"dtype\": \"date\",\n        \"min\": 3.785597562789917,\n        \"max\": 21.191421508789062,\n        \"num_unique_values\": 3644,\n        \"samples\": [\n          10.205734252929688,\n          8.271561622619629,\n          7.235592365264893\n        ],\n        \"semantic_type\": \"\",\n        \"description\": \"\"\n      }\n    },\n    {\n      \"column\": \"average\",\n      \"properties\": {\n        \"dtype\": \"date\",\n        \"min\": 5.188897967338562,\n        \"max\": 20.24218511581421,\n        \"num_unique_values\": 3643,\n        \"samples\": [\n          9.527808666229248,\n          6.974253535270691,\n          5.743992805480957\n        ],\n        \"semantic_type\": \"\",\n        \"description\": \"\"\n      }\n    }\n  ]\n}"
            }
          },
          "metadata": {},
          "execution_count": 412
        }
      ]
    },
    {
      "cell_type": "code",
      "source": [
        "fig, axs = plt.subplots(2,2, figsize=(10,4))\n",
        "axs = np.ravel(axs)\n",
        "\n",
        "axs[0].scatter(test_results_df[\"average\"], test_results_df[0])\n",
        "axs[0].set_title(\"Average Predictions vs. Val 0\")\n",
        "\n",
        "axs[1].scatter(test_results_df[\"average\"], test_results_df[1])\n",
        "axs[1].set_title(\"Average Predictions vs. Val 1\")\n",
        "\n",
        "axs[2].scatter(test_results_df[1], test_results_df[2])\n",
        "axs[2].set_title(\"Val 1 Predictions vs. Val 2\")\n",
        "\n",
        "axs[3].scatter(test_results_df[2], test_results_df[3])\n",
        "axs[3].set_title(\"Val 2 Predictions vs. Val 3\")\n",
        "\n",
        "plt.tight_layout()\n",
        "plt.show()"
      ],
      "metadata": {
        "colab": {
          "base_uri": "https://localhost:8080/",
          "height": 494
        },
        "id": "70r-Bd3KToSm",
        "outputId": "9e707738-4703-4696-8350-e74322c651c2"
      },
      "execution_count": null,
      "outputs": [
        {
          "output_type": "display_data",
          "data": {
            "text/plain": [
              "<Figure size 1200x480 with 4 Axes>"
            ],
            "image/png": "[encoded data removed]"
          },
          "metadata": {}
        }
      ]
    },
    {
      "cell_type": "markdown",
      "source": [
        "## **2.2 MODEL 02**"
      ],
      "metadata": {
        "id": "e3TyNwtOLl6W"
      }
    },
    {
      "cell_type": "markdown",
      "source": [
        "### 2.1.1 Create Dataloader:"
      ],
      "metadata": {
        "id": "4K6y80VFLl6e"
      }
    },
    {
      "cell_type": "code",
      "source": [
        "gc.collect()"
      ],
      "metadata": {
        "colab": {
          "base_uri": "https://localhost:8080/",
          "height": 148
        },
        "outputId": "f9fff944-e895-4ff8-f775-9ec18ab824c2",
        "id": "IMTM3EHaLl6f"
      },
      "execution_count": null,
      "outputs": [
        {
          "output_type": "error",
          "ename": "NameError",
          "evalue": "name 'gc' is not defined",
          "traceback": [
            "\u001b[0;31m---------------------------------------------------------------------------\u001b[0m",
            "\u001b[0;31mNameError\u001b[0m                                 Traceback (most recent call last)",
            "\u001b[0;32m<ipython-input-1-35e5c8a5ab93>\u001b[0m in \u001b[0;36m<cell line: 1>\u001b[0;34m()\u001b[0m\n\u001b[0;32m----> 1\u001b[0;31m \u001b[0mgc\u001b[0m\u001b[0;34m.\u001b[0m\u001b[0mcollect\u001b[0m\u001b[0;34m(\u001b[0m\u001b[0;34m)\u001b[0m\u001b[0;34m\u001b[0m\u001b[0;34m\u001b[0m\u001b[0m\n\u001b[0m",
            "\u001b[0;31mNameError\u001b[0m: name 'gc' is not defined"
          ]
        }
      ]
    },
    {
      "cell_type": "code",
      "source": [
        "def dataframe_to_dataset(dataframe, shuffle=False, batch_size=32, flds = ts_fields):\n",
        "    dataframe = dataframe.copy()\n",
        "    target = dataframe[\"bg+1:00\"]\n",
        "    dataframe = dataframe.drop(columns=[\"bg+1:00\"])\n",
        "\n",
        "    timeseries_df = dataframe[flds].values\n",
        "    timeseries_df = timeseries_df.reshape((-1, 72, 9))\n",
        "    static_df = dataframe.drop(columns=flds)\n",
        "\n",
        "    ds = tf.data.Dataset.from_tensor_slices(((static_df[\"hour\"].values,  # First input\n",
        "                                              static_df[\"minute\"].values,  # Second input\n",
        "                                              static_df[\"cluster\"].values,  # Third input\n",
        "                                              static_df[\"p_num\"].values,  # Fourth input\n",
        "                                              timeseries_df),\n",
        "                                              target))\n",
        "\n",
        "    if shuffle:\n",
        "      ds = ds.shuffle(buffer_size=len(dataframe))\n",
        "\n",
        "    ds = ds.batch(batch_size)\n",
        "    ds = ds.prefetch(batch_size)\n",
        "\n",
        "    return ds"
      ],
      "metadata": {
        "id": "Rlddr760Ll6f"
      },
      "execution_count": null,
      "outputs": []
    },
    {
      "cell_type": "code",
      "source": [
        "train_ds = dataframe_to_dataset(X_train,batch_size=1)"
      ],
      "metadata": {
        "id": "wwjy3iRnLl6f"
      },
      "execution_count": null,
      "outputs": []
    },
    {
      "cell_type": "markdown",
      "source": [
        "* **TEST THE DATALOADER:**"
      ],
      "metadata": {
        "id": "OgKL5kSDLl6f"
      }
    },
    {
      "cell_type": "code",
      "source": [
        "for (x0, x1, x2, x3, x4), y in train_ds.take(1):\n",
        "    print(x0.shape)\n",
        "    print(x1.shape)\n",
        "    print(x2.shape)\n",
        "    print(x3.shape)\n",
        "    print(x4.shape)\n",
        "    print(y.shape)\n"
      ],
      "metadata": {
        "colab": {
          "base_uri": "https://localhost:8080/"
        },
        "outputId": "380a802c-0500-4625-d493-dcee0240fe3f",
        "id": "p8sJgNr4Ll6f"
      },
      "execution_count": null,
      "outputs": [
        {
          "output_type": "stream",
          "name": "stdout",
          "text": [
            "(1,)\n",
            "(1,)\n",
            "(1,)\n",
            "(1,)\n",
            "(1, 72, 9)\n",
            "(1,)\n"
          ]
        }
      ]
    },
    {
      "cell_type": "code",
      "source": [
        "#X_train.iloc[:2000,:].to_csv(\"train_sample.csv\")"
      ],
      "metadata": {
        "id": "GBMRsyWXLl6g"
      },
      "execution_count": null,
      "outputs": []
    },
    {
      "cell_type": "markdown",
      "source": [
        "### **2.1.2 Encoding**"
      ],
      "metadata": {
        "id": "BNRei_p9Ll6g"
      }
    },
    {
      "cell_type": "code",
      "source": [
        "static_col = list(X_train.drop(columns=ts_fields+[\"bg+1:00\"]).columns)\n",
        "\n",
        "static_entries = {}\n",
        "\n",
        "for col in static_col:\n",
        "    static_entries[col] = X_train[col].nunique()\n",
        "\n",
        "embed_dim = {'p_num': 3, 'hour': 8, 'minute': 4, 'cluster': 8}\n",
        "static_entries"
      ],
      "metadata": {
        "colab": {
          "base_uri": "https://localhost:8080/"
        },
        "outputId": "1f189fa6-770f-4af9-df19-3a0f025b567b",
        "id": "sFSOF-ejLl6g"
      },
      "execution_count": null,
      "outputs": [
        {
          "output_type": "execute_result",
          "data": {
            "text/plain": [
              "{'p_num': 9, 'hour': 24, 'minute': 12, 'cluster': 22}"
            ]
          },
          "metadata": {},
          "execution_count": 393
        }
      ]
    },
    {
      "cell_type": "code",
      "source": [
        "def encode_tabular(inputs, list_categorical_nn, Cat_Feat_Entries=static_entries, num_dense_exp=False, embedding_dims=embed_dim, name=\"enc\"):\n",
        "    encoded_categorical_feature_list = []\n",
        "    numerical_feature_list = []\n",
        "\n",
        "    for counter, feature_name in enumerate(inputs):\n",
        "\n",
        "      vocabulary = Cat_Feat_Entries[feature_name]\n",
        "      emb_dim = embedding_dims[feature_name]\n",
        "\n",
        "      embedding = layers.Embedding(input_dim=vocabulary, output_dim=emb_dim, name=f\"embedder_{counter}\")\n",
        "      # Convert the index values to embedding representations.\n",
        "      encoded_categorical_feature = embedding(inputs[feature_name])\n",
        "\n",
        "      encoded_categorical_feature_list.append(encoded_categorical_feature)\n",
        "\n",
        "    return encoded_categorical_feature_list, numerical_feature_list"
      ],
      "metadata": {
        "id": "6xRtAM3ILl6g"
      },
      "execution_count": null,
      "outputs": []
    },
    {
      "cell_type": "code",
      "source": [
        "X_train.info()"
      ],
      "metadata": {
        "colab": {
          "base_uri": "https://localhost:8080/"
        },
        "outputId": "33e659c7-0867-492d-8620-d8d124f098df",
        "id": "WQDmx1mgLl6g"
      },
      "execution_count": null,
      "outputs": [
        {
          "output_type": "stream",
          "name": "stdout",
          "text": [
            "<class 'pandas.core.frame.DataFrame'>\n",
            "Index: 177024 entries, p01_0 to p12_25298\n",
            "Columns: 653 entries, p_num to bg+1:00\n",
            "dtypes: float32(649), int32(3), string(1)\n",
            "memory usage: 447.0+ MB\n"
          ]
        }
      ]
    },
    {
      "cell_type": "markdown",
      "source": [
        "### **2.1.3 Create Models:**"
      ],
      "metadata": {
        "id": "7nNnXaIcLl6g"
      }
    },
    {
      "cell_type": "code",
      "source": [
        "X_train.minute.unique()\n",
        "list(range(0,60,5))"
      ],
      "metadata": {
        "colab": {
          "base_uri": "https://localhost:8080/"
        },
        "outputId": "48f27f2f-e3d4-4472-f814-e138c402f891",
        "id": "x4dLR1nrLl6g"
      },
      "execution_count": null,
      "outputs": [
        {
          "output_type": "execute_result",
          "data": {
            "text/plain": [
              "[0, 5, 10, 15, 20, 25, 30, 35, 40, 45, 50, 55]"
            ]
          },
          "metadata": {},
          "execution_count": 396
        }
      ]
    },
    {
      "cell_type": "code",
      "source": [
        "def dense_block(cells, dropout=0.3,activation=\"selu\", reg=0.0, name=None, summary=False):\n",
        "  if activation == \"selu\":\n",
        "    block = keras.Sequential(name=name)\n",
        "    block.add(Dense(cells,\n",
        "                    activity_regularizer=keras.regularizers.l1(reg),\n",
        "                    name=f\"{name}_dense\",\n",
        "                    kernel_initializer=\"lecun_normal\"))\n",
        "    block.add(layers.BatchNormalization(name=f\"{name}_bn\"))\n",
        "    block.add(layers.Activation(activation, name=f\"{name}_activ\"))\n",
        "    block.add(layers.AlphaDropout(dropout, name=f\"{name}_do_alpha\"))\n",
        "\n",
        "  else:\n",
        "    block = keras.Sequential(name=name)\n",
        "    block.add(Dense(cells,\n",
        "                    activity_regularizer=keras.regularizers.l1(reg),\n",
        "                    name=f\"{name}_dense\",\n",
        "                    kernel_initializer=\"he_normal\"))\n",
        "    block.add(layers.BatchNormalization(name=f\"{name}_bn\"))\n",
        "    block.add(layers.Activation(activation, name=f\"{name}_activ\"))\n",
        "    block.add(layers.Dropout(dropout, name=f\"{name}_do\"))\n",
        "\n",
        "  return block\n",
        "\n",
        "def create_model_v0(vocabulary, dense_layers=[32,16],\n",
        "                    dropout=0.3, LSTM_layers=[64,32,32,16],\n",
        "                    activation=\"selu\", reg=0.0,lr=0.001,\n",
        "                    return_sequences=[64,32], summary=False):\n",
        "\n",
        "  # --- Tabular Data Processing ---\n",
        "  # Input layer for tabular data as a dictionary\n",
        "  hour_input = keras.Input(shape=(1,), name=\"hour_input\")\n",
        "  minute_input = keras.Input(shape=(1,), name=\"minute_input\")\n",
        "  cluster_input = keras.Input(shape=(1,), name=\"cluster_input\")\n",
        "  pnum_input = keras.Input(shape=(1,), name=\"pnum_input\", dtype=\"string\")\n",
        "\n",
        "  # Lookup Layer for the p_num:\n",
        "  lookup = layers.StringLookup(vocabulary=vocabulary,mask_token=None,num_oov_indices=1,\n",
        "                output_mode=\"int\", name=\"lookup_pnum\")\n",
        "  #lookup.adapt(X_train[\"p_num\"].values)\n",
        "  pnum_encoded = lookup(pnum_input)\n",
        "\n",
        "  # Lookup Layer for the minutes:\n",
        "  minute_lookup = layers.IntegerLookup(vocabulary=list(range(0,60,5)),mask_token=None,num_oov_indices=0,\n",
        "                output_mode=\"int\", name=\"lookup_min\")\n",
        "  #minute_lookup.adapt(X_train[\"minute\"].values)\n",
        "  minute_encoded = minute_lookup(minute_input)\n",
        "\n",
        "  # Embedding layers for hour and minute\n",
        "  hour_embedding = layers.Embedding(input_dim=24, output_dim=8, name=\"embed_hour\")(hour_input)\n",
        "  minute_embedding = layers.Embedding(input_dim=12, output_dim=6, name=\"embed_minute\")(minute_encoded)\n",
        "  pnum_encoded_embedding = layers.Embedding(input_dim=len(vocabulary)+1,\n",
        "                                            output_dim=3, name=\"embed_pnum\")(pnum_encoded)\n",
        "\n",
        "  # Embedding layer for cluster\n",
        "  cluster_embedding = layers.Embedding(input_dim=22, output_dim=8, name=\"embed_cluster\")(cluster_input)\n",
        "\n",
        "  # Flatten the embeddings\n",
        "  hour_flat = layers.Flatten()(hour_embedding)\n",
        "  minute_flat = layers.Flatten()(minute_embedding)\n",
        "  cluster_flat = layers.Flatten()(cluster_embedding)\n",
        "  pnum_flat = layers.Flatten()(pnum_encoded_embedding)\n",
        "\n",
        "  # Concatenate all tabular features\n",
        "  tabular_output = layers.concatenate([hour_flat, minute_flat, cluster_flat, pnum_flat])\n",
        "\n",
        "  # Dense layers for tabular data\n",
        "  for num, den in enumerate(dense_layers):\n",
        "    tabular_output = dense_block(den,dropout=dropout,activation=activation, reg=reg, name=f\"block_{num}\")(tabular_output)\n",
        "\n",
        "  # --- Time Series Data Processing ---\n",
        "  # Input layer for time series data\n",
        "  time_series_input = keras.Input(shape=(72, 9), name=\"time_series_input\")\n",
        "\n",
        "  # LSTM layers for time series data\n",
        "  for i in range(len(LSTM_layers)):\n",
        "    if i == 0 and len(LSTM_layers)>1:\n",
        "      time_series_output = layers.LSTM(LSTM_layers[i], return_sequences=True, name=f\"lstm_{i}\")(time_series_input)\n",
        "    elif i < len(LSTM_layers)-1:\n",
        "      time_series_output = layers.LSTM(LSTM_layers[i], return_sequences=True, name=f\"lstm_{i}\")(time_series_output)\n",
        "    elif len(LSTM_layers)==1:\n",
        "      time_series_output = layers.LSTM(LSTM_layers[i], return_sequences=False, name=f\"lstm_{i}\")(time_series_input)\n",
        "    else:\n",
        "      time_series_output = layers.LSTM(LSTM_layers[i], return_sequences=False, name=f\"lstm_{i}\")(time_series_output)\n",
        "\n",
        "  # --- Combine Tabular and Time Series Data ---\n",
        "  # Concatenate the outputs from both branches\n",
        "  concatenated = layers.concatenate([tabular_output, time_series_output])\n",
        "\n",
        "  # --- Output Layer ---\n",
        "  # Final dense layer for prediction\n",
        "  output = layers.Dense(1, name=\"output\")(concatenated)\n",
        "\n",
        "  # --- Create and Compile the Model ---\n",
        "  # Create the model\n",
        "  model = keras.Model(inputs=[hour_input, minute_input, cluster_input, pnum_input, time_series_input], outputs=output)\n",
        "  optimizer= keras.optimizers.Adam(learning_rate=lr)\n",
        "  metric = RootMeanSquaredError(name=\"rmse\", dtype=None)\n",
        "  metric_mae = MeanAbsoluteError(name=\"mae\", dtype=None)\n",
        "\n",
        "  # Compile the model\n",
        "  model.compile(optimizer=optimizer, loss=\"mse\", metrics=[metric,metric_mae])\n",
        "\n",
        "  # Print model summary\n",
        "  if summary==True:\n",
        "    model.summary()\n",
        "\n",
        "  return model\n",
        "\n",
        "\n",
        "vocabulary = X_train[\"p_num\"].unique().tolist()\n",
        "model = create_model_v0(vocabulary=vocabulary)"
      ],
      "metadata": {
        "id": "1y5qpCXILl6g"
      },
      "execution_count": null,
      "outputs": []
    },
    {
      "cell_type": "code",
      "source": [
        "plot_model(model, show_shapes=True, show_layer_names=True, rankdir=\"LR\", expand_nested=True, show_layer_activations=True)"
      ],
      "metadata": {
        "id": "c2b3kVuyLl6h"
      },
      "execution_count": null,
      "outputs": []
    },
    {
      "cell_type": "markdown",
      "source": [
        "### 2.1.4 Training Functions:"
      ],
      "metadata": {
        "id": "5anK1yauLl6h"
      }
    },
    {
      "cell_type": "code",
      "source": [
        "list(range(len(val_sets)))"
      ],
      "metadata": {
        "colab": {
          "base_uri": "https://localhost:8080/"
        },
        "outputId": "49286288-4183-433b-f983-c642830e5284",
        "id": "dsLAol-6Ll6h"
      },
      "execution_count": null,
      "outputs": [
        {
          "output_type": "execute_result",
          "data": {
            "text/plain": [
              "[0, 1, 2, 3]"
            ]
          },
          "metadata": {},
          "execution_count": 399
        }
      ]
    },
    {
      "cell_type": "markdown",
      "source": [
        "#### Main Function:"
      ],
      "metadata": {
        "id": "WOIp0LNbLl6h"
      }
    },
    {
      "cell_type": "code",
      "source": [
        "def run_experiment(X_train, X_test, model_constructor, best_params, split=val_sets, experiment_name=\"baseline_nn\", rs=42, target=\"bg+1:00\",\n",
        "                   batch_size=64, num_epochs=200, learning_rate=0.001, target_scaler=target_scaler):\n",
        "\n",
        "  test_predictions = np.zeros((len(X_test),1))\n",
        "  test_results_df = pd.DataFrame(index=X_test.index, columns=list(range(len(val_sets))))\n",
        "\n",
        "  all_mse = []\n",
        "  all_rmse = []\n",
        "\n",
        "  for i, val_index in enumerate(split):\n",
        "\n",
        "    print(f\"\\nRunning CV {i}\\n\")\n",
        "    ########################################################################## Prepare the Dataset:\n",
        "    X_trn = X_train.drop(index=val_index)\n",
        "    X_val = X_train.loc[val_index,:]\n",
        "\n",
        "    vocabulary = X_trn[\"p_num\"].unique().tolist()\n",
        "\n",
        "    X = X_trn.drop(columns=[target]).copy()\n",
        "    y = X_trn[target].copy()\n",
        "\n",
        "    val_X = X_val.drop(columns=[target]).copy()\n",
        "    val_y = X_val[target].copy()\n",
        "\n",
        "    X_test = X_test.copy()\n",
        "    #################################################################### Prepare Datasets loaders:\n",
        "\n",
        "    train_dataset = dataframe_to_dataset(X_trn, batch_size=batch_size, shuffle=True)\n",
        "    valid_dataset = dataframe_to_dataset(X_val, batch_size=batch_size, shuffle=False)\n",
        "    test_dataset = dataframe_to_dataset(X_test, batch_size=batch_size, shuffle=False)\n",
        "\n",
        "    ##################################################################### Relevant Folders\n",
        "    folders_experiment = f\"/content/drive/MyDrive/Exercises/Studies_Structured_Data/Models/Glucose/{experiment_name}_{i}/\"\n",
        "    ##################################################################### Generate and Fit Model\n",
        "    # Callbacks:\n",
        "    checkpoint_filepath = folders_experiment + f'checkpoint/{experiment_name}.weights.h5'\n",
        "\n",
        "    # Generate the Model:\n",
        "    model = model_constructor(vocabulary=vocabulary,\n",
        "                              lr = learning_rate,\n",
        "                              **best_params)\n",
        "\n",
        "    print(\"Start training the model...\")\n",
        "    history = model.fit(train_dataset,\n",
        "                        epochs=num_epochs,\n",
        "                        callbacks=[keras.callbacks.EarlyStopping(monitor='val_rmse', patience=17, mode=\"min\",\n",
        "                                                  start_from_epoch=5,restore_best_weights=True),\n",
        "                                   keras.callbacks.ModelCheckpoint(filepath=checkpoint_filepath,\n",
        "                                                    save_weights_only=True,\n",
        "                                                    monitor=\"val_rmse\",\n",
        "                                                    mode='min',\n",
        "                                                    save_best_only=True),\n",
        "                                   keras.callbacks.ReduceLROnPlateau(monitor='val_rmse', factor=0.5,\n",
        "                                                          patience=5, min_lr=0.0001, mode=\"min\")],\n",
        "                        validation_data=valid_dataset)\n",
        "    print(\"Model training finished\")\n",
        "\n",
        "    model.load_weights(checkpoint_filepath)\n",
        "    model.evaluate(valid_dataset, verbose=0)\n",
        "\n",
        "    plot_training_session(history)\n",
        "\n",
        "    oof_res = model.predict(valid_dataset)\n",
        "    test_pred = model.predict(test_dataset)\n",
        "\n",
        "    print(f\"Out-of-Fold Shapes: {val_y.shape},{oof_res.shape}\")\n",
        "\n",
        "    rmse_score = root_mean_squared_error(val_y, oof_res)\n",
        "\n",
        "    val_pred = target_scaler.inverse_transform(oof_res)\n",
        "    real_val_y = target_scaler.inverse_transform(val_y.values.reshape(-1,1))\n",
        "    test_pred_real = target_scaler.inverse_transform(test_pred)\n",
        "\n",
        "    rmse_score_original = root_mean_squared_error(real_val_y, val_pred)\n",
        "\n",
        "    fig, axs = plt.subplots(1,1, figsize=(10,4))\n",
        "    axs.scatter(val_pred, real_val_y)\n",
        "    axs.set_title(f\"Out-of-Fold RMSE Score: {round(rmse_score, 3)}%\")\n",
        "    plt.tight_layout()\n",
        "    plt.show()\n",
        "\n",
        "    print(f\"Out-of-Fold RMSE Score Rebased: {round(rmse_score, 3)}%\")\n",
        "    print(f\"Out-of-Fold RMSE Score Original: {round(rmse_score_original, 3)}%\")\n",
        "\n",
        "    ##################################################################### Save the Model\n",
        "    model.save(f\"{folders_experiment}/model_{experiment_name}.keras\")\n",
        "\n",
        "    ##################################################################### Create Model Output\n",
        "    test_results_df.loc[:,i] = test_pred_real\n",
        "    all_rmse.append(round(rmse_score_original, 3))\n",
        "\n",
        "    gc.collect()\n",
        "\n",
        "  ##################################################################### Create Model Output\n",
        "  print(f\"All Valuation RMSE: {all_rmse}\")\n",
        "\n",
        "  return test_results_df"
      ],
      "metadata": {
        "id": "0kAttfTyLl6h"
      },
      "execution_count": null,
      "outputs": []
    },
    {
      "cell_type": "markdown",
      "source": [
        "#### Keras Tuner:"
      ],
      "metadata": {
        "id": "yQaqCJzKLl6i"
      }
    },
    {
      "cell_type": "code",
      "source": [
        "tuning_on=False\n",
        "gc.collect()"
      ],
      "metadata": {
        "colab": {
          "base_uri": "https://localhost:8080/"
        },
        "outputId": "0ea69a59-f358-4562-dd0b-160fe772121b",
        "id": "0Hh6ax4OLl6i"
      },
      "execution_count": null,
      "outputs": [
        {
          "output_type": "execute_result",
          "data": {
            "text/plain": [
              "11195"
            ]
          },
          "metadata": {},
          "execution_count": 401
        }
      ]
    },
    {
      "cell_type": "markdown",
      "source": [
        " Select a Validation set:"
      ],
      "metadata": {
        "id": "tgYRmmWgLl6i"
      }
    },
    {
      "cell_type": "code",
      "source": [
        "valid_index = val_sets[2]\n",
        "Xt = X_train.drop(index=valid_index)\n",
        "Xv = X_train.loc[valid_index,:]\n",
        "\n",
        "print(f\"Train Shape: {Xt.shape}, Val Shape: {Xv.shape}\")"
      ],
      "metadata": {
        "colab": {
          "base_uri": "https://localhost:8080/"
        },
        "outputId": "e96a1bcb-03ec-4f6f-b12a-3b199d4dfcce",
        "id": "Y2UMktNCLl6i"
      },
      "execution_count": null,
      "outputs": [
        {
          "output_type": "stream",
          "name": "stdout",
          "text": [
            "Train Shape: (143659, 653), Val Shape: (33365, 653)\n"
          ]
        }
      ]
    },
    {
      "cell_type": "code",
      "source": [
        "if tuning_on==True:\n",
        "  vocabulary = Xt[\"p_num\"].unique().tolist()\n",
        "\n",
        "  train_dataset = dataframe_to_dataset(Xt, batch_size=256, shuffle=True)\n",
        "  valid_dataset = dataframe_to_dataset(Xv, batch_size=256, shuffle=False)"
      ],
      "metadata": {
        "id": "zQEFULWhLl6i"
      },
      "execution_count": null,
      "outputs": []
    },
    {
      "cell_type": "code",
      "source": [
        "if tuning_on==True:\n",
        "  # Define the hyperparameter search space: EXPERIMENT 1\n",
        "  hp = kt.HyperParameters()\n",
        "  hp.Choice('main_activation', [\"relu\",\"silu\",\"gelu\",\"selu\"])\n",
        "  hp.Float('dropout',0.15,0.40, step=0.025)\n",
        "  hp.Float('reg',0.0001, 1.0,step=10,sampling=\"log\")\n",
        "  hp.Choice('num_dense_blocks', values=[1,2,3,4])\n",
        "  hp.Choice('units_dense', values=[32,64,128])\n",
        "  hp.Choice('num_LSTM_blocks', values=[1,2,3,4])\n",
        "  hp.Choice('units_LSTM', values=[32,64,128])"
      ],
      "metadata": {
        "id": "KAMR7XQFLl6i"
      },
      "execution_count": null,
      "outputs": []
    },
    {
      "cell_type": "code",
      "source": [
        "def create_turner_model(hp):\n",
        "\n",
        "  model = create_model_v0(vocabulary=vocabulary,\n",
        "                          dense_layers=[hp.get('units_dense')]*hp.get('num_dense_blocks'),\n",
        "                          dropout=hp.get('dropout'),\n",
        "                          LSTM_layers=[hp.get('units_LSTM')]*hp.get('num_LSTM_blocks'),\n",
        "                          activation=hp.get('activation'),\n",
        "                          reg=hp.get('reg'),\n",
        "                          lr=0.0025)\n",
        "  return model"
      ],
      "metadata": {
        "id": "tRbD3UfeLl6i"
      },
      "execution_count": null,
      "outputs": []
    },
    {
      "cell_type": "code",
      "source": [
        "if tuning_on==True:\n",
        "  # Create a tuner and search for the best hyperparameters\n",
        "  tuner = BayesianOptimization(create_turner_model,\n",
        "                              objective=kt.Objective(\"val_rmse\", \"min\"),\n",
        "                              hyperparameters=hp, max_trials=50, overwrite=True)\n",
        "\n",
        "  stop_early = tf.keras.callbacks.EarlyStopping(monitor='val_rmse', patience=7, mode=\"min\", start_from_epoch=5)\n",
        "  reduce_ = tf.keras.callbacks.ReduceLROnPlateau(monitor='val_rmse', factor=0.5, patience=3, min_lr=0.0001, mode=\"min\")\n",
        "\n",
        "  tuner.search(train_dataset, validation_data=valid_dataset, epochs=31, callbacks=[stop_early,reduce_])"
      ],
      "metadata": {
        "id": "G5drFixcLl6i"
      },
      "execution_count": null,
      "outputs": []
    },
    {
      "cell_type": "code",
      "source": [
        "if tuning_on==True:\n",
        "  tuner.results_summary(num_trials=10)"
      ],
      "metadata": {
        "id": "gkuyJe9qLl6i"
      },
      "execution_count": null,
      "outputs": []
    },
    {
      "cell_type": "code",
      "source": [
        "if tuning_on==True:\n",
        "  print(tuner.get_best_hyperparameters(4)[0].values)\n",
        "  print(tuner.get_best_hyperparameters(4)[1].values)\n",
        "  print(tuner.get_best_hyperparameters(4)[2].values)\n",
        "  print(tuner.get_best_hyperparameters(4)[3].values)"
      ],
      "metadata": {
        "id": "MWARqNI4Ll6i"
      },
      "execution_count": null,
      "outputs": []
    },
    {
      "cell_type": "markdown",
      "source": [
        "* {'main_activation': 'relu', 'dropout': 0.15, 'reg': 0.01, 'num_dense_blocks': 1, 'units_dense': 128, 'num_LSTM_blocks': 4, 'units_LSTM': 128}\n",
        "* {'main_activation': 'silu', 'dropout': 0.375, 'reg': 1.0, 'num_dense_blocks': 4, 'units_dense': 32, 'num_LSTM_blocks': 4, 'units_LSTM': 128}\n",
        "* {'main_activation': 'selu', 'dropout': 0.35, 'reg': 1.0, 'num_dense_blocks': 4, 'units_dense': 32, 'num_LSTM_blocks': 4, 'units_LSTM': 128}\n",
        "* {'main_activation': 'relu', 'dropout': 0.30, 'reg': 0.1, 'num_dense_blocks': 1, 'units_dense': 128, 'num_LSTM_blocks': 4, 'units_LSTM': 128}\n",
        "\n",
        "* Trial 32 summary Hyperparameters:\n",
        "\n",
        "main_activation: relu\n",
        "dropout: 0.15\n",
        "reg: 0.01\n",
        "num_dense_blocks: 1\n",
        "units_dense: 128\n",
        "num_LSTM_blocks: 4\n",
        "units_LSTM: 128\n",
        "\n",
        "Score: 0.764337956905365\n",
        "\n",
        "* Trial 27 summary Hyperparameters:\n",
        "\n",
        "main_activation: silu\n",
        "dropout: 0.375\n",
        "reg: 1.0\n",
        "num_dense_blocks: 4\n",
        "units_dense: 32\n",
        "num_LSTM_blocks: 4\n",
        "units_LSTM: 128\n",
        "\n",
        "Score: 0.7657054662704468\n",
        "\n",
        "* Trial 23 summary Hyperparameters:\n",
        "\n",
        "main_activation: selu\n",
        "dropout: 0.35\n",
        "reg: 1.0\n",
        "num_dense_blocks: 4\n",
        "units_dense: 32\n",
        "num_LSTM_blocks: 4\n",
        "units_LSTM: 128\n",
        "\n",
        "Score: 0.7657089233398438"
      ],
      "metadata": {
        "id": "_D8MYUXeLl6i"
      }
    },
    {
      "cell_type": "markdown",
      "source": [
        "#### Fit The Model:"
      ],
      "metadata": {
        "id": "OkFxcTHiLl6j"
      }
    },
    {
      "cell_type": "code",
      "source": [
        "#best_params = tuner.get_best_hyperparameters(1)[0].values\n",
        "best_params = {'activation': 'relu', 'dropout': 0.15, 'reg': 0.01, \"dense_layers\":[128], \"LSTM_layers\":[128,128,128,128]}"
      ],
      "metadata": {
        "id": "aIB7HlroLl6j"
      },
      "execution_count": null,
      "outputs": []
    },
    {
      "cell_type": "code",
      "source": [
        "test_results_df = run_experiment(X_train, X_test, create_model_v0, best_params, split=val_sets,\n",
        "                                 experiment_name=\"baseline_nn\", rs=42, target=\"bg+1:00\",\n",
        "                                 batch_size=256, num_epochs=200, learning_rate=0.0005)"
      ],
      "metadata": {
        "id": "zzZhLzsuLl6j"
      },
      "execution_count": null,
      "outputs": []
    },
    {
      "cell_type": "code",
      "source": [
        "test_results_df[\"average\"] = test_results_df.mean(axis=1)\n",
        "test_results_df"
      ],
      "metadata": {
        "id": "QOib99kvLl6j"
      },
      "execution_count": null,
      "outputs": []
    },
    {
      "cell_type": "code",
      "source": [
        "sub = pd.read_csv(\"/content/drive/MyDrive/Exercises/Studies_Structured_Data/Data/Glucose/sample_submission.csv\")"
      ],
      "metadata": {
        "id": "5gqehNLxS5GJ"
      },
      "execution_count": null,
      "outputs": []
    },
    {
      "cell_type": "code",
      "source": [
        "for i, col in enumerate(test_results_df.columns):\n",
        "  sub[\"bg+1:00\"] = test_results_df[col].values\n",
        "  sub.to_csv(f\"/content/drive/MyDrive/Exercises/Studies_Structured_Data/Data/Glucose/submissions/Submission_val_{col}.csv\", index=False)\n",
        "  print(sub.isna().sum())"
      ],
      "metadata": {
        "id": "LWK5-YPebPmM",
        "colab": {
          "base_uri": "https://localhost:8080/"
        },
        "outputId": "46219931-9ad9-490f-ef71-1617016f7ddd"
      },
      "execution_count": null,
      "outputs": [
        {
          "output_type": "stream",
          "name": "stdout",
          "text": [
            "id         0\n",
            "bg+1:00    0\n",
            "dtype: int64\n",
            "id         0\n",
            "bg+1:00    0\n",
            "dtype: int64\n",
            "id         0\n",
            "bg+1:00    0\n",
            "dtype: int64\n",
            "id         0\n",
            "bg+1:00    0\n",
            "dtype: int64\n",
            "id         0\n",
            "bg+1:00    0\n",
            "dtype: int64\n"
          ]
        }
      ]
    },
    {
      "cell_type": "code",
      "source": [],
      "metadata": {
        "id": "Nb4rEmECbPiW",
        "colab": {
          "base_uri": "https://localhost:8080/",
          "height": 147
        },
        "outputId": "45e8e1c5-756f-4674-d920-1fa791f53447"
      },
      "execution_count": null,
      "outputs": [
        {
          "output_type": "execute_result",
          "data": {
            "text/plain": [
              "id         0\n",
              "bg+1:00    0\n",
              "dtype: int64"
            ],
            "text/html": [
              "<div>\n",
              "<style scoped>\n",
              "    .dataframe tbody tr th:only-of-type {\n",
              "        vertical-align: middle;\n",
              "    }\n",
              "\n",
              "    .dataframe tbody tr th {\n",
              "        vertical-align: top;\n",
              "    }\n",
              "\n",
              "    .dataframe thead th {\n",
              "        text-align: right;\n",
              "    }\n",
              "</style>\n",
              "<table border=\"1\" class=\"dataframe\">\n",
              "  <thead>\n",
              "    <tr style=\"text-align: right;\">\n",
              "      <th></th>\n",
              "      <th>0</th>\n",
              "    </tr>\n",
              "  </thead>\n",
              "  <tbody>\n",
              "    <tr>\n",
              "      <th>id</th>\n",
              "      <td>0</td>\n",
              "    </tr>\n",
              "    <tr>\n",
              "      <th>bg+1:00</th>\n",
              "      <td>0</td>\n",
              "    </tr>\n",
              "  </tbody>\n",
              "</table>\n",
              "</div><br><label><b>dtype:</b> int64</label>"
            ]
          },
          "metadata": {},
          "execution_count": 421
        }
      ]
    },
    {
      "cell_type": "code",
      "source": [],
      "metadata": {
        "id": "idUFLQMZbPeN"
      },
      "execution_count": null,
      "outputs": []
    },
    {
      "cell_type": "code",
      "source": [],
      "metadata": {
        "id": "-Ey1vbXcbPZM"
      },
      "execution_count": null,
      "outputs": []
    }
  ]
}