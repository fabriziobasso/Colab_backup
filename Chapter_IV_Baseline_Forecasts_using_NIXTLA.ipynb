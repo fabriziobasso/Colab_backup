{
  "nbformat": 4,
  "nbformat_minor": 0,
  "metadata": {
    "colab": {
      "provenance": [],
      "authorship_tag": "ABX9TyOfQSV3bZ84b05iZTfeWSGk",
      "include_colab_link": true
    },
    "kernelspec": {
      "name": "python3",
      "display_name": "Python 3"
    },
    "language_info": {
      "name": "python"
    }
  },
  "cells": [
    {
      "cell_type": "markdown",
      "metadata": {
        "id": "view-in-github",
        "colab_type": "text"
      },
      "source": [
        "<a href=\"https://colab.research.google.com/github/fabriziobasso/Colab_backup/blob/main/Chapter_IV_Baseline_Forecasts_using_NIXTLA.ipynb\" target=\"_parent\"><img src=\"https://colab.research.google.com/assets/colab-badge.svg\" alt=\"Open In Colab\"/></a>"
      ]
    },
    {
      "cell_type": "code",
      "execution_count": 1,
      "metadata": {
        "id": "-M7BI02TY-xm"
      },
      "outputs": [],
      "source": [
        "%%capture\n",
        "!pip install statsforecast==1.7.8\n",
        "!pip install datasetsforecast==0.0.8"
      ]
    },
    {
      "cell_type": "code",
      "source": [
        "# from google.colab import auth\n",
        "# auth.authenticate_user()"
      ],
      "metadata": {
        "id": "0SfREjn8WTf3"
      },
      "execution_count": 2,
      "outputs": []
    },
    {
      "cell_type": "code",
      "source": [
        "%%capture\n",
        "# Clone the repository\n",
        "!git clone https://github.com/PacktPublishing/Modern-Time-Series-Forecasting-with-Python-2E.git"
      ],
      "metadata": {
        "id": "thJeCVQoWTyf"
      },
      "execution_count": 3,
      "outputs": []
    },
    {
      "cell_type": "code",
      "source": [
        "import numpy as np\n",
        "import matplotlib.pyplot as plt\n",
        "import plotly.express as px\n",
        "import os\n",
        "import plotly.io as pio\n",
        "pio.templates.default = \"plotly_white\"\n",
        "import pandas as pd\n",
        "from pathlib import Path\n",
        "from tqdm.auto import tqdm\n",
        "import missingno as msno\n",
        "from itertools import cycle\n",
        "from sklearn.metrics import mean_absolute_error\n",
        "from IPython.display import display, HTML\n",
        "# %load_ext autoreload\n",
        "# %autoreload 2\n",
        "np.random.seed()\n",
        "tqdm.pandas()\n",
        "\n",
        "# Navigate to the repository's root directory\n",
        "%cd Modern-Time-Series-Forecasting-with-Python-2E\n",
        "\n",
        "from src.utils.data_utils import compact_to_expanded\n",
        "from src.imputation.interpolation import SeasonalInterpolation"
      ],
      "metadata": {
        "id": "d9q__r7fWr75",
        "colab": {
          "base_uri": "https://localhost:8080/"
        },
        "outputId": "8a3586b0-a8f0-46b8-c217-0239780990f8"
      },
      "execution_count": 4,
      "outputs": [
        {
          "output_type": "stream",
          "name": "stdout",
          "text": [
            "/content/Modern-Time-Series-Forecasting-with-Python-2E\n"
          ]
        }
      ]
    },
    {
      "cell_type": "code",
      "source": [
        "from google.colab import drive\n",
        "drive.mount('/content/drive')"
      ],
      "metadata": {
        "id": "3Cu5YK6FR4CM",
        "colab": {
          "base_uri": "https://localhost:8080/"
        },
        "outputId": "ffd3bce4-4272-4e60-8c31-52c1796f3950"
      },
      "execution_count": 5,
      "outputs": [
        {
          "output_type": "stream",
          "name": "stdout",
          "text": [
            "Mounted at /content/drive\n"
          ]
        }
      ]
    },
    {
      "cell_type": "code",
      "source": [
        "%cd"
      ],
      "metadata": {
        "id": "1xUUV4hTZulN",
        "colab": {
          "base_uri": "https://localhost:8080/"
        },
        "outputId": "8659739c-d14e-44c3-ef53-a69eddf4dfc6"
      },
      "execution_count": 6,
      "outputs": [
        {
          "output_type": "stream",
          "name": "stdout",
          "text": [
            "/root\n"
          ]
        }
      ]
    },
    {
      "cell_type": "code",
      "source": [
        "os.makedirs(\"/content/drive/MyDrive/Books/Modern Time Series Forecasting/Chapter II/imgs/chapter_2\", exist_ok=True)\n",
        "preprocessed = Path(\"/content/drive/MyDrive/Books/Modern Time Series Forecasting/Data/data/london_smart_meters/data/london_smart_meters/preprocessed\")"
      ],
      "metadata": {
        "id": "dcEIKcoyWudv"
      },
      "execution_count": 7,
      "outputs": []
    },
    {
      "cell_type": "code",
      "source": [
        "assert preprocessed.is_dir(), \"You have to run 02 - Preprocessing London Smart Meter Dataset.ipynb in Chapter02 before running this notebook\""
      ],
      "metadata": {
        "id": "BwTDEYiraK3p"
      },
      "execution_count": 8,
      "outputs": []
    },
    {
      "cell_type": "code",
      "source": [
        "def format_plot(fig, legends = None, font_size=15, title_font_size=20):\n",
        "    if legends:\n",
        "        names = cycle(legends)\n",
        "        fig.for_each_trace(lambda t:  t.update(name = next(names)))\n",
        "    fig.update_layout(\n",
        "            autosize=False,\n",
        "            width=900,\n",
        "            height=500,\n",
        "            title={\n",
        "            'x':0.5,\n",
        "            'xanchor': 'center',\n",
        "            'yanchor': 'top'},\n",
        "            titlefont={\n",
        "                \"size\": title_font_size\n",
        "            },\n",
        "            legend_title = None,\n",
        "            legend=dict(\n",
        "                font=dict(size=font_size),\n",
        "                orientation=\"h\",\n",
        "                yanchor=\"bottom\",\n",
        "                y=0.98,\n",
        "                xanchor=\"right\",\n",
        "                x=1,\n",
        "            ),\n",
        "            yaxis=dict(\n",
        "                title_text=\"Value\",\n",
        "                titlefont=dict(size=font_size),\n",
        "                tickfont=dict(size=font_size),\n",
        "            ),\n",
        "            xaxis=dict(\n",
        "                title_text=\"Day\",\n",
        "                titlefont=dict(size=font_size),\n",
        "                tickfont=dict(size=font_size),\n",
        "            )\n",
        "        )\n",
        "    return fig"
      ],
      "metadata": {
        "id": "3mxraqG6afI3"
      },
      "execution_count": 9,
      "outputs": []
    },
    {
      "cell_type": "code",
      "source": [
        "import numpy as np\n",
        "import pandas as pd\n",
        "import time\n",
        "import os\n",
        "from pathlib import Path\n",
        "import plotly.express as px\n",
        "import plotly.graph_objects as go\n",
        "import plotly.io as pio\n",
        "from itertools import cycle\n",
        "\n",
        "pio.templates.default = \"plotly_white\"\n",
        "import warnings\n",
        "import humanize\n",
        "\n",
        "from functools import partial\n",
        "from statsforecast.core import StatsForecast\n",
        "from utilsforecast.plotting import plot_series\n",
        "from utilsforecast.evaluation import evaluate\n",
        "from statsforecast.models import (\n",
        "    Naive,\n",
        "    SeasonalNaive,\n",
        "    HistoricAverage,\n",
        "    WindowAverage,\n",
        "    SeasonalWindowAverage,\n",
        "    RandomWalkWithDrift,\n",
        "    HoltWinters,\n",
        "    ETS,\n",
        "    AutoETS,\n",
        "    AutoARIMA,\n",
        "    ARIMA,\n",
        "    AutoTheta,\n",
        "    DynamicTheta,\n",
        "    DynamicOptimizedTheta,\n",
        "    Theta,\n",
        "    OptimizedTheta,\n",
        "    TBATS,\n",
        "    AutoTBATS,\n",
        "    MSTL\n",
        "\n",
        ")\n",
        "from datasetsforecast.losses import *\n",
        "from src.utils.ts_utils import forecast_bias\n",
        "\n",
        "import time\n",
        "from src.utils import plotting_utils\n",
        "\n",
        "from tqdm import tqdm\n",
        "np.random.seed(42)\n",
        "tqdm.pandas()"
      ],
      "metadata": {
        "id": "RUQg6hf3aKV9"
      },
      "execution_count": 10,
      "outputs": []
    },
    {
      "cell_type": "code",
      "source": [
        "import statsforecast as stf\n",
        "stf.__version__"
      ],
      "metadata": {
        "colab": {
          "base_uri": "https://localhost:8080/",
          "height": 35
        },
        "id": "1by44eqWafQv",
        "outputId": "6920d3a2-9abe-430e-d7f8-44eeb7c5672a"
      },
      "execution_count": 11,
      "outputs": [
        {
          "output_type": "execute_result",
          "data": {
            "text/plain": [
              "'1.7.8'"
            ],
            "application/vnd.google.colaboratory.intrinsic+json": {
              "type": "string"
            }
          },
          "metadata": {},
          "execution_count": 11
        }
      ]
    },
    {
      "cell_type": "code",
      "source": [
        "# this makes it so that the outputs of the predict methods have the id as a column\n",
        "# instead of as the index\n",
        "os.environ['NIXTLA_ID_AS_COL'] = '1'"
      ],
      "metadata": {
        "id": "-SUT8NIlbZ4Z"
      },
      "execution_count": 12,
      "outputs": []
    },
    {
      "cell_type": "markdown",
      "source": [
        "* **Set up Folders**"
      ],
      "metadata": {
        "id": "9InPk747gTMZ"
      }
    },
    {
      "cell_type": "code",
      "source": [
        "os.makedirs(\"/content/drive/MyDrive/Books/Modern Time Series Forecasting/Chapter IV/chapter_4\", exist_ok=True)\n",
        "preprocessed = Path(\"/content/drive/MyDrive/Books/Modern Time Series Forecasting/Data/data/london_smart_meters/data/london_smart_meters/preprocessed\")"
      ],
      "metadata": {
        "id": "z8JTcOcEf5Iq"
      },
      "execution_count": 14,
      "outputs": []
    },
    {
      "cell_type": "markdown",
      "source": [
        "* **Graph Functions and Formatting**"
      ],
      "metadata": {
        "id": "DqZJ-KTIgWdo"
      }
    },
    {
      "cell_type": "code",
      "source": [
        "def format_plot(fig, legends = None, xlabel=\"Time\", ylabel=\"Value\", title=\"\", font_size=15):\n",
        "    if legends:\n",
        "        names = cycle(legends)\n",
        "        fig.for_each_trace(lambda t:  t.update(name = next(names)))\n",
        "    fig.update_layout(\n",
        "            autosize=False,\n",
        "            width=900,\n",
        "            height=500,\n",
        "            title_text=title,\n",
        "            title={\n",
        "            'x':0.5,\n",
        "            'xanchor': 'center',\n",
        "            'yanchor': 'top'},\n",
        "            titlefont={\n",
        "                \"size\": 20\n",
        "            },\n",
        "            legend_title = None,\n",
        "            legend=dict(\n",
        "                font=dict(size=font_size),\n",
        "                orientation=\"h\",\n",
        "                yanchor=\"bottom\",\n",
        "                y=0.98,\n",
        "                xanchor=\"right\",\n",
        "                x=1,\n",
        "            ),\n",
        "            yaxis=dict(\n",
        "                title_text=ylabel,\n",
        "                titlefont=dict(size=font_size),\n",
        "                tickfont=dict(size=font_size),\n",
        "            ),\n",
        "            xaxis=dict(\n",
        "                title_text=xlabel,\n",
        "                titlefont=dict(size=font_size),\n",
        "                tickfont=dict(size=font_size),\n",
        "            )\n",
        "        )\n",
        "    return fig\n",
        "\n",
        "def plot_forecast(pred_df, forecast_columns, timestamp_col, forecast_display_names=None):\n",
        "    if forecast_display_names is None:\n",
        "        forecast_display_names = forecast_columns\n",
        "    else:\n",
        "        assert len(forecast_columns) == len(forecast_display_names)\n",
        "\n",
        "    mask = ~pred_df[forecast_columns[0]].isnull()\n",
        "    colors = [c.replace(\"rgb\", \"rgba\").replace(\")\", \", <alpha>)\") for c in px.colors.qualitative.Dark2]\n",
        "    act_color = colors[0]\n",
        "    colors = cycle(colors[1:])\n",
        "    dash_types = cycle([\"dash\", \"dot\", \"dashdot\"])\n",
        "\n",
        "    fig = go.Figure()\n",
        "    fig.add_trace(go.Scatter(x=pred_df[mask][timestamp_col], y=pred_df[mask]['energy_consumption'],\n",
        "                             mode='lines', line=dict(color=act_color.replace(\"<alpha>\", \"0.3\")),\n",
        "                             name='Actual Consumption'))\n",
        "\n",
        "    for col, display_col in zip(forecast_columns, forecast_display_names):\n",
        "        fig.add_trace(go.Scatter(x=pred_df[mask][timestamp_col], y=pred_df.loc[mask, col],\n",
        "                                 mode='lines', line=dict(dash=next(dash_types), color=next(colors).replace(\"<alpha>\", \"1\")),\n",
        "                                 name=display_col))\n",
        "    return fig"
      ],
      "metadata": {
        "id": "38d-jaAXf5Ey"
      },
      "execution_count": null,
      "outputs": []
    },
    {
      "cell_type": "markdown",
      "source": [
        "* **Load the Datasets**"
      ],
      "metadata": {
        "id": "HgHnJWoxghPQ"
      }
    },
    {
      "cell_type": "code",
      "source": [
        "#Readin the missing value imputed and train test split data\n",
        "try:\n",
        "    train_df = pd.read_parquet(preprocessed/\"selected_blocks_train_missing_imputed.parquet\")\n",
        "    train_df = train_df[['LCLid',\"timestamp\",\"energy_consumption\",\"frequency\"]]\n",
        "    val_df = pd.read_parquet(preprocessed/\"selected_blocks_val_missing_imputed.parquet\")\n",
        "    val_df = val_df[['LCLid',\"timestamp\",\"energy_consumption\",\"frequency\"]]\n",
        "    test_df = pd.read_parquet(preprocessed/\"selected_blocks_test_missing_imputed.parquet\")\n",
        "    test_df = test_df[['LCLid',\"timestamp\",\"energy_consumption\",\"frequency\"]]\n",
        "except FileNotFoundError:\n",
        "    print(f\"Warning: File not found in {preprocessed}. Ensure you've run '01-Setting up Experiment Harness.ipynb' in Chapter 04 and that the file path is correct.\")"
      ],
      "metadata": {
        "id": "I7DhV6jMf4_w"
      },
      "execution_count": 21,
      "outputs": []
    },
    {
      "cell_type": "code",
      "source": [
        "train_df.shape, val_df.shape, test_df.shape"
      ],
      "metadata": {
        "colab": {
          "base_uri": "https://localhost:8080/"
        },
        "id": "Mx8MV_NZg1ko",
        "outputId": "5da28780-03e8-49f6-b660-012567d5199a"
      },
      "execution_count": 22,
      "outputs": [
        {
          "output_type": "execute_result",
          "data": {
            "text/plain": [
              "((4293840, 4), (223200, 4), (194400, 4))"
            ]
          },
          "metadata": {},
          "execution_count": 22
        }
      ]
    },
    {
      "cell_type": "code",
      "source": [
        "print(\"Min train_df Date: \" , train_df.timestamp.min())\n",
        "print(\"Max train_df Date: \" , train_df.timestamp.max())\n",
        "print(\"Min val_df Date: \" , val_df.timestamp.min())\n",
        "print(\"Max val_df Date: \" , val_df.timestamp.max())\n",
        "print(\"Min test_df Date: \" , test_df.timestamp.min())\n",
        "print(\"Max test_df Date: \" , test_df.timestamp.max())"
      ],
      "metadata": {
        "colab": {
          "base_uri": "https://localhost:8080/"
        },
        "id": "jMyZHqBDf41i",
        "outputId": "7a518588-0b75-465a-d941-dc4c6bc2b936"
      },
      "execution_count": 23,
      "outputs": [
        {
          "output_type": "stream",
          "name": "stdout",
          "text": [
            "Min train_df Date:  2012-01-01 00:00:00\n",
            "Max train_df Date:  2013-12-31 23:30:00\n",
            "Min val_df Date:  2014-01-01 00:00:00\n",
            "Max val_df Date:  2014-01-31 23:30:00\n",
            "Min test_df Date:  2014-02-01 00:00:00\n",
            "Max test_df Date:  2014-02-27 23:30:00\n"
          ]
        }
      ]
    },
    {
      "cell_type": "code",
      "source": [
        "train_df = train_df[train_df.timestamp >'2012-01-01']\n",
        "print(\"Min train_df Date: \" , train_df.timestamp.min())"
      ],
      "metadata": {
        "colab": {
          "base_uri": "https://localhost:8080/"
        },
        "id": "kS4AH_1rglyJ",
        "outputId": "a55499d3-78c9-4ffc-8634-23e2094785b5"
      },
      "execution_count": 24,
      "outputs": [
        {
          "output_type": "stream",
          "name": "stdout",
          "text": [
            "Min train_df Date:  2012-01-01 00:30:00\n"
          ]
        }
      ]
    },
    {
      "cell_type": "code",
      "source": [
        "train_df.shape"
      ],
      "metadata": {
        "colab": {
          "base_uri": "https://localhost:8080/"
        },
        "id": "5GUfuNZzgyRZ",
        "outputId": "e102ac28-6f76-44c1-8001-4dff1a541dbd"
      },
      "execution_count": 25,
      "outputs": [
        {
          "output_type": "execute_result",
          "data": {
            "text/plain": [
              "(4293822, 4)"
            ]
          },
          "metadata": {},
          "execution_count": 25
        }
      ]
    },
    {
      "cell_type": "code",
      "source": [
        "#picking a single time series from the dataset for illustration\n",
        "freq = train_df.iloc[0]['frequency']\n",
        "ts_train = train_df.loc[train_df.LCLid==\"MAC000193\", ['LCLid',\"timestamp\",\"energy_consumption\"]]\n",
        "ts_val = val_df.loc[val_df.LCLid==\"MAC000193\", ['LCLid',\"timestamp\",\"energy_consumption\"]]\n",
        "ts_test = test_df.loc[test_df.LCLid==\"MAC000193\", ['LCLid',\"timestamp\",\"energy_consumption\"]]"
      ],
      "metadata": {
        "id": "VnoflyU4gqhg"
      },
      "execution_count": 26,
      "outputs": []
    },
    {
      "cell_type": "code",
      "source": [
        "ts_train.shape"
      ],
      "metadata": {
        "colab": {
          "base_uri": "https://localhost:8080/"
        },
        "id": "9_d7x5UtgtSf",
        "outputId": "9930acaf-5675-40fa-c3a8-85ac54a43bd7"
      },
      "execution_count": 27,
      "outputs": [
        {
          "output_type": "execute_result",
          "data": {
            "text/plain": [
              "(35087, 3)"
            ]
          },
          "metadata": {},
          "execution_count": 27
        }
      ]
    },
    {
      "cell_type": "code",
      "source": [],
      "metadata": {
        "id": "UfRVyMMIgwTr"
      },
      "execution_count": null,
      "outputs": []
    }
  ]
}