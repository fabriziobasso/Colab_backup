{
  "nbformat": 4,
  "nbformat_minor": 0,
  "metadata": {
    "colab": {
      "provenance": [],
      "toc_visible": true,
      "include_colab_link": true
    },
    "kernelspec": {
      "name": "python3",
      "display_name": "Python 3"
    },
    "language_info": {
      "name": "python"
    }
  },
  "cells": [
    {
      "cell_type": "markdown",
      "metadata": {
        "id": "view-in-github",
        "colab_type": "text"
      },
      "source": [
        "<a href=\"https://colab.research.google.com/github/fabriziobasso/Colab_backup/blob/main/03_Handling_Missing_Data_(Long_Gaps)_v0.ipynb\" target=\"_parent\"><img src=\"https://colab.research.google.com/assets/colab-badge.svg\" alt=\"Open In Colab\"/></a>"
      ]
    },
    {
      "cell_type": "code",
      "source": [
        "# from google.colab import auth\n",
        "# auth.authenticate_user()"
      ],
      "metadata": {
        "id": "0SfREjn8WTf3"
      },
      "execution_count": null,
      "outputs": []
    },
    {
      "cell_type": "code",
      "source": [
        "%%capture\n",
        "# Clone the repository\n",
        "!git clone https://github.com/PacktPublishing/Modern-Time-Series-Forecasting-with-Python-2E.git"
      ],
      "metadata": {
        "id": "thJeCVQoWTyf"
      },
      "execution_count": null,
      "outputs": []
    },
    {
      "cell_type": "code",
      "source": [
        "import numpy as np\n",
        "import matplotlib.pyplot as plt\n",
        "import plotly.express as px\n",
        "import os\n",
        "import plotly.io as pio\n",
        "pio.templates.default = \"plotly_white\"\n",
        "import pandas as pd\n",
        "from pathlib import Path\n",
        "from tqdm.auto import tqdm\n",
        "import missingno as msno\n",
        "from itertools import cycle\n",
        "from sklearn.metrics import mean_absolute_error\n",
        "from IPython.display import display, HTML\n",
        "# %load_ext autoreload\n",
        "# %autoreload 2\n",
        "np.random.seed()\n",
        "tqdm.pandas()\n",
        "\n",
        "# Navigate to the repository's root directory\n",
        "%cd Modern-Time-Series-Forecasting-with-Python-2E\n",
        "\n",
        "from src.utils.data_utils import compact_to_expanded\n",
        "from src.imputation.interpolation import SeasonalInterpolation"
      ],
      "metadata": {
        "id": "d9q__r7fWr75"
      },
      "execution_count": null,
      "outputs": []
    },
    {
      "cell_type": "code",
      "source": [
        "from google.colab import drive\n",
        "drive.mount('/content/drive')"
      ],
      "metadata": {
        "id": "3Cu5YK6FR4CM"
      },
      "execution_count": null,
      "outputs": []
    },
    {
      "cell_type": "code",
      "source": [
        "%cd"
      ],
      "metadata": {
        "id": "1xUUV4hTZulN"
      },
      "execution_count": null,
      "outputs": []
    },
    {
      "cell_type": "code",
      "source": [
        "os.makedirs(\"/content/drive/MyDrive/Books/Modern Time Series Forecasting/Chapter II/imgs/chapter_2\", exist_ok=True)\n",
        "preprocessed = Path(\"/content/drive/MyDrive/Books/Modern Time Series Forecasting/Data/data/london_smart_meters/data/london_smart_meters/preprocessed\")"
      ],
      "metadata": {
        "id": "dcEIKcoyWudv"
      },
      "execution_count": null,
      "outputs": []
    },
    {
      "cell_type": "code",
      "source": [
        "assert preprocessed.is_dir(), \"You have to run 02 - Preprocessing London Smart Meter Dataset.ipynb in Chapter02 before running this notebook\""
      ],
      "metadata": {
        "id": "BwTDEYiraK3p"
      },
      "execution_count": null,
      "outputs": []
    },
    {
      "cell_type": "code",
      "source": [
        "def format_plot(fig, legends = None, font_size=15, title_font_size=20):\n",
        "    if legends:\n",
        "        names = cycle(legends)\n",
        "        fig.for_each_trace(lambda t:  t.update(name = next(names)))\n",
        "    fig.update_layout(\n",
        "            autosize=False,\n",
        "            width=900,\n",
        "            height=500,\n",
        "            title={\n",
        "            'x':0.5,\n",
        "            'xanchor': 'center',\n",
        "            'yanchor': 'top'},\n",
        "            titlefont={\n",
        "                \"size\": title_font_size\n",
        "            },\n",
        "            legend_title = None,\n",
        "            legend=dict(\n",
        "                font=dict(size=font_size),\n",
        "                orientation=\"h\",\n",
        "                yanchor=\"bottom\",\n",
        "                y=0.98,\n",
        "                xanchor=\"right\",\n",
        "                x=1,\n",
        "            ),\n",
        "            yaxis=dict(\n",
        "                title_text=\"Value\",\n",
        "                titlefont=dict(size=font_size),\n",
        "                tickfont=dict(size=font_size),\n",
        "            ),\n",
        "            xaxis=dict(\n",
        "                title_text=\"Day\",\n",
        "                titlefont=dict(size=font_size),\n",
        "                tickfont=dict(size=font_size),\n",
        "            )\n",
        "        )\n",
        "    return fig"
      ],
      "metadata": {
        "id": "3mxraqG6afI3"
      },
      "execution_count": null,
      "outputs": []
    },
    {
      "cell_type": "markdown",
      "source": [
        "### Reading Blocks 0-7"
      ],
      "metadata": {
        "id": "Zl0ru8p1c7bk"
      }
    },
    {
      "cell_type": "code",
      "source": [
        "try:\n",
        "    block_df = pd.read_parquet(preprocessed/\"london_smart_meters_merged_block_0-7.parquet\")\n",
        "    display(block_df.head())\n",
        "except FileNotFoundError:\n",
        "    display(HTML(\"\"\"\n",
        "    <div class=\"alert alert-block alert-warning\">\n",
        "    <b>Warning!</b> File not found. Please make sure you have run 02 - Preprocessing London Smart Meter Dataset.ipynb in Chapter02\n",
        "    </div>\n",
        "    \"\"\"))"
      ],
      "metadata": {
        "id": "GaPJLvJDc3gF"
      },
      "execution_count": null,
      "outputs": []
    },
    {
      "cell_type": "markdown",
      "source": [
        "Let's take all the consumers in one block for our exercise. Keep in mind, you can do the same with more number of blocks as long as it fits in your RAM"
      ],
      "metadata": {
        "id": "eCvV9bKXdGFT"
      }
    },
    {
      "cell_type": "code",
      "source": [
        "#compact_to_expanded??"
      ],
      "metadata": {
        "id": "Q-CKbF_odOps"
      },
      "execution_count": null,
      "outputs": []
    },
    {
      "cell_type": "code",
      "source": [
        "#Converting to expanded form\n",
        "exp_block_df = compact_to_expanded(block_df[block_df.file==\"block_7\"], timeseries_col = 'energy_consumption',\n",
        "                                            static_cols = [\"frequency\", \"series_length\", \"stdorToU\", \"Acorn\", \"Acorn_grouped\", \"file\"],\n",
        "                                            time_varying_cols = ['holidays', 'visibility', 'windBearing', 'temperature', 'dewPoint',\n",
        "                                                  'pressure', 'apparentTemperature', 'windSpeed', 'precipType', 'icon',\n",
        "                                                  'humidity', 'summary'],\n",
        "                                            ts_identifier = \"LCLid\")\n",
        "\n",
        "exp_block_df.head()"
      ],
      "metadata": {
        "id": "xsCf82hddAkp"
      },
      "execution_count": null,
      "outputs": []
    },
    {
      "cell_type": "markdown",
      "source": [
        "### Missing Data and Advanced Imputation Techniques"
      ],
      "metadata": {
        "id": "w3zxMN92ecAj"
      }
    },
    {
      "cell_type": "code",
      "source": [
        "# Pivot the data to set the index as the datetime and the different time series along the columns\n",
        "plot_df = pd.pivot_table(exp_block_df, index=\"timestamp\", columns=\"LCLid\", values=\"energy_consumption\")\n",
        "# Generate Plot. Since we have a datetime index, we can mention the frequency to decide what do we want on the X axis\n",
        "msno.matrix(plot_df, freq=\"M\", fontsize=10)\n",
        "#plt.savefig('/content/drive/MyDrive/Books/Modern Time Series Forecasting/Chapter II/imgs/chapter_2/imgs/missing_no_full.png', bbox_inches='tight')\n",
        "plt.show()"
      ],
      "metadata": {
        "id": "Xoc2Q7hCeFsh"
      },
      "execution_count": null,
      "outputs": []
    },
    {
      "cell_type": "code",
      "source": [
        "# Taking a single time series from the block\n",
        "ts_df = exp_block_df[exp_block_df.LCLid==\"MAC000193\"].set_index(\"timestamp\")"
      ],
      "metadata": {
        "id": "-ZFh8PoteffT"
      },
      "execution_count": null,
      "outputs": []
    },
    {
      "cell_type": "markdown",
      "source": [
        "We know that there is some missing data between 2012-09-30 and 2012-10-31. But instead of picking a window where there is an actual missing data, let's pick a window where data is present, but we artificially remove it and then look at techniques to fill it. This way, we can have some way to see how well a particular method is working."
      ],
      "metadata": {
        "id": "c-pD8MVlfUqL"
      }
    },
    {
      "cell_type": "code",
      "source": [
        "msno.matrix(ts_df[\"2012-10-13\": \"2012-10-24\"], freq=\"D\", fontsize=10)\n",
        "#plt.savefig('imgs/chapter_2/missing_no_mac000193.png', bbox_inches='tight')\n",
        "plt.show()"
      ],
      "metadata": {
        "id": "FBDYYKxFe4k2"
      },
      "execution_count": null,
      "outputs": []
    },
    {
      "cell_type": "markdown",
      "source": [
        "We see that there are two days of information and normally would preceed to fill in the gaps using some of the techniques we will be revieweing. But just to see how effective the different techniques we are reviewing, we will artificially create a missing section and see how well we are able to impute it."
      ],
      "metadata": {
        "id": "kxc1nQOhfvl7"
      }
    },
    {
      "cell_type": "code",
      "source": [
        "# The dates between which we are nulling out the time series\n",
        "window = slice(\"2012-10-07\", \"2012-10-08\")\n",
        "# Creating a new column and artificially creating missing values\n",
        "ts_df['energy_consumption_missing'] = ts_df.energy_consumption\n",
        "ts_df"
      ],
      "metadata": {
        "id": "XFmUQfNcfXr5"
      },
      "execution_count": null,
      "outputs": []
    },
    {
      "cell_type": "code",
      "source": [
        "ts_df.loc[window, \"energy_consumption_missing\"] = np.nan\n",
        "# Creating a new window with a few dats added on either side for visualization purposes\n",
        "vis_window = slice(pd.to_datetime(window.start) - pd.Timedelta(days=2), pd.to_datetime(window.stop) + pd.Timedelta(days=3))"
      ],
      "metadata": {
        "id": "_gbEBaaKfwM3"
      },
      "execution_count": null,
      "outputs": []
    },
    {
      "cell_type": "code",
      "source": [
        "fig = px.line(ts_df[vis_window], y=\"energy_consumption_missing\", title=f\"MAC000193 Energy Consumption between {vis_window.start.strftime('%Y-%m-%d')} and {vis_window.stop.strftime('%Y-%m-%d')}\")\n",
        "fig = format_plot(fig)\n",
        "#fig.write_image(\"imgs/chapter_2/mac000193_missing.png\")\n",
        "fig.show()"
      ],
      "metadata": {
        "id": "z-wziQ4Jl0OF"
      },
      "execution_count": null,
      "outputs": []
    },
    {
      "cell_type": "markdown",
      "source": [
        "### Missing Data Imputation"
      ],
      "metadata": {
        "id": "tdc3wAIgmHRS"
      }
    },
    {
      "cell_type": "code",
      "source": [
        "null_mask = ts_df.energy_consumption_missing.isnull()\n",
        "null_mask"
      ],
      "metadata": {
        "id": "Sv1Vf8KNl6oN"
      },
      "execution_count": null,
      "outputs": []
    },
    {
      "cell_type": "markdown",
      "source": [
        "### Repeating Patterns"
      ],
      "metadata": {
        "id": "mlknn1IKLMdq"
      }
    },
    {
      "cell_type": "markdown",
      "source": [
        "#### - **Last Day**"
      ],
      "metadata": {
        "id": "Ph5V4g6qLO3h"
      }
    },
    {
      "cell_type": "code",
      "source": [
        "#Shifting 48 steps to get previous day\n",
        "ts_df[\"prev_day\"] = ts_df['energy_consumption'].shift(48)\n",
        "ts_df['prev_day_imputed'] =  ts_df['energy_consumption_missing']\n",
        "ts_df.loc[null_mask,:]\n",
        "#ts_df.head(50)"
      ],
      "metadata": {
        "id": "PYD-izOFMo6K"
      },
      "execution_count": null,
      "outputs": []
    },
    {
      "cell_type": "code",
      "source": [
        "#Shifting 48 steps to get previous day\n",
        "ts_df[\"prev_day\"] = ts_df['energy_consumption'].shift(48)\n",
        "#Using the shifted column to fill missing\n",
        "ts_df['prev_day_imputed'] =  ts_df['energy_consumption_missing']\n",
        "ts_df.loc[null_mask,\"prev_day_imputed\"] = ts_df.loc[null_mask,\"prev_day\"]\n",
        "mae = mean_absolute_error(ts_df.loc[window, \"prev_day_imputed\"], ts_df.loc[window, \"energy_consumption\"])\n",
        "print(f\"MAE for Last Day Imputation: {mae}\")"
      ],
      "metadata": {
        "id": "HXwh0dIumJTr"
      },
      "execution_count": null,
      "outputs": []
    },
    {
      "cell_type": "code",
      "source": [
        "plot_df = pd.melt(ts_df.loc[window,['energy_consumption','prev_day_imputed']].reset_index(), id_vars='timestamp', var_name=\"series\")\n",
        "fig = px.line(plot_df, x=\"timestamp\", y=[\"value\"], line_dash=\"series\", title=f\"Imputing with Previous Day | MAE={mae:.3f}\")\n",
        "fig = format_plot(fig, ['Original', 'Previous Day Imputed'])\n",
        "#fig.write_image(\"imgs/chapter_2/previous_day_imputation.png\")\n",
        "fig"
      ],
      "metadata": {
        "id": "CcKGEz7MQpqi"
      },
      "execution_count": null,
      "outputs": []
    },
    {
      "cell_type": "markdown",
      "source": [
        "#### - **Hourly Profile**"
      ],
      "metadata": {
        "id": "06lNSB0tRzp3"
      }
    },
    {
      "cell_type": "code",
      "source": [
        "#Create a column with the Hour from timestamp\n",
        "ts_df[\"hour\"] = ts_df.index.hour\n",
        "#Calculate hourly average consumption\n",
        "hourly_profile = ts_df.groupby(['hour'])['energy_consumption'].mean().reset_index()\n",
        "hourly_profile.rename(columns={\"energy_consumption\": \"hourly_profile\"}, inplace=True)\n",
        "#Saving the index because it gets lost in merge\n",
        "idx = ts_df.index\n",
        "#Merge the hourly profile dataframe to ts dataframe\n",
        "ts_df = ts_df.merge(hourly_profile, on=['hour'], how='left', validate=\"many_to_one\")\n",
        "ts_df.index = idx\n",
        "\n",
        "#Using the hourly profile to fill missing\n",
        "ts_df['hourly_profile_imputed'] = ts_df['energy_consumption_missing']\n",
        "ts_df.loc[null_mask,\"hourly_profile_imputed\"] = ts_df.loc[null_mask,\"hourly_profile\"]\n",
        "mae = mean_absolute_error(ts_df.loc[window, \"hourly_profile_imputed\"], ts_df.loc[window, \"energy_consumption\"])\n",
        "print(f\"MAE for Hourly Profile Imputation: {mae}\")"
      ],
      "metadata": {
        "id": "l4qdIb7XQvII"
      },
      "execution_count": null,
      "outputs": []
    },
    {
      "cell_type": "code",
      "source": [
        "plot_df = pd.melt(ts_df.loc[window,['energy_consumption','hourly_profile_imputed']].reset_index(), id_vars='timestamp', var_name=\"series\")\n",
        "fig = px.line(plot_df, x=\"timestamp\", y=[\"value\"], line_dash=\"series\", title=f\"Imputing with Hourly Profile | MAE={mae:.3f}\")\n",
        "fig = format_plot(fig, ['Original', 'Hourly Profile Imputed'])\n",
        "#fig.write_image(\"imgs/chapter_2/hourly_profile_imputation.png\")\n",
        "fig"
      ],
      "metadata": {
        "id": "qFU0nBksW4uD"
      },
      "execution_count": null,
      "outputs": []
    },
    {
      "cell_type": "markdown",
      "source": [
        "#### - **Weekday-Hourly Profile**"
      ],
      "metadata": {
        "id": "lImzPqJnXOHM"
      }
    },
    {
      "cell_type": "code",
      "source": [
        "#Create a column with the weekday from timestamp\n",
        "ts_df[\"weekday\"] = ts_df.index.weekday\n",
        "#Calculate weekday-hourly average consumption\n",
        "day_hourly_profile = ts_df.groupby(['weekday','hour'])['energy_consumption'].mean().reset_index()\n",
        "day_hourly_profile.rename(columns={\"energy_consumption\": \"day_hourly_profile\"}, inplace=True)\n",
        "#Saving the index because it gets lost in merge\n",
        "idx = ts_df.index\n",
        "#Merge the day-hourly profile dataframe to ts dataframe\n",
        "ts_df = ts_df.merge(day_hourly_profile, on=['weekday', 'hour'], how='left', validate=\"many_to_one\")\n",
        "ts_df.index = idx\n",
        "\n",
        "#Using the day-hourly profile to fill missing\n",
        "ts_df['day_hourly_profile_imputed'] = ts_df['energy_consumption_missing']\n",
        "ts_df.loc[null_mask,\"day_hourly_profile_imputed\"] = ts_df.loc[null_mask,\"day_hourly_profile\"]\n",
        "mae = mean_absolute_error(ts_df.loc[window, \"day_hourly_profile_imputed\"], ts_df.loc[window, \"energy_consumption\"])"
      ],
      "metadata": {
        "id": "Wr1b8y6JXG2v"
      },
      "execution_count": null,
      "outputs": []
    },
    {
      "cell_type": "code",
      "source": [
        "plot_df = pd.melt(ts_df.loc[window,['energy_consumption','day_hourly_profile_imputed']].reset_index(), id_vars='timestamp', var_name=\"series\")\n",
        "fig = px.line(plot_df, x=\"timestamp\", y=[\"value\"], line_dash=\"series\", title=f\"Imputing with Week Day-Hourly Profile | MAE={mae:.3f}\")\n",
        "fig = format_plot(fig, ['Original', 'Week Day-Hourly Profile Imputed'])\n",
        "#fig.write_image(\"imgs/chapter_2/day_hourly_profile_imputation.png\")\n",
        "fig"
      ],
      "metadata": {
        "id": "opCXqFdkXRMg"
      },
      "execution_count": null,
      "outputs": []
    },
    {
      "cell_type": "code",
      "source": [
        "# Hourly Profiles by week Day\n",
        "px.line(ts_df.loc[\"2012-10-15\": \"2012-10-21\",['day_hourly_profile','weekday']].reset_index(), x=\"timestamp\", y=\"day_hourly_profile\", color='weekday', title=\"Hourly Profiles by Weekday (0-Monday - 6-Sunday)\")\n"
      ],
      "metadata": {
        "id": "OAnby6ApXVmc"
      },
      "execution_count": null,
      "outputs": []
    },
    {
      "cell_type": "markdown",
      "source": [
        "#### - **Seasonal Interpolation**"
      ],
      "metadata": {
        "id": "nYfDRzhAXwK-"
      }
    },
    {
      "cell_type": "code",
      "source": [
        "from src.imputation.interpolation import SeasonalInterpolation"
      ],
      "metadata": {
        "id": "A9UCNEhmXa0u"
      },
      "execution_count": null,
      "outputs": []
    },
    {
      "cell_type": "code",
      "source": [
        "# Seasonal interpolation using 48*7 as the seasonal period.\n",
        "# seasonal period is the period after which you expect the pattern to repeat\n",
        "recovered_matrix_seas_interp_weekday_half_hour = SeasonalInterpolation(seasonal_period=48*7,\n",
        "                                                     decomposition_strategy=\"additive\",\n",
        "                                                     interpolation_strategy=\"spline\",\n",
        "                                                     interpolation_args={\"order\":3},\n",
        "                                                     min_value=0).fit_transform(ts_df.energy_consumption_missing.values.reshape(-1,1))\n",
        "\n",
        "ts_df['seas_interp_weekday_half_hour_imputed'] = recovered_matrix_seas_interp_weekday_half_hour\n",
        "mae_weekday_half_hour = mean_absolute_error(ts_df.loc[window, \"seas_interp_weekday_half_hour_imputed\"], ts_df.loc[window, \"energy_consumption\"])"
      ],
      "metadata": {
        "id": "lkpyuvaLXznE"
      },
      "execution_count": null,
      "outputs": []
    },
    {
      "cell_type": "code",
      "source": [
        "recovered_matrix_seas_interp_half_hour = SeasonalInterpolation(seasonal_period=48,\n",
        "                                                     decomposition_strategy=\"additive\",\n",
        "                                                     interpolation_strategy=\"spline\",\n",
        "                                                     interpolation_args={\"order\":3},\n",
        "                                                     min_value=0).fit_transform(ts_df.energy_consumption_missing.values.reshape(-1,1))\n",
        "\n",
        "ts_df['seas_interp_half_hour_imputed'] = recovered_matrix_seas_interp_half_hour\n",
        "mae_half_hour = mean_absolute_error(ts_df.loc[window, \"seas_interp_half_hour_imputed\"], ts_df.loc[window, \"energy_consumption\"])"
      ],
      "metadata": {
        "id": "rD650X-AX3s_"
      },
      "execution_count": null,
      "outputs": []
    },
    {
      "cell_type": "code",
      "source": [
        "# recovered_matrix_seas_interp_quarter_hour = SeasonalInterpolation(seasonal_period=48*91,\n",
        "#                                                      decomposition_strategy=\"additive\",\n",
        "#                                                      interpolation_strategy=\"spline\",\n",
        "#                                                      interpolation_args={\"order\":3},\n",
        "#                                                      min_value=0).fit_transform(ts_df.energy_consumption_missing.values.reshape(-1,1))\n",
        "\n",
        "# ts_df['seas_interp_quarter_imputed'] = recovered_matrix_seas_interp_quarter_hour\n",
        "# mae_quarter_hour = mean_absolute_error(ts_df.loc[window, \"seas_interp_quarter_imputed\"], ts_df.loc[window, \"energy_consumption\"])"
      ],
      "metadata": {
        "id": "FZzZESesYTvF"
      },
      "execution_count": null,
      "outputs": []
    },
    {
      "cell_type": "code",
      "source": [
        "365/4"
      ],
      "metadata": {
        "id": "wgTMxVODYrC5"
      },
      "execution_count": null,
      "outputs": []
    },
    {
      "cell_type": "code",
      "source": [
        "plot_df = pd.melt(ts_df.loc[window,['energy_consumption', \"seas_interp_half_hour_imputed\", 'seas_interp_weekday_half_hour_imputed']].reset_index(), id_vars='timestamp', var_name=\"series\")\n",
        "fig = px.line(plot_df, x=\"timestamp\", y=[\"value\"], line_dash=\"series\", title=f\"Imputing with Seasonal Interpolation <br> MAE Half Hourly={mae_half_hour:.3f} | MAE Weekday-Half Hourly={mae_weekday_half_hour:.3f}\")\n",
        "fig = format_plot(fig, ['Original', 'Half Hourly Profile Imputed', 'Week Day-Half Hourly Profile Imputed'], title_font_size=16)\n",
        "#fig.write_image(\"imgs/chapter_2/seasonal_interpolation_imputation.png\")\n",
        "fig"
      ],
      "metadata": {
        "id": "BBQC_OlsYr69"
      },
      "execution_count": null,
      "outputs": []
    },
    {
      "cell_type": "markdown",
      "source": [
        "### Summary"
      ],
      "metadata": {
        "id": "ZW5jpvbLa7Sj"
      }
    },
    {
      "cell_type": "code",
      "source": [
        "imputed_columns = [col for col in ts_df.columns if \"imputed\" in col]\n",
        "original_col = \"energy_consumption\"\n"
      ],
      "metadata": {
        "id": "PT_u5ChSZqe9"
      },
      "execution_count": null,
      "outputs": []
    },
    {
      "cell_type": "code",
      "source": [
        "act = ts_df.loc[window, original_col].values\n",
        "mae_d = {}\n",
        "for col in imputed_columns:\n",
        "    mae_d[col] = mean_absolute_error(act, ts_df.loc[window, col].values)"
      ],
      "metadata": {
        "id": "Q1CjUksXZqcL"
      },
      "execution_count": null,
      "outputs": []
    },
    {
      "cell_type": "code",
      "source": [
        "mae_d.keys()"
      ],
      "metadata": {
        "id": "8kWCLzRWZqYa"
      },
      "execution_count": null,
      "outputs": []
    },
    {
      "cell_type": "code",
      "source": [
        "res_df = pd.DataFrame.from_dict(mae_d, orient=\"index\").reset_index()\n",
        "res_df.columns=[\"Imputation\", \"MAE\"]\n",
        "res_df.Imputation = res_df.Imputation.map({\n",
        " 'prev_day_imputed': \"Previous Day\",\n",
        " 'hourly_profile_imputed': \"Hourly Profile\",\n",
        " 'day_hourly_profile_imputed': \"Day-Hourly Profile\",\n",
        " 'seas_interp_weekday_half_hour_imputed': \"Seasonal Interpolation Weekday-Half Hourly\",\n",
        " 'seas_interp_half_hour_imputed': \"Seasonal Interpolation Half Hourly\"\n",
        "})"
      ],
      "metadata": {
        "id": "G3pOFyhdZqVb"
      },
      "execution_count": null,
      "outputs": []
    },
    {
      "cell_type": "code",
      "source": [
        "res_df"
      ],
      "metadata": {
        "id": "e3GYSVK9ZqSc"
      },
      "execution_count": null,
      "outputs": []
    },
    {
      "cell_type": "code",
      "source": [
        "plot_df = pd.melt(ts_df.loc[window,['energy_consumption', \"seas_interp_half_hour_imputed\", 'seas_interp_weekday_half_hour_imputed']].reset_index(), id_vars='timestamp', var_name=\"series\")\n",
        "fig = px.line(plot_df, x=\"timestamp\", y=[\"value\"], line_dash=\"series\", title=f\"Imputing with Seasonal Interpolation <br> MAE Half Hourly={mae_half_hour:.3f} | MAE Weekday-Half Hourly={mae_weekday_half_hour:.3f}\")\n",
        "fig = format_plot(fig, ['Original', 'Half Hourly Profile Imputed', 'Week Day-Half Hourly Profile Imputed'], title_font_size=16)\n",
        "#fig.write_image(\"imgs/chapter_2/seasonal_interpolation_imputation.png\")\n",
        "fig"
      ],
      "metadata": {
        "id": "SqAAHiEiZqPl"
      },
      "execution_count": null,
      "outputs": []
    },
    {
      "cell_type": "code",
      "source": [
        "px.line(ts_df.loc[window, imputed_columns+[original_col]].reset_index(), x=\"timestamp\", y=imputed_columns+[original_col])"
      ],
      "metadata": {
        "id": "TYESXhcrZqMb"
      },
      "execution_count": null,
      "outputs": []
    },
    {
      "cell_type": "code",
      "source": [
        "%cd ../.."
      ],
      "metadata": {
        "id": "liRcvuSfZqI6"
      },
      "execution_count": null,
      "outputs": []
    },
    {
      "cell_type": "markdown",
      "source": [
        "## 01 **Visualizing Time Series**"
      ],
      "metadata": {
        "id": "o_isGovdTfwm"
      }
    },
    {
      "cell_type": "code",
      "source": [
        "import numpy as np\n",
        "import matplotlib.pyplot as plt\n",
        "import plotly.express as px\n",
        "import os\n",
        "import plotly.io as pio\n",
        "pio.templates.default = \"plotly_white\"\n",
        "import pandas as pd\n",
        "from pathlib import Path\n",
        "from tqdm.auto import tqdm\n",
        "from IPython.display import display, HTML\n",
        "# %load_ext autoreload\n",
        "# %autoreload 2\n",
        "np.random.seed()\n",
        "tqdm.pandas()"
      ],
      "metadata": {
        "id": "QW_AnAUZZqFV"
      },
      "execution_count": null,
      "outputs": []
    },
    {
      "cell_type": "code",
      "source": [
        "os.makedirs(\"/content/drive/MyDrive/Books/Modern Time Series Forecasting/Chapter II/imgs/chapter_3\", exist_ok=True)\n",
        "preprocessed = Path(\"/content/drive/MyDrive/Books/Modern Time Series Forecasting/Data/data/london_smart_meters/data/london_smart_meters/preprocessed\")\n",
        "assert preprocessed.is_dir(), \"You have to run 02 - Preprocessing London Smart Meter Dataset.ipynb in Chapter02 before running this notebook\""
      ],
      "metadata": {
        "id": "0FA_I0ftZL7r"
      },
      "execution_count": null,
      "outputs": []
    },
    {
      "cell_type": "markdown",
      "source": [
        "### 01-01 Reading Blocks 0-7"
      ],
      "metadata": {
        "id": "RGBiYMXgUOPc"
      }
    },
    {
      "cell_type": "code",
      "source": [
        "from src.utils.data_utils import compact_to_expanded"
      ],
      "metadata": {
        "id": "DdK4ykGAUIYt"
      },
      "execution_count": null,
      "outputs": []
    },
    {
      "cell_type": "code",
      "source": [
        "from itertools import cycle\n",
        "from src.utils import plotting_utils\n",
        "\n",
        "def format_plot(fig, legends = None, xlabel=\"Time\", ylabel=\"Value\", figsize=(500,900), font_size=15, title_font_size=20):\n",
        "    if legends:\n",
        "        names = cycle(legends)\n",
        "        fig.for_each_trace(lambda t:  t.update(name = next(names)))\n",
        "    fig.update_layout(\n",
        "            autosize=False,\n",
        "            width=figsize[1],\n",
        "            height=figsize[0],\n",
        "            title={\n",
        "            'x':0.5,\n",
        "            'xanchor': 'center',\n",
        "            'yanchor': 'top'},\n",
        "            titlefont={\n",
        "                \"size\": 20\n",
        "            },\n",
        "            legend_title = None,\n",
        "            legend=dict(\n",
        "                font=dict(size=font_size),\n",
        "                orientation=\"h\",\n",
        "                yanchor=\"bottom\",\n",
        "                y=0.98,\n",
        "                xanchor=\"right\",\n",
        "                x=1,\n",
        "            ),\n",
        "            yaxis=dict(\n",
        "                title_text=ylabel,\n",
        "                titlefont=dict(size=font_size),\n",
        "                tickfont=dict(size=font_size),\n",
        "            ),\n",
        "            xaxis=dict(\n",
        "                title_text=xlabel,\n",
        "                titlefont=dict(size=font_size),\n",
        "                tickfont=dict(size=font_size),\n",
        "            )\n",
        "        )\n",
        "    return fig"
      ],
      "metadata": {
        "id": "RzXMGoqWWYZO"
      },
      "execution_count": null,
      "outputs": []
    },
    {
      "cell_type": "code",
      "source": [
        "try:\n",
        "    block_df = pd.read_parquet(preprocessed/\"london_smart_meters_merged_block_0-7.parquet\")\n",
        "    display(block_df.head(2))\n",
        "except FileNotFoundError:\n",
        "    display(HTML(\"\"\"\n",
        "    <div class=\"alert alert-block alert-warning\">\n",
        "    <b>Warning!</b> File not found. Please make sure you have run 02 - Preprocessing London Smart Meter Dataset.ipynb in Chapter02\n",
        "    </div>\n",
        "    \"\"\"))"
      ],
      "metadata": {
        "id": "X2OOARJgUUpw"
      },
      "execution_count": null,
      "outputs": []
    },
    {
      "cell_type": "markdown",
      "source": [
        "Let's take all the consumers in one block for our exercise. Keep in mind, you can do the same with more number of blocks as long as it fits in your RAM"
      ],
      "metadata": {
        "id": "Wu115qKuUbu2"
      }
    },
    {
      "cell_type": "code",
      "source": [
        "#Converting to expanded form\n",
        "exp_block_df = compact_to_expanded(block_df[block_df.file==\"block_7\"], timeseries_col = 'energy_consumption',\n",
        "                                    static_cols = [\"frequency\", \"series_length\", \"stdorToU\", \"Acorn\", \"Acorn_grouped\", \"file\"],\n",
        "                                    time_varying_cols = ['holidays', 'visibility', 'windBearing', 'temperature', 'dewPoint',\n",
        "                                          'pressure', 'apparentTemperature', 'windSpeed', 'precipType', 'icon',\n",
        "                                          'humidity', 'summary'],\n",
        "                                    ts_identifier = \"LCLid\")\n",
        "\n",
        "exp_block_df.head()"
      ],
      "metadata": {
        "id": "vG285IwyUXEu"
      },
      "execution_count": null,
      "outputs": []
    },
    {
      "cell_type": "code",
      "source": [
        "exp_block_df.LCLid.unique()"
      ],
      "metadata": {
        "id": "OqDApwywUzeR"
      },
      "execution_count": null,
      "outputs": []
    },
    {
      "cell_type": "markdown",
      "source": [
        "#### **MAC000193**"
      ],
      "metadata": {
        "id": "aN9CyqvxVpYZ"
      }
    },
    {
      "cell_type": "code",
      "source": [
        "# Taking a single time series from the block\n",
        "ts_df_MAC000193 = exp_block_df[exp_block_df.LCLid==\"MAC000193\"].set_index(\"timestamp\")\n",
        "ts_df_MAC000193.head()"
      ],
      "metadata": {
        "id": "kUC8xOv_U_sA"
      },
      "execution_count": null,
      "outputs": []
    },
    {
      "cell_type": "code",
      "source": [
        "ts_df_MAC000193[\"weekday_name\"] = ts_df_MAC000193.index.day_name()\n",
        "ts_df_MAC000193[\"weekday\"] = ts_df_MAC000193.index.weekday\n",
        "ts_df_MAC000193[\"week\"] = ts_df_MAC000193.index.isocalendar().week\n",
        "ts_df_MAC000193[\"day\"] = ts_df_MAC000193.index.day\n",
        "ts_df_MAC000193[\"hour\"] = ts_df_MAC000193.index.hour\n",
        "ts_df_MAC000193[\"date\"] = ts_df_MAC000193.index.date\n",
        "ts_df_MAC000193[\"month\"] = ts_df_MAC000193.index.month\n",
        "ts_df_MAC000193[\"month_name\"] = ts_df_MAC000193.index.month_name()\n",
        "ts_df_MAC000193[\"year\"] = ts_df_MAC000193.index.year\n",
        "\n",
        "#Making ordered categoricals to make for sorted plots\n",
        "ts_df_MAC000193['month_name'] = pd.Categorical(ts_df_MAC000193['month_name'], categories=[\"January\", \"February\", \"March\", \"April\", \"May\", \"June\", \"July\", \"August\", \"September\", \"October\", \"November\", \"December\"], ordered=True)\n",
        "ts_df_MAC000193['weekday_name'] = pd.Categorical(ts_df_MAC000193['weekday_name'], categories=[\"Monday\", \"Tuesday\", \"Wednesday\", \"Thursday\", \"Friday\", \"Saturday\", \"Sunday\"], ordered=True)"
      ],
      "metadata": {
        "id": "cAW0kK5lVMhI"
      },
      "execution_count": null,
      "outputs": []
    },
    {
      "cell_type": "code",
      "source": [
        "#Making ordered categoricals to make for sorted plots\n",
        "ts_df_MAC000193.head()"
      ],
      "metadata": {
        "id": "uwOeJoaVVWgg"
      },
      "execution_count": null,
      "outputs": []
    },
    {
      "cell_type": "markdown",
      "source": [
        "#### **MAC001768**"
      ],
      "metadata": {
        "id": "ZVYcWuu6Vsl5"
      }
    },
    {
      "cell_type": "code",
      "source": [
        "# Taking a single time series from the block\n",
        "ts_df_MAC001768 = exp_block_df[exp_block_df.LCLid==\"MAC001768\"].set_index(\"timestamp\")\n",
        "ts_df_MAC001768.head()"
      ],
      "metadata": {
        "id": "YDoMlUkTVsl6"
      },
      "execution_count": null,
      "outputs": []
    },
    {
      "cell_type": "code",
      "source": [
        "ts_df_MAC001768[\"weekday_name\"] = ts_df_MAC001768.index.day_name()\n",
        "ts_df_MAC001768[\"weekday\"] = ts_df_MAC001768.index.weekday\n",
        "ts_df_MAC001768[\"week\"] = ts_df_MAC001768.index.isocalendar().week\n",
        "ts_df_MAC001768[\"day\"] = ts_df_MAC001768.index.day\n",
        "ts_df_MAC001768[\"hour\"] = ts_df_MAC001768.index.hour\n",
        "ts_df_MAC001768[\"date\"] = ts_df_MAC001768.index.date\n",
        "ts_df_MAC001768[\"month\"] = ts_df_MAC001768.index.month\n",
        "ts_df_MAC001768[\"month_name\"] = ts_df_MAC001768.index.month_name()\n",
        "ts_df_MAC001768[\"year\"] = ts_df_MAC001768.index.year\n",
        "\n",
        "#Making ordered categoricals to make for sorted plots\n",
        "ts_df_MAC001768['month_name'] = pd.Categorical(ts_df_MAC001768['month_name'], categories=[\"January\", \"February\", \"March\", \"April\", \"May\", \"June\", \"July\", \"August\", \"September\", \"October\", \"November\", \"December\"], ordered=True)\n",
        "ts_df_MAC001768['weekday_name'] = pd.Categorical(ts_df_MAC001768['weekday_name'], categories=[\"Monday\", \"Tuesday\", \"Wednesday\", \"Thursday\", \"Friday\", \"Saturday\", \"Sunday\"], ordered=True)"
      ],
      "metadata": {
        "id": "liG5eqzBVsl6"
      },
      "execution_count": null,
      "outputs": []
    },
    {
      "cell_type": "code",
      "source": [
        "#Making ordered categoricals to make for sorted plots\n",
        "ts_df_MAC001768.head()"
      ],
      "metadata": {
        "id": "Vt0_91HcVsl6"
      },
      "execution_count": null,
      "outputs": []
    },
    {
      "cell_type": "code",
      "source": [
        "#Interpolating Missing values\n",
        "from src.imputation.interpolation import SeasonalInterpolation\n",
        "\n",
        "ts_df_MAC000193['energy_consumption'] = SeasonalInterpolation(seasonal_period=48*7).fit_transform(ts_df_MAC000193.energy_consumption.values.reshape(-1,1))\n",
        "ts_df_MAC001768['energy_consumption'] = SeasonalInterpolation(seasonal_period=48*7).fit_transform(ts_df_MAC001768.energy_consumption.values.reshape(-1,1))"
      ],
      "metadata": {
        "id": "FVBH3xAvVd1S"
      },
      "execution_count": null,
      "outputs": []
    },
    {
      "cell_type": "markdown",
      "source": [
        "## **Line Charts**"
      ],
      "metadata": {
        "id": "xDV29qgGWJKd"
      }
    },
    {
      "cell_type": "markdown",
      "source": [
        "### Basic Line Plot"
      ],
      "metadata": {
        "id": "bVDdw1JfWMWq"
      }
    },
    {
      "cell_type": "code",
      "source": [
        "fig = px.line(ts_df_MAC000193, y=\"energy_consumption\", title=\"Energy Consumption for MAC000193\", )\n",
        "#fig = px.line(ts_df_MAC000193, y=\"energy_consumption\", title=\"Energy Consumption for MAC000193\"\n",
        "fig = format_plot(fig, ylabel=\"Energy Consumption\")\n",
        "#fig.write_image(\"/content/drive/MyDrive/Books/Modern Time Series Forecasting/Chapter II/imgs/chapter_3/line_plot.png\")\n",
        "fig.show()"
      ],
      "metadata": {
        "id": "T_Ii20-9Vkwx"
      },
      "execution_count": null,
      "outputs": []
    },
    {
      "cell_type": "code",
      "source": [
        "ts_df_MAC000193[\"rolling_monthly_avg\"] = ts_df_MAC000193[\"energy_consumption\"].rolling(window=48*30).mean()"
      ],
      "metadata": {
        "id": "jh4ApD3InibU"
      },
      "execution_count": null,
      "outputs": []
    },
    {
      "cell_type": "code",
      "source": [
        "fig = px.line(ts_df_MAC000193, y=\"rolling_monthly_avg\", title=\"Rolling Monthly Average Energy Consumption for MAC000193\")\n",
        "#fig = px.line(ts_df_MAC000193, y=\"energy_consumption\", title=\"Energy Consumption for MAC000193\")\n",
        "fig = format_plot(fig, ylabel=\"Energy Consumption\")\n",
        "#fig.write_image(\"imgs/chapter_3/rolling_avg_line_plot.png\")\n",
        "fig.show()"
      ],
      "metadata": {
        "id": "B8GYqaoMnhCw"
      },
      "execution_count": null,
      "outputs": []
    },
    {
      "cell_type": "markdown",
      "source": [
        "### Rolling Average Plot"
      ],
      "metadata": {
        "id": "Am5hbWykWsfV"
      }
    },
    {
      "cell_type": "code",
      "source": [
        "ts_df_MAC001768[\"rolling_monthly_avg\"] = ts_df_MAC001768[\"energy_consumption\"].rolling(window=48*30).mean()"
      ],
      "metadata": {
        "id": "AtQLldRaWSsU"
      },
      "execution_count": null,
      "outputs": []
    },
    {
      "cell_type": "code",
      "source": [
        "fig = px.line(ts_df_MAC001768, y=\"energy_consumption\", title=\"Energy Consumption for MAC000193\", )\n",
        "#fig = px.line(ts_df_MAC000193, y=\"energy_consumption\", title=\"Energy Consumption for MAC000193\"\n",
        "fig = format_plot(fig, ylabel=\"Energy Consumption\")\n",
        "#fig.write_image(\"/content/drive/MyDrive/Books/Modern Time Series Forecasting/Chapter II/imgs/chapter_3/line_plot.png\")\n",
        "fig.show()"
      ],
      "metadata": {
        "id": "Hvxw2cceW1SF"
      },
      "execution_count": null,
      "outputs": []
    },
    {
      "cell_type": "code",
      "source": [
        "fig = px.line(ts_df_MAC001768, y=\"rolling_monthly_avg\", title=\"Rolling Monthly Average Energy Consumption for MAC000193\")\n",
        "#fig = px.line(ts_df_MAC000193, y=\"energy_consumption\", title=\"Energy Consumption for MAC000193\")\n",
        "fig = format_plot(fig, ylabel=\"Energy Consumption\")\n",
        "#fig.write_image(\"imgs/chapter_3/rolling_avg_line_plot.png\")\n",
        "fig.show()"
      ],
      "metadata": {
        "id": "7HbYiL_QWxZ7"
      },
      "execution_count": null,
      "outputs": []
    },
    {
      "cell_type": "markdown",
      "source": [
        "### Multivariate Line Chart"
      ],
      "metadata": {
        "id": "n0G2BX-Wn1EL"
      }
    },
    {
      "cell_type": "code",
      "source": [
        "fig = plotting_utils.two_line_plot_secondary_axis(x=ts_df_MAC001768.index,\n",
        "                                   y1=ts_df_MAC001768.energy_consumption,\n",
        "                                   y2=ts_df_MAC001768.temperature,\n",
        "                                   y1_name=\"Energy Consumption\",\n",
        "                                   y2_name=\"Temperature\",\n",
        "                                   title=\"Temperature and Energy Consumption\",\n",
        "                                   # greyscale=True,\n",
        "                                  dash_secondary=False)\n",
        "fig.update_layout(legend=dict(\n",
        "                font=dict(size=15),\n",
        "                orientation=\"h\",\n",
        "                yanchor=\"bottom\",\n",
        "                y=0.98,\n",
        "                xanchor=\"right\",\n",
        "                x=1,\n",
        "            ),\n",
        "            yaxis=dict(\n",
        "                # title_text=ylabel,\n",
        "                titlefont=dict(size=15),\n",
        "                tickfont=dict(size=15),\n",
        "            ),\n",
        "            xaxis=dict(\n",
        "                # title_text=xlabel,\n",
        "                titlefont=dict(size=15),\n",
        "                tickfont=dict(size=15),\n",
        "            ))\n",
        "#fig.write_image(\"imgs/chapter_3/temp_vs_energy.png\")\n",
        "fig.show()"
      ],
      "metadata": {
        "id": "vFYHFG9onVTR"
      },
      "execution_count": null,
      "outputs": []
    },
    {
      "cell_type": "code",
      "source": [
        "# fig = plotting_utils.two_line_plot_secondary_axis(x=ts_df_MAC001768.index,\n",
        "#                                    y1=ts_df_MAC001768.energy_consumption,\n",
        "#                                    y2=ts_df_MAC000193.energy_consumption,\n",
        "#                                    y1_name=\"Energy Consumption MAC001768\",\n",
        "#                                    y2_name=\"Energy Consumption MAC000193\",\n",
        "#                                    title=\"Temperature and Energy Consumption\",\n",
        "#                                    # greyscale=True,\n",
        "#                                   dash_secondary=False)\n",
        "# fig.update_layout(legend=dict(\n",
        "#                 font=dict(size=15),\n",
        "#                 orientation=\"h\",\n",
        "#                 yanchor=\"bottom\",\n",
        "#                 y=0.98,\n",
        "#                 xanchor=\"right\",\n",
        "#                 x=1,\n",
        "#             ),\n",
        "#             yaxis=dict(\n",
        "#                 # title_text=ylabel,\n",
        "#                 titlefont=dict(size=15),\n",
        "#                 tickfont=dict(size=15),\n",
        "#             ),\n",
        "#             xaxis=dict(\n",
        "#                 # title_text=xlabel,\n",
        "#                 titlefont=dict(size=15),\n",
        "#                 tickfont=dict(size=15),\n",
        "#             ))\n",
        "# #fig.write_image(\"imgs/chapter_3/temp_vs_energy.png\")\n",
        "# fig.show()"
      ],
      "metadata": {
        "id": "16zQmcRan4fb"
      },
      "execution_count": null,
      "outputs": []
    },
    {
      "cell_type": "markdown",
      "source": [
        "### Multivariate Line Chart - Hourly Resolution"
      ],
      "metadata": {
        "id": "KisMJUnnpGRA"
      }
    },
    {
      "cell_type": "code",
      "source": [
        "zoom_window = slice(\"2012-03-16\", \"2012-03-18\")\n",
        "fig = plotting_utils.two_line_plot_secondary_axis(x=ts_df_MAC000193[zoom_window].index,\n",
        "                                   y1=ts_df_MAC000193[zoom_window].energy_consumption,\n",
        "                                   y2=ts_df_MAC000193[zoom_window].temperature,\n",
        "                                   y1_name=\"Energy Consumption\",\n",
        "                                   y2_name=\"Temperature\",\n",
        "                                   title=\"Temperature and Energy Consumption (2012-03-16 to 2012-03-30)\",\n",
        "                                   greyscale=False,\n",
        "                                   dash_secondary=True)\n",
        "fig.update_layout(legend=dict(\n",
        "                font=dict(size=15),\n",
        "                orientation=\"h\",\n",
        "                yanchor=\"bottom\",\n",
        "                y=0.98,\n",
        "                xanchor=\"right\",\n",
        "                x=1,\n",
        "            ),\n",
        "            yaxis=dict(\n",
        "                # title_text=ylabel,\n",
        "                titlefont=dict(size=15),\n",
        "                tickfont=dict(size=15),\n",
        "            ),\n",
        "            xaxis=dict(\n",
        "                # title_text=xlabel,\n",
        "                titlefont=dict(size=15),\n",
        "                tickfont=dict(size=15),\n",
        "            ))\n",
        "#fig.write_image(\"imgs/chapter_3/temp_vs_energy_zoomed.png\")\n",
        "fig.show()"
      ],
      "metadata": {
        "id": "RFIZPDeDoX-Z"
      },
      "execution_count": null,
      "outputs": []
    },
    {
      "cell_type": "markdown",
      "source": [
        "### Multivariate Line Chart - Monthly Resolution"
      ],
      "metadata": {
        "id": "Cnip9nrlpqcl"
      }
    },
    {
      "cell_type": "code",
      "source": [
        "# Average energy_consumption and temperature for each month\n",
        "plot_df = ts_df_MAC000193[~ts_df_MAC000193.year.isin([2011, 2014])].groupby([\"year\", \"month_name\"])[['energy_consumption', \"temperature\"]].mean().reset_index()\n",
        "plot_df['year_month'] = plot_df[\"year\"].astype(str) +\" \"+ plot_df['month_name'].astype(str).str.zfill(2)\n",
        "fig = plotting_utils.two_line_plot_secondary_axis(x=[plot_df.year, plot_df.month_name], y1=plot_df.energy_consumption, y2=plot_df.temperature, y1_name=\"Energy Consumption\", y2_name=\"Temperature\", title=\"Temperature and Energy Consumption - Monthly\", dash_secondary=True)\n",
        "fig.update_layout(legend=dict(\n",
        "                font=dict(size=15),\n",
        "                orientation=\"h\",\n",
        "                yanchor=\"bottom\",\n",
        "                y=0.98,\n",
        "                xanchor=\"right\",\n",
        "                x=1,\n",
        "            ),\n",
        "            yaxis=dict(\n",
        "                # title_text=ylabel,\n",
        "                titlefont=dict(size=15),\n",
        "                tickfont=dict(size=15),\n",
        "            ),\n",
        "            xaxis=dict(\n",
        "                # title_text=xlabel,\n",
        "                titlefont=dict(size=15),\n",
        "                tickfont=dict(size=15),\n",
        "            ))\n",
        "#fig.write_image(\"imgs/chapter_3/temp_vs_energy_monthly.png\")\n",
        "fig.show()"
      ],
      "metadata": {
        "id": "CW8tML5apRPn"
      },
      "execution_count": null,
      "outputs": []
    },
    {
      "cell_type": "markdown",
      "source": [
        "## Seasonal Plots"
      ],
      "metadata": {
        "id": "Rlae6_vmB2IZ"
      }
    },
    {
      "cell_type": "markdown",
      "source": [
        "### Annual Seasonality at Monthly Resolution"
      ],
      "metadata": {
        "id": "XhkMOCB5B4L1"
      }
    },
    {
      "cell_type": "code",
      "source": [
        "#Montlhly Average energy consumption\n",
        "plot_df = ts_df_MAC000193[~ts_df_MAC000193.year.isin([2011, 2014])].groupby([\"year\", \"month_name\"],observed=False)[['energy_consumption',\"temperature\"]].mean().reset_index()"
      ],
      "metadata": {
        "id": "_a9WrdOMpykX"
      },
      "execution_count": null,
      "outputs": []
    },
    {
      "cell_type": "code",
      "source": [
        "fig = px.line(plot_df, x=\"month_name\", y='energy_consumption', color=\"year\", line_dash=\"year\", title=\"Seasonal Plot - Monthly\")\n",
        "fig = format_plot(fig, ylabel=\"Energy Consumption\", xlabel=\"Month\")\n",
        "fig.update_layout(legend=dict(\n",
        "                font=dict(size=15),\n",
        "                orientation=\"h\",\n",
        "                yanchor=\"bottom\",\n",
        "                y=0.98,\n",
        "                xanchor=\"right\",\n",
        "                x=1,\n",
        "            ),\n",
        "            yaxis=dict(\n",
        "                # title_text=ylabel,\n",
        "                titlefont=dict(size=15),\n",
        "                tickfont=dict(size=15),\n",
        "            ),\n",
        "            xaxis=dict(\n",
        "                # title_text=xlabel,\n",
        "                titlefont=dict(size=15),\n",
        "                tickfont=dict(size=15),\n",
        "            ))\n",
        "#fig.write_image(\"imgs/chapter_3/seasonal_plot_monthly.png\")\n",
        "fig.show()"
      ],
      "metadata": {
        "id": "UqXqoSkTB9jG"
      },
      "execution_count": null,
      "outputs": []
    },
    {
      "cell_type": "code",
      "source": [
        "fig = plotting_utils.multiple_line_plot_secondary_axis(plot_df,\n",
        "                                        x=\"month_name\",\n",
        "                                        primary='energy_consumption',\n",
        "                                        secondary='temperature',\n",
        "                                        color_or_linetype=\"year\",\n",
        "                                        title=\"Seasonal Plot Monthly: Multivariate\",\n",
        "                                       use_linetype=True,\n",
        "                                       greyscale=False)\n",
        "fig = format_plot(fig, ylabel=\"Energy Consumption\", xlabel=\"Month\")\n",
        "fig.update_layout(legend=dict(\n",
        "                orientation=\"h\",\n",
        "                yanchor=\"bottom\",\n",
        "                y=0.9,\n",
        "                xanchor=\"right\",\n",
        "                x=1,\n",
        "            ))\n",
        "#fig.write_image(\"imgs/chapter_3/seasonal_plot_monthly_mv.png\")\n",
        "fig.show()"
      ],
      "metadata": {
        "id": "vOfvI5ctCADH"
      },
      "execution_count": null,
      "outputs": []
    },
    {
      "cell_type": "markdown",
      "source": [
        "## Daily Seasonality at Hourly Resolution"
      ],
      "metadata": {
        "id": "smYIdXLqC6nZ"
      }
    },
    {
      "cell_type": "code",
      "source": [
        "#Calculating the day-hour average\n",
        "plot_df = ts_df_MAC000193.groupby([\"day\", \"hour\"])['energy_consumption'].mean().reset_index()"
      ],
      "metadata": {
        "id": "ioJCyw68Cwn7"
      },
      "execution_count": null,
      "outputs": []
    },
    {
      "cell_type": "code",
      "source": [
        "fig = px.line(plot_df[[\"energy_consumption\", \"hour\", \"day\"]], y=\"energy_consumption\", x=\"hour\",color=\"day\", title=\"Day of Month-Hourly Average Consumption\")\n",
        "fig = format_plot(fig, ylabel=\"Energy Consumption\", xlabel=\"Hours\", legends=None)\n",
        "fig.update_layout(showlegend=False)\n",
        "# plotting_utils.make_lines_greyscale(fig)\n",
        "#fig.write_image(\"imgs/chapter_3/seasonal_plot_hourly.png\")\n",
        "fig.show()"
      ],
      "metadata": {
        "id": "boH7iJpdC_Y8"
      },
      "execution_count": null,
      "outputs": []
    },
    {
      "cell_type": "markdown",
      "source": [
        "## Seasonal Box Plots"
      ],
      "metadata": {
        "id": "WYWJoC8GDSoB"
      }
    },
    {
      "cell_type": "code",
      "source": [
        "plot_df =  ts_df_MAC000193.groupby([\"date\",\"weekday_name\", \"hour\"],observed=False)[\"energy_consumption\"].mean().reset_index().dropna()"
      ],
      "metadata": {
        "id": "sUENZ0wjDBG3"
      },
      "execution_count": null,
      "outputs": []
    },
    {
      "cell_type": "code",
      "source": [
        "fig = px.box(plot_df, y=\"energy_consumption\", x=\"hour\", log_y=True, title=\"Box Plot: Day of Month-Hourly Average\")\n",
        "fig = format_plot(fig, ylabel=\"Energy Consumption\", xlabel=\"Hours\", legends=None)\n",
        "#fig.write_image(\"imgs/chapter_3/box_plot_hourly_avg.png\")\n",
        "fig.show()"
      ],
      "metadata": {
        "id": "s3UPKbXZDV0M"
      },
      "execution_count": null,
      "outputs": []
    },
    {
      "cell_type": "code",
      "source": [
        "fig = px.box(plot_df, y=\"energy_consumption\", x=\"hour\", facet_col=\"weekday_name\", facet_col_wrap=2, log_y=True, category_orders={\"weekday_name\":ts_df_MAC000193.weekday_name.cat.categories.tolist()}, title=\"Box Plot: Hourly Averages for each Week Day\")\n",
        "fig = format_plot(fig, ylabel=\"Energy Consumption\", xlabel=\"Hours\", legends=None, figsize=(1200, 1500))\n",
        "#fig.write_image(\"imgs/chapter_3/box_plot_hourly_weekday.png\")\n",
        "fig.show()"
      ],
      "metadata": {
        "id": "yEVhj_VaDZF8"
      },
      "execution_count": null,
      "outputs": []
    },
    {
      "cell_type": "markdown",
      "source": [
        "## Calendar Heatmap"
      ],
      "metadata": {
        "id": "qvwF7rWdDxsl"
      }
    },
    {
      "cell_type": "code",
      "source": [
        "plot_df = pd.pivot_table(ts_df_MAC000193, index=\"weekday_name\", values='energy_consumption', columns=\"hour\", aggfunc=\"mean\")\n",
        "# plot_df.index = \"Day \"+ plot_df.index.astype(str)"
      ],
      "metadata": {
        "id": "KA1oa9XaDiUw"
      },
      "execution_count": null,
      "outputs": []
    },
    {
      "cell_type": "code",
      "source": [
        "fig = px.imshow(plot_df, height=600, title=\"Energy Consumption: Hours vs Week Day\")\n",
        "fig = format_plot(fig, ylabel=\"Week Day\", xlabel=\"Hours\", legends=None)\n",
        "#fig.write_image(\"imgs/chapter_3/hour_weekday_heatmap.png\")\n",
        "fig.show()"
      ],
      "metadata": {
        "id": "kJMjQyRiD2Iq"
      },
      "execution_count": null,
      "outputs": []
    },
    {
      "cell_type": "code",
      "source": [
        "plot_df = pd.pivot_table(ts_df_MAC000193[~ts_df_MAC000193.year.isin([2011, 2014])], index=\"year\", values='energy_consumption', columns=\"month_name\", aggfunc=\"mean\")\n",
        "plot_df.index = \"Y\"+ plot_df.index.astype(str)\n",
        "\n",
        "fig = px.imshow(plot_df, height=600, title=\"Energy Consumption: Months vs Year\")\n",
        "fig = format_plot(fig, ylabel=\"Year\", xlabel=\"Months\", legends=None)\n",
        "#fig.write_image(\"imgs/chapter_3/month_year_heatmap.png\")\n",
        "fig.show()"
      ],
      "metadata": {
        "id": "vOyo_jPJD4T9"
      },
      "execution_count": null,
      "outputs": []
    },
    {
      "cell_type": "code",
      "source": [
        "plot_df = pd.pivot_table(ts_df_MAC000193[~ts_df_MAC000193.year.isin([2011, 2014])], index=\"year\", values='apparentTemperature', columns=\"month_name\", aggfunc=\"mean\")\n",
        "plot_df.index = \"Y\"+ plot_df.index.astype(str)\n",
        "\n",
        "fig = px.imshow(plot_df, height=600, title=\"Temperature: Months vs Year\")\n",
        "fig = format_plot(fig, ylabel=\"Year\", xlabel=\"Months\", legends=None)\n",
        "#fig.write_image(\"imgs/chapter_3/month_year_heatmap_temperature.png\")\n",
        "fig.show()"
      ],
      "metadata": {
        "id": "lvJpbU4-ECSR"
      },
      "execution_count": null,
      "outputs": []
    },
    {
      "cell_type": "markdown",
      "source": [
        "# Autocorrelation Plots"
      ],
      "metadata": {
        "id": "dcHSzY0JEWiz"
      }
    },
    {
      "cell_type": "code",
      "source": [
        "from src.decomposition.seasonal import MultiSeasonalDecomposition, STL\n",
        "stl = MultiSeasonalDecomposition(seasonal_model=\"fourier\",seasonality_periods=[\"day_of_year\", \"day_of_week\", \"hour\"], model = \"additive\", n_fourier_terms=10)\n",
        "res = stl.fit(ts_df_MAC000193.energy_consumption)"
      ],
      "metadata": {
        "id": "wsL116XQEOEA"
      },
      "execution_count": null,
      "outputs": []
    },
    {
      "cell_type": "code",
      "source": [
        "fig = plotting_utils.plot_autocorrelation(res.resid, vertical=True)\n",
        "#fig.write_image(\"imgs/chapter_3/acf_pacf.png\")\n",
        "fig.show()"
      ],
      "metadata": {
        "id": "mgzoMXrpEcoE"
      },
      "execution_count": null,
      "outputs": []
    },
    {
      "cell_type": "code",
      "source": [],
      "metadata": {
        "id": "k4lm0VNLEgsd"
      },
      "execution_count": null,
      "outputs": []
    }
  ]
}