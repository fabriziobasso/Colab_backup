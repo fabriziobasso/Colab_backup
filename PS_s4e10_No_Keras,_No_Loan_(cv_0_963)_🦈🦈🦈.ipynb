{
  "metadata": {
    "kernelspec": {
      "language": "python",
      "display_name": "Python 3",
      "name": "python3"
    },
    "language_info": {
      "name": "python",
      "version": "3.10.14",
      "mimetype": "text/x-python",
      "codemirror_mode": {
        "name": "ipython",
        "version": 3
      },
      "pygments_lexer": "ipython3",
      "nbconvert_exporter": "python",
      "file_extension": ".py"
    },
    "kaggle": {
      "accelerator": "none",
      "dataSources": [
        {
          "sourceId": 84894,
          "databundleVersionId": 9709193,
          "sourceType": "competition"
        },
        {
          "sourceId": 7949759,
          "sourceType": "datasetVersion",
          "datasetId": 4675026
        }
      ],
      "isInternetEnabled": true,
      "language": "python",
      "sourceType": "notebook",
      "isGpuEnabled": false
    },
    "colab": {
      "name": "PS s4e10 - No Keras, No Loan (cv 0.963) 🦈🦈🦈 ",
      "provenance": [],
      "include_colab_link": true
    }
  },
  "nbformat_minor": 0,
  "nbformat": 4,
  "cells": [
    {
      "cell_type": "markdown",
      "metadata": {
        "id": "view-in-github",
        "colab_type": "text"
      },
      "source": [
        "<a href=\"https://colab.research.google.com/github/fabriziobasso/Colab_backup/blob/main/PS_s4e10_No_Keras%2C_No_Loan_(cv_0_963)_%F0%9F%A6%88%F0%9F%A6%88%F0%9F%A6%88.ipynb\" target=\"_parent\"><img src=\"https://colab.research.google.com/assets/colab-badge.svg\" alt=\"Open In Colab\"/></a>"
      ]
    },
    {
      "source": [
        "# IMPORTANT: SOME KAGGLE DATA SOURCES ARE PRIVATE\n",
        "# RUN THIS CELL IN ORDER TO IMPORT YOUR KAGGLE DATA SOURCES.\n",
        "import kagglehub\n",
        "kagglehub.login()\n"
      ],
      "metadata": {
        "id": "-yb5iwjjr_qm"
      },
      "cell_type": "code",
      "outputs": [],
      "execution_count": null
    },
    {
      "source": [
        "# IMPORTANT: RUN THIS CELL IN ORDER TO IMPORT YOUR KAGGLE DATA SOURCES,\n",
        "# THEN FEEL FREE TO DELETE THIS CELL.\n",
        "# NOTE: THIS NOTEBOOK ENVIRONMENT DIFFERS FROM KAGGLE'S PYTHON\n",
        "# ENVIRONMENT SO THERE MAY BE MISSING LIBRARIES USED BY YOUR\n",
        "# NOTEBOOK.\n",
        "\n",
        "playground_series_s4e10_path = kagglehub.competition_download('playground-series-s4e10')\n",
        "chilledwanker_loan_approval_prediction_path = kagglehub.dataset_download('chilledwanker/loan-approval-prediction')\n",
        "\n",
        "print('Data source import complete.')\n"
      ],
      "metadata": {
        "id": "cNaGrnmYr_qq"
      },
      "cell_type": "code",
      "outputs": [],
      "execution_count": null
    },
    {
      "cell_type": "markdown",
      "source": [
        "# Intro\n",
        "\n",
        "Here I'm fitting a NN model binary_crossentropy loss.\n",
        "\n",
        "We can get funkier with tuning, architecture and data prep.\n",
        "\n",
        "I chose use a NN because of how successful catboost is when treating all variables as categorical."
      ],
      "metadata": {
        "id": "UBdL7mpVr_qs"
      }
    },
    {
      "cell_type": "code",
      "source": [
        "import warnings\n",
        "warnings.filterwarnings('ignore')\n",
        "\n",
        "import math\n",
        "import numpy as np\n",
        "import pandas as pd\n",
        "pd.set_option('display.max_rows', 200)\n",
        "from pathlib import Path\n",
        "\n",
        "from plotnine import *\n",
        "import os\n",
        "# suppress tf informational and warning messages\n",
        "os.environ['TF_CPP_MIN_LOG_LEVEL'] = '3'\n",
        "\n",
        "import tensorflow as tf\n",
        "from tensorflow import keras\n",
        "from tensorflow.keras import layers, models, Sequential\n",
        "from tensorflow.keras import backend as K\n",
        "\n",
        "from sklearn.model_selection import StratifiedKFold, KFold\n",
        "from sklearn import preprocessing\n",
        "from sklearn import metrics\n",
        "\n",
        "import category_encoders as ce\n",
        "\n",
        "\n",
        "%matplotlib inline\n",
        "%config InlineBackend.figure_format='retina'\n",
        "\n",
        "RANDOM_STATE = 1966\n",
        "keras.utils.set_random_seed(RANDOM_STATE)\n",
        "np.random.seed(RANDOM_STATE)"
      ],
      "metadata": {
        "_kg_hide-input": true,
        "_kg_hide-output": true,
        "execution": {
          "iopub.status.busy": "2024-10-14T07:01:17.335133Z",
          "iopub.execute_input": "2024-10-14T07:01:17.335475Z",
          "iopub.status.idle": "2024-10-14T07:01:33.935677Z",
          "shell.execute_reply.started": "2024-10-14T07:01:17.335437Z",
          "shell.execute_reply": "2024-10-14T07:01:33.93473Z"
        },
        "trusted": true,
        "id": "K2UbOKahr_qv"
      },
      "outputs": [],
      "execution_count": null
    },
    {
      "cell_type": "markdown",
      "source": [
        "# DATA\n"
      ],
      "metadata": {
        "id": "LWTh_8z0r_qx"
      }
    },
    {
      "cell_type": "code",
      "source": [
        "INPUT_DIR = Path('/kaggle/input/playground-series-s4e10/')\n",
        "\n",
        "TARGET_NAMES = ['loan_status']\n",
        "TARGET_NAME = 'loan_status'\n",
        "\n",
        "test_data = pd.read_csv(INPUT_DIR / 'test.csv').assign(source=0)\n",
        "train_data = pd.read_csv(INPUT_DIR / 'train.csv').assign(source=0)\n",
        "original_data = pd.read_csv('/kaggle/input/loan-approval-prediction/credit_risk_dataset.csv').assign(source=1)\n",
        "\n",
        "original_data['id'] = np.arange(len(original_data)) - 1E6\n",
        "# matched with train\n",
        "original_data = original_data.query('id not in [-999794, -993298]')\n",
        "\n",
        "def to_rank(col):\n",
        "    # descritise from 0..N\n",
        "    return col.fillna(-1).rank(method='dense').astype('int') - 1\n",
        "\n",
        "def fe(df):\n",
        "    cat_cols = ['person_home_ownership', 'loan_intent', 'loan_grade', 'cb_person_default_on_file']\n",
        "    # treat continuous as categorical ranks:\n",
        "    df['cb_person_cred_hist_length'] = to_rank(df['cb_person_cred_hist_length'])\n",
        "    df['loan_amnt'] = to_rank(df['loan_amnt'])\n",
        "    df['person_income'] = to_rank(df['person_income'])\n",
        "    df['loan_int_rate'] = to_rank(df['loan_int_rate'])\n",
        "    df['person_emp_length'] = to_rank(df['person_emp_length'])\n",
        "    df['loan_percent_income'] = to_rank(df['loan_percent_income'])\n",
        "    df['person_age'] = to_rank(df['person_age'])\n",
        "    for col in cat_cols:\n",
        "        # count + rank encoding, less to more frequent:\n",
        "        col_series = df[col].fillna('#NA#')\n",
        "        mapping = col_series.value_counts().to_dict()\n",
        "        code_as = 0\n",
        "        for i, key in enumerate(reversed(mapping)):\n",
        "            mapping[key] = code_as\n",
        "            code_as += 1\n",
        "        df[col] = col_series.map(mapping)\n",
        "        df[col] = df[col].astype('int')\n",
        "    return df\n",
        "\n",
        "\n",
        "df_all = fe(pd.concat([train_data, test_data, original_data]))\n",
        "\n",
        "idxs = (~df_all[TARGET_NAMES[0]].isna()) & (df_all['source'] == 0)\n",
        "train_data = df_all[idxs].reset_index(drop=True)\n",
        "idxs = ( df_all[TARGET_NAMES[0]].isna()) & (df_all['source'] == 0)\n",
        "test_data = df_all[idxs].drop(columns=[TARGET_NAMES[0]])\n",
        "original_data = df_all.query('source == 1')\n",
        "\n",
        "cont_features = ['cb_person_default_on_file', 'source']\n",
        "cat_features = [\n",
        "    'person_home_ownership',\n",
        "    'loan_intent',\n",
        "    'loan_grade',\n",
        "    'person_emp_length',\n",
        "    'loan_int_rate',\n",
        "    'loan_percent_income',\n",
        "    'person_age',\n",
        "    'person_income',\n",
        "    'loan_amnt',\n",
        "    'cb_person_cred_hist_length']\n",
        "\n",
        "cat_features_card = {}\n",
        "for f in cat_features:\n",
        "    cat_features_card[f] = 1 + df_all[f].max()\n",
        "\n",
        "df_all = None\n",
        "\n",
        "features = cat_features + cont_features"
      ],
      "metadata": {
        "_kg_hide-input": true,
        "_kg_hide-output": true,
        "execution": {
          "iopub.status.busy": "2024-10-14T07:01:34.687051Z",
          "iopub.execute_input": "2024-10-14T07:01:34.687425Z",
          "iopub.status.idle": "2024-10-14T07:01:35.289692Z",
          "shell.execute_reply.started": "2024-10-14T07:01:34.687386Z",
          "shell.execute_reply": "2024-10-14T07:01:35.28852Z"
        },
        "trusted": true,
        "id": "22r0s_8sr_qy"
      },
      "outputs": [],
      "execution_count": null
    },
    {
      "cell_type": "code",
      "source": [
        "train_data.filter(features).describe(include='all').T"
      ],
      "metadata": {
        "execution": {
          "iopub.status.busy": "2024-10-14T07:01:35.291943Z",
          "iopub.execute_input": "2024-10-14T07:01:35.292276Z",
          "iopub.status.idle": "2024-10-14T07:01:35.36536Z",
          "shell.execute_reply.started": "2024-10-14T07:01:35.292241Z",
          "shell.execute_reply": "2024-10-14T07:01:35.364083Z"
        },
        "trusted": true,
        "id": "ldm_YaFgr_qz"
      },
      "outputs": [],
      "execution_count": null
    },
    {
      "cell_type": "markdown",
      "source": [
        "# Model Architecture\n",
        "\n",
        "Less is more.\n",
        "\n",
        "Maybe a little more might be better here :)"
      ],
      "metadata": {
        "id": "AWCkz-QKr_qz"
      }
    },
    {
      "cell_type": "code",
      "source": [
        "def build_model(cat_features, cont_features):\n",
        "\n",
        "    # Define input layers\n",
        "    cat_inputs = [layers.Input(shape=(1,), name=f'cat{i}') for i in range(len(cat_features))]\n",
        "    cont_inputs = layers.Input(shape=(len(cont_features),))\n",
        "\n",
        "    # Embedding layers for categorical inputs\n",
        "    flat_embeddings = []\n",
        "    for i, f in enumerate(cat_features):\n",
        "        input_dim = int(cat_features_card[f])\n",
        "        output_dim = int(min(128, round(1.6 * input_dim ** .56))) # based on the fastai library\n",
        "\n",
        "        embedding = layers.Embedding(\n",
        "            input_dim=input_dim, output_dim=output_dim)(cat_inputs[i])\n",
        "        if output_dim > 32:\n",
        "            embedding = layers.SpatialDropout1D(.5)(embedding)\n",
        "        else:\n",
        "            embedding = layers.SpatialDropout1D(.3)(embedding)\n",
        "        flat_embeddings.append(layers.Flatten()(embedding))\n",
        "\n",
        "    concatenated_inputs = layers.Concatenate()(flat_embeddings + [cont_inputs, ])\n",
        "    concatenated_inputs_bn = layers.BatchNormalization()(concatenated_inputs)\n",
        "\n",
        "    x = layers.Dense(256, activation='mish')(concatenated_inputs_bn)\n",
        "\n",
        "    for units in (128,):\n",
        "        inp = layers.Concatenate()([x, concatenated_inputs_bn])\n",
        "        x = layers.Dense(units=units, activation='mish')(inp)\n",
        "        x = layers.Dropout(.3)(x)\n",
        "\n",
        "    # output layer\n",
        "    outputs = layers.Dense(1, activation='sigmoid')(x)\n",
        "    return keras.Model(cat_inputs + [cont_inputs], outputs)\n",
        "\n",
        "# initially use a single learning rate\n",
        "# for a small number of epochs\n",
        "epochs = 6\n",
        "callbacks = []"
      ],
      "metadata": {
        "execution": {
          "iopub.status.busy": "2024-10-14T07:01:58.314685Z",
          "iopub.execute_input": "2024-10-14T07:01:58.315146Z",
          "iopub.status.idle": "2024-10-14T07:01:58.327945Z",
          "shell.execute_reply.started": "2024-10-14T07:01:58.315105Z",
          "shell.execute_reply": "2024-10-14T07:01:58.326579Z"
        },
        "trusted": true,
        "id": "JrpozYqlr_q0"
      },
      "outputs": [],
      "execution_count": null
    },
    {
      "cell_type": "code",
      "source": [
        "tf.keras.utils.plot_model(\n",
        "    model=build_model(cat_features, cont_features),\n",
        "    show_shapes=True,\n",
        "    rankdir='TB')"
      ],
      "metadata": {
        "_kg_hide-input": true,
        "execution": {
          "iopub.status.busy": "2024-10-14T07:02:01.015404Z",
          "iopub.execute_input": "2024-10-14T07:02:01.016398Z",
          "iopub.status.idle": "2024-10-14T07:02:05.551055Z",
          "shell.execute_reply.started": "2024-10-14T07:02:01.016352Z",
          "shell.execute_reply": "2024-10-14T07:02:05.549815Z"
        },
        "trusted": true,
        "id": "hdB0Ewsar_q0"
      },
      "outputs": [],
      "execution_count": null
    },
    {
      "cell_type": "markdown",
      "source": [
        "# Fit"
      ],
      "metadata": {
        "id": "e19QbHWrr_q1"
      }
    },
    {
      "cell_type": "code",
      "source": [
        "def fold_logloss(y, preds):\n",
        "    return metrics.log_loss(y, preds)\n",
        "\n",
        "def fold_auc(y, preds):\n",
        "    return metrics.roc_auc_score(y, preds)\n",
        "\n",
        "# to feed data into the NN\n",
        "# we feed the categoricals column by column,\n",
        "# and the continuous features in one lump.\n",
        "cat_idxs= []\n",
        "cont_idxs = []\n",
        "for f in cat_features:\n",
        "    cat_idxs.append([features.index(f)])\n",
        "for f in cont_features:\n",
        "    cont_idxs.append(features.index(f))\n",
        "\n",
        "feature_idxs = cat_idxs + [cont_idxs]\n",
        "\n",
        "def to_nn_feed(df):\n",
        "    X = df[feats].values\n",
        "    result = []\n",
        "    for f_idx in feature_idxs:\n",
        "        # housekeeping: to feed data into the NN\n",
        "        # we feed the categoricals column by column,\n",
        "        # and the continuous features in one lump.\n",
        "        result.append(X[:, f_idx])\n",
        "    return result\n",
        "\n",
        "def fit_fold(tr, vl, ts):\n",
        "\n",
        "    model = build_model(cat_features, cont_features)\n",
        "    model.compile(\n",
        "        optimizer=keras.optimizers.AdamW(learning_rate=3E-4),\n",
        "        loss='binary_crossentropy',\n",
        "        metrics=['auc'])\n",
        "\n",
        "    history = model.fit(\n",
        "          to_nn_feed(tr), tr[TARGET_NAME],\n",
        "          #validation_data=(to_nn_feed(vl), vl[TARGET_NAME]),\n",
        "          batch_size=BS,\n",
        "          epochs=epochs,\n",
        "          callbacks=callbacks,\n",
        "          verbose=0\n",
        "    )\n",
        "\n",
        "    vl_pred = model.predict(to_nn_feed(vl), verbose=0, batch_size=BS).flatten()\n",
        "    ts_pred = model.predict(to_nn_feed(ts), verbose=0, batch_size=BS).flatten()\n",
        "\n",
        "    vl_metric = fold_auc(vl[TARGET_NAME], vl_pred)\n",
        "    return vl_pred, ts_pred, vl_metric"
      ],
      "metadata": {
        "_kg_hide-input": true,
        "execution": {
          "iopub.status.busy": "2024-10-14T07:02:24.91589Z",
          "iopub.execute_input": "2024-10-14T07:02:24.916941Z",
          "iopub.status.idle": "2024-10-14T07:02:24.930552Z",
          "shell.execute_reply.started": "2024-10-14T07:02:24.916893Z",
          "shell.execute_reply": "2024-10-14T07:02:24.929221Z"
        },
        "trusted": true,
        "id": "pQJZQglgr_q1"
      },
      "outputs": [],
      "execution_count": null
    },
    {
      "cell_type": "code",
      "source": [
        "N_FOLDS = 5\n",
        "BS = 256\n",
        "feats = features\n",
        "\n",
        "vl_preds = np.zeros(len(train_data))\n",
        "ts_preds = np.zeros(len(test_data))\n",
        "vl_metrics = []\n",
        "\n",
        "keras.utils.set_random_seed(RANDOM_STATE)\n",
        "k_fold = StratifiedKFold(n_splits=N_FOLDS, random_state=RANDOM_STATE, shuffle=True)\n",
        "for tr_idx, vl_idx in k_fold.split(train_data, train_data[TARGET_NAME]):\n",
        "    tr = train_data.loc[tr_idx]\n",
        "    vl = train_data.loc[vl_idx]\n",
        "\n",
        "    # add original data to the training fold only:\n",
        "    vl_pred, ts_pred, vl_metric = fit_fold(pd.concat([tr, original_data]), vl, test_data)\n",
        "\n",
        "    print(f'  -- fold auc {vl_metric:2.4f}')\n",
        "    vl_metrics.append(vl_metric)\n",
        "    vl_preds[vl_idx] += vl_pred\n",
        "    ts_preds += ts_pred / N_FOLDS\n",
        "\n",
        "# overall metric:\n",
        "vl_metric = fold_auc(\n",
        "    train_data[TARGET_NAME], vl_preds)\n",
        "print(f'  ----------- {vl_metric:2.4f}')"
      ],
      "metadata": {
        "execution": {
          "iopub.status.busy": "2024-10-14T07:02:45.785112Z",
          "iopub.execute_input": "2024-10-14T07:02:45.786003Z",
          "iopub.status.idle": "2024-10-14T07:05:38.479887Z",
          "shell.execute_reply.started": "2024-10-14T07:02:45.785953Z",
          "shell.execute_reply": "2024-10-14T07:05:38.478619Z"
        },
        "trusted": true,
        "id": "9COd3R84r_q1"
      },
      "outputs": [],
      "execution_count": null
    },
    {
      "cell_type": "markdown",
      "source": [
        "# How we doin'?"
      ],
      "metadata": {
        "id": "O1WKC5CVr_q2"
      }
    },
    {
      "cell_type": "code",
      "source": [
        "df_metrics = pd.DataFrame({'oof': vl_metrics})\n",
        "print(ggplot(df_metrics, aes(x='oof'))\n",
        "    + theme_light()\n",
        "    + theme(figure_size=(6, 3))\n",
        "    + geom_dotplot(alpha=0.3, binwidth = 1E-4, fill='SteelBlue')\n",
        "    + geom_vline(xintercept=np.mean(vl_metrics), linetype='dashed')\n",
        "    + labs(y = '', x='', title = f'OOF Metric Distribution\\nAUC={np.mean(vl_metrics):0.4f}'))"
      ],
      "metadata": {
        "_kg_hide-input": true,
        "execution": {
          "iopub.status.busy": "2024-10-14T07:05:53.960676Z",
          "iopub.execute_input": "2024-10-14T07:05:53.961856Z",
          "iopub.status.idle": "2024-10-14T07:05:54.459357Z",
          "shell.execute_reply.started": "2024-10-14T07:05:53.961803Z",
          "shell.execute_reply": "2024-10-14T07:05:54.458268Z"
        },
        "trusted": true,
        "id": "FGJvnRcmr_q2"
      },
      "outputs": [],
      "execution_count": null
    },
    {
      "cell_type": "markdown",
      "source": [
        "# Submission"
      ],
      "metadata": {
        "id": "1gk-ishZr_q2"
      }
    },
    {
      "cell_type": "code",
      "source": [
        "# oof data\n",
        "(train_data\n",
        "    .filter(['id', TARGET_NAME])\n",
        "    .assign(oof = vl_preds)\n",
        "    .to_csv('oof.csv', index=False))\n",
        "\n",
        "pd.read_csv('oof.csv').head(20)"
      ],
      "metadata": {
        "_kg_hide-input": true,
        "_kg_hide-output": true,
        "execution": {
          "iopub.status.busy": "2024-10-14T07:06:00.564015Z",
          "iopub.execute_input": "2024-10-14T07:06:00.56489Z",
          "iopub.status.idle": "2024-10-14T07:06:00.904677Z",
          "shell.execute_reply.started": "2024-10-14T07:06:00.564846Z",
          "shell.execute_reply": "2024-10-14T07:06:00.903604Z"
        },
        "trusted": true,
        "id": "BulQJxCgr_q3"
      },
      "outputs": [],
      "execution_count": null
    },
    {
      "cell_type": "code",
      "source": [
        "submission_filename = f'submission_{np.mean(vl_metrics):0.4f}.csv'\n",
        "\n",
        "(test_data\n",
        "    .assign(**{\n",
        "        TARGET_NAME: ts_preds})\n",
        "    .to_csv(submission_filename, columns=['id', TARGET_NAME], index=False))"
      ],
      "metadata": {
        "execution": {
          "iopub.status.busy": "2024-10-14T07:06:04.334752Z",
          "iopub.execute_input": "2024-10-14T07:06:04.335191Z",
          "iopub.status.idle": "2024-10-14T07:06:04.500877Z",
          "shell.execute_reply.started": "2024-10-14T07:06:04.335149Z",
          "shell.execute_reply": "2024-10-14T07:06:04.499872Z"
        },
        "trusted": true,
        "id": "YXEgMVCtr_q3"
      },
      "outputs": [],
      "execution_count": null
    },
    {
      "cell_type": "code",
      "source": [
        "pd.read_csv(submission_filename).head(20)"
      ],
      "metadata": {
        "execution": {
          "iopub.status.busy": "2024-10-14T07:06:06.564087Z",
          "iopub.execute_input": "2024-10-14T07:06:06.564524Z",
          "iopub.status.idle": "2024-10-14T07:06:06.599041Z",
          "shell.execute_reply.started": "2024-10-14T07:06:06.564485Z",
          "shell.execute_reply": "2024-10-14T07:06:06.597769Z"
        },
        "trusted": true,
        "id": "SHrdGLEyr_q3"
      },
      "outputs": [],
      "execution_count": null
    }
  ]
}