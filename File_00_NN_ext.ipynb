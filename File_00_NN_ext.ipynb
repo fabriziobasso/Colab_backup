{
  "nbformat": 4,
  "nbformat_minor": 0,
  "metadata": {
    "colab": {
      "provenance": [],
      "machine_shape": "hm",
      "gpuType": "L4",
      "toc_visible": true,
      "include_colab_link": true
    },
    "kernelspec": {
      "name": "python3",
      "display_name": "Python 3"
    },
    "language_info": {
      "name": "python"
    },
    "accelerator": "GPU"
  },
  "cells": [
    {
      "cell_type": "markdown",
      "metadata": {
        "id": "view-in-github",
        "colab_type": "text"
      },
      "source": [
        "<a href=\"https://colab.research.google.com/github/fabriziobasso/Colab_backup/blob/main/File_00_NN_ext.ipynb\" target=\"_parent\"><img src=\"https://colab.research.google.com/assets/colab-badge.svg\" alt=\"Open In Colab\"/></a>"
      ]
    },
    {
      "cell_type": "markdown",
      "metadata": {
        "id": "o16Z8wP_6UDV"
      },
      "source": [
        "# **<h1 align=\"center\"><font color='#001ddd'> GLUCOSE PREDICTION DATASET**</font></h1>\n",
        "\n",
        "## **Dataset Description**\n",
        "The dataset is from a study that collected data from young adults in the UK with type 1 diabetes, who used a continuous glucose monitor (CGM), an insulin pump and a smartwatch. These devices collected blood glucose readings, insulin dosage, carbohydrate intake, and activity data. The data collected was aggregated to five-minute intervals and formatted into samples. Each sample represents a point in time and includes the aggregated five-minute intervals from the previous six hours. The aim is to predict the blood glucose reading an hour into the future, for each of these samples.\n",
        "\n",
        "The training set takes samples from the first three months of study data from nine of the participants and includes the future blood glucose value. These training samples appear in chronological order and overlap. The testing set takes samples from the remainder of the study period from fifteen of the participants (so unseen participants appear in the testing set). These testing samples do not overlap and are in a random order to avoid data leakage.\n",
        "\n",
        "**Complexities to be aware of:**\n",
        "\n",
        "This is medical data so there are missing values and noise in the data\n",
        "the participants did not all use the same device models (CGM, insulin pump and smartwatch) so there may be differences in the collection method of the data\n",
        "some participants in the test set do not appear in the training set"
      ]
    },
    {
      "cell_type": "code",
      "execution_count": 1,
      "metadata": {
        "id": "--PrNXB8Ylys"
      },
      "outputs": [],
      "source": [
        "%%capture\n",
        "# Connect to Colab:#\n",
        "from google.colab import drive\n",
        "import os\n",
        "drive.mount('/content/drive')\n",
        "\n",
        "!pip install category-encoders\n",
        "!pip install optuna\n",
        "!pip install optuna-integration\n",
        "#!pip install scikit-learn==1.4\n",
        "!pip install catboost\n",
        "!pip install deeptables\n",
        "\n",
        "!pip install keras-tuner --upgrade\n",
        "!pip install keras-nlp\n",
        "!pip install BorutaShap\n",
        "!pip install scikit-lego\n",
        "!!pip install --no-index -U --find-links=/kaggle/input/deeptables-v0-2-5/deeptables-0.2.5 deeptables==0.2.5"
      ]
    },
    {
      "cell_type": "code",
      "execution_count": 2,
      "metadata": {
        "id": "ho3nCji3fPqQ"
      },
      "outputs": [],
      "source": [
        "folder_script = models_folders = \"/content/drive/MyDrive/Exercises/Studies_Structured_Data/Data/Glucose\"\n",
        "os.chdir(folder_script)"
      ]
    },
    {
      "cell_type": "code",
      "execution_count": 3,
      "metadata": {
        "id": "syKhpAm8jJZe",
        "colab": {
          "base_uri": "https://localhost:8080/",
          "height": 156
        },
        "outputId": "91d7ba5b-7eb5-4c91-839c-2cec88b25471"
      },
      "outputs": [
        {
          "output_type": "stream",
          "name": "stderr",
          "text": [
            "/usr/local/lib/python3.10/dist-packages/dask/dataframe/__init__.py:42: FutureWarning: \n",
            "Dask dataframe query planning is disabled because dask-expr is not installed.\n",
            "\n",
            "You can install it with `pip install dask[dataframe]` or `conda install dask`.\n",
            "This will raise in a future version.\n",
            "\n",
            "  warnings.warn(msg, FutureWarning)\n"
          ]
        },
        {
          "output_type": "display_data",
          "data": {
            "text/plain": [
              "<Figure size 960x660 with 0 Axes>"
            ]
          },
          "metadata": {}
        }
      ],
      "source": [
        "from category_encoders.cat_boost import CatBoostEncoder\n",
        "from category_encoders.wrapper import PolynomialWrapper\n",
        "from category_encoders.count import CountEncoder\n",
        "\n",
        "# Setup notebook\n",
        "from pathlib import Path\n",
        "import ipywidgets as widgets\n",
        "import pandas as pd\n",
        "import numpy as np\n",
        "from pickle import load, dump\n",
        "import json\n",
        "import joblib\n",
        "#import calplot as cal\n",
        "import missingno as msno\n",
        "import category_encoders as ce\n",
        "\n",
        "# Graphic Libraries:\n",
        "import seaborn as sns\n",
        "import matplotlib as mpl\n",
        "import matplotlib.pyplot as plt\n",
        "import matplotlib.patches as patches\n",
        "import matplotlib.image as mpimg\n",
        "\n",
        "# Palette Setup\n",
        "colors = ['#FB5B68','#FFEB48','#2676A1','#FFBDB0',]\n",
        "colormap_0 = mpl.colors.LinearSegmentedColormap.from_list(\"\",colors)\n",
        "palette_1 = sns.color_palette(\"coolwarm\", as_cmap=True)\n",
        "palette_2 = sns.color_palette(\"YlOrBr\", as_cmap=True)\n",
        "palette_3 = sns.light_palette(\"red\", as_cmap=True)\n",
        "palette_4 = sns.color_palette(\"viridis\", as_cmap=True)\n",
        "palette_5 = sns.color_palette(\"rocket\", as_cmap=True)\n",
        "palette_6 = sns.color_palette(\"GnBu\", as_cmap=True)\n",
        "palette_7 = sns.color_palette(\"tab20c\", as_cmap=False)\n",
        "palette_8 = sns.color_palette(\"Set2\", as_cmap=False)\n",
        "\n",
        "palette_custom = ['#fbb4ae','#b3cde3','#ccebc5','#decbe4','#fed9a6','#ffffcc','#e5d8bd','#fddaec','#f2f2f2']\n",
        "palette_9 = sns.color_palette(palette_custom, as_cmap=False)\n",
        "\n",
        "\n",
        "# Bloomberg\n",
        "#from xbbg import blp\n",
        "from catboost import CatBoostRegressor, Pool\n",
        "import xgboost as xgb\n",
        "from xgboost import XGBRegressor, XGBClassifier\n",
        "from xgboost.callback import EarlyStopping\n",
        "\n",
        "import lightgbm as lgb\n",
        "from lightgbm import (LGBMRegressor,\n",
        "                      LGBMClassifier,\n",
        "                      early_stopping,\n",
        "                      record_evaluation,\n",
        "                      log_evaluation)\n",
        "\n",
        "# Time Management\n",
        "from tqdm import tqdm\n",
        "from datetime import date\n",
        "from datetime import datetime\n",
        "from pandas.tseries.offsets import BMonthEnd, QuarterEnd\n",
        "import datetime\n",
        "from pandas.tseries.offsets import BDay # BDay is business day, not birthday...\n",
        "import datetime as dt\n",
        "import click\n",
        "import glob\n",
        "import os\n",
        "import gc\n",
        "import re\n",
        "import string\n",
        "\n",
        "from ipywidgets import AppLayout\n",
        "from ipywidgets import Dropdown, Layout, HTML, AppLayout, VBox, Label, HBox, BoundedFloatText, interact, Output\n",
        "\n",
        "#from my_func import *\n",
        "\n",
        "import optuna\n",
        "from optuna.integration import TFKerasPruningCallback\n",
        "from optuna.trial import TrialState\n",
        "from optuna.visualization import plot_intermediate_values\n",
        "from optuna.visualization import plot_optimization_history\n",
        "from optuna.visualization import plot_param_importances\n",
        "from optuna.visualization import plot_contour\n",
        "\n",
        "os.environ[\"KERAS_BACKEND\"] = \"tensorflow\"\n",
        "\n",
        "import tensorflow as tf\n",
        "import keras\n",
        "from keras import ops\n",
        "from keras import layers\n",
        "\n",
        "from keras.layers import Input, LSTM, Dense, Lambda, RepeatVector, Reshape\n",
        "from keras.models import Model\n",
        "from keras.losses import MeanSquaredError\n",
        "from keras.metrics import RootMeanSquaredError, MeanAbsoluteError\n",
        "\n",
        "from keras.utils import FeatureSpace, plot_model\n",
        "\n",
        "# Import libraries for Hypertuning\n",
        "import keras_tuner as kt\n",
        "from keras_tuner.tuners import RandomSearch, GridSearch, BayesianOptimization\n",
        "\n",
        "#from my_func import *\n",
        "\n",
        "# preprocessing modules\n",
        "from sklearn.model_selection import train_test_split, KFold, StratifiedKFold, cross_val_score, cross_validate, GroupKFold, GridSearchCV, RepeatedStratifiedKFold, cross_val_predict\n",
        "\n",
        "from sklearn.preprocessing import (LabelEncoder,\n",
        "                                   StandardScaler,\n",
        "                                   MinMaxScaler,\n",
        "                                   OrdinalEncoder,\n",
        "                                   RobustScaler,\n",
        "                                   PowerTransformer,\n",
        "                                   OneHotEncoder,\n",
        "                                   LabelEncoder,\n",
        "                                   QuantileTransformer,\n",
        "                                   PolynomialFeatures)\n",
        "\n",
        "# metrics\n",
        "import sklearn\n",
        "from sklearn.metrics import (mean_squared_error,\n",
        "                             root_mean_squared_error,\n",
        "                             r2_score,\n",
        "                             mean_absolute_error,\n",
        "                             mean_absolute_percentage_error,\n",
        "                             classification_report,\n",
        "                             confusion_matrix,\n",
        "                             ConfusionMatrixDisplay,\n",
        "                             multilabel_confusion_matrix,\n",
        "                             accuracy_score,\n",
        "                             roc_auc_score,\n",
        "                             auc,\n",
        "                             roc_curve,\n",
        "                             log_loss,\n",
        "                             make_scorer)\n",
        "\n",
        "# modeling algos\n",
        "from sklearn.linear_model import (LogisticRegression,\n",
        "                                  Lasso,\n",
        "                                  ridge_regression,\n",
        "                                  LinearRegression,\n",
        "                                  Ridge,\n",
        "                                  RidgeCV,\n",
        "                                  ElasticNet,\n",
        "                                  BayesianRidge,\n",
        "                                  HuberRegressor,\n",
        "                                  TweedieRegressor,\n",
        "                                  QuantileRegressor,\n",
        "                                  ARDRegression,\n",
        "                                  TheilSenRegressor,\n",
        "                                  PoissonRegressor,\n",
        "                                  GammaRegressor)\n",
        "\n",
        "from sklearn.ensemble import (AdaBoostRegressor,\n",
        "                              AdaBoostClassifier,\n",
        "                              RandomForestRegressor,\n",
        "                              RandomForestClassifier,\n",
        "                              VotingRegressor,\n",
        "                              GradientBoostingRegressor,\n",
        "                              GradientBoostingClassifier,\n",
        "                              StackingRegressor,\n",
        "                              HistGradientBoostingClassifier,\n",
        "                              HistGradientBoostingRegressor,\n",
        "                              ExtraTreesClassifier)\n",
        "\n",
        "from sklearn.decomposition import PCA, TruncatedSVD\n",
        "from sklearn.compose import ColumnTransformer, make_column_transformer\n",
        "from sklearn.pipeline import Pipeline\n",
        "from sklearn.feature_selection import SelectFromModel\n",
        "from sklearn.preprocessing import FunctionTransformer\n",
        "from sklearn.experimental import enable_iterative_imputer\n",
        "from sklearn.impute import IterativeImputer\n",
        "from sklearn.feature_extraction.text import TfidfVectorizer\n",
        "from sklearn.cluster import KMeans\n",
        "from yellowbrick.cluster import KElbowVisualizer\n",
        "\n",
        "import warnings\n",
        "warnings.filterwarnings(\"ignore\")\n",
        "warnings.filterwarnings(\"ignore\", category=DeprecationWarning)\n",
        "warnings.filterwarnings(\"ignore\", category=FutureWarning)\n",
        "%matplotlib inline\n",
        "\n",
        "import seaborn as sns\n",
        "from statsmodels.tsa.deterministic import CalendarFourier, DeterministicProcess\n",
        "\n",
        "from sklearn.multioutput import RegressorChain\n",
        "from sklearn.preprocessing import LabelEncoder\n",
        "from xgboost import XGBRegressor\n",
        "\n",
        "import itertools\n",
        "import warnings\n",
        "import logging\n",
        "from openpyxl import load_workbook\n",
        "\n",
        "import statsmodels.api as sm\n",
        "from pylab import rcParams\n",
        "import scipy.stats as ss\n",
        "\n",
        "warnings.filterwarnings('ignore')\n",
        "#plt.style.use('fivethirtyeight')\n",
        "\n",
        "# Setting rc parameters in seaborn for plots and graphs-\n",
        "# Reference - https://matplotlib.org/stable/tutorials/introductory/customizing.html:-\n",
        "# To alter this, refer to matplotlib.rcParams.keys()\n",
        "\n",
        "sns.set({\"axes.facecolor\"       : \"#ffffff\",\n",
        "         \"figure.facecolor\"     : \"#ffffff\",\n",
        "         \"axes.edgecolor\"       : \"#000000\",\n",
        "         \"grid.color\"           : \"#ffffff\",\n",
        "         \"font.family\"          : ['Cambria'],\n",
        "         \"axes.labelcolor\"      : \"#000000\",\n",
        "         \"xtick.color\"          : \"#000000\",\n",
        "         \"ytick.color\"          : \"#000000\",\n",
        "         \"grid.linewidth\"       : 0.5,\n",
        "         'grid.alpha'           :0.5,\n",
        "         \"grid.linestyle\"       : \"--\",\n",
        "         \"axes.titlecolor\"      : 'black',\n",
        "         'axes.titlesize'       : 12,\n",
        "         'axes.labelweight'     : \"bold\",\n",
        "         'legend.fontsize'      : 7.0,\n",
        "         'legend.title_fontsize': 7.0,\n",
        "         'font.size'            : 7.5,\n",
        "         'xtick.labelsize'      : 7.5,\n",
        "         'ytick.labelsize'      : 7.5,\n",
        "        });\n",
        "\n",
        "sns.set_style(\"whitegrid\",{\"grid.linestyle\":\"--\", 'grid.linewidth':0.2, 'grid.alpha':0.5})\n",
        "# Set Style\n",
        "mpl.rcParams['figure.dpi'] = 120;\n",
        "\n",
        "# Making sklearn pipeline outputs as dataframe:-\n",
        "pd.set_option('display.max_columns', 100);\n",
        "pd.set_option('display.max_rows', 50);\n",
        "\n",
        "sns.despine(left=True, bottom=True, top=False, right=False)\n",
        "\n",
        "mpl.rcParams['axes.spines.left'] = True\n",
        "mpl.rcParams['axes.spines.right'] = False\n",
        "mpl.rcParams['axes.spines.top'] = False\n",
        "mpl.rcParams['axes.spines.bottom'] = True"
      ]
    },
    {
      "cell_type": "code",
      "source": [
        "tf.__version__"
      ],
      "metadata": {
        "id": "G8YvvLtMYTBK",
        "colab": {
          "base_uri": "https://localhost:8080/",
          "height": 35
        },
        "outputId": "321b852b-7687-4415-c43e-21ded1fd696c"
      },
      "execution_count": 4,
      "outputs": [
        {
          "output_type": "execute_result",
          "data": {
            "text/plain": [
              "'2.18.0'"
            ],
            "application/vnd.google.colaboratory.intrinsic+json": {
              "type": "string"
            }
          },
          "metadata": {},
          "execution_count": 4
        }
      ]
    },
    {
      "cell_type": "code",
      "source": [
        "!apt install graphviz\n",
        "import os\n",
        "os.environ[\"PATH\"] += os.pathsep + '/usr/bin/dot'"
      ],
      "metadata": {
        "id": "gxySMoesORTH",
        "colab": {
          "base_uri": "https://localhost:8080/"
        },
        "outputId": "d010a672-ceb7-4280-d70a-5865031b1a5f"
      },
      "execution_count": 5,
      "outputs": [
        {
          "output_type": "stream",
          "name": "stdout",
          "text": [
            "Reading package lists... Done\n",
            "Building dependency tree... Done\n",
            "Reading state information... Done\n",
            "graphviz is already the newest version (2.42.2-6ubuntu0.1).\n",
            "0 upgraded, 0 newly installed, 0 to remove and 49 not upgraded.\n"
          ]
        }
      ]
    },
    {
      "cell_type": "markdown",
      "source": [
        "# 1.0 Upload Data"
      ],
      "metadata": {
        "id": "eIq4n5QIJtVc"
      }
    },
    {
      "cell_type": "markdown",
      "metadata": {
        "id": "UaMB0Ku9izBm"
      },
      "source": [
        "## 1.1 Functions:"
      ]
    },
    {
      "cell_type": "code",
      "execution_count": 6,
      "metadata": {
        "id": "HXVCNFXEiysu"
      },
      "outputs": [],
      "source": [
        "def encode_target(y_train, y_test, encoder_type='label', enc_strategy=False):\n",
        "    \"\"\"\n",
        "    Encodes the target columns in the training and testing data\n",
        "    using the specified encoder type.\n",
        "\n",
        "    Parameters:\n",
        "    y_train (pd.Series or pd.DataFrame): Training target data.\n",
        "    y_test (pd.Series or pd.DataFrame): Testing target data.\n",
        "\n",
        "    Returns:\n",
        "    y_train_encoded (pd.Series): Encoded training target data.\n",
        "    y_test_encoded (pd.Series): Encoded testing target data.\n",
        "    \"\"\"\n",
        "\n",
        "    if encoder_type == 'label':\n",
        "        encoder = LabelEncoder()\n",
        "        y_train_encoded = encoder.fit_transform(y_train)\n",
        "        y_test_encoded = encoder.transform(y_test)\n",
        "\n",
        "        y_train_encoded = pd.Series(y_train_encoded, index=y_train.index, name=\"Target\")\n",
        "        y_test_encoded = pd.Series(y_test_encoded, index=y_test.index, name=\"Target\")\n",
        "\n",
        "\n",
        "    elif encoder_type == 'onehot':\n",
        "        y_train_ = y_train.values.reshape(-1, 1)\n",
        "        y_test_ = y_test.values.reshape(-1, 1)\n",
        "\n",
        "        encoder = OneHotEncoder(sparse_output=False)\n",
        "        y_train_encoded = encoder.fit_transform(y_train_)\n",
        "        y_test_encoded = encoder.transform(y_test_)\n",
        "\n",
        "        y_train_encoded = pd.DataFrame(y_train_encoded, index=y_train.index)\n",
        "        y_test_encoded = pd.DataFrame(y_test_encoded, index=y_test.index)\n",
        "\n",
        "    else:\n",
        "        raise ValueError(\"Invalid encoder_type. Currently supported: 'label'.\")\n",
        "\n",
        "    if enc_strategy:\n",
        "        return y_train_encoded, y_test_encoded, encoder\n",
        "\n",
        "    else:\n",
        "        return y_train_encoded, y_test_encoded\n",
        "\n",
        "def encode_data(X_train, X_test, encoder_type='label', columns=None, map=None):\n",
        "    \"\"\"\n",
        "    Encodes the training and testing data using the specified encoder type.\n",
        "\n",
        "    Parameters:\n",
        "    X_train (pd.DataFrame): Training data.\n",
        "    X_test (pd.DataFrame): Testing data.\n",
        "    encoder_type (str): Type of encoder ('label' or 'onehot'). Default is 'label'.\n",
        "    columns (list): List of columns to encode. If None, all object type columns are encoded.\n",
        "\n",
        "    Returns:\n",
        "    X_train_encoded (pd.DataFrame): Encoded training data.\n",
        "    X_test_encoded (pd.DataFrame): Encoded testing data.\n",
        "    \"\"\"\n",
        "\n",
        "    if columns is None:\n",
        "        # Default to all object type columns if no columns are specified\n",
        "        columns = X_train.select_dtypes(include=['object']).columns.tolist()\n",
        "\n",
        "    X_train_encoded = X_train.copy()\n",
        "    X_test_encoded = X_test.copy()\n",
        "\n",
        "    if encoder_type == 'label':\n",
        "        for col in columns:\n",
        "            le = LabelEncoder()\n",
        "            X_train_encoded[col] = le.fit_transform(X_train[col])\n",
        "            X_test_encoded[col] = le.transform(X_test[col])\n",
        "\n",
        "    elif encoder_type == 'onehot':\n",
        "        for col in columns:\n",
        "            ohe = OneHotEncoder(handle_unknown='ignore', sparse_output=False, drop='first')\n",
        "            # Fit the encoder on the training data and transform both training and test data\n",
        "            encoded_train = ohe.fit_transform(X_train[[col]])\n",
        "            encoded_test = ohe.transform(X_test[[col]])\n",
        "\n",
        "            # Create a DataFrame with the encoded data\n",
        "            encoded_train_df = pd.DataFrame(encoded_train, columns=ohe.get_feature_names_out([col]))\n",
        "            encoded_test_df = pd.DataFrame(encoded_test, columns=ohe.get_feature_names_out([col]))\n",
        "\n",
        "            # Concatenate the new columns to the original dataframes and drop the original columns\n",
        "            X_train_encoded = pd.concat([X_train_encoded.drop(col, axis=1), encoded_train_df], axis=1)\n",
        "            X_test_encoded = pd.concat([X_test_encoded.drop(col, axis=1), encoded_test_df], axis=1)\n",
        "\n",
        "    elif encoder_type == 'count_encoder':\n",
        "\n",
        "          for col in columns:\n",
        "\n",
        "                target_encoder = CountEncoder(cols=columns)\n",
        "                X_train_encoded = target_encoder.fit_transform(X_train_encoded)\n",
        "                X_test_encoded = target_encoder.transform(X_test_encoded)\n",
        "\n",
        "    else:\n",
        "        raise ValueError(\"Invalid encoder_type. Currently supported: 'label', 'onehot', 'target_encoder'.\")\n",
        "\n",
        "    return X_train_encoded, X_test_encoded\n",
        "\n",
        "def plot_training_session(history):\n",
        "  # Plot training and validation loss scores\n",
        "  # against the number of epochs.\n",
        "  plt.figure(figsize=(8, 6))\n",
        "  plt.plot(history.history['loss'], label='Train')\n",
        "  plt.plot(history.history['val_loss'], label='Validation')\n",
        "  plt.grid(linestyle='--')\n",
        "  plt.ylabel('val_loss')\n",
        "  plt.xlabel('Epoch')\n",
        "  plt.title('Train-Validation Scores', pad=13)\n",
        "  plt.legend(loc='upper right');\n",
        "  plt.show()"
      ]
    },
    {
      "cell_type": "markdown",
      "metadata": {
        "id": "F5NjoRTdyVHe"
      },
      "source": [
        "## **1.2 Importing the Dataset**"
      ]
    },
    {
      "cell_type": "markdown",
      "metadata": {
        "id": "AEYVvvGmeG2W"
      },
      "source": [
        "### **1.2.1 Files**\n",
        "* activities.txt - a list of activity names that appear in the activity-X:XX columns\n",
        "* sample_submission.csv - a sample submission file in the correct format\n",
        "* test.csv - the test set\n",
        "* train.csv - the training set\n",
        "\n",
        "## **Columns**\n",
        "* train.csv:\n",
        "    * **id - row id** consisting of participant number and a count for that participant\n",
        "    * **p_num** - participant number\n",
        "    * **time** - time of day in the format HH:MM:SS\n",
        "    * **bg-X:XX** - blood glucose reading in mmol/L, X:XX(H:SS) time in the past (e.g. bg-2:35, would be the blood glucose reading from 2 hours and 35 minutes before the time value for that row), recorded by the continuous glucose monitor\n",
        "    * **insulin-X:XX** - total insulin dose received in units in the last 5 minutes, X:XX(H:SS) time in the past (e.g. insulin-2:35, would be the total insulin dose received between 2 hours and 40 minutes and 2 hours and 35 minutes before the time value for that row), recorded by the insulin pump\n",
        "    * **carbs-X:XX** - total carbohydrate value consumed in grammes in the last 5 minutes, X:XX(H:SS) time in the past (e.g. carbs-2:35, would be the total carbohydrate value consumed between 2 hours and 40 minutes and 2 hours and 35 minutes before the time value for that row), recorded by the participant\n",
        "    * **hr-X:XX** - mean heart rate in beats per minute in the last 5 minutes, X:XX(H:SS) time in the past (e.g. hr-2:35, would be the mean heart rate between 2 hours and 40 minutes and 2 hours and 35 minutes before the time value for that row), recorded by the smartwatch\n",
        "    * **steps-X:XX** - total steps walked in the last 5 minutes, X:XX(H:SS) time in the past (e.g. * steps-2:35, would be the total steps walked between 2 hours and 40 minutes and 2 hours and 35 minutes before the time value for that row), recorded by the smartwatch\n",
        "    * **cals-X:XX** - total calories burnt in the last 5 minutes, X:XX(H:SS) time in the past (e.g. cals-2:35, would be the total calories burned between 2 hours and 40 minutes and 2 hours and 35 minutes before the time value for that row), calculated by the smartwatch\n",
        "    * **activity-X:XX** - self-declared activity performed in the last 5 minutes, X:XX(H:SS) time in the past (e.g. activity-2:35, would show a string name of the activity performed between 2 hours and 40 minutes and 2 hours and 35 minutes before the time value for that row), set on the smartwatch\n",
        "    * **bg+1:00** - blood glucose reading in mmol/L an hour in the future, this is the value you will be predicting (not provided in test.csv)"
      ]
    },
    {
      "cell_type": "code",
      "execution_count": 7,
      "metadata": {
        "id": "9fiLvkXQuzJ3",
        "colab": {
          "base_uri": "https://localhost:8080/"
        },
        "outputId": "185260e9-a8a5-4046-a3a9-8da7cdac1168"
      },
      "outputs": [
        {
          "output_type": "stream",
          "name": "stdout",
          "text": [
            "(3644, 17) (2100934, 17)\n"
          ]
        }
      ],
      "source": [
        "ext_data=True\n",
        "\n",
        "if ext_data==False:\n",
        "  df_train=pd.read_csv(\"/content/drive/MyDrive/Exercises/Studies_Structured_Data/Data/Glucose/train_cluster.csv\", index_col=0)\n",
        "  df_test=pd.read_csv(\"/content/drive/MyDrive/Exercises/Studies_Structured_Data/Data/Glucose/test_cluster.csv\", index_col=0)\n",
        "\n",
        "  df_train_scaled=pd.read_csv(\"/content/drive/MyDrive/Exercises/Studies_Structured_Data/Data/Glucose/X_train_scaled.csv\", index_col=0)\n",
        "  df_test.shape\n",
        "\n",
        "if ext_data==True:\n",
        "  df_train = pd.read_csv(\"/content/drive/MyDrive/Exercises/Studies_Structured_Data/Data/Glucose/train_cluster_enc_final_ext.csv\", index_col=0)\n",
        "  df_test = pd.read_csv(\"/content/drive/MyDrive/Exercises/Studies_Structured_Data/Data/Glucose/test_cluster_enc_final_ext.csv\", index_col=0)\n",
        "\n",
        "#  df_train_scaled=pd.read_csv(\"/content/drive/MyDrive/Exercises/Studies_Structured_Data/Data/Glucose/X_train_scaled.csv\", index_col=0)\n",
        "  print(df_test.shape,df_train.shape)"
      ]
    },
    {
      "cell_type": "code",
      "execution_count": 8,
      "metadata": {
        "id": "UIdNSqVxOY7o",
        "colab": {
          "base_uri": "https://localhost:8080/",
          "height": 617
        },
        "outputId": "5174705a-36d6-408e-b9d0-7a40d3bfd102"
      },
      "outputs": [
        {
          "output_type": "execute_result",
          "data": {
            "text/plain": [
              "p_num\n",
              "p02    0.166561\n",
              "p11    0.151069\n",
              "p12    0.143455\n",
              "p04    0.128710\n",
              "p10    0.123447\n",
              "p05    0.092903\n",
              "p01    0.081359\n",
              "p06    0.065616\n",
              "p03    0.023998\n",
              "p15    0.003918\n",
              "p24    0.003478\n",
              "p16    0.003305\n",
              "p19    0.003279\n",
              "p21    0.003145\n",
              "p18    0.003079\n",
              "p22    0.002679\n",
              "Name: count, dtype: float64"
            ],
            "text/html": [
              "<div>\n",
              "<style scoped>\n",
              "    .dataframe tbody tr th:only-of-type {\n",
              "        vertical-align: middle;\n",
              "    }\n",
              "\n",
              "    .dataframe tbody tr th {\n",
              "        vertical-align: top;\n",
              "    }\n",
              "\n",
              "    .dataframe thead th {\n",
              "        text-align: right;\n",
              "    }\n",
              "</style>\n",
              "<table border=\"1\" class=\"dataframe\">\n",
              "  <thead>\n",
              "    <tr style=\"text-align: right;\">\n",
              "      <th></th>\n",
              "      <th>count</th>\n",
              "    </tr>\n",
              "    <tr>\n",
              "      <th>p_num</th>\n",
              "      <th></th>\n",
              "    </tr>\n",
              "  </thead>\n",
              "  <tbody>\n",
              "    <tr>\n",
              "      <th>p02</th>\n",
              "      <td>0.166561</td>\n",
              "    </tr>\n",
              "    <tr>\n",
              "      <th>p11</th>\n",
              "      <td>0.151069</td>\n",
              "    </tr>\n",
              "    <tr>\n",
              "      <th>p12</th>\n",
              "      <td>0.143455</td>\n",
              "    </tr>\n",
              "    <tr>\n",
              "      <th>p04</th>\n",
              "      <td>0.128710</td>\n",
              "    </tr>\n",
              "    <tr>\n",
              "      <th>p10</th>\n",
              "      <td>0.123447</td>\n",
              "    </tr>\n",
              "    <tr>\n",
              "      <th>p05</th>\n",
              "      <td>0.092903</td>\n",
              "    </tr>\n",
              "    <tr>\n",
              "      <th>p01</th>\n",
              "      <td>0.081359</td>\n",
              "    </tr>\n",
              "    <tr>\n",
              "      <th>p06</th>\n",
              "      <td>0.065616</td>\n",
              "    </tr>\n",
              "    <tr>\n",
              "      <th>p03</th>\n",
              "      <td>0.023998</td>\n",
              "    </tr>\n",
              "    <tr>\n",
              "      <th>p15</th>\n",
              "      <td>0.003918</td>\n",
              "    </tr>\n",
              "    <tr>\n",
              "      <th>p24</th>\n",
              "      <td>0.003478</td>\n",
              "    </tr>\n",
              "    <tr>\n",
              "      <th>p16</th>\n",
              "      <td>0.003305</td>\n",
              "    </tr>\n",
              "    <tr>\n",
              "      <th>p19</th>\n",
              "      <td>0.003279</td>\n",
              "    </tr>\n",
              "    <tr>\n",
              "      <th>p21</th>\n",
              "      <td>0.003145</td>\n",
              "    </tr>\n",
              "    <tr>\n",
              "      <th>p18</th>\n",
              "      <td>0.003079</td>\n",
              "    </tr>\n",
              "    <tr>\n",
              "      <th>p22</th>\n",
              "      <td>0.002679</td>\n",
              "    </tr>\n",
              "  </tbody>\n",
              "</table>\n",
              "</div><br><label><b>dtype:</b> float64</label>"
            ]
          },
          "metadata": {},
          "execution_count": 8
        }
      ],
      "source": [
        "df_train.p_num.value_counts()/df_train.shape[0]"
      ]
    },
    {
      "cell_type": "code",
      "source": [
        "df_train.p_num = df_train.p_num.astype(\"str\")\n",
        "df_test.p_num = df_test.p_num.astype(\"str\")"
      ],
      "metadata": {
        "id": "7CM4Y6Mr5CuF"
      },
      "execution_count": 9,
      "outputs": []
    },
    {
      "cell_type": "code",
      "source": [
        "#df_train.groupby([\"cluster\"])[\"p_num\"].count()"
      ],
      "metadata": {
        "id": "azNdRmatWeUD"
      },
      "execution_count": 10,
      "outputs": []
    },
    {
      "cell_type": "code",
      "execution_count": 11,
      "metadata": {
        "id": "N8OmmGKk8KPX"
      },
      "outputs": [],
      "source": [
        "#df_train.groupby([\"cluster\",\"p_num\"])[\"p_num\"].count()[8]"
      ]
    },
    {
      "cell_type": "code",
      "execution_count": 12,
      "metadata": {
        "id": "-nJ0_v3bl0_s",
        "colab": {
          "base_uri": "https://localhost:8080/"
        },
        "outputId": "569fd241-756a-4595-e626-adb2f398481a"
      },
      "outputs": [
        {
          "output_type": "execute_result",
          "data": {
            "text/plain": [
              "Index(['p_num', 'PC_1', 'PC_2', 'PC_3', 'PC_4', 'enc_08_v6', 'enc_07_v7',\n",
              "       'enc_03_v7', 'enc_01_v5', 'enc_02_v5', 'enc_03_v5', 'enc_04_v5',\n",
              "       'enc_05_v5', 'enc_06_v5', 'enc_07_v5', 'enc_08_v5', 'bg+1:00'],\n",
              "      dtype='object')"
            ]
          },
          "metadata": {},
          "execution_count": 12
        }
      ],
      "source": [
        "df_train.head()\n",
        "df_train.columns"
      ]
    },
    {
      "cell_type": "markdown",
      "source": [
        "#### **SCALE FEATURES**"
      ],
      "metadata": {
        "id": "s9ClCj7Xr8f7"
      }
    },
    {
      "cell_type": "code",
      "execution_count": 13,
      "metadata": {
        "id": "9Z8CiYrCCuNQ"
      },
      "outputs": [],
      "source": [
        "float_feat = ['PC_1', 'PC_2', 'PC_3', 'PC_4', 'enc_08_v6', 'enc_07_v7', 'enc_03_v7', 'enc_01_v5',\n",
        "              'enc_02_v5', 'enc_03_v5', 'enc_04_v5', 'enc_05_v5', 'enc_06_v5', 'enc_07_v5', 'enc_08_v5']\n",
        "\n",
        "scaler_float = StandardScaler()\n",
        "\n",
        "df_train[float_feat] = scaler_float.fit_transform(df_train[float_feat])\n",
        "df_test[float_feat] = scaler_float.transform(df_test[float_feat])"
      ]
    },
    {
      "cell_type": "markdown",
      "metadata": {
        "id": "5FXSnbRYnNg9"
      },
      "source": [
        "Sub-dataset are created for each main set of features to inpute missing values:"
      ]
    },
    {
      "cell_type": "code",
      "source": [
        "print(df_train.shape)\n",
        "display(df_train.groupby(\"p_num\")[\"p_num\"].count())\n",
        "#display(dict(df_test.groupby(\"p_num\")[\"p_num\"].count()))\n",
        "#display(df_train[df_train[\"p_num\"]==\"p01\"].head())\n",
        "#display(df_train[df_train[\"p_num\"]==\"p02\"].head())\n",
        "\n",
        "vocabulary_pnum = list(dict(df_train.groupby(\"p_num\")[\"p_num\"].count()).keys())\n",
        "len(vocabulary_pnum)"
      ],
      "metadata": {
        "id": "IYaD4UwO-dDQ",
        "colab": {
          "base_uri": "https://localhost:8080/",
          "height": 652
        },
        "outputId": "2f1c146e-3194-4913-b501-282eb697065b"
      },
      "execution_count": 14,
      "outputs": [
        {
          "output_type": "stream",
          "name": "stdout",
          "text": [
            "(2100934, 17)\n"
          ]
        },
        {
          "output_type": "display_data",
          "data": {
            "text/plain": [
              "p_num\n",
              "p01    170929\n",
              "p02    349934\n",
              "p03     50418\n",
              "p04    270411\n",
              "p05    195183\n",
              "p06    137855\n",
              "p10    259353\n",
              "p11    317385\n",
              "p12    301390\n",
              "p15      8232\n",
              "p16      6944\n",
              "p18      6468\n",
              "p19      6888\n",
              "p21      6608\n",
              "p22      5628\n",
              "p24      7308\n",
              "Name: p_num, dtype: int64"
            ],
            "text/html": [
              "<div>\n",
              "<style scoped>\n",
              "    .dataframe tbody tr th:only-of-type {\n",
              "        vertical-align: middle;\n",
              "    }\n",
              "\n",
              "    .dataframe tbody tr th {\n",
              "        vertical-align: top;\n",
              "    }\n",
              "\n",
              "    .dataframe thead th {\n",
              "        text-align: right;\n",
              "    }\n",
              "</style>\n",
              "<table border=\"1\" class=\"dataframe\">\n",
              "  <thead>\n",
              "    <tr style=\"text-align: right;\">\n",
              "      <th></th>\n",
              "      <th>p_num</th>\n",
              "    </tr>\n",
              "    <tr>\n",
              "      <th>p_num</th>\n",
              "      <th></th>\n",
              "    </tr>\n",
              "  </thead>\n",
              "  <tbody>\n",
              "    <tr>\n",
              "      <th>p01</th>\n",
              "      <td>170929</td>\n",
              "    </tr>\n",
              "    <tr>\n",
              "      <th>p02</th>\n",
              "      <td>349934</td>\n",
              "    </tr>\n",
              "    <tr>\n",
              "      <th>p03</th>\n",
              "      <td>50418</td>\n",
              "    </tr>\n",
              "    <tr>\n",
              "      <th>p04</th>\n",
              "      <td>270411</td>\n",
              "    </tr>\n",
              "    <tr>\n",
              "      <th>p05</th>\n",
              "      <td>195183</td>\n",
              "    </tr>\n",
              "    <tr>\n",
              "      <th>p06</th>\n",
              "      <td>137855</td>\n",
              "    </tr>\n",
              "    <tr>\n",
              "      <th>p10</th>\n",
              "      <td>259353</td>\n",
              "    </tr>\n",
              "    <tr>\n",
              "      <th>p11</th>\n",
              "      <td>317385</td>\n",
              "    </tr>\n",
              "    <tr>\n",
              "      <th>p12</th>\n",
              "      <td>301390</td>\n",
              "    </tr>\n",
              "    <tr>\n",
              "      <th>p15</th>\n",
              "      <td>8232</td>\n",
              "    </tr>\n",
              "    <tr>\n",
              "      <th>p16</th>\n",
              "      <td>6944</td>\n",
              "    </tr>\n",
              "    <tr>\n",
              "      <th>p18</th>\n",
              "      <td>6468</td>\n",
              "    </tr>\n",
              "    <tr>\n",
              "      <th>p19</th>\n",
              "      <td>6888</td>\n",
              "    </tr>\n",
              "    <tr>\n",
              "      <th>p21</th>\n",
              "      <td>6608</td>\n",
              "    </tr>\n",
              "    <tr>\n",
              "      <th>p22</th>\n",
              "      <td>5628</td>\n",
              "    </tr>\n",
              "    <tr>\n",
              "      <th>p24</th>\n",
              "      <td>7308</td>\n",
              "    </tr>\n",
              "  </tbody>\n",
              "</table>\n",
              "</div><br><label><b>dtype:</b> int64</label>"
            ]
          },
          "metadata": {}
        },
        {
          "output_type": "execute_result",
          "data": {
            "text/plain": [
              "16"
            ]
          },
          "metadata": {},
          "execution_count": 14
        }
      ]
    },
    {
      "cell_type": "markdown",
      "source": [
        "##### Features:"
      ],
      "metadata": {
        "id": "2eTNy49rV95Z"
      }
    },
    {
      "cell_type": "code",
      "source": [
        "(df_train.columns==df_test.columns).all()"
      ],
      "metadata": {
        "id": "bm92GR08f5J4",
        "colab": {
          "base_uri": "https://localhost:8080/"
        },
        "outputId": "c16cdc81-34a1-46ed-a692-9556309171a0"
      },
      "execution_count": 15,
      "outputs": [
        {
          "output_type": "execute_result",
          "data": {
            "text/plain": [
              "True"
            ]
          },
          "metadata": {},
          "execution_count": 15
        }
      ]
    },
    {
      "cell_type": "markdown",
      "source": [
        "##### Define Features Datatypes:"
      ],
      "metadata": {
        "id": "LgeSuWl0YGQP"
      }
    },
    {
      "cell_type": "code",
      "source": [
        "ts_fields = list(df_test.columns)\n",
        "df_train.info()"
      ],
      "metadata": {
        "id": "9_BgQr9HT2B5",
        "colab": {
          "base_uri": "https://localhost:8080/"
        },
        "outputId": "2034e1a2-c17e-41db-8a19-7ecedb8c8cac"
      },
      "execution_count": 16,
      "outputs": [
        {
          "output_type": "stream",
          "name": "stdout",
          "text": [
            "<class 'pandas.core.frame.DataFrame'>\n",
            "Index: 2100934 entries, 0 to 2100933\n",
            "Data columns (total 17 columns):\n",
            " #   Column     Dtype  \n",
            "---  ------     -----  \n",
            " 0   p_num      object \n",
            " 1   PC_1       float64\n",
            " 2   PC_2       float64\n",
            " 3   PC_3       float64\n",
            " 4   PC_4       float64\n",
            " 5   enc_08_v6  float64\n",
            " 6   enc_07_v7  float64\n",
            " 7   enc_03_v7  float64\n",
            " 8   enc_01_v5  float64\n",
            " 9   enc_02_v5  float64\n",
            " 10  enc_03_v5  float64\n",
            " 11  enc_04_v5  float64\n",
            " 12  enc_05_v5  float64\n",
            " 13  enc_06_v5  float64\n",
            " 14  enc_07_v5  float64\n",
            " 15  enc_08_v5  float64\n",
            " 16  bg+1:00    float64\n",
            "dtypes: float64(16), object(1)\n",
            "memory usage: 288.5+ MB\n"
          ]
        }
      ]
    },
    {
      "cell_type": "code",
      "source": [
        "X_train = df_train.copy()\n",
        "X_test = df_test.copy()"
      ],
      "metadata": {
        "id": "EY2S5D2R_QWd"
      },
      "execution_count": 17,
      "outputs": []
    },
    {
      "cell_type": "code",
      "source": [
        "int_cols = X_train.select_dtypes(include=['int']).columns.tolist()\n",
        "float_cols = X_train.select_dtypes(include=['float']).columns.tolist()\n",
        "obj_cols = X_train.select_dtypes(include=['object']).columns.tolist()\n",
        "\n",
        "X_train[int_cols] = X_train[int_cols].astype(\"int32\")\n",
        "X_train[float_cols] = X_train[float_cols].astype(\"float32\")\n",
        "X_train[obj_cols] = X_train[obj_cols].astype(\"string\")\n",
        "\n",
        "X_test[int_cols] = X_test[int_cols].astype(\"int32\")\n",
        "X_test[float_cols] = X_test[float_cols].astype(\"float32\")\n",
        "X_test[obj_cols] = X_test[obj_cols].astype(\"string\")"
      ],
      "metadata": {
        "id": "ouO2Yf1qpNiT"
      },
      "execution_count": 18,
      "outputs": []
    },
    {
      "cell_type": "code",
      "source": [
        "X_train.shape, X_test.shape"
      ],
      "metadata": {
        "id": "2HEN6SUz_TL1",
        "colab": {
          "base_uri": "https://localhost:8080/"
        },
        "outputId": "35d15cc9-83c5-4065-cf15-ee585715dd26"
      },
      "execution_count": 19,
      "outputs": [
        {
          "output_type": "execute_result",
          "data": {
            "text/plain": [
              "((2100934, 17), (3644, 17))"
            ]
          },
          "metadata": {},
          "execution_count": 19
        }
      ]
    },
    {
      "cell_type": "code",
      "source": [
        "X_train.info()"
      ],
      "metadata": {
        "id": "yb2Obgb13vdo",
        "colab": {
          "base_uri": "https://localhost:8080/"
        },
        "outputId": "184121c3-55c1-498d-84d1-4567326c4573"
      },
      "execution_count": 20,
      "outputs": [
        {
          "output_type": "stream",
          "name": "stdout",
          "text": [
            "<class 'pandas.core.frame.DataFrame'>\n",
            "Index: 2100934 entries, 0 to 2100933\n",
            "Data columns (total 17 columns):\n",
            " #   Column     Dtype  \n",
            "---  ------     -----  \n",
            " 0   p_num      string \n",
            " 1   PC_1       float32\n",
            " 2   PC_2       float32\n",
            " 3   PC_3       float32\n",
            " 4   PC_4       float32\n",
            " 5   enc_08_v6  float32\n",
            " 6   enc_07_v7  float32\n",
            " 7   enc_03_v7  float32\n",
            " 8   enc_01_v5  float32\n",
            " 9   enc_02_v5  float32\n",
            " 10  enc_03_v5  float32\n",
            " 11  enc_04_v5  float32\n",
            " 12  enc_05_v5  float32\n",
            " 13  enc_06_v5  float32\n",
            " 14  enc_07_v5  float32\n",
            " 15  enc_08_v5  float32\n",
            " 16  bg+1:00    float32\n",
            "dtypes: float32(16), string(1)\n",
            "memory usage: 160.3 MB\n"
          ]
        }
      ]
    },
    {
      "cell_type": "markdown",
      "source": [
        "# **2.0 Neural Network Preparation:**"
      ],
      "metadata": {
        "id": "UG_hd3oiJkiV"
      }
    },
    {
      "cell_type": "markdown",
      "source": [
        "###### **FUNCTIONS**"
      ],
      "metadata": {
        "id": "AXJUGUchhk-4"
      }
    },
    {
      "cell_type": "code",
      "source": [
        "def residual_block(input_tensor, filters, kernel_size, strides=1):\n",
        "    x = layers.Conv1D(filters, kernel_size, strides=strides, padding='same')(input_tensor)\n",
        "    x = layers.LayerNormalization()(x)\n",
        "    x = layers.Activation('relu')(x)\n",
        "    x = layers.SpatialDropout1D(0.2)(x)\n",
        "\n",
        "    # Residual connection\n",
        "    if strides > 1 or input_tensor.shape[-1] != filters:\n",
        "        residual = layers.Conv1D(filters, 1, strides=strides, padding='same')(input_tensor)\n",
        "    else:\n",
        "        residual = input_tensor\n",
        "\n",
        "    x = layers.add([x, residual])\n",
        "    x = layers.MaxPooling1D(pool_size=2)(x)\n",
        "    return x\n",
        "\n",
        "def dense_block(cells, dropout=0.3,activation=\"selu\", reg=0.0, name=None, normalization_type='batch'):\n",
        "  if activation == \"selu\":\n",
        "    block = keras.Sequential(name=name)\n",
        "    block.add(Dense(cells,\n",
        "                    activity_regularizer=keras.regularizers.l2(reg),\n",
        "                    name=f\"{name}_dense\",\n",
        "                    kernel_initializer=\"lecun_normal\"))\n",
        "\n",
        "    if normalization_type == 'batch':\n",
        "      block.add(layers.BatchNormalization(name=f\"{name}_bn\"))\n",
        "    elif normalization_type == 'layer':\n",
        "      block.add(layers.LayerNormalization(name=f\"{name}_ln\"))\n",
        "    else:\n",
        "      raise ValueError(\"Invalid normalization_type. Choose 'batch' or 'layer'.\")\n",
        "\n",
        "    block.add(layers.Activation(activation, name=f\"{name}_activ\"))\n",
        "    block.add(layers.AlphaDropout(dropout, name=f\"{name}_do_alpha\"))\n",
        "\n",
        "  else:\n",
        "    block = keras.Sequential(name=name)\n",
        "    block.add(Dense(cells,\n",
        "                    activity_regularizer=keras.regularizers.l2(reg),\n",
        "                    name=f\"{name}_dense\",\n",
        "                    kernel_initializer=\"he_normal\"))\n",
        "\n",
        "    if normalization_type == 'batch':\n",
        "      block.add(layers.BatchNormalization(name=f\"{name}_bn\"))\n",
        "    elif normalization_type == 'layer':\n",
        "      block.add(layers.LayerNormalization(name=f\"{name}_ln\"))\n",
        "    else:\n",
        "      raise ValueError(\"Invalid normalization_type. Choose 'batch' or 'layer'.\")\n",
        "\n",
        "    block.add(layers.Activation(activation, name=f\"{name}_activ\"))\n",
        "    block.add(layers.Dropout(dropout, name=f\"{name}_do\"))\n",
        "\n",
        "  return block\n",
        "\n",
        "def residual_block_dense(input_tensor, units, normalization_type='batch', dropout_rate=0.2,activation='relu', name=\"block\",reg=0.0):\n",
        "    \"\"\"\n",
        "    Creates a residual block with dense layers.\n",
        "\n",
        "    Args:\n",
        "      input_tensor: Input tensor to the block.\n",
        "      units: Number of units in the dense layer.\n",
        "      normalization_type: Type of normalization to use ('batch' or 'layer').\n",
        "      dropout_rate: Dropout rate for the dropout layer.\n",
        "\n",
        "    Returns:\n",
        "      Output tensor of the block.\n",
        "    \"\"\"\n",
        "\n",
        "    x = layers.Dense(units, activation=activation,name=f\"dense_01_{name}\",activity_regularizer=keras.regularizers.l2(reg))(input_tensor)\n",
        "    if normalization_type == 'batch':\n",
        "        x = layers.BatchNormalization(name=f\"bn_01_{name}\")(x)\n",
        "    elif normalization_type == 'layer':\n",
        "        x = layers.LayerNormalization(name=f\"ln_01_{name}\")(x)\n",
        "    else:\n",
        "        raise ValueError(\"Invalid normalization_type. Choose 'batch' or 'layer'.\")\n",
        "    x = layers.Dropout(dropout_rate,name=f\"do_01_{name}\")(x)\n",
        "\n",
        "    # Residual connection\n",
        "    if input_tensor.shape[-1] != units:\n",
        "        residual = layers.Dense(units,name=f\"dense_02_{name}\")(input_tensor)\n",
        "    else:\n",
        "        residual = input_tensor\n",
        "\n",
        "    x = layers.add([x, residual],name=f\"add_01_{name}\")\n",
        "    return x"
      ],
      "metadata": {
        "id": "S7kURNoAheCR"
      },
      "execution_count": 24,
      "outputs": []
    },
    {
      "cell_type": "markdown",
      "source": [
        "## **2.1 MODEL 01**"
      ],
      "metadata": {
        "id": "XhpN5CyY8FpI"
      }
    },
    {
      "cell_type": "markdown",
      "source": [
        "### 2.1.1 Create Dataloader:"
      ],
      "metadata": {
        "id": "R0DhCJeVotb8"
      }
    },
    {
      "cell_type": "code",
      "source": [
        "gc.collect()"
      ],
      "metadata": {
        "id": "1I2oq5LHqUs8",
        "colab": {
          "base_uri": "https://localhost:8080/"
        },
        "outputId": "7cd15530-1e14-4dd7-a0f4-41e6e34a7e95"
      },
      "execution_count": 25,
      "outputs": [
        {
          "output_type": "execute_result",
          "data": {
            "text/plain": [
              "0"
            ]
          },
          "metadata": {},
          "execution_count": 25
        }
      ]
    },
    {
      "cell_type": "code",
      "source": [
        "def dataframe_to_dataset(dataframe_, shuffle=False, batch_size=32):\n",
        "    dataframe = dataframe_.copy()\n",
        "    target = dataframe[\"bg+1:00\"]\n",
        "    dataframe = dataframe.drop(columns=[\"bg+1:00\"])\n",
        "    tab_data = dataframe.drop(columns=[\"p_num\"])\n",
        "\n",
        "    ds = tf.data.Dataset.from_tensor_slices(((dataframe[\"p_num\"].values,  # First input\n",
        "                                              tab_data.values), # Second input\n",
        "                                              target))\n",
        "\n",
        "    if shuffle:\n",
        "      ds = ds.shuffle(buffer_size=len(dataframe))\n",
        "\n",
        "    ds = ds.batch(batch_size)\n",
        "    ds = ds.prefetch(batch_size)\n",
        "\n",
        "    return ds"
      ],
      "metadata": {
        "id": "r4eag5z1pJhy"
      },
      "execution_count": 26,
      "outputs": []
    },
    {
      "cell_type": "code",
      "source": [
        "train_ds = dataframe_to_dataset(X_train,batch_size=1)"
      ],
      "metadata": {
        "id": "IlhbQu21y0um"
      },
      "execution_count": 27,
      "outputs": []
    },
    {
      "cell_type": "markdown",
      "source": [
        "* **TEST THE DATALOADER:**"
      ],
      "metadata": {
        "id": "vjaS-Nx74rFl"
      }
    },
    {
      "cell_type": "code",
      "source": [
        "for (x0, x1), y in train_ds.take(1):\n",
        "    print(x0.shape)\n",
        "    print(x1.shape)\n",
        "    print(y.shape)"
      ],
      "metadata": {
        "id": "8PK43bpz2qdG",
        "colab": {
          "base_uri": "https://localhost:8080/"
        },
        "outputId": "c89b1b41-b2eb-42f4-8a09-a613a87b12f6"
      },
      "execution_count": 28,
      "outputs": [
        {
          "output_type": "stream",
          "name": "stdout",
          "text": [
            "(1,)\n",
            "(1, 15)\n",
            "(1,)\n"
          ]
        }
      ]
    },
    {
      "cell_type": "code",
      "source": [
        "X_train.info()"
      ],
      "metadata": {
        "id": "AuvXa0GH40YH",
        "colab": {
          "base_uri": "https://localhost:8080/"
        },
        "outputId": "46447f65-cc09-4bae-ff7e-2ec72c2b3790"
      },
      "execution_count": 29,
      "outputs": [
        {
          "output_type": "stream",
          "name": "stdout",
          "text": [
            "<class 'pandas.core.frame.DataFrame'>\n",
            "Index: 2100934 entries, 0 to 2100933\n",
            "Data columns (total 17 columns):\n",
            " #   Column     Dtype  \n",
            "---  ------     -----  \n",
            " 0   p_num      string \n",
            " 1   PC_1       float32\n",
            " 2   PC_2       float32\n",
            " 3   PC_3       float32\n",
            " 4   PC_4       float32\n",
            " 5   enc_08_v6  float32\n",
            " 6   enc_07_v7  float32\n",
            " 7   enc_03_v7  float32\n",
            " 8   enc_01_v5  float32\n",
            " 9   enc_02_v5  float32\n",
            " 10  enc_03_v5  float32\n",
            " 11  enc_04_v5  float32\n",
            " 12  enc_05_v5  float32\n",
            " 13  enc_06_v5  float32\n",
            " 14  enc_07_v5  float32\n",
            " 15  enc_08_v5  float32\n",
            " 16  bg+1:00    float32\n",
            "dtypes: float32(16), string(1)\n",
            "memory usage: 160.3 MB\n"
          ]
        }
      ]
    },
    {
      "cell_type": "markdown",
      "source": [
        "### **2.1.3 Create Models:**"
      ],
      "metadata": {
        "id": "u63MJMKkTDnv"
      }
    },
    {
      "cell_type": "code",
      "source": [
        "def create_model_v0(vocabulary=vocabulary_pnum,\n",
        "                    dense_layers=[256,128,128,64],\n",
        "                    dropout=0.3,\n",
        "                    activation=\"selu\",\n",
        "                    reg=0.0,\n",
        "                    lr=0.001,\n",
        "                    noise=0.05,\n",
        "                    summary=False):\n",
        "\n",
        "  # --- Tabular Data Processing ---\n",
        "  # Input layer for tabular data as a dictionary\n",
        "\n",
        "  pnum_input = keras.Input(shape=(1,), name=\"pnum_input\", dtype=\"string\")\n",
        "\n",
        "  # Lookup Layer for the p_num:\n",
        "  lookup = layers.StringLookup(vocabulary=vocabulary,mask_token=None,num_oov_indices=1,\n",
        "                output_mode=\"int\", name=\"lookup_pnum\")\n",
        "  pnum_encoded = lookup(pnum_input)\n",
        "\n",
        "  # Embedding layers for hour and minute\n",
        "  pnum_encoded_embedding = layers.Embedding(input_dim=len(vocabulary)+1,\n",
        "                                            output_dim=5,\n",
        "                                            name=\"embed_pnum\")(pnum_encoded)\n",
        "  # Flatten the embeddings\n",
        "  pnum_flat = layers.Flatten()(pnum_encoded_embedding)\n",
        "\n",
        "  # Input layer for Tabular Data\n",
        "  tab_data = keras.Input(shape=(15,), name=\"tab_input\")\n",
        "\n",
        "  # Concatenate all tabular features\n",
        "  x = layers.concatenate([tab_data, pnum_flat])\n",
        "  x = layers.BatchNormalization()(x)\n",
        "\n",
        "  x = layers.GaussianNoise(stddev=noise, seed=42, name=\"gn_00\")(x)\n",
        "  tabular_output = x\n",
        "  tabular_output = layers.Dropout(dropout, name=\"bb_00\")(tabular_output)\n",
        "\n",
        "  # Dense layers for tabular data\n",
        "  for num, den in enumerate(dense_layers):\n",
        "    tabular_output = dense_block(den,dropout=dropout,activation=activation, reg=reg, name=f\"block_{num}\")(tabular_output)\n",
        "\n",
        "\n",
        "  tabular_output = layers.concatenate([x, tabular_output])\n",
        "  # --- Output Layer ---\n",
        "  # Final dense layer for prediction\n",
        "  output = layers.Dense(1, name=\"output\")(tabular_output)\n",
        "\n",
        "  # --- Create and Compile the Model ---\n",
        "  # Create the model\n",
        "  model = keras.Model(inputs=[pnum_input, tab_data], outputs=output)\n",
        "  optimizer= keras.optimizers.Adam(learning_rate=lr)\n",
        "  metric = RootMeanSquaredError(name=\"rmse\", dtype=None)\n",
        "  metric_mae = MeanAbsoluteError(name=\"mae\", dtype=None)\n",
        "\n",
        "  # Compile the model\n",
        "  model.compile(optimizer=optimizer, loss=\"mse\", metrics=[metric,metric_mae])\n",
        "\n",
        "  # Print model summary\n",
        "  if summary==True:\n",
        "    model.summary()\n",
        "\n",
        "  return model\n",
        "\n",
        "model = create_model_v0(vocabulary=vocabulary_pnum,summary=True)"
      ],
      "metadata": {
        "id": "yAHTpsL-STbN",
        "colab": {
          "base_uri": "https://localhost:8080/",
          "height": 714
        },
        "outputId": "9b724b24-3d27-4ae4-b90d-c8a1d0be286b"
      },
      "execution_count": 80,
      "outputs": [
        {
          "output_type": "display_data",
          "data": {
            "text/plain": [
              "\u001b[1mModel: \"functional_133\"\u001b[0m\n"
            ],
            "text/html": [
              "<pre style=\"white-space:pre;overflow-x:auto;line-height:normal;font-family:Menlo,'DejaVu Sans Mono',consolas,'Courier New',monospace\"><span style=\"font-weight: bold\">Model: \"functional_133\"</span>\n",
              "</pre>\n"
            ]
          },
          "metadata": {}
        },
        {
          "output_type": "display_data",
          "data": {
            "text/plain": [
              "┏━━━━━━━━━━━━━━━━━━━━━━━━━━━┳━━━━━━━━━━━━━━━━━━━━━━━━┳━━━━━━━━━━━━━━━━┳━━━━━━━━━━━━━━━━━━━━━━━━┓\n",
              "┃\u001b[1m \u001b[0m\u001b[1mLayer (type)             \u001b[0m\u001b[1m \u001b[0m┃\u001b[1m \u001b[0m\u001b[1mOutput Shape          \u001b[0m\u001b[1m \u001b[0m┃\u001b[1m \u001b[0m\u001b[1m       Param #\u001b[0m\u001b[1m \u001b[0m┃\u001b[1m \u001b[0m\u001b[1mConnected to          \u001b[0m\u001b[1m \u001b[0m┃\n",
              "┡━━━━━━━━━━━━━━━━━━━━━━━━━━━╇━━━━━━━━━━━━━━━━━━━━━━━━╇━━━━━━━━━━━━━━━━╇━━━━━━━━━━━━━━━━━━━━━━━━┩\n",
              "│ pnum_input (\u001b[38;5;33mInputLayer\u001b[0m)   │ (\u001b[38;5;45mNone\u001b[0m, \u001b[38;5;34m1\u001b[0m)              │              \u001b[38;5;34m0\u001b[0m │ -                      │\n",
              "├───────────────────────────┼────────────────────────┼────────────────┼────────────────────────┤\n",
              "│ lookup_pnum               │ (\u001b[38;5;45mNone\u001b[0m, \u001b[38;5;34m1\u001b[0m)              │              \u001b[38;5;34m0\u001b[0m │ pnum_input[\u001b[38;5;34m0\u001b[0m][\u001b[38;5;34m0\u001b[0m]       │\n",
              "│ (\u001b[38;5;33mStringLookup\u001b[0m)            │                        │                │                        │\n",
              "├───────────────────────────┼────────────────────────┼────────────────┼────────────────────────┤\n",
              "│ embed_pnum (\u001b[38;5;33mEmbedding\u001b[0m)    │ (\u001b[38;5;45mNone\u001b[0m, \u001b[38;5;34m1\u001b[0m, \u001b[38;5;34m5\u001b[0m)           │             \u001b[38;5;34m85\u001b[0m │ lookup_pnum[\u001b[38;5;34m0\u001b[0m][\u001b[38;5;34m0\u001b[0m]      │\n",
              "├───────────────────────────┼────────────────────────┼────────────────┼────────────────────────┤\n",
              "│ tab_input (\u001b[38;5;33mInputLayer\u001b[0m)    │ (\u001b[38;5;45mNone\u001b[0m, \u001b[38;5;34m15\u001b[0m)             │              \u001b[38;5;34m0\u001b[0m │ -                      │\n",
              "├───────────────────────────┼────────────────────────┼────────────────┼────────────────────────┤\n",
              "│ flatten_32 (\u001b[38;5;33mFlatten\u001b[0m)      │ (\u001b[38;5;45mNone\u001b[0m, \u001b[38;5;34m5\u001b[0m)              │              \u001b[38;5;34m0\u001b[0m │ embed_pnum[\u001b[38;5;34m0\u001b[0m][\u001b[38;5;34m0\u001b[0m]       │\n",
              "├───────────────────────────┼────────────────────────┼────────────────┼────────────────────────┤\n",
              "│ concatenate_64            │ (\u001b[38;5;45mNone\u001b[0m, \u001b[38;5;34m20\u001b[0m)             │              \u001b[38;5;34m0\u001b[0m │ tab_input[\u001b[38;5;34m0\u001b[0m][\u001b[38;5;34m0\u001b[0m],       │\n",
              "│ (\u001b[38;5;33mConcatenate\u001b[0m)             │                        │                │ flatten_32[\u001b[38;5;34m0\u001b[0m][\u001b[38;5;34m0\u001b[0m]       │\n",
              "├───────────────────────────┼────────────────────────┼────────────────┼────────────────────────┤\n",
              "│ batch_normalization_32    │ (\u001b[38;5;45mNone\u001b[0m, \u001b[38;5;34m20\u001b[0m)             │             \u001b[38;5;34m80\u001b[0m │ concatenate_64[\u001b[38;5;34m0\u001b[0m][\u001b[38;5;34m0\u001b[0m]   │\n",
              "│ (\u001b[38;5;33mBatchNormalization\u001b[0m)      │                        │                │                        │\n",
              "├───────────────────────────┼────────────────────────┼────────────────┼────────────────────────┤\n",
              "│ gn_00 (\u001b[38;5;33mGaussianNoise\u001b[0m)     │ (\u001b[38;5;45mNone\u001b[0m, \u001b[38;5;34m20\u001b[0m)             │              \u001b[38;5;34m0\u001b[0m │ batch_normalization_3… │\n",
              "├───────────────────────────┼────────────────────────┼────────────────┼────────────────────────┤\n",
              "│ bb_00 (\u001b[38;5;33mDropout\u001b[0m)           │ (\u001b[38;5;45mNone\u001b[0m, \u001b[38;5;34m20\u001b[0m)             │              \u001b[38;5;34m0\u001b[0m │ gn_00[\u001b[38;5;34m0\u001b[0m][\u001b[38;5;34m0\u001b[0m]            │\n",
              "├───────────────────────────┼────────────────────────┼────────────────┼────────────────────────┤\n",
              "│ block_0 (\u001b[38;5;33mSequential\u001b[0m)      │ (\u001b[38;5;45mNone\u001b[0m, \u001b[38;5;34m256\u001b[0m)            │          \u001b[38;5;34m6,400\u001b[0m │ bb_00[\u001b[38;5;34m0\u001b[0m][\u001b[38;5;34m0\u001b[0m]            │\n",
              "├───────────────────────────┼────────────────────────┼────────────────┼────────────────────────┤\n",
              "│ block_1 (\u001b[38;5;33mSequential\u001b[0m)      │ (\u001b[38;5;45mNone\u001b[0m, \u001b[38;5;34m128\u001b[0m)            │         \u001b[38;5;34m33,408\u001b[0m │ block_0[\u001b[38;5;34m0\u001b[0m][\u001b[38;5;34m0\u001b[0m]          │\n",
              "├───────────────────────────┼────────────────────────┼────────────────┼────────────────────────┤\n",
              "│ block_2 (\u001b[38;5;33mSequential\u001b[0m)      │ (\u001b[38;5;45mNone\u001b[0m, \u001b[38;5;34m128\u001b[0m)            │         \u001b[38;5;34m17,024\u001b[0m │ block_1[\u001b[38;5;34m0\u001b[0m][\u001b[38;5;34m0\u001b[0m]          │\n",
              "├───────────────────────────┼────────────────────────┼────────────────┼────────────────────────┤\n",
              "│ block_3 (\u001b[38;5;33mSequential\u001b[0m)      │ (\u001b[38;5;45mNone\u001b[0m, \u001b[38;5;34m64\u001b[0m)             │          \u001b[38;5;34m8,512\u001b[0m │ block_2[\u001b[38;5;34m0\u001b[0m][\u001b[38;5;34m0\u001b[0m]          │\n",
              "├───────────────────────────┼────────────────────────┼────────────────┼────────────────────────┤\n",
              "│ concatenate_65            │ (\u001b[38;5;45mNone\u001b[0m, \u001b[38;5;34m84\u001b[0m)             │              \u001b[38;5;34m0\u001b[0m │ gn_00[\u001b[38;5;34m0\u001b[0m][\u001b[38;5;34m0\u001b[0m],           │\n",
              "│ (\u001b[38;5;33mConcatenate\u001b[0m)             │                        │                │ block_3[\u001b[38;5;34m0\u001b[0m][\u001b[38;5;34m0\u001b[0m]          │\n",
              "├───────────────────────────┼────────────────────────┼────────────────┼────────────────────────┤\n",
              "│ output (\u001b[38;5;33mDense\u001b[0m)            │ (\u001b[38;5;45mNone\u001b[0m, \u001b[38;5;34m1\u001b[0m)              │             \u001b[38;5;34m85\u001b[0m │ concatenate_65[\u001b[38;5;34m0\u001b[0m][\u001b[38;5;34m0\u001b[0m]   │\n",
              "└───────────────────────────┴────────────────────────┴────────────────┴────────────────────────┘\n"
            ],
            "text/html": [
              "<pre style=\"white-space:pre;overflow-x:auto;line-height:normal;font-family:Menlo,'DejaVu Sans Mono',consolas,'Courier New',monospace\">┏━━━━━━━━━━━━━━━━━━━━━━━━━━━┳━━━━━━━━━━━━━━━━━━━━━━━━┳━━━━━━━━━━━━━━━━┳━━━━━━━━━━━━━━━━━━━━━━━━┓\n",
              "┃<span style=\"font-weight: bold\"> Layer (type)              </span>┃<span style=\"font-weight: bold\"> Output Shape           </span>┃<span style=\"font-weight: bold\">        Param # </span>┃<span style=\"font-weight: bold\"> Connected to           </span>┃\n",
              "┡━━━━━━━━━━━━━━━━━━━━━━━━━━━╇━━━━━━━━━━━━━━━━━━━━━━━━╇━━━━━━━━━━━━━━━━╇━━━━━━━━━━━━━━━━━━━━━━━━┩\n",
              "│ pnum_input (<span style=\"color: #0087ff; text-decoration-color: #0087ff\">InputLayer</span>)   │ (<span style=\"color: #00d7ff; text-decoration-color: #00d7ff\">None</span>, <span style=\"color: #00af00; text-decoration-color: #00af00\">1</span>)              │              <span style=\"color: #00af00; text-decoration-color: #00af00\">0</span> │ -                      │\n",
              "├───────────────────────────┼────────────────────────┼────────────────┼────────────────────────┤\n",
              "│ lookup_pnum               │ (<span style=\"color: #00d7ff; text-decoration-color: #00d7ff\">None</span>, <span style=\"color: #00af00; text-decoration-color: #00af00\">1</span>)              │              <span style=\"color: #00af00; text-decoration-color: #00af00\">0</span> │ pnum_input[<span style=\"color: #00af00; text-decoration-color: #00af00\">0</span>][<span style=\"color: #00af00; text-decoration-color: #00af00\">0</span>]       │\n",
              "│ (<span style=\"color: #0087ff; text-decoration-color: #0087ff\">StringLookup</span>)            │                        │                │                        │\n",
              "├───────────────────────────┼────────────────────────┼────────────────┼────────────────────────┤\n",
              "│ embed_pnum (<span style=\"color: #0087ff; text-decoration-color: #0087ff\">Embedding</span>)    │ (<span style=\"color: #00d7ff; text-decoration-color: #00d7ff\">None</span>, <span style=\"color: #00af00; text-decoration-color: #00af00\">1</span>, <span style=\"color: #00af00; text-decoration-color: #00af00\">5</span>)           │             <span style=\"color: #00af00; text-decoration-color: #00af00\">85</span> │ lookup_pnum[<span style=\"color: #00af00; text-decoration-color: #00af00\">0</span>][<span style=\"color: #00af00; text-decoration-color: #00af00\">0</span>]      │\n",
              "├───────────────────────────┼────────────────────────┼────────────────┼────────────────────────┤\n",
              "│ tab_input (<span style=\"color: #0087ff; text-decoration-color: #0087ff\">InputLayer</span>)    │ (<span style=\"color: #00d7ff; text-decoration-color: #00d7ff\">None</span>, <span style=\"color: #00af00; text-decoration-color: #00af00\">15</span>)             │              <span style=\"color: #00af00; text-decoration-color: #00af00\">0</span> │ -                      │\n",
              "├───────────────────────────┼────────────────────────┼────────────────┼────────────────────────┤\n",
              "│ flatten_32 (<span style=\"color: #0087ff; text-decoration-color: #0087ff\">Flatten</span>)      │ (<span style=\"color: #00d7ff; text-decoration-color: #00d7ff\">None</span>, <span style=\"color: #00af00; text-decoration-color: #00af00\">5</span>)              │              <span style=\"color: #00af00; text-decoration-color: #00af00\">0</span> │ embed_pnum[<span style=\"color: #00af00; text-decoration-color: #00af00\">0</span>][<span style=\"color: #00af00; text-decoration-color: #00af00\">0</span>]       │\n",
              "├───────────────────────────┼────────────────────────┼────────────────┼────────────────────────┤\n",
              "│ concatenate_64            │ (<span style=\"color: #00d7ff; text-decoration-color: #00d7ff\">None</span>, <span style=\"color: #00af00; text-decoration-color: #00af00\">20</span>)             │              <span style=\"color: #00af00; text-decoration-color: #00af00\">0</span> │ tab_input[<span style=\"color: #00af00; text-decoration-color: #00af00\">0</span>][<span style=\"color: #00af00; text-decoration-color: #00af00\">0</span>],       │\n",
              "│ (<span style=\"color: #0087ff; text-decoration-color: #0087ff\">Concatenate</span>)             │                        │                │ flatten_32[<span style=\"color: #00af00; text-decoration-color: #00af00\">0</span>][<span style=\"color: #00af00; text-decoration-color: #00af00\">0</span>]       │\n",
              "├───────────────────────────┼────────────────────────┼────────────────┼────────────────────────┤\n",
              "│ batch_normalization_32    │ (<span style=\"color: #00d7ff; text-decoration-color: #00d7ff\">None</span>, <span style=\"color: #00af00; text-decoration-color: #00af00\">20</span>)             │             <span style=\"color: #00af00; text-decoration-color: #00af00\">80</span> │ concatenate_64[<span style=\"color: #00af00; text-decoration-color: #00af00\">0</span>][<span style=\"color: #00af00; text-decoration-color: #00af00\">0</span>]   │\n",
              "│ (<span style=\"color: #0087ff; text-decoration-color: #0087ff\">BatchNormalization</span>)      │                        │                │                        │\n",
              "├───────────────────────────┼────────────────────────┼────────────────┼────────────────────────┤\n",
              "│ gn_00 (<span style=\"color: #0087ff; text-decoration-color: #0087ff\">GaussianNoise</span>)     │ (<span style=\"color: #00d7ff; text-decoration-color: #00d7ff\">None</span>, <span style=\"color: #00af00; text-decoration-color: #00af00\">20</span>)             │              <span style=\"color: #00af00; text-decoration-color: #00af00\">0</span> │ batch_normalization_3… │\n",
              "├───────────────────────────┼────────────────────────┼────────────────┼────────────────────────┤\n",
              "│ bb_00 (<span style=\"color: #0087ff; text-decoration-color: #0087ff\">Dropout</span>)           │ (<span style=\"color: #00d7ff; text-decoration-color: #00d7ff\">None</span>, <span style=\"color: #00af00; text-decoration-color: #00af00\">20</span>)             │              <span style=\"color: #00af00; text-decoration-color: #00af00\">0</span> │ gn_00[<span style=\"color: #00af00; text-decoration-color: #00af00\">0</span>][<span style=\"color: #00af00; text-decoration-color: #00af00\">0</span>]            │\n",
              "├───────────────────────────┼────────────────────────┼────────────────┼────────────────────────┤\n",
              "│ block_0 (<span style=\"color: #0087ff; text-decoration-color: #0087ff\">Sequential</span>)      │ (<span style=\"color: #00d7ff; text-decoration-color: #00d7ff\">None</span>, <span style=\"color: #00af00; text-decoration-color: #00af00\">256</span>)            │          <span style=\"color: #00af00; text-decoration-color: #00af00\">6,400</span> │ bb_00[<span style=\"color: #00af00; text-decoration-color: #00af00\">0</span>][<span style=\"color: #00af00; text-decoration-color: #00af00\">0</span>]            │\n",
              "├───────────────────────────┼────────────────────────┼────────────────┼────────────────────────┤\n",
              "│ block_1 (<span style=\"color: #0087ff; text-decoration-color: #0087ff\">Sequential</span>)      │ (<span style=\"color: #00d7ff; text-decoration-color: #00d7ff\">None</span>, <span style=\"color: #00af00; text-decoration-color: #00af00\">128</span>)            │         <span style=\"color: #00af00; text-decoration-color: #00af00\">33,408</span> │ block_0[<span style=\"color: #00af00; text-decoration-color: #00af00\">0</span>][<span style=\"color: #00af00; text-decoration-color: #00af00\">0</span>]          │\n",
              "├───────────────────────────┼────────────────────────┼────────────────┼────────────────────────┤\n",
              "│ block_2 (<span style=\"color: #0087ff; text-decoration-color: #0087ff\">Sequential</span>)      │ (<span style=\"color: #00d7ff; text-decoration-color: #00d7ff\">None</span>, <span style=\"color: #00af00; text-decoration-color: #00af00\">128</span>)            │         <span style=\"color: #00af00; text-decoration-color: #00af00\">17,024</span> │ block_1[<span style=\"color: #00af00; text-decoration-color: #00af00\">0</span>][<span style=\"color: #00af00; text-decoration-color: #00af00\">0</span>]          │\n",
              "├───────────────────────────┼────────────────────────┼────────────────┼────────────────────────┤\n",
              "│ block_3 (<span style=\"color: #0087ff; text-decoration-color: #0087ff\">Sequential</span>)      │ (<span style=\"color: #00d7ff; text-decoration-color: #00d7ff\">None</span>, <span style=\"color: #00af00; text-decoration-color: #00af00\">64</span>)             │          <span style=\"color: #00af00; text-decoration-color: #00af00\">8,512</span> │ block_2[<span style=\"color: #00af00; text-decoration-color: #00af00\">0</span>][<span style=\"color: #00af00; text-decoration-color: #00af00\">0</span>]          │\n",
              "├───────────────────────────┼────────────────────────┼────────────────┼────────────────────────┤\n",
              "│ concatenate_65            │ (<span style=\"color: #00d7ff; text-decoration-color: #00d7ff\">None</span>, <span style=\"color: #00af00; text-decoration-color: #00af00\">84</span>)             │              <span style=\"color: #00af00; text-decoration-color: #00af00\">0</span> │ gn_00[<span style=\"color: #00af00; text-decoration-color: #00af00\">0</span>][<span style=\"color: #00af00; text-decoration-color: #00af00\">0</span>],           │\n",
              "│ (<span style=\"color: #0087ff; text-decoration-color: #0087ff\">Concatenate</span>)             │                        │                │ block_3[<span style=\"color: #00af00; text-decoration-color: #00af00\">0</span>][<span style=\"color: #00af00; text-decoration-color: #00af00\">0</span>]          │\n",
              "├───────────────────────────┼────────────────────────┼────────────────┼────────────────────────┤\n",
              "│ output (<span style=\"color: #0087ff; text-decoration-color: #0087ff\">Dense</span>)            │ (<span style=\"color: #00d7ff; text-decoration-color: #00d7ff\">None</span>, <span style=\"color: #00af00; text-decoration-color: #00af00\">1</span>)              │             <span style=\"color: #00af00; text-decoration-color: #00af00\">85</span> │ concatenate_65[<span style=\"color: #00af00; text-decoration-color: #00af00\">0</span>][<span style=\"color: #00af00; text-decoration-color: #00af00\">0</span>]   │\n",
              "└───────────────────────────┴────────────────────────┴────────────────┴────────────────────────┘\n",
              "</pre>\n"
            ]
          },
          "metadata": {}
        },
        {
          "output_type": "display_data",
          "data": {
            "text/plain": [
              "\u001b[1m Total params: \u001b[0m\u001b[38;5;34m65,594\u001b[0m (256.23 KB)\n"
            ],
            "text/html": [
              "<pre style=\"white-space:pre;overflow-x:auto;line-height:normal;font-family:Menlo,'DejaVu Sans Mono',consolas,'Courier New',monospace\"><span style=\"font-weight: bold\"> Total params: </span><span style=\"color: #00af00; text-decoration-color: #00af00\">65,594</span> (256.23 KB)\n",
              "</pre>\n"
            ]
          },
          "metadata": {}
        },
        {
          "output_type": "display_data",
          "data": {
            "text/plain": [
              "\u001b[1m Trainable params: \u001b[0m\u001b[38;5;34m64,402\u001b[0m (251.57 KB)\n"
            ],
            "text/html": [
              "<pre style=\"white-space:pre;overflow-x:auto;line-height:normal;font-family:Menlo,'DejaVu Sans Mono',consolas,'Courier New',monospace\"><span style=\"font-weight: bold\"> Trainable params: </span><span style=\"color: #00af00; text-decoration-color: #00af00\">64,402</span> (251.57 KB)\n",
              "</pre>\n"
            ]
          },
          "metadata": {}
        },
        {
          "output_type": "display_data",
          "data": {
            "text/plain": [
              "\u001b[1m Non-trainable params: \u001b[0m\u001b[38;5;34m1,192\u001b[0m (4.66 KB)\n"
            ],
            "text/html": [
              "<pre style=\"white-space:pre;overflow-x:auto;line-height:normal;font-family:Menlo,'DejaVu Sans Mono',consolas,'Courier New',monospace\"><span style=\"font-weight: bold\"> Non-trainable params: </span><span style=\"color: #00af00; text-decoration-color: #00af00\">1,192</span> (4.66 KB)\n",
              "</pre>\n"
            ]
          },
          "metadata": {}
        }
      ]
    },
    {
      "cell_type": "code",
      "source": [
        "plot_model(model, show_shapes=True, show_layer_names=True, rankdir=\"LR\", expand_nested=True, show_layer_activations=True)"
      ],
      "metadata": {
        "id": "j9ga93XT9a_W",
        "colab": {
          "base_uri": "https://localhost:8080/",
          "height": 70
        },
        "outputId": "ba4ff910-ca21-4c0f-f0d1-12a4f51a009c"
      },
      "execution_count": 81,
      "outputs": [
        {
          "output_type": "execute_result",
          "data": {
            "image/png": "[encoded data removed]",
            "text/plain": [
              "<IPython.core.display.Image object>"
            ]
          },
          "metadata": {},
          "execution_count": 81
        }
      ]
    },
    {
      "cell_type": "markdown",
      "source": [
        "### 2.1.4 Training Functions:"
      ],
      "metadata": {
        "id": "1BAk6TqcIpqu"
      }
    },
    {
      "cell_type": "markdown",
      "source": [
        "#### Main Function:"
      ],
      "metadata": {
        "id": "DXquRNpNdBdH"
      }
    },
    {
      "cell_type": "code",
      "source": [
        "def run_experiment(X_train, X_test, model_constructor, best_params, experiment_name=\"baseline_nn_ext\", rs=42, target=\"bg+1:00\",\n",
        "                   batch_size=64, num_epochs=200, learning_rate=0.001, n_splits = 5, n_repeats = 5, vocabulary=vocabulary_pnum):\n",
        "\n",
        "  test_predictions = np.zeros((len(X_test),1))\n",
        "  test_results_df = pd.DataFrame(index=X_test.index, columns=list(range(n_repeats*n_splits)))\n",
        "  train_results_df = pd.DataFrame(index=X_train.index, columns=list(range(n_repeats*n_splits)))\n",
        "\n",
        "  all_mse = []\n",
        "  all_rmse = []\n",
        "\n",
        "  rskf = RepeatedStratifiedKFold(n_splits=n_splits, n_repeats=n_repeats, random_state=36851234)\n",
        "\n",
        "  for i, (train_index, val_index) in enumerate(rskf.split(X_train, X_train[\"p_num\"])):\n",
        "      print(f\"\\nRunning CV {i}\\n\")\n",
        "      X, val_X = X_train.iloc[train_index], X_train.iloc[val_index]\n",
        "      y, val_y = X_train[target].iloc[train_index], X_train[target].iloc[val_index]\n",
        "      X_test = X_test.copy()\n",
        "      #################################################################### Prepare Datasets loaders:\n",
        "      train_dataset = dataframe_to_dataset(X, batch_size=batch_size, shuffle=True)\n",
        "      valid_dataset = dataframe_to_dataset(val_X, batch_size=batch_size, shuffle=False)\n",
        "      test_dataset = dataframe_to_dataset(X_test, batch_size=batch_size, shuffle=False)\n",
        "\n",
        "      ##################################################################### Relevant Folders\n",
        "      folders_experiment = f\"/content/drive/MyDrive/Exercises/Studies_Structured_Data/Models/Glucose/{experiment_name}_{i}/\"\n",
        "      ##################################################################### Generate and Fit Model\n",
        "      # Callbacks:\n",
        "      checkpoint_filepath = folders_experiment + f'checkpoint/{experiment_name}_{i}.weights.h5'\n",
        "\n",
        "      # Generate the Model:\n",
        "      model = model_constructor(vocabulary=vocabulary,\n",
        "                                lr = learning_rate,\n",
        "                                **best_params)\n",
        "      if i>=0:\n",
        "        print(\"Start training the model...\")\n",
        "\n",
        "        history = model.fit(train_dataset,\n",
        "                            epochs=num_epochs,\n",
        "                            callbacks=[keras.callbacks.EarlyStopping(monitor='val_rmse', patience=5, mode=\"min\",\n",
        "                                                      start_from_epoch=5,restore_best_weights=True),\n",
        "                                      keras.callbacks.ModelCheckpoint(filepath=checkpoint_filepath,\n",
        "                                                        save_weights_only=True,\n",
        "                                                        monitor=\"val_rmse\",\n",
        "                                                        mode='min',\n",
        "                                                        save_best_only=True),\n",
        "                                      keras.callbacks.ReduceLROnPlateau(monitor='val_rmse', factor=0.5,\n",
        "                                                              patience=3, min_lr=0.0001, mode=\"min\")],\n",
        "                            validation_data=valid_dataset)\n",
        "\n",
        "        print(\"Model training finished\")\n",
        "\n",
        "      model.load_weights(checkpoint_filepath)\n",
        "      model.evaluate(valid_dataset, verbose=0)\n",
        "\n",
        "      if i>=0:\n",
        "        plot_training_session(history)\n",
        "\n",
        "      oof_res = model.predict(valid_dataset)\n",
        "      test_pred = model.predict(test_dataset)\n",
        "\n",
        "      print(f\"Out-of-Fold Shapes: {val_y.shape},{oof_res.shape}\")\n",
        "\n",
        "      rmse_score = root_mean_squared_error(val_y, oof_res)\n",
        "\n",
        "\n",
        "      fig, axs = plt.subplots(1,1, figsize=(10,4))\n",
        "      axs.scatter(oof_res, val_y)\n",
        "      axs.set_title(f\"Out-of-Fold RMSE Score: {round(rmse_score, 3)}%\")\n",
        "      plt.tight_layout()\n",
        "      plt.show()\n",
        "\n",
        "      print(f\"Out-of-Fold RMSE Score: {round(rmse_score, 3)}%\")\n",
        "\n",
        "      ##################################################################### Save the Model\n",
        "      model.save(f\"{folders_experiment}/model_{experiment_name}.keras\")\n",
        "\n",
        "      ##################################################################### Create Model Output\n",
        "      test_results_df.loc[:,i] = test_pred\n",
        "      all_rmse.append(round(rmse_score, 3))\n",
        "\n",
        "      #############\n",
        "      train_results_df.iloc[val_index,i] = oof_res.flatten()\n",
        "\n",
        "      gc.collect()\n",
        "\n",
        "    ##################################################################### Create Model Output\n",
        "  print(f\"All Valuation RMSE: {all_rmse}\")\n",
        "\n",
        "  return test_results_df, train_results_df"
      ],
      "metadata": {
        "id": "07SlowwyTEoM"
      },
      "execution_count": 82,
      "outputs": []
    },
    {
      "cell_type": "markdown",
      "source": [
        "#### Keras Tuner:"
      ],
      "metadata": {
        "id": "wI0zCTwudEQ6"
      }
    },
    {
      "cell_type": "code",
      "source": [
        "tuning_on=False\n",
        "gc.collect()"
      ],
      "metadata": {
        "id": "Nr8CAgyscjdD",
        "colab": {
          "base_uri": "https://localhost:8080/"
        },
        "outputId": "7e506a15-b11f-45b8-d006-d82ba9d3524a"
      },
      "execution_count": 83,
      "outputs": [
        {
          "output_type": "execute_result",
          "data": {
            "text/plain": [
              "32812"
            ]
          },
          "metadata": {},
          "execution_count": 83
        }
      ]
    },
    {
      "cell_type": "markdown",
      "source": [
        " Select a Validation set:"
      ],
      "metadata": {
        "id": "L430zzRRyk2L"
      }
    },
    {
      "cell_type": "code",
      "source": [
        "if tuning_on==True:\n",
        "  Xt, Xv = train_test_split(X_train, test_size=0.20, random_state=42, stratify=X_train['p_num'])\n",
        "\n",
        "  print(f\"Train Shape: {Xt.shape}, Val Shape: {Xv.shape}\")"
      ],
      "metadata": {
        "id": "MwP6-tQiyhnK"
      },
      "execution_count": 84,
      "outputs": []
    },
    {
      "cell_type": "code",
      "source": [
        "if tuning_on==True:\n",
        "  vocabulary = Xt[\"p_num\"].unique().tolist()\n",
        "\n",
        "  train_dataset = dataframe_to_dataset(Xt, batch_size=512, shuffle=True)\n",
        "  valid_dataset = dataframe_to_dataset(Xv, batch_size=512, shuffle=False)"
      ],
      "metadata": {
        "id": "efgE7LA5xyn7"
      },
      "execution_count": null,
      "outputs": []
    },
    {
      "cell_type": "code",
      "source": [
        "if tuning_on==True:\n",
        "  # Define the hyperparameter search space: EXPERIMENT 1\n",
        "  hp = kt.HyperParameters()\n",
        "  hp.Choice('activation', [\"relu\",\"silu\",\"gelu\",\"selu\"])\n",
        "  hp.Float('dropout',0.15,0.40, step=0.025)\n",
        "#  hp.Float('noise',0.05,0.1, step=0.025)\n",
        "  hp.Float('reg',0.0001, 1.0,step=10,sampling=\"log\")\n",
        "  hp.Choice('num_dense_blocks', values=[1,2,3,4])\n",
        "  hp.Choice('units_dense', values=[128,256,512])"
      ],
      "metadata": {
        "id": "y0GrdW7W1X_d"
      },
      "execution_count": null,
      "outputs": []
    },
    {
      "cell_type": "code",
      "source": [
        "def create_turner_model(hp):\n",
        "\n",
        "  model = create_model_v0(vocabulary=vocabulary,\n",
        "                          dense_layers=[hp.get('units_dense')]+[int(hp.get('units_dense')/2)]*hp.get('num_dense_blocks')+[int(hp.get('units_dense')/4)],\n",
        "                          dropout=hp.get('dropout'),\n",
        "                          activation=hp.get('activation'),\n",
        "                          noise=0, #hp.get('noise'),\n",
        "                          reg=hp.get('reg'),\n",
        "                          lr=0.0025)\n",
        "  return model"
      ],
      "metadata": {
        "id": "rFJpjVGB1hns"
      },
      "execution_count": null,
      "outputs": []
    },
    {
      "cell_type": "code",
      "source": [
        "if tuning_on==True:\n",
        "  # Create a tuner and search for the best hyperparameters\n",
        "  tuner = BayesianOptimization(create_turner_model,\n",
        "                              objective=kt.Objective(\"val_rmse\", \"min\"),\n",
        "                              hyperparameters=hp, max_trials=50, overwrite=True)\n",
        "\n",
        "  stop_early = tf.keras.callbacks.EarlyStopping(monitor='val_rmse', patience=7, mode=\"min\", start_from_epoch=5)\n",
        "  reduce_ = tf.keras.callbacks.ReduceLROnPlateau(monitor='val_rmse', factor=0.5, patience=3, min_lr=0.0001, mode=\"min\")\n",
        "\n",
        "  tuner.search(train_dataset, validation_data=valid_dataset, epochs=16, callbacks=[stop_early,reduce_])"
      ],
      "metadata": {
        "id": "2x6sqh_27UzV"
      },
      "execution_count": null,
      "outputs": []
    },
    {
      "cell_type": "markdown",
      "source": [
        "\n",
        "    val_rmse: 1.7364014387130737\n",
        "\n",
        "    Best val_rmse So Far: 1.736088514328003\n",
        "    Total elapsed time: 05h 27m 20s\n",
        "\n",
        "    Search: Running Trial #32\n",
        "\n",
        "    Value             |Best Value So Far |Hyperparameter\n",
        "    relu              |silu              |activation\n",
        "    0.375             |0.35              |dropout\n",
        "    0.01              |0.001             |reg\n",
        "    4                 |1                 |num_dense_blocks\n",
        "    128               |512               |units_dense\n"
      ],
      "metadata": {
        "id": "rPLbcXNg-igM"
      }
    },
    {
      "cell_type": "code",
      "source": [
        "if tuning_on==True:\n",
        "  tuner.results_summary(num_trials=10)"
      ],
      "metadata": {
        "id": "oC-pdn7J7ok4"
      },
      "execution_count": null,
      "outputs": []
    },
    {
      "cell_type": "code",
      "source": [
        "if tuning_on==True:\n",
        "  print(tuner.get_best_hyperparameters(4)[0].values)\n",
        "  print(tuner.get_best_hyperparameters(4)[1].values)\n",
        "  print(tuner.get_best_hyperparameters(4)[2].values)\n",
        "  print(tuner.get_best_hyperparameters(4)[3].values)"
      ],
      "metadata": {
        "id": "n8X6MeDZDMZt"
      },
      "execution_count": null,
      "outputs": []
    },
    {
      "cell_type": "markdown",
      "source": [
        "* {'activation': 'gelu', 'dropout': 0.15, 'reg': 0.0001, 'num_dense_blocks': 1, 'units_dense': 128}\n",
        "* {'activation': 'silu', 'dropout': 0.35, 'reg': 0.001, 'num_dense_blocks': 1, 'units_dense': 512}\n",
        "* {'activation': 'relu', 'dropout': 0.375, 'reg': 0.0001, 'num_dense_blocks': 1, 'units_dense': 512}\n",
        "* {'activation': 'relu', 'dropout': 0.175, 'reg': 0.1, 'num_dense_blocks': 3, 'units_dense': 128}\n",
        "\n",
        "* Trial 47 summary\n",
        "Hyperparameters:\n",
        "activation: gelu\n",
        "dropout: 0.15\n",
        "reg: 0.0001\n",
        "num_dense_blocks: 1\n",
        "units_dense: 128\n",
        "Score: 1.727567195892334\n",
        "\n",
        "* Trial 11 summary\n",
        "Hyperparameters:\n",
        "activation: silu\n",
        "dropout: 0.35\n",
        "reg: 0.001\n",
        "num_dense_blocks: 1\n",
        "units_dense: 512\n",
        "Score: 1.736088514328003\n",
        "\n",
        "* Trial 35 summary\n",
        "Hyperparameters:\n",
        "activation: relu\n",
        "dropout: 0.375\n",
        "reg: 0.0001\n",
        "num_dense_blocks: 1\n",
        "units_dense: 512\n",
        "Score: 1.7361124753952026\n",
        "\n",
        "* Trial 13 summary\n",
        "Hyperparameters:\n",
        "activation: relu\n",
        "dropout: 0.175\n",
        "reg: 0.1\n",
        "num_dense_blocks: 3\n",
        "units_dense: 128\n",
        "Score: 1.7361220121383667\n",
        "\n",
        "* Trial 14 summary\n",
        "Hyperparameters:\n",
        "activation: gelu\n",
        "dropout: 0.275\n",
        "reg: 0.001\n",
        "num_dense_blocks: 1\n",
        "units_dense: 512\n",
        "Score: 1.7361259460449219\n",
        "\n",
        "* Trial 26 summary\n",
        "Hyperparameters:\n",
        "activation: selu\n",
        "dropout: 0.375\n",
        "reg: 0.0001\n",
        "num_dense_blocks: 4\n",
        "units_dense: 128\n",
        "Score: 1.7361326217651367"
      ],
      "metadata": {
        "id": "12Yp7qG0sZVD"
      }
    },
    {
      "cell_type": "markdown",
      "source": [
        "#### Fit The Model:"
      ],
      "metadata": {
        "id": "9EZ3DWOkad4M"
      }
    },
    {
      "cell_type": "code",
      "source": [
        "#del df_train_scaled #Xt, Xv, train_dataset, valid_dataset, stop_early, reduce_#, tuner\n",
        "gc.collect()"
      ],
      "metadata": {
        "id": "DFYsNJS1JV0z",
        "colab": {
          "base_uri": "https://localhost:8080/"
        },
        "outputId": "8942475f-7077-4b21-c17d-735729a96ed1"
      },
      "execution_count": 85,
      "outputs": [
        {
          "output_type": "execute_result",
          "data": {
            "text/plain": [
              "0"
            ]
          },
          "metadata": {},
          "execution_count": 85
        }
      ]
    },
    {
      "cell_type": "code",
      "source": [
        "bas = 512\n",
        "rep=1\n",
        "[bas]+[int(bas/2)]*rep+[int(bas/4)]"
      ],
      "metadata": {
        "id": "wENu5cDm1aCj",
        "colab": {
          "base_uri": "https://localhost:8080/"
        },
        "outputId": "2f7330f7-586b-4fb5-8ce6-d78e37cf7ff5"
      },
      "execution_count": 86,
      "outputs": [
        {
          "output_type": "execute_result",
          "data": {
            "text/plain": [
              "[512, 256, 128]"
            ]
          },
          "metadata": {},
          "execution_count": 86
        }
      ]
    },
    {
      "cell_type": "code",
      "source": [
        "#best_params = tuner.get_best_hyperparameters(1)[0].values\n",
        "best_params = {'activation': 'gelu', 'dropout': 0.15, 'reg': 0.0001, 'dense_layers': [128,64,32]}"
      ],
      "metadata": {
        "id": "irgz7SIZai2w"
      },
      "execution_count": 87,
      "outputs": []
    },
    {
      "cell_type": "code",
      "source": [
        "test_results_df, train_results_df = run_experiment(X_train, X_test, create_model_v0, best_params, experiment_name = \"baseline_nn_ext_v1_st\",\n",
        "                                                  rs=42, target=\"bg+1:00\", batch_size=512, num_epochs=51, learning_rate=0.0005,\n",
        "                                                  n_splits = 3, n_repeats = 3, vocabulary = vocabulary_pnum)"
      ],
      "metadata": {
        "id": "ocfx0fVAbBWY",
        "colab": {
          "base_uri": "https://localhost:8080/"
        },
        "outputId": "1fc0a757-20b8-4524-9fa7-c7d8383b996d"
      },
      "execution_count": null,
      "outputs": [
        {
          "output_type": "stream",
          "name": "stdout",
          "text": [
            "\n",
            "Running CV 0\n",
            "\n",
            "Start training the model...\n",
            "Epoch 1/51\n",
            "\u001b[1m2736/2736\u001b[0m \u001b[32m━━━━━━━━━━━━━━━━━━━━\u001b[0m\u001b[37m\u001b[0m \u001b[1m30s\u001b[0m 9ms/step - loss: 28.2307 - mae: 3.6827 - rmse: 4.5234 - val_loss: 3.4675 - val_mae: 1.3298 - val_rmse: 1.7760 - learning_rate: 5.0000e-04\n",
            "Epoch 2/51\n",
            "\u001b[1m2736/2736\u001b[0m \u001b[32m━━━━━━━━━━━━━━━━━━━━\u001b[0m\u001b[37m\u001b[0m \u001b[1m27s\u001b[0m 9ms/step - loss: 4.1277 - mae: 1.4218 - rmse: 1.8808 - val_loss: 3.1077 - val_mae: 1.3154 - val_rmse: 1.7425 - learning_rate: 5.0000e-04\n",
            "Epoch 3/51\n",
            "\u001b[1m 539/2736\u001b[0m \u001b[32m━━━\u001b[0m\u001b[37m━━━━━━━━━━━━━━━━━\u001b[0m \u001b[1m16s\u001b[0m 8ms/step - loss: 3.3772 - mae: 1.3320 - rmse: 1.7736"
          ]
        }
      ]
    },
    {
      "cell_type": "markdown",
      "source": [
        "All Valuation RMSE: [2.195, 1.99, 2.329, 0.841]"
      ],
      "metadata": {
        "id": "2Ga0QcN4L9eI"
      }
    },
    {
      "cell_type": "code",
      "source": [
        "test_results_df[\"average\"] = test_results_df.mean(axis=1)\n",
        "test_results_df"
      ],
      "metadata": {
        "id": "Z1RU13t1Rcv_",
        "colab": {
          "base_uri": "https://localhost:8080/",
          "height": 455
        },
        "outputId": "aec40945-233e-482c-d4d1-3ba508b1f0e3"
      },
      "execution_count": 73,
      "outputs": [
        {
          "output_type": "execute_result",
          "data": {
            "text/plain": [
              "                  0          1          2          3          4          5  \\\n",
              "id                                                                           \n",
              "p01_8459   8.848373   8.903002   8.860553   8.889656   8.878826   8.863218   \n",
              "p01_8460   5.563031   5.577963   5.566676    5.57617   5.588692   5.568149   \n",
              "p01_8461   7.207617    7.23446   7.243155   7.236979   7.229363    7.24275   \n",
              "p01_8462  11.518343  11.563049  11.525309  11.544525  11.554214  11.484241   \n",
              "p01_8463   9.869789   9.865456    9.86862   9.873691   9.886178   9.866946   \n",
              "...             ...        ...        ...        ...        ...        ...   \n",
              "p24_256    6.689117   6.701316   6.692891   6.702381   6.674063   6.726082   \n",
              "p24_257    9.865062   9.873592   9.859715   9.872499   9.842977   9.880026   \n",
              "p24_258    6.772366    6.79455   6.778962   6.790651   6.748796    6.80763   \n",
              "p24_259    8.729940   8.739238   8.729273   8.740011   8.711364   8.769938   \n",
              "p24_260    8.154770   8.162971   8.148566   8.168055   8.146137   8.168556   \n",
              "\n",
              "                  6          7          8    average  \n",
              "id                                                    \n",
              "p01_8459   8.962282    8.85846    8.84907   8.879271  \n",
              "p01_8460   5.553587   5.574951   5.559049   5.569808  \n",
              "p01_8461   7.299594   7.221388   7.189621   7.233881  \n",
              "p01_8462  11.552438  11.523395  11.514884  11.531155  \n",
              "p01_8463   9.863821   9.854857   9.861893   9.867917  \n",
              "...             ...        ...        ...        ...  \n",
              "p24_256     6.72667   6.680921   6.656568   6.694446  \n",
              "p24_257     9.91264   9.838357   9.823168   9.863115  \n",
              "p24_258    6.834802   6.764647   6.728942    6.78015  \n",
              "p24_259    8.769886    8.71972   8.698701    8.73423  \n",
              "p24_260    8.164345   8.139411   8.110343   8.151461  \n",
              "\n",
              "[3644 rows x 10 columns]"
            ],
            "text/html": [
              "\n",
              "  <div id=\"df-de7b50fe-1461-45eb-8abb-dd0d15558084\" class=\"colab-df-container\">\n",
              "    <div>\n",
              "<style scoped>\n",
              "    .dataframe tbody tr th:only-of-type {\n",
              "        vertical-align: middle;\n",
              "    }\n",
              "\n",
              "    .dataframe tbody tr th {\n",
              "        vertical-align: top;\n",
              "    }\n",
              "\n",
              "    .dataframe thead th {\n",
              "        text-align: right;\n",
              "    }\n",
              "</style>\n",
              "<table border=\"1\" class=\"dataframe\">\n",
              "  <thead>\n",
              "    <tr style=\"text-align: right;\">\n",
              "      <th></th>\n",
              "      <th>0</th>\n",
              "      <th>1</th>\n",
              "      <th>2</th>\n",
              "      <th>3</th>\n",
              "      <th>4</th>\n",
              "      <th>5</th>\n",
              "      <th>6</th>\n",
              "      <th>7</th>\n",
              "      <th>8</th>\n",
              "      <th>average</th>\n",
              "    </tr>\n",
              "    <tr>\n",
              "      <th>id</th>\n",
              "      <th></th>\n",
              "      <th></th>\n",
              "      <th></th>\n",
              "      <th></th>\n",
              "      <th></th>\n",
              "      <th></th>\n",
              "      <th></th>\n",
              "      <th></th>\n",
              "      <th></th>\n",
              "      <th></th>\n",
              "    </tr>\n",
              "  </thead>\n",
              "  <tbody>\n",
              "    <tr>\n",
              "      <th>p01_8459</th>\n",
              "      <td>8.848373</td>\n",
              "      <td>8.903002</td>\n",
              "      <td>8.860553</td>\n",
              "      <td>8.889656</td>\n",
              "      <td>8.878826</td>\n",
              "      <td>8.863218</td>\n",
              "      <td>8.962282</td>\n",
              "      <td>8.85846</td>\n",
              "      <td>8.84907</td>\n",
              "      <td>8.879271</td>\n",
              "    </tr>\n",
              "    <tr>\n",
              "      <th>p01_8460</th>\n",
              "      <td>5.563031</td>\n",
              "      <td>5.577963</td>\n",
              "      <td>5.566676</td>\n",
              "      <td>5.57617</td>\n",
              "      <td>5.588692</td>\n",
              "      <td>5.568149</td>\n",
              "      <td>5.553587</td>\n",
              "      <td>5.574951</td>\n",
              "      <td>5.559049</td>\n",
              "      <td>5.569808</td>\n",
              "    </tr>\n",
              "    <tr>\n",
              "      <th>p01_8461</th>\n",
              "      <td>7.207617</td>\n",
              "      <td>7.23446</td>\n",
              "      <td>7.243155</td>\n",
              "      <td>7.236979</td>\n",
              "      <td>7.229363</td>\n",
              "      <td>7.24275</td>\n",
              "      <td>7.299594</td>\n",
              "      <td>7.221388</td>\n",
              "      <td>7.189621</td>\n",
              "      <td>7.233881</td>\n",
              "    </tr>\n",
              "    <tr>\n",
              "      <th>p01_8462</th>\n",
              "      <td>11.518343</td>\n",
              "      <td>11.563049</td>\n",
              "      <td>11.525309</td>\n",
              "      <td>11.544525</td>\n",
              "      <td>11.554214</td>\n",
              "      <td>11.484241</td>\n",
              "      <td>11.552438</td>\n",
              "      <td>11.523395</td>\n",
              "      <td>11.514884</td>\n",
              "      <td>11.531155</td>\n",
              "    </tr>\n",
              "    <tr>\n",
              "      <th>p01_8463</th>\n",
              "      <td>9.869789</td>\n",
              "      <td>9.865456</td>\n",
              "      <td>9.86862</td>\n",
              "      <td>9.873691</td>\n",
              "      <td>9.886178</td>\n",
              "      <td>9.866946</td>\n",
              "      <td>9.863821</td>\n",
              "      <td>9.854857</td>\n",
              "      <td>9.861893</td>\n",
              "      <td>9.867917</td>\n",
              "    </tr>\n",
              "    <tr>\n",
              "      <th>...</th>\n",
              "      <td>...</td>\n",
              "      <td>...</td>\n",
              "      <td>...</td>\n",
              "      <td>...</td>\n",
              "      <td>...</td>\n",
              "      <td>...</td>\n",
              "      <td>...</td>\n",
              "      <td>...</td>\n",
              "      <td>...</td>\n",
              "      <td>...</td>\n",
              "    </tr>\n",
              "    <tr>\n",
              "      <th>p24_256</th>\n",
              "      <td>6.689117</td>\n",
              "      <td>6.701316</td>\n",
              "      <td>6.692891</td>\n",
              "      <td>6.702381</td>\n",
              "      <td>6.674063</td>\n",
              "      <td>6.726082</td>\n",
              "      <td>6.72667</td>\n",
              "      <td>6.680921</td>\n",
              "      <td>6.656568</td>\n",
              "      <td>6.694446</td>\n",
              "    </tr>\n",
              "    <tr>\n",
              "      <th>p24_257</th>\n",
              "      <td>9.865062</td>\n",
              "      <td>9.873592</td>\n",
              "      <td>9.859715</td>\n",
              "      <td>9.872499</td>\n",
              "      <td>9.842977</td>\n",
              "      <td>9.880026</td>\n",
              "      <td>9.91264</td>\n",
              "      <td>9.838357</td>\n",
              "      <td>9.823168</td>\n",
              "      <td>9.863115</td>\n",
              "    </tr>\n",
              "    <tr>\n",
              "      <th>p24_258</th>\n",
              "      <td>6.772366</td>\n",
              "      <td>6.79455</td>\n",
              "      <td>6.778962</td>\n",
              "      <td>6.790651</td>\n",
              "      <td>6.748796</td>\n",
              "      <td>6.80763</td>\n",
              "      <td>6.834802</td>\n",
              "      <td>6.764647</td>\n",
              "      <td>6.728942</td>\n",
              "      <td>6.78015</td>\n",
              "    </tr>\n",
              "    <tr>\n",
              "      <th>p24_259</th>\n",
              "      <td>8.729940</td>\n",
              "      <td>8.739238</td>\n",
              "      <td>8.729273</td>\n",
              "      <td>8.740011</td>\n",
              "      <td>8.711364</td>\n",
              "      <td>8.769938</td>\n",
              "      <td>8.769886</td>\n",
              "      <td>8.71972</td>\n",
              "      <td>8.698701</td>\n",
              "      <td>8.73423</td>\n",
              "    </tr>\n",
              "    <tr>\n",
              "      <th>p24_260</th>\n",
              "      <td>8.154770</td>\n",
              "      <td>8.162971</td>\n",
              "      <td>8.148566</td>\n",
              "      <td>8.168055</td>\n",
              "      <td>8.146137</td>\n",
              "      <td>8.168556</td>\n",
              "      <td>8.164345</td>\n",
              "      <td>8.139411</td>\n",
              "      <td>8.110343</td>\n",
              "      <td>8.151461</td>\n",
              "    </tr>\n",
              "  </tbody>\n",
              "</table>\n",
              "<p>3644 rows × 10 columns</p>\n",
              "</div>\n",
              "    <div class=\"colab-df-buttons\">\n",
              "\n",
              "  <div class=\"colab-df-container\">\n",
              "    <button class=\"colab-df-convert\" onclick=\"convertToInteractive('df-de7b50fe-1461-45eb-8abb-dd0d15558084')\"\n",
              "            title=\"Convert this dataframe to an interactive table.\"\n",
              "            style=\"display:none;\">\n",
              "\n",
              "  <svg xmlns=\"http://www.w3.org/2000/svg\" height=\"24px\" viewBox=\"0 -960 960 960\">\n",
              "    <path d=\"M120-120v-720h720v720H120Zm60-500h600v-160H180v160Zm220 220h160v-160H400v160Zm0 220h160v-160H400v160ZM180-400h160v-160H180v160Zm440 0h160v-160H620v160ZM180-180h160v-160H180v160Zm440 0h160v-160H620v160Z\"/>\n",
              "  </svg>\n",
              "    </button>\n",
              "\n",
              "  <style>\n",
              "    .colab-df-container {\n",
              "      display:flex;\n",
              "      gap: 12px;\n",
              "    }\n",
              "\n",
              "    .colab-df-convert {\n",
              "      background-color: #E8F0FE;\n",
              "      border: none;\n",
              "      border-radius: 50%;\n",
              "      cursor: pointer;\n",
              "      display: none;\n",
              "      fill: #1967D2;\n",
              "      height: 32px;\n",
              "      padding: 0 0 0 0;\n",
              "      width: 32px;\n",
              "    }\n",
              "\n",
              "    .colab-df-convert:hover {\n",
              "      background-color: #E2EBFA;\n",
              "      box-shadow: 0px 1px 2px rgba(60, 64, 67, 0.3), 0px 1px 3px 1px rgba(60, 64, 67, 0.15);\n",
              "      fill: #174EA6;\n",
              "    }\n",
              "\n",
              "    .colab-df-buttons div {\n",
              "      margin-bottom: 4px;\n",
              "    }\n",
              "\n",
              "    [theme=dark] .colab-df-convert {\n",
              "      background-color: #3B4455;\n",
              "      fill: #D2E3FC;\n",
              "    }\n",
              "\n",
              "    [theme=dark] .colab-df-convert:hover {\n",
              "      background-color: #434B5C;\n",
              "      box-shadow: 0px 1px 3px 1px rgba(0, 0, 0, 0.15);\n",
              "      filter: drop-shadow(0px 1px 2px rgba(0, 0, 0, 0.3));\n",
              "      fill: #FFFFFF;\n",
              "    }\n",
              "  </style>\n",
              "\n",
              "    <script>\n",
              "      const buttonEl =\n",
              "        document.querySelector('#df-de7b50fe-1461-45eb-8abb-dd0d15558084 button.colab-df-convert');\n",
              "      buttonEl.style.display =\n",
              "        google.colab.kernel.accessAllowed ? 'block' : 'none';\n",
              "\n",
              "      async function convertToInteractive(key) {\n",
              "        const element = document.querySelector('#df-de7b50fe-1461-45eb-8abb-dd0d15558084');\n",
              "        const dataTable =\n",
              "          await google.colab.kernel.invokeFunction('convertToInteractive',\n",
              "                                                    [key], {});\n",
              "        if (!dataTable) return;\n",
              "\n",
              "        const docLinkHtml = 'Like what you see? Visit the ' +\n",
              "          '<a target=\"_blank\" href=https://colab.research.google.com/notebooks/data_table.ipynb>data table notebook</a>'\n",
              "          + ' to learn more about interactive tables.';\n",
              "        element.innerHTML = '';\n",
              "        dataTable['output_type'] = 'display_data';\n",
              "        await google.colab.output.renderOutput(dataTable, element);\n",
              "        const docLink = document.createElement('div');\n",
              "        docLink.innerHTML = docLinkHtml;\n",
              "        element.appendChild(docLink);\n",
              "      }\n",
              "    </script>\n",
              "  </div>\n",
              "\n",
              "\n",
              "<div id=\"df-03c9bc69-d9a5-4d78-b789-574da374d754\">\n",
              "  <button class=\"colab-df-quickchart\" onclick=\"quickchart('df-03c9bc69-d9a5-4d78-b789-574da374d754')\"\n",
              "            title=\"Suggest charts\"\n",
              "            style=\"display:none;\">\n",
              "\n",
              "<svg xmlns=\"http://www.w3.org/2000/svg\" height=\"24px\"viewBox=\"0 0 24 24\"\n",
              "     width=\"24px\">\n",
              "    <g>\n",
              "        <path d=\"M19 3H5c-1.1 0-2 .9-2 2v14c0 1.1.9 2 2 2h14c1.1 0 2-.9 2-2V5c0-1.1-.9-2-2-2zM9 17H7v-7h2v7zm4 0h-2V7h2v10zm4 0h-2v-4h2v4z\"/>\n",
              "    </g>\n",
              "</svg>\n",
              "  </button>\n",
              "\n",
              "<style>\n",
              "  .colab-df-quickchart {\n",
              "      --bg-color: #E8F0FE;\n",
              "      --fill-color: #1967D2;\n",
              "      --hover-bg-color: #E2EBFA;\n",
              "      --hover-fill-color: #174EA6;\n",
              "      --disabled-fill-color: #AAA;\n",
              "      --disabled-bg-color: #DDD;\n",
              "  }\n",
              "\n",
              "  [theme=dark] .colab-df-quickchart {\n",
              "      --bg-color: #3B4455;\n",
              "      --fill-color: #D2E3FC;\n",
              "      --hover-bg-color: #434B5C;\n",
              "      --hover-fill-color: #FFFFFF;\n",
              "      --disabled-bg-color: #3B4455;\n",
              "      --disabled-fill-color: #666;\n",
              "  }\n",
              "\n",
              "  .colab-df-quickchart {\n",
              "    background-color: var(--bg-color);\n",
              "    border: none;\n",
              "    border-radius: 50%;\n",
              "    cursor: pointer;\n",
              "    display: none;\n",
              "    fill: var(--fill-color);\n",
              "    height: 32px;\n",
              "    padding: 0;\n",
              "    width: 32px;\n",
              "  }\n",
              "\n",
              "  .colab-df-quickchart:hover {\n",
              "    background-color: var(--hover-bg-color);\n",
              "    box-shadow: 0 1px 2px rgba(60, 64, 67, 0.3), 0 1px 3px 1px rgba(60, 64, 67, 0.15);\n",
              "    fill: var(--button-hover-fill-color);\n",
              "  }\n",
              "\n",
              "  .colab-df-quickchart-complete:disabled,\n",
              "  .colab-df-quickchart-complete:disabled:hover {\n",
              "    background-color: var(--disabled-bg-color);\n",
              "    fill: var(--disabled-fill-color);\n",
              "    box-shadow: none;\n",
              "  }\n",
              "\n",
              "  .colab-df-spinner {\n",
              "    border: 2px solid var(--fill-color);\n",
              "    border-color: transparent;\n",
              "    border-bottom-color: var(--fill-color);\n",
              "    animation:\n",
              "      spin 1s steps(1) infinite;\n",
              "  }\n",
              "\n",
              "  @keyframes spin {\n",
              "    0% {\n",
              "      border-color: transparent;\n",
              "      border-bottom-color: var(--fill-color);\n",
              "      border-left-color: var(--fill-color);\n",
              "    }\n",
              "    20% {\n",
              "      border-color: transparent;\n",
              "      border-left-color: var(--fill-color);\n",
              "      border-top-color: var(--fill-color);\n",
              "    }\n",
              "    30% {\n",
              "      border-color: transparent;\n",
              "      border-left-color: var(--fill-color);\n",
              "      border-top-color: var(--fill-color);\n",
              "      border-right-color: var(--fill-color);\n",
              "    }\n",
              "    40% {\n",
              "      border-color: transparent;\n",
              "      border-right-color: var(--fill-color);\n",
              "      border-top-color: var(--fill-color);\n",
              "    }\n",
              "    60% {\n",
              "      border-color: transparent;\n",
              "      border-right-color: var(--fill-color);\n",
              "    }\n",
              "    80% {\n",
              "      border-color: transparent;\n",
              "      border-right-color: var(--fill-color);\n",
              "      border-bottom-color: var(--fill-color);\n",
              "    }\n",
              "    90% {\n",
              "      border-color: transparent;\n",
              "      border-bottom-color: var(--fill-color);\n",
              "    }\n",
              "  }\n",
              "</style>\n",
              "\n",
              "  <script>\n",
              "    async function quickchart(key) {\n",
              "      const quickchartButtonEl =\n",
              "        document.querySelector('#' + key + ' button');\n",
              "      quickchartButtonEl.disabled = true;  // To prevent multiple clicks.\n",
              "      quickchartButtonEl.classList.add('colab-df-spinner');\n",
              "      try {\n",
              "        const charts = await google.colab.kernel.invokeFunction(\n",
              "            'suggestCharts', [key], {});\n",
              "      } catch (error) {\n",
              "        console.error('Error during call to suggestCharts:', error);\n",
              "      }\n",
              "      quickchartButtonEl.classList.remove('colab-df-spinner');\n",
              "      quickchartButtonEl.classList.add('colab-df-quickchart-complete');\n",
              "    }\n",
              "    (() => {\n",
              "      let quickchartButtonEl =\n",
              "        document.querySelector('#df-03c9bc69-d9a5-4d78-b789-574da374d754 button');\n",
              "      quickchartButtonEl.style.display =\n",
              "        google.colab.kernel.accessAllowed ? 'block' : 'none';\n",
              "    })();\n",
              "  </script>\n",
              "</div>\n",
              "\n",
              "  <div id=\"id_ada2b000-d09e-4f1d-a0be-a49d27af14c1\">\n",
              "    <style>\n",
              "      .colab-df-generate {\n",
              "        background-color: #E8F0FE;\n",
              "        border: none;\n",
              "        border-radius: 50%;\n",
              "        cursor: pointer;\n",
              "        display: none;\n",
              "        fill: #1967D2;\n",
              "        height: 32px;\n",
              "        padding: 0 0 0 0;\n",
              "        width: 32px;\n",
              "      }\n",
              "\n",
              "      .colab-df-generate:hover {\n",
              "        background-color: #E2EBFA;\n",
              "        box-shadow: 0px 1px 2px rgba(60, 64, 67, 0.3), 0px 1px 3px 1px rgba(60, 64, 67, 0.15);\n",
              "        fill: #174EA6;\n",
              "      }\n",
              "\n",
              "      [theme=dark] .colab-df-generate {\n",
              "        background-color: #3B4455;\n",
              "        fill: #D2E3FC;\n",
              "      }\n",
              "\n",
              "      [theme=dark] .colab-df-generate:hover {\n",
              "        background-color: #434B5C;\n",
              "        box-shadow: 0px 1px 3px 1px rgba(0, 0, 0, 0.15);\n",
              "        filter: drop-shadow(0px 1px 2px rgba(0, 0, 0, 0.3));\n",
              "        fill: #FFFFFF;\n",
              "      }\n",
              "    </style>\n",
              "    <button class=\"colab-df-generate\" onclick=\"generateWithVariable('test_results_df')\"\n",
              "            title=\"Generate code using this dataframe.\"\n",
              "            style=\"display:none;\">\n",
              "\n",
              "  <svg xmlns=\"http://www.w3.org/2000/svg\" height=\"24px\"viewBox=\"0 0 24 24\"\n",
              "       width=\"24px\">\n",
              "    <path d=\"M7,19H8.4L18.45,9,17,7.55,7,17.6ZM5,21V16.75L18.45,3.32a2,2,0,0,1,2.83,0l1.4,1.43a1.91,1.91,0,0,1,.58,1.4,1.91,1.91,0,0,1-.58,1.4L9.25,21ZM18.45,9,17,7.55Zm-12,3A5.31,5.31,0,0,0,4.9,8.1,5.31,5.31,0,0,0,1,6.5,5.31,5.31,0,0,0,4.9,4.9,5.31,5.31,0,0,0,6.5,1,5.31,5.31,0,0,0,8.1,4.9,5.31,5.31,0,0,0,12,6.5,5.46,5.46,0,0,0,6.5,12Z\"/>\n",
              "  </svg>\n",
              "    </button>\n",
              "    <script>\n",
              "      (() => {\n",
              "      const buttonEl =\n",
              "        document.querySelector('#id_ada2b000-d09e-4f1d-a0be-a49d27af14c1 button.colab-df-generate');\n",
              "      buttonEl.style.display =\n",
              "        google.colab.kernel.accessAllowed ? 'block' : 'none';\n",
              "\n",
              "      buttonEl.onclick = () => {\n",
              "        google.colab.notebook.generateWithVariable('test_results_df');\n",
              "      }\n",
              "      })();\n",
              "    </script>\n",
              "  </div>\n",
              "\n",
              "    </div>\n",
              "  </div>\n"
            ],
            "application/vnd.google.colaboratory.intrinsic+json": {
              "type": "dataframe",
              "variable_name": "test_results_df",
              "summary": "{\n  \"name\": \"test_results_df\",\n  \"rows\": 3644,\n  \"fields\": [\n    {\n      \"column\": \"id\",\n      \"properties\": {\n        \"dtype\": \"string\",\n        \"num_unique_values\": 3644,\n        \"samples\": [\n          \"p02_26043\",\n          \"p19_227\",\n          \"p22_12\"\n        ],\n        \"semantic_type\": \"\",\n        \"description\": \"\"\n      }\n    },\n    {\n      \"column\": 0,\n      \"properties\": {\n        \"dtype\": \"float32\",\n        \"num_unique_values\": 3642,\n        \"samples\": [\n          7.588434219360352,\n          7.3646087646484375,\n          4.121601581573486\n        ],\n        \"semantic_type\": \"\",\n        \"description\": \"\"\n      }\n    },\n    {\n      \"column\": 1,\n      \"properties\": {\n        \"dtype\": \"date\",\n        \"min\": 1.668880581855774,\n        \"max\": 22.439647674560547,\n        \"num_unique_values\": 3643,\n        \"samples\": [\n          7.598685264587402,\n          8.342308044433594,\n          7.664050102233887\n        ],\n        \"semantic_type\": \"\",\n        \"description\": \"\"\n      }\n    },\n    {\n      \"column\": 2,\n      \"properties\": {\n        \"dtype\": \"date\",\n        \"min\": 1.6067863702774048,\n        \"max\": 22.48223876953125,\n        \"num_unique_values\": 3644,\n        \"samples\": [\n          7.607097148895264,\n          8.113790512084961,\n          4.075253486633301\n        ],\n        \"semantic_type\": \"\",\n        \"description\": \"\"\n      }\n    },\n    {\n      \"column\": 3,\n      \"properties\": {\n        \"dtype\": \"date\",\n        \"min\": 1.663644790649414,\n        \"max\": 22.487873077392578,\n        \"num_unique_values\": 3644,\n        \"samples\": [\n          7.601897239685059,\n          8.130132675170898,\n          4.094827175140381\n        ],\n        \"semantic_type\": \"\",\n        \"description\": \"\"\n      }\n    },\n    {\n      \"column\": 4,\n      \"properties\": {\n        \"dtype\": \"date\",\n        \"min\": 1.6323256492614746,\n        \"max\": 22.504384994506836,\n        \"num_unique_values\": 3642,\n        \"samples\": [\n          7.601177215576172,\n          6.258246898651123,\n          7.755488395690918\n        ],\n        \"semantic_type\": \"\",\n        \"description\": \"\"\n      }\n    },\n    {\n      \"column\": 5,\n      \"properties\": {\n        \"dtype\": \"date\",\n        \"min\": 1.6129976511001587,\n        \"max\": 22.51519203186035,\n        \"num_unique_values\": 3643,\n        \"samples\": [\n          7.61118221282959,\n          8.36793041229248,\n          7.708222389221191\n        ],\n        \"semantic_type\": \"\",\n        \"description\": \"\"\n      }\n    },\n    {\n      \"column\": 6,\n      \"properties\": {\n        \"dtype\": \"date\",\n        \"min\": 1.6649937629699707,\n        \"max\": 22.413677215576172,\n        \"num_unique_values\": 3644,\n        \"samples\": [\n          7.616785049438477,\n          8.113543510437012,\n          4.0237956047058105\n        ],\n        \"semantic_type\": \"\",\n        \"description\": \"\"\n      }\n    },\n    {\n      \"column\": 7,\n      \"properties\": {\n        \"dtype\": \"date\",\n        \"min\": 1.6710541248321533,\n        \"max\": 22.47347640991211,\n        \"num_unique_values\": 3644,\n        \"samples\": [\n          7.602678298950195,\n          8.111292839050293,\n          4.096036911010742\n        ],\n        \"semantic_type\": \"\",\n        \"description\": \"\"\n      }\n    },\n    {\n      \"column\": 8,\n      \"properties\": {\n        \"dtype\": \"date\",\n        \"min\": 1.6168444156646729,\n        \"max\": 22.494140625,\n        \"num_unique_values\": 3643,\n        \"samples\": [\n          7.583803653717041,\n          8.361583709716797,\n          7.6988043785095215\n        ],\n        \"semantic_type\": \"\",\n        \"description\": \"\"\n      }\n    },\n    {\n      \"column\": \"average\",\n      \"properties\": {\n        \"dtype\": \"date\",\n        \"min\": 1.6422213315963745,\n        \"max\": 22.477771547105576,\n        \"num_unique_values\": 3644,\n        \"samples\": [\n          7.601304478115505,\n          8.10864183637831,\n          4.07818783654107\n        ],\n        \"semantic_type\": \"\",\n        \"description\": \"\"\n      }\n    }\n  ]\n}"
            }
          },
          "metadata": {},
          "execution_count": 73
        }
      ]
    },
    {
      "cell_type": "code",
      "source": [
        "fig, axs = plt.subplots(2,2, figsize=(10,4))\n",
        "axs = np.ravel(axs)\n",
        "\n",
        "axs[0].scatter(test_results_df[\"average\"], test_results_df[0])\n",
        "axs[0].set_title(\"Average Predictions vs. Val 0\")\n",
        "\n",
        "axs[1].scatter(test_results_df[\"average\"], test_results_df[1])\n",
        "axs[1].set_title(\"Average Predictions vs. Val 1\")\n",
        "\n",
        "axs[2].scatter(test_results_df[1], test_results_df[2])\n",
        "axs[2].set_title(\"Val 1 Predictions vs. Val 2\")\n",
        "\n",
        "axs[3].scatter(test_results_df[2], test_results_df[8])\n",
        "axs[3].set_title(\"Val 2 Predictions vs. Val 8\")\n",
        "\n",
        "plt.tight_layout()\n",
        "plt.show()"
      ],
      "metadata": {
        "id": "70r-Bd3KToSm",
        "colab": {
          "base_uri": "https://localhost:8080/",
          "height": 494
        },
        "outputId": "fceae7c0-c8c5-4d21-cc96-ff0ec561a4c4"
      },
      "execution_count": 74,
      "outputs": [
        {
          "output_type": "display_data",
          "data": {
            "text/plain": [
              "<Figure size 1200x480 with 4 Axes>"
            ],
            "image/png": "[encoded data removed]"
          },
          "metadata": {}
        }
      ]
    },
    {
      "cell_type": "markdown",
      "source": [
        "#### **STORE RESULTS**"
      ],
      "metadata": {
        "id": "BSgIWyqwSZW9"
      }
    },
    {
      "cell_type": "code",
      "source": [
        "sub = pd.read_csv(\"/content/drive/MyDrive/Exercises/Studies_Structured_Data/Data/Glucose/sample_submission.csv\")"
      ],
      "metadata": {
        "id": "UPNAlTPRSZW-"
      },
      "execution_count": 75,
      "outputs": []
    },
    {
      "cell_type": "code",
      "source": [
        "for i, col in enumerate(test_results_df.columns):\n",
        "  sub[\"bg+1:00\"] = test_results_df[col].values\n",
        "  sub.to_csv(f\"/content/drive/MyDrive/Exercises/Studies_Structured_Data/Data/Glucose/submissions/Submission_val_conv_v1_{col}_expanded_st.csv\", index=False)\n",
        "  print(sub.isna().sum())"
      ],
      "metadata": {
        "id": "acj0IArhSZW-",
        "colab": {
          "base_uri": "https://localhost:8080/"
        },
        "outputId": "cd21149f-95c9-48ea-82d7-653f0072d273"
      },
      "execution_count": 76,
      "outputs": [
        {
          "output_type": "stream",
          "name": "stdout",
          "text": [
            "id         0\n",
            "bg+1:00    0\n",
            "dtype: int64\n",
            "id         0\n",
            "bg+1:00    0\n",
            "dtype: int64\n",
            "id         0\n",
            "bg+1:00    0\n",
            "dtype: int64\n",
            "id         0\n",
            "bg+1:00    0\n",
            "dtype: int64\n",
            "id         0\n",
            "bg+1:00    0\n",
            "dtype: int64\n",
            "id         0\n",
            "bg+1:00    0\n",
            "dtype: int64\n",
            "id         0\n",
            "bg+1:00    0\n",
            "dtype: int64\n",
            "id         0\n",
            "bg+1:00    0\n",
            "dtype: int64\n",
            "id         0\n",
            "bg+1:00    0\n",
            "dtype: int64\n",
            "id         0\n",
            "bg+1:00    0\n",
            "dtype: int64\n"
          ]
        }
      ]
    },
    {
      "cell_type": "code",
      "source": [
        "train_results_df.head(10)"
      ],
      "metadata": {
        "colab": {
          "base_uri": "https://localhost:8080/",
          "height": 363
        },
        "id": "skHJ_ynWS2Ve",
        "outputId": "f52e819a-356d-4955-9fde-928c3769aa94"
      },
      "execution_count": 77,
      "outputs": [
        {
          "output_type": "execute_result",
          "data": {
            "text/plain": [
              "           0          1          2          3          4          5  \\\n",
              "0        NaN  15.477239        NaN  15.478418        NaN        NaN   \n",
              "1        NaN  17.578739        NaN        NaN        NaN  17.580095   \n",
              "2        NaN  16.746159        NaN        NaN  16.761166        NaN   \n",
              "3  16.931816        NaN        NaN        NaN  16.975805        NaN   \n",
              "4        NaN        NaN  18.598429        NaN        NaN  18.585402   \n",
              "5        NaN   19.25692        NaN        NaN        NaN  19.224735   \n",
              "6  18.970337        NaN        NaN        NaN        NaN  18.963223   \n",
              "7  17.831709        NaN        NaN        NaN  17.870634        NaN   \n",
              "8  16.152758        NaN        NaN  16.180756        NaN        NaN   \n",
              "9  15.569371        NaN        NaN  15.600647        NaN        NaN   \n",
              "\n",
              "           6          7          8  \n",
              "0        NaN  15.447908        NaN  \n",
              "1        NaN  17.541828        NaN  \n",
              "2        NaN  16.716578        NaN  \n",
              "3  16.948612        NaN        NaN  \n",
              "4        NaN        NaN  18.620853  \n",
              "5        NaN        NaN  19.267523  \n",
              "6        NaN        NaN  18.998405  \n",
              "7        NaN        NaN  17.866388  \n",
              "8  16.212137        NaN        NaN  \n",
              "9        NaN  15.582578        NaN  "
            ],
            "text/html": [
              "\n",
              "  <div id=\"df-227c89a7-00f9-4029-80d8-a73eb54b02a2\" class=\"colab-df-container\">\n",
              "    <div>\n",
              "<style scoped>\n",
              "    .dataframe tbody tr th:only-of-type {\n",
              "        vertical-align: middle;\n",
              "    }\n",
              "\n",
              "    .dataframe tbody tr th {\n",
              "        vertical-align: top;\n",
              "    }\n",
              "\n",
              "    .dataframe thead th {\n",
              "        text-align: right;\n",
              "    }\n",
              "</style>\n",
              "<table border=\"1\" class=\"dataframe\">\n",
              "  <thead>\n",
              "    <tr style=\"text-align: right;\">\n",
              "      <th></th>\n",
              "      <th>0</th>\n",
              "      <th>1</th>\n",
              "      <th>2</th>\n",
              "      <th>3</th>\n",
              "      <th>4</th>\n",
              "      <th>5</th>\n",
              "      <th>6</th>\n",
              "      <th>7</th>\n",
              "      <th>8</th>\n",
              "    </tr>\n",
              "  </thead>\n",
              "  <tbody>\n",
              "    <tr>\n",
              "      <th>0</th>\n",
              "      <td>NaN</td>\n",
              "      <td>15.477239</td>\n",
              "      <td>NaN</td>\n",
              "      <td>15.478418</td>\n",
              "      <td>NaN</td>\n",
              "      <td>NaN</td>\n",
              "      <td>NaN</td>\n",
              "      <td>15.447908</td>\n",
              "      <td>NaN</td>\n",
              "    </tr>\n",
              "    <tr>\n",
              "      <th>1</th>\n",
              "      <td>NaN</td>\n",
              "      <td>17.578739</td>\n",
              "      <td>NaN</td>\n",
              "      <td>NaN</td>\n",
              "      <td>NaN</td>\n",
              "      <td>17.580095</td>\n",
              "      <td>NaN</td>\n",
              "      <td>17.541828</td>\n",
              "      <td>NaN</td>\n",
              "    </tr>\n",
              "    <tr>\n",
              "      <th>2</th>\n",
              "      <td>NaN</td>\n",
              "      <td>16.746159</td>\n",
              "      <td>NaN</td>\n",
              "      <td>NaN</td>\n",
              "      <td>16.761166</td>\n",
              "      <td>NaN</td>\n",
              "      <td>NaN</td>\n",
              "      <td>16.716578</td>\n",
              "      <td>NaN</td>\n",
              "    </tr>\n",
              "    <tr>\n",
              "      <th>3</th>\n",
              "      <td>16.931816</td>\n",
              "      <td>NaN</td>\n",
              "      <td>NaN</td>\n",
              "      <td>NaN</td>\n",
              "      <td>16.975805</td>\n",
              "      <td>NaN</td>\n",
              "      <td>16.948612</td>\n",
              "      <td>NaN</td>\n",
              "      <td>NaN</td>\n",
              "    </tr>\n",
              "    <tr>\n",
              "      <th>4</th>\n",
              "      <td>NaN</td>\n",
              "      <td>NaN</td>\n",
              "      <td>18.598429</td>\n",
              "      <td>NaN</td>\n",
              "      <td>NaN</td>\n",
              "      <td>18.585402</td>\n",
              "      <td>NaN</td>\n",
              "      <td>NaN</td>\n",
              "      <td>18.620853</td>\n",
              "    </tr>\n",
              "    <tr>\n",
              "      <th>5</th>\n",
              "      <td>NaN</td>\n",
              "      <td>19.25692</td>\n",
              "      <td>NaN</td>\n",
              "      <td>NaN</td>\n",
              "      <td>NaN</td>\n",
              "      <td>19.224735</td>\n",
              "      <td>NaN</td>\n",
              "      <td>NaN</td>\n",
              "      <td>19.267523</td>\n",
              "    </tr>\n",
              "    <tr>\n",
              "      <th>6</th>\n",
              "      <td>18.970337</td>\n",
              "      <td>NaN</td>\n",
              "      <td>NaN</td>\n",
              "      <td>NaN</td>\n",
              "      <td>NaN</td>\n",
              "      <td>18.963223</td>\n",
              "      <td>NaN</td>\n",
              "      <td>NaN</td>\n",
              "      <td>18.998405</td>\n",
              "    </tr>\n",
              "    <tr>\n",
              "      <th>7</th>\n",
              "      <td>17.831709</td>\n",
              "      <td>NaN</td>\n",
              "      <td>NaN</td>\n",
              "      <td>NaN</td>\n",
              "      <td>17.870634</td>\n",
              "      <td>NaN</td>\n",
              "      <td>NaN</td>\n",
              "      <td>NaN</td>\n",
              "      <td>17.866388</td>\n",
              "    </tr>\n",
              "    <tr>\n",
              "      <th>8</th>\n",
              "      <td>16.152758</td>\n",
              "      <td>NaN</td>\n",
              "      <td>NaN</td>\n",
              "      <td>16.180756</td>\n",
              "      <td>NaN</td>\n",
              "      <td>NaN</td>\n",
              "      <td>16.212137</td>\n",
              "      <td>NaN</td>\n",
              "      <td>NaN</td>\n",
              "    </tr>\n",
              "    <tr>\n",
              "      <th>9</th>\n",
              "      <td>15.569371</td>\n",
              "      <td>NaN</td>\n",
              "      <td>NaN</td>\n",
              "      <td>15.600647</td>\n",
              "      <td>NaN</td>\n",
              "      <td>NaN</td>\n",
              "      <td>NaN</td>\n",
              "      <td>15.582578</td>\n",
              "      <td>NaN</td>\n",
              "    </tr>\n",
              "  </tbody>\n",
              "</table>\n",
              "</div>\n",
              "    <div class=\"colab-df-buttons\">\n",
              "\n",
              "  <div class=\"colab-df-container\">\n",
              "    <button class=\"colab-df-convert\" onclick=\"convertToInteractive('df-227c89a7-00f9-4029-80d8-a73eb54b02a2')\"\n",
              "            title=\"Convert this dataframe to an interactive table.\"\n",
              "            style=\"display:none;\">\n",
              "\n",
              "  <svg xmlns=\"http://www.w3.org/2000/svg\" height=\"24px\" viewBox=\"0 -960 960 960\">\n",
              "    <path d=\"M120-120v-720h720v720H120Zm60-500h600v-160H180v160Zm220 220h160v-160H400v160Zm0 220h160v-160H400v160ZM180-400h160v-160H180v160Zm440 0h160v-160H620v160ZM180-180h160v-160H180v160Zm440 0h160v-160H620v160Z\"/>\n",
              "  </svg>\n",
              "    </button>\n",
              "\n",
              "  <style>\n",
              "    .colab-df-container {\n",
              "      display:flex;\n",
              "      gap: 12px;\n",
              "    }\n",
              "\n",
              "    .colab-df-convert {\n",
              "      background-color: #E8F0FE;\n",
              "      border: none;\n",
              "      border-radius: 50%;\n",
              "      cursor: pointer;\n",
              "      display: none;\n",
              "      fill: #1967D2;\n",
              "      height: 32px;\n",
              "      padding: 0 0 0 0;\n",
              "      width: 32px;\n",
              "    }\n",
              "\n",
              "    .colab-df-convert:hover {\n",
              "      background-color: #E2EBFA;\n",
              "      box-shadow: 0px 1px 2px rgba(60, 64, 67, 0.3), 0px 1px 3px 1px rgba(60, 64, 67, 0.15);\n",
              "      fill: #174EA6;\n",
              "    }\n",
              "\n",
              "    .colab-df-buttons div {\n",
              "      margin-bottom: 4px;\n",
              "    }\n",
              "\n",
              "    [theme=dark] .colab-df-convert {\n",
              "      background-color: #3B4455;\n",
              "      fill: #D2E3FC;\n",
              "    }\n",
              "\n",
              "    [theme=dark] .colab-df-convert:hover {\n",
              "      background-color: #434B5C;\n",
              "      box-shadow: 0px 1px 3px 1px rgba(0, 0, 0, 0.15);\n",
              "      filter: drop-shadow(0px 1px 2px rgba(0, 0, 0, 0.3));\n",
              "      fill: #FFFFFF;\n",
              "    }\n",
              "  </style>\n",
              "\n",
              "    <script>\n",
              "      const buttonEl =\n",
              "        document.querySelector('#df-227c89a7-00f9-4029-80d8-a73eb54b02a2 button.colab-df-convert');\n",
              "      buttonEl.style.display =\n",
              "        google.colab.kernel.accessAllowed ? 'block' : 'none';\n",
              "\n",
              "      async function convertToInteractive(key) {\n",
              "        const element = document.querySelector('#df-227c89a7-00f9-4029-80d8-a73eb54b02a2');\n",
              "        const dataTable =\n",
              "          await google.colab.kernel.invokeFunction('convertToInteractive',\n",
              "                                                    [key], {});\n",
              "        if (!dataTable) return;\n",
              "\n",
              "        const docLinkHtml = 'Like what you see? Visit the ' +\n",
              "          '<a target=\"_blank\" href=https://colab.research.google.com/notebooks/data_table.ipynb>data table notebook</a>'\n",
              "          + ' to learn more about interactive tables.';\n",
              "        element.innerHTML = '';\n",
              "        dataTable['output_type'] = 'display_data';\n",
              "        await google.colab.output.renderOutput(dataTable, element);\n",
              "        const docLink = document.createElement('div');\n",
              "        docLink.innerHTML = docLinkHtml;\n",
              "        element.appendChild(docLink);\n",
              "      }\n",
              "    </script>\n",
              "  </div>\n",
              "\n",
              "\n",
              "<div id=\"df-f0b4d510-7902-4188-a0a7-5b1f0e06713e\">\n",
              "  <button class=\"colab-df-quickchart\" onclick=\"quickchart('df-f0b4d510-7902-4188-a0a7-5b1f0e06713e')\"\n",
              "            title=\"Suggest charts\"\n",
              "            style=\"display:none;\">\n",
              "\n",
              "<svg xmlns=\"http://www.w3.org/2000/svg\" height=\"24px\"viewBox=\"0 0 24 24\"\n",
              "     width=\"24px\">\n",
              "    <g>\n",
              "        <path d=\"M19 3H5c-1.1 0-2 .9-2 2v14c0 1.1.9 2 2 2h14c1.1 0 2-.9 2-2V5c0-1.1-.9-2-2-2zM9 17H7v-7h2v7zm4 0h-2V7h2v10zm4 0h-2v-4h2v4z\"/>\n",
              "    </g>\n",
              "</svg>\n",
              "  </button>\n",
              "\n",
              "<style>\n",
              "  .colab-df-quickchart {\n",
              "      --bg-color: #E8F0FE;\n",
              "      --fill-color: #1967D2;\n",
              "      --hover-bg-color: #E2EBFA;\n",
              "      --hover-fill-color: #174EA6;\n",
              "      --disabled-fill-color: #AAA;\n",
              "      --disabled-bg-color: #DDD;\n",
              "  }\n",
              "\n",
              "  [theme=dark] .colab-df-quickchart {\n",
              "      --bg-color: #3B4455;\n",
              "      --fill-color: #D2E3FC;\n",
              "      --hover-bg-color: #434B5C;\n",
              "      --hover-fill-color: #FFFFFF;\n",
              "      --disabled-bg-color: #3B4455;\n",
              "      --disabled-fill-color: #666;\n",
              "  }\n",
              "\n",
              "  .colab-df-quickchart {\n",
              "    background-color: var(--bg-color);\n",
              "    border: none;\n",
              "    border-radius: 50%;\n",
              "    cursor: pointer;\n",
              "    display: none;\n",
              "    fill: var(--fill-color);\n",
              "    height: 32px;\n",
              "    padding: 0;\n",
              "    width: 32px;\n",
              "  }\n",
              "\n",
              "  .colab-df-quickchart:hover {\n",
              "    background-color: var(--hover-bg-color);\n",
              "    box-shadow: 0 1px 2px rgba(60, 64, 67, 0.3), 0 1px 3px 1px rgba(60, 64, 67, 0.15);\n",
              "    fill: var(--button-hover-fill-color);\n",
              "  }\n",
              "\n",
              "  .colab-df-quickchart-complete:disabled,\n",
              "  .colab-df-quickchart-complete:disabled:hover {\n",
              "    background-color: var(--disabled-bg-color);\n",
              "    fill: var(--disabled-fill-color);\n",
              "    box-shadow: none;\n",
              "  }\n",
              "\n",
              "  .colab-df-spinner {\n",
              "    border: 2px solid var(--fill-color);\n",
              "    border-color: transparent;\n",
              "    border-bottom-color: var(--fill-color);\n",
              "    animation:\n",
              "      spin 1s steps(1) infinite;\n",
              "  }\n",
              "\n",
              "  @keyframes spin {\n",
              "    0% {\n",
              "      border-color: transparent;\n",
              "      border-bottom-color: var(--fill-color);\n",
              "      border-left-color: var(--fill-color);\n",
              "    }\n",
              "    20% {\n",
              "      border-color: transparent;\n",
              "      border-left-color: var(--fill-color);\n",
              "      border-top-color: var(--fill-color);\n",
              "    }\n",
              "    30% {\n",
              "      border-color: transparent;\n",
              "      border-left-color: var(--fill-color);\n",
              "      border-top-color: var(--fill-color);\n",
              "      border-right-color: var(--fill-color);\n",
              "    }\n",
              "    40% {\n",
              "      border-color: transparent;\n",
              "      border-right-color: var(--fill-color);\n",
              "      border-top-color: var(--fill-color);\n",
              "    }\n",
              "    60% {\n",
              "      border-color: transparent;\n",
              "      border-right-color: var(--fill-color);\n",
              "    }\n",
              "    80% {\n",
              "      border-color: transparent;\n",
              "      border-right-color: var(--fill-color);\n",
              "      border-bottom-color: var(--fill-color);\n",
              "    }\n",
              "    90% {\n",
              "      border-color: transparent;\n",
              "      border-bottom-color: var(--fill-color);\n",
              "    }\n",
              "  }\n",
              "</style>\n",
              "\n",
              "  <script>\n",
              "    async function quickchart(key) {\n",
              "      const quickchartButtonEl =\n",
              "        document.querySelector('#' + key + ' button');\n",
              "      quickchartButtonEl.disabled = true;  // To prevent multiple clicks.\n",
              "      quickchartButtonEl.classList.add('colab-df-spinner');\n",
              "      try {\n",
              "        const charts = await google.colab.kernel.invokeFunction(\n",
              "            'suggestCharts', [key], {});\n",
              "      } catch (error) {\n",
              "        console.error('Error during call to suggestCharts:', error);\n",
              "      }\n",
              "      quickchartButtonEl.classList.remove('colab-df-spinner');\n",
              "      quickchartButtonEl.classList.add('colab-df-quickchart-complete');\n",
              "    }\n",
              "    (() => {\n",
              "      let quickchartButtonEl =\n",
              "        document.querySelector('#df-f0b4d510-7902-4188-a0a7-5b1f0e06713e button');\n",
              "      quickchartButtonEl.style.display =\n",
              "        google.colab.kernel.accessAllowed ? 'block' : 'none';\n",
              "    })();\n",
              "  </script>\n",
              "</div>\n",
              "\n",
              "    </div>\n",
              "  </div>\n"
            ],
            "application/vnd.google.colaboratory.intrinsic+json": {
              "type": "dataframe",
              "variable_name": "train_results_df"
            }
          },
          "metadata": {},
          "execution_count": 77
        }
      ]
    },
    {
      "cell_type": "code",
      "source": [
        "train_results_df[\"average\"] = train_results_df.mean(axis=1)\n",
        "train_results_df.isna().sum()"
      ],
      "metadata": {
        "id": "-OAy_XO-dtvV",
        "colab": {
          "base_uri": "https://localhost:8080/",
          "height": 398
        },
        "outputId": "12b6d28a-5c1e-4a84-a1b8-fa12b412973a"
      },
      "execution_count": 78,
      "outputs": [
        {
          "output_type": "execute_result",
          "data": {
            "text/plain": [
              "0          1400622\n",
              "1          1400623\n",
              "2          1400623\n",
              "3          1400622\n",
              "4          1400623\n",
              "5          1400623\n",
              "6          1400622\n",
              "7          1400623\n",
              "8          1400623\n",
              "average          0\n",
              "dtype: int64"
            ],
            "text/html": [
              "<div>\n",
              "<style scoped>\n",
              "    .dataframe tbody tr th:only-of-type {\n",
              "        vertical-align: middle;\n",
              "    }\n",
              "\n",
              "    .dataframe tbody tr th {\n",
              "        vertical-align: top;\n",
              "    }\n",
              "\n",
              "    .dataframe thead th {\n",
              "        text-align: right;\n",
              "    }\n",
              "</style>\n",
              "<table border=\"1\" class=\"dataframe\">\n",
              "  <thead>\n",
              "    <tr style=\"text-align: right;\">\n",
              "      <th></th>\n",
              "      <th>0</th>\n",
              "    </tr>\n",
              "  </thead>\n",
              "  <tbody>\n",
              "    <tr>\n",
              "      <th>0</th>\n",
              "      <td>1400622</td>\n",
              "    </tr>\n",
              "    <tr>\n",
              "      <th>1</th>\n",
              "      <td>1400623</td>\n",
              "    </tr>\n",
              "    <tr>\n",
              "      <th>2</th>\n",
              "      <td>1400623</td>\n",
              "    </tr>\n",
              "    <tr>\n",
              "      <th>3</th>\n",
              "      <td>1400622</td>\n",
              "    </tr>\n",
              "    <tr>\n",
              "      <th>4</th>\n",
              "      <td>1400623</td>\n",
              "    </tr>\n",
              "    <tr>\n",
              "      <th>5</th>\n",
              "      <td>1400623</td>\n",
              "    </tr>\n",
              "    <tr>\n",
              "      <th>6</th>\n",
              "      <td>1400622</td>\n",
              "    </tr>\n",
              "    <tr>\n",
              "      <th>7</th>\n",
              "      <td>1400623</td>\n",
              "    </tr>\n",
              "    <tr>\n",
              "      <th>8</th>\n",
              "      <td>1400623</td>\n",
              "    </tr>\n",
              "    <tr>\n",
              "      <th>average</th>\n",
              "      <td>0</td>\n",
              "    </tr>\n",
              "  </tbody>\n",
              "</table>\n",
              "</div><br><label><b>dtype:</b> int64</label>"
            ]
          },
          "metadata": {},
          "execution_count": 78
        }
      ]
    },
    {
      "cell_type": "code",
      "source": [
        "train_results_df_ = train_results_df[\"average\"].astype(\"float\").copy()\n",
        "train_results_df_.columns = [\"bg+1:00_v0_expanded\"]\n",
        "train_results_df_.to_csv(f\"/content/drive/MyDrive/Exercises/Studies_Structured_Data/Data/Glucose/submissions/train_results_v1_expanded_st.csv.csv\")"
      ],
      "metadata": {
        "id": "IsiYI-cig4f_"
      },
      "execution_count": 79,
      "outputs": []
    },
    {
      "cell_type": "markdown",
      "source": [
        "## **2.2 MODEL 02**"
      ],
      "metadata": {
        "id": "e3TyNwtOLl6W"
      }
    },
    {
      "cell_type": "markdown",
      "source": [
        "### 2.1.1 Create Dataloader:"
      ],
      "metadata": {
        "id": "4K6y80VFLl6e"
      }
    },
    {
      "cell_type": "code",
      "source": [
        "gc.collect()"
      ],
      "metadata": {
        "id": "IMTM3EHaLl6f"
      },
      "execution_count": null,
      "outputs": []
    },
    {
      "cell_type": "code",
      "source": [
        "def dataframe_to_dataset(dataframe, shuffle=False, batch_size=32, flds = ts_fields):\n",
        "    dataframe = dataframe.copy()\n",
        "    target = dataframe[\"bg+1:00\"]\n",
        "    dataframe = dataframe.drop(columns=[\"bg+1:00\"])\n",
        "\n",
        "    timeseries_df = dataframe[flds].values\n",
        "    timeseries_df = timeseries_df.reshape((-1, 72, 8))\n",
        "    static_df = dataframe.drop(columns=flds)\n",
        "\n",
        "\n",
        "    ds = tf.data.Dataset.from_tensor_slices(((static_df[\"hour\"].values,  # First input\n",
        "                                              static_df[\"minute\"].values,  # Second input\n",
        "                                              static_df[\"cluster\"].values,  # Third input\n",
        "                                              static_df[\"cluster_pca\"].values,  # Fourth input\n",
        "                                              static_df[[\"PC_1\",\"PC_2\",\"PC_3\",\"enc_04_v7\",\"enc_01_v1\",\"enc_07_v7\",\"enc_01_v4\",\"enc_05_v4\",\n",
        "                                                        \"enc_03_v6\",\"enc_05_v7\",\"enc_06_v6\",\"enc_01_v6\",\"enc_06_v7\",\"enc_08_v6\",\"enc_04_v6\"]].values,  # Fourth input\n",
        "                                              timeseries_df),\n",
        "                                              target))\n",
        "\n",
        "    if shuffle:\n",
        "      ds = ds.shuffle(buffer_size=len(dataframe))\n",
        "\n",
        "    ds = ds.batch(batch_size)\n",
        "    ds = ds.prefetch(batch_size)\n",
        "\n",
        "    return ds"
      ],
      "metadata": {
        "id": "Rlddr760Ll6f"
      },
      "execution_count": null,
      "outputs": []
    },
    {
      "cell_type": "code",
      "source": [
        "train_ds = dataframe_to_dataset(X_train,batch_size=1)"
      ],
      "metadata": {
        "id": "wwjy3iRnLl6f"
      },
      "execution_count": null,
      "outputs": []
    },
    {
      "cell_type": "markdown",
      "source": [
        "* **TEST THE DATALOADER:**"
      ],
      "metadata": {
        "id": "OgKL5kSDLl6f"
      }
    },
    {
      "cell_type": "code",
      "source": [
        "for (x0, x1, x2, x3, x4, x5), y in train_ds.take(1):\n",
        "    print(x0.shape,x1.shape,x2.shape,x3.shape,x4.shape,x5.shape,y.shape)"
      ],
      "metadata": {
        "id": "p8sJgNr4Ll6f"
      },
      "execution_count": null,
      "outputs": []
    },
    {
      "cell_type": "code",
      "source": [
        "#X_train.iloc[:2000,:].to_csv(\"train_sample.csv\")"
      ],
      "metadata": {
        "id": "GBMRsyWXLl6g"
      },
      "execution_count": null,
      "outputs": []
    },
    {
      "cell_type": "markdown",
      "source": [
        "### **2.1.2 Encoding**"
      ],
      "metadata": {
        "id": "BNRei_p9Ll6g"
      }
    },
    {
      "cell_type": "code",
      "source": [
        "static_col = list(X_train.drop(columns=ts_fields+[\"bg+1:00\"]).columns)\n",
        "\n",
        "static_entries = {}\n",
        "\n",
        "for col in static_col:\n",
        "    static_entries[col] = X_train[col].nunique()\n",
        "\n",
        "embed_dim = {'cluster_pca': 3, 'hour': 8, 'minute': 4, 'cluster': 8}\n",
        "#static_entries"
      ],
      "metadata": {
        "id": "sFSOF-ejLl6g"
      },
      "execution_count": null,
      "outputs": []
    },
    {
      "cell_type": "code",
      "source": [
        "def encode_tabular(inputs, list_categorical_nn, Cat_Feat_Entries=static_entries, num_dense_exp=False, embedding_dims=embed_dim, name=\"enc\"):\n",
        "    encoded_categorical_feature_list = []\n",
        "    numerical_feature_list = []\n",
        "\n",
        "    for counter, feature_name in enumerate(inputs):\n",
        "\n",
        "      vocabulary = Cat_Feat_Entries[feature_name]\n",
        "      emb_dim = embedding_dims[feature_name]\n",
        "\n",
        "      embedding = layers.Embedding(input_dim=vocabulary, output_dim=emb_dim, name=f\"embedder_{counter}\")\n",
        "      # Convert the index values to embedding representations.\n",
        "      encoded_categorical_feature = embedding(inputs[feature_name])\n",
        "\n",
        "      encoded_categorical_feature_list.append(encoded_categorical_feature)\n",
        "\n",
        "    return encoded_categorical_feature_list, numerical_feature_list"
      ],
      "metadata": {
        "id": "6xRtAM3ILl6g"
      },
      "execution_count": null,
      "outputs": []
    },
    {
      "cell_type": "code",
      "source": [
        "X_train.info()"
      ],
      "metadata": {
        "id": "WQDmx1mgLl6g"
      },
      "execution_count": null,
      "outputs": []
    },
    {
      "cell_type": "markdown",
      "source": [
        "### **2.1.3 Create Models:**"
      ],
      "metadata": {
        "id": "7nNnXaIcLl6g"
      }
    },
    {
      "cell_type": "code",
      "source": [
        "X_train.cluster_pca.unique()\n",
        "#list(range(0,60,5))"
      ],
      "metadata": {
        "id": "x4dLR1nrLl6g"
      },
      "execution_count": null,
      "outputs": []
    },
    {
      "cell_type": "code",
      "source": [
        "def create_model_v1(dense_layers=[32,16],\n",
        "                    dropout=0.3, conv_layers=[128,64,32],\n",
        "                    activation=\"selu\", reg=0.0,lr=0.001,\n",
        "                    return_sequences=[64,32], summary=False):\n",
        "\n",
        "  # --- Tabular Data Processing ---\n",
        "  # Input layer for tabular data as a dictionary\n",
        "  hour_input = keras.Input(shape=(1,), name=\"hour_input\")\n",
        "  minute_input = keras.Input(shape=(1,), name=\"minute_input\")\n",
        "  cluster_input = keras.Input(shape=(1,), name=\"cluster_input\")\n",
        "  pca_input = keras.Input(shape=(1,), name=\"cluster_pca\")\n",
        "  cont_input = keras.Input(shape=(15,), name=\"cont_inputs\")\n",
        "\n",
        "  # Lookup Layer for the p_num:\n",
        "  # pca_lookup = layers.IntegerLookup(vocabulary=list(range(0,4)),mask_token=None,num_oov_indices=0,\n",
        "  #                                  output_mode=\"int\", name=\"lookup_pca\")\n",
        "  # pca_encoded = pca_lookup(pca_input)\n",
        "\n",
        "  # Lookup Layer for the minutes:\n",
        "  minute_lookup = layers.IntegerLookup(vocabulary=list(range(0,60,5)),mask_token=None,num_oov_indices=0,\n",
        "                                       output_mode=\"int\", name=\"lookup_min\")\n",
        "\n",
        "  minute_encoded = minute_lookup(minute_input)\n",
        "\n",
        "  # Embedding layers for hour and minute\n",
        "  hour_embedding = layers.Embedding(input_dim=24, output_dim=8, name=\"embed_hour\")(hour_input)\n",
        "  minute_embedding = layers.Embedding(input_dim=12, output_dim=6, name=\"embed_minute\")(minute_encoded)\n",
        "  pca_encoded_embedding = layers.Embedding(input_dim=4,output_dim=3, name=\"embed_pca\")(pca_input)\n",
        "\n",
        "  # Embedding layer for cluster\n",
        "  cluster_embedding = layers.Embedding(input_dim=22, output_dim=8, name=\"embed_cluster\")(cluster_input)\n",
        "\n",
        "  # Flatten the embeddings\n",
        "  hour_flat = layers.Flatten()(hour_embedding)\n",
        "  minute_flat = layers.Flatten()(minute_embedding)\n",
        "  cluster_flat = layers.Flatten()(cluster_embedding)\n",
        "  pca_flat = layers.Flatten()(pca_encoded_embedding)\n",
        "\n",
        "  # Concatenate all tabular features\n",
        "  tabular_output = layers.concatenate([hour_flat, minute_flat, cluster_flat, pca_flat,cont_input],\n",
        "                                      name=\"tabular_concat\")\n",
        "\n",
        "  # Dense layers for tabular data\n",
        "  for num, den in enumerate(dense_layers):\n",
        "    tabular_output = dense_block(den,dropout=dropout,activation=activation, reg=reg, name=f\"block_{num}\")(tabular_output)\n",
        "\n",
        "  # --- Time Series Data Processing ---\n",
        "  # Input layer for time series data\n",
        "  time_series_input = keras.Input(shape=(72, 8), name=\"time_series_input\")\n",
        "  x=time_series_input\n",
        "  # LSTM layers for time series data\n",
        "  for i in conv_layers:\n",
        "    x = layers.Conv1D(filters=i, kernel_size=3, activation='relu', padding='same')(x)\n",
        "    x = layers.LayerNormalization()(x)\n",
        "    x = layers.SpatialDropout1D(dropout)(x)\n",
        "    x = layers.MaxPooling1D(pool_size=2)(x)\n",
        "\n",
        "  x = layers.Flatten()(x)\n",
        "  # --- Combine Tabular and Time Series Data ---\n",
        "  # Concatenate the outputs from both branches\n",
        "  concatenated = layers.concatenate([tabular_output, x])\n",
        "\n",
        "  # --- Output Layer ---\n",
        "  # Final dense layer for prediction\n",
        "  output = layers.Dense(1, name=\"output\")(concatenated)\n",
        "\n",
        "  # --- Create and Compile the Model ---\n",
        "  # Create the model\n",
        "  model = keras.Model(inputs=[hour_input, minute_input, cluster_input, pca_input,cont_input,time_series_input], outputs=output)\n",
        "\n",
        "  optimizer= keras.optimizers.Adam(learning_rate=lr)\n",
        "  metric = RootMeanSquaredError(name=\"rmse\", dtype=None)\n",
        "  metric_mae = MeanAbsoluteError(name=\"mae\", dtype=None)\n",
        "\n",
        "  # Compile the model\n",
        "  model.compile(optimizer=optimizer, loss=\"mse\", metrics=[metric,metric_mae])\n",
        "\n",
        "  # Print model summary\n",
        "  if summary==True:\n",
        "    model.summary()\n",
        "\n",
        "  return model\n",
        "\n",
        "\n",
        "#vocabulary = X_train[\"p_num\"].unique().tolist()\n",
        "model = create_model_v1(summary=True)"
      ],
      "metadata": {
        "id": "1y5qpCXILl6g"
      },
      "execution_count": null,
      "outputs": []
    },
    {
      "cell_type": "code",
      "source": [
        "plot_model(model, show_shapes=True, show_layer_names=True, rankdir=\"LR\", expand_nested=True, show_layer_activations=True)"
      ],
      "metadata": {
        "id": "c2b3kVuyLl6h"
      },
      "execution_count": null,
      "outputs": []
    },
    {
      "cell_type": "markdown",
      "source": [
        "### 2.1.4 Training Functions:"
      ],
      "metadata": {
        "id": "5anK1yauLl6h"
      }
    },
    {
      "cell_type": "code",
      "source": [
        "list(range(len(val_sets)))"
      ],
      "metadata": {
        "id": "dsLAol-6Ll6h"
      },
      "execution_count": null,
      "outputs": []
    },
    {
      "cell_type": "markdown",
      "source": [
        "#### Main Function:"
      ],
      "metadata": {
        "id": "WOIp0LNbLl6h"
      }
    },
    {
      "cell_type": "code",
      "source": [
        "def run_experiment(X_train, X_test, model_constructor, best_params, split=val_sets, experiment_name=\"conv_v0_nn\", rs=42, target=\"bg+1:00\",\n",
        "                   batch_size=64, num_epochs=200, learning_rate=0.001, target_scaler=target_scaler):\n",
        "\n",
        "  test_predictions = np.zeros((len(X_test),1))\n",
        "  test_results_df = pd.DataFrame(index=X_test.index, columns=list(range(len(val_sets))))\n",
        "\n",
        "  all_mse = []\n",
        "  all_rmse = []\n",
        "\n",
        "  for i, val_index in enumerate(split):\n",
        "\n",
        "    print(f\"\\nRunning CV {i}\\n\")\n",
        "    ########################################################################## Prepare the Dataset:\n",
        "    X_trn = X_train.drop(index=val_index)\n",
        "    X_val = X_train.loc[val_index,:]\n",
        "\n",
        "#    vocabulary = X_trn[\"p_num\"].unique().tolist()\n",
        "\n",
        "    X = X_trn.drop(columns=[target]).copy()\n",
        "    y = X_trn[target].copy()\n",
        "\n",
        "    val_X = X_val.drop(columns=[target]).copy()\n",
        "    val_y = X_val[target].copy()\n",
        "\n",
        "    X_test = X_test.copy()\n",
        "    #################################################################### Prepare Datasets loaders:\n",
        "\n",
        "    train_dataset = dataframe_to_dataset(X_trn, batch_size=batch_size, shuffle=True)\n",
        "    valid_dataset = dataframe_to_dataset(X_val, batch_size=batch_size, shuffle=False)\n",
        "    test_dataset = dataframe_to_dataset(X_test, batch_size=batch_size, shuffle=False)\n",
        "\n",
        "    ##################################################################### Relevant Folders\n",
        "    folders_experiment = f\"/content/drive/MyDrive/Exercises/Studies_Structured_Data/Models/Glucose/{experiment_name}_{i}/\"\n",
        "    ##################################################################### Generate and Fit Model\n",
        "    # Callbacks:\n",
        "    checkpoint_filepath = folders_experiment + f'checkpoint/{experiment_name}.weights.h5'\n",
        "\n",
        "    # Generate the Model:\n",
        "    model = model_constructor(lr = learning_rate,\n",
        "                              **best_params)\n",
        "\n",
        "    print(\"Start training the model...\")\n",
        "    history = model.fit(train_dataset,\n",
        "                        epochs=num_epochs,\n",
        "                        callbacks=[keras.callbacks.EarlyStopping(monitor='val_rmse', patience=17, mode=\"min\",\n",
        "                                                  start_from_epoch=5,restore_best_weights=True),\n",
        "                                   keras.callbacks.ModelCheckpoint(filepath=checkpoint_filepath,\n",
        "                                                    save_weights_only=True,\n",
        "                                                    monitor=\"val_rmse\",\n",
        "                                                    mode='min',\n",
        "                                                    save_best_only=True),\n",
        "                                   keras.callbacks.ReduceLROnPlateau(monitor='val_rmse', factor=0.5,\n",
        "                                                          patience=5, min_lr=0.0001, mode=\"min\")],\n",
        "                        validation_data=valid_dataset)\n",
        "    print(\"Model training finished\")\n",
        "\n",
        "    model.load_weights(checkpoint_filepath)\n",
        "    model.evaluate(valid_dataset, verbose=0)\n",
        "\n",
        "    plot_training_session(history)\n",
        "\n",
        "    oof_res = model.predict(valid_dataset)\n",
        "    test_pred = model.predict(test_dataset)\n",
        "\n",
        "    print(f\"Out-of-Fold Shapes: {val_y.shape},{oof_res.shape}\")\n",
        "\n",
        "    rmse_score = root_mean_squared_error(val_y, oof_res)\n",
        "\n",
        "    val_pred = target_scaler.inverse_transform(oof_res)\n",
        "    real_val_y = target_scaler.inverse_transform(val_y.values.reshape(-1,1))\n",
        "    test_pred_real = target_scaler.inverse_transform(test_pred)\n",
        "\n",
        "    rmse_score_original = root_mean_squared_error(real_val_y, val_pred)\n",
        "\n",
        "    fig, axs = plt.subplots(1,1, figsize=(10,4))\n",
        "    axs.scatter(val_pred, real_val_y)\n",
        "    axs.set_title(f\"Out-of-Fold RMSE Score: {round(rmse_score, 3)}%\")\n",
        "    plt.tight_layout()\n",
        "    plt.show()\n",
        "\n",
        "    print(f\"Out-of-Fold RMSE Score Rebased: {round(rmse_score, 3)}%\")\n",
        "    print(f\"Out-of-Fold RMSE Score Original: {round(rmse_score_original, 3)}%\")\n",
        "\n",
        "    ##################################################################### Save the Model\n",
        "    model.save(f\"{folders_experiment}/model_{experiment_name}.keras\")\n",
        "\n",
        "    ##################################################################### Create Model Output\n",
        "    test_results_df.loc[:,i] = test_pred_real\n",
        "    all_rmse.append(round(rmse_score_original, 3))\n",
        "\n",
        "    gc.collect()\n",
        "\n",
        "  ##################################################################### Create Model Output\n",
        "  print(f\"All Valuation RMSE: {all_rmse}\")\n",
        "\n",
        "  return test_results_df"
      ],
      "metadata": {
        "id": "0kAttfTyLl6h"
      },
      "execution_count": null,
      "outputs": []
    },
    {
      "cell_type": "markdown",
      "source": [
        "#### Keras Tuner:"
      ],
      "metadata": {
        "id": "yQaqCJzKLl6i"
      }
    },
    {
      "cell_type": "code",
      "source": [
        "tuning_on=True\n",
        "gc.collect()"
      ],
      "metadata": {
        "id": "0Hh6ax4OLl6i"
      },
      "execution_count": null,
      "outputs": []
    },
    {
      "cell_type": "markdown",
      "source": [
        " Select a Validation set:"
      ],
      "metadata": {
        "id": "tgYRmmWgLl6i"
      }
    },
    {
      "cell_type": "code",
      "source": [
        "valid_index = val_sets[2]\n",
        "Xt = X_train.drop(index=valid_index)\n",
        "Xv = X_train.loc[valid_index,:]\n",
        "\n",
        "print(f\"Train Shape: {Xt.shape}, Val Shape: {Xv.shape}\")"
      ],
      "metadata": {
        "id": "Y2UMktNCLl6i"
      },
      "execution_count": null,
      "outputs": []
    },
    {
      "cell_type": "code",
      "source": [
        "if tuning_on==True:\n",
        "\n",
        "  train_dataset = dataframe_to_dataset(Xt, batch_size=256, shuffle=True)\n",
        "  valid_dataset = dataframe_to_dataset(Xv, batch_size=256, shuffle=False)"
      ],
      "metadata": {
        "id": "zQEFULWhLl6i"
      },
      "execution_count": null,
      "outputs": []
    },
    {
      "cell_type": "code",
      "source": [
        "512/4"
      ],
      "metadata": {
        "id": "Ioeme0WfvacC"
      },
      "execution_count": null,
      "outputs": []
    },
    {
      "cell_type": "code",
      "source": [
        "if tuning_on==True:\n",
        "  # Define the hyperparameter search space: EXPERIMENT 1\n",
        "  hp = kt.HyperParameters()\n",
        "  hp.Choice('main_activation', [\"relu\",\"silu\",\"gelu\",\"selu\"]) #\n",
        "  hp.Float('dropout',0.15,0.40, step=0.025) #\n",
        "  hp.Float('reg',0.0001, 1.0,step=10,sampling=\"log\") #\n",
        "  hp.Choice('dense_layers', values=[512,256,128,64])\n",
        "  hp.Choice('conv_layers', values=[512,256,128,64])"
      ],
      "metadata": {
        "id": "KAMR7XQFLl6i"
      },
      "execution_count": null,
      "outputs": []
    },
    {
      "cell_type": "code",
      "source": [
        "def create_turner_model(hp):\n",
        "\n",
        "  model = create_model_v1(dense_layers=[hp.get('dense_layers'),int(hp.get('dense_layers')/2),int(hp.get('dense_layers')/4)],\n",
        "                          dropout=hp.get('dropout'),\n",
        "                          conv_layers=[hp.get('conv_layers'),int(hp.get('conv_layers')/2),int(hp.get('conv_layers')/4)],\n",
        "                          activation=hp.get('main_activation'),\n",
        "                          reg=hp.get('reg'),\n",
        "                          lr=0.0025,\n",
        "                          summary=False)\n",
        "  return model"
      ],
      "metadata": {
        "id": "tRbD3UfeLl6i"
      },
      "execution_count": null,
      "outputs": []
    },
    {
      "cell_type": "code",
      "source": [
        "if tuning_on==True:\n",
        "  # Create a tuner and search for the best hyperparameters\n",
        "  tuner = BayesianOptimization(create_turner_model,\n",
        "                              objective=kt.Objective(\"val_rmse\", \"min\"),\n",
        "                              hyperparameters=hp, max_trials=50, overwrite=True)\n",
        "\n",
        "  stop_early = tf.keras.callbacks.EarlyStopping(monitor='val_rmse', patience=7, mode=\"min\", start_from_epoch=5)\n",
        "  reduce_ = tf.keras.callbacks.ReduceLROnPlateau(monitor='val_rmse', factor=0.5, patience=3, min_lr=0.0001, mode=\"min\")\n",
        "\n",
        "  tuner.search(train_dataset, validation_data=valid_dataset, epochs=31, callbacks=[stop_early,reduce_])"
      ],
      "metadata": {
        "id": "G5drFixcLl6i"
      },
      "execution_count": null,
      "outputs": []
    },
    {
      "cell_type": "code",
      "source": [
        "if tuning_on==True:\n",
        "  tuner.results_summary(num_trials=21)"
      ],
      "metadata": {
        "id": "gkuyJe9qLl6i"
      },
      "execution_count": null,
      "outputs": []
    },
    {
      "cell_type": "code",
      "source": [
        "if tuning_on==True:\n",
        "  print(tuner.get_best_hyperparameters(4)[0].values)\n",
        "  print(tuner.get_best_hyperparameters(4)[1].values)\n",
        "  print(tuner.get_best_hyperparameters(4)[2].values)\n",
        "  print(tuner.get_best_hyperparameters(4)[3].values)"
      ],
      "metadata": {
        "id": "MWARqNI4Ll6i"
      },
      "execution_count": null,
      "outputs": []
    },
    {
      "cell_type": "markdown",
      "source": [
        "* {'main_activation': 'silu', 'dropout': 0.375, 'reg': 0.0001, 'dense_layers': 512, 'conv_layers': 64}\n",
        "* {'main_activation': 'silu', 'dropout': 0.375, 'reg': 0.0001, 'dense_layers': 128, 'conv_layers': 64}\n",
        "* {'main_activation': 'silu', 'dropout': 0.30, 'reg': 0.001, 'dense_layers': 128, 'conv_layers': 64}\n",
        "* {'main_activation': 'silu', 'dropout': 0.375, 'reg': 0.001, 'dense_layers': 256, 'conv_layers': 64}\n",
        "\n",
        "* **Trial 21 summary**\n",
        "Hyperparameters:\n",
        "main_activation: silu\n",
        "dropout: 0.375\n",
        "reg: 0.0001\n",
        "dense_layers: 512\n",
        "conv_layers: 64\n",
        "Score: 1.9809489250183105\n",
        "\n",
        "* **Trial 26 summary**\n",
        "Hyperparameters:\n",
        "main_activation: silu\n",
        "dropout: 0.375\n",
        "reg: 0.0001\n",
        "dense_layers: 128\n",
        "conv_layers: 64\n",
        "Score: 1.9827678203582764\n",
        "\n",
        "* **Trial 10 summary**\n",
        "Hyperparameters:\n",
        "main_activation: silu\n",
        "dropout: 0.30000000000000004\n",
        "reg: 0.001\n",
        "dense_layers: 128\n",
        "conv_layers: 64\n",
        "Score: 1.9926979541778564\n",
        "\n",
        "* **Trial 15 summary**\n",
        "Hyperparameters:\n",
        "main_activation: silu\n",
        "dropout: 0.375\n",
        "reg: 0.001\n",
        "dense_layers: 256\n",
        "conv_layers: 64\n",
        "Score: 1.9969719648361206\n",
        "\n",
        "* **Trial 18 summary**\n",
        "Hyperparameters:\n",
        "main_activation: relu\n",
        "dropout: 0.2\n",
        "reg: 0.0001\n",
        "dense_layers: 64\n",
        "conv_layers: 64\n",
        "Score: 2.0100858211517334"
      ],
      "metadata": {
        "id": "_D8MYUXeLl6i"
      }
    },
    {
      "cell_type": "markdown",
      "source": [
        "#### Fit The Model:"
      ],
      "metadata": {
        "id": "OkFxcTHiLl6j"
      }
    },
    {
      "cell_type": "code",
      "source": [
        "#best_params = tuner.get_best_hyperparameters(1)[0].values\n",
        "best_params = {'activation': 'silu', 'dropout': 0.375, 'reg': 0.0001, 'dense_layers': [512,256,128], 'conv_layers': [64,32,16]}"
      ],
      "metadata": {
        "id": "aIB7HlroLl6j"
      },
      "execution_count": null,
      "outputs": []
    },
    {
      "cell_type": "code",
      "source": [
        "test_results_df = run_experiment(X_train, X_test, create_model_v1, best_params, split=val_sets,\n",
        "                                 experiment_name=\"conv_v0_nn\", rs=42, target=\"bg+1:00\",\n",
        "                                 batch_size=256, num_epochs=200, learning_rate=0.00025)"
      ],
      "metadata": {
        "id": "zzZhLzsuLl6j"
      },
      "execution_count": null,
      "outputs": []
    },
    {
      "cell_type": "code",
      "source": [
        "test_results_df[\"average\"] = test_results_df.mean(axis=1)\n",
        "test_results_df"
      ],
      "metadata": {
        "id": "QOib99kvLl6j"
      },
      "execution_count": null,
      "outputs": []
    },
    {
      "cell_type": "markdown",
      "source": [
        "#### **STORE RESULTS**"
      ],
      "metadata": {
        "id": "Sw-AMZhY9i1f"
      }
    },
    {
      "cell_type": "code",
      "source": [
        "sub = pd.read_csv(\"/content/drive/MyDrive/Exercises/Studies_Structured_Data/Data/Glucose/sample_submission.csv\")"
      ],
      "metadata": {
        "id": "5gqehNLxS5GJ"
      },
      "execution_count": null,
      "outputs": []
    },
    {
      "cell_type": "code",
      "source": [
        "for i, col in enumerate(test_results_df.columns):\n",
        "  sub[\"bg+1:00\"] = test_results_df[col].values\n",
        "  sub.to_csv(f\"/content/drive/MyDrive/Exercises/Studies_Structured_Data/Data/Glucose/submissions/Submission_val_conv_v0_{col}.csv\", index=False)\n",
        "  print(sub.isna().sum())"
      ],
      "metadata": {
        "id": "LWK5-YPebPmM"
      },
      "execution_count": null,
      "outputs": []
    },
    {
      "cell_type": "markdown",
      "source": [
        "## **2.3 MODEL 03**"
      ],
      "metadata": {
        "id": "rDv0OD2P9rrW"
      }
    },
    {
      "cell_type": "markdown",
      "source": [
        "### 3.1.1 Create Dataloader:"
      ],
      "metadata": {
        "id": "uoglh43l9rrW"
      }
    },
    {
      "cell_type": "code",
      "source": [
        "gc.collect()"
      ],
      "metadata": {
        "id": "KZ8MNcxc9rrX"
      },
      "execution_count": null,
      "outputs": []
    },
    {
      "cell_type": "code",
      "source": [
        "def dataframe_to_dataset(dataframe, shuffle=False, batch_size=32, flds = ts_fields):\n",
        "    dataframe = dataframe.copy()\n",
        "    target = dataframe[\"bg+1:00\"]\n",
        "    dataframe = dataframe.drop(columns=[\"bg+1:00\"])\n",
        "\n",
        "    timeseries_df = dataframe[flds].values\n",
        "    timeseries_df = timeseries_df.reshape((-1, 72, 8))\n",
        "    static_df = dataframe.drop(columns=flds)\n",
        "\n",
        "\n",
        "    ds = tf.data.Dataset.from_tensor_slices(((static_df[\"hour\"].values,  # First input\n",
        "                                              static_df[\"minute\"].values,  # Second input\n",
        "                                              static_df[\"cluster\"].values,  # Third input\n",
        "                                              static_df[\"cluster_pca\"].values,  # Fourth input\n",
        "                                              static_df[[\"PC_1\",\"PC_2\",\"PC_3\",\"enc_04_v7\",\"enc_01_v1\",\"enc_07_v7\",\"enc_01_v4\",\"enc_05_v4\",\n",
        "                                                        \"enc_03_v6\",\"enc_05_v7\",\"enc_06_v6\",\"enc_01_v6\",\"enc_06_v7\",\"enc_08_v6\",\"enc_04_v6\"]].values,  # Fourth input\n",
        "                                              timeseries_df),\n",
        "                                              target))\n",
        "\n",
        "    if shuffle:\n",
        "      ds = ds.shuffle(buffer_size=len(dataframe))\n",
        "\n",
        "    ds = ds.batch(batch_size)\n",
        "    ds = ds.prefetch(batch_size)\n",
        "\n",
        "    return ds"
      ],
      "metadata": {
        "id": "MlctSTEq9rrX"
      },
      "execution_count": null,
      "outputs": []
    },
    {
      "cell_type": "code",
      "source": [
        "train_ds = dataframe_to_dataset(X_train,batch_size=1)"
      ],
      "metadata": {
        "id": "aQ-NJv089rrY"
      },
      "execution_count": null,
      "outputs": []
    },
    {
      "cell_type": "markdown",
      "source": [
        "* **TEST THE DATALOADER:**"
      ],
      "metadata": {
        "id": "uDGwJg4P9rrZ"
      }
    },
    {
      "cell_type": "code",
      "source": [
        "for (x0, x1, x2, x3, x4, x5), y in train_ds.take(1):\n",
        "    print(x0.shape,x1.shape,x2.shape,x3.shape,x4.shape,x5.shape,y.shape)"
      ],
      "metadata": {
        "id": "lOR2cwXC9rrZ"
      },
      "execution_count": null,
      "outputs": []
    },
    {
      "cell_type": "code",
      "source": [
        "#X_train.iloc[:2000,:].to_csv(\"train_sample.csv\")"
      ],
      "metadata": {
        "id": "ec9jxtoP9rrZ"
      },
      "execution_count": null,
      "outputs": []
    },
    {
      "cell_type": "markdown",
      "source": [
        "### **2.1.2 Encoding**"
      ],
      "metadata": {
        "id": "-TfpCJUP9rra"
      }
    },
    {
      "cell_type": "code",
      "source": [
        "static_col = list(X_train.drop(columns=ts_fields+[\"bg+1:00\"]).columns)\n",
        "\n",
        "static_entries = {}\n",
        "\n",
        "for col in static_col:\n",
        "    static_entries[col] = X_train[col].nunique()\n",
        "\n",
        "embed_dim = {'cluster_pca': 3, 'hour': 8, 'minute': 4, 'cluster': 8}\n",
        "#static_entries"
      ],
      "metadata": {
        "id": "swFxh8gG9rra"
      },
      "execution_count": null,
      "outputs": []
    },
    {
      "cell_type": "code",
      "source": [
        "def encode_tabular(inputs, list_categorical_nn, Cat_Feat_Entries=static_entries, num_dense_exp=False, embedding_dims=embed_dim, name=\"enc\"):\n",
        "    encoded_categorical_feature_list = []\n",
        "    numerical_feature_list = []\n",
        "\n",
        "    for counter, feature_name in enumerate(inputs):\n",
        "\n",
        "      vocabulary = Cat_Feat_Entries[feature_name]\n",
        "      emb_dim = embedding_dims[feature_name]\n",
        "\n",
        "      embedding = layers.Embedding(input_dim=vocabulary, output_dim=emb_dim, name=f\"embedder_{counter}\")\n",
        "      # Convert the index values to embedding representations.\n",
        "      encoded_categorical_feature = embedding(inputs[feature_name])\n",
        "\n",
        "      encoded_categorical_feature_list.append(encoded_categorical_feature)\n",
        "\n",
        "    return encoded_categorical_feature_list, numerical_feature_list"
      ],
      "metadata": {
        "id": "CcsOUTW19rra"
      },
      "execution_count": null,
      "outputs": []
    },
    {
      "cell_type": "code",
      "source": [
        "X_train.info()"
      ],
      "metadata": {
        "id": "OZEe1sDs9rra"
      },
      "execution_count": null,
      "outputs": []
    },
    {
      "cell_type": "markdown",
      "source": [
        "### **2.1.3 Create Models:**"
      ],
      "metadata": {
        "id": "rclVKLhr9rra"
      }
    },
    {
      "cell_type": "code",
      "source": [
        "def residual_block(input_tensor, filters, kernel_size, strides=1):\n",
        "    x = layers.Conv1D(filters, kernel_size, strides=strides, padding='same')(input_tensor)\n",
        "    x = layers.LayerNormalization()(x)\n",
        "    x = layers.Activation('relu')(x)\n",
        "    x = layers.SpatialDropout1D(0.2)(x)\n",
        "\n",
        "    # Residual connection\n",
        "    if strides > 1 or input_tensor.shape[-1] != filters:\n",
        "        residual = layers.Conv1D(filters, 1, strides=strides, padding='same')(input_tensor)\n",
        "    else:\n",
        "        residual = input_tensor\n",
        "\n",
        "    x = layers.add([x, residual])\n",
        "    x = layers.MaxPooling1D(pool_size=2)(x)\n",
        "    return x"
      ],
      "metadata": {
        "id": "tmxm3n2H9rrb"
      },
      "execution_count": null,
      "outputs": []
    },
    {
      "cell_type": "code",
      "source": [
        "def create_model_v2(dense_layers=[256,128,128,128,64],\n",
        "                    dropout=0.3, conv_layers=[1024,512,256,128],\n",
        "                    activation=\"selu\", reg=0.0,lr=0.001,strides=1,kernel_size=3, summary=False):\n",
        "\n",
        "  # --- Tabular Data Processing ---\n",
        "  # Input layer for tabular data as a dictionary\n",
        "  hour_input = keras.Input(shape=(1,), name=\"hour_input\")\n",
        "  minute_input = keras.Input(shape=(1,), name=\"minute_input\")\n",
        "  cluster_input = keras.Input(shape=(1,), name=\"cluster_input\")\n",
        "  pca_input = keras.Input(shape=(1,), name=\"cluster_pca\")\n",
        "  cont_input = keras.Input(shape=(15,), name=\"cont_inputs\")\n",
        "\n",
        "  # Lookup Layer for the p_num:\n",
        "  # pca_lookup = layers.IntegerLookup(vocabulary=list(range(0,4)),mask_token=None,num_oov_indices=0,\n",
        "  #                                  output_mode=\"int\", name=\"lookup_pca\")\n",
        "  # pca_encoded = pca_lookup(pca_input)\n",
        "\n",
        "  # Lookup Layer for the minutes:\n",
        "  minute_lookup = layers.IntegerLookup(vocabulary=list(range(0,60,5)),mask_token=None,num_oov_indices=0,\n",
        "                                       output_mode=\"int\", name=\"lookup_min\")\n",
        "\n",
        "  minute_encoded = minute_lookup(minute_input)\n",
        "\n",
        "  # Embedding layers for hour and minute\n",
        "  hour_embedding = layers.Embedding(input_dim=24, output_dim=8, name=\"embed_hour\")(hour_input)\n",
        "  minute_embedding = layers.Embedding(input_dim=12, output_dim=6, name=\"embed_minute\")(minute_encoded)\n",
        "  pca_encoded_embedding = layers.Embedding(input_dim=4,output_dim=3, name=\"embed_pca\")(pca_input)\n",
        "\n",
        "  # Embedding layer for cluster\n",
        "  cluster_embedding = layers.Embedding(input_dim=22, output_dim=8, name=\"embed_cluster\")(cluster_input)\n",
        "\n",
        "  # Flatten the embeddings\n",
        "  hour_flat = layers.Flatten()(hour_embedding)\n",
        "  minute_flat = layers.Flatten()(minute_embedding)\n",
        "  cluster_flat = layers.Flatten()(cluster_embedding)\n",
        "  pca_flat = layers.Flatten()(pca_encoded_embedding)\n",
        "\n",
        "  # Concatenate all tabular features\n",
        "  tabular_output = layers.concatenate([hour_flat, minute_flat, cluster_flat, pca_flat,cont_input],\n",
        "                                      name=\"tabular_concat\")\n",
        "\n",
        "  # Dense layers for tabular data\n",
        "  for num, den in enumerate(dense_layers):\n",
        "    tabular_output = residual_block_dense(tabular_output, den, activation=activation, normalization_type='batch', dropout_rate=dropout, name=f\"block_{num}\",  reg=reg,)\n",
        "\n",
        "  # --- Time Series Data Processing ---\n",
        "  # Input layer for time series data\n",
        "  time_series_input = keras.Input(shape=(72, 8), name=\"time_series_input\")\n",
        "  x=time_series_input\n",
        "  # LSTM layers for time series data\n",
        "  for sup, i in enumerate(conv_layers):\n",
        "      input_tensor = x\n",
        "      x = layers.Conv1D(filters=i, kernel_size=3, strides=strides, padding='same',name=f\"conv_{sup}\")(x)\n",
        "      x = layers.LayerNormalization(name=f\"lnorm_{sup}\")(x)\n",
        "      x = layers.Activation('relu',name=f\"act_{sup}\")(x)\n",
        "      x = layers.SpatialDropout1D(0.2,name=f\"spat_drop_{sup}\")(x)\n",
        "\n",
        "      # Residual connection\n",
        "      if strides > 1 or time_series_input.shape[-1] != i:\n",
        "          residual = layers.Conv1D(i, 1, strides=strides, padding='same',name=f\"res_conn_{sup}\")(input_tensor)\n",
        "      else:\n",
        "          residual = input_tensor\n",
        "\n",
        "      x = layers.add([x, residual],name=f\"add_{sup}\")\n",
        "      x = layers.MaxPooling1D(pool_size=2,name=f\"max_pool_{sup}\")(x)\n",
        "\n",
        "  x = layers.Flatten(name=f\"flatten_conv\")(x)\n",
        "  # --- Combine Tabular and Time Series Data ---\n",
        "  # Concatenate the outputs from both branches\n",
        "  concatenated = layers.concatenate([tabular_output, x])\n",
        "\n",
        "  # --- Output Layer ---\n",
        "  # Final dense layer for prediction\n",
        "  output = layers.Dense(1,\n",
        "                        name=\"output\",\n",
        "                        #activity_regularizer=keras.regularizers.l2(reg)\n",
        "                        )(concatenated)\n",
        "\n",
        "  # --- Create and Compile the Model ---\n",
        "  # Create the model\n",
        "  model = keras.Model(inputs=[hour_input, minute_input, cluster_input, pca_input,cont_input,time_series_input], outputs=output)\n",
        "\n",
        "  optimizer= keras.optimizers.Adam(learning_rate=lr)\n",
        "  metric = RootMeanSquaredError(name=\"rmse\", dtype=None)\n",
        "  metric_mae = MeanAbsoluteError(name=\"mae\", dtype=None)\n",
        "\n",
        "  # Compile the model\n",
        "  model.compile(optimizer=optimizer, loss=\"mse\", metrics=[metric,metric_mae])\n",
        "\n",
        "  # Print model summary\n",
        "  if summary==True:\n",
        "    model.summary()\n",
        "\n",
        "  return model\n",
        "\n",
        "\n",
        "#vocabulary = X_train[\"p_num\"].unique().tolist()\n",
        "model = create_model_v2(summary=True)"
      ],
      "metadata": {
        "id": "PF0Tkogd9rrb"
      },
      "execution_count": null,
      "outputs": []
    },
    {
      "cell_type": "code",
      "source": [
        "plot_model(model, show_shapes=True, show_layer_names=True, rankdir=\"LR\", expand_nested=True, show_layer_activations=True)"
      ],
      "metadata": {
        "id": "0iSf1EzM9rrb"
      },
      "execution_count": null,
      "outputs": []
    },
    {
      "cell_type": "markdown",
      "source": [
        "### 2.1.4 Training Functions:"
      ],
      "metadata": {
        "id": "0435jpRy9rrc"
      }
    },
    {
      "cell_type": "code",
      "source": [
        "list(range(len(val_sets)))"
      ],
      "metadata": {
        "id": "RWbeUm719rrc"
      },
      "execution_count": null,
      "outputs": []
    },
    {
      "cell_type": "markdown",
      "source": [
        "#### Main Function:"
      ],
      "metadata": {
        "id": "OOZsBzXL9rrc"
      }
    },
    {
      "cell_type": "code",
      "source": [
        "def run_experiment(X_train, X_test, model_constructor, best_params, split=val_sets, experiment_name=\"conv_v0_nn\", rs=42, target=\"bg+1:00\",\n",
        "                   batch_size=64, num_epochs=200, learning_rate=0.001, target_scaler=target_scaler):\n",
        "\n",
        "  test_predictions = np.zeros((len(X_test),1))\n",
        "  test_results_df = pd.DataFrame(index=X_test.index, columns=list(range(len(val_sets))))\n",
        "\n",
        "  all_mse = []\n",
        "  all_rmse = []\n",
        "\n",
        "  for i, val_index in enumerate(split):\n",
        "\n",
        "    print(f\"\\nRunning CV {i}\\n\")\n",
        "    ########################################################################## Prepare the Dataset:\n",
        "    X_trn = X_train.drop(index=val_index)\n",
        "    X_val = X_train.loc[val_index,:]\n",
        "\n",
        "#    vocabulary = X_trn[\"p_num\"].unique().tolist()\n",
        "\n",
        "    X = X_trn.drop(columns=[target]).copy()\n",
        "    y = X_trn[target].copy()\n",
        "\n",
        "    val_X = X_val.drop(columns=[target]).copy()\n",
        "    val_y = X_val[target].copy()\n",
        "\n",
        "    X_test = X_test.copy()\n",
        "    #################################################################### Prepare Datasets loaders:\n",
        "\n",
        "    train_dataset = dataframe_to_dataset(X_trn, batch_size=batch_size, shuffle=True)\n",
        "    valid_dataset = dataframe_to_dataset(X_val, batch_size=batch_size, shuffle=False)\n",
        "    test_dataset = dataframe_to_dataset(X_test, batch_size=batch_size, shuffle=False)\n",
        "\n",
        "    ##################################################################### Relevant Folders\n",
        "    folders_experiment = f\"/content/drive/MyDrive/Exercises/Studies_Structured_Data/Models/Glucose/{experiment_name}_{i}/\"\n",
        "    ##################################################################### Generate and Fit Model\n",
        "    # Callbacks:\n",
        "    checkpoint_filepath = folders_experiment + f'checkpoint/{experiment_name}.weights.h5'\n",
        "\n",
        "    # Generate the Model:\n",
        "    model = model_constructor(lr = learning_rate,\n",
        "                              **best_params)\n",
        "\n",
        "    print(\"Start training the model...\")\n",
        "    history = model.fit(train_dataset,\n",
        "                        epochs=num_epochs,\n",
        "                        callbacks=[keras.callbacks.EarlyStopping(monitor='val_rmse', patience=17, mode=\"min\",\n",
        "                                                  start_from_epoch=5,restore_best_weights=True),\n",
        "                                   keras.callbacks.ModelCheckpoint(filepath=checkpoint_filepath,\n",
        "                                                    save_weights_only=True,\n",
        "                                                    monitor=\"val_rmse\",\n",
        "                                                    mode='min',\n",
        "                                                    save_best_only=True),\n",
        "                                   keras.callbacks.ReduceLROnPlateau(monitor='val_rmse', factor=0.5,\n",
        "                                                          patience=5, min_lr=0.0001, mode=\"min\")],\n",
        "                        validation_data=valid_dataset)\n",
        "    print(\"Model training finished\")\n",
        "\n",
        "    model.load_weights(checkpoint_filepath)\n",
        "    model.evaluate(valid_dataset, verbose=0)\n",
        "\n",
        "    plot_training_session(history)\n",
        "\n",
        "    oof_res = model.predict(valid_dataset)\n",
        "    test_pred = model.predict(test_dataset)\n",
        "\n",
        "    print(f\"Out-of-Fold Shapes: {val_y.shape},{oof_res.shape}\")\n",
        "\n",
        "    rmse_score = root_mean_squared_error(val_y, oof_res)\n",
        "\n",
        "    val_pred = target_scaler.inverse_transform(oof_res)\n",
        "    real_val_y = target_scaler.inverse_transform(val_y.values.reshape(-1,1))\n",
        "    test_pred_real = target_scaler.inverse_transform(test_pred)\n",
        "\n",
        "    rmse_score_original = root_mean_squared_error(real_val_y, val_pred)\n",
        "\n",
        "    fig, axs = plt.subplots(1,1, figsize=(10,4))\n",
        "    axs.scatter(val_pred, real_val_y)\n",
        "    axs.set_title(f\"Out-of-Fold RMSE Score: {round(rmse_score, 3)}%\")\n",
        "    plt.tight_layout()\n",
        "    plt.show()\n",
        "\n",
        "    print(f\"Out-of-Fold RMSE Score Rebased: {round(rmse_score, 3)}%\")\n",
        "    print(f\"Out-of-Fold RMSE Score Original: {round(rmse_score_original, 3)}%\")\n",
        "\n",
        "    ##################################################################### Save the Model\n",
        "    model.save(f\"{folders_experiment}/model_{experiment_name}.keras\")\n",
        "\n",
        "    ##################################################################### Create Model Output\n",
        "    test_results_df.loc[:,i] = test_pred_real\n",
        "    all_rmse.append(round(rmse_score_original, 3))\n",
        "\n",
        "    gc.collect()\n",
        "\n",
        "  ##################################################################### Create Model Output\n",
        "  print(f\"All Valuation RMSE: {all_rmse}\")\n",
        "\n",
        "  return test_results_df"
      ],
      "metadata": {
        "id": "Vf73pOoN9rrc"
      },
      "execution_count": null,
      "outputs": []
    },
    {
      "cell_type": "markdown",
      "source": [
        "#### Keras Tuner:"
      ],
      "metadata": {
        "id": "WLDlNf_S9rrc"
      }
    },
    {
      "cell_type": "code",
      "source": [
        "tuning_on=True\n",
        "gc.collect()"
      ],
      "metadata": {
        "id": "Eoe4yvU-9rrd"
      },
      "execution_count": null,
      "outputs": []
    },
    {
      "cell_type": "markdown",
      "source": [
        " Select a Validation set:"
      ],
      "metadata": {
        "id": "Vcoa0d9S9rrd"
      }
    },
    {
      "cell_type": "code",
      "source": [
        "valid_index = val_sets[0]\n",
        "Xt = X_train.drop(index=valid_index)\n",
        "Xv = X_train.loc[valid_index,:]\n",
        "\n",
        "print(f\"Train Shape: {Xt.shape}, Val Shape: {Xv.shape}\")"
      ],
      "metadata": {
        "id": "hf3XYhZp9rrd"
      },
      "execution_count": null,
      "outputs": []
    },
    {
      "cell_type": "code",
      "source": [
        "if tuning_on==True:\n",
        "\n",
        "  train_dataset = dataframe_to_dataset(Xt, batch_size=256, shuffle=True)\n",
        "  valid_dataset = dataframe_to_dataset(Xv, batch_size=256, shuffle=False)"
      ],
      "metadata": {
        "id": "mqDY4VG39rrd"
      },
      "execution_count": null,
      "outputs": []
    },
    {
      "cell_type": "code",
      "source": [
        "512/4"
      ],
      "metadata": {
        "id": "67oSN8xo9rrd"
      },
      "execution_count": null,
      "outputs": []
    },
    {
      "cell_type": "code",
      "source": [
        "if tuning_on==True:\n",
        "  # Define the hyperparameter search space: EXPERIMENT 1\n",
        "  hp = kt.HyperParameters()\n",
        "  hp.Choice('main_activation', [\"relu\",\"silu\",\"gelu\",\"selu\"]) #\n",
        "  hp.Float('dropout',0.15,0.40, step=0.025) #\n",
        "  hp.Float('reg',0.0001, 1.0,step=10,sampling=\"log\") #\n",
        "  hp.Choice('dense_layers', values=[512,256,128])\n",
        "  hp.Choice('conv_layers', values=[1024,512,256,128])"
      ],
      "metadata": {
        "id": "yQ9OozxR9rre"
      },
      "execution_count": null,
      "outputs": []
    },
    {
      "cell_type": "code",
      "source": [
        "def create_turner_model(hp):\n",
        "\n",
        "  model = create_model_v2(dense_layers=[hp.get('dense_layers'),int(hp.get('dense_layers')/2),int(hp.get('dense_layers')/2),int(hp.get('dense_layers')/2),int(hp.get('dense_layers')/4)],\n",
        "                          dropout=hp.get('dropout'),\n",
        "                          conv_layers=[hp.get('conv_layers'),int(hp.get('conv_layers')/2),int(hp.get('conv_layers')/4),int(hp.get('conv_layers')/8)],\n",
        "                          activation=hp.get('main_activation'),\n",
        "                          reg=hp.get('reg'),\n",
        "                          lr=0.001,\n",
        "                          summary=False)\n",
        "  return model"
      ],
      "metadata": {
        "id": "a3YWHNID9rre"
      },
      "execution_count": null,
      "outputs": []
    },
    {
      "cell_type": "code",
      "source": [
        "if tuning_on==True:\n",
        "  # Create a tuner and search for the best hyperparameters\n",
        "  tuner = BayesianOptimization(create_turner_model,\n",
        "                              objective=kt.Objective(\"val_rmse\", \"min\"),\n",
        "                              hyperparameters=hp, max_trials=50, overwrite=True)\n",
        "\n",
        "  stop_early = tf.keras.callbacks.EarlyStopping(monitor='val_rmse', patience=7, mode=\"min\", start_from_epoch=5)\n",
        "  reduce_ = tf.keras.callbacks.ReduceLROnPlateau(monitor='val_rmse', factor=0.5, patience=3, min_lr=0.0001, mode=\"min\")\n",
        "\n",
        "  tuner.search(train_dataset, validation_data=valid_dataset, epochs=31, callbacks=[stop_early,reduce_])"
      ],
      "metadata": {
        "id": "qc-5oUU59rre"
      },
      "execution_count": null,
      "outputs": []
    },
    {
      "cell_type": "code",
      "source": [
        "if tuning_on==True:\n",
        "  tuner.results_summary(num_trials=21)"
      ],
      "metadata": {
        "id": "Kxu7KqWY9rre"
      },
      "execution_count": null,
      "outputs": []
    },
    {
      "cell_type": "code",
      "source": [
        "if tuning_on==True:\n",
        "  print(tuner.get_best_hyperparameters(4)[0].values)\n",
        "  print(tuner.get_best_hyperparameters(4)[1].values)\n",
        "  print(tuner.get_best_hyperparameters(4)[2].values)\n",
        "  print(tuner.get_best_hyperparameters(4)[3].values)\n",
        "  print(tuner.get_best_hyperparameters(5)[4].values)\n",
        "  print(tuner.get_best_hyperparameters(6)[5].values)\n",
        "  print(tuner.get_best_hyperparameters(7)[6].values)"
      ],
      "metadata": {
        "id": "_srg9spf9rre"
      },
      "execution_count": null,
      "outputs": []
    },
    {
      "cell_type": "markdown",
      "source": [
        "* {'main_activation': 'gelu', 'dropout': 0.375, 'reg': 0.0001, 'dense_layers': 128, 'conv_layers': 128}\n",
        "* {'main_activation': 'gelu', 'dropout': 0.15, 'reg': 0.0001, 'dense_layers': 128, 'conv_layers': 128}\n",
        "* {'main_activation': 'silu', 'dropout': 0.35, 'reg': 0.0001, 'dense_layers': 128, 'conv_layers': 128}\n",
        "* {'main_activation': 'relu', 'dropout': 0.375, 'reg': 0.0001, 'dense_layers': 128, 'conv_layers': 128}\n",
        "* {'main_activation': 'relu', 'dropout': 0.275, 'reg': 0.0001, 'dense_layers': 128, 'conv_layers': 128}\n",
        "* {'main_activation': 'relu', 'dropout': 0.375, 'reg': 0.0001, 'dense_layers': 128, 'conv_layers': 128}\n",
        "* {'main_activation': 'gelu', 'dropout': 0.30, 'reg': 0.0001, 'dense_layers': 128, 'conv_layers': 128}\n",
        "\n",
        "* **Trial 34 summary**\n",
        "Hyperparameters:\n",
        "main_activation: gelu\n",
        "dropout: 0.375\n",
        "reg: 0.0001\n",
        "dense_layers: 128\n",
        "conv_layers: 128\n",
        "Score: 1.9520071744918823\n",
        "\n",
        "* **Trial 30 summary**\n",
        "Hyperparameters:\n",
        "main_activation: gelu\n",
        "dropout: 0.15\n",
        "reg: 0.0001\n",
        "dense_layers: 128\n",
        "conv_layers: 128\n",
        "Score: 1.9539700746536255\n",
        "\n",
        "* **Trial 22 summary**\n",
        "Hyperparameters:\n",
        "main_activation: silu\n",
        "dropout: 0.35\n",
        "reg: 0.0001\n",
        "dense_layers: 128\n",
        "conv_layers: 128\n",
        "Score: 1.954962134361267\n",
        "\n",
        "* **Trial 24 summary**\n",
        "Hyperparameters:\n",
        "main_activation: relu\n",
        "dropout: 0.375\n",
        "reg: 0.0001\n",
        "dense_layers: 128\n",
        "conv_layers: 128\n",
        "Score: 1.9550836086273193\n",
        "\n",
        "* **Trial 11 summary**\n",
        "Hyperparameters:\n",
        "main_activation: relu\n",
        "dropout: 0.275\n",
        "reg: 0.0001\n",
        "dense_layers: 128\n",
        "conv_layers: 128\n",
        "Score: 1.9551788568496704\n",
        "\n",
        "* **Trial 40 summary**\n",
        "Hyperparameters:\n",
        "main_activation: relu\n",
        "dropout: 0.375\n",
        "reg: 0.0001\n",
        "dense_layers: 128\n",
        "conv_layers: 128\n",
        "Score: 1.955820918083191\n",
        "\n",
        "* **Trial 37 summary**\n",
        "Hyperparameters:\n",
        "main_activation: gelu\n",
        "dropout: 0.30000000000000004\n",
        "reg: 0.0001\n",
        "dense_layers: 128\n",
        "conv_layers: 128\n",
        "Score: 1.9563628435134888\n",
        "\n",
        "* **Trial 26 summary**\n",
        "Hyperparameters:\n",
        "main_activation: silu\n",
        "dropout: 0.375\n",
        "reg: 0.0001\n",
        "dense_layers: 512\n",
        "conv_layers: 128\n",
        "Score: 1.956717610359192\n",
        "\n",
        "* **Trial 15 summary**\n",
        "Hyperparameters:\n",
        "main_activation: silu\n",
        "dropout: 0.275\n",
        "reg: 0.0001\n",
        "dense_layers: 128\n",
        "conv_layers: 128\n",
        "Score: 1.9571396112442017\n",
        "\n",
        "* **Trial 25 summary**\n",
        "Hyperparameters:\n",
        "main_activation: gelu\n",
        "dropout: 0.325\n",
        "reg: 0.0001\n",
        "dense_layers: 256\n",
        "conv_layers: 128\n",
        "Score: 1.9579848051071167\n",
        "\n",
        "* **Trial 44 summary**\n",
        "Hyperparameters:\n",
        "main_activation: relu\n",
        "dropout: 0.375\n",
        "reg: 0.0001\n",
        "dense_layers: 128\n",
        "conv_layers: 128\n",
        "Score: 1.958244800567627\n",
        "\n",
        "* **Trial 19 summary**\n",
        "Hyperparameters:\n",
        "main_activation: relu\n",
        "dropout: 0.30000000000000004\n",
        "reg: 0.0001\n",
        "dense_layers: 128\n",
        "conv_layers: 128\n",
        "Score: 1.9587109088897705\n",
        "\n",
        "* **Trial 48 summary**\n",
        "Hyperparameters:\n",
        "main_activation: relu\n",
        "dropout: 0.375\n",
        "reg: 0.0001\n",
        "dense_layers: 128\n",
        "conv_layers: 128\n",
        "Score: 1.9599860906600952\n",
        "\n",
        "* **Trial 23 summary**\n",
        "Hyperparameters:\n",
        "main_activation: relu\n",
        "dropout: 0.375\n",
        "reg: 0.0001\n",
        "dense_layers: 256\n",
        "conv_layers: 128\n",
        "Score: 1.9600061178207397"
      ],
      "metadata": {
        "id": "JAAziUcp9rrf"
      }
    },
    {
      "cell_type": "markdown",
      "source": [
        "#### Fit The Model:"
      ],
      "metadata": {
        "id": "PGrGnDtb9rrf"
      }
    },
    {
      "cell_type": "code",
      "source": [
        "#best_params = tuner.get_best_hyperparameters(1)[0].values\n",
        "best_params = {'activation': 'silu', 'dropout': 0.35, 'reg': 0.0001, 'dense_layers': [128,64,64,64,32], 'conv_layers': [128,64,32,16]}"
      ],
      "metadata": {
        "id": "QN5iBLBc9rrf"
      },
      "execution_count": null,
      "outputs": []
    },
    {
      "cell_type": "code",
      "source": [
        "test_results_df = run_experiment(X_train, X_test, create_model_v2, best_params, split=val_sets,\n",
        "                                 experiment_name=\"conv_v2_nn\", rs=42, target=\"bg+1:00\",\n",
        "                                 batch_size=256, num_epochs=200, learning_rate=0.00025)"
      ],
      "metadata": {
        "id": "jR7CUwIc9rrf"
      },
      "execution_count": null,
      "outputs": []
    },
    {
      "cell_type": "code",
      "source": [
        "test_results_df.clip(2.7,22.5, inplace=True)"
      ],
      "metadata": {
        "id": "vPK3kQzTIq9n"
      },
      "execution_count": null,
      "outputs": []
    },
    {
      "cell_type": "code",
      "source": [
        "plt.scatter(test_results_df[0],test_results_df[4])"
      ],
      "metadata": {
        "id": "s9I-glmH60Td"
      },
      "execution_count": null,
      "outputs": []
    },
    {
      "cell_type": "code",
      "source": [
        "test_results_df[\"average\"] = test_results_df.mean(axis=1)\n",
        "test_results_df.max(axis=0),test_results_df.min(axis=0)"
      ],
      "metadata": {
        "id": "IODvqfJA9rrf"
      },
      "execution_count": null,
      "outputs": []
    },
    {
      "cell_type": "markdown",
      "source": [
        "#### **STORE RESULTS**"
      ],
      "metadata": {
        "id": "VIfZv74V9rrg"
      }
    },
    {
      "cell_type": "code",
      "source": [
        "sub = pd.read_csv(\"/content/drive/MyDrive/Exercises/Studies_Structured_Data/Data/Glucose/sample_submission.csv\")"
      ],
      "metadata": {
        "id": "bE8YK5Mk9rrg"
      },
      "execution_count": null,
      "outputs": []
    },
    {
      "cell_type": "code",
      "source": [
        "for i, col in enumerate(test_results_df.columns):\n",
        "  sub[\"bg+1:00\"] = test_results_df[col].values\n",
        "  sub.to_csv(f\"/content/drive/MyDrive/Exercises/Studies_Structured_Data/Data/Glucose/submissions/Submission_val_conv_v3_{col}_clipped.csv\", index=False)\n",
        "  print(sub.isna().sum())"
      ],
      "metadata": {
        "id": "wTRfkHld9rrg"
      },
      "execution_count": null,
      "outputs": []
    },
    {
      "cell_type": "markdown",
      "source": [
        "## **2.4 MODEL 04**"
      ],
      "metadata": {
        "id": "_3U8xN0bJ5ma"
      }
    },
    {
      "cell_type": "markdown",
      "source": [
        "### 3.1.1 Create Dataloader:"
      ],
      "metadata": {
        "id": "5OzGGjClJ5ma"
      }
    },
    {
      "cell_type": "code",
      "source": [
        "X_train[[\"PC_1\",\"PC_2\",\"PC_3\",\"enc_04_v7\",\"enc_01_v1\",\"enc_07_v7\",\"enc_01_v4\",\n",
        "          \"enc_05_v4\",\"enc_03_v6\",\"enc_05_v7\",\"enc_06_v6\",\"enc_01_v6\",\"enc_06_v7\",\n",
        "          \"enc_08_v6\",\"enc_04_v6\",\"bg-0:00\",\"insulin_av-0:00\",\"brake-0:00\",\"intake-0:00\"]].describe()"
      ],
      "metadata": {
        "id": "hp1yj3hrZGPR"
      },
      "execution_count": null,
      "outputs": []
    },
    {
      "cell_type": "code",
      "source": [
        "X_test[[\"PC_1\",\"PC_2\",\"PC_3\",\"enc_04_v7\",\"enc_01_v1\",\"enc_07_v7\",\"enc_01_v4\",\n",
        "          \"enc_05_v4\",\"enc_03_v6\",\"enc_05_v7\",\"enc_06_v6\",\"enc_01_v6\",\"enc_06_v7\",\n",
        "          \"enc_08_v6\",\"enc_04_v6\",\"bg-0:00\",\"insulin_av-0:00\",\"brake-0:00\",\"intake-0:00\"]].describe()"
      ],
      "metadata": {
        "id": "laCSiFdgZStU"
      },
      "execution_count": null,
      "outputs": []
    },
    {
      "cell_type": "code",
      "source": [
        "gc.collect()"
      ],
      "metadata": {
        "id": "8eq7gXULJ5mb"
      },
      "execution_count": null,
      "outputs": []
    },
    {
      "cell_type": "code",
      "source": [
        "def dataframe_to_dataset(dataframe, shuffle=False, batch_size=32):\n",
        "    dataframe = dataframe.copy()\n",
        "    target = dataframe[\"bg+1:00\"]\n",
        "    dataframe = dataframe.drop(columns=[\"bg+1:00\"])\n",
        "\n",
        "    static_df = dataframe.copy()\n",
        "\n",
        "\n",
        "    ds = tf.data.Dataset.from_tensor_slices(((static_df[\"hour\"].values,  # First input\n",
        "                                              static_df[\"minute\"].values,  # Second input\n",
        "                                              static_df[\"cluster\"].values,  # Third input\n",
        "                                              static_df[\"cluster_pca\"].values,  # Fourth input\n",
        "                                              static_df[[\"PC_1\",\"PC_2\",\"PC_3\",\"enc_04_v7\",\"enc_01_v1\",\"enc_07_v7\",\"enc_01_v4\",\"enc_05_v4\",\n",
        "                                                        \"enc_03_v6\",\"enc_05_v7\",\"enc_06_v6\",\"enc_01_v6\",\"enc_06_v7\",\"enc_08_v6\",\"enc_04_v6\",\n",
        "                                                         \"bg-0:00\",\"insulin_av-0:00\",\"brake-0:00\",\"intake-0:00\"]].values),\n",
        "                                              target))\n",
        "\n",
        "    if shuffle:\n",
        "      ds = ds.shuffle(buffer_size=len(dataframe))\n",
        "\n",
        "    ds = ds.batch(batch_size)\n",
        "    ds = ds.prefetch(batch_size)\n",
        "\n",
        "    return ds"
      ],
      "metadata": {
        "id": "jABXnHzFJ5mc"
      },
      "execution_count": null,
      "outputs": []
    },
    {
      "cell_type": "code",
      "source": [
        "train_ds = dataframe_to_dataset(X_train,batch_size=1)"
      ],
      "metadata": {
        "id": "QCu8MJf5J5mc"
      },
      "execution_count": null,
      "outputs": []
    },
    {
      "cell_type": "code",
      "source": [
        "#X_train.filter(regex='insulin')"
      ],
      "metadata": {
        "id": "K7Z0mheoQyYQ"
      },
      "execution_count": null,
      "outputs": []
    },
    {
      "cell_type": "markdown",
      "source": [
        "* **TEST THE DATALOADER:**"
      ],
      "metadata": {
        "id": "J1aqJITPJ5mc"
      }
    },
    {
      "cell_type": "code",
      "source": [
        "for (x0, x1, x2, x3, x4), y in train_ds.take(1):\n",
        "    print(x0.shape,x1.shape,x2.shape,x3.shape,x4.shape,y.shape)"
      ],
      "metadata": {
        "id": "_0es-IxOJ5md"
      },
      "execution_count": null,
      "outputs": []
    },
    {
      "cell_type": "code",
      "source": [
        "#X_train.iloc[:2000,:].to_csv(\"train_sample.csv\")"
      ],
      "metadata": {
        "id": "tYzR-NvVJ5md"
      },
      "execution_count": null,
      "outputs": []
    },
    {
      "cell_type": "markdown",
      "source": [
        "### **2.1.2 Encoding**"
      ],
      "metadata": {
        "id": "BGOffvpmJ5md"
      }
    },
    {
      "cell_type": "code",
      "source": [
        "static_col = list(X_train.drop(columns=ts_fields+[\"bg+1:00\"]).columns)\n",
        "\n",
        "static_entries = {}\n",
        "\n",
        "for col in static_col:\n",
        "    static_entries[col] = X_train[col].nunique()\n",
        "\n",
        "embed_dim = {'cluster_pca': 3, 'hour': 8, 'minute': 4, 'cluster': 8}\n",
        "#static_entries"
      ],
      "metadata": {
        "id": "X5928jRMJ5md"
      },
      "execution_count": null,
      "outputs": []
    },
    {
      "cell_type": "code",
      "source": [
        "def encode_tabular(inputs, list_categorical_nn, Cat_Feat_Entries=static_entries, num_dense_exp=False, embedding_dims=embed_dim, name=\"enc\"):\n",
        "    encoded_categorical_feature_list = []\n",
        "    numerical_feature_list = []\n",
        "\n",
        "    for counter, feature_name in enumerate(inputs):\n",
        "\n",
        "      vocabulary = Cat_Feat_Entries[feature_name]\n",
        "      emb_dim = embedding_dims[feature_name]\n",
        "\n",
        "      embedding = layers.Embedding(input_dim=vocabulary, output_dim=emb_dim, name=f\"embedder_{counter}\")\n",
        "      # Convert the index values to embedding representations.\n",
        "      encoded_categorical_feature = embedding(inputs[feature_name])\n",
        "\n",
        "      encoded_categorical_feature_list.append(encoded_categorical_feature)\n",
        "\n",
        "    return encoded_categorical_feature_list, numerical_feature_list"
      ],
      "metadata": {
        "id": "SANjLzzoJ5me"
      },
      "execution_count": null,
      "outputs": []
    },
    {
      "cell_type": "code",
      "source": [
        "X_train.info()"
      ],
      "metadata": {
        "id": "89P6gmmbJ5me"
      },
      "execution_count": null,
      "outputs": []
    },
    {
      "cell_type": "markdown",
      "source": [
        "### **2.1.3 Create Models:**"
      ],
      "metadata": {
        "id": "kifxKStlJ5me"
      }
    },
    {
      "cell_type": "code",
      "source": [
        "def create_model_v3(dropout=0.3,\n",
        "                    activation=\"selu\",\n",
        "                    reg=0.0,\n",
        "                    lr=0.001,\n",
        "                    base=32,\n",
        "                    rep=4,\n",
        "                    summary=False):\n",
        "\n",
        "  # --- Tabular Data Processing ---\n",
        "  # Input layer for tabular data as a dictionary\n",
        "  hour_input = keras.Input(shape=(1,), name=\"hour_input\")\n",
        "  minute_input = keras.Input(shape=(1,), name=\"minute_input\")\n",
        "  cluster_input = keras.Input(shape=(1,), name=\"cluster_input\")\n",
        "  pca_input = keras.Input(shape=(1,), name=\"cluster_pca\")\n",
        "  cont_input = keras.Input(shape=(19,), name=\"cont_inputs\")\n",
        "\n",
        "  # Lookup Layer for the p_num:\n",
        "  # pca_lookup = layers.IntegerLookup(vocabulary=list(range(0,4)),mask_token=None,num_oov_indices=0,\n",
        "  #                                  output_mode=\"int\", name=\"lookup_pca\")\n",
        "  # pca_encoded = pca_lookup(pca_input)\n",
        "\n",
        "  # Lookup Layer for the minutes:\n",
        "  minute_lookup = layers.IntegerLookup(vocabulary=list(range(0,60,5)),mask_token=None,num_oov_indices=0,\n",
        "                                       output_mode=\"int\", name=\"lookup_min\")\n",
        "\n",
        "  minute_encoded = minute_lookup(minute_input)\n",
        "\n",
        "  # Embedding layers for hour and minute\n",
        "  hour_embedding = layers.Embedding(input_dim=24, output_dim=8, name=\"embed_hour\")(hour_input)\n",
        "  minute_embedding = layers.Embedding(input_dim=12, output_dim=6, name=\"embed_minute\")(minute_encoded)\n",
        "  pca_encoded_embedding = layers.Embedding(input_dim=4,output_dim=3, name=\"embed_pca\")(pca_input)\n",
        "\n",
        "  # Embedding layer for cluster\n",
        "  cluster_embedding = layers.Embedding(input_dim=22, output_dim=8, name=\"embed_cluster\")(cluster_input)\n",
        "\n",
        "  # Flatten the embeddings\n",
        "  hour_flat = layers.Flatten()(hour_embedding)\n",
        "  minute_flat = layers.Flatten()(minute_embedding)\n",
        "  cluster_flat = layers.Flatten()(cluster_embedding)\n",
        "  pca_flat = layers.Flatten()(pca_encoded_embedding)\n",
        "\n",
        "  # Concatenate all tabular features\n",
        "  tabular_output = layers.concatenate([hour_flat, minute_flat, cluster_flat, pca_flat,cont_input],\n",
        "                                      name=\"tabular_concat\")\n",
        "  all_feat = tabular_output\n",
        "\n",
        "  # Dense layers for tabular data\n",
        "  for num, den in enumerate(range(1,rep+1)):\n",
        "    step = residual_block_dense(all_feat, base*den, activation=activation, normalization_type='batch', dropout_rate=dropout, name=f\"block_{num}\",  reg=reg,)\n",
        "    all_feat = tf.keras.layers.concatenate([all_feat,step], name=f\"concat_step_{num}\")\n",
        "\n",
        "  # --- Output Layer ---\n",
        "  # Final dense layer for prediction\n",
        "  output = layers.Dense(1, name=\"output\")(all_feat)\n",
        "\n",
        "  # --- Create and Compile the Model ---\n",
        "  # Create the model\n",
        "  model = keras.Model(inputs=[hour_input, minute_input, cluster_input, pca_input,cont_input], outputs=output)\n",
        "\n",
        "  optimizer= keras.optimizers.Adam(learning_rate=lr)\n",
        "  metric = RootMeanSquaredError(name=\"rmse\", dtype=None)\n",
        "  metric_mae = MeanAbsoluteError(name=\"mae\", dtype=None)\n",
        "\n",
        "  # Compile the model\n",
        "  model.compile(optimizer=optimizer, loss=\"mse\", metrics=[metric,metric_mae])\n",
        "\n",
        "  # Print model summary\n",
        "  if summary==True:\n",
        "    model.summary()\n",
        "\n",
        "  return model\n",
        "\n",
        "\n",
        "#vocabulary = X_train[\"p_num\"].unique().tolist()\n",
        "model = create_model_v3(summary=True)"
      ],
      "metadata": {
        "id": "pqlqoxJdJ5me"
      },
      "execution_count": null,
      "outputs": []
    },
    {
      "cell_type": "code",
      "source": [
        "plot_model(model, show_shapes=True, show_layer_names=True,\n",
        "           #rankdir=\"LR\",\n",
        "           expand_nested=True, show_layer_activations=True)"
      ],
      "metadata": {
        "id": "HkmEgbZiJ5mf"
      },
      "execution_count": null,
      "outputs": []
    },
    {
      "cell_type": "markdown",
      "source": [
        "### 2.1.4 Training Functions:"
      ],
      "metadata": {
        "id": "diSTHV0QJ5mf"
      }
    },
    {
      "cell_type": "code",
      "source": [
        "list(range(len(val_sets)))"
      ],
      "metadata": {
        "id": "Cs2bNKDuJ5mf"
      },
      "execution_count": null,
      "outputs": []
    },
    {
      "cell_type": "markdown",
      "source": [
        "#### Main Function:"
      ],
      "metadata": {
        "id": "kJNLakw_J5mg"
      }
    },
    {
      "cell_type": "code",
      "source": [
        "def run_experiment(X_train, X_test, model_constructor, best_params, split=val_sets, experiment_name=\"conv_v3_nn\", rs=42, target=\"bg+1:00\",\n",
        "                   batch_size=64, num_epochs=200, learning_rate=0.001, target_scaler=target_scaler):\n",
        "\n",
        "  test_predictions = np.zeros((len(X_test),1))\n",
        "  test_results_df = pd.DataFrame(index=X_test.index, columns=list(range(len(val_sets))))\n",
        "\n",
        "  all_mse = []\n",
        "  all_rmse = []\n",
        "\n",
        "  for i, val_index in enumerate(split):\n",
        "\n",
        "    print(f\"\\nRunning CV {i}\\n\")\n",
        "    ########################################################################## Prepare the Dataset:\n",
        "    X_trn = X_train.drop(index=val_index)\n",
        "    X_val = X_train.loc[val_index,:]\n",
        "\n",
        "#    vocabulary = X_trn[\"p_num\"].unique().tolist()\n",
        "\n",
        "    X = X_trn.drop(columns=[target]).copy()\n",
        "    y = X_trn[target].copy()\n",
        "\n",
        "    val_X = X_val.drop(columns=[target]).copy()\n",
        "    val_y = X_val[target].copy()\n",
        "\n",
        "    X_test = X_test.copy()\n",
        "    #################################################################### Prepare Datasets loaders:\n",
        "\n",
        "    train_dataset = dataframe_to_dataset(X_trn, batch_size=batch_size, shuffle=True)\n",
        "    valid_dataset = dataframe_to_dataset(X_val, batch_size=batch_size, shuffle=False)\n",
        "    test_dataset = dataframe_to_dataset(X_test, batch_size=batch_size, shuffle=False)\n",
        "\n",
        "    ##################################################################### Relevant Folders\n",
        "    folders_experiment = f\"/content/drive/MyDrive/Exercises/Studies_Structured_Data/Models/Glucose/{experiment_name}_{i}/\"\n",
        "    ##################################################################### Generate and Fit Model\n",
        "    # Callbacks:\n",
        "    checkpoint_filepath = folders_experiment + f'checkpoint/{experiment_name}.weights.h5'\n",
        "\n",
        "    # Generate the Model:\n",
        "    model = model_constructor(lr = learning_rate,\n",
        "                              **best_params)\n",
        "\n",
        "    print(\"Start training the model...\")\n",
        "    history = model.fit(train_dataset,\n",
        "                        epochs=num_epochs,\n",
        "                        callbacks=[keras.callbacks.EarlyStopping(monitor='val_rmse', patience=17, mode=\"min\",\n",
        "                                                  start_from_epoch=5,restore_best_weights=True),\n",
        "                                   keras.callbacks.ModelCheckpoint(filepath=checkpoint_filepath,\n",
        "                                                    save_weights_only=True,\n",
        "                                                    monitor=\"val_rmse\",\n",
        "                                                    mode='min',\n",
        "                                                    save_best_only=True),\n",
        "                                   keras.callbacks.ReduceLROnPlateau(monitor='val_rmse', factor=0.5,\n",
        "                                                          patience=5, min_lr=0.0001, mode=\"min\")],\n",
        "                        validation_data=valid_dataset)\n",
        "    print(\"Model training finished\")\n",
        "\n",
        "    model.load_weights(checkpoint_filepath)\n",
        "    model.evaluate(valid_dataset, verbose=0)\n",
        "\n",
        "    plot_training_session(history)\n",
        "\n",
        "    oof_res = model.predict(valid_dataset)\n",
        "    test_pred = model.predict(test_dataset)\n",
        "\n",
        "    print(f\"Out-of-Fold Shapes: {val_y.shape},{oof_res.shape}\")\n",
        "\n",
        "    rmse_score = root_mean_squared_error(val_y, oof_res)\n",
        "\n",
        "    val_pred = target_scaler.inverse_transform(oof_res)\n",
        "    real_val_y = target_scaler.inverse_transform(val_y.values.reshape(-1,1))\n",
        "    test_pred_real = target_scaler.inverse_transform(test_pred)\n",
        "\n",
        "    rmse_score_original = root_mean_squared_error(real_val_y, val_pred)\n",
        "\n",
        "    fig, axs = plt.subplots(1,1, figsize=(10,4))\n",
        "    axs.scatter(val_pred, real_val_y)\n",
        "    axs.set_title(f\"Out-of-Fold RMSE Score: {round(rmse_score, 3)}%\")\n",
        "    plt.tight_layout()\n",
        "    plt.show()\n",
        "\n",
        "    print(f\"Out-of-Fold RMSE Score Rebased: {round(rmse_score, 3)}%\")\n",
        "    print(f\"Out-of-Fold RMSE Score Original: {round(rmse_score_original, 3)}%\")\n",
        "\n",
        "    ##################################################################### Save the Model\n",
        "    model.save(f\"{folders_experiment}/model_{experiment_name}.keras\")\n",
        "\n",
        "    ##################################################################### Create Model Output\n",
        "    test_results_df.loc[:,i] = test_pred_real\n",
        "    all_rmse.append(round(rmse_score_original, 3))\n",
        "\n",
        "    gc.collect()\n",
        "\n",
        "  ##################################################################### Create Model Output\n",
        "  print(f\"All Valuation RMSE: {all_rmse}\")\n",
        "\n",
        "  return test_results_df"
      ],
      "metadata": {
        "id": "n7fghvr3J5mg"
      },
      "execution_count": null,
      "outputs": []
    },
    {
      "cell_type": "markdown",
      "source": [
        "#### Keras Tuner:"
      ],
      "metadata": {
        "id": "3xWPy8UkJ5mh"
      }
    },
    {
      "cell_type": "code",
      "source": [
        "tuning_on=True\n",
        "gc.collect()"
      ],
      "metadata": {
        "id": "aA_Rqpx7J5mh"
      },
      "execution_count": null,
      "outputs": []
    },
    {
      "cell_type": "markdown",
      "source": [
        " Select a Validation set:"
      ],
      "metadata": {
        "id": "oH-7cEBXJ5mi"
      }
    },
    {
      "cell_type": "code",
      "source": [
        "valid_index = val_sets[0]\n",
        "Xt = X_train.drop(index=valid_index)\n",
        "Xv = X_train.loc[valid_index,:]\n",
        "\n",
        "print(f\"Train Shape: {Xt.shape}, Val Shape: {Xv.shape}\")"
      ],
      "metadata": {
        "id": "go3QtJYeJ5mi"
      },
      "execution_count": null,
      "outputs": []
    },
    {
      "cell_type": "code",
      "source": [
        "if tuning_on==True:\n",
        "\n",
        "  train_dataset = dataframe_to_dataset(Xt, batch_size=256, shuffle=True)\n",
        "  valid_dataset = dataframe_to_dataset(Xv, batch_size=256, shuffle=False)"
      ],
      "metadata": {
        "id": "LBhoI5N8J5mj"
      },
      "execution_count": null,
      "outputs": []
    },
    {
      "cell_type": "code",
      "source": [
        "512/4"
      ],
      "metadata": {
        "id": "xOSB9cPyJ5mj"
      },
      "execution_count": null,
      "outputs": []
    },
    {
      "cell_type": "code",
      "source": [
        "if tuning_on==True:\n",
        "  # Define the hyperparameter search space: EXPERIMENT 1\n",
        "  hp = kt.HyperParameters()\n",
        "  hp.Choice('activation', [\"relu\",\"silu\",\"selu\",\"gelu\"]) #\n",
        "  hp.Float('dropout',0.15,0.40, step=0.025) #\n",
        "  hp.Float('reg',0.0001, 1.0,step=10,sampling=\"log\") #\n",
        "  hp.Choice('rep', values=[3,4,5,6])\n",
        "#  hp.Choice('base', values=[32,64,128])"
      ],
      "metadata": {
        "id": "Jq18LfuCJ5mk"
      },
      "execution_count": null,
      "outputs": []
    },
    {
      "cell_type": "code",
      "source": [
        "def create_turner_model(hp):\n",
        "\n",
        "  model = create_model_v3(dropout=hp.get('dropout'),\n",
        "                          rep=hp.get('rep'),\n",
        "                          activation=hp.get('activation'),\n",
        "                          reg=hp.get('reg'),\n",
        "                          lr=0.0025,\n",
        "                          summary=False)\n",
        "  return model"
      ],
      "metadata": {
        "id": "zsue7y_YJ5ml"
      },
      "execution_count": null,
      "outputs": []
    },
    {
      "cell_type": "code",
      "source": [
        "if tuning_on==True:\n",
        "  # Create a tuner and search for the best hyperparameters\n",
        "  tuner = BayesianOptimization(create_turner_model,\n",
        "                              objective=kt.Objective(\"val_rmse\", \"min\"),\n",
        "                              hyperparameters=hp, max_trials=50, overwrite=True)\n",
        "\n",
        "  stop_early = tf.keras.callbacks.EarlyStopping(monitor='val_rmse', patience=7, mode=\"min\", start_from_epoch=5)\n",
        "  reduce_ = tf.keras.callbacks.ReduceLROnPlateau(monitor='val_rmse', factor=0.5, patience=3, min_lr=0.0001, mode=\"min\")\n",
        "\n",
        "  tuner.search(train_dataset, validation_data=valid_dataset, epochs=31, callbacks=[stop_early,reduce_])"
      ],
      "metadata": {
        "id": "I-oCVZ_aJ5ml"
      },
      "execution_count": null,
      "outputs": []
    },
    {
      "cell_type": "code",
      "source": [
        "if tuning_on==True:\n",
        "  tuner.results_summary(num_trials=21)"
      ],
      "metadata": {
        "id": "PNj4Hy-GJ5mm"
      },
      "execution_count": null,
      "outputs": []
    },
    {
      "cell_type": "code",
      "source": [
        "if tuning_on==True:\n",
        "  print(tuner.get_best_hyperparameters(4)[0].values)\n",
        "  print(tuner.get_best_hyperparameters(4)[1].values)\n",
        "  print(tuner.get_best_hyperparameters(4)[2].values)\n",
        "  print(tuner.get_best_hyperparameters(4)[3].values)\n",
        "  print(tuner.get_best_hyperparameters(5)[4].values)\n",
        "  print(tuner.get_best_hyperparameters(6)[5].values)\n",
        "  print(tuner.get_best_hyperparameters(7)[6].values)"
      ],
      "metadata": {
        "id": "DTVF4wxCJ5mm"
      },
      "execution_count": null,
      "outputs": []
    },
    {
      "cell_type": "markdown",
      "source": [
        "* {'activation': 'silu', 'dropout': 0.375, 'reg': 0.0001, 'rep': 4}\n",
        "* {'activation': 'gelu', 'dropout': 0.35, 'reg': 0.001, 'rep': 4}\n",
        "* {'activation': 'gelu', 'dropout': 0.275, 'reg': 0.0001, 'rep': 4}\n",
        "* {'activation': 'gelu', 'dropout': 0.275, 'reg': 0.001, 'rep': 4}\n",
        "* {'activation': 'silu', 'dropout': 0.375, 'reg': 0.001, 'rep': 4}\n",
        "* {'activation': 'silu', 'dropout': 0.15, 'reg': 0.0001, 'rep': 3}\n",
        "* {'activation': 'silu', 'dropout': 0.375, 'reg': 0.0001, 'rep': 4}\n",
        "\n",
        "\n",
        "* **Trial 21 summary**\n",
        "Hyperparameters:\n",
        "main_activation: silu\n",
        "dropout: 0.375\n",
        "reg: 0.0001\n",
        "dense_layers: 512\n",
        "conv_layers: 64\n",
        "Score: 1.9809489250183105\n",
        "\n",
        "* **Trial 26 summary**\n",
        "Hyperparameters:\n",
        "main_activation: silu\n",
        "dropout: 0.375\n",
        "reg: 0.0001\n",
        "dense_layers: 128\n",
        "conv_layers: 64\n",
        "Score: 1.9827678203582764\n",
        "\n",
        "* **Trial 10 summary**\n",
        "Hyperparameters:\n",
        "main_activation: silu\n",
        "dropout: 0.30000000000000004\n",
        "reg: 0.001\n",
        "dense_layers: 128\n",
        "conv_layers: 64\n",
        "Score: 1.9926979541778564\n",
        "\n",
        "* **Trial 15 summary**\n",
        "Hyperparameters:\n",
        "main_activation: silu\n",
        "dropout: 0.375\n",
        "reg: 0.001\n",
        "dense_layers: 256\n",
        "conv_layers: 64\n",
        "Score: 1.9969719648361206\n",
        "\n",
        "* **Trial 18 summary**\n",
        "Hyperparameters:\n",
        "main_activation: relu\n",
        "dropout: 0.2\n",
        "reg: 0.0001\n",
        "dense_layers: 64\n",
        "conv_layers: 64\n",
        "Score: 2.0100858211517334"
      ],
      "metadata": {
        "id": "tWjiLje8J5mn"
      }
    },
    {
      "cell_type": "markdown",
      "source": [
        "#### Fit The Model:"
      ],
      "metadata": {
        "id": "rf6sIJTaJ5mn"
      }
    },
    {
      "cell_type": "code",
      "source": [
        "#best_params = tuner.get_best_hyperparameters(1)[0].values\n",
        "best_params = {'activation': 'silu', 'dropout': 0.375, 'reg': 0.0001, 'rep': 4}"
      ],
      "metadata": {
        "id": "vfQXTjwfJ5mo"
      },
      "execution_count": null,
      "outputs": []
    },
    {
      "cell_type": "code",
      "source": [
        "test_results_df = run_experiment(X_train, X_test, create_model_v3, best_params, split=val_sets,\n",
        "                                 experiment_name=\"conv_v3_nn\", rs=42, target=\"bg+1:00\",\n",
        "                                 batch_size=256, num_epochs=200, learning_rate=0.00025)"
      ],
      "metadata": {
        "id": "9093NTb5J5mo"
      },
      "execution_count": null,
      "outputs": []
    },
    {
      "cell_type": "code",
      "source": [
        "test_results_df.clip(2.7, 22.5, inplace=True)\n",
        "test_results_df[\"average\"] = test_results_df.mean(axis=1)\n",
        "test_results_df"
      ],
      "metadata": {
        "id": "dfwG0Ht7J5mo"
      },
      "execution_count": null,
      "outputs": []
    },
    {
      "cell_type": "code",
      "source": [
        "check_res = test_results_df.clip(2.7,22.5)"
      ],
      "metadata": {
        "id": "0bF7UBY9GIs7"
      },
      "execution_count": null,
      "outputs": []
    },
    {
      "cell_type": "code",
      "source": [
        "plt.scatter(check_res[0],check_res[2])"
      ],
      "metadata": {
        "id": "632IC3tpFqRh"
      },
      "execution_count": null,
      "outputs": []
    },
    {
      "cell_type": "markdown",
      "source": [
        "#### **STORE RESULTS**"
      ],
      "metadata": {
        "id": "TYUCdvTbJ5mq"
      }
    },
    {
      "cell_type": "code",
      "source": [
        "sub = pd.read_csv(\"/content/drive/MyDrive/Exercises/Studies_Structured_Data/Data/Glucose/sample_submission.csv\")"
      ],
      "metadata": {
        "id": "Ijk39Y9ZJ5mq"
      },
      "execution_count": null,
      "outputs": []
    },
    {
      "cell_type": "code",
      "source": [
        "for i, col in enumerate(test_results_df.columns):\n",
        "  sub[\"bg+1:00\"] = test_results_df[col].values\n",
        "  sub.to_csv(f\"/content/drive/MyDrive/Exercises/Studies_Structured_Data/Data/Glucose/submissions/Submission_val_conv_v4_{col}_clipped.csv\", index=False)\n",
        "  print(sub.isna().sum())"
      ],
      "metadata": {
        "id": "UrUexCFEJ5mq"
      },
      "execution_count": null,
      "outputs": []
    },
    {
      "cell_type": "markdown",
      "source": [
        "## **2.5 MODEL 05**"
      ],
      "metadata": {
        "id": "fD45Dhe4u0nA"
      }
    },
    {
      "cell_type": "markdown",
      "source": [
        "### 3.1.1 Create Dataloader:"
      ],
      "metadata": {
        "id": "JVvZlh2Bu0nE"
      }
    },
    {
      "cell_type": "code",
      "source": [
        "gc.collect()"
      ],
      "metadata": {
        "id": "4xkY1_9Mu0nF"
      },
      "execution_count": null,
      "outputs": []
    },
    {
      "cell_type": "code",
      "source": [
        "# X_train[[\"PC_1\",\"PC_2\",\"PC_3\",\"enc_04_v7\",\"enc_01_v1\",\"enc_07_v7\",\"enc_01_v4\",\"enc_05_v4\",\n",
        "#          \"enc_03_v6\",\"enc_05_v7\",\"enc_06_v6\",\"enc_01_v6\",\"enc_06_v7\",\"enc_08_v6\",\"enc_04_v6\",\n",
        "#          \"bg-0:00\",\"insulin_av-0:00\",\"brake-0:00\",\"intake-0:00\"]].corr().style.background_gradient(cmap='coolwarm')"
      ],
      "metadata": {
        "id": "GWVH-6HcYHkz"
      },
      "execution_count": null,
      "outputs": []
    },
    {
      "cell_type": "code",
      "source": [
        "def dataframe_to_dataset(dataframe, shuffle=False, batch_size=32):\n",
        "    dataframe = dataframe.copy()\n",
        "    target = dataframe[\"bg+1:00\"]\n",
        "    dataframe = dataframe.drop(columns=[\"bg+1:00\"])\n",
        "\n",
        "    static_df = dataframe.copy()\n",
        "\n",
        "\n",
        "    ds = tf.data.Dataset.from_tensor_slices(((static_df[\"hour\"].values,  # First input\n",
        "                                              static_df[\"minute\"].values,  # Second input\n",
        "                                              static_df[\"cluster\"].values,  # Third input\n",
        "                                              static_df[\"cluster_pca\"].values,  # Fourth input\n",
        "                                              static_df[[\"PC_1\",\"PC_2\",\"PC_3\",\"enc_04_v7\",\"enc_01_v1\",\"enc_07_v7\",\"enc_01_v4\",\"enc_05_v4\",\n",
        "                                                        \"enc_03_v6\",\"enc_05_v7\",\"enc_06_v6\",\"enc_01_v6\",\"enc_06_v7\",\"enc_08_v6\",\"enc_04_v6\",\n",
        "                                                         \"bg-0:00\",\"insulin_av-0:00\",\"brake-0:00\",\"intake-0:00\"]].values),\n",
        "                                              target))\n",
        "\n",
        "    if shuffle:\n",
        "      ds = ds.shuffle(buffer_size=len(dataframe))\n",
        "\n",
        "    ds = ds.batch(batch_size)\n",
        "    ds = ds.prefetch(batch_size)\n",
        "\n",
        "    return ds"
      ],
      "metadata": {
        "id": "DJ77SK-Zu0nF"
      },
      "execution_count": null,
      "outputs": []
    },
    {
      "cell_type": "code",
      "source": [
        "train_ds = dataframe_to_dataset(X_train,batch_size=1)"
      ],
      "metadata": {
        "id": "4Vw8QF6Au0nG"
      },
      "execution_count": null,
      "outputs": []
    },
    {
      "cell_type": "markdown",
      "source": [
        "* **TEST THE DATALOADER:**"
      ],
      "metadata": {
        "id": "ruwAzkDWu0nG"
      }
    },
    {
      "cell_type": "code",
      "source": [
        "for (x0, x1, x2, x3, x4), y in train_ds.take(1):\n",
        "    print(x0.shape,x1.shape,x2.shape,x3.shape,x4.shape,y.shape)"
      ],
      "metadata": {
        "id": "12uMu4VIu0nG"
      },
      "execution_count": null,
      "outputs": []
    },
    {
      "cell_type": "code",
      "source": [
        "#X_train.iloc[:2000,:].to_csv(\"train_sample.csv\")"
      ],
      "metadata": {
        "id": "40MZsI7Tu0nH"
      },
      "execution_count": null,
      "outputs": []
    },
    {
      "cell_type": "markdown",
      "source": [
        "### **2.1.2 Encoding**"
      ],
      "metadata": {
        "id": "Pj6sE-mlu0nH"
      }
    },
    {
      "cell_type": "code",
      "source": [
        "static_col = list(X_train.drop(columns=ts_fields+[\"bg+1:00\"]).columns)\n",
        "\n",
        "static_entries = {}\n",
        "\n",
        "for col in static_col:\n",
        "    static_entries[col] = X_train[col].nunique()\n",
        "\n",
        "embed_dim = {'cluster_pca': 3, 'hour': 8, 'minute': 4, 'cluster': 8}\n",
        "#static_entries"
      ],
      "metadata": {
        "id": "31qeXkmTu0nH"
      },
      "execution_count": null,
      "outputs": []
    },
    {
      "cell_type": "code",
      "source": [
        "def encode_tabular(inputs, list_categorical_nn, Cat_Feat_Entries=static_entries, num_dense_exp=False, embedding_dims=embed_dim, name=\"enc\"):\n",
        "    encoded_categorical_feature_list = []\n",
        "    numerical_feature_list = []\n",
        "\n",
        "    for counter, feature_name in enumerate(inputs):\n",
        "\n",
        "      vocabulary = Cat_Feat_Entries[feature_name]\n",
        "      emb_dim = embedding_dims[feature_name]\n",
        "\n",
        "      embedding = layers.Embedding(input_dim=vocabulary, output_dim=emb_dim, name=f\"embedder_{counter}\")\n",
        "      # Convert the index values to embedding representations.\n",
        "      encoded_categorical_feature = embedding(inputs[feature_name])\n",
        "\n",
        "      encoded_categorical_feature_list.append(encoded_categorical_feature)\n",
        "\n",
        "    return encoded_categorical_feature_list, numerical_feature_list"
      ],
      "metadata": {
        "id": "fn1sBLBGu0nH"
      },
      "execution_count": null,
      "outputs": []
    },
    {
      "cell_type": "code",
      "source": [
        "X_train.info()"
      ],
      "metadata": {
        "id": "SYQJa6n3u0nH"
      },
      "execution_count": null,
      "outputs": []
    },
    {
      "cell_type": "markdown",
      "source": [
        "### **2.1.3 Create Models:**"
      ],
      "metadata": {
        "id": "cRGNsmN2u0nI"
      }
    },
    {
      "cell_type": "code",
      "source": [
        "def create_model_v4(dropout=0.3,\n",
        "                    activation=\"selu\",\n",
        "                    reg=0.0,\n",
        "                    lr=0.001,\n",
        "                    dense_layers=[256,128,128,64],\n",
        "                    norm=\"batch\",\n",
        "                    summary=False):\n",
        "\n",
        "  # --- Tabular Data Processing ---\n",
        "  # Input layer for tabular data as a dictionary\n",
        "  hour_input = keras.Input(shape=(1,), name=\"hour_input\")\n",
        "  minute_input = keras.Input(shape=(1,), name=\"minute_input\")\n",
        "  cluster_input = keras.Input(shape=(1,), name=\"cluster_input\")\n",
        "  pca_input = keras.Input(shape=(1,), name=\"cluster_pca\")\n",
        "  cont_input = keras.Input(shape=(19,), name=\"cont_inputs\")\n",
        "\n",
        "  # Lookup Layer for the p_num:\n",
        "  # pca_lookup = layers.IntegerLookup(vocabulary=list(range(0,4)),mask_token=None,num_oov_indices=0,\n",
        "  #                                  output_mode=\"int\", name=\"lookup_pca\")\n",
        "  # pca_encoded = pca_lookup(pca_input)\n",
        "\n",
        "  # Lookup Layer for the minutes:\n",
        "  minute_lookup = layers.IntegerLookup(vocabulary=list(range(0,60,5)),mask_token=None,num_oov_indices=0,\n",
        "                                       output_mode=\"int\", name=\"lookup_min\")\n",
        "\n",
        "  minute_encoded = minute_lookup(minute_input)\n",
        "\n",
        "  # Embedding layers for hour and minute\n",
        "  hour_embedding = layers.Embedding(input_dim=24, output_dim=8, name=\"embed_hour\")(hour_input)\n",
        "  minute_embedding = layers.Embedding(input_dim=12, output_dim=6, name=\"embed_minute\")(minute_encoded)\n",
        "  pca_encoded_embedding = layers.Embedding(input_dim=4,output_dim=3, name=\"embed_pca\")(pca_input)\n",
        "\n",
        "  # Embedding layer for cluster\n",
        "  cluster_embedding = layers.Embedding(input_dim=22, output_dim=8, name=\"embed_cluster\")(cluster_input)\n",
        "\n",
        "  # Flatten the embeddings\n",
        "  hour_flat = layers.Flatten()(hour_embedding)\n",
        "  minute_flat = layers.Flatten()(minute_embedding)\n",
        "  cluster_flat = layers.Flatten()(cluster_embedding)\n",
        "  pca_flat = layers.Flatten()(pca_encoded_embedding)\n",
        "\n",
        "  # Concatenate all tabular features\n",
        "  tabular_output = layers.concatenate([hour_flat, minute_flat, cluster_flat, pca_flat,cont_input],\n",
        "                                      name=\"tabular_concat\")\n",
        "  x = tabular_output\n",
        "\n",
        "  # Dense layers for tabular data\n",
        "  for num, den in enumerate(dense_layers):\n",
        "    x = dense_block(den, dropout=dropout, activation=activation, reg=reg, name=f\"Dense_block_{num}\", normalization_type=norm)(x)\n",
        "\n",
        "  # --- Output Layer ---\n",
        "  # Final dense layer for prediction\n",
        "  output = layers.Dense(1, name=\"output\")(x)\n",
        "\n",
        "  # --- Create and Compile the Model ---\n",
        "  # Create the model\n",
        "  model = keras.Model(inputs=[hour_input, minute_input, cluster_input, pca_input,cont_input], outputs=output)\n",
        "\n",
        "  optimizer= keras.optimizers.Adam(learning_rate=lr)\n",
        "  metric = RootMeanSquaredError(name=\"rmse\", dtype=None)\n",
        "  metric_mae = MeanAbsoluteError(name=\"mae\", dtype=None)\n",
        "\n",
        "  # Compile the model\n",
        "  model.compile(optimizer=optimizer, loss=\"mse\", metrics=[metric,metric_mae])\n",
        "\n",
        "  # Print model summary\n",
        "  if summary==True:\n",
        "    model.summary()\n",
        "\n",
        "  return model\n",
        "\n",
        "\n",
        "#vocabulary = X_train[\"p_num\"].unique().tolist()\n",
        "model = create_model_v4(summary=True)"
      ],
      "metadata": {
        "id": "b-LMBNSZu0nI"
      },
      "execution_count": null,
      "outputs": []
    },
    {
      "cell_type": "code",
      "source": [
        "plot_model(model, show_shapes=True, show_layer_names=True,\n",
        "           #rankdir=\"LR\",\n",
        "           expand_nested=True, show_layer_activations=True)"
      ],
      "metadata": {
        "id": "-GeyITc_u0nJ"
      },
      "execution_count": null,
      "outputs": []
    },
    {
      "cell_type": "markdown",
      "source": [
        "### 2.1.4 Training Functions:"
      ],
      "metadata": {
        "id": "AH4qci4Gu0nJ"
      }
    },
    {
      "cell_type": "code",
      "source": [
        "list(range(len(val_sets)))"
      ],
      "metadata": {
        "id": "jRhsfaW2u0nJ"
      },
      "execution_count": null,
      "outputs": []
    },
    {
      "cell_type": "markdown",
      "source": [
        "#### Main Function:"
      ],
      "metadata": {
        "id": "RTNdvUDJu0nJ"
      }
    },
    {
      "cell_type": "code",
      "source": [
        "def run_experiment(X_train, X_test, model_constructor, best_params, split=val_sets, experiment_name=\"conv_v4_nn\", rs=42, target=\"bg+1:00\",\n",
        "                   batch_size=64, num_epochs=200, learning_rate=0.001, target_scaler=target_scaler):\n",
        "\n",
        "  test_predictions = np.zeros((len(X_test),1))\n",
        "  test_results_df = pd.DataFrame(index=X_test.index, columns=list(range(len(val_sets))))\n",
        "\n",
        "  all_mse = []\n",
        "  all_rmse = []\n",
        "\n",
        "  for i, val_index in enumerate(split):\n",
        "\n",
        "    print(f\"\\nRunning CV {i}\\n\")\n",
        "    ########################################################################## Prepare the Dataset:\n",
        "    X_trn = X_train.drop(index=val_index)\n",
        "    X_val = X_train.loc[val_index,:]\n",
        "\n",
        "#    vocabulary = X_trn[\"p_num\"].unique().tolist()\n",
        "\n",
        "    X = X_trn.drop(columns=[target]).copy()\n",
        "    y = X_trn[target].copy()\n",
        "\n",
        "    val_X = X_val.drop(columns=[target]).copy()\n",
        "    val_y = X_val[target].copy()\n",
        "\n",
        "    X_test = X_test.copy()\n",
        "    #################################################################### Prepare Datasets loaders:\n",
        "\n",
        "    train_dataset = dataframe_to_dataset(X_trn, batch_size=batch_size, shuffle=True)\n",
        "    valid_dataset = dataframe_to_dataset(X_val, batch_size=batch_size, shuffle=False)\n",
        "    test_dataset = dataframe_to_dataset(X_test, batch_size=batch_size, shuffle=False)\n",
        "\n",
        "    ##################################################################### Relevant Folders\n",
        "    folders_experiment = f\"/content/drive/MyDrive/Exercises/Studies_Structured_Data/Models/Glucose/{experiment_name}_{i}/\"\n",
        "    ##################################################################### Generate and Fit Model\n",
        "    # Callbacks:\n",
        "    checkpoint_filepath = folders_experiment + f'checkpoint/{experiment_name}.weights.h5'\n",
        "\n",
        "    # Generate the Model:\n",
        "    model = model_constructor(lr = learning_rate,\n",
        "                              **best_params)\n",
        "\n",
        "    print(\"Start training the model...\")\n",
        "    history = model.fit(train_dataset,\n",
        "                        epochs=num_epochs,\n",
        "                        callbacks=[keras.callbacks.EarlyStopping(monitor='val_rmse', patience=17, mode=\"min\",\n",
        "                                                  start_from_epoch=5,restore_best_weights=True),\n",
        "                                   keras.callbacks.ModelCheckpoint(filepath=checkpoint_filepath,\n",
        "                                                    save_weights_only=True,\n",
        "                                                    monitor=\"val_rmse\",\n",
        "                                                    mode='min',\n",
        "                                                    save_best_only=True),\n",
        "                                   keras.callbacks.ReduceLROnPlateau(monitor='val_rmse', factor=0.5,\n",
        "                                                          patience=5, min_lr=0.0001, mode=\"min\")],\n",
        "                        validation_data=valid_dataset)\n",
        "    print(\"Model training finished\")\n",
        "\n",
        "    model.load_weights(checkpoint_filepath)\n",
        "    model.evaluate(valid_dataset, verbose=0)\n",
        "\n",
        "    plot_training_session(history)\n",
        "\n",
        "    oof_res = model.predict(valid_dataset)\n",
        "    test_pred = model.predict(test_dataset)\n",
        "\n",
        "    print(f\"Out-of-Fold Shapes: {val_y.shape},{oof_res.shape}\")\n",
        "\n",
        "    rmse_score = root_mean_squared_error(val_y, oof_res)\n",
        "\n",
        "    val_pred = target_scaler.inverse_transform(oof_res)\n",
        "    real_val_y = target_scaler.inverse_transform(val_y.values.reshape(-1,1))\n",
        "    test_pred_real = target_scaler.inverse_transform(test_pred)\n",
        "\n",
        "    rmse_score_original = root_mean_squared_error(real_val_y, val_pred)\n",
        "\n",
        "    fig, axs = plt.subplots(1,1, figsize=(10,4))\n",
        "    axs.scatter(val_pred, real_val_y)\n",
        "    axs.set_title(f\"Out-of-Fold RMSE Score: {round(rmse_score, 3)}%\")\n",
        "    plt.tight_layout()\n",
        "    plt.show()\n",
        "\n",
        "    print(f\"Out-of-Fold RMSE Score Rebased: {round(rmse_score, 3)}%\")\n",
        "    print(f\"Out-of-Fold RMSE Score Original: {round(rmse_score_original, 3)}%\")\n",
        "\n",
        "    ##################################################################### Save the Model\n",
        "    model.save(f\"{folders_experiment}/model_{experiment_name}.keras\")\n",
        "\n",
        "    ##################################################################### Create Model Output\n",
        "    test_results_df.loc[:,i] = test_pred_real\n",
        "    all_rmse.append(round(rmse_score_original, 3))\n",
        "\n",
        "    gc.collect()\n",
        "\n",
        "  ##################################################################### Create Model Output\n",
        "  print(f\"All Valuation RMSE: {all_rmse}\")\n",
        "\n",
        "  return test_results_df"
      ],
      "metadata": {
        "id": "exDG4i7eu0nK"
      },
      "execution_count": null,
      "outputs": []
    },
    {
      "cell_type": "markdown",
      "source": [
        "#### Keras Tuner:"
      ],
      "metadata": {
        "id": "SaxMDD5Cu0nK"
      }
    },
    {
      "cell_type": "code",
      "source": [
        "tuning_on=True\n",
        "gc.collect()"
      ],
      "metadata": {
        "id": "Jyn3xHUyu0nK"
      },
      "execution_count": null,
      "outputs": []
    },
    {
      "cell_type": "markdown",
      "source": [
        " Select a Validation set:"
      ],
      "metadata": {
        "id": "z-J0Q0uZu0nK"
      }
    },
    {
      "cell_type": "code",
      "source": [
        "valid_index = val_sets[0]\n",
        "Xt = X_train.drop(index=valid_index)\n",
        "Xv = X_train.loc[valid_index,:]\n",
        "\n",
        "print(f\"Train Shape: {Xt.shape}, Val Shape: {Xv.shape}\")"
      ],
      "metadata": {
        "id": "dBXrNaFwu0nL"
      },
      "execution_count": null,
      "outputs": []
    },
    {
      "cell_type": "code",
      "source": [
        "if tuning_on==True:\n",
        "\n",
        "  train_dataset = dataframe_to_dataset(Xt, batch_size=256, shuffle=True)\n",
        "  valid_dataset = dataframe_to_dataset(Xv, batch_size=256, shuffle=False)"
      ],
      "metadata": {
        "id": "Tvp4e8QKu0nM"
      },
      "execution_count": null,
      "outputs": []
    },
    {
      "cell_type": "code",
      "source": [
        "512/4"
      ],
      "metadata": {
        "id": "mgpmadHuu0nM"
      },
      "execution_count": null,
      "outputs": []
    },
    {
      "cell_type": "code",
      "source": [
        "if tuning_on==True:\n",
        "  # Define the hyperparameter search space: EXPERIMENT 1\n",
        "  hp = kt.HyperParameters()\n",
        "  hp.Choice('main_activation', [\"relu\",\"silu\",\"selu\",\"gelu\"]) #\n",
        "  hp.Float('dropout',0.15,0.40, step=0.025) #\n",
        "  hp.Float('reg',0.0001, 1.0,step=10,sampling=\"log\") #\n",
        "  hp.Choice('dense_layers', values=[512,256,128])\n",
        "  hp.Choice('norm', values=[\"batch\",\"layer\"])"
      ],
      "metadata": {
        "id": "Uhjwjio4u0nM"
      },
      "execution_count": null,
      "outputs": []
    },
    {
      "cell_type": "code",
      "source": [
        "def create_turner_model(hp):\n",
        "\n",
        "  model = create_model_v4(dropout=hp.get('dropout'),\n",
        "                    activation=hp.get('main_activation'),\n",
        "                    reg=hp.get('reg'),\n",
        "                    lr=0.001,\n",
        "                    dense_layers=[hp.get('dense_layers'),int(hp.get('dense_layers')/2),int(hp.get('dense_layers')/2),int(hp.get('dense_layers')/4)],\n",
        "                    norm=hp.get('norm'))\n",
        "\n",
        "  return model"
      ],
      "metadata": {
        "id": "QxjuCCVRu0nM"
      },
      "execution_count": null,
      "outputs": []
    },
    {
      "cell_type": "code",
      "source": [
        "if tuning_on==True:\n",
        "  # Create a tuner and search for the best hyperparameters\n",
        "  tuner = BayesianOptimization(create_turner_model,\n",
        "                              objective=kt.Objective(\"val_rmse\", \"min\"),\n",
        "                              hyperparameters=hp, max_trials=50, overwrite=True)\n",
        "\n",
        "  stop_early = tf.keras.callbacks.EarlyStopping(monitor='val_rmse', patience=7, mode=\"min\", start_from_epoch=5)\n",
        "  reduce_ = tf.keras.callbacks.ReduceLROnPlateau(monitor='val_rmse', factor=0.5, patience=3, min_lr=0.0001, mode=\"min\")\n",
        "\n",
        "  tuner.search(train_dataset, validation_data=valid_dataset, epochs=31, callbacks=[stop_early,reduce_])"
      ],
      "metadata": {
        "id": "YzvS2M6ou0nM"
      },
      "execution_count": null,
      "outputs": []
    },
    {
      "cell_type": "code",
      "source": [
        "if tuning_on==True:\n",
        "  tuner.results_summary(num_trials=21)"
      ],
      "metadata": {
        "id": "yG9u3mfAu0nN"
      },
      "execution_count": null,
      "outputs": []
    },
    {
      "cell_type": "code",
      "source": [
        "if tuning_on==True:\n",
        "  print(tuner.get_best_hyperparameters(4)[0].values)\n",
        "  print(tuner.get_best_hyperparameters(4)[1].values)\n",
        "  print(tuner.get_best_hyperparameters(4)[2].values)\n",
        "  print(tuner.get_best_hyperparameters(4)[3].values)"
      ],
      "metadata": {
        "id": "eB1fTieAu0nN"
      },
      "execution_count": null,
      "outputs": []
    },
    {
      "cell_type": "markdown",
      "source": [
        "* {'main_activation': 'gelu', 'dropout': 0.2, 'reg': 0.001, 'dense_layers': 128, 'norm': 'batch'}\n",
        "* {'main_activation': 'gelu', 'dropout': 0.175, 'reg': 0.001, 'dense_layers': 128, 'norm': 'batch'}\n",
        "* {'main_activation': 'silu', 'dropout': 0.35, 'reg': 0.001, 'dense_layers': 256, 'norm': 'batch'}\n",
        "* {'main_activation': 'silu', 'dropout': 0.35, 'reg': 0.001, 'dense_layers': 512, 'norm': 'batch'}\n",
        "\n",
        "* **Trial 49 summary**\n",
        "Hyperparameters:\n",
        "main_activation: gelu\n",
        "dropout: 0.2\n",
        "reg: 0.001\n",
        "dense_layers: 128\n",
        "norm: batch\n",
        "Score: 0.6541268825531006\n",
        "\n",
        "* **Trial 23 summary**\n",
        "Hyperparameters:\n",
        "main_activation: gelu\n",
        "dropout: 0.175\n",
        "reg: 0.001\n",
        "dense_layers: 128\n",
        "norm: batch\n",
        "Score: 0.6549822688102722\n",
        "\n",
        "* **Trial 05 summary**\n",
        "Hyperparameters:\n",
        "main_activation: silu\n",
        "dropout: 0.35\n",
        "reg: 0.001\n",
        "dense_layers: 256\n",
        "norm: batch\n",
        "Score: 0.6553966403007507\n",
        "\n",
        "* **Trial 25 summary**\n",
        "Hyperparameters:\n",
        "main_activation: silu\n",
        "dropout: 0.35\n",
        "reg: 0.001\n",
        "dense_layers: 512\n",
        "norm: batch\n",
        "Score: 0.6563018560409546\n",
        "\n",
        "* **Trial 12 summary**\n",
        "Hyperparameters:\n",
        "main_activation: gelu\n",
        "dropout: 0.225\n",
        "reg: 0.001\n",
        "dense_layers: 128\n",
        "norm: batch\n",
        "Score: 0.6568679213523865\n",
        "\n",
        "* **Trial 48 summary**\n",
        "Hyperparameters:\n",
        "main_activation: gelu\n",
        "dropout: 0.325\n",
        "reg: 0.0001\n",
        "dense_layers: 128\n",
        "norm: layer\n",
        "Score: 0.6574869155883789\n",
        "\n",
        "* **Trial 17 summary**\n",
        "Hyperparameters:\n",
        "main_activation: gelu\n",
        "dropout: 0.30000000000000004\n",
        "reg: 0.1\n",
        "dense_layers: 512\n",
        "norm: batch\n",
        "Score: 0.6574987769126892\n",
        "\n",
        "* **Trial 26 summary**\n",
        "Hyperparameters:\n",
        "main_activation: gelu\n",
        "dropout: 0.2\n",
        "reg: 0.01\n",
        "dense_layers: 128\n",
        "norm: batch\n",
        "Score: 0.6576610207557678"
      ],
      "metadata": {
        "id": "FQ6wajJGu0nN"
      }
    },
    {
      "cell_type": "markdown",
      "source": [
        "#### Fit The Model:"
      ],
      "metadata": {
        "id": "GIIOuDvgu0nN"
      }
    },
    {
      "cell_type": "code",
      "source": [
        "#best_params = tuner.get_best_hyperparameters(1)[0].values\n",
        "best_params = {'activation': 'gelu', 'dropout': 0.2, 'reg': 0.001, 'dense_layers': [128,64,64,32],'norm': 'batch'}"
      ],
      "metadata": {
        "id": "z90luma4u0nN"
      },
      "execution_count": null,
      "outputs": []
    },
    {
      "cell_type": "code",
      "source": [
        "test_results_df = run_experiment(X_train, X_test, create_model_v4, best_params, split=val_sets,\n",
        "                                 experiment_name=\"dnn_v0\", rs=42, target=\"bg+1:00\",\n",
        "                                 batch_size=256, num_epochs=200, learning_rate=0.00025)"
      ],
      "metadata": {
        "id": "EZh9015Ju0nO"
      },
      "execution_count": null,
      "outputs": []
    },
    {
      "cell_type": "code",
      "source": [
        "test_results_df.clip(2.7, 22.5, inplace=True)\n",
        "test_results_df[\"average\"] = test_results_df.mean(axis=1)\n",
        "test_results_df"
      ],
      "metadata": {
        "id": "WoQDGWZju0nO"
      },
      "execution_count": null,
      "outputs": []
    },
    {
      "cell_type": "markdown",
      "source": [
        "#### **STORE RESULTS**"
      ],
      "metadata": {
        "id": "bWicG1kGu0nO"
      }
    },
    {
      "cell_type": "code",
      "source": [
        "sub = pd.read_csv(\"/content/drive/MyDrive/Exercises/Studies_Structured_Data/Data/Glucose/sample_submission.csv\")"
      ],
      "metadata": {
        "id": "j4VVtBdDu0nO"
      },
      "execution_count": null,
      "outputs": []
    },
    {
      "cell_type": "code",
      "source": [
        "for i, col in enumerate(test_results_df.columns):\n",
        "  sub[\"bg+1:00\"] = test_results_df[col].values\n",
        "  sub.to_csv(f\"/content/drive/MyDrive/Exercises/Studies_Structured_Data/Data/Glucose/submissions/Submission_val_dnn_v0_{col}_clipped.csv\", index=False)\n",
        "  print(sub.isna().sum())"
      ],
      "metadata": {
        "id": "GJW6B0wOu0nO"
      },
      "execution_count": null,
      "outputs": []
    },
    {
      "cell_type": "code",
      "source": [
        "test_results_df.min(axis=0),test_results_df.max(axis=0)"
      ],
      "metadata": {
        "id": "Nb4rEmECbPiW"
      },
      "execution_count": null,
      "outputs": []
    },
    {
      "cell_type": "code",
      "source": [
        "plt.scatter(test_results_df[0],test_results_df[1])"
      ],
      "metadata": {
        "id": "idUFLQMZbPeN"
      },
      "execution_count": null,
      "outputs": []
    },
    {
      "cell_type": "markdown",
      "source": [
        "## **2.6 MODEL 06**"
      ],
      "metadata": {
        "id": "3Wn3TmNpF8vm"
      }
    },
    {
      "cell_type": "markdown",
      "source": [
        "### 3.1.1 Create Dataloader:"
      ],
      "metadata": {
        "id": "Z67f6rHfF8vn"
      }
    },
    {
      "cell_type": "code",
      "source": [
        "gc.collect()"
      ],
      "metadata": {
        "id": "DiUvsOJjF8vn"
      },
      "execution_count": null,
      "outputs": []
    },
    {
      "cell_type": "code",
      "source": [
        "# X_train[[\"PC_1\",\"PC_2\",\"PC_3\",\"enc_04_v7\",\"enc_01_v1\",\"enc_07_v7\",\"enc_01_v4\",\"enc_05_v4\",\n",
        "#          \"enc_03_v6\",\"enc_05_v7\",\"enc_06_v6\",\"enc_01_v6\",\"enc_06_v7\",\"enc_08_v6\",\"enc_04_v6\",\n",
        "#          \"bg-0:00\",\"insulin_av-0:00\",\"brake-0:00\",\"intake-0:00\"]].corr().style.background_gradient(cmap='coolwarm')"
      ],
      "metadata": {
        "id": "0RqKEMQvF8vo"
      },
      "execution_count": null,
      "outputs": []
    },
    {
      "cell_type": "code",
      "source": [
        "def dataframe_to_dataset(dataframe, shuffle=False, batch_size=32):\n",
        "    dataframe = dataframe.copy()\n",
        "    target = dataframe[\"bg+1:00\"]\n",
        "    dataframe = dataframe.drop(columns=[\"bg+1:00\"])\n",
        "\n",
        "    static_df = dataframe.copy()\n",
        "\n",
        "\n",
        "    ds = tf.data.Dataset.from_tensor_slices(((static_df[\"hour\"].values,  # First input\n",
        "                                              static_df[\"minute\"].values,  # Second input\n",
        "                                              static_df[\"cluster\"].values,  # Third input\n",
        "                                              static_df[\"cluster_pca\"].values,  # Fourth input\n",
        "                                              static_df[[\"PC_1\",\"PC_2\",\"PC_3\",\"enc_04_v7\",\"enc_01_v1\",\"enc_07_v7\",\"enc_01_v4\",\"enc_05_v4\",\n",
        "                                                        \"enc_03_v6\",\"enc_05_v7\",\"enc_06_v6\",\"enc_01_v6\",\"enc_06_v7\",\"enc_08_v6\",\"enc_04_v6\",\n",
        "                                                         \"bg-0:00\",\"insulin_av-0:00\",\"brake-0:00\",\"intake-0:00\"]].values),\n",
        "                                              target))\n",
        "\n",
        "    if shuffle:\n",
        "      ds = ds.shuffle(buffer_size=len(dataframe))\n",
        "\n",
        "    ds = ds.batch(batch_size)\n",
        "    ds = ds.prefetch(batch_size)\n",
        "\n",
        "    return ds"
      ],
      "metadata": {
        "id": "t9vR91BuF8vo"
      },
      "execution_count": null,
      "outputs": []
    },
    {
      "cell_type": "code",
      "source": [
        "train_ds = dataframe_to_dataset(X_train,batch_size=1)"
      ],
      "metadata": {
        "id": "NcSIbCy6F8vo"
      },
      "execution_count": null,
      "outputs": []
    },
    {
      "cell_type": "markdown",
      "source": [
        "* **TEST THE DATALOADER:**"
      ],
      "metadata": {
        "id": "Qs0NOVv3F8vp"
      }
    },
    {
      "cell_type": "code",
      "source": [
        "for (x0, x1, x2, x3, x4), y in train_ds.take(1):\n",
        "    print(x0.shape,x1.shape,x2.shape,x3.shape,x4.shape,y.shape)"
      ],
      "metadata": {
        "id": "JM8nKh4kF8vp"
      },
      "execution_count": null,
      "outputs": []
    },
    {
      "cell_type": "code",
      "source": [
        "#X_train.iloc[:2000,:].to_csv(\"train_sample.csv\")"
      ],
      "metadata": {
        "id": "48c7bHBjF8vp"
      },
      "execution_count": null,
      "outputs": []
    },
    {
      "cell_type": "markdown",
      "source": [
        "### **2.1.2 Encoding**"
      ],
      "metadata": {
        "id": "VsykdYR5F8vp"
      }
    },
    {
      "cell_type": "code",
      "source": [
        "static_col = list(X_train.drop(columns=ts_fields+[\"bg+1:00\"]).columns)\n",
        "\n",
        "static_entries = {}\n",
        "\n",
        "for col in static_col:\n",
        "    static_entries[col] = X_train[col].nunique()\n",
        "\n",
        "embed_dim = {'cluster_pca': 3, 'hour': 8, 'minute': 4, 'cluster': 8}\n",
        "#static_entries"
      ],
      "metadata": {
        "id": "uS41S57jF8vp"
      },
      "execution_count": null,
      "outputs": []
    },
    {
      "cell_type": "code",
      "source": [
        "def encode_tabular(inputs, list_categorical_nn, Cat_Feat_Entries=static_entries, num_dense_exp=False, embedding_dims=embed_dim, name=\"enc\"):\n",
        "    encoded_categorical_feature_list = []\n",
        "    numerical_feature_list = []\n",
        "\n",
        "    for counter, feature_name in enumerate(inputs):\n",
        "\n",
        "      vocabulary = Cat_Feat_Entries[feature_name]\n",
        "      emb_dim = embedding_dims[feature_name]\n",
        "\n",
        "      embedding = layers.Embedding(input_dim=vocabulary, output_dim=emb_dim, name=f\"embedder_{counter}\")\n",
        "      # Convert the index values to embedding representations.\n",
        "      encoded_categorical_feature = embedding(inputs[feature_name])\n",
        "\n",
        "      encoded_categorical_feature_list.append(encoded_categorical_feature)\n",
        "\n",
        "    return encoded_categorical_feature_list, numerical_feature_list"
      ],
      "metadata": {
        "id": "6LBfEJuWF8vq"
      },
      "execution_count": null,
      "outputs": []
    },
    {
      "cell_type": "code",
      "source": [
        "X_train.info()"
      ],
      "metadata": {
        "id": "VKnT9vVtF8vq"
      },
      "execution_count": null,
      "outputs": []
    },
    {
      "cell_type": "markdown",
      "source": [
        "### **2.1.3 Create Models:**"
      ],
      "metadata": {
        "id": "fFRlkRoMF8vq"
      }
    },
    {
      "cell_type": "code",
      "source": [
        "def create_model_v5(dropout=0.3,\n",
        "                    activation=\"selu\",\n",
        "                    reg=0.0,\n",
        "                    lr=0.001,\n",
        "                    dense_layers=[256,128,128,64],\n",
        "                    norm=\"batch\",\n",
        "                    summary=False):\n",
        "\n",
        "  # --- Tabular Data Processing ---\n",
        "  # Input layer for tabular data as a dictionary\n",
        "  hour_input = keras.Input(shape=(1,), name=\"hour_input\")\n",
        "  minute_input = keras.Input(shape=(1,), name=\"minute_input\")\n",
        "  cluster_input = keras.Input(shape=(1,), name=\"cluster_input\")\n",
        "  pca_input = keras.Input(shape=(1,), name=\"cluster_pca\")\n",
        "  cont_input = keras.Input(shape=(19,), name=\"cont_inputs\")\n",
        "\n",
        "  # Lookup Layer for the p_num:\n",
        "  # pca_lookup = layers.IntegerLookup(vocabulary=list(range(0,4)),mask_token=None,num_oov_indices=0,\n",
        "  #                                  output_mode=\"int\", name=\"lookup_pca\")\n",
        "  # pca_encoded = pca_lookup(pca_input)\n",
        "\n",
        "  # Lookup Layer for the minutes:\n",
        "  minute_lookup = layers.IntegerLookup(vocabulary=list(range(0,60,5)),mask_token=None,num_oov_indices=0,\n",
        "                                       output_mode=\"int\", name=\"lookup_min\")\n",
        "\n",
        "  minute_encoded = minute_lookup(minute_input)\n",
        "\n",
        "  # Embedding layers for hour and minute\n",
        "  hour_embedding = layers.Embedding(input_dim=24, output_dim=8, name=\"embed_hour\")(hour_input)\n",
        "  minute_embedding = layers.Embedding(input_dim=12, output_dim=6, name=\"embed_minute\")(minute_encoded)\n",
        "  pca_encoded_embedding = layers.Embedding(input_dim=4,output_dim=3, name=\"embed_pca\")(pca_input)\n",
        "\n",
        "  # Embedding layer for cluster\n",
        "  cluster_embedding = layers.Embedding(input_dim=22, output_dim=8, name=\"embed_cluster\")(cluster_input)\n",
        "\n",
        "  # Flatten the embeddings\n",
        "  hour_flat = layers.Flatten()(hour_embedding)\n",
        "  minute_flat = layers.Flatten()(minute_embedding)\n",
        "  cluster_flat = layers.Flatten()(cluster_embedding)\n",
        "  pca_flat = layers.Flatten()(pca_encoded_embedding)\n",
        "\n",
        "  # Concatenate all tabular features\n",
        "  x0 = layers.concatenate([hour_flat, minute_flat, cluster_flat, pca_flat,cont_input],\n",
        "                                      name=\"tabular_concat\")\n",
        "  cross = x0\n",
        "  for _ in dense_layers:\n",
        "      units = cross.shape[-1]\n",
        "      x = layers.Dense(units)(cross)\n",
        "      cross = x0 * x + cross\n",
        "  cross = layers.BatchNormalization()(cross)\n",
        "\n",
        "\n",
        "  deep = x0\n",
        "  for num, units in enumerate(dense_layers):\n",
        "      deep = dense_block(units, dropout=dropout, activation=activation, reg=reg, name=f\"Dense_block_{num}\", normalization_type=norm)(deep)\n",
        "\n",
        "  merged = layers.concatenate([cross, deep])\n",
        "\n",
        "  # --- Output Layer ---\n",
        "  # Final dense layer for prediction\n",
        "  output = layers.Dense(1, name=\"output\")(merged)\n",
        "\n",
        "  # --- Create and Compile the Model ---\n",
        "  # Create the model\n",
        "  model = keras.Model(inputs=[hour_input, minute_input, cluster_input, pca_input,cont_input], outputs=output)\n",
        "\n",
        "  optimizer= keras.optimizers.Adam(learning_rate=lr)\n",
        "  metric = RootMeanSquaredError(name=\"rmse\", dtype=None)\n",
        "  metric_mae = MeanAbsoluteError(name=\"mae\", dtype=None)\n",
        "\n",
        "  # Compile the model\n",
        "  model.compile(optimizer=optimizer, loss=\"mse\", metrics=[metric,metric_mae])\n",
        "\n",
        "  # Print model summary\n",
        "  if summary==True:\n",
        "    model.summary()\n",
        "\n",
        "  return model\n",
        "\n",
        "\n",
        "#vocabulary = X_train[\"p_num\"].unique().tolist()\n",
        "model = create_model_v5(summary=True)"
      ],
      "metadata": {
        "id": "phhmMe4fF8vq"
      },
      "execution_count": null,
      "outputs": []
    },
    {
      "cell_type": "code",
      "source": [
        "plot_model(model, show_shapes=True, show_layer_names=True,\n",
        "           rankdir=\"LR\",\n",
        "           expand_nested=True, show_layer_activations=True)"
      ],
      "metadata": {
        "id": "yW08xTiFF8vr"
      },
      "execution_count": null,
      "outputs": []
    },
    {
      "cell_type": "markdown",
      "source": [
        "### 2.1.4 Training Functions:"
      ],
      "metadata": {
        "id": "gpm7-E3HF8vr"
      }
    },
    {
      "cell_type": "code",
      "source": [
        "list(range(len(val_sets)))"
      ],
      "metadata": {
        "id": "IWZg_aSBF8vr"
      },
      "execution_count": null,
      "outputs": []
    },
    {
      "cell_type": "markdown",
      "source": [
        "#### Main Function:"
      ],
      "metadata": {
        "id": "v6MY0qKRF8vr"
      }
    },
    {
      "cell_type": "code",
      "source": [
        "def run_experiment(X_train, X_test, model_constructor, best_params, split=val_sets, experiment_name=\"conv_v5_nn\", rs=42, target=\"bg+1:00\",\n",
        "                   batch_size=64, num_epochs=200, learning_rate=0.001, target_scaler=target_scaler):\n",
        "\n",
        "  test_predictions = np.zeros((len(X_test),1))\n",
        "  test_results_df = pd.DataFrame(index=X_test.index, columns=list(range(len(val_sets))))\n",
        "\n",
        "  all_mse = []\n",
        "  all_rmse = []\n",
        "\n",
        "  for i, val_index in enumerate(split):\n",
        "\n",
        "    print(f\"\\nRunning CV {i}\\n\")\n",
        "    ########################################################################## Prepare the Dataset:\n",
        "    X_trn = X_train.drop(index=val_index)\n",
        "    X_val = X_train.loc[val_index,:]\n",
        "\n",
        "#    vocabulary = X_trn[\"p_num\"].unique().tolist()\n",
        "\n",
        "    X = X_trn.drop(columns=[target]).copy()\n",
        "    y = X_trn[target].copy()\n",
        "\n",
        "    val_X = X_val.drop(columns=[target]).copy()\n",
        "    val_y = X_val[target].copy()\n",
        "\n",
        "    X_test = X_test.copy()\n",
        "    #################################################################### Prepare Datasets loaders:\n",
        "\n",
        "    train_dataset = dataframe_to_dataset(X_trn, batch_size=batch_size, shuffle=True)\n",
        "    valid_dataset = dataframe_to_dataset(X_val, batch_size=batch_size, shuffle=False)\n",
        "    test_dataset = dataframe_to_dataset(X_test, batch_size=batch_size, shuffle=False)\n",
        "\n",
        "    ##################################################################### Relevant Folders\n",
        "    folders_experiment = f\"/content/drive/MyDrive/Exercises/Studies_Structured_Data/Models/Glucose/{experiment_name}_{i}/\"\n",
        "    ##################################################################### Generate and Fit Model\n",
        "    # Callbacks:\n",
        "    checkpoint_filepath = folders_experiment + f'checkpoint/{experiment_name}.weights.h5'\n",
        "\n",
        "    # Generate the Model:\n",
        "    model = model_constructor(lr = learning_rate,\n",
        "                              **best_params)\n",
        "\n",
        "    print(\"Start training the model...\")\n",
        "    history = model.fit(train_dataset,\n",
        "                        epochs=num_epochs,\n",
        "                        callbacks=[keras.callbacks.EarlyStopping(monitor='val_rmse', patience=17, mode=\"min\",\n",
        "                                                  start_from_epoch=5,restore_best_weights=True),\n",
        "                                   keras.callbacks.ModelCheckpoint(filepath=checkpoint_filepath,\n",
        "                                                    save_weights_only=True,\n",
        "                                                    monitor=\"val_rmse\",\n",
        "                                                    mode='min',\n",
        "                                                    save_best_only=True),\n",
        "                                   keras.callbacks.ReduceLROnPlateau(monitor='val_rmse', factor=0.5,\n",
        "                                                          patience=5, min_lr=0.0001, mode=\"min\")],\n",
        "                        validation_data=valid_dataset)\n",
        "    print(\"Model training finished\")\n",
        "\n",
        "    model.load_weights(checkpoint_filepath)\n",
        "    model.evaluate(valid_dataset, verbose=0)\n",
        "\n",
        "    plot_training_session(history)\n",
        "\n",
        "    oof_res = model.predict(valid_dataset)\n",
        "    test_pred = model.predict(test_dataset)\n",
        "\n",
        "    print(f\"Out-of-Fold Shapes: {val_y.shape},{oof_res.shape}\")\n",
        "\n",
        "    rmse_score = root_mean_squared_error(val_y, oof_res)\n",
        "\n",
        "    val_pred = target_scaler.inverse_transform(oof_res)\n",
        "    real_val_y = target_scaler.inverse_transform(val_y.values.reshape(-1,1))\n",
        "    test_pred_real = target_scaler.inverse_transform(test_pred)\n",
        "\n",
        "    rmse_score_original = root_mean_squared_error(real_val_y, val_pred)\n",
        "\n",
        "    fig, axs = plt.subplots(1,1, figsize=(10,4))\n",
        "    axs.scatter(val_pred, real_val_y)\n",
        "    axs.set_title(f\"Out-of-Fold RMSE Score: {round(rmse_score, 3)}%\")\n",
        "    plt.tight_layout()\n",
        "    plt.show()\n",
        "\n",
        "    print(f\"Out-of-Fold RMSE Score Rebased: {round(rmse_score, 3)}%\")\n",
        "    print(f\"Out-of-Fold RMSE Score Original: {round(rmse_score_original, 3)}%\")\n",
        "\n",
        "    ##################################################################### Save the Model\n",
        "    model.save(f\"{folders_experiment}/model_{experiment_name}.keras\")\n",
        "\n",
        "    ##################################################################### Create Model Output\n",
        "    test_results_df.loc[:,i] = test_pred_real\n",
        "    all_rmse.append(round(rmse_score_original, 3))\n",
        "\n",
        "    gc.collect()\n",
        "\n",
        "  ##################################################################### Create Model Output\n",
        "  print(f\"All Valuation RMSE: {all_rmse}\")\n",
        "\n",
        "  return test_results_df"
      ],
      "metadata": {
        "id": "yx5LTRJBF8vr"
      },
      "execution_count": null,
      "outputs": []
    },
    {
      "cell_type": "markdown",
      "source": [
        "#### Keras Tuner:"
      ],
      "metadata": {
        "id": "3MDKtHyhF8vs"
      }
    },
    {
      "cell_type": "code",
      "source": [
        "tuning_on=True\n",
        "gc.collect()"
      ],
      "metadata": {
        "id": "2D1nzpwhF8vs"
      },
      "execution_count": null,
      "outputs": []
    },
    {
      "cell_type": "markdown",
      "source": [
        " Select a Validation set:"
      ],
      "metadata": {
        "id": "VwSzWXdtF8vs"
      }
    },
    {
      "cell_type": "code",
      "source": [
        "valid_index = val_sets[0]\n",
        "Xt = X_train.drop(index=valid_index)\n",
        "Xv = X_train.loc[valid_index,:]\n",
        "\n",
        "print(f\"Train Shape: {Xt.shape}, Val Shape: {Xv.shape}\")"
      ],
      "metadata": {
        "id": "5PiioM9NF8vs"
      },
      "execution_count": null,
      "outputs": []
    },
    {
      "cell_type": "code",
      "source": [
        "if tuning_on==True:\n",
        "\n",
        "  train_dataset = dataframe_to_dataset(Xt, batch_size=256, shuffle=True)\n",
        "  valid_dataset = dataframe_to_dataset(Xv, batch_size=256, shuffle=False)"
      ],
      "metadata": {
        "id": "nQzgjTkqF8vs"
      },
      "execution_count": null,
      "outputs": []
    },
    {
      "cell_type": "code",
      "source": [
        "if tuning_on==True:\n",
        "  # Define the hyperparameter search space: EXPERIMENT 1\n",
        "  hp = kt.HyperParameters()\n",
        "  hp.Choice('activation', [\"relu\",\"silu\",\"gelu\",\"mish\"]) #\n",
        "  hp.Float('dropout',0.25,0.40, step=0.025) #\n",
        "  hp.Float('reg',0.0001, 0.1,step=10,sampling=\"log\") #\n",
        "  hp.Choice('dense_layers', values=[1028,512,256])\n",
        "  hp.Choice('norm', values=[\"batch\"])"
      ],
      "metadata": {
        "id": "5_Iu0ZpFF8vt"
      },
      "execution_count": null,
      "outputs": []
    },
    {
      "cell_type": "code",
      "source": [
        "def create_turner_model(hp):\n",
        "\n",
        "  model = create_model_v5(dropout=hp.get('dropout'),\n",
        "                    activation=hp.get('activation'),\n",
        "                    reg=hp.get('reg'),\n",
        "                    lr=0.0005,\n",
        "                    dense_layers=[hp.get('dense_layers'),int(hp.get('dense_layers')/2),int(hp.get('dense_layers')/4)],\n",
        "                    norm=hp.get('norm'))\n",
        "\n",
        "  return model"
      ],
      "metadata": {
        "id": "qZJ3GA3FF8vt"
      },
      "execution_count": null,
      "outputs": []
    },
    {
      "cell_type": "code",
      "source": [
        "if tuning_on==True:\n",
        "  # Create a tuner and search for the best hyperparameters\n",
        "  tuner = BayesianOptimization(create_turner_model,\n",
        "                              objective=kt.Objective(\"val_rmse\", \"min\"),\n",
        "                              hyperparameters=hp, max_trials=50, overwrite=True)\n",
        "\n",
        "  stop_early = tf.keras.callbacks.EarlyStopping(monitor='val_rmse', patience=7, mode=\"min\", start_from_epoch=5)\n",
        "  reduce_ = tf.keras.callbacks.ReduceLROnPlateau(monitor='val_rmse', factor=0.5, patience=3, min_lr=0.0001, mode=\"min\")\n",
        "\n",
        "  tuner.search(train_dataset, validation_data=valid_dataset, epochs=31, callbacks=[stop_early,reduce_])"
      ],
      "metadata": {
        "id": "J3zsapmQF8vt"
      },
      "execution_count": null,
      "outputs": []
    },
    {
      "cell_type": "markdown",
      "source": [
        "    Trial 19 Complete [00h 02m 35s]\n",
        "    val_rmse: 0.6537328958511353\n",
        "\n",
        "    Best val_rmse So Far: 0.6537328958511353\n",
        "    Total elapsed time: 00h 39m 28s\n",
        "\n",
        "    Search: Running Trial #20\n",
        "\n",
        "    Value             |Best Value So Far |Hyperparameter\n",
        "    gelu              |relu              |activation\n",
        "    0.225             |0.325             |dropout\n",
        "    0.0001            |0.01              |reg\n",
        "    512               |512               |dense_layers\n",
        "    batch             |batch             |norm"
      ],
      "metadata": {
        "id": "_7mmja8OVbWv"
      }
    },
    {
      "cell_type": "code",
      "source": [
        "if tuning_on==True:\n",
        "  tuner.results_summary(num_trials=21)"
      ],
      "metadata": {
        "id": "EHy6TOO6F8vt"
      },
      "execution_count": null,
      "outputs": []
    },
    {
      "cell_type": "code",
      "source": [
        "if tuning_on==True:\n",
        "  print(tuner.get_best_hyperparameters(4)[0].values)\n",
        "  print(tuner.get_best_hyperparameters(4)[1].values)\n",
        "  print(tuner.get_best_hyperparameters(4)[2].values)\n",
        "  print(tuner.get_best_hyperparameters(4)[3].values)"
      ],
      "metadata": {
        "id": "soil_dY-F8vt"
      },
      "execution_count": null,
      "outputs": []
    },
    {
      "cell_type": "markdown",
      "source": [
        "* {'main_activation': 'gelu', 'dropout': 0.2, 'reg': 0.001, 'dense_layers': 128, 'norm': 'batch'}\n",
        "* {'main_activation': 'gelu', 'dropout': 0.175, 'reg': 0.001, 'dense_layers': 128, 'norm': 'batch'}\n",
        "* {'main_activation': 'silu', 'dropout': 0.35, 'reg': 0.001, 'dense_layers': 256, 'norm': 'batch'}\n",
        "* {'main_activation': 'silu', 'dropout': 0.35, 'reg': 0.001, 'dense_layers': 512, 'norm': 'batch'}\n",
        "\n",
        "* **Trial 49 summary**\n",
        "Hyperparameters:\n",
        "main_activation: gelu\n",
        "dropout: 0.2\n",
        "reg: 0.001\n",
        "dense_layers: 128\n",
        "norm: batch\n",
        "Score: 0.6541268825531006\n",
        "\n",
        "* **Trial 23 summary**\n",
        "Hyperparameters:\n",
        "main_activation: gelu\n",
        "dropout: 0.175\n",
        "reg: 0.001\n",
        "dense_layers: 128\n",
        "norm: batch\n",
        "Score: 0.6549822688102722\n",
        "\n",
        "* **Trial 05 summary**\n",
        "Hyperparameters:\n",
        "main_activation: silu\n",
        "dropout: 0.35\n",
        "reg: 0.001\n",
        "dense_layers: 256\n",
        "norm: batch\n",
        "Score: 0.6553966403007507\n",
        "\n",
        "* **Trial 25 summary**\n",
        "Hyperparameters:\n",
        "main_activation: silu\n",
        "dropout: 0.35\n",
        "reg: 0.001\n",
        "dense_layers: 512\n",
        "norm: batch\n",
        "Score: 0.6563018560409546\n",
        "\n",
        "* **Trial 12 summary**\n",
        "Hyperparameters:\n",
        "main_activation: gelu\n",
        "dropout: 0.225\n",
        "reg: 0.001\n",
        "dense_layers: 128\n",
        "norm: batch\n",
        "Score: 0.6568679213523865\n",
        "\n",
        "* **Trial 48 summary**\n",
        "Hyperparameters:\n",
        "main_activation: gelu\n",
        "dropout: 0.325\n",
        "reg: 0.0001\n",
        "dense_layers: 128\n",
        "norm: layer\n",
        "Score: 0.6574869155883789\n",
        "\n",
        "* **Trial 17 summary**\n",
        "Hyperparameters:\n",
        "main_activation: gelu\n",
        "dropout: 0.30000000000000004\n",
        "reg: 0.1\n",
        "dense_layers: 512\n",
        "norm: batch\n",
        "Score: 0.6574987769126892\n",
        "\n",
        "* **Trial 26 summary**\n",
        "Hyperparameters:\n",
        "main_activation: gelu\n",
        "dropout: 0.2\n",
        "reg: 0.01\n",
        "dense_layers: 128\n",
        "norm: batch\n",
        "Score: 0.6576610207557678"
      ],
      "metadata": {
        "id": "IEej7sUbF8vu"
      }
    },
    {
      "cell_type": "markdown",
      "source": [
        "#### Fit The Model:"
      ],
      "metadata": {
        "id": "lYvZ4QWxF8vu"
      }
    },
    {
      "cell_type": "code",
      "source": [
        "#best_params = tuner.get_best_hyperparameters(1)[0].values\n",
        "best_params = {'activation': 'silu', 'dropout': 0.375, 'reg': 0.01, 'dense_layers': [512,256,128], 'norm': 'batch'}"
      ],
      "metadata": {
        "id": "zt39jIRfF8vu"
      },
      "execution_count": null,
      "outputs": []
    },
    {
      "cell_type": "code",
      "source": [
        "test_results_df = run_experiment(X_train, X_test, create_model_v5, best_params, split=val_sets,\n",
        "                                 experiment_name=\"dnn_v0\", rs=42, target=\"bg+1:00\",\n",
        "                                 batch_size=256, num_epochs=200, learning_rate=0.00025)"
      ],
      "metadata": {
        "id": "lfCB_jmbF8vv"
      },
      "execution_count": null,
      "outputs": []
    },
    {
      "cell_type": "code",
      "source": [
        "test_results_df.clip(2.7, 22.5, inplace=True)\n",
        "test_results_df[\"average\"] = test_results_df.mean(axis=1)\n",
        "test_results_df"
      ],
      "metadata": {
        "id": "2NWcD9BnF8vv"
      },
      "execution_count": null,
      "outputs": []
    },
    {
      "cell_type": "markdown",
      "source": [
        "#### **STORE RESULTS**"
      ],
      "metadata": {
        "id": "DCiPd4B1F8vv"
      }
    },
    {
      "cell_type": "code",
      "source": [
        "sub = pd.read_csv(\"/content/drive/MyDrive/Exercises/Studies_Structured_Data/Data/Glucose/sample_submission.csv\")"
      ],
      "metadata": {
        "id": "rmAydRQrF8vv"
      },
      "execution_count": null,
      "outputs": []
    },
    {
      "cell_type": "code",
      "source": [
        "for i, col in enumerate(test_results_df.columns):\n",
        "  sub[\"bg+1:00\"] = test_results_df[col].values\n",
        "  sub.to_csv(f\"/content/drive/MyDrive/Exercises/Studies_Structured_Data/Data/Glucose/submissions/Submission_val_crossdeep_v0_{col}_clipped.csv\", index=False)\n",
        "  print(sub.isna().sum())"
      ],
      "metadata": {
        "id": "3uSCx6-rF8vw"
      },
      "execution_count": null,
      "outputs": []
    },
    {
      "cell_type": "code",
      "source": [
        "test_results_df.min(axis=0),test_results_df.max(axis=0)"
      ],
      "metadata": {
        "id": "USZaUaEZF8vw"
      },
      "execution_count": null,
      "outputs": []
    },
    {
      "cell_type": "code",
      "source": [
        "plt.scatter(test_results_df[0],test_results_df[1])"
      ],
      "metadata": {
        "id": "JC2gcaMPF8vw"
      },
      "execution_count": null,
      "outputs": []
    },
    {
      "cell_type": "code",
      "source": [],
      "metadata": {
        "id": "-Ey1vbXcbPZM"
      },
      "execution_count": null,
      "outputs": []
    }
  ]
}