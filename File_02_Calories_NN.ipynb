{
  "cells": [
    {
      "cell_type": "markdown",
      "metadata": {
        "id": "view-in-github",
        "colab_type": "text"
      },
      "source": [
        "<a href=\"https://colab.research.google.com/github/fabriziobasso/Colab_backup/blob/main/File_02_Calories_NN.ipynb\" target=\"_parent\"><img src=\"https://colab.research.google.com/assets/colab-badge.svg\" alt=\"Open In Colab\"/></a>"
      ]
    },
    {
      "cell_type": "markdown",
      "metadata": {
        "id": "0plw_SZl679v"
      },
      "source": [
        "# PREDICTING CALOORIES BURNED\n",
        "\n",
        "## RMSLE Metric and Competition Context\n",
        "\n",
        "This notebook is developed for a data science competition focused on predicting **Calories burned** during exercise. The evaluation metric for this competition is the **Root Mean Squared Logarithmic Error (RMSLE)**, which measures the square root of the mean squared difference between the logarithms of predicted and actual values. RMSLE is ideal for datasets with a wide range of target values, as it emphasizes **relative errors**, ensuring balanced performance across small and large calorie values.\n",
        "\n",
        "The RMSLE formula is:\n",
        "\n",
        "![](https://miro.medium.com/v2/resize:fit:720/format:webp/0*AUzyQ1rc6mpQVYfn)\n",
        "\n",
        "### Why RMSLE?\n",
        "- **Handles Wide Ranges**: RMSLE penalizes relative errors proportionally, making it robust for calorie values ranging from small (e.g., 10 calories) to large (e.g., 1000 calories).\n",
        "- **Balanced Evaluation**: Ensures models perform well across the entire spectrum of calorie burn.\n",
        "- **Competition Goal**: A lower RMSLE score indicates a precise and generalizable model, critical for ranking high on the leaderboard.\n",
        "\n",
        "---\n",
        "\n",
        "## Potential Effects of Features on Calorie Burn\n",
        "\n",
        "The dataset includes the following features to predict calorie burn: **Sex**, **Age**, **Height**, **Weight**, **Duration**, **Heart_Rate**, and **Body_Temp**. Below, we explore how each feature might influence calorie burn:\n",
        "\n",
        "### 1. Sex\n",
        "- **Impact**: Differences in metabolic rates and muscle mass between males and females affect calorie burn. Males often have higher muscle mass, leading to greater calorie expenditure for the same exercise.\n",
        "- **Example**: A male running at the same pace and duration as a female may burn more calories due to higher energy demands.\n",
        "\n",
        "### 2. Age\n",
        "- **Impact**: Basal metabolic rate (BMR) decreases with age, reducing calorie burn in older individuals due to lower metabolic rates and muscle mass (sarcopenia).\n",
        "- **Example**: A 20-year-old may burn more calories than a 50-year-old during identical workouts.\n",
        "\n",
        "### 3. Height\n",
        "- **Impact**: Taller individuals have more body mass or muscle, requiring more energy for movement, thus burning more calories. Height’s effect is often linked to weight and exercise intensity.\n",
        "- **Example**: A taller person may expend more energy covering the same distance.\n",
        "\n",
        "### 4. Weight\n",
        "- **Impact**: Heavier individuals burn more calories due to the energy required to move greater body mass. Body composition (fat vs. muscle) also influences calorie burn.\n",
        "- **Example**: A 90 kg individual burns more calories walking the same distance as a 60 kg individual.\n",
        "\n",
        "### 5. Duration\n",
        "- **Impact**: Longer exercise sessions directly increase total calorie expenditure, though intensity and exercise type also matter.\n",
        "- **Example**: Running for 30 minutes burns more calories than running for 15 minutes.\n",
        "\n",
        "### 6. Heart_Rate\n",
        "- **Impact**: Higher heart rates indicate greater exercise intensity and metabolic effort, leading to increased calorie burn. Fitness levels can modulate heart rate responses.\n",
        "- **Example**: High heart rate during a HIIT workout correlates with higher calorie burn.\n",
        "\n",
        "### 7. Body_Temp\n",
        "- **Impact**: Rising body temperature during exercise reflects increased metabolic activity and thermoregulation, potentially increasing calorie burn. Environmental factors (e.g., heat) also play a role.\n",
        "- **Example**: Exercising in a hot environment may increase calorie expenditure due to thermoregulation.\n",
        "\n",
        "---\n",
        "\n",
        "## Transition to Analysis\n",
        "\n",
        "Understanding the relationships between these features and calorie burn is key to building a predictive model. In this notebook, we will:\n",
        "\n",
        "1. **Explore Data**: Analyze the distribution of the target variable (**Calories**) and features using visualizations (e.g., histograms, boxplots).\n",
        "2. **Correlation Analysis**: Identify relationships between features and the target using correlation matrices and polar plots.\n",
        "3. **Outlier Detection**: Address anomalies that could skew model performance.\n",
        "4. **Feature Engineering**: Apply techniques like quantile and equal-width binning to enhance model input.\n",
        "5. **Model Development**: Build and evaluate models to minimize RMSLE, aligning with competition objectives.\n",
        "\n",
        "### Visualization Strategy\n",
        "We will use:\n",
        "- **Histograms** and **boxplots** to examine feature distributions.\n",
        "- **Correlation matrices** to uncover feature relationships.\n",
        "- **Polar plots** for creative visualization of feature impacts.\n",
        "- **Pair plots** to explore pairwise relationships.\n",
        "\n",
        "By systematically analyzing the data, we aim to develop a robust model that accurately predicts calorie burn and excels in the competition.\n",
        "\n",
        "---"
      ]
    },
    {
      "cell_type": "markdown",
      "metadata": {
        "id": "Q4e2HGJH8zTd"
      },
      "source": [
        "# 0.0 Setting"
      ]
    },
    {
      "cell_type": "markdown",
      "metadata": {
        "id": "boXswaUo7Uvn"
      },
      "source": [
        "## 0.1 Import Libraries:"
      ]
    },
    {
      "cell_type": "code",
      "execution_count": 7,
      "metadata": {
        "id": "8fOwAMLAw7Co"
      },
      "outputs": [],
      "source": [
        "# !pip uninstall scikit-learn\n",
        "# !pip install scikit-learn==1.4"
      ]
    },
    {
      "cell_type": "code",
      "execution_count": 8,
      "metadata": {
        "id": "6rYYQgW0Rmxv"
      },
      "outputs": [],
      "source": [
        "%%capture\n",
        "#!pip install -qq pytorch_tabnet\n",
        "!pip install optuna\n",
        "!pip install --upgrade catboost\n",
        "#!pip install optuna-integration-pytorch-tabnet\n",
        "\n",
        "#from pytorch_tabnet.tab_model import TabNetRegressor\n",
        "\n",
        "!pip install --upgrade category-encoders\n",
        "!pip install optuna-integration\n",
        "!pip install colorama\n",
        "#!pip install pyfiglet\n",
        "#!pip install keras-tuner --upgrade\n",
        "#!pip install keras-nlp\n",
        "#!pip install BorutaShap\n",
        "#!pip install scikit-learn==1.2.2\n",
        "#!pip install scikit-lego\n",
        "!pip install skops"
      ]
    },
    {
      "cell_type": "code",
      "execution_count": 9,
      "metadata": {
        "id": "crKlzXJctRD4",
        "colab": {
          "base_uri": "https://localhost:8080/"
        },
        "outputId": "ba19a644-8a11-44b6-9c60-a6dadc440695"
      },
      "outputs": [
        {
          "output_type": "execute_result",
          "data": {
            "text/plain": [
              "('1.6.1', '4.5.0', '2.1.4', '1.2.8')"
            ]
          },
          "metadata": {},
          "execution_count": 9
        }
      ],
      "source": [
        "import sklearn\n",
        "import lightgbm, xgboost, catboost\n",
        "sklearn.__version__, lightgbm.__version__, xgboost.__version__, catboost.__version__"
      ]
    },
    {
      "cell_type": "code",
      "execution_count": 10,
      "metadata": {
        "id": "vIS1habP8JGi",
        "colab": {
          "base_uri": "https://localhost:8080/",
          "height": 34
        },
        "outputId": "bf527db7-7d67-447b-f9a5-1d48e6c17979"
      },
      "outputs": [
        {
          "output_type": "display_data",
          "data": {
            "text/plain": [
              "<Figure size 960x660 with 0 Axes>"
            ]
          },
          "metadata": {}
        }
      ],
      "source": [
        "# Setup notebook\n",
        "from pathlib import Path\n",
        "import ipywidgets as widgets\n",
        "import pandas as pd\n",
        "import numpy as np\n",
        "from pickle import load, dump\n",
        "import json\n",
        "import joblib\n",
        "#from joblib import dump, load\n",
        "#import calplot as cal\n",
        "\n",
        "# Graphic Libraries:\n",
        "import seaborn as sns\n",
        "import matplotlib as mpl\n",
        "import matplotlib.pyplot as plt\n",
        "import matplotlib.patches as patches\n",
        "import matplotlib.image as mpimg\n",
        "from termcolor import colored\n",
        "# Set Style\n",
        "sns.set_style(\"whitegrid\",{\"grid.linestyle\":\"--\", 'grid.linewidth':0.2, 'grid.alpha':0.5});\n",
        "sns.despine(left=True, bottom=True, top=False, right=False);\n",
        "mpl.rcParams['figure.dpi'] = 120;\n",
        "mpl.rc('axes', labelsize=12);\n",
        "plt.rc('xtick',labelsize=10);\n",
        "plt.rc('ytick',labelsize=10);\n",
        "\n",
        "mpl.rcParams['axes.spines.top'] = False;\n",
        "mpl.rcParams['axes.spines.right'] = False;\n",
        "mpl.rcParams['axes.spines.left'] = True;\n",
        "\n",
        "# Palette Setup\n",
        "colors = ['#FB5B68','#FFEB48','#2676A1','#FFBDB0',]\n",
        "colormap_0 = mpl.colors.LinearSegmentedColormap.from_list(\"\",colors)\n",
        "palette_1 = sns.color_palette(\"coolwarm\", as_cmap=True)\n",
        "palette_2 = sns.color_palette(\"YlOrBr\", as_cmap=True)\n",
        "palette_3 = sns.light_palette(\"red\", as_cmap=True)\n",
        "palette_4 = sns.color_palette(\"viridis\", as_cmap=True)\n",
        "palette_5 = sns.color_palette(\"rocket\", as_cmap=True)\n",
        "palette_6 = sns.color_palette(\"GnBu\", as_cmap=True)\n",
        "palette_7 = sns.color_palette(\"tab20c\", as_cmap=False)\n",
        "palette_8 = sns.color_palette(\"Set2\", as_cmap=False)\n",
        "\n",
        "palette_custom = ['#fbb4ae','#b3cde3','#ccebc5','#decbe4','#fed9a6','#ffffcc','#e5d8bd','#fddaec','#f2f2f2']\n",
        "palette_9 = sns.color_palette(palette_custom, as_cmap=False)\n",
        "\n",
        "# tool for Excel:\n",
        "from openpyxl import load_workbook, Workbook\n",
        "from openpyxl.drawing.image import Image\n",
        "from openpyxl.styles import Border, Side, PatternFill, Font, GradientFill, Alignment\n",
        "from openpyxl.worksheet.cell_range import CellRange\n",
        "\n",
        "from openpyxl.formatting import Rule\n",
        "from openpyxl.styles import Font, PatternFill, Border\n",
        "from openpyxl.styles.differential import DifferentialStyle\n",
        "\n",
        "# Bloomberg\n",
        "#from xbbg import blp\n",
        "from catboost import CatBoostRegressor, Pool, CatBoostClassifier\n",
        "import xgboost as xgb\n",
        "from xgboost import XGBRegressor, XGBClassifier\n",
        "from xgboost.callback import EarlyStopping\n",
        "\n",
        "import lightgbm as lgb\n",
        "from lightgbm import (LGBMRegressor,\n",
        "                      LGBMClassifier,\n",
        "                      early_stopping,\n",
        "                      record_evaluation,\n",
        "                      log_evaluation)\n",
        "\n",
        "# Time Management\n",
        "from tqdm import tqdm\n",
        "from datetime import date\n",
        "from datetime import datetime\n",
        "from pandas.tseries.offsets import BMonthEnd, QuarterEnd\n",
        "import datetime\n",
        "from pandas.tseries.offsets import BDay # BDay is business day, not birthday...\n",
        "import datetime as dt\n",
        "import click\n",
        "import glob\n",
        "import os\n",
        "import gc\n",
        "import re\n",
        "import string\n",
        "\n",
        "from ipywidgets import AppLayout\n",
        "from ipywidgets import Dropdown, Layout, HTML, AppLayout, VBox, Label, HBox, BoundedFloatText, interact, Output\n",
        "\n",
        "#from my_func import *\n",
        "\n",
        "import optuna\n",
        "from optuna.integration import TFKerasPruningCallback\n",
        "from optuna.trial import TrialState\n",
        "from optuna.visualization import plot_intermediate_values\n",
        "from optuna.visualization import plot_optimization_history\n",
        "from optuna.visualization import plot_param_importances\n",
        "from optuna.visualization import plot_contour\n",
        "\n",
        "os.environ[\"KERAS_BACKEND\"] = \"tensorflow\"\n",
        "\n",
        "import numpy as np\n",
        "import tensorflow as tf\n",
        "import keras\n",
        "from tensorflow.keras import backend as K\n",
        "\n",
        "from keras import ops\n",
        "from keras import layers\n",
        "from keras import activations\n",
        "\n",
        "from keras.layers import Input, LSTM, Dense, Lambda, RepeatVector, Reshape\n",
        "from keras.models import Model\n",
        "from keras.losses import MeanSquaredError\n",
        "from keras.metrics import RootMeanSquaredError\n",
        "\n",
        "from keras.utils import FeatureSpace, plot_model\n",
        "\n",
        "# Import libraries for Hypertuning\n",
        "#import keras_tuner as kt\n",
        "#from keras_tuner.tuners import RandomSearch, GridSearch, BayesianOptimization\n",
        "\n",
        "#from my_func import *\n",
        "\n",
        "# preprocessing modules\n",
        "from sklearn.model_selection import train_test_split, KFold, StratifiedKFold, RepeatedKFold, cross_val_score, cross_validate, GroupKFold, GridSearchCV, RepeatedStratifiedKFold, cross_val_predict\n",
        "from sklearn.experimental import enable_iterative_imputer  # noqa\n",
        "from sklearn.impute import IterativeImputer\n",
        "\n",
        "from sklearn.preprocessing import (LabelEncoder,\n",
        "                                   StandardScaler,\n",
        "                                   MinMaxScaler,\n",
        "                                   OrdinalEncoder,\n",
        "                                   RobustScaler,\n",
        "                                   PowerTransformer,\n",
        "                                   OneHotEncoder,\n",
        "                                   QuantileTransformer,\n",
        "                                   PolynomialFeatures,\n",
        "                                   FunctionTransformer)\n",
        "\n",
        "# metrics\n",
        "import sklearn\n",
        "#import skops.io as sio\n",
        "from sklearn.metrics import (mean_squared_error,\n",
        "                             root_mean_squared_error,\n",
        "                             root_mean_squared_log_error,\n",
        "                             r2_score,\n",
        "                             mean_absolute_error,\n",
        "                             mean_absolute_percentage_error,\n",
        "                             classification_report,\n",
        "                             confusion_matrix,\n",
        "                             ConfusionMatrixDisplay,\n",
        "                             multilabel_confusion_matrix,\n",
        "                             accuracy_score,\n",
        "                             roc_auc_score,\n",
        "                             auc,\n",
        "                             roc_curve,\n",
        "                             log_loss,\n",
        "                             make_scorer)\n",
        "# modeling algos\n",
        "from sklearn.linear_model import (LogisticRegression,\n",
        "                                  Lasso,\n",
        "                                  ridge_regression,\n",
        "                                  LinearRegression,\n",
        "                                  Ridge,\n",
        "                                  RidgeCV,\n",
        "                                  ElasticNet,\n",
        "                                  BayesianRidge,\n",
        "                                  HuberRegressor,\n",
        "                                  TweedieRegressor,\n",
        "                                  QuantileRegressor,\n",
        "                                  ARDRegression,\n",
        "                                  TheilSenRegressor,\n",
        "                                  PoissonRegressor,\n",
        "                                  GammaRegressor)\n",
        "\n",
        "from sklearn.ensemble import (AdaBoostRegressor,\n",
        "                              AdaBoostClassifier,\n",
        "                              RandomForestRegressor,\n",
        "                              RandomForestClassifier,\n",
        "                              VotingRegressor,\n",
        "                              GradientBoostingRegressor,\n",
        "                              GradientBoostingClassifier,\n",
        "                              StackingRegressor,\n",
        "                              StackingClassifier,\n",
        "                              HistGradientBoostingClassifier,\n",
        "                              HistGradientBoostingRegressor,\n",
        "                              ExtraTreesClassifier)\n",
        "\n",
        "from sklearn.decomposition import PCA, TruncatedSVD\n",
        "from sklearn.base import clone\n",
        "from sklearn.compose import ColumnTransformer, make_column_transformer\n",
        "from sklearn.pipeline import Pipeline, make_pipeline\n",
        "from sklearn.feature_selection import SelectFromModel\n",
        "from sklearn.feature_extraction.text import TfidfVectorizer\n",
        "from sklearn.cluster import KMeans\n",
        "from category_encoders import TargetEncoder, CatBoostEncoder, LeaveOneOutEncoder, OrdinalEncoder, CountEncoder\n",
        "\n",
        "from yellowbrick.cluster import KElbowVisualizer\n",
        "\n",
        "import warnings\n",
        "warnings.filterwarnings(\"ignore\")\n",
        "warnings.filterwarnings(\"ignore\", category=DeprecationWarning)\n",
        "warnings.filterwarnings(\"ignore\", category=FutureWarning)\n",
        "%matplotlib inline\n",
        "\n",
        "from sklearn.linear_model import LinearRegression\n",
        "import numpy as np\n",
        "import seaborn as sns\n",
        "from statsmodels.tsa.deterministic import CalendarFourier, DeterministicProcess\n",
        "\n",
        "from sklearn.multioutput import RegressorChain\n",
        "\n",
        "import itertools\n",
        "import warnings\n",
        "from openpyxl import load_workbook\n",
        "\n",
        "from lightgbm import LGBMRegressor\n",
        "from xgboost import XGBRegressor\n",
        "from catboost import CatBoostRegressor\n",
        "\n",
        "import statsmodels.api as sm\n",
        "from pylab import rcParams\n",
        "import scipy.stats as ss\n",
        "\n",
        "#from category_encoders.cat_boost import CatBoostEncoder\n",
        "#from category_encoders.wrapper import PolynomialWrapper\n",
        "#from category_encoders.count import CountEncoder\n",
        "#from category_encoders import TargetEncoder\n",
        "\n",
        "import skops.io as sio\n",
        "\n",
        "warnings.filterwarnings('ignore')\n",
        "#import pyfiglet\n",
        "#plt.style.use('fivethirtyeight')"
      ]
    },
    {
      "cell_type": "markdown",
      "metadata": {
        "id": "yQhbcUmY8EXO"
      },
      "source": [
        "**Formatting and Settings:**"
      ]
    },
    {
      "cell_type": "code",
      "execution_count": 11,
      "metadata": {
        "id": "pkkRPWKZCkYa",
        "colab": {
          "base_uri": "https://localhost:8080/",
          "height": 34
        },
        "outputId": "adea8c4b-15cb-4a6b-8d6a-92df202e32b3"
      },
      "outputs": [
        {
          "output_type": "display_data",
          "data": {
            "text/plain": [
              "<Figure size 960x660 with 0 Axes>"
            ]
          },
          "metadata": {}
        }
      ],
      "source": [
        "sns.set({\"axes.facecolor\"       : \"#ffffff\",\n",
        "         \"figure.facecolor\"     : \"#ffffff\",\n",
        "         \"axes.edgecolor\"       : \"#000000\",\n",
        "         \"grid.color\"           : \"#ffffff\",\n",
        "         \"font.family\"          : ['Cambria'],\n",
        "         \"axes.labelcolor\"      : \"#000000\",\n",
        "         \"xtick.color\"          : \"#000000\",\n",
        "         \"ytick.color\"          : \"#000000\",\n",
        "         \"grid.linewidth\"       : 0.5,\n",
        "         'grid.alpha'           :0.5,\n",
        "         \"grid.linestyle\"       : \"--\",\n",
        "         \"axes.titlecolor\"      : 'black',\n",
        "         'axes.titlesize'       : 12,\n",
        "#         'axes.labelweight'     : \"bold\",\n",
        "         'legend.fontsize'      : 7.0,\n",
        "         'legend.title_fontsize': 7.0,\n",
        "         'font.size'            : 7.5,\n",
        "         'xtick.labelsize'      : 7.5,\n",
        "         'ytick.labelsize'      : 7.5,\n",
        "        });\n",
        "\n",
        "sns.set_style(\"whitegrid\",{\"grid.linestyle\":\"--\", 'grid.linewidth':0.2, 'grid.alpha':0.5})\n",
        "# Set Style\n",
        "mpl.rcParams['figure.dpi'] = 120;\n",
        "\n",
        "# import font colors\n",
        "from colorama import Fore, Style, init\n",
        "\n",
        "# Making sklearn pipeline outputs as dataframe:-\n",
        "pd.set_option('display.max_columns', 100);\n",
        "pd.set_option('display.max_rows', 50);\n",
        "\n",
        "sns.despine(left=True, bottom=True, top=False, right=False)\n",
        "\n",
        "mpl.rcParams['axes.spines.left'] = True\n",
        "mpl.rcParams['axes.spines.right'] = False\n",
        "mpl.rcParams['axes.spines.top'] = False\n",
        "mpl.rcParams['axes.spines.bottom'] = True\n",
        "\n",
        "init(autoreset=True)"
      ]
    },
    {
      "cell_type": "code",
      "execution_count": 12,
      "metadata": {
        "id": "NU7oWpLHRmxy",
        "colab": {
          "base_uri": "https://localhost:8080/"
        },
        "outputId": "c8624a87-c29d-4db2-e007-b0880cf3c52c"
      },
      "outputs": [
        {
          "output_type": "stream",
          "name": "stdout",
          "text": [
            "Mounted at /content/drive\n"
          ]
        }
      ],
      "source": [
        "from tqdm import tqdm\n",
        "from itertools import product\n",
        "\n",
        "import numpy as np\n",
        "import pandas as pd\n",
        "import gc\n",
        "import matplotlib.pyplot as plt\n",
        "import seaborn as sns\n",
        "\n",
        "from lightgbm import LGBMRegressor\n",
        "from xgboost import XGBRegressor\n",
        "from catboost import CatBoostRegressor\n",
        "\n",
        "from sklearn.model_selection import GroupKFold\n",
        "from sklearn.impute import SimpleImputer\n",
        "import torch\n",
        "\n",
        "import warnings\n",
        "warnings.filterwarnings(\"ignore\")\n",
        "\n",
        "# Connect to Colab:#\n",
        "from google.colab import drive\n",
        "import os\n",
        "drive.mount('/content/drive')"
      ]
    },
    {
      "cell_type": "markdown",
      "metadata": {
        "id": "cVSGNoaQB8fF"
      },
      "source": [
        "## 0.2 Functions:"
      ]
    },
    {
      "cell_type": "markdown",
      "metadata": {
        "id": "3uNczPcrH4iC"
      },
      "source": [
        "* **Plotting Functiss**"
      ]
    },
    {
      "cell_type": "code",
      "execution_count": 13,
      "metadata": {
        "id": "RjO42zM1B8FU"
      },
      "outputs": [],
      "source": [
        "def plot_scatter(df, x=\"feat1\", y=\"feat2\", color_feature=None, cmap='viridis'):\n",
        "    \"\"\"\n",
        "    Generates a scatter plot with points colored based on a third feature.\n",
        "\n",
        "    Args:\n",
        "        df: Pandas DataFrame containing the data.\n",
        "        x: Name of the column to use for the x-axis.\n",
        "        y: Name of the column to use for the y-axis.\n",
        "        color_feature: Name of the column to use for coloring the points.\n",
        "                       If None, points will be a single color.\n",
        "        cmap: Colormap to use for coloring the points (e.g., 'viridis', 'plasma', 'magma', 'inferno', 'cividis').\n",
        "              See matplotlib documentation for available colormaps.\n",
        "    \"\"\"\n",
        "\n",
        "    plt.figure(figsize=(8, 5))\n",
        "\n",
        "    if color_feature is not None:\n",
        "        # Ensure the color feature exists\n",
        "        if color_feature not in df.columns:\n",
        "            raise ValueError(f\"Color feature '{color_feature}' not found in DataFrame.\")\n",
        "\n",
        "        # Scatter plot with colors\n",
        "        scatter = plt.scatter(df[x], df[y], c=df[color_feature], cmap=cmap)\n",
        "\n",
        "        # Add a colorbar\n",
        "        cbar = plt.colorbar(scatter)\n",
        "        cbar.set_label(color_feature)  # Label the colorbar\n",
        "\n",
        "    else:\n",
        "        # Simple scatter plot (single color)\n",
        "        plt.scatter(df[x], df[y],color=\"royalblue\",alpha=0.6)\n",
        "\n",
        "    plt.xlabel(x)\n",
        "    plt.ylabel(y)\n",
        "    plt.title(\"Scatter Plot\")  # Add a title for better visualization\n",
        "    plt.show()"
      ]
    },
    {
      "cell_type": "markdown",
      "metadata": {
        "id": "rVeb3ga2HynB"
      },
      "source": [
        "* **Dataset Management Functions**:"
      ]
    },
    {
      "cell_type": "code",
      "execution_count": 14,
      "metadata": {
        "id": "0595jA_qHZuK"
      },
      "outputs": [],
      "source": [
        "class Config:\n",
        "\n",
        "    state = 42\n",
        "    n_splits = 10\n",
        "    early_stop = 200\n",
        "\n",
        "    target = 'Calories'\n",
        "    train = pd.read_csv('/content/drive/MyDrive/Exercises/Studies_Structured_Data/Data/S5E5/train.csv')\n",
        "    test = pd.read_csv('/content/drive/MyDrive/Exercises/Studies_Structured_Data/Data/S5E5/test.csv')\n",
        "    submission = pd.read_csv( \"/content/drive/MyDrive/Exercises/Studies_Structured_Data/Data/S5E5/sample_submission.csv\")\n",
        "    #train_org = pd.read_csv(\"/content/drive/MyDrive/Exercises/Studies_Structured_Data/Data/S5E5/original.csv\")\n",
        "\n",
        "    original_data = 'N'\n",
        "    outliers = 'N'\n",
        "    log_trf = 'Y'\n",
        "    scaler_trf = 'Y'\n",
        "    feature_eng = 'N'\n",
        "    missing = 'Y'\n",
        "    sqrt_normalization=\"Y\"\n",
        "    impose_normalization=\"N\"\n",
        "    trg_enc = \"N\"\n",
        "    problem = \"Regression\"\n",
        "    metric_goal=\"LRMSE\"\n",
        "    direction_=\"minimize\"\n",
        "    log_trans_cols = [\"Body_Temp\"]\n",
        "    sqrt_norm_cols = [\"Age\"]\n",
        "    impose_norm_cols = []\n",
        "    trg_enc_feat = []\n",
        "\n",
        "class Preprocessing():\n",
        "\n",
        "    def __init__(self):\n",
        "        self.train = Config.train\n",
        "        self.test = Config.test\n",
        "        self.targets = Config.target\n",
        "\n",
        "        self.prp_data()\n",
        "\n",
        "    def prp_data(self):\n",
        "\n",
        "        if Config.original_data == 'Y':\n",
        "            self.train = pd.concat([self.train, Config.train_org], ignore_index=True).drop_duplicates(ignore_index=True)\n",
        "\n",
        "        self.train = self.train.drop(['id'], axis=1)\n",
        "        self.test = self.test.drop(['id'], axis=1)\n",
        "\n",
        "        self.cat_features = self.train.drop(self.targets, axis=1).select_dtypes(include=['object', 'bool']).columns.tolist()\n",
        "        self.num_features = self.train.drop(self.targets, axis=1).select_dtypes(exclude=['object', 'bool']).columns.tolist()\n",
        "\n",
        "        self.train = self.reduce_mem(self.train)\n",
        "        self.test = self.reduce_mem(self.test)\n",
        "        return self\n",
        "\n",
        "    def reduce_mem(self, df):\n",
        "\n",
        "        numerics = ['int16', 'int32', 'int64', 'float16', 'float32', 'float64', \"uint16\", \"uint32\", \"uint64\"]\n",
        "\n",
        "        for col in df.columns:\n",
        "            col_type = df[col].dtypes\n",
        "\n",
        "            if col_type in numerics:\n",
        "                c_min = df[col].min()\n",
        "                c_max = df[col].max()\n",
        "\n",
        "                if \"int\" in str(col_type):\n",
        "                    if c_min >= np.iinfo(np.int8).min and c_max < np.iinfo(np.int8).max:\n",
        "                        df[col] = df[col].astype(np.int32)\n",
        "                    elif c_min >= np.iinfo(np.int16).min and c_max < np.iinfo(np.int16).max:\n",
        "                        df[col] = df[col].astype(np.int32)\n",
        "                    elif c_min >= np.iinfo(np.int32).min and c_max < np.iinfo(np.int32).max:\n",
        "                        df[col] = df[col].astype(np.int32)\n",
        "                    elif c_min >= np.iinfo(np.int64).min and c_max < np.iinfo(np.int64).max:\n",
        "                        df[col] = df[col].astype(np.int64)\n",
        "                else:\n",
        "                    if c_min >= np.finfo(np.float16).min and c_max < np.finfo(np.float16).max:\n",
        "                        df[col] = df[col].astype(np.float32)\n",
        "                    if c_min >= np.finfo(np.float32).min and c_max < np.finfo(np.float32).max:\n",
        "                        df[col] = df[col].astype(np.float32)\n",
        "                    else:\n",
        "                        df[col] = df[col].astype(np.float64)\n",
        "\n",
        "        return df\n",
        "\n",
        "class EDA(Config, Preprocessing):\n",
        "\n",
        "    def __init__(self):\n",
        "        super().__init__()\n",
        "\n",
        "        self.data_info()\n",
        "        self.heatmap()\n",
        "        self.dist_plots()\n",
        "        self.cat_feature_plots()\n",
        "        if Config.problem == 'Classification':\n",
        "          self.target_pie()\n",
        "        else:\n",
        "          self.target_dist()\n",
        "\n",
        "    def data_info(self):\n",
        "\n",
        "        for data, label in zip([self.train, self.test], ['Train', 'Test']):\n",
        "            table_style = [{'selector': 'th:not(.index_name)',\n",
        "                            'props': [('background-color', 'slategrey'),\n",
        "                                      ('color', '#FFFFFF'),\n",
        "                                      ('font-weight', 'bold'),\n",
        "                                      ('border', '1px solid #DCDCDC'),\n",
        "                                      ('text-align', 'center')]\n",
        "                            },\n",
        "                            {'selector': 'tbody td',\n",
        "                             'props': [('border', '1px solid #DCDCDC'),\n",
        "                                       ('font-weight', 'normal')]\n",
        "                            }]\n",
        "            print(Style.BRIGHT+Fore.RED+f'\\n{label} head\\n')\n",
        "            display(data.head().style.set_table_styles(table_style))\n",
        "\n",
        "            print(Style.BRIGHT+Fore.RED+f'\\n{label} info\\n'+Style.RESET_ALL)\n",
        "            display(data.info())\n",
        "\n",
        "            print(Style.BRIGHT+Fore.RED+f'\\n{label} describe\\n')\n",
        "            display(data.describe().drop(index='count', columns=self.targets, errors = 'ignore').T\n",
        "                    .style.set_table_styles(table_style).format('{:.3f}'))\n",
        "\n",
        "            print(Style.BRIGHT+Fore.RED+f'\\n{label} missing values\\n'+Style.RESET_ALL)\n",
        "            display(data.isnull().sum())\n",
        "        return self\n",
        "\n",
        "    def heatmap(self):\n",
        "        print(Style.BRIGHT+Fore.RED+f'\\nCorrelation Heatmap\\n')\n",
        "        plt.figure(figsize=(7,7))\n",
        "        corr = self.train.select_dtypes(exclude='object').corr(method='pearson')\n",
        "        sns.heatmap(corr, fmt = '0.2f', cmap = 'Blues', annot=True, cbar=False)\n",
        "        plt.show()\n",
        "\n",
        "    def dist_plots(self):\n",
        "\n",
        "        print(Style.BRIGHT+Fore.RED+f\"\\nDistribution analysis - Numerical\\n\")\n",
        "        df = pd.concat([self.train[self.num_features].assign(Source = 'Train'),\n",
        "                        self.test[self.num_features].assign(Source = 'Test'),],\n",
        "                        axis=0, ignore_index = True)\n",
        "\n",
        "        fig, axes = plt.subplots(len(self.num_features), 2 ,figsize = (13, len(self.num_features) * 4),\n",
        "                                 gridspec_kw = {'hspace': 0.3,\n",
        "                                                'wspace': 0.2,\n",
        "                                                'width_ratios': [0.70, 0.30]\n",
        "                                               }\n",
        "                                )\n",
        "        for i,col in enumerate(self.num_features):\n",
        "            try:\n",
        "                ax = axes[i,0]\n",
        "            except:\n",
        "                ax = axes[i]\n",
        "            sns.kdeplot(data = df[[col, 'Source']], x = col, hue = 'Source',\n",
        "                        palette = ['royalblue', 'tomato'], ax = ax, alpha=0.7, linewidth = 2\n",
        "                       )\n",
        "            ax.set(xlabel = '', ylabel = '')\n",
        "            ax.set_title(f\"\\n{col}\")\n",
        "            ax.grid('--',alpha=0.7)\n",
        "\n",
        "            try:\n",
        "                ax = axes[i,1]\n",
        "            except:\n",
        "                ax = axes[1]\n",
        "            sns.boxplot(data = df, y = col, x=df.Source, width = 0.5,\n",
        "                        linewidth = 1, fliersize= 1,\n",
        "                        ax = ax, palette=['royalblue', 'tomato']\n",
        "                       )\n",
        "            ax.set_title(f\"\\n{col}\")\n",
        "            ax.set(xlabel = '', ylabel = '')\n",
        "            ax.tick_params(axis='both', which='major')\n",
        "            ax.set_xticklabels(['Train', 'Test'])\n",
        "\n",
        "        plt.tight_layout()\n",
        "        plt.show()\n",
        "\n",
        "    def cat_feature_plots(self):\n",
        "        print(Style.BRIGHT+Fore.RED+f\"\\nDistribution analysis - Categorical\\n\")\n",
        "        fig, axes = plt.subplots(len(self.cat_features), 2 ,figsize = (18, len(self.cat_features) * 6),\n",
        "                                 gridspec_kw = {'hspace': 0.5,\n",
        "                                                'wspace': 0.2,\n",
        "                                               }\n",
        "                                )\n",
        "\n",
        "        for i, col in enumerate(self.cat_features):\n",
        "            try:\n",
        "                ax = axes[i,0]\n",
        "            except:\n",
        "                ax = axes[i]\n",
        "            sns.barplot(data=self.train[col].value_counts().nlargest(10).reset_index(), x=col, y='count', ax=ax, color='royalblue', alpha=0.7)\n",
        "            ax.set(xlabel = '', ylabel = '')\n",
        "            ax.set_title(f\"\\n{col} Train\")\n",
        "\n",
        "            try:\n",
        "                ax = axes[i,1]\n",
        "            except:\n",
        "                ax = axes[i+1]\n",
        "            sns.barplot(data=self.test[col].value_counts().nlargest(10).reset_index(), x=col, y='count', ax=ax, color='tomato', alpha=0.7)\n",
        "            ax.set(xlabel = '', ylabel = '')\n",
        "            ax.set_title(f\"\\n{col} Test\")\n",
        "\n",
        "        plt.tight_layout()\n",
        "        plt.show()\n",
        "\n",
        "    def target_pie(self):\n",
        "        print(Style.BRIGHT+Fore.RED+f\"\\nTarget feature distribution\\n\")\n",
        "        targets = self.train[self.targets]\n",
        "        plt.figure(figsize=(6, 6))\n",
        "        plt.pie(targets.value_counts(), labels=targets.value_counts().index, autopct='%1.2f%%', colors=palette_9)\n",
        "        plt.show()\n",
        "\n",
        "    def target_dist(self):\n",
        "        print(Style.BRIGHT+Fore.RED+f\"\\nTarget feature distribution\\n\")\n",
        "        fig, axes = plt.subplots(1, 1, figsize=(7, 5))\n",
        "        sns.histplot(self.train[self.targets], kde=True, ax=axes)\n",
        "        axes.set_title('Distribution of Price')\n",
        "        axes.set_xlabel(self.targets)\n",
        "        axes.set_ylabel('Frequency')"
      ]
    },
    {
      "cell_type": "markdown",
      "metadata": {
        "id": "49q4hFif9abF"
      },
      "source": [
        "# 1.0 EDA"
      ]
    },
    {
      "cell_type": "markdown",
      "metadata": {
        "id": "tTS6MhPt9dWE"
      },
      "source": [
        "## 1.1 Experiment Area:"
      ]
    },
    {
      "cell_type": "code",
      "execution_count": 15,
      "metadata": {
        "id": "YGfCDVNy67x7",
        "colab": {
          "base_uri": "https://localhost:8080/",
          "height": 1000
        },
        "outputId": "c5d4b192-298f-4d41-d1dc-7da8871cdbd6"
      },
      "outputs": [
        {
          "output_type": "stream",
          "name": "stdout",
          "text": [
            "     ➩ 𝐃𝐚𝐭𝐚𝐬𝐞𝐭 𝐬𝐡𝐚𝐩𝐞𝐬 — 𝐓𝐫𝐚𝐢𝐧 | 𝐓𝐞𝐬𝐭: (765000, 13) | (250000, 12) \n",
            "______________________________________________________________________\n",
            "\n",
            "     ➩ 𝐓𝐫𝐚𝐢𝐧 𝐡𝐞𝐚𝐝 \n"
          ]
        },
        {
          "output_type": "display_data",
          "data": {
            "text/plain": [
              "   Sex    Height    Weight  Heart_Rate  Body_Temp       BMI  Intensity  \\\n",
              "0    1  1.113015  0.489702    0.583480   1.236062 -0.938031   1.183180   \n",
              "1    0 -0.909676 -1.081265   -1.109199  -0.430898 -1.184666  -0.923712   \n",
              "2    0 -1.065268 -0.795635   -1.214992  -0.302671  0.209075  -1.017567   \n",
              "3    1  1.346402  1.060962    1.006650   0.851379  0.026339   1.161541   \n",
              "4    0 -0.676289 -1.009858    0.689273   0.723151 -1.479569   1.075158   \n",
              "\n",
              "   Heart_Duration  Weight_Duration_Heart  Outliers_Duration_Heart_Temp  \\\n",
              "0       -0.952799               1.338352                             0   \n",
              "1        0.431582              -1.004625                             0   \n",
              "2        0.610071              -1.047153                             0   \n",
              "3       -0.852901               1.619162                             0   \n",
              "4       -0.890178               0.535818                             0   \n",
              "\n",
              "    BMI_Age  Age_Group  Calories  \n",
              "0  0.899410          3     150.0  \n",
              "1 -0.783423          6      34.0  \n",
              "2 -0.920441          5      29.0  \n",
              "3  0.610264          1     140.0  \n",
              "4  0.794743          3     146.0  "
            ],
            "text/html": [
              "\n",
              "  <div id=\"df-5fcd9cce-d125-4ceb-b650-acaa4dee4a8f\" class=\"colab-df-container\">\n",
              "    <div>\n",
              "<style scoped>\n",
              "    .dataframe tbody tr th:only-of-type {\n",
              "        vertical-align: middle;\n",
              "    }\n",
              "\n",
              "    .dataframe tbody tr th {\n",
              "        vertical-align: top;\n",
              "    }\n",
              "\n",
              "    .dataframe thead th {\n",
              "        text-align: right;\n",
              "    }\n",
              "</style>\n",
              "<table border=\"1\" class=\"dataframe\">\n",
              "  <thead>\n",
              "    <tr style=\"text-align: right;\">\n",
              "      <th></th>\n",
              "      <th>Sex</th>\n",
              "      <th>Height</th>\n",
              "      <th>Weight</th>\n",
              "      <th>Heart_Rate</th>\n",
              "      <th>Body_Temp</th>\n",
              "      <th>BMI</th>\n",
              "      <th>Intensity</th>\n",
              "      <th>Heart_Duration</th>\n",
              "      <th>Weight_Duration_Heart</th>\n",
              "      <th>Outliers_Duration_Heart_Temp</th>\n",
              "      <th>BMI_Age</th>\n",
              "      <th>Age_Group</th>\n",
              "      <th>Calories</th>\n",
              "    </tr>\n",
              "  </thead>\n",
              "  <tbody>\n",
              "    <tr>\n",
              "      <th>0</th>\n",
              "      <td>1</td>\n",
              "      <td>1.113015</td>\n",
              "      <td>0.489702</td>\n",
              "      <td>0.583480</td>\n",
              "      <td>1.236062</td>\n",
              "      <td>-0.938031</td>\n",
              "      <td>1.183180</td>\n",
              "      <td>-0.952799</td>\n",
              "      <td>1.338352</td>\n",
              "      <td>0</td>\n",
              "      <td>0.899410</td>\n",
              "      <td>3</td>\n",
              "      <td>150.0</td>\n",
              "    </tr>\n",
              "    <tr>\n",
              "      <th>1</th>\n",
              "      <td>0</td>\n",
              "      <td>-0.909676</td>\n",
              "      <td>-1.081265</td>\n",
              "      <td>-1.109199</td>\n",
              "      <td>-0.430898</td>\n",
              "      <td>-1.184666</td>\n",
              "      <td>-0.923712</td>\n",
              "      <td>0.431582</td>\n",
              "      <td>-1.004625</td>\n",
              "      <td>0</td>\n",
              "      <td>-0.783423</td>\n",
              "      <td>6</td>\n",
              "      <td>34.0</td>\n",
              "    </tr>\n",
              "    <tr>\n",
              "      <th>2</th>\n",
              "      <td>0</td>\n",
              "      <td>-1.065268</td>\n",
              "      <td>-0.795635</td>\n",
              "      <td>-1.214992</td>\n",
              "      <td>-0.302671</td>\n",
              "      <td>0.209075</td>\n",
              "      <td>-1.017567</td>\n",
              "      <td>0.610071</td>\n",
              "      <td>-1.047153</td>\n",
              "      <td>0</td>\n",
              "      <td>-0.920441</td>\n",
              "      <td>5</td>\n",
              "      <td>29.0</td>\n",
              "    </tr>\n",
              "    <tr>\n",
              "      <th>3</th>\n",
              "      <td>1</td>\n",
              "      <td>1.346402</td>\n",
              "      <td>1.060962</td>\n",
              "      <td>1.006650</td>\n",
              "      <td>0.851379</td>\n",
              "      <td>0.026339</td>\n",
              "      <td>1.161541</td>\n",
              "      <td>-0.852901</td>\n",
              "      <td>1.619162</td>\n",
              "      <td>0</td>\n",
              "      <td>0.610264</td>\n",
              "      <td>1</td>\n",
              "      <td>140.0</td>\n",
              "    </tr>\n",
              "    <tr>\n",
              "      <th>4</th>\n",
              "      <td>0</td>\n",
              "      <td>-0.676289</td>\n",
              "      <td>-1.009858</td>\n",
              "      <td>0.689273</td>\n",
              "      <td>0.723151</td>\n",
              "      <td>-1.479569</td>\n",
              "      <td>1.075158</td>\n",
              "      <td>-0.890178</td>\n",
              "      <td>0.535818</td>\n",
              "      <td>0</td>\n",
              "      <td>0.794743</td>\n",
              "      <td>3</td>\n",
              "      <td>146.0</td>\n",
              "    </tr>\n",
              "  </tbody>\n",
              "</table>\n",
              "</div>\n",
              "    <div class=\"colab-df-buttons\">\n",
              "\n",
              "  <div class=\"colab-df-container\">\n",
              "    <button class=\"colab-df-convert\" onclick=\"convertToInteractive('df-5fcd9cce-d125-4ceb-b650-acaa4dee4a8f')\"\n",
              "            title=\"Convert this dataframe to an interactive table.\"\n",
              "            style=\"display:none;\">\n",
              "\n",
              "  <svg xmlns=\"http://www.w3.org/2000/svg\" height=\"24px\" viewBox=\"0 -960 960 960\">\n",
              "    <path d=\"M120-120v-720h720v720H120Zm60-500h600v-160H180v160Zm220 220h160v-160H400v160Zm0 220h160v-160H400v160ZM180-400h160v-160H180v160Zm440 0h160v-160H620v160ZM180-180h160v-160H180v160Zm440 0h160v-160H620v160Z\"/>\n",
              "  </svg>\n",
              "    </button>\n",
              "\n",
              "  <style>\n",
              "    .colab-df-container {\n",
              "      display:flex;\n",
              "      gap: 12px;\n",
              "    }\n",
              "\n",
              "    .colab-df-convert {\n",
              "      background-color: #E8F0FE;\n",
              "      border: none;\n",
              "      border-radius: 50%;\n",
              "      cursor: pointer;\n",
              "      display: none;\n",
              "      fill: #1967D2;\n",
              "      height: 32px;\n",
              "      padding: 0 0 0 0;\n",
              "      width: 32px;\n",
              "    }\n",
              "\n",
              "    .colab-df-convert:hover {\n",
              "      background-color: #E2EBFA;\n",
              "      box-shadow: 0px 1px 2px rgba(60, 64, 67, 0.3), 0px 1px 3px 1px rgba(60, 64, 67, 0.15);\n",
              "      fill: #174EA6;\n",
              "    }\n",
              "\n",
              "    .colab-df-buttons div {\n",
              "      margin-bottom: 4px;\n",
              "    }\n",
              "\n",
              "    [theme=dark] .colab-df-convert {\n",
              "      background-color: #3B4455;\n",
              "      fill: #D2E3FC;\n",
              "    }\n",
              "\n",
              "    [theme=dark] .colab-df-convert:hover {\n",
              "      background-color: #434B5C;\n",
              "      box-shadow: 0px 1px 3px 1px rgba(0, 0, 0, 0.15);\n",
              "      filter: drop-shadow(0px 1px 2px rgba(0, 0, 0, 0.3));\n",
              "      fill: #FFFFFF;\n",
              "    }\n",
              "  </style>\n",
              "\n",
              "    <script>\n",
              "      const buttonEl =\n",
              "        document.querySelector('#df-5fcd9cce-d125-4ceb-b650-acaa4dee4a8f button.colab-df-convert');\n",
              "      buttonEl.style.display =\n",
              "        google.colab.kernel.accessAllowed ? 'block' : 'none';\n",
              "\n",
              "      async function convertToInteractive(key) {\n",
              "        const element = document.querySelector('#df-5fcd9cce-d125-4ceb-b650-acaa4dee4a8f');\n",
              "        const dataTable =\n",
              "          await google.colab.kernel.invokeFunction('convertToInteractive',\n",
              "                                                    [key], {});\n",
              "        if (!dataTable) return;\n",
              "\n",
              "        const docLinkHtml = 'Like what you see? Visit the ' +\n",
              "          '<a target=\"_blank\" href=https://colab.research.google.com/notebooks/data_table.ipynb>data table notebook</a>'\n",
              "          + ' to learn more about interactive tables.';\n",
              "        element.innerHTML = '';\n",
              "        dataTable['output_type'] = 'display_data';\n",
              "        await google.colab.output.renderOutput(dataTable, element);\n",
              "        const docLink = document.createElement('div');\n",
              "        docLink.innerHTML = docLinkHtml;\n",
              "        element.appendChild(docLink);\n",
              "      }\n",
              "    </script>\n",
              "  </div>\n",
              "\n",
              "\n",
              "    <div id=\"df-05bbbecb-42f9-415b-b228-88eada6e15ac\">\n",
              "      <button class=\"colab-df-quickchart\" onclick=\"quickchart('df-05bbbecb-42f9-415b-b228-88eada6e15ac')\"\n",
              "                title=\"Suggest charts\"\n",
              "                style=\"display:none;\">\n",
              "\n",
              "<svg xmlns=\"http://www.w3.org/2000/svg\" height=\"24px\"viewBox=\"0 0 24 24\"\n",
              "     width=\"24px\">\n",
              "    <g>\n",
              "        <path d=\"M19 3H5c-1.1 0-2 .9-2 2v14c0 1.1.9 2 2 2h14c1.1 0 2-.9 2-2V5c0-1.1-.9-2-2-2zM9 17H7v-7h2v7zm4 0h-2V7h2v10zm4 0h-2v-4h2v4z\"/>\n",
              "    </g>\n",
              "</svg>\n",
              "      </button>\n",
              "\n",
              "<style>\n",
              "  .colab-df-quickchart {\n",
              "      --bg-color: #E8F0FE;\n",
              "      --fill-color: #1967D2;\n",
              "      --hover-bg-color: #E2EBFA;\n",
              "      --hover-fill-color: #174EA6;\n",
              "      --disabled-fill-color: #AAA;\n",
              "      --disabled-bg-color: #DDD;\n",
              "  }\n",
              "\n",
              "  [theme=dark] .colab-df-quickchart {\n",
              "      --bg-color: #3B4455;\n",
              "      --fill-color: #D2E3FC;\n",
              "      --hover-bg-color: #434B5C;\n",
              "      --hover-fill-color: #FFFFFF;\n",
              "      --disabled-bg-color: #3B4455;\n",
              "      --disabled-fill-color: #666;\n",
              "  }\n",
              "\n",
              "  .colab-df-quickchart {\n",
              "    background-color: var(--bg-color);\n",
              "    border: none;\n",
              "    border-radius: 50%;\n",
              "    cursor: pointer;\n",
              "    display: none;\n",
              "    fill: var(--fill-color);\n",
              "    height: 32px;\n",
              "    padding: 0;\n",
              "    width: 32px;\n",
              "  }\n",
              "\n",
              "  .colab-df-quickchart:hover {\n",
              "    background-color: var(--hover-bg-color);\n",
              "    box-shadow: 0 1px 2px rgba(60, 64, 67, 0.3), 0 1px 3px 1px rgba(60, 64, 67, 0.15);\n",
              "    fill: var(--button-hover-fill-color);\n",
              "  }\n",
              "\n",
              "  .colab-df-quickchart-complete:disabled,\n",
              "  .colab-df-quickchart-complete:disabled:hover {\n",
              "    background-color: var(--disabled-bg-color);\n",
              "    fill: var(--disabled-fill-color);\n",
              "    box-shadow: none;\n",
              "  }\n",
              "\n",
              "  .colab-df-spinner {\n",
              "    border: 2px solid var(--fill-color);\n",
              "    border-color: transparent;\n",
              "    border-bottom-color: var(--fill-color);\n",
              "    animation:\n",
              "      spin 1s steps(1) infinite;\n",
              "  }\n",
              "\n",
              "  @keyframes spin {\n",
              "    0% {\n",
              "      border-color: transparent;\n",
              "      border-bottom-color: var(--fill-color);\n",
              "      border-left-color: var(--fill-color);\n",
              "    }\n",
              "    20% {\n",
              "      border-color: transparent;\n",
              "      border-left-color: var(--fill-color);\n",
              "      border-top-color: var(--fill-color);\n",
              "    }\n",
              "    30% {\n",
              "      border-color: transparent;\n",
              "      border-left-color: var(--fill-color);\n",
              "      border-top-color: var(--fill-color);\n",
              "      border-right-color: var(--fill-color);\n",
              "    }\n",
              "    40% {\n",
              "      border-color: transparent;\n",
              "      border-right-color: var(--fill-color);\n",
              "      border-top-color: var(--fill-color);\n",
              "    }\n",
              "    60% {\n",
              "      border-color: transparent;\n",
              "      border-right-color: var(--fill-color);\n",
              "    }\n",
              "    80% {\n",
              "      border-color: transparent;\n",
              "      border-right-color: var(--fill-color);\n",
              "      border-bottom-color: var(--fill-color);\n",
              "    }\n",
              "    90% {\n",
              "      border-color: transparent;\n",
              "      border-bottom-color: var(--fill-color);\n",
              "    }\n",
              "  }\n",
              "</style>\n",
              "\n",
              "      <script>\n",
              "        async function quickchart(key) {\n",
              "          const quickchartButtonEl =\n",
              "            document.querySelector('#' + key + ' button');\n",
              "          quickchartButtonEl.disabled = true;  // To prevent multiple clicks.\n",
              "          quickchartButtonEl.classList.add('colab-df-spinner');\n",
              "          try {\n",
              "            const charts = await google.colab.kernel.invokeFunction(\n",
              "                'suggestCharts', [key], {});\n",
              "          } catch (error) {\n",
              "            console.error('Error during call to suggestCharts:', error);\n",
              "          }\n",
              "          quickchartButtonEl.classList.remove('colab-df-spinner');\n",
              "          quickchartButtonEl.classList.add('colab-df-quickchart-complete');\n",
              "        }\n",
              "        (() => {\n",
              "          let quickchartButtonEl =\n",
              "            document.querySelector('#df-05bbbecb-42f9-415b-b228-88eada6e15ac button');\n",
              "          quickchartButtonEl.style.display =\n",
              "            google.colab.kernel.accessAllowed ? 'block' : 'none';\n",
              "        })();\n",
              "      </script>\n",
              "    </div>\n",
              "\n",
              "    </div>\n",
              "  </div>\n"
            ],
            "application/vnd.google.colaboratory.intrinsic+json": {
              "type": "dataframe",
              "summary": "{\n  \"name\": \"data\",\n  \"rows\": 5,\n  \"fields\": [\n    {\n      \"column\": \"Sex\",\n      \"properties\": {\n        \"dtype\": \"number\",\n        \"std\": 0,\n        \"min\": 0,\n        \"max\": 1,\n        \"num_unique_values\": 2,\n        \"samples\": [\n          0,\n          1\n        ],\n        \"semantic_type\": \"\",\n        \"description\": \"\"\n      }\n    },\n    {\n      \"column\": \"Height\",\n      \"properties\": {\n        \"dtype\": \"number\",\n        \"std\": 1.168750816056408,\n        \"min\": -1.0652676534121075,\n        \"max\": 1.346402126739124,\n        \"num_unique_values\": 5,\n        \"samples\": [\n          -0.9096760546926732,\n          -0.6762886566135219\n        ],\n        \"semantic_type\": \"\",\n        \"description\": \"\"\n      }\n    },\n    {\n      \"column\": \"Weight\",\n      \"properties\": {\n        \"dtype\": \"number\",\n        \"std\": 0.9785706603690901,\n        \"min\": -1.0812653537820445,\n        \"max\": 1.0609624481289703,\n        \"num_unique_values\": 5,\n        \"samples\": [\n          -1.0812653537820445,\n          -1.0098577603850107\n        ],\n        \"semantic_type\": \"\",\n        \"description\": \"\"\n      }\n    },\n    {\n      \"column\": \"Heart_Rate\",\n      \"properties\": {\n        \"dtype\": \"number\",\n        \"std\": 1.0647789066057443,\n        \"min\": -1.2149916926185682,\n        \"max\": 1.0066499700235418,\n        \"num_unique_values\": 5,\n        \"samples\": [\n          -1.109199232492753,\n          0.6892725896460976\n        ],\n        \"semantic_type\": \"\",\n        \"description\": \"\"\n      }\n    },\n    {\n      \"column\": \"Body_Temp\",\n      \"properties\": {\n        \"dtype\": \"number\",\n        \"std\": 0.7399530547704812,\n        \"min\": -0.4308983794101588,\n        \"max\": 1.236062481396348,\n        \"num_unique_values\": 5,\n        \"samples\": [\n          -0.4308983794101588,\n          0.7231514473020388\n        ],\n        \"semantic_type\": \"\",\n        \"description\": \"\"\n      }\n    },\n    {\n      \"column\": \"BMI\",\n      \"properties\": {\n        \"dtype\": \"number\",\n        \"std\": 0.7499545582553401,\n        \"min\": -1.4795687676941394,\n        \"max\": 0.209074627099514,\n        \"num_unique_values\": 5,\n        \"samples\": [\n          -1.1846658978984863,\n          -1.4795687676941394\n        ],\n        \"semantic_type\": \"\",\n        \"description\": \"\"\n      }\n    },\n    {\n      \"column\": \"Intensity\",\n      \"properties\": {\n        \"dtype\": \"number\",\n        \"std\": 1.1572048872856004,\n        \"min\": -1.017567477816385,\n        \"max\": 1.1831795261555886,\n        \"num_unique_values\": 5,\n        \"samples\": [\n          -0.923711952613644,\n          1.0751579176742505\n        ],\n        \"semantic_type\": \"\",\n        \"description\": \"\"\n      }\n    },\n    {\n      \"column\": \"Heart_Duration\",\n      \"properties\": {\n        \"dtype\": \"number\",\n        \"std\": 0.7808393405806044,\n        \"min\": -0.952799106288478,\n        \"max\": 0.6100706037007835,\n        \"num_unique_values\": 5,\n        \"samples\": [\n          0.4315817341670164,\n          -0.8901783646387891\n        ],\n        \"semantic_type\": \"\",\n        \"description\": \"\"\n      }\n    },\n    {\n      \"column\": \"Weight_Duration_Heart\",\n      \"properties\": {\n        \"dtype\": \"number\",\n        \"std\": 1.2639380737405015,\n        \"min\": -1.047153323068602,\n        \"max\": 1.6191619689980792,\n        \"num_unique_values\": 5,\n        \"samples\": [\n          -1.0046250182560108,\n          0.535817840722791\n        ],\n        \"semantic_type\": \"\",\n        \"description\": \"\"\n      }\n    },\n    {\n      \"column\": \"Outliers_Duration_Heart_Temp\",\n      \"properties\": {\n        \"dtype\": \"number\",\n        \"std\": 0,\n        \"min\": 0,\n        \"max\": 0,\n        \"num_unique_values\": 1,\n        \"samples\": [\n          0\n        ],\n        \"semantic_type\": \"\",\n        \"description\": \"\"\n      }\n    },\n    {\n      \"column\": \"BMI_Age\",\n      \"properties\": {\n        \"dtype\": \"number\",\n        \"std\": 0.8946798485909927,\n        \"min\": -0.9204414238211772,\n        \"max\": 0.8994097113393933,\n        \"num_unique_values\": 5,\n        \"samples\": [\n          -0.783423385813749\n        ],\n        \"semantic_type\": \"\",\n        \"description\": \"\"\n      }\n    },\n    {\n      \"column\": \"Age_Group\",\n      \"properties\": {\n        \"dtype\": \"number\",\n        \"std\": 1,\n        \"min\": 1,\n        \"max\": 6,\n        \"num_unique_values\": 4,\n        \"samples\": [\n          6\n        ],\n        \"semantic_type\": \"\",\n        \"description\": \"\"\n      }\n    },\n    {\n      \"column\": \"Calories\",\n      \"properties\": {\n        \"dtype\": \"number\",\n        \"std\": 62.47559523525967,\n        \"min\": 29.0,\n        \"max\": 150.0,\n        \"num_unique_values\": 5,\n        \"samples\": [\n          34.0\n        ],\n        \"semantic_type\": \"\",\n        \"description\": \"\"\n      }\n    }\n  ]\n}"
            }
          },
          "metadata": {}
        },
        {
          "output_type": "stream",
          "name": "stdout",
          "text": [
            "     ➩ 𝐓𝐞𝐬𝐭 𝐡𝐞𝐚𝐝 \n"
          ]
        },
        {
          "output_type": "display_data",
          "data": {
            "text/plain": [
              "        Sex    Height    Weight  Heart_Rate  Body_Temp       BMI  Intensity  \\\n",
              "750000    1  0.179465  0.418294   -0.897614  -0.302671  0.978939  -0.995739   \n",
              "750001    1  1.968769  1.560816    0.583480   0.594924 -0.082149   0.507888   \n",
              "750002    0  1.035219  0.703924    0.689273   0.466696 -0.214836   0.093216   \n",
              "750003    0 -0.209514 -0.152967    1.218235   0.723151  0.199218   0.640408   \n",
              "750004    0 -0.131718 -0.581412   -0.157067   0.594924 -1.314534  -0.037914   \n",
              "\n",
              "        Heart_Duration  Weight_Duration_Heart  Outliers_Duration_Heart_Temp  \\\n",
              "750000        0.661858              -0.890129                             0   \n",
              "750001       -0.611173               1.078027                             0   \n",
              "750002       -0.294981               0.309886                             0   \n",
              "750003       -0.533902               0.544812                             0   \n",
              "750004       -0.407071              -0.199594                             0   \n",
              "\n",
              "         BMI_Age  Age_Group  \n",
              "750000 -0.910919          4  \n",
              "750001  0.200535          2  \n",
              "750002 -0.106216          2  \n",
              "750003  0.579460          3  \n",
              "750004 -0.269589          2  "
            ],
            "text/html": [
              "\n",
              "  <div id=\"df-d6cf0d70-3ac6-4d09-8f86-79e9106b3d08\" class=\"colab-df-container\">\n",
              "    <div>\n",
              "<style scoped>\n",
              "    .dataframe tbody tr th:only-of-type {\n",
              "        vertical-align: middle;\n",
              "    }\n",
              "\n",
              "    .dataframe tbody tr th {\n",
              "        vertical-align: top;\n",
              "    }\n",
              "\n",
              "    .dataframe thead th {\n",
              "        text-align: right;\n",
              "    }\n",
              "</style>\n",
              "<table border=\"1\" class=\"dataframe\">\n",
              "  <thead>\n",
              "    <tr style=\"text-align: right;\">\n",
              "      <th></th>\n",
              "      <th>Sex</th>\n",
              "      <th>Height</th>\n",
              "      <th>Weight</th>\n",
              "      <th>Heart_Rate</th>\n",
              "      <th>Body_Temp</th>\n",
              "      <th>BMI</th>\n",
              "      <th>Intensity</th>\n",
              "      <th>Heart_Duration</th>\n",
              "      <th>Weight_Duration_Heart</th>\n",
              "      <th>Outliers_Duration_Heart_Temp</th>\n",
              "      <th>BMI_Age</th>\n",
              "      <th>Age_Group</th>\n",
              "    </tr>\n",
              "  </thead>\n",
              "  <tbody>\n",
              "    <tr>\n",
              "      <th>750000</th>\n",
              "      <td>1</td>\n",
              "      <td>0.179465</td>\n",
              "      <td>0.418294</td>\n",
              "      <td>-0.897614</td>\n",
              "      <td>-0.302671</td>\n",
              "      <td>0.978939</td>\n",
              "      <td>-0.995739</td>\n",
              "      <td>0.661858</td>\n",
              "      <td>-0.890129</td>\n",
              "      <td>0</td>\n",
              "      <td>-0.910919</td>\n",
              "      <td>4</td>\n",
              "    </tr>\n",
              "    <tr>\n",
              "      <th>750001</th>\n",
              "      <td>1</td>\n",
              "      <td>1.968769</td>\n",
              "      <td>1.560816</td>\n",
              "      <td>0.583480</td>\n",
              "      <td>0.594924</td>\n",
              "      <td>-0.082149</td>\n",
              "      <td>0.507888</td>\n",
              "      <td>-0.611173</td>\n",
              "      <td>1.078027</td>\n",
              "      <td>0</td>\n",
              "      <td>0.200535</td>\n",
              "      <td>2</td>\n",
              "    </tr>\n",
              "    <tr>\n",
              "      <th>750002</th>\n",
              "      <td>0</td>\n",
              "      <td>1.035219</td>\n",
              "      <td>0.703924</td>\n",
              "      <td>0.689273</td>\n",
              "      <td>0.466696</td>\n",
              "      <td>-0.214836</td>\n",
              "      <td>0.093216</td>\n",
              "      <td>-0.294981</td>\n",
              "      <td>0.309886</td>\n",
              "      <td>0</td>\n",
              "      <td>-0.106216</td>\n",
              "      <td>2</td>\n",
              "    </tr>\n",
              "    <tr>\n",
              "      <th>750003</th>\n",
              "      <td>0</td>\n",
              "      <td>-0.209514</td>\n",
              "      <td>-0.152967</td>\n",
              "      <td>1.218235</td>\n",
              "      <td>0.723151</td>\n",
              "      <td>0.199218</td>\n",
              "      <td>0.640408</td>\n",
              "      <td>-0.533902</td>\n",
              "      <td>0.544812</td>\n",
              "      <td>0</td>\n",
              "      <td>0.579460</td>\n",
              "      <td>3</td>\n",
              "    </tr>\n",
              "    <tr>\n",
              "      <th>750004</th>\n",
              "      <td>0</td>\n",
              "      <td>-0.131718</td>\n",
              "      <td>-0.581412</td>\n",
              "      <td>-0.157067</td>\n",
              "      <td>0.594924</td>\n",
              "      <td>-1.314534</td>\n",
              "      <td>-0.037914</td>\n",
              "      <td>-0.407071</td>\n",
              "      <td>-0.199594</td>\n",
              "      <td>0</td>\n",
              "      <td>-0.269589</td>\n",
              "      <td>2</td>\n",
              "    </tr>\n",
              "  </tbody>\n",
              "</table>\n",
              "</div>\n",
              "    <div class=\"colab-df-buttons\">\n",
              "\n",
              "  <div class=\"colab-df-container\">\n",
              "    <button class=\"colab-df-convert\" onclick=\"convertToInteractive('df-d6cf0d70-3ac6-4d09-8f86-79e9106b3d08')\"\n",
              "            title=\"Convert this dataframe to an interactive table.\"\n",
              "            style=\"display:none;\">\n",
              "\n",
              "  <svg xmlns=\"http://www.w3.org/2000/svg\" height=\"24px\" viewBox=\"0 -960 960 960\">\n",
              "    <path d=\"M120-120v-720h720v720H120Zm60-500h600v-160H180v160Zm220 220h160v-160H400v160Zm0 220h160v-160H400v160ZM180-400h160v-160H180v160Zm440 0h160v-160H620v160ZM180-180h160v-160H180v160Zm440 0h160v-160H620v160Z\"/>\n",
              "  </svg>\n",
              "    </button>\n",
              "\n",
              "  <style>\n",
              "    .colab-df-container {\n",
              "      display:flex;\n",
              "      gap: 12px;\n",
              "    }\n",
              "\n",
              "    .colab-df-convert {\n",
              "      background-color: #E8F0FE;\n",
              "      border: none;\n",
              "      border-radius: 50%;\n",
              "      cursor: pointer;\n",
              "      display: none;\n",
              "      fill: #1967D2;\n",
              "      height: 32px;\n",
              "      padding: 0 0 0 0;\n",
              "      width: 32px;\n",
              "    }\n",
              "\n",
              "    .colab-df-convert:hover {\n",
              "      background-color: #E2EBFA;\n",
              "      box-shadow: 0px 1px 2px rgba(60, 64, 67, 0.3), 0px 1px 3px 1px rgba(60, 64, 67, 0.15);\n",
              "      fill: #174EA6;\n",
              "    }\n",
              "\n",
              "    .colab-df-buttons div {\n",
              "      margin-bottom: 4px;\n",
              "    }\n",
              "\n",
              "    [theme=dark] .colab-df-convert {\n",
              "      background-color: #3B4455;\n",
              "      fill: #D2E3FC;\n",
              "    }\n",
              "\n",
              "    [theme=dark] .colab-df-convert:hover {\n",
              "      background-color: #434B5C;\n",
              "      box-shadow: 0px 1px 3px 1px rgba(0, 0, 0, 0.15);\n",
              "      filter: drop-shadow(0px 1px 2px rgba(0, 0, 0, 0.3));\n",
              "      fill: #FFFFFF;\n",
              "    }\n",
              "  </style>\n",
              "\n",
              "    <script>\n",
              "      const buttonEl =\n",
              "        document.querySelector('#df-d6cf0d70-3ac6-4d09-8f86-79e9106b3d08 button.colab-df-convert');\n",
              "      buttonEl.style.display =\n",
              "        google.colab.kernel.accessAllowed ? 'block' : 'none';\n",
              "\n",
              "      async function convertToInteractive(key) {\n",
              "        const element = document.querySelector('#df-d6cf0d70-3ac6-4d09-8f86-79e9106b3d08');\n",
              "        const dataTable =\n",
              "          await google.colab.kernel.invokeFunction('convertToInteractive',\n",
              "                                                    [key], {});\n",
              "        if (!dataTable) return;\n",
              "\n",
              "        const docLinkHtml = 'Like what you see? Visit the ' +\n",
              "          '<a target=\"_blank\" href=https://colab.research.google.com/notebooks/data_table.ipynb>data table notebook</a>'\n",
              "          + ' to learn more about interactive tables.';\n",
              "        element.innerHTML = '';\n",
              "        dataTable['output_type'] = 'display_data';\n",
              "        await google.colab.output.renderOutput(dataTable, element);\n",
              "        const docLink = document.createElement('div');\n",
              "        docLink.innerHTML = docLinkHtml;\n",
              "        element.appendChild(docLink);\n",
              "      }\n",
              "    </script>\n",
              "  </div>\n",
              "\n",
              "\n",
              "    <div id=\"df-afc5369c-231e-4f18-b93c-80bbb5eaed4c\">\n",
              "      <button class=\"colab-df-quickchart\" onclick=\"quickchart('df-afc5369c-231e-4f18-b93c-80bbb5eaed4c')\"\n",
              "                title=\"Suggest charts\"\n",
              "                style=\"display:none;\">\n",
              "\n",
              "<svg xmlns=\"http://www.w3.org/2000/svg\" height=\"24px\"viewBox=\"0 0 24 24\"\n",
              "     width=\"24px\">\n",
              "    <g>\n",
              "        <path d=\"M19 3H5c-1.1 0-2 .9-2 2v14c0 1.1.9 2 2 2h14c1.1 0 2-.9 2-2V5c0-1.1-.9-2-2-2zM9 17H7v-7h2v7zm4 0h-2V7h2v10zm4 0h-2v-4h2v4z\"/>\n",
              "    </g>\n",
              "</svg>\n",
              "      </button>\n",
              "\n",
              "<style>\n",
              "  .colab-df-quickchart {\n",
              "      --bg-color: #E8F0FE;\n",
              "      --fill-color: #1967D2;\n",
              "      --hover-bg-color: #E2EBFA;\n",
              "      --hover-fill-color: #174EA6;\n",
              "      --disabled-fill-color: #AAA;\n",
              "      --disabled-bg-color: #DDD;\n",
              "  }\n",
              "\n",
              "  [theme=dark] .colab-df-quickchart {\n",
              "      --bg-color: #3B4455;\n",
              "      --fill-color: #D2E3FC;\n",
              "      --hover-bg-color: #434B5C;\n",
              "      --hover-fill-color: #FFFFFF;\n",
              "      --disabled-bg-color: #3B4455;\n",
              "      --disabled-fill-color: #666;\n",
              "  }\n",
              "\n",
              "  .colab-df-quickchart {\n",
              "    background-color: var(--bg-color);\n",
              "    border: none;\n",
              "    border-radius: 50%;\n",
              "    cursor: pointer;\n",
              "    display: none;\n",
              "    fill: var(--fill-color);\n",
              "    height: 32px;\n",
              "    padding: 0;\n",
              "    width: 32px;\n",
              "  }\n",
              "\n",
              "  .colab-df-quickchart:hover {\n",
              "    background-color: var(--hover-bg-color);\n",
              "    box-shadow: 0 1px 2px rgba(60, 64, 67, 0.3), 0 1px 3px 1px rgba(60, 64, 67, 0.15);\n",
              "    fill: var(--button-hover-fill-color);\n",
              "  }\n",
              "\n",
              "  .colab-df-quickchart-complete:disabled,\n",
              "  .colab-df-quickchart-complete:disabled:hover {\n",
              "    background-color: var(--disabled-bg-color);\n",
              "    fill: var(--disabled-fill-color);\n",
              "    box-shadow: none;\n",
              "  }\n",
              "\n",
              "  .colab-df-spinner {\n",
              "    border: 2px solid var(--fill-color);\n",
              "    border-color: transparent;\n",
              "    border-bottom-color: var(--fill-color);\n",
              "    animation:\n",
              "      spin 1s steps(1) infinite;\n",
              "  }\n",
              "\n",
              "  @keyframes spin {\n",
              "    0% {\n",
              "      border-color: transparent;\n",
              "      border-bottom-color: var(--fill-color);\n",
              "      border-left-color: var(--fill-color);\n",
              "    }\n",
              "    20% {\n",
              "      border-color: transparent;\n",
              "      border-left-color: var(--fill-color);\n",
              "      border-top-color: var(--fill-color);\n",
              "    }\n",
              "    30% {\n",
              "      border-color: transparent;\n",
              "      border-left-color: var(--fill-color);\n",
              "      border-top-color: var(--fill-color);\n",
              "      border-right-color: var(--fill-color);\n",
              "    }\n",
              "    40% {\n",
              "      border-color: transparent;\n",
              "      border-right-color: var(--fill-color);\n",
              "      border-top-color: var(--fill-color);\n",
              "    }\n",
              "    60% {\n",
              "      border-color: transparent;\n",
              "      border-right-color: var(--fill-color);\n",
              "    }\n",
              "    80% {\n",
              "      border-color: transparent;\n",
              "      border-right-color: var(--fill-color);\n",
              "      border-bottom-color: var(--fill-color);\n",
              "    }\n",
              "    90% {\n",
              "      border-color: transparent;\n",
              "      border-bottom-color: var(--fill-color);\n",
              "    }\n",
              "  }\n",
              "</style>\n",
              "\n",
              "      <script>\n",
              "        async function quickchart(key) {\n",
              "          const quickchartButtonEl =\n",
              "            document.querySelector('#' + key + ' button');\n",
              "          quickchartButtonEl.disabled = true;  // To prevent multiple clicks.\n",
              "          quickchartButtonEl.classList.add('colab-df-spinner');\n",
              "          try {\n",
              "            const charts = await google.colab.kernel.invokeFunction(\n",
              "                'suggestCharts', [key], {});\n",
              "          } catch (error) {\n",
              "            console.error('Error during call to suggestCharts:', error);\n",
              "          }\n",
              "          quickchartButtonEl.classList.remove('colab-df-spinner');\n",
              "          quickchartButtonEl.classList.add('colab-df-quickchart-complete');\n",
              "        }\n",
              "        (() => {\n",
              "          let quickchartButtonEl =\n",
              "            document.querySelector('#df-afc5369c-231e-4f18-b93c-80bbb5eaed4c button');\n",
              "          quickchartButtonEl.style.display =\n",
              "            google.colab.kernel.accessAllowed ? 'block' : 'none';\n",
              "        })();\n",
              "      </script>\n",
              "    </div>\n",
              "\n",
              "    </div>\n",
              "  </div>\n"
            ],
            "application/vnd.google.colaboratory.intrinsic+json": {
              "type": "dataframe",
              "summary": "{\n  \"name\": \"data\",\n  \"rows\": 5,\n  \"fields\": [\n    {\n      \"column\": \"Sex\",\n      \"properties\": {\n        \"dtype\": \"number\",\n        \"std\": 0,\n        \"min\": 0,\n        \"max\": 1,\n        \"num_unique_values\": 2,\n        \"samples\": [\n          0,\n          1\n        ],\n        \"semantic_type\": \"\",\n        \"description\": \"\"\n      }\n    },\n    {\n      \"column\": \"Height\",\n      \"properties\": {\n        \"dtype\": \"number\",\n        \"std\": 0.9254103821113405,\n        \"min\": -0.209513860455219,\n        \"max\": 1.968768521616861,\n        \"num_unique_values\": 5,\n        \"samples\": [\n          1.968768521616861,\n          -0.1317180610955018\n        ],\n        \"semantic_type\": \"\",\n        \"description\": \"\"\n      }\n    },\n    {\n      \"column\": \"Weight\",\n      \"properties\": {\n        \"dtype\": \"number\",\n        \"std\": 0.8228931252742432,\n        \"min\": -0.5814122000028078,\n        \"max\": 1.5608156019082071,\n        \"num_unique_values\": 5,\n        \"samples\": [\n          1.5608156019082071,\n          -0.5814122000028078\n        ],\n        \"semantic_type\": \"\",\n        \"description\": \"\"\n      }\n    },\n    {\n      \"column\": \"Heart_Rate\",\n      \"properties\": {\n        \"dtype\": \"number\",\n        \"std\": 0.8242312226565776,\n        \"min\": -0.8976143122411238,\n        \"max\": 1.2182348902751714,\n        \"num_unique_values\": 5,\n        \"samples\": [\n          0.5834801295202828,\n          -0.1570670913604204\n        ],\n        \"semantic_type\": \"\",\n        \"description\": \"\"\n      }\n    },\n    {\n      \"column\": \"Body_Temp\",\n      \"properties\": {\n        \"dtype\": \"number\",\n        \"std\": 0.41152920671151083,\n        \"min\": -0.3026706208865884,\n        \"max\": 0.7231514473020388,\n        \"num_unique_values\": 4,\n        \"samples\": [\n          0.5949236887784592,\n          0.7231514473020388\n        ],\n        \"semantic_type\": \"\",\n        \"description\": \"\"\n      }\n    },\n    {\n      \"column\": \"BMI\",\n      \"properties\": {\n        \"dtype\": \"number\",\n        \"std\": 0.8278515213007824,\n        \"min\": -1.3145344779297474,\n        \"max\": 0.9789389219887332,\n        \"num_unique_values\": 5,\n        \"samples\": [\n          -0.0821489916265427,\n          -1.3145344779297474\n        ],\n        \"semantic_type\": \"\",\n        \"description\": \"\"\n      }\n    },\n    {\n      \"column\": \"Intensity\",\n      \"properties\": {\n        \"dtype\": \"number\",\n        \"std\": 0.6444091637358313,\n        \"min\": -0.9957385463926176,\n        \"max\": 0.6404075079111087,\n        \"num_unique_values\": 5,\n        \"samples\": [\n          0.5078877686861787,\n          -0.0379138691385319\n        ],\n        \"semantic_type\": \"\",\n        \"description\": \"\"\n      }\n    },\n    {\n      \"column\": \"Heart_Duration\",\n      \"properties\": {\n        \"dtype\": \"number\",\n        \"std\": 0.5168140810053241,\n        \"min\": -0.6111730504613958,\n        \"max\": 0.6618575514632249,\n        \"num_unique_values\": 5,\n        \"samples\": [\n          -0.6111730504613958,\n          -0.4070711897878227\n        ],\n        \"semantic_type\": \"\",\n        \"description\": \"\"\n      }\n    },\n    {\n      \"column\": \"Weight_Duration_Heart\",\n      \"properties\": {\n        \"dtype\": \"number\",\n        \"std\": 0.7491709408256775,\n        \"min\": -0.8901288339925667,\n        \"max\": 1.0780268784060487,\n        \"num_unique_values\": 5,\n        \"samples\": [\n          1.0780268784060487,\n          -0.1995942786722129\n        ],\n        \"semantic_type\": \"\",\n        \"description\": \"\"\n      }\n    },\n    {\n      \"column\": \"Outliers_Duration_Heart_Temp\",\n      \"properties\": {\n        \"dtype\": \"number\",\n        \"std\": 0,\n        \"min\": 0,\n        \"max\": 0,\n        \"num_unique_values\": 1,\n        \"samples\": [\n          0\n        ],\n        \"semantic_type\": \"\",\n        \"description\": \"\"\n      }\n    },\n    {\n      \"column\": \"BMI_Age\",\n      \"properties\": {\n        \"dtype\": \"number\",\n        \"std\": 0.5564097276691058,\n        \"min\": -0.9109191970341604,\n        \"max\": 0.5794598525114797,\n        \"num_unique_values\": 5,\n        \"samples\": [\n          0.2005352581172527\n        ],\n        \"semantic_type\": \"\",\n        \"description\": \"\"\n      }\n    },\n    {\n      \"column\": \"Age_Group\",\n      \"properties\": {\n        \"dtype\": \"number\",\n        \"std\": 0,\n        \"min\": 2,\n        \"max\": 4,\n        \"num_unique_values\": 3,\n        \"samples\": [\n          4\n        ],\n        \"semantic_type\": \"\",\n        \"description\": \"\"\n      }\n    }\n  ]\n}"
            }
          },
          "metadata": {}
        },
        {
          "output_type": "stream",
          "name": "stdout",
          "text": [
            "______________________________________________________________________\n",
            "\n",
            "     ➩ 𝐓𝐫𝐚𝐢𝐧 𝐢𝐧𝐟𝐨 \n",
            "<class 'pandas.core.frame.DataFrame'>\n",
            "Index: 765000 entries, 0 to 1014999\n",
            "Data columns (total 13 columns):\n",
            " #   Column                        Non-Null Count   Dtype  \n",
            "---  ------                        --------------   -----  \n",
            " 0   Sex                           765000 non-null  int64  \n",
            " 1   Height                        765000 non-null  float64\n",
            " 2   Weight                        765000 non-null  float64\n",
            " 3   Heart_Rate                    765000 non-null  float64\n",
            " 4   Body_Temp                     765000 non-null  float64\n",
            " 5   BMI                           765000 non-null  float64\n",
            " 6   Intensity                     765000 non-null  float64\n",
            " 7   Heart_Duration                765000 non-null  float64\n",
            " 8   Weight_Duration_Heart         765000 non-null  float64\n",
            " 9   Outliers_Duration_Heart_Temp  765000 non-null  int64  \n",
            " 10  BMI_Age                       765000 non-null  float64\n",
            " 11  Age_Group                     765000 non-null  int64  \n",
            " 12  Calories                      765000 non-null  float64\n",
            "dtypes: float64(10), int64(3)\n",
            "memory usage: 81.7 MB\n"
          ]
        },
        {
          "output_type": "display_data",
          "data": {
            "text/plain": [
              "None"
            ]
          },
          "metadata": {}
        },
        {
          "output_type": "stream",
          "name": "stdout",
          "text": [
            "     ➩ 𝐓𝐞𝐬𝐭 𝐢𝐧𝐟𝐨 \n",
            "<class 'pandas.core.frame.DataFrame'>\n",
            "Index: 250000 entries, 750000 to 999999\n",
            "Data columns (total 12 columns):\n",
            " #   Column                        Non-Null Count   Dtype  \n",
            "---  ------                        --------------   -----  \n",
            " 0   Sex                           250000 non-null  int64  \n",
            " 1   Height                        250000 non-null  float64\n",
            " 2   Weight                        250000 non-null  float64\n",
            " 3   Heart_Rate                    250000 non-null  float64\n",
            " 4   Body_Temp                     250000 non-null  float64\n",
            " 5   BMI                           250000 non-null  float64\n",
            " 6   Intensity                     250000 non-null  float64\n",
            " 7   Heart_Duration                250000 non-null  float64\n",
            " 8   Weight_Duration_Heart         250000 non-null  float64\n",
            " 9   Outliers_Duration_Heart_Temp  250000 non-null  int64  \n",
            " 10  BMI_Age                       250000 non-null  float64\n",
            " 11  Age_Group                     250000 non-null  int64  \n",
            "dtypes: float64(9), int64(3)\n",
            "memory usage: 24.8 MB\n"
          ]
        },
        {
          "output_type": "display_data",
          "data": {
            "text/plain": [
              "None"
            ]
          },
          "metadata": {}
        },
        {
          "output_type": "stream",
          "name": "stdout",
          "text": [
            "______________________________________________________________________\n",
            "\n",
            "     ➩ 𝐓𝐫𝐚𝐢𝐧 𝐬𝐮𝐦𝐦𝐚𝐫𝐲 𝐬𝐭𝐚𝐭𝐬 \n"
          ]
        },
        {
          "output_type": "display_data",
          "data": {
            "text/plain": [
              "                                 count          mean        std       min  \\\n",
              "Sex                           765000.0  4.989882e-01   0.499999  0.000000   \n",
              "Height                        765000.0  5.077641e-16   1.000001 -4.021508   \n",
              "Weight                        765000.0  1.343297e-16   1.000001 -2.795048   \n",
              "Heart_Rate                    765000.0  6.856041e-16   1.000001 -3.013464   \n",
              "Body_Temp                     765000.0  1.793228e-14   1.000001 -3.764820   \n",
              "BMI                           765000.0 -1.325152e-04   0.998632 -5.000000   \n",
              "Intensity                     765000.0  3.098059e-17   1.000001 -1.563858   \n",
              "Heart_Duration                765000.0  1.517255e-15   1.000001 -1.390121   \n",
              "Weight_Duration_Heart         765000.0  1.852636e-16   1.000001 -1.507367   \n",
              "Outliers_Duration_Heart_Temp  765000.0  3.921569e-05   0.006262  0.000000   \n",
              "BMI_Age                       765000.0  1.750443e-16   1.000001 -1.511686   \n",
              "Age_Group                     765000.0  3.623880e+00   1.541745  1.000000   \n",
              "Calories                      765000.0  8.830742e+01  62.396760  1.000000   \n",
              "\n",
              "                                    25%        50%         75%         max  \n",
              "Sex                            0.000000   0.000000    1.000000    1.000000  \n",
              "Height                        -0.831880  -0.053922    0.801832    3.680276  \n",
              "Weight                        -0.867043  -0.081559    0.846740    4.060081  \n",
              "Heart_Rate                    -0.791822  -0.051275    0.795065    3.439877  \n",
              "Body_Temp                     -0.559126   0.338468    0.851379    1.877201  \n",
              "BMI                           -0.740093   0.011128    0.736294    5.000000  \n",
              "Intensity                     -0.875844  -0.105610    0.840522    2.483148  \n",
              "Heart_Duration                -0.757049  -0.333324    0.443798    4.005130  \n",
              "Weight_Duration_Heart         -0.837452  -0.131506    0.702951    4.344034  \n",
              "Outliers_Duration_Heart_Temp   0.000000   0.000000    0.000000    1.000000  \n",
              "BMI_Age                       -0.850150  -0.126144    0.736107    4.030577  \n",
              "Age_Group                      2.000000   3.000000    5.000000    7.000000  \n",
              "Calories                      34.000000  77.000000  136.000000  314.000000  "
            ],
            "text/html": [
              "\n",
              "  <div id=\"df-1c9a0a0f-61a9-4884-99e4-361b6f3f7061\" class=\"colab-df-container\">\n",
              "    <div>\n",
              "<style scoped>\n",
              "    .dataframe tbody tr th:only-of-type {\n",
              "        vertical-align: middle;\n",
              "    }\n",
              "\n",
              "    .dataframe tbody tr th {\n",
              "        vertical-align: top;\n",
              "    }\n",
              "\n",
              "    .dataframe thead th {\n",
              "        text-align: right;\n",
              "    }\n",
              "</style>\n",
              "<table border=\"1\" class=\"dataframe\">\n",
              "  <thead>\n",
              "    <tr style=\"text-align: right;\">\n",
              "      <th></th>\n",
              "      <th>count</th>\n",
              "      <th>mean</th>\n",
              "      <th>std</th>\n",
              "      <th>min</th>\n",
              "      <th>25%</th>\n",
              "      <th>50%</th>\n",
              "      <th>75%</th>\n",
              "      <th>max</th>\n",
              "    </tr>\n",
              "  </thead>\n",
              "  <tbody>\n",
              "    <tr>\n",
              "      <th>Sex</th>\n",
              "      <td>765000.0</td>\n",
              "      <td>4.989882e-01</td>\n",
              "      <td>0.499999</td>\n",
              "      <td>0.000000</td>\n",
              "      <td>0.000000</td>\n",
              "      <td>0.000000</td>\n",
              "      <td>1.000000</td>\n",
              "      <td>1.000000</td>\n",
              "    </tr>\n",
              "    <tr>\n",
              "      <th>Height</th>\n",
              "      <td>765000.0</td>\n",
              "      <td>5.077641e-16</td>\n",
              "      <td>1.000001</td>\n",
              "      <td>-4.021508</td>\n",
              "      <td>-0.831880</td>\n",
              "      <td>-0.053922</td>\n",
              "      <td>0.801832</td>\n",
              "      <td>3.680276</td>\n",
              "    </tr>\n",
              "    <tr>\n",
              "      <th>Weight</th>\n",
              "      <td>765000.0</td>\n",
              "      <td>1.343297e-16</td>\n",
              "      <td>1.000001</td>\n",
              "      <td>-2.795048</td>\n",
              "      <td>-0.867043</td>\n",
              "      <td>-0.081559</td>\n",
              "      <td>0.846740</td>\n",
              "      <td>4.060081</td>\n",
              "    </tr>\n",
              "    <tr>\n",
              "      <th>Heart_Rate</th>\n",
              "      <td>765000.0</td>\n",
              "      <td>6.856041e-16</td>\n",
              "      <td>1.000001</td>\n",
              "      <td>-3.013464</td>\n",
              "      <td>-0.791822</td>\n",
              "      <td>-0.051275</td>\n",
              "      <td>0.795065</td>\n",
              "      <td>3.439877</td>\n",
              "    </tr>\n",
              "    <tr>\n",
              "      <th>Body_Temp</th>\n",
              "      <td>765000.0</td>\n",
              "      <td>1.793228e-14</td>\n",
              "      <td>1.000001</td>\n",
              "      <td>-3.764820</td>\n",
              "      <td>-0.559126</td>\n",
              "      <td>0.338468</td>\n",
              "      <td>0.851379</td>\n",
              "      <td>1.877201</td>\n",
              "    </tr>\n",
              "    <tr>\n",
              "      <th>BMI</th>\n",
              "      <td>765000.0</td>\n",
              "      <td>-1.325152e-04</td>\n",
              "      <td>0.998632</td>\n",
              "      <td>-5.000000</td>\n",
              "      <td>-0.740093</td>\n",
              "      <td>0.011128</td>\n",
              "      <td>0.736294</td>\n",
              "      <td>5.000000</td>\n",
              "    </tr>\n",
              "    <tr>\n",
              "      <th>Intensity</th>\n",
              "      <td>765000.0</td>\n",
              "      <td>3.098059e-17</td>\n",
              "      <td>1.000001</td>\n",
              "      <td>-1.563858</td>\n",
              "      <td>-0.875844</td>\n",
              "      <td>-0.105610</td>\n",
              "      <td>0.840522</td>\n",
              "      <td>2.483148</td>\n",
              "    </tr>\n",
              "    <tr>\n",
              "      <th>Heart_Duration</th>\n",
              "      <td>765000.0</td>\n",
              "      <td>1.517255e-15</td>\n",
              "      <td>1.000001</td>\n",
              "      <td>-1.390121</td>\n",
              "      <td>-0.757049</td>\n",
              "      <td>-0.333324</td>\n",
              "      <td>0.443798</td>\n",
              "      <td>4.005130</td>\n",
              "    </tr>\n",
              "    <tr>\n",
              "      <th>Weight_Duration_Heart</th>\n",
              "      <td>765000.0</td>\n",
              "      <td>1.852636e-16</td>\n",
              "      <td>1.000001</td>\n",
              "      <td>-1.507367</td>\n",
              "      <td>-0.837452</td>\n",
              "      <td>-0.131506</td>\n",
              "      <td>0.702951</td>\n",
              "      <td>4.344034</td>\n",
              "    </tr>\n",
              "    <tr>\n",
              "      <th>Outliers_Duration_Heart_Temp</th>\n",
              "      <td>765000.0</td>\n",
              "      <td>3.921569e-05</td>\n",
              "      <td>0.006262</td>\n",
              "      <td>0.000000</td>\n",
              "      <td>0.000000</td>\n",
              "      <td>0.000000</td>\n",
              "      <td>0.000000</td>\n",
              "      <td>1.000000</td>\n",
              "    </tr>\n",
              "    <tr>\n",
              "      <th>BMI_Age</th>\n",
              "      <td>765000.0</td>\n",
              "      <td>1.750443e-16</td>\n",
              "      <td>1.000001</td>\n",
              "      <td>-1.511686</td>\n",
              "      <td>-0.850150</td>\n",
              "      <td>-0.126144</td>\n",
              "      <td>0.736107</td>\n",
              "      <td>4.030577</td>\n",
              "    </tr>\n",
              "    <tr>\n",
              "      <th>Age_Group</th>\n",
              "      <td>765000.0</td>\n",
              "      <td>3.623880e+00</td>\n",
              "      <td>1.541745</td>\n",
              "      <td>1.000000</td>\n",
              "      <td>2.000000</td>\n",
              "      <td>3.000000</td>\n",
              "      <td>5.000000</td>\n",
              "      <td>7.000000</td>\n",
              "    </tr>\n",
              "    <tr>\n",
              "      <th>Calories</th>\n",
              "      <td>765000.0</td>\n",
              "      <td>8.830742e+01</td>\n",
              "      <td>62.396760</td>\n",
              "      <td>1.000000</td>\n",
              "      <td>34.000000</td>\n",
              "      <td>77.000000</td>\n",
              "      <td>136.000000</td>\n",
              "      <td>314.000000</td>\n",
              "    </tr>\n",
              "  </tbody>\n",
              "</table>\n",
              "</div>\n",
              "    <div class=\"colab-df-buttons\">\n",
              "\n",
              "  <div class=\"colab-df-container\">\n",
              "    <button class=\"colab-df-convert\" onclick=\"convertToInteractive('df-1c9a0a0f-61a9-4884-99e4-361b6f3f7061')\"\n",
              "            title=\"Convert this dataframe to an interactive table.\"\n",
              "            style=\"display:none;\">\n",
              "\n",
              "  <svg xmlns=\"http://www.w3.org/2000/svg\" height=\"24px\" viewBox=\"0 -960 960 960\">\n",
              "    <path d=\"M120-120v-720h720v720H120Zm60-500h600v-160H180v160Zm220 220h160v-160H400v160Zm0 220h160v-160H400v160ZM180-400h160v-160H180v160Zm440 0h160v-160H620v160ZM180-180h160v-160H180v160Zm440 0h160v-160H620v160Z\"/>\n",
              "  </svg>\n",
              "    </button>\n",
              "\n",
              "  <style>\n",
              "    .colab-df-container {\n",
              "      display:flex;\n",
              "      gap: 12px;\n",
              "    }\n",
              "\n",
              "    .colab-df-convert {\n",
              "      background-color: #E8F0FE;\n",
              "      border: none;\n",
              "      border-radius: 50%;\n",
              "      cursor: pointer;\n",
              "      display: none;\n",
              "      fill: #1967D2;\n",
              "      height: 32px;\n",
              "      padding: 0 0 0 0;\n",
              "      width: 32px;\n",
              "    }\n",
              "\n",
              "    .colab-df-convert:hover {\n",
              "      background-color: #E2EBFA;\n",
              "      box-shadow: 0px 1px 2px rgba(60, 64, 67, 0.3), 0px 1px 3px 1px rgba(60, 64, 67, 0.15);\n",
              "      fill: #174EA6;\n",
              "    }\n",
              "\n",
              "    .colab-df-buttons div {\n",
              "      margin-bottom: 4px;\n",
              "    }\n",
              "\n",
              "    [theme=dark] .colab-df-convert {\n",
              "      background-color: #3B4455;\n",
              "      fill: #D2E3FC;\n",
              "    }\n",
              "\n",
              "    [theme=dark] .colab-df-convert:hover {\n",
              "      background-color: #434B5C;\n",
              "      box-shadow: 0px 1px 3px 1px rgba(0, 0, 0, 0.15);\n",
              "      filter: drop-shadow(0px 1px 2px rgba(0, 0, 0, 0.3));\n",
              "      fill: #FFFFFF;\n",
              "    }\n",
              "  </style>\n",
              "\n",
              "    <script>\n",
              "      const buttonEl =\n",
              "        document.querySelector('#df-1c9a0a0f-61a9-4884-99e4-361b6f3f7061 button.colab-df-convert');\n",
              "      buttonEl.style.display =\n",
              "        google.colab.kernel.accessAllowed ? 'block' : 'none';\n",
              "\n",
              "      async function convertToInteractive(key) {\n",
              "        const element = document.querySelector('#df-1c9a0a0f-61a9-4884-99e4-361b6f3f7061');\n",
              "        const dataTable =\n",
              "          await google.colab.kernel.invokeFunction('convertToInteractive',\n",
              "                                                    [key], {});\n",
              "        if (!dataTable) return;\n",
              "\n",
              "        const docLinkHtml = 'Like what you see? Visit the ' +\n",
              "          '<a target=\"_blank\" href=https://colab.research.google.com/notebooks/data_table.ipynb>data table notebook</a>'\n",
              "          + ' to learn more about interactive tables.';\n",
              "        element.innerHTML = '';\n",
              "        dataTable['output_type'] = 'display_data';\n",
              "        await google.colab.output.renderOutput(dataTable, element);\n",
              "        const docLink = document.createElement('div');\n",
              "        docLink.innerHTML = docLinkHtml;\n",
              "        element.appendChild(docLink);\n",
              "      }\n",
              "    </script>\n",
              "  </div>\n",
              "\n",
              "\n",
              "    <div id=\"df-2039287a-d98e-4a25-8a07-c0ce6d6ed2a8\">\n",
              "      <button class=\"colab-df-quickchart\" onclick=\"quickchart('df-2039287a-d98e-4a25-8a07-c0ce6d6ed2a8')\"\n",
              "                title=\"Suggest charts\"\n",
              "                style=\"display:none;\">\n",
              "\n",
              "<svg xmlns=\"http://www.w3.org/2000/svg\" height=\"24px\"viewBox=\"0 0 24 24\"\n",
              "     width=\"24px\">\n",
              "    <g>\n",
              "        <path d=\"M19 3H5c-1.1 0-2 .9-2 2v14c0 1.1.9 2 2 2h14c1.1 0 2-.9 2-2V5c0-1.1-.9-2-2-2zM9 17H7v-7h2v7zm4 0h-2V7h2v10zm4 0h-2v-4h2v4z\"/>\n",
              "    </g>\n",
              "</svg>\n",
              "      </button>\n",
              "\n",
              "<style>\n",
              "  .colab-df-quickchart {\n",
              "      --bg-color: #E8F0FE;\n",
              "      --fill-color: #1967D2;\n",
              "      --hover-bg-color: #E2EBFA;\n",
              "      --hover-fill-color: #174EA6;\n",
              "      --disabled-fill-color: #AAA;\n",
              "      --disabled-bg-color: #DDD;\n",
              "  }\n",
              "\n",
              "  [theme=dark] .colab-df-quickchart {\n",
              "      --bg-color: #3B4455;\n",
              "      --fill-color: #D2E3FC;\n",
              "      --hover-bg-color: #434B5C;\n",
              "      --hover-fill-color: #FFFFFF;\n",
              "      --disabled-bg-color: #3B4455;\n",
              "      --disabled-fill-color: #666;\n",
              "  }\n",
              "\n",
              "  .colab-df-quickchart {\n",
              "    background-color: var(--bg-color);\n",
              "    border: none;\n",
              "    border-radius: 50%;\n",
              "    cursor: pointer;\n",
              "    display: none;\n",
              "    fill: var(--fill-color);\n",
              "    height: 32px;\n",
              "    padding: 0;\n",
              "    width: 32px;\n",
              "  }\n",
              "\n",
              "  .colab-df-quickchart:hover {\n",
              "    background-color: var(--hover-bg-color);\n",
              "    box-shadow: 0 1px 2px rgba(60, 64, 67, 0.3), 0 1px 3px 1px rgba(60, 64, 67, 0.15);\n",
              "    fill: var(--button-hover-fill-color);\n",
              "  }\n",
              "\n",
              "  .colab-df-quickchart-complete:disabled,\n",
              "  .colab-df-quickchart-complete:disabled:hover {\n",
              "    background-color: var(--disabled-bg-color);\n",
              "    fill: var(--disabled-fill-color);\n",
              "    box-shadow: none;\n",
              "  }\n",
              "\n",
              "  .colab-df-spinner {\n",
              "    border: 2px solid var(--fill-color);\n",
              "    border-color: transparent;\n",
              "    border-bottom-color: var(--fill-color);\n",
              "    animation:\n",
              "      spin 1s steps(1) infinite;\n",
              "  }\n",
              "\n",
              "  @keyframes spin {\n",
              "    0% {\n",
              "      border-color: transparent;\n",
              "      border-bottom-color: var(--fill-color);\n",
              "      border-left-color: var(--fill-color);\n",
              "    }\n",
              "    20% {\n",
              "      border-color: transparent;\n",
              "      border-left-color: var(--fill-color);\n",
              "      border-top-color: var(--fill-color);\n",
              "    }\n",
              "    30% {\n",
              "      border-color: transparent;\n",
              "      border-left-color: var(--fill-color);\n",
              "      border-top-color: var(--fill-color);\n",
              "      border-right-color: var(--fill-color);\n",
              "    }\n",
              "    40% {\n",
              "      border-color: transparent;\n",
              "      border-right-color: var(--fill-color);\n",
              "      border-top-color: var(--fill-color);\n",
              "    }\n",
              "    60% {\n",
              "      border-color: transparent;\n",
              "      border-right-color: var(--fill-color);\n",
              "    }\n",
              "    80% {\n",
              "      border-color: transparent;\n",
              "      border-right-color: var(--fill-color);\n",
              "      border-bottom-color: var(--fill-color);\n",
              "    }\n",
              "    90% {\n",
              "      border-color: transparent;\n",
              "      border-bottom-color: var(--fill-color);\n",
              "    }\n",
              "  }\n",
              "</style>\n",
              "\n",
              "      <script>\n",
              "        async function quickchart(key) {\n",
              "          const quickchartButtonEl =\n",
              "            document.querySelector('#' + key + ' button');\n",
              "          quickchartButtonEl.disabled = true;  // To prevent multiple clicks.\n",
              "          quickchartButtonEl.classList.add('colab-df-spinner');\n",
              "          try {\n",
              "            const charts = await google.colab.kernel.invokeFunction(\n",
              "                'suggestCharts', [key], {});\n",
              "          } catch (error) {\n",
              "            console.error('Error during call to suggestCharts:', error);\n",
              "          }\n",
              "          quickchartButtonEl.classList.remove('colab-df-spinner');\n",
              "          quickchartButtonEl.classList.add('colab-df-quickchart-complete');\n",
              "        }\n",
              "        (() => {\n",
              "          let quickchartButtonEl =\n",
              "            document.querySelector('#df-2039287a-d98e-4a25-8a07-c0ce6d6ed2a8 button');\n",
              "          quickchartButtonEl.style.display =\n",
              "            google.colab.kernel.accessAllowed ? 'block' : 'none';\n",
              "        })();\n",
              "      </script>\n",
              "    </div>\n",
              "\n",
              "    </div>\n",
              "  </div>\n"
            ],
            "application/vnd.google.colaboratory.intrinsic+json": {
              "type": "dataframe",
              "summary": "{\n  \"name\": \"data\",\n  \"rows\": 13,\n  \"fields\": [\n    {\n      \"column\": \"count\",\n      \"properties\": {\n        \"dtype\": \"number\",\n        \"std\": 0.0,\n        \"min\": 765000.0,\n        \"max\": 765000.0,\n        \"num_unique_values\": 1,\n        \"samples\": [\n          765000.0\n        ],\n        \"semantic_type\": \"\",\n        \"description\": \"\"\n      }\n    },\n    {\n      \"column\": \"mean\",\n      \"properties\": {\n        \"dtype\": \"number\",\n        \"std\": 24.417211186614555,\n        \"min\": -0.0001325152491667629,\n        \"max\": 88.30742352941176,\n        \"num_unique_values\": 13,\n        \"samples\": [\n          3.6238797385620916\n        ],\n        \"semantic_type\": \"\",\n        \"description\": \"\"\n      }\n    },\n    {\n      \"column\": \"std\",\n      \"properties\": {\n        \"dtype\": \"number\",\n        \"std\": 17.053987900216377,\n        \"min\": 0.006262124213478731,\n        \"max\": 62.3967604613897,\n        \"num_unique_values\": 13,\n        \"samples\": [\n          1.5417452727894405\n        ],\n        \"semantic_type\": \"\",\n        \"description\": \"\"\n      }\n    },\n    {\n      \"column\": \"min\",\n      \"properties\": {\n        \"dtype\": \"number\",\n        \"std\": 1.9147995601797518,\n        \"min\": -5.0,\n        \"max\": 1.0,\n        \"num_unique_values\": 11,\n        \"samples\": [\n          -5.0\n        ],\n        \"semantic_type\": \"\",\n        \"description\": \"\"\n      }\n    },\n    {\n      \"column\": \"25%\",\n      \"properties\": {\n        \"dtype\": \"number\",\n        \"std\": 9.58077503684998,\n        \"min\": -0.875843963245995,\n        \"max\": 34.0,\n        \"num_unique_values\": 12,\n        \"samples\": [\n          2.0\n        ],\n        \"semantic_type\": \"\",\n        \"description\": \"\"\n      }\n    },\n    {\n      \"column\": \"50%\",\n      \"properties\": {\n        \"dtype\": \"number\",\n        \"std\": 21.316116525525697,\n        \"min\": -0.3333241017308226,\n        \"max\": 77.0,\n        \"num_unique_values\": 12,\n        \"samples\": [\n          3.0\n        ],\n        \"semantic_type\": \"\",\n        \"description\": \"\"\n      }\n    },\n    {\n      \"column\": \"75%\",\n      \"properties\": {\n        \"dtype\": \"number\",\n        \"std\": 37.444456547720165,\n        \"min\": 0.0,\n        \"max\": 136.0,\n        \"num_unique_values\": 13,\n        \"samples\": [\n          5.0\n        ],\n        \"semantic_type\": \"\",\n        \"description\": \"\"\n      }\n    },\n    {\n      \"column\": \"max\",\n      \"properties\": {\n        \"dtype\": \"number\",\n        \"std\": 86.13465660756,\n        \"min\": 1.0,\n        \"max\": 314.0,\n        \"num_unique_values\": 12,\n        \"samples\": [\n          7.0\n        ],\n        \"semantic_type\": \"\",\n        \"description\": \"\"\n      }\n    }\n  ]\n}"
            }
          },
          "metadata": {}
        },
        {
          "output_type": "stream",
          "name": "stdout",
          "text": [
            "     ➩ 𝐓𝐞𝐬𝐭 𝐬𝐮𝐦𝐦𝐚𝐫𝐲 𝐬𝐭𝐚𝐭𝐬 \n"
          ]
        },
        {
          "output_type": "display_data",
          "data": {
            "text/plain": [
              "                                 count      mean       std       min  \\\n",
              "Sex                           250000.0  0.498876  0.500000  0.000000   \n",
              "Height                        250000.0  0.002528  0.997501 -3.710325   \n",
              "Weight                        250000.0  0.000396  0.998243 -2.580825   \n",
              "Heart_Rate                    250000.0 -0.000591  0.999756 -3.013464   \n",
              "Body_Temp                     250000.0  0.000066  0.998186 -3.764820   \n",
              "BMI                           250000.0 -0.004466  0.998080 -5.000000   \n",
              "Intensity                     250000.0 -0.000928  0.999746 -1.563333   \n",
              "Heart_Duration                250000.0 -0.000380  0.997461 -1.312222   \n",
              "Weight_Duration_Heart         250000.0 -0.000767  0.999786 -1.505219   \n",
              "Outliers_Duration_Heart_Temp  250000.0  0.000028  0.005291  0.000000   \n",
              "BMI_Age                       250000.0 -0.001029  0.999830 -1.508818   \n",
              "Age_Group                     250000.0  3.623832  1.538621  1.000000   \n",
              "\n",
              "                                   25%       50%       75%       max  \n",
              "Sex                           0.000000  0.000000  1.000000  1.000000  \n",
              "Height                       -0.831880 -0.053922  0.801832  3.446889  \n",
              "Weight                       -0.867043 -0.081559  0.846740  3.631636  \n",
              "Heart_Rate                   -0.791822 -0.051275  0.795065  3.439877  \n",
              "Body_Temp                    -0.559126  0.338468  0.723151  1.877201  \n",
              "BMI                          -0.740093  0.008131  0.728037  5.000000  \n",
              "Intensity                    -0.876596 -0.107700  0.834455  2.493177  \n",
              "Heart_Duration               -0.757049 -0.326515  0.437294  3.835281  \n",
              "Weight_Duration_Heart        -0.837925 -0.134480  0.699004  4.053276  \n",
              "Outliers_Duration_Heart_Temp  0.000000  0.000000  0.000000  1.000000  \n",
              "BMI_Age                      -0.850105 -0.127124  0.732317  3.487105  \n",
              "Age_Group                     2.000000  3.000000  5.000000  7.000000  "
            ],
            "text/html": [
              "\n",
              "  <div id=\"df-1affbfb6-f09c-4b0e-a500-6fcae07e7338\" class=\"colab-df-container\">\n",
              "    <div>\n",
              "<style scoped>\n",
              "    .dataframe tbody tr th:only-of-type {\n",
              "        vertical-align: middle;\n",
              "    }\n",
              "\n",
              "    .dataframe tbody tr th {\n",
              "        vertical-align: top;\n",
              "    }\n",
              "\n",
              "    .dataframe thead th {\n",
              "        text-align: right;\n",
              "    }\n",
              "</style>\n",
              "<table border=\"1\" class=\"dataframe\">\n",
              "  <thead>\n",
              "    <tr style=\"text-align: right;\">\n",
              "      <th></th>\n",
              "      <th>count</th>\n",
              "      <th>mean</th>\n",
              "      <th>std</th>\n",
              "      <th>min</th>\n",
              "      <th>25%</th>\n",
              "      <th>50%</th>\n",
              "      <th>75%</th>\n",
              "      <th>max</th>\n",
              "    </tr>\n",
              "  </thead>\n",
              "  <tbody>\n",
              "    <tr>\n",
              "      <th>Sex</th>\n",
              "      <td>250000.0</td>\n",
              "      <td>0.498876</td>\n",
              "      <td>0.500000</td>\n",
              "      <td>0.000000</td>\n",
              "      <td>0.000000</td>\n",
              "      <td>0.000000</td>\n",
              "      <td>1.000000</td>\n",
              "      <td>1.000000</td>\n",
              "    </tr>\n",
              "    <tr>\n",
              "      <th>Height</th>\n",
              "      <td>250000.0</td>\n",
              "      <td>0.002528</td>\n",
              "      <td>0.997501</td>\n",
              "      <td>-3.710325</td>\n",
              "      <td>-0.831880</td>\n",
              "      <td>-0.053922</td>\n",
              "      <td>0.801832</td>\n",
              "      <td>3.446889</td>\n",
              "    </tr>\n",
              "    <tr>\n",
              "      <th>Weight</th>\n",
              "      <td>250000.0</td>\n",
              "      <td>0.000396</td>\n",
              "      <td>0.998243</td>\n",
              "      <td>-2.580825</td>\n",
              "      <td>-0.867043</td>\n",
              "      <td>-0.081559</td>\n",
              "      <td>0.846740</td>\n",
              "      <td>3.631636</td>\n",
              "    </tr>\n",
              "    <tr>\n",
              "      <th>Heart_Rate</th>\n",
              "      <td>250000.0</td>\n",
              "      <td>-0.000591</td>\n",
              "      <td>0.999756</td>\n",
              "      <td>-3.013464</td>\n",
              "      <td>-0.791822</td>\n",
              "      <td>-0.051275</td>\n",
              "      <td>0.795065</td>\n",
              "      <td>3.439877</td>\n",
              "    </tr>\n",
              "    <tr>\n",
              "      <th>Body_Temp</th>\n",
              "      <td>250000.0</td>\n",
              "      <td>0.000066</td>\n",
              "      <td>0.998186</td>\n",
              "      <td>-3.764820</td>\n",
              "      <td>-0.559126</td>\n",
              "      <td>0.338468</td>\n",
              "      <td>0.723151</td>\n",
              "      <td>1.877201</td>\n",
              "    </tr>\n",
              "    <tr>\n",
              "      <th>BMI</th>\n",
              "      <td>250000.0</td>\n",
              "      <td>-0.004466</td>\n",
              "      <td>0.998080</td>\n",
              "      <td>-5.000000</td>\n",
              "      <td>-0.740093</td>\n",
              "      <td>0.008131</td>\n",
              "      <td>0.728037</td>\n",
              "      <td>5.000000</td>\n",
              "    </tr>\n",
              "    <tr>\n",
              "      <th>Intensity</th>\n",
              "      <td>250000.0</td>\n",
              "      <td>-0.000928</td>\n",
              "      <td>0.999746</td>\n",
              "      <td>-1.563333</td>\n",
              "      <td>-0.876596</td>\n",
              "      <td>-0.107700</td>\n",
              "      <td>0.834455</td>\n",
              "      <td>2.493177</td>\n",
              "    </tr>\n",
              "    <tr>\n",
              "      <th>Heart_Duration</th>\n",
              "      <td>250000.0</td>\n",
              "      <td>-0.000380</td>\n",
              "      <td>0.997461</td>\n",
              "      <td>-1.312222</td>\n",
              "      <td>-0.757049</td>\n",
              "      <td>-0.326515</td>\n",
              "      <td>0.437294</td>\n",
              "      <td>3.835281</td>\n",
              "    </tr>\n",
              "    <tr>\n",
              "      <th>Weight_Duration_Heart</th>\n",
              "      <td>250000.0</td>\n",
              "      <td>-0.000767</td>\n",
              "      <td>0.999786</td>\n",
              "      <td>-1.505219</td>\n",
              "      <td>-0.837925</td>\n",
              "      <td>-0.134480</td>\n",
              "      <td>0.699004</td>\n",
              "      <td>4.053276</td>\n",
              "    </tr>\n",
              "    <tr>\n",
              "      <th>Outliers_Duration_Heart_Temp</th>\n",
              "      <td>250000.0</td>\n",
              "      <td>0.000028</td>\n",
              "      <td>0.005291</td>\n",
              "      <td>0.000000</td>\n",
              "      <td>0.000000</td>\n",
              "      <td>0.000000</td>\n",
              "      <td>0.000000</td>\n",
              "      <td>1.000000</td>\n",
              "    </tr>\n",
              "    <tr>\n",
              "      <th>BMI_Age</th>\n",
              "      <td>250000.0</td>\n",
              "      <td>-0.001029</td>\n",
              "      <td>0.999830</td>\n",
              "      <td>-1.508818</td>\n",
              "      <td>-0.850105</td>\n",
              "      <td>-0.127124</td>\n",
              "      <td>0.732317</td>\n",
              "      <td>3.487105</td>\n",
              "    </tr>\n",
              "    <tr>\n",
              "      <th>Age_Group</th>\n",
              "      <td>250000.0</td>\n",
              "      <td>3.623832</td>\n",
              "      <td>1.538621</td>\n",
              "      <td>1.000000</td>\n",
              "      <td>2.000000</td>\n",
              "      <td>3.000000</td>\n",
              "      <td>5.000000</td>\n",
              "      <td>7.000000</td>\n",
              "    </tr>\n",
              "  </tbody>\n",
              "</table>\n",
              "</div>\n",
              "    <div class=\"colab-df-buttons\">\n",
              "\n",
              "  <div class=\"colab-df-container\">\n",
              "    <button class=\"colab-df-convert\" onclick=\"convertToInteractive('df-1affbfb6-f09c-4b0e-a500-6fcae07e7338')\"\n",
              "            title=\"Convert this dataframe to an interactive table.\"\n",
              "            style=\"display:none;\">\n",
              "\n",
              "  <svg xmlns=\"http://www.w3.org/2000/svg\" height=\"24px\" viewBox=\"0 -960 960 960\">\n",
              "    <path d=\"M120-120v-720h720v720H120Zm60-500h600v-160H180v160Zm220 220h160v-160H400v160Zm0 220h160v-160H400v160ZM180-400h160v-160H180v160Zm440 0h160v-160H620v160ZM180-180h160v-160H180v160Zm440 0h160v-160H620v160Z\"/>\n",
              "  </svg>\n",
              "    </button>\n",
              "\n",
              "  <style>\n",
              "    .colab-df-container {\n",
              "      display:flex;\n",
              "      gap: 12px;\n",
              "    }\n",
              "\n",
              "    .colab-df-convert {\n",
              "      background-color: #E8F0FE;\n",
              "      border: none;\n",
              "      border-radius: 50%;\n",
              "      cursor: pointer;\n",
              "      display: none;\n",
              "      fill: #1967D2;\n",
              "      height: 32px;\n",
              "      padding: 0 0 0 0;\n",
              "      width: 32px;\n",
              "    }\n",
              "\n",
              "    .colab-df-convert:hover {\n",
              "      background-color: #E2EBFA;\n",
              "      box-shadow: 0px 1px 2px rgba(60, 64, 67, 0.3), 0px 1px 3px 1px rgba(60, 64, 67, 0.15);\n",
              "      fill: #174EA6;\n",
              "    }\n",
              "\n",
              "    .colab-df-buttons div {\n",
              "      margin-bottom: 4px;\n",
              "    }\n",
              "\n",
              "    [theme=dark] .colab-df-convert {\n",
              "      background-color: #3B4455;\n",
              "      fill: #D2E3FC;\n",
              "    }\n",
              "\n",
              "    [theme=dark] .colab-df-convert:hover {\n",
              "      background-color: #434B5C;\n",
              "      box-shadow: 0px 1px 3px 1px rgba(0, 0, 0, 0.15);\n",
              "      filter: drop-shadow(0px 1px 2px rgba(0, 0, 0, 0.3));\n",
              "      fill: #FFFFFF;\n",
              "    }\n",
              "  </style>\n",
              "\n",
              "    <script>\n",
              "      const buttonEl =\n",
              "        document.querySelector('#df-1affbfb6-f09c-4b0e-a500-6fcae07e7338 button.colab-df-convert');\n",
              "      buttonEl.style.display =\n",
              "        google.colab.kernel.accessAllowed ? 'block' : 'none';\n",
              "\n",
              "      async function convertToInteractive(key) {\n",
              "        const element = document.querySelector('#df-1affbfb6-f09c-4b0e-a500-6fcae07e7338');\n",
              "        const dataTable =\n",
              "          await google.colab.kernel.invokeFunction('convertToInteractive',\n",
              "                                                    [key], {});\n",
              "        if (!dataTable) return;\n",
              "\n",
              "        const docLinkHtml = 'Like what you see? Visit the ' +\n",
              "          '<a target=\"_blank\" href=https://colab.research.google.com/notebooks/data_table.ipynb>data table notebook</a>'\n",
              "          + ' to learn more about interactive tables.';\n",
              "        element.innerHTML = '';\n",
              "        dataTable['output_type'] = 'display_data';\n",
              "        await google.colab.output.renderOutput(dataTable, element);\n",
              "        const docLink = document.createElement('div');\n",
              "        docLink.innerHTML = docLinkHtml;\n",
              "        element.appendChild(docLink);\n",
              "      }\n",
              "    </script>\n",
              "  </div>\n",
              "\n",
              "\n",
              "    <div id=\"df-6eeee899-2e32-4917-b38a-ea4f08a30d6e\">\n",
              "      <button class=\"colab-df-quickchart\" onclick=\"quickchart('df-6eeee899-2e32-4917-b38a-ea4f08a30d6e')\"\n",
              "                title=\"Suggest charts\"\n",
              "                style=\"display:none;\">\n",
              "\n",
              "<svg xmlns=\"http://www.w3.org/2000/svg\" height=\"24px\"viewBox=\"0 0 24 24\"\n",
              "     width=\"24px\">\n",
              "    <g>\n",
              "        <path d=\"M19 3H5c-1.1 0-2 .9-2 2v14c0 1.1.9 2 2 2h14c1.1 0 2-.9 2-2V5c0-1.1-.9-2-2-2zM9 17H7v-7h2v7zm4 0h-2V7h2v10zm4 0h-2v-4h2v4z\"/>\n",
              "    </g>\n",
              "</svg>\n",
              "      </button>\n",
              "\n",
              "<style>\n",
              "  .colab-df-quickchart {\n",
              "      --bg-color: #E8F0FE;\n",
              "      --fill-color: #1967D2;\n",
              "      --hover-bg-color: #E2EBFA;\n",
              "      --hover-fill-color: #174EA6;\n",
              "      --disabled-fill-color: #AAA;\n",
              "      --disabled-bg-color: #DDD;\n",
              "  }\n",
              "\n",
              "  [theme=dark] .colab-df-quickchart {\n",
              "      --bg-color: #3B4455;\n",
              "      --fill-color: #D2E3FC;\n",
              "      --hover-bg-color: #434B5C;\n",
              "      --hover-fill-color: #FFFFFF;\n",
              "      --disabled-bg-color: #3B4455;\n",
              "      --disabled-fill-color: #666;\n",
              "  }\n",
              "\n",
              "  .colab-df-quickchart {\n",
              "    background-color: var(--bg-color);\n",
              "    border: none;\n",
              "    border-radius: 50%;\n",
              "    cursor: pointer;\n",
              "    display: none;\n",
              "    fill: var(--fill-color);\n",
              "    height: 32px;\n",
              "    padding: 0;\n",
              "    width: 32px;\n",
              "  }\n",
              "\n",
              "  .colab-df-quickchart:hover {\n",
              "    background-color: var(--hover-bg-color);\n",
              "    box-shadow: 0 1px 2px rgba(60, 64, 67, 0.3), 0 1px 3px 1px rgba(60, 64, 67, 0.15);\n",
              "    fill: var(--button-hover-fill-color);\n",
              "  }\n",
              "\n",
              "  .colab-df-quickchart-complete:disabled,\n",
              "  .colab-df-quickchart-complete:disabled:hover {\n",
              "    background-color: var(--disabled-bg-color);\n",
              "    fill: var(--disabled-fill-color);\n",
              "    box-shadow: none;\n",
              "  }\n",
              "\n",
              "  .colab-df-spinner {\n",
              "    border: 2px solid var(--fill-color);\n",
              "    border-color: transparent;\n",
              "    border-bottom-color: var(--fill-color);\n",
              "    animation:\n",
              "      spin 1s steps(1) infinite;\n",
              "  }\n",
              "\n",
              "  @keyframes spin {\n",
              "    0% {\n",
              "      border-color: transparent;\n",
              "      border-bottom-color: var(--fill-color);\n",
              "      border-left-color: var(--fill-color);\n",
              "    }\n",
              "    20% {\n",
              "      border-color: transparent;\n",
              "      border-left-color: var(--fill-color);\n",
              "      border-top-color: var(--fill-color);\n",
              "    }\n",
              "    30% {\n",
              "      border-color: transparent;\n",
              "      border-left-color: var(--fill-color);\n",
              "      border-top-color: var(--fill-color);\n",
              "      border-right-color: var(--fill-color);\n",
              "    }\n",
              "    40% {\n",
              "      border-color: transparent;\n",
              "      border-right-color: var(--fill-color);\n",
              "      border-top-color: var(--fill-color);\n",
              "    }\n",
              "    60% {\n",
              "      border-color: transparent;\n",
              "      border-right-color: var(--fill-color);\n",
              "    }\n",
              "    80% {\n",
              "      border-color: transparent;\n",
              "      border-right-color: var(--fill-color);\n",
              "      border-bottom-color: var(--fill-color);\n",
              "    }\n",
              "    90% {\n",
              "      border-color: transparent;\n",
              "      border-bottom-color: var(--fill-color);\n",
              "    }\n",
              "  }\n",
              "</style>\n",
              "\n",
              "      <script>\n",
              "        async function quickchart(key) {\n",
              "          const quickchartButtonEl =\n",
              "            document.querySelector('#' + key + ' button');\n",
              "          quickchartButtonEl.disabled = true;  // To prevent multiple clicks.\n",
              "          quickchartButtonEl.classList.add('colab-df-spinner');\n",
              "          try {\n",
              "            const charts = await google.colab.kernel.invokeFunction(\n",
              "                'suggestCharts', [key], {});\n",
              "          } catch (error) {\n",
              "            console.error('Error during call to suggestCharts:', error);\n",
              "          }\n",
              "          quickchartButtonEl.classList.remove('colab-df-spinner');\n",
              "          quickchartButtonEl.classList.add('colab-df-quickchart-complete');\n",
              "        }\n",
              "        (() => {\n",
              "          let quickchartButtonEl =\n",
              "            document.querySelector('#df-6eeee899-2e32-4917-b38a-ea4f08a30d6e button');\n",
              "          quickchartButtonEl.style.display =\n",
              "            google.colab.kernel.accessAllowed ? 'block' : 'none';\n",
              "        })();\n",
              "      </script>\n",
              "    </div>\n",
              "\n",
              "    </div>\n",
              "  </div>\n"
            ],
            "application/vnd.google.colaboratory.intrinsic+json": {
              "type": "dataframe",
              "summary": "{\n  \"name\": \"data\",\n  \"rows\": 12,\n  \"fields\": [\n    {\n      \"column\": \"count\",\n      \"properties\": {\n        \"dtype\": \"number\",\n        \"std\": 0.0,\n        \"min\": 250000.0,\n        \"max\": 250000.0,\n        \"num_unique_values\": 1,\n        \"samples\": [\n          250000.0\n        ],\n        \"semantic_type\": \"\",\n        \"description\": \"\"\n      }\n    },\n    {\n      \"column\": \"mean\",\n      \"properties\": {\n        \"dtype\": \"number\",\n        \"std\": 1.043081239440903,\n        \"min\": -0.00446569712445531,\n        \"max\": 3.623832,\n        \"num_unique_values\": 12,\n        \"samples\": [\n          -0.0010292838867875763\n        ],\n        \"semantic_type\": \"\",\n        \"description\": \"\"\n      }\n    },\n    {\n      \"column\": \"std\",\n      \"properties\": {\n        \"dtype\": \"number\",\n        \"std\": 0.3632650732490894,\n        \"min\": 0.005291439123472267,\n        \"max\": 1.5386211701386616,\n        \"num_unique_values\": 12,\n        \"samples\": [\n          0.9998298177086934\n        ],\n        \"semantic_type\": \"\",\n        \"description\": \"\"\n      }\n    },\n    {\n      \"column\": \"min\",\n      \"properties\": {\n        \"dtype\": \"number\",\n        \"std\": 1.7700475229777473,\n        \"min\": -5.0,\n        \"max\": 1.0,\n        \"num_unique_values\": 11,\n        \"samples\": [\n          -5.0\n        ],\n        \"semantic_type\": \"\",\n        \"description\": \"\"\n      }\n    },\n    {\n      \"column\": \"25%\",\n      \"properties\": {\n        \"dtype\": \"number\",\n        \"std\": 0.8268266573517176,\n        \"min\": -0.8765961446590179,\n        \"max\": 2.0,\n        \"num_unique_values\": 11,\n        \"samples\": [\n          -0.740092857566932\n        ],\n        \"semantic_type\": \"\",\n        \"description\": \"\"\n      }\n    },\n    {\n      \"column\": \"50%\",\n      \"properties\": {\n        \"dtype\": \"number\",\n        \"std\": 0.8930703460373253,\n        \"min\": -0.3265154592246458,\n        \"max\": 3.0,\n        \"num_unique_values\": 11,\n        \"samples\": [\n          0.008130826579319\n        ],\n        \"semantic_type\": \"\",\n        \"description\": \"\"\n      }\n    },\n    {\n      \"column\": \"75%\",\n      \"properties\": {\n        \"dtype\": \"number\",\n        \"std\": 1.2696410670034421,\n        \"min\": 0.0,\n        \"max\": 5.0,\n        \"num_unique_values\": 12,\n        \"samples\": [\n          0.7323170868983471\n        ],\n        \"semantic_type\": \"\",\n        \"description\": \"\"\n      }\n    },\n    {\n      \"column\": \"max\",\n      \"properties\": {\n        \"dtype\": \"number\",\n        \"std\": 1.6743686230477384,\n        \"min\": 1.0,\n        \"max\": 7.0,\n        \"num_unique_values\": 11,\n        \"samples\": [\n          5.0\n        ],\n        \"semantic_type\": \"\",\n        \"description\": \"\"\n      }\n    }\n  ]\n}"
            }
          },
          "metadata": {}
        },
        {
          "output_type": "stream",
          "name": "stdout",
          "text": [
            "______________________________________________________________________\n",
            "\n",
            "     ➩ 𝐍𝐮𝐧𝐢𝐪𝐮𝐞 𝐚𝐧𝐝 𝐧𝐮𝐥𝐥𝐬 \n"
          ]
        },
        {
          "output_type": "display_data",
          "data": {
            "text/plain": [
              "               Sex  Height  Weight  Heart_Rate  Body_Temp   BMI  Intensity  \\\n",
              "Train nunique    2      92      92          63         75  2201      11378   \n",
              "Test nunique     2      85      84          61         51  1812       9097   \n",
              "Train null       0       0       0           0          0     0          0   \n",
              "Test null        0       0       0           0          0     0          0   \n",
              "\n",
              "               Heart_Duration  Weight_Duration_Heart  \\\n",
              "Train nunique            1102                  21630   \n",
              "Test nunique              973                  19010   \n",
              "Train null                  0                      0   \n",
              "Test null                   0                      0   \n",
              "\n",
              "               Outliers_Duration_Heart_Temp  BMI_Age  Age_Group  \n",
              "Train nunique                             2   755720          7  \n",
              "Test nunique                              2   248943          7  \n",
              "Train null                                0        0          0  \n",
              "Test null                                 0        0          0  "
            ],
            "text/html": [
              "\n",
              "  <div id=\"df-2a13a39d-8b4c-4b03-b30b-286524fd3ed0\" class=\"colab-df-container\">\n",
              "    <div>\n",
              "<style scoped>\n",
              "    .dataframe tbody tr th:only-of-type {\n",
              "        vertical-align: middle;\n",
              "    }\n",
              "\n",
              "    .dataframe tbody tr th {\n",
              "        vertical-align: top;\n",
              "    }\n",
              "\n",
              "    .dataframe thead th {\n",
              "        text-align: right;\n",
              "    }\n",
              "</style>\n",
              "<table border=\"1\" class=\"dataframe\">\n",
              "  <thead>\n",
              "    <tr style=\"text-align: right;\">\n",
              "      <th></th>\n",
              "      <th>Sex</th>\n",
              "      <th>Height</th>\n",
              "      <th>Weight</th>\n",
              "      <th>Heart_Rate</th>\n",
              "      <th>Body_Temp</th>\n",
              "      <th>BMI</th>\n",
              "      <th>Intensity</th>\n",
              "      <th>Heart_Duration</th>\n",
              "      <th>Weight_Duration_Heart</th>\n",
              "      <th>Outliers_Duration_Heart_Temp</th>\n",
              "      <th>BMI_Age</th>\n",
              "      <th>Age_Group</th>\n",
              "    </tr>\n",
              "  </thead>\n",
              "  <tbody>\n",
              "    <tr>\n",
              "      <th>Train nunique</th>\n",
              "      <td>2</td>\n",
              "      <td>92</td>\n",
              "      <td>92</td>\n",
              "      <td>63</td>\n",
              "      <td>75</td>\n",
              "      <td>2201</td>\n",
              "      <td>11378</td>\n",
              "      <td>1102</td>\n",
              "      <td>21630</td>\n",
              "      <td>2</td>\n",
              "      <td>755720</td>\n",
              "      <td>7</td>\n",
              "    </tr>\n",
              "    <tr>\n",
              "      <th>Test nunique</th>\n",
              "      <td>2</td>\n",
              "      <td>85</td>\n",
              "      <td>84</td>\n",
              "      <td>61</td>\n",
              "      <td>51</td>\n",
              "      <td>1812</td>\n",
              "      <td>9097</td>\n",
              "      <td>973</td>\n",
              "      <td>19010</td>\n",
              "      <td>2</td>\n",
              "      <td>248943</td>\n",
              "      <td>7</td>\n",
              "    </tr>\n",
              "    <tr>\n",
              "      <th>Train null</th>\n",
              "      <td>0</td>\n",
              "      <td>0</td>\n",
              "      <td>0</td>\n",
              "      <td>0</td>\n",
              "      <td>0</td>\n",
              "      <td>0</td>\n",
              "      <td>0</td>\n",
              "      <td>0</td>\n",
              "      <td>0</td>\n",
              "      <td>0</td>\n",
              "      <td>0</td>\n",
              "      <td>0</td>\n",
              "    </tr>\n",
              "    <tr>\n",
              "      <th>Test null</th>\n",
              "      <td>0</td>\n",
              "      <td>0</td>\n",
              "      <td>0</td>\n",
              "      <td>0</td>\n",
              "      <td>0</td>\n",
              "      <td>0</td>\n",
              "      <td>0</td>\n",
              "      <td>0</td>\n",
              "      <td>0</td>\n",
              "      <td>0</td>\n",
              "      <td>0</td>\n",
              "      <td>0</td>\n",
              "    </tr>\n",
              "  </tbody>\n",
              "</table>\n",
              "</div>\n",
              "    <div class=\"colab-df-buttons\">\n",
              "\n",
              "  <div class=\"colab-df-container\">\n",
              "    <button class=\"colab-df-convert\" onclick=\"convertToInteractive('df-2a13a39d-8b4c-4b03-b30b-286524fd3ed0')\"\n",
              "            title=\"Convert this dataframe to an interactive table.\"\n",
              "            style=\"display:none;\">\n",
              "\n",
              "  <svg xmlns=\"http://www.w3.org/2000/svg\" height=\"24px\" viewBox=\"0 -960 960 960\">\n",
              "    <path d=\"M120-120v-720h720v720H120Zm60-500h600v-160H180v160Zm220 220h160v-160H400v160Zm0 220h160v-160H400v160ZM180-400h160v-160H180v160Zm440 0h160v-160H620v160ZM180-180h160v-160H180v160Zm440 0h160v-160H620v160Z\"/>\n",
              "  </svg>\n",
              "    </button>\n",
              "\n",
              "  <style>\n",
              "    .colab-df-container {\n",
              "      display:flex;\n",
              "      gap: 12px;\n",
              "    }\n",
              "\n",
              "    .colab-df-convert {\n",
              "      background-color: #E8F0FE;\n",
              "      border: none;\n",
              "      border-radius: 50%;\n",
              "      cursor: pointer;\n",
              "      display: none;\n",
              "      fill: #1967D2;\n",
              "      height: 32px;\n",
              "      padding: 0 0 0 0;\n",
              "      width: 32px;\n",
              "    }\n",
              "\n",
              "    .colab-df-convert:hover {\n",
              "      background-color: #E2EBFA;\n",
              "      box-shadow: 0px 1px 2px rgba(60, 64, 67, 0.3), 0px 1px 3px 1px rgba(60, 64, 67, 0.15);\n",
              "      fill: #174EA6;\n",
              "    }\n",
              "\n",
              "    .colab-df-buttons div {\n",
              "      margin-bottom: 4px;\n",
              "    }\n",
              "\n",
              "    [theme=dark] .colab-df-convert {\n",
              "      background-color: #3B4455;\n",
              "      fill: #D2E3FC;\n",
              "    }\n",
              "\n",
              "    [theme=dark] .colab-df-convert:hover {\n",
              "      background-color: #434B5C;\n",
              "      box-shadow: 0px 1px 3px 1px rgba(0, 0, 0, 0.15);\n",
              "      filter: drop-shadow(0px 1px 2px rgba(0, 0, 0, 0.3));\n",
              "      fill: #FFFFFF;\n",
              "    }\n",
              "  </style>\n",
              "\n",
              "    <script>\n",
              "      const buttonEl =\n",
              "        document.querySelector('#df-2a13a39d-8b4c-4b03-b30b-286524fd3ed0 button.colab-df-convert');\n",
              "      buttonEl.style.display =\n",
              "        google.colab.kernel.accessAllowed ? 'block' : 'none';\n",
              "\n",
              "      async function convertToInteractive(key) {\n",
              "        const element = document.querySelector('#df-2a13a39d-8b4c-4b03-b30b-286524fd3ed0');\n",
              "        const dataTable =\n",
              "          await google.colab.kernel.invokeFunction('convertToInteractive',\n",
              "                                                    [key], {});\n",
              "        if (!dataTable) return;\n",
              "\n",
              "        const docLinkHtml = 'Like what you see? Visit the ' +\n",
              "          '<a target=\"_blank\" href=https://colab.research.google.com/notebooks/data_table.ipynb>data table notebook</a>'\n",
              "          + ' to learn more about interactive tables.';\n",
              "        element.innerHTML = '';\n",
              "        dataTable['output_type'] = 'display_data';\n",
              "        await google.colab.output.renderOutput(dataTable, element);\n",
              "        const docLink = document.createElement('div');\n",
              "        docLink.innerHTML = docLinkHtml;\n",
              "        element.appendChild(docLink);\n",
              "      }\n",
              "    </script>\n",
              "  </div>\n",
              "\n",
              "\n",
              "    <div id=\"df-292ab2c4-a855-4f0c-8d9b-72c83155220f\">\n",
              "      <button class=\"colab-df-quickchart\" onclick=\"quickchart('df-292ab2c4-a855-4f0c-8d9b-72c83155220f')\"\n",
              "                title=\"Suggest charts\"\n",
              "                style=\"display:none;\">\n",
              "\n",
              "<svg xmlns=\"http://www.w3.org/2000/svg\" height=\"24px\"viewBox=\"0 0 24 24\"\n",
              "     width=\"24px\">\n",
              "    <g>\n",
              "        <path d=\"M19 3H5c-1.1 0-2 .9-2 2v14c0 1.1.9 2 2 2h14c1.1 0 2-.9 2-2V5c0-1.1-.9-2-2-2zM9 17H7v-7h2v7zm4 0h-2V7h2v10zm4 0h-2v-4h2v4z\"/>\n",
              "    </g>\n",
              "</svg>\n",
              "      </button>\n",
              "\n",
              "<style>\n",
              "  .colab-df-quickchart {\n",
              "      --bg-color: #E8F0FE;\n",
              "      --fill-color: #1967D2;\n",
              "      --hover-bg-color: #E2EBFA;\n",
              "      --hover-fill-color: #174EA6;\n",
              "      --disabled-fill-color: #AAA;\n",
              "      --disabled-bg-color: #DDD;\n",
              "  }\n",
              "\n",
              "  [theme=dark] .colab-df-quickchart {\n",
              "      --bg-color: #3B4455;\n",
              "      --fill-color: #D2E3FC;\n",
              "      --hover-bg-color: #434B5C;\n",
              "      --hover-fill-color: #FFFFFF;\n",
              "      --disabled-bg-color: #3B4455;\n",
              "      --disabled-fill-color: #666;\n",
              "  }\n",
              "\n",
              "  .colab-df-quickchart {\n",
              "    background-color: var(--bg-color);\n",
              "    border: none;\n",
              "    border-radius: 50%;\n",
              "    cursor: pointer;\n",
              "    display: none;\n",
              "    fill: var(--fill-color);\n",
              "    height: 32px;\n",
              "    padding: 0;\n",
              "    width: 32px;\n",
              "  }\n",
              "\n",
              "  .colab-df-quickchart:hover {\n",
              "    background-color: var(--hover-bg-color);\n",
              "    box-shadow: 0 1px 2px rgba(60, 64, 67, 0.3), 0 1px 3px 1px rgba(60, 64, 67, 0.15);\n",
              "    fill: var(--button-hover-fill-color);\n",
              "  }\n",
              "\n",
              "  .colab-df-quickchart-complete:disabled,\n",
              "  .colab-df-quickchart-complete:disabled:hover {\n",
              "    background-color: var(--disabled-bg-color);\n",
              "    fill: var(--disabled-fill-color);\n",
              "    box-shadow: none;\n",
              "  }\n",
              "\n",
              "  .colab-df-spinner {\n",
              "    border: 2px solid var(--fill-color);\n",
              "    border-color: transparent;\n",
              "    border-bottom-color: var(--fill-color);\n",
              "    animation:\n",
              "      spin 1s steps(1) infinite;\n",
              "  }\n",
              "\n",
              "  @keyframes spin {\n",
              "    0% {\n",
              "      border-color: transparent;\n",
              "      border-bottom-color: var(--fill-color);\n",
              "      border-left-color: var(--fill-color);\n",
              "    }\n",
              "    20% {\n",
              "      border-color: transparent;\n",
              "      border-left-color: var(--fill-color);\n",
              "      border-top-color: var(--fill-color);\n",
              "    }\n",
              "    30% {\n",
              "      border-color: transparent;\n",
              "      border-left-color: var(--fill-color);\n",
              "      border-top-color: var(--fill-color);\n",
              "      border-right-color: var(--fill-color);\n",
              "    }\n",
              "    40% {\n",
              "      border-color: transparent;\n",
              "      border-right-color: var(--fill-color);\n",
              "      border-top-color: var(--fill-color);\n",
              "    }\n",
              "    60% {\n",
              "      border-color: transparent;\n",
              "      border-right-color: var(--fill-color);\n",
              "    }\n",
              "    80% {\n",
              "      border-color: transparent;\n",
              "      border-right-color: var(--fill-color);\n",
              "      border-bottom-color: var(--fill-color);\n",
              "    }\n",
              "    90% {\n",
              "      border-color: transparent;\n",
              "      border-bottom-color: var(--fill-color);\n",
              "    }\n",
              "  }\n",
              "</style>\n",
              "\n",
              "      <script>\n",
              "        async function quickchart(key) {\n",
              "          const quickchartButtonEl =\n",
              "            document.querySelector('#' + key + ' button');\n",
              "          quickchartButtonEl.disabled = true;  // To prevent multiple clicks.\n",
              "          quickchartButtonEl.classList.add('colab-df-spinner');\n",
              "          try {\n",
              "            const charts = await google.colab.kernel.invokeFunction(\n",
              "                'suggestCharts', [key], {});\n",
              "          } catch (error) {\n",
              "            console.error('Error during call to suggestCharts:', error);\n",
              "          }\n",
              "          quickchartButtonEl.classList.remove('colab-df-spinner');\n",
              "          quickchartButtonEl.classList.add('colab-df-quickchart-complete');\n",
              "        }\n",
              "        (() => {\n",
              "          let quickchartButtonEl =\n",
              "            document.querySelector('#df-292ab2c4-a855-4f0c-8d9b-72c83155220f button');\n",
              "          quickchartButtonEl.style.display =\n",
              "            google.colab.kernel.accessAllowed ? 'block' : 'none';\n",
              "        })();\n",
              "      </script>\n",
              "    </div>\n",
              "\n",
              "    </div>\n",
              "  </div>\n"
            ],
            "application/vnd.google.colaboratory.intrinsic+json": {
              "type": "dataframe",
              "summary": "{\n  \"name\": \"data\",\n  \"rows\": 4,\n  \"fields\": [\n    {\n      \"column\": \"Sex\",\n      \"properties\": {\n        \"dtype\": \"number\",\n        \"std\": 1,\n        \"min\": 0,\n        \"max\": 2,\n        \"num_unique_values\": 2,\n        \"samples\": [\n          0,\n          2\n        ],\n        \"semantic_type\": \"\",\n        \"description\": \"\"\n      }\n    },\n    {\n      \"column\": \"Height\",\n      \"properties\": {\n        \"dtype\": \"number\",\n        \"std\": 51,\n        \"min\": 0,\n        \"max\": 92,\n        \"num_unique_values\": 3,\n        \"samples\": [\n          92,\n          85\n        ],\n        \"semantic_type\": \"\",\n        \"description\": \"\"\n      }\n    },\n    {\n      \"column\": \"Weight\",\n      \"properties\": {\n        \"dtype\": \"number\",\n        \"std\": 50,\n        \"min\": 0,\n        \"max\": 92,\n        \"num_unique_values\": 3,\n        \"samples\": [\n          92,\n          84\n        ],\n        \"semantic_type\": \"\",\n        \"description\": \"\"\n      }\n    },\n    {\n      \"column\": \"Heart_Rate\",\n      \"properties\": {\n        \"dtype\": \"number\",\n        \"std\": 35,\n        \"min\": 0,\n        \"max\": 63,\n        \"num_unique_values\": 3,\n        \"samples\": [\n          63,\n          61\n        ],\n        \"semantic_type\": \"\",\n        \"description\": \"\"\n      }\n    },\n    {\n      \"column\": \"Body_Temp\",\n      \"properties\": {\n        \"dtype\": \"number\",\n        \"std\": 37,\n        \"min\": 0,\n        \"max\": 75,\n        \"num_unique_values\": 3,\n        \"samples\": [\n          75,\n          51\n        ],\n        \"semantic_type\": \"\",\n        \"description\": \"\"\n      }\n    },\n    {\n      \"column\": \"BMI\",\n      \"properties\": {\n        \"dtype\": \"number\",\n        \"std\": 1169,\n        \"min\": 0,\n        \"max\": 2201,\n        \"num_unique_values\": 3,\n        \"samples\": [\n          2201,\n          1812\n        ],\n        \"semantic_type\": \"\",\n        \"description\": \"\"\n      }\n    },\n    {\n      \"column\": \"Intensity\",\n      \"properties\": {\n        \"dtype\": \"number\",\n        \"std\": 5983,\n        \"min\": 0,\n        \"max\": 11378,\n        \"num_unique_values\": 3,\n        \"samples\": [\n          11378,\n          9097\n        ],\n        \"semantic_type\": \"\",\n        \"description\": \"\"\n      }\n    },\n    {\n      \"column\": \"Heart_Duration\",\n      \"properties\": {\n        \"dtype\": \"number\",\n        \"std\": 601,\n        \"min\": 0,\n        \"max\": 1102,\n        \"num_unique_values\": 3,\n        \"samples\": [\n          1102,\n          973\n        ],\n        \"semantic_type\": \"\",\n        \"description\": \"\"\n      }\n    },\n    {\n      \"column\": \"Weight_Duration_Heart\",\n      \"properties\": {\n        \"dtype\": \"number\",\n        \"std\": 11780,\n        \"min\": 0,\n        \"max\": 21630,\n        \"num_unique_values\": 3,\n        \"samples\": [\n          21630,\n          19010\n        ],\n        \"semantic_type\": \"\",\n        \"description\": \"\"\n      }\n    },\n    {\n      \"column\": \"Outliers_Duration_Heart_Temp\",\n      \"properties\": {\n        \"dtype\": \"number\",\n        \"std\": 1,\n        \"min\": 0,\n        \"max\": 2,\n        \"num_unique_values\": 2,\n        \"samples\": [\n          0,\n          2\n        ],\n        \"semantic_type\": \"\",\n        \"description\": \"\"\n      }\n    },\n    {\n      \"column\": \"BMI_Age\",\n      \"properties\": {\n        \"dtype\": \"number\",\n        \"std\": 356252,\n        \"min\": 0,\n        \"max\": 755720,\n        \"num_unique_values\": 3,\n        \"samples\": [\n          755720,\n          248943\n        ],\n        \"semantic_type\": \"\",\n        \"description\": \"\"\n      }\n    },\n    {\n      \"column\": \"Age_Group\",\n      \"properties\": {\n        \"dtype\": \"number\",\n        \"std\": 4,\n        \"min\": 0,\n        \"max\": 7,\n        \"num_unique_values\": 2,\n        \"samples\": [\n          0,\n          7\n        ],\n        \"semantic_type\": \"\",\n        \"description\": \"\"\n      }\n    }\n  ]\n}"
            }
          },
          "metadata": {}
        },
        {
          "output_type": "stream",
          "name": "stdout",
          "text": [
            "______________________________________________________________________\n",
            "\n",
            "     ➩ 𝐃𝐮𝐩𝐥𝐢𝐜𝐚𝐭𝐞𝐬 \n"
          ]
        },
        {
          "output_type": "display_data",
          "data": {
            "text/plain": [
              "'Train duplicated: 2893'"
            ],
            "application/vnd.google.colaboratory.intrinsic+json": {
              "type": "string"
            }
          },
          "metadata": {}
        },
        {
          "output_type": "display_data",
          "data": {
            "text/plain": [
              "'Test duplicated: 918'"
            ],
            "application/vnd.google.colaboratory.intrinsic+json": {
              "type": "string"
            }
          },
          "metadata": {}
        },
        {
          "output_type": "stream",
          "name": "stdout",
          "text": [
            "______________________________________________________________________\n",
            "\n",
            "     ➩ 𝐍𝐮𝐧𝐢𝐪𝐮𝐞 𝐢𝐧 𝐭𝐫𝐚𝐢𝐧 𝐧𝐨𝐭 𝐢𝐧 𝐭𝐞𝐬𝐭/𝐢𝐧 𝐭𝐞𝐬𝐭 𝐧𝐨𝐭 𝐢𝐧 𝐭𝐫𝐚𝐢𝐧 \n"
          ]
        },
        {
          "output_type": "display_data",
          "data": {
            "text/plain": [
              "                      Sex  Outliers_Duration_Heart_Temp  Age_Group\n",
              "in train not in test    0                             0          0\n",
              "in test not in train    0                             0          0"
            ],
            "text/html": [
              "\n",
              "  <div id=\"df-1a4498b3-71ee-4f9f-9c22-613b2d14fd6b\" class=\"colab-df-container\">\n",
              "    <div>\n",
              "<style scoped>\n",
              "    .dataframe tbody tr th:only-of-type {\n",
              "        vertical-align: middle;\n",
              "    }\n",
              "\n",
              "    .dataframe tbody tr th {\n",
              "        vertical-align: top;\n",
              "    }\n",
              "\n",
              "    .dataframe thead th {\n",
              "        text-align: right;\n",
              "    }\n",
              "</style>\n",
              "<table border=\"1\" class=\"dataframe\">\n",
              "  <thead>\n",
              "    <tr style=\"text-align: right;\">\n",
              "      <th></th>\n",
              "      <th>Sex</th>\n",
              "      <th>Outliers_Duration_Heart_Temp</th>\n",
              "      <th>Age_Group</th>\n",
              "    </tr>\n",
              "  </thead>\n",
              "  <tbody>\n",
              "    <tr>\n",
              "      <th>in train not in test</th>\n",
              "      <td>0</td>\n",
              "      <td>0</td>\n",
              "      <td>0</td>\n",
              "    </tr>\n",
              "    <tr>\n",
              "      <th>in test not in train</th>\n",
              "      <td>0</td>\n",
              "      <td>0</td>\n",
              "      <td>0</td>\n",
              "    </tr>\n",
              "  </tbody>\n",
              "</table>\n",
              "</div>\n",
              "    <div class=\"colab-df-buttons\">\n",
              "\n",
              "  <div class=\"colab-df-container\">\n",
              "    <button class=\"colab-df-convert\" onclick=\"convertToInteractive('df-1a4498b3-71ee-4f9f-9c22-613b2d14fd6b')\"\n",
              "            title=\"Convert this dataframe to an interactive table.\"\n",
              "            style=\"display:none;\">\n",
              "\n",
              "  <svg xmlns=\"http://www.w3.org/2000/svg\" height=\"24px\" viewBox=\"0 -960 960 960\">\n",
              "    <path d=\"M120-120v-720h720v720H120Zm60-500h600v-160H180v160Zm220 220h160v-160H400v160Zm0 220h160v-160H400v160ZM180-400h160v-160H180v160Zm440 0h160v-160H620v160ZM180-180h160v-160H180v160Zm440 0h160v-160H620v160Z\"/>\n",
              "  </svg>\n",
              "    </button>\n",
              "\n",
              "  <style>\n",
              "    .colab-df-container {\n",
              "      display:flex;\n",
              "      gap: 12px;\n",
              "    }\n",
              "\n",
              "    .colab-df-convert {\n",
              "      background-color: #E8F0FE;\n",
              "      border: none;\n",
              "      border-radius: 50%;\n",
              "      cursor: pointer;\n",
              "      display: none;\n",
              "      fill: #1967D2;\n",
              "      height: 32px;\n",
              "      padding: 0 0 0 0;\n",
              "      width: 32px;\n",
              "    }\n",
              "\n",
              "    .colab-df-convert:hover {\n",
              "      background-color: #E2EBFA;\n",
              "      box-shadow: 0px 1px 2px rgba(60, 64, 67, 0.3), 0px 1px 3px 1px rgba(60, 64, 67, 0.15);\n",
              "      fill: #174EA6;\n",
              "    }\n",
              "\n",
              "    .colab-df-buttons div {\n",
              "      margin-bottom: 4px;\n",
              "    }\n",
              "\n",
              "    [theme=dark] .colab-df-convert {\n",
              "      background-color: #3B4455;\n",
              "      fill: #D2E3FC;\n",
              "    }\n",
              "\n",
              "    [theme=dark] .colab-df-convert:hover {\n",
              "      background-color: #434B5C;\n",
              "      box-shadow: 0px 1px 3px 1px rgba(0, 0, 0, 0.15);\n",
              "      filter: drop-shadow(0px 1px 2px rgba(0, 0, 0, 0.3));\n",
              "      fill: #FFFFFF;\n",
              "    }\n",
              "  </style>\n",
              "\n",
              "    <script>\n",
              "      const buttonEl =\n",
              "        document.querySelector('#df-1a4498b3-71ee-4f9f-9c22-613b2d14fd6b button.colab-df-convert');\n",
              "      buttonEl.style.display =\n",
              "        google.colab.kernel.accessAllowed ? 'block' : 'none';\n",
              "\n",
              "      async function convertToInteractive(key) {\n",
              "        const element = document.querySelector('#df-1a4498b3-71ee-4f9f-9c22-613b2d14fd6b');\n",
              "        const dataTable =\n",
              "          await google.colab.kernel.invokeFunction('convertToInteractive',\n",
              "                                                    [key], {});\n",
              "        if (!dataTable) return;\n",
              "\n",
              "        const docLinkHtml = 'Like what you see? Visit the ' +\n",
              "          '<a target=\"_blank\" href=https://colab.research.google.com/notebooks/data_table.ipynb>data table notebook</a>'\n",
              "          + ' to learn more about interactive tables.';\n",
              "        element.innerHTML = '';\n",
              "        dataTable['output_type'] = 'display_data';\n",
              "        await google.colab.output.renderOutput(dataTable, element);\n",
              "        const docLink = document.createElement('div');\n",
              "        docLink.innerHTML = docLinkHtml;\n",
              "        element.appendChild(docLink);\n",
              "      }\n",
              "    </script>\n",
              "  </div>\n",
              "\n",
              "\n",
              "    <div id=\"df-ef731940-55c1-4193-924d-3f604dd107d5\">\n",
              "      <button class=\"colab-df-quickchart\" onclick=\"quickchart('df-ef731940-55c1-4193-924d-3f604dd107d5')\"\n",
              "                title=\"Suggest charts\"\n",
              "                style=\"display:none;\">\n",
              "\n",
              "<svg xmlns=\"http://www.w3.org/2000/svg\" height=\"24px\"viewBox=\"0 0 24 24\"\n",
              "     width=\"24px\">\n",
              "    <g>\n",
              "        <path d=\"M19 3H5c-1.1 0-2 .9-2 2v14c0 1.1.9 2 2 2h14c1.1 0 2-.9 2-2V5c0-1.1-.9-2-2-2zM9 17H7v-7h2v7zm4 0h-2V7h2v10zm4 0h-2v-4h2v4z\"/>\n",
              "    </g>\n",
              "</svg>\n",
              "      </button>\n",
              "\n",
              "<style>\n",
              "  .colab-df-quickchart {\n",
              "      --bg-color: #E8F0FE;\n",
              "      --fill-color: #1967D2;\n",
              "      --hover-bg-color: #E2EBFA;\n",
              "      --hover-fill-color: #174EA6;\n",
              "      --disabled-fill-color: #AAA;\n",
              "      --disabled-bg-color: #DDD;\n",
              "  }\n",
              "\n",
              "  [theme=dark] .colab-df-quickchart {\n",
              "      --bg-color: #3B4455;\n",
              "      --fill-color: #D2E3FC;\n",
              "      --hover-bg-color: #434B5C;\n",
              "      --hover-fill-color: #FFFFFF;\n",
              "      --disabled-bg-color: #3B4455;\n",
              "      --disabled-fill-color: #666;\n",
              "  }\n",
              "\n",
              "  .colab-df-quickchart {\n",
              "    background-color: var(--bg-color);\n",
              "    border: none;\n",
              "    border-radius: 50%;\n",
              "    cursor: pointer;\n",
              "    display: none;\n",
              "    fill: var(--fill-color);\n",
              "    height: 32px;\n",
              "    padding: 0;\n",
              "    width: 32px;\n",
              "  }\n",
              "\n",
              "  .colab-df-quickchart:hover {\n",
              "    background-color: var(--hover-bg-color);\n",
              "    box-shadow: 0 1px 2px rgba(60, 64, 67, 0.3), 0 1px 3px 1px rgba(60, 64, 67, 0.15);\n",
              "    fill: var(--button-hover-fill-color);\n",
              "  }\n",
              "\n",
              "  .colab-df-quickchart-complete:disabled,\n",
              "  .colab-df-quickchart-complete:disabled:hover {\n",
              "    background-color: var(--disabled-bg-color);\n",
              "    fill: var(--disabled-fill-color);\n",
              "    box-shadow: none;\n",
              "  }\n",
              "\n",
              "  .colab-df-spinner {\n",
              "    border: 2px solid var(--fill-color);\n",
              "    border-color: transparent;\n",
              "    border-bottom-color: var(--fill-color);\n",
              "    animation:\n",
              "      spin 1s steps(1) infinite;\n",
              "  }\n",
              "\n",
              "  @keyframes spin {\n",
              "    0% {\n",
              "      border-color: transparent;\n",
              "      border-bottom-color: var(--fill-color);\n",
              "      border-left-color: var(--fill-color);\n",
              "    }\n",
              "    20% {\n",
              "      border-color: transparent;\n",
              "      border-left-color: var(--fill-color);\n",
              "      border-top-color: var(--fill-color);\n",
              "    }\n",
              "    30% {\n",
              "      border-color: transparent;\n",
              "      border-left-color: var(--fill-color);\n",
              "      border-top-color: var(--fill-color);\n",
              "      border-right-color: var(--fill-color);\n",
              "    }\n",
              "    40% {\n",
              "      border-color: transparent;\n",
              "      border-right-color: var(--fill-color);\n",
              "      border-top-color: var(--fill-color);\n",
              "    }\n",
              "    60% {\n",
              "      border-color: transparent;\n",
              "      border-right-color: var(--fill-color);\n",
              "    }\n",
              "    80% {\n",
              "      border-color: transparent;\n",
              "      border-right-color: var(--fill-color);\n",
              "      border-bottom-color: var(--fill-color);\n",
              "    }\n",
              "    90% {\n",
              "      border-color: transparent;\n",
              "      border-bottom-color: var(--fill-color);\n",
              "    }\n",
              "  }\n",
              "</style>\n",
              "\n",
              "      <script>\n",
              "        async function quickchart(key) {\n",
              "          const quickchartButtonEl =\n",
              "            document.querySelector('#' + key + ' button');\n",
              "          quickchartButtonEl.disabled = true;  // To prevent multiple clicks.\n",
              "          quickchartButtonEl.classList.add('colab-df-spinner');\n",
              "          try {\n",
              "            const charts = await google.colab.kernel.invokeFunction(\n",
              "                'suggestCharts', [key], {});\n",
              "          } catch (error) {\n",
              "            console.error('Error during call to suggestCharts:', error);\n",
              "          }\n",
              "          quickchartButtonEl.classList.remove('colab-df-spinner');\n",
              "          quickchartButtonEl.classList.add('colab-df-quickchart-complete');\n",
              "        }\n",
              "        (() => {\n",
              "          let quickchartButtonEl =\n",
              "            document.querySelector('#df-ef731940-55c1-4193-924d-3f604dd107d5 button');\n",
              "          quickchartButtonEl.style.display =\n",
              "            google.colab.kernel.accessAllowed ? 'block' : 'none';\n",
              "        })();\n",
              "      </script>\n",
              "    </div>\n",
              "\n",
              "    </div>\n",
              "  </div>\n"
            ],
            "application/vnd.google.colaboratory.intrinsic+json": {
              "type": "dataframe",
              "summary": "{\n  \"name\": \"data\",\n  \"rows\": 2,\n  \"fields\": [\n    {\n      \"column\": \"Sex\",\n      \"properties\": {\n        \"dtype\": \"number\",\n        \"std\": 0,\n        \"min\": 0,\n        \"max\": 0,\n        \"num_unique_values\": 1,\n        \"samples\": [\n          0\n        ],\n        \"semantic_type\": \"\",\n        \"description\": \"\"\n      }\n    },\n    {\n      \"column\": \"Outliers_Duration_Heart_Temp\",\n      \"properties\": {\n        \"dtype\": \"number\",\n        \"std\": 0,\n        \"min\": 0,\n        \"max\": 0,\n        \"num_unique_values\": 1,\n        \"samples\": [\n          0\n        ],\n        \"semantic_type\": \"\",\n        \"description\": \"\"\n      }\n    },\n    {\n      \"column\": \"Age_Group\",\n      \"properties\": {\n        \"dtype\": \"number\",\n        \"std\": 0,\n        \"min\": 0,\n        \"max\": 0,\n        \"num_unique_values\": 1,\n        \"samples\": [\n          0\n        ],\n        \"semantic_type\": \"\",\n        \"description\": \"\"\n      }\n    }\n  ]\n}"
            }
          },
          "metadata": {}
        }
      ],
      "source": [
        "class CFG:\n",
        "    SEED    = 333\n",
        "    CV      = KFold(n_splits=15, shuffle=True, random_state=SEED)\n",
        "    VERSION = '1'\n",
        "\n",
        "class Data:\n",
        "    path       = False\n",
        "    or_path    = ''\n",
        "    to_drop    = False\n",
        "    target     = 'Calories'\n",
        "    drop_duplicates = False\n",
        "\n",
        "    def __init__(self):\n",
        "        self.train      = pd.read_csv(\"/content/drive/MyDrive/Exercises/Studies_Structured_Data/Data/S5E5/df_train_01.csv\",index_col=0).drop(columns=self.to_drop) if self.to_drop else pd.read_csv(\"/content/drive/MyDrive/Exercises/Studies_Structured_Data/Data/S5E5/df_train_01.csv\",index_col=0)\n",
        "        self.test       = pd.read_csv(\"/content/drive/MyDrive/Exercises/Studies_Structured_Data/Data/S5E5/df_test_01.csv\",index_col=0).drop(columns=self.to_drop) if self.to_drop else pd.read_csv(\"/content/drive/MyDrive/Exercises/Studies_Structured_Data/Data/S5E5/df_test_01.csv\",index_col=0)\n",
        "        self.submission = pd.read_csv(\"/content/drive/MyDrive/Exercises/Studies_Structured_Data/Data/S5E5/sample_submission.csv\",index_col=0)\n",
        "        self.original   = pd.read_csv(self.or_path) if self.or_path else pd.DataFrame()\n",
        "\n",
        "        self.train.loc[:,\"BMI\"] = np.clip(self.train.BMI, a_min=-5.0, a_max=5.0)\n",
        "        self.test.loc[:,\"BMI\"] = np.clip(self.test.BMI, a_min=-5.0, a_max=5.0)\n",
        "\n",
        "    @property\n",
        "    def X(self):\n",
        "        return self.train.drop(columns=self.target)\n",
        "    @property\n",
        "    def y(self):\n",
        "        return self.train[[self.target]]\n",
        "    @property\n",
        "    def X_test(self):\n",
        "        return self.test\n",
        "    @property\n",
        "    def X_original(self):\n",
        "        if len(self.original) != 0:\n",
        "            return self.original.drop(columns=self.target)\n",
        "        return pd.DataFrame()\n",
        "    @property\n",
        "    def y_original(self):\n",
        "        if len(self.original) != 0:\n",
        "            return self.original[[self.target]]\n",
        "        return pd.DataFrame()\n",
        "    @property\n",
        "    def cat_features(self):\n",
        "        return self.X.select_dtypes(include=['category', 'bool', 'category','int']).columns.to_list()\n",
        "    @property\n",
        "    def num_features(self):\n",
        "        return self.X.select_dtypes(exclude=['category', 'bool', 'category','int']).columns.to_list()\n",
        "\n",
        "    def submit(self, sub: np.ndarray, desc: str):\n",
        "        '''Submit the predictions in the adequate format'''\n",
        "        self.submission[self.target] = sub\n",
        "        self.submission.to_csv(f'SUB_{CFG.VERSION}_{desc}.csv', index=False)\n",
        "        print(colored('Submission has been made.', color='green', attrs=['bold', 'dark']))\n",
        "\n",
        "    @staticmethod\n",
        "    def sep_line():\n",
        "        print(colored(f'{\"_____\"*14}', color='black'))\n",
        "        print('')\n",
        "\n",
        "    @staticmethod\n",
        "    def head(head_text):\n",
        "        print(colored(f'{\"    \"} ➩ {head_text} ', color='green', attrs=['dark']))\n",
        "\n",
        "    def display_data(self):\n",
        "        self.head(f'𝐃𝐚𝐭𝐚𝐬𝐞𝐭 𝐬𝐡𝐚𝐩𝐞𝐬 — 𝐓𝐫𝐚𝐢𝐧 | 𝐓𝐞𝐬𝐭: {self.train.shape} | {self.test.shape}')\n",
        "        self.sep_line()\n",
        "\n",
        "        self.head('𝐓𝐫𝐚𝐢𝐧 𝐡𝐞𝐚𝐝')\n",
        "        display(self.train.head(5))\n",
        "        self.head('𝐓𝐞𝐬𝐭 𝐡𝐞𝐚𝐝')\n",
        "        display(self.test.head(5))\n",
        "        self.sep_line()\n",
        "\n",
        "        self.head('𝐓𝐫𝐚𝐢𝐧 𝐢𝐧𝐟𝐨')\n",
        "        display(self.train.info())\n",
        "        self.head('𝐓𝐞𝐬𝐭 𝐢𝐧𝐟𝐨')\n",
        "        display(self.test.info())\n",
        "        self.sep_line()\n",
        "\n",
        "        self.head('𝐓𝐫𝐚𝐢𝐧 𝐬𝐮𝐦𝐦𝐚𝐫𝐲 𝐬𝐭𝐚𝐭𝐬')\n",
        "        display(self.train.describe().T)\n",
        "        self.head('𝐓𝐞𝐬𝐭 𝐬𝐮𝐦𝐦𝐚𝐫𝐲 𝐬𝐭𝐚𝐭𝐬')\n",
        "        display(self.test.describe().T)\n",
        "        self.sep_line()\n",
        "\n",
        "        def nunique_null(train, test):\n",
        "            nunique_train, nunique_test = {}, {}\n",
        "            nulls_train, nulls_test = {}, {}\n",
        "\n",
        "            for col in test.columns:\n",
        "                nunique_train[col], nunique_test[col] = train[col].nunique(), test[col].nunique()\n",
        "                nulls_train[col], nulls_test[col] = train[col].isna().sum(), test[col].isna().sum()\n",
        "\n",
        "            df = pd.DataFrame([nunique_train, nunique_test,\n",
        "                               nulls_train, nulls_test],\n",
        "                              index=['Train nunique', 'Test nunique',\n",
        "                                     'Train null', 'Test null'])\n",
        "            return df\n",
        "\n",
        "        self.head('𝐍𝐮𝐧𝐢𝐪𝐮𝐞 𝐚𝐧𝐝 𝐧𝐮𝐥𝐥𝐬')\n",
        "        display(nunique_null(self.train, self.test))\n",
        "        self.sep_line()\n",
        "\n",
        "        self.head('𝐃𝐮𝐩𝐥𝐢𝐜𝐚𝐭𝐞𝐬')\n",
        "        display(f'Train duplicated: {self.train.duplicated().sum()}')\n",
        "        display(f'Test duplicated: {self.test.duplicated().sum()}')\n",
        "\n",
        "        if self.drop_duplicates==True:\n",
        "          if self.train.duplicated().sum() > 0:\n",
        "              self.train = self.train.drop_duplicates()\n",
        "              print('Train duplicates dropped.')\n",
        "          if self.test.duplicated().sum() > 0:\n",
        "              #self.test = self.test.drop_duplicates()\n",
        "              print('Test duplicates dropped.')\n",
        "        self.sep_line()\n",
        "\n",
        "        self.head('𝐍𝐮𝐧𝐢𝐪𝐮𝐞 𝐢𝐧 𝐭𝐫𝐚𝐢𝐧 𝐧𝐨𝐭 𝐢𝐧 𝐭𝐞𝐬𝐭/𝐢𝐧 𝐭𝐞𝐬𝐭 𝐧𝐨𝐭 𝐢𝐧 𝐭𝐫𝐚𝐢𝐧')\n",
        "        cat_cols = [c for c in self.test.columns if self.train[c].nunique() <= 40 or\n",
        "                    c in self.test.select_dtypes(include=['object', 'category']).columns]\n",
        "\n",
        "        def compare_unique_categories(train, test, cat_cols):\n",
        "            unique_train_dic, unique_test_dic = {}, {}\n",
        "\n",
        "            for c in cat_cols:\n",
        "                unique_train_c = train[c].unique()\n",
        "                unique_test_c = test[c].unique()\n",
        "\n",
        "                count_tr = sum(1 for cat in unique_train_c if cat not in unique_test_c and not pd.isna(cat))\n",
        "                count_te = sum(1 for cat in unique_test_c if (cat not in unique_train_c and not pd.isna(cat)))\n",
        "\n",
        "                unique_train_dic[c] = count_tr\n",
        "                unique_test_dic[c] = count_te\n",
        "\n",
        "            result_df = pd.DataFrame([unique_train_dic, unique_test_dic],\n",
        "                                     index=['in train not in test', 'in test not in train'])\n",
        "\n",
        "            return result_df\n",
        "\n",
        "        display(compare_unique_categories(self.train, self.test, cat_cols))\n",
        "\n",
        "data = Data()\n",
        "data.display_data()"
      ]
    },
    {
      "cell_type": "code",
      "execution_count": 16,
      "metadata": {
        "id": "4-BfljxHg43C",
        "colab": {
          "base_uri": "https://localhost:8080/"
        },
        "outputId": "b10af44e-8bbb-45e4-bd99-da4041699bdc"
      },
      "outputs": [
        {
          "output_type": "execute_result",
          "data": {
            "text/plain": [
              "((765000, 12), (765000, 1), (250000, 12))"
            ]
          },
          "metadata": {},
          "execution_count": 16
        }
      ],
      "source": [
        "data.X.shape, data.y.shape, data.X_test.shape"
      ]
    },
    {
      "cell_type": "code",
      "execution_count": 17,
      "metadata": {
        "id": "kEtWXl_ThCwp",
        "colab": {
          "base_uri": "https://localhost:8080/"
        },
        "outputId": "c7c2fa6a-fe40-4c61-d797-4d0b2370feb8"
      },
      "outputs": [
        {
          "output_type": "stream",
          "name": "stdout",
          "text": [
            "['Sex', 'Outliers_Duration_Heart_Temp', 'Age_Group']\n"
          ]
        }
      ],
      "source": [
        "print(data.cat_features)"
      ]
    },
    {
      "cell_type": "code",
      "execution_count": 18,
      "metadata": {
        "id": "uuFOKAjRPsMb"
      },
      "outputs": [],
      "source": [
        "#plot_scatter(pd.concat([data.X,data.y],axis=1), x=\"BMI\", y=\"Intensity\", color_feature=\"Calories\")"
      ]
    },
    {
      "cell_type": "code",
      "execution_count": 19,
      "metadata": {
        "id": "73sGT_yqY8G2",
        "colab": {
          "base_uri": "https://localhost:8080/"
        },
        "outputId": "13771778-cfac-4858-d8be-87aeb9ad7170"
      },
      "outputs": [
        {
          "output_type": "stream",
          "name": "stdout",
          "text": [
            "<class 'pandas.core.frame.DataFrame'>\n",
            "Index: 765000 entries, 0 to 1014999\n",
            "Data columns (total 12 columns):\n",
            " #   Column                        Non-Null Count   Dtype  \n",
            "---  ------                        --------------   -----  \n",
            " 0   Sex                           765000 non-null  int64  \n",
            " 1   Height                        765000 non-null  float64\n",
            " 2   Weight                        765000 non-null  float64\n",
            " 3   Heart_Rate                    765000 non-null  float64\n",
            " 4   Body_Temp                     765000 non-null  float64\n",
            " 5   BMI                           765000 non-null  float64\n",
            " 6   Intensity                     765000 non-null  float64\n",
            " 7   Heart_Duration                765000 non-null  float64\n",
            " 8   Weight_Duration_Heart         765000 non-null  float64\n",
            " 9   Outliers_Duration_Heart_Temp  765000 non-null  int64  \n",
            " 10  BMI_Age                       765000 non-null  float64\n",
            " 11  Age_Group                     765000 non-null  int64  \n",
            "dtypes: float64(9), int64(3)\n",
            "memory usage: 75.9 MB\n",
            "<class 'pandas.core.frame.DataFrame'>\n",
            "Index: 250000 entries, 750000 to 999999\n",
            "Data columns (total 12 columns):\n",
            " #   Column                        Non-Null Count   Dtype  \n",
            "---  ------                        --------------   -----  \n",
            " 0   Sex                           250000 non-null  int64  \n",
            " 1   Height                        250000 non-null  float64\n",
            " 2   Weight                        250000 non-null  float64\n",
            " 3   Heart_Rate                    250000 non-null  float64\n",
            " 4   Body_Temp                     250000 non-null  float64\n",
            " 5   BMI                           250000 non-null  float64\n",
            " 6   Intensity                     250000 non-null  float64\n",
            " 7   Heart_Duration                250000 non-null  float64\n",
            " 8   Weight_Duration_Heart         250000 non-null  float64\n",
            " 9   Outliers_Duration_Heart_Temp  250000 non-null  int64  \n",
            " 10  BMI_Age                       250000 non-null  float64\n",
            " 11  Age_Group                     250000 non-null  int64  \n",
            "dtypes: float64(9), int64(3)\n",
            "memory usage: 24.8 MB\n"
          ]
        },
        {
          "output_type": "execute_result",
          "data": {
            "text/plain": [
              "(None, None)"
            ]
          },
          "metadata": {},
          "execution_count": 19
        }
      ],
      "source": [
        "data.X.info(),data.X_test.info()"
      ]
    },
    {
      "cell_type": "code",
      "execution_count": 20,
      "metadata": {
        "id": "K8cT8NgpwQin"
      },
      "outputs": [],
      "source": [
        "data.X_test.shape, data.y.shape\n",
        "\n",
        "y_test_fic = data.y[:len(data.X_test)].copy()\n",
        "y_test_fic[\"Calories\"]=np.nan"
      ]
    },
    {
      "cell_type": "markdown",
      "metadata": {
        "id": "7OZ_SPtJ1KTg"
      },
      "source": [
        "# 2.0 Neural Networks:\n"
      ]
    },
    {
      "cell_type": "code",
      "execution_count": 21,
      "metadata": {
        "id": "xv1gjhxRLK0I"
      },
      "outputs": [],
      "source": [
        "def dataframe_to_dataset(dataframe, target, categorical_features, numerical_features, shuffle=False, batch_size=32):\n",
        "    dataframe = dataframe.copy()\n",
        "    ds = tf.data.Dataset.from_tensor_slices(((dataframe[categorical_features].values,  # First input\n",
        "                                              dataframe[numerical_features].values),\n",
        "                                              target))\n",
        "\n",
        "    if shuffle:\n",
        "      ds = ds.shuffle(buffer_size=len(dataframe))\n",
        "\n",
        "    ds = ds.batch(batch_size)\n",
        "    ds = ds.prefetch(batch_size)\n",
        "\n",
        "    return ds\n",
        "\n",
        "def dataframe_to_dataset_test(dataframe, target_finc, categorical_features, numerical_features, batch_size=32):\n",
        "    dataframe = dataframe.copy()\n",
        "    ds = tf.data.Dataset.from_tensor_slices(((dataframe[categorical_features].values,  # First input\n",
        "                                              dataframe[numerical_features].values),\n",
        "                                              target_finc))\n",
        "\n",
        "    ds = ds.batch(batch_size)\n",
        "    ds = ds.prefetch(batch_size)\n",
        "\n",
        "    return ds"
      ]
    },
    {
      "cell_type": "code",
      "execution_count": 22,
      "metadata": {
        "id": "1NQnrDo9ten6"
      },
      "outputs": [],
      "source": [
        "def plot_training_session(history):\n",
        "  # Plot training and validation loss scores\n",
        "  # against the number of epochs.\n",
        "  plt.figure(figsize=(8, 6))\n",
        "  plt.plot(history.history['loss'], label='Train')\n",
        "  plt.plot(history.history['val_loss'], label='Validation')\n",
        "  plt.grid(linestyle='--')\n",
        "  plt.ylabel('val_loss')\n",
        "  plt.xlabel('Epoch')\n",
        "  plt.title('Train-Validation Scores', pad=13)\n",
        "  plt.legend(loc='upper right');\n",
        "  plt.show()\n",
        "\n",
        "def rmsle(y_true, y_pred):\n",
        "    \"\"\"\n",
        "    Root Mean Squared Logarithmic Error (RMSLE)\n",
        "    \"\"\"\n",
        "    # Ensure y_pred is non-negative and add a small constant to avoid log(0) errors\n",
        "    y_pred = K.maximum(K.cast(y_pred, tf.float32), K.epsilon()) # Corrected: K.maximum\n",
        "\n",
        "    first_log = K.log(K.maximum(K.cast(y_pred, tf.float32), K.epsilon()) + 1.) # Corrected: K.maximum\n",
        "    second_log = K.log(K.maximum(K.cast(y_true, tf.float32), K.epsilon()) + 1.) # Corrected: K.maximum\n",
        "\n",
        "    return K.sqrt(K.mean(K.square(first_log - second_log)))\n",
        "\n",
        "# def rmsle(y_true, y_pred):\n",
        "#     \"\"\"\n",
        "#     Root Mean Squared Logarithm Error\n",
        "#     Args:\n",
        "#         y_true ([np.array]): test samples\n",
        "#         y_pred ([np.array]): predicted samples\n",
        "#     Returns:\n",
        "#         [float]: root mean squared logarithm error\n",
        "#     \"\"\"\n",
        "#     first_log = K.log(K.clip(y_pred, K.epsilon(), None) + 1.)\n",
        "#     second_log = K.log(K.clip(y_true, K.epsilon(), None) + 1.)\n",
        "#     return K.sqrt(K.mean(K.square(first_log - second_log), axis=-1))"
      ]
    },
    {
      "cell_type": "code",
      "execution_count": 23,
      "metadata": {
        "id": "31P8f6EBmOwG"
      },
      "outputs": [],
      "source": [
        "class CFG:\n",
        "    SEED    = 333\n",
        "    CV      = KFold(n_splits=11, shuffle=True, random_state=SEED)\n",
        "    VERSION = '1'\n",
        "\n",
        "class TrainModels:\n",
        "    def __init__(self, X, y, X_test, test_finc_target, X_original, y_original, model_, parameters):\n",
        "        self.model     = model_\n",
        "        self.parameters = parameters\n",
        "        self.X          = X\n",
        "        self.y          = y\n",
        "        self.test_finc_target = test_finc_target\n",
        "        self.X_test     = X_test\n",
        "        self._OOF_train = pd.DataFrame()\n",
        "        self._OOF_test  = pd.DataFrame()\n",
        "        self.categorical_features = X.select_dtypes(include=['category', 'bool', 'category','int']).columns.to_list()\n",
        "        self.numerical_features = X.select_dtypes(exclude=['category', 'bool', 'category','int']).columns.to_list()\n",
        "\n",
        "    def fit_model(self, name=\"Base_model\"):\n",
        "        oof_train = np.zeros(self.X.shape[0])\n",
        "        oof_test  = np.zeros(self.X_test.shape[0])\n",
        "        scores_train = []\n",
        "        scores_val   = []\n",
        "\n",
        "        os.chdir('/content/drive/MyDrive/Exercises/Studies_Structured_Data/Models/S5E5/layers_3_staked_models')\n",
        "\n",
        "        train_start = 0\n",
        "\n",
        "        for fold, (train_idx, val_idx) in enumerate(CFG.CV.split(self.X, self.y)):\n",
        "            x_train, y_train = self.X.iloc[train_idx], self.y.iloc[train_idx]\n",
        "            x_val,   y_val   = self.X.iloc[val_idx],   self.y.iloc[val_idx]\n",
        "\n",
        "\n",
        "            train_ds = dataframe_to_dataset(x_train, y_train, self.categorical_features, self.numerical_features, shuffle=True, batch_size=1024)\n",
        "            val_ds = dataframe_to_dataset(x_val, y_val, self.categorical_features, self.numerical_features, shuffle=False, batch_size=1024)\n",
        "            test_ds = dataframe_to_dataset_test(self.X_test, self.test_finc_target, self.categorical_features, self.numerical_features, batch_size=1024)\n",
        "\n",
        "            model = self.model(**self.parameters)\n",
        "\n",
        "            optimizer = keras.optimizers.Adam(learning_rate=5e-4)\n",
        "            model.compile(optimizer=optimizer,\n",
        "                          loss=[rmsle, keras.losses.MeanSquaredLogarithmicError(name=\"msle\")],\n",
        "                          metrics=[rmsle, keras.metrics.RootMeanSquaredError(name=\"msle\")])\n",
        "\n",
        "            checkpoint_filepath = '/tmp/ckpt/checkpoint.weights.h5'\n",
        "            model_checkpoint_callback = keras.callbacks.ModelCheckpoint(\n",
        "                                                                        filepath=checkpoint_filepath,\n",
        "                                                                        save_weights_only=True,\n",
        "                                                                        monitor='val_rmsle',\n",
        "                                                                        mode='min',\n",
        "                                                                        save_best_only=True\n",
        "                                                                        )\n",
        "            if fold >= train_start:\n",
        "              # Fit the model\n",
        "              history = model.fit(train_ds,\n",
        "                                  validation_data=val_ds,\n",
        "                                  epochs=151,\n",
        "                                  batch_size=1024,\n",
        "                                  callbacks=[keras.callbacks.ReduceLROnPlateau(patience=3, factor = 0.5, min_lr=1e-6),\n",
        "                                            keras.callbacks.EarlyStopping(patience=21, restore_best_weights=True, monitor=\"val_rmsle\",\n",
        "                                                                            start_from_epoch=3, mode=\"min\"),\n",
        "                                              model_checkpoint_callback])\n",
        "\n",
        "              model.load_weights(checkpoint_filepath)\n",
        "              model.save(f\"/content/drive/MyDrive/Exercises/Studies_Structured_Data/Models/S5E5/keras_models/{name}_{fold}.keras\")\n",
        "              plot_training_session(history)\n",
        "\n",
        "            else:\n",
        "              model = tf.keras.models.load_model(f\"/content/drive/MyDrive/Exercises/Studies_Structured_Data/Models/S5E5/keras_models/{name}_{fold}.keras\",\n",
        "                                                custom_objects={'rmsle': rmsle})\n",
        "\n",
        "            model.evaluate(val_ds, verbose=0)\n",
        "\n",
        "            # Make predictions\n",
        "            y_pred_train = model.predict(train_ds)\n",
        "            y_pred_val   = model.predict(val_ds)\n",
        "            y_pred_test  = model.predict(test_ds)\n",
        "\n",
        "            # Correct Ranges:\n",
        "\n",
        "            y_pred_train = np.maximum(y_pred_train, 1.0)\n",
        "            y_pred_train = np.minimum(y_pred_train, 315.0)\n",
        "\n",
        "            y_pred_val = np.maximum(y_pred_val, 1.0)\n",
        "            y_pred_val = np.minimum(y_pred_val, 315.0)\n",
        "\n",
        "            y_pred_test = np.maximum(y_pred_test, 1.0)\n",
        "            y_pred_test = np.minimum(y_pred_test, 315.0)\n",
        "\n",
        "            # Store Results\n",
        "            oof_train[val_idx] = y_pred_val.reshape(-1)\n",
        "            oof_test   += (y_pred_test/CFG.CV.get_n_splits()).reshape(-1)\n",
        "\n",
        "            train_score = root_mean_squared_log_error(y_train, y_pred_train)\n",
        "            val_score   = root_mean_squared_log_error(y_val, y_pred_val)\n",
        "\n",
        "            print(f'Fold {fold+1} → Training set Score: {train_score:.5f} | Validation set Score: {val_score:.5f}')\n",
        "\n",
        "            scores_train.append(train_score)\n",
        "            scores_val.append(val_score)\n",
        "\n",
        "        self._OOF_train[name] = oof_train\n",
        "        self._OOF_test[name]  = oof_test\n",
        "\n",
        "        os.chdir('/content/drive/MyDrive/Exercises/Studies_Structured_Data/Data/S5E5')\n",
        "\n",
        "        print(colored(f'Overall → Training set Score: {np.mean(scores_train):.5f}±{np.std(scores_train):.7f} | Validation set Score: {np.mean(scores_val):.5f}±{np.std(scores_val):.7f}',\n",
        "              color='green', attrs=['bold', 'dark']))\n",
        "\n",
        "    @property\n",
        "    def OOF_train(self):\n",
        "        return self._OOF_train\n",
        "    @property\n",
        "    def OOF_test(self):\n",
        "        return self._OOF_test\n",
        "\n",
        "    def save_predictions(self):\n",
        "        self._OOF_train.to_csv('OOF_train_many_models.csv', index=False)\n",
        "        self._OOF_test.to_csv('OOF_test_many_models.csv', index=False)"
      ]
    },
    {
      "cell_type": "markdown",
      "metadata": {
        "id": "41K1txKVzFhu"
      },
      "source": [
        "### **2.1.0 NeuralNetwork: Dense**"
      ]
    },
    {
      "cell_type": "code",
      "execution_count": null,
      "metadata": {
        "id": "WGyFvBNgzFh2"
      },
      "outputs": [],
      "source": [
        "data.X.sample(3)"
      ]
    },
    {
      "cell_type": "code",
      "execution_count": null,
      "metadata": {
        "id": "grc-F6yEIltY"
      },
      "outputs": [],
      "source": [
        "data.X.max(axis=0)"
      ]
    },
    {
      "cell_type": "code",
      "execution_count": null,
      "metadata": {
        "id": "a5TlsDYEKspq"
      },
      "outputs": [],
      "source": [
        "data.X.min(axis=0)"
      ]
    },
    {
      "cell_type": "code",
      "execution_count": null,
      "metadata": {
        "id": "AbaJACP3minK"
      },
      "outputs": [],
      "source": [
        "cat_features = data.cat_features\n",
        "num_features = data.num_features\n",
        "\n",
        "cat_features_card = [2,2,8]\n",
        "cat_features_out = [2, 2, 4]\n",
        "\n",
        "print(cat_features,cat_features_card)\n",
        "print(num_features)"
      ]
    },
    {
      "cell_type": "code",
      "execution_count": null,
      "metadata": {
        "id": "mZqePRWLqJFE"
      },
      "outputs": [],
      "source": [
        "np.ceil(np.sqrt(cat_features_card[1]))"
      ]
    },
    {
      "cell_type": "code",
      "execution_count": null,
      "metadata": {
        "id": "VF6Qd4eziUd0"
      },
      "outputs": [],
      "source": [
        "def build_model(units=512,last_layer = 1, activation=\"relu\", do_rate=0.25, reg=0.001):\n",
        "\n",
        "    x_input_cats = layers.Input(shape=(len(cat_features),))\n",
        "    embs = []\n",
        "    for j in range(len(cat_features)):\n",
        "        e = layers.Embedding(cat_features_card[j], cat_features_out[j]) #np.ceil(np.sqrt(cat_features_card[1]))\n",
        "        x = e(x_input_cats[:,j])\n",
        "        x = layers.Flatten()(x)\n",
        "        embs.append(x)\n",
        "\n",
        "    x_input_nums = layers.Input(shape=(len(num_features),))\n",
        "\n",
        "    x = layers.Concatenate(axis=-1)(embs+[x_input_nums])\n",
        "    x = layers.Dense(units, activation=activation, kernel_regularizer=keras.regularizers.l2(reg))(x)\n",
        "    x = layers.BatchNormalization()(x)\n",
        "    x = layers.Dropout(do_rate)(x)\n",
        "    x = layers.Dense(units, activation=activation, kernel_regularizer=keras.regularizers.l2(reg))(x)\n",
        "    x = layers.BatchNormalization()(x)\n",
        "    x = layers.Dropout(do_rate)(x)\n",
        "    x = layers.Dense(int(units/last_layer), activation=activation, kernel_regularizer=keras.regularizers.l2(reg))(x)\n",
        "    x = layers.BatchNormalization()(x)\n",
        "    x = layers.Dropout(do_rate)(x)\n",
        "    x_final = layers.Dense(1, activation='linear')(x)\n",
        "\n",
        "    model = keras.Model(inputs=[x_input_cats,x_input_nums], outputs=x_final)\n",
        "    return model"
      ]
    },
    {
      "cell_type": "code",
      "execution_count": null,
      "metadata": {
        "id": "HPhVCKp9mOzL"
      },
      "outputs": [],
      "source": [
        "mod_test = build_model(units=512)\n",
        "mod_test.summary()"
      ]
    },
    {
      "cell_type": "markdown",
      "metadata": {
        "id": "4ceVtzBwQlNg"
      },
      "source": [
        "#### 2.1.1 Optuna Optimization:"
      ]
    },
    {
      "cell_type": "code",
      "execution_count": null,
      "metadata": {
        "id": "iQ9CoxtaQlNg"
      },
      "outputs": [],
      "source": [
        "X_fin = data.X\n",
        "X_test_fin = data.X_test\n",
        "\n",
        "X_train_cat = data.X[cat_features]\n",
        "X_train_num = data.X[num_features]\n",
        "\n",
        "X_test_cat = data.X_test[cat_features]\n",
        "X_test_num = data.X_test[num_features]\n",
        "\n",
        "X_train_cat.info()\n",
        "X_train_num.info()\n",
        "\n",
        "y_fin = data.y"
      ]
    },
    {
      "cell_type": "code",
      "execution_count": null,
      "metadata": {
        "id": "dw84O6QuLEK6"
      },
      "outputs": [],
      "source": [
        "y_fin.isna().sum()"
      ]
    },
    {
      "cell_type": "markdown",
      "metadata": {
        "id": "fqMh80e9vD0H"
      },
      "source": [
        "**OPTIMIZATION SECTION**"
      ]
    },
    {
      "cell_type": "code",
      "execution_count": null,
      "metadata": {
        "id": "tObj5kq1QlNg"
      },
      "outputs": [],
      "source": [
        "def objective_nn(trial, X, y, n_splits, n_repeats, model=build_model, use_gpu=True, rs=42, fit_scaling=False, cv_strategy=\"KFold\"):\n",
        "\n",
        "    model_class = model\n",
        "\n",
        "    categorical_features = cat_features.copy()\n",
        "\n",
        "    num_cols = [col for col in X.columns if col not in categorical_features]\n",
        "\n",
        "    params = {'units': trial.suggest_categorical('units', [128,256,512,1024]),\n",
        "              'last_layer': trial.suggest_int('last_layer', 1,2),\n",
        "              'activation': trial.suggest_categorical('activation', [\"relu\",\"selu\",\"gelu\",\"silu\"]), #, reg=0.001, dropout_rate=0.33)\n",
        "              'reg': trial.suggest_float('reg', 1e-4, 0.1, log=True),\n",
        "              'do_rate': trial.suggest_float('do_rate', 0.30, 0.50)\n",
        "              }\n",
        "\n",
        "    if cv_strategy == 'RepKFold':\n",
        "        kf = RepeatedKFold(n_splits=n_splits, n_repeats=n_repeats, random_state=rs)\n",
        "    elif cv_strategy == 'KFold':\n",
        "        kf = KFold(n_splits=n_splits, random_state=rs, shuffle=True)\n",
        "    elif cv_strategy == \"StratKFold\":\n",
        "        kf = StratifiedKFold(n_splits=n_splits, random_state=rs, shuffle=True)\n",
        "    elif cv_strategy == \"RepStratKFold\":\n",
        "        kf = RepeatedStratifiedKFold(n_splits=n_splits, n_repeats=n_repeats, random_state=rs)\n",
        "\n",
        "    rmsle_scores = []\n",
        "\n",
        "    keras.backend.clear_session()\n",
        "\n",
        "    iteration_n=0\n",
        "\n",
        "    for idx_train, idx_valid in kf.split(X, y):\n",
        "        print(f\"Running Fold: {iteration_n}\")\n",
        "        # Split the data into training and validation sets for the current fold\n",
        "        X_train, y_train = X.iloc[idx_train], y.iloc[idx_train].to_numpy()#.reshape(-1, 1)\n",
        "        X_valid, y_valid = X.iloc[idx_valid], y.iloc[idx_valid].to_numpy()#.reshape(-1, 1)\n",
        "\n",
        "        X_train_cat = X_train[cat_features]\n",
        "        X_train_num = X_train[num_features]\n",
        "\n",
        "        X_valid_cat = X_valid[cat_features]\n",
        "        X_valid_num = X_valid[num_features]\n",
        "\n",
        "        # Create the model\n",
        "        keras.utils.set_random_seed(rs)\n",
        "        model = model_class(**params)\n",
        "\n",
        "        optimizer = keras.optimizers.Adam(learning_rate=5e-4)\n",
        "        model.compile(optimizer=optimizer,\n",
        "                      loss=[rmsle, keras.losses.MeanSquaredLogarithmicError(name=\"msle\")],\n",
        "                      metrics=[rmsle, keras.metrics.RootMeanSquaredError(name=\"msle\")])\n",
        "\n",
        "        checkpoint_filepath = '/tmp/ckpt/checkpoint.weights.h5'\n",
        "        model_checkpoint_callback = keras.callbacks.ModelCheckpoint(\n",
        "            filepath=checkpoint_filepath,\n",
        "            save_weights_only=True,\n",
        "            monitor='val_rmsle',\n",
        "            mode='min',\n",
        "            save_best_only=True)\n",
        "\n",
        "        # Fit the model\n",
        "        model.fit([X_train_cat,X_train_num], y_train,\n",
        "                  validation_data=([X_valid_cat, X_valid_num], y_valid),\n",
        "                  epochs=31,\n",
        "                  batch_size=1024,\n",
        "                  callbacks=[keras.callbacks.ReduceLROnPlateau(patience=3, factor = 0.5, min_lr=1e-6),\n",
        "                            keras.callbacks.EarlyStopping(patience=10, restore_best_weights=True, monitor=\"val_rmsle\",\n",
        "                                                            start_from_epoch=3, mode=\"min\"),\n",
        "                             model_checkpoint_callback])\n",
        "\n",
        "        model.load_weights(checkpoint_filepath)\n",
        "\n",
        "        # Make predictions on the validation set\n",
        "        y_pred = model.predict([X_valid_cat, X_valid_num], batch_size=1024)\n",
        "        y_pred = np.maximum(y_pred, 1.0)\n",
        "        y_pred = np.minimum(y_pred, 315.0)\n",
        "\n",
        "        print(\"Pred Min: {}\".format(y_pred.min()))\n",
        "        print(\"Pred Max: {}\".format(y_pred.max()))\n",
        "\n",
        "        # Calculate the RMSE for the current fold\n",
        "        rmsle_score = root_mean_squared_log_error(y_valid, y_pred)\n",
        "        print(f\"Fold {iteration_n} RMSLE: {rmsle_score}\")\n",
        "\n",
        "        rmsle_scores.append(rmsle_score)\n",
        "        iteration_n+=1\n",
        "\n",
        "    # Calculate the mean RMSLE score across all folds\n",
        "    key_metric = np.mean(rmsle_scores)\n",
        "\n",
        "    return key_metric"
      ]
    },
    {
      "cell_type": "code",
      "execution_count": null,
      "metadata": {
        "id": "sux1Xc6ZQlNh"
      },
      "outputs": [],
      "source": [
        "# Step 2: Tuning Hyperparameters with Optuna\n",
        "def tune_hyperparameters(X, y, model_class, n_trials, n_splits_ ,n_repeats_, use_gpu=True):  #use_gpu\n",
        "    study = optuna.create_study(direction=\"minimize\", sampler=optuna.samplers.TPESampler(), pruner=optuna.pruners.MedianPruner(n_warmup_steps=5))\n",
        "    study.optimize(lambda trial: objective_nn(trial, X, y, n_splits=n_splits_, n_repeats=n_repeats_, model=build_model, use_gpu=use_gpu, cv_strategy=\"KFold\"), n_trials=n_trials)\n",
        "    return study  # Return the study object\n",
        "\n",
        "# Step 3: Saving Best Results and Models\n",
        "def save_results(study, model_class, model_name):\n",
        "    best_params_file = f\"{model_name}_best_params.joblib\"\n",
        "    joblib.dump(study.best_params, best_params_file)\n",
        "    print(f\"Best parameters for {model_name} saved to {best_params_file}\")\n",
        "\n",
        "    verbose_file = f\"{model_name}_optuna_verbose.log\"\n",
        "    with open(verbose_file, \"w\") as f:\n",
        "        f.write(str(study.trials))\n",
        "    print(f\"Optuna verbose for {model_name} saved to {verbose_file}\")# usage with XGBRegressor"
      ]
    },
    {
      "cell_type": "code",
      "execution_count": null,
      "metadata": {
        "id": "_G7uNJwgKXOd"
      },
      "outputs": [],
      "source": [
        "X_fin.isna().sum(), y_fin.min()"
      ]
    },
    {
      "cell_type": "markdown",
      "metadata": {
        "id": "4gD8te2nDso2"
      },
      "source": [
        "  1. Trial 4 finished with value: 0.06326587167991321 and parameters: {'units': 512, 'last_layer': 1, 'activation': 'relu', 'reg': 0.00012466698516071345, 'do_rate': 0.32329936440008156}.\n",
        "\n",
        "  2. Trial 12 finished with value: 0.0644081979735794 and parameters: {'units': 256, 'last_layer': 1, 'activation': 'relu', 'reg': 0.0006106006869707281, 'do_rate': 0.3494656732997632}.\n",
        "\n",
        "  3.  Trial 14 finished with value: 0.06490268403547308 and parameters: {'units': 256, 'last_layer': 1, 'activation': 'relu', 'reg': 0.00012000706329704339, 'do_rate': 0.3032266090954228}."
      ]
    },
    {
      "cell_type": "code",
      "execution_count": null,
      "metadata": {
        "id": "gW_aoIIBQlNh"
      },
      "outputs": [],
      "source": [
        "nn0_study = tune_hyperparameters(X_fin, y_fin, model_class=build_model, n_trials=31, n_splits_ = 5 ,n_repeats_=3, use_gpu=True)\n",
        "\n",
        "cat_params = nn0_study.best_params"
      ]
    },
    {
      "cell_type": "markdown",
      "metadata": {
        "id": "lIkzAb-rGNGM"
      },
      "source": [
        "#### 2.1.2 Train Model:"
      ]
    },
    {
      "cell_type": "code",
      "execution_count": null,
      "metadata": {
        "id": "xGuhYBvImOti"
      },
      "outputs": [],
      "source": [
        "param = {'units': 512, 'last_layer': 1, 'activation': 'relu', 'reg': 0.00012466698516071345, 'do_rate': 0.32329936440008156}\n",
        "TM = TrainModels(X=data.X, y=data.y, X_test=data.X_test, test_finc_target=y_test_fic, X_original=None, y_original=None, model_=build_model, parameters=param)"
      ]
    },
    {
      "cell_type": "code",
      "execution_count": null,
      "metadata": {
        "id": "NafO4kd5mOqr"
      },
      "outputs": [],
      "source": [
        "TM.fit_model(name=\"NN_exp_00\")"
      ]
    },
    {
      "cell_type": "markdown",
      "metadata": {
        "id": "4n5hBAAw8gPJ"
      },
      "source": [
        "#### 2.1.3 Store Results:"
      ]
    },
    {
      "cell_type": "code",
      "execution_count": null,
      "metadata": {
        "id": "crsVb2JXmOns"
      },
      "outputs": [],
      "source": [
        "train_pred = TM.OOF_train\n",
        "test_pred = TM.OOF_test\n",
        "train_pred = pd.DataFrame(data = train_pred, columns = [\"NN_exp_00\"])\n",
        "\n",
        "\n",
        "sub = pd.read_csv(\"/content/drive/MyDrive/Exercises/Studies_Structured_Data/Data/S5E5/sample_submission.csv\",index_col=0)\n",
        "\n",
        "sub[\"Calories\"] =  test_pred.values\n",
        "\n",
        "sub.to_csv(\"/content/drive/MyDrive/Exercises/Studies_Structured_Data/Data/S5E5/submission_NN_exp_00.csv\")\n",
        "train_pred.to_csv(\"/content/drive/MyDrive/Exercises/Studies_Structured_Data/Data/S5E5/train_pred_NN_exp_00.csv\")"
      ]
    },
    {
      "cell_type": "code",
      "execution_count": null,
      "metadata": {
        "id": "FkWb5A0jmOkN"
      },
      "outputs": [],
      "source": [
        "test_pred.min(), test_pred.max()"
      ]
    },
    {
      "cell_type": "code",
      "execution_count": null,
      "metadata": {
        "id": "MnoThd5GRKfX"
      },
      "outputs": [],
      "source": [
        "train_pred"
      ]
    },
    {
      "cell_type": "markdown",
      "metadata": {
        "id": "gvKi8GKnOMjO"
      },
      "source": [
        "### **2.2.0 NeuralNetwork: Wide and Deep Model v0**"
      ]
    },
    {
      "cell_type": "code",
      "execution_count": null,
      "metadata": {
        "id": "ciGJJnKjOMjP"
      },
      "outputs": [],
      "source": [
        "data.X.sample(3)"
      ]
    },
    {
      "cell_type": "code",
      "execution_count": null,
      "metadata": {
        "id": "nOTFfHx9OMjP"
      },
      "outputs": [],
      "source": [
        "data.X.max(axis=0)"
      ]
    },
    {
      "cell_type": "code",
      "execution_count": null,
      "metadata": {
        "id": "s7OEZdd9PQNR"
      },
      "outputs": [],
      "source": [
        "fig, ax = plt.subplots(1,2,figsize=(12,3))\n",
        "\n",
        "ax[0].hist(data.X.BMI, bins=31)\n",
        "ax[1].hist(data.X_test.BMI, bins=31, color=\"salmon\")\n",
        "\n",
        "plt.show()"
      ]
    },
    {
      "cell_type": "code",
      "execution_count": null,
      "metadata": {
        "id": "9j6EMW2yOMjP"
      },
      "outputs": [],
      "source": [
        "cat_features = data.cat_features\n",
        "num_features = data.num_features\n",
        "\n",
        "cat_features_card = [2,2,8]\n",
        "cat_features_out = [2, 2, 4]\n",
        "\n",
        "\n",
        "print(cat_features,cat_features_card)\n",
        "print(num_features)"
      ]
    },
    {
      "cell_type": "code",
      "execution_count": null,
      "metadata": {
        "id": "2XhwdLzZOMjP"
      },
      "outputs": [],
      "source": [
        "def wide_deep(units=512, activation=\"relu\", do_rate=0.25, reg=0.001, hidden_layers=3):\n",
        "    '''\n",
        "    In this model embedding is performed for the data feeding into both the Deep and and wide layers:\n",
        "    '''\n",
        "\n",
        "    x_input_cats = layers.Input(shape=(len(cat_features),))\n",
        "    embs = []\n",
        "    for j in range(len(cat_features)):\n",
        "        e = layers.Embedding(cat_features_card[j], cat_features_out[j]) #np.ceil(np.sqrt(cat_features_card[1]))\n",
        "        x = e(x_input_cats[:,j])\n",
        "        x = layers.Flatten()(x)\n",
        "        embs.append(x)\n",
        "\n",
        "    x_input_nums = layers.Input(shape=(len(num_features),))\n",
        "\n",
        "    x = layers.Concatenate(axis=-1)(embs+[x_input_nums])\n",
        "\n",
        "    wide = layers.BatchNormalization()(x)\n",
        "    deep = x\n",
        "\n",
        "    for lay in range(hidden_layers):\n",
        "        deep = layers.Dense(units,kernel_regularizer=keras.regularizers.l2(reg), name=f\"dense_deep_{lay}\")(deep)\n",
        "        deep = layers.BatchNormalization(name=f\"bn_deep_{lay}\")(deep)\n",
        "        if activation == \"relu\":\n",
        "            deep = layers.ReLU(name=f\"relu_deep_{lay}\")(deep)\n",
        "        elif activation == \"prelu\":\n",
        "            deep = layers.PReLU(name=f\"prelu_deep_{lay}\")(deep)\n",
        "        elif activation == \"gelu \":\n",
        "            deep = activations.gelu(deep)\n",
        "        elif activation == \"silu\":\n",
        "            deep = activations.silu(deep)\n",
        "        elif activation == \"mish\":\n",
        "            deep = layers.Lambda(lambda x: keras.activations.mish(x), name=f\"mish_deep_{lay}\")(deep)\n",
        "        elif activation == \"celu\":\n",
        "            deep = activations.celu(deep)\n",
        "\n",
        "        deep = layers.Dropout(do_rate, name=f\"do_deep_{lay}\")(deep)\n",
        "\n",
        "    merged = layers.concatenate([wide, deep])\n",
        "\n",
        "    x_final = layers.Dense(1, activation='linear')(merged)\n",
        "\n",
        "    model = keras.Model(inputs=[x_input_cats,x_input_nums], outputs=x_final)\n",
        "    return model"
      ]
    },
    {
      "cell_type": "code",
      "execution_count": null,
      "metadata": {
        "id": "0proQYO0OMjQ"
      },
      "outputs": [],
      "source": [
        "mod_test = wide_deep(units=512, activation=\"celu\")\n",
        "mod_test.summary()"
      ]
    },
    {
      "cell_type": "code",
      "execution_count": null,
      "metadata": {
        "id": "G8RnyWJH4oRN"
      },
      "outputs": [],
      "source": [
        "#keras.utils.plot_model(mod_test, show_shapes=True, rankdir=\"LR\")"
      ]
    },
    {
      "cell_type": "markdown",
      "metadata": {
        "id": "-RYIuPRrOMjQ"
      },
      "source": [
        "#### 2.2.1 Optuna Optimization:"
      ]
    },
    {
      "cell_type": "code",
      "execution_count": null,
      "metadata": {
        "id": "W8kcen4hOMjQ"
      },
      "outputs": [],
      "source": [
        "X_fin = data.X\n",
        "X_test_fin = data.X_test\n",
        "\n",
        "X_train_cat = data.X[cat_features]\n",
        "X_train_num = data.X[num_features]\n",
        "\n",
        "X_test_cat = data.X_test[cat_features]\n",
        "X_test_num = data.X_test[num_features]\n",
        "\n",
        "X_train_cat.info()\n",
        "X_train_num.info()\n",
        "\n",
        "y_fin = data.y"
      ]
    },
    {
      "cell_type": "code",
      "execution_count": null,
      "metadata": {
        "id": "jCYAFlZfOMjQ"
      },
      "outputs": [],
      "source": [
        "y_fin.isna().sum()"
      ]
    },
    {
      "cell_type": "markdown",
      "metadata": {
        "id": "BtRpVIqfOMjQ"
      },
      "source": [
        "**OPTIMIZATION SECTION**"
      ]
    },
    {
      "cell_type": "code",
      "execution_count": null,
      "metadata": {
        "id": "eGA_0vWHOMjQ"
      },
      "outputs": [],
      "source": [
        "def objective_nn(trial, X, y, n_splits, n_repeats, model=wide_deep, use_gpu=True, rs=42, fit_scaling=False, cv_strategy=\"KFold\"):\n",
        "\n",
        "    model_class = model\n",
        "\n",
        "    categorical_features = cat_features.copy()\n",
        "\n",
        "    num_cols = [col for col in X.columns if col not in categorical_features]\n",
        "\n",
        "    params = {\n",
        "              'units': trial.suggest_categorical('units', [128,256,512,1024]),\n",
        "              'last_layer': trial.suggest_int('last_layer', 1,2),\n",
        "              'activation': trial.suggest_categorical('activation', [\"relu\",\"prelu\",\"gelu\",\"silu\",\"mish\",\"celu\"]), #, reg=0.001, dropout_rate=0.33)\n",
        "              'reg': trial.suggest_float('reg', 1e-4, 0.1, log=True),\n",
        "              'do_rate': trial.suggest_float('do_rate', 0.30, 0.50),\n",
        "              'hidden_layers': trial.suggest_int('hidden_layers', 1,4)\n",
        "              }\n",
        "\n",
        "    if cv_strategy == 'RepKFold':\n",
        "        kf = RepeatedKFold(n_splits=n_splits, n_repeats=n_repeats, random_state=rs)\n",
        "    elif cv_strategy == 'KFold':\n",
        "        kf = KFold(n_splits=n_splits, random_state=rs, shuffle=True)\n",
        "    elif cv_strategy == \"StratKFold\":\n",
        "        kf = StratifiedKFold(n_splits=n_splits, random_state=rs, shuffle=True)\n",
        "    elif cv_strategy == \"RepStratKFold\":\n",
        "        kf = RepeatedStratifiedKFold(n_splits=n_splits, n_repeats=n_repeats, random_state=rs)\n",
        "\n",
        "    rmsle_scores = []\n",
        "\n",
        "    keras.backend.clear_session()\n",
        "\n",
        "    iteration_n=0\n",
        "\n",
        "    for idx_train, idx_valid in kf.split(X, y):\n",
        "        print(f\"Running Fold: {iteration_n}\")\n",
        "        # Split the data into training and validation sets for the current fold\n",
        "        X_train, y_train = X.iloc[idx_train], y.iloc[idx_train].to_numpy()#.reshape(-1, 1)\n",
        "        X_valid, y_valid = X.iloc[idx_valid], y.iloc[idx_valid].to_numpy()#.reshape(-1, 1)\n",
        "\n",
        "        X_train_cat = X_train[cat_features]\n",
        "        X_train_num = X_train[num_features]\n",
        "\n",
        "        X_valid_cat = X_valid[cat_features]\n",
        "        X_valid_num = X_valid[num_features]\n",
        "\n",
        "        # Create the model\n",
        "        keras.utils.set_random_seed(rs)\n",
        "        model = model_class(**params)\n",
        "\n",
        "        optimizer = keras.optimizers.Adam(learning_rate=5e-4)\n",
        "        model.compile(optimizer=optimizer,\n",
        "                      loss=[rmsle, keras.losses.MeanSquaredLogarithmicError(name=\"msle\")],\n",
        "                      metrics=[rmsle, keras.metrics.RootMeanSquaredError(name=\"msle\")])\n",
        "\n",
        "        checkpoint_filepath = '/tmp/ckpt/checkpoint_dw.weights.h5'\n",
        "        model_checkpoint_callback = keras.callbacks.ModelCheckpoint(\n",
        "            filepath=checkpoint_filepath,\n",
        "            save_weights_only=True,\n",
        "            monitor='val_rmsle',\n",
        "            mode='min',\n",
        "            save_best_only=True)\n",
        "\n",
        "        # Fit the model\n",
        "        model.fit([X_train_cat,X_train_num], y_train,\n",
        "                  validation_data=([X_valid_cat, X_valid_num], y_valid),\n",
        "                  epochs=31,\n",
        "                  batch_size=1024,\n",
        "                  callbacks=[keras.callbacks.ReduceLROnPlateau(patience=3, factor = 0.5, min_lr=1e-6),\n",
        "                            keras.callbacks.EarlyStopping(patience=10, restore_best_weights=True, monitor=\"val_rmsle\",\n",
        "                                                            start_from_epoch=3, mode=\"min\"),\n",
        "                             model_checkpoint_callback])\n",
        "\n",
        "        model.load_weights(checkpoint_filepath)\n",
        "\n",
        "        # Make predictions on the validation set\n",
        "        y_pred = model.predict([X_valid_cat, X_valid_num], batch_size=1024)\n",
        "        y_pred = np.maximum(y_pred, 1.0)\n",
        "        y_pred = np.minimum(y_pred, 315.0)\n",
        "\n",
        "        print(\"Pred Min: {}\".format(y_pred.min()))\n",
        "        print(\"Pred Max: {}\".format(y_pred.max()))\n",
        "\n",
        "        # Calculate the RMSE for the current fold\n",
        "        rmsle_score = root_mean_squared_log_error(y_valid, y_pred)\n",
        "        print(f\"Fold {iteration_n} RMSLE: {rmsle_score}\")\n",
        "\n",
        "        rmsle_scores.append(rmsle_score)\n",
        "        iteration_n+=1\n",
        "\n",
        "    # Calculate the mean RMSLE score across all folds\n",
        "    key_metric = np.mean(rmsle_scores)\n",
        "\n",
        "    return key_metric"
      ]
    },
    {
      "cell_type": "code",
      "execution_count": null,
      "metadata": {
        "id": "tvbmcziROMjQ"
      },
      "outputs": [],
      "source": [
        "# Step 2: Tuning Hyperparameters with Optuna\n",
        "def tune_hyperparameters(X, y, model_class, n_trials, n_splits_ ,n_repeats_, use_gpu=True):  #use_gpu\n",
        "    study = optuna.create_study(direction=\"minimize\", sampler=optuna.samplers.TPESampler(), pruner=optuna.pruners.MedianPruner(n_warmup_steps=5))\n",
        "    study.optimize(lambda trial: objective_nn(trial, X, y, n_splits=n_splits_, n_repeats=n_repeats_, model=model_class, use_gpu=use_gpu, cv_strategy=\"KFold\"), n_trials=n_trials)\n",
        "    return study  # Return the study object\n",
        "\n",
        "# Step 3: Saving Best Results and Models\n",
        "def save_results(study, model_class, model_name):\n",
        "    best_params_file = f\"{model_name}_best_params.joblib\"\n",
        "    joblib.dump(study.best_params, best_params_file)\n",
        "    print(f\"Best parameters for {model_name} saved to {best_params_file}\")\n",
        "\n",
        "    verbose_file = f\"{model_name}_optuna_verbose.log\"\n",
        "    with open(verbose_file, \"w\") as f:\n",
        "        f.write(str(study.trials))\n",
        "    print(f\"Optuna verbose for {model_name} saved to {verbose_file}\")# usage with XGBRegressor"
      ]
    },
    {
      "cell_type": "code",
      "execution_count": null,
      "metadata": {
        "id": "EGOg0uogOMjQ"
      },
      "outputs": [],
      "source": [
        "X_fin.isna().sum(), y_fin.min()"
      ]
    },
    {
      "cell_type": "markdown",
      "metadata": {
        "id": "4T2eke9wOMjQ"
      },
      "source": [
        "  1. Trial 32 finished with value: 0.06224817614285113 and parameters: {'units': 512, 'last_layer': 2, 'activation': 'silu', 'reg': 0.000103427172893175, 'do_rate': 0.40056000512858025, 'hidden_layers': 2}\n",
        "\n",
        "  2. Trial 18 finished with value: 0.06211038027842043 and parameters: {'units': 512, 'last_layer': 2, 'activation': 'silu', 'reg': 0.0001004170129215336, 'do_rate': 0.41356627172269655, 'hidden_layers': 3} Best\n",
        "\n",
        "  3.  Trial 23 finished with value: 0.06239891244956206 and parameters: {'units': 512, 'last_layer': 2, 'activation': 'silu', 'reg': 0.00010001356287977584, 'do_rate': 0.4642367345915417, 'hidden_layers': 2}."
      ]
    },
    {
      "cell_type": "code",
      "execution_count": null,
      "metadata": {
        "id": "XxPZBhabOMjQ"
      },
      "outputs": [],
      "source": [
        "nn0_study = tune_hyperparameters(X_fin, y_fin, model_class=wide_deep, n_trials=51, n_splits_ = 5 ,n_repeats_=3, use_gpu=True)\n",
        "\n",
        "cat_params = nn0_study.best_params"
      ]
    },
    {
      "cell_type": "markdown",
      "metadata": {
        "id": "oUmQ2LeBOMjQ"
      },
      "source": [
        "#### 2.2.2 Train Model:"
      ]
    },
    {
      "cell_type": "code",
      "execution_count": null,
      "metadata": {
        "id": "RCXgnVWW7_0h"
      },
      "outputs": [],
      "source": [
        "param = {'units': 512, 'activation': 'silu', 'reg': 0.0001004170129215336, 'do_rate': 0.41356627172269655, 'hidden_layers': 3}"
      ]
    },
    {
      "cell_type": "code",
      "execution_count": null,
      "metadata": {
        "id": "P0TZ7C9ZOMjQ"
      },
      "outputs": [],
      "source": [
        "TM = TrainModels(X=data.X, y=data.y, X_test=data.X_test, test_finc_target=y_test_fic, X_original=None, y_original=None, model_=wide_deep, parameters=param)"
      ]
    },
    {
      "cell_type": "code",
      "execution_count": null,
      "metadata": {
        "id": "4NQhOfOpOMjQ"
      },
      "outputs": [],
      "source": [
        "TM.fit_model(name=\"NN_widedeep_00\")"
      ]
    },
    {
      "cell_type": "markdown",
      "metadata": {
        "id": "O2653MGROMjQ"
      },
      "source": [
        "#### 2.2.3 Store Results:"
      ]
    },
    {
      "cell_type": "code",
      "execution_count": null,
      "metadata": {
        "id": "P-llnneROMjR"
      },
      "outputs": [],
      "source": [
        "name_experiment = \"NN_widedeep_00\"\n",
        "\n",
        "train_pred = TM.OOF_train\n",
        "test_pred = TM.OOF_test\n",
        "train_pred = pd.DataFrame(data = train_pred, columns = [f\"{name_experiment}\"])\n",
        "\n",
        "sub = pd.read_csv(\"/content/drive/MyDrive/Exercises/Studies_Structured_Data/Data/S5E5/sample_submission.csv\",index_col=0)\n",
        "\n",
        "sub[\"Calories\"] =  test_pred.values"
      ]
    },
    {
      "cell_type": "code",
      "execution_count": null,
      "metadata": {
        "id": "fAkI6ulSOMjR"
      },
      "outputs": [],
      "source": [
        "test_pred.min(), test_pred.max()"
      ]
    },
    {
      "cell_type": "code",
      "execution_count": null,
      "metadata": {
        "id": "9dYagSFaOMjR"
      },
      "outputs": [],
      "source": [
        "test_pred.head()"
      ]
    },
    {
      "cell_type": "code",
      "execution_count": null,
      "metadata": {
        "id": "E3GQeR2Nn09P"
      },
      "outputs": [],
      "source": [
        "sub.head()"
      ]
    },
    {
      "cell_type": "code",
      "execution_count": null,
      "metadata": {
        "id": "hao3UZR_n6TP"
      },
      "outputs": [],
      "source": [
        "train_pred.head()"
      ]
    },
    {
      "cell_type": "code",
      "execution_count": null,
      "metadata": {
        "id": "7GFmuKS_oACd"
      },
      "outputs": [],
      "source": [
        "fig, ax = plt.subplots(1,2,figsize=(12,3))\n",
        "\n",
        "ax[0].hist(train_pred, bins=31)\n",
        "ax[1].hist(sub, bins=31, color=\"salmon\")\n",
        "\n",
        "plt.show()"
      ]
    },
    {
      "cell_type": "code",
      "execution_count": null,
      "metadata": {
        "id": "-yK4JpzuhMKD"
      },
      "outputs": [],
      "source": [
        "sub.to_csv(f\"/content/drive/MyDrive/Exercises/Studies_Structured_Data/Data/S5E5/submission_{name_experiment}.csv\")\n",
        "train_pred.to_csv(f\"/content/drive/MyDrive/Exercises/Studies_Structured_Data/Data/S5E5/train_pred_{name_experiment}.csv\")"
      ]
    },
    {
      "cell_type": "markdown",
      "metadata": {
        "id": "OLZXE-JMog_7"
      },
      "source": [
        "### **2.3.0 NeuralNetwork: Wide and Deep Model v1**\n",
        "\n",
        "This version of the model includes a Cross Layers within the Wide Branch of the NN."
      ]
    },
    {
      "cell_type": "code",
      "execution_count": null,
      "metadata": {
        "id": "oTZ-tkxVog_8"
      },
      "outputs": [],
      "source": [
        "data.X.sample(3)"
      ]
    },
    {
      "cell_type": "code",
      "execution_count": null,
      "metadata": {
        "id": "T01DFbRoog_8"
      },
      "outputs": [],
      "source": [
        "data.X.max(axis=0)"
      ]
    },
    {
      "cell_type": "code",
      "execution_count": null,
      "metadata": {
        "id": "gB0uT1u4og_8"
      },
      "outputs": [],
      "source": [
        "fig, ax = plt.subplots(1,2,figsize=(12,3))\n",
        "\n",
        "ax[0].hist(data.X.Age_Group, bins=31)\n",
        "ax[1].hist(data.X_test.Age_Group, bins=31, color=\"salmon\")\n",
        "\n",
        "plt.show()"
      ]
    },
    {
      "cell_type": "code",
      "execution_count": null,
      "metadata": {
        "id": "35EqV75Oog_9"
      },
      "outputs": [],
      "source": [
        "cat_features = data.cat_features\n",
        "num_features = data.num_features\n",
        "\n",
        "cat_features_card = [2,2,8]\n",
        "cat_features_out = [2, 2, 4]\n",
        "\n",
        "\n",
        "print(cat_features,cat_features_card)\n",
        "print(num_features)"
      ]
    },
    {
      "cell_type": "code",
      "execution_count": null,
      "metadata": {
        "id": "wokXPvl4og_9"
      },
      "outputs": [],
      "source": [
        "def wide_deep_cross(units=512, activation=\"relu\", do_rate=0.25, reg=0.001, hidden_layers=3, num_cross_layers=2):\n",
        "    '''\n",
        "    In this model embedding is performed for the data feeding into both the Deep and and wide layers:\n",
        "    '''\n",
        "\n",
        "    x_input_cats = layers.Input(shape=(len(cat_features),))\n",
        "    embs = []\n",
        "    for j in range(len(cat_features)):\n",
        "        e = layers.Embedding(cat_features_card[j], cat_features_out[j]) #np.ceil(np.sqrt(cat_features_card[1]))\n",
        "        x = e(x_input_cats[:,j])\n",
        "        x = layers.Flatten()(x)\n",
        "        embs.append(x)\n",
        "\n",
        "    x_input_nums = layers.Input(shape=(len(num_features),))\n",
        "\n",
        "    x = layers.Concatenate(axis=-1)(embs+[x_input_nums])\n",
        "\n",
        "    deep = x\n",
        "    wide = x  # Both Branches start with the concatenated features\n",
        "\n",
        "    # Wide Branch with Cross Layers:\n",
        "    for _ in range(num_cross_layers):\n",
        "        xl = layers.Dense(units=x.shape[-1],  # Output dimension same as input\n",
        "                         kernel_initializer='glorot_uniform',\n",
        "                         bias_initializer='zeros',\n",
        "                         activation=None)(wide)  # Linear activation\n",
        "        # Cross Layer Calculation:\n",
        "        cross = layers.Multiply()([x, xl])  # Element-wise multiplication\n",
        "        # Concatenate instead of Add:\n",
        "        wide = layers.Concatenate(axis=-1)([wide, cross])\n",
        "\n",
        "    # Deep Branch:\n",
        "    for lay in range(hidden_layers):\n",
        "        deep = layers.Dense(units,kernel_regularizer=keras.regularizers.l2(reg), name=f\"dense_deep_{lay}\")(deep)\n",
        "        deep = layers.BatchNormalization(name=f\"bn_deep_{lay}\")(deep)\n",
        "        if activation == \"relu\":\n",
        "            deep = layers.ReLU(name=f\"relu_deep_{lay}\")(deep)\n",
        "        elif activation == \"prelu\":\n",
        "            deep = layers.PReLU(name=f\"prelu_deep_{lay}\")(deep)\n",
        "        elif activation == \"gelu \":\n",
        "            deep = activations.gelu(deep)\n",
        "        elif activation == \"silu\":\n",
        "            deep = activations.silu(deep)\n",
        "        elif activation == \"mish\":\n",
        "            deep = layers.Lambda(lambda x: keras.activations.mish(x), name=f\"mish_deep_{lay}\")(deep)\n",
        "        elif activation == \"celu\":\n",
        "            deep = activations.celu(deep)\n",
        "\n",
        "        deep = layers.Dropout(do_rate, name=f\"do_deep_{lay}\")(deep)\n",
        "\n",
        "    merged = layers.concatenate([wide, deep])\n",
        "\n",
        "    x_final = layers.Dense(1, activation='linear')(merged)\n",
        "\n",
        "    model = keras.Model(inputs=[x_input_cats,x_input_nums], outputs=x_final)\n",
        "    return model"
      ]
    },
    {
      "cell_type": "code",
      "execution_count": null,
      "metadata": {
        "id": "f-aeH3Lkog_9"
      },
      "outputs": [],
      "source": [
        "mod_test = wide_deep_cross(units=512, activation=\"celu\")\n",
        "mod_test.summary()"
      ]
    },
    {
      "cell_type": "code",
      "execution_count": null,
      "metadata": {
        "id": "3k0CIB6Zog_9"
      },
      "outputs": [],
      "source": [
        "#keras.utils.plot_model(mod_test, show_shapes=True, rankdir=\"LR\")"
      ]
    },
    {
      "cell_type": "markdown",
      "metadata": {
        "id": "S6wkA7pZog_9"
      },
      "source": [
        "#### 2.3.1 Optuna Optimization:"
      ]
    },
    {
      "cell_type": "code",
      "execution_count": null,
      "metadata": {
        "id": "CmrU-X6gog_9"
      },
      "outputs": [],
      "source": [
        "X_fin = data.X\n",
        "X_test_fin = data.X_test\n",
        "\n",
        "X_train_cat = data.X[cat_features]\n",
        "X_train_num = data.X[num_features]\n",
        "\n",
        "X_test_cat = data.X_test[cat_features]\n",
        "X_test_num = data.X_test[num_features]\n",
        "\n",
        "X_train_cat.info()\n",
        "X_train_num.info()\n",
        "\n",
        "y_fin = data.y"
      ]
    },
    {
      "cell_type": "code",
      "execution_count": null,
      "metadata": {
        "id": "7jcHcp1xog_9"
      },
      "outputs": [],
      "source": [
        "y_fin.isna().sum()"
      ]
    },
    {
      "cell_type": "markdown",
      "metadata": {
        "id": "A3GfQaRzog_-"
      },
      "source": [
        "**OPTIMIZATION SECTION**"
      ]
    },
    {
      "cell_type": "code",
      "execution_count": null,
      "metadata": {
        "id": "iRvvGBIrog__"
      },
      "outputs": [],
      "source": [
        "def objective_nn(trial, X, y, n_splits, n_repeats, model=wide_deep_cross, use_gpu=True, rs=42, fit_scaling=False, cv_strategy=\"KFold\"):\n",
        "\n",
        "    model_class = model\n",
        "\n",
        "    categorical_features = cat_features.copy()\n",
        "\n",
        "    num_cols = [col for col in X.columns if col not in categorical_features]\n",
        "\n",
        "    params = {\n",
        "              'units': trial.suggest_categorical('units', [128,256,512,1024]),\n",
        "              'num_cross_layers': trial.suggest_int('num_cross_layers', 1, 3),\n",
        "              'activation': trial.suggest_categorical('activation', [\"relu\",\"prelu\",\"silu\"]),\n",
        "              'reg': trial.suggest_float('reg', 1e-4, 0.01, log=True),\n",
        "              'do_rate': trial.suggest_float('do_rate', 0.25, 0.45),\n",
        "              'hidden_layers': trial.suggest_int('hidden_layers', 1,3)\n",
        "              }\n",
        "\n",
        "    if cv_strategy == 'RepKFold':\n",
        "        kf = RepeatedKFold(n_splits=n_splits, n_repeats=n_repeats, random_state=rs)\n",
        "    elif cv_strategy == 'KFold':\n",
        "        kf = KFold(n_splits=n_splits, random_state=rs, shuffle=True)\n",
        "    elif cv_strategy == \"StratKFold\":\n",
        "        kf = StratifiedKFold(n_splits=n_splits, random_state=rs, shuffle=True)\n",
        "    elif cv_strategy == \"RepStratKFold\":\n",
        "        kf = RepeatedStratifiedKFold(n_splits=n_splits, n_repeats=n_repeats, random_state=rs)\n",
        "\n",
        "    rmsle_scores = []\n",
        "\n",
        "    keras.backend.clear_session()\n",
        "\n",
        "    iteration_n=0\n",
        "\n",
        "    for idx_train, idx_valid in kf.split(X, y):\n",
        "        print(f\"Running Fold: {iteration_n}\")\n",
        "        # Split the data into training and validation sets for the current fold\n",
        "        X_train, y_train = X.iloc[idx_train], y.iloc[idx_train].to_numpy()#.reshape(-1, 1)\n",
        "        X_valid, y_valid = X.iloc[idx_valid], y.iloc[idx_valid].to_numpy()#.reshape(-1, 1)\n",
        "\n",
        "        X_train_cat = X_train[cat_features]\n",
        "        X_train_num = X_train[num_features]\n",
        "\n",
        "        X_valid_cat = X_valid[cat_features]\n",
        "        X_valid_num = X_valid[num_features]\n",
        "\n",
        "        # Create the model\n",
        "        keras.utils.set_random_seed(rs)\n",
        "        model = model_class(**params)\n",
        "\n",
        "        optimizer = keras.optimizers.Adam(learning_rate=5e-4)\n",
        "        model.compile(optimizer=optimizer,\n",
        "                      loss=[rmsle, keras.losses.MeanSquaredLogarithmicError(name=\"msle\")],\n",
        "                      metrics=[rmsle, keras.metrics.RootMeanSquaredError(name=\"msle\")])\n",
        "\n",
        "        checkpoint_filepath = '/tmp/ckpt/checkpoint_dwc.weights.h5'\n",
        "        model_checkpoint_callback = keras.callbacks.ModelCheckpoint(\n",
        "            filepath=checkpoint_filepath,\n",
        "            save_weights_only=True,\n",
        "            monitor='val_rmsle',\n",
        "            mode='min',\n",
        "            save_best_only=True)\n",
        "\n",
        "        # Fit the model\n",
        "        model.fit([X_train_cat,X_train_num], y_train,\n",
        "                  validation_data=([X_valid_cat, X_valid_num], y_valid),\n",
        "                  epochs=31,\n",
        "                  batch_size=1024,\n",
        "                  callbacks=[keras.callbacks.ReduceLROnPlateau(patience=3, factor = 0.5, min_lr=1e-6),\n",
        "                            keras.callbacks.EarlyStopping(patience=10, restore_best_weights=True, monitor=\"val_rmsle\",\n",
        "                                                            start_from_epoch=3, mode=\"min\"),\n",
        "                             model_checkpoint_callback])\n",
        "\n",
        "        model.load_weights(checkpoint_filepath)\n",
        "\n",
        "        # Make predictions on the validation set\n",
        "        y_pred = model.predict([X_valid_cat, X_valid_num], batch_size=1024)\n",
        "        y_pred = np.maximum(y_pred, 1.0)\n",
        "        y_pred = np.minimum(y_pred, 315.0)\n",
        "\n",
        "        print(\"Pred Min: {}\".format(y_pred.min()))\n",
        "        print(\"Pred Max: {}\".format(y_pred.max()))\n",
        "\n",
        "        # Calculate the RMSE for the current fold\n",
        "        rmsle_score = root_mean_squared_log_error(y_valid, y_pred)\n",
        "        print(f\"Fold {iteration_n} RMSLE: {rmsle_score}\")\n",
        "\n",
        "        rmsle_scores.append(rmsle_score)\n",
        "        iteration_n+=1\n",
        "\n",
        "    # Calculate the mean RMSLE score across all folds\n",
        "    key_metric = np.mean(rmsle_scores)\n",
        "\n",
        "    return key_metric"
      ]
    },
    {
      "cell_type": "code",
      "execution_count": null,
      "metadata": {
        "id": "sik0OEQgog__"
      },
      "outputs": [],
      "source": [
        "# Step 2: Tuning Hyperparameters with Optuna\n",
        "def tune_hyperparameters(X, y, model_class, n_trials, n_splits_ ,n_repeats_, use_gpu=True):  #use_gpu\n",
        "    study = optuna.create_study(direction=\"minimize\", sampler=optuna.samplers.TPESampler(), pruner=optuna.pruners.MedianPruner(n_warmup_steps=5))\n",
        "    study.optimize(lambda trial: objective_nn(trial, X, y, n_splits=n_splits_, n_repeats=n_repeats_, model=model_class, use_gpu=use_gpu, cv_strategy=\"KFold\"), n_trials=n_trials)\n",
        "    return study  # Return the study object\n",
        "\n",
        "# Step 3: Saving Best Results and Models\n",
        "def save_results(study, model_class, model_name):\n",
        "    best_params_file = f\"{model_name}_best_params.joblib\"\n",
        "    joblib.dump(study.best_params, best_params_file)\n",
        "    print(f\"Best parameters for {model_name} saved to {best_params_file}\")\n",
        "\n",
        "    verbose_file = f\"{model_name}_optuna_verbose.log\"\n",
        "    with open(verbose_file, \"w\") as f:\n",
        "        f.write(str(study.trials))\n",
        "    print(f\"Optuna verbose for {model_name} saved to {verbose_file}\")# usage with XGBRegressor"
      ]
    },
    {
      "cell_type": "code",
      "execution_count": null,
      "metadata": {
        "id": "bslCtqumog__"
      },
      "outputs": [],
      "source": [
        "X_fin.isna().sum(), y_fin.min()"
      ]
    },
    {
      "cell_type": "markdown",
      "metadata": {
        "id": "ODFyJYEIog__"
      },
      "source": [
        "  1. Trial 1 finished with value: 0.061372210432322494 and parameters: {'units': 512, 'num_cross_layers': 1, 'activation': 'relu', 'reg': 0.0007600657726479304, 'do_rate': 0.4197061058874465, 'hidden_layers': 2}.\n",
        "\n",
        "  2. Trial 6 finished with value: 0.061261933879490194 and parameters: {'units': 256, 'num_cross_layers': 1, 'activation': 'silu', 'reg': 0.0001002990796038959, 'do_rate': 0.39009941717483704, 'hidden_layers': 2}. Best\n",
        "\n",
        "  3.  Trial"
      ]
    },
    {
      "cell_type": "code",
      "execution_count": null,
      "metadata": {
        "id": "WDm9HvJSog__"
      },
      "outputs": [],
      "source": [
        "nn3_study = tune_hyperparameters(X_fin, y_fin, model_class=wide_deep_cross, n_trials=37, n_splits_ = 5 ,n_repeats_=3, use_gpu=True)\n",
        "\n",
        "cat_params = nn3_study.best_params"
      ]
    },
    {
      "cell_type": "code",
      "execution_count": null,
      "metadata": {
        "id": "NWxvWm1esZhL"
      },
      "outputs": [],
      "source": [
        "cat_params"
      ]
    },
    {
      "cell_type": "markdown",
      "metadata": {
        "id": "eBV-209nohAA"
      },
      "source": [
        "#### 2.1.2 Train Model:"
      ]
    },
    {
      "cell_type": "code",
      "execution_count": null,
      "metadata": {
        "id": "UvJEkaPhohAA"
      },
      "outputs": [],
      "source": [
        "param = {'units': 512, 'num_cross_layers': 3, 'activation': 'prelu', 'reg': 0.0001360583533261253, 'do_rate': 0.3763917280440354,  'hidden_layers': 2}"
      ]
    },
    {
      "cell_type": "code",
      "execution_count": null,
      "metadata": {
        "id": "IhVSLADSohAA"
      },
      "outputs": [],
      "source": [
        "TM = TrainModels(X=data.X, y=data.y, X_test=data.X_test, test_finc_target=y_test_fic, X_original=None, y_original=None, model_=wide_deep_cross, parameters=param)"
      ]
    },
    {
      "cell_type": "code",
      "execution_count": null,
      "metadata": {
        "id": "0gHPUXs5ohAA"
      },
      "outputs": [],
      "source": [
        "TM.fit_model(name=\"NN_widedeepcross_00\")"
      ]
    },
    {
      "cell_type": "markdown",
      "metadata": {
        "id": "LeslFBCmohAA"
      },
      "source": [
        "#### 2.1.3 Store Results:"
      ]
    },
    {
      "cell_type": "code",
      "execution_count": null,
      "metadata": {
        "id": "h8d9vXAWohAA"
      },
      "outputs": [],
      "source": [
        "name_experiment = \"NN_widedeepcross_00\"\n",
        "\n",
        "train_pred = TM.OOF_train\n",
        "test_pred = TM.OOF_test\n",
        "train_pred = pd.DataFrame(data = train_pred, columns = [f\"{name_experiment}\"])\n",
        "\n",
        "sub = pd.read_csv(\"/content/drive/MyDrive/Exercises/Studies_Structured_Data/Data/S5E5/sample_submission.csv\",index_col=0)\n",
        "\n",
        "sub[\"Calories\"] =  test_pred.values"
      ]
    },
    {
      "cell_type": "code",
      "execution_count": null,
      "metadata": {
        "id": "D6Y11rQ6ohAA"
      },
      "outputs": [],
      "source": [
        "test_pred.min(), test_pred.max()"
      ]
    },
    {
      "cell_type": "code",
      "execution_count": null,
      "metadata": {
        "id": "uPXhNOISohAA"
      },
      "outputs": [],
      "source": [
        "test_pred.head()"
      ]
    },
    {
      "cell_type": "code",
      "execution_count": null,
      "metadata": {
        "id": "EQAAybfaohAA"
      },
      "outputs": [],
      "source": [
        "sub.head()"
      ]
    },
    {
      "cell_type": "code",
      "execution_count": null,
      "metadata": {
        "id": "n-PrhHyqohAB"
      },
      "outputs": [],
      "source": [
        "train_pred.head()"
      ]
    },
    {
      "cell_type": "code",
      "execution_count": null,
      "metadata": {
        "id": "rauW4cqbohAB"
      },
      "outputs": [],
      "source": [
        "fig, ax = plt.subplots(1,2,figsize=(12,3))\n",
        "\n",
        "ax[0].hist(train_pred, bins=31)\n",
        "ax[1].hist(sub, bins=31, color=\"salmon\")\n",
        "\n",
        "plt.show()"
      ]
    },
    {
      "cell_type": "code",
      "execution_count": null,
      "metadata": {
        "id": "FQVZtUnOohAB"
      },
      "outputs": [],
      "source": [
        "sub.to_csv(f\"/content/drive/MyDrive/Exercises/Studies_Structured_Data/Data/S5E5/submission_{name_experiment}.csv\")\n",
        "train_pred.to_csv(f\"/content/drive/MyDrive/Exercises/Studies_Structured_Data/Data/S5E5/train_pred_{name_experiment}.csv\")"
      ]
    },
    {
      "cell_type": "markdown",
      "metadata": {
        "id": "7kkf3V_XD2jv"
      },
      "source": [
        "### **2.3.0 NeuralNetwork: TabTransformer Model v0**\n",
        "\n",
        "This version of the model includes a Cross Layers within the Wide Branch of the NN."
      ]
    },
    {
      "cell_type": "code",
      "execution_count": null,
      "metadata": {
        "id": "y9HbWQ15Iq2t"
      },
      "outputs": [],
      "source": [
        "from functools import partial\n",
        "\n",
        "class CFG:\n",
        "    SEED    = 333\n",
        "    CV      = KFold(n_splits=11, shuffle=True, random_state=SEED)\n",
        "    VERSION = '1'\n",
        "\n",
        "class TrainModels:\n",
        "    def __init__(self, X, y, X_test, test_finc_target, X_original, y_original, model_, parameters):\n",
        "        self.model     = model_\n",
        "        self.parameters = parameters\n",
        "        self.X          = X\n",
        "        self.y          = y\n",
        "        self.test_finc_target = test_finc_target\n",
        "        self.X_test     = X_test\n",
        "        self._OOF_train = pd.DataFrame()\n",
        "        self._OOF_test  = pd.DataFrame()\n",
        "        self.categorical_features = X.select_dtypes(include=['category', 'bool', 'category','int']).columns.to_list()\n",
        "        self.numerical_features = X.select_dtypes(exclude=['category', 'bool', 'category','int']).columns.to_list()\n",
        "\n",
        "    def fit_model(self, name=\"Base_model\"):\n",
        "        oof_train = np.zeros(self.X.shape[0])\n",
        "        oof_test  = np.zeros(self.X_test.shape[0])\n",
        "        scores_train = []\n",
        "        scores_val   = []\n",
        "\n",
        "        os.chdir('/content/drive/MyDrive/Exercises/Studies_Structured_Data/Models/S5E5/layers_3_staked_models')\n",
        "\n",
        "        train_start = 7\n",
        "\n",
        "        for fold, (train_idx, val_idx) in enumerate(CFG.CV.split(self.X, self.y)):\n",
        "            x_train, y_train = self.X.iloc[train_idx], self.y.iloc[train_idx]\n",
        "            x_val,   y_val   = self.X.iloc[val_idx],   self.y.iloc[val_idx]\n",
        "\n",
        "\n",
        "            train_ds = dataframe_to_dataset(x_train, y_train, self.categorical_features, self.numerical_features, shuffle=True, batch_size=1024)\n",
        "            val_ds = dataframe_to_dataset(x_val, y_val, self.categorical_features, self.numerical_features, shuffle=False, batch_size=1024)\n",
        "            test_ds = dataframe_to_dataset_test(self.X_test, self.test_finc_target, self.categorical_features, self.numerical_features, batch_size=1024)\n",
        "\n",
        "            model = self.model(**self.parameters)\n",
        "\n",
        "            optimizer = keras.optimizers.Adam(learning_rate=1e-3)\n",
        "            model.compile(optimizer=optimizer,\n",
        "                          loss=[rmsle, keras.losses.MeanSquaredLogarithmicError(name=\"msle\")],\n",
        "                          metrics=[rmsle, keras.metrics.RootMeanSquaredError(name=\"msle\")])\n",
        "\n",
        "            checkpoint_filepath = '/tmp/ckpt/checkpoint.weights.h5'\n",
        "            model_checkpoint_callback = keras.callbacks.ModelCheckpoint(\n",
        "                                                                        filepath=checkpoint_filepath,\n",
        "                                                                        save_weights_only=True,\n",
        "                                                                        monitor='val_rmsle',\n",
        "                                                                        mode='min',\n",
        "                                                                        save_best_only=True\n",
        "                                                                        )\n",
        "            if fold > train_start:\n",
        "              # Fit the model\n",
        "              history = model.fit(train_ds,\n",
        "                                  validation_data=val_ds,\n",
        "                                  epochs=151,\n",
        "                                  batch_size=1024,\n",
        "                                  callbacks=[keras.callbacks.ReduceLROnPlateau(patience=3, factor = 0.5, min_lr=1e-6),\n",
        "                                            keras.callbacks.EarlyStopping(patience=21, restore_best_weights=True, monitor=\"val_rmsle\",\n",
        "                                                                            start_from_epoch=3, mode=\"min\"),\n",
        "                                              model_checkpoint_callback])\n",
        "\n",
        "              model.load_weights(checkpoint_filepath)\n",
        "              model.save(f\"/content/drive/MyDrive/Exercises/Studies_Structured_Data/Models/S5E5/keras_models/{name}_{fold}.keras\")\n",
        "              plot_training_session(history)\n",
        "\n",
        "            else:\n",
        "              model = tf.keras.models.load_model(f\"/content/drive/MyDrive/Exercises/Studies_Structured_Data/Models/S5E5/keras_models/{name}_{fold}.keras\",\n",
        "                                                custom_objects={'rmsle': rmsle})\n",
        "\n",
        "            model.evaluate(val_ds, verbose=0)\n",
        "\n",
        "            # Make predictions\n",
        "            y_pred_train = model.predict(train_ds)\n",
        "            y_pred_val   = model.predict(val_ds)\n",
        "            y_pred_test  = model.predict(test_ds)\n",
        "\n",
        "            # Correct Ranges:\n",
        "\n",
        "            y_pred_train = np.maximum(y_pred_train, 1.0)\n",
        "            y_pred_train = np.minimum(y_pred_train, 315.0)\n",
        "\n",
        "            y_pred_val = np.maximum(y_pred_val, 1.0)\n",
        "            y_pred_val = np.minimum(y_pred_val, 315.0)\n",
        "\n",
        "            y_pred_test = np.maximum(y_pred_test, 1.0)\n",
        "            y_pred_test = np.minimum(y_pred_test, 315.0)\n",
        "\n",
        "            # Store Results\n",
        "            oof_train[val_idx] = y_pred_val.reshape(-1)\n",
        "            oof_test   += (y_pred_test/CFG.CV.get_n_splits()).reshape(-1)\n",
        "\n",
        "            train_score = root_mean_squared_log_error(y_train, y_pred_train)\n",
        "            val_score   = root_mean_squared_log_error(y_val, y_pred_val)\n",
        "\n",
        "            print(f'Fold {fold+1} → Training set Score: {train_score:.5f} | Validation set Score: {val_score:.5f}')\n",
        "\n",
        "            scores_train.append(train_score)\n",
        "            scores_val.append(val_score)\n",
        "\n",
        "        self._OOF_train[name] = oof_train\n",
        "        self._OOF_test[name]  = oof_test\n",
        "\n",
        "        os.chdir('/content/drive/MyDrive/Exercises/Studies_Structured_Data/Data/S5E5')\n",
        "\n",
        "        print(colored(f'Overall → Training set Score: {np.mean(scores_train):.5f}±{np.std(scores_train):.7f} | Validation set Score: {np.mean(scores_val):.5f}±{np.std(scores_val):.7f}',\n",
        "              color='green', attrs=['bold', 'dark']))\n",
        "\n",
        "    @property\n",
        "    def OOF_train(self):\n",
        "        return self._OOF_train\n",
        "    @property\n",
        "    def OOF_test(self):\n",
        "        return self._OOF_test\n",
        "\n",
        "    def save_predictions(self):\n",
        "        self._OOF_train.to_csv('OOF_train_many_models.csv', index=False)\n",
        "        self._OOF_test.to_csv('OOF_test_many_models.csv', index=False)"
      ]
    },
    {
      "cell_type": "code",
      "execution_count": null,
      "metadata": {
        "id": "7stdN382D2jx"
      },
      "outputs": [],
      "source": [
        "data.X.sample(3)"
      ]
    },
    {
      "cell_type": "code",
      "execution_count": null,
      "metadata": {
        "id": "rOH7PO3vD2jy"
      },
      "outputs": [],
      "source": [
        "data.X.max(axis=0)"
      ]
    },
    {
      "cell_type": "code",
      "execution_count": null,
      "metadata": {
        "id": "Q5sKiPfED2jz"
      },
      "outputs": [],
      "source": [
        "fig, ax = plt.subplots(1,2,figsize=(12,3))\n",
        "\n",
        "ax[0].hist(data.X.Body_Temp, bins=31)\n",
        "ax[1].hist(data.X_test.Body_Temp, bins=31, color=\"salmon\")\n",
        "\n",
        "plt.show()"
      ]
    },
    {
      "cell_type": "code",
      "execution_count": null,
      "metadata": {
        "id": "Vk7F8e9jD2jz"
      },
      "outputs": [],
      "source": [
        "cat_features = data.cat_features\n",
        "num_features = data.num_features\n",
        "\n",
        "cat_features_card = [2,2,8]\n",
        "cat_features_out = [2, 2, 4]\n",
        "\n",
        "\n",
        "print(cat_features,cat_features_card)\n",
        "print(num_features)"
      ]
    },
    {
      "cell_type": "code",
      "execution_count": null,
      "metadata": {
        "id": "5VmxllnRIgnj"
      },
      "outputs": [],
      "source": [
        "def create_mlp(hidden_units, dropout_rate, activation, normalization_layer, name=None):\n",
        "    mlp_layers = []\n",
        "    for units in hidden_units:\n",
        "        mlp_layers.append(normalization_layer())\n",
        "        mlp_layers.append(layers.Dense(units, activation=activation))\n",
        "        mlp_layers.append(layers.Dropout(dropout_rate))\n",
        "\n",
        "    return keras.Sequential(mlp_layers, name=name)"
      ]
    },
    {
      "cell_type": "code",
      "execution_count": null,
      "metadata": {
        "id": "_7ERh-HzPZDb"
      },
      "outputs": [],
      "source": [
        "[4]*2+[2]"
      ]
    },
    {
      "cell_type": "code",
      "execution_count": null,
      "metadata": {
        "id": "6_lhGiX9D2jz"
      },
      "outputs": [],
      "source": [
        "def tabtransformer(do_rate=0.25, num_cross_layers=2, embedding_dims=4, num_transformer_blocks=3, num_heads=8, mlp_hidden_units_factors=[4]*2+[2]):\n",
        "    '''\n",
        "    In this model embedding is performed for the data feeding into both the Deep and and wide layers:\n",
        "    '''\n",
        "\n",
        "    x_input_cats = layers.Input(shape=(len(cat_features),))\n",
        "    x_input_nums = layers.Input(shape=(len(num_features),))\n",
        "\n",
        "\n",
        "\n",
        "    # Embedding Cat Features\n",
        "    embs = []\n",
        "    for j in range(len(cat_features)):\n",
        "        e = layers.Embedding(cat_features_card[j], embedding_dims) #np.ceil(np.sqrt(cat_features_card[1]))\n",
        "        x = e(x_input_cats[:,j])\n",
        "        embs.append(x)\n",
        "\n",
        "    encoded_categorical_features = ops.stack(embs, axis=1)\n",
        "\n",
        "\n",
        "    # Create multiple layers of the Transformer block.\n",
        "    for block_idx in range(num_transformer_blocks):\n",
        "        # Create a multi-head attention layer.\n",
        "        attention_output = layers.MultiHeadAttention(\n",
        "            num_heads=num_heads,\n",
        "            key_dim=embedding_dims,\n",
        "            dropout=do_rate,\n",
        "            name=f\"multihead_attention_{block_idx}\",\n",
        "        )(encoded_categorical_features, encoded_categorical_features)\n",
        "        # Skip connection 1.\n",
        "        x = layers.Add(name=f\"skip_connection1_{block_idx}\")(\n",
        "            [attention_output, encoded_categorical_features]\n",
        "        )\n",
        "        # Layer normalization 1.\n",
        "        x = layers.LayerNormalization(name=f\"layer_norm1_{block_idx}\", epsilon=1e-6)(x)\n",
        "        # Feedforward.\n",
        "        feedforward_output = create_mlp(\n",
        "            hidden_units=[embedding_dims],\n",
        "            dropout_rate=do_rate,\n",
        "            activation=keras.activations.gelu,\n",
        "            normalization_layer=partial(layers.LayerNormalization, epsilon=1e-6),  # using partial to provide keyword arguments before initialization\n",
        "            name=f\"feedforward_{block_idx}\",\n",
        "        )(x)\n",
        "        # Skip connection 2.\n",
        "        x = layers.Add(name=f\"skip_connection2_{block_idx}\")([feedforward_output, x])\n",
        "        # Layer normalization 2.\n",
        "        encoded_categorical_features = layers.LayerNormalization(\n",
        "            name=f\"layer_norm2_{block_idx}\", epsilon=1e-6\n",
        "        )(x)\n",
        "\n",
        "    # Flatten the \"contextualized\" embeddings of the categorical features.\n",
        "    categorical_features = layers.Flatten()(encoded_categorical_features)\n",
        "    # Apply layer normalization to the numerical features.\n",
        "    numerical_features = layers.LayerNormalization(epsilon=1e-6)(x_input_nums)\n",
        "    # Prepare the input for the final MLP block.\n",
        "    features = layers.concatenate([categorical_features, numerical_features], name=\"concatenate_att_output\")\n",
        "\n",
        "    # Compute MLP hidden_units.\n",
        "    mlp_hidden_units = [factor * features.shape[-1] for factor in mlp_hidden_units_factors]\n",
        "    # Create final MLP.\n",
        "    features = create_mlp(\n",
        "                          hidden_units=mlp_hidden_units,\n",
        "                          dropout_rate=do_rate,\n",
        "                          activation=keras.activations.silu,\n",
        "                          normalization_layer=layers.BatchNormalization,\n",
        "                          name=\"MLP_post_attention\",\n",
        "                         )(features)\n",
        "\n",
        "    # WIDE Branch of the NN\n",
        "    embs_cross = []\n",
        "\n",
        "    for j in embs:\n",
        "        embs_cross.append(layers.Flatten()(j))\n",
        "\n",
        "#    embs_cross = layers.Flatten()(embs)\n",
        "    x1 = layers.Concatenate(axis=-1)(embs_cross+[x_input_nums])\n",
        "\n",
        "    wide = x1  # Both Branches start with the concatenated features\n",
        "\n",
        "    # Wide Branch with Cross Layers:\n",
        "    for _ in range(num_cross_layers):\n",
        "        xl = layers.Dense(units=x1.shape[-1],  # Output dimension same as input\n",
        "                         kernel_initializer='glorot_uniform',\n",
        "                         bias_initializer='zeros',\n",
        "                         activation=None)(wide)  # Linear activation\n",
        "        # Cross Layer Calculation:\n",
        "        cross = layers.Multiply()([x1, xl])  # Element-wise multiplication\n",
        "        # Concatenate instead of Add:\n",
        "        wide = layers.Concatenate(axis=-1)([wide, cross])\n",
        "\n",
        "\n",
        "    merged = layers.concatenate([wide, features])\n",
        "\n",
        "    x_final = layers.Dense(1, activation='linear')(merged)\n",
        "\n",
        "    model = keras.Model(inputs=[x_input_cats,x_input_nums], outputs=x_final)\n",
        "    return model"
      ]
    },
    {
      "cell_type": "code",
      "execution_count": null,
      "metadata": {
        "id": "t8nzWDBmD2j0"
      },
      "outputs": [],
      "source": [
        "mod_test = tabtransformer()\n",
        "mod_test.summary()"
      ]
    },
    {
      "cell_type": "code",
      "execution_count": null,
      "metadata": {
        "id": "GaHVAlSVD2j0"
      },
      "outputs": [],
      "source": [
        "#keras.utils.plot_model(mod_test, show_shapes=True, rankdir=\"LR\")"
      ]
    },
    {
      "cell_type": "markdown",
      "metadata": {
        "id": "c6aoE_GZD2j0"
      },
      "source": [
        "#### 2.3.1 Optuna Optimization:"
      ]
    },
    {
      "cell_type": "code",
      "execution_count": null,
      "metadata": {
        "id": "sIcFYZmeD2j1"
      },
      "outputs": [],
      "source": [
        "X_fin = data.X\n",
        "X_test_fin = data.X_test\n",
        "\n",
        "X_train_cat = data.X[cat_features]\n",
        "X_train_num = data.X[num_features]\n",
        "\n",
        "X_test_cat = data.X_test[cat_features]\n",
        "X_test_num = data.X_test[num_features]\n",
        "\n",
        "X_train_cat.info()\n",
        "X_train_num.info()\n",
        "\n",
        "y_fin = data.y"
      ]
    },
    {
      "cell_type": "code",
      "execution_count": null,
      "metadata": {
        "id": "tkUVKcRbD2j1"
      },
      "outputs": [],
      "source": [
        "y_fin.isna().sum()"
      ]
    },
    {
      "cell_type": "markdown",
      "metadata": {
        "id": "D2esiVeUD2j1"
      },
      "source": [
        "**OPTIMIZATION SECTION**"
      ]
    },
    {
      "cell_type": "markdown",
      "metadata": {
        "id": "UuX6FivzD2j2"
      },
      "source": [
        "  1. Trial 3 finished with value: 0.06128411016249404 and parameters: {'num_cross_layers': 3, 'do_rate': 0.34650500123999023, 'embedding_dims': 4, 'num_transformer_blocks': 3, 'num_heads': 4, 'mlp_hidden_units_factors_0': 2, 'mlp_hidden_units_factors_1': 3, 'mlp_hidden_units_factors_2': 2}\n",
        "\n",
        "  2. rial 22 finished with value: 0.06113841138214773 and parameters: {'num_cross_layers': 3, 'do_rate': 0.3631276829855239, 'embedding_dims': 4, 'num_transformer_blocks': 3, 'num_heads': 12, 'mlp_hidden_units_factors_0': 2, 'mlp_hidden_units_factors_1': 3, 'mlp_hidden_units_factors_2': 1}.\n",
        "\n",
        "  3. Trial 7 finished with value: 0.060843740984653075 and parameters: {'do_rate': 0.32, 'num_transformer_blocks': 3, 'num_heads': 12, 'mlp_hidden_units_factors_0': 3, 'mlp_hidden_units_factors_1': 2, 'mlp_hidden_units_factors_2': 1}"
      ]
    },
    {
      "cell_type": "code",
      "execution_count": null,
      "metadata": {
        "id": "G6cK5JdiD2j1"
      },
      "outputs": [],
      "source": [
        "def objective_nn(trial, X, y, n_splits, n_repeats, model=tabtransformer, use_gpu=True, rs=42, fit_scaling=False, cv_strategy=\"KFold\"):\n",
        "\n",
        "#(num_transformer_blocks=3, num_heads=8, mlp_hidden_units_factors=[4]*2+[2])\n",
        "\n",
        "    model_class = model\n",
        "\n",
        "    categorical_features = cat_features.copy()\n",
        "\n",
        "    num_cols = [col for col in X.columns if col not in categorical_features]\n",
        "\n",
        "    params = {\n",
        "              'num_cross_layers': 3, #trial.suggest_int('num_cross_layers', 1, 3),\n",
        "              'do_rate': trial.suggest_float('do_rate', 0.30, 0.40, step=0.01),\n",
        "              'embedding_dims': 4, #trial.suggest_categorical('embedding_dims', [4, 8]),\n",
        "              'num_transformer_blocks': trial.suggest_categorical('num_transformer_blocks', [3, 4]),\n",
        "              'num_heads': trial.suggest_categorical('num_heads', [4, 8, 12]),\n",
        "              'mlp_hidden_units_factors_0' : trial.suggest_categorical('mlp_hidden_units_factors_0', [2, 3]),\n",
        "              'mlp_hidden_units_factors_1' : trial.suggest_categorical('mlp_hidden_units_factors_1', [2, 3]),\n",
        "              'mlp_hidden_units_factors_2' : trial.suggest_categorical('mlp_hidden_units_factors_2', [1, 2]),\n",
        "              }\n",
        "\n",
        "    if cv_strategy == 'RepKFold':\n",
        "        kf = RepeatedKFold(n_splits=n_splits, n_repeats=n_repeats, random_state=rs)\n",
        "    elif cv_strategy == 'KFold':\n",
        "        kf = KFold(n_splits=n_splits, random_state=rs, shuffle=True)\n",
        "    elif cv_strategy == \"StratKFold\":\n",
        "        kf = StratifiedKFold(n_splits=n_splits, random_state=rs, shuffle=True)\n",
        "    elif cv_strategy == \"RepStratKFold\":\n",
        "        kf = RepeatedStratifiedKFold(n_splits=n_splits, n_repeats=n_repeats, random_state=rs)\n",
        "\n",
        "    rmsle_scores = []\n",
        "\n",
        "    keras.backend.clear_session()\n",
        "\n",
        "    iteration_n=0\n",
        "\n",
        "    for idx_train, idx_valid in kf.split(X, y):\n",
        "        print(f\"Running Fold: {iteration_n}\")\n",
        "        # Split the data into training and validation sets for the current fold\n",
        "        X_train, y_train = X.iloc[idx_train], y.iloc[idx_train].to_numpy()#.reshape(-1, 1)\n",
        "        X_valid, y_valid = X.iloc[idx_valid], y.iloc[idx_valid].to_numpy()#.reshape(-1, 1)\n",
        "\n",
        "        X_train_cat = X_train[cat_features]\n",
        "        X_train_num = X_train[num_features]\n",
        "\n",
        "        X_valid_cat = X_valid[cat_features]\n",
        "        X_valid_num = X_valid[num_features]\n",
        "\n",
        "        # Create the model\n",
        "        keras.utils.set_random_seed(rs)\n",
        "        model = model_class(do_rate=params[\"do_rate\"], num_cross_layers=params[\"num_cross_layers\"], embedding_dims=params[\"embedding_dims\"], num_transformer_blocks=params[\"num_transformer_blocks\"],\n",
        "                            num_heads=params[\"num_heads\"], mlp_hidden_units_factors=[params[\"mlp_hidden_units_factors_0\"]]*params[\"mlp_hidden_units_factors_1\"]+[params[\"mlp_hidden_units_factors_2\"]])\n",
        "\n",
        "        optimizer = keras.optimizers.Adam(learning_rate=1e-3)\n",
        "        model.compile(optimizer=optimizer,\n",
        "                      loss=[rmsle, keras.losses.MeanSquaredLogarithmicError(name=\"msle\")],\n",
        "                      metrics=[rmsle, keras.metrics.RootMeanSquaredError(name=\"msle\")])\n",
        "\n",
        "        checkpoint_filepath = '/tmp/ckpt/checkpoint_dwc.weights.h5'\n",
        "        model_checkpoint_callback = keras.callbacks.ModelCheckpoint(\n",
        "            filepath=checkpoint_filepath,\n",
        "            save_weights_only=True,\n",
        "            monitor='val_rmsle',\n",
        "            mode='min',\n",
        "            save_best_only=True)\n",
        "\n",
        "        # Fit the model\n",
        "        model.fit([X_train_cat,X_train_num], y_train,\n",
        "                  validation_data=([X_valid_cat, X_valid_num], y_valid),\n",
        "                  epochs=31,\n",
        "                  batch_size=1024,\n",
        "                  callbacks=[keras.callbacks.ReduceLROnPlateau(patience=3, factor = 0.5, min_lr=1e-6),\n",
        "                            keras.callbacks.EarlyStopping(patience=10, restore_best_weights=True, monitor=\"val_rmsle\",\n",
        "                                                            start_from_epoch=3, mode=\"min\"),\n",
        "                             model_checkpoint_callback])\n",
        "\n",
        "        model.load_weights(checkpoint_filepath)\n",
        "\n",
        "        # Make predictions on the validation set\n",
        "        y_pred = model.predict([X_valid_cat, X_valid_num], batch_size=1024)\n",
        "        y_pred = np.maximum(y_pred, 1.0)\n",
        "        y_pred = np.minimum(y_pred, 315.0)\n",
        "\n",
        "        print(\"Pred Min: {}\".format(y_pred.min()))\n",
        "        print(\"Pred Max: {}\".format(y_pred.max()))\n",
        "\n",
        "        # Calculate the RMSE for the current fold\n",
        "        rmsle_score = root_mean_squared_log_error(y_valid, y_pred)\n",
        "        print(f\"Fold {iteration_n} RMSLE: {rmsle_score}\")\n",
        "\n",
        "        rmsle_scores.append(rmsle_score)\n",
        "        iteration_n+=1\n",
        "\n",
        "    # Calculate the mean RMSLE score across all folds\n",
        "    key_metric = np.mean(rmsle_scores)\n",
        "\n",
        "    return key_metric"
      ]
    },
    {
      "cell_type": "code",
      "execution_count": null,
      "metadata": {
        "id": "2_XM46aoD2j2"
      },
      "outputs": [],
      "source": [
        "# Step 2: Tuning Hyperparameters with Optuna\n",
        "def tune_hyperparameters(X, y, model_class, n_trials, n_splits_ ,n_repeats_, use_gpu=True):  #use_gpu\n",
        "    study = optuna.create_study(direction=\"minimize\", sampler=optuna.samplers.TPESampler(), pruner=optuna.pruners.MedianPruner(n_warmup_steps=5))\n",
        "    study.optimize(lambda trial: objective_nn(trial, X, y, n_splits=n_splits_, n_repeats=n_repeats_, model=model_class, use_gpu=use_gpu, cv_strategy=\"KFold\"), n_trials=n_trials)\n",
        "    return study  # Return the study object\n",
        "\n",
        "# Step 3: Saving Best Results and Models\n",
        "def save_results(study, model_class, model_name):\n",
        "    best_params_file = f\"{model_name}_best_params.joblib\"\n",
        "    joblib.dump(study.best_params, best_params_file)\n",
        "    print(f\"Best parameters for {model_name} saved to {best_params_file}\")\n",
        "\n",
        "    verbose_file = f\"{model_name}_optuna_verbose.log\"\n",
        "    with open(verbose_file, \"w\") as f:\n",
        "        f.write(str(study.trials))\n",
        "    print(f\"Optuna verbose for {model_name} saved to {verbose_file}\")# usage with XGBRegressor"
      ]
    },
    {
      "cell_type": "code",
      "execution_count": null,
      "metadata": {
        "id": "6saDR_WDD2j2"
      },
      "outputs": [],
      "source": [
        "X_fin.isna().sum(), y_fin.min()"
      ]
    },
    {
      "cell_type": "code",
      "execution_count": null,
      "metadata": {
        "id": "975gvH95D2j2"
      },
      "outputs": [],
      "source": [
        "nn3_study = tune_hyperparameters(X_fin, y_fin, model_class=tabtransformer, n_trials=27, n_splits_ = 5 ,n_repeats_=3, use_gpu=True)\n",
        "\n",
        "cat_params = nn3_study.best_params"
      ]
    },
    {
      "cell_type": "code",
      "execution_count": null,
      "metadata": {
        "id": "ZZKtdNLUD2j3"
      },
      "outputs": [],
      "source": [
        "cat_params"
      ]
    },
    {
      "cell_type": "markdown",
      "metadata": {
        "id": "P12gT-nbD2j3"
      },
      "source": [
        "#### 2.1.2 Train Model:"
      ]
    },
    {
      "cell_type": "code",
      "execution_count": null,
      "metadata": {
        "id": "HMBXPVZFD2j3"
      },
      "outputs": [],
      "source": [
        "param =  {'do_rate': 0.32, 'num_transformer_blocks': 3, 'num_heads': 12, 'mlp_hidden_units_factors': [3,3,1]}"
      ]
    },
    {
      "cell_type": "code",
      "execution_count": null,
      "metadata": {
        "id": "gphBeV3kD2j3"
      },
      "outputs": [],
      "source": [
        "TM = TrainModels(X=data.X, y=data.y, X_test=data.X_test, test_finc_target=y_test_fic, X_original=None, y_original=None, model_=tabtransformer, parameters=param)"
      ]
    },
    {
      "cell_type": "code",
      "execution_count": null,
      "metadata": {
        "id": "VVzIz331D2j4"
      },
      "outputs": [],
      "source": [
        "TM.fit_model(name=\"NN_TabTransformer_00\")"
      ]
    },
    {
      "cell_type": "markdown",
      "metadata": {
        "id": "9DDbwXlyD2j4"
      },
      "source": [
        "#### 2.1.3 Store Results:"
      ]
    },
    {
      "cell_type": "code",
      "execution_count": null,
      "metadata": {
        "id": "dnqjkWHkD2j4"
      },
      "outputs": [],
      "source": [
        "name_experiment = \"NN_TabTransformer_00\"\n",
        "\n",
        "train_pred = TM.OOF_train\n",
        "test_pred = TM.OOF_test\n",
        "train_pred = pd.DataFrame(data = train_pred, columns = [f\"{name_experiment}\"])\n",
        "\n",
        "sub = pd.read_csv(\"/content/drive/MyDrive/Exercises/Studies_Structured_Data/Data/S5E5/sample_submission.csv\",index_col=0)\n",
        "\n",
        "sub[\"Calories\"] =  test_pred.values"
      ]
    },
    {
      "cell_type": "code",
      "execution_count": null,
      "metadata": {
        "id": "H4zSOz1HD2j4"
      },
      "outputs": [],
      "source": [
        "test_pred.min(), test_pred.max()"
      ]
    },
    {
      "cell_type": "code",
      "execution_count": null,
      "metadata": {
        "id": "SaUw4A_mD2j4"
      },
      "outputs": [],
      "source": [
        "test_pred.head()"
      ]
    },
    {
      "cell_type": "code",
      "execution_count": null,
      "metadata": {
        "id": "z0SAg_-0D2j5"
      },
      "outputs": [],
      "source": [
        "sub.head()"
      ]
    },
    {
      "cell_type": "code",
      "execution_count": null,
      "metadata": {
        "id": "oTMcSMT1D2j5"
      },
      "outputs": [],
      "source": [
        "train_pred.head()"
      ]
    },
    {
      "cell_type": "code",
      "execution_count": null,
      "metadata": {
        "id": "DMxX_hNHD2j5"
      },
      "outputs": [],
      "source": [
        "fig, ax = plt.subplots(1,2,figsize=(12,3))\n",
        "\n",
        "ax[0].hist(train_pred, bins=31)\n",
        "ax[1].hist(sub, bins=31, color=\"salmon\")\n",
        "\n",
        "plt.show()"
      ]
    },
    {
      "cell_type": "code",
      "execution_count": null,
      "metadata": {
        "id": "xWrUxXwHD2j6"
      },
      "outputs": [],
      "source": [
        "sub.to_csv(f\"/content/drive/MyDrive/Exercises/Studies_Structured_Data/Data/S5E5/submission_{name_experiment}.csv\")\n",
        "train_pred.to_csv(f\"/content/drive/MyDrive/Exercises/Studies_Structured_Data/Data/S5E5/train_pred_{name_experiment}.csv\")"
      ]
    },
    {
      "cell_type": "markdown",
      "metadata": {
        "id": "FmZnoc4eO1_E"
      },
      "source": [
        "# **3.0 TREE BASED MODELS**"
      ]
    },
    {
      "cell_type": "code",
      "execution_count": 24,
      "metadata": {
        "id": "Q1GyNmMXO7Dw"
      },
      "outputs": [],
      "source": [
        "# from sklearn.utils.class_weight import compute_class_weight\n",
        "\n",
        "# class_weights = compute_class_weight('balanced', classes=np.unique(y), y=y)\n",
        "# class_weights = dict(enumerate(class_weights))\n",
        "\n",
        "# sample_pos_weight = class_weights[1]/class_weights[0]\n",
        "# sample_pos_weight"
      ]
    },
    {
      "cell_type": "code",
      "source": [
        "class TrainModels:\n",
        "    def __init__(self, X, y, X_test, X_original, y_original, models):\n",
        "        self.models     = models\n",
        "        self.X          = X\n",
        "        self.y          = y\n",
        "        self.X_original = X_original\n",
        "        self.y_original = y_original\n",
        "        self.X_test     = X_test\n",
        "        self._OOF_train = pd.DataFrame()\n",
        "        self._OOF_test  = pd.DataFrame()\n",
        "        self.categorical_features = X.select_dtypes(include=['category', 'bool', 'category','int']).columns.to_list()\n",
        "\n",
        "    @staticmethod\n",
        "    def convert_cat(df_):\n",
        "        '''\n",
        "        A function to convert dtypes to categorical if the catboost with all categorical\n",
        "        features is called\n",
        "        '''\n",
        "        df = df_.copy()\n",
        "        for c in df.columns.to_list():\n",
        "            df[c] = df[c].astype(str).astype('category')\n",
        "        return df\n",
        "\n",
        "\n",
        "    def fit_model(self, name, model_, train_flag):\n",
        "        oof_train = np.zeros(self.X.shape[0])\n",
        "        oof_test  = np.zeros(self.X_test.shape[0])\n",
        "        scores_train = []\n",
        "        scores_val   = []\n",
        "\n",
        "        CB_CAT_FLAG = True if 'CB_CAT' in name.upper() else False\n",
        "\n",
        "        os.chdir('/content/drive/MyDrive/Exercises/Studies_Structured_Data/Models/S5E5/Catboost')\n",
        "\n",
        "        for fold, (train_idx, val_idx) in enumerate(CFG.CV.split(self.X, self.y)):\n",
        "            x_train, y_train = self.X.iloc[train_idx], self.y.iloc[train_idx]\n",
        "            x_val,   y_val   = self.X.iloc[val_idx],   self.y.iloc[val_idx]\n",
        "\n",
        "            # Adds the original data to training set only\n",
        "            if self.X_original is not None:\n",
        "                x_train = pd.concat([x_train, self.X_original], axis=0)\n",
        "                y_train = pd.concat([y_train, self.y_original], axis=0)\n",
        "\n",
        "            # -- Create a special block to convert all features to categorical\n",
        "            if CB_CAT_FLAG:\n",
        "                x_train = self.convert_cat(x_train)\n",
        "                x_val   = self.convert_cat(x_val)\n",
        "\n",
        "            model = clone(model_)\n",
        "\n",
        "            if 'CB' in name.upper():\n",
        "              if train_flag==True:\n",
        "                model.fit(x_train,y_train,eval_set=[(x_val,y_val)], early_stopping_rounds=101)\n",
        "                model.save_model(f\"{name}_{fold}.bin\")\n",
        "              else:\n",
        "                print(\"Load Model\")\n",
        "                model = CatBoostRegressor()\n",
        "                model.load_model(f\"{name}_{fold}.bin\")\n",
        "\n",
        "            elif 'LGBMR' in name.upper():\n",
        "              early_stop = early_stopping(stopping_rounds=101)\n",
        "              if train_flag==True:\n",
        "                model.fit(x_train, y_train, eval_set=[(x_val, y_val)], callbacks=[early_stop],categorical_feature=self.categorical_features)\n",
        "                model.booster_.save_model(f'{name}_{fold}.txt')\n",
        "              else:\n",
        "                print(\"Load Model\")\n",
        "                model = lgb.Booster(model_file=f'{name}_{fold}.txt')\n",
        "\n",
        "            elif 'LGBMP' in name.upper():\n",
        "              # Fit the model\n",
        "              if train_flag==True:\n",
        "                model.fit(x_train, y_train)\n",
        "                joblib.dump(model, f'{name}_{fold}.pkl')\n",
        "              else:\n",
        "                print(\"Load Model\")\n",
        "                model = joblib.load(f'{name}_{fold}.pkl')\n",
        "\n",
        "            elif 'XGBR' in name.upper():\n",
        "              if train_flag==True:\n",
        "                model.fit(x_train, y_train, eval_set=[(x_val, y_val)],verbose=250)\n",
        "                model.save_model(f'{name}_{fold}.json')\n",
        "              else:\n",
        "                print(\"Load Model\")\n",
        "                model = XGBRegressor()  # Create an instance of the model\n",
        "                model.load_model(f'{name}_{fold}.json')\n",
        "\n",
        "            elif 'LGBM_2' in name.upper():\n",
        "              model.fit(x_train, y_train, eval_set=[(x_val, y_val)])\n",
        "\n",
        "\n",
        "            elif 'HGB_' in name.upper():\n",
        "              if train_flag==True:\n",
        "                model.fit(x_train, y_train)\n",
        "                joblib.dump(model, f'{name}_{fold}.pkl')\n",
        "              else:\n",
        "                print(\"Load Model\")\n",
        "                model = joblib.load(f'{name}_{fold}.pkl')\n",
        "\n",
        "            else:\n",
        "\n",
        "              model.fit(x_train, y_train)\n",
        "\n",
        "            y_pred_train = model.predict(x_train).ravel()\n",
        "            y_pred_val   = model.predict(x_val).ravel()\n",
        "            y_pred_test  = model.predict(self.X_test if not CB_CAT_FLAG else self.convert_cat(self.X_test)).ravel()\n",
        "\n",
        "            y_pred_train = np.expm1(y_pred_train)\n",
        "            y_pred_val   = np.expm1(y_pred_val)\n",
        "            y_pred_test  = np.expm1(y_pred_test)\n",
        "\n",
        "            # Correct Ranges:\n",
        "\n",
        "            print(\"Pred Min&Max Valid: {} and {}\".format(y_pred_val.min(), y_pred_val.max()))\n",
        "            print(\"Pred Min&Max Test: {} and {}\".format(y_pred_test.min(), y_pred_test.max()))\n",
        "\n",
        "            y_pred_train = np.maximum(y_pred_train, 1.0)\n",
        "            y_pred_train = np.minimum(y_pred_train, 315.0)\n",
        "\n",
        "            y_pred_val = np.maximum(y_pred_val, 1.0)\n",
        "            y_pred_val = np.minimum(y_pred_val, 315.0)\n",
        "\n",
        "            y_pred_test = np.maximum(y_pred_test, 1.0)\n",
        "            y_pred_test = np.minimum(y_pred_test, 315.0)\n",
        "\n",
        "            print(\"Pred Min&Max Valid Adj: {} and {}\".format(y_pred_val.min(), y_pred_val.max()))\n",
        "            print(\"Pred Min&Max Test Adj: {} and {}\".format(y_pred_test.min(), y_pred_test.max()))\n",
        "\n",
        "            oof_train[val_idx] = y_pred_val\n",
        "            oof_test   += y_pred_test/CFG.CV.get_n_splits()\n",
        "\n",
        "            train_score = root_mean_squared_log_error(np.expm1(y_train), y_pred_train)\n",
        "            val_score   = root_mean_squared_log_error(np.expm1(y_val), y_pred_val)\n",
        "\n",
        "            print(f'Fold {fold+1} → Training set Score: {train_score:.5f} | Validation set Score: {val_score:.5f}')\n",
        "\n",
        "            scores_train.append(train_score)\n",
        "            scores_val.append(val_score)\n",
        "\n",
        "        self._OOF_train[name] = oof_train\n",
        "        self._OOF_test[name]  = oof_test\n",
        "\n",
        "        os.chdir('/content/drive/MyDrive/Exercises/Studies_Structured_Data/Data/S5E5')\n",
        "\n",
        "        print(colored(f'Overall → Training set Score: {np.mean(scores_train):.5f}±{np.std(scores_train):.7f} | Validation set Score: {np.mean(scores_val):.5f}±{np.std(scores_val):.7f}',\n",
        "              color='green', attrs=['bold', 'dark']))\n",
        "\n",
        "    def fit_models(self):\n",
        "        for name, model in list(self.models.items()):\n",
        "            print(colored(f'{\" \"*4} Fitting {name}', color='red', attrs=['dark', 'bold']))\n",
        "            self.fit_model(name, model[0], model[1])\n",
        "            print(\"\")\n",
        "\n",
        "    @property\n",
        "    def OOF_train(self):\n",
        "        return self._OOF_train\n",
        "    @property\n",
        "    def OOF_test(self):\n",
        "        return self._OOF_test\n",
        "\n",
        "    def save_predictions(self):\n",
        "        self._OOF_train.to_csv('OOF_train_many_models.csv', index=False)\n",
        "        self._OOF_test.to_csv('OOF_test_many_models.csv', index=False)"
      ],
      "metadata": {
        "id": "Q99FZFVNiGw9"
      },
      "execution_count": 25,
      "outputs": []
    },
    {
      "cell_type": "markdown",
      "metadata": {
        "id": "6qrTmdIJRsR-"
      },
      "source": [
        "## 3.1.0 CatBoostClassifier:"
      ]
    },
    {
      "cell_type": "code",
      "execution_count": null,
      "metadata": {
        "id": "kvZIUdxLzo-n"
      },
      "outputs": [],
      "source": [
        "cat_prob = {\"objective\":\"RMSE\",\"eval_metric\":\"RMSE\"}"
      ]
    },
    {
      "cell_type": "code",
      "source": [
        "X = data.X\n",
        "y = np.log1p(data.y)\n",
        "categorical_features = X.select_dtypes(include=['category', 'bool', 'category','int']).columns.to_list()\n",
        "categorical_features"
      ],
      "metadata": {
        "id": "H8RBb3crhFxk"
      },
      "execution_count": null,
      "outputs": []
    },
    {
      "cell_type": "markdown",
      "metadata": {
        "id": "mJvn8jzFQUNr"
      },
      "source": [
        "### 3.1.1 Optuna Optimization:"
      ]
    },
    {
      "cell_type": "code",
      "execution_count": null,
      "metadata": {
        "id": "PDGGnrUAQUNr"
      },
      "outputs": [],
      "source": [
        "def objective_catboost(trial, X, y, n_splits, n_repeats, model=CatBoostRegressor, use_gpu=True, rs=42, fit_scaling=False, cv_strategy=\"KFold\", metrics=cat_prob,categorical_features=categorical_features):\n",
        "\n",
        "    model_class = model\n",
        "\n",
        "    categorical_features = categorical_features\n",
        "\n",
        "    num_cols = [col for col in X.columns if col not in categorical_features]\n",
        "\n",
        "    params = {\n",
        "        'iterations': 2500,\n",
        "        'learning_rate': 0.02, #trial.suggest_float('learning_rate', 0.01, 0.3, log=True),\n",
        "        'depth': trial.suggest_int('depth', 8, 13),\n",
        "        'l2_leaf_reg': trial.suggest_float('l2_leaf_reg', 1e-2, 0.1, log=True),\n",
        "        \"bootstrap_type\": \"Bernoulli\", #trial.suggest_categorical(\"bootstrap_type\",[\"Bayesian\",\"Bernoulli\"]),\n",
        "        'random_strength': trial.suggest_float('random_strength', 0.5, 3.5, step=0.25),\n",
        "        'border_count': trial.suggest_int('border_count', 190, 260, step=5),\n",
        "        'cat_features': categorical_features,\n",
        "        'task_type': 'GPU' if use_gpu else 'CPU',\n",
        "        'random_seed':rs,\n",
        "        'verbose': 250,\n",
        "        'objective': metrics[\"objective\"],\n",
        "        'eval_metric': metrics[\"eval_metric\"],\n",
        "        \"od_type\":'EBS', #Early stopping hyperparmeter\n",
        "        \"od_wait\":101,\n",
        "        #\"sampling_frequency\":\"PerTreeLevel\",\n",
        "        \"use_best_model\":True,\n",
        "    }\n",
        "\n",
        "    if params[\"bootstrap_type\"] == \"Bayesian\":\n",
        "        params[\"bagging_temperature\"] = trial.suggest_float(\"bagging_temperature\", 0.5, 1.5, step=0.1)\n",
        "    elif params[\"bootstrap_type\"] == \"Bernoulli\":\n",
        "        params[\"subsample\"] = trial.suggest_float(\"subsample\", 0.70, 1.0, step=0.025)\n",
        "\n",
        "    if cv_strategy == 'RepKFold':\n",
        "      kf = RepeatedKFold(n_splits=n_splits, n_repeats=n_repeats, random_state=rs)\n",
        "    elif cv_strategy == 'KFold':\n",
        "      kf = KFold(n_splits=n_splits, random_state=rs, shuffle=True)\n",
        "    elif cv_strategy == \"StratKFold\":\n",
        "      kf = StratifiedKFold(n_splits=n_splits, random_state=rs, shuffle=True)\n",
        "    elif cv_strategy == \"RepStratKFold\":\n",
        "      kf = RepeatedStratifiedKFold(n_splits=n_splits, n_repeats=n_repeats, random_state=rs)\n",
        "\n",
        "    rmse_scores = []\n",
        "\n",
        "    for idx_train, idx_valid in kf.split(X, y):\n",
        "\n",
        "        # Split the data into training and validation sets for the current fold\n",
        "        X_train, y_train = X.iloc[idx_train], y.iloc[idx_train].to_numpy().reshape(-1,1)\n",
        "        X_valid, y_valid = X.iloc[idx_valid], y.iloc[idx_valid].to_numpy().reshape(-1,1)\n",
        "\n",
        "        if fit_scaling:\n",
        "          scaler = StandardScaler()\n",
        "          X_train[num_cols] = scaler.fit_transform(X_train[num_cols])\n",
        "          X_valid[num_cols] = scaler.transform(X_valid[num_cols])\n",
        "\n",
        "        # Create the Pool objects for CatBoost\n",
        "        train_pool = Pool(data=X_train, label=y_train, cat_features=categorical_features)\n",
        "        valid_pool = Pool(data=X_valid, label=y_valid, cat_features=categorical_features)\n",
        "\n",
        "        # Create the pipeline\n",
        "        model = model_class(**params)\n",
        "        # Fit the model:\n",
        "        model.fit(train_pool, eval_set=valid_pool, early_stopping_rounds=101,\n",
        "                  #callbacks=[optuna.integration.CatBoostPruningCallback(trial, \"RMSE\")]\n",
        "                  )\n",
        "\n",
        "        # Make predictions on the validation set\n",
        "        y_pred = model.predict(X_valid)\n",
        "\n",
        "#        y_pred = np.expm1(y_pred)\n",
        "#        y_valid = np.expm1(y_valid)\n",
        "\n",
        "        # Calculate the RMSE for the current fold\n",
        "\n",
        "        rmse_score = root_mean_squared_error(y_valid, y_pred)\n",
        "        rmse_scores.append(rmse_score)\n",
        "\n",
        "        gc.collect()\n",
        "\n",
        "    # Calculate the mean RMSLE score across all folds\n",
        "    key_metric = np.mean(rmse_scores)\n",
        "\n",
        "    return key_metric"
      ]
    },
    {
      "cell_type": "code",
      "execution_count": null,
      "metadata": {
        "id": "-4q9nTQpQUNs"
      },
      "outputs": [],
      "source": [
        "# Step 2: Tuning Hyperparameters with Optuna\n",
        "def tune_hyperparameters(X, y, model_class, n_trials, n_splits_ ,n_repeats_, use_gpu=True):  #use_gpu\n",
        "    study = optuna.create_study(direction=\"minimize\", sampler=optuna.samplers.TPESampler(), pruner=optuna.pruners.MedianPruner(n_warmup_steps=50))\n",
        "    study.optimize(lambda trial: objective_catboost(trial, X, y, n_splits=n_splits_, n_repeats=n_repeats_, model=model_class, use_gpu=use_gpu, cv_strategy=\"KFold\"), n_trials=n_trials)\n",
        "    return study  # Return the study object\n",
        "\n",
        "# Step 3: Saving Best Results and Models\n",
        "def save_results(study, model_class, model_name):\n",
        "    best_params_file = f\"{model_name}_best_params.joblib\"\n",
        "    joblib.dump(study.best_params, best_params_file)\n",
        "    print(f\"Best parameters for {model_name} saved to {best_params_file}\")\n",
        "\n",
        "    verbose_file = f\"{model_name}_optuna_verbose.log\"\n",
        "    with open(verbose_file, \"w\") as f:\n",
        "        f.write(str(study.trials))\n",
        "    print(f\"Optuna verbose for {model_name} saved to {verbose_file}\")"
      ]
    },
    {
      "cell_type": "code",
      "execution_count": null,
      "metadata": {
        "id": "OMaZd811QUNs"
      },
      "outputs": [],
      "source": [
        "# usage with XGBRegressor\n",
        "cat_study = tune_hyperparameters(X, y, model_class=CatBoostRegressor, n_trials=31, n_splits_ = 5 ,n_repeats_=3, use_gpu=True)\n",
        "save_results(cat_study, CatBoostRegressor, \"CatBoost_ext\")"
      ]
    },
    {
      "cell_type": "markdown",
      "source": [
        "  1. Trial 5 finished with value: 0.06006516957759047 and parameters: {'depth': 11, 'l2_leaf_reg': 0.013463992344840664, 'bootstrap_type': 'Bernoulli', 'random_strength': 0.5, 'border_count': 215, 'subsample': 0.9750000000000001}"
      ],
      "metadata": {
        "id": "8nvY1CnNEkSs"
      }
    },
    {
      "cell_type": "code",
      "source": [
        "cat_params = cat_study.best_params\n",
        "cat_params"
      ],
      "metadata": {
        "id": "VaGSU8I58lW-"
      },
      "execution_count": null,
      "outputs": []
    },
    {
      "cell_type": "markdown",
      "metadata": {
        "id": "9gfvcBjQe2qv"
      },
      "source": [
        "### 3.1.2 Train Model:"
      ]
    },
    {
      "cell_type": "code",
      "execution_count": null,
      "metadata": {
        "id": "NA6Aj9S7e2qw"
      },
      "outputs": [],
      "source": [
        "metrics = {\"objective\":\"RMSE\",\"eval_metric\":\"RMSE\"}\n",
        "categorical_features = data.X.select_dtypes(include=['category', 'bool', 'category','int']).columns.to_list()"
      ]
    },
    {
      "cell_type": "code",
      "execution_count": null,
      "metadata": {
        "id": "mH2cbn1XQUNu"
      },
      "outputs": [],
      "source": [
        "X = data.X\n",
        "y = np.log1p(data.y)\n",
        "categorical_features"
      ]
    },
    {
      "cell_type": "code",
      "source": [
        "X_test = data.X_test\n",
        "\n",
        "sub = pd.read_csv(\"/content/drive/MyDrive/Exercises/Studies_Structured_Data/Data/S5E5/sample_submission.csv\",index_col=0)"
      ],
      "metadata": {
        "id": "ioWL8SDogQNu"
      },
      "execution_count": null,
      "outputs": []
    },
    {
      "cell_type": "markdown",
      "metadata": {
        "id": "RQ-ty76XQUNu"
      },
      "source": [
        "**FIT THE MODEL**"
      ]
    },
    {
      "cell_type": "code",
      "execution_count": null,
      "metadata": {
        "id": "-afXMTEaQUNu"
      },
      "outputs": [],
      "source": [
        "param = {'iterations': 2500, 'learning_rate': 0.02, 'depth': 11,\n",
        "        'l2_leaf_reg': 0.013463992345, \"bootstrap_type\": \"Bernoulli\",\n",
        "        'random_strength': 0.5, 'border_count': 215,\n",
        "        'cat_features': categorical_features, 'task_type': 'GPU',\n",
        "        'random_seed':42, 'verbose': 250,\n",
        "        'objective': metrics[\"objective\"],\n",
        "        'eval_metric': metrics[\"eval_metric\"],\n",
        "        \"od_type\":'EBS', \"od_wait\":101,\n",
        "        \"use_best_model\":True,\n",
        "          }\n",
        "\n",
        "cb_cat_params_4   = {'one_hot_max_size': 2, 'learning_rate': 0.055, 'grow_policy': 'Depthwise'}\n",
        "\n",
        "models={'CB2':[CatBoostRegressor(**param),True]}\n",
        "\n",
        "TM = TrainModels(X=X, y=y, X_test=X_test, X_original=None, y_original=None, models=models)\n",
        "TM.fit_models()"
      ]
    },
    {
      "cell_type": "markdown",
      "metadata": {
        "id": "w-rEYSMte2qx"
      },
      "source": [
        "### 3.1.3 Store Results:"
      ]
    },
    {
      "cell_type": "code",
      "execution_count": null,
      "metadata": {
        "id": "-bICr76Be2qx"
      },
      "outputs": [],
      "source": [
        "name_experiment = \"CB_adj_values\"\n",
        "\n",
        "test_pred = TM.OOF_test.mean(axis=1) #np.expm1(TM.OOF_test.mean(axis=1))\n",
        "train_pred = TM.OOF_train.mean(axis=1) #np.expm1(TM.OOF_train.mean(axis=1))"
      ]
    },
    {
      "cell_type": "code",
      "execution_count": null,
      "metadata": {
        "id": "mu8wBX4ge2qx"
      },
      "outputs": [],
      "source": [
        "test_pred.min(), test_pred.max()"
      ]
    },
    {
      "cell_type": "code",
      "execution_count": null,
      "metadata": {
        "id": "J7CjLtNle2qy"
      },
      "outputs": [],
      "source": [
        "test_pred.head()"
      ]
    },
    {
      "cell_type": "code",
      "execution_count": null,
      "metadata": {
        "id": "mU3QXV8ee2qy"
      },
      "outputs": [],
      "source": [
        "sub[\"Calories\"] =  test_pred.values\n",
        "\n",
        "sub.head()"
      ]
    },
    {
      "cell_type": "code",
      "execution_count": null,
      "metadata": {
        "id": "zSbxgjyIe2qy"
      },
      "outputs": [],
      "source": [
        "train_pred.head()"
      ]
    },
    {
      "cell_type": "code",
      "execution_count": null,
      "metadata": {
        "id": "fuKLYjQKe2qy"
      },
      "outputs": [],
      "source": [
        "fig, ax = plt.subplots(1,2,figsize=(12,3))\n",
        "\n",
        "ax[0].hist(train_pred, bins=31)\n",
        "ax[1].hist(sub, bins=31, color=\"salmon\")\n",
        "\n",
        "plt.show()"
      ]
    },
    {
      "cell_type": "code",
      "execution_count": null,
      "metadata": {
        "id": "1dtEpL1ye2qz"
      },
      "outputs": [],
      "source": [
        "sub.to_csv(f\"/content/drive/MyDrive/Exercises/Studies_Structured_Data/Data/S5E5/submission_{name_experiment}.csv\")\n",
        "train_pred.to_csv(f\"/content/drive/MyDrive/Exercises/Studies_Structured_Data/Data/S5E5/train_pred_{name_experiment}.csv\")"
      ]
    },
    {
      "cell_type": "markdown",
      "metadata": {
        "id": "MvqbaMJMxyqI"
      },
      "source": [
        "## **3.2.0 LGBMRegressor**"
      ]
    },
    {
      "cell_type": "code",
      "execution_count": 26,
      "metadata": {
        "id": "n2VbsJlay765"
      },
      "outputs": [],
      "source": [
        "import lightgbm as lgb\n",
        "lgbm_prob = {\"objective\":\"regression\",\"eval_metric\":\"rmse\"}"
      ]
    },
    {
      "cell_type": "code",
      "source": [
        "X = data.X\n",
        "y = np.log1p(data.y)\n",
        "categorical_features = X.select_dtypes(include=['category', 'bool', 'category','int']).columns.to_list()\n",
        "categorical_features"
      ],
      "metadata": {
        "id": "QJR3irOjwJFB",
        "colab": {
          "base_uri": "https://localhost:8080/"
        },
        "outputId": "3b295207-2529-4946-997a-e4aecca42fa9"
      },
      "execution_count": 27,
      "outputs": [
        {
          "output_type": "execute_result",
          "data": {
            "text/plain": [
              "['Sex', 'Outliers_Duration_Heart_Temp', 'Age_Group']"
            ]
          },
          "metadata": {},
          "execution_count": 27
        }
      ]
    },
    {
      "cell_type": "markdown",
      "metadata": {
        "id": "SOB-zCzMx9Jr"
      },
      "source": [
        "### 3.2.1 Optuna Optimization:"
      ]
    },
    {
      "cell_type": "code",
      "execution_count": null,
      "metadata": {
        "id": "x_EHAxqPPyrU"
      },
      "outputs": [],
      "source": [
        "def objective_lgbm(trial, X, y, n_splits=5, n_repeats=5, model=LGBMRegressor, use_gpu=True, rs=42, fit_scaling=False, cv_strategy=\"KFold\", metrics=lgbm_prob, categorical_features=categorical_features):\n",
        "\n",
        "    model_class = model\n",
        "\n",
        "    num_cols = [col for col in X.columns if col not in categorical_features]\n",
        "\n",
        "    params = {\n",
        "        'num_leaves': trial.suggest_int('num_leaves', 31, 111),\n",
        "        'learning_rate': 0.02, #trial.suggest_float('learning_rate', 0.01, 0.3, log=True),\n",
        "        #'max_depth': trial.suggest_int('max_depth', 5, 10),\n",
        "        'min_child_samples': trial.suggest_int('min_child_samples', 20, 60),\n",
        "        'subsample': trial.suggest_float('subsample', 0.5, 0.95),\n",
        "        'subsample_freq': trial.suggest_int('subsample_freq', 1, 3),\n",
        "        'colsample_bytree': trial.suggest_float('colsample_bytree', 0.5, 1.0),\n",
        "        \"reg_alpha\" :         trial.suggest_float(\"reg_alpha\", 1e-3, 1.0, log=True),\n",
        "        \"reg_lambda\" :        trial.suggest_float(\"reg_lambda\", 1e-3, 1.0, log=True),\n",
        "        \"boosting_type\":      'gbdt',\n",
        "        'n_estimators': 2501,\n",
        "        'objective': metrics[\"objective\"],\n",
        "        'device': 'gpu' if use_gpu else 'cpu',\n",
        "        'verbose': -1,\n",
        "#       'categorical_feature': [2,4,5,9],\n",
        "        'random_state': rs,\n",
        "    }\n",
        "\n",
        "    if cv_strategy == 'RepKFold':\n",
        "        kf = RepeatedKFold(n_splits=n_splits, n_repeats=n_repeats, random_state=rs)\n",
        "    elif cv_strategy == 'KFold':\n",
        "        kf = KFold(n_splits=n_splits, random_state=rs, shuffle=True)\n",
        "    elif cv_strategy == \"StratKFold\":\n",
        "        kf = StratifiedKFold(n_splits=n_splits, random_state=rs, shuffle=True)\n",
        "    elif cv_strategy == \"RepStratKFold\":\n",
        "        kf = RepeatedStratifiedKFold(n_splits=n_splits, n_repeats=n_repeats, random_state=rs)\n",
        "\n",
        "    rmse_scores = []\n",
        "\n",
        "    for idx_train, idx_valid in kf.split(X, y):\n",
        "\n",
        "        # Split the data into training and validation sets for the current fold\n",
        "        X_train, y_train = X.iloc[idx_train], y.iloc[idx_train].to_numpy().reshape(-1, 1)\n",
        "        X_valid, y_valid = X.iloc[idx_valid], y.iloc[idx_valid].to_numpy().reshape(-1, 1)\n",
        "\n",
        "        if fit_scaling:\n",
        "            scaler = StandardScaler()\n",
        "            X_train[num_cols] = scaler.fit_transform(X_train[num_cols])\n",
        "            X_valid[num_cols] = scaler.transform(X_valid[num_cols])\n",
        "\n",
        "        # Create the datasets for LightGBM\n",
        "        # d_train = lgb.Dataset(X_train, label=y_train, categorical_feature=categorical_features)\n",
        "        # d_valid = lgb.Dataset(X_valid, label=y_valid, categorical_feature=categorical_features)\n",
        "\n",
        "        # Create the model\n",
        "        model = model_class(**params)\n",
        "\n",
        "        # Create the early stopping callback\n",
        "        early_stop = early_stopping(stopping_rounds=101)\n",
        "\n",
        "        # Fit the model\n",
        "        model.fit(X_train, y_train, eval_set=[(X_valid, y_valid)], callbacks=[early_stop], eval_metric=metrics[\"eval_metric\"], categorical_feature= categorical_features)\n",
        "\n",
        "        # Make predictions on the validation set\n",
        "        y_pred = model.predict(X_valid)\n",
        "\n",
        "        # Calculate the RMSE for the current fold\n",
        "\n",
        "        rmse_score = root_mean_squared_error(y_valid, y_pred)\n",
        "        rmse_scores.append(rmse_score)\n",
        "\n",
        "    # Calculate the mean RMSLE score across all folds\n",
        "    key_metric = np.mean(rmse_scores)\n",
        "\n",
        "    return key_metric"
      ]
    },
    {
      "cell_type": "code",
      "execution_count": null,
      "metadata": {
        "id": "lnC-tzJ-PyoE"
      },
      "outputs": [],
      "source": [
        "# Step 2: Tuning Hyperparameters with Optuna\n",
        "def tune_hyperparameters(X, y, model_class, n_trials, n_splits_ ,n_repeats_, use_gpu=True):  #use_gpu\n",
        "    study = optuna.create_study(direction=\"minimize\", sampler=optuna.samplers.TPESampler(), pruner=optuna.pruners.MedianPruner(n_warmup_steps=50))\n",
        "    study.optimize(lambda trial: objective_lgbm(trial, X, y, n_splits=n_splits_, n_repeats=n_repeats_, model=model_class, use_gpu=use_gpu, cv_strategy=\"KFold\"), n_trials=n_trials)\n",
        "    return study  # Return the study object\n",
        "\n",
        "# Step 3: Saving Best Results and Models\n",
        "def save_results(study, model_class, model_name):\n",
        "    best_params_file = f\"{model_name}_best_params.joblib\"\n",
        "    joblib.dump(study.best_params, best_params_file)\n",
        "    print(f\"Best parameters for {model_name} saved to {best_params_file}\")\n",
        "\n",
        "    verbose_file = f\"{model_name}_optuna_verbose.log\"\n",
        "    with open(verbose_file, \"w\") as f:\n",
        "        f.write(str(study.trials))\n",
        "    print(f\"Optuna verbose for {model_name} saved to {verbose_file}\")# usage with XGBRegressor"
      ]
    },
    {
      "cell_type": "code",
      "execution_count": null,
      "metadata": {
        "id": "5mXmUXUZPyk8"
      },
      "outputs": [],
      "source": [
        "cat_study = tune_hyperparameters(X, y, model_class=LGBMRegressor, n_trials=31, n_splits_ = 5 ,n_repeats_=3, use_gpu=True)\n",
        "save_results(cat_study, LGBMRegressor, \"LGBMBoost_ext\")\n",
        "cat_params = cat_study.best_params"
      ]
    },
    {
      "cell_type": "markdown",
      "source": [
        "  1. Trial 20 finished with value: 0.060152195761392024 and parameters: {'num_leaves': 100, 'min_child_samples': 53, 'subsample': 0.9110612004769245, 'subsample_freq': 2, 'colsample_bytree': 0.8399716198238704, 'reg_alpha': 0.964428009726069, 'reg_lambda': 0.011222743073631622}"
      ],
      "metadata": {
        "id": "k02GBB7UGyaW"
      }
    },
    {
      "cell_type": "markdown",
      "metadata": {
        "id": "6xuCG01a1Vml"
      },
      "source": [
        "### 3.2.2 Train Model:"
      ]
    },
    {
      "cell_type": "code",
      "execution_count": 28,
      "metadata": {
        "id": "7ZsgxpAm1Vmn"
      },
      "outputs": [],
      "source": [
        "lgbm_prob = {\"objective\":\"regression\",\"eval_metric\":\"rmse\"}\n",
        "categorical_features = data.X.select_dtypes(include=['category', 'bool', 'category','int']).columns.to_list()"
      ]
    },
    {
      "cell_type": "code",
      "execution_count": 29,
      "metadata": {
        "colab": {
          "base_uri": "https://localhost:8080/"
        },
        "id": "_mPCl_PK1Vmn",
        "outputId": "1fb75db2-a1a4-4744-de25-1d7f07e93e8e"
      },
      "outputs": [
        {
          "output_type": "execute_result",
          "data": {
            "text/plain": [
              "['Sex', 'Outliers_Duration_Heart_Temp', 'Age_Group']"
            ]
          },
          "metadata": {},
          "execution_count": 29
        }
      ],
      "source": [
        "X = data.X\n",
        "y = np.log1p(data.y)\n",
        "categorical_features"
      ]
    },
    {
      "cell_type": "code",
      "source": [
        "X_test = data.X_test\n",
        "\n",
        "sub = pd.read_csv(\"/content/drive/MyDrive/Exercises/Studies_Structured_Data/Data/S5E5/sample_submission.csv\",index_col=0)"
      ],
      "metadata": {
        "id": "IObU0idb1Vmo"
      },
      "execution_count": 30,
      "outputs": []
    },
    {
      "cell_type": "markdown",
      "metadata": {
        "id": "xnJ43y-B1Vmo"
      },
      "source": [
        "**FIT THE MODEL**"
      ]
    },
    {
      "cell_type": "code",
      "execution_count": 31,
      "metadata": {
        "colab": {
          "base_uri": "https://localhost:8080/"
        },
        "id": "c7YACifY1Vmo",
        "outputId": "154274e4-dc43-4ad3-946d-3867b22778ec"
      },
      "outputs": [
        {
          "output_type": "stream",
          "name": "stdout",
          "text": [
            "     Fitting LGBMR1\n",
            "Training until validation scores don't improve for 101 rounds\n",
            "Early stopping, best iteration is:\n",
            "[1384]\tvalid_0's l2: 0.00354947\n",
            "Pred Min&Max Valid: 1.032988726715588 and 292.5480952333634\n",
            "Pred Min&Max Test: 0.9392459161049869 and 290.59603709048764\n",
            "Pred Min&Max Valid Adj: 1.032988726715588 and 292.5480952333634\n",
            "Pred Min&Max Test Adj: 1.0 and 290.59603709048764\n",
            "Fold 1 → Training set Score: 0.05653 | Validation set Score: 0.05958\n",
            "Training until validation scores don't improve for 101 rounds\n",
            "Early stopping, best iteration is:\n",
            "[1593]\tvalid_0's l2: 0.00377433\n",
            "Pred Min&Max Valid: 0.9576994327220378 and 294.9981358836778\n",
            "Pred Min&Max Test: 0.9295468402035408 and 290.6443900313503\n",
            "Pred Min&Max Valid Adj: 1.0 and 294.9981358836778\n",
            "Pred Min&Max Test Adj: 1.0 and 290.6443900313503\n",
            "Fold 2 → Training set Score: 0.05608 | Validation set Score: 0.06144\n",
            "Training until validation scores don't improve for 101 rounds\n",
            "Early stopping, best iteration is:\n",
            "[1224]\tvalid_0's l2: 0.00352347\n",
            "Pred Min&Max Valid: 1.0122898522887636 and 290.82761334657926\n",
            "Pred Min&Max Test: 0.932366875704449 and 290.4432144077622\n",
            "Pred Min&Max Valid Adj: 1.0122898522887636 and 290.82761334657926\n",
            "Pred Min&Max Test Adj: 1.0 and 290.4432144077622\n",
            "Fold 3 → Training set Score: 0.05686 | Validation set Score: 0.05936\n",
            "Training until validation scores don't improve for 101 rounds\n",
            "Early stopping, best iteration is:\n",
            "[1958]\tvalid_0's l2: 0.00387073\n",
            "Pred Min&Max Valid: 0.951238082290189 and 285.0975261224084\n",
            "Pred Min&Max Test: 0.907805715299979 and 291.37503879912595\n",
            "Pred Min&Max Valid Adj: 1.0 and 285.0975261224084\n",
            "Pred Min&Max Test Adj: 1.0 and 291.37503879912595\n",
            "Fold 4 → Training set Score: 0.05533 | Validation set Score: 0.06222\n",
            "Training until validation scores don't improve for 101 rounds\n",
            "Did not meet early stopping. Best iteration is:\n",
            "[2497]\tvalid_0's l2: 0.00356315\n",
            "Pred Min&Max Valid: 0.9022515127780788 and 288.7492806254294\n",
            "Pred Min&Max Test: 0.8689667623138353 and 292.56208944103054\n",
            "Pred Min&Max Valid Adj: 1.0 and 288.7492806254294\n",
            "Pred Min&Max Test Adj: 1.0 and 292.56208944103054\n",
            "Fold 5 → Training set Score: 0.05472 | Validation set Score: 0.05969\n",
            "Training until validation scores don't improve for 101 rounds\n",
            "Early stopping, best iteration is:\n",
            "[1265]\tvalid_0's l2: 0.00363715\n",
            "Pred Min&Max Valid: 1.0017598481556813 and 320.82072154866967\n",
            "Pred Min&Max Test: 0.9167748619992193 and 291.08720465118404\n",
            "Pred Min&Max Valid Adj: 1.0017598481556813 and 315.0\n",
            "Pred Min&Max Test Adj: 1.0 and 291.08720465118404\n",
            "Fold 6 → Training set Score: 0.05672 | Validation set Score: 0.06031\n",
            "Training until validation scores don't improve for 101 rounds\n",
            "Early stopping, best iteration is:\n",
            "[1348]\tvalid_0's l2: 0.00333798\n",
            "Pred Min&Max Valid: 0.8928070772477594 and 291.61604927011973\n",
            "Pred Min&Max Test: 0.8928070772477594 and 291.1360023795073\n",
            "Pred Min&Max Valid Adj: 1.0 and 291.61604927011973\n",
            "Pred Min&Max Test Adj: 1.0 and 291.1360023795073\n",
            "Fold 7 → Training set Score: 0.05675 | Validation set Score: 0.05777\n",
            "Training until validation scores don't improve for 101 rounds\n",
            "Early stopping, best iteration is:\n",
            "[1300]\tvalid_0's l2: 0.00350224\n",
            "Pred Min&Max Valid: 0.9844010137133263 and 288.7690121939562\n",
            "Pred Min&Max Test: 0.9429799324892129 and 292.0946460285041\n",
            "Pred Min&Max Valid Adj: 1.0 and 288.7690121939562\n",
            "Pred Min&Max Test Adj: 1.0 and 292.0946460285041\n",
            "Fold 8 → Training set Score: 0.05674 | Validation set Score: 0.05918\n",
            "Training until validation scores don't improve for 101 rounds\n",
            "Early stopping, best iteration is:\n",
            "[1656]\tvalid_0's l2: 0.00373711\n",
            "Pred Min&Max Valid: 0.9972706934891155 and 292.1492513033814\n",
            "Pred Min&Max Test: 0.9222297030688452 and 292.67545787274685\n",
            "Pred Min&Max Valid Adj: 1.0 and 292.1492513033814\n",
            "Pred Min&Max Test Adj: 1.0 and 292.67545787274685\n",
            "Fold 9 → Training set Score: 0.05594 | Validation set Score: 0.06113\n",
            "Training until validation scores don't improve for 101 rounds\n",
            "Early stopping, best iteration is:\n",
            "[2136]\tvalid_0's l2: 0.00361933\n",
            "Pred Min&Max Valid: 0.9390176544423943 and 291.3545259072416\n",
            "Pred Min&Max Test: 0.9012167524340482 and 291.03644110933504\n",
            "Pred Min&Max Valid Adj: 1.0 and 291.3545259072416\n",
            "Pred Min&Max Test Adj: 1.0 and 291.03644110933504\n",
            "Fold 10 → Training set Score: 0.05523 | Validation set Score: 0.06016\n",
            "Training until validation scores don't improve for 101 rounds\n",
            "Early stopping, best iteration is:\n",
            "[1841]\tvalid_0's l2: 0.00349617\n",
            "Pred Min&Max Valid: 0.9605950186525326 and 291.9831024849306\n",
            "Pred Min&Max Test: 0.8901300468477407 and 291.05935046490816\n",
            "Pred Min&Max Valid Adj: 1.0 and 291.9831024849306\n",
            "Pred Min&Max Test Adj: 1.0 and 291.05935046490816\n",
            "Fold 11 → Training set Score: 0.05574 | Validation set Score: 0.05913\n",
            "Overall → Training set Score: 0.05606±0.0006997 | Validation set Score: 0.06000±0.0011847\n",
            "\n"
          ]
        }
      ],
      "source": [
        "param = {\n",
        "        'num_leaves': 100,\n",
        "        'learning_rate': 0.02,\n",
        "        'min_child_samples': 53,\n",
        "        'subsample': 0.911,\n",
        "        'subsample_freq': 2,\n",
        "        'colsample_bytree': 0.84,\n",
        "        \"reg_alpha\" : 0.9644,\n",
        "        \"reg_lambda\" : 0.011222743073631622,\n",
        "        \"boosting_type\": 'gbdt',\n",
        "        'n_estimators': 2501,\n",
        "        'objective': lgbm_prob[\"objective\"],\n",
        "        'device': 'gpu',\n",
        "        'verbose': -1,\n",
        "        'random_state': 42,\n",
        "        }\n",
        "\n",
        "models={'LGBMR1':[LGBMRegressor(**param),True]}\n",
        "\n",
        "TM = TrainModels(X=X, y=y, X_test=X_test, X_original=None, y_original=None, models=models)\n",
        "TM.fit_models()"
      ]
    },
    {
      "cell_type": "markdown",
      "metadata": {
        "id": "pZjDiaJl1Vmo"
      },
      "source": [
        "### 3.1.3 Store Results:"
      ]
    },
    {
      "cell_type": "code",
      "execution_count": 32,
      "metadata": {
        "id": "VlB6LwBM1Vmp"
      },
      "outputs": [],
      "source": [
        "name_experiment = \"LGBMR1_adj_values\"\n",
        "\n",
        "test_pred = TM.OOF_test.mean(axis=1) #np.expm1(TM.OOF_test.mean(axis=1))\n",
        "train_pred = TM.OOF_train.mean(axis=1) #np.expm1(TM.OOF_train.mean(axis=1))"
      ]
    },
    {
      "cell_type": "code",
      "execution_count": 33,
      "metadata": {
        "colab": {
          "base_uri": "https://localhost:8080/"
        },
        "id": "_uQBmpR11Vmp",
        "outputId": "6a15ff79-2019-4658-c75d-1fb1a5ffe66a"
      },
      "outputs": [
        {
          "output_type": "execute_result",
          "data": {
            "text/plain": [
              "(1.0000000000000002, 291.14381449510853)"
            ]
          },
          "metadata": {},
          "execution_count": 33
        }
      ],
      "source": [
        "test_pred.min(), test_pred.max()"
      ]
    },
    {
      "cell_type": "code",
      "execution_count": 34,
      "metadata": {
        "colab": {
          "base_uri": "https://localhost:8080/",
          "height": 241
        },
        "id": "tQ5-JusS1Vmp",
        "outputId": "e614465e-66e1-47b4-f6e1-d8368ffaf26e"
      },
      "outputs": [
        {
          "output_type": "execute_result",
          "data": {
            "text/plain": [
              "0     27.279653\n",
              "1    107.655338\n",
              "2     87.842934\n",
              "3    126.666362\n",
              "4     76.492034\n",
              "dtype: float64"
            ],
            "text/html": [
              "<div>\n",
              "<style scoped>\n",
              "    .dataframe tbody tr th:only-of-type {\n",
              "        vertical-align: middle;\n",
              "    }\n",
              "\n",
              "    .dataframe tbody tr th {\n",
              "        vertical-align: top;\n",
              "    }\n",
              "\n",
              "    .dataframe thead th {\n",
              "        text-align: right;\n",
              "    }\n",
              "</style>\n",
              "<table border=\"1\" class=\"dataframe\">\n",
              "  <thead>\n",
              "    <tr style=\"text-align: right;\">\n",
              "      <th></th>\n",
              "      <th>0</th>\n",
              "    </tr>\n",
              "  </thead>\n",
              "  <tbody>\n",
              "    <tr>\n",
              "      <th>0</th>\n",
              "      <td>27.279653</td>\n",
              "    </tr>\n",
              "    <tr>\n",
              "      <th>1</th>\n",
              "      <td>107.655338</td>\n",
              "    </tr>\n",
              "    <tr>\n",
              "      <th>2</th>\n",
              "      <td>87.842934</td>\n",
              "    </tr>\n",
              "    <tr>\n",
              "      <th>3</th>\n",
              "      <td>126.666362</td>\n",
              "    </tr>\n",
              "    <tr>\n",
              "      <th>4</th>\n",
              "      <td>76.492034</td>\n",
              "    </tr>\n",
              "  </tbody>\n",
              "</table>\n",
              "</div><br><label><b>dtype:</b> float64</label>"
            ]
          },
          "metadata": {},
          "execution_count": 34
        }
      ],
      "source": [
        "test_pred.head()"
      ]
    },
    {
      "cell_type": "code",
      "execution_count": 35,
      "metadata": {
        "colab": {
          "base_uri": "https://localhost:8080/",
          "height": 238
        },
        "id": "7PWFW2UK1Vmp",
        "outputId": "fcf4ddb8-83b4-4ee7-b508-206ca9543ca3"
      },
      "outputs": [
        {
          "output_type": "execute_result",
          "data": {
            "text/plain": [
              "          Calories\n",
              "id                \n",
              "750000   27.279653\n",
              "750001  107.655338\n",
              "750002   87.842934\n",
              "750003  126.666362\n",
              "750004   76.492034"
            ],
            "text/html": [
              "\n",
              "  <div id=\"df-94b5b742-67af-42f7-801d-c1cf990bd0fd\" class=\"colab-df-container\">\n",
              "    <div>\n",
              "<style scoped>\n",
              "    .dataframe tbody tr th:only-of-type {\n",
              "        vertical-align: middle;\n",
              "    }\n",
              "\n",
              "    .dataframe tbody tr th {\n",
              "        vertical-align: top;\n",
              "    }\n",
              "\n",
              "    .dataframe thead th {\n",
              "        text-align: right;\n",
              "    }\n",
              "</style>\n",
              "<table border=\"1\" class=\"dataframe\">\n",
              "  <thead>\n",
              "    <tr style=\"text-align: right;\">\n",
              "      <th></th>\n",
              "      <th>Calories</th>\n",
              "    </tr>\n",
              "    <tr>\n",
              "      <th>id</th>\n",
              "      <th></th>\n",
              "    </tr>\n",
              "  </thead>\n",
              "  <tbody>\n",
              "    <tr>\n",
              "      <th>750000</th>\n",
              "      <td>27.279653</td>\n",
              "    </tr>\n",
              "    <tr>\n",
              "      <th>750001</th>\n",
              "      <td>107.655338</td>\n",
              "    </tr>\n",
              "    <tr>\n",
              "      <th>750002</th>\n",
              "      <td>87.842934</td>\n",
              "    </tr>\n",
              "    <tr>\n",
              "      <th>750003</th>\n",
              "      <td>126.666362</td>\n",
              "    </tr>\n",
              "    <tr>\n",
              "      <th>750004</th>\n",
              "      <td>76.492034</td>\n",
              "    </tr>\n",
              "  </tbody>\n",
              "</table>\n",
              "</div>\n",
              "    <div class=\"colab-df-buttons\">\n",
              "\n",
              "  <div class=\"colab-df-container\">\n",
              "    <button class=\"colab-df-convert\" onclick=\"convertToInteractive('df-94b5b742-67af-42f7-801d-c1cf990bd0fd')\"\n",
              "            title=\"Convert this dataframe to an interactive table.\"\n",
              "            style=\"display:none;\">\n",
              "\n",
              "  <svg xmlns=\"http://www.w3.org/2000/svg\" height=\"24px\" viewBox=\"0 -960 960 960\">\n",
              "    <path d=\"M120-120v-720h720v720H120Zm60-500h600v-160H180v160Zm220 220h160v-160H400v160Zm0 220h160v-160H400v160ZM180-400h160v-160H180v160Zm440 0h160v-160H620v160ZM180-180h160v-160H180v160Zm440 0h160v-160H620v160Z\"/>\n",
              "  </svg>\n",
              "    </button>\n",
              "\n",
              "  <style>\n",
              "    .colab-df-container {\n",
              "      display:flex;\n",
              "      gap: 12px;\n",
              "    }\n",
              "\n",
              "    .colab-df-convert {\n",
              "      background-color: #E8F0FE;\n",
              "      border: none;\n",
              "      border-radius: 50%;\n",
              "      cursor: pointer;\n",
              "      display: none;\n",
              "      fill: #1967D2;\n",
              "      height: 32px;\n",
              "      padding: 0 0 0 0;\n",
              "      width: 32px;\n",
              "    }\n",
              "\n",
              "    .colab-df-convert:hover {\n",
              "      background-color: #E2EBFA;\n",
              "      box-shadow: 0px 1px 2px rgba(60, 64, 67, 0.3), 0px 1px 3px 1px rgba(60, 64, 67, 0.15);\n",
              "      fill: #174EA6;\n",
              "    }\n",
              "\n",
              "    .colab-df-buttons div {\n",
              "      margin-bottom: 4px;\n",
              "    }\n",
              "\n",
              "    [theme=dark] .colab-df-convert {\n",
              "      background-color: #3B4455;\n",
              "      fill: #D2E3FC;\n",
              "    }\n",
              "\n",
              "    [theme=dark] .colab-df-convert:hover {\n",
              "      background-color: #434B5C;\n",
              "      box-shadow: 0px 1px 3px 1px rgba(0, 0, 0, 0.15);\n",
              "      filter: drop-shadow(0px 1px 2px rgba(0, 0, 0, 0.3));\n",
              "      fill: #FFFFFF;\n",
              "    }\n",
              "  </style>\n",
              "\n",
              "    <script>\n",
              "      const buttonEl =\n",
              "        document.querySelector('#df-94b5b742-67af-42f7-801d-c1cf990bd0fd button.colab-df-convert');\n",
              "      buttonEl.style.display =\n",
              "        google.colab.kernel.accessAllowed ? 'block' : 'none';\n",
              "\n",
              "      async function convertToInteractive(key) {\n",
              "        const element = document.querySelector('#df-94b5b742-67af-42f7-801d-c1cf990bd0fd');\n",
              "        const dataTable =\n",
              "          await google.colab.kernel.invokeFunction('convertToInteractive',\n",
              "                                                    [key], {});\n",
              "        if (!dataTable) return;\n",
              "\n",
              "        const docLinkHtml = 'Like what you see? Visit the ' +\n",
              "          '<a target=\"_blank\" href=https://colab.research.google.com/notebooks/data_table.ipynb>data table notebook</a>'\n",
              "          + ' to learn more about interactive tables.';\n",
              "        element.innerHTML = '';\n",
              "        dataTable['output_type'] = 'display_data';\n",
              "        await google.colab.output.renderOutput(dataTable, element);\n",
              "        const docLink = document.createElement('div');\n",
              "        docLink.innerHTML = docLinkHtml;\n",
              "        element.appendChild(docLink);\n",
              "      }\n",
              "    </script>\n",
              "  </div>\n",
              "\n",
              "\n",
              "    <div id=\"df-5ab08959-a0cf-4860-a282-4b28efb6e6ab\">\n",
              "      <button class=\"colab-df-quickchart\" onclick=\"quickchart('df-5ab08959-a0cf-4860-a282-4b28efb6e6ab')\"\n",
              "                title=\"Suggest charts\"\n",
              "                style=\"display:none;\">\n",
              "\n",
              "<svg xmlns=\"http://www.w3.org/2000/svg\" height=\"24px\"viewBox=\"0 0 24 24\"\n",
              "     width=\"24px\">\n",
              "    <g>\n",
              "        <path d=\"M19 3H5c-1.1 0-2 .9-2 2v14c0 1.1.9 2 2 2h14c1.1 0 2-.9 2-2V5c0-1.1-.9-2-2-2zM9 17H7v-7h2v7zm4 0h-2V7h2v10zm4 0h-2v-4h2v4z\"/>\n",
              "    </g>\n",
              "</svg>\n",
              "      </button>\n",
              "\n",
              "<style>\n",
              "  .colab-df-quickchart {\n",
              "      --bg-color: #E8F0FE;\n",
              "      --fill-color: #1967D2;\n",
              "      --hover-bg-color: #E2EBFA;\n",
              "      --hover-fill-color: #174EA6;\n",
              "      --disabled-fill-color: #AAA;\n",
              "      --disabled-bg-color: #DDD;\n",
              "  }\n",
              "\n",
              "  [theme=dark] .colab-df-quickchart {\n",
              "      --bg-color: #3B4455;\n",
              "      --fill-color: #D2E3FC;\n",
              "      --hover-bg-color: #434B5C;\n",
              "      --hover-fill-color: #FFFFFF;\n",
              "      --disabled-bg-color: #3B4455;\n",
              "      --disabled-fill-color: #666;\n",
              "  }\n",
              "\n",
              "  .colab-df-quickchart {\n",
              "    background-color: var(--bg-color);\n",
              "    border: none;\n",
              "    border-radius: 50%;\n",
              "    cursor: pointer;\n",
              "    display: none;\n",
              "    fill: var(--fill-color);\n",
              "    height: 32px;\n",
              "    padding: 0;\n",
              "    width: 32px;\n",
              "  }\n",
              "\n",
              "  .colab-df-quickchart:hover {\n",
              "    background-color: var(--hover-bg-color);\n",
              "    box-shadow: 0 1px 2px rgba(60, 64, 67, 0.3), 0 1px 3px 1px rgba(60, 64, 67, 0.15);\n",
              "    fill: var(--button-hover-fill-color);\n",
              "  }\n",
              "\n",
              "  .colab-df-quickchart-complete:disabled,\n",
              "  .colab-df-quickchart-complete:disabled:hover {\n",
              "    background-color: var(--disabled-bg-color);\n",
              "    fill: var(--disabled-fill-color);\n",
              "    box-shadow: none;\n",
              "  }\n",
              "\n",
              "  .colab-df-spinner {\n",
              "    border: 2px solid var(--fill-color);\n",
              "    border-color: transparent;\n",
              "    border-bottom-color: var(--fill-color);\n",
              "    animation:\n",
              "      spin 1s steps(1) infinite;\n",
              "  }\n",
              "\n",
              "  @keyframes spin {\n",
              "    0% {\n",
              "      border-color: transparent;\n",
              "      border-bottom-color: var(--fill-color);\n",
              "      border-left-color: var(--fill-color);\n",
              "    }\n",
              "    20% {\n",
              "      border-color: transparent;\n",
              "      border-left-color: var(--fill-color);\n",
              "      border-top-color: var(--fill-color);\n",
              "    }\n",
              "    30% {\n",
              "      border-color: transparent;\n",
              "      border-left-color: var(--fill-color);\n",
              "      border-top-color: var(--fill-color);\n",
              "      border-right-color: var(--fill-color);\n",
              "    }\n",
              "    40% {\n",
              "      border-color: transparent;\n",
              "      border-right-color: var(--fill-color);\n",
              "      border-top-color: var(--fill-color);\n",
              "    }\n",
              "    60% {\n",
              "      border-color: transparent;\n",
              "      border-right-color: var(--fill-color);\n",
              "    }\n",
              "    80% {\n",
              "      border-color: transparent;\n",
              "      border-right-color: var(--fill-color);\n",
              "      border-bottom-color: var(--fill-color);\n",
              "    }\n",
              "    90% {\n",
              "      border-color: transparent;\n",
              "      border-bottom-color: var(--fill-color);\n",
              "    }\n",
              "  }\n",
              "</style>\n",
              "\n",
              "      <script>\n",
              "        async function quickchart(key) {\n",
              "          const quickchartButtonEl =\n",
              "            document.querySelector('#' + key + ' button');\n",
              "          quickchartButtonEl.disabled = true;  // To prevent multiple clicks.\n",
              "          quickchartButtonEl.classList.add('colab-df-spinner');\n",
              "          try {\n",
              "            const charts = await google.colab.kernel.invokeFunction(\n",
              "                'suggestCharts', [key], {});\n",
              "          } catch (error) {\n",
              "            console.error('Error during call to suggestCharts:', error);\n",
              "          }\n",
              "          quickchartButtonEl.classList.remove('colab-df-spinner');\n",
              "          quickchartButtonEl.classList.add('colab-df-quickchart-complete');\n",
              "        }\n",
              "        (() => {\n",
              "          let quickchartButtonEl =\n",
              "            document.querySelector('#df-5ab08959-a0cf-4860-a282-4b28efb6e6ab button');\n",
              "          quickchartButtonEl.style.display =\n",
              "            google.colab.kernel.accessAllowed ? 'block' : 'none';\n",
              "        })();\n",
              "      </script>\n",
              "    </div>\n",
              "\n",
              "    </div>\n",
              "  </div>\n"
            ],
            "application/vnd.google.colaboratory.intrinsic+json": {
              "type": "dataframe",
              "variable_name": "sub"
            }
          },
          "metadata": {},
          "execution_count": 35
        }
      ],
      "source": [
        "sub[\"Calories\"] =  test_pred.values\n",
        "\n",
        "sub.head()"
      ]
    },
    {
      "cell_type": "code",
      "execution_count": 36,
      "metadata": {
        "colab": {
          "base_uri": "https://localhost:8080/",
          "height": 241
        },
        "id": "IUGHbTAi1Vmp",
        "outputId": "2f3a161f-5c47-43c1-9ed3-035bf15d0d40"
      },
      "outputs": [
        {
          "data": {
            "text/html": [
              "<div>\n",
              "<style scoped>\n",
              "    .dataframe tbody tr th:only-of-type {\n",
              "        vertical-align: middle;\n",
              "    }\n",
              "\n",
              "    .dataframe tbody tr th {\n",
              "        vertical-align: top;\n",
              "    }\n",
              "\n",
              "    .dataframe thead th {\n",
              "        text-align: right;\n",
              "    }\n",
              "</style>\n",
              "<table border=\"1\" class=\"dataframe\">\n",
              "  <thead>\n",
              "    <tr style=\"text-align: right;\">\n",
              "      <th></th>\n",
              "      <th>0</th>\n",
              "    </tr>\n",
              "  </thead>\n",
              "  <tbody>\n",
              "    <tr>\n",
              "      <th>0</th>\n",
              "      <td>146.999462</td>\n",
              "    </tr>\n",
              "    <tr>\n",
              "      <th>1</th>\n",
              "      <td>36.106989</td>\n",
              "    </tr>\n",
              "    <tr>\n",
              "      <th>2</th>\n",
              "      <td>29.404559</td>\n",
              "    </tr>\n",
              "    <tr>\n",
              "      <th>3</th>\n",
              "      <td>137.793549</td>\n",
              "    </tr>\n",
              "    <tr>\n",
              "      <th>4</th>\n",
              "      <td>145.848326</td>\n",
              "    </tr>\n",
              "  </tbody>\n",
              "</table>\n",
              "</div><br><label><b>dtype:</b> float64</label>"
            ],
            "text/plain": [
              "0    146.999462\n",
              "1     36.106989\n",
              "2     29.404559\n",
              "3    137.793549\n",
              "4    145.848326\n",
              "dtype: float64"
            ]
          },
          "execution_count": 36,
          "metadata": {},
          "output_type": "execute_result"
        }
      ],
      "source": [
        "train_pred.head()"
      ]
    },
    {
      "cell_type": "code",
      "execution_count": 37,
      "metadata": {
        "colab": {
          "base_uri": "https://localhost:8080/",
          "height": 345
        },
        "id": "8uwxs2KH1Vmq",
        "outputId": "36044a6b-0b0d-4a6f-c1ca-49e482c1cf7b"
      },
      "outputs": [
        {
          "output_type": "display_data",
          "data": {
            "text/plain": [
              "<Figure size 1440x360 with 2 Axes>"
            ],
            "image/png": "[encoded data removed]"
          },
          "metadata": {}
        }
      ],
      "source": [
        "fig, ax = plt.subplots(1,2,figsize=(12,3))\n",
        "\n",
        "ax[0].hist(train_pred, bins=31)\n",
        "ax[1].hist(sub, bins=31, color=\"salmon\")\n",
        "\n",
        "plt.show()"
      ]
    },
    {
      "cell_type": "code",
      "execution_count": 38,
      "metadata": {
        "id": "Re5jkuaZ1Vmq"
      },
      "outputs": [],
      "source": [
        "sub.to_csv(f\"/content/drive/MyDrive/Exercises/Studies_Structured_Data/Data/S5E5/submission_{name_experiment}.csv\")\n",
        "train_pred.to_csv(f\"/content/drive/MyDrive/Exercises/Studies_Structured_Data/Data/S5E5/train_pred_{name_experiment}.csv\")"
      ]
    },
    {
      "cell_type": "markdown",
      "metadata": {
        "id": "W0oYqtUw-m5K"
      },
      "source": [
        "## **3.3.0 XGBRegressor**"
      ]
    },
    {
      "cell_type": "code",
      "execution_count": 39,
      "metadata": {
        "id": "JRnV69tR-m5M"
      },
      "outputs": [],
      "source": [
        "import xgboost as xgb\n",
        "xgb_prob = {'objective': \"reg:squarederror\",'eval_metric': \"rmse\"}"
      ]
    },
    {
      "cell_type": "code",
      "source": [
        "X = data.X\n",
        "y = np.log1p(data.y)\n",
        "categorical_features = X.select_dtypes(include=['category', 'bool', 'category','int']).columns.to_list()\n",
        "categorical_features"
      ],
      "metadata": {
        "colab": {
          "base_uri": "https://localhost:8080/"
        },
        "outputId": "0d2ac11b-3a0a-4833-a86c-071795818824",
        "id": "5-xmRGCW-m5N"
      },
      "execution_count": 40,
      "outputs": [
        {
          "output_type": "execute_result",
          "data": {
            "text/plain": [
              "['Sex', 'Outliers_Duration_Heart_Temp', 'Age_Group']"
            ]
          },
          "metadata": {},
          "execution_count": 40
        }
      ]
    },
    {
      "cell_type": "markdown",
      "metadata": {
        "id": "fRvbZhXj-m5O"
      },
      "source": [
        "### 3.2.1 Optuna Optimization:"
      ]
    },
    {
      "cell_type": "code",
      "execution_count": 46,
      "metadata": {
        "id": "RzbjI3mo-m5P"
      },
      "outputs": [],
      "source": [
        "def objective_xgb(trial, X, y, n_splits=5, n_repeats=5, model=XGBRegressor, use_gpu=True, rs=42, fit_scaling=False, cv_strategy=\"KFold\", metrics=xgb_prob, categorical_features=categorical_features):\n",
        "\n",
        "    model_class = model\n",
        "\n",
        "    num_cols = [col for col in X.columns if col not in categorical_features]\n",
        "\n",
        "    params = {\n",
        "              'n_estimators': 2000,\n",
        "              'learning_rate': 0.02, #trial.suggest_float('learning_rate', 0.01, 0.3, log=True),\n",
        "              'max_depth': trial.suggest_int('max_depth', 7, 15),\n",
        "              'max_bin': trial.suggest_int('max_bin', 255, 511),\n",
        "              'min_child_weight': trial.suggest_int('min_child_weight', 1, 12),\n",
        "              'subsample': trial.suggest_float('subsample', 0.5, 0.975, step=0.025),\n",
        "              'colsample_bytree': trial.suggest_float('colsample_bytree', 0.5, 0.975, step=0.025),\n",
        "              'gamma': trial.suggest_float('gamma', 0, 1),\n",
        "              'reg_alpha': trial.suggest_float('reg_alpha', 0.00001, 1.0, log=True),\n",
        "              'reg_lambda': trial.suggest_float('reg_lambda', 0.00001, 10, log=True),\n",
        "              'objective':  metrics[\"objective\"],  # For binary classification\n",
        "              'eval_metric': metrics[\"eval_metric\"],\n",
        "              \"early_stopping_rounds\":101,\n",
        "              'tree_method': 'gpu_hist' if use_gpu else 'hist',  # Use GPU if available\n",
        "              'random_state': rs,\n",
        "              'enable_categorical': True,\n",
        "#              'scale_pos_weight': sample_pos_weight,\n",
        "             }\n",
        "\n",
        "    if cv_strategy == 'RepKFold':\n",
        "        kf = RepeatedKFold(n_splits=n_splits, n_repeats=n_repeats, random_state=rs)\n",
        "    elif cv_strategy == 'KFold':\n",
        "        kf = KFold(n_splits=n_splits, random_state=rs, shuffle=True)\n",
        "    elif cv_strategy == \"StratKFold\":\n",
        "        kf = StratifiedKFold(n_splits=n_splits, random_state=rs, shuffle=True)\n",
        "    elif cv_strategy == \"RepStratKFold\":\n",
        "        kf = RepeatedStratifiedKFold(n_splits=n_splits, n_repeats=n_repeats, random_state=rs)\n",
        "\n",
        "    rmse_scores = []\n",
        "\n",
        "    for idx_train, idx_valid in kf.split(X, y):\n",
        "\n",
        "        # Split the data into training and validation sets for the current fold\n",
        "        X_train, y_train = X.iloc[idx_train], y.iloc[idx_train].to_numpy().reshape(-1, 1)\n",
        "        X_valid, y_valid = X.iloc[idx_valid], y.iloc[idx_valid].to_numpy().reshape(-1, 1)\n",
        "\n",
        "        if fit_scaling:\n",
        "            scaler = StandardScaler()\n",
        "            X_train[num_cols] = scaler.fit_transform(X_train[num_cols])\n",
        "            X_valid[num_cols] = scaler.transform(X_valid[num_cols])\n",
        "\n",
        "        # Create the datasets for LightGBM\n",
        "        # d_train = lgb.Dataset(X_train, label=y_train, categorical_feature=categorical_features)\n",
        "        # d_valid = lgb.Dataset(X_valid, label=y_valid, categorical_feature=categorical_features)\n",
        "\n",
        "        # Create the model\n",
        "        model = model_class(**params)\n",
        "\n",
        "        # Fit the model\n",
        "        model.fit(X_train, y_train,\n",
        "                  eval_set=[(X_valid, y_valid)],\n",
        "                  verbose=False)\n",
        "\n",
        "        # Make predictions on the validation set\n",
        "        y_pred = model.predict(X_valid)\n",
        "\n",
        "        # Calculate the RMSE for the current fold\n",
        "\n",
        "        rmse_score = root_mean_squared_error(y_valid, y_pred)\n",
        "        rmse_scores.append(rmse_score)\n",
        "\n",
        "    # Calculate the mean RMSLE score across all folds\n",
        "    key_metric = np.mean(rmse_scores)\n",
        "\n",
        "    return key_metric"
      ]
    },
    {
      "cell_type": "code",
      "execution_count": 49,
      "metadata": {
        "id": "ZIEoCM9k-m5P"
      },
      "outputs": [],
      "source": [
        "# Step 2: Tuning Hyperparameters with Optuna\n",
        "def tune_hyperparameters(X, y, model_class, n_trials, n_splits_ ,n_repeats_, use_gpu=True):  #use_gpu\n",
        "    study = optuna.create_study(direction=\"minimize\", sampler=optuna.samplers.TPESampler(), pruner=optuna.pruners.MedianPruner(n_warmup_steps=50))\n",
        "    study.optimize(lambda trial: objective_xgb(trial, X, y, n_splits=n_splits_, n_repeats=n_repeats_, model=model_class, use_gpu=use_gpu, cv_strategy=\"KFold\"), n_trials=n_trials)\n",
        "    return study  # Return the study object\n",
        "\n",
        "# Step 3: Saving Best Results and Models\n",
        "def save_results(study, model_class, model_name):\n",
        "    best_params_file = f\"{model_name}_best_params.joblib\"\n",
        "    joblib.dump(study.best_params, best_params_file)\n",
        "    print(f\"Best parameters for {model_name} saved to {best_params_file}\")\n",
        "\n",
        "    verbose_file = f\"{model_name}_optuna_verbose.log\"\n",
        "    with open(verbose_file, \"w\") as f:\n",
        "        f.write(str(study.trials))\n",
        "    print(f\"Optuna verbose for {model_name} saved to {verbose_file}\")# usage with XGBRegressor"
      ]
    },
    {
      "cell_type": "code",
      "execution_count": 50,
      "metadata": {
        "colab": {
          "base_uri": "https://localhost:8080/"
        },
        "id": "zrCAdMiN-m5Q",
        "outputId": "f956481e-473d-48a5-d1fe-e6e10f3c52c3"
      },
      "outputs": [
        {
          "output_type": "stream",
          "name": "stderr",
          "text": [
            "[I 2025-05-13 23:56:32,557] A new study created in memory with name: no-name-f61b9563-6cd9-409b-a823-4830f8bc403b\n",
            "[I 2025-05-13 23:56:47,659] Trial 0 finished with value: 0.06529265510506486 and parameters: {'max_depth': 3, 'max_bin': 364, 'min_child_weight': 4, 'subsample': 0.925, 'colsample_bytree': 0.925, 'gamma': 0.5853199987791803, 'reg_alpha': 9.334851179109873e-05, 'reg_lambda': 0.13678509600698566}. Best is trial 0 with value: 0.06529265510506486.\n",
            "[I 2025-05-13 23:57:00,992] Trial 1 finished with value: 0.0620054812155601 and parameters: {'max_depth': 6, 'max_bin': 286, 'min_child_weight': 6, 'subsample': 0.875, 'colsample_bytree': 0.925, 'gamma': 0.5323086203317581, 'reg_alpha': 0.0018671894773744566, 'reg_lambda': 0.0003852197809192416}. Best is trial 1 with value: 0.0620054812155601.\n",
            "[I 2025-05-13 23:57:14,664] Trial 2 finished with value: 0.060875612289450355 and parameters: {'max_depth': 7, 'max_bin': 357, 'min_child_weight': 12, 'subsample': 0.8500000000000001, 'colsample_bytree': 0.8, 'gamma': 0.178738274341804, 'reg_alpha': 0.0022482006253020945, 'reg_lambda': 4.577682253027604e-05}. Best is trial 2 with value: 0.060875612289450355.\n",
            "[I 2025-05-13 23:57:26,559] Trial 3 finished with value: 0.06498220811658775 and parameters: {'max_depth': 4, 'max_bin': 361, 'min_child_weight': 9, 'subsample': 0.825, 'colsample_bytree': 0.925, 'gamma': 0.7959737471529797, 'reg_alpha': 1.7332446167972172e-05, 'reg_lambda': 2.632688743092755}. Best is trial 2 with value: 0.060875612289450355.\n",
            "[I 2025-05-13 23:57:45,385] Trial 4 finished with value: 0.061163859291907686 and parameters: {'max_depth': 10, 'max_bin': 479, 'min_child_weight': 10, 'subsample': 0.925, 'colsample_bytree': 0.675, 'gamma': 0.49261124821714175, 'reg_alpha': 6.0029495167202926e-05, 'reg_lambda': 1.4464157460281626}. Best is trial 2 with value: 0.060875612289450355.\n",
            "[I 2025-05-13 23:57:57,793] Trial 5 finished with value: 0.06353013310440059 and parameters: {'max_depth': 5, 'max_bin': 333, 'min_child_weight': 12, 'subsample': 0.9, 'colsample_bytree': 0.825, 'gamma': 0.7715579347547814, 'reg_alpha': 0.00018909716722202423, 'reg_lambda': 0.000747342409890726}. Best is trial 2 with value: 0.060875612289450355.\n",
            "[I 2025-05-13 23:58:14,732] Trial 6 finished with value: 0.06107187126602896 and parameters: {'max_depth': 9, 'max_bin': 435, 'min_child_weight': 10, 'subsample': 0.675, 'colsample_bytree': 0.775, 'gamma': 0.4629436008061365, 'reg_alpha': 1.3161828340519335e-05, 'reg_lambda': 0.0003363888703174185}. Best is trial 2 with value: 0.060875612289450355.\n",
            "[I 2025-05-13 23:58:25,841] Trial 7 finished with value: 0.06234284453185264 and parameters: {'max_depth': 6, 'max_bin': 427, 'min_child_weight': 7, 'subsample': 0.95, 'colsample_bytree': 0.9, 'gamma': 0.8459341388286613, 'reg_alpha': 0.0006830574135212922, 'reg_lambda': 1.193621870579611e-05}. Best is trial 2 with value: 0.060875612289450355.\n",
            "[I 2025-05-13 23:58:43,822] Trial 8 finished with value: 0.0612661130934178 and parameters: {'max_depth': 11, 'max_bin': 463, 'min_child_weight': 5, 'subsample': 0.625, 'colsample_bytree': 0.875, 'gamma': 0.6542734081373073, 'reg_alpha': 0.4265979109926748, 'reg_lambda': 0.2674248326366859}. Best is trial 2 with value: 0.060875612289450355.\n",
            "[I 2025-05-13 23:58:55,885] Trial 9 finished with value: 0.0654193834941527 and parameters: {'max_depth': 3, 'max_bin': 430, 'min_child_weight': 6, 'subsample': 0.725, 'colsample_bytree': 0.775, 'gamma': 0.7738242048058911, 'reg_alpha': 0.008725262582134245, 'reg_lambda': 0.07629770580167611}. Best is trial 2 with value: 0.060875612289450355.\n",
            "[I 2025-05-13 23:59:15,306] Trial 10 finished with value: 0.061133553688427135 and parameters: {'max_depth': 8, 'max_bin': 280, 'min_child_weight': 1, 'subsample': 0.5, 'colsample_bytree': 0.5, 'gamma': 0.09564220009364777, 'reg_alpha': 0.022000657389297767, 'reg_lambda': 1.22356191744771e-05}. Best is trial 2 with value: 0.060875612289450355.\n",
            "[I 2025-05-13 23:59:32,639] Trial 11 finished with value: 0.0609406522756498 and parameters: {'max_depth': 9, 'max_bin': 407, 'min_child_weight': 12, 'subsample': 0.7, 'colsample_bytree': 0.675, 'gamma': 0.2505395595177349, 'reg_alpha': 0.2278567960737405, 'reg_lambda': 0.000344923340341444}. Best is trial 2 with value: 0.060875612289450355.\n",
            "[I 2025-05-13 23:59:59,433] Trial 12 finished with value: 0.06077217567731995 and parameters: {'max_depth': 12, 'max_bin': 389, 'min_child_weight': 12, 'subsample': 0.8, 'colsample_bytree': 0.65, 'gamma': 0.1974041284386524, 'reg_alpha': 0.1059923928384762, 'reg_lambda': 0.004855029869544304}. Best is trial 12 with value: 0.06077217567731995.\n",
            "[I 2025-05-14 00:00:50,580] Trial 13 finished with value: 0.060350648468811594 and parameters: {'max_depth': 12, 'max_bin': 326, 'min_child_weight': 12, 'subsample': 0.8, 'colsample_bytree': 0.6, 'gamma': 0.018508753127972066, 'reg_alpha': 0.0552671436393784, 'reg_lambda': 0.005694020488157845}. Best is trial 13 with value: 0.060350648468811594.\n",
            "[I 2025-05-14 00:01:32,870] Trial 14 finished with value: 0.06075789188391183 and parameters: {'max_depth': 12, 'max_bin': 315, 'min_child_weight': 9, 'subsample': 0.775, 'colsample_bytree': 0.55, 'gamma': 0.036870059849070824, 'reg_alpha': 0.05885316112773869, 'reg_lambda': 0.0049250314423676545}. Best is trial 13 with value: 0.060350648468811594.\n",
            "[I 2025-05-14 00:02:23,124] Trial 15 finished with value: 0.060732249700172436 and parameters: {'max_depth': 12, 'max_bin': 320, 'min_child_weight': 8, 'subsample': 0.775, 'colsample_bytree': 0.5, 'gamma': 0.023502071296870455, 'reg_alpha': 0.047416899392530756, 'reg_lambda': 0.008433949629746059}. Best is trial 13 with value: 0.060350648468811594.\n",
            "[I 2025-05-14 00:02:44,632] Trial 16 finished with value: 0.06170792241048967 and parameters: {'max_depth': 11, 'max_bin': 256, 'min_child_weight': 3, 'subsample': 0.625, 'colsample_bytree': 0.575, 'gamma': 0.3354114630347529, 'reg_alpha': 0.9873445399197669, 'reg_lambda': 0.020184254690459202}. Best is trial 13 with value: 0.060350648468811594.\n",
            "[I 2025-05-14 00:03:03,344] Trial 17 finished with value: 0.06105385135423637 and parameters: {'max_depth': 10, 'max_bin': 312, 'min_child_weight': 8, 'subsample': 0.775, 'colsample_bytree': 0.6, 'gamma': 0.33524221222943124, 'reg_alpha': 0.015906652367994725, 'reg_lambda': 0.015655777899834456}. Best is trial 13 with value: 0.060350648468811594.\n",
            "[I 2025-05-14 00:03:20,081] Trial 18 finished with value: 0.06292058506997347 and parameters: {'max_depth': 12, 'max_bin': 332, 'min_child_weight': 10, 'subsample': 0.525, 'colsample_bytree': 0.5, 'gamma': 0.9926023072488238, 'reg_alpha': 0.04723997565132562, 'reg_lambda': 0.0013352160009310176}. Best is trial 13 with value: 0.060350648468811594.\n",
            "[I 2025-05-14 00:03:55,792] Trial 19 finished with value: 0.06026561787609451 and parameters: {'max_depth': 11, 'max_bin': 506, 'min_child_weight': 8, 'subsample': 0.75, 'colsample_bytree': 0.625, 'gamma': 0.03198716430356102, 'reg_alpha': 0.005920920023078226, 'reg_lambda': 9.235055695333049}. Best is trial 19 with value: 0.06026561787609451.\n",
            "[I 2025-05-14 00:04:20,881] Trial 20 finished with value: 0.0604551932139641 and parameters: {'max_depth': 10, 'max_bin': 507, 'min_child_weight': 2, 'subsample': 0.65, 'colsample_bytree': 0.725, 'gamma': 0.12057683168076294, 'reg_alpha': 0.000781785761512836, 'reg_lambda': 5.616851101479858}. Best is trial 19 with value: 0.06026561787609451.\n",
            "[I 2025-05-14 00:04:48,853] Trial 21 finished with value: 0.060509401824771256 and parameters: {'max_depth': 10, 'max_bin': 510, 'min_child_weight': 1, 'subsample': 0.65, 'colsample_bytree': 0.725, 'gamma': 0.11283242166307769, 'reg_alpha': 0.005184173223404903, 'reg_lambda': 7.392186945435729}. Best is trial 19 with value: 0.06026561787609451.\n",
            "[I 2025-05-14 00:05:26,609] Trial 22 finished with value: 0.0602147861785423 and parameters: {'max_depth': 11, 'max_bin': 510, 'min_child_weight': 3, 'subsample': 0.575, 'colsample_bytree': 0.625, 'gamma': 0.021768835141640692, 'reg_alpha': 0.0007093863226804355, 'reg_lambda': 0.7040293909117527}. Best is trial 22 with value: 0.0602147861785423.\n",
            "[I 2025-05-14 00:05:47,475] Trial 23 finished with value: 0.06102519565401473 and parameters: {'max_depth': 11, 'max_bin': 475, 'min_child_weight': 4, 'subsample': 0.55, 'colsample_bytree': 0.6, 'gamma': 0.2887956920267579, 'reg_alpha': 0.0006074904734497947, 'reg_lambda': 0.6204430663841445}. Best is trial 22 with value: 0.0602147861785423.\n",
            "[I 2025-05-14 00:06:18,476] Trial 24 finished with value: 0.06024260720312259 and parameters: {'max_depth': 9, 'max_bin': 493, 'min_child_weight': 5, 'subsample': 0.575, 'colsample_bytree': 0.65, 'gamma': 0.005279479682215683, 'reg_alpha': 0.004641947307868475, 'reg_lambda': 0.05355723390937575}. Best is trial 22 with value: 0.0602147861785423.\n",
            "[I 2025-05-14 00:06:49,036] Trial 25 finished with value: 0.06028009808685201 and parameters: {'max_depth': 8, 'max_bin': 491, 'min_child_weight': 5, 'subsample': 0.6, 'colsample_bytree': 0.65, 'gamma': 0.005526354594843932, 'reg_alpha': 0.003099311539085243, 'reg_lambda': 0.8061743642620728}. Best is trial 22 with value: 0.0602147861785423.\n",
            "[I 2025-05-14 00:07:07,053] Trial 26 finished with value: 0.061077613319862764 and parameters: {'max_depth': 9, 'max_bin': 455, 'min_child_weight': 3, 'subsample': 0.575, 'colsample_bytree': 0.7, 'gamma': 0.3920261311285902, 'reg_alpha': 0.0003254977076259817, 'reg_lambda': 0.05794212810514074}. Best is trial 22 with value: 0.0602147861785423.\n",
            "[I 2025-05-14 00:07:32,083] Trial 27 finished with value: 0.061121242035771864 and parameters: {'max_depth': 11, 'max_bin': 492, 'min_child_weight': 7, 'subsample': 0.725, 'colsample_bytree': 0.55, 'gamma': 0.18165630950507602, 'reg_alpha': 0.0013382475862118357, 'reg_lambda': 0.32244757548031633}. Best is trial 22 with value: 0.0602147861785423.\n",
            "[I 2025-05-14 00:07:53,158] Trial 28 finished with value: 0.060585479162935274 and parameters: {'max_depth': 9, 'max_bin': 452, 'min_child_weight': 5, 'subsample': 0.525, 'colsample_bytree': 0.625, 'gamma': 0.08300014549038395, 'reg_alpha': 0.006611887270293495, 'reg_lambda': 2.8725561814111984}. Best is trial 22 with value: 0.0602147861785423.\n",
            "[I 2025-05-14 00:08:10,883] Trial 29 finished with value: 0.06137616558447069 and parameters: {'max_depth': 8, 'max_bin': 493, 'min_child_weight': 4, 'subsample': 0.575, 'colsample_bytree': 0.55, 'gamma': 0.20820767922399552, 'reg_alpha': 0.00012432850387365143, 'reg_lambda': 0.1656888253380197}. Best is trial 22 with value: 0.0602147861785423.\n",
            "[I 2025-05-14 00:08:28,667] Trial 30 finished with value: 0.06108701461638292 and parameters: {'max_depth': 7, 'max_bin': 509, 'min_child_weight': 3, 'subsample': 0.675, 'colsample_bytree': 0.65, 'gamma': 0.15421284270936855, 'reg_alpha': 0.017373161577890157, 'reg_lambda': 9.503655092825545}. Best is trial 22 with value: 0.0602147861785423.\n"
          ]
        },
        {
          "output_type": "stream",
          "name": "stdout",
          "text": [
            "Best parameters for LGBMBoost_ext saved to LGBMBoost_ext_best_params.joblib\n",
            "Optuna verbose for LGBMBoost_ext saved to LGBMBoost_ext_optuna_verbose.log\n"
          ]
        }
      ],
      "source": [
        "cat_study = tune_hyperparameters(X, y, model_class=XGBRegressor, n_trials=31, n_splits_ = 5 ,n_repeats_=3, use_gpu=True)\n",
        "save_results(cat_study, objective_xgb, \"XGBoost_ext\")\n",
        "cat_params = cat_study.best_params"
      ]
    },
    {
      "cell_type": "markdown",
      "source": [
        "  1. Trial 22 finished with value: 0.0602147861785423 and parameters: {'max_depth': 11, 'max_bin': 510, 'min_child_weight': 3, 'subsample': 0.575, 'colsample_bytree': 0.625, 'gamma': 0.021768835141640692, 'reg_alpha': 0.0007093863226804355, 'reg_lambda': 0.7040293909117527}"
      ],
      "metadata": {
        "id": "7nYb4fyM-m5Q"
      }
    },
    {
      "cell_type": "code",
      "source": [
        "cat_params"
      ],
      "metadata": {
        "colab": {
          "base_uri": "https://localhost:8080/"
        },
        "id": "Rwx3xLSvIHM9",
        "outputId": "c55fec2e-0802-41f4-d744-43247d63ba7c"
      },
      "execution_count": 52,
      "outputs": [
        {
          "output_type": "execute_result",
          "data": {
            "text/plain": [
              "{'max_depth': 11,\n",
              " 'max_bin': 510,\n",
              " 'min_child_weight': 3,\n",
              " 'subsample': 0.575,\n",
              " 'colsample_bytree': 0.625,\n",
              " 'gamma': 0.021768835141640692,\n",
              " 'reg_alpha': 0.0007093863226804355,\n",
              " 'reg_lambda': 0.7040293909117527}"
            ]
          },
          "metadata": {},
          "execution_count": 52
        }
      ]
    },
    {
      "cell_type": "markdown",
      "metadata": {
        "id": "SLg3VUVJ-m5Q"
      },
      "source": [
        "### 3.2.2 Train Model:"
      ]
    },
    {
      "cell_type": "code",
      "execution_count": 53,
      "metadata": {
        "id": "D8BOvC7M-m5Q"
      },
      "outputs": [],
      "source": [
        "xgb_prob = {'objective': \"reg:squarederror\",'eval_metric': \"rmse\"}\n",
        "categorical_features = data.X.select_dtypes(include=['category', 'bool', 'category','int']).columns.to_list()"
      ]
    },
    {
      "cell_type": "code",
      "execution_count": 54,
      "metadata": {
        "colab": {
          "base_uri": "https://localhost:8080/"
        },
        "outputId": "57616489-b749-44e8-83e9-efdebd155e23",
        "id": "Rtdw3vhV-m5R"
      },
      "outputs": [
        {
          "output_type": "execute_result",
          "data": {
            "text/plain": [
              "['Sex', 'Outliers_Duration_Heart_Temp', 'Age_Group']"
            ]
          },
          "metadata": {},
          "execution_count": 54
        }
      ],
      "source": [
        "X = data.X\n",
        "y = np.log1p(data.y)\n",
        "categorical_features"
      ]
    },
    {
      "cell_type": "code",
      "source": [
        "X_test = data.X_test\n",
        "\n",
        "sub = pd.read_csv(\"/content/drive/MyDrive/Exercises/Studies_Structured_Data/Data/S5E5/sample_submission.csv\",index_col=0)"
      ],
      "metadata": {
        "id": "KhfMnjMB-m5R"
      },
      "execution_count": 55,
      "outputs": []
    },
    {
      "cell_type": "markdown",
      "metadata": {
        "id": "mWufptRf-m5R"
      },
      "source": [
        "**FIT THE MODEL**"
      ]
    },
    {
      "cell_type": "code",
      "execution_count": 57,
      "metadata": {
        "colab": {
          "base_uri": "https://localhost:8080/"
        },
        "outputId": "146a910f-298c-4b4d-b638-7de8ee13347f",
        "id": "aziopRjf-m5S"
      },
      "outputs": [
        {
          "output_type": "stream",
          "name": "stdout",
          "text": [
            "     Fitting XGBR1\n",
            "[0]\tvalidation_0-rmse:0.94211\n",
            "[250]\tvalidation_0-rmse:0.06070\n",
            "[500]\tvalidation_0-rmse:0.05988\n",
            "[740]\tvalidation_0-rmse:0.05989\n",
            "Pred Min&Max Valid: 0.9872747659683228 and 296.73199462890625\n",
            "Pred Min&Max Test: 0.9147478938102722 and 297.70037841796875\n",
            "Pred Min&Max Valid Adj: 1.0 and 296.73199462890625\n",
            "Pred Min&Max Test Adj: 1.0 and 297.70037841796875\n",
            "Fold 1 → Training set Score: 0.05223 | Validation set Score: 0.05986\n",
            "[0]\tvalidation_0-rmse:0.94696\n",
            "[250]\tvalidation_0-rmse:0.06236\n",
            "[500]\tvalidation_0-rmse:0.06136\n",
            "[750]\tvalidation_0-rmse:0.06133\n",
            "[855]\tvalidation_0-rmse:0.06133\n",
            "Pred Min&Max Valid: 1.0667113065719604 and 299.7885437011719\n",
            "Pred Min&Max Test: 0.9063337445259094 and 298.1318054199219\n",
            "Pred Min&Max Valid Adj: 1.0667113065719604 and 299.7885437011719\n",
            "Pred Min&Max Test Adj: 1.0 and 298.1318054199219\n",
            "Fold 2 → Training set Score: 0.05191 | Validation set Score: 0.06132\n",
            "[0]\tvalidation_0-rmse:0.93967\n",
            "[250]\tvalidation_0-rmse:0.06012\n",
            "[500]\tvalidation_0-rmse:0.05946\n",
            "[550]\tvalidation_0-rmse:0.05948\n",
            "Pred Min&Max Valid: 0.9888100028038025 and 295.44964599609375\n",
            "Pred Min&Max Test: 0.926777184009552 and 296.3290710449219\n",
            "Pred Min&Max Valid Adj: 1.0 and 295.44964599609375\n",
            "Pred Min&Max Test Adj: 1.0 and 296.3290710449219\n",
            "Fold 3 → Training set Score: 0.05302 | Validation set Score: 0.05944\n",
            "[0]\tvalidation_0-rmse:0.94168\n",
            "[250]\tvalidation_0-rmse:0.06316\n",
            "[500]\tvalidation_0-rmse:0.06190\n",
            "[750]\tvalidation_0-rmse:0.06184\n",
            "[837]\tvalidation_0-rmse:0.06185\n",
            "Pred Min&Max Valid: 0.930097222328186 and 296.9490051269531\n",
            "Pred Min&Max Test: 0.8886658549308777 and 297.9425964355469\n",
            "Pred Min&Max Valid Adj: 1.0 and 296.9490051269531\n",
            "Pred Min&Max Test Adj: 1.0 and 297.9425964355469\n",
            "Fold 4 → Training set Score: 0.05186 | Validation set Score: 0.06184\n",
            "[0]\tvalidation_0-rmse:0.94858\n",
            "[250]\tvalidation_0-rmse:0.06003\n",
            "[500]\tvalidation_0-rmse:0.05923\n",
            "[692]\tvalidation_0-rmse:0.05922\n",
            "Pred Min&Max Valid: 0.9776326417922974 and 289.9680480957031\n",
            "Pred Min&Max Test: 0.9414525032043457 and 298.1326599121094\n",
            "Pred Min&Max Valid Adj: 1.0 and 289.9680480957031\n",
            "Pred Min&Max Test Adj: 1.0 and 298.1326599121094\n",
            "Fold 5 → Training set Score: 0.05241 | Validation set Score: 0.05921\n",
            "[0]\tvalidation_0-rmse:0.94494\n",
            "[250]\tvalidation_0-rmse:0.06174\n",
            "[500]\tvalidation_0-rmse:0.06107\n",
            "[675]\tvalidation_0-rmse:0.06109\n",
            "Pred Min&Max Valid: 0.9956483840942383 and 307.4631042480469\n",
            "Pred Min&Max Test: 0.9295869469642639 and 294.0664367675781\n",
            "Pred Min&Max Valid Adj: 1.0 and 307.4631042480469\n",
            "Pred Min&Max Test Adj: 1.0 and 294.0664367675781\n",
            "Fold 6 → Training set Score: 0.05243 | Validation set Score: 0.06106\n",
            "[0]\tvalidation_0-rmse:0.93836\n",
            "[250]\tvalidation_0-rmse:0.05853\n",
            "[500]\tvalidation_0-rmse:0.05780\n",
            "[639]\tvalidation_0-rmse:0.05780\n",
            "Pred Min&Max Valid: 0.9077377915382385 and 296.5127258300781\n",
            "Pred Min&Max Test: 0.9077377915382385 and 300.20965576171875\n",
            "Pred Min&Max Valid Adj: 1.0 and 296.5127258300781\n",
            "Pred Min&Max Test Adj: 1.0 and 300.20965576171875\n",
            "Fold 7 → Training set Score: 0.05261 | Validation set Score: 0.05778\n",
            "[0]\tvalidation_0-rmse:0.94590\n",
            "[250]\tvalidation_0-rmse:0.06040\n",
            "[500]\tvalidation_0-rmse:0.05980\n",
            "[607]\tvalidation_0-rmse:0.05981\n",
            "Pred Min&Max Valid: 1.007584571838379 and 293.82257080078125\n",
            "Pred Min&Max Test: 0.9130253195762634 and 297.3527526855469\n",
            "Pred Min&Max Valid Adj: 1.007584571838379 and 293.82257080078125\n",
            "Pred Min&Max Test Adj: 1.0 and 297.3527526855469\n",
            "Fold 8 → Training set Score: 0.05280 | Validation set Score: 0.05980\n",
            "[0]\tvalidation_0-rmse:0.94638\n",
            "[250]\tvalidation_0-rmse:0.06189\n",
            "[500]\tvalidation_0-rmse:0.06084\n",
            "[750]\tvalidation_0-rmse:0.06083\n",
            "[771]\tvalidation_0-rmse:0.06084\n",
            "Pred Min&Max Valid: 0.9901741743087769 and 294.3338928222656\n",
            "Pred Min&Max Test: 0.9060819745063782 and 299.6474609375\n",
            "Pred Min&Max Valid Adj: 1.0 and 294.3338928222656\n",
            "Pred Min&Max Test Adj: 1.0 and 299.6474609375\n",
            "Fold 9 → Training set Score: 0.05211 | Validation set Score: 0.06079\n",
            "[0]\tvalidation_0-rmse:0.94432\n",
            "[250]\tvalidation_0-rmse:0.06101\n",
            "[500]\tvalidation_0-rmse:0.06008\n",
            "[669]\tvalidation_0-rmse:0.06009\n",
            "Pred Min&Max Valid: 0.9718769192695618 and 296.1157531738281\n",
            "Pred Min&Max Test: 0.919245719909668 and 300.2544860839844\n",
            "Pred Min&Max Valid Adj: 1.0 and 296.1157531738281\n",
            "Pred Min&Max Test Adj: 1.0 and 300.2544860839844\n",
            "Fold 10 → Training set Score: 0.05252 | Validation set Score: 0.06005\n",
            "[0]\tvalidation_0-rmse:0.94556\n",
            "[250]\tvalidation_0-rmse:0.06011\n",
            "[500]\tvalidation_0-rmse:0.05949\n",
            "[544]\tvalidation_0-rmse:0.05949\n",
            "Pred Min&Max Valid: 1.083740234375 and 295.4007263183594\n",
            "Pred Min&Max Test: 0.9200512170791626 and 296.8116455078125\n",
            "Pred Min&Max Valid Adj: 1.083740234375 and 295.4007263183594\n",
            "Pred Min&Max Test Adj: 1.0 and 296.8116455078125\n",
            "Fold 11 → Training set Score: 0.05304 | Validation set Score: 0.05947\n",
            "Overall → Training set Score: 0.05245±0.0003838 | Validation set Score: 0.06006±0.0010890\n",
            "\n"
          ]
        }
      ],
      "source": [
        "param = {\n",
        "              'n_estimators': 2000,\n",
        "              'learning_rate': 0.02,\n",
        "              'max_depth': 11,\n",
        "              'max_bin': 510,\n",
        "              'min_child_weight': 3,\n",
        "              'subsample': 0.575,\n",
        "              'colsample_bytree': 0.625,\n",
        "              'gamma': 0.02177,\n",
        "              'reg_alpha': 0.00071,\n",
        "              'reg_lambda': 0.70403,\n",
        "              'objective':  xgb_prob[\"objective\"],\n",
        "              'eval_metric': xgb_prob[\"eval_metric\"],\n",
        "              \"early_stopping_rounds\":101,\n",
        "              'tree_method': 'gpu_hist' ,\n",
        "              'random_state': 42,\n",
        "              'enable_categorical': True,\n",
        "             }\n",
        "\n",
        "models={'XGBR1':[XGBRegressor(**param),True]}\n",
        "\n",
        "TM = TrainModels(X=X, y=y, X_test=X_test, X_original=None, y_original=None, models=models)\n",
        "TM.fit_models()"
      ]
    },
    {
      "cell_type": "markdown",
      "metadata": {
        "id": "3XMg52_r-m5S"
      },
      "source": [
        "### 3.1.3 Store Results:"
      ]
    },
    {
      "cell_type": "code",
      "execution_count": 58,
      "metadata": {
        "id": "oCnD_Sht-m5S"
      },
      "outputs": [],
      "source": [
        "name_experiment = \"XGBR1_adj_values\"\n",
        "\n",
        "test_pred = TM.OOF_test.mean(axis=1) #np.expm1(TM.OOF_test.mean(axis=1))\n",
        "train_pred = TM.OOF_train.mean(axis=1) #np.expm1(TM.OOF_train.mean(axis=1))"
      ]
    },
    {
      "cell_type": "code",
      "execution_count": 59,
      "metadata": {
        "colab": {
          "base_uri": "https://localhost:8080/"
        },
        "id": "X4M6unSY-m5T",
        "outputId": "c780dd02-e1f5-45bb-95a6-304f200da6ef"
      },
      "outputs": [
        {
          "output_type": "execute_result",
          "data": {
            "text/plain": [
              "(1.0000000298023224, 297.8708152770996)"
            ]
          },
          "metadata": {},
          "execution_count": 59
        }
      ],
      "source": [
        "test_pred.min(), test_pred.max()"
      ]
    },
    {
      "cell_type": "code",
      "execution_count": 60,
      "metadata": {
        "colab": {
          "base_uri": "https://localhost:8080/",
          "height": 241
        },
        "id": "oUMgE8QO-m5T",
        "outputId": "09d1efda-9a64-4915-c8fc-c4492b840e51"
      },
      "outputs": [
        {
          "output_type": "execute_result",
          "data": {
            "text/plain": [
              "0     27.330049\n",
              "1    107.175077\n",
              "2     87.019606\n",
              "3    127.669816\n",
              "4     75.983582\n",
              "dtype: float64"
            ],
            "text/html": [
              "<div>\n",
              "<style scoped>\n",
              "    .dataframe tbody tr th:only-of-type {\n",
              "        vertical-align: middle;\n",
              "    }\n",
              "\n",
              "    .dataframe tbody tr th {\n",
              "        vertical-align: top;\n",
              "    }\n",
              "\n",
              "    .dataframe thead th {\n",
              "        text-align: right;\n",
              "    }\n",
              "</style>\n",
              "<table border=\"1\" class=\"dataframe\">\n",
              "  <thead>\n",
              "    <tr style=\"text-align: right;\">\n",
              "      <th></th>\n",
              "      <th>0</th>\n",
              "    </tr>\n",
              "  </thead>\n",
              "  <tbody>\n",
              "    <tr>\n",
              "      <th>0</th>\n",
              "      <td>27.330049</td>\n",
              "    </tr>\n",
              "    <tr>\n",
              "      <th>1</th>\n",
              "      <td>107.175077</td>\n",
              "    </tr>\n",
              "    <tr>\n",
              "      <th>2</th>\n",
              "      <td>87.019606</td>\n",
              "    </tr>\n",
              "    <tr>\n",
              "      <th>3</th>\n",
              "      <td>127.669816</td>\n",
              "    </tr>\n",
              "    <tr>\n",
              "      <th>4</th>\n",
              "      <td>75.983582</td>\n",
              "    </tr>\n",
              "  </tbody>\n",
              "</table>\n",
              "</div><br><label><b>dtype:</b> float64</label>"
            ]
          },
          "metadata": {},
          "execution_count": 60
        }
      ],
      "source": [
        "test_pred.head()"
      ]
    },
    {
      "cell_type": "code",
      "execution_count": 61,
      "metadata": {
        "colab": {
          "base_uri": "https://localhost:8080/",
          "height": 238
        },
        "id": "QcCzmWzQ-m5T",
        "outputId": "82228925-5400-4eb4-bfc6-ec5f78d495c3"
      },
      "outputs": [
        {
          "output_type": "execute_result",
          "data": {
            "text/plain": [
              "          Calories\n",
              "id                \n",
              "750000   27.330049\n",
              "750001  107.175077\n",
              "750002   87.019606\n",
              "750003  127.669816\n",
              "750004   75.983582"
            ],
            "text/html": [
              "\n",
              "  <div id=\"df-bf41f1e0-b2ae-4260-952b-e24888834160\" class=\"colab-df-container\">\n",
              "    <div>\n",
              "<style scoped>\n",
              "    .dataframe tbody tr th:only-of-type {\n",
              "        vertical-align: middle;\n",
              "    }\n",
              "\n",
              "    .dataframe tbody tr th {\n",
              "        vertical-align: top;\n",
              "    }\n",
              "\n",
              "    .dataframe thead th {\n",
              "        text-align: right;\n",
              "    }\n",
              "</style>\n",
              "<table border=\"1\" class=\"dataframe\">\n",
              "  <thead>\n",
              "    <tr style=\"text-align: right;\">\n",
              "      <th></th>\n",
              "      <th>Calories</th>\n",
              "    </tr>\n",
              "    <tr>\n",
              "      <th>id</th>\n",
              "      <th></th>\n",
              "    </tr>\n",
              "  </thead>\n",
              "  <tbody>\n",
              "    <tr>\n",
              "      <th>750000</th>\n",
              "      <td>27.330049</td>\n",
              "    </tr>\n",
              "    <tr>\n",
              "      <th>750001</th>\n",
              "      <td>107.175077</td>\n",
              "    </tr>\n",
              "    <tr>\n",
              "      <th>750002</th>\n",
              "      <td>87.019606</td>\n",
              "    </tr>\n",
              "    <tr>\n",
              "      <th>750003</th>\n",
              "      <td>127.669816</td>\n",
              "    </tr>\n",
              "    <tr>\n",
              "      <th>750004</th>\n",
              "      <td>75.983582</td>\n",
              "    </tr>\n",
              "  </tbody>\n",
              "</table>\n",
              "</div>\n",
              "    <div class=\"colab-df-buttons\">\n",
              "\n",
              "  <div class=\"colab-df-container\">\n",
              "    <button class=\"colab-df-convert\" onclick=\"convertToInteractive('df-bf41f1e0-b2ae-4260-952b-e24888834160')\"\n",
              "            title=\"Convert this dataframe to an interactive table.\"\n",
              "            style=\"display:none;\">\n",
              "\n",
              "  <svg xmlns=\"http://www.w3.org/2000/svg\" height=\"24px\" viewBox=\"0 -960 960 960\">\n",
              "    <path d=\"M120-120v-720h720v720H120Zm60-500h600v-160H180v160Zm220 220h160v-160H400v160Zm0 220h160v-160H400v160ZM180-400h160v-160H180v160Zm440 0h160v-160H620v160ZM180-180h160v-160H180v160Zm440 0h160v-160H620v160Z\"/>\n",
              "  </svg>\n",
              "    </button>\n",
              "\n",
              "  <style>\n",
              "    .colab-df-container {\n",
              "      display:flex;\n",
              "      gap: 12px;\n",
              "    }\n",
              "\n",
              "    .colab-df-convert {\n",
              "      background-color: #E8F0FE;\n",
              "      border: none;\n",
              "      border-radius: 50%;\n",
              "      cursor: pointer;\n",
              "      display: none;\n",
              "      fill: #1967D2;\n",
              "      height: 32px;\n",
              "      padding: 0 0 0 0;\n",
              "      width: 32px;\n",
              "    }\n",
              "\n",
              "    .colab-df-convert:hover {\n",
              "      background-color: #E2EBFA;\n",
              "      box-shadow: 0px 1px 2px rgba(60, 64, 67, 0.3), 0px 1px 3px 1px rgba(60, 64, 67, 0.15);\n",
              "      fill: #174EA6;\n",
              "    }\n",
              "\n",
              "    .colab-df-buttons div {\n",
              "      margin-bottom: 4px;\n",
              "    }\n",
              "\n",
              "    [theme=dark] .colab-df-convert {\n",
              "      background-color: #3B4455;\n",
              "      fill: #D2E3FC;\n",
              "    }\n",
              "\n",
              "    [theme=dark] .colab-df-convert:hover {\n",
              "      background-color: #434B5C;\n",
              "      box-shadow: 0px 1px 3px 1px rgba(0, 0, 0, 0.15);\n",
              "      filter: drop-shadow(0px 1px 2px rgba(0, 0, 0, 0.3));\n",
              "      fill: #FFFFFF;\n",
              "    }\n",
              "  </style>\n",
              "\n",
              "    <script>\n",
              "      const buttonEl =\n",
              "        document.querySelector('#df-bf41f1e0-b2ae-4260-952b-e24888834160 button.colab-df-convert');\n",
              "      buttonEl.style.display =\n",
              "        google.colab.kernel.accessAllowed ? 'block' : 'none';\n",
              "\n",
              "      async function convertToInteractive(key) {\n",
              "        const element = document.querySelector('#df-bf41f1e0-b2ae-4260-952b-e24888834160');\n",
              "        const dataTable =\n",
              "          await google.colab.kernel.invokeFunction('convertToInteractive',\n",
              "                                                    [key], {});\n",
              "        if (!dataTable) return;\n",
              "\n",
              "        const docLinkHtml = 'Like what you see? Visit the ' +\n",
              "          '<a target=\"_blank\" href=https://colab.research.google.com/notebooks/data_table.ipynb>data table notebook</a>'\n",
              "          + ' to learn more about interactive tables.';\n",
              "        element.innerHTML = '';\n",
              "        dataTable['output_type'] = 'display_data';\n",
              "        await google.colab.output.renderOutput(dataTable, element);\n",
              "        const docLink = document.createElement('div');\n",
              "        docLink.innerHTML = docLinkHtml;\n",
              "        element.appendChild(docLink);\n",
              "      }\n",
              "    </script>\n",
              "  </div>\n",
              "\n",
              "\n",
              "    <div id=\"df-8dfcfa59-659b-4bcc-9867-07a2e56823e7\">\n",
              "      <button class=\"colab-df-quickchart\" onclick=\"quickchart('df-8dfcfa59-659b-4bcc-9867-07a2e56823e7')\"\n",
              "                title=\"Suggest charts\"\n",
              "                style=\"display:none;\">\n",
              "\n",
              "<svg xmlns=\"http://www.w3.org/2000/svg\" height=\"24px\"viewBox=\"0 0 24 24\"\n",
              "     width=\"24px\">\n",
              "    <g>\n",
              "        <path d=\"M19 3H5c-1.1 0-2 .9-2 2v14c0 1.1.9 2 2 2h14c1.1 0 2-.9 2-2V5c0-1.1-.9-2-2-2zM9 17H7v-7h2v7zm4 0h-2V7h2v10zm4 0h-2v-4h2v4z\"/>\n",
              "    </g>\n",
              "</svg>\n",
              "      </button>\n",
              "\n",
              "<style>\n",
              "  .colab-df-quickchart {\n",
              "      --bg-color: #E8F0FE;\n",
              "      --fill-color: #1967D2;\n",
              "      --hover-bg-color: #E2EBFA;\n",
              "      --hover-fill-color: #174EA6;\n",
              "      --disabled-fill-color: #AAA;\n",
              "      --disabled-bg-color: #DDD;\n",
              "  }\n",
              "\n",
              "  [theme=dark] .colab-df-quickchart {\n",
              "      --bg-color: #3B4455;\n",
              "      --fill-color: #D2E3FC;\n",
              "      --hover-bg-color: #434B5C;\n",
              "      --hover-fill-color: #FFFFFF;\n",
              "      --disabled-bg-color: #3B4455;\n",
              "      --disabled-fill-color: #666;\n",
              "  }\n",
              "\n",
              "  .colab-df-quickchart {\n",
              "    background-color: var(--bg-color);\n",
              "    border: none;\n",
              "    border-radius: 50%;\n",
              "    cursor: pointer;\n",
              "    display: none;\n",
              "    fill: var(--fill-color);\n",
              "    height: 32px;\n",
              "    padding: 0;\n",
              "    width: 32px;\n",
              "  }\n",
              "\n",
              "  .colab-df-quickchart:hover {\n",
              "    background-color: var(--hover-bg-color);\n",
              "    box-shadow: 0 1px 2px rgba(60, 64, 67, 0.3), 0 1px 3px 1px rgba(60, 64, 67, 0.15);\n",
              "    fill: var(--button-hover-fill-color);\n",
              "  }\n",
              "\n",
              "  .colab-df-quickchart-complete:disabled,\n",
              "  .colab-df-quickchart-complete:disabled:hover {\n",
              "    background-color: var(--disabled-bg-color);\n",
              "    fill: var(--disabled-fill-color);\n",
              "    box-shadow: none;\n",
              "  }\n",
              "\n",
              "  .colab-df-spinner {\n",
              "    border: 2px solid var(--fill-color);\n",
              "    border-color: transparent;\n",
              "    border-bottom-color: var(--fill-color);\n",
              "    animation:\n",
              "      spin 1s steps(1) infinite;\n",
              "  }\n",
              "\n",
              "  @keyframes spin {\n",
              "    0% {\n",
              "      border-color: transparent;\n",
              "      border-bottom-color: var(--fill-color);\n",
              "      border-left-color: var(--fill-color);\n",
              "    }\n",
              "    20% {\n",
              "      border-color: transparent;\n",
              "      border-left-color: var(--fill-color);\n",
              "      border-top-color: var(--fill-color);\n",
              "    }\n",
              "    30% {\n",
              "      border-color: transparent;\n",
              "      border-left-color: var(--fill-color);\n",
              "      border-top-color: var(--fill-color);\n",
              "      border-right-color: var(--fill-color);\n",
              "    }\n",
              "    40% {\n",
              "      border-color: transparent;\n",
              "      border-right-color: var(--fill-color);\n",
              "      border-top-color: var(--fill-color);\n",
              "    }\n",
              "    60% {\n",
              "      border-color: transparent;\n",
              "      border-right-color: var(--fill-color);\n",
              "    }\n",
              "    80% {\n",
              "      border-color: transparent;\n",
              "      border-right-color: var(--fill-color);\n",
              "      border-bottom-color: var(--fill-color);\n",
              "    }\n",
              "    90% {\n",
              "      border-color: transparent;\n",
              "      border-bottom-color: var(--fill-color);\n",
              "    }\n",
              "  }\n",
              "</style>\n",
              "\n",
              "      <script>\n",
              "        async function quickchart(key) {\n",
              "          const quickchartButtonEl =\n",
              "            document.querySelector('#' + key + ' button');\n",
              "          quickchartButtonEl.disabled = true;  // To prevent multiple clicks.\n",
              "          quickchartButtonEl.classList.add('colab-df-spinner');\n",
              "          try {\n",
              "            const charts = await google.colab.kernel.invokeFunction(\n",
              "                'suggestCharts', [key], {});\n",
              "          } catch (error) {\n",
              "            console.error('Error during call to suggestCharts:', error);\n",
              "          }\n",
              "          quickchartButtonEl.classList.remove('colab-df-spinner');\n",
              "          quickchartButtonEl.classList.add('colab-df-quickchart-complete');\n",
              "        }\n",
              "        (() => {\n",
              "          let quickchartButtonEl =\n",
              "            document.querySelector('#df-8dfcfa59-659b-4bcc-9867-07a2e56823e7 button');\n",
              "          quickchartButtonEl.style.display =\n",
              "            google.colab.kernel.accessAllowed ? 'block' : 'none';\n",
              "        })();\n",
              "      </script>\n",
              "    </div>\n",
              "\n",
              "    </div>\n",
              "  </div>\n"
            ],
            "application/vnd.google.colaboratory.intrinsic+json": {
              "type": "dataframe",
              "variable_name": "sub"
            }
          },
          "metadata": {},
          "execution_count": 61
        }
      ],
      "source": [
        "sub[\"Calories\"] =  test_pred.values\n",
        "\n",
        "sub.head()"
      ]
    },
    {
      "cell_type": "code",
      "execution_count": 62,
      "metadata": {
        "colab": {
          "base_uri": "https://localhost:8080/",
          "height": 241
        },
        "id": "GTClHity-m5T",
        "outputId": "dfabb1d5-2d4c-4e5f-f7c7-ec0085a0d727"
      },
      "outputs": [
        {
          "output_type": "execute_result",
          "data": {
            "text/plain": [
              "0    146.823349\n",
              "1     36.095840\n",
              "2     29.293856\n",
              "3    138.474319\n",
              "4    145.539383\n",
              "dtype: float64"
            ],
            "text/html": [
              "<div>\n",
              "<style scoped>\n",
              "    .dataframe tbody tr th:only-of-type {\n",
              "        vertical-align: middle;\n",
              "    }\n",
              "\n",
              "    .dataframe tbody tr th {\n",
              "        vertical-align: top;\n",
              "    }\n",
              "\n",
              "    .dataframe thead th {\n",
              "        text-align: right;\n",
              "    }\n",
              "</style>\n",
              "<table border=\"1\" class=\"dataframe\">\n",
              "  <thead>\n",
              "    <tr style=\"text-align: right;\">\n",
              "      <th></th>\n",
              "      <th>0</th>\n",
              "    </tr>\n",
              "  </thead>\n",
              "  <tbody>\n",
              "    <tr>\n",
              "      <th>0</th>\n",
              "      <td>146.823349</td>\n",
              "    </tr>\n",
              "    <tr>\n",
              "      <th>1</th>\n",
              "      <td>36.095840</td>\n",
              "    </tr>\n",
              "    <tr>\n",
              "      <th>2</th>\n",
              "      <td>29.293856</td>\n",
              "    </tr>\n",
              "    <tr>\n",
              "      <th>3</th>\n",
              "      <td>138.474319</td>\n",
              "    </tr>\n",
              "    <tr>\n",
              "      <th>4</th>\n",
              "      <td>145.539383</td>\n",
              "    </tr>\n",
              "  </tbody>\n",
              "</table>\n",
              "</div><br><label><b>dtype:</b> float64</label>"
            ]
          },
          "metadata": {},
          "execution_count": 62
        }
      ],
      "source": [
        "train_pred.head()"
      ]
    },
    {
      "cell_type": "code",
      "execution_count": 63,
      "metadata": {
        "colab": {
          "base_uri": "https://localhost:8080/",
          "height": 342
        },
        "id": "e91aIWLq-m5U",
        "outputId": "b81ef2d3-9a52-4e1a-f456-4f3bb9a7a0f8"
      },
      "outputs": [
        {
          "output_type": "display_data",
          "data": {
            "text/plain": [
              "<Figure size 1440x360 with 2 Axes>"
            ],
            "image/png": "[encoded data removed]"
          },
          "metadata": {}
        }
      ],
      "source": [
        "fig, ax = plt.subplots(1,2,figsize=(12,3))\n",
        "\n",
        "ax[0].hist(train_pred, bins=31)\n",
        "ax[1].hist(sub, bins=31, color=\"salmon\")\n",
        "\n",
        "plt.show()"
      ]
    },
    {
      "cell_type": "code",
      "execution_count": 64,
      "metadata": {
        "id": "dFiuIjSS-m5U"
      },
      "outputs": [],
      "source": [
        "sub.to_csv(f\"/content/drive/MyDrive/Exercises/Studies_Structured_Data/Data/S5E5/submission_{name_experiment}.csv\")\n",
        "train_pred.to_csv(f\"/content/drive/MyDrive/Exercises/Studies_Structured_Data/Data/S5E5/train_pred_{name_experiment}.csv\")"
      ]
    },
    {
      "cell_type": "code",
      "source": [],
      "metadata": {
        "id": "rbqyxK6oQPdt"
      },
      "execution_count": null,
      "outputs": []
    },
    {
      "cell_type": "code",
      "execution_count": null,
      "metadata": {
        "id": "_Y5a2zyDoeka"
      },
      "outputs": [],
      "source": []
    },
    {
      "cell_type": "code",
      "execution_count": null,
      "metadata": {
        "id": "b8l6bRRIoeZn"
      },
      "outputs": [],
      "source": []
    },
    {
      "cell_type": "code",
      "execution_count": null,
      "metadata": {
        "id": "_6z2A1j7oIJJ"
      },
      "outputs": [],
      "source": []
    }
  ],
  "metadata": {
    "colab": {
      "machine_shape": "hm",
      "provenance": [],
      "toc_visible": true,
      "gpuType": "L4",
      "include_colab_link": true
    },
    "kernelspec": {
      "display_name": "Python 3",
      "name": "python3"
    },
    "language_info": {
      "name": "python"
    },
    "accelerator": "GPU"
  },
  "nbformat": 4,
  "nbformat_minor": 0
}