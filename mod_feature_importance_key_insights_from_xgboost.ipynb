{
  "metadata": {
    "kernelspec": {
      "language": "python",
      "display_name": "Python 3",
      "name": "python3"
    },
    "language_info": {
      "name": "python",
      "version": "3.10.14",
      "mimetype": "text/x-python",
      "codemirror_mode": {
        "name": "ipython",
        "version": 3
      },
      "pygments_lexer": "ipython3",
      "nbconvert_exporter": "python",
      "file_extension": ".py"
    },
    "kaggle": {
      "accelerator": "gpu",
      "dataSources": [
        {
          "sourceId": 82611,
          "databundleVersionId": 9553358,
          "sourceType": "competition"
        }
      ],
      "dockerImageVersionId": 30786,
      "isInternetEnabled": true,
      "language": "python",
      "sourceType": "notebook",
      "isGpuEnabled": true
    },
    "colab": {
      "provenance": [],
      "include_colab_link": true
    }
  },
  "nbformat_minor": 0,
  "nbformat": 4,
  "cells": [
    {
      "cell_type": "markdown",
      "metadata": {
        "id": "view-in-github",
        "colab_type": "text"
      },
      "source": [
        "<a href=\"https://colab.research.google.com/github/fabriziobasso/Colab_backup/blob/main/mod_feature_importance_key_insights_from_xgboost.ipynb\" target=\"_parent\"><img src=\"https://colab.research.google.com/assets/colab-badge.svg\" alt=\"Open In Colab\"/></a>"
      ]
    },
    {
      "cell_type": "markdown",
      "source": [
        "# 🔮 Key Insights from XGBoost - Modified Version of Vineet Gupta's Notebook (Public Score: 2.5200 on 2024-11-19)\n",
        "Original author: Vineet Gupta\n",
        "\n",
        "Original notebook: https://www.kaggle.com/code/vineetgupta2023/key-insights-from-xgboost-score-2-200/notebook\n",
        "\n",
        "Many great insights appear in Vineet's notebook!\n",
        "\n",
        "Added feature engineering in this notebook include:\n",
        " 1. Rolling statistics (mean and std) for blood glucose values\n",
        " 2. Lag features for insulin values\n",
        " 3. Rate of Change features\n",
        " 4. p_num specific features => look for .groupby('p_num')"
      ],
      "metadata": {
        "id": "bpyJjxsf8zaw"
      }
    },
    {
      "cell_type": "code",
      "source": [
        "import warnings\n",
        "warnings.filterwarnings('ignore')\n",
        "import numpy as np\n",
        "import pandas as pd\n",
        "import matplotlib.pyplot as plt\n",
        "import seaborn as sns\n",
        "from xgboost import XGBRegressor\n",
        "from sklearn.model_selection import KFold\n",
        "from sklearn.model_selection import GroupKFold\n",
        "from sklearn.metrics import mean_squared_error\n",
        "from IPython.display import HTML, Image\n",
        "import seaborn as sns\n",
        "import matplotlib.pyplot as plt"
      ],
      "metadata": {
        "_uuid": "8f2839f25d086af736a60e9eeb907d3b93b6e0e5",
        "_cell_guid": "b1076dfc-b9ad-4769-8c92-a6c4dae69d19",
        "trusted": true,
        "execution": {
          "iopub.status.busy": "2024-11-21T10:36:13.306710Z",
          "iopub.execute_input": "2024-11-21T10:36:13.307004Z",
          "iopub.status.idle": "2024-11-21T10:36:16.085145Z",
          "shell.execute_reply.started": "2024-11-21T10:36:13.306973Z",
          "shell.execute_reply": "2024-11-21T10:36:16.084277Z"
        },
        "id": "jr1Q3Hjm8za3",
        "outputId": "04d4befa-e85f-4ff2-f9f8-ca39aadda57b"
      },
      "outputs": [
        {
          "output_type": "display_data",
          "data": {
            "text/html": "<img src=\"https://upload.wikimedia.org/wikipedia/commons/thumb/7/7c/Kaggle_logo.png/400px-Kaggle_logo.png\" width=\"100\"/>",
            "text/plain": "<IPython.core.display.Image object>"
          },
          "metadata": {}
        },
        {
          "output_type": "display_data",
          "data": {
            "text/html": "<img src=\"https://upload.wikimedia.org/wikipedia/commons/thumb/f/f4/Blood_glucose_monitoring.jpg/400px-Blood_glucose_monitoring.jpg\" width=\"200\"/>",
            "text/plain": "<IPython.core.display.Image object>"
          },
          "metadata": {}
        }
      ],
      "execution_count": null
    },
    {
      "cell_type": "code",
      "source": [
        "print(\"\"\"\n",
        "    📊 Blood Glucose Prediction\n",
        "    ===========================\n",
        "    🩺 Medical Time Series Analysis\n",
        "    📈 XGBoost Modeling\n",
        "    🔬 Feature Engineering\n",
        "\n",
        "    Loading data...\n",
        "\"\"\")"
      ],
      "metadata": {
        "trusted": true,
        "execution": {
          "iopub.status.busy": "2024-11-21T10:36:16.086591Z",
          "iopub.execute_input": "2024-11-21T10:36:16.086987Z",
          "iopub.status.idle": "2024-11-21T10:36:16.091911Z",
          "shell.execute_reply.started": "2024-11-21T10:36:16.086957Z",
          "shell.execute_reply": "2024-11-21T10:36:16.090976Z"
        },
        "id": "WgDAjRhd8za6",
        "outputId": "40b111b5-d451-4f66-ecde-acfb5b3ccc25"
      },
      "outputs": [
        {
          "name": "stdout",
          "text": "\n    📊 Blood Glucose Prediction\n    ===========================\n    🩺 Medical Time Series Analysis\n    📈 XGBoost Modeling\n    🔬 Feature Engineering\n    \n    Loading data...\n\n",
          "output_type": "stream"
        }
      ],
      "execution_count": null
    },
    {
      "cell_type": "markdown",
      "source": [
        "## Data Loading"
      ],
      "metadata": {
        "id": "_7TK4C-78za8"
      }
    },
    {
      "cell_type": "code",
      "source": [
        "train = pd.read_csv(\"/kaggle/input/brist1d/train.csv\")\n",
        "test = pd.read_csv(\"/kaggle/input/brist1d/test.csv\")"
      ],
      "metadata": {
        "trusted": true,
        "execution": {
          "iopub.status.busy": "2024-11-21T10:36:16.093211Z",
          "iopub.execute_input": "2024-11-21T10:36:16.093623Z",
          "iopub.status.idle": "2024-11-21T10:36:27.317121Z",
          "shell.execute_reply.started": "2024-11-21T10:36:16.093573Z",
          "shell.execute_reply": "2024-11-21T10:36:27.316217Z"
        },
        "id": "BdKCUP6v8za9"
      },
      "outputs": [],
      "execution_count": null
    },
    {
      "cell_type": "markdown",
      "source": [
        "## Column Groups"
      ],
      "metadata": {
        "id": "GXSzKgpV8za-"
      }
    },
    {
      "cell_type": "code",
      "source": [
        "bg_columns = [col for col in train.columns if col.startswith('bg-')]\n",
        "insulin_columns = [col for col in train.columns if col.startswith('insulin-')]\n",
        "hr_columns = [col for col in train.columns if col.startswith('hr-')]"
      ],
      "metadata": {
        "trusted": true,
        "execution": {
          "iopub.status.busy": "2024-11-21T10:36:27.318207Z",
          "iopub.execute_input": "2024-11-21T10:36:27.318465Z",
          "iopub.status.idle": "2024-11-21T10:36:27.323658Z",
          "shell.execute_reply.started": "2024-11-21T10:36:27.318438Z",
          "shell.execute_reply": "2024-11-21T10:36:27.322746Z"
        },
        "id": "_ab5z-cH8za_"
      },
      "outputs": [],
      "execution_count": null
    },
    {
      "cell_type": "markdown",
      "source": [
        "## Missing Values Handling"
      ],
      "metadata": {
        "id": "D4GFzwQx8zbA"
      }
    },
    {
      "cell_type": "code",
      "source": [
        "for df in [train, test]:\n",
        "    # Forward and backward fill\n",
        "    df[bg_columns] = df[bg_columns].ffill(axis=1).bfill(axis=1)\n",
        "    df[insulin_columns] = df[insulin_columns].ffill(axis=1).bfill(axis=1)\n",
        "    df[hr_columns] = df[hr_columns].ffill(axis=1).bfill(axis=1)\n",
        "\n",
        "    # Fill remaining missing values with -1\n",
        "    df.fillna(-1, inplace=True)"
      ],
      "metadata": {
        "trusted": true,
        "execution": {
          "iopub.status.busy": "2024-11-21T10:36:27.326103Z",
          "iopub.execute_input": "2024-11-21T10:36:27.326433Z",
          "iopub.status.idle": "2024-11-21T10:36:30.121543Z",
          "shell.execute_reply.started": "2024-11-21T10:36:27.326389Z",
          "shell.execute_reply": "2024-11-21T10:36:30.120333Z"
        },
        "id": "98KWeMs28zbB"
      },
      "outputs": [],
      "execution_count": null
    },
    {
      "cell_type": "markdown",
      "source": [
        "# The Work"
      ],
      "metadata": {
        "id": "Hmf_m5a58zbC"
      }
    },
    {
      "cell_type": "code",
      "source": [
        "def analyze_feature_importance(model, feature_columns):\n",
        "    \"\"\"Print feature importance analysis\"\"\"\n",
        "    importances = pd.DataFrame({\n",
        "        'feature': feature_columns,\n",
        "        'importance': model.feature_importances_\n",
        "    })\n",
        "\n",
        "    importances = importances.sort_values('importance', ascending=False)\n",
        "    importances['cumulative'] = importances['importance'].cumsum()\n",
        "    importances['importance_pct'] = importances['importance'] * 100\n",
        "    importances['cumulative_pct'] = importances['cumulative'] * 100\n",
        "\n",
        "    print(\"\\nTop 15 Most Important Features:\")\n",
        "    print(importances.head(15).to_string(index=False))\n",
        "\n",
        "    # Print feature type analysis\n",
        "    print(\"\\nFeature Type Analysis:\")\n",
        "    type_analysis = {\n",
        "        'bg_base': len([x for x in importances.head(15)['feature'] if 'bg-' in x and '_' not in x]),\n",
        "        'bg_rolling': len([x for x in importances.head(15)['feature'] if 'bg-' in x and 'roll' in x]),\n",
        "        'bg_rate': len([x for x in importances.head(15)['feature'] if 'bg_rate' in x]),\n",
        "        'participant': len([x for x in importances.head(15)['feature'] if 'p_' in x]),\n",
        "    }\n",
        "    for k, v in type_analysis.items():\n",
        "        print(f\"{k}: {v}\")\n",
        "\n",
        "    return importances\n",
        "\n",
        "# Modified feature engineering focusing on what worked best\n",
        "def add_rolling_features_v2(df, columns, windows):\n",
        "    \"\"\"Simplified rolling features focusing on means\"\"\"\n",
        "    base_columns = [col for col in columns if\n",
        "                   not any(suffix in col for suffix in ['_std', '_mean', '_min', '_max', '_roll'])]\n",
        "\n",
        "    for col in base_columns:\n",
        "        for window in windows:\n",
        "            df[f'{col}_roll_mean_{window}'] = (\n",
        "                df.groupby('p_num')[col]\n",
        "                .rolling(window=window, min_periods=1)\n",
        "                .mean()\n",
        "                .reset_index(0, drop=True)\n",
        "            )\n",
        "    return df\n",
        "\n",
        "def add_participant_features_v2(df, target_col=None):\n",
        "    \"\"\"Simplified participant features focusing on bg metrics\"\"\"\n",
        "    base_bg_cols = [col for col in df.columns if 'bg-' in col and\n",
        "                    not any(suffix in col for suffix in ['_std', '_mean', '_min', '_max', '_roll'])]\n",
        "\n",
        "    # Create MultiIndex columns for agg\n",
        "    participant_stats = pd.DataFrame()\n",
        "    for col in base_bg_cols:\n",
        "        col_stats = df.groupby('p_num')[col].agg(['mean', 'std'])\n",
        "        col_stats.columns = [f'p_{col}_{stat}' for stat in ['mean', 'std']]\n",
        "        if participant_stats.empty:\n",
        "            participant_stats = col_stats\n",
        "        else:\n",
        "            participant_stats = participant_stats.join(col_stats)\n",
        "\n",
        "    participant_stats = participant_stats.reset_index()\n",
        "\n",
        "    if target_col and target_col in df.columns:\n",
        "        target_stats = df.groupby('p_num')[target_col].agg(['mean']).reset_index()\n",
        "        target_stats.columns = ['p_num', 'p_target_mean']\n",
        "        participant_stats = participant_stats.merge(target_stats, on='p_num', how='left')\n",
        "\n",
        "    return df.merge(participant_stats, on='p_num', how='left')\n",
        "\n",
        "def add_rate_of_change_features(df):\n",
        "    \"\"\"Calculate rate of change features for key metrics\"\"\"\n",
        "    # Only get the base bg columns (no rolling stat suffixes)\n",
        "    bg_cols = sorted([col for col in df.columns if 'bg-' in col and\n",
        "                     not any(suffix in col for suffix in ['_std', '_mean', '_min', '_max', '_roll'])],\n",
        "                    reverse=True)\n",
        "\n",
        "    for i in range(len(bg_cols)-1):\n",
        "        col_current = bg_cols[i]\n",
        "        col_next = bg_cols[i+1]\n",
        "\n",
        "        # Extract time values\n",
        "        def extract_minutes(col_name):\n",
        "            # Extract only the numeric part between 'bg-' and end of string\n",
        "            time_str = col_name.split('-')[1]\n",
        "            if ':' in time_str:\n",
        "                hours, minutes = map(float, time_str.split(':'))\n",
        "                return hours * 60 + minutes\n",
        "            else:\n",
        "                return float(time_str)\n",
        "\n",
        "        time_current = extract_minutes(col_current)\n",
        "        time_next = extract_minutes(col_next)\n",
        "\n",
        "        time_diff = abs(time_next - time_current)\n",
        "\n",
        "        # Calculate rate of change (per minute)\n",
        "        if time_diff > 0:  # Prevent division by zero\n",
        "            df[f'bg_rate_{i}'] = (df[col_current] - df[col_next]) / time_diff\n",
        "        else:\n",
        "            df[f'bg_rate_{i}'] = 0\n",
        "\n",
        "    # Calculate recent trends\n",
        "    rate_cols = [col for col in df.columns if 'bg_rate_' in col]\n",
        "    if len(rate_cols) >= 3:\n",
        "        df['bg_rate_mean_recent'] = df[rate_cols[:3]].mean(axis=1)\n",
        "        df['bg_rate_std_recent'] = df[rate_cols[:3]].std(axis=1)\n",
        "\n",
        "    return df\n",
        "\n",
        "# Activity and participant mapping (keep your existing mapping code here)\n",
        "activities = pd.DataFrame({'activity': ['Indoor climbing','Run','Strength training','Swim','Bike','Dancing',\n",
        "                                      'Stairclimber','Spinning','Walking','HIIT','Outdoor Bike','Walk',\n",
        "                                      'Aerobic Workout','Tennis','Workout','Hike','Zumba','Sport','Yoga',\n",
        "                                      'Swimming','Weights','Running']})\n",
        "unique_activities = {activity: i+1 for i, activity in enumerate(activities['activity'].unique())}\n",
        "\n",
        "participants = pd.DataFrame({'participant': [f'p{str(i).zfill(2)}' for i in range(1, 16)]})\n",
        "unique_participant = {p: i+1 for i, p in enumerate(participants['participant'].unique())}\n",
        "\n",
        "# Apply mappings\n",
        "for df in [train, test]:\n",
        "    for col in df.columns:\n",
        "        if 'activity' in col:\n",
        "            df[col] = df[col].apply(lambda x: unique_activities.get(x, -1) if x != '' else -1)\n",
        "        if col == 'p_num':\n",
        "            df[col] = df[col].apply(lambda x: unique_participant.get(x, -1) if x != '' else -1)\n",
        "\n",
        "# Time feature engineering\n",
        "for df in [train, test]:\n",
        "    df['hour'] = pd.to_datetime(df['time'], format='%H:%M:%S').dt.hour\n",
        "    df['minute'] = pd.to_datetime(df['time'], format='%H:%M:%S').dt.minute\n",
        "\n",
        "    # Cyclical encoding\n",
        "    df['hour_sin'] = np.sin(2 * np.pi * df['hour'] / 24)\n",
        "    df['hour_cos'] = np.cos(2 * np.pi * df['hour'] / 24)\n",
        "    df['minute_sin'] = np.sin(2 * np.pi * df['minute'] / 60)\n",
        "    df['minute_cos'] = np.cos(2 * np.pi * df['minute'] / 60)\n",
        "\n",
        "    # Drop original time columns\n",
        "    df.drop(['hour', 'minute', 'time'], axis=1, inplace=True)\n",
        "\n",
        "# Enhanced feature engineering\n",
        "for df in [train, test]:\n",
        "    # Add participant-specific features\n",
        "    df = add_participant_features_v2(df, 'bg+1:00' if 'bg+1:00' in df.columns else None)\n",
        "\n",
        "    # Add rate of change features\n",
        "    df = add_rate_of_change_features(df)\n",
        "\n",
        "    # Get base columns for rolling features\n",
        "    bg_cols = [col for col in df.columns if 'bg-' in col and\n",
        "               not any(suffix in col for suffix in ['_std', '_mean', '_min', '_max', '_roll'])]\n",
        "    insulin_cols = [col for col in df.columns if 'insulin-' in col and\n",
        "                   not any(suffix in col for suffix in ['_std', '_mean', '_min', '_max', '_roll'])]\n",
        "    carbs_cols = [col for col in df.columns if 'carbs-' in col and\n",
        "                 not any(suffix in col for suffix in ['_std', '_mean', '_min', '_max', '_roll'])]\n",
        "\n",
        "    # Using longer windows (12 = 1 hour, 72 = 6 hours, 144 = 12 hours assuming 5-min intervals)\n",
        "    df = add_rolling_features_v2(df, bg_cols, windows=[12, 72, 144])\n",
        "    df = add_rolling_features_v2(df, insulin_cols, windows=[12, 72])\n",
        "    df = add_rolling_features_v2(df, carbs_cols, windows=[12, 72])\n",
        "\n",
        "# Prepare features\n",
        "feature_columns = [col for col in train.columns if col not in ['id', 'bg+1:00']]\n",
        "\n",
        "# Prepare training data\n",
        "X = train[feature_columns]\n",
        "y = train['bg+1:00']\n",
        "\n",
        "# Initialize predictions collection\n",
        "test_predictions = []\n",
        "val_scores = []\n",
        "\n",
        "# Group K-fold cross-validation\n",
        "gkf = GroupKFold(n_splits=9)\n",
        "\n",
        "# Train models and make predictions\n",
        "for train_index, val_index in gkf.split(X, y, groups=train['p_num']):\n",
        "    X_train, X_val = X.iloc[train_index], X.iloc[val_index]\n",
        "    y_train, y_val = y.iloc[train_index], y.iloc[val_index]\n",
        "\n",
        "    model = XGBRegressor(\n",
        "        n_estimators=1000,\n",
        "        learning_rate=0.01,\n",
        "        max_depth=10,\n",
        "        subsample=0.8,\n",
        "        colsample_bytree=0.8,\n",
        "        reg_alpha=0.1,\n",
        "        reg_lambda=0.1,\n",
        "        random_state=42\n",
        "    )\n",
        "\n",
        "    model.fit(\n",
        "        X_train,\n",
        "        y_train,\n",
        "        eval_set=[(X_val, y_val)],\n",
        "        early_stopping_rounds=50,\n",
        "        verbose=0\n",
        "    )\n",
        "\n",
        "    # Analyze feature importance for this fold\n",
        "    importances = analyze_feature_importance(model, feature_columns)\n",
        "\n",
        "    val_pred = model.predict(X_val)\n",
        "    val_scores.append(np.sqrt(mean_squared_error(y_val, val_pred)))\n",
        "\n",
        "    test_predictions.append(model.predict(test[feature_columns]))\n",
        "\n",
        "# Calculate final predictions and score\n",
        "final_predictions = np.mean(np.array(test_predictions), axis=0)\n",
        "cv_rmse = np.mean(val_scores)\n",
        "\n",
        "print(f\"Cross-validation RMSE: {cv_rmse:.4f}\")"
      ],
      "metadata": {
        "trusted": true,
        "execution": {
          "iopub.status.busy": "2024-11-21T10:36:30.122821Z",
          "iopub.execute_input": "2024-11-21T10:36:30.123193Z",
          "iopub.status.idle": "2024-11-21T11:38:52.443050Z",
          "shell.execute_reply.started": "2024-11-21T10:36:30.123151Z",
          "shell.execute_reply": "2024-11-21T11:38:52.442305Z"
        },
        "id": "GyUaEev98zbD",
        "outputId": "04ef9fdd-4bd4-48bd-cb4a-17f10b363099"
      },
      "outputs": [
        {
          "name": "stdout",
          "text": "\nTop 15 Most Important Features:\n      feature  importance  cumulative  importance_pct  cumulative_pct\n      bg-0:00    0.105972    0.105972       10.597228       10.597228\n      bg-0:05    0.036319    0.142291        3.631863       14.229092\n      bg-0:10    0.016160    0.158451        1.615981       15.845072\n      bg-0:15    0.005766    0.164217        0.576635       16.421707\nactivity-3:40    0.003845    0.168063        0.384549       16.806255\nactivity-3:45    0.003483    0.171545        0.348280       17.154535\n insulin-0:00    0.003461    0.175006        0.346061       17.500595\nactivity-5:55    0.003424    0.178430        0.342359       17.842955\n      hr-0:00    0.003407    0.181836        0.340665       18.183619\n      bg-0:20    0.003366    0.185202        0.336590       18.520208\n      bg-0:25    0.003305    0.188507        0.330522       18.850731\n     hour_sin    0.003291    0.191798        0.329065       19.179798\nactivity-3:55    0.003274    0.195072        0.327417       19.507214\n     hour_cos    0.003254    0.198326        0.325394       19.832607\nactivity-4:45    0.003199    0.201526        0.319946       20.152554\n\nFeature Type Analysis:\nbg_base: 6\nbg_rolling: 0\nbg_rate: 0\nparticipant: 0\n\nTop 15 Most Important Features:\n      feature  importance  cumulative  importance_pct  cumulative_pct\n      bg-0:00    0.107238    0.107238       10.723825       10.723825\n      bg-0:05    0.038936    0.146175        3.893638       14.617464\n      bg-0:10    0.016172    0.162347        1.617198       16.234661\n      bg-0:15    0.006579    0.168926        0.657892       16.892553\n      bg-0:20    0.004236    0.173162        0.423623       17.316177\n      hr-0:00    0.004201    0.177363        0.420086       17.736263\n      bg-0:25    0.004028    0.181390        0.402784       18.139048\nactivity-1:30    0.004002    0.185393        0.400226       18.539274\nactivity-3:15    0.003596    0.188989        0.359636       18.898911\n     hour_cos    0.003573    0.192563        0.357347       19.256256\n      bg-0:30    0.003447    0.196010        0.344723       19.600981\nactivity-4:50    0.003445    0.199455        0.344500       19.945480\nactivity-3:50    0.003239    0.202694        0.323881       20.269361\nactivity-1:00    0.003213    0.205907        0.321306       20.590668\n insulin-0:00    0.003182    0.209089        0.318245       20.908913\n\nFeature Type Analysis:\nbg_base: 7\nbg_rolling: 0\nbg_rate: 0\nparticipant: 0\n\nTop 15 Most Important Features:\n      feature  importance  cumulative  importance_pct  cumulative_pct\n      bg-0:00    0.100960    0.100960       10.096024       10.096024\n      bg-0:05    0.034754    0.135714        3.475388       13.571411\n      bg-0:10    0.015030    0.150744        1.503036       15.074447\n      bg-0:15    0.007797    0.158542        0.779719       15.854165\n      bg-0:25    0.004619    0.163161        0.461897       16.316063\n      bg-0:20    0.004230    0.167390        0.422951       16.739014\nactivity-5:40    0.003870    0.171261        0.387045       17.126059\n     hour_cos    0.003523    0.174783        0.352290       17.478348\nactivity-1:35    0.003465    0.178249        0.346537       17.824884\n    cals-5:55    0.003457    0.181705        0.345658       18.170544\nactivity-4:50    0.003453    0.185159        0.345308       18.515850\n     hour_sin    0.003402    0.188561        0.340200       18.856050\n      bg-0:30    0.003342    0.191903        0.334234       19.190285\nactivity-3:35    0.003310    0.195212        0.330953       19.521238\nactivity-3:40    0.003271    0.198484        0.327140       19.848377\n\nFeature Type Analysis:\nbg_base: 7\nbg_rolling: 0\nbg_rate: 0\nparticipant: 0\n\nTop 15 Most Important Features:\n      feature  importance  cumulative  importance_pct  cumulative_pct\n      bg-0:00    0.096298    0.096298        9.629800        9.629800\n      bg-0:05    0.033777    0.130075        3.377713       13.007513\n      bg-0:10    0.014664    0.144739        1.466356       14.473869\n      bg-0:15    0.006645    0.151384        0.664505       15.138374\n      bg-0:20    0.004338    0.155721        0.433751       15.572124\n      hr-0:00    0.004193    0.159915        0.419342       15.991466\n      bg-0:25    0.004026    0.163941        0.402622       16.394087\nactivity-3:15    0.003507    0.167447        0.350660       16.744747\n      bg-0:30    0.003426    0.170873        0.342557       17.087305\nactivity-3:25    0.003373    0.174246        0.337262       17.424566\n     hour_cos    0.003327    0.177573        0.332712       17.757278\nactivity-5:55    0.003279    0.180851        0.327870       18.085150\n     hour_sin    0.003267    0.184118        0.326679       18.411827\nactivity-1:45    0.003176    0.187295        0.317646       18.729473\n insulin-0:00    0.003067    0.190362        0.306701       19.036175\n\nFeature Type Analysis:\nbg_base: 7\nbg_rolling: 0\nbg_rate: 0\nparticipant: 0\n\nTop 15 Most Important Features:\n      feature  importance  cumulative  importance_pct  cumulative_pct\n      bg-0:00    0.117456    0.117456       11.745567       11.745567\n      bg-0:05    0.041969    0.159425        4.196936       15.942504\n      bg-0:10    0.017194    0.176619        1.719446       17.661949\n      bg-0:15    0.006499    0.183119        0.649914       18.311865\nactivity-5:40    0.004055    0.187174        0.405511       18.717375\n      hr-0:00    0.003818    0.190991        0.381765       19.099140\nactivity-3:40    0.003809    0.194800        0.380854       19.479994\n      bg-0:20    0.003769    0.198569        0.376880       19.856873\n      bg-0:25    0.003635    0.202204        0.363518       20.220392\n      bg-0:30    0.003557    0.205761        0.355662       20.576054\nactivity-3:10    0.003516    0.209276        0.351583       20.927637\nactivity-3:25    0.003478    0.212754        0.347796       21.275434\nactivity-5:55    0.003473    0.216227        0.347300       21.622734\nactivity-3:55    0.003439    0.219667        0.343939       21.966671\n     hour_cos    0.003318    0.222984        0.331776       22.298449\n\nFeature Type Analysis:\nbg_base: 7\nbg_rolling: 0\nbg_rate: 0\nparticipant: 0\n\nTop 15 Most Important Features:\n      feature  importance  cumulative  importance_pct  cumulative_pct\n      bg-0:00    0.103178    0.103178       10.317754       10.317754\n      bg-0:05    0.038288    0.141465        3.828759       14.146513\n      bg-0:10    0.015848    0.157313        1.584761       15.731274\n      bg-0:15    0.006340    0.163653        0.634028       16.365301\n      hr-0:00    0.003905    0.167558        0.390471       16.755772\n      bg-0:25    0.003890    0.171447        0.388977       17.144749\n      bg-0:20    0.003665    0.175112        0.366497       17.511246\n        p_num    0.003476    0.178589        0.347608       17.858854\nactivity-5:55    0.003180    0.181768        0.317985       18.176838\n     hour_cos    0.003115    0.184883        0.311472       18.488310\n insulin-0:00    0.003085    0.187969        0.308542       18.796852\nactivity-4:55    0.002997    0.190965        0.299694       19.096546\nactivity-4:50    0.002988    0.193954        0.298841       19.395388\nactivity-1:30    0.002966    0.196920        0.296598       19.691984\n     hour_sin    0.002964    0.199884        0.296415       19.988400\n\nFeature Type Analysis:\nbg_base: 6\nbg_rolling: 0\nbg_rate: 0\nparticipant: 1\n\nTop 15 Most Important Features:\n      feature  importance  cumulative  importance_pct  cumulative_pct\n      bg-0:00    0.105821    0.105821       10.582083       10.582083\n      bg-0:05    0.037329    0.143150        3.732927       14.315009\n      bg-0:10    0.015406    0.158556        1.540617       15.855627\n      bg-0:15    0.006290    0.164846        0.628963       16.484591\n      bg-0:20    0.004662    0.169508        0.466177       16.950768\n      hr-0:00    0.004159    0.173667        0.415890       17.366657\nactivity-5:40    0.003654    0.177320        0.365393       17.732050\nactivity-5:35    0.003635    0.180955        0.363490       18.095539\n      bg-0:25    0.003539    0.184495        0.353911       18.449451\nactivity-3:45    0.003466    0.187960        0.346596       18.796047\nactivity-3:50    0.003176    0.191137        0.317633       19.113680\n     hour_cos    0.003170    0.194307        0.316970       19.430651\nactivity-5:45    0.003131    0.197437        0.313089       19.743740\n     hour_sin    0.003122    0.200559        0.312160       20.055901\n      bg-0:30    0.003075    0.203634        0.307495       20.363396\n\nFeature Type Analysis:\nbg_base: 7\nbg_rolling: 0\nbg_rate: 0\nparticipant: 0\n\nTop 15 Most Important Features:\n      feature  importance  cumulative  importance_pct  cumulative_pct\n      bg-0:00    0.106398    0.106398       10.639810       10.639810\n      bg-0:05    0.036778    0.143176        3.677794       14.317603\n      bg-0:10    0.016004    0.159180        1.600366       15.917969\n      bg-0:15    0.006609    0.165788        0.660867       16.578835\n      bg-0:20    0.004151    0.169940        0.415131       16.993967\n      hr-0:00    0.003888    0.173828        0.388797       17.382763\nactivity-5:40    0.003720    0.177548        0.372019       17.754784\nactivity-0:35    0.003671    0.181219        0.367073       18.121855\nactivity-4:50    0.003605    0.184823        0.360490       18.482346\n      bg-0:25    0.003586    0.188410        0.358618       18.840963\n     hour_cos    0.003353    0.191762        0.335283       19.176247\nactivity-5:35    0.003338    0.195100        0.333756       19.510002\n insulin-0:00    0.003239    0.198339        0.323860       19.833862\nactivity-4:55    0.003198    0.201537        0.319798       20.153662\n     hour_sin    0.003152    0.204688        0.315185       20.468845\n\nFeature Type Analysis:\nbg_base: 6\nbg_rolling: 0\nbg_rate: 0\nparticipant: 0\n\nTop 15 Most Important Features:\n      feature  importance  cumulative  importance_pct  cumulative_pct\n      bg-0:00    0.110329    0.110329       11.032920       11.032920\n      bg-0:05    0.037613    0.147942        3.761268       14.794188\n      bg-0:10    0.016562    0.164504        1.656238       16.450428\n      bg-0:15    0.006491    0.170996        0.649135       17.099562\n      bg-0:20    0.004327    0.175323        0.432711       17.532272\n      bg-0:25    0.003893    0.179215        0.389276       17.921549\nactivity-5:40    0.003844    0.183060        0.384450       18.306000\nactivity-3:15    0.003749    0.186809        0.374868       18.680868\n      hr-0:00    0.003658    0.190466        0.365776       19.046644\nactivity-4:50    0.003450    0.193917        0.345035       19.391678\n     hour_cos    0.003438    0.197354        0.343772       19.735449\n insulin-0:00    0.003256    0.200611        0.325644       20.061094\nactivity-3:40    0.003193    0.203804        0.319267       20.380362\nactivity-1:30    0.003188    0.206992        0.318817       20.699177\nactivity-5:55    0.003183    0.210175        0.318328       21.017506\n\nFeature Type Analysis:\nbg_base: 6\nbg_rolling: 0\nbg_rate: 0\nparticipant: 0\nCross-validation RMSE: 2.1867\n",
          "output_type": "stream"
        }
      ],
      "execution_count": null
    },
    {
      "cell_type": "code",
      "source": [
        "### Alternative not used in this notebook version\n",
        "def add_rolling_features(df, columns, windows):\n",
        "    \"\"\"Add rolling window features for specified columns\"\"\"\n",
        "    # Filter out any columns that already have rolling statistics\n",
        "    base_columns = [col for col in columns if\n",
        "                   not any(suffix in col for suffix in ['_std', '_mean', '_min', '_max', '_roll'])]\n",
        "\n",
        "    for col in base_columns:\n",
        "        for window in windows:\n",
        "            df[f'{col}_roll_mean_{window}'] = (\n",
        "                df.groupby('p_num')[col]\n",
        "                .rolling(window=window, min_periods=1)\n",
        "                .mean()\n",
        "                .reset_index(0, drop=True)\n",
        "            )\n",
        "            df[f'{col}_roll_std_{window}'] = (\n",
        "                df.groupby('p_num')[col]\n",
        "                .rolling(window=window, min_periods=1)\n",
        "                .std()\n",
        "                .reset_index(0, drop=True)\n",
        "            )\n",
        "            df[f'{col}_roll_min_{window}'] = (\n",
        "                df.groupby('p_num')[col]\n",
        "                .rolling(window=window, min_periods=1)\n",
        "                .min()\n",
        "                .reset_index(0, drop=True)\n",
        "            )\n",
        "            df[f'{col}_roll_max_{window}'] = (\n",
        "                df.groupby('p_num')[col]\n",
        "                .rolling(window=window, min_periods=1)\n",
        "                .max()\n",
        "                .reset_index(0, drop=True)\n",
        "            )\n",
        "    return df"
      ],
      "metadata": {
        "trusted": true,
        "execution": {
          "iopub.status.busy": "2024-11-21T11:38:52.444094Z",
          "iopub.execute_input": "2024-11-21T11:38:52.444364Z",
          "iopub.status.idle": "2024-11-21T11:38:52.454506Z",
          "shell.execute_reply.started": "2024-11-21T11:38:52.444338Z",
          "shell.execute_reply": "2024-11-21T11:38:52.453635Z"
        },
        "id": "KYUvgElD8zbF"
      },
      "outputs": [],
      "execution_count": null
    },
    {
      "cell_type": "code",
      "source": [
        "## Alternative not used in this version\n",
        "def add_participant_features(df, target_col=None):\n",
        "    \"\"\"Add participant-specific statistical features\"\"\"\n",
        "    # Filter for base columns only\n",
        "    base_bg_cols = [col for col in df.columns if 'bg-' in col and\n",
        "                    not any(suffix in col for suffix in ['_std', '_mean', '_min', '_max', '_roll'])]\n",
        "    base_insulin_cols = [col for col in df.columns if 'insulin-' in col and\n",
        "                        not any(suffix in col for suffix in ['_std', '_mean', '_min', '_max', '_roll'])]\n",
        "    base_carbs_cols = [col for col in df.columns if 'carbs-' in col and\n",
        "                      not any(suffix in col for suffix in ['_std', '_mean', '_min', '_max', '_roll'])]\n",
        "\n",
        "    # Basic statistics per participant\n",
        "    participant_stats = df.groupby('p_num').agg({\n",
        "        base_bg_cols[0]: ['mean', 'std', 'min', 'max'],\n",
        "        base_insulin_cols[0]: ['mean', 'max'],\n",
        "        base_carbs_cols[0]: ['mean', 'max']\n",
        "    })\n",
        "\n",
        "    participant_stats.columns = [f'p_{col[0]}_{col[1]}' for col in participant_stats.columns]\n",
        "    participant_stats = participant_stats.reset_index()\n",
        "\n",
        "    # If we have the target column (training only), add target-related stats\n",
        "    if target_col and target_col in df.columns:\n",
        "        target_stats = df.groupby('p_num')[target_col].agg(['mean', 'std']).reset_index()\n",
        "        target_stats.columns = ['p_num', 'p_target_mean', 'p_target_std']\n",
        "        participant_stats = participant_stats.merge(target_stats, on='p_num', how='left')\n",
        "\n",
        "    # Merge back to original dataframe\n",
        "    return df.merge(participant_stats, on='p_num', how='left')"
      ],
      "metadata": {
        "trusted": true,
        "execution": {
          "iopub.status.busy": "2024-11-21T11:38:52.455693Z",
          "iopub.execute_input": "2024-11-21T11:38:52.456045Z",
          "iopub.status.idle": "2024-11-21T11:38:52.465802Z",
          "shell.execute_reply.started": "2024-11-21T11:38:52.456006Z",
          "shell.execute_reply": "2024-11-21T11:38:52.465007Z"
        },
        "id": "-LRFItvh8zbG"
      },
      "outputs": [],
      "execution_count": null
    },
    {
      "cell_type": "markdown",
      "source": [
        "## Final feature importance"
      ],
      "metadata": {
        "id": "qBrKF3qS8zbH"
      }
    },
    {
      "cell_type": "code",
      "source": [
        "# After the training loop, use the last trained model\n",
        "print(\"\\nOverall Feature Importance Analysis:\")\n",
        "final_importances = analyze_feature_importance(model, feature_columns)\n",
        "\n",
        "# Save importances to DataFrame for further analysis if needed\n",
        "feature_importance_df = pd.DataFrame({\n",
        "    'feature': feature_columns,\n",
        "    'importance': model.feature_importances_\n",
        "}).sort_values('importance', ascending=False)\n",
        "\n",
        "print(\"\\nFeature importance statistics:\")\n",
        "print(feature_importance_df.describe())"
      ],
      "metadata": {
        "trusted": true,
        "execution": {
          "iopub.status.busy": "2024-11-21T11:38:52.466881Z",
          "iopub.execute_input": "2024-11-21T11:38:52.467210Z",
          "iopub.status.idle": "2024-11-21T11:38:52.510034Z",
          "shell.execute_reply.started": "2024-11-21T11:38:52.467171Z",
          "shell.execute_reply": "2024-11-21T11:38:52.509215Z"
        },
        "id": "G5_TtbDd8zbH",
        "outputId": "15528917-3e09-4d8d-f8dd-9de0647d1238"
      },
      "outputs": [
        {
          "name": "stdout",
          "text": "\nOverall Feature Importance Analysis:\n\nTop 15 Most Important Features:\n      feature  importance  cumulative  importance_pct  cumulative_pct\n      bg-0:00    0.110329    0.110329       11.032920       11.032920\n      bg-0:05    0.037613    0.147942        3.761268       14.794188\n      bg-0:10    0.016562    0.164504        1.656238       16.450428\n      bg-0:15    0.006491    0.170996        0.649135       17.099562\n      bg-0:20    0.004327    0.175323        0.432711       17.532272\n      bg-0:25    0.003893    0.179215        0.389276       17.921549\nactivity-5:40    0.003844    0.183060        0.384450       18.306000\nactivity-3:15    0.003749    0.186809        0.374868       18.680868\n      hr-0:00    0.003658    0.190466        0.365776       19.046644\nactivity-4:50    0.003450    0.193917        0.345035       19.391678\n     hour_cos    0.003438    0.197354        0.343772       19.735449\n insulin-0:00    0.003256    0.200611        0.325644       20.061094\nactivity-3:40    0.003193    0.203804        0.319267       20.380362\nactivity-1:30    0.003188    0.206992        0.318817       20.699177\nactivity-5:55    0.003183    0.210175        0.318328       21.017506\n\nFeature Type Analysis:\nbg_base: 6\nbg_rolling: 0\nbg_rate: 0\nparticipant: 0\n\nFeature importance statistics:\n       importance\ncount  509.000000\nmean     0.001965\nstd      0.005146\nmin      0.000394\n25%      0.001329\n50%      0.001496\n75%      0.001825\nmax      0.110329\n",
          "output_type": "stream"
        }
      ],
      "execution_count": null
    },
    {
      "cell_type": "code",
      "source": [
        "# Display feature importance\n",
        "feature_importance = pd.DataFrame({\n",
        "    'feature': X.columns,\n",
        "    'importance': model.feature_importances_\n",
        "}).sort_values('importance', ascending=False)\n",
        "\n",
        "plt.figure(figsize=(10, 6))\n",
        "sns.barplot(data=feature_importance.head(15), x='importance', y='feature')\n",
        "plt.title('Top 15 Most Important Features')\n",
        "plt.tight_layout()\n",
        "plt.show()"
      ],
      "metadata": {
        "trusted": true,
        "execution": {
          "iopub.status.busy": "2024-11-21T11:38:52.511113Z",
          "iopub.execute_input": "2024-11-21T11:38:52.511714Z",
          "iopub.status.idle": "2024-11-21T11:38:52.910197Z",
          "shell.execute_reply.started": "2024-11-21T11:38:52.511674Z",
          "shell.execute_reply": "2024-11-21T11:38:52.909323Z"
        },
        "id": "s7wxbMvb8zbI",
        "outputId": "b5604d61-e656-4812-a32f-d6f7f0750157"
      },
      "outputs": [
        {
          "output_type": "display_data",
          "data": {
            "text/plain": "<Figure size 1000x600 with 1 Axes>",
            "image/png": "[encoded data removed]"
          },
          "metadata": {}
        }
      ],
      "execution_count": null
    },
    {
      "cell_type": "markdown",
      "source": [
        "## The Submission"
      ],
      "metadata": {
        "id": "mu5c0Z9L8zbI"
      }
    },
    {
      "cell_type": "code",
      "source": [
        "submission = pd.DataFrame({\n",
        "    'id': test['id'],\n",
        "    'bg+1:00': final_predictions\n",
        "})\n",
        "\n",
        "# Save submission\n",
        "submission.to_csv('submission.csv', index=False)"
      ],
      "metadata": {
        "trusted": true,
        "execution": {
          "iopub.status.busy": "2024-11-21T11:38:52.911184Z",
          "iopub.execute_input": "2024-11-21T11:38:52.911446Z",
          "iopub.status.idle": "2024-11-21T11:38:52.922775Z",
          "shell.execute_reply.started": "2024-11-21T11:38:52.911420Z",
          "shell.execute_reply": "2024-11-21T11:38:52.922075Z"
        },
        "id": "3At7mnrU8zbI"
      },
      "outputs": [],
      "execution_count": null
    },
    {
      "cell_type": "code",
      "source": [
        "submission"
      ],
      "metadata": {
        "trusted": true,
        "execution": {
          "iopub.status.busy": "2024-11-21T11:38:52.924788Z",
          "iopub.execute_input": "2024-11-21T11:38:52.925053Z",
          "iopub.status.idle": "2024-11-21T11:38:52.935541Z",
          "shell.execute_reply.started": "2024-11-21T11:38:52.925026Z",
          "shell.execute_reply": "2024-11-21T11:38:52.934613Z"
        },
        "id": "FtLiu9hv8zbI",
        "outputId": "1370525f-16fb-48b4-831d-e2c2d4abab54"
      },
      "outputs": [
        {
          "execution_count": 12,
          "output_type": "execute_result",
          "data": {
            "text/plain": "            id    bg+1:00\n0     p01_8459   8.658416\n1     p01_8460   6.889171\n2     p01_8461   7.407545\n3     p01_8462  10.181544\n4     p01_8463   6.778633\n...        ...        ...\n3639   p24_256   6.815250\n3640   p24_257   9.951579\n3641   p24_258   6.789925\n3642   p24_259   8.366776\n3643   p24_260   7.011974\n\n[3644 rows x 2 columns]",
            "text/html": "<div>\n<style scoped>\n    .dataframe tbody tr th:only-of-type {\n        vertical-align: middle;\n    }\n\n    .dataframe tbody tr th {\n        vertical-align: top;\n    }\n\n    .dataframe thead th {\n        text-align: right;\n    }\n</style>\n<table border=\"1\" class=\"dataframe\">\n  <thead>\n    <tr style=\"text-align: right;\">\n      <th></th>\n      <th>id</th>\n      <th>bg+1:00</th>\n    </tr>\n  </thead>\n  <tbody>\n    <tr>\n      <th>0</th>\n      <td>p01_8459</td>\n      <td>8.658416</td>\n    </tr>\n    <tr>\n      <th>1</th>\n      <td>p01_8460</td>\n      <td>6.889171</td>\n    </tr>\n    <tr>\n      <th>2</th>\n      <td>p01_8461</td>\n      <td>7.407545</td>\n    </tr>\n    <tr>\n      <th>3</th>\n      <td>p01_8462</td>\n      <td>10.181544</td>\n    </tr>\n    <tr>\n      <th>4</th>\n      <td>p01_8463</td>\n      <td>6.778633</td>\n    </tr>\n    <tr>\n      <th>...</th>\n      <td>...</td>\n      <td>...</td>\n    </tr>\n    <tr>\n      <th>3639</th>\n      <td>p24_256</td>\n      <td>6.815250</td>\n    </tr>\n    <tr>\n      <th>3640</th>\n      <td>p24_257</td>\n      <td>9.951579</td>\n    </tr>\n    <tr>\n      <th>3641</th>\n      <td>p24_258</td>\n      <td>6.789925</td>\n    </tr>\n    <tr>\n      <th>3642</th>\n      <td>p24_259</td>\n      <td>8.366776</td>\n    </tr>\n    <tr>\n      <th>3643</th>\n      <td>p24_260</td>\n      <td>7.011974</td>\n    </tr>\n  </tbody>\n</table>\n<p>3644 rows × 2 columns</p>\n</div>"
          },
          "metadata": {}
        }
      ],
      "execution_count": null
    },
    {
      "cell_type": "code",
      "source": [],
      "metadata": {
        "trusted": true,
        "id": "15nL8wQS8zbJ"
      },
      "outputs": [],
      "execution_count": null
    }
  ]
}