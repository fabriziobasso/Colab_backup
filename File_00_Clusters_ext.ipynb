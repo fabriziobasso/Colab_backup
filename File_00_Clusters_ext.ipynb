{
  "cells": [
    {
      "cell_type": "markdown",
      "metadata": {
        "id": "view-in-github",
        "colab_type": "text"
      },
      "source": [
        "<a href=\"https://colab.research.google.com/github/fabriziobasso/Colab_backup/blob/main/File_00_Clusters_ext.ipynb\" target=\"_parent\"><img src=\"https://colab.research.google.com/assets/colab-badge.svg\" alt=\"Open In Colab\"/></a>"
      ]
    },
    {
      "cell_type": "markdown",
      "metadata": {
        "id": "o16Z8wP_6UDV"
      },
      "source": [
        "# **<h1 align=\"center\"><font color='#001ddd'> GLUCOSE PREDICTION DATASET**</font></h1>\n",
        "\n",
        "## **Dataset Description**\n",
        "The dataset is from a study that collected data from young adults in the UK with type 1 diabetes, who used a continuous glucose monitor (CGM), an insulin pump and a smartwatch. These devices collected blood glucose readings, insulin dosage, carbohydrate intake, and activity data. The data collected was aggregated to five-minute intervals and formatted into samples. Each sample represents a point in time and includes the aggregated five-minute intervals from the previous six hours. The aim is to predict the blood glucose reading an hour into the future, for each of these samples.\n",
        "\n",
        "The training set takes samples from the first three months of study data from nine of the participants and includes the future blood glucose value. These training samples appear in chronological order and overlap. The testing set takes samples from the remainder of the study period from fifteen of the participants (so unseen participants appear in the testing set). These testing samples do not overlap and are in a random order to avoid data leakage.\n",
        "\n",
        "**Complexities to be aware of:**\n",
        "\n",
        "This is medical data so there are missing values and noise in the data\n",
        "the participants did not all use the same device models (CGM, insulin pump and smartwatch) so there may be differences in the collection method of the data\n",
        "some participants in the test set do not appear in the training set"
      ]
    },
    {
      "cell_type": "code",
      "execution_count": null,
      "metadata": {
        "id": "--PrNXB8Ylys"
      },
      "outputs": [],
      "source": [
        "%%capture\n",
        "# Connect to Colab:#\n",
        "from google.colab import drive\n",
        "import os\n",
        "drive.mount('/content/drive')\n",
        "\n",
        "!pip install category-encoders\n",
        "!pip install optuna\n",
        "!pip install optuna-integration\n",
        "#!pip install scikit-learn==1.4\n",
        "!pip install catboost\n",
        "!pip install deeptables\n",
        "\n",
        "!pip install keras-tuner --upgrade\n",
        "!pip install keras-nlp\n",
        "!pip install BorutaShap\n",
        "!pip install scikit-lego\n",
        "!!pip install --no-index -U --find-links=/kaggle/input/deeptables-v0-2-5/deeptables-0.2.5 deeptables==0.2.5"
      ]
    },
    {
      "cell_type": "code",
      "execution_count": null,
      "metadata": {
        "id": "ho3nCji3fPqQ"
      },
      "outputs": [],
      "source": [
        "folder_script = models_folders = \"/content/drive/MyDrive/Exercises/Studies_Structured_Data/Data/Glucose\"\n",
        "os.chdir(folder_script)"
      ]
    },
    {
      "cell_type": "code",
      "execution_count": null,
      "metadata": {
        "id": "syKhpAm8jJZe",
        "colab": {
          "base_uri": "https://localhost:8080/",
          "height": 156
        },
        "outputId": "c31e9c4e-5378-40a3-9acf-87ec89e0eab3"
      },
      "outputs": [
        {
          "output_type": "stream",
          "name": "stderr",
          "text": [
            "/usr/local/lib/python3.10/dist-packages/dask/dataframe/__init__.py:42: FutureWarning: \n",
            "Dask dataframe query planning is disabled because dask-expr is not installed.\n",
            "\n",
            "You can install it with `pip install dask[dataframe]` or `conda install dask`.\n",
            "This will raise in a future version.\n",
            "\n",
            "  warnings.warn(msg, FutureWarning)\n"
          ]
        },
        {
          "output_type": "display_data",
          "data": {
            "text/plain": [
              "<Figure size 960x660 with 0 Axes>"
            ]
          },
          "metadata": {}
        }
      ],
      "source": [
        "from category_encoders.cat_boost import CatBoostEncoder\n",
        "from category_encoders.wrapper import PolynomialWrapper\n",
        "from category_encoders.count import CountEncoder\n",
        "\n",
        "# Setup notebook\n",
        "from pathlib import Path\n",
        "import ipywidgets as widgets\n",
        "import pandas as pd\n",
        "import numpy as np\n",
        "from pickle import load, dump\n",
        "import json\n",
        "import joblib\n",
        "#import calplot as cal\n",
        "import missingno as msno\n",
        "import category_encoders as ce\n",
        "import random\n",
        "\n",
        "# Graphic Libraries:\n",
        "import seaborn as sns\n",
        "import matplotlib as mpl\n",
        "import matplotlib.pyplot as plt\n",
        "import matplotlib.patches as patches\n",
        "import matplotlib.image as mpimg\n",
        "\n",
        "# Palette Setup\n",
        "colors = ['#FB5B68','#FFEB48','#2676A1','#FFBDB0',]\n",
        "colormap_0 = mpl.colors.LinearSegmentedColormap.from_list(\"\",colors)\n",
        "palette_1 = sns.color_palette(\"coolwarm\", as_cmap=True)\n",
        "palette_2 = sns.color_palette(\"YlOrBr\", as_cmap=True)\n",
        "palette_3 = sns.light_palette(\"red\", as_cmap=True)\n",
        "palette_4 = sns.color_palette(\"viridis\", as_cmap=True)\n",
        "palette_5 = sns.color_palette(\"rocket\", as_cmap=True)\n",
        "palette_6 = sns.color_palette(\"GnBu\", as_cmap=True)\n",
        "palette_7 = sns.color_palette(\"tab20c\", as_cmap=False)\n",
        "palette_8 = sns.color_palette(\"Set2\", as_cmap=False)\n",
        "\n",
        "palette_custom = ['#fbb4ae','#b3cde3','#ccebc5','#decbe4','#fed9a6','#ffffcc','#e5d8bd','#fddaec','#f2f2f2']\n",
        "palette_9 = sns.color_palette(palette_custom, as_cmap=False)\n",
        "\n",
        "\n",
        "# Bloomberg\n",
        "#from xbbg import blp\n",
        "from catboost import CatBoostRegressor, Pool\n",
        "import xgboost as xgb\n",
        "from xgboost import XGBRegressor, XGBClassifier\n",
        "from xgboost.callback import EarlyStopping\n",
        "\n",
        "import lightgbm as lgb\n",
        "from lightgbm import (LGBMRegressor,\n",
        "                      LGBMClassifier,\n",
        "                      early_stopping,\n",
        "                      record_evaluation,\n",
        "                      log_evaluation)\n",
        "\n",
        "# Time Management\n",
        "from tqdm import tqdm\n",
        "from datetime import date\n",
        "from datetime import datetime\n",
        "from pandas.tseries.offsets import BMonthEnd, QuarterEnd\n",
        "import datetime\n",
        "from pandas.tseries.offsets import BDay # BDay is business day, not birthday...\n",
        "import datetime as dt\n",
        "import click\n",
        "import glob\n",
        "import os\n",
        "import gc\n",
        "import re\n",
        "import string\n",
        "\n",
        "from ipywidgets import AppLayout\n",
        "from ipywidgets import Dropdown, Layout, HTML, AppLayout, VBox, Label, HBox, BoundedFloatText, interact, Output\n",
        "\n",
        "#from my_func import *\n",
        "\n",
        "import optuna\n",
        "from optuna.integration import TFKerasPruningCallback\n",
        "from optuna.trial import TrialState\n",
        "from optuna.visualization import plot_intermediate_values\n",
        "from optuna.visualization import plot_optimization_history\n",
        "from optuna.visualization import plot_param_importances\n",
        "from optuna.visualization import plot_contour\n",
        "\n",
        "os.environ[\"KERAS_BACKEND\"] = \"tensorflow\"\n",
        "\n",
        "import tensorflow as tf\n",
        "import keras\n",
        "from keras import ops\n",
        "from keras import layers\n",
        "\n",
        "from keras.layers import Input, LSTM, Dense, Lambda, RepeatVector, Reshape\n",
        "from keras.models import Model\n",
        "from keras.losses import MeanSquaredError\n",
        "from keras.metrics import RootMeanSquaredError\n",
        "\n",
        "from keras.utils import FeatureSpace, plot_model\n",
        "\n",
        "# Import libraries for Hypertuning\n",
        "import keras_tuner as kt\n",
        "from keras_tuner.tuners import RandomSearch, GridSearch, BayesianOptimization\n",
        "\n",
        "#from my_func import *\n",
        "\n",
        "# preprocessing modules\n",
        "from sklearn.model_selection import train_test_split, KFold, StratifiedKFold, cross_val_score, cross_validate, GroupKFold, GridSearchCV, RepeatedStratifiedKFold, cross_val_predict\n",
        "\n",
        "from sklearn.preprocessing import (LabelEncoder,\n",
        "                                   StandardScaler,\n",
        "                                   MinMaxScaler,\n",
        "                                   OrdinalEncoder,\n",
        "                                   RobustScaler,\n",
        "                                   PowerTransformer,\n",
        "                                   OneHotEncoder,\n",
        "                                   LabelEncoder,\n",
        "                                   QuantileTransformer,\n",
        "                                   PolynomialFeatures)\n",
        "\n",
        "# metrics\n",
        "import sklearn\n",
        "from sklearn.metrics import (mean_squared_error,\n",
        "                             root_mean_squared_error,\n",
        "                             r2_score,\n",
        "                             mean_absolute_error,\n",
        "                             mean_absolute_percentage_error,\n",
        "                             classification_report,\n",
        "                             confusion_matrix,\n",
        "                             ConfusionMatrixDisplay,\n",
        "                             multilabel_confusion_matrix,\n",
        "                             accuracy_score,\n",
        "                             roc_auc_score,\n",
        "                             auc,\n",
        "                             roc_curve,\n",
        "                             log_loss,\n",
        "                             make_scorer)\n",
        "\n",
        "# modeling algos\n",
        "from sklearn.linear_model import (LogisticRegression,\n",
        "                                  Lasso,\n",
        "                                  ridge_regression,\n",
        "                                  LinearRegression,\n",
        "                                  Ridge,\n",
        "                                  RidgeCV,\n",
        "                                  ElasticNet,\n",
        "                                  BayesianRidge,\n",
        "                                  HuberRegressor,\n",
        "                                  TweedieRegressor,\n",
        "                                  QuantileRegressor,\n",
        "                                  ARDRegression,\n",
        "                                  TheilSenRegressor,\n",
        "                                  PoissonRegressor,\n",
        "                                  GammaRegressor)\n",
        "\n",
        "from sklearn.ensemble import (AdaBoostRegressor,\n",
        "                              AdaBoostClassifier,\n",
        "                              RandomForestRegressor,\n",
        "                              RandomForestClassifier,\n",
        "                              VotingRegressor,\n",
        "                              GradientBoostingRegressor,\n",
        "                              GradientBoostingClassifier,\n",
        "                              StackingRegressor,\n",
        "                              HistGradientBoostingClassifier,\n",
        "                              HistGradientBoostingRegressor,\n",
        "                              ExtraTreesClassifier)\n",
        "\n",
        "from sklearn.decomposition import PCA, TruncatedSVD\n",
        "from sklearn.compose import ColumnTransformer, make_column_transformer\n",
        "from sklearn.pipeline import Pipeline\n",
        "from sklearn.feature_selection import SelectFromModel\n",
        "from sklearn.preprocessing import FunctionTransformer\n",
        "from sklearn.experimental import enable_iterative_imputer\n",
        "from sklearn.impute import IterativeImputer\n",
        "from sklearn.feature_extraction.text import TfidfVectorizer\n",
        "from sklearn.cluster import KMeans\n",
        "from yellowbrick.cluster import KElbowVisualizer\n",
        "\n",
        "import warnings\n",
        "warnings.filterwarnings(\"ignore\")\n",
        "warnings.filterwarnings(\"ignore\", category=DeprecationWarning)\n",
        "warnings.filterwarnings(\"ignore\", category=FutureWarning)\n",
        "%matplotlib inline\n",
        "\n",
        "import seaborn as sns\n",
        "from statsmodels.tsa.deterministic import CalendarFourier, DeterministicProcess\n",
        "\n",
        "from sklearn.multioutput import RegressorChain\n",
        "from sklearn.preprocessing import LabelEncoder\n",
        "from xgboost import XGBRegressor\n",
        "\n",
        "import itertools\n",
        "import warnings\n",
        "import logging\n",
        "from openpyxl import load_workbook\n",
        "\n",
        "import statsmodels.api as sm\n",
        "from pylab import rcParams\n",
        "import scipy.stats as ss\n",
        "\n",
        "warnings.filterwarnings('ignore')\n",
        "#plt.style.use('fivethirtyeight')\n",
        "\n",
        "# Setting rc parameters in seaborn for plots and graphs-\n",
        "# Reference - https://matplotlib.org/stable/tutorials/introductory/customizing.html:-\n",
        "# To alter this, refer to matplotlib.rcParams.keys()\n",
        "\n",
        "sns.set({\"axes.facecolor\"       : \"#ffffff\",\n",
        "         \"figure.facecolor\"     : \"#ffffff\",\n",
        "         \"axes.edgecolor\"       : \"#000000\",\n",
        "         \"grid.color\"           : \"#ffffff\",\n",
        "         \"font.family\"          : ['Cambria'],\n",
        "         \"axes.labelcolor\"      : \"#000000\",\n",
        "         \"xtick.color\"          : \"#000000\",\n",
        "         \"ytick.color\"          : \"#000000\",\n",
        "         \"grid.linewidth\"       : 0.5,\n",
        "         'grid.alpha'           :0.5,\n",
        "         \"grid.linestyle\"       : \"--\",\n",
        "         \"axes.titlecolor\"      : 'black',\n",
        "         'axes.titlesize'       : 12,\n",
        "         'axes.labelweight'     : \"bold\",\n",
        "         'legend.fontsize'      : 7.0,\n",
        "         'legend.title_fontsize': 7.0,\n",
        "         'font.size'            : 7.5,\n",
        "         'xtick.labelsize'      : 7.5,\n",
        "         'ytick.labelsize'      : 7.5,\n",
        "        });\n",
        "\n",
        "sns.set_style(\"whitegrid\",{\"grid.linestyle\":\"--\", 'grid.linewidth':0.2, 'grid.alpha':0.5})\n",
        "# Set Style\n",
        "mpl.rcParams['figure.dpi'] = 120;\n",
        "\n",
        "# Making sklearn pipeline outputs as dataframe:-\n",
        "pd.set_option('display.max_columns', 100);\n",
        "pd.set_option('display.max_rows', 50);\n",
        "\n",
        "sns.despine(left=True, bottom=True, top=False, right=False)\n",
        "\n",
        "mpl.rcParams['axes.spines.left'] = True\n",
        "mpl.rcParams['axes.spines.right'] = False\n",
        "mpl.rcParams['axes.spines.top'] = False\n",
        "mpl.rcParams['axes.spines.bottom'] = True"
      ]
    },
    {
      "cell_type": "code",
      "source": [
        "def seed_everything(seed,\n",
        "                    tensorflow_init=True,\n",
        "                    pytorch_init=False):\n",
        "    \"\"\"\n",
        "    Seeds basic parameters for reproducibility of results\n",
        "    \"\"\"\n",
        "    random.seed(seed)\n",
        "    os.environ[\"PYTHONHASHSEED\"] = str(seed)\n",
        "    np.random.seed(seed)\n",
        "    if tensorflow_init is True:\n",
        "        tf.random.set_seed(seed)\n",
        "        keras.utils.set_random_seed(812)\n",
        "    if pytorch_init is True:\n",
        "        torch.manual_seed(seed)\n",
        "        torch.cuda.manual_seed(seed)\n",
        "        torch.backends.cudnn.deterministic = True\n",
        "        torch.backends.cudnn.benchmark = False\n",
        "\n",
        "\n",
        "seed_everything(42)"
      ],
      "metadata": {
        "id": "RmPyquPOSfqa"
      },
      "execution_count": null,
      "outputs": []
    },
    {
      "cell_type": "markdown",
      "metadata": {
        "id": "UaMB0Ku9izBm"
      },
      "source": [
        "## 1.0 Functions:"
      ]
    },
    {
      "cell_type": "code",
      "execution_count": null,
      "metadata": {
        "id": "HXVCNFXEiysu"
      },
      "outputs": [],
      "source": [
        "def encode_target(y_train, y_test, encoder_type='label', enc_strategy=False):\n",
        "    \"\"\"\n",
        "    Encodes the target columns in the training and testing data\n",
        "    using the specified encoder type.\n",
        "\n",
        "    Parameters:\n",
        "    y_train (pd.Series or pd.DataFrame): Training target data.\n",
        "    y_test (pd.Series or pd.DataFrame): Testing target data.\n",
        "\n",
        "    Returns:\n",
        "    y_train_encoded (pd.Series): Encoded training target data.\n",
        "    y_test_encoded (pd.Series): Encoded testing target data.\n",
        "    \"\"\"\n",
        "\n",
        "    if encoder_type == 'label':\n",
        "        encoder = LabelEncoder()\n",
        "        y_train_encoded = encoder.fit_transform(y_train)\n",
        "        y_test_encoded = encoder.transform(y_test)\n",
        "\n",
        "        y_train_encoded = pd.Series(y_train_encoded, index=y_train.index, name=\"Target\")\n",
        "        y_test_encoded = pd.Series(y_test_encoded, index=y_test.index, name=\"Target\")\n",
        "\n",
        "\n",
        "    elif encoder_type == 'onehot':\n",
        "        y_train_ = y_train.values.reshape(-1, 1)\n",
        "        y_test_ = y_test.values.reshape(-1, 1)\n",
        "\n",
        "        encoder = OneHotEncoder(sparse_output=False)\n",
        "        y_train_encoded = encoder.fit_transform(y_train_)\n",
        "        y_test_encoded = encoder.transform(y_test_)\n",
        "\n",
        "        y_train_encoded = pd.DataFrame(y_train_encoded, index=y_train.index)\n",
        "        y_test_encoded = pd.DataFrame(y_test_encoded, index=y_test.index)\n",
        "\n",
        "    else:\n",
        "        raise ValueError(\"Invalid encoder_type. Currently supported: 'label'.\")\n",
        "\n",
        "    if enc_strategy:\n",
        "        return y_train_encoded, y_test_encoded, encoder\n",
        "\n",
        "    else:\n",
        "        return y_train_encoded, y_test_encoded\n",
        "\n",
        "def encode_data(X_train, X_test, encoder_type='label', columns=None, map=None):\n",
        "    \"\"\"\n",
        "    Encodes the training and testing data using the specified encoder type.\n",
        "\n",
        "    Parameters:\n",
        "    X_train (pd.DataFrame): Training data.\n",
        "    X_test (pd.DataFrame): Testing data.\n",
        "    encoder_type (str): Type of encoder ('label' or 'onehot'). Default is 'label'.\n",
        "    columns (list): List of columns to encode. If None, all object type columns are encoded.\n",
        "\n",
        "    Returns:\n",
        "    X_train_encoded (pd.DataFrame): Encoded training data.\n",
        "    X_test_encoded (pd.DataFrame): Encoded testing data.\n",
        "    \"\"\"\n",
        "\n",
        "    if columns is None:\n",
        "        # Default to all object type columns if no columns are specified\n",
        "        columns = X_train.select_dtypes(include=['object']).columns.tolist()\n",
        "\n",
        "    X_train_encoded = X_train.copy()\n",
        "    X_test_encoded = X_test.copy()\n",
        "\n",
        "    if encoder_type == 'label':\n",
        "        for col in columns:\n",
        "            le = LabelEncoder()\n",
        "            X_train_encoded[col] = le.fit_transform(X_train[col])\n",
        "            X_test_encoded[col] = le.transform(X_test[col])\n",
        "\n",
        "    elif encoder_type == 'onehot':\n",
        "        for col in columns:\n",
        "            ohe = OneHotEncoder(handle_unknown='ignore', sparse_output=False, drop='first')\n",
        "            # Fit the encoder on the training data and transform both training and test data\n",
        "            encoded_train = ohe.fit_transform(X_train[[col]])\n",
        "            encoded_test = ohe.transform(X_test[[col]])\n",
        "\n",
        "            # Create a DataFrame with the encoded data\n",
        "            encoded_train_df = pd.DataFrame(encoded_train, columns=ohe.get_feature_names_out([col]))\n",
        "            encoded_test_df = pd.DataFrame(encoded_test, columns=ohe.get_feature_names_out([col]))\n",
        "\n",
        "            # Concatenate the new columns to the original dataframes and drop the original columns\n",
        "            X_train_encoded = pd.concat([X_train_encoded.drop(col, axis=1), encoded_train_df], axis=1)\n",
        "            X_test_encoded = pd.concat([X_test_encoded.drop(col, axis=1), encoded_test_df], axis=1)\n",
        "\n",
        "    elif encoder_type == 'count_encoder':\n",
        "\n",
        "          for col in columns:\n",
        "\n",
        "                target_encoder = CountEncoder(cols=columns)\n",
        "                X_train_encoded = target_encoder.fit_transform(X_train_encoded)\n",
        "                X_test_encoded = target_encoder.transform(X_test_encoded)\n",
        "\n",
        "    else:\n",
        "        raise ValueError(\"Invalid encoder_type. Currently supported: 'label', 'onehot', 'target_encoder'.\")\n",
        "\n",
        "    return X_train_encoded, X_test_encoded"
      ]
    },
    {
      "cell_type": "markdown",
      "metadata": {
        "id": "F5NjoRTdyVHe"
      },
      "source": [
        "## **Importing the Dataset**"
      ]
    },
    {
      "cell_type": "markdown",
      "metadata": {
        "id": "AEYVvvGmeG2W"
      },
      "source": [
        "## **Files**\n",
        "* activities.txt - a list of activity names that appear in the activity-X:XX columns\n",
        "* sample_submission.csv - a sample submission file in the correct format\n",
        "* test.csv - the test set\n",
        "* train.csv - the training set\n",
        "\n",
        "## **Columns**\n",
        "* train.csv:\n",
        "    * **id - row id** consisting of participant number and a count for that participant\n",
        "    * **p_num** - participant number\n",
        "    * **time** - time of day in the format HH:MM:SS\n",
        "    * **bg-X:XX** - blood glucose reading in mmol/L, X:XX(H:SS) time in the past (e.g. bg-2:35, would be the blood glucose reading from 2 hours and 35 minutes before the time value for that row), recorded by the continuous glucose monitor\n",
        "    * **insulin-X:XX** - total insulin dose received in units in the last 5 minutes, X:XX(H:SS) time in the past (e.g. insulin-2:35, would be the total insulin dose received between 2 hours and 40 minutes and 2 hours and 35 minutes before the time value for that row), recorded by the insulin pump\n",
        "    * **carbs-X:XX** - total carbohydrate value consumed in grammes in the last 5 minutes, X:XX(H:SS) time in the past (e.g. carbs-2:35, would be the total carbohydrate value consumed between 2 hours and 40 minutes and 2 hours and 35 minutes before the time value for that row), recorded by the participant\n",
        "    * **hr-X:XX** - mean heart rate in beats per minute in the last 5 minutes, X:XX(H:SS) time in the past (e.g. hr-2:35, would be the mean heart rate between 2 hours and 40 minutes and 2 hours and 35 minutes before the time value for that row), recorded by the smartwatch\n",
        "    * **steps-X:XX** - total steps walked in the last 5 minutes, X:XX(H:SS) time in the past (e.g. * steps-2:35, would be the total steps walked between 2 hours and 40 minutes and 2 hours and 35 minutes before the time value for that row), recorded by the smartwatch\n",
        "    * **cals-X:XX** - total calories burnt in the last 5 minutes, X:XX(H:SS) time in the past (e.g. cals-2:35, would be the total calories burned between 2 hours and 40 minutes and 2 hours and 35 minutes before the time value for that row), calculated by the smartwatch\n",
        "    * **activity-X:XX** - self-declared activity performed in the last 5 minutes, X:XX(H:SS) time in the past (e.g. activity-2:35, would show a string name of the activity performed between 2 hours and 40 minutes and 2 hours and 35 minutes before the time value for that row), set on the smartwatch\n",
        "    * **bg+1:00** - blood glucose reading in mmol/L an hour in the future, this is the value you will be predicting (not provided in test.csv)"
      ]
    },
    {
      "cell_type": "code",
      "source": [
        "colx = ['steps_av0','steps_av1','steps_av2','steps_av3','steps_av4','steps_av5','steps_av6','steps_av7','steps_av8','steps_av9','steps_av10','steps_av11','steps_av12','steps_av13','steps_av14',\n",
        "        'steps_av15','steps_av16','steps_av17','steps_av18','steps_av19','steps_av20','steps_av21','steps_av22','steps_av23','steps_av24','steps_av25','steps_av26','steps_av27','steps_av28','steps_av29','steps_av30','steps_av31',\n",
        "        'insulin_av0','insulin_av1','insulin_av2','insulin_av3','insulin_av4','insulin_av5','insulin_av6','insulin_av7','insulin_av8','insulin_av9','insulin_av10','insulin_av11',\n",
        "        'insulin_av12','insulin_av13','insulin_av14','insulin_av15','insulin_av16','insulin_av17','insulin_av18','insulin_av19','insulin_av20','insulin_av21','insulin_av22','insulin_av23','insulin_av24','insulin_av25','insulin_av26',\n",
        "        'insulin_av27','insulin_av28','insulin_av29','insulin_av30','insulin_av31','activity0','activity1','activity2','activity3','activity4','activity5','activity6','activity7','activity8','activity9','activity10',\n",
        "        'activity11','activity12','activity13','activity14','activity15','activity16','activity17','activity18','activity19','activity20','activity21','activity22','activity23','activity24','activity25',\n",
        "        'activity26','activity27','activity28','activity29','activity30','activity31','cals_av0','cals_av1','cals_av2','cals_av3','cals_av4','cals_av5','cals_av6','cals_av7','cals_av8','cals_av9',\n",
        "        'cals_av10','cals_av11','cals_av12','cals_av13','cals_av14','cals_av15','cals_av16','cals_av17','cals_av18','cals_av19','cals_av20','cals_av21','cals_av22','cals_av23','cals_av24','cals_av25','cals_av26','cals_av27','cals_av28','cals_av29','cals_av30','cals_av31',\n",
        "        'brake0','brake1','brake2','brake3','brake4','brake5','brake6','brake7','brake8','brake9','brake10','brake11','brake12','brake13',\n",
        "        'brake14','brake15','brake16','brake17','brake18','brake19','brake20','brake21','brake22','brake23','brake24','brake25','brake26','brake27','brake28','brake29','brake30','brake31',\n",
        "        'carbs_av0','carbs_av1','carbs_av2','carbs_av3','carbs_av4','carbs_av5','carbs_av6','carbs_av7','carbs_av8','carbs_av9','carbs_av10','carbs_av11','carbs_av12','carbs_av13','carbs_av14','carbs_av15','carbs_av16',\n",
        "        'carbs_av17','carbs_av18','carbs_av19','carbs_av20','carbs_av21','carbs_av22','carbs_av23','carbs_av24','carbs_av25','carbs_av26','carbs_av27','carbs_av28','carbs_av29','carbs_av30','carbs_av31',\n",
        "        'bg0','bg1','bg2','bg3','bg4','bg5','bg6','bg7','bg8','bg9','bg10','bg11','bg12','bg13','bg14','bg15','bg16','bg17','bg18','bg19','bg20','bg21','bg22','bg23','bg24','bg25','bg26','bg27','bg28','bg29','bg30','bg31',\n",
        "        'hr0','hr1','hr2','hr3','hr4','hr5','hr6','hr7','hr8','hr9','hr10','hr11','hr12','hr13','hr14','hr15','hr16','hr17','hr18','hr19','hr20','hr21','hr22','hr23','hr24','hr25','hr26','hr27','hr28','hr29','hr30','hr31',\n",
        "        'intake0','intake1','intake2','intake3','intake4','intake5','intake6','intake7','intake8','intake9','intake10','intake11','intake12','intake13','intake14',\n",
        "        'intake15','intake16','intake17','intake18','intake19','intake20','intake21','intake22','intake23','intake24','intake25','intake26','intake27','intake28','intake29','intake30','intake31']\n",
        "\n",
        "dict_colx = {i:np.float32 for i in colx}"
      ],
      "metadata": {
        "id": "euvzhkY9fg_o"
      },
      "execution_count": null,
      "outputs": []
    },
    {
      "cell_type": "code",
      "execution_count": null,
      "metadata": {
        "id": "9fiLvkXQuzJ3",
        "colab": {
          "base_uri": "https://localhost:8080/"
        },
        "outputId": "ecc381b7-7a2d-458e-a5b6-861314e33296"
      },
      "outputs": [
        {
          "output_type": "execute_result",
          "data": {
            "text/plain": [
              "(3644, 290)"
            ]
          },
          "metadata": {},
          "execution_count": 10
        }
      ],
      "source": [
        "df_train=pd.read_csv(\"/content/drive/MyDrive/Exercises/Studies_Structured_Data/Data/Glucose/X_train_scaled_smaller.csv\", index_col=0, dtype=dict_colx)\n",
        "df_test=pd.read_csv(\"/content/drive/MyDrive/Exercises/Studies_Structured_Data/Data/Glucose/X_test_scaled_smaller.csv\", index_col=0, dtype=dict_colx)\n",
        "\n",
        "df_test.shape"
      ]
    },
    {
      "cell_type": "code",
      "source": [
        "gc.collect()"
      ],
      "metadata": {
        "colab": {
          "base_uri": "https://localhost:8080/"
        },
        "id": "idgbKLSMjS7i",
        "outputId": "1dcc2eed-4c71-4e96-e1b0-706865a3ce8d"
      },
      "execution_count": null,
      "outputs": [
        {
          "output_type": "execute_result",
          "data": {
            "text/plain": [
              "4"
            ]
          },
          "metadata": {},
          "execution_count": 11
        }
      ]
    },
    {
      "cell_type": "code",
      "execution_count": null,
      "metadata": {
        "id": "UIdNSqVxOY7o",
        "colab": {
          "base_uri": "https://localhost:8080/"
        },
        "outputId": "78b620a5-70de-4bd1-b67e-0e5d7ed864fa"
      },
      "outputs": [
        {
          "output_type": "execute_result",
          "data": {
            "text/plain": [
              "array(['p01', 'p02', 'p03', 'p04', 'p05', 'p06', 'p10', 'p11', 'p12',\n",
              "       'p15', 'p16', 'p18', 'p19', 'p21', 'p22', 'p24'], dtype=object)"
            ]
          },
          "metadata": {},
          "execution_count": 12
        }
      ],
      "source": [
        "df_train.p_num.unique()"
      ]
    },
    {
      "cell_type": "code",
      "execution_count": null,
      "metadata": {
        "id": "N8OmmGKk8KPX",
        "colab": {
          "base_uri": "https://localhost:8080/",
          "height": 287
        },
        "outputId": "173887a4-3e37-4c5a-92d3-c13ec3ba0f99"
      },
      "outputs": [
        {
          "output_type": "execute_result",
          "data": {
            "text/plain": [
              "      p_num  steps_av0  steps_av1  steps_av2  steps_av3  steps_av4  steps_av5  \\\n",
              "index                                                                           \n",
              "0       p01   3.496508   3.751920   3.837058   3.834954   3.850368   3.850331   \n",
              "1       p01   3.871201   3.891612   3.877790   3.758642   3.723618   3.646031   \n",
              "2       p01   3.433987   3.522453   3.434334   3.457340   3.332515   3.143300   \n",
              "3       p01   3.555348   3.163968   2.876841   2.706937   2.678539   2.671959   \n",
              "4       p01   2.197225   2.381087   2.442374   2.491545   2.315124   2.160319   \n",
              "\n",
              "       steps_av6  steps_av7  steps_av8  steps_av9  steps_av10  steps_av11  \\\n",
              "index                                                                       \n",
              "0       3.790853   3.768361   3.711665   3.687072    3.609449    3.491763   \n",
              "1       3.628935   3.529470   3.381443   3.263021    3.199560    3.158601   \n",
              "2       2.991320   2.938024   2.912471   2.885130    2.769158    2.653919   \n",
              "3       2.667259   2.535031   2.407394   2.305284    2.272613    2.256516   \n",
              "4       2.049744   2.036765   2.026670   2.101262    1.910238    1.934153   \n",
              "\n",
              "       steps_av12  steps_av13  steps_av14  steps_av15  steps_av16  steps_av17  \\\n",
              "index                                                                           \n",
              "0        3.392184    3.333095    3.286826    3.246341    3.150052    3.052066   \n",
              "1        3.118636    3.010836    2.902533    2.851090    2.797844    2.764476   \n",
              "2        2.599457    2.552775    2.521219    2.532897    2.448527    2.420604   \n",
              "3        2.291249    2.127589    2.132231    2.179615    2.146075    2.087883   \n",
              "4        1.998648    1.970848    1.912699    1.930482    1.898471    1.969558   \n",
              "\n",
              "       steps_av18  steps_av19  steps_av20  steps_av21  steps_av22  steps_av23  \\\n",
              "index                                                                           \n",
              "0        3.000875    2.948127    2.912369    2.903082    2.824627    2.793578   \n",
              "1        2.761507    2.678362    2.649842    2.660775    2.629694    2.565899   \n",
              "2        2.442320    2.417500    2.354695    2.352327    2.250051    2.288718   \n",
              "3        2.099183    1.994223    2.057937    2.120485    2.148837    2.159214   \n",
              "4        2.046634    2.082932    2.097930    2.065583    2.005912    1.968107   \n",
              "\n",
              "       steps_av24  steps_av25  steps_av26  steps_av27  steps_av28  steps_av29  \\\n",
              "index                                                                           \n",
              "0        2.797449    2.764698    2.702991    2.688691    2.595977    2.620518   \n",
              "1        2.551152    2.527873    2.553466    2.587146    2.593541    2.592587   \n",
              "2        2.337030    2.348646    2.350470    2.316036    2.274055    2.234874   \n",
              "3        2.128298    2.073100    2.037007    2.003493    1.934407    1.893032   \n",
              "4        1.933328    1.858969    1.815790    1.750941    1.690563    1.670832   \n",
              "\n",
              "       steps_av30  steps_av31  insulin_av0  insulin_av1  insulin_av2  \\\n",
              "index                                                                  \n",
              "0        2.648776    2.652645     0.008266     0.008266     0.008266   \n",
              "1        2.553675    2.508204     0.008266     0.008266     0.008266   \n",
              "2        2.198220    2.129526     0.008266     0.008266     0.008266   \n",
              "3        1.831966    1.774717     0.008266     0.008266     0.008266   \n",
              "4        1.639293    1.644058     0.008266     0.008266     0.008266   \n",
              "\n",
              "       insulin_av3  insulin_av4  insulin_av5  insulin_av6  insulin_av7  \\\n",
              "index                                                                    \n",
              "0         0.008266     0.008266     0.008266     0.008266     0.008266   \n",
              "1         0.008266     0.008266     0.008266     0.008266     0.008266   \n",
              "2         0.008266     0.008266     0.008266     0.008266     0.008266   \n",
              "3         0.008266     0.008266     0.008266     0.008266     0.008266   \n",
              "4         0.008266     0.008266     0.008266     0.008266     0.008266   \n",
              "\n",
              "       insulin_av8  insulin_av9  insulin_av10  insulin_av11  insulin_av12  \\\n",
              "index                                                                       \n",
              "0         0.008266     0.008266      0.008266      0.008266      0.008266   \n",
              "1         0.008266     0.008266      0.008266      0.008266      0.008266   \n",
              "2         0.008266     0.008266      0.008266      0.008266      0.008266   \n",
              "3         0.008266     0.008266      0.008266      0.008266      0.008266   \n",
              "4         0.008266     0.008266      0.008266      0.008266      0.008266   \n",
              "\n",
              "       insulin_av13  insulin_av14  insulin_av15  insulin_av16  ...      hr15  \\\n",
              "index                                                          ...             \n",
              "0          0.008266      0.008266      0.008266      0.008266  ...  4.133565   \n",
              "1          0.008266      0.008266      0.008266      0.008266  ...  4.128746   \n",
              "2          0.008266      0.008266      0.008266      0.008266  ...  4.136765   \n",
              "3          0.008266      0.008266      0.008266      0.008266  ...  4.136765   \n",
              "4          0.008266      0.008266      0.008266      0.008266  ...  4.135167   \n",
              "\n",
              "           hr16      hr17      hr18      hr19      hr20      hr21      hr22  \\\n",
              "index                                                                         \n",
              "0      4.130355  4.141546  4.131961  4.120662  4.123903  4.136765  4.127134   \n",
              "1      4.117410  4.120662  4.135167  4.130355  4.128746  4.136765  4.143135   \n",
              "2      4.127134  4.123903  4.131961  4.139955  4.143135  4.152614  4.138361   \n",
              "3      4.141546  4.141546  4.147885  4.133565  4.141546  4.138361  4.138361   \n",
              "4      4.131961  4.152614  4.136765  4.133565  4.135167  4.135167  4.122284   \n",
              "\n",
              "           hr23      hr24      hr25      hr26      hr27      hr28      hr29  \\\n",
              "index                                                                         \n",
              "0      4.125520  4.133565  4.143135  4.149464  4.152614  4.139955  4.152614   \n",
              "1      4.146304  4.160444  4.152614  4.155753  4.147885  4.154184  4.152614   \n",
              "2      4.151040  4.146304  4.152614  4.152614  4.147885  4.128746  4.122284   \n",
              "3      4.138361  4.138361  4.123903  4.119037  4.125520  4.115780  4.112512   \n",
              "4      4.119037  4.123903  4.112512  4.110874  4.109233  4.104295  4.107590   \n",
              "\n",
              "           hr30      hr31   intake0   intake1   intake2   intake3   intake4  \\\n",
              "index                                                                         \n",
              "0      4.147885  4.155753 -3.973608 -3.851398 -3.822395 -3.821177 -3.822799   \n",
              "1      4.146304  4.125520 -3.845954 -3.854205 -3.793228 -3.762279 -3.751365   \n",
              "2      4.127134  4.115780 -3.669432 -3.681330 -3.711334 -3.718015 -3.724140   \n",
              "3      4.112512  4.107590 -3.739827 -3.748617 -3.660539 -3.625164 -3.622768   \n",
              "4      4.112512  4.107590 -3.515001 -3.574515 -3.596233 -3.591313 -3.582064   \n",
              "\n",
              "        intake5   intake6   intake7   intake8   intake9  intake10  intake11  \\\n",
              "index                                                                         \n",
              "0     -3.797545 -3.746849 -3.740855 -3.742014 -3.728770 -3.715329 -3.681766   \n",
              "1     -3.754694 -3.736711 -3.717742 -3.684179 -3.658441 -3.638847 -3.608324   \n",
              "2     -3.681766 -3.656028 -3.638847 -3.609612 -3.579426 -3.541496 -3.543566   \n",
              "3     -3.624017 -3.596479 -3.556078 -3.557789 -3.546464 -3.504332 -3.443760   \n",
              "4     -3.566469 -3.555817 -3.513520 -3.453717 -3.399343 -3.335199 -3.265046   \n",
              "\n",
              "       intake12  intake13  intake14  intake15  intake16  intake17  intake18  \\\n",
              "index                                                                         \n",
              "0     -3.656028 -3.638847 -3.608324 -3.578139 -3.540208 -3.542279 -3.530222   \n",
              "1     -3.578139 -3.540208 -3.542279 -3.530222 -3.502455 -3.456227 -3.407090   \n",
              "2     -3.531861 -3.504094 -3.456959 -3.407823 -3.351819 -3.284892 -3.227701   \n",
              "3     -3.386931 -3.326544 -3.256246 -3.195398 -3.140354 -3.105821 -3.066439   \n",
              "4     -3.205503 -3.148948 -3.112520 -3.069898 -3.043215 -3.039218 -3.020827   \n",
              "\n",
              "       intake19  intake20  intake21  intake22  intake23  intake24  intake25  \\\n",
              "index                                                                         \n",
              "0     -3.502455 -3.456227 -3.408655 -3.352652 -3.285725 -3.227152 -3.162034   \n",
              "1     -3.351087 -3.284160 -3.225587 -3.160469 -3.119043 -3.077658 -3.051389   \n",
              "2     -3.162583 -3.120776 -3.077105 -3.046741 -3.043219 -3.028584 -3.022669   \n",
              "3     -3.041009 -3.036579 -3.021342 -3.015417 -3.005955 -3.018981 -3.012478   \n",
              "4     -3.012643 -3.004109 -3.016717 -3.010214 -3.004793 -3.011664 -3.009347   \n",
              "\n",
              "       intake26  intake27  intake28  intake29  intake30  intake31  bg+1:00  \n",
              "index                                                                       \n",
              "0     -3.120608 -3.075372 -3.045007 -3.041485 -3.028584 -3.022669     15.4  \n",
              "1     -3.049633 -3.036732 -3.030817 -3.025006 -3.036163 -3.026980     17.2  \n",
              "2     -3.013221 -3.026664 -3.021576 -3.013941 -3.016659 -3.013886     18.2  \n",
              "3     -3.007066 -3.012088 -3.009775 -3.005153 -2.993045 -2.989735     18.4  \n",
              "4     -3.003353 -2.987035 -2.986565 -2.995982 -3.000915 -3.010518     18.0  \n",
              "\n",
              "[5 rows x 290 columns]"
            ],
            "text/html": [
              "\n",
              "  <div id=\"df-1a57736c-ae5f-4320-83f8-beefdc39339f\" class=\"colab-df-container\">\n",
              "    <div>\n",
              "<style scoped>\n",
              "    .dataframe tbody tr th:only-of-type {\n",
              "        vertical-align: middle;\n",
              "    }\n",
              "\n",
              "    .dataframe tbody tr th {\n",
              "        vertical-align: top;\n",
              "    }\n",
              "\n",
              "    .dataframe thead th {\n",
              "        text-align: right;\n",
              "    }\n",
              "</style>\n",
              "<table border=\"1\" class=\"dataframe\">\n",
              "  <thead>\n",
              "    <tr style=\"text-align: right;\">\n",
              "      <th></th>\n",
              "      <th>p_num</th>\n",
              "      <th>steps_av0</th>\n",
              "      <th>steps_av1</th>\n",
              "      <th>steps_av2</th>\n",
              "      <th>steps_av3</th>\n",
              "      <th>steps_av4</th>\n",
              "      <th>steps_av5</th>\n",
              "      <th>steps_av6</th>\n",
              "      <th>steps_av7</th>\n",
              "      <th>steps_av8</th>\n",
              "      <th>steps_av9</th>\n",
              "      <th>steps_av10</th>\n",
              "      <th>steps_av11</th>\n",
              "      <th>steps_av12</th>\n",
              "      <th>steps_av13</th>\n",
              "      <th>steps_av14</th>\n",
              "      <th>steps_av15</th>\n",
              "      <th>steps_av16</th>\n",
              "      <th>steps_av17</th>\n",
              "      <th>steps_av18</th>\n",
              "      <th>steps_av19</th>\n",
              "      <th>steps_av20</th>\n",
              "      <th>steps_av21</th>\n",
              "      <th>steps_av22</th>\n",
              "      <th>steps_av23</th>\n",
              "      <th>steps_av24</th>\n",
              "      <th>steps_av25</th>\n",
              "      <th>steps_av26</th>\n",
              "      <th>steps_av27</th>\n",
              "      <th>steps_av28</th>\n",
              "      <th>steps_av29</th>\n",
              "      <th>steps_av30</th>\n",
              "      <th>steps_av31</th>\n",
              "      <th>insulin_av0</th>\n",
              "      <th>insulin_av1</th>\n",
              "      <th>insulin_av2</th>\n",
              "      <th>insulin_av3</th>\n",
              "      <th>insulin_av4</th>\n",
              "      <th>insulin_av5</th>\n",
              "      <th>insulin_av6</th>\n",
              "      <th>insulin_av7</th>\n",
              "      <th>insulin_av8</th>\n",
              "      <th>insulin_av9</th>\n",
              "      <th>insulin_av10</th>\n",
              "      <th>insulin_av11</th>\n",
              "      <th>insulin_av12</th>\n",
              "      <th>insulin_av13</th>\n",
              "      <th>insulin_av14</th>\n",
              "      <th>insulin_av15</th>\n",
              "      <th>insulin_av16</th>\n",
              "      <th>...</th>\n",
              "      <th>hr15</th>\n",
              "      <th>hr16</th>\n",
              "      <th>hr17</th>\n",
              "      <th>hr18</th>\n",
              "      <th>hr19</th>\n",
              "      <th>hr20</th>\n",
              "      <th>hr21</th>\n",
              "      <th>hr22</th>\n",
              "      <th>hr23</th>\n",
              "      <th>hr24</th>\n",
              "      <th>hr25</th>\n",
              "      <th>hr26</th>\n",
              "      <th>hr27</th>\n",
              "      <th>hr28</th>\n",
              "      <th>hr29</th>\n",
              "      <th>hr30</th>\n",
              "      <th>hr31</th>\n",
              "      <th>intake0</th>\n",
              "      <th>intake1</th>\n",
              "      <th>intake2</th>\n",
              "      <th>intake3</th>\n",
              "      <th>intake4</th>\n",
              "      <th>intake5</th>\n",
              "      <th>intake6</th>\n",
              "      <th>intake7</th>\n",
              "      <th>intake8</th>\n",
              "      <th>intake9</th>\n",
              "      <th>intake10</th>\n",
              "      <th>intake11</th>\n",
              "      <th>intake12</th>\n",
              "      <th>intake13</th>\n",
              "      <th>intake14</th>\n",
              "      <th>intake15</th>\n",
              "      <th>intake16</th>\n",
              "      <th>intake17</th>\n",
              "      <th>intake18</th>\n",
              "      <th>intake19</th>\n",
              "      <th>intake20</th>\n",
              "      <th>intake21</th>\n",
              "      <th>intake22</th>\n",
              "      <th>intake23</th>\n",
              "      <th>intake24</th>\n",
              "      <th>intake25</th>\n",
              "      <th>intake26</th>\n",
              "      <th>intake27</th>\n",
              "      <th>intake28</th>\n",
              "      <th>intake29</th>\n",
              "      <th>intake30</th>\n",
              "      <th>intake31</th>\n",
              "      <th>bg+1:00</th>\n",
              "    </tr>\n",
              "    <tr>\n",
              "      <th>index</th>\n",
              "      <th></th>\n",
              "      <th></th>\n",
              "      <th></th>\n",
              "      <th></th>\n",
              "      <th></th>\n",
              "      <th></th>\n",
              "      <th></th>\n",
              "      <th></th>\n",
              "      <th></th>\n",
              "      <th></th>\n",
              "      <th></th>\n",
              "      <th></th>\n",
              "      <th></th>\n",
              "      <th></th>\n",
              "      <th></th>\n",
              "      <th></th>\n",
              "      <th></th>\n",
              "      <th></th>\n",
              "      <th></th>\n",
              "      <th></th>\n",
              "      <th></th>\n",
              "      <th></th>\n",
              "      <th></th>\n",
              "      <th></th>\n",
              "      <th></th>\n",
              "      <th></th>\n",
              "      <th></th>\n",
              "      <th></th>\n",
              "      <th></th>\n",
              "      <th></th>\n",
              "      <th></th>\n",
              "      <th></th>\n",
              "      <th></th>\n",
              "      <th></th>\n",
              "      <th></th>\n",
              "      <th></th>\n",
              "      <th></th>\n",
              "      <th></th>\n",
              "      <th></th>\n",
              "      <th></th>\n",
              "      <th></th>\n",
              "      <th></th>\n",
              "      <th></th>\n",
              "      <th></th>\n",
              "      <th></th>\n",
              "      <th></th>\n",
              "      <th></th>\n",
              "      <th></th>\n",
              "      <th></th>\n",
              "      <th></th>\n",
              "      <th></th>\n",
              "      <th></th>\n",
              "      <th></th>\n",
              "      <th></th>\n",
              "      <th></th>\n",
              "      <th></th>\n",
              "      <th></th>\n",
              "      <th></th>\n",
              "      <th></th>\n",
              "      <th></th>\n",
              "      <th></th>\n",
              "      <th></th>\n",
              "      <th></th>\n",
              "      <th></th>\n",
              "      <th></th>\n",
              "      <th></th>\n",
              "      <th></th>\n",
              "      <th></th>\n",
              "      <th></th>\n",
              "      <th></th>\n",
              "      <th></th>\n",
              "      <th></th>\n",
              "      <th></th>\n",
              "      <th></th>\n",
              "      <th></th>\n",
              "      <th></th>\n",
              "      <th></th>\n",
              "      <th></th>\n",
              "      <th></th>\n",
              "      <th></th>\n",
              "      <th></th>\n",
              "      <th></th>\n",
              "      <th></th>\n",
              "      <th></th>\n",
              "      <th></th>\n",
              "      <th></th>\n",
              "      <th></th>\n",
              "      <th></th>\n",
              "      <th></th>\n",
              "      <th></th>\n",
              "      <th></th>\n",
              "      <th></th>\n",
              "      <th></th>\n",
              "      <th></th>\n",
              "      <th></th>\n",
              "      <th></th>\n",
              "      <th></th>\n",
              "      <th></th>\n",
              "      <th></th>\n",
              "      <th></th>\n",
              "      <th></th>\n",
              "    </tr>\n",
              "  </thead>\n",
              "  <tbody>\n",
              "    <tr>\n",
              "      <th>0</th>\n",
              "      <td>p01</td>\n",
              "      <td>3.496508</td>\n",
              "      <td>3.751920</td>\n",
              "      <td>3.837058</td>\n",
              "      <td>3.834954</td>\n",
              "      <td>3.850368</td>\n",
              "      <td>3.850331</td>\n",
              "      <td>3.790853</td>\n",
              "      <td>3.768361</td>\n",
              "      <td>3.711665</td>\n",
              "      <td>3.687072</td>\n",
              "      <td>3.609449</td>\n",
              "      <td>3.491763</td>\n",
              "      <td>3.392184</td>\n",
              "      <td>3.333095</td>\n",
              "      <td>3.286826</td>\n",
              "      <td>3.246341</td>\n",
              "      <td>3.150052</td>\n",
              "      <td>3.052066</td>\n",
              "      <td>3.000875</td>\n",
              "      <td>2.948127</td>\n",
              "      <td>2.912369</td>\n",
              "      <td>2.903082</td>\n",
              "      <td>2.824627</td>\n",
              "      <td>2.793578</td>\n",
              "      <td>2.797449</td>\n",
              "      <td>2.764698</td>\n",
              "      <td>2.702991</td>\n",
              "      <td>2.688691</td>\n",
              "      <td>2.595977</td>\n",
              "      <td>2.620518</td>\n",
              "      <td>2.648776</td>\n",
              "      <td>2.652645</td>\n",
              "      <td>0.008266</td>\n",
              "      <td>0.008266</td>\n",
              "      <td>0.008266</td>\n",
              "      <td>0.008266</td>\n",
              "      <td>0.008266</td>\n",
              "      <td>0.008266</td>\n",
              "      <td>0.008266</td>\n",
              "      <td>0.008266</td>\n",
              "      <td>0.008266</td>\n",
              "      <td>0.008266</td>\n",
              "      <td>0.008266</td>\n",
              "      <td>0.008266</td>\n",
              "      <td>0.008266</td>\n",
              "      <td>0.008266</td>\n",
              "      <td>0.008266</td>\n",
              "      <td>0.008266</td>\n",
              "      <td>0.008266</td>\n",
              "      <td>...</td>\n",
              "      <td>4.133565</td>\n",
              "      <td>4.130355</td>\n",
              "      <td>4.141546</td>\n",
              "      <td>4.131961</td>\n",
              "      <td>4.120662</td>\n",
              "      <td>4.123903</td>\n",
              "      <td>4.136765</td>\n",
              "      <td>4.127134</td>\n",
              "      <td>4.125520</td>\n",
              "      <td>4.133565</td>\n",
              "      <td>4.143135</td>\n",
              "      <td>4.149464</td>\n",
              "      <td>4.152614</td>\n",
              "      <td>4.139955</td>\n",
              "      <td>4.152614</td>\n",
              "      <td>4.147885</td>\n",
              "      <td>4.155753</td>\n",
              "      <td>-3.973608</td>\n",
              "      <td>-3.851398</td>\n",
              "      <td>-3.822395</td>\n",
              "      <td>-3.821177</td>\n",
              "      <td>-3.822799</td>\n",
              "      <td>-3.797545</td>\n",
              "      <td>-3.746849</td>\n",
              "      <td>-3.740855</td>\n",
              "      <td>-3.742014</td>\n",
              "      <td>-3.728770</td>\n",
              "      <td>-3.715329</td>\n",
              "      <td>-3.681766</td>\n",
              "      <td>-3.656028</td>\n",
              "      <td>-3.638847</td>\n",
              "      <td>-3.608324</td>\n",
              "      <td>-3.578139</td>\n",
              "      <td>-3.540208</td>\n",
              "      <td>-3.542279</td>\n",
              "      <td>-3.530222</td>\n",
              "      <td>-3.502455</td>\n",
              "      <td>-3.456227</td>\n",
              "      <td>-3.408655</td>\n",
              "      <td>-3.352652</td>\n",
              "      <td>-3.285725</td>\n",
              "      <td>-3.227152</td>\n",
              "      <td>-3.162034</td>\n",
              "      <td>-3.120608</td>\n",
              "      <td>-3.075372</td>\n",
              "      <td>-3.045007</td>\n",
              "      <td>-3.041485</td>\n",
              "      <td>-3.028584</td>\n",
              "      <td>-3.022669</td>\n",
              "      <td>15.4</td>\n",
              "    </tr>\n",
              "    <tr>\n",
              "      <th>1</th>\n",
              "      <td>p01</td>\n",
              "      <td>3.871201</td>\n",
              "      <td>3.891612</td>\n",
              "      <td>3.877790</td>\n",
              "      <td>3.758642</td>\n",
              "      <td>3.723618</td>\n",
              "      <td>3.646031</td>\n",
              "      <td>3.628935</td>\n",
              "      <td>3.529470</td>\n",
              "      <td>3.381443</td>\n",
              "      <td>3.263021</td>\n",
              "      <td>3.199560</td>\n",
              "      <td>3.158601</td>\n",
              "      <td>3.118636</td>\n",
              "      <td>3.010836</td>\n",
              "      <td>2.902533</td>\n",
              "      <td>2.851090</td>\n",
              "      <td>2.797844</td>\n",
              "      <td>2.764476</td>\n",
              "      <td>2.761507</td>\n",
              "      <td>2.678362</td>\n",
              "      <td>2.649842</td>\n",
              "      <td>2.660775</td>\n",
              "      <td>2.629694</td>\n",
              "      <td>2.565899</td>\n",
              "      <td>2.551152</td>\n",
              "      <td>2.527873</td>\n",
              "      <td>2.553466</td>\n",
              "      <td>2.587146</td>\n",
              "      <td>2.593541</td>\n",
              "      <td>2.592587</td>\n",
              "      <td>2.553675</td>\n",
              "      <td>2.508204</td>\n",
              "      <td>0.008266</td>\n",
              "      <td>0.008266</td>\n",
              "      <td>0.008266</td>\n",
              "      <td>0.008266</td>\n",
              "      <td>0.008266</td>\n",
              "      <td>0.008266</td>\n",
              "      <td>0.008266</td>\n",
              "      <td>0.008266</td>\n",
              "      <td>0.008266</td>\n",
              "      <td>0.008266</td>\n",
              "      <td>0.008266</td>\n",
              "      <td>0.008266</td>\n",
              "      <td>0.008266</td>\n",
              "      <td>0.008266</td>\n",
              "      <td>0.008266</td>\n",
              "      <td>0.008266</td>\n",
              "      <td>0.008266</td>\n",
              "      <td>...</td>\n",
              "      <td>4.128746</td>\n",
              "      <td>4.117410</td>\n",
              "      <td>4.120662</td>\n",
              "      <td>4.135167</td>\n",
              "      <td>4.130355</td>\n",
              "      <td>4.128746</td>\n",
              "      <td>4.136765</td>\n",
              "      <td>4.143135</td>\n",
              "      <td>4.146304</td>\n",
              "      <td>4.160444</td>\n",
              "      <td>4.152614</td>\n",
              "      <td>4.155753</td>\n",
              "      <td>4.147885</td>\n",
              "      <td>4.154184</td>\n",
              "      <td>4.152614</td>\n",
              "      <td>4.146304</td>\n",
              "      <td>4.125520</td>\n",
              "      <td>-3.845954</td>\n",
              "      <td>-3.854205</td>\n",
              "      <td>-3.793228</td>\n",
              "      <td>-3.762279</td>\n",
              "      <td>-3.751365</td>\n",
              "      <td>-3.754694</td>\n",
              "      <td>-3.736711</td>\n",
              "      <td>-3.717742</td>\n",
              "      <td>-3.684179</td>\n",
              "      <td>-3.658441</td>\n",
              "      <td>-3.638847</td>\n",
              "      <td>-3.608324</td>\n",
              "      <td>-3.578139</td>\n",
              "      <td>-3.540208</td>\n",
              "      <td>-3.542279</td>\n",
              "      <td>-3.530222</td>\n",
              "      <td>-3.502455</td>\n",
              "      <td>-3.456227</td>\n",
              "      <td>-3.407090</td>\n",
              "      <td>-3.351087</td>\n",
              "      <td>-3.284160</td>\n",
              "      <td>-3.225587</td>\n",
              "      <td>-3.160469</td>\n",
              "      <td>-3.119043</td>\n",
              "      <td>-3.077658</td>\n",
              "      <td>-3.051389</td>\n",
              "      <td>-3.049633</td>\n",
              "      <td>-3.036732</td>\n",
              "      <td>-3.030817</td>\n",
              "      <td>-3.025006</td>\n",
              "      <td>-3.036163</td>\n",
              "      <td>-3.026980</td>\n",
              "      <td>17.2</td>\n",
              "    </tr>\n",
              "    <tr>\n",
              "      <th>2</th>\n",
              "      <td>p01</td>\n",
              "      <td>3.433987</td>\n",
              "      <td>3.522453</td>\n",
              "      <td>3.434334</td>\n",
              "      <td>3.457340</td>\n",
              "      <td>3.332515</td>\n",
              "      <td>3.143300</td>\n",
              "      <td>2.991320</td>\n",
              "      <td>2.938024</td>\n",
              "      <td>2.912471</td>\n",
              "      <td>2.885130</td>\n",
              "      <td>2.769158</td>\n",
              "      <td>2.653919</td>\n",
              "      <td>2.599457</td>\n",
              "      <td>2.552775</td>\n",
              "      <td>2.521219</td>\n",
              "      <td>2.532897</td>\n",
              "      <td>2.448527</td>\n",
              "      <td>2.420604</td>\n",
              "      <td>2.442320</td>\n",
              "      <td>2.417500</td>\n",
              "      <td>2.354695</td>\n",
              "      <td>2.352327</td>\n",
              "      <td>2.250051</td>\n",
              "      <td>2.288718</td>\n",
              "      <td>2.337030</td>\n",
              "      <td>2.348646</td>\n",
              "      <td>2.350470</td>\n",
              "      <td>2.316036</td>\n",
              "      <td>2.274055</td>\n",
              "      <td>2.234874</td>\n",
              "      <td>2.198220</td>\n",
              "      <td>2.129526</td>\n",
              "      <td>0.008266</td>\n",
              "      <td>0.008266</td>\n",
              "      <td>0.008266</td>\n",
              "      <td>0.008266</td>\n",
              "      <td>0.008266</td>\n",
              "      <td>0.008266</td>\n",
              "      <td>0.008266</td>\n",
              "      <td>0.008266</td>\n",
              "      <td>0.008266</td>\n",
              "      <td>0.008266</td>\n",
              "      <td>0.008266</td>\n",
              "      <td>0.008266</td>\n",
              "      <td>0.008266</td>\n",
              "      <td>0.008266</td>\n",
              "      <td>0.008266</td>\n",
              "      <td>0.008266</td>\n",
              "      <td>0.008266</td>\n",
              "      <td>...</td>\n",
              "      <td>4.136765</td>\n",
              "      <td>4.127134</td>\n",
              "      <td>4.123903</td>\n",
              "      <td>4.131961</td>\n",
              "      <td>4.139955</td>\n",
              "      <td>4.143135</td>\n",
              "      <td>4.152614</td>\n",
              "      <td>4.138361</td>\n",
              "      <td>4.151040</td>\n",
              "      <td>4.146304</td>\n",
              "      <td>4.152614</td>\n",
              "      <td>4.152614</td>\n",
              "      <td>4.147885</td>\n",
              "      <td>4.128746</td>\n",
              "      <td>4.122284</td>\n",
              "      <td>4.127134</td>\n",
              "      <td>4.115780</td>\n",
              "      <td>-3.669432</td>\n",
              "      <td>-3.681330</td>\n",
              "      <td>-3.711334</td>\n",
              "      <td>-3.718015</td>\n",
              "      <td>-3.724140</td>\n",
              "      <td>-3.681766</td>\n",
              "      <td>-3.656028</td>\n",
              "      <td>-3.638847</td>\n",
              "      <td>-3.609612</td>\n",
              "      <td>-3.579426</td>\n",
              "      <td>-3.541496</td>\n",
              "      <td>-3.543566</td>\n",
              "      <td>-3.531861</td>\n",
              "      <td>-3.504094</td>\n",
              "      <td>-3.456959</td>\n",
              "      <td>-3.407823</td>\n",
              "      <td>-3.351819</td>\n",
              "      <td>-3.284892</td>\n",
              "      <td>-3.227701</td>\n",
              "      <td>-3.162583</td>\n",
              "      <td>-3.120776</td>\n",
              "      <td>-3.077105</td>\n",
              "      <td>-3.046741</td>\n",
              "      <td>-3.043219</td>\n",
              "      <td>-3.028584</td>\n",
              "      <td>-3.022669</td>\n",
              "      <td>-3.013221</td>\n",
              "      <td>-3.026664</td>\n",
              "      <td>-3.021576</td>\n",
              "      <td>-3.013941</td>\n",
              "      <td>-3.016659</td>\n",
              "      <td>-3.013886</td>\n",
              "      <td>18.2</td>\n",
              "    </tr>\n",
              "    <tr>\n",
              "      <th>3</th>\n",
              "      <td>p01</td>\n",
              "      <td>3.555348</td>\n",
              "      <td>3.163968</td>\n",
              "      <td>2.876841</td>\n",
              "      <td>2.706937</td>\n",
              "      <td>2.678539</td>\n",
              "      <td>2.671959</td>\n",
              "      <td>2.667259</td>\n",
              "      <td>2.535031</td>\n",
              "      <td>2.407394</td>\n",
              "      <td>2.305284</td>\n",
              "      <td>2.272613</td>\n",
              "      <td>2.256516</td>\n",
              "      <td>2.291249</td>\n",
              "      <td>2.127589</td>\n",
              "      <td>2.132231</td>\n",
              "      <td>2.179615</td>\n",
              "      <td>2.146075</td>\n",
              "      <td>2.087883</td>\n",
              "      <td>2.099183</td>\n",
              "      <td>1.994223</td>\n",
              "      <td>2.057937</td>\n",
              "      <td>2.120485</td>\n",
              "      <td>2.148837</td>\n",
              "      <td>2.159214</td>\n",
              "      <td>2.128298</td>\n",
              "      <td>2.073100</td>\n",
              "      <td>2.037007</td>\n",
              "      <td>2.003493</td>\n",
              "      <td>1.934407</td>\n",
              "      <td>1.893032</td>\n",
              "      <td>1.831966</td>\n",
              "      <td>1.774717</td>\n",
              "      <td>0.008266</td>\n",
              "      <td>0.008266</td>\n",
              "      <td>0.008266</td>\n",
              "      <td>0.008266</td>\n",
              "      <td>0.008266</td>\n",
              "      <td>0.008266</td>\n",
              "      <td>0.008266</td>\n",
              "      <td>0.008266</td>\n",
              "      <td>0.008266</td>\n",
              "      <td>0.008266</td>\n",
              "      <td>0.008266</td>\n",
              "      <td>0.008266</td>\n",
              "      <td>0.008266</td>\n",
              "      <td>0.008266</td>\n",
              "      <td>0.008266</td>\n",
              "      <td>0.008266</td>\n",
              "      <td>0.008266</td>\n",
              "      <td>...</td>\n",
              "      <td>4.136765</td>\n",
              "      <td>4.141546</td>\n",
              "      <td>4.141546</td>\n",
              "      <td>4.147885</td>\n",
              "      <td>4.133565</td>\n",
              "      <td>4.141546</td>\n",
              "      <td>4.138361</td>\n",
              "      <td>4.138361</td>\n",
              "      <td>4.138361</td>\n",
              "      <td>4.138361</td>\n",
              "      <td>4.123903</td>\n",
              "      <td>4.119037</td>\n",
              "      <td>4.125520</td>\n",
              "      <td>4.115780</td>\n",
              "      <td>4.112512</td>\n",
              "      <td>4.112512</td>\n",
              "      <td>4.107590</td>\n",
              "      <td>-3.739827</td>\n",
              "      <td>-3.748617</td>\n",
              "      <td>-3.660539</td>\n",
              "      <td>-3.625164</td>\n",
              "      <td>-3.622768</td>\n",
              "      <td>-3.624017</td>\n",
              "      <td>-3.596479</td>\n",
              "      <td>-3.556078</td>\n",
              "      <td>-3.557789</td>\n",
              "      <td>-3.546464</td>\n",
              "      <td>-3.504332</td>\n",
              "      <td>-3.443760</td>\n",
              "      <td>-3.386931</td>\n",
              "      <td>-3.326544</td>\n",
              "      <td>-3.256246</td>\n",
              "      <td>-3.195398</td>\n",
              "      <td>-3.140354</td>\n",
              "      <td>-3.105821</td>\n",
              "      <td>-3.066439</td>\n",
              "      <td>-3.041009</td>\n",
              "      <td>-3.036579</td>\n",
              "      <td>-3.021342</td>\n",
              "      <td>-3.015417</td>\n",
              "      <td>-3.005955</td>\n",
              "      <td>-3.018981</td>\n",
              "      <td>-3.012478</td>\n",
              "      <td>-3.007066</td>\n",
              "      <td>-3.012088</td>\n",
              "      <td>-3.009775</td>\n",
              "      <td>-3.005153</td>\n",
              "      <td>-2.993045</td>\n",
              "      <td>-2.989735</td>\n",
              "      <td>18.4</td>\n",
              "    </tr>\n",
              "    <tr>\n",
              "      <th>4</th>\n",
              "      <td>p01</td>\n",
              "      <td>2.197225</td>\n",
              "      <td>2.381087</td>\n",
              "      <td>2.442374</td>\n",
              "      <td>2.491545</td>\n",
              "      <td>2.315124</td>\n",
              "      <td>2.160319</td>\n",
              "      <td>2.049744</td>\n",
              "      <td>2.036765</td>\n",
              "      <td>2.026670</td>\n",
              "      <td>2.101262</td>\n",
              "      <td>1.910238</td>\n",
              "      <td>1.934153</td>\n",
              "      <td>1.998648</td>\n",
              "      <td>1.970848</td>\n",
              "      <td>1.912699</td>\n",
              "      <td>1.930482</td>\n",
              "      <td>1.898471</td>\n",
              "      <td>1.969558</td>\n",
              "      <td>2.046634</td>\n",
              "      <td>2.082932</td>\n",
              "      <td>2.097930</td>\n",
              "      <td>2.065583</td>\n",
              "      <td>2.005912</td>\n",
              "      <td>1.968107</td>\n",
              "      <td>1.933328</td>\n",
              "      <td>1.858969</td>\n",
              "      <td>1.815790</td>\n",
              "      <td>1.750941</td>\n",
              "      <td>1.690563</td>\n",
              "      <td>1.670832</td>\n",
              "      <td>1.639293</td>\n",
              "      <td>1.644058</td>\n",
              "      <td>0.008266</td>\n",
              "      <td>0.008266</td>\n",
              "      <td>0.008266</td>\n",
              "      <td>0.008266</td>\n",
              "      <td>0.008266</td>\n",
              "      <td>0.008266</td>\n",
              "      <td>0.008266</td>\n",
              "      <td>0.008266</td>\n",
              "      <td>0.008266</td>\n",
              "      <td>0.008266</td>\n",
              "      <td>0.008266</td>\n",
              "      <td>0.008266</td>\n",
              "      <td>0.008266</td>\n",
              "      <td>0.008266</td>\n",
              "      <td>0.008266</td>\n",
              "      <td>0.008266</td>\n",
              "      <td>0.008266</td>\n",
              "      <td>...</td>\n",
              "      <td>4.135167</td>\n",
              "      <td>4.131961</td>\n",
              "      <td>4.152614</td>\n",
              "      <td>4.136765</td>\n",
              "      <td>4.133565</td>\n",
              "      <td>4.135167</td>\n",
              "      <td>4.135167</td>\n",
              "      <td>4.122284</td>\n",
              "      <td>4.119037</td>\n",
              "      <td>4.123903</td>\n",
              "      <td>4.112512</td>\n",
              "      <td>4.110874</td>\n",
              "      <td>4.109233</td>\n",
              "      <td>4.104295</td>\n",
              "      <td>4.107590</td>\n",
              "      <td>4.112512</td>\n",
              "      <td>4.107590</td>\n",
              "      <td>-3.515001</td>\n",
              "      <td>-3.574515</td>\n",
              "      <td>-3.596233</td>\n",
              "      <td>-3.591313</td>\n",
              "      <td>-3.582064</td>\n",
              "      <td>-3.566469</td>\n",
              "      <td>-3.555817</td>\n",
              "      <td>-3.513520</td>\n",
              "      <td>-3.453717</td>\n",
              "      <td>-3.399343</td>\n",
              "      <td>-3.335199</td>\n",
              "      <td>-3.265046</td>\n",
              "      <td>-3.205503</td>\n",
              "      <td>-3.148948</td>\n",
              "      <td>-3.112520</td>\n",
              "      <td>-3.069898</td>\n",
              "      <td>-3.043215</td>\n",
              "      <td>-3.039218</td>\n",
              "      <td>-3.020827</td>\n",
              "      <td>-3.012643</td>\n",
              "      <td>-3.004109</td>\n",
              "      <td>-3.016717</td>\n",
              "      <td>-3.010214</td>\n",
              "      <td>-3.004793</td>\n",
              "      <td>-3.011664</td>\n",
              "      <td>-3.009347</td>\n",
              "      <td>-3.003353</td>\n",
              "      <td>-2.987035</td>\n",
              "      <td>-2.986565</td>\n",
              "      <td>-2.995982</td>\n",
              "      <td>-3.000915</td>\n",
              "      <td>-3.010518</td>\n",
              "      <td>18.0</td>\n",
              "    </tr>\n",
              "  </tbody>\n",
              "</table>\n",
              "<p>5 rows × 290 columns</p>\n",
              "</div>\n",
              "    <div class=\"colab-df-buttons\">\n",
              "\n",
              "  <div class=\"colab-df-container\">\n",
              "    <button class=\"colab-df-convert\" onclick=\"convertToInteractive('df-1a57736c-ae5f-4320-83f8-beefdc39339f')\"\n",
              "            title=\"Convert this dataframe to an interactive table.\"\n",
              "            style=\"display:none;\">\n",
              "\n",
              "  <svg xmlns=\"http://www.w3.org/2000/svg\" height=\"24px\" viewBox=\"0 -960 960 960\">\n",
              "    <path d=\"M120-120v-720h720v720H120Zm60-500h600v-160H180v160Zm220 220h160v-160H400v160Zm0 220h160v-160H400v160ZM180-400h160v-160H180v160Zm440 0h160v-160H620v160ZM180-180h160v-160H180v160Zm440 0h160v-160H620v160Z\"/>\n",
              "  </svg>\n",
              "    </button>\n",
              "\n",
              "  <style>\n",
              "    .colab-df-container {\n",
              "      display:flex;\n",
              "      gap: 12px;\n",
              "    }\n",
              "\n",
              "    .colab-df-convert {\n",
              "      background-color: #E8F0FE;\n",
              "      border: none;\n",
              "      border-radius: 50%;\n",
              "      cursor: pointer;\n",
              "      display: none;\n",
              "      fill: #1967D2;\n",
              "      height: 32px;\n",
              "      padding: 0 0 0 0;\n",
              "      width: 32px;\n",
              "    }\n",
              "\n",
              "    .colab-df-convert:hover {\n",
              "      background-color: #E2EBFA;\n",
              "      box-shadow: 0px 1px 2px rgba(60, 64, 67, 0.3), 0px 1px 3px 1px rgba(60, 64, 67, 0.15);\n",
              "      fill: #174EA6;\n",
              "    }\n",
              "\n",
              "    .colab-df-buttons div {\n",
              "      margin-bottom: 4px;\n",
              "    }\n",
              "\n",
              "    [theme=dark] .colab-df-convert {\n",
              "      background-color: #3B4455;\n",
              "      fill: #D2E3FC;\n",
              "    }\n",
              "\n",
              "    [theme=dark] .colab-df-convert:hover {\n",
              "      background-color: #434B5C;\n",
              "      box-shadow: 0px 1px 3px 1px rgba(0, 0, 0, 0.15);\n",
              "      filter: drop-shadow(0px 1px 2px rgba(0, 0, 0, 0.3));\n",
              "      fill: #FFFFFF;\n",
              "    }\n",
              "  </style>\n",
              "\n",
              "    <script>\n",
              "      const buttonEl =\n",
              "        document.querySelector('#df-1a57736c-ae5f-4320-83f8-beefdc39339f button.colab-df-convert');\n",
              "      buttonEl.style.display =\n",
              "        google.colab.kernel.accessAllowed ? 'block' : 'none';\n",
              "\n",
              "      async function convertToInteractive(key) {\n",
              "        const element = document.querySelector('#df-1a57736c-ae5f-4320-83f8-beefdc39339f');\n",
              "        const dataTable =\n",
              "          await google.colab.kernel.invokeFunction('convertToInteractive',\n",
              "                                                    [key], {});\n",
              "        if (!dataTable) return;\n",
              "\n",
              "        const docLinkHtml = 'Like what you see? Visit the ' +\n",
              "          '<a target=\"_blank\" href=https://colab.research.google.com/notebooks/data_table.ipynb>data table notebook</a>'\n",
              "          + ' to learn more about interactive tables.';\n",
              "        element.innerHTML = '';\n",
              "        dataTable['output_type'] = 'display_data';\n",
              "        await google.colab.output.renderOutput(dataTable, element);\n",
              "        const docLink = document.createElement('div');\n",
              "        docLink.innerHTML = docLinkHtml;\n",
              "        element.appendChild(docLink);\n",
              "      }\n",
              "    </script>\n",
              "  </div>\n",
              "\n",
              "\n",
              "<div id=\"df-0c7f8bfc-c1d3-48f5-a29c-e92f8b351ea8\">\n",
              "  <button class=\"colab-df-quickchart\" onclick=\"quickchart('df-0c7f8bfc-c1d3-48f5-a29c-e92f8b351ea8')\"\n",
              "            title=\"Suggest charts\"\n",
              "            style=\"display:none;\">\n",
              "\n",
              "<svg xmlns=\"http://www.w3.org/2000/svg\" height=\"24px\"viewBox=\"0 0 24 24\"\n",
              "     width=\"24px\">\n",
              "    <g>\n",
              "        <path d=\"M19 3H5c-1.1 0-2 .9-2 2v14c0 1.1.9 2 2 2h14c1.1 0 2-.9 2-2V5c0-1.1-.9-2-2-2zM9 17H7v-7h2v7zm4 0h-2V7h2v10zm4 0h-2v-4h2v4z\"/>\n",
              "    </g>\n",
              "</svg>\n",
              "  </button>\n",
              "\n",
              "<style>\n",
              "  .colab-df-quickchart {\n",
              "      --bg-color: #E8F0FE;\n",
              "      --fill-color: #1967D2;\n",
              "      --hover-bg-color: #E2EBFA;\n",
              "      --hover-fill-color: #174EA6;\n",
              "      --disabled-fill-color: #AAA;\n",
              "      --disabled-bg-color: #DDD;\n",
              "  }\n",
              "\n",
              "  [theme=dark] .colab-df-quickchart {\n",
              "      --bg-color: #3B4455;\n",
              "      --fill-color: #D2E3FC;\n",
              "      --hover-bg-color: #434B5C;\n",
              "      --hover-fill-color: #FFFFFF;\n",
              "      --disabled-bg-color: #3B4455;\n",
              "      --disabled-fill-color: #666;\n",
              "  }\n",
              "\n",
              "  .colab-df-quickchart {\n",
              "    background-color: var(--bg-color);\n",
              "    border: none;\n",
              "    border-radius: 50%;\n",
              "    cursor: pointer;\n",
              "    display: none;\n",
              "    fill: var(--fill-color);\n",
              "    height: 32px;\n",
              "    padding: 0;\n",
              "    width: 32px;\n",
              "  }\n",
              "\n",
              "  .colab-df-quickchart:hover {\n",
              "    background-color: var(--hover-bg-color);\n",
              "    box-shadow: 0 1px 2px rgba(60, 64, 67, 0.3), 0 1px 3px 1px rgba(60, 64, 67, 0.15);\n",
              "    fill: var(--button-hover-fill-color);\n",
              "  }\n",
              "\n",
              "  .colab-df-quickchart-complete:disabled,\n",
              "  .colab-df-quickchart-complete:disabled:hover {\n",
              "    background-color: var(--disabled-bg-color);\n",
              "    fill: var(--disabled-fill-color);\n",
              "    box-shadow: none;\n",
              "  }\n",
              "\n",
              "  .colab-df-spinner {\n",
              "    border: 2px solid var(--fill-color);\n",
              "    border-color: transparent;\n",
              "    border-bottom-color: var(--fill-color);\n",
              "    animation:\n",
              "      spin 1s steps(1) infinite;\n",
              "  }\n",
              "\n",
              "  @keyframes spin {\n",
              "    0% {\n",
              "      border-color: transparent;\n",
              "      border-bottom-color: var(--fill-color);\n",
              "      border-left-color: var(--fill-color);\n",
              "    }\n",
              "    20% {\n",
              "      border-color: transparent;\n",
              "      border-left-color: var(--fill-color);\n",
              "      border-top-color: var(--fill-color);\n",
              "    }\n",
              "    30% {\n",
              "      border-color: transparent;\n",
              "      border-left-color: var(--fill-color);\n",
              "      border-top-color: var(--fill-color);\n",
              "      border-right-color: var(--fill-color);\n",
              "    }\n",
              "    40% {\n",
              "      border-color: transparent;\n",
              "      border-right-color: var(--fill-color);\n",
              "      border-top-color: var(--fill-color);\n",
              "    }\n",
              "    60% {\n",
              "      border-color: transparent;\n",
              "      border-right-color: var(--fill-color);\n",
              "    }\n",
              "    80% {\n",
              "      border-color: transparent;\n",
              "      border-right-color: var(--fill-color);\n",
              "      border-bottom-color: var(--fill-color);\n",
              "    }\n",
              "    90% {\n",
              "      border-color: transparent;\n",
              "      border-bottom-color: var(--fill-color);\n",
              "    }\n",
              "  }\n",
              "</style>\n",
              "\n",
              "  <script>\n",
              "    async function quickchart(key) {\n",
              "      const quickchartButtonEl =\n",
              "        document.querySelector('#' + key + ' button');\n",
              "      quickchartButtonEl.disabled = true;  // To prevent multiple clicks.\n",
              "      quickchartButtonEl.classList.add('colab-df-spinner');\n",
              "      try {\n",
              "        const charts = await google.colab.kernel.invokeFunction(\n",
              "            'suggestCharts', [key], {});\n",
              "      } catch (error) {\n",
              "        console.error('Error during call to suggestCharts:', error);\n",
              "      }\n",
              "      quickchartButtonEl.classList.remove('colab-df-spinner');\n",
              "      quickchartButtonEl.classList.add('colab-df-quickchart-complete');\n",
              "    }\n",
              "    (() => {\n",
              "      let quickchartButtonEl =\n",
              "        document.querySelector('#df-0c7f8bfc-c1d3-48f5-a29c-e92f8b351ea8 button');\n",
              "      quickchartButtonEl.style.display =\n",
              "        google.colab.kernel.accessAllowed ? 'block' : 'none';\n",
              "    })();\n",
              "  </script>\n",
              "</div>\n",
              "\n",
              "    </div>\n",
              "  </div>\n"
            ],
            "application/vnd.google.colaboratory.intrinsic+json": {
              "type": "dataframe",
              "variable_name": "df_train"
            }
          },
          "metadata": {},
          "execution_count": 13
        }
      ],
      "source": [
        "df_train.head(5)"
      ]
    },
    {
      "cell_type": "code",
      "execution_count": null,
      "metadata": {
        "id": "-nJ0_v3bl0_s",
        "colab": {
          "base_uri": "https://localhost:8080/"
        },
        "outputId": "b39edd85-5892-41a8-a57f-a51da2fcc0ee"
      },
      "outputs": [
        {
          "output_type": "stream",
          "name": "stdout",
          "text": [
            "<class 'pandas.core.frame.DataFrame'>\n",
            "Index: 2100934 entries, 0 to 2100933\n",
            "Columns: 290 entries, p_num to bg+1:00\n",
            "dtypes: float32(288), float64(1), object(1)\n",
            "memory usage: 2.3+ GB\n"
          ]
        },
        {
          "output_type": "execute_result",
          "data": {
            "text/plain": [
              "Index(['p_num', 'steps_av0', 'steps_av1', 'steps_av2', 'steps_av3',\n",
              "       'steps_av4', 'steps_av5', 'steps_av6', 'steps_av7', 'steps_av8',\n",
              "       ...\n",
              "       'intake23', 'intake24', 'intake25', 'intake26', 'intake27', 'intake28',\n",
              "       'intake29', 'intake30', 'intake31', 'bg+1:00'],\n",
              "      dtype='object', length=290)"
            ]
          },
          "metadata": {},
          "execution_count": 14
        }
      ],
      "source": [
        "df_train.info()\n",
        "df_train.columns"
      ]
    },
    {
      "cell_type": "code",
      "execution_count": null,
      "metadata": {
        "id": "9Z8CiYrCCuNQ"
      },
      "outputs": [],
      "source": [
        "#df_all = pd.concat([df_train,df_test])"
      ]
    },
    {
      "cell_type": "markdown",
      "metadata": {
        "id": "vdYNfgB1gObc"
      },
      "source": [
        "## Group the Data:\n",
        "\n",
        "Data are scaled in groups."
      ]
    },
    {
      "cell_type": "code",
      "execution_count": null,
      "metadata": {
        "id": "OwLn5-lSY1g3"
      },
      "outputs": [],
      "source": [
        "static_fields = [\"p_num\"] #\"id\",\n",
        "target = [\"bg+1:00\"]\n",
        "ts_fields = list(df_train.drop(columns=static_fields+target))"
      ]
    },
    {
      "cell_type": "code",
      "execution_count": null,
      "metadata": {
        "id": "Nh2LRlxA3okI"
      },
      "outputs": [],
      "source": [
        "target_scaler = StandardScaler()\n",
        "df_train[\"bg+1:00\"] = target_scaler.fit_transform(df_train[target])"
      ]
    },
    {
      "cell_type": "code",
      "source": [
        "#ts_fields"
      ],
      "metadata": {
        "id": "_4-ZV14LYjCz"
      },
      "execution_count": null,
      "outputs": []
    },
    {
      "cell_type": "markdown",
      "metadata": {
        "id": "5FXSnbRYnNg9"
      },
      "source": [
        "Sub-dataset are created for each main set of features to inpute missing values:"
      ]
    },
    {
      "cell_type": "code",
      "execution_count": null,
      "metadata": {
        "id": "xHV_d6Ar-TX2"
      },
      "outputs": [],
      "source": [
        "# # Select columns containing the word \"bg\"\n",
        "# bg_col_train = df_train.filter(regex='bg|time|p_num|hour|minute')\n",
        "# bg_col_test = df_test.filter(regex='bg|time|p_num|hour|minute')\n",
        "\n",
        "# hr_col_train = df_train.filter(regex='hr|time|p_num|bg+1:00|hour|minute')\n",
        "# hr_col_test = df_test.filter(regex='hr|time|p_num|bg+1:00|hour|minute')\n",
        "# hr_col_train[\"bg+1:00\"] = df_train[\"bg+1:00\"]\n",
        "\n",
        "# step_col_train = df_train.filter(regex='steps|time|p_num|bg+1:00|hour|minute')\n",
        "# step_col_test = df_test.filter(regex='steps|time|p_num|bg+1:00|hour|minute')\n",
        "# step_col_train[\"bg+1:00\"] = df_train[\"bg+1:00\"]\n",
        "\n",
        "# cal_col_train = df_train.filter(regex='cal|time|p_num|bg+1:00|hour|minute')\n",
        "# cal_col_test = df_test.filter(regex='cal|time|p_num|bg+1:00|hour|minute')\n",
        "# cal_col_train[\"bg+1:00\"] = df_train[\"bg+1:00\"]\n",
        "\n",
        "# act_col_train = df_train.filter(regex='activity|time|p_num|bg+1:00|hour|minute')\n",
        "# act_col_test = df_test.filter(regex='activity|time|p_num|bg+1:00|hour|minute')\n",
        "# act_col_train[\"bg+1:00\"] = df_train[\"bg+1:00\"]"
      ]
    },
    {
      "cell_type": "markdown",
      "metadata": {
        "id": "shM1cFJaNmgX"
      },
      "source": [
        "### Outliers"
      ]
    },
    {
      "cell_type": "markdown",
      "metadata": {
        "id": "rPQvaUBFNyKi"
      },
      "source": [
        "#### Insuline"
      ]
    },
    {
      "cell_type": "code",
      "execution_count": null,
      "metadata": {
        "id": "SXq6CZj-NrJ6"
      },
      "outputs": [],
      "source": [
        "# insulin_col_train = df_train.filter(regex='insulin')\n",
        "# insulin_col_test = df_test.filter(regex='insulin')\n",
        "# #insulin_col_train[\"bg+1:00\"] = df_train[\"bg+1:00\"]\n",
        "\n",
        "# ins_sub = insulin_col_train[['insulin_av5', 'insulin_av4','insulin_av3',\n",
        "#                              'insulin_av2', 'insulin_av1','insulin_av0']]"
      ]
    },
    {
      "cell_type": "code",
      "execution_count": null,
      "metadata": {
        "id": "g1jnNTIUNrHP"
      },
      "outputs": [],
      "source": [
        "# plt.boxplot(insulin_col_train)\n",
        "# plt.show()"
      ]
    },
    {
      "cell_type": "markdown",
      "metadata": {
        "id": "gPT_vRSoOMjt"
      },
      "source": [
        "The -5 value seems suspicious"
      ]
    },
    {
      "cell_type": "code",
      "source": [
        "#list(insulin_col_train.columns)"
      ],
      "metadata": {
        "id": "rpLu9j30j9ow"
      },
      "execution_count": null,
      "outputs": []
    },
    {
      "cell_type": "code",
      "execution_count": null,
      "metadata": {
        "id": "6wj9r2A9QKBG"
      },
      "outputs": [],
      "source": [
        "# all_ins =  ['insulin_av0','insulin_av1', 'insulin_av2', 'insulin_av3', 'insulin_av4', 'insulin_av5', 'insulin_av6', 'insulin_av7', 'insulin_av8', 'insulin_av9',\n",
        "#             'insulin_av10', 'insulin_av11', 'insulin_av12', 'insulin_av13', 'insulin_av14', 'insulin_av15', 'insulin_av16', 'insulin_av17', 'insulin_av18', 'insulin_av19', 'insulin_av20',\n",
        "#             'insulin_av21', 'insulin_av22', 'insulin_av23', 'insulin_av24', 'insulin_av25', 'insulin_av26', 'insulin_av27', 'insulin_av28', 'insulin_av29', 'insulin_av30', 'insulin_av31']"
      ]
    },
    {
      "cell_type": "code",
      "execution_count": null,
      "metadata": {
        "id": "6l9r0TKTNrD_"
      },
      "outputs": [],
      "source": [
        "# obs_index = set()\n",
        "\n",
        "# for c in all_ins:\n",
        "#   suspicius = insulin_col_train[insulin_col_train[c]==insulin_col_train[all_ins].min().min()]\n",
        "#   new_ind = set(suspicius.index)\n",
        "#   obs_index = obs_index.union(new_ind)\n",
        "\n",
        "# print(len(obs_index))\n",
        "# obs_index = list(obs_index)"
      ]
    },
    {
      "cell_type": "code",
      "execution_count": null,
      "metadata": {
        "id": "TCyvFzSDC2t4"
      },
      "outputs": [],
      "source": [
        "# insulin_col_train.loc[obs_index,all_ins]"
      ]
    },
    {
      "cell_type": "markdown",
      "metadata": {
        "id": "dhnvYDIjLQxK"
      },
      "source": [
        "- The analysis has highlighted some negative values for insuline. As a result the File *File_01_EDA* has been reviewed to remove all the negative values."
      ]
    },
    {
      "cell_type": "markdown",
      "metadata": {
        "id": "ABUkg4_JRCM-"
      },
      "source": [
        "#### Carb"
      ]
    },
    {
      "cell_type": "code",
      "execution_count": null,
      "metadata": {
        "id": "BNmfQNS2S8fu"
      },
      "outputs": [],
      "source": [
        "# carb_col_train = df_train.filter(regex='carbs_av')\n",
        "# carb_col_test = df_test.filter(regex='carbs_av')\n",
        "# #carb_col_train[\"bg+1:00\"] = df_train[\"bg+1:00\"]"
      ]
    },
    {
      "cell_type": "code",
      "execution_count": null,
      "metadata": {
        "id": "9W_XcadzLpFq"
      },
      "outputs": [],
      "source": [
        "# print(carb_col_train.shape,carb_col_test.shape)"
      ]
    },
    {
      "cell_type": "code",
      "execution_count": null,
      "metadata": {
        "id": "ZKLmBi3UNq9n"
      },
      "outputs": [],
      "source": [
        "# plt.boxplot(carb_col_train)\n",
        "# plt.show()"
      ]
    },
    {
      "cell_type": "markdown",
      "metadata": {
        "id": "M7UJQ1ueLjsJ"
      },
      "source": [
        "# Features Engeneering:"
      ]
    },
    {
      "cell_type": "code",
      "execution_count": null,
      "metadata": {
        "id": "C1pXF27ZTYAs"
      },
      "outputs": [],
      "source": [
        "# insulin_col_train = df_train.filter(regex='insulin|bg+1:00')\n",
        "# insulin_col_test = df_test.filter(regex='insulin|bg+1:00')\n",
        "# insulin_col_train[\"bg+1:00\"] = df_train[\"bg+1:00\"]"
      ]
    },
    {
      "cell_type": "code",
      "execution_count": null,
      "metadata": {
        "id": "LUCTlMjLLpCD"
      },
      "outputs": [],
      "source": [
        "# ins_subset_train = insulin_col_train[['insulin_av12','insulin_av31', 'bg+1:00']].copy()\n",
        "# ins_subset_train[\"Delta_past\"] = ins_subset_train['insulin_av31'] - ins_subset_train['insulin_av12']\n",
        "# #ins_subset_train[\"Delta_fut\"] = ins_subset_train['bg+1:00'] - ins_subset_train['bg-0:00']\n",
        "# ins_subset_train.isnull().sum()"
      ]
    },
    {
      "cell_type": "code",
      "execution_count": null,
      "metadata": {
        "id": "OTuqATGQOkIx"
      },
      "outputs": [],
      "source": [
        "# ins_subset_train.plot(kind=\"scatter\",x=\"insulin_av31\",y=\"bg+1:00\",alpha=0.7)\n",
        "# plt.xlabel(\"-0:00\")\n",
        "# plt.ylabel(\"-1:00\")\n",
        "# plt.show()"
      ]
    },
    {
      "cell_type": "markdown",
      "metadata": {
        "id": "gKeyCNkDA6iK"
      },
      "source": [
        "## **CLUSTERS**"
      ]
    },
    {
      "cell_type": "code",
      "execution_count": null,
      "metadata": {
        "id": "ylo2Fpm7Lo-b"
      },
      "outputs": [],
      "source": [
        "# cols = ['bg0','bg1','bg2','bg3','bg4','bg5','bg6','bg7','bg8','bg9','bg10','bg11','bg12','bg13','bg14','bg15',\n",
        "#         'bg16','bg17','bg18','bg19','bg20','bg21','bg22','bg23','bg24','bg25','bg26','bg27','bg28','bg29','bg30','bg31']\n",
        "\n",
        "# # Train dataframe:\n",
        "# bg_col_train[\"mean_bg\"] = bg_col_train[cols].mean(axis=1)\n",
        "# bg_col_train[\"std_bg\"] = bg_col_train[cols].std(axis=1)\n",
        "# bg_col_train[\"med_bg\"] = bg_col_train[cols].median(axis=1)\n",
        "# bg_col_train[\"skew_bg\"] = bg_col_train[cols].skew(axis=1)\n",
        "# bg_col_train[\"curtosis_bg\"] = bg_col_train[cols].kurtosis(axis=1)\n",
        "# # test dataframe:\n",
        "# bg_col_test[\"mean_bg\"] = bg_col_test[cols].mean(axis=1)\n",
        "# bg_col_test[\"std_bg\"] = bg_col_test[cols].std(axis=1)\n",
        "# bg_col_test[\"med_bg\"] = bg_col_test[cols].median(axis=1)\n",
        "# bg_col_test[\"skew_bg\"] = bg_col_test[cols].skew(axis=1)\n",
        "# bg_col_test[\"curtosis_bg\"] = bg_col_test[cols].kurtosis(axis=1)\n",
        "\n",
        "# # Select Relevant Features\n",
        "# cluster_df_train = bg_col_train[[\"mean_bg\",\"std_bg\",\"skew_bg\",\"curtosis_bg\"]].copy()\n",
        "# cluster_df_test = bg_col_test[[\"mean_bg\",\"std_bg\",\"skew_bg\",\"curtosis_bg\"]].copy()\n",
        "\n",
        "# scaler = StandardScaler()\n",
        "# cluster_df_train = pd.DataFrame(scaler.fit_transform(cluster_df_train), columns=cluster_df_train.columns, index=cluster_df_train.index)\n",
        "# cluster_df_test = pd.DataFrame(scaler.transform(cluster_df_test), columns=cluster_df_test.columns, index=cluster_df_test.index)"
      ]
    },
    {
      "cell_type": "code",
      "execution_count": null,
      "metadata": {
        "id": "10YBKbsKfXDQ"
      },
      "outputs": [],
      "source": [
        "# cluster_df_train.sample(5)"
      ]
    },
    {
      "cell_type": "code",
      "source": [
        "# cluster_df_train.shape"
      ],
      "metadata": {
        "id": "Rj2zsqR2TNEI"
      },
      "execution_count": null,
      "outputs": []
    },
    {
      "cell_type": "markdown",
      "metadata": {
        "id": "1wQp9k9ZkFv2"
      },
      "source": [
        "#### K-Means"
      ]
    },
    {
      "cell_type": "code",
      "execution_count": null,
      "metadata": {
        "id": "2mHDVDhfLo4I"
      },
      "outputs": [],
      "source": [
        "# # extra code – this cell generates and saves Figure 9–8\n",
        "\n",
        "# kmeans_per_k = [KMeans(n_clusters=k, n_init=10, random_state=42).fit(cluster_df_train)\n",
        "#                 for k in range(1, 10)]\n",
        "# inertias = [model.inertia_ for model in kmeans_per_k]\n",
        "\n",
        "# plt.figure(figsize=(8, 3.5))\n",
        "# plt.plot(range(1, 10), inertias, \"bo-\")\n",
        "# plt.xlabel(\"$k$\")\n",
        "# plt.ylabel(\"Inertia\")\n",
        "# plt.show()"
      ]
    },
    {
      "cell_type": "markdown",
      "metadata": {
        "id": "xu3KbXR-lJHu"
      },
      "source": [
        "#### BayesianGaussianMixture"
      ]
    },
    {
      "cell_type": "code",
      "execution_count": null,
      "metadata": {
        "id": "XtpZjZXNv4Fr"
      },
      "outputs": [],
      "source": [
        "# from sklearn.mixture import GaussianMixture\n",
        "# from sklearn.mixture import BayesianGaussianMixture\n",
        "# from sklearn.metrics import silhouette_score\n",
        "\n",
        "# gms_per_k = [GaussianMixture(n_components=k, n_init=4, random_state=42).fit(cluster_df_train)\n",
        "#              for k in tqdm(range(2, 10))]\n",
        "# bics = [model.bic(cluster_df_train) for model in gms_per_k]\n",
        "# aics = [model.aic(cluster_df_train) for model in gms_per_k]"
      ]
    },
    {
      "cell_type": "code",
      "execution_count": null,
      "metadata": {
        "id": "vHWwI2DV4hPm"
      },
      "outputs": [],
      "source": [
        "# plt.figure(figsize=(8, 3))\n",
        "# plt.plot(range(2, 10), bics, \"bo-\", label=\"BIC\")\n",
        "# plt.plot(range(2, 10), aics, \"go--\", label=\"AIC\")\n",
        "# plt.xlabel(\"$k$\")\n",
        "# plt.ylabel(\"Information Criterion\")\n",
        "# plt.axis([1, 10.5, min(aics) - 50, max(bics) + 50])\n",
        "# plt.legend()\n",
        "\n",
        "# plt.show()"
      ]
    },
    {
      "cell_type": "code",
      "execution_count": null,
      "metadata": {
        "id": "LrwZMvCG5zmt"
      },
      "outputs": [],
      "source": [
        "# id_train = set(bg_col_train.p_num.unique())\n",
        "# id_test = set(bg_col_test.p_num.unique())\n",
        "\n",
        "# id_train.union(id_test)"
      ]
    },
    {
      "cell_type": "code",
      "execution_count": null,
      "metadata": {
        "id": "InPOcjdllJHu"
      },
      "outputs": [],
      "source": [
        "# bgm = GaussianMixture(n_components=5, n_init=6, random_state=42)\n",
        "# bgm.fit(cluster_df_train)\n",
        "\n",
        "# df_train[\"cluster\"] = bgm.predict(cluster_df_train)\n",
        "# df_test[\"cluster\"] = bgm.predict(cluster_df_test)"
      ]
    },
    {
      "cell_type": "code",
      "execution_count": null,
      "metadata": {
        "id": "b4iWadeGlJHv",
        "colab": {
          "base_uri": "https://localhost:8080/"
        },
        "outputId": "3aee036b-8b76-4fab-861b-167dbb49db12"
      },
      "outputs": [
        {
          "output_type": "execute_result",
          "data": {
            "text/plain": [
              "0"
            ]
          },
          "metadata": {},
          "execution_count": 40
        }
      ],
      "source": [
        "gc.collect()"
      ]
    },
    {
      "cell_type": "code",
      "source": [
        "df_train.groupby([\"p_num\"])[\"bg+1:00\"].agg([\"mean\",\"std\",\"skew\",\"median\",\"count\"])"
      ],
      "metadata": {
        "colab": {
          "base_uri": "https://localhost:8080/",
          "height": 583
        },
        "id": "NaF-iU_cbrYJ",
        "outputId": "c23403ec-fde5-4945-eaf8-77a549487401"
      },
      "execution_count": null,
      "outputs": [
        {
          "output_type": "execute_result",
          "data": {
            "text/plain": [
              "           mean       std      skew    median   count\n",
              "p_num                                                \n",
              "p01    0.194987  1.343920  0.749712 -0.047157  170929\n",
              "p02    0.357886  0.977400  0.801226  0.210451  349934\n",
              "p03    0.034638  1.031854  0.884503 -0.175960   50418\n",
              "p04   -0.158993  0.741760  0.654978 -0.240362  270411\n",
              "p05   -0.080431  1.009281  0.646190 -0.175960  195183\n",
              "p06    0.162962  1.190678  1.119624 -0.111559  137855\n",
              "p10   -0.690596  0.505378  1.341441 -0.819979  259353\n",
              "p11    0.264807  0.903456  0.359982  0.210451  317385\n",
              "p12   -0.117192  0.945692  1.657144 -0.401367  301390\n",
              "p15   -0.067935  0.904457  0.754290 -0.175960    8232\n",
              "p16   -0.056343  0.612233  0.437136 -0.175960    6944\n",
              "p18    0.525555  1.301825  0.737214  0.242652    6468\n",
              "p19    0.019129  0.861551  0.814222 -0.143759    6888\n",
              "p21    0.831294  1.330168  0.417332  0.725666    6608\n",
              "p22   -0.116319  0.921173  0.915613 -0.304764    5628\n",
              "p24   -0.153409  0.793271  0.964956 -0.369166    7308"
            ],
            "text/html": [
              "\n",
              "  <div id=\"df-65047d9e-d585-49fd-a072-561a20428b61\" class=\"colab-df-container\">\n",
              "    <div>\n",
              "<style scoped>\n",
              "    .dataframe tbody tr th:only-of-type {\n",
              "        vertical-align: middle;\n",
              "    }\n",
              "\n",
              "    .dataframe tbody tr th {\n",
              "        vertical-align: top;\n",
              "    }\n",
              "\n",
              "    .dataframe thead th {\n",
              "        text-align: right;\n",
              "    }\n",
              "</style>\n",
              "<table border=\"1\" class=\"dataframe\">\n",
              "  <thead>\n",
              "    <tr style=\"text-align: right;\">\n",
              "      <th></th>\n",
              "      <th>mean</th>\n",
              "      <th>std</th>\n",
              "      <th>skew</th>\n",
              "      <th>median</th>\n",
              "      <th>count</th>\n",
              "    </tr>\n",
              "    <tr>\n",
              "      <th>p_num</th>\n",
              "      <th></th>\n",
              "      <th></th>\n",
              "      <th></th>\n",
              "      <th></th>\n",
              "      <th></th>\n",
              "    </tr>\n",
              "  </thead>\n",
              "  <tbody>\n",
              "    <tr>\n",
              "      <th>p01</th>\n",
              "      <td>0.194987</td>\n",
              "      <td>1.343920</td>\n",
              "      <td>0.749712</td>\n",
              "      <td>-0.047157</td>\n",
              "      <td>170929</td>\n",
              "    </tr>\n",
              "    <tr>\n",
              "      <th>p02</th>\n",
              "      <td>0.357886</td>\n",
              "      <td>0.977400</td>\n",
              "      <td>0.801226</td>\n",
              "      <td>0.210451</td>\n",
              "      <td>349934</td>\n",
              "    </tr>\n",
              "    <tr>\n",
              "      <th>p03</th>\n",
              "      <td>0.034638</td>\n",
              "      <td>1.031854</td>\n",
              "      <td>0.884503</td>\n",
              "      <td>-0.175960</td>\n",
              "      <td>50418</td>\n",
              "    </tr>\n",
              "    <tr>\n",
              "      <th>p04</th>\n",
              "      <td>-0.158993</td>\n",
              "      <td>0.741760</td>\n",
              "      <td>0.654978</td>\n",
              "      <td>-0.240362</td>\n",
              "      <td>270411</td>\n",
              "    </tr>\n",
              "    <tr>\n",
              "      <th>p05</th>\n",
              "      <td>-0.080431</td>\n",
              "      <td>1.009281</td>\n",
              "      <td>0.646190</td>\n",
              "      <td>-0.175960</td>\n",
              "      <td>195183</td>\n",
              "    </tr>\n",
              "    <tr>\n",
              "      <th>p06</th>\n",
              "      <td>0.162962</td>\n",
              "      <td>1.190678</td>\n",
              "      <td>1.119624</td>\n",
              "      <td>-0.111559</td>\n",
              "      <td>137855</td>\n",
              "    </tr>\n",
              "    <tr>\n",
              "      <th>p10</th>\n",
              "      <td>-0.690596</td>\n",
              "      <td>0.505378</td>\n",
              "      <td>1.341441</td>\n",
              "      <td>-0.819979</td>\n",
              "      <td>259353</td>\n",
              "    </tr>\n",
              "    <tr>\n",
              "      <th>p11</th>\n",
              "      <td>0.264807</td>\n",
              "      <td>0.903456</td>\n",
              "      <td>0.359982</td>\n",
              "      <td>0.210451</td>\n",
              "      <td>317385</td>\n",
              "    </tr>\n",
              "    <tr>\n",
              "      <th>p12</th>\n",
              "      <td>-0.117192</td>\n",
              "      <td>0.945692</td>\n",
              "      <td>1.657144</td>\n",
              "      <td>-0.401367</td>\n",
              "      <td>301390</td>\n",
              "    </tr>\n",
              "    <tr>\n",
              "      <th>p15</th>\n",
              "      <td>-0.067935</td>\n",
              "      <td>0.904457</td>\n",
              "      <td>0.754290</td>\n",
              "      <td>-0.175960</td>\n",
              "      <td>8232</td>\n",
              "    </tr>\n",
              "    <tr>\n",
              "      <th>p16</th>\n",
              "      <td>-0.056343</td>\n",
              "      <td>0.612233</td>\n",
              "      <td>0.437136</td>\n",
              "      <td>-0.175960</td>\n",
              "      <td>6944</td>\n",
              "    </tr>\n",
              "    <tr>\n",
              "      <th>p18</th>\n",
              "      <td>0.525555</td>\n",
              "      <td>1.301825</td>\n",
              "      <td>0.737214</td>\n",
              "      <td>0.242652</td>\n",
              "      <td>6468</td>\n",
              "    </tr>\n",
              "    <tr>\n",
              "      <th>p19</th>\n",
              "      <td>0.019129</td>\n",
              "      <td>0.861551</td>\n",
              "      <td>0.814222</td>\n",
              "      <td>-0.143759</td>\n",
              "      <td>6888</td>\n",
              "    </tr>\n",
              "    <tr>\n",
              "      <th>p21</th>\n",
              "      <td>0.831294</td>\n",
              "      <td>1.330168</td>\n",
              "      <td>0.417332</td>\n",
              "      <td>0.725666</td>\n",
              "      <td>6608</td>\n",
              "    </tr>\n",
              "    <tr>\n",
              "      <th>p22</th>\n",
              "      <td>-0.116319</td>\n",
              "      <td>0.921173</td>\n",
              "      <td>0.915613</td>\n",
              "      <td>-0.304764</td>\n",
              "      <td>5628</td>\n",
              "    </tr>\n",
              "    <tr>\n",
              "      <th>p24</th>\n",
              "      <td>-0.153409</td>\n",
              "      <td>0.793271</td>\n",
              "      <td>0.964956</td>\n",
              "      <td>-0.369166</td>\n",
              "      <td>7308</td>\n",
              "    </tr>\n",
              "  </tbody>\n",
              "</table>\n",
              "</div>\n",
              "    <div class=\"colab-df-buttons\">\n",
              "\n",
              "  <div class=\"colab-df-container\">\n",
              "    <button class=\"colab-df-convert\" onclick=\"convertToInteractive('df-65047d9e-d585-49fd-a072-561a20428b61')\"\n",
              "            title=\"Convert this dataframe to an interactive table.\"\n",
              "            style=\"display:none;\">\n",
              "\n",
              "  <svg xmlns=\"http://www.w3.org/2000/svg\" height=\"24px\" viewBox=\"0 -960 960 960\">\n",
              "    <path d=\"M120-120v-720h720v720H120Zm60-500h600v-160H180v160Zm220 220h160v-160H400v160Zm0 220h160v-160H400v160ZM180-400h160v-160H180v160Zm440 0h160v-160H620v160ZM180-180h160v-160H180v160Zm440 0h160v-160H620v160Z\"/>\n",
              "  </svg>\n",
              "    </button>\n",
              "\n",
              "  <style>\n",
              "    .colab-df-container {\n",
              "      display:flex;\n",
              "      gap: 12px;\n",
              "    }\n",
              "\n",
              "    .colab-df-convert {\n",
              "      background-color: #E8F0FE;\n",
              "      border: none;\n",
              "      border-radius: 50%;\n",
              "      cursor: pointer;\n",
              "      display: none;\n",
              "      fill: #1967D2;\n",
              "      height: 32px;\n",
              "      padding: 0 0 0 0;\n",
              "      width: 32px;\n",
              "    }\n",
              "\n",
              "    .colab-df-convert:hover {\n",
              "      background-color: #E2EBFA;\n",
              "      box-shadow: 0px 1px 2px rgba(60, 64, 67, 0.3), 0px 1px 3px 1px rgba(60, 64, 67, 0.15);\n",
              "      fill: #174EA6;\n",
              "    }\n",
              "\n",
              "    .colab-df-buttons div {\n",
              "      margin-bottom: 4px;\n",
              "    }\n",
              "\n",
              "    [theme=dark] .colab-df-convert {\n",
              "      background-color: #3B4455;\n",
              "      fill: #D2E3FC;\n",
              "    }\n",
              "\n",
              "    [theme=dark] .colab-df-convert:hover {\n",
              "      background-color: #434B5C;\n",
              "      box-shadow: 0px 1px 3px 1px rgba(0, 0, 0, 0.15);\n",
              "      filter: drop-shadow(0px 1px 2px rgba(0, 0, 0, 0.3));\n",
              "      fill: #FFFFFF;\n",
              "    }\n",
              "  </style>\n",
              "\n",
              "    <script>\n",
              "      const buttonEl =\n",
              "        document.querySelector('#df-65047d9e-d585-49fd-a072-561a20428b61 button.colab-df-convert');\n",
              "      buttonEl.style.display =\n",
              "        google.colab.kernel.accessAllowed ? 'block' : 'none';\n",
              "\n",
              "      async function convertToInteractive(key) {\n",
              "        const element = document.querySelector('#df-65047d9e-d585-49fd-a072-561a20428b61');\n",
              "        const dataTable =\n",
              "          await google.colab.kernel.invokeFunction('convertToInteractive',\n",
              "                                                    [key], {});\n",
              "        if (!dataTable) return;\n",
              "\n",
              "        const docLinkHtml = 'Like what you see? Visit the ' +\n",
              "          '<a target=\"_blank\" href=https://colab.research.google.com/notebooks/data_table.ipynb>data table notebook</a>'\n",
              "          + ' to learn more about interactive tables.';\n",
              "        element.innerHTML = '';\n",
              "        dataTable['output_type'] = 'display_data';\n",
              "        await google.colab.output.renderOutput(dataTable, element);\n",
              "        const docLink = document.createElement('div');\n",
              "        docLink.innerHTML = docLinkHtml;\n",
              "        element.appendChild(docLink);\n",
              "      }\n",
              "    </script>\n",
              "  </div>\n",
              "\n",
              "\n",
              "<div id=\"df-ec623812-79a5-4ca5-bdd3-2c14fd4eb0cb\">\n",
              "  <button class=\"colab-df-quickchart\" onclick=\"quickchart('df-ec623812-79a5-4ca5-bdd3-2c14fd4eb0cb')\"\n",
              "            title=\"Suggest charts\"\n",
              "            style=\"display:none;\">\n",
              "\n",
              "<svg xmlns=\"http://www.w3.org/2000/svg\" height=\"24px\"viewBox=\"0 0 24 24\"\n",
              "     width=\"24px\">\n",
              "    <g>\n",
              "        <path d=\"M19 3H5c-1.1 0-2 .9-2 2v14c0 1.1.9 2 2 2h14c1.1 0 2-.9 2-2V5c0-1.1-.9-2-2-2zM9 17H7v-7h2v7zm4 0h-2V7h2v10zm4 0h-2v-4h2v4z\"/>\n",
              "    </g>\n",
              "</svg>\n",
              "  </button>\n",
              "\n",
              "<style>\n",
              "  .colab-df-quickchart {\n",
              "      --bg-color: #E8F0FE;\n",
              "      --fill-color: #1967D2;\n",
              "      --hover-bg-color: #E2EBFA;\n",
              "      --hover-fill-color: #174EA6;\n",
              "      --disabled-fill-color: #AAA;\n",
              "      --disabled-bg-color: #DDD;\n",
              "  }\n",
              "\n",
              "  [theme=dark] .colab-df-quickchart {\n",
              "      --bg-color: #3B4455;\n",
              "      --fill-color: #D2E3FC;\n",
              "      --hover-bg-color: #434B5C;\n",
              "      --hover-fill-color: #FFFFFF;\n",
              "      --disabled-bg-color: #3B4455;\n",
              "      --disabled-fill-color: #666;\n",
              "  }\n",
              "\n",
              "  .colab-df-quickchart {\n",
              "    background-color: var(--bg-color);\n",
              "    border: none;\n",
              "    border-radius: 50%;\n",
              "    cursor: pointer;\n",
              "    display: none;\n",
              "    fill: var(--fill-color);\n",
              "    height: 32px;\n",
              "    padding: 0;\n",
              "    width: 32px;\n",
              "  }\n",
              "\n",
              "  .colab-df-quickchart:hover {\n",
              "    background-color: var(--hover-bg-color);\n",
              "    box-shadow: 0 1px 2px rgba(60, 64, 67, 0.3), 0 1px 3px 1px rgba(60, 64, 67, 0.15);\n",
              "    fill: var(--button-hover-fill-color);\n",
              "  }\n",
              "\n",
              "  .colab-df-quickchart-complete:disabled,\n",
              "  .colab-df-quickchart-complete:disabled:hover {\n",
              "    background-color: var(--disabled-bg-color);\n",
              "    fill: var(--disabled-fill-color);\n",
              "    box-shadow: none;\n",
              "  }\n",
              "\n",
              "  .colab-df-spinner {\n",
              "    border: 2px solid var(--fill-color);\n",
              "    border-color: transparent;\n",
              "    border-bottom-color: var(--fill-color);\n",
              "    animation:\n",
              "      spin 1s steps(1) infinite;\n",
              "  }\n",
              "\n",
              "  @keyframes spin {\n",
              "    0% {\n",
              "      border-color: transparent;\n",
              "      border-bottom-color: var(--fill-color);\n",
              "      border-left-color: var(--fill-color);\n",
              "    }\n",
              "    20% {\n",
              "      border-color: transparent;\n",
              "      border-left-color: var(--fill-color);\n",
              "      border-top-color: var(--fill-color);\n",
              "    }\n",
              "    30% {\n",
              "      border-color: transparent;\n",
              "      border-left-color: var(--fill-color);\n",
              "      border-top-color: var(--fill-color);\n",
              "      border-right-color: var(--fill-color);\n",
              "    }\n",
              "    40% {\n",
              "      border-color: transparent;\n",
              "      border-right-color: var(--fill-color);\n",
              "      border-top-color: var(--fill-color);\n",
              "    }\n",
              "    60% {\n",
              "      border-color: transparent;\n",
              "      border-right-color: var(--fill-color);\n",
              "    }\n",
              "    80% {\n",
              "      border-color: transparent;\n",
              "      border-right-color: var(--fill-color);\n",
              "      border-bottom-color: var(--fill-color);\n",
              "    }\n",
              "    90% {\n",
              "      border-color: transparent;\n",
              "      border-bottom-color: var(--fill-color);\n",
              "    }\n",
              "  }\n",
              "</style>\n",
              "\n",
              "  <script>\n",
              "    async function quickchart(key) {\n",
              "      const quickchartButtonEl =\n",
              "        document.querySelector('#' + key + ' button');\n",
              "      quickchartButtonEl.disabled = true;  // To prevent multiple clicks.\n",
              "      quickchartButtonEl.classList.add('colab-df-spinner');\n",
              "      try {\n",
              "        const charts = await google.colab.kernel.invokeFunction(\n",
              "            'suggestCharts', [key], {});\n",
              "      } catch (error) {\n",
              "        console.error('Error during call to suggestCharts:', error);\n",
              "      }\n",
              "      quickchartButtonEl.classList.remove('colab-df-spinner');\n",
              "      quickchartButtonEl.classList.add('colab-df-quickchart-complete');\n",
              "    }\n",
              "    (() => {\n",
              "      let quickchartButtonEl =\n",
              "        document.querySelector('#df-ec623812-79a5-4ca5-bdd3-2c14fd4eb0cb button');\n",
              "      quickchartButtonEl.style.display =\n",
              "        google.colab.kernel.accessAllowed ? 'block' : 'none';\n",
              "    })();\n",
              "  </script>\n",
              "</div>\n",
              "\n",
              "    </div>\n",
              "  </div>\n"
            ],
            "application/vnd.google.colaboratory.intrinsic+json": {
              "type": "dataframe",
              "summary": "{\n  \"name\": \"df_train\",\n  \"rows\": 16,\n  \"fields\": [\n    {\n      \"column\": \"p_num\",\n      \"properties\": {\n        \"dtype\": \"string\",\n        \"num_unique_values\": 16,\n        \"samples\": [\n          \"p01\",\n          \"p02\",\n          \"p06\"\n        ],\n        \"semantic_type\": \"\",\n        \"description\": \"\"\n      }\n    },\n    {\n      \"column\": \"mean\",\n      \"properties\": {\n        \"dtype\": \"number\",\n        \"std\": 0.34082772352825436,\n        \"min\": -0.6905959109173535,\n        \"max\": 0.8312938854223433,\n        \"num_unique_values\": 16,\n        \"samples\": [\n          0.19498736261895952,\n          0.3578862794820633,\n          0.16296186150879174\n        ],\n        \"semantic_type\": \"\",\n        \"description\": \"\"\n      }\n    },\n    {\n      \"column\": \"std\",\n      \"properties\": {\n        \"dtype\": \"number\",\n        \"std\": 0.24263755101514697,\n        \"min\": 0.5053782480664603,\n        \"max\": 1.343919801092668,\n        \"num_unique_values\": 16,\n        \"samples\": [\n          1.343919801092668,\n          0.9774001652411761,\n          1.1906782074623823\n        ],\n        \"semantic_type\": \"\",\n        \"description\": \"\"\n      }\n    },\n    {\n      \"column\": \"skew\",\n      \"properties\": {\n        \"dtype\": \"number\",\n        \"std\": 0.3356520976659083,\n        \"min\": 0.3599816507139028,\n        \"max\": 1.657144259023392,\n        \"num_unique_values\": 16,\n        \"samples\": [\n          0.7497124555491899,\n          0.8012263068437062,\n          1.119623777628568\n        ],\n        \"semantic_type\": \"\",\n        \"description\": \"\"\n      }\n    },\n    {\n      \"column\": \"median\",\n      \"properties\": {\n        \"dtype\": \"number\",\n        \"std\": 0.34269814731793247,\n        \"min\": -0.8199794083193114,\n        \"max\": 0.7256661928202532,\n        \"num_unique_values\": 12,\n        \"samples\": [\n          -0.30476420793945647,\n          0.7256661928202532,\n          -0.04715660774952874\n        ],\n        \"semantic_type\": \"\",\n        \"description\": \"\"\n      }\n    },\n    {\n      \"column\": \"count\",\n      \"properties\": {\n        \"dtype\": \"number\",\n        \"std\": 133599,\n        \"min\": 5628,\n        \"max\": 349934,\n        \"num_unique_values\": 16,\n        \"samples\": [\n          170929,\n          349934,\n          137855\n        ],\n        \"semantic_type\": \"\",\n        \"description\": \"\"\n      }\n    }\n  ]\n}"
            }
          },
          "metadata": {},
          "execution_count": 41
        }
      ]
    },
    {
      "cell_type": "code",
      "execution_count": null,
      "metadata": {
        "id": "H4xaO8B08AEZ"
      },
      "outputs": [],
      "source": [
        "# df_train.to_csv(\"/content/drive/MyDrive/Exercises/Studies_Structured_Data/Data/Glucose/train_cluster.csv\")\n",
        "# df_test.to_csv(\"/content/drive/MyDrive/Exercises/Studies_Structured_Data/Data/Glucose/test_cluster.csv\")"
      ]
    },
    {
      "cell_type": "code",
      "execution_count": null,
      "metadata": {
        "id": "7jf0i1998AAk"
      },
      "outputs": [],
      "source": [
        "# df_train.drop([\"cluster\",\t\"p_num\",\t\"hour\",\t\"minute\",\t\"obv_n\",\"bg+1:00\"], axis=1).mean(axis=0).max(),df_train.drop([\"cluster\",\t\"p_num\",\t\"hour\",\t\"minute\",\t\"obv_n\",\"bg+1:00\"], axis=1).std(axis=0).max()"
      ]
    },
    {
      "cell_type": "code",
      "execution_count": null,
      "metadata": {
        "id": "Mo0_coVk9gwU"
      },
      "outputs": [],
      "source": [
        "# df_train.drop([\"cluster\",\t\"p_num\",\t\"hour\",\t\"minute\",\t\"obv_n\",\"bg+1:00\"], axis=1).mean(axis=0).min(),df_train.drop([\"cluster\",\t\"p_num\",\t\"hour\",\t\"minute\",\t\"obv_n\",\"bg+1:00\"], axis=1).std(axis=0).min()"
      ]
    },
    {
      "cell_type": "code",
      "execution_count": null,
      "metadata": {
        "id": "5akKiYKPrdpa"
      },
      "outputs": [],
      "source": [
        "# df_train = pd.read_csv(\"/content/drive/MyDrive/Exercises/Studies_Structured_Data/Data/Glucose/train_cluster.csv\", index_col=0)\n",
        "# df_test = pd.read_csv(\"/content/drive/MyDrive/Exercises/Studies_Structured_Data/Data/Glucose/test_cluster.csv\", index_col=0)\n",
        "\n",
        "# display(df_train.sample(3))\n",
        "# display(df_test.sample(3))"
      ]
    },
    {
      "cell_type": "markdown",
      "metadata": {
        "id": "R0DhCJeVotb8"
      },
      "source": [
        "## PCA Based Clusters:"
      ]
    },
    {
      "cell_type": "code",
      "execution_count": null,
      "metadata": {
        "id": "1I2oq5LHqUs8"
      },
      "outputs": [],
      "source": [
        "# cols_bg = ['bg0','bg1','bg2','bg3','bg4','bg5','bg6','bg7','bg8','bg9','bg10','bg11','bg12','bg13','bg14','bg15',\n",
        "#            'bg16','bg17','bg18','bg19','bg20','bg21','bg22','bg23','bg24','bg25','bg26','bg27','bg28','bg29','bg30','bg31']\n",
        "\n",
        "# gc.collect()"
      ]
    },
    {
      "cell_type": "code",
      "execution_count": null,
      "metadata": {
        "id": "r4eag5z1pJhy"
      },
      "outputs": [],
      "source": [
        "# pca = PCA(n_components=4)\n",
        "\n",
        "# train_pca_df = df_train[cols_bg]\n",
        "# test_pca_df = df_test[cols_bg]\n",
        "\n",
        "# train_pca_df_ = pca.fit_transform(train_pca_df)\n",
        "# test_pca_df_ = pca.transform(test_pca_df)"
      ]
    },
    {
      "cell_type": "code",
      "execution_count": null,
      "metadata": {
        "id": "IlhbQu21y0um"
      },
      "outputs": [],
      "source": [
        "# print(\"Explained Variance: {} - {}\".format(np.sum(pca.explained_variance_ratio_),pca.explained_variance_ratio_))\n",
        "\n",
        "# cols_df = [\"PC_{}\".format(i) for i in range(1, len(pca.explained_variance_ratio_) + 1)]\n",
        "# bg_pca_train = pd.DataFrame(train_pca_df_, columns=cols_df, index=train_pca_df.index)\n",
        "# bg_pca_test = pd.DataFrame(test_pca_df_, columns=cols_df, index=test_pca_df.index)\n",
        "\n",
        "# bg_pca_train[\"bg+1:00\"] = df_train[\"bg+1:00\"]\n",
        "# train_pca_df[\"bg+1:00\"] = df_train[\"bg+1:00\"]"
      ]
    },
    {
      "cell_type": "markdown",
      "metadata": {
        "id": "vjaS-Nx74rFl"
      },
      "source": [
        "* **Check Correlation:**"
      ]
    },
    {
      "cell_type": "code",
      "execution_count": null,
      "metadata": {
        "id": "8PK43bpz2qdG"
      },
      "outputs": [],
      "source": [
        "# fig, axs = plt.subplots(1, 2, figsize=(12, 3))\n",
        "\n",
        "# train_pca_df.corr()[\"bg+1:00\"][:-1].plot(ax=axs[0])\n",
        "# bg_pca_train.corr()[\"bg+1:00\"][:-1].plot(ax=axs[1])"
      ]
    },
    {
      "cell_type": "code",
      "execution_count": null,
      "metadata": {
        "id": "H4CzShUj3LDM"
      },
      "outputs": [],
      "source": [
        "# fig, axs = plt.subplots(1, 2, figsize=(12, 4))\n",
        "\n",
        "# sns.scatterplot(data=bg_pca_train, x=\"PC_1\", y=\"PC_3\", ax=axs[0], hue=\"bg+1:00\")\n",
        "# sns.histplot(data=bg_pca_train, x=\"bg+1:00\", ax=axs[1])\n",
        "\n",
        "# plt.show()"
      ]
    },
    {
      "cell_type": "code",
      "execution_count": null,
      "metadata": {
        "id": "63K4zv3sEu2v"
      },
      "outputs": [],
      "source": [
        "# cluster_df_train = bg_pca_train.drop(\"bg+1:00\", axis=1).copy()"
      ]
    },
    {
      "cell_type": "code",
      "execution_count": null,
      "metadata": {
        "id": "L3jMtCHkaqZg"
      },
      "outputs": [],
      "source": [
        "# kmeans_per_k = [KMeans(n_clusters=k, n_init=10, random_state=42).fit(cluster_df_train)\n",
        "#                 for k in range(1, 22)]\n",
        "# inertias = [model.inertia_ for model in kmeans_per_k]"
      ]
    },
    {
      "cell_type": "code",
      "execution_count": null,
      "metadata": {
        "id": "-KUZD-lxl2-n"
      },
      "outputs": [],
      "source": [
        "# plt.figure(figsize=(8, 3.5))\n",
        "# plt.plot(range(1, 22), inertias, \"bo-\")\n",
        "# plt.xlabel(\"$k$\")\n",
        "# plt.ylabel(\"Inertia\")\n",
        "# plt.show()"
      ]
    },
    {
      "cell_type": "code",
      "execution_count": null,
      "metadata": {
        "id": "PgnnWTNAFQIm",
        "colab": {
          "base_uri": "https://localhost:8080/"
        },
        "outputId": "8064c0cb-77e0-4174-aa17-1cd2fb517768"
      },
      "outputs": [
        {
          "output_type": "execute_result",
          "data": {
            "text/plain": [
              "(2100934, 290)"
            ]
          },
          "metadata": {},
          "execution_count": 54
        }
      ],
      "source": [
        "df_train.shape"
      ]
    },
    {
      "cell_type": "code",
      "execution_count": null,
      "metadata": {
        "id": "JbkWSYuRmR4_"
      },
      "outputs": [],
      "source": [
        "# bgm = KMeans(n_clusters=4, n_init=10, random_state=42)\n",
        "# bgm.fit(bg_pca_train.drop(\"bg+1:00\", axis=1))\n",
        "\n",
        "# df_train[\"cluster_pca\"] = bgm.predict(bg_pca_train.drop(\"bg+1:00\", axis=1))\n",
        "# df_test[\"cluster_pca\"] = bgm.predict(bg_pca_test)\n",
        "# df_train.shape, df_test.shape"
      ]
    },
    {
      "cell_type": "code",
      "execution_count": null,
      "metadata": {
        "id": "ljGit0D5ojyO"
      },
      "outputs": [],
      "source": [
        "# df_train.groupby([\"cluster_pca\"])[\"bg-0:00\"].agg([\"mean\",\"std\",\"skew\",\"median\",\"count\"])"
      ]
    },
    {
      "cell_type": "code",
      "execution_count": null,
      "metadata": {
        "id": "poE6gAgyspHt"
      },
      "outputs": [],
      "source": [
        "# df_train = pd.concat([df_train,bg_pca_train.loc[:,[\"PC_1\",\t\"PC_2\",\t\"PC_3\",\t\"PC_4\"]]], axis=1)\n",
        "# df_test = pd.concat([df_test,bg_pca_test.loc[:,[\"PC_1\",\t\"PC_2\",\t\"PC_3\",\t\"PC_4\"]]], axis=1)\n",
        "# df_train.head()"
      ]
    },
    {
      "cell_type": "code",
      "execution_count": null,
      "metadata": {
        "id": "cag24FdHZSTP",
        "colab": {
          "base_uri": "https://localhost:8080/",
          "height": 256
        },
        "outputId": "40a69f2a-8434-41bb-d4f5-a5a36acbf091"
      },
      "outputs": [
        {
          "output_type": "execute_result",
          "data": {
            "text/plain": [
              "         id p_num  steps_av0  steps_av1  steps_av2  steps_av3  steps_av4  \\\n",
              "0  p01_8459   p01   1.098612   0.549306   0.597253   0.621227   0.496981   \n",
              "1  p01_8460   p01   6.204558   6.206574   5.358903   5.091792   4.982093   \n",
              "2  p01_8461   p01   4.234107   4.332462   4.318461   4.379933   4.513917   \n",
              "3  p01_8462   p01   0.000000   1.354025   1.439163   1.079372   1.185385   \n",
              "4  p01_8463   p01   0.000000   0.000000   0.944404   0.708303   0.843902   \n",
              "\n",
              "   steps_av5  steps_av6  steps_av7  steps_av8  steps_av9  steps_av10  \\\n",
              "0   0.414151   0.511931   0.447940   0.398169   0.578074    0.525522   \n",
              "1   4.778611   4.690078   4.511080   4.310744   4.219789    4.154036   \n",
              "2   4.655927   4.832852   5.027735   5.150104   5.110452    4.892052   \n",
              "3   1.103346   0.945725   0.827509   0.735564   0.910498    1.004626   \n",
              "4   1.143094   1.407757   1.318431   1.350765   1.410279    1.428385   \n",
              "\n",
              "   steps_av11  steps_av12  steps_av13  steps_av14  steps_av15  steps_av16  \\\n",
              "0    0.481729    0.444673    0.412910    0.504834    0.541945    0.574690   \n",
              "1    4.082520    4.079484    3.981524    3.958595    3.921639    3.907947   \n",
              "2    4.828309    4.924235    4.999567    4.666263    4.567811    4.472319   \n",
              "3    1.178494    1.264963    1.174608    1.096301    1.027782    0.967325   \n",
              "4    1.482639    1.421909    1.320344    1.232321    1.198623    1.250436   \n",
              "\n",
              "   steps_av17  steps_av18  steps_av19  steps_av20  steps_av21  steps_av22  \\\n",
              "0    0.632176    0.598903    0.666254    0.634527    0.605685    0.609488   \n",
              "1    3.871844    3.789252    3.812214    3.802628    3.718232    3.716956   \n",
              "2    4.223857    4.001548    3.936874    3.956251    4.032548    4.100469   \n",
              "3    0.913584    0.865501    0.942121    1.032173    1.016762    1.032829   \n",
              "4    1.180967    1.155292    1.097528    1.078272    1.029259    1.140314   \n",
              "\n",
              "   steps_av23  steps_av24  steps_av25  steps_av26  steps_av27  steps_av28  \\\n",
              "0    0.690966    0.734997    0.706728    0.706225    0.681003    0.657520   \n",
              "1    3.562083    3.560654    3.603069    3.659836    3.711048    3.790702   \n",
              "2    4.158494    4.177153    4.254582    4.235437    4.175776    4.114470   \n",
              "3    1.056854    1.042306    1.002217    1.042115    1.004896    1.063626   \n",
              "4    1.121682    1.104541    1.150619    1.108004    1.068432    1.087088   \n",
              "\n",
              "   steps_av29  steps_av30  steps_av31  insulin_av0  insulin_av1  insulin_av2  \\\n",
              "0    0.672223    0.650538    0.673531     0.056664     0.056664     0.056664   \n",
              "1    3.874554    3.941017    4.014064     0.056664     0.056664     0.056664   \n",
              "2    4.088395    4.138736    4.142166     0.056664     0.056664     0.056664   \n",
              "3    1.051276    1.039724    1.007232     0.008266     0.008266     0.008266   \n",
              "4    1.073956    1.074751    1.062826     0.008266     0.008266     0.008266   \n",
              "\n",
              "   insulin_av3  insulin_av4  insulin_av5  insulin_av6  insulin_av7  \\\n",
              "0     0.056664     0.056664     0.056664     0.056664     0.056664   \n",
              "1     0.056664     0.054307     0.310980     0.266554     0.233235   \n",
              "2     0.056664     0.056664     0.056664     0.056664     0.056664   \n",
              "3     0.008266     0.008266     0.008266     0.008266     0.008266   \n",
              "4     0.008266     0.008266     0.008266     0.008266     0.008266   \n",
              "\n",
              "   insulin_av8  insulin_av9  insulin_av10  insulin_av11  insulin_av12  \\\n",
              "0     0.056664     0.056664      0.056664      0.056222      0.051897   \n",
              "1     0.207320     0.186588      0.169625      0.159046      0.151171   \n",
              "2     0.056664     0.056664      0.056664      0.056008      0.055453   \n",
              "3     0.008266     0.008266      0.008266      0.008266      0.008266   \n",
              "4     0.008266     0.008266      0.008266      0.008266      0.008266   \n",
              "\n",
              "   insulin_av13  insulin_av14  insulin_av15  ...      hr15      hr16  \\\n",
              "0      0.130301      0.125392      0.121097  ...  3.970292  3.990834   \n",
              "1      0.144420      0.138570      0.133451  ...  4.505350  4.511958   \n",
              "2      0.054977      0.054564      0.054203  ...  4.418840  4.286341   \n",
              "3      0.008266      0.008266      0.008266  ...  4.139955  4.092677   \n",
              "4      0.008266      0.008266      0.008266  ...  4.082609  4.131961   \n",
              "\n",
              "       hr17      hr18      hr19      hr20      hr21      hr22      hr23  \\\n",
              "0  3.996364  4.027136  4.016383  4.005513  3.981549  3.979682  3.977811   \n",
              "1  4.515245  4.534748  4.549657  4.500920  4.555980  4.499810  4.411585   \n",
              "2  4.361824  4.309456  4.326778  4.342506  4.448516  4.561218  4.471639   \n",
              "3  4.105944  4.114147  4.050045  4.074142  4.089332  4.102643  4.099332   \n",
              "4  4.143135  4.122284  4.122284  4.133565  4.151040  4.420045  4.050045   \n",
              "\n",
              "       hr24      hr25      hr26      hr27      hr28      hr29      hr30  \\\n",
              "0  4.025352  4.021774  3.996364  3.974058  4.018183  4.009150  4.005513   \n",
              "1  4.449685  4.511958  4.537961  4.517431  4.560173  4.743192  4.630838   \n",
              "2  4.534748  4.522875  4.476200  4.395683  4.326778  4.305416  4.488636   \n",
              "3  4.067316  4.105944  4.114147  4.069027  4.085976  4.097672  4.123903   \n",
              "4  4.000034  4.028917  4.009150  4.053523  4.075841  4.080922  4.082609   \n",
              "\n",
              "       hr31   intake0   intake1   intake2   intake3   intake4   intake5  \\\n",
              "0  4.001863 -2.929763 -2.929763 -2.929763 -2.929763 -2.929763 -2.929763   \n",
              "1  4.776599 -5.698941 -5.719685 -5.406085 -5.331754 -4.793769 -4.698925   \n",
              "2  4.337291 -2.929763 -3.588768 -3.800121 -3.948506 -4.086112 -4.234589   \n",
              "3  4.092677 -2.929763 -2.929763 -2.929763 -2.929763 -2.929763 -2.929763   \n",
              "4  4.110874 -2.929763 -2.944009 -2.939260 -2.944009 -2.941159 -2.939260   \n",
              "\n",
              "    intake6   intake7   intake8   intake9  intake10  intake11  intake12  \\\n",
              "0 -2.934512 -2.934512 -2.934512 -2.934512 -2.934512 -2.934512 -2.929763   \n",
              "1 -4.551827 -4.351188 -4.313892 -4.628769 -4.466277 -4.404581 -4.350550   \n",
              "2 -4.631623 -4.883047 -5.095779 -5.083992 -4.905372 -4.762399 -4.768972   \n",
              "3 -2.934512 -2.934512 -2.943929 -2.943929 -2.943929 -2.957937 -2.957937   \n",
              "4 -2.939260 -2.934512 -2.934512 -2.929763 -2.929763 -2.987501 -2.987501   \n",
              "\n",
              "   intake13  intake14  intake15  intake16  intake17  intake18  intake19  \\\n",
              "0 -2.934512 -2.934512 -2.934512 -2.934512 -2.939260 -2.939260 -2.934512   \n",
              "1 -4.242808 -4.181410 -4.192440 -4.208452 -4.163563 -4.018333 -4.088591   \n",
              "2 -4.684871 -4.314754 -4.206451 -4.173119 -3.988898 -3.599300 -3.281106   \n",
              "3 -2.957937 -2.948520 -2.948520 -2.948520 -2.934512 -2.929763 -2.934512   \n",
              "4 -2.987501 -2.987501 -2.987501 -2.987501 -2.929763 -2.929763 -2.934512   \n",
              "\n",
              "   intake20  intake21  intake22  intake23  intake24  intake25  intake26  \\\n",
              "0 -2.934512 -2.934512 -2.939260 -2.939260 -2.944009 -2.944009 -2.944009   \n",
              "1 -4.054094 -3.968798 -3.991841 -3.849702 -3.904638 -3.936774 -4.064059   \n",
              "2 -3.388110 -3.618432 -3.892539 -4.202972 -4.366246 -4.716734 -4.781507   \n",
              "3 -2.939260 -2.939260 -2.939260 -2.939260 -2.939260 -2.943929 -2.943929   \n",
              "4 -2.934512 -2.948520 -3.133291 -3.133291 -3.133291 -3.128542 -3.133291   \n",
              "\n",
              "   intake27  intake28  intake29  intake30  intake31  bg+1:00  \n",
              "0 -2.944009 -2.939260 -2.934512 -2.934512 -2.989119      NaN  \n",
              "1 -3.640718 -3.808380 -4.231474 -4.473468 -4.697565      NaN  \n",
              "2 -4.510655 -4.236547 -4.033225 -4.210156 -3.972670      NaN  \n",
              "3 -2.948677 -2.948677 -2.948677 -2.953426 -2.944009      NaN  \n",
              "4 -3.119282 -2.934512 -2.934512 -2.934512 -2.934512      NaN  \n",
              "\n",
              "[5 rows x 291 columns]"
            ],
            "text/html": [
              "\n",
              "  <div id=\"df-68d9a751-96a8-4e3b-bec5-e50ef3bc4954\" class=\"colab-df-container\">\n",
              "    <div>\n",
              "<style scoped>\n",
              "    .dataframe tbody tr th:only-of-type {\n",
              "        vertical-align: middle;\n",
              "    }\n",
              "\n",
              "    .dataframe tbody tr th {\n",
              "        vertical-align: top;\n",
              "    }\n",
              "\n",
              "    .dataframe thead th {\n",
              "        text-align: right;\n",
              "    }\n",
              "</style>\n",
              "<table border=\"1\" class=\"dataframe\">\n",
              "  <thead>\n",
              "    <tr style=\"text-align: right;\">\n",
              "      <th></th>\n",
              "      <th>id</th>\n",
              "      <th>p_num</th>\n",
              "      <th>steps_av0</th>\n",
              "      <th>steps_av1</th>\n",
              "      <th>steps_av2</th>\n",
              "      <th>steps_av3</th>\n",
              "      <th>steps_av4</th>\n",
              "      <th>steps_av5</th>\n",
              "      <th>steps_av6</th>\n",
              "      <th>steps_av7</th>\n",
              "      <th>steps_av8</th>\n",
              "      <th>steps_av9</th>\n",
              "      <th>steps_av10</th>\n",
              "      <th>steps_av11</th>\n",
              "      <th>steps_av12</th>\n",
              "      <th>steps_av13</th>\n",
              "      <th>steps_av14</th>\n",
              "      <th>steps_av15</th>\n",
              "      <th>steps_av16</th>\n",
              "      <th>steps_av17</th>\n",
              "      <th>steps_av18</th>\n",
              "      <th>steps_av19</th>\n",
              "      <th>steps_av20</th>\n",
              "      <th>steps_av21</th>\n",
              "      <th>steps_av22</th>\n",
              "      <th>steps_av23</th>\n",
              "      <th>steps_av24</th>\n",
              "      <th>steps_av25</th>\n",
              "      <th>steps_av26</th>\n",
              "      <th>steps_av27</th>\n",
              "      <th>steps_av28</th>\n",
              "      <th>steps_av29</th>\n",
              "      <th>steps_av30</th>\n",
              "      <th>steps_av31</th>\n",
              "      <th>insulin_av0</th>\n",
              "      <th>insulin_av1</th>\n",
              "      <th>insulin_av2</th>\n",
              "      <th>insulin_av3</th>\n",
              "      <th>insulin_av4</th>\n",
              "      <th>insulin_av5</th>\n",
              "      <th>insulin_av6</th>\n",
              "      <th>insulin_av7</th>\n",
              "      <th>insulin_av8</th>\n",
              "      <th>insulin_av9</th>\n",
              "      <th>insulin_av10</th>\n",
              "      <th>insulin_av11</th>\n",
              "      <th>insulin_av12</th>\n",
              "      <th>insulin_av13</th>\n",
              "      <th>insulin_av14</th>\n",
              "      <th>insulin_av15</th>\n",
              "      <th>...</th>\n",
              "      <th>hr15</th>\n",
              "      <th>hr16</th>\n",
              "      <th>hr17</th>\n",
              "      <th>hr18</th>\n",
              "      <th>hr19</th>\n",
              "      <th>hr20</th>\n",
              "      <th>hr21</th>\n",
              "      <th>hr22</th>\n",
              "      <th>hr23</th>\n",
              "      <th>hr24</th>\n",
              "      <th>hr25</th>\n",
              "      <th>hr26</th>\n",
              "      <th>hr27</th>\n",
              "      <th>hr28</th>\n",
              "      <th>hr29</th>\n",
              "      <th>hr30</th>\n",
              "      <th>hr31</th>\n",
              "      <th>intake0</th>\n",
              "      <th>intake1</th>\n",
              "      <th>intake2</th>\n",
              "      <th>intake3</th>\n",
              "      <th>intake4</th>\n",
              "      <th>intake5</th>\n",
              "      <th>intake6</th>\n",
              "      <th>intake7</th>\n",
              "      <th>intake8</th>\n",
              "      <th>intake9</th>\n",
              "      <th>intake10</th>\n",
              "      <th>intake11</th>\n",
              "      <th>intake12</th>\n",
              "      <th>intake13</th>\n",
              "      <th>intake14</th>\n",
              "      <th>intake15</th>\n",
              "      <th>intake16</th>\n",
              "      <th>intake17</th>\n",
              "      <th>intake18</th>\n",
              "      <th>intake19</th>\n",
              "      <th>intake20</th>\n",
              "      <th>intake21</th>\n",
              "      <th>intake22</th>\n",
              "      <th>intake23</th>\n",
              "      <th>intake24</th>\n",
              "      <th>intake25</th>\n",
              "      <th>intake26</th>\n",
              "      <th>intake27</th>\n",
              "      <th>intake28</th>\n",
              "      <th>intake29</th>\n",
              "      <th>intake30</th>\n",
              "      <th>intake31</th>\n",
              "      <th>bg+1:00</th>\n",
              "    </tr>\n",
              "  </thead>\n",
              "  <tbody>\n",
              "    <tr>\n",
              "      <th>0</th>\n",
              "      <td>p01_8459</td>\n",
              "      <td>p01</td>\n",
              "      <td>1.098612</td>\n",
              "      <td>0.549306</td>\n",
              "      <td>0.597253</td>\n",
              "      <td>0.621227</td>\n",
              "      <td>0.496981</td>\n",
              "      <td>0.414151</td>\n",
              "      <td>0.511931</td>\n",
              "      <td>0.447940</td>\n",
              "      <td>0.398169</td>\n",
              "      <td>0.578074</td>\n",
              "      <td>0.525522</td>\n",
              "      <td>0.481729</td>\n",
              "      <td>0.444673</td>\n",
              "      <td>0.412910</td>\n",
              "      <td>0.504834</td>\n",
              "      <td>0.541945</td>\n",
              "      <td>0.574690</td>\n",
              "      <td>0.632176</td>\n",
              "      <td>0.598903</td>\n",
              "      <td>0.666254</td>\n",
              "      <td>0.634527</td>\n",
              "      <td>0.605685</td>\n",
              "      <td>0.609488</td>\n",
              "      <td>0.690966</td>\n",
              "      <td>0.734997</td>\n",
              "      <td>0.706728</td>\n",
              "      <td>0.706225</td>\n",
              "      <td>0.681003</td>\n",
              "      <td>0.657520</td>\n",
              "      <td>0.672223</td>\n",
              "      <td>0.650538</td>\n",
              "      <td>0.673531</td>\n",
              "      <td>0.056664</td>\n",
              "      <td>0.056664</td>\n",
              "      <td>0.056664</td>\n",
              "      <td>0.056664</td>\n",
              "      <td>0.056664</td>\n",
              "      <td>0.056664</td>\n",
              "      <td>0.056664</td>\n",
              "      <td>0.056664</td>\n",
              "      <td>0.056664</td>\n",
              "      <td>0.056664</td>\n",
              "      <td>0.056664</td>\n",
              "      <td>0.056222</td>\n",
              "      <td>0.051897</td>\n",
              "      <td>0.130301</td>\n",
              "      <td>0.125392</td>\n",
              "      <td>0.121097</td>\n",
              "      <td>...</td>\n",
              "      <td>3.970292</td>\n",
              "      <td>3.990834</td>\n",
              "      <td>3.996364</td>\n",
              "      <td>4.027136</td>\n",
              "      <td>4.016383</td>\n",
              "      <td>4.005513</td>\n",
              "      <td>3.981549</td>\n",
              "      <td>3.979682</td>\n",
              "      <td>3.977811</td>\n",
              "      <td>4.025352</td>\n",
              "      <td>4.021774</td>\n",
              "      <td>3.996364</td>\n",
              "      <td>3.974058</td>\n",
              "      <td>4.018183</td>\n",
              "      <td>4.009150</td>\n",
              "      <td>4.005513</td>\n",
              "      <td>4.001863</td>\n",
              "      <td>-2.929763</td>\n",
              "      <td>-2.929763</td>\n",
              "      <td>-2.929763</td>\n",
              "      <td>-2.929763</td>\n",
              "      <td>-2.929763</td>\n",
              "      <td>-2.929763</td>\n",
              "      <td>-2.934512</td>\n",
              "      <td>-2.934512</td>\n",
              "      <td>-2.934512</td>\n",
              "      <td>-2.934512</td>\n",
              "      <td>-2.934512</td>\n",
              "      <td>-2.934512</td>\n",
              "      <td>-2.929763</td>\n",
              "      <td>-2.934512</td>\n",
              "      <td>-2.934512</td>\n",
              "      <td>-2.934512</td>\n",
              "      <td>-2.934512</td>\n",
              "      <td>-2.939260</td>\n",
              "      <td>-2.939260</td>\n",
              "      <td>-2.934512</td>\n",
              "      <td>-2.934512</td>\n",
              "      <td>-2.934512</td>\n",
              "      <td>-2.939260</td>\n",
              "      <td>-2.939260</td>\n",
              "      <td>-2.944009</td>\n",
              "      <td>-2.944009</td>\n",
              "      <td>-2.944009</td>\n",
              "      <td>-2.944009</td>\n",
              "      <td>-2.939260</td>\n",
              "      <td>-2.934512</td>\n",
              "      <td>-2.934512</td>\n",
              "      <td>-2.989119</td>\n",
              "      <td>NaN</td>\n",
              "    </tr>\n",
              "    <tr>\n",
              "      <th>1</th>\n",
              "      <td>p01_8460</td>\n",
              "      <td>p01</td>\n",
              "      <td>6.204558</td>\n",
              "      <td>6.206574</td>\n",
              "      <td>5.358903</td>\n",
              "      <td>5.091792</td>\n",
              "      <td>4.982093</td>\n",
              "      <td>4.778611</td>\n",
              "      <td>4.690078</td>\n",
              "      <td>4.511080</td>\n",
              "      <td>4.310744</td>\n",
              "      <td>4.219789</td>\n",
              "      <td>4.154036</td>\n",
              "      <td>4.082520</td>\n",
              "      <td>4.079484</td>\n",
              "      <td>3.981524</td>\n",
              "      <td>3.958595</td>\n",
              "      <td>3.921639</td>\n",
              "      <td>3.907947</td>\n",
              "      <td>3.871844</td>\n",
              "      <td>3.789252</td>\n",
              "      <td>3.812214</td>\n",
              "      <td>3.802628</td>\n",
              "      <td>3.718232</td>\n",
              "      <td>3.716956</td>\n",
              "      <td>3.562083</td>\n",
              "      <td>3.560654</td>\n",
              "      <td>3.603069</td>\n",
              "      <td>3.659836</td>\n",
              "      <td>3.711048</td>\n",
              "      <td>3.790702</td>\n",
              "      <td>3.874554</td>\n",
              "      <td>3.941017</td>\n",
              "      <td>4.014064</td>\n",
              "      <td>0.056664</td>\n",
              "      <td>0.056664</td>\n",
              "      <td>0.056664</td>\n",
              "      <td>0.056664</td>\n",
              "      <td>0.054307</td>\n",
              "      <td>0.310980</td>\n",
              "      <td>0.266554</td>\n",
              "      <td>0.233235</td>\n",
              "      <td>0.207320</td>\n",
              "      <td>0.186588</td>\n",
              "      <td>0.169625</td>\n",
              "      <td>0.159046</td>\n",
              "      <td>0.151171</td>\n",
              "      <td>0.144420</td>\n",
              "      <td>0.138570</td>\n",
              "      <td>0.133451</td>\n",
              "      <td>...</td>\n",
              "      <td>4.505350</td>\n",
              "      <td>4.511958</td>\n",
              "      <td>4.515245</td>\n",
              "      <td>4.534748</td>\n",
              "      <td>4.549657</td>\n",
              "      <td>4.500920</td>\n",
              "      <td>4.555980</td>\n",
              "      <td>4.499810</td>\n",
              "      <td>4.411585</td>\n",
              "      <td>4.449685</td>\n",
              "      <td>4.511958</td>\n",
              "      <td>4.537961</td>\n",
              "      <td>4.517431</td>\n",
              "      <td>4.560173</td>\n",
              "      <td>4.743192</td>\n",
              "      <td>4.630838</td>\n",
              "      <td>4.776599</td>\n",
              "      <td>-5.698941</td>\n",
              "      <td>-5.719685</td>\n",
              "      <td>-5.406085</td>\n",
              "      <td>-5.331754</td>\n",
              "      <td>-4.793769</td>\n",
              "      <td>-4.698925</td>\n",
              "      <td>-4.551827</td>\n",
              "      <td>-4.351188</td>\n",
              "      <td>-4.313892</td>\n",
              "      <td>-4.628769</td>\n",
              "      <td>-4.466277</td>\n",
              "      <td>-4.404581</td>\n",
              "      <td>-4.350550</td>\n",
              "      <td>-4.242808</td>\n",
              "      <td>-4.181410</td>\n",
              "      <td>-4.192440</td>\n",
              "      <td>-4.208452</td>\n",
              "      <td>-4.163563</td>\n",
              "      <td>-4.018333</td>\n",
              "      <td>-4.088591</td>\n",
              "      <td>-4.054094</td>\n",
              "      <td>-3.968798</td>\n",
              "      <td>-3.991841</td>\n",
              "      <td>-3.849702</td>\n",
              "      <td>-3.904638</td>\n",
              "      <td>-3.936774</td>\n",
              "      <td>-4.064059</td>\n",
              "      <td>-3.640718</td>\n",
              "      <td>-3.808380</td>\n",
              "      <td>-4.231474</td>\n",
              "      <td>-4.473468</td>\n",
              "      <td>-4.697565</td>\n",
              "      <td>NaN</td>\n",
              "    </tr>\n",
              "    <tr>\n",
              "      <th>2</th>\n",
              "      <td>p01_8461</td>\n",
              "      <td>p01</td>\n",
              "      <td>4.234107</td>\n",
              "      <td>4.332462</td>\n",
              "      <td>4.318461</td>\n",
              "      <td>4.379933</td>\n",
              "      <td>4.513917</td>\n",
              "      <td>4.655927</td>\n",
              "      <td>4.832852</td>\n",
              "      <td>5.027735</td>\n",
              "      <td>5.150104</td>\n",
              "      <td>5.110452</td>\n",
              "      <td>4.892052</td>\n",
              "      <td>4.828309</td>\n",
              "      <td>4.924235</td>\n",
              "      <td>4.999567</td>\n",
              "      <td>4.666263</td>\n",
              "      <td>4.567811</td>\n",
              "      <td>4.472319</td>\n",
              "      <td>4.223857</td>\n",
              "      <td>4.001548</td>\n",
              "      <td>3.936874</td>\n",
              "      <td>3.956251</td>\n",
              "      <td>4.032548</td>\n",
              "      <td>4.100469</td>\n",
              "      <td>4.158494</td>\n",
              "      <td>4.177153</td>\n",
              "      <td>4.254582</td>\n",
              "      <td>4.235437</td>\n",
              "      <td>4.175776</td>\n",
              "      <td>4.114470</td>\n",
              "      <td>4.088395</td>\n",
              "      <td>4.138736</td>\n",
              "      <td>4.142166</td>\n",
              "      <td>0.056664</td>\n",
              "      <td>0.056664</td>\n",
              "      <td>0.056664</td>\n",
              "      <td>0.056664</td>\n",
              "      <td>0.056664</td>\n",
              "      <td>0.056664</td>\n",
              "      <td>0.056664</td>\n",
              "      <td>0.056664</td>\n",
              "      <td>0.056664</td>\n",
              "      <td>0.056664</td>\n",
              "      <td>0.056664</td>\n",
              "      <td>0.056008</td>\n",
              "      <td>0.055453</td>\n",
              "      <td>0.054977</td>\n",
              "      <td>0.054564</td>\n",
              "      <td>0.054203</td>\n",
              "      <td>...</td>\n",
              "      <td>4.418840</td>\n",
              "      <td>4.286341</td>\n",
              "      <td>4.361824</td>\n",
              "      <td>4.309456</td>\n",
              "      <td>4.326778</td>\n",
              "      <td>4.342506</td>\n",
              "      <td>4.448516</td>\n",
              "      <td>4.561218</td>\n",
              "      <td>4.471639</td>\n",
              "      <td>4.534748</td>\n",
              "      <td>4.522875</td>\n",
              "      <td>4.476200</td>\n",
              "      <td>4.395683</td>\n",
              "      <td>4.326778</td>\n",
              "      <td>4.305416</td>\n",
              "      <td>4.488636</td>\n",
              "      <td>4.337291</td>\n",
              "      <td>-2.929763</td>\n",
              "      <td>-3.588768</td>\n",
              "      <td>-3.800121</td>\n",
              "      <td>-3.948506</td>\n",
              "      <td>-4.086112</td>\n",
              "      <td>-4.234589</td>\n",
              "      <td>-4.631623</td>\n",
              "      <td>-4.883047</td>\n",
              "      <td>-5.095779</td>\n",
              "      <td>-5.083992</td>\n",
              "      <td>-4.905372</td>\n",
              "      <td>-4.762399</td>\n",
              "      <td>-4.768972</td>\n",
              "      <td>-4.684871</td>\n",
              "      <td>-4.314754</td>\n",
              "      <td>-4.206451</td>\n",
              "      <td>-4.173119</td>\n",
              "      <td>-3.988898</td>\n",
              "      <td>-3.599300</td>\n",
              "      <td>-3.281106</td>\n",
              "      <td>-3.388110</td>\n",
              "      <td>-3.618432</td>\n",
              "      <td>-3.892539</td>\n",
              "      <td>-4.202972</td>\n",
              "      <td>-4.366246</td>\n",
              "      <td>-4.716734</td>\n",
              "      <td>-4.781507</td>\n",
              "      <td>-4.510655</td>\n",
              "      <td>-4.236547</td>\n",
              "      <td>-4.033225</td>\n",
              "      <td>-4.210156</td>\n",
              "      <td>-3.972670</td>\n",
              "      <td>NaN</td>\n",
              "    </tr>\n",
              "    <tr>\n",
              "      <th>3</th>\n",
              "      <td>p01_8462</td>\n",
              "      <td>p01</td>\n",
              "      <td>0.000000</td>\n",
              "      <td>1.354025</td>\n",
              "      <td>1.439163</td>\n",
              "      <td>1.079372</td>\n",
              "      <td>1.185385</td>\n",
              "      <td>1.103346</td>\n",
              "      <td>0.945725</td>\n",
              "      <td>0.827509</td>\n",
              "      <td>0.735564</td>\n",
              "      <td>0.910498</td>\n",
              "      <td>1.004626</td>\n",
              "      <td>1.178494</td>\n",
              "      <td>1.264963</td>\n",
              "      <td>1.174608</td>\n",
              "      <td>1.096301</td>\n",
              "      <td>1.027782</td>\n",
              "      <td>0.967325</td>\n",
              "      <td>0.913584</td>\n",
              "      <td>0.865501</td>\n",
              "      <td>0.942121</td>\n",
              "      <td>1.032173</td>\n",
              "      <td>1.016762</td>\n",
              "      <td>1.032829</td>\n",
              "      <td>1.056854</td>\n",
              "      <td>1.042306</td>\n",
              "      <td>1.002217</td>\n",
              "      <td>1.042115</td>\n",
              "      <td>1.004896</td>\n",
              "      <td>1.063626</td>\n",
              "      <td>1.051276</td>\n",
              "      <td>1.039724</td>\n",
              "      <td>1.007232</td>\n",
              "      <td>0.008266</td>\n",
              "      <td>0.008266</td>\n",
              "      <td>0.008266</td>\n",
              "      <td>0.008266</td>\n",
              "      <td>0.008266</td>\n",
              "      <td>0.008266</td>\n",
              "      <td>0.008266</td>\n",
              "      <td>0.008266</td>\n",
              "      <td>0.008266</td>\n",
              "      <td>0.008266</td>\n",
              "      <td>0.008266</td>\n",
              "      <td>0.008266</td>\n",
              "      <td>0.008266</td>\n",
              "      <td>0.008266</td>\n",
              "      <td>0.008266</td>\n",
              "      <td>0.008266</td>\n",
              "      <td>...</td>\n",
              "      <td>4.139955</td>\n",
              "      <td>4.092677</td>\n",
              "      <td>4.105944</td>\n",
              "      <td>4.114147</td>\n",
              "      <td>4.050045</td>\n",
              "      <td>4.074142</td>\n",
              "      <td>4.089332</td>\n",
              "      <td>4.102643</td>\n",
              "      <td>4.099332</td>\n",
              "      <td>4.067316</td>\n",
              "      <td>4.105944</td>\n",
              "      <td>4.114147</td>\n",
              "      <td>4.069027</td>\n",
              "      <td>4.085976</td>\n",
              "      <td>4.097672</td>\n",
              "      <td>4.123903</td>\n",
              "      <td>4.092677</td>\n",
              "      <td>-2.929763</td>\n",
              "      <td>-2.929763</td>\n",
              "      <td>-2.929763</td>\n",
              "      <td>-2.929763</td>\n",
              "      <td>-2.929763</td>\n",
              "      <td>-2.929763</td>\n",
              "      <td>-2.934512</td>\n",
              "      <td>-2.934512</td>\n",
              "      <td>-2.943929</td>\n",
              "      <td>-2.943929</td>\n",
              "      <td>-2.943929</td>\n",
              "      <td>-2.957937</td>\n",
              "      <td>-2.957937</td>\n",
              "      <td>-2.957937</td>\n",
              "      <td>-2.948520</td>\n",
              "      <td>-2.948520</td>\n",
              "      <td>-2.948520</td>\n",
              "      <td>-2.934512</td>\n",
              "      <td>-2.929763</td>\n",
              "      <td>-2.934512</td>\n",
              "      <td>-2.939260</td>\n",
              "      <td>-2.939260</td>\n",
              "      <td>-2.939260</td>\n",
              "      <td>-2.939260</td>\n",
              "      <td>-2.939260</td>\n",
              "      <td>-2.943929</td>\n",
              "      <td>-2.943929</td>\n",
              "      <td>-2.948677</td>\n",
              "      <td>-2.948677</td>\n",
              "      <td>-2.948677</td>\n",
              "      <td>-2.953426</td>\n",
              "      <td>-2.944009</td>\n",
              "      <td>NaN</td>\n",
              "    </tr>\n",
              "    <tr>\n",
              "      <th>4</th>\n",
              "      <td>p01_8463</td>\n",
              "      <td>p01</td>\n",
              "      <td>0.000000</td>\n",
              "      <td>0.000000</td>\n",
              "      <td>0.944404</td>\n",
              "      <td>0.708303</td>\n",
              "      <td>0.843902</td>\n",
              "      <td>1.143094</td>\n",
              "      <td>1.407757</td>\n",
              "      <td>1.318431</td>\n",
              "      <td>1.350765</td>\n",
              "      <td>1.410279</td>\n",
              "      <td>1.428385</td>\n",
              "      <td>1.482639</td>\n",
              "      <td>1.421909</td>\n",
              "      <td>1.320344</td>\n",
              "      <td>1.232321</td>\n",
              "      <td>1.198623</td>\n",
              "      <td>1.250436</td>\n",
              "      <td>1.180967</td>\n",
              "      <td>1.155292</td>\n",
              "      <td>1.097528</td>\n",
              "      <td>1.078272</td>\n",
              "      <td>1.029259</td>\n",
              "      <td>1.140314</td>\n",
              "      <td>1.121682</td>\n",
              "      <td>1.104541</td>\n",
              "      <td>1.150619</td>\n",
              "      <td>1.108004</td>\n",
              "      <td>1.068432</td>\n",
              "      <td>1.087088</td>\n",
              "      <td>1.073956</td>\n",
              "      <td>1.074751</td>\n",
              "      <td>1.062826</td>\n",
              "      <td>0.008266</td>\n",
              "      <td>0.008266</td>\n",
              "      <td>0.008266</td>\n",
              "      <td>0.008266</td>\n",
              "      <td>0.008266</td>\n",
              "      <td>0.008266</td>\n",
              "      <td>0.008266</td>\n",
              "      <td>0.008266</td>\n",
              "      <td>0.008266</td>\n",
              "      <td>0.008266</td>\n",
              "      <td>0.008266</td>\n",
              "      <td>0.008266</td>\n",
              "      <td>0.008266</td>\n",
              "      <td>0.008266</td>\n",
              "      <td>0.008266</td>\n",
              "      <td>0.008266</td>\n",
              "      <td>...</td>\n",
              "      <td>4.082609</td>\n",
              "      <td>4.131961</td>\n",
              "      <td>4.143135</td>\n",
              "      <td>4.122284</td>\n",
              "      <td>4.122284</td>\n",
              "      <td>4.133565</td>\n",
              "      <td>4.151040</td>\n",
              "      <td>4.420045</td>\n",
              "      <td>4.050045</td>\n",
              "      <td>4.000034</td>\n",
              "      <td>4.028917</td>\n",
              "      <td>4.009150</td>\n",
              "      <td>4.053523</td>\n",
              "      <td>4.075841</td>\n",
              "      <td>4.080922</td>\n",
              "      <td>4.082609</td>\n",
              "      <td>4.110874</td>\n",
              "      <td>-2.929763</td>\n",
              "      <td>-2.944009</td>\n",
              "      <td>-2.939260</td>\n",
              "      <td>-2.944009</td>\n",
              "      <td>-2.941159</td>\n",
              "      <td>-2.939260</td>\n",
              "      <td>-2.939260</td>\n",
              "      <td>-2.934512</td>\n",
              "      <td>-2.934512</td>\n",
              "      <td>-2.929763</td>\n",
              "      <td>-2.929763</td>\n",
              "      <td>-2.987501</td>\n",
              "      <td>-2.987501</td>\n",
              "      <td>-2.987501</td>\n",
              "      <td>-2.987501</td>\n",
              "      <td>-2.987501</td>\n",
              "      <td>-2.987501</td>\n",
              "      <td>-2.929763</td>\n",
              "      <td>-2.929763</td>\n",
              "      <td>-2.934512</td>\n",
              "      <td>-2.934512</td>\n",
              "      <td>-2.948520</td>\n",
              "      <td>-3.133291</td>\n",
              "      <td>-3.133291</td>\n",
              "      <td>-3.133291</td>\n",
              "      <td>-3.128542</td>\n",
              "      <td>-3.133291</td>\n",
              "      <td>-3.119282</td>\n",
              "      <td>-2.934512</td>\n",
              "      <td>-2.934512</td>\n",
              "      <td>-2.934512</td>\n",
              "      <td>-2.934512</td>\n",
              "      <td>NaN</td>\n",
              "    </tr>\n",
              "  </tbody>\n",
              "</table>\n",
              "<p>5 rows × 291 columns</p>\n",
              "</div>\n",
              "    <div class=\"colab-df-buttons\">\n",
              "\n",
              "  <div class=\"colab-df-container\">\n",
              "    <button class=\"colab-df-convert\" onclick=\"convertToInteractive('df-68d9a751-96a8-4e3b-bec5-e50ef3bc4954')\"\n",
              "            title=\"Convert this dataframe to an interactive table.\"\n",
              "            style=\"display:none;\">\n",
              "\n",
              "  <svg xmlns=\"http://www.w3.org/2000/svg\" height=\"24px\" viewBox=\"0 -960 960 960\">\n",
              "    <path d=\"M120-120v-720h720v720H120Zm60-500h600v-160H180v160Zm220 220h160v-160H400v160Zm0 220h160v-160H400v160ZM180-400h160v-160H180v160Zm440 0h160v-160H620v160ZM180-180h160v-160H180v160Zm440 0h160v-160H620v160Z\"/>\n",
              "  </svg>\n",
              "    </button>\n",
              "\n",
              "  <style>\n",
              "    .colab-df-container {\n",
              "      display:flex;\n",
              "      gap: 12px;\n",
              "    }\n",
              "\n",
              "    .colab-df-convert {\n",
              "      background-color: #E8F0FE;\n",
              "      border: none;\n",
              "      border-radius: 50%;\n",
              "      cursor: pointer;\n",
              "      display: none;\n",
              "      fill: #1967D2;\n",
              "      height: 32px;\n",
              "      padding: 0 0 0 0;\n",
              "      width: 32px;\n",
              "    }\n",
              "\n",
              "    .colab-df-convert:hover {\n",
              "      background-color: #E2EBFA;\n",
              "      box-shadow: 0px 1px 2px rgba(60, 64, 67, 0.3), 0px 1px 3px 1px rgba(60, 64, 67, 0.15);\n",
              "      fill: #174EA6;\n",
              "    }\n",
              "\n",
              "    .colab-df-buttons div {\n",
              "      margin-bottom: 4px;\n",
              "    }\n",
              "\n",
              "    [theme=dark] .colab-df-convert {\n",
              "      background-color: #3B4455;\n",
              "      fill: #D2E3FC;\n",
              "    }\n",
              "\n",
              "    [theme=dark] .colab-df-convert:hover {\n",
              "      background-color: #434B5C;\n",
              "      box-shadow: 0px 1px 3px 1px rgba(0, 0, 0, 0.15);\n",
              "      filter: drop-shadow(0px 1px 2px rgba(0, 0, 0, 0.3));\n",
              "      fill: #FFFFFF;\n",
              "    }\n",
              "  </style>\n",
              "\n",
              "    <script>\n",
              "      const buttonEl =\n",
              "        document.querySelector('#df-68d9a751-96a8-4e3b-bec5-e50ef3bc4954 button.colab-df-convert');\n",
              "      buttonEl.style.display =\n",
              "        google.colab.kernel.accessAllowed ? 'block' : 'none';\n",
              "\n",
              "      async function convertToInteractive(key) {\n",
              "        const element = document.querySelector('#df-68d9a751-96a8-4e3b-bec5-e50ef3bc4954');\n",
              "        const dataTable =\n",
              "          await google.colab.kernel.invokeFunction('convertToInteractive',\n",
              "                                                    [key], {});\n",
              "        if (!dataTable) return;\n",
              "\n",
              "        const docLinkHtml = 'Like what you see? Visit the ' +\n",
              "          '<a target=\"_blank\" href=https://colab.research.google.com/notebooks/data_table.ipynb>data table notebook</a>'\n",
              "          + ' to learn more about interactive tables.';\n",
              "        element.innerHTML = '';\n",
              "        dataTable['output_type'] = 'display_data';\n",
              "        await google.colab.output.renderOutput(dataTable, element);\n",
              "        const docLink = document.createElement('div');\n",
              "        docLink.innerHTML = docLinkHtml;\n",
              "        element.appendChild(docLink);\n",
              "      }\n",
              "    </script>\n",
              "  </div>\n",
              "\n",
              "\n",
              "<div id=\"df-53a21b72-d203-418e-a606-7bcc1f681702\">\n",
              "  <button class=\"colab-df-quickchart\" onclick=\"quickchart('df-53a21b72-d203-418e-a606-7bcc1f681702')\"\n",
              "            title=\"Suggest charts\"\n",
              "            style=\"display:none;\">\n",
              "\n",
              "<svg xmlns=\"http://www.w3.org/2000/svg\" height=\"24px\"viewBox=\"0 0 24 24\"\n",
              "     width=\"24px\">\n",
              "    <g>\n",
              "        <path d=\"M19 3H5c-1.1 0-2 .9-2 2v14c0 1.1.9 2 2 2h14c1.1 0 2-.9 2-2V5c0-1.1-.9-2-2-2zM9 17H7v-7h2v7zm4 0h-2V7h2v10zm4 0h-2v-4h2v4z\"/>\n",
              "    </g>\n",
              "</svg>\n",
              "  </button>\n",
              "\n",
              "<style>\n",
              "  .colab-df-quickchart {\n",
              "      --bg-color: #E8F0FE;\n",
              "      --fill-color: #1967D2;\n",
              "      --hover-bg-color: #E2EBFA;\n",
              "      --hover-fill-color: #174EA6;\n",
              "      --disabled-fill-color: #AAA;\n",
              "      --disabled-bg-color: #DDD;\n",
              "  }\n",
              "\n",
              "  [theme=dark] .colab-df-quickchart {\n",
              "      --bg-color: #3B4455;\n",
              "      --fill-color: #D2E3FC;\n",
              "      --hover-bg-color: #434B5C;\n",
              "      --hover-fill-color: #FFFFFF;\n",
              "      --disabled-bg-color: #3B4455;\n",
              "      --disabled-fill-color: #666;\n",
              "  }\n",
              "\n",
              "  .colab-df-quickchart {\n",
              "    background-color: var(--bg-color);\n",
              "    border: none;\n",
              "    border-radius: 50%;\n",
              "    cursor: pointer;\n",
              "    display: none;\n",
              "    fill: var(--fill-color);\n",
              "    height: 32px;\n",
              "    padding: 0;\n",
              "    width: 32px;\n",
              "  }\n",
              "\n",
              "  .colab-df-quickchart:hover {\n",
              "    background-color: var(--hover-bg-color);\n",
              "    box-shadow: 0 1px 2px rgba(60, 64, 67, 0.3), 0 1px 3px 1px rgba(60, 64, 67, 0.15);\n",
              "    fill: var(--button-hover-fill-color);\n",
              "  }\n",
              "\n",
              "  .colab-df-quickchart-complete:disabled,\n",
              "  .colab-df-quickchart-complete:disabled:hover {\n",
              "    background-color: var(--disabled-bg-color);\n",
              "    fill: var(--disabled-fill-color);\n",
              "    box-shadow: none;\n",
              "  }\n",
              "\n",
              "  .colab-df-spinner {\n",
              "    border: 2px solid var(--fill-color);\n",
              "    border-color: transparent;\n",
              "    border-bottom-color: var(--fill-color);\n",
              "    animation:\n",
              "      spin 1s steps(1) infinite;\n",
              "  }\n",
              "\n",
              "  @keyframes spin {\n",
              "    0% {\n",
              "      border-color: transparent;\n",
              "      border-bottom-color: var(--fill-color);\n",
              "      border-left-color: var(--fill-color);\n",
              "    }\n",
              "    20% {\n",
              "      border-color: transparent;\n",
              "      border-left-color: var(--fill-color);\n",
              "      border-top-color: var(--fill-color);\n",
              "    }\n",
              "    30% {\n",
              "      border-color: transparent;\n",
              "      border-left-color: var(--fill-color);\n",
              "      border-top-color: var(--fill-color);\n",
              "      border-right-color: var(--fill-color);\n",
              "    }\n",
              "    40% {\n",
              "      border-color: transparent;\n",
              "      border-right-color: var(--fill-color);\n",
              "      border-top-color: var(--fill-color);\n",
              "    }\n",
              "    60% {\n",
              "      border-color: transparent;\n",
              "      border-right-color: var(--fill-color);\n",
              "    }\n",
              "    80% {\n",
              "      border-color: transparent;\n",
              "      border-right-color: var(--fill-color);\n",
              "      border-bottom-color: var(--fill-color);\n",
              "    }\n",
              "    90% {\n",
              "      border-color: transparent;\n",
              "      border-bottom-color: var(--fill-color);\n",
              "    }\n",
              "  }\n",
              "</style>\n",
              "\n",
              "  <script>\n",
              "    async function quickchart(key) {\n",
              "      const quickchartButtonEl =\n",
              "        document.querySelector('#' + key + ' button');\n",
              "      quickchartButtonEl.disabled = true;  // To prevent multiple clicks.\n",
              "      quickchartButtonEl.classList.add('colab-df-spinner');\n",
              "      try {\n",
              "        const charts = await google.colab.kernel.invokeFunction(\n",
              "            'suggestCharts', [key], {});\n",
              "      } catch (error) {\n",
              "        console.error('Error during call to suggestCharts:', error);\n",
              "      }\n",
              "      quickchartButtonEl.classList.remove('colab-df-spinner');\n",
              "      quickchartButtonEl.classList.add('colab-df-quickchart-complete');\n",
              "    }\n",
              "    (() => {\n",
              "      let quickchartButtonEl =\n",
              "        document.querySelector('#df-53a21b72-d203-418e-a606-7bcc1f681702 button');\n",
              "      quickchartButtonEl.style.display =\n",
              "        google.colab.kernel.accessAllowed ? 'block' : 'none';\n",
              "    })();\n",
              "  </script>\n",
              "</div>\n",
              "\n",
              "    </div>\n",
              "  </div>\n"
            ],
            "application/vnd.google.colaboratory.intrinsic+json": {
              "type": "dataframe"
            }
          },
          "metadata": {},
          "execution_count": 58
        }
      ],
      "source": [
        "df_test.reset_index().head()"
      ]
    },
    {
      "cell_type": "code",
      "execution_count": null,
      "metadata": {
        "id": "f9Nh-6Jkuzvz",
        "colab": {
          "base_uri": "https://localhost:8080/"
        },
        "outputId": "df70c550-e8bf-4d46-ff59-725927e8a3c4"
      },
      "outputs": [
        {
          "output_type": "execute_result",
          "data": {
            "text/plain": [
              "((2100934, 290), (3644, 290))"
            ]
          },
          "metadata": {},
          "execution_count": 59
        }
      ],
      "source": [
        "df_train.shape,df_test.shape"
      ]
    },
    {
      "cell_type": "code",
      "source": [
        "# df_train.to_csv(\"/content/drive/MyDrive/Exercises/Studies_Structured_Data/Data/Glucose/train_cluster_pca_final.csv\", index=False)\n",
        "# df_test.reset_index().to_csv(\"/content/drive/MyDrive/Exercises/Studies_Structured_Data/Data/Glucose/test_cluster_pca_final.csv\", index=False)"
      ],
      "metadata": {
        "id": "YuOKs__VfmZh"
      },
      "execution_count": null,
      "outputs": []
    },
    {
      "cell_type": "code",
      "execution_count": null,
      "metadata": {
        "id": "JOlBH71ZBYty"
      },
      "outputs": [],
      "source": [
        "df_train = pd.read_csv(\"/content/drive/MyDrive/Exercises/Studies_Structured_Data/Data/Glucose/train_cluster_pca_final.csv\")\n",
        "df_test = pd.read_csv(\"/content/drive/MyDrive/Exercises/Studies_Structured_Data/Data/Glucose/test_cluster_pca_final.csv\", index_col=0)"
      ]
    },
    {
      "cell_type": "code",
      "source": [
        "df_train.shape"
      ],
      "metadata": {
        "colab": {
          "base_uri": "https://localhost:8080/"
        },
        "id": "Iaf75-I7Rqtb",
        "outputId": "306a2d7a-557c-4b8e-c52a-b82f47efe947"
      },
      "execution_count": null,
      "outputs": [
        {
          "output_type": "execute_result",
          "data": {
            "text/plain": [
              "(2100934, 295)"
            ]
          },
          "metadata": {},
          "execution_count": 96
        }
      ]
    },
    {
      "cell_type": "code",
      "source": [
        "df_test.head(3)"
      ],
      "metadata": {
        "colab": {
          "base_uri": "https://localhost:8080/",
          "height": 224
        },
        "id": "gYLlO_hPSebc",
        "outputId": "b93b1d2b-c491-49da-ad71-d1298654b469"
      },
      "execution_count": null,
      "outputs": [
        {
          "output_type": "execute_result",
          "data": {
            "text/plain": [
              "         p_num  steps_av0  steps_av1  steps_av2  steps_av3  steps_av4  \\\n",
              "id                                                                      \n",
              "p01_8459   p01   1.098612   0.549306   0.597253   0.621227   0.496981   \n",
              "p01_8460   p01   6.204558   6.206574   5.358903   5.091792   4.982093   \n",
              "p01_8461   p01   4.234107   4.332462   4.318461   4.379933   4.513917   \n",
              "\n",
              "          steps_av5  steps_av6  steps_av7  steps_av8  steps_av9  steps_av10  \\\n",
              "id                                                                            \n",
              "p01_8459   0.414151   0.511931   0.447940   0.398169   0.578074    0.525522   \n",
              "p01_8460   4.778611   4.690078   4.511080   4.310744   4.219789    4.154036   \n",
              "p01_8461   4.655927   4.832852   5.027735   5.150104   5.110452    4.892052   \n",
              "\n",
              "          steps_av11  steps_av12  steps_av13  steps_av14  steps_av15  \\\n",
              "id                                                                     \n",
              "p01_8459    0.481729    0.444673    0.412910    0.504834    0.541945   \n",
              "p01_8460    4.082520    4.079484    3.981524    3.958595    3.921639   \n",
              "p01_8461    4.828309    4.924235    4.999567    4.666263    4.567812   \n",
              "\n",
              "          steps_av16  steps_av17  steps_av18  steps_av19  steps_av20  \\\n",
              "id                                                                     \n",
              "p01_8459    0.574690    0.632176    0.598903    0.666254    0.634527   \n",
              "p01_8460    3.907947    3.871844    3.789252    3.812214    3.802628   \n",
              "p01_8461    4.472319    4.223857    4.001548    3.936874    3.956251   \n",
              "\n",
              "          steps_av21  steps_av22  steps_av23  steps_av24  steps_av25  \\\n",
              "id                                                                     \n",
              "p01_8459    0.605685    0.609488    0.690966    0.734997    0.706728   \n",
              "p01_8460    3.718232    3.716956    3.562082    3.560654    3.603069   \n",
              "p01_8461    4.032548    4.100469    4.158493    4.177153    4.254582   \n",
              "\n",
              "          steps_av26  steps_av27  steps_av28  steps_av29  steps_av30  \\\n",
              "id                                                                     \n",
              "p01_8459    0.706225    0.681003    0.657520    0.672223    0.650538   \n",
              "p01_8460    3.659836    3.711048    3.790702    3.874554    3.941017   \n",
              "p01_8461    4.235437    4.175776    4.114471    4.088395    4.138736   \n",
              "\n",
              "          steps_av31  insulin_av0  insulin_av1  insulin_av2  insulin_av3  \\\n",
              "id                                                                         \n",
              "p01_8459    0.673531     0.056664     0.056664     0.056664     0.056664   \n",
              "p01_8460    4.014064     0.056664     0.056664     0.056664     0.056664   \n",
              "p01_8461    4.142166     0.056664     0.056664     0.056664     0.056664   \n",
              "\n",
              "          insulin_av4  insulin_av5  insulin_av6  insulin_av7  insulin_av8  \\\n",
              "id                                                                          \n",
              "p01_8459     0.056664     0.056664     0.056664     0.056664     0.056664   \n",
              "p01_8460     0.054307     0.310980     0.266554     0.233235     0.207320   \n",
              "p01_8461     0.056664     0.056664     0.056664     0.056664     0.056664   \n",
              "\n",
              "          insulin_av9  insulin_av10  insulin_av11  insulin_av12  insulin_av13  \\\n",
              "id                                                                              \n",
              "p01_8459     0.056664      0.056664      0.056222      0.051897      0.130301   \n",
              "p01_8460     0.186588      0.169625      0.159046      0.151171      0.144420   \n",
              "p01_8461     0.056664      0.056664      0.056008      0.055453      0.054977   \n",
              "\n",
              "          insulin_av14  insulin_av15  insulin_av16  ...      hr20      hr21  \\\n",
              "id                                                  ...                       \n",
              "p01_8459      0.125392      0.121097      0.117307  ...  4.005513  3.981549   \n",
              "p01_8460      0.138570      0.133451      0.128934  ...  4.500920  4.555980   \n",
              "p01_8461      0.054564      0.054203      0.053885  ...  4.342506  4.448516   \n",
              "\n",
              "              hr22      hr23      hr24      hr25      hr26      hr27  \\\n",
              "id                                                                     \n",
              "p01_8459  3.979682  3.977811  4.025352  4.021774  3.996364  3.974058   \n",
              "p01_8460  4.499810  4.411585  4.449685  4.511958  4.537961  4.517431   \n",
              "p01_8461  4.561218  4.471639  4.534748  4.522875  4.476200  4.395683   \n",
              "\n",
              "              hr28      hr29      hr30      hr31   intake0   intake1  \\\n",
              "id                                                                     \n",
              "p01_8459  4.018183  4.009150  4.005513  4.001863 -2.929763 -2.929763   \n",
              "p01_8460  4.560173  4.743192  4.630838  4.776599 -5.698941 -5.719685   \n",
              "p01_8461  4.326778  4.305416  4.488637  4.337291 -2.929763 -3.588768   \n",
              "\n",
              "           intake2   intake3   intake4   intake5   intake6   intake7  \\\n",
              "id                                                                     \n",
              "p01_8459 -2.929763 -2.929763 -2.929763 -2.929763 -2.934512 -2.934512   \n",
              "p01_8460 -5.406085 -5.331754 -4.793769 -4.698925 -4.551827 -4.351188   \n",
              "p01_8461 -3.800121 -3.948506 -4.086112 -4.234589 -4.631623 -4.883047   \n",
              "\n",
              "           intake8   intake9  intake10  intake11  intake12  intake13  \\\n",
              "id                                                                     \n",
              "p01_8459 -2.934512 -2.934512 -2.934512 -2.934512 -2.929763 -2.934512   \n",
              "p01_8460 -4.313892 -4.628769 -4.466277 -4.404581 -4.350550 -4.242808   \n",
              "p01_8461 -5.095779 -5.083991 -4.905372 -4.762399 -4.768972 -4.684871   \n",
              "\n",
              "          intake14  intake15  intake16  intake17  intake18  intake19  \\\n",
              "id                                                                     \n",
              "p01_8459 -2.934512 -2.934512 -2.934512 -2.939260 -2.939260 -2.934512   \n",
              "p01_8460 -4.181410 -4.192440 -4.208452 -4.163563 -4.018333 -4.088591   \n",
              "p01_8461 -4.314754 -4.206451 -4.173119 -3.988898 -3.599300 -3.281105   \n",
              "\n",
              "          intake20  intake21  intake22  intake23  intake24  intake25  \\\n",
              "id                                                                     \n",
              "p01_8459 -2.934512 -2.934512 -2.939260 -2.939260 -2.944009 -2.944009   \n",
              "p01_8460 -4.054094 -3.968798 -3.991841 -3.849702 -3.904638 -3.936774   \n",
              "p01_8461 -3.388110 -3.618432 -3.892539 -4.202972 -4.366246 -4.716734   \n",
              "\n",
              "          intake26  intake27  intake28  intake29  intake30  intake31  bg+1:00  \\\n",
              "id                                                                              \n",
              "p01_8459 -2.944009 -2.944009 -2.939260 -2.934512 -2.934512 -2.989119      NaN   \n",
              "p01_8460 -4.064059 -3.640718 -3.808380 -4.231474 -4.473468 -4.697565      NaN   \n",
              "p01_8461 -4.781506 -4.510655 -4.236547 -4.033225 -4.210156 -3.972670      NaN   \n",
              "\n",
              "          cluster       PC_1      PC_2      PC_3      PC_4  \n",
              "id                                                          \n",
              "p01_8459        3  23.233730 -6.674153 -5.407862 -0.154755  \n",
              "p01_8460        4 -13.050171 -7.024809  6.078266 -1.158505  \n",
              "p01_8461        4 -14.298492  6.095187  2.593921  1.518176  \n",
              "\n",
              "[3 rows x 295 columns]"
            ],
            "text/html": [
              "\n",
              "  <div id=\"df-41795aed-0227-48d4-a29a-1da6c370d263\" class=\"colab-df-container\">\n",
              "    <div>\n",
              "<style scoped>\n",
              "    .dataframe tbody tr th:only-of-type {\n",
              "        vertical-align: middle;\n",
              "    }\n",
              "\n",
              "    .dataframe tbody tr th {\n",
              "        vertical-align: top;\n",
              "    }\n",
              "\n",
              "    .dataframe thead th {\n",
              "        text-align: right;\n",
              "    }\n",
              "</style>\n",
              "<table border=\"1\" class=\"dataframe\">\n",
              "  <thead>\n",
              "    <tr style=\"text-align: right;\">\n",
              "      <th></th>\n",
              "      <th>p_num</th>\n",
              "      <th>steps_av0</th>\n",
              "      <th>steps_av1</th>\n",
              "      <th>steps_av2</th>\n",
              "      <th>steps_av3</th>\n",
              "      <th>steps_av4</th>\n",
              "      <th>steps_av5</th>\n",
              "      <th>steps_av6</th>\n",
              "      <th>steps_av7</th>\n",
              "      <th>steps_av8</th>\n",
              "      <th>steps_av9</th>\n",
              "      <th>steps_av10</th>\n",
              "      <th>steps_av11</th>\n",
              "      <th>steps_av12</th>\n",
              "      <th>steps_av13</th>\n",
              "      <th>steps_av14</th>\n",
              "      <th>steps_av15</th>\n",
              "      <th>steps_av16</th>\n",
              "      <th>steps_av17</th>\n",
              "      <th>steps_av18</th>\n",
              "      <th>steps_av19</th>\n",
              "      <th>steps_av20</th>\n",
              "      <th>steps_av21</th>\n",
              "      <th>steps_av22</th>\n",
              "      <th>steps_av23</th>\n",
              "      <th>steps_av24</th>\n",
              "      <th>steps_av25</th>\n",
              "      <th>steps_av26</th>\n",
              "      <th>steps_av27</th>\n",
              "      <th>steps_av28</th>\n",
              "      <th>steps_av29</th>\n",
              "      <th>steps_av30</th>\n",
              "      <th>steps_av31</th>\n",
              "      <th>insulin_av0</th>\n",
              "      <th>insulin_av1</th>\n",
              "      <th>insulin_av2</th>\n",
              "      <th>insulin_av3</th>\n",
              "      <th>insulin_av4</th>\n",
              "      <th>insulin_av5</th>\n",
              "      <th>insulin_av6</th>\n",
              "      <th>insulin_av7</th>\n",
              "      <th>insulin_av8</th>\n",
              "      <th>insulin_av9</th>\n",
              "      <th>insulin_av10</th>\n",
              "      <th>insulin_av11</th>\n",
              "      <th>insulin_av12</th>\n",
              "      <th>insulin_av13</th>\n",
              "      <th>insulin_av14</th>\n",
              "      <th>insulin_av15</th>\n",
              "      <th>insulin_av16</th>\n",
              "      <th>...</th>\n",
              "      <th>hr20</th>\n",
              "      <th>hr21</th>\n",
              "      <th>hr22</th>\n",
              "      <th>hr23</th>\n",
              "      <th>hr24</th>\n",
              "      <th>hr25</th>\n",
              "      <th>hr26</th>\n",
              "      <th>hr27</th>\n",
              "      <th>hr28</th>\n",
              "      <th>hr29</th>\n",
              "      <th>hr30</th>\n",
              "      <th>hr31</th>\n",
              "      <th>intake0</th>\n",
              "      <th>intake1</th>\n",
              "      <th>intake2</th>\n",
              "      <th>intake3</th>\n",
              "      <th>intake4</th>\n",
              "      <th>intake5</th>\n",
              "      <th>intake6</th>\n",
              "      <th>intake7</th>\n",
              "      <th>intake8</th>\n",
              "      <th>intake9</th>\n",
              "      <th>intake10</th>\n",
              "      <th>intake11</th>\n",
              "      <th>intake12</th>\n",
              "      <th>intake13</th>\n",
              "      <th>intake14</th>\n",
              "      <th>intake15</th>\n",
              "      <th>intake16</th>\n",
              "      <th>intake17</th>\n",
              "      <th>intake18</th>\n",
              "      <th>intake19</th>\n",
              "      <th>intake20</th>\n",
              "      <th>intake21</th>\n",
              "      <th>intake22</th>\n",
              "      <th>intake23</th>\n",
              "      <th>intake24</th>\n",
              "      <th>intake25</th>\n",
              "      <th>intake26</th>\n",
              "      <th>intake27</th>\n",
              "      <th>intake28</th>\n",
              "      <th>intake29</th>\n",
              "      <th>intake30</th>\n",
              "      <th>intake31</th>\n",
              "      <th>bg+1:00</th>\n",
              "      <th>cluster</th>\n",
              "      <th>PC_1</th>\n",
              "      <th>PC_2</th>\n",
              "      <th>PC_3</th>\n",
              "      <th>PC_4</th>\n",
              "    </tr>\n",
              "    <tr>\n",
              "      <th>id</th>\n",
              "      <th></th>\n",
              "      <th></th>\n",
              "      <th></th>\n",
              "      <th></th>\n",
              "      <th></th>\n",
              "      <th></th>\n",
              "      <th></th>\n",
              "      <th></th>\n",
              "      <th></th>\n",
              "      <th></th>\n",
              "      <th></th>\n",
              "      <th></th>\n",
              "      <th></th>\n",
              "      <th></th>\n",
              "      <th></th>\n",
              "      <th></th>\n",
              "      <th></th>\n",
              "      <th></th>\n",
              "      <th></th>\n",
              "      <th></th>\n",
              "      <th></th>\n",
              "      <th></th>\n",
              "      <th></th>\n",
              "      <th></th>\n",
              "      <th></th>\n",
              "      <th></th>\n",
              "      <th></th>\n",
              "      <th></th>\n",
              "      <th></th>\n",
              "      <th></th>\n",
              "      <th></th>\n",
              "      <th></th>\n",
              "      <th></th>\n",
              "      <th></th>\n",
              "      <th></th>\n",
              "      <th></th>\n",
              "      <th></th>\n",
              "      <th></th>\n",
              "      <th></th>\n",
              "      <th></th>\n",
              "      <th></th>\n",
              "      <th></th>\n",
              "      <th></th>\n",
              "      <th></th>\n",
              "      <th></th>\n",
              "      <th></th>\n",
              "      <th></th>\n",
              "      <th></th>\n",
              "      <th></th>\n",
              "      <th></th>\n",
              "      <th></th>\n",
              "      <th></th>\n",
              "      <th></th>\n",
              "      <th></th>\n",
              "      <th></th>\n",
              "      <th></th>\n",
              "      <th></th>\n",
              "      <th></th>\n",
              "      <th></th>\n",
              "      <th></th>\n",
              "      <th></th>\n",
              "      <th></th>\n",
              "      <th></th>\n",
              "      <th></th>\n",
              "      <th></th>\n",
              "      <th></th>\n",
              "      <th></th>\n",
              "      <th></th>\n",
              "      <th></th>\n",
              "      <th></th>\n",
              "      <th></th>\n",
              "      <th></th>\n",
              "      <th></th>\n",
              "      <th></th>\n",
              "      <th></th>\n",
              "      <th></th>\n",
              "      <th></th>\n",
              "      <th></th>\n",
              "      <th></th>\n",
              "      <th></th>\n",
              "      <th></th>\n",
              "      <th></th>\n",
              "      <th></th>\n",
              "      <th></th>\n",
              "      <th></th>\n",
              "      <th></th>\n",
              "      <th></th>\n",
              "      <th></th>\n",
              "      <th></th>\n",
              "      <th></th>\n",
              "      <th></th>\n",
              "      <th></th>\n",
              "      <th></th>\n",
              "      <th></th>\n",
              "      <th></th>\n",
              "      <th></th>\n",
              "      <th></th>\n",
              "      <th></th>\n",
              "      <th></th>\n",
              "      <th></th>\n",
              "      <th></th>\n",
              "    </tr>\n",
              "  </thead>\n",
              "  <tbody>\n",
              "    <tr>\n",
              "      <th>p01_8459</th>\n",
              "      <td>p01</td>\n",
              "      <td>1.098612</td>\n",
              "      <td>0.549306</td>\n",
              "      <td>0.597253</td>\n",
              "      <td>0.621227</td>\n",
              "      <td>0.496981</td>\n",
              "      <td>0.414151</td>\n",
              "      <td>0.511931</td>\n",
              "      <td>0.447940</td>\n",
              "      <td>0.398169</td>\n",
              "      <td>0.578074</td>\n",
              "      <td>0.525522</td>\n",
              "      <td>0.481729</td>\n",
              "      <td>0.444673</td>\n",
              "      <td>0.412910</td>\n",
              "      <td>0.504834</td>\n",
              "      <td>0.541945</td>\n",
              "      <td>0.574690</td>\n",
              "      <td>0.632176</td>\n",
              "      <td>0.598903</td>\n",
              "      <td>0.666254</td>\n",
              "      <td>0.634527</td>\n",
              "      <td>0.605685</td>\n",
              "      <td>0.609488</td>\n",
              "      <td>0.690966</td>\n",
              "      <td>0.734997</td>\n",
              "      <td>0.706728</td>\n",
              "      <td>0.706225</td>\n",
              "      <td>0.681003</td>\n",
              "      <td>0.657520</td>\n",
              "      <td>0.672223</td>\n",
              "      <td>0.650538</td>\n",
              "      <td>0.673531</td>\n",
              "      <td>0.056664</td>\n",
              "      <td>0.056664</td>\n",
              "      <td>0.056664</td>\n",
              "      <td>0.056664</td>\n",
              "      <td>0.056664</td>\n",
              "      <td>0.056664</td>\n",
              "      <td>0.056664</td>\n",
              "      <td>0.056664</td>\n",
              "      <td>0.056664</td>\n",
              "      <td>0.056664</td>\n",
              "      <td>0.056664</td>\n",
              "      <td>0.056222</td>\n",
              "      <td>0.051897</td>\n",
              "      <td>0.130301</td>\n",
              "      <td>0.125392</td>\n",
              "      <td>0.121097</td>\n",
              "      <td>0.117307</td>\n",
              "      <td>...</td>\n",
              "      <td>4.005513</td>\n",
              "      <td>3.981549</td>\n",
              "      <td>3.979682</td>\n",
              "      <td>3.977811</td>\n",
              "      <td>4.025352</td>\n",
              "      <td>4.021774</td>\n",
              "      <td>3.996364</td>\n",
              "      <td>3.974058</td>\n",
              "      <td>4.018183</td>\n",
              "      <td>4.009150</td>\n",
              "      <td>4.005513</td>\n",
              "      <td>4.001863</td>\n",
              "      <td>-2.929763</td>\n",
              "      <td>-2.929763</td>\n",
              "      <td>-2.929763</td>\n",
              "      <td>-2.929763</td>\n",
              "      <td>-2.929763</td>\n",
              "      <td>-2.929763</td>\n",
              "      <td>-2.934512</td>\n",
              "      <td>-2.934512</td>\n",
              "      <td>-2.934512</td>\n",
              "      <td>-2.934512</td>\n",
              "      <td>-2.934512</td>\n",
              "      <td>-2.934512</td>\n",
              "      <td>-2.929763</td>\n",
              "      <td>-2.934512</td>\n",
              "      <td>-2.934512</td>\n",
              "      <td>-2.934512</td>\n",
              "      <td>-2.934512</td>\n",
              "      <td>-2.939260</td>\n",
              "      <td>-2.939260</td>\n",
              "      <td>-2.934512</td>\n",
              "      <td>-2.934512</td>\n",
              "      <td>-2.934512</td>\n",
              "      <td>-2.939260</td>\n",
              "      <td>-2.939260</td>\n",
              "      <td>-2.944009</td>\n",
              "      <td>-2.944009</td>\n",
              "      <td>-2.944009</td>\n",
              "      <td>-2.944009</td>\n",
              "      <td>-2.939260</td>\n",
              "      <td>-2.934512</td>\n",
              "      <td>-2.934512</td>\n",
              "      <td>-2.989119</td>\n",
              "      <td>NaN</td>\n",
              "      <td>3</td>\n",
              "      <td>23.233730</td>\n",
              "      <td>-6.674153</td>\n",
              "      <td>-5.407862</td>\n",
              "      <td>-0.154755</td>\n",
              "    </tr>\n",
              "    <tr>\n",
              "      <th>p01_8460</th>\n",
              "      <td>p01</td>\n",
              "      <td>6.204558</td>\n",
              "      <td>6.206574</td>\n",
              "      <td>5.358903</td>\n",
              "      <td>5.091792</td>\n",
              "      <td>4.982093</td>\n",
              "      <td>4.778611</td>\n",
              "      <td>4.690078</td>\n",
              "      <td>4.511080</td>\n",
              "      <td>4.310744</td>\n",
              "      <td>4.219789</td>\n",
              "      <td>4.154036</td>\n",
              "      <td>4.082520</td>\n",
              "      <td>4.079484</td>\n",
              "      <td>3.981524</td>\n",
              "      <td>3.958595</td>\n",
              "      <td>3.921639</td>\n",
              "      <td>3.907947</td>\n",
              "      <td>3.871844</td>\n",
              "      <td>3.789252</td>\n",
              "      <td>3.812214</td>\n",
              "      <td>3.802628</td>\n",
              "      <td>3.718232</td>\n",
              "      <td>3.716956</td>\n",
              "      <td>3.562082</td>\n",
              "      <td>3.560654</td>\n",
              "      <td>3.603069</td>\n",
              "      <td>3.659836</td>\n",
              "      <td>3.711048</td>\n",
              "      <td>3.790702</td>\n",
              "      <td>3.874554</td>\n",
              "      <td>3.941017</td>\n",
              "      <td>4.014064</td>\n",
              "      <td>0.056664</td>\n",
              "      <td>0.056664</td>\n",
              "      <td>0.056664</td>\n",
              "      <td>0.056664</td>\n",
              "      <td>0.054307</td>\n",
              "      <td>0.310980</td>\n",
              "      <td>0.266554</td>\n",
              "      <td>0.233235</td>\n",
              "      <td>0.207320</td>\n",
              "      <td>0.186588</td>\n",
              "      <td>0.169625</td>\n",
              "      <td>0.159046</td>\n",
              "      <td>0.151171</td>\n",
              "      <td>0.144420</td>\n",
              "      <td>0.138570</td>\n",
              "      <td>0.133451</td>\n",
              "      <td>0.128934</td>\n",
              "      <td>...</td>\n",
              "      <td>4.500920</td>\n",
              "      <td>4.555980</td>\n",
              "      <td>4.499810</td>\n",
              "      <td>4.411585</td>\n",
              "      <td>4.449685</td>\n",
              "      <td>4.511958</td>\n",
              "      <td>4.537961</td>\n",
              "      <td>4.517431</td>\n",
              "      <td>4.560173</td>\n",
              "      <td>4.743192</td>\n",
              "      <td>4.630838</td>\n",
              "      <td>4.776599</td>\n",
              "      <td>-5.698941</td>\n",
              "      <td>-5.719685</td>\n",
              "      <td>-5.406085</td>\n",
              "      <td>-5.331754</td>\n",
              "      <td>-4.793769</td>\n",
              "      <td>-4.698925</td>\n",
              "      <td>-4.551827</td>\n",
              "      <td>-4.351188</td>\n",
              "      <td>-4.313892</td>\n",
              "      <td>-4.628769</td>\n",
              "      <td>-4.466277</td>\n",
              "      <td>-4.404581</td>\n",
              "      <td>-4.350550</td>\n",
              "      <td>-4.242808</td>\n",
              "      <td>-4.181410</td>\n",
              "      <td>-4.192440</td>\n",
              "      <td>-4.208452</td>\n",
              "      <td>-4.163563</td>\n",
              "      <td>-4.018333</td>\n",
              "      <td>-4.088591</td>\n",
              "      <td>-4.054094</td>\n",
              "      <td>-3.968798</td>\n",
              "      <td>-3.991841</td>\n",
              "      <td>-3.849702</td>\n",
              "      <td>-3.904638</td>\n",
              "      <td>-3.936774</td>\n",
              "      <td>-4.064059</td>\n",
              "      <td>-3.640718</td>\n",
              "      <td>-3.808380</td>\n",
              "      <td>-4.231474</td>\n",
              "      <td>-4.473468</td>\n",
              "      <td>-4.697565</td>\n",
              "      <td>NaN</td>\n",
              "      <td>4</td>\n",
              "      <td>-13.050171</td>\n",
              "      <td>-7.024809</td>\n",
              "      <td>6.078266</td>\n",
              "      <td>-1.158505</td>\n",
              "    </tr>\n",
              "    <tr>\n",
              "      <th>p01_8461</th>\n",
              "      <td>p01</td>\n",
              "      <td>4.234107</td>\n",
              "      <td>4.332462</td>\n",
              "      <td>4.318461</td>\n",
              "      <td>4.379933</td>\n",
              "      <td>4.513917</td>\n",
              "      <td>4.655927</td>\n",
              "      <td>4.832852</td>\n",
              "      <td>5.027735</td>\n",
              "      <td>5.150104</td>\n",
              "      <td>5.110452</td>\n",
              "      <td>4.892052</td>\n",
              "      <td>4.828309</td>\n",
              "      <td>4.924235</td>\n",
              "      <td>4.999567</td>\n",
              "      <td>4.666263</td>\n",
              "      <td>4.567812</td>\n",
              "      <td>4.472319</td>\n",
              "      <td>4.223857</td>\n",
              "      <td>4.001548</td>\n",
              "      <td>3.936874</td>\n",
              "      <td>3.956251</td>\n",
              "      <td>4.032548</td>\n",
              "      <td>4.100469</td>\n",
              "      <td>4.158493</td>\n",
              "      <td>4.177153</td>\n",
              "      <td>4.254582</td>\n",
              "      <td>4.235437</td>\n",
              "      <td>4.175776</td>\n",
              "      <td>4.114471</td>\n",
              "      <td>4.088395</td>\n",
              "      <td>4.138736</td>\n",
              "      <td>4.142166</td>\n",
              "      <td>0.056664</td>\n",
              "      <td>0.056664</td>\n",
              "      <td>0.056664</td>\n",
              "      <td>0.056664</td>\n",
              "      <td>0.056664</td>\n",
              "      <td>0.056664</td>\n",
              "      <td>0.056664</td>\n",
              "      <td>0.056664</td>\n",
              "      <td>0.056664</td>\n",
              "      <td>0.056664</td>\n",
              "      <td>0.056664</td>\n",
              "      <td>0.056008</td>\n",
              "      <td>0.055453</td>\n",
              "      <td>0.054977</td>\n",
              "      <td>0.054564</td>\n",
              "      <td>0.054203</td>\n",
              "      <td>0.053885</td>\n",
              "      <td>...</td>\n",
              "      <td>4.342506</td>\n",
              "      <td>4.448516</td>\n",
              "      <td>4.561218</td>\n",
              "      <td>4.471639</td>\n",
              "      <td>4.534748</td>\n",
              "      <td>4.522875</td>\n",
              "      <td>4.476200</td>\n",
              "      <td>4.395683</td>\n",
              "      <td>4.326778</td>\n",
              "      <td>4.305416</td>\n",
              "      <td>4.488637</td>\n",
              "      <td>4.337291</td>\n",
              "      <td>-2.929763</td>\n",
              "      <td>-3.588768</td>\n",
              "      <td>-3.800121</td>\n",
              "      <td>-3.948506</td>\n",
              "      <td>-4.086112</td>\n",
              "      <td>-4.234589</td>\n",
              "      <td>-4.631623</td>\n",
              "      <td>-4.883047</td>\n",
              "      <td>-5.095779</td>\n",
              "      <td>-5.083991</td>\n",
              "      <td>-4.905372</td>\n",
              "      <td>-4.762399</td>\n",
              "      <td>-4.768972</td>\n",
              "      <td>-4.684871</td>\n",
              "      <td>-4.314754</td>\n",
              "      <td>-4.206451</td>\n",
              "      <td>-4.173119</td>\n",
              "      <td>-3.988898</td>\n",
              "      <td>-3.599300</td>\n",
              "      <td>-3.281105</td>\n",
              "      <td>-3.388110</td>\n",
              "      <td>-3.618432</td>\n",
              "      <td>-3.892539</td>\n",
              "      <td>-4.202972</td>\n",
              "      <td>-4.366246</td>\n",
              "      <td>-4.716734</td>\n",
              "      <td>-4.781506</td>\n",
              "      <td>-4.510655</td>\n",
              "      <td>-4.236547</td>\n",
              "      <td>-4.033225</td>\n",
              "      <td>-4.210156</td>\n",
              "      <td>-3.972670</td>\n",
              "      <td>NaN</td>\n",
              "      <td>4</td>\n",
              "      <td>-14.298492</td>\n",
              "      <td>6.095187</td>\n",
              "      <td>2.593921</td>\n",
              "      <td>1.518176</td>\n",
              "    </tr>\n",
              "  </tbody>\n",
              "</table>\n",
              "<p>3 rows × 295 columns</p>\n",
              "</div>\n",
              "    <div class=\"colab-df-buttons\">\n",
              "\n",
              "  <div class=\"colab-df-container\">\n",
              "    <button class=\"colab-df-convert\" onclick=\"convertToInteractive('df-41795aed-0227-48d4-a29a-1da6c370d263')\"\n",
              "            title=\"Convert this dataframe to an interactive table.\"\n",
              "            style=\"display:none;\">\n",
              "\n",
              "  <svg xmlns=\"http://www.w3.org/2000/svg\" height=\"24px\" viewBox=\"0 -960 960 960\">\n",
              "    <path d=\"M120-120v-720h720v720H120Zm60-500h600v-160H180v160Zm220 220h160v-160H400v160Zm0 220h160v-160H400v160ZM180-400h160v-160H180v160Zm440 0h160v-160H620v160ZM180-180h160v-160H180v160Zm440 0h160v-160H620v160Z\"/>\n",
              "  </svg>\n",
              "    </button>\n",
              "\n",
              "  <style>\n",
              "    .colab-df-container {\n",
              "      display:flex;\n",
              "      gap: 12px;\n",
              "    }\n",
              "\n",
              "    .colab-df-convert {\n",
              "      background-color: #E8F0FE;\n",
              "      border: none;\n",
              "      border-radius: 50%;\n",
              "      cursor: pointer;\n",
              "      display: none;\n",
              "      fill: #1967D2;\n",
              "      height: 32px;\n",
              "      padding: 0 0 0 0;\n",
              "      width: 32px;\n",
              "    }\n",
              "\n",
              "    .colab-df-convert:hover {\n",
              "      background-color: #E2EBFA;\n",
              "      box-shadow: 0px 1px 2px rgba(60, 64, 67, 0.3), 0px 1px 3px 1px rgba(60, 64, 67, 0.15);\n",
              "      fill: #174EA6;\n",
              "    }\n",
              "\n",
              "    .colab-df-buttons div {\n",
              "      margin-bottom: 4px;\n",
              "    }\n",
              "\n",
              "    [theme=dark] .colab-df-convert {\n",
              "      background-color: #3B4455;\n",
              "      fill: #D2E3FC;\n",
              "    }\n",
              "\n",
              "    [theme=dark] .colab-df-convert:hover {\n",
              "      background-color: #434B5C;\n",
              "      box-shadow: 0px 1px 3px 1px rgba(0, 0, 0, 0.15);\n",
              "      filter: drop-shadow(0px 1px 2px rgba(0, 0, 0, 0.3));\n",
              "      fill: #FFFFFF;\n",
              "    }\n",
              "  </style>\n",
              "\n",
              "    <script>\n",
              "      const buttonEl =\n",
              "        document.querySelector('#df-41795aed-0227-48d4-a29a-1da6c370d263 button.colab-df-convert');\n",
              "      buttonEl.style.display =\n",
              "        google.colab.kernel.accessAllowed ? 'block' : 'none';\n",
              "\n",
              "      async function convertToInteractive(key) {\n",
              "        const element = document.querySelector('#df-41795aed-0227-48d4-a29a-1da6c370d263');\n",
              "        const dataTable =\n",
              "          await google.colab.kernel.invokeFunction('convertToInteractive',\n",
              "                                                    [key], {});\n",
              "        if (!dataTable) return;\n",
              "\n",
              "        const docLinkHtml = 'Like what you see? Visit the ' +\n",
              "          '<a target=\"_blank\" href=https://colab.research.google.com/notebooks/data_table.ipynb>data table notebook</a>'\n",
              "          + ' to learn more about interactive tables.';\n",
              "        element.innerHTML = '';\n",
              "        dataTable['output_type'] = 'display_data';\n",
              "        await google.colab.output.renderOutput(dataTable, element);\n",
              "        const docLink = document.createElement('div');\n",
              "        docLink.innerHTML = docLinkHtml;\n",
              "        element.appendChild(docLink);\n",
              "      }\n",
              "    </script>\n",
              "  </div>\n",
              "\n",
              "\n",
              "<div id=\"df-0d9a71a5-6351-4754-a8e8-81c7fa75cd9e\">\n",
              "  <button class=\"colab-df-quickchart\" onclick=\"quickchart('df-0d9a71a5-6351-4754-a8e8-81c7fa75cd9e')\"\n",
              "            title=\"Suggest charts\"\n",
              "            style=\"display:none;\">\n",
              "\n",
              "<svg xmlns=\"http://www.w3.org/2000/svg\" height=\"24px\"viewBox=\"0 0 24 24\"\n",
              "     width=\"24px\">\n",
              "    <g>\n",
              "        <path d=\"M19 3H5c-1.1 0-2 .9-2 2v14c0 1.1.9 2 2 2h14c1.1 0 2-.9 2-2V5c0-1.1-.9-2-2-2zM9 17H7v-7h2v7zm4 0h-2V7h2v10zm4 0h-2v-4h2v4z\"/>\n",
              "    </g>\n",
              "</svg>\n",
              "  </button>\n",
              "\n",
              "<style>\n",
              "  .colab-df-quickchart {\n",
              "      --bg-color: #E8F0FE;\n",
              "      --fill-color: #1967D2;\n",
              "      --hover-bg-color: #E2EBFA;\n",
              "      --hover-fill-color: #174EA6;\n",
              "      --disabled-fill-color: #AAA;\n",
              "      --disabled-bg-color: #DDD;\n",
              "  }\n",
              "\n",
              "  [theme=dark] .colab-df-quickchart {\n",
              "      --bg-color: #3B4455;\n",
              "      --fill-color: #D2E3FC;\n",
              "      --hover-bg-color: #434B5C;\n",
              "      --hover-fill-color: #FFFFFF;\n",
              "      --disabled-bg-color: #3B4455;\n",
              "      --disabled-fill-color: #666;\n",
              "  }\n",
              "\n",
              "  .colab-df-quickchart {\n",
              "    background-color: var(--bg-color);\n",
              "    border: none;\n",
              "    border-radius: 50%;\n",
              "    cursor: pointer;\n",
              "    display: none;\n",
              "    fill: var(--fill-color);\n",
              "    height: 32px;\n",
              "    padding: 0;\n",
              "    width: 32px;\n",
              "  }\n",
              "\n",
              "  .colab-df-quickchart:hover {\n",
              "    background-color: var(--hover-bg-color);\n",
              "    box-shadow: 0 1px 2px rgba(60, 64, 67, 0.3), 0 1px 3px 1px rgba(60, 64, 67, 0.15);\n",
              "    fill: var(--button-hover-fill-color);\n",
              "  }\n",
              "\n",
              "  .colab-df-quickchart-complete:disabled,\n",
              "  .colab-df-quickchart-complete:disabled:hover {\n",
              "    background-color: var(--disabled-bg-color);\n",
              "    fill: var(--disabled-fill-color);\n",
              "    box-shadow: none;\n",
              "  }\n",
              "\n",
              "  .colab-df-spinner {\n",
              "    border: 2px solid var(--fill-color);\n",
              "    border-color: transparent;\n",
              "    border-bottom-color: var(--fill-color);\n",
              "    animation:\n",
              "      spin 1s steps(1) infinite;\n",
              "  }\n",
              "\n",
              "  @keyframes spin {\n",
              "    0% {\n",
              "      border-color: transparent;\n",
              "      border-bottom-color: var(--fill-color);\n",
              "      border-left-color: var(--fill-color);\n",
              "    }\n",
              "    20% {\n",
              "      border-color: transparent;\n",
              "      border-left-color: var(--fill-color);\n",
              "      border-top-color: var(--fill-color);\n",
              "    }\n",
              "    30% {\n",
              "      border-color: transparent;\n",
              "      border-left-color: var(--fill-color);\n",
              "      border-top-color: var(--fill-color);\n",
              "      border-right-color: var(--fill-color);\n",
              "    }\n",
              "    40% {\n",
              "      border-color: transparent;\n",
              "      border-right-color: var(--fill-color);\n",
              "      border-top-color: var(--fill-color);\n",
              "    }\n",
              "    60% {\n",
              "      border-color: transparent;\n",
              "      border-right-color: var(--fill-color);\n",
              "    }\n",
              "    80% {\n",
              "      border-color: transparent;\n",
              "      border-right-color: var(--fill-color);\n",
              "      border-bottom-color: var(--fill-color);\n",
              "    }\n",
              "    90% {\n",
              "      border-color: transparent;\n",
              "      border-bottom-color: var(--fill-color);\n",
              "    }\n",
              "  }\n",
              "</style>\n",
              "\n",
              "  <script>\n",
              "    async function quickchart(key) {\n",
              "      const quickchartButtonEl =\n",
              "        document.querySelector('#' + key + ' button');\n",
              "      quickchartButtonEl.disabled = true;  // To prevent multiple clicks.\n",
              "      quickchartButtonEl.classList.add('colab-df-spinner');\n",
              "      try {\n",
              "        const charts = await google.colab.kernel.invokeFunction(\n",
              "            'suggestCharts', [key], {});\n",
              "      } catch (error) {\n",
              "        console.error('Error during call to suggestCharts:', error);\n",
              "      }\n",
              "      quickchartButtonEl.classList.remove('colab-df-spinner');\n",
              "      quickchartButtonEl.classList.add('colab-df-quickchart-complete');\n",
              "    }\n",
              "    (() => {\n",
              "      let quickchartButtonEl =\n",
              "        document.querySelector('#df-0d9a71a5-6351-4754-a8e8-81c7fa75cd9e button');\n",
              "      quickchartButtonEl.style.display =\n",
              "        google.colab.kernel.accessAllowed ? 'block' : 'none';\n",
              "    })();\n",
              "  </script>\n",
              "</div>\n",
              "\n",
              "    </div>\n",
              "  </div>\n"
            ],
            "application/vnd.google.colaboratory.intrinsic+json": {
              "type": "dataframe",
              "variable_name": "df_test"
            }
          },
          "metadata": {},
          "execution_count": 97
        }
      ]
    },
    {
      "cell_type": "markdown",
      "metadata": {
        "id": "mes5Y5uiFxl1"
      },
      "source": [
        "## Encoder Based Clusters:"
      ]
    },
    {
      "cell_type": "code",
      "source": [
        "# df_train.groupby(\"p_num\")[\"bg+1:00\"].agg([\"count\"])"
      ],
      "metadata": {
        "id": "RmrNyPb1xMaa"
      },
      "execution_count": null,
      "outputs": []
    },
    {
      "cell_type": "code",
      "execution_count": null,
      "metadata": {
        "id": "ok0TQQUnFxbj",
        "colab": {
          "base_uri": "https://localhost:8080/"
        },
        "outputId": "d1b8fabf-c52d-46ed-97cc-5411925c0d52"
      },
      "outputs": [
        {
          "output_type": "execute_result",
          "data": {
            "text/plain": [
              "(2100934, 33)"
            ]
          },
          "metadata": {},
          "execution_count": 99
        }
      ],
      "source": [
        "cols_bg = ['bg0','bg1','bg2','bg3','bg4','bg5','bg6','bg7','bg8','bg9','bg10','bg11','bg12','bg13','bg14','bg15',\n",
        "           'bg16','bg17','bg18','bg19','bg20','bg21','bg22','bg23','bg24','bg25','bg26','bg27','bg28','bg29','bg30','bg31']\n",
        "\n",
        "X_enc = df_train[[\"p_num\"]+cols_bg]\n",
        "y_enc = df_train[\"bg+1:00\"]\n",
        "X_enc_test = df_test[cols_bg]\n",
        "X_enc.shape"
      ]
    },
    {
      "cell_type": "code",
      "execution_count": null,
      "metadata": {
        "id": "e_jMg4_Fa-mI",
        "colab": {
          "base_uri": "https://localhost:8080/"
        },
        "outputId": "e72222d4-fc80-4564-86b3-9af8a9119431"
      },
      "outputs": [
        {
          "output_type": "execute_result",
          "data": {
            "text/plain": [
              "(0, 0)"
            ]
          },
          "metadata": {},
          "execution_count": 100
        }
      ],
      "source": [
        "X_enc.isnull().sum().sum(), y_enc.isna().sum()\n",
        "#y_enc[:10]"
      ]
    },
    {
      "cell_type": "code",
      "source": [
        "X_enc.shape"
      ],
      "metadata": {
        "colab": {
          "base_uri": "https://localhost:8080/"
        },
        "id": "kvOmz0llRfok",
        "outputId": "abcc89fb-51dc-40bd-f45b-49f06fc658d1"
      },
      "execution_count": null,
      "outputs": [
        {
          "output_type": "execute_result",
          "data": {
            "text/plain": [
              "(2100934, 33)"
            ]
          },
          "metadata": {},
          "execution_count": 101
        }
      ]
    },
    {
      "cell_type": "code",
      "source": [
        "X_enc_train, X_enc_valid, y_enc_train, y_enc_valid = train_test_split(X_enc, y_enc, test_size=0.2, random_state=42, stratify=X_enc[\"p_num\"])"
      ],
      "metadata": {
        "id": "7jXsf8qbx80R"
      },
      "execution_count": null,
      "outputs": []
    },
    {
      "cell_type": "code",
      "execution_count": null,
      "metadata": {
        "id": "nkOTsUklcs_t",
        "colab": {
          "base_uri": "https://localhost:8080/"
        },
        "outputId": "9c8956a0-b0b6-47de-f734-64c6c22513c8"
      },
      "outputs": [
        {
          "output_type": "execute_result",
          "data": {
            "text/plain": [
              "((1680747, 32), (420187, 32), (2100934, 32), (1680747,), (420187,), (2100934,))"
            ]
          },
          "metadata": {},
          "execution_count": 103
        }
      ],
      "source": [
        "# p1_val = list(X_enc[(X_enc[\"p_num\"]==\"p01\")&(X_enc[\"obv_n\"]>=150_000)].index)\n",
        "# p2_val = list(X_enc[(X_enc[\"p_num\"]==\"p02\")&(X_enc[\"obv_n\"]>=300_000)].index)\n",
        "# p3_val = list(X_enc[(X_enc[\"p_num\"]==\"p03\")&(X_enc[\"obv_n\"]>=40_000)].index)\n",
        "# p4_val = list(X_enc[(X_enc[\"p_num\"]==\"p04\")&(X_enc[\"obv_n\"]>=245_000)].index)\n",
        "# p5_val = list(X_enc[(X_enc[\"p_num\"]==\"p05\")&(X_enc[\"obv_n\"]>=160_000)].index)\n",
        "# p6_val = list(X_enc[(X_enc[\"p_num\"]==\"p06\")&(X_enc[\"obv_n\"]>=105_000)].index)\n",
        "# p10_val = list(X_enc[(X_enc[\"p_num\"]==\"p10\")&(X_enc[\"obv_n\"]>=237_000)].index)\n",
        "# p11_val = list(X_enc[(X_enc[\"p_num\"]==\"p11\")&(X_enc[\"obv_n\"]>=22000)].index)\n",
        "# p12_val = list(X_enc[(X_enc[\"p_num\"]==\"p12\")&(X_enc[\"obv_n\"]>=22500)].index)\n",
        "\n",
        "# matrix_val = p1_val+p2_val+p3_val+p4_val+p5_val+p6_val+p10_val+p11_val+p12_val\n",
        "# len(matrix_val)/X_enc.shape[0]\n",
        "\n",
        "# X_enc_train = X_enc.drop(matrix_val)\n",
        "# X_enc_valid = X_enc.loc[matrix_val]\n",
        "\n",
        "# y_enc_train = y_enc.drop(matrix_val)\n",
        "# y_enc_valid = y_enc.loc[matrix_val]\n",
        "\n",
        "X_enc_train.drop([\"p_num\"], axis=1, inplace=True)\n",
        "X_enc_valid.drop([\"p_num\"], axis=1, inplace=True)\n",
        "X_enc.drop([\"p_num\"], axis=1, inplace=True)\n",
        "\n",
        "X_enc_train.shape, X_enc_valid.shape, X_enc.shape, y_enc_train.shape, y_enc_valid.shape, y_enc.shape"
      ]
    },
    {
      "cell_type": "code",
      "execution_count": null,
      "metadata": {
        "id": "eKNtfyd3FxYa"
      },
      "outputs": [],
      "source": [
        "# Assuming your data is in a NumPy array called 'data'\n",
        "train = X_enc_train.values.reshape((-1, 32, 1))  # Reshape for LSTM\n",
        "valid = X_enc_valid.values.reshape((-1, 32, 1))\n",
        "X_enc = X_enc.values.reshape((-1, 32, 1))\n",
        "X_enc_test = X_enc_test.values.reshape((-1, 32, 1))\n",
        "\n",
        "y_enc_train = y_enc_train.values.reshape((-1, 1))\n",
        "y_enc_valid = y_enc_valid.values.reshape((-1, 1))"
      ]
    },
    {
      "cell_type": "code",
      "source": [
        "X_enc_train.shape"
      ],
      "metadata": {
        "colab": {
          "base_uri": "https://localhost:8080/"
        },
        "id": "HJlAwEkIRNwW",
        "outputId": "ab02c192-5466-4a3c-9520-d9d732d7ca80"
      },
      "execution_count": null,
      "outputs": [
        {
          "output_type": "execute_result",
          "data": {
            "text/plain": [
              "(1680747, 32)"
            ]
          },
          "metadata": {},
          "execution_count": 105
        }
      ]
    },
    {
      "cell_type": "markdown",
      "metadata": {
        "id": "DZCJC3LdqGx1"
      },
      "source": [
        "#### MODEL 1"
      ]
    },
    {
      "cell_type": "code",
      "execution_count": null,
      "metadata": {
        "id": "RRTEZfmvFxVh"
      },
      "outputs": [],
      "source": [
        "def model_autoencoder_v1():\n",
        "  input_dim = 32\n",
        "  latent_vec_dim = 2\n",
        "\n",
        "  # 2. Build the autoencoder model\n",
        "  input_ts = keras.Input(shape=(input_dim, 1))\n",
        "\n",
        "  # Encoder\n",
        "#  x = layers.LSTM(64, activation='relu', return_sequences=True)(input_ts)\n",
        "  x = layers.LSTM(32, return_sequences=True)(input_ts) #(x)\n",
        "  x = layers.LSTM(16)(x)\n",
        "  encoded = layers.Dense(latent_vec_dim, activation='linear', kernel_regularizer = tf.keras.regularizers.L2(l2=0.1))(x)\n",
        "\n",
        "  output_1 = Dense(1, activation='linear', name=\"Reg_Output\")(encoded)\n",
        "\n",
        "  #encoder = encoded\n",
        "\n",
        "  # Decoder\n",
        "  x = layers.RepeatVector(input_dim)(encoded)\n",
        "  x = layers.LSTM(16, return_sequences=True)(x)\n",
        "  x = layers.LSTM(32, return_sequences=True)(x) #, return_sequences=True\n",
        "#  x = layers.LSTM(64, activation='relu', return_sequences=True)(x)\n",
        "\n",
        "  decoded = layers.Dense(1, name=\"decoded\")(x)\n",
        "\n",
        "  # Connect both encoder and decoder\n",
        "  autoencoder_mult = Model(inputs = input_ts, outputs = [decoded, output_1], name=\"Deep_Autoencoder\")\n",
        "\n",
        "  # Latent representation (Optional)\n",
        "  latent_model = Model(input_ts, encoded)\n",
        "\n",
        "  return autoencoder_mult, latent_model"
      ]
    },
    {
      "cell_type": "code",
      "execution_count": null,
      "metadata": {
        "id": "Ez2wJKV0FxSq"
      },
      "outputs": [],
      "source": [
        "autoencoder_prellin_v1, latent_model_prellin_v1 = model_autoencoder_v1()\n",
        "\n",
        "# Get summary\n",
        "autoencoder_prellin_v1.summary()"
      ]
    },
    {
      "cell_type": "code",
      "execution_count": null,
      "metadata": {
        "id": "xX3l91GUYQJe"
      },
      "outputs": [],
      "source": [
        "lr = keras.callbacks.ReduceLROnPlateau(monitor=\"val_Reg_Output_rmse\",\n",
        "                        factor=0.75,\n",
        "                        patience=10,\n",
        "                        verbose=1,\n",
        "                        mode=\"min\")\n",
        "\n",
        "early_stop = keras.callbacks.EarlyStopping(monitor=\"val_Reg_Output_rmse\",\n",
        "                            patience=25,\n",
        "                            verbose=1,\n",
        "                            mode=\"min\",\n",
        "                            restore_best_weights=True)\n",
        "\n",
        "##################################################################### Relevant Folders\n",
        "folders_experiment = f\"/content/drive/MyDrive/Exercises/Studies_Structured_Data/Models/Glucose/encoder_01_ext/\"\n",
        "##################################################################### Generate and Fit Model\n",
        "# Callbacks:\n",
        "checkpoint_filepath = folders_experiment + f'checkpoint/best_weights_v1.weights.h5'\n",
        "\n",
        "Checkpoint = keras.callbacks.ModelCheckpoint(filepath=checkpoint_filepath,\n",
        "                                                 save_weights_only=True,\n",
        "                                                 monitor=\"val_Reg_Output_rmse\",\n",
        "                                                 mode='min')"
      ]
    },
    {
      "cell_type": "code",
      "execution_count": null,
      "metadata": {
        "id": "JBTA0A4XFxPa"
      },
      "outputs": [],
      "source": [
        "# Compile the autoencoder model\n",
        "optimizer = keras.optimizers.Adam(learning_rate=0.0005)\n",
        "loss_0 = 'mse'\n",
        "loss_1 = 'mse'\n",
        "\n",
        "autoencoder_prellin_v1.compile(loss=[loss_0, loss_1], loss_weights=[0.7,0.30], optimizer=optimizer, metrics={'decoded': 'mse','Reg_Output': RootMeanSquaredError(name=\"rmse\")})\n",
        "\n",
        "# Train the autoencoder with MNIST data\n",
        "history_prellin_v1 = autoencoder_prellin_v1.fit(train, [train, y_enc_train], epochs=120, batch_size=512, callbacks = [early_stop, Checkpoint, lr],\n",
        "                                                 shuffle=True, validation_data=(valid, [valid, y_enc_valid]))\n",
        "\n",
        "autoencoder_prellin_v1.load_weights(checkpoint_filepath)"
      ]
    },
    {
      "cell_type": "code",
      "source": [
        "autoencoder_prellin_v1.load_weights(checkpoint_filepath)"
      ],
      "metadata": {
        "id": "kEypQTnUl2Uk"
      },
      "execution_count": null,
      "outputs": []
    },
    {
      "cell_type": "code",
      "execution_count": null,
      "metadata": {
        "id": "vMyfbFcAFxMJ"
      },
      "outputs": [],
      "source": [
        "# Plot training and validation loss scores\n",
        "# against the number of epochs.\n",
        "plt.figure(figsize=(5, 3))\n",
        "plt.plot(history_prellin_v1.history['Reg_Output_rmse'], label='Train')\n",
        "plt.plot(history_prellin_v1.history['val_Reg_Output_rmse'], label='Validation')\n",
        "plt.ylabel('MSE')\n",
        "plt.xlabel('Epoch')\n",
        "plt.title('Autoencoder Reconstruction Loss', pad=13)\n",
        "plt.legend(loc='upper right')"
      ]
    },
    {
      "cell_type": "code",
      "source": [
        "history_prellin_v1.history.keys()"
      ],
      "metadata": {
        "colab": {
          "base_uri": "https://localhost:8080/"
        },
        "id": "qRaCa6PYgyTA",
        "outputId": "70189574-bb58-4d2c-aff8-dc6364141dd7"
      },
      "execution_count": null,
      "outputs": [
        {
          "output_type": "execute_result",
          "data": {
            "text/plain": [
              "dict_keys(['Reg_Output_loss', 'Reg_Output_rmse', 'decoded_loss', 'decoded_mse', 'loss', 'val_Reg_Output_loss', 'val_Reg_Output_rmse', 'val_decoded_loss', 'val_decoded_mse', 'val_loss', 'learning_rate'])"
            ]
          },
          "metadata": {},
          "execution_count": 119
        }
      ]
    },
    {
      "cell_type": "code",
      "execution_count": null,
      "metadata": {
        "id": "zbBmVpTeFxJB",
        "colab": {
          "base_uri": "https://localhost:8080/"
        },
        "outputId": "f8496557-c0e6-40ae-e32c-ec52ea9faa0f"
      },
      "outputs": [
        {
          "output_type": "stream",
          "name": "stdout",
          "text": [
            "\u001b[1m821/821\u001b[0m \u001b[32m━━━━━━━━━━━━━━━━━━━━\u001b[0m\u001b[37m\u001b[0m \u001b[1m2s\u001b[0m 3ms/step\n",
            "\u001b[1m3283/3283\u001b[0m \u001b[32m━━━━━━━━━━━━━━━━━━━━\u001b[0m\u001b[37m\u001b[0m \u001b[1m8s\u001b[0m 2ms/step\n"
          ]
        }
      ],
      "source": [
        "latent_representation_v1 = latent_model_prellin_v1.predict(valid, batch_size=512)\n",
        "latent_representation_train_v1 = latent_model_prellin_v1.predict(train, batch_size=512)"
      ]
    },
    {
      "cell_type": "code",
      "execution_count": null,
      "metadata": {
        "id": "r2pHGVGxFxFi"
      },
      "outputs": [],
      "source": [
        "fig, axs = plt.subplots(1,2,figsize=(6, 3))\n",
        "\n",
        "sns.scatterplot(x=latent_representation_v1[:,0],\n",
        "                y=latent_representation_v1[:,1],\n",
        "                c=y_enc_valid,\n",
        "                palette='tab10',\n",
        "                ax=axs[0])\n",
        "\n",
        "sns.scatterplot(x=latent_representation_train_v1[:,0],\n",
        "                y=latent_representation_train_v1[:,1],\n",
        "                c=y_enc_train,\n",
        "                palette='tab10',\n",
        "                ax=axs[1]\n",
        "                )\n",
        "\n",
        "axs[0].set_xlabel(\"Encoder first dimension\")\n",
        "axs[0].set_ylabel(\"Encoder second dimension\")\n",
        "\n",
        "axs[1].set_xlabel(\"Encoder first dimension\")\n",
        "axs[1].set_ylabel(\"Encoder second dimension\")\n",
        "\n",
        "axs[0].grid(linestyle='--', alpha=0.5)\n",
        "\n",
        "plt.tight_layout()\n",
        "plt.show()"
      ]
    },
    {
      "cell_type": "code",
      "execution_count": null,
      "metadata": {
        "id": "vWqa2agtzKPK",
        "colab": {
          "base_uri": "https://localhost:8080/"
        },
        "outputId": "59215060-9403-44b7-a414-3ab9d2d4b6d7"
      },
      "outputs": [
        {
          "output_type": "stream",
          "name": "stdout",
          "text": [
            "\u001b[1m65655/65655\u001b[0m \u001b[32m━━━━━━━━━━━━━━━━━━━━\u001b[0m\u001b[37m\u001b[0m \u001b[1m152s\u001b[0m 2ms/step\n",
            "\u001b[1m114/114\u001b[0m \u001b[32m━━━━━━━━━━━━━━━━━━━━\u001b[0m\u001b[37m\u001b[0m \u001b[1m0s\u001b[0m 2ms/step\n"
          ]
        }
      ],
      "source": [
        "latent_representation_v1_final = latent_model_prellin_v1.predict(X_enc)\n",
        "latent_representation_v1_final_test = latent_model_prellin_v1.predict(X_enc_test)"
      ]
    },
    {
      "cell_type": "code",
      "execution_count": null,
      "metadata": {
        "id": "7qD9kuSxzKPL",
        "colab": {
          "base_uri": "https://localhost:8080/"
        },
        "outputId": "18f7a0c3-db61-4a63-fe74-a1e91eb127b6"
      },
      "outputs": [
        {
          "output_type": "execute_result",
          "data": {
            "text/plain": [
              "(2100934, 32, 1)"
            ]
          },
          "metadata": {},
          "execution_count": 124
        }
      ],
      "source": [
        "X_enc.shape"
      ]
    },
    {
      "cell_type": "code",
      "execution_count": null,
      "metadata": {
        "id": "nlMTR503zKPL"
      },
      "outputs": [],
      "source": [
        "#latent_representation_v2_final"
      ]
    },
    {
      "cell_type": "code",
      "execution_count": null,
      "metadata": {
        "id": "Ii4jfw-CzKPL"
      },
      "outputs": [],
      "source": [
        "model_version=1\n",
        "for i in range(latent_representation_v1_final.shape[1]):\n",
        "  df_train[\"enc_0{}_v{}\".format(i, model_version)] = latent_representation_v1_final[:,i]\n",
        "  df_test[\"enc_0{}_v{}\".format(i, model_version)] = latent_representation_v1_final_test[:,i]"
      ]
    },
    {
      "cell_type": "code",
      "execution_count": null,
      "metadata": {
        "id": "V1c3WMu7zKPM",
        "colab": {
          "base_uri": "https://localhost:8080/"
        },
        "outputId": "089611d1-5fe8-4a0c-ff37-6a2386c70b43"
      },
      "outputs": [
        {
          "output_type": "execute_result",
          "data": {
            "text/plain": [
              "(0, 3644, (2100934, 297), (3644, 297))"
            ]
          },
          "metadata": {},
          "execution_count": 129
        }
      ],
      "source": [
        "df_train.isnull().sum().sum(), df_test.isnull().sum().sum(), df_train.shape, df_test.shape"
      ]
    },
    {
      "cell_type": "markdown",
      "metadata": {
        "id": "x8RZiPVBy-t-"
      },
      "source": [
        "##### STORE ENCODED FEATURES from Model 1:"
      ]
    },
    {
      "cell_type": "code",
      "source": [
        "df_train.sample()"
      ],
      "metadata": {
        "colab": {
          "base_uri": "https://localhost:8080/",
          "height": 130
        },
        "id": "S-dk-Z3HjPB-",
        "outputId": "9fd566f5-4ce0-40c8-8284-54628d2a7114"
      },
      "execution_count": null,
      "outputs": [
        {
          "output_type": "execute_result",
          "data": {
            "text/plain": [
              "        p_num  steps_av0  steps_av1  steps_av2  steps_av3  steps_av4  \\\n",
              "1333625   p06   2.639057   2.673554   3.028259   3.187085    3.28238   \n",
              "\n",
              "         steps_av5  steps_av6  steps_av7  steps_av8  steps_av9  steps_av10  \\\n",
              "1333625   3.341581   3.434067   3.486077    3.46898   3.426534    3.456959   \n",
              "\n",
              "         steps_av11  steps_av12  steps_av13  steps_av14  steps_av15  \\\n",
              "1333625    3.508674    3.516539    3.560153    3.568734    3.609408   \n",
              "\n",
              "         steps_av16  steps_av17  steps_av18  steps_av19  steps_av20  \\\n",
              "1333625    3.612593    3.539815    3.455925    3.380425    3.368761   \n",
              "\n",
              "         steps_av21  steps_av22  steps_av23  steps_av24  steps_av25  \\\n",
              "1333625    3.408749    3.441364     3.46926    3.479032     3.50518   \n",
              "\n",
              "         steps_av26  steps_av27  steps_av28  steps_av29  steps_av30  \\\n",
              "1333625    3.523779    3.554874    3.573477    3.582699    3.592005   \n",
              "\n",
              "         steps_av31  insulin_av0  insulin_av1  insulin_av2  insulin_av3  \\\n",
              "1333625    3.612071     0.083881     0.083881     0.083881     0.083881   \n",
              "\n",
              "         insulin_av4  insulin_av5  insulin_av6  insulin_av7  insulin_av8  \\\n",
              "1333625     0.083881     0.083881     0.083881     0.083881     0.083881   \n",
              "\n",
              "         insulin_av9  insulin_av10  insulin_av11  insulin_av12  insulin_av13  \\\n",
              "1333625     0.083881      0.083881      0.083881      0.083881      0.083881   \n",
              "\n",
              "         insulin_av14  insulin_av15  insulin_av16  ...      hr22      hr23  \\\n",
              "1333625      0.083881      0.083881      0.083654  ...  4.189655  4.212128   \n",
              "\n",
              "             hr24      hr25      hr26      hr27      hr28      hr29     hr30  \\\n",
              "1333625  4.216562  4.212128  4.189655  4.210645  4.201703  4.172848  4.18205   \n",
              "\n",
              "             hr31   intake0   intake1   intake2   intake3   intake4   intake5  \\\n",
              "1333625  4.143135 -4.256869 -4.304105 -4.384514 -4.452902 -4.479996 -4.519351   \n",
              "\n",
              "          intake6   intake7  intake8   intake9  intake10  intake11  intake12  \\\n",
              "1333625 -4.558193 -4.585576 -4.55099 -4.475124 -4.399719 -4.314844 -4.258852   \n",
              "\n",
              "         intake13  intake14  intake15  intake16  intake17  intake18  intake19  \\\n",
              "1333625  -4.18899  -4.17202 -4.181237 -4.198787 -4.198341 -4.221898 -4.245154   \n",
              "\n",
              "         intake20  intake21  intake22  intake23  intake24  intake25  intake26  \\\n",
              "1333625 -4.240522 -4.198924 -4.188255 -4.200894 -4.167992  -4.16821  -4.13768   \n",
              "\n",
              "         intake27  intake28  intake29  intake30  intake31   bg+1:00  cluster  \\\n",
              "1333625  -4.14994 -4.116514 -4.052606 -3.997892 -3.921671 -0.079358        3   \n",
              "\n",
              "             PC_1      PC_2      PC_3      PC_4  enc_00_v1  enc_01_v1  \n",
              "1333625 -2.380222  0.758769 -5.305923  3.760388   0.371564   0.043919  \n",
              "\n",
              "[1 rows x 297 columns]"
            ],
            "text/html": [
              "\n",
              "  <div id=\"df-2c2930e8-784a-4b76-bc4e-61e46677e30d\" class=\"colab-df-container\">\n",
              "    <div>\n",
              "<style scoped>\n",
              "    .dataframe tbody tr th:only-of-type {\n",
              "        vertical-align: middle;\n",
              "    }\n",
              "\n",
              "    .dataframe tbody tr th {\n",
              "        vertical-align: top;\n",
              "    }\n",
              "\n",
              "    .dataframe thead th {\n",
              "        text-align: right;\n",
              "    }\n",
              "</style>\n",
              "<table border=\"1\" class=\"dataframe\">\n",
              "  <thead>\n",
              "    <tr style=\"text-align: right;\">\n",
              "      <th></th>\n",
              "      <th>p_num</th>\n",
              "      <th>steps_av0</th>\n",
              "      <th>steps_av1</th>\n",
              "      <th>steps_av2</th>\n",
              "      <th>steps_av3</th>\n",
              "      <th>steps_av4</th>\n",
              "      <th>steps_av5</th>\n",
              "      <th>steps_av6</th>\n",
              "      <th>steps_av7</th>\n",
              "      <th>steps_av8</th>\n",
              "      <th>steps_av9</th>\n",
              "      <th>steps_av10</th>\n",
              "      <th>steps_av11</th>\n",
              "      <th>steps_av12</th>\n",
              "      <th>steps_av13</th>\n",
              "      <th>steps_av14</th>\n",
              "      <th>steps_av15</th>\n",
              "      <th>steps_av16</th>\n",
              "      <th>steps_av17</th>\n",
              "      <th>steps_av18</th>\n",
              "      <th>steps_av19</th>\n",
              "      <th>steps_av20</th>\n",
              "      <th>steps_av21</th>\n",
              "      <th>steps_av22</th>\n",
              "      <th>steps_av23</th>\n",
              "      <th>steps_av24</th>\n",
              "      <th>steps_av25</th>\n",
              "      <th>steps_av26</th>\n",
              "      <th>steps_av27</th>\n",
              "      <th>steps_av28</th>\n",
              "      <th>steps_av29</th>\n",
              "      <th>steps_av30</th>\n",
              "      <th>steps_av31</th>\n",
              "      <th>insulin_av0</th>\n",
              "      <th>insulin_av1</th>\n",
              "      <th>insulin_av2</th>\n",
              "      <th>insulin_av3</th>\n",
              "      <th>insulin_av4</th>\n",
              "      <th>insulin_av5</th>\n",
              "      <th>insulin_av6</th>\n",
              "      <th>insulin_av7</th>\n",
              "      <th>insulin_av8</th>\n",
              "      <th>insulin_av9</th>\n",
              "      <th>insulin_av10</th>\n",
              "      <th>insulin_av11</th>\n",
              "      <th>insulin_av12</th>\n",
              "      <th>insulin_av13</th>\n",
              "      <th>insulin_av14</th>\n",
              "      <th>insulin_av15</th>\n",
              "      <th>insulin_av16</th>\n",
              "      <th>...</th>\n",
              "      <th>hr22</th>\n",
              "      <th>hr23</th>\n",
              "      <th>hr24</th>\n",
              "      <th>hr25</th>\n",
              "      <th>hr26</th>\n",
              "      <th>hr27</th>\n",
              "      <th>hr28</th>\n",
              "      <th>hr29</th>\n",
              "      <th>hr30</th>\n",
              "      <th>hr31</th>\n",
              "      <th>intake0</th>\n",
              "      <th>intake1</th>\n",
              "      <th>intake2</th>\n",
              "      <th>intake3</th>\n",
              "      <th>intake4</th>\n",
              "      <th>intake5</th>\n",
              "      <th>intake6</th>\n",
              "      <th>intake7</th>\n",
              "      <th>intake8</th>\n",
              "      <th>intake9</th>\n",
              "      <th>intake10</th>\n",
              "      <th>intake11</th>\n",
              "      <th>intake12</th>\n",
              "      <th>intake13</th>\n",
              "      <th>intake14</th>\n",
              "      <th>intake15</th>\n",
              "      <th>intake16</th>\n",
              "      <th>intake17</th>\n",
              "      <th>intake18</th>\n",
              "      <th>intake19</th>\n",
              "      <th>intake20</th>\n",
              "      <th>intake21</th>\n",
              "      <th>intake22</th>\n",
              "      <th>intake23</th>\n",
              "      <th>intake24</th>\n",
              "      <th>intake25</th>\n",
              "      <th>intake26</th>\n",
              "      <th>intake27</th>\n",
              "      <th>intake28</th>\n",
              "      <th>intake29</th>\n",
              "      <th>intake30</th>\n",
              "      <th>intake31</th>\n",
              "      <th>bg+1:00</th>\n",
              "      <th>cluster</th>\n",
              "      <th>PC_1</th>\n",
              "      <th>PC_2</th>\n",
              "      <th>PC_3</th>\n",
              "      <th>PC_4</th>\n",
              "      <th>enc_00_v1</th>\n",
              "      <th>enc_01_v1</th>\n",
              "    </tr>\n",
              "  </thead>\n",
              "  <tbody>\n",
              "    <tr>\n",
              "      <th>1333625</th>\n",
              "      <td>p06</td>\n",
              "      <td>2.639057</td>\n",
              "      <td>2.673554</td>\n",
              "      <td>3.028259</td>\n",
              "      <td>3.187085</td>\n",
              "      <td>3.28238</td>\n",
              "      <td>3.341581</td>\n",
              "      <td>3.434067</td>\n",
              "      <td>3.486077</td>\n",
              "      <td>3.46898</td>\n",
              "      <td>3.426534</td>\n",
              "      <td>3.456959</td>\n",
              "      <td>3.508674</td>\n",
              "      <td>3.516539</td>\n",
              "      <td>3.560153</td>\n",
              "      <td>3.568734</td>\n",
              "      <td>3.609408</td>\n",
              "      <td>3.612593</td>\n",
              "      <td>3.539815</td>\n",
              "      <td>3.455925</td>\n",
              "      <td>3.380425</td>\n",
              "      <td>3.368761</td>\n",
              "      <td>3.408749</td>\n",
              "      <td>3.441364</td>\n",
              "      <td>3.46926</td>\n",
              "      <td>3.479032</td>\n",
              "      <td>3.50518</td>\n",
              "      <td>3.523779</td>\n",
              "      <td>3.554874</td>\n",
              "      <td>3.573477</td>\n",
              "      <td>3.582699</td>\n",
              "      <td>3.592005</td>\n",
              "      <td>3.612071</td>\n",
              "      <td>0.083881</td>\n",
              "      <td>0.083881</td>\n",
              "      <td>0.083881</td>\n",
              "      <td>0.083881</td>\n",
              "      <td>0.083881</td>\n",
              "      <td>0.083881</td>\n",
              "      <td>0.083881</td>\n",
              "      <td>0.083881</td>\n",
              "      <td>0.083881</td>\n",
              "      <td>0.083881</td>\n",
              "      <td>0.083881</td>\n",
              "      <td>0.083881</td>\n",
              "      <td>0.083881</td>\n",
              "      <td>0.083881</td>\n",
              "      <td>0.083881</td>\n",
              "      <td>0.083881</td>\n",
              "      <td>0.083654</td>\n",
              "      <td>...</td>\n",
              "      <td>4.189655</td>\n",
              "      <td>4.212128</td>\n",
              "      <td>4.216562</td>\n",
              "      <td>4.212128</td>\n",
              "      <td>4.189655</td>\n",
              "      <td>4.210645</td>\n",
              "      <td>4.201703</td>\n",
              "      <td>4.172848</td>\n",
              "      <td>4.18205</td>\n",
              "      <td>4.143135</td>\n",
              "      <td>-4.256869</td>\n",
              "      <td>-4.304105</td>\n",
              "      <td>-4.384514</td>\n",
              "      <td>-4.452902</td>\n",
              "      <td>-4.479996</td>\n",
              "      <td>-4.519351</td>\n",
              "      <td>-4.558193</td>\n",
              "      <td>-4.585576</td>\n",
              "      <td>-4.55099</td>\n",
              "      <td>-4.475124</td>\n",
              "      <td>-4.399719</td>\n",
              "      <td>-4.314844</td>\n",
              "      <td>-4.258852</td>\n",
              "      <td>-4.18899</td>\n",
              "      <td>-4.17202</td>\n",
              "      <td>-4.181237</td>\n",
              "      <td>-4.198787</td>\n",
              "      <td>-4.198341</td>\n",
              "      <td>-4.221898</td>\n",
              "      <td>-4.245154</td>\n",
              "      <td>-4.240522</td>\n",
              "      <td>-4.198924</td>\n",
              "      <td>-4.188255</td>\n",
              "      <td>-4.200894</td>\n",
              "      <td>-4.167992</td>\n",
              "      <td>-4.16821</td>\n",
              "      <td>-4.13768</td>\n",
              "      <td>-4.14994</td>\n",
              "      <td>-4.116514</td>\n",
              "      <td>-4.052606</td>\n",
              "      <td>-3.997892</td>\n",
              "      <td>-3.921671</td>\n",
              "      <td>-0.079358</td>\n",
              "      <td>3</td>\n",
              "      <td>-2.380222</td>\n",
              "      <td>0.758769</td>\n",
              "      <td>-5.305923</td>\n",
              "      <td>3.760388</td>\n",
              "      <td>0.371564</td>\n",
              "      <td>0.043919</td>\n",
              "    </tr>\n",
              "  </tbody>\n",
              "</table>\n",
              "<p>1 rows × 297 columns</p>\n",
              "</div>\n",
              "    <div class=\"colab-df-buttons\">\n",
              "\n",
              "  <div class=\"colab-df-container\">\n",
              "    <button class=\"colab-df-convert\" onclick=\"convertToInteractive('df-2c2930e8-784a-4b76-bc4e-61e46677e30d')\"\n",
              "            title=\"Convert this dataframe to an interactive table.\"\n",
              "            style=\"display:none;\">\n",
              "\n",
              "  <svg xmlns=\"http://www.w3.org/2000/svg\" height=\"24px\" viewBox=\"0 -960 960 960\">\n",
              "    <path d=\"M120-120v-720h720v720H120Zm60-500h600v-160H180v160Zm220 220h160v-160H400v160Zm0 220h160v-160H400v160ZM180-400h160v-160H180v160Zm440 0h160v-160H620v160ZM180-180h160v-160H180v160Zm440 0h160v-160H620v160Z\"/>\n",
              "  </svg>\n",
              "    </button>\n",
              "\n",
              "  <style>\n",
              "    .colab-df-container {\n",
              "      display:flex;\n",
              "      gap: 12px;\n",
              "    }\n",
              "\n",
              "    .colab-df-convert {\n",
              "      background-color: #E8F0FE;\n",
              "      border: none;\n",
              "      border-radius: 50%;\n",
              "      cursor: pointer;\n",
              "      display: none;\n",
              "      fill: #1967D2;\n",
              "      height: 32px;\n",
              "      padding: 0 0 0 0;\n",
              "      width: 32px;\n",
              "    }\n",
              "\n",
              "    .colab-df-convert:hover {\n",
              "      background-color: #E2EBFA;\n",
              "      box-shadow: 0px 1px 2px rgba(60, 64, 67, 0.3), 0px 1px 3px 1px rgba(60, 64, 67, 0.15);\n",
              "      fill: #174EA6;\n",
              "    }\n",
              "\n",
              "    .colab-df-buttons div {\n",
              "      margin-bottom: 4px;\n",
              "    }\n",
              "\n",
              "    [theme=dark] .colab-df-convert {\n",
              "      background-color: #3B4455;\n",
              "      fill: #D2E3FC;\n",
              "    }\n",
              "\n",
              "    [theme=dark] .colab-df-convert:hover {\n",
              "      background-color: #434B5C;\n",
              "      box-shadow: 0px 1px 3px 1px rgba(0, 0, 0, 0.15);\n",
              "      filter: drop-shadow(0px 1px 2px rgba(0, 0, 0, 0.3));\n",
              "      fill: #FFFFFF;\n",
              "    }\n",
              "  </style>\n",
              "\n",
              "    <script>\n",
              "      const buttonEl =\n",
              "        document.querySelector('#df-2c2930e8-784a-4b76-bc4e-61e46677e30d button.colab-df-convert');\n",
              "      buttonEl.style.display =\n",
              "        google.colab.kernel.accessAllowed ? 'block' : 'none';\n",
              "\n",
              "      async function convertToInteractive(key) {\n",
              "        const element = document.querySelector('#df-2c2930e8-784a-4b76-bc4e-61e46677e30d');\n",
              "        const dataTable =\n",
              "          await google.colab.kernel.invokeFunction('convertToInteractive',\n",
              "                                                    [key], {});\n",
              "        if (!dataTable) return;\n",
              "\n",
              "        const docLinkHtml = 'Like what you see? Visit the ' +\n",
              "          '<a target=\"_blank\" href=https://colab.research.google.com/notebooks/data_table.ipynb>data table notebook</a>'\n",
              "          + ' to learn more about interactive tables.';\n",
              "        element.innerHTML = '';\n",
              "        dataTable['output_type'] = 'display_data';\n",
              "        await google.colab.output.renderOutput(dataTable, element);\n",
              "        const docLink = document.createElement('div');\n",
              "        docLink.innerHTML = docLinkHtml;\n",
              "        element.appendChild(docLink);\n",
              "      }\n",
              "    </script>\n",
              "  </div>\n",
              "\n",
              "\n",
              "    </div>\n",
              "  </div>\n"
            ],
            "application/vnd.google.colaboratory.intrinsic+json": {
              "type": "dataframe"
            }
          },
          "metadata": {},
          "execution_count": 130
        }
      ]
    },
    {
      "cell_type": "code",
      "source": [
        "df_test.sample()"
      ],
      "metadata": {
        "colab": {
          "base_uri": "https://localhost:8080/",
          "height": 162
        },
        "id": "kNB81xiPjSP3",
        "outputId": "1a387b4c-c215-4b55-9778-df69fcf13317"
      },
      "execution_count": null,
      "outputs": [
        {
          "output_type": "execute_result",
          "data": {
            "text/plain": [
              "          p_num  steps_av0  steps_av1  steps_av2  steps_av3  steps_av4  \\\n",
              "id                                                                       \n",
              "p11_24694   p11   4.644391   4.439249   4.772192   4.975956   4.815642   \n",
              "\n",
              "           steps_av5  steps_av6  steps_av7  steps_av8  steps_av9  steps_av10  \\\n",
              "id                                                                             \n",
              "p11_24694   4.585367   4.597861   4.616245   4.615015   4.625363    4.517056   \n",
              "\n",
              "           steps_av11  steps_av12  steps_av13  steps_av14  steps_av15  \\\n",
              "id                                                                      \n",
              "p11_24694    4.332517    4.346235    4.350556    4.392759    4.431376   \n",
              "\n",
              "           steps_av16  steps_av17  steps_av18  steps_av19  steps_av20  \\\n",
              "id                                                                      \n",
              "p11_24694    4.441599    4.509838    4.501099    4.423266    4.453408   \n",
              "\n",
              "           steps_av21  steps_av22  steps_av23  steps_av24  steps_av25  \\\n",
              "id                                                                      \n",
              "p11_24694    4.438577    4.451517    4.470731    4.470995    4.486834   \n",
              "\n",
              "           steps_av26  steps_av27  steps_av28  steps_av29  steps_av30  \\\n",
              "id                                                                      \n",
              "p11_24694    4.475828    4.491165     4.45358      4.4743    4.488911   \n",
              "\n",
              "           steps_av31  insulin_av0  insulin_av1  insulin_av2  insulin_av3  \\\n",
              "id                                                                          \n",
              "p11_24694    4.498501     0.054109     0.058871     0.053057     0.045917   \n",
              "\n",
              "           insulin_av4  insulin_av5  insulin_av6  insulin_av7  insulin_av8  \\\n",
              "id                                                                           \n",
              "p11_24694     0.041086     0.038207     0.037013     0.037709     0.040631   \n",
              "\n",
              "           insulin_av9  insulin_av10  insulin_av11  insulin_av12  \\\n",
              "id                                                                 \n",
              "p11_24694     0.044311      0.047548      0.050253      0.052542   \n",
              "\n",
              "           insulin_av13  insulin_av14  insulin_av15  insulin_av16  ...  \\\n",
              "id                                                                 ...   \n",
              "p11_24694      0.053855      0.053046       0.05084      0.048008  ...   \n",
              "\n",
              "               hr22      hr23      hr24      hr25      hr26      hr27  \\\n",
              "id                                                                      \n",
              "p11_24694  4.399375  4.475061  4.507557  4.670958  4.647271  4.571613   \n",
              "\n",
              "               hr28      hr29      hr30      hr31   intake0   intake1  \\\n",
              "id                                                                      \n",
              "p11_24694  4.598146  4.583947  4.585988  4.603168 -3.243184 -3.243184   \n",
              "\n",
              "            intake2   intake3   intake4  intake5   intake6   intake7  \\\n",
              "id                                                                     \n",
              "p11_24694 -3.243184 -3.668776 -4.137758  -4.5072 -5.006033 -5.478345   \n",
              "\n",
              "            intake8   intake9  intake10  intake11  intake12  intake13  \\\n",
              "id                                                                      \n",
              "p11_24694 -5.873174 -5.979639 -5.905734 -5.790887 -5.667856 -5.561532   \n",
              "\n",
              "           intake14  intake15  intake16  intake17  intake18  intake19  \\\n",
              "id                                                                      \n",
              "p11_24694 -5.565998 -5.598845 -5.545991 -5.387628 -5.327764 -5.279362   \n",
              "\n",
              "           intake20  intake21  intake22  intake23  intake24  intake25  \\\n",
              "id                                                                      \n",
              "p11_24694 -5.167204 -5.026172 -4.870307  -4.73998 -4.730664 -4.609167   \n",
              "\n",
              "           intake26  intake27  intake28  intake29  intake30  intake31  \\\n",
              "id                                                                      \n",
              "p11_24694 -4.622262  -4.61879 -4.712759 -4.948008 -4.868403 -4.808273   \n",
              "\n",
              "           bg+1:00  cluster       PC_1      PC_2      PC_3      PC_4  \\\n",
              "id                                                                     \n",
              "p11_24694      NaN        1 -16.986586 -3.209776  0.324905  1.943914   \n",
              "\n",
              "           enc_00_v1  enc_01_v1  \n",
              "id                               \n",
              "p11_24694   0.345878    0.09468  \n",
              "\n",
              "[1 rows x 297 columns]"
            ],
            "text/html": [
              "\n",
              "  <div id=\"df-2a5e4c2f-5740-46b8-a66e-ca3b8c9d954c\" class=\"colab-df-container\">\n",
              "    <div>\n",
              "<style scoped>\n",
              "    .dataframe tbody tr th:only-of-type {\n",
              "        vertical-align: middle;\n",
              "    }\n",
              "\n",
              "    .dataframe tbody tr th {\n",
              "        vertical-align: top;\n",
              "    }\n",
              "\n",
              "    .dataframe thead th {\n",
              "        text-align: right;\n",
              "    }\n",
              "</style>\n",
              "<table border=\"1\" class=\"dataframe\">\n",
              "  <thead>\n",
              "    <tr style=\"text-align: right;\">\n",
              "      <th></th>\n",
              "      <th>p_num</th>\n",
              "      <th>steps_av0</th>\n",
              "      <th>steps_av1</th>\n",
              "      <th>steps_av2</th>\n",
              "      <th>steps_av3</th>\n",
              "      <th>steps_av4</th>\n",
              "      <th>steps_av5</th>\n",
              "      <th>steps_av6</th>\n",
              "      <th>steps_av7</th>\n",
              "      <th>steps_av8</th>\n",
              "      <th>steps_av9</th>\n",
              "      <th>steps_av10</th>\n",
              "      <th>steps_av11</th>\n",
              "      <th>steps_av12</th>\n",
              "      <th>steps_av13</th>\n",
              "      <th>steps_av14</th>\n",
              "      <th>steps_av15</th>\n",
              "      <th>steps_av16</th>\n",
              "      <th>steps_av17</th>\n",
              "      <th>steps_av18</th>\n",
              "      <th>steps_av19</th>\n",
              "      <th>steps_av20</th>\n",
              "      <th>steps_av21</th>\n",
              "      <th>steps_av22</th>\n",
              "      <th>steps_av23</th>\n",
              "      <th>steps_av24</th>\n",
              "      <th>steps_av25</th>\n",
              "      <th>steps_av26</th>\n",
              "      <th>steps_av27</th>\n",
              "      <th>steps_av28</th>\n",
              "      <th>steps_av29</th>\n",
              "      <th>steps_av30</th>\n",
              "      <th>steps_av31</th>\n",
              "      <th>insulin_av0</th>\n",
              "      <th>insulin_av1</th>\n",
              "      <th>insulin_av2</th>\n",
              "      <th>insulin_av3</th>\n",
              "      <th>insulin_av4</th>\n",
              "      <th>insulin_av5</th>\n",
              "      <th>insulin_av6</th>\n",
              "      <th>insulin_av7</th>\n",
              "      <th>insulin_av8</th>\n",
              "      <th>insulin_av9</th>\n",
              "      <th>insulin_av10</th>\n",
              "      <th>insulin_av11</th>\n",
              "      <th>insulin_av12</th>\n",
              "      <th>insulin_av13</th>\n",
              "      <th>insulin_av14</th>\n",
              "      <th>insulin_av15</th>\n",
              "      <th>insulin_av16</th>\n",
              "      <th>...</th>\n",
              "      <th>hr22</th>\n",
              "      <th>hr23</th>\n",
              "      <th>hr24</th>\n",
              "      <th>hr25</th>\n",
              "      <th>hr26</th>\n",
              "      <th>hr27</th>\n",
              "      <th>hr28</th>\n",
              "      <th>hr29</th>\n",
              "      <th>hr30</th>\n",
              "      <th>hr31</th>\n",
              "      <th>intake0</th>\n",
              "      <th>intake1</th>\n",
              "      <th>intake2</th>\n",
              "      <th>intake3</th>\n",
              "      <th>intake4</th>\n",
              "      <th>intake5</th>\n",
              "      <th>intake6</th>\n",
              "      <th>intake7</th>\n",
              "      <th>intake8</th>\n",
              "      <th>intake9</th>\n",
              "      <th>intake10</th>\n",
              "      <th>intake11</th>\n",
              "      <th>intake12</th>\n",
              "      <th>intake13</th>\n",
              "      <th>intake14</th>\n",
              "      <th>intake15</th>\n",
              "      <th>intake16</th>\n",
              "      <th>intake17</th>\n",
              "      <th>intake18</th>\n",
              "      <th>intake19</th>\n",
              "      <th>intake20</th>\n",
              "      <th>intake21</th>\n",
              "      <th>intake22</th>\n",
              "      <th>intake23</th>\n",
              "      <th>intake24</th>\n",
              "      <th>intake25</th>\n",
              "      <th>intake26</th>\n",
              "      <th>intake27</th>\n",
              "      <th>intake28</th>\n",
              "      <th>intake29</th>\n",
              "      <th>intake30</th>\n",
              "      <th>intake31</th>\n",
              "      <th>bg+1:00</th>\n",
              "      <th>cluster</th>\n",
              "      <th>PC_1</th>\n",
              "      <th>PC_2</th>\n",
              "      <th>PC_3</th>\n",
              "      <th>PC_4</th>\n",
              "      <th>enc_00_v1</th>\n",
              "      <th>enc_01_v1</th>\n",
              "    </tr>\n",
              "    <tr>\n",
              "      <th>id</th>\n",
              "      <th></th>\n",
              "      <th></th>\n",
              "      <th></th>\n",
              "      <th></th>\n",
              "      <th></th>\n",
              "      <th></th>\n",
              "      <th></th>\n",
              "      <th></th>\n",
              "      <th></th>\n",
              "      <th></th>\n",
              "      <th></th>\n",
              "      <th></th>\n",
              "      <th></th>\n",
              "      <th></th>\n",
              "      <th></th>\n",
              "      <th></th>\n",
              "      <th></th>\n",
              "      <th></th>\n",
              "      <th></th>\n",
              "      <th></th>\n",
              "      <th></th>\n",
              "      <th></th>\n",
              "      <th></th>\n",
              "      <th></th>\n",
              "      <th></th>\n",
              "      <th></th>\n",
              "      <th></th>\n",
              "      <th></th>\n",
              "      <th></th>\n",
              "      <th></th>\n",
              "      <th></th>\n",
              "      <th></th>\n",
              "      <th></th>\n",
              "      <th></th>\n",
              "      <th></th>\n",
              "      <th></th>\n",
              "      <th></th>\n",
              "      <th></th>\n",
              "      <th></th>\n",
              "      <th></th>\n",
              "      <th></th>\n",
              "      <th></th>\n",
              "      <th></th>\n",
              "      <th></th>\n",
              "      <th></th>\n",
              "      <th></th>\n",
              "      <th></th>\n",
              "      <th></th>\n",
              "      <th></th>\n",
              "      <th></th>\n",
              "      <th></th>\n",
              "      <th></th>\n",
              "      <th></th>\n",
              "      <th></th>\n",
              "      <th></th>\n",
              "      <th></th>\n",
              "      <th></th>\n",
              "      <th></th>\n",
              "      <th></th>\n",
              "      <th></th>\n",
              "      <th></th>\n",
              "      <th></th>\n",
              "      <th></th>\n",
              "      <th></th>\n",
              "      <th></th>\n",
              "      <th></th>\n",
              "      <th></th>\n",
              "      <th></th>\n",
              "      <th></th>\n",
              "      <th></th>\n",
              "      <th></th>\n",
              "      <th></th>\n",
              "      <th></th>\n",
              "      <th></th>\n",
              "      <th></th>\n",
              "      <th></th>\n",
              "      <th></th>\n",
              "      <th></th>\n",
              "      <th></th>\n",
              "      <th></th>\n",
              "      <th></th>\n",
              "      <th></th>\n",
              "      <th></th>\n",
              "      <th></th>\n",
              "      <th></th>\n",
              "      <th></th>\n",
              "      <th></th>\n",
              "      <th></th>\n",
              "      <th></th>\n",
              "      <th></th>\n",
              "      <th></th>\n",
              "      <th></th>\n",
              "      <th></th>\n",
              "      <th></th>\n",
              "      <th></th>\n",
              "      <th></th>\n",
              "      <th></th>\n",
              "      <th></th>\n",
              "      <th></th>\n",
              "      <th></th>\n",
              "      <th></th>\n",
              "    </tr>\n",
              "  </thead>\n",
              "  <tbody>\n",
              "    <tr>\n",
              "      <th>p11_24694</th>\n",
              "      <td>p11</td>\n",
              "      <td>4.644391</td>\n",
              "      <td>4.439249</td>\n",
              "      <td>4.772192</td>\n",
              "      <td>4.975956</td>\n",
              "      <td>4.815642</td>\n",
              "      <td>4.585367</td>\n",
              "      <td>4.597861</td>\n",
              "      <td>4.616245</td>\n",
              "      <td>4.615015</td>\n",
              "      <td>4.625363</td>\n",
              "      <td>4.517056</td>\n",
              "      <td>4.332517</td>\n",
              "      <td>4.346235</td>\n",
              "      <td>4.350556</td>\n",
              "      <td>4.392759</td>\n",
              "      <td>4.431376</td>\n",
              "      <td>4.441599</td>\n",
              "      <td>4.509838</td>\n",
              "      <td>4.501099</td>\n",
              "      <td>4.423266</td>\n",
              "      <td>4.453408</td>\n",
              "      <td>4.438577</td>\n",
              "      <td>4.451517</td>\n",
              "      <td>4.470731</td>\n",
              "      <td>4.470995</td>\n",
              "      <td>4.486834</td>\n",
              "      <td>4.475828</td>\n",
              "      <td>4.491165</td>\n",
              "      <td>4.45358</td>\n",
              "      <td>4.4743</td>\n",
              "      <td>4.488911</td>\n",
              "      <td>4.498501</td>\n",
              "      <td>0.054109</td>\n",
              "      <td>0.058871</td>\n",
              "      <td>0.053057</td>\n",
              "      <td>0.045917</td>\n",
              "      <td>0.041086</td>\n",
              "      <td>0.038207</td>\n",
              "      <td>0.037013</td>\n",
              "      <td>0.037709</td>\n",
              "      <td>0.040631</td>\n",
              "      <td>0.044311</td>\n",
              "      <td>0.047548</td>\n",
              "      <td>0.050253</td>\n",
              "      <td>0.052542</td>\n",
              "      <td>0.053855</td>\n",
              "      <td>0.053046</td>\n",
              "      <td>0.05084</td>\n",
              "      <td>0.048008</td>\n",
              "      <td>...</td>\n",
              "      <td>4.399375</td>\n",
              "      <td>4.475061</td>\n",
              "      <td>4.507557</td>\n",
              "      <td>4.670958</td>\n",
              "      <td>4.647271</td>\n",
              "      <td>4.571613</td>\n",
              "      <td>4.598146</td>\n",
              "      <td>4.583947</td>\n",
              "      <td>4.585988</td>\n",
              "      <td>4.603168</td>\n",
              "      <td>-3.243184</td>\n",
              "      <td>-3.243184</td>\n",
              "      <td>-3.243184</td>\n",
              "      <td>-3.668776</td>\n",
              "      <td>-4.137758</td>\n",
              "      <td>-4.5072</td>\n",
              "      <td>-5.006033</td>\n",
              "      <td>-5.478345</td>\n",
              "      <td>-5.873174</td>\n",
              "      <td>-5.979639</td>\n",
              "      <td>-5.905734</td>\n",
              "      <td>-5.790887</td>\n",
              "      <td>-5.667856</td>\n",
              "      <td>-5.561532</td>\n",
              "      <td>-5.565998</td>\n",
              "      <td>-5.598845</td>\n",
              "      <td>-5.545991</td>\n",
              "      <td>-5.387628</td>\n",
              "      <td>-5.327764</td>\n",
              "      <td>-5.279362</td>\n",
              "      <td>-5.167204</td>\n",
              "      <td>-5.026172</td>\n",
              "      <td>-4.870307</td>\n",
              "      <td>-4.73998</td>\n",
              "      <td>-4.730664</td>\n",
              "      <td>-4.609167</td>\n",
              "      <td>-4.622262</td>\n",
              "      <td>-4.61879</td>\n",
              "      <td>-4.712759</td>\n",
              "      <td>-4.948008</td>\n",
              "      <td>-4.868403</td>\n",
              "      <td>-4.808273</td>\n",
              "      <td>NaN</td>\n",
              "      <td>1</td>\n",
              "      <td>-16.986586</td>\n",
              "      <td>-3.209776</td>\n",
              "      <td>0.324905</td>\n",
              "      <td>1.943914</td>\n",
              "      <td>0.345878</td>\n",
              "      <td>0.09468</td>\n",
              "    </tr>\n",
              "  </tbody>\n",
              "</table>\n",
              "<p>1 rows × 297 columns</p>\n",
              "</div>\n",
              "    <div class=\"colab-df-buttons\">\n",
              "\n",
              "  <div class=\"colab-df-container\">\n",
              "    <button class=\"colab-df-convert\" onclick=\"convertToInteractive('df-2a5e4c2f-5740-46b8-a66e-ca3b8c9d954c')\"\n",
              "            title=\"Convert this dataframe to an interactive table.\"\n",
              "            style=\"display:none;\">\n",
              "\n",
              "  <svg xmlns=\"http://www.w3.org/2000/svg\" height=\"24px\" viewBox=\"0 -960 960 960\">\n",
              "    <path d=\"M120-120v-720h720v720H120Zm60-500h600v-160H180v160Zm220 220h160v-160H400v160Zm0 220h160v-160H400v160ZM180-400h160v-160H180v160Zm440 0h160v-160H620v160ZM180-180h160v-160H180v160Zm440 0h160v-160H620v160Z\"/>\n",
              "  </svg>\n",
              "    </button>\n",
              "\n",
              "  <style>\n",
              "    .colab-df-container {\n",
              "      display:flex;\n",
              "      gap: 12px;\n",
              "    }\n",
              "\n",
              "    .colab-df-convert {\n",
              "      background-color: #E8F0FE;\n",
              "      border: none;\n",
              "      border-radius: 50%;\n",
              "      cursor: pointer;\n",
              "      display: none;\n",
              "      fill: #1967D2;\n",
              "      height: 32px;\n",
              "      padding: 0 0 0 0;\n",
              "      width: 32px;\n",
              "    }\n",
              "\n",
              "    .colab-df-convert:hover {\n",
              "      background-color: #E2EBFA;\n",
              "      box-shadow: 0px 1px 2px rgba(60, 64, 67, 0.3), 0px 1px 3px 1px rgba(60, 64, 67, 0.15);\n",
              "      fill: #174EA6;\n",
              "    }\n",
              "\n",
              "    .colab-df-buttons div {\n",
              "      margin-bottom: 4px;\n",
              "    }\n",
              "\n",
              "    [theme=dark] .colab-df-convert {\n",
              "      background-color: #3B4455;\n",
              "      fill: #D2E3FC;\n",
              "    }\n",
              "\n",
              "    [theme=dark] .colab-df-convert:hover {\n",
              "      background-color: #434B5C;\n",
              "      box-shadow: 0px 1px 3px 1px rgba(0, 0, 0, 0.15);\n",
              "      filter: drop-shadow(0px 1px 2px rgba(0, 0, 0, 0.3));\n",
              "      fill: #FFFFFF;\n",
              "    }\n",
              "  </style>\n",
              "\n",
              "    <script>\n",
              "      const buttonEl =\n",
              "        document.querySelector('#df-2a5e4c2f-5740-46b8-a66e-ca3b8c9d954c button.colab-df-convert');\n",
              "      buttonEl.style.display =\n",
              "        google.colab.kernel.accessAllowed ? 'block' : 'none';\n",
              "\n",
              "      async function convertToInteractive(key) {\n",
              "        const element = document.querySelector('#df-2a5e4c2f-5740-46b8-a66e-ca3b8c9d954c');\n",
              "        const dataTable =\n",
              "          await google.colab.kernel.invokeFunction('convertToInteractive',\n",
              "                                                    [key], {});\n",
              "        if (!dataTable) return;\n",
              "\n",
              "        const docLinkHtml = 'Like what you see? Visit the ' +\n",
              "          '<a target=\"_blank\" href=https://colab.research.google.com/notebooks/data_table.ipynb>data table notebook</a>'\n",
              "          + ' to learn more about interactive tables.';\n",
              "        element.innerHTML = '';\n",
              "        dataTable['output_type'] = 'display_data';\n",
              "        await google.colab.output.renderOutput(dataTable, element);\n",
              "        const docLink = document.createElement('div');\n",
              "        docLink.innerHTML = docLinkHtml;\n",
              "        element.appendChild(docLink);\n",
              "      }\n",
              "    </script>\n",
              "  </div>\n",
              "\n",
              "\n",
              "    </div>\n",
              "  </div>\n"
            ],
            "application/vnd.google.colaboratory.intrinsic+json": {
              "type": "dataframe"
            }
          },
          "metadata": {},
          "execution_count": 131
        }
      ]
    },
    {
      "cell_type": "code",
      "execution_count": null,
      "metadata": {
        "id": "vQotpo4xy-t-"
      },
      "outputs": [],
      "source": [
        "df_train.to_csv(\"/content/drive/MyDrive/Exercises/Studies_Structured_Data/Data/Glucose/train_cluster_enc_v1_ext.csv\",index=True)\n",
        "df_test.to_csv(\"/content/drive/MyDrive/Exercises/Studies_Structured_Data/Data/Glucose/test_cluster_enc_v1_ext.csv\",index=True)\n",
        "\n",
        "#df_train = pd.read_csv(\"/content/drive/MyDrive/Exercises/Studies_Structured_Data/Data/Glucose/train_cluster_enc_v1.csv\", index_col=0)\n",
        "#df_test = pd.read_csv(\"/content/drive/MyDrive/Exercises/Studies_Structured_Data/Data/Glucose/test_cluster_enc_v1.csv\", index_col=0)"
      ]
    },
    {
      "cell_type": "code",
      "source": [
        "gc.collect()"
      ],
      "metadata": {
        "colab": {
          "base_uri": "https://localhost:8080/"
        },
        "id": "cQh38nwKlGv5",
        "outputId": "ed2c2258-4e5f-46f0-d930-056a330125de"
      },
      "execution_count": null,
      "outputs": [
        {
          "output_type": "execute_result",
          "data": {
            "text/plain": [
              "379"
            ]
          },
          "metadata": {},
          "execution_count": 133
        }
      ]
    },
    {
      "cell_type": "markdown",
      "metadata": {
        "id": "JYi2Thggy-t_"
      },
      "source": [
        "##### Submission Model 1:"
      ]
    },
    {
      "cell_type": "code",
      "execution_count": null,
      "metadata": {
        "id": "3llkguwUy-t_",
        "colab": {
          "base_uri": "https://localhost:8080/"
        },
        "outputId": "c60cad20-dd17-469c-a720-970a5db2acb1"
      },
      "outputs": [
        {
          "output_type": "stream",
          "name": "stdout",
          "text": [
            "\u001b[1m114/114\u001b[0m \u001b[32m━━━━━━━━━━━━━━━━━━━━\u001b[0m\u001b[37m\u001b[0m \u001b[1m1s\u001b[0m 8ms/step\n",
            "\u001b[1m65655/65655\u001b[0m \u001b[32m━━━━━━━━━━━━━━━━━━━━\u001b[0m\u001b[37m\u001b[0m \u001b[1m252s\u001b[0m 4ms/step\n"
          ]
        }
      ],
      "source": [
        "recons, pred = autoencoder_prellin_v1.predict(X_enc_test)\n",
        "_, pred_train = autoencoder_prellin_v1.predict(X_enc, batch_size=512)\n",
        "#pred = y_test_pred"
      ]
    },
    {
      "cell_type": "code",
      "execution_count": null,
      "metadata": {
        "id": "3u4dfQRGy-uA",
        "colab": {
          "base_uri": "https://localhost:8080/"
        },
        "outputId": "c58fbab4-6cb9-4dda-b161-cf82dc581463"
      },
      "outputs": [
        {
          "output_type": "execute_result",
          "data": {
            "text/plain": [
              "(3644, 297)"
            ]
          },
          "metadata": {},
          "execution_count": 139
        }
      ],
      "source": [
        "df_train_scaled=pd.read_csv(\"/content/drive/MyDrive/Exercises/Studies_Structured_Data/Data/Glucose/X_train_scaled.csv\", index_col=0)\n",
        "df_test.shape"
      ]
    },
    {
      "cell_type": "code",
      "execution_count": null,
      "metadata": {
        "id": "--tnok_Jy-uA",
        "colab": {
          "base_uri": "https://localhost:8080/",
          "height": 81
        },
        "outputId": "fed7e3db-e335-4d60-d752-2ae39564888b"
      },
      "outputs": [
        {
          "output_type": "execute_result",
          "data": {
            "text/plain": [
              "StandardScaler()"
            ],
            "text/html": [
              "<style>#sk-container-id-1 {\n",
              "  /* Definition of color scheme common for light and dark mode */\n",
              "  --sklearn-color-text: black;\n",
              "  --sklearn-color-line: gray;\n",
              "  /* Definition of color scheme for unfitted estimators */\n",
              "  --sklearn-color-unfitted-level-0: #fff5e6;\n",
              "  --sklearn-color-unfitted-level-1: #f6e4d2;\n",
              "  --sklearn-color-unfitted-level-2: #ffe0b3;\n",
              "  --sklearn-color-unfitted-level-3: chocolate;\n",
              "  /* Definition of color scheme for fitted estimators */\n",
              "  --sklearn-color-fitted-level-0: #f0f8ff;\n",
              "  --sklearn-color-fitted-level-1: #d4ebff;\n",
              "  --sklearn-color-fitted-level-2: #b3dbfd;\n",
              "  --sklearn-color-fitted-level-3: cornflowerblue;\n",
              "\n",
              "  /* Specific color for light theme */\n",
              "  --sklearn-color-text-on-default-background: var(--sg-text-color, var(--theme-code-foreground, var(--jp-content-font-color1, black)));\n",
              "  --sklearn-color-background: var(--sg-background-color, var(--theme-background, var(--jp-layout-color0, white)));\n",
              "  --sklearn-color-border-box: var(--sg-text-color, var(--theme-code-foreground, var(--jp-content-font-color1, black)));\n",
              "  --sklearn-color-icon: #696969;\n",
              "\n",
              "  @media (prefers-color-scheme: dark) {\n",
              "    /* Redefinition of color scheme for dark theme */\n",
              "    --sklearn-color-text-on-default-background: var(--sg-text-color, var(--theme-code-foreground, var(--jp-content-font-color1, white)));\n",
              "    --sklearn-color-background: var(--sg-background-color, var(--theme-background, var(--jp-layout-color0, #111)));\n",
              "    --sklearn-color-border-box: var(--sg-text-color, var(--theme-code-foreground, var(--jp-content-font-color1, white)));\n",
              "    --sklearn-color-icon: #878787;\n",
              "  }\n",
              "}\n",
              "\n",
              "#sk-container-id-1 {\n",
              "  color: var(--sklearn-color-text);\n",
              "}\n",
              "\n",
              "#sk-container-id-1 pre {\n",
              "  padding: 0;\n",
              "}\n",
              "\n",
              "#sk-container-id-1 input.sk-hidden--visually {\n",
              "  border: 0;\n",
              "  clip: rect(1px 1px 1px 1px);\n",
              "  clip: rect(1px, 1px, 1px, 1px);\n",
              "  height: 1px;\n",
              "  margin: -1px;\n",
              "  overflow: hidden;\n",
              "  padding: 0;\n",
              "  position: absolute;\n",
              "  width: 1px;\n",
              "}\n",
              "\n",
              "#sk-container-id-1 div.sk-dashed-wrapped {\n",
              "  border: 1px dashed var(--sklearn-color-line);\n",
              "  margin: 0 0.4em 0.5em 0.4em;\n",
              "  box-sizing: border-box;\n",
              "  padding-bottom: 0.4em;\n",
              "  background-color: var(--sklearn-color-background);\n",
              "}\n",
              "\n",
              "#sk-container-id-1 div.sk-container {\n",
              "  /* jupyter's `normalize.less` sets `[hidden] { display: none; }`\n",
              "     but bootstrap.min.css set `[hidden] { display: none !important; }`\n",
              "     so we also need the `!important` here to be able to override the\n",
              "     default hidden behavior on the sphinx rendered scikit-learn.org.\n",
              "     See: https://github.com/scikit-learn/scikit-learn/issues/21755 */\n",
              "  display: inline-block !important;\n",
              "  position: relative;\n",
              "}\n",
              "\n",
              "#sk-container-id-1 div.sk-text-repr-fallback {\n",
              "  display: none;\n",
              "}\n",
              "\n",
              "div.sk-parallel-item,\n",
              "div.sk-serial,\n",
              "div.sk-item {\n",
              "  /* draw centered vertical line to link estimators */\n",
              "  background-image: linear-gradient(var(--sklearn-color-text-on-default-background), var(--sklearn-color-text-on-default-background));\n",
              "  background-size: 2px 100%;\n",
              "  background-repeat: no-repeat;\n",
              "  background-position: center center;\n",
              "}\n",
              "\n",
              "/* Parallel-specific style estimator block */\n",
              "\n",
              "#sk-container-id-1 div.sk-parallel-item::after {\n",
              "  content: \"\";\n",
              "  width: 100%;\n",
              "  border-bottom: 2px solid var(--sklearn-color-text-on-default-background);\n",
              "  flex-grow: 1;\n",
              "}\n",
              "\n",
              "#sk-container-id-1 div.sk-parallel {\n",
              "  display: flex;\n",
              "  align-items: stretch;\n",
              "  justify-content: center;\n",
              "  background-color: var(--sklearn-color-background);\n",
              "  position: relative;\n",
              "}\n",
              "\n",
              "#sk-container-id-1 div.sk-parallel-item {\n",
              "  display: flex;\n",
              "  flex-direction: column;\n",
              "}\n",
              "\n",
              "#sk-container-id-1 div.sk-parallel-item:first-child::after {\n",
              "  align-self: flex-end;\n",
              "  width: 50%;\n",
              "}\n",
              "\n",
              "#sk-container-id-1 div.sk-parallel-item:last-child::after {\n",
              "  align-self: flex-start;\n",
              "  width: 50%;\n",
              "}\n",
              "\n",
              "#sk-container-id-1 div.sk-parallel-item:only-child::after {\n",
              "  width: 0;\n",
              "}\n",
              "\n",
              "/* Serial-specific style estimator block */\n",
              "\n",
              "#sk-container-id-1 div.sk-serial {\n",
              "  display: flex;\n",
              "  flex-direction: column;\n",
              "  align-items: center;\n",
              "  background-color: var(--sklearn-color-background);\n",
              "  padding-right: 1em;\n",
              "  padding-left: 1em;\n",
              "}\n",
              "\n",
              "\n",
              "/* Toggleable style: style used for estimator/Pipeline/ColumnTransformer box that is\n",
              "clickable and can be expanded/collapsed.\n",
              "- Pipeline and ColumnTransformer use this feature and define the default style\n",
              "- Estimators will overwrite some part of the style using the `sk-estimator` class\n",
              "*/\n",
              "\n",
              "/* Pipeline and ColumnTransformer style (default) */\n",
              "\n",
              "#sk-container-id-1 div.sk-toggleable {\n",
              "  /* Default theme specific background. It is overwritten whether we have a\n",
              "  specific estimator or a Pipeline/ColumnTransformer */\n",
              "  background-color: var(--sklearn-color-background);\n",
              "}\n",
              "\n",
              "/* Toggleable label */\n",
              "#sk-container-id-1 label.sk-toggleable__label {\n",
              "  cursor: pointer;\n",
              "  display: block;\n",
              "  width: 100%;\n",
              "  margin-bottom: 0;\n",
              "  padding: 0.5em;\n",
              "  box-sizing: border-box;\n",
              "  text-align: center;\n",
              "}\n",
              "\n",
              "#sk-container-id-1 label.sk-toggleable__label-arrow:before {\n",
              "  /* Arrow on the left of the label */\n",
              "  content: \"▸\";\n",
              "  float: left;\n",
              "  margin-right: 0.25em;\n",
              "  color: var(--sklearn-color-icon);\n",
              "}\n",
              "\n",
              "#sk-container-id-1 label.sk-toggleable__label-arrow:hover:before {\n",
              "  color: var(--sklearn-color-text);\n",
              "}\n",
              "\n",
              "/* Toggleable content - dropdown */\n",
              "\n",
              "#sk-container-id-1 div.sk-toggleable__content {\n",
              "  max-height: 0;\n",
              "  max-width: 0;\n",
              "  overflow: hidden;\n",
              "  text-align: left;\n",
              "  /* unfitted */\n",
              "  background-color: var(--sklearn-color-unfitted-level-0);\n",
              "}\n",
              "\n",
              "#sk-container-id-1 div.sk-toggleable__content.fitted {\n",
              "  /* fitted */\n",
              "  background-color: var(--sklearn-color-fitted-level-0);\n",
              "}\n",
              "\n",
              "#sk-container-id-1 div.sk-toggleable__content pre {\n",
              "  margin: 0.2em;\n",
              "  border-radius: 0.25em;\n",
              "  color: var(--sklearn-color-text);\n",
              "  /* unfitted */\n",
              "  background-color: var(--sklearn-color-unfitted-level-0);\n",
              "}\n",
              "\n",
              "#sk-container-id-1 div.sk-toggleable__content.fitted pre {\n",
              "  /* unfitted */\n",
              "  background-color: var(--sklearn-color-fitted-level-0);\n",
              "}\n",
              "\n",
              "#sk-container-id-1 input.sk-toggleable__control:checked~div.sk-toggleable__content {\n",
              "  /* Expand drop-down */\n",
              "  max-height: 200px;\n",
              "  max-width: 100%;\n",
              "  overflow: auto;\n",
              "}\n",
              "\n",
              "#sk-container-id-1 input.sk-toggleable__control:checked~label.sk-toggleable__label-arrow:before {\n",
              "  content: \"▾\";\n",
              "}\n",
              "\n",
              "/* Pipeline/ColumnTransformer-specific style */\n",
              "\n",
              "#sk-container-id-1 div.sk-label input.sk-toggleable__control:checked~label.sk-toggleable__label {\n",
              "  color: var(--sklearn-color-text);\n",
              "  background-color: var(--sklearn-color-unfitted-level-2);\n",
              "}\n",
              "\n",
              "#sk-container-id-1 div.sk-label.fitted input.sk-toggleable__control:checked~label.sk-toggleable__label {\n",
              "  background-color: var(--sklearn-color-fitted-level-2);\n",
              "}\n",
              "\n",
              "/* Estimator-specific style */\n",
              "\n",
              "/* Colorize estimator box */\n",
              "#sk-container-id-1 div.sk-estimator input.sk-toggleable__control:checked~label.sk-toggleable__label {\n",
              "  /* unfitted */\n",
              "  background-color: var(--sklearn-color-unfitted-level-2);\n",
              "}\n",
              "\n",
              "#sk-container-id-1 div.sk-estimator.fitted input.sk-toggleable__control:checked~label.sk-toggleable__label {\n",
              "  /* fitted */\n",
              "  background-color: var(--sklearn-color-fitted-level-2);\n",
              "}\n",
              "\n",
              "#sk-container-id-1 div.sk-label label.sk-toggleable__label,\n",
              "#sk-container-id-1 div.sk-label label {\n",
              "  /* The background is the default theme color */\n",
              "  color: var(--sklearn-color-text-on-default-background);\n",
              "}\n",
              "\n",
              "/* On hover, darken the color of the background */\n",
              "#sk-container-id-1 div.sk-label:hover label.sk-toggleable__label {\n",
              "  color: var(--sklearn-color-text);\n",
              "  background-color: var(--sklearn-color-unfitted-level-2);\n",
              "}\n",
              "\n",
              "/* Label box, darken color on hover, fitted */\n",
              "#sk-container-id-1 div.sk-label.fitted:hover label.sk-toggleable__label.fitted {\n",
              "  color: var(--sklearn-color-text);\n",
              "  background-color: var(--sklearn-color-fitted-level-2);\n",
              "}\n",
              "\n",
              "/* Estimator label */\n",
              "\n",
              "#sk-container-id-1 div.sk-label label {\n",
              "  font-family: monospace;\n",
              "  font-weight: bold;\n",
              "  display: inline-block;\n",
              "  line-height: 1.2em;\n",
              "}\n",
              "\n",
              "#sk-container-id-1 div.sk-label-container {\n",
              "  text-align: center;\n",
              "}\n",
              "\n",
              "/* Estimator-specific */\n",
              "#sk-container-id-1 div.sk-estimator {\n",
              "  font-family: monospace;\n",
              "  border: 1px dotted var(--sklearn-color-border-box);\n",
              "  border-radius: 0.25em;\n",
              "  box-sizing: border-box;\n",
              "  margin-bottom: 0.5em;\n",
              "  /* unfitted */\n",
              "  background-color: var(--sklearn-color-unfitted-level-0);\n",
              "}\n",
              "\n",
              "#sk-container-id-1 div.sk-estimator.fitted {\n",
              "  /* fitted */\n",
              "  background-color: var(--sklearn-color-fitted-level-0);\n",
              "}\n",
              "\n",
              "/* on hover */\n",
              "#sk-container-id-1 div.sk-estimator:hover {\n",
              "  /* unfitted */\n",
              "  background-color: var(--sklearn-color-unfitted-level-2);\n",
              "}\n",
              "\n",
              "#sk-container-id-1 div.sk-estimator.fitted:hover {\n",
              "  /* fitted */\n",
              "  background-color: var(--sklearn-color-fitted-level-2);\n",
              "}\n",
              "\n",
              "/* Specification for estimator info (e.g. \"i\" and \"?\") */\n",
              "\n",
              "/* Common style for \"i\" and \"?\" */\n",
              "\n",
              ".sk-estimator-doc-link,\n",
              "a:link.sk-estimator-doc-link,\n",
              "a:visited.sk-estimator-doc-link {\n",
              "  float: right;\n",
              "  font-size: smaller;\n",
              "  line-height: 1em;\n",
              "  font-family: monospace;\n",
              "  background-color: var(--sklearn-color-background);\n",
              "  border-radius: 1em;\n",
              "  height: 1em;\n",
              "  width: 1em;\n",
              "  text-decoration: none !important;\n",
              "  margin-left: 1ex;\n",
              "  /* unfitted */\n",
              "  border: var(--sklearn-color-unfitted-level-1) 1pt solid;\n",
              "  color: var(--sklearn-color-unfitted-level-1);\n",
              "}\n",
              "\n",
              ".sk-estimator-doc-link.fitted,\n",
              "a:link.sk-estimator-doc-link.fitted,\n",
              "a:visited.sk-estimator-doc-link.fitted {\n",
              "  /* fitted */\n",
              "  border: var(--sklearn-color-fitted-level-1) 1pt solid;\n",
              "  color: var(--sklearn-color-fitted-level-1);\n",
              "}\n",
              "\n",
              "/* On hover */\n",
              "div.sk-estimator:hover .sk-estimator-doc-link:hover,\n",
              ".sk-estimator-doc-link:hover,\n",
              "div.sk-label-container:hover .sk-estimator-doc-link:hover,\n",
              ".sk-estimator-doc-link:hover {\n",
              "  /* unfitted */\n",
              "  background-color: var(--sklearn-color-unfitted-level-3);\n",
              "  color: var(--sklearn-color-background);\n",
              "  text-decoration: none;\n",
              "}\n",
              "\n",
              "div.sk-estimator.fitted:hover .sk-estimator-doc-link.fitted:hover,\n",
              ".sk-estimator-doc-link.fitted:hover,\n",
              "div.sk-label-container:hover .sk-estimator-doc-link.fitted:hover,\n",
              ".sk-estimator-doc-link.fitted:hover {\n",
              "  /* fitted */\n",
              "  background-color: var(--sklearn-color-fitted-level-3);\n",
              "  color: var(--sklearn-color-background);\n",
              "  text-decoration: none;\n",
              "}\n",
              "\n",
              "/* Span, style for the box shown on hovering the info icon */\n",
              ".sk-estimator-doc-link span {\n",
              "  display: none;\n",
              "  z-index: 9999;\n",
              "  position: relative;\n",
              "  font-weight: normal;\n",
              "  right: .2ex;\n",
              "  padding: .5ex;\n",
              "  margin: .5ex;\n",
              "  width: min-content;\n",
              "  min-width: 20ex;\n",
              "  max-width: 50ex;\n",
              "  color: var(--sklearn-color-text);\n",
              "  box-shadow: 2pt 2pt 4pt #999;\n",
              "  /* unfitted */\n",
              "  background: var(--sklearn-color-unfitted-level-0);\n",
              "  border: .5pt solid var(--sklearn-color-unfitted-level-3);\n",
              "}\n",
              "\n",
              ".sk-estimator-doc-link.fitted span {\n",
              "  /* fitted */\n",
              "  background: var(--sklearn-color-fitted-level-0);\n",
              "  border: var(--sklearn-color-fitted-level-3);\n",
              "}\n",
              "\n",
              ".sk-estimator-doc-link:hover span {\n",
              "  display: block;\n",
              "}\n",
              "\n",
              "/* \"?\"-specific style due to the `<a>` HTML tag */\n",
              "\n",
              "#sk-container-id-1 a.estimator_doc_link {\n",
              "  float: right;\n",
              "  font-size: 1rem;\n",
              "  line-height: 1em;\n",
              "  font-family: monospace;\n",
              "  background-color: var(--sklearn-color-background);\n",
              "  border-radius: 1rem;\n",
              "  height: 1rem;\n",
              "  width: 1rem;\n",
              "  text-decoration: none;\n",
              "  /* unfitted */\n",
              "  color: var(--sklearn-color-unfitted-level-1);\n",
              "  border: var(--sklearn-color-unfitted-level-1) 1pt solid;\n",
              "}\n",
              "\n",
              "#sk-container-id-1 a.estimator_doc_link.fitted {\n",
              "  /* fitted */\n",
              "  border: var(--sklearn-color-fitted-level-1) 1pt solid;\n",
              "  color: var(--sklearn-color-fitted-level-1);\n",
              "}\n",
              "\n",
              "/* On hover */\n",
              "#sk-container-id-1 a.estimator_doc_link:hover {\n",
              "  /* unfitted */\n",
              "  background-color: var(--sklearn-color-unfitted-level-3);\n",
              "  color: var(--sklearn-color-background);\n",
              "  text-decoration: none;\n",
              "}\n",
              "\n",
              "#sk-container-id-1 a.estimator_doc_link.fitted:hover {\n",
              "  /* fitted */\n",
              "  background-color: var(--sklearn-color-fitted-level-3);\n",
              "}\n",
              "</style><div id=\"sk-container-id-1\" class=\"sk-top-container\"><div class=\"sk-text-repr-fallback\"><pre>StandardScaler()</pre><b>In a Jupyter environment, please rerun this cell to show the HTML representation or trust the notebook. <br />On GitHub, the HTML representation is unable to render, please try loading this page with nbviewer.org.</b></div><div class=\"sk-container\" hidden><div class=\"sk-item\"><div class=\"sk-estimator fitted sk-toggleable\"><input class=\"sk-toggleable__control sk-hidden--visually\" id=\"sk-estimator-id-1\" type=\"checkbox\" checked><label for=\"sk-estimator-id-1\" class=\"sk-toggleable__label fitted sk-toggleable__label-arrow fitted\">&nbsp;&nbsp;StandardScaler<a class=\"sk-estimator-doc-link fitted\" rel=\"noreferrer\" target=\"_blank\" href=\"https://scikit-learn.org/1.5/modules/generated/sklearn.preprocessing.StandardScaler.html\">?<span>Documentation for StandardScaler</span></a><span class=\"sk-estimator-doc-link fitted\">i<span>Fitted</span></span></label><div class=\"sk-toggleable__content fitted\"><pre>StandardScaler()</pre></div> </div></div></div></div>"
            ]
          },
          "metadata": {},
          "execution_count": 140
        }
      ],
      "source": [
        "target_scaler = StandardScaler()\n",
        "target_scaler.fit(df_train_scaled[\"bg+1:00\"].values.reshape(-1, 1))"
      ]
    },
    {
      "cell_type": "code",
      "execution_count": null,
      "metadata": {
        "id": "cXC0PPFEy-uB"
      },
      "outputs": [],
      "source": [
        "pred_resc = target_scaler.inverse_transform(pred.reshape(-1,1))\n",
        "pred_resc_train = target_scaler.inverse_transform(pred_train.reshape(-1,1))"
      ]
    },
    {
      "cell_type": "code",
      "execution_count": null,
      "metadata": {
        "id": "YVqJuWxyy-uB",
        "colab": {
          "base_uri": "https://localhost:8080/"
        },
        "outputId": "818e2e4b-1352-401a-ea27-5fbd18668bc3"
      },
      "outputs": [
        {
          "output_type": "execute_result",
          "data": {
            "text/plain": [
              "(3644, 2)"
            ]
          },
          "metadata": {},
          "execution_count": 142
        }
      ],
      "source": [
        "sub = pd.read_csv(\"/content/drive/MyDrive/Exercises/Studies_Structured_Data/Data/Glucose/sample_submission.csv\")\n",
        "sub.shape"
      ]
    },
    {
      "cell_type": "code",
      "execution_count": null,
      "metadata": {
        "id": "P4fg8hpVy-uB"
      },
      "outputs": [],
      "source": [
        "sub[\"bg+1:00\"] = pred_resc\n",
        "pred_resc_train = pd.DataFrame(data=pred_resc_train, index=df_train.index, columns=[\"bg+1:00\"])"
      ]
    },
    {
      "cell_type": "code",
      "execution_count": null,
      "metadata": {
        "id": "UcTLD49py-uB"
      },
      "outputs": [],
      "source": [
        "sub.to_csv(f\"/content/drive/MyDrive/Exercises/Studies_Structured_Data/Data/Glucose/submissions/Submission_val_encoder_v1_ext.csv\", index=False)\n",
        "pred_resc_train.to_csv(f\"/content/drive/MyDrive/Exercises/Studies_Structured_Data/Data/Glucose/submissions/train_encoder_v1_ext.csv\")"
      ]
    },
    {
      "cell_type": "code",
      "source": [
        "del latent_model_prellin_v1, autoencoder_prellin_v1, latent_representation_v1\n",
        "gc.collect()"
      ],
      "metadata": {
        "colab": {
          "base_uri": "https://localhost:8080/"
        },
        "id": "3pwWKADKlPFe",
        "outputId": "14f4873c-0779-4985-b31b-6ba399846215"
      },
      "execution_count": null,
      "outputs": [
        {
          "output_type": "execute_result",
          "data": {
            "text/plain": [
              "19698"
            ]
          },
          "metadata": {},
          "execution_count": 149
        }
      ]
    },
    {
      "cell_type": "markdown",
      "metadata": {
        "id": "ff-DS6BbqRyA"
      },
      "source": [
        "#### MODEL 2"
      ]
    },
    {
      "cell_type": "code",
      "execution_count": null,
      "metadata": {
        "id": "Jru_Uj8aqRyB"
      },
      "outputs": [],
      "source": [
        "def model_autoencoder_v2():\n",
        "  input_dim = 32\n",
        "  latent_vec_dim = 3\n",
        "\n",
        "  # 2. Build the autoencoder model\n",
        "  input_ts = keras.Input(shape=(input_dim, 1))\n",
        "\n",
        "  # Encoder\n",
        "  x = layers.LSTM(64, return_sequences=True)(input_ts)\n",
        "  x = layers.LSTM(32, return_sequences=True)(input_ts) #(x)\n",
        "  x = layers.LSTM(16)(x)\n",
        "  encoded = layers.Dense(latent_vec_dim, activation='linear', kernel_regularizer = tf.keras.regularizers.L2(l2=0.1))(x)\n",
        "\n",
        "  output_1 = Dense(1, activation='linear', name=\"Class_Output\")(encoded)\n",
        "\n",
        "  #encoder = encoded\n",
        "\n",
        "  # Decoder\n",
        "  x = layers.RepeatVector(72)(encoded)\n",
        "  x = layers.LSTM(16, return_sequences=True)(x)\n",
        "  x = layers.LSTM(32, return_sequences=True)(x) #, return_sequences=True\n",
        "  x = layers.LSTM(64, return_sequences=True)(x)\n",
        "\n",
        "  decoded = layers.Dense(1, name=\"Deep_Autoencoder\")(x)\n",
        "\n",
        "  # Connect both encoder and decoder\n",
        "  autoencoder_mult = Model(inputs = input_ts, outputs = [decoded, output_1])\n",
        "\n",
        "  # Latent representation (Optional)\n",
        "  latent_model = Model(input_ts, encoded)\n",
        "\n",
        "  return autoencoder_mult, latent_model"
      ]
    },
    {
      "cell_type": "code",
      "execution_count": null,
      "metadata": {
        "id": "mq0LoA9YqRyB"
      },
      "outputs": [],
      "source": [
        "autoencoder_prellin_v2, latent_model_prellin_v2 = model_autoencoder_v2()\n",
        "\n",
        "# Get summary\n",
        "autoencoder_prellin_v2.summary()"
      ]
    },
    {
      "cell_type": "code",
      "execution_count": null,
      "metadata": {
        "id": "fZbb8hpQqRyC"
      },
      "outputs": [],
      "source": [
        "lr = keras.callbacks.ReduceLROnPlateau(monitor=\"val_loss\",\n",
        "                        factor=0.75,\n",
        "                        patience=10,\n",
        "                        verbose=1,\n",
        "                        mode=\"min\")\n",
        "\n",
        "early_stop = keras.callbacks.EarlyStopping(monitor=\"val_loss\",\n",
        "                            patience=25,\n",
        "                            verbose=1,\n",
        "                            mode=\"min\",\n",
        "                            restore_best_weights=True)\n",
        "\n",
        "\n",
        "##################################################################### Relevant Folders\n",
        "folders_experiment = f\"/content/drive/MyDrive/Exercises/Studies_Structured_Data/Models/Glucose/encoder_02/\"\n",
        "##################################################################### Generate and Fit Model\n",
        "# Callbacks:\n",
        "checkpoint_filepath = folders_experiment + f'checkpoint/best_weights_v2.weights.h5'\n",
        "\n",
        "Checkpoint = keras.callbacks.ModelCheckpoint(filepath=checkpoint_filepath,\n",
        "                                                 save_weights_only=True,\n",
        "                                                 monitor=\"val_loss\",\n",
        "                                                 mode='min')"
      ]
    },
    {
      "cell_type": "code",
      "execution_count": null,
      "metadata": {
        "id": "CyBUUl0AqRyC"
      },
      "outputs": [],
      "source": [
        "# Compile the autoencoder model\n",
        "optimizer = keras.optimizers.Adam(learning_rate=0.0005)\n",
        "loss_0 = 'mse'\n",
        "loss_1 = 'mse'\n",
        "\n",
        "autoencoder_prellin_v2.compile(loss=[loss_0, loss_1], loss_weights=[0.75,0.25], optimizer=optimizer, metrics={'Deep_Autoencoder': 'mse','Class_Output': RootMeanSquaredError()})\n",
        "\n",
        "# Train the autoencoder with MNIST data\n",
        "#history_prellin_v2 = autoencoder_prellin_v2.fit(train, [train, y_enc_train], epochs=120, batch_size=256, callbacks = [early_stop, Checkpoint, lr],\n",
        "#                                                 shuffle=True, validation_data=(valid, [valid, y_enc_valid]))\n",
        "\n",
        "autoencoder_prellin_v2.load_weights(checkpoint_filepath)"
      ]
    },
    {
      "cell_type": "code",
      "execution_count": null,
      "metadata": {
        "id": "DHgdnQdmqRyD"
      },
      "outputs": [],
      "source": [
        "# Plot training and validation loss scores\n",
        "# against the number of epochs.\n",
        "plt.figure(figsize=(5, 3))\n",
        "plt.plot(history_prellin_v2.history['loss'], label='Train')\n",
        "plt.plot(history_prellin_v2.history['val_loss'], label='Validation')\n",
        "plt.ylabel('MSE')\n",
        "plt.xlabel('Epoch')\n",
        "plt.title('Autoencoder Reconstruction Loss', pad=13)\n",
        "plt.legend(loc='upper right')"
      ]
    },
    {
      "cell_type": "code",
      "execution_count": null,
      "metadata": {
        "id": "H9THNXXDqRyD"
      },
      "outputs": [],
      "source": [
        "latent_representation_v2 = latent_model_prellin_v2.predict(valid)\n",
        "latent_representation_train_v2 = latent_model_prellin_v2.predict(train)"
      ]
    },
    {
      "cell_type": "code",
      "execution_count": null,
      "metadata": {
        "id": "Un5i5mBPqRyD"
      },
      "outputs": [],
      "source": [
        "fig, axs = plt.subplots(1,2,figsize=(6, 3))\n",
        "\n",
        "sns.scatterplot(x=latent_representation_v2[:,0],\n",
        "                y=latent_representation_v2[:,1],\n",
        "                c=y_enc_valid,\n",
        "                palette='tab10',\n",
        "                ax=axs[0])\n",
        "\n",
        "sns.scatterplot(x=latent_representation_train_v2[:,0],\n",
        "                y=latent_representation_train_v2[:,1],\n",
        "                c=y_enc_train,\n",
        "                palette='tab10',\n",
        "                ax=axs[1]\n",
        "                )\n",
        "\n",
        "axs[0].set_xlabel(\"Encoder first dimension\")\n",
        "axs[0].set_ylabel(\"Encoder second dimension\")\n",
        "\n",
        "axs[1].set_xlabel(\"Encoder first dimension\")\n",
        "axs[1].set_ylabel(\"Encoder second dimension\")\n",
        "\n",
        "axs[0].grid(linestyle='--', alpha=0.5)\n",
        "\n",
        "plt.tight_layout()\n",
        "plt.show()"
      ]
    },
    {
      "cell_type": "code",
      "execution_count": null,
      "metadata": {
        "id": "vGWFYs8hFxCJ"
      },
      "outputs": [],
      "source": [
        "fig, axs = plt.subplots(1,2,figsize=(6, 3))\n",
        "\n",
        "sns.scatterplot(x=latent_representation_v2[:,0],\n",
        "                y=latent_representation_v2[:,2],\n",
        "                c=y_enc_valid,\n",
        "                palette='tab10',\n",
        "                ax=axs[0])\n",
        "\n",
        "sns.scatterplot(x=latent_representation_train_v2[:,0],\n",
        "                y=latent_representation_train_v2[:,2],\n",
        "                c=y_enc_train,\n",
        "                palette='tab10',\n",
        "                ax=axs[1]\n",
        "                )\n",
        "\n",
        "axs[0].set_xlabel(\"Encoder first dimension\")\n",
        "axs[0].set_ylabel(\"Encoder second dimension\")\n",
        "\n",
        "axs[1].set_xlabel(\"Encoder first dimension\")\n",
        "axs[1].set_ylabel(\"Encoder second dimension\")\n",
        "\n",
        "axs[0].grid(linestyle='--', alpha=0.5)\n",
        "\n",
        "plt.tight_layout()\n",
        "plt.show()"
      ]
    },
    {
      "cell_type": "code",
      "execution_count": null,
      "metadata": {
        "id": "LHW-zPCE5Z0N"
      },
      "outputs": [],
      "source": [
        "latent_representation_v2_final = latent_model_prellin_v2.predict(X_enc)\n",
        "latent_representation_v2_final_test = latent_model_prellin_v2.predict(X_enc_test)"
      ]
    },
    {
      "cell_type": "code",
      "execution_count": null,
      "metadata": {
        "id": "17wZtawu79UU"
      },
      "outputs": [],
      "source": [
        "X_enc.shape"
      ]
    },
    {
      "cell_type": "code",
      "execution_count": null,
      "metadata": {
        "id": "J8jtXy4T6PJ2"
      },
      "outputs": [],
      "source": [
        "#latent_representation_v2_final"
      ]
    },
    {
      "cell_type": "code",
      "execution_count": null,
      "metadata": {
        "id": "mFE6givM7qq7"
      },
      "outputs": [],
      "source": [
        "model_version=2\n",
        "for i in range(latent_representation_v2_final.shape[1]):\n",
        "  df_train[\"enc_0{}_v{}\".format(i, model_version)] = latent_representation_v2_final[:,i]\n",
        "  df_test[\"enc_0{}_v{}\".format(i, model_version)] = latent_representation_v2_final_test[:,i]"
      ]
    },
    {
      "cell_type": "code",
      "execution_count": null,
      "metadata": {
        "id": "U4LD-1uj8zPA"
      },
      "outputs": [],
      "source": [
        "df_train.isnull().sum().sum(), df_test.isnull().sum().sum(), df_train.shape, df_test.shape"
      ]
    },
    {
      "cell_type": "markdown",
      "metadata": {
        "id": "92L0dHXi8rfF"
      },
      "source": [
        "##### STORE ENCODED FEATURES from Model 2:"
      ]
    },
    {
      "cell_type": "code",
      "execution_count": null,
      "metadata": {
        "id": "ygnpEeXP7mDi"
      },
      "outputs": [],
      "source": [
        "#df_train.to_csv(\"/content/drive/MyDrive/Exercises/Studies_Structured_Data/Data/Glucose/train_cluster_enc_v2.csv\")\n",
        "#df_test.to_csv(\"/content/drive/MyDrive/Exercises/Studies_Structured_Data/Data/Glucose/test_cluster_enc_v2.csv\")\n",
        "\n",
        "df_train = pd.read_csv(\"/content/drive/MyDrive/Exercises/Studies_Structured_Data/Data/Glucose/train_cluster_enc_v2.csv\", index_col=0)\n",
        "df_test = pd.read_csv(\"/content/drive/MyDrive/Exercises/Studies_Structured_Data/Data/Glucose/test_cluster_enc_v2.csv\", index_col=0)"
      ]
    },
    {
      "cell_type": "markdown",
      "metadata": {
        "id": "3WWfcZ76N7Qr"
      },
      "source": [
        "##### Test Correlations:"
      ]
    },
    {
      "cell_type": "code",
      "execution_count": null,
      "metadata": {
        "id": "VSAmI3L_N-7X"
      },
      "outputs": [],
      "source": [
        "df_train[['PC_1', 'PC_2', 'PC_3', 'enc_00_v1','enc_01_v1', 'enc_00_v2', 'enc_01_v2', 'enc_02_v2',\"bg+1:00\"]].corr().style.background_gradient(cmap='viridis')"
      ]
    },
    {
      "cell_type": "markdown",
      "metadata": {
        "id": "R_Efr7PwNDce"
      },
      "source": [
        "##### Submission Model 2:"
      ]
    },
    {
      "cell_type": "code",
      "execution_count": null,
      "metadata": {
        "id": "NTNw6PpaNDcf"
      },
      "outputs": [],
      "source": [
        "recons, pred = autoencoder_prellin_v2.predict(X_enc_test)\n",
        "_, pred_train = autoencoder_prellin_v2.predict(X_enc)"
      ]
    },
    {
      "cell_type": "code",
      "execution_count": null,
      "metadata": {
        "id": "a01uKmc7NDcf"
      },
      "outputs": [],
      "source": [
        "df_train_scaled=pd.read_csv(\"/content/drive/MyDrive/Exercises/Studies_Structured_Data/Data/Glucose/X_train_scaled.csv\", index_col=0)\n",
        "df_test.shape"
      ]
    },
    {
      "cell_type": "code",
      "execution_count": null,
      "metadata": {
        "id": "zoIwaUyINDcg"
      },
      "outputs": [],
      "source": [
        "target_scaler = StandardScaler()\n",
        "target_scaler.fit(df_train_scaled[\"bg+1:00\"].values.reshape(-1, 1))"
      ]
    },
    {
      "cell_type": "code",
      "execution_count": null,
      "metadata": {
        "id": "EQZIflaiNDcg"
      },
      "outputs": [],
      "source": [
        "pred_resc = target_scaler.inverse_transform(pred.reshape(-1,1))\n",
        "pred_resc_train = target_scaler.inverse_transform(pred_train.reshape(-1,1))"
      ]
    },
    {
      "cell_type": "code",
      "execution_count": null,
      "metadata": {
        "id": "BLq0yMIsNDcg"
      },
      "outputs": [],
      "source": [
        "sub = pd.read_csv(\"/content/drive/MyDrive/Exercises/Studies_Structured_Data/Data/Glucose/sample_submission.csv\")\n",
        "sub.shape"
      ]
    },
    {
      "cell_type": "code",
      "execution_count": null,
      "metadata": {
        "id": "uS_iwSkLNDcg"
      },
      "outputs": [],
      "source": [
        "sub[\"bg+1:00\"] = pred_resc\n",
        "pred_resc_train = pd.DataFrame(data=pred_resc_train, index=df_train.index, columns=[\"bg+1:00\"])"
      ]
    },
    {
      "cell_type": "code",
      "execution_count": null,
      "metadata": {
        "id": "cNIfk9ezNDcg"
      },
      "outputs": [],
      "source": [
        "sub.to_csv(f\"/content/drive/MyDrive/Exercises/Studies_Structured_Data/Data/Glucose/submissions/Submission_val_encoder_v2.csv\", index=False)\n",
        "pred_resc_train.to_csv(f\"/content/drive/MyDrive/Exercises/Studies_Structured_Data/Data/Glucose/submissions/train_encoder_v2.csv\")"
      ]
    },
    {
      "cell_type": "markdown",
      "metadata": {
        "id": "piVmBWu7lgWJ"
      },
      "source": [
        "#### MODEL 3"
      ]
    },
    {
      "cell_type": "code",
      "execution_count": null,
      "metadata": {
        "id": "FJFFV5zEmt_j"
      },
      "outputs": [],
      "source": [
        "cols_bg = ['bg-5:55', 'bg-5:50', 'bg-5:45', 'bg-5:40','bg-5:35', 'bg-5:30',\n",
        "           'bg-5:25', 'bg-5:20', 'bg-5:15', 'bg-5:10','bg-5:05', 'bg-5:00',\n",
        "           'bg-4:55', 'bg-4:50', 'bg-4:45', 'bg-4:40','bg-4:35', 'bg-4:30',\n",
        "           'bg-4:25', 'bg-4:20', 'bg-4:15', 'bg-4:10','bg-4:05', 'bg-4:00',\n",
        "           'bg-3:55', 'bg-3:50', 'bg-3:45', 'bg-3:40','bg-3:35', 'bg-3:30',\n",
        "           'bg-3:25', 'bg-3:20', 'bg-3:15', 'bg-3:10','bg-3:05', 'bg-3:00',\n",
        "           'bg-2:55', 'bg-2:50', 'bg-2:45', 'bg-2:40','bg-2:35', 'bg-2:30',\n",
        "           'bg-2:25', 'bg-2:20', 'bg-2:15', 'bg-2:10','bg-2:05', 'bg-2:00',\n",
        "           'bg-1:55', 'bg-1:50', 'bg-1:45', 'bg-1:40','bg-1:35', 'bg-1:30',\n",
        "           'bg-1:25', 'bg-1:20', 'bg-1:15', 'bg-1:10','bg-1:05', 'bg-1:00',\n",
        "           'bg-0:55', 'bg-0:50', 'bg-0:45', 'bg-0:40','bg-0:35', 'bg-0:30',\n",
        "           'bg-0:25', 'bg-0:20', 'bg-0:15', 'bg-0:10','bg-0:05', 'bg-0:00']\n",
        "\n",
        "cols_brake = ['brake-5:55', 'brake-5:50', 'brake-5:45', 'brake-5:40','brake-5:35', 'brake-5:30',\n",
        "              'brake-5:25', 'brake-5:20', 'brake-5:15', 'brake-5:10','brake-5:05', 'brake-5:00',\n",
        "              'brake-4:55', 'brake-4:50', 'brake-4:45', 'brake-4:40','brake-4:35', 'brake-4:30',\n",
        "              'brake-4:25', 'brake-4:20', 'brake-4:15', 'brake-4:10','brake-4:05', 'brake-4:00',\n",
        "              'brake-3:55', 'brake-3:50', 'brake-3:45', 'brake-3:40','brake-3:35', 'brake-3:30',\n",
        "              'brake-3:25', 'brake-3:20', 'brake-3:15', 'brake-3:10','brake-3:05', 'brake-3:00',\n",
        "              'brake-2:55', 'brake-2:50', 'brake-2:45', 'brake-2:40','brake-2:35', 'brake-2:30',\n",
        "              'brake-2:25', 'brake-2:20', 'brake-2:15', 'brake-2:10','brake-2:05', 'brake-2:00',\n",
        "              'brake-1:55', 'brake-1:50', 'brake-1:45', 'brake-1:40','brake-1:35', 'brake-1:30',\n",
        "              'brake-1:25', 'brake-1:20', 'brake-1:15', 'brake-1:10','brake-1:05', 'brake-1:00',\n",
        "              'brake-0:55', 'brake-0:50', 'brake-0:45', 'brake-0:40','brake-0:35', 'brake-0:30',\n",
        "              'brake-0:25', 'brake-0:20', 'brake-0:15', 'brake-0:10','brake-0:05', 'brake-0:00']\n"
      ]
    },
    {
      "cell_type": "code",
      "execution_count": null,
      "metadata": {
        "id": "TjlPfLzOneS-"
      },
      "outputs": [],
      "source": [
        "X_enc = df_train[[\"p_num\",\"obv_n\"]+cols_bg+cols_brake]\n",
        "y_enc = df_train[\"bg+1:00\"]\n",
        "X_enc_test = df_test[cols_bg+cols_brake]\n",
        "X_enc.shape"
      ]
    },
    {
      "cell_type": "code",
      "execution_count": null,
      "metadata": {
        "id": "0VSSuqbBneS_"
      },
      "outputs": [],
      "source": [
        "X_enc.isnull().sum().sum(), y_enc.isna().sum()\n",
        "#y_enc[:10]"
      ]
    },
    {
      "cell_type": "code",
      "execution_count": null,
      "metadata": {
        "id": "ST1hDGd_neS_"
      },
      "outputs": [],
      "source": [
        "p1_val = list(X_enc[(X_enc[\"p_num\"]==\"p01\")&(X_enc[\"obv_n\"]>=7600)].index)\n",
        "p2_val = list(X_enc[(X_enc[\"p_num\"]==\"p02\")&(X_enc[\"obv_n\"]>=22500)].index)\n",
        "p3_val = list(X_enc[(X_enc[\"p_num\"]==\"p03\")&(X_enc[\"obv_n\"]>=23000)].index)\n",
        "p4_val = list(X_enc[(X_enc[\"p_num\"]==\"p04\")&(X_enc[\"obv_n\"]>=22000)].index)\n",
        "p5_val = list(X_enc[(X_enc[\"p_num\"]==\"p05\")&(X_enc[\"obv_n\"]>=7600)].index)\n",
        "p6_val = list(X_enc[(X_enc[\"p_num\"]==\"p06\")&(X_enc[\"obv_n\"]>=7600)].index)\n",
        "p10_val = list(X_enc[(X_enc[\"p_num\"]==\"p10\")&(X_enc[\"obv_n\"]>=22500)].index)\n",
        "p11_val = list(X_enc[(X_enc[\"p_num\"]==\"p11\")&(X_enc[\"obv_n\"]>=22000)].index)\n",
        "p12_val = list(X_enc[(X_enc[\"p_num\"]==\"p12\")&(X_enc[\"obv_n\"]>=22500)].index)\n",
        "\n",
        "matrix_val = p1_val+p2_val+p3_val+p4_val+p5_val+p6_val+p10_val+p11_val+p12_val\n",
        "len(matrix_val)/X_enc.shape[0]\n",
        "\n",
        "X_enc_train = X_enc.drop(matrix_val)\n",
        "X_enc_valid = X_enc.loc[matrix_val]\n",
        "\n",
        "y_enc_train = y_enc.drop(matrix_val)\n",
        "y_enc_valid = y_enc.loc[matrix_val]\n",
        "\n",
        "X_enc_train.drop([\"p_num\",\"obv_n\"], axis=1, inplace=True)\n",
        "X_enc_valid.drop([\"p_num\",\"obv_n\"], axis=1, inplace=True)\n",
        "X_enc.drop([\"p_num\",\"obv_n\"], axis=1, inplace=True)\n",
        "\n",
        "X_enc_train.shape, X_enc_valid.shape, X_enc.shape, y_enc_train.shape, y_enc_valid.shape, y_enc.shape"
      ]
    },
    {
      "cell_type": "code",
      "execution_count": null,
      "metadata": {
        "id": "WlSNNRv7neTA"
      },
      "outputs": [],
      "source": [
        "# Assuming your data is in a NumPy array called 'data'\n",
        "train = X_enc_train.values.reshape((-1, 72, 2))  # Reshape for LSTM\n",
        "valid = X_enc_valid.values.reshape((-1, 72, 2))\n",
        "X_enc = X_enc.values.reshape((-1, 72, 2))\n",
        "X_enc_test = X_enc_test.values.reshape((-1, 72, 2))\n",
        "\n",
        "y_enc_train = y_enc_train.values.reshape((-1, 1))\n",
        "y_enc_valid = y_enc_valid.values.reshape((-1, 1))"
      ]
    },
    {
      "cell_type": "code",
      "execution_count": null,
      "metadata": {
        "id": "EdHhV0W5lgWK"
      },
      "outputs": [],
      "source": [
        "def model_autoencoder_v3():\n",
        "  input_dim = 72\n",
        "  latent_vec_dim = 5\n",
        "\n",
        "  # 2. Build the autoencoder model\n",
        "  input_ts = keras.Input(shape=(input_dim, 2))\n",
        "\n",
        "  # Encoder\n",
        "  x = layers.LSTM(64, return_sequences=True)(input_ts)\n",
        "  x = layers.LSTM(32, return_sequences=True)(input_ts) #(x)\n",
        "  x = layers.LSTM(16)(x)\n",
        "  encoded = layers.Dense(latent_vec_dim, activation='linear', kernel_regularizer = tf.keras.regularizers.L2(l2=0.1))(x)\n",
        "\n",
        "  output_1 = Dense(1, activation='linear', name=\"Reg_Output\")(encoded)\n",
        "\n",
        "  #encoder = encoded\n",
        "\n",
        "  # Decoder\n",
        "  x = layers.RepeatVector(72)(encoded)\n",
        "  x = layers.LSTM(16, return_sequences=True)(x)\n",
        "  x = layers.LSTM(32, return_sequences=True)(x) #, return_sequences=True\n",
        "  x = layers.LSTM(64, return_sequences=True)(x)\n",
        "\n",
        "  decoded = layers.Dense(2, name=\"decoded\")(x)\n",
        "\n",
        "  # Connect both encoder and decoder\n",
        "  autoencoder_mult = Model(inputs = input_ts, outputs = [decoded, output_1], name=\"Deep_Autoencoder\")\n",
        "\n",
        "  # Latent representation (Optional)\n",
        "  latent_model = Model(input_ts, encoded)\n",
        "\n",
        "  return autoencoder_mult, latent_model"
      ]
    },
    {
      "cell_type": "code",
      "execution_count": null,
      "metadata": {
        "id": "OOZRfd1NlgWL"
      },
      "outputs": [],
      "source": [
        "autoencoder_prellin_v3, latent_model_prellin_v3 = model_autoencoder_v3()\n",
        "\n",
        "# Get summary\n",
        "autoencoder_prellin_v3.summary()"
      ]
    },
    {
      "cell_type": "code",
      "execution_count": null,
      "metadata": {
        "id": "_KurroollgWL"
      },
      "outputs": [],
      "source": [
        "lr = keras.callbacks.ReduceLROnPlateau(monitor=\"val_Reg_Output_root_mean_squared_error\",\n",
        "                        factor=0.75,\n",
        "                        patience=10,\n",
        "                        verbose=1,\n",
        "                        mode=\"min\")\n",
        "\n",
        "early_stop = keras.callbacks.EarlyStopping(monitor=\"val_Reg_Output_root_mean_squared_error\",\n",
        "                            patience=25,\n",
        "                            verbose=1,\n",
        "                            mode=\"min\",\n",
        "                            restore_best_weights=True)\n",
        "\n",
        "\n",
        "##################################################################### Relevant Folders\n",
        "folders_experiment = f\"/content/drive/MyDrive/Exercises/Studies_Structured_Data/Models/Glucose/encoder_03/\"\n",
        "##################################################################### Generate and Fit Model\n",
        "# Callbacks:\n",
        "checkpoint_filepath = folders_experiment + f'checkpoint/best_weights_v3.weights.h5'\n",
        "\n",
        "Checkpoint = keras.callbacks.ModelCheckpoint(filepath=checkpoint_filepath,\n",
        "                                                 save_weights_only=True,\n",
        "                                                 monitor=\"val_Reg_Output_root_mean_squared_error\",\n",
        "                                                 mode='min')"
      ]
    },
    {
      "cell_type": "code",
      "execution_count": null,
      "metadata": {
        "id": "kBXOR0rhlgWL"
      },
      "outputs": [],
      "source": [
        "# Compile the autoencoder model\n",
        "optimizer = keras.optimizers.Adam(learning_rate=0.0005)\n",
        "loss_0 = 'mse'\n",
        "loss_1 = 'mse'\n",
        "\n",
        "autoencoder_prellin_v3.compile(loss=[loss_0, loss_1], loss_weights=[0.75,0.25], optimizer=optimizer, metrics={'decoded': 'mse','Reg_Output': RootMeanSquaredError()})\n",
        "\n",
        "# Train the autoencoder with MNIST data\n",
        "#history_prellin_v3 = autoencoder_prellin_v3.fit(train, [train, y_enc_train], epochs=120, batch_size=256, callbacks = [early_stop, Checkpoint, lr],\n",
        "#                                                 shuffle=True, validation_data=(valid, [valid, y_enc_valid]))\n",
        "\n",
        "autoencoder_prellin_v3.load_weights(checkpoint_filepath)"
      ]
    },
    {
      "cell_type": "code",
      "execution_count": null,
      "metadata": {
        "id": "ja6MKiVxlgWM"
      },
      "outputs": [],
      "source": [
        "# Plot training and validation loss scores\n",
        "# against the number of epochs.\n",
        "plt.figure(figsize=(5, 3))\n",
        "plt.plot(history_prellin_v3.history['loss'], label='Train')\n",
        "plt.plot(history_prellin_v3.history['val_loss'], label='Validation')\n",
        "plt.ylabel('MSE')\n",
        "plt.xlabel('Epoch')\n",
        "plt.title('Autoencoder Reconstruction Loss', pad=13)\n",
        "plt.legend(loc='upper right')\n",
        "plt.show()"
      ]
    },
    {
      "cell_type": "code",
      "execution_count": null,
      "metadata": {
        "id": "ofoLhI6qlgWM"
      },
      "outputs": [],
      "source": [
        "latent_representation_v3 = latent_model_prellin_v3.predict(valid)\n",
        "latent_representation_train_v3 = latent_model_prellin_v3.predict(train)"
      ]
    },
    {
      "cell_type": "code",
      "execution_count": null,
      "metadata": {
        "id": "0EX95QyplgWM"
      },
      "outputs": [],
      "source": [
        "fig, axs = plt.subplots(1,2,figsize=(6, 3))\n",
        "\n",
        "sns.scatterplot(x=latent_representation_v3[:,0],\n",
        "                y=latent_representation_v3[:,1],\n",
        "                c=y_enc_valid,\n",
        "                palette='tab10',\n",
        "                ax=axs[0])\n",
        "\n",
        "sns.scatterplot(x=latent_representation_train_v3[:,0],\n",
        "                y=latent_representation_train_v3[:,1],\n",
        "                c=y_enc_train,\n",
        "                palette='tab10',\n",
        "                ax=axs[1]\n",
        "                )\n",
        "\n",
        "axs[0].set_xlabel(\"Enc. First dimension\", fontsize=8)\n",
        "axs[0].set_ylabel(\"Enc. Second dimension\", fontsize=8)\n",
        "\n",
        "axs[1].set_xlabel(\"Enc. First dimension - Train\", fontsize=8)\n",
        "axs[1].set_ylabel(\"Enc. Second dimension - Train\", fontsize=8)\n",
        "\n",
        "axs[0].grid(linestyle='--', alpha=0.5)\n",
        "\n",
        "plt.tight_layout()\n",
        "plt.show()"
      ]
    },
    {
      "cell_type": "code",
      "execution_count": null,
      "metadata": {
        "id": "RWUL6-GklgWM"
      },
      "outputs": [],
      "source": [
        "fig, axs = plt.subplots(1,2,figsize=(6, 3))\n",
        "\n",
        "sns.scatterplot(x=latent_representation_v3[:,0],\n",
        "                y=latent_representation_v3[:,2],\n",
        "                c=y_enc_valid,\n",
        "                palette='tab10',\n",
        "                ax=axs[0])\n",
        "\n",
        "sns.scatterplot(x=latent_representation_train_v3[:,0],\n",
        "                y=latent_representation_train_v3[:,2],\n",
        "                c=y_enc_train,\n",
        "                palette='tab10',\n",
        "                ax=axs[1]\n",
        "                )\n",
        "\n",
        "axs[0].set_xlabel(\"Enc. First dimension\", fontsize=8)\n",
        "axs[0].set_ylabel(\"Enc. Third dimension\", fontsize=8)\n",
        "\n",
        "axs[1].set_xlabel(\"Enc. First dimension - Train\", fontsize=8)\n",
        "axs[1].set_ylabel(\"Enc. Third dimension - Train\", fontsize=8)\n",
        "\n",
        "axs[0].grid(linestyle='--', alpha=0.5)\n",
        "\n",
        "plt.tight_layout()\n",
        "plt.show()"
      ]
    },
    {
      "cell_type": "code",
      "execution_count": null,
      "metadata": {
        "id": "WFfoDUMllgWN"
      },
      "outputs": [],
      "source": [
        "latent_representation_v3_final = latent_model_prellin_v3.predict(X_enc)\n",
        "latent_representation_v3_final_test = latent_model_prellin_v3.predict(X_enc_test)"
      ]
    },
    {
      "cell_type": "code",
      "execution_count": null,
      "metadata": {
        "id": "1cynNtvulgWN"
      },
      "outputs": [],
      "source": [
        "X_enc.shape"
      ]
    },
    {
      "cell_type": "code",
      "execution_count": null,
      "metadata": {
        "id": "A1fNaImKlgWN"
      },
      "outputs": [],
      "source": [
        "latent_representation_v3_final.shape"
      ]
    },
    {
      "cell_type": "code",
      "execution_count": null,
      "metadata": {
        "id": "ypNayRwmlgWN"
      },
      "outputs": [],
      "source": [
        "df_train[\"enc_01_v3\"] = latent_representation_v3_final[:,0]\n",
        "df_train[\"enc_02_v3\"] = latent_representation_v3_final[:,1]\n",
        "df_train[\"enc_03_v3\"] = latent_representation_v3_final[:,2]\n",
        "df_train[\"enc_04_v3\"] = latent_representation_v3_final[:,3]\n",
        "df_train[\"enc_05_v3\"] = latent_representation_v3_final[:,4]\n",
        "\n",
        "df_test[\"enc_01_v3\"] = latent_representation_v3_final_test[:,0]\n",
        "df_test[\"enc_02_v3\"] = latent_representation_v3_final_test[:,1]\n",
        "df_test[\"enc_03_v3\"] = latent_representation_v3_final_test[:,2]\n",
        "df_test[\"enc_04_v3\"] = latent_representation_v3_final_test[:,3]\n",
        "df_test[\"enc_05_v3\"] = latent_representation_v3_final_test[:,4]"
      ]
    },
    {
      "cell_type": "code",
      "execution_count": null,
      "metadata": {
        "id": "sjZner92lgWN"
      },
      "outputs": [],
      "source": [
        "df_train.isnull().sum().sum(), df_test.isnull().sum().sum(), df_train.shape, df_test.shape"
      ]
    },
    {
      "cell_type": "markdown",
      "metadata": {
        "id": "es9jqEnilgWN"
      },
      "source": [
        "##### STORE ENCODED FEATURES from Model 3:"
      ]
    },
    {
      "cell_type": "code",
      "execution_count": null,
      "metadata": {
        "id": "N9HeQq8dlgWN"
      },
      "outputs": [],
      "source": [
        "#df_train.to_csv(\"/content/drive/MyDrive/Exercises/Studies_Structured_Data/Data/Glucose/train_cluster_enc_v3.csv\")\n",
        "#df_test.to_csv(\"/content/drive/MyDrive/Exercises/Studies_Structured_Data/Data/Glucose/test_cluster_enc_v3.csv\")\n",
        "\n",
        "df_train = pd.read_csv(\"/content/drive/MyDrive/Exercises/Studies_Structured_Data/Data/Glucose/train_cluster_enc_v3.csv\", index_col=0)\n",
        "df_test = pd.read_csv(\"/content/drive/MyDrive/Exercises/Studies_Structured_Data/Data/Glucose/test_cluster_enc_v3.csv\", index_col=0)"
      ]
    },
    {
      "cell_type": "markdown",
      "metadata": {
        "id": "1NFaG136P5W8"
      },
      "source": [
        "##### Test Correlations:"
      ]
    },
    {
      "cell_type": "code",
      "execution_count": null,
      "metadata": {
        "id": "AFeax-W5P5W9"
      },
      "outputs": [],
      "source": [
        "df_train[['PC_1', 'PC_2', 'PC_3', 'enc_01_v3', 'enc_02_v3', 'enc_03_v3','enc_04_v3','enc_05_v3',\"bg+1:00\"]].corr().style.background_gradient(cmap='viridis')"
      ]
    },
    {
      "cell_type": "markdown",
      "metadata": {
        "id": "_cu8PiRhNkZc"
      },
      "source": [
        "##### Submission Model 3:"
      ]
    },
    {
      "cell_type": "code",
      "execution_count": null,
      "metadata": {
        "id": "XTgteWjQNkZd"
      },
      "outputs": [],
      "source": [
        "recons, pred = autoencoder_prellin_v3.predict(X_enc_test)\n",
        "_, pred_train = autoencoder_prellin_v3.predict(X_enc)"
      ]
    },
    {
      "cell_type": "code",
      "execution_count": null,
      "metadata": {
        "id": "uTNeMtkCNkZd"
      },
      "outputs": [],
      "source": [
        "df_train_scaled=pd.read_csv(\"/content/drive/MyDrive/Exercises/Studies_Structured_Data/Data/Glucose/X_train_scaled.csv\", index_col=0)\n",
        "df_test.shape"
      ]
    },
    {
      "cell_type": "code",
      "execution_count": null,
      "metadata": {
        "id": "cuobk2KMNkZe"
      },
      "outputs": [],
      "source": [
        "target_scaler = StandardScaler()\n",
        "target_scaler.fit(df_train_scaled[\"bg+1:00\"].values.reshape(-1, 1))"
      ]
    },
    {
      "cell_type": "code",
      "execution_count": null,
      "metadata": {
        "id": "I9bvIj2pNkZe"
      },
      "outputs": [],
      "source": [
        "pred_resc = target_scaler.inverse_transform(pred.reshape(-1,1))\n",
        "pred_resc_train = target_scaler.inverse_transform(pred_train.reshape(-1,1))"
      ]
    },
    {
      "cell_type": "code",
      "execution_count": null,
      "metadata": {
        "id": "6paGV8apNkZe"
      },
      "outputs": [],
      "source": [
        "sub = pd.read_csv(\"/content/drive/MyDrive/Exercises/Studies_Structured_Data/Data/Glucose/sample_submission.csv\")\n",
        "sub.shape"
      ]
    },
    {
      "cell_type": "code",
      "execution_count": null,
      "metadata": {
        "id": "ll7GcW32NkZe"
      },
      "outputs": [],
      "source": [
        "sub[\"bg+1:00\"] = pred_resc\n",
        "pred_resc_train = pd.DataFrame(data=pred_resc_train, index=df_train.index, columns=[\"bg+1:00\"])"
      ]
    },
    {
      "cell_type": "code",
      "execution_count": null,
      "metadata": {
        "id": "UHFanEvDNkZe"
      },
      "outputs": [],
      "source": [
        "sub.to_csv(f\"/content/drive/MyDrive/Exercises/Studies_Structured_Data/Data/Glucose/submissions/Submission_val_encoder_v3.csv\", index=False)\n",
        "pred_resc_train.to_csv(f\"/content/drive/MyDrive/Exercises/Studies_Structured_Data/Data/Glucose/submissions/train_encoder_v3.csv\")"
      ]
    },
    {
      "cell_type": "markdown",
      "metadata": {
        "id": "nsUt5T5Q3tmq"
      },
      "source": [
        "#### MODEL 4"
      ]
    },
    {
      "cell_type": "code",
      "execution_count": null,
      "metadata": {
        "id": "X-ECOtIx3tmr"
      },
      "outputs": [],
      "source": [
        "cols_bg = ['bg0','bg1','bg2','bg3','bg4','bg5','bg6','bg7','bg8','bg9','bg10','bg11','bg12','bg13','bg14',\n",
        "           'bg15','bg16','bg17','bg18','bg19','bg20','bg21','bg22','bg23','bg24','bg25','bg26','bg27','bg28',\n",
        "           'bg29','bg30','bg31']\n",
        "\n",
        "cols_brake = ['brake0','brake1','brake2','brake3','brake4','brake5','brake6','brake7','brake8','brake9','brake10','brake11','brake12','brake13',\n",
        "              'brake14','brake15','brake16','brake17','brake18','brake19','brake20','brake21','brake22','brake23','brake24','brake25','brake26',\n",
        "              'brake27','brake28','brake29','brake30','brake31']\n"
      ]
    },
    {
      "cell_type": "code",
      "execution_count": null,
      "metadata": {
        "id": "WFUi_vvF3tms",
        "colab": {
          "base_uri": "https://localhost:8080/"
        },
        "outputId": "6d5afd7b-70d3-4ca4-e186-52d11952e3af"
      },
      "outputs": [
        {
          "output_type": "execute_result",
          "data": {
            "text/plain": [
              "(2100934, 65)"
            ]
          },
          "metadata": {},
          "execution_count": 151
        }
      ],
      "source": [
        "X_enc = df_train[[\"p_num\"]+cols_bg+cols_brake]\n",
        "y_enc = df_train[\"bg+1:00\"]\n",
        "X_enc_test = df_test[cols_bg+cols_brake]\n",
        "X_enc.shape"
      ]
    },
    {
      "cell_type": "code",
      "execution_count": null,
      "metadata": {
        "id": "qqS7aYF63tms",
        "colab": {
          "base_uri": "https://localhost:8080/"
        },
        "outputId": "e02479ad-0189-43a1-fd7f-0325214592fd"
      },
      "outputs": [
        {
          "output_type": "execute_result",
          "data": {
            "text/plain": [
              "(0, 0)"
            ]
          },
          "metadata": {},
          "execution_count": 152
        }
      ],
      "source": [
        "X_enc.isnull().sum().sum(), y_enc.isna().sum()\n",
        "#y_enc[:10]"
      ]
    },
    {
      "cell_type": "code",
      "execution_count": null,
      "metadata": {
        "id": "LeTSSToA3tms",
        "colab": {
          "base_uri": "https://localhost:8080/"
        },
        "outputId": "cd1a922c-a03e-4302-e35b-a3db4ba09bbf"
      },
      "outputs": [
        {
          "output_type": "execute_result",
          "data": {
            "text/plain": [
              "((1680747, 64), (420187, 64), (2100934, 64), (1680747,), (420187,), (2100934,))"
            ]
          },
          "metadata": {},
          "execution_count": 153
        }
      ],
      "source": [
        "# p1_val = list(X_enc[(X_enc[\"p_num\"]==\"p01\")&(X_enc[\"obv_n\"]>=7600)].index)\n",
        "# p2_val = list(X_enc[(X_enc[\"p_num\"]==\"p02\")&(X_enc[\"obv_n\"]>=22500)].index)\n",
        "# p3_val = list(X_enc[(X_enc[\"p_num\"]==\"p03\")&(X_enc[\"obv_n\"]>=23000)].index)\n",
        "# p4_val = list(X_enc[(X_enc[\"p_num\"]==\"p04\")&(X_enc[\"obv_n\"]>=22000)].index)\n",
        "# p5_val = list(X_enc[(X_enc[\"p_num\"]==\"p05\")&(X_enc[\"obv_n\"]>=7600)].index)\n",
        "# p6_val = list(X_enc[(X_enc[\"p_num\"]==\"p06\")&(X_enc[\"obv_n\"]>=7600)].index)\n",
        "# p10_val = list(X_enc[(X_enc[\"p_num\"]==\"p10\")&(X_enc[\"obv_n\"]>=22500)].index)\n",
        "# p11_val = list(X_enc[(X_enc[\"p_num\"]==\"p11\")&(X_enc[\"obv_n\"]>=22000)].index)\n",
        "# p12_val = list(X_enc[(X_enc[\"p_num\"]==\"p12\")&(X_enc[\"obv_n\"]>=22500)].index)\n",
        "\n",
        "# matrix_val = p1_val+p2_val+p3_val+p4_val+p5_val+p6_val+p10_val+p11_val+p12_val\n",
        "# len(matrix_val)/X_enc.shape[0]\n",
        "\n",
        "# X_enc_train = X_enc.drop(matrix_val)\n",
        "# X_enc_valid = X_enc.loc[matrix_val]\n",
        "\n",
        "# y_enc_train = y_enc.drop(matrix_val)\n",
        "# y_enc_valid = y_enc.loc[matrix_val]\n",
        "\n",
        "X_enc_train, X_enc_valid, y_enc_train, y_enc_valid = train_test_split(X_enc, y_enc, test_size=0.2, random_state=42, stratify=X_enc[\"p_num\"])\n",
        "\n",
        "X_enc_train.drop([\"p_num\"], axis=1, inplace=True)\n",
        "X_enc_valid.drop([\"p_num\"], axis=1, inplace=True)\n",
        "X_enc.drop([\"p_num\"], axis=1, inplace=True)\n",
        "\n",
        "X_enc_train.shape, X_enc_valid.shape, X_enc.shape, y_enc_train.shape, y_enc_valid.shape, y_enc.shape"
      ]
    },
    {
      "cell_type": "code",
      "execution_count": null,
      "metadata": {
        "id": "yMFN94fr3tmt"
      },
      "outputs": [],
      "source": [
        "# Assuming your data is in a NumPy array called 'data'\n",
        "train = X_enc_train.values.reshape((-1, 32, 2))  # Reshape for LSTM\n",
        "valid = X_enc_valid.values.reshape((-1, 32, 2))\n",
        "X_enc = X_enc.values.reshape((-1, 32, 2))\n",
        "X_enc_test = X_enc_test.values.reshape((-1, 32, 2))\n",
        "\n",
        "y_enc_train = y_enc_train.values.reshape((-1, 1))\n",
        "y_enc_valid = y_enc_valid.values.reshape((-1, 1))"
      ]
    },
    {
      "cell_type": "code",
      "execution_count": null,
      "metadata": {
        "id": "JyLDh18t3tmt"
      },
      "outputs": [],
      "source": [
        "def model_autoencoder_v4():\n",
        "  input_dim = 32\n",
        "  latent_vec_dim = 8\n",
        "\n",
        "  # 2. Build the autoencoder model\n",
        "  input_ts = keras.Input(shape=(input_dim, 2))\n",
        "\n",
        "  # Encoder\n",
        "  x = layers.LSTM(64, return_sequences=True, name=\"encode_step1\")(input_ts)\n",
        "  x = layers.LSTM(32, return_sequences=True, name=\"encode_step2\")(x) #(x)\n",
        "  x = layers.LSTM(16, name=\"encode_step3\")(x)\n",
        "  encoded = layers.Dense(latent_vec_dim, activation='linear', kernel_regularizer = tf.keras.regularizers.L2(l2=0.1))(x)\n",
        "\n",
        "  output_1 = Dense(1, activation='linear', name=\"Reg_Output\")(encoded)\n",
        "\n",
        "  #encoder = encoded\n",
        "\n",
        "  # Decoder\n",
        "  x = layers.RepeatVector(input_dim)(encoded)\n",
        "  x = layers.LSTM(16, name=\"decoder_step1\", return_sequences=True)(x)\n",
        "  x = layers.LSTM(32,  name=\"decoder_step2\",return_sequences=True)(x) #, return_sequences=True\n",
        "  x = layers.LSTM(64, return_sequences=True, name=\"decoder_step3\")(x)\n",
        "\n",
        "  decoded = layers.Dense(2, name=\"decoded\")(x)\n",
        "\n",
        "  # Connect both encoder and decoder\n",
        "  autoencoder_mult = Model(inputs = input_ts, outputs = [decoded, output_1], name=\"Deep_Autoencoder\")\n",
        "\n",
        "  # Latent representation (Optional)\n",
        "  latent_model = Model(input_ts, encoded)\n",
        "\n",
        "  return autoencoder_mult, latent_model"
      ]
    },
    {
      "cell_type": "code",
      "execution_count": null,
      "metadata": {
        "id": "2SNN40Na3tmu",
        "colab": {
          "base_uri": "https://localhost:8080/",
          "height": 521
        },
        "outputId": "6fddb76a-d336-465b-df8f-bd88ede22aaf"
      },
      "outputs": [
        {
          "output_type": "display_data",
          "data": {
            "text/plain": [
              "\u001b[1mModel: \"Deep_Autoencoder\"\u001b[0m\n"
            ],
            "text/html": [
              "<pre style=\"white-space:pre;overflow-x:auto;line-height:normal;font-family:Menlo,'DejaVu Sans Mono',consolas,'Courier New',monospace\"><span style=\"font-weight: bold\">Model: \"Deep_Autoencoder\"</span>\n",
              "</pre>\n"
            ]
          },
          "metadata": {}
        },
        {
          "output_type": "display_data",
          "data": {
            "text/plain": [
              "┏━━━━━━━━━━━━━━━━━━━━━━━━━━━┳━━━━━━━━━━━━━━━━━━━━━━━━┳━━━━━━━━━━━━━━━━┳━━━━━━━━━━━━━━━━━━━━━━━━┓\n",
              "┃\u001b[1m \u001b[0m\u001b[1mLayer (type)             \u001b[0m\u001b[1m \u001b[0m┃\u001b[1m \u001b[0m\u001b[1mOutput Shape          \u001b[0m\u001b[1m \u001b[0m┃\u001b[1m \u001b[0m\u001b[1m       Param #\u001b[0m\u001b[1m \u001b[0m┃\u001b[1m \u001b[0m\u001b[1mConnected to          \u001b[0m\u001b[1m \u001b[0m┃\n",
              "┡━━━━━━━━━━━━━━━━━━━━━━━━━━━╇━━━━━━━━━━━━━━━━━━━━━━━━╇━━━━━━━━━━━━━━━━╇━━━━━━━━━━━━━━━━━━━━━━━━┩\n",
              "│ input_layer_9             │ (\u001b[38;5;45mNone\u001b[0m, \u001b[38;5;34m32\u001b[0m, \u001b[38;5;34m2\u001b[0m)          │              \u001b[38;5;34m0\u001b[0m │ -                      │\n",
              "│ (\u001b[38;5;33mInputLayer\u001b[0m)              │                        │                │                        │\n",
              "├───────────────────────────┼────────────────────────┼────────────────┼────────────────────────┤\n",
              "│ encode_step1 (\u001b[38;5;33mLSTM\u001b[0m)       │ (\u001b[38;5;45mNone\u001b[0m, \u001b[38;5;34m32\u001b[0m, \u001b[38;5;34m64\u001b[0m)         │         \u001b[38;5;34m17,152\u001b[0m │ input_layer_9[\u001b[38;5;34m0\u001b[0m][\u001b[38;5;34m0\u001b[0m]    │\n",
              "├───────────────────────────┼────────────────────────┼────────────────┼────────────────────────┤\n",
              "│ encode_step2 (\u001b[38;5;33mLSTM\u001b[0m)       │ (\u001b[38;5;45mNone\u001b[0m, \u001b[38;5;34m32\u001b[0m, \u001b[38;5;34m32\u001b[0m)         │         \u001b[38;5;34m12,416\u001b[0m │ encode_step1[\u001b[38;5;34m0\u001b[0m][\u001b[38;5;34m0\u001b[0m]     │\n",
              "├───────────────────────────┼────────────────────────┼────────────────┼────────────────────────┤\n",
              "│ encode_step3 (\u001b[38;5;33mLSTM\u001b[0m)       │ (\u001b[38;5;45mNone\u001b[0m, \u001b[38;5;34m16\u001b[0m)             │          \u001b[38;5;34m3,136\u001b[0m │ encode_step2[\u001b[38;5;34m0\u001b[0m][\u001b[38;5;34m0\u001b[0m]     │\n",
              "├───────────────────────────┼────────────────────────┼────────────────┼────────────────────────┤\n",
              "│ dense_9 (\u001b[38;5;33mDense\u001b[0m)           │ (\u001b[38;5;45mNone\u001b[0m, \u001b[38;5;34m8\u001b[0m)              │            \u001b[38;5;34m136\u001b[0m │ encode_step3[\u001b[38;5;34m0\u001b[0m][\u001b[38;5;34m0\u001b[0m]     │\n",
              "├───────────────────────────┼────────────────────────┼────────────────┼────────────────────────┤\n",
              "│ repeat_vector_9           │ (\u001b[38;5;45mNone\u001b[0m, \u001b[38;5;34m32\u001b[0m, \u001b[38;5;34m8\u001b[0m)          │              \u001b[38;5;34m0\u001b[0m │ dense_9[\u001b[38;5;34m0\u001b[0m][\u001b[38;5;34m0\u001b[0m]          │\n",
              "│ (\u001b[38;5;33mRepeatVector\u001b[0m)            │                        │                │                        │\n",
              "├───────────────────────────┼────────────────────────┼────────────────┼────────────────────────┤\n",
              "│ decoder_step1 (\u001b[38;5;33mLSTM\u001b[0m)      │ (\u001b[38;5;45mNone\u001b[0m, \u001b[38;5;34m32\u001b[0m, \u001b[38;5;34m16\u001b[0m)         │          \u001b[38;5;34m1,600\u001b[0m │ repeat_vector_9[\u001b[38;5;34m0\u001b[0m][\u001b[38;5;34m0\u001b[0m]  │\n",
              "├───────────────────────────┼────────────────────────┼────────────────┼────────────────────────┤\n",
              "│ decoder_step2 (\u001b[38;5;33mLSTM\u001b[0m)      │ (\u001b[38;5;45mNone\u001b[0m, \u001b[38;5;34m32\u001b[0m, \u001b[38;5;34m32\u001b[0m)         │          \u001b[38;5;34m6,272\u001b[0m │ decoder_step1[\u001b[38;5;34m0\u001b[0m][\u001b[38;5;34m0\u001b[0m]    │\n",
              "├───────────────────────────┼────────────────────────┼────────────────┼────────────────────────┤\n",
              "│ decoder_step3 (\u001b[38;5;33mLSTM\u001b[0m)      │ (\u001b[38;5;45mNone\u001b[0m, \u001b[38;5;34m32\u001b[0m, \u001b[38;5;34m64\u001b[0m)         │         \u001b[38;5;34m24,832\u001b[0m │ decoder_step2[\u001b[38;5;34m0\u001b[0m][\u001b[38;5;34m0\u001b[0m]    │\n",
              "├───────────────────────────┼────────────────────────┼────────────────┼────────────────────────┤\n",
              "│ decoded (\u001b[38;5;33mDense\u001b[0m)           │ (\u001b[38;5;45mNone\u001b[0m, \u001b[38;5;34m32\u001b[0m, \u001b[38;5;34m2\u001b[0m)          │            \u001b[38;5;34m130\u001b[0m │ decoder_step3[\u001b[38;5;34m0\u001b[0m][\u001b[38;5;34m0\u001b[0m]    │\n",
              "├───────────────────────────┼────────────────────────┼────────────────┼────────────────────────┤\n",
              "│ Reg_Output (\u001b[38;5;33mDense\u001b[0m)        │ (\u001b[38;5;45mNone\u001b[0m, \u001b[38;5;34m1\u001b[0m)              │              \u001b[38;5;34m9\u001b[0m │ dense_9[\u001b[38;5;34m0\u001b[0m][\u001b[38;5;34m0\u001b[0m]          │\n",
              "└───────────────────────────┴────────────────────────┴────────────────┴────────────────────────┘\n"
            ],
            "text/html": [
              "<pre style=\"white-space:pre;overflow-x:auto;line-height:normal;font-family:Menlo,'DejaVu Sans Mono',consolas,'Courier New',monospace\">┏━━━━━━━━━━━━━━━━━━━━━━━━━━━┳━━━━━━━━━━━━━━━━━━━━━━━━┳━━━━━━━━━━━━━━━━┳━━━━━━━━━━━━━━━━━━━━━━━━┓\n",
              "┃<span style=\"font-weight: bold\"> Layer (type)              </span>┃<span style=\"font-weight: bold\"> Output Shape           </span>┃<span style=\"font-weight: bold\">        Param # </span>┃<span style=\"font-weight: bold\"> Connected to           </span>┃\n",
              "┡━━━━━━━━━━━━━━━━━━━━━━━━━━━╇━━━━━━━━━━━━━━━━━━━━━━━━╇━━━━━━━━━━━━━━━━╇━━━━━━━━━━━━━━━━━━━━━━━━┩\n",
              "│ input_layer_9             │ (<span style=\"color: #00d7ff; text-decoration-color: #00d7ff\">None</span>, <span style=\"color: #00af00; text-decoration-color: #00af00\">32</span>, <span style=\"color: #00af00; text-decoration-color: #00af00\">2</span>)          │              <span style=\"color: #00af00; text-decoration-color: #00af00\">0</span> │ -                      │\n",
              "│ (<span style=\"color: #0087ff; text-decoration-color: #0087ff\">InputLayer</span>)              │                        │                │                        │\n",
              "├───────────────────────────┼────────────────────────┼────────────────┼────────────────────────┤\n",
              "│ encode_step1 (<span style=\"color: #0087ff; text-decoration-color: #0087ff\">LSTM</span>)       │ (<span style=\"color: #00d7ff; text-decoration-color: #00d7ff\">None</span>, <span style=\"color: #00af00; text-decoration-color: #00af00\">32</span>, <span style=\"color: #00af00; text-decoration-color: #00af00\">64</span>)         │         <span style=\"color: #00af00; text-decoration-color: #00af00\">17,152</span> │ input_layer_9[<span style=\"color: #00af00; text-decoration-color: #00af00\">0</span>][<span style=\"color: #00af00; text-decoration-color: #00af00\">0</span>]    │\n",
              "├───────────────────────────┼────────────────────────┼────────────────┼────────────────────────┤\n",
              "│ encode_step2 (<span style=\"color: #0087ff; text-decoration-color: #0087ff\">LSTM</span>)       │ (<span style=\"color: #00d7ff; text-decoration-color: #00d7ff\">None</span>, <span style=\"color: #00af00; text-decoration-color: #00af00\">32</span>, <span style=\"color: #00af00; text-decoration-color: #00af00\">32</span>)         │         <span style=\"color: #00af00; text-decoration-color: #00af00\">12,416</span> │ encode_step1[<span style=\"color: #00af00; text-decoration-color: #00af00\">0</span>][<span style=\"color: #00af00; text-decoration-color: #00af00\">0</span>]     │\n",
              "├───────────────────────────┼────────────────────────┼────────────────┼────────────────────────┤\n",
              "│ encode_step3 (<span style=\"color: #0087ff; text-decoration-color: #0087ff\">LSTM</span>)       │ (<span style=\"color: #00d7ff; text-decoration-color: #00d7ff\">None</span>, <span style=\"color: #00af00; text-decoration-color: #00af00\">16</span>)             │          <span style=\"color: #00af00; text-decoration-color: #00af00\">3,136</span> │ encode_step2[<span style=\"color: #00af00; text-decoration-color: #00af00\">0</span>][<span style=\"color: #00af00; text-decoration-color: #00af00\">0</span>]     │\n",
              "├───────────────────────────┼────────────────────────┼────────────────┼────────────────────────┤\n",
              "│ dense_9 (<span style=\"color: #0087ff; text-decoration-color: #0087ff\">Dense</span>)           │ (<span style=\"color: #00d7ff; text-decoration-color: #00d7ff\">None</span>, <span style=\"color: #00af00; text-decoration-color: #00af00\">8</span>)              │            <span style=\"color: #00af00; text-decoration-color: #00af00\">136</span> │ encode_step3[<span style=\"color: #00af00; text-decoration-color: #00af00\">0</span>][<span style=\"color: #00af00; text-decoration-color: #00af00\">0</span>]     │\n",
              "├───────────────────────────┼────────────────────────┼────────────────┼────────────────────────┤\n",
              "│ repeat_vector_9           │ (<span style=\"color: #00d7ff; text-decoration-color: #00d7ff\">None</span>, <span style=\"color: #00af00; text-decoration-color: #00af00\">32</span>, <span style=\"color: #00af00; text-decoration-color: #00af00\">8</span>)          │              <span style=\"color: #00af00; text-decoration-color: #00af00\">0</span> │ dense_9[<span style=\"color: #00af00; text-decoration-color: #00af00\">0</span>][<span style=\"color: #00af00; text-decoration-color: #00af00\">0</span>]          │\n",
              "│ (<span style=\"color: #0087ff; text-decoration-color: #0087ff\">RepeatVector</span>)            │                        │                │                        │\n",
              "├───────────────────────────┼────────────────────────┼────────────────┼────────────────────────┤\n",
              "│ decoder_step1 (<span style=\"color: #0087ff; text-decoration-color: #0087ff\">LSTM</span>)      │ (<span style=\"color: #00d7ff; text-decoration-color: #00d7ff\">None</span>, <span style=\"color: #00af00; text-decoration-color: #00af00\">32</span>, <span style=\"color: #00af00; text-decoration-color: #00af00\">16</span>)         │          <span style=\"color: #00af00; text-decoration-color: #00af00\">1,600</span> │ repeat_vector_9[<span style=\"color: #00af00; text-decoration-color: #00af00\">0</span>][<span style=\"color: #00af00; text-decoration-color: #00af00\">0</span>]  │\n",
              "├───────────────────────────┼────────────────────────┼────────────────┼────────────────────────┤\n",
              "│ decoder_step2 (<span style=\"color: #0087ff; text-decoration-color: #0087ff\">LSTM</span>)      │ (<span style=\"color: #00d7ff; text-decoration-color: #00d7ff\">None</span>, <span style=\"color: #00af00; text-decoration-color: #00af00\">32</span>, <span style=\"color: #00af00; text-decoration-color: #00af00\">32</span>)         │          <span style=\"color: #00af00; text-decoration-color: #00af00\">6,272</span> │ decoder_step1[<span style=\"color: #00af00; text-decoration-color: #00af00\">0</span>][<span style=\"color: #00af00; text-decoration-color: #00af00\">0</span>]    │\n",
              "├───────────────────────────┼────────────────────────┼────────────────┼────────────────────────┤\n",
              "│ decoder_step3 (<span style=\"color: #0087ff; text-decoration-color: #0087ff\">LSTM</span>)      │ (<span style=\"color: #00d7ff; text-decoration-color: #00d7ff\">None</span>, <span style=\"color: #00af00; text-decoration-color: #00af00\">32</span>, <span style=\"color: #00af00; text-decoration-color: #00af00\">64</span>)         │         <span style=\"color: #00af00; text-decoration-color: #00af00\">24,832</span> │ decoder_step2[<span style=\"color: #00af00; text-decoration-color: #00af00\">0</span>][<span style=\"color: #00af00; text-decoration-color: #00af00\">0</span>]    │\n",
              "├───────────────────────────┼────────────────────────┼────────────────┼────────────────────────┤\n",
              "│ decoded (<span style=\"color: #0087ff; text-decoration-color: #0087ff\">Dense</span>)           │ (<span style=\"color: #00d7ff; text-decoration-color: #00d7ff\">None</span>, <span style=\"color: #00af00; text-decoration-color: #00af00\">32</span>, <span style=\"color: #00af00; text-decoration-color: #00af00\">2</span>)          │            <span style=\"color: #00af00; text-decoration-color: #00af00\">130</span> │ decoder_step3[<span style=\"color: #00af00; text-decoration-color: #00af00\">0</span>][<span style=\"color: #00af00; text-decoration-color: #00af00\">0</span>]    │\n",
              "├───────────────────────────┼────────────────────────┼────────────────┼────────────────────────┤\n",
              "│ Reg_Output (<span style=\"color: #0087ff; text-decoration-color: #0087ff\">Dense</span>)        │ (<span style=\"color: #00d7ff; text-decoration-color: #00d7ff\">None</span>, <span style=\"color: #00af00; text-decoration-color: #00af00\">1</span>)              │              <span style=\"color: #00af00; text-decoration-color: #00af00\">9</span> │ dense_9[<span style=\"color: #00af00; text-decoration-color: #00af00\">0</span>][<span style=\"color: #00af00; text-decoration-color: #00af00\">0</span>]          │\n",
              "└───────────────────────────┴────────────────────────┴────────────────┴────────────────────────┘\n",
              "</pre>\n"
            ]
          },
          "metadata": {}
        },
        {
          "output_type": "display_data",
          "data": {
            "text/plain": [
              "\u001b[1m Total params: \u001b[0m\u001b[38;5;34m65,683\u001b[0m (256.57 KB)\n"
            ],
            "text/html": [
              "<pre style=\"white-space:pre;overflow-x:auto;line-height:normal;font-family:Menlo,'DejaVu Sans Mono',consolas,'Courier New',monospace\"><span style=\"font-weight: bold\"> Total params: </span><span style=\"color: #00af00; text-decoration-color: #00af00\">65,683</span> (256.57 KB)\n",
              "</pre>\n"
            ]
          },
          "metadata": {}
        },
        {
          "output_type": "display_data",
          "data": {
            "text/plain": [
              "\u001b[1m Trainable params: \u001b[0m\u001b[38;5;34m65,683\u001b[0m (256.57 KB)\n"
            ],
            "text/html": [
              "<pre style=\"white-space:pre;overflow-x:auto;line-height:normal;font-family:Menlo,'DejaVu Sans Mono',consolas,'Courier New',monospace\"><span style=\"font-weight: bold\"> Trainable params: </span><span style=\"color: #00af00; text-decoration-color: #00af00\">65,683</span> (256.57 KB)\n",
              "</pre>\n"
            ]
          },
          "metadata": {}
        },
        {
          "output_type": "display_data",
          "data": {
            "text/plain": [
              "\u001b[1m Non-trainable params: \u001b[0m\u001b[38;5;34m0\u001b[0m (0.00 B)\n"
            ],
            "text/html": [
              "<pre style=\"white-space:pre;overflow-x:auto;line-height:normal;font-family:Menlo,'DejaVu Sans Mono',consolas,'Courier New',monospace\"><span style=\"font-weight: bold\"> Non-trainable params: </span><span style=\"color: #00af00; text-decoration-color: #00af00\">0</span> (0.00 B)\n",
              "</pre>\n"
            ]
          },
          "metadata": {}
        }
      ],
      "source": [
        "autoencoder_prellin_v4, latent_model_prellin_v4 = model_autoencoder_v4()\n",
        "\n",
        "# Get summary\n",
        "autoencoder_prellin_v4.summary()"
      ]
    },
    {
      "cell_type": "code",
      "execution_count": null,
      "metadata": {
        "id": "NRySilpW3tmu"
      },
      "outputs": [],
      "source": [
        "lr = keras.callbacks.ReduceLROnPlateau(monitor=\"val_Reg_Output_rmse\",\n",
        "                        factor=0.75,\n",
        "                        patience=10,\n",
        "                        verbose=1,\n",
        "                        mode=\"min\")\n",
        "\n",
        "early_stop = keras.callbacks.EarlyStopping(monitor=\"val_Reg_Output_rmse\",\n",
        "                            patience=25,\n",
        "                            verbose=1,\n",
        "                            mode=\"min\",\n",
        "                            restore_best_weights=True)\n",
        "\n",
        "##################################################################### Relevant Folders\n",
        "folders_experiment = f\"/content/drive/MyDrive/Exercises/Studies_Structured_Data/Models/Glucose/encoder_04_ext/\"\n",
        "##################################################################### Generate and Fit Model\n",
        "# Callbacks:\n",
        "checkpoint_filepath = folders_experiment + f'checkpoint/best_weights_v4.weights.h5'\n",
        "\n",
        "Checkpoint = keras.callbacks.ModelCheckpoint(filepath=checkpoint_filepath,\n",
        "                                                 save_weights_only=True,\n",
        "                                                 monitor=\"val_Reg_Output_rmse\",\n",
        "                                                 mode='min')"
      ]
    },
    {
      "cell_type": "code",
      "execution_count": null,
      "metadata": {
        "id": "9m8WyIhM3tmu"
      },
      "outputs": [],
      "source": [
        "# Compile the autoencoder model\n",
        "optimizer = keras.optimizers.Adam(learning_rate=0.0005)\n",
        "loss_0 = 'mse'\n",
        "loss_1 = 'mse'\n",
        "\n",
        "autoencoder_prellin_v4.compile(loss=[loss_0, loss_1], loss_weights=[0.7,0.30], optimizer=optimizer, metrics={'decoded': 'mse','Reg_Output': RootMeanSquaredError(name=\"rmse\")})\n",
        "\n",
        "# Train the autoencoder with MNIST data\n",
        "history_prellin_v4 = autoencoder_prellin_v4.fit(train, [train, y_enc_train], epochs=120, batch_size=512, callbacks = [early_stop, Checkpoint, lr],\n",
        "                                                 shuffle=True, validation_data=(valid, [valid, y_enc_valid]))"
      ]
    },
    {
      "cell_type": "code",
      "source": [
        "autoencoder_prellin_v4.load_weights(checkpoint_filepath)"
      ],
      "metadata": {
        "id": "SzHWIsNNqNoN"
      },
      "execution_count": null,
      "outputs": []
    },
    {
      "cell_type": "code",
      "execution_count": null,
      "metadata": {
        "id": "VPvy4niJ3tmu"
      },
      "outputs": [],
      "source": [
        "# Plot training and validation loss scores\n",
        "# against the number of epochs.\n",
        "plt.figure(figsize=(5, 3))\n",
        "plt.plot(history_prellin_v4.history['Reg_Output_rmse'], label='Train')\n",
        "plt.plot(history_prellin_v4.history['val_Reg_Output_rmse'], label='Validation')\n",
        "plt.ylabel('MSE')\n",
        "plt.xlabel('Epoch')\n",
        "plt.title('Autoencoder Reconstruction Loss', pad=13)\n",
        "plt.legend(loc='upper right')\n",
        "plt.show()"
      ]
    },
    {
      "cell_type": "code",
      "execution_count": null,
      "metadata": {
        "id": "_oxKAFAe3tmv",
        "colab": {
          "base_uri": "https://localhost:8080/"
        },
        "outputId": "60fc81f4-047f-4e71-cb19-88baa3271cac"
      },
      "outputs": [
        {
          "output_type": "stream",
          "name": "stdout",
          "text": [
            "\u001b[1m821/821\u001b[0m \u001b[32m━━━━━━━━━━━━━━━━━━━━\u001b[0m\u001b[37m\u001b[0m \u001b[1m3s\u001b[0m 3ms/step\n",
            "\u001b[1m3283/3283\u001b[0m \u001b[32m━━━━━━━━━━━━━━━━━━━━\u001b[0m\u001b[37m\u001b[0m \u001b[1m10s\u001b[0m 3ms/step\n"
          ]
        }
      ],
      "source": [
        "latent_representation_v4 = latent_model_prellin_v4.predict(valid, batch_size=512)\n",
        "latent_representation_train_v4 = latent_model_prellin_v4.predict(train, batch_size=512)"
      ]
    },
    {
      "cell_type": "code",
      "execution_count": null,
      "metadata": {
        "id": "ZokGVXLt3tmv"
      },
      "outputs": [],
      "source": [
        "fig, axs = plt.subplots(1,2,figsize=(6, 3))\n",
        "\n",
        "sns.scatterplot(x=latent_representation_v4[:,0],\n",
        "                y=latent_representation_v4[:,1],\n",
        "                c=y_enc_valid,\n",
        "                palette='tab10',\n",
        "                ax=axs[0])\n",
        "\n",
        "sns.scatterplot(x=latent_representation_train_v4[:,0],\n",
        "                y=latent_representation_train_v4[:,1],\n",
        "                c=y_enc_train,\n",
        "                palette='tab10',\n",
        "                ax=axs[1]\n",
        "                )\n",
        "\n",
        "axs[0].set_xlabel(\"Enc. First dimension\", fontsize=8)\n",
        "axs[0].set_ylabel(\"Enc. Second dimension\", fontsize=8)\n",
        "\n",
        "axs[1].set_xlabel(\"Enc. First dimension - Train\", fontsize=8)\n",
        "axs[1].set_ylabel(\"Enc. Second dimension - Train\", fontsize=8)\n",
        "\n",
        "axs[0].grid(linestyle='--', alpha=0.5)\n",
        "\n",
        "plt.tight_layout()\n",
        "plt.show()"
      ]
    },
    {
      "cell_type": "code",
      "execution_count": null,
      "metadata": {
        "id": "wGrR2YUv3tmv"
      },
      "outputs": [],
      "source": [
        "fig, axs = plt.subplots(1,2,figsize=(6, 3))\n",
        "\n",
        "sns.scatterplot(x=latent_representation_v4[:,0],\n",
        "                y=latent_representation_v4[:,2],\n",
        "                c=y_enc_valid,\n",
        "                palette='tab10',\n",
        "                ax=axs[0])\n",
        "\n",
        "sns.scatterplot(x=latent_representation_train_v4[:,0],\n",
        "                y=latent_representation_train_v4[:,2],\n",
        "                c=y_enc_train,\n",
        "                palette='tab10',\n",
        "                ax=axs[1]\n",
        "                )\n",
        "\n",
        "axs[0].set_xlabel(\"Enc. First dimension\", fontsize=8)\n",
        "axs[0].set_ylabel(\"Enc. Third dimension\", fontsize=8)\n",
        "\n",
        "axs[1].set_xlabel(\"Enc. First dimension - Train\", fontsize=8)\n",
        "axs[1].set_ylabel(\"Enc. Third dimension - Train\", fontsize=8)\n",
        "\n",
        "axs[0].grid(linestyle='--', alpha=0.5)\n",
        "\n",
        "plt.tight_layout()\n",
        "plt.show()"
      ]
    },
    {
      "cell_type": "code",
      "execution_count": null,
      "metadata": {
        "id": "SBpRUDJL3tmw",
        "colab": {
          "base_uri": "https://localhost:8080/"
        },
        "outputId": "03c9cc3b-4d5e-48b8-d12c-87ff65ca6bc0"
      },
      "outputs": [
        {
          "output_type": "stream",
          "name": "stdout",
          "text": [
            "\u001b[1m4104/4104\u001b[0m \u001b[32m━━━━━━━━━━━━━━━━━━━━\u001b[0m\u001b[37m\u001b[0m \u001b[1m12s\u001b[0m 3ms/step\n",
            "\u001b[1m8/8\u001b[0m \u001b[32m━━━━━━━━━━━━━━━━━━━━\u001b[0m\u001b[37m\u001b[0m \u001b[1m0s\u001b[0m 3ms/step \n"
          ]
        }
      ],
      "source": [
        "latent_representation_v4_final = latent_model_prellin_v4.predict(X_enc, batch_size=512)\n",
        "latent_representation_v4_final_test = latent_model_prellin_v4.predict(X_enc_test, batch_size=512)"
      ]
    },
    {
      "cell_type": "code",
      "execution_count": null,
      "metadata": {
        "id": "OWfUB0Yx3tmw",
        "colab": {
          "base_uri": "https://localhost:8080/"
        },
        "outputId": "4e3b0971-7ce2-4dea-edea-7caf8318d6bc"
      },
      "outputs": [
        {
          "output_type": "execute_result",
          "data": {
            "text/plain": [
              "(2100934, 32, 2)"
            ]
          },
          "metadata": {},
          "execution_count": 174
        }
      ],
      "source": [
        "X_enc.shape"
      ]
    },
    {
      "cell_type": "code",
      "execution_count": null,
      "metadata": {
        "id": "cPMvUz_k3tmw",
        "colab": {
          "base_uri": "https://localhost:8080/"
        },
        "outputId": "3d202077-e3d4-4429-c170-b48a13666701"
      },
      "outputs": [
        {
          "output_type": "execute_result",
          "data": {
            "text/plain": [
              "(2100934, 8)"
            ]
          },
          "metadata": {},
          "execution_count": 175
        }
      ],
      "source": [
        "latent_representation_v4_final.shape"
      ]
    },
    {
      "cell_type": "code",
      "execution_count": null,
      "metadata": {
        "id": "mLi-NsRS3tmw"
      },
      "outputs": [],
      "source": [
        "df_train[\"enc_01_v4\"] = latent_representation_v4_final[:,0]\n",
        "df_train[\"enc_02_v4\"] = latent_representation_v4_final[:,1]\n",
        "df_train[\"enc_03_v4\"] = latent_representation_v4_final[:,2]\n",
        "df_train[\"enc_04_v4\"] = latent_representation_v4_final[:,3]\n",
        "df_train[\"enc_05_v4\"] = latent_representation_v4_final[:,4]\n",
        "df_train[\"enc_06_v4\"] = latent_representation_v4_final[:,5]\n",
        "df_train[\"enc_07_v4\"] = latent_representation_v4_final[:,6]\n",
        "df_train[\"enc_08_v4\"] = latent_representation_v4_final[:,7]\n",
        "\n",
        "df_test[\"enc_01_v4\"] = latent_representation_v4_final_test[:,0]\n",
        "df_test[\"enc_02_v4\"] = latent_representation_v4_final_test[:,1]\n",
        "df_test[\"enc_03_v4\"] = latent_representation_v4_final_test[:,2]\n",
        "df_test[\"enc_04_v4\"] = latent_representation_v4_final_test[:,3]\n",
        "df_test[\"enc_05_v4\"] = latent_representation_v4_final_test[:,4]\n",
        "df_test[\"enc_06_v4\"] = latent_representation_v4_final_test[:,5]\n",
        "df_test[\"enc_07_v4\"] = latent_representation_v4_final_test[:,6]\n",
        "df_test[\"enc_08_v4\"] = latent_representation_v4_final_test[:,7]"
      ]
    },
    {
      "cell_type": "code",
      "execution_count": null,
      "metadata": {
        "id": "nGGh5q_N3tmx",
        "colab": {
          "base_uri": "https://localhost:8080/"
        },
        "outputId": "9e92e319-c750-49de-86d7-f4181db7d250"
      },
      "outputs": [
        {
          "output_type": "execute_result",
          "data": {
            "text/plain": [
              "(0, 3644, (2100934, 305), (3644, 305))"
            ]
          },
          "metadata": {},
          "execution_count": 177
        }
      ],
      "source": [
        "df_train.isnull().sum().sum(), df_test.isnull().sum().sum(), df_train.shape, df_test.shape"
      ]
    },
    {
      "cell_type": "markdown",
      "metadata": {
        "id": "Vye9a3Qf3tmx"
      },
      "source": [
        "##### STORE ENCODED FEATURES from Model 4:"
      ]
    },
    {
      "cell_type": "code",
      "execution_count": null,
      "metadata": {
        "id": "9auTgtfz3tmx"
      },
      "outputs": [],
      "source": [
        "df_train.to_csv(\"/content/drive/MyDrive/Exercises/Studies_Structured_Data/Data/Glucose/train_cluster_enc_v4_ext.csv\")\n",
        "df_test.to_csv(\"/content/drive/MyDrive/Exercises/Studies_Structured_Data/Data/Glucose/test_cluster_enc_v4_ext.csv\")\n",
        "\n",
        "#df_train = pd.read_csv(\"/content/drive/MyDrive/Exercises/Studies_Structured_Data/Data/Glucose/train_cluster_enc_v4.csv\", index_col=0)\n",
        "#df_test = pd.read_csv(\"/content/drive/MyDrive/Exercises/Studies_Structured_Data/Data/Glucose/test_cluster_enc_v4.csv\", index_col=0)"
      ]
    },
    {
      "cell_type": "markdown",
      "metadata": {
        "id": "G9IOYhJ7RD4h"
      },
      "source": [
        "##### Test Correlations:"
      ]
    },
    {
      "cell_type": "code",
      "execution_count": null,
      "metadata": {
        "id": "wq3mdZ5aRD4i"
      },
      "outputs": [],
      "source": [
        "df_train[['PC_1', 'PC_2', 'PC_3','PC_4', 'enc_01_v4', 'enc_02_v4', 'enc_03_v4','enc_04_v4','enc_05_v4',\n",
        "          'enc_06_v4','enc_07_v4','enc_08_v4',\"bg+1:00\"]].corr().style.background_gradient(cmap='viridis')"
      ]
    },
    {
      "cell_type": "markdown",
      "metadata": {
        "id": "y_93tDoURD4i"
      },
      "source": [
        "##### Submission Model 4:"
      ]
    },
    {
      "cell_type": "code",
      "execution_count": null,
      "metadata": {
        "id": "vLxvfxY6RD4j",
        "colab": {
          "base_uri": "https://localhost:8080/"
        },
        "outputId": "dae6ea43-1724-4584-ec06-b738d786b4f9"
      },
      "outputs": [
        {
          "output_type": "stream",
          "name": "stdout",
          "text": [
            "\u001b[1m8/8\u001b[0m \u001b[32m━━━━━━━━━━━━━━━━━━━━\u001b[0m\u001b[37m\u001b[0m \u001b[1m1s\u001b[0m 99ms/step\n",
            "\u001b[1m4104/4104\u001b[0m \u001b[32m━━━━━━━━━━━━━━━━━━━━\u001b[0m\u001b[37m\u001b[0m \u001b[1m21s\u001b[0m 5ms/step\n"
          ]
        }
      ],
      "source": [
        "recons, pred = autoencoder_prellin_v4.predict(X_enc_test, batch_size=512)\n",
        "_, pred_train = autoencoder_prellin_v4.predict(X_enc, batch_size=512)"
      ]
    },
    {
      "cell_type": "code",
      "execution_count": null,
      "metadata": {
        "id": "UQeIfDTrRD4j",
        "colab": {
          "base_uri": "https://localhost:8080/"
        },
        "outputId": "7b31038d-3a52-4af9-bd45-978a46a908b2"
      },
      "outputs": [
        {
          "output_type": "execute_result",
          "data": {
            "text/plain": [
              "(3644, 305)"
            ]
          },
          "metadata": {},
          "execution_count": 181
        }
      ],
      "source": [
        "df_train_scaled=pd.read_csv(\"/content/drive/MyDrive/Exercises/Studies_Structured_Data/Data/Glucose/X_train_scaled.csv\", index_col=0)\n",
        "df_test.shape"
      ]
    },
    {
      "cell_type": "code",
      "execution_count": null,
      "metadata": {
        "id": "PeAxTqXlRD4j",
        "colab": {
          "base_uri": "https://localhost:8080/",
          "height": 81
        },
        "outputId": "4c3e4d9a-fc35-450e-bb18-d3b09ad70f79"
      },
      "outputs": [
        {
          "output_type": "execute_result",
          "data": {
            "text/plain": [
              "StandardScaler()"
            ],
            "text/html": [
              "<style>#sk-container-id-2 {\n",
              "  /* Definition of color scheme common for light and dark mode */\n",
              "  --sklearn-color-text: black;\n",
              "  --sklearn-color-line: gray;\n",
              "  /* Definition of color scheme for unfitted estimators */\n",
              "  --sklearn-color-unfitted-level-0: #fff5e6;\n",
              "  --sklearn-color-unfitted-level-1: #f6e4d2;\n",
              "  --sklearn-color-unfitted-level-2: #ffe0b3;\n",
              "  --sklearn-color-unfitted-level-3: chocolate;\n",
              "  /* Definition of color scheme for fitted estimators */\n",
              "  --sklearn-color-fitted-level-0: #f0f8ff;\n",
              "  --sklearn-color-fitted-level-1: #d4ebff;\n",
              "  --sklearn-color-fitted-level-2: #b3dbfd;\n",
              "  --sklearn-color-fitted-level-3: cornflowerblue;\n",
              "\n",
              "  /* Specific color for light theme */\n",
              "  --sklearn-color-text-on-default-background: var(--sg-text-color, var(--theme-code-foreground, var(--jp-content-font-color1, black)));\n",
              "  --sklearn-color-background: var(--sg-background-color, var(--theme-background, var(--jp-layout-color0, white)));\n",
              "  --sklearn-color-border-box: var(--sg-text-color, var(--theme-code-foreground, var(--jp-content-font-color1, black)));\n",
              "  --sklearn-color-icon: #696969;\n",
              "\n",
              "  @media (prefers-color-scheme: dark) {\n",
              "    /* Redefinition of color scheme for dark theme */\n",
              "    --sklearn-color-text-on-default-background: var(--sg-text-color, var(--theme-code-foreground, var(--jp-content-font-color1, white)));\n",
              "    --sklearn-color-background: var(--sg-background-color, var(--theme-background, var(--jp-layout-color0, #111)));\n",
              "    --sklearn-color-border-box: var(--sg-text-color, var(--theme-code-foreground, var(--jp-content-font-color1, white)));\n",
              "    --sklearn-color-icon: #878787;\n",
              "  }\n",
              "}\n",
              "\n",
              "#sk-container-id-2 {\n",
              "  color: var(--sklearn-color-text);\n",
              "}\n",
              "\n",
              "#sk-container-id-2 pre {\n",
              "  padding: 0;\n",
              "}\n",
              "\n",
              "#sk-container-id-2 input.sk-hidden--visually {\n",
              "  border: 0;\n",
              "  clip: rect(1px 1px 1px 1px);\n",
              "  clip: rect(1px, 1px, 1px, 1px);\n",
              "  height: 1px;\n",
              "  margin: -1px;\n",
              "  overflow: hidden;\n",
              "  padding: 0;\n",
              "  position: absolute;\n",
              "  width: 1px;\n",
              "}\n",
              "\n",
              "#sk-container-id-2 div.sk-dashed-wrapped {\n",
              "  border: 1px dashed var(--sklearn-color-line);\n",
              "  margin: 0 0.4em 0.5em 0.4em;\n",
              "  box-sizing: border-box;\n",
              "  padding-bottom: 0.4em;\n",
              "  background-color: var(--sklearn-color-background);\n",
              "}\n",
              "\n",
              "#sk-container-id-2 div.sk-container {\n",
              "  /* jupyter's `normalize.less` sets `[hidden] { display: none; }`\n",
              "     but bootstrap.min.css set `[hidden] { display: none !important; }`\n",
              "     so we also need the `!important` here to be able to override the\n",
              "     default hidden behavior on the sphinx rendered scikit-learn.org.\n",
              "     See: https://github.com/scikit-learn/scikit-learn/issues/21755 */\n",
              "  display: inline-block !important;\n",
              "  position: relative;\n",
              "}\n",
              "\n",
              "#sk-container-id-2 div.sk-text-repr-fallback {\n",
              "  display: none;\n",
              "}\n",
              "\n",
              "div.sk-parallel-item,\n",
              "div.sk-serial,\n",
              "div.sk-item {\n",
              "  /* draw centered vertical line to link estimators */\n",
              "  background-image: linear-gradient(var(--sklearn-color-text-on-default-background), var(--sklearn-color-text-on-default-background));\n",
              "  background-size: 2px 100%;\n",
              "  background-repeat: no-repeat;\n",
              "  background-position: center center;\n",
              "}\n",
              "\n",
              "/* Parallel-specific style estimator block */\n",
              "\n",
              "#sk-container-id-2 div.sk-parallel-item::after {\n",
              "  content: \"\";\n",
              "  width: 100%;\n",
              "  border-bottom: 2px solid var(--sklearn-color-text-on-default-background);\n",
              "  flex-grow: 1;\n",
              "}\n",
              "\n",
              "#sk-container-id-2 div.sk-parallel {\n",
              "  display: flex;\n",
              "  align-items: stretch;\n",
              "  justify-content: center;\n",
              "  background-color: var(--sklearn-color-background);\n",
              "  position: relative;\n",
              "}\n",
              "\n",
              "#sk-container-id-2 div.sk-parallel-item {\n",
              "  display: flex;\n",
              "  flex-direction: column;\n",
              "}\n",
              "\n",
              "#sk-container-id-2 div.sk-parallel-item:first-child::after {\n",
              "  align-self: flex-end;\n",
              "  width: 50%;\n",
              "}\n",
              "\n",
              "#sk-container-id-2 div.sk-parallel-item:last-child::after {\n",
              "  align-self: flex-start;\n",
              "  width: 50%;\n",
              "}\n",
              "\n",
              "#sk-container-id-2 div.sk-parallel-item:only-child::after {\n",
              "  width: 0;\n",
              "}\n",
              "\n",
              "/* Serial-specific style estimator block */\n",
              "\n",
              "#sk-container-id-2 div.sk-serial {\n",
              "  display: flex;\n",
              "  flex-direction: column;\n",
              "  align-items: center;\n",
              "  background-color: var(--sklearn-color-background);\n",
              "  padding-right: 1em;\n",
              "  padding-left: 1em;\n",
              "}\n",
              "\n",
              "\n",
              "/* Toggleable style: style used for estimator/Pipeline/ColumnTransformer box that is\n",
              "clickable and can be expanded/collapsed.\n",
              "- Pipeline and ColumnTransformer use this feature and define the default style\n",
              "- Estimators will overwrite some part of the style using the `sk-estimator` class\n",
              "*/\n",
              "\n",
              "/* Pipeline and ColumnTransformer style (default) */\n",
              "\n",
              "#sk-container-id-2 div.sk-toggleable {\n",
              "  /* Default theme specific background. It is overwritten whether we have a\n",
              "  specific estimator or a Pipeline/ColumnTransformer */\n",
              "  background-color: var(--sklearn-color-background);\n",
              "}\n",
              "\n",
              "/* Toggleable label */\n",
              "#sk-container-id-2 label.sk-toggleable__label {\n",
              "  cursor: pointer;\n",
              "  display: block;\n",
              "  width: 100%;\n",
              "  margin-bottom: 0;\n",
              "  padding: 0.5em;\n",
              "  box-sizing: border-box;\n",
              "  text-align: center;\n",
              "}\n",
              "\n",
              "#sk-container-id-2 label.sk-toggleable__label-arrow:before {\n",
              "  /* Arrow on the left of the label */\n",
              "  content: \"▸\";\n",
              "  float: left;\n",
              "  margin-right: 0.25em;\n",
              "  color: var(--sklearn-color-icon);\n",
              "}\n",
              "\n",
              "#sk-container-id-2 label.sk-toggleable__label-arrow:hover:before {\n",
              "  color: var(--sklearn-color-text);\n",
              "}\n",
              "\n",
              "/* Toggleable content - dropdown */\n",
              "\n",
              "#sk-container-id-2 div.sk-toggleable__content {\n",
              "  max-height: 0;\n",
              "  max-width: 0;\n",
              "  overflow: hidden;\n",
              "  text-align: left;\n",
              "  /* unfitted */\n",
              "  background-color: var(--sklearn-color-unfitted-level-0);\n",
              "}\n",
              "\n",
              "#sk-container-id-2 div.sk-toggleable__content.fitted {\n",
              "  /* fitted */\n",
              "  background-color: var(--sklearn-color-fitted-level-0);\n",
              "}\n",
              "\n",
              "#sk-container-id-2 div.sk-toggleable__content pre {\n",
              "  margin: 0.2em;\n",
              "  border-radius: 0.25em;\n",
              "  color: var(--sklearn-color-text);\n",
              "  /* unfitted */\n",
              "  background-color: var(--sklearn-color-unfitted-level-0);\n",
              "}\n",
              "\n",
              "#sk-container-id-2 div.sk-toggleable__content.fitted pre {\n",
              "  /* unfitted */\n",
              "  background-color: var(--sklearn-color-fitted-level-0);\n",
              "}\n",
              "\n",
              "#sk-container-id-2 input.sk-toggleable__control:checked~div.sk-toggleable__content {\n",
              "  /* Expand drop-down */\n",
              "  max-height: 200px;\n",
              "  max-width: 100%;\n",
              "  overflow: auto;\n",
              "}\n",
              "\n",
              "#sk-container-id-2 input.sk-toggleable__control:checked~label.sk-toggleable__label-arrow:before {\n",
              "  content: \"▾\";\n",
              "}\n",
              "\n",
              "/* Pipeline/ColumnTransformer-specific style */\n",
              "\n",
              "#sk-container-id-2 div.sk-label input.sk-toggleable__control:checked~label.sk-toggleable__label {\n",
              "  color: var(--sklearn-color-text);\n",
              "  background-color: var(--sklearn-color-unfitted-level-2);\n",
              "}\n",
              "\n",
              "#sk-container-id-2 div.sk-label.fitted input.sk-toggleable__control:checked~label.sk-toggleable__label {\n",
              "  background-color: var(--sklearn-color-fitted-level-2);\n",
              "}\n",
              "\n",
              "/* Estimator-specific style */\n",
              "\n",
              "/* Colorize estimator box */\n",
              "#sk-container-id-2 div.sk-estimator input.sk-toggleable__control:checked~label.sk-toggleable__label {\n",
              "  /* unfitted */\n",
              "  background-color: var(--sklearn-color-unfitted-level-2);\n",
              "}\n",
              "\n",
              "#sk-container-id-2 div.sk-estimator.fitted input.sk-toggleable__control:checked~label.sk-toggleable__label {\n",
              "  /* fitted */\n",
              "  background-color: var(--sklearn-color-fitted-level-2);\n",
              "}\n",
              "\n",
              "#sk-container-id-2 div.sk-label label.sk-toggleable__label,\n",
              "#sk-container-id-2 div.sk-label label {\n",
              "  /* The background is the default theme color */\n",
              "  color: var(--sklearn-color-text-on-default-background);\n",
              "}\n",
              "\n",
              "/* On hover, darken the color of the background */\n",
              "#sk-container-id-2 div.sk-label:hover label.sk-toggleable__label {\n",
              "  color: var(--sklearn-color-text);\n",
              "  background-color: var(--sklearn-color-unfitted-level-2);\n",
              "}\n",
              "\n",
              "/* Label box, darken color on hover, fitted */\n",
              "#sk-container-id-2 div.sk-label.fitted:hover label.sk-toggleable__label.fitted {\n",
              "  color: var(--sklearn-color-text);\n",
              "  background-color: var(--sklearn-color-fitted-level-2);\n",
              "}\n",
              "\n",
              "/* Estimator label */\n",
              "\n",
              "#sk-container-id-2 div.sk-label label {\n",
              "  font-family: monospace;\n",
              "  font-weight: bold;\n",
              "  display: inline-block;\n",
              "  line-height: 1.2em;\n",
              "}\n",
              "\n",
              "#sk-container-id-2 div.sk-label-container {\n",
              "  text-align: center;\n",
              "}\n",
              "\n",
              "/* Estimator-specific */\n",
              "#sk-container-id-2 div.sk-estimator {\n",
              "  font-family: monospace;\n",
              "  border: 1px dotted var(--sklearn-color-border-box);\n",
              "  border-radius: 0.25em;\n",
              "  box-sizing: border-box;\n",
              "  margin-bottom: 0.5em;\n",
              "  /* unfitted */\n",
              "  background-color: var(--sklearn-color-unfitted-level-0);\n",
              "}\n",
              "\n",
              "#sk-container-id-2 div.sk-estimator.fitted {\n",
              "  /* fitted */\n",
              "  background-color: var(--sklearn-color-fitted-level-0);\n",
              "}\n",
              "\n",
              "/* on hover */\n",
              "#sk-container-id-2 div.sk-estimator:hover {\n",
              "  /* unfitted */\n",
              "  background-color: var(--sklearn-color-unfitted-level-2);\n",
              "}\n",
              "\n",
              "#sk-container-id-2 div.sk-estimator.fitted:hover {\n",
              "  /* fitted */\n",
              "  background-color: var(--sklearn-color-fitted-level-2);\n",
              "}\n",
              "\n",
              "/* Specification for estimator info (e.g. \"i\" and \"?\") */\n",
              "\n",
              "/* Common style for \"i\" and \"?\" */\n",
              "\n",
              ".sk-estimator-doc-link,\n",
              "a:link.sk-estimator-doc-link,\n",
              "a:visited.sk-estimator-doc-link {\n",
              "  float: right;\n",
              "  font-size: smaller;\n",
              "  line-height: 1em;\n",
              "  font-family: monospace;\n",
              "  background-color: var(--sklearn-color-background);\n",
              "  border-radius: 1em;\n",
              "  height: 1em;\n",
              "  width: 1em;\n",
              "  text-decoration: none !important;\n",
              "  margin-left: 1ex;\n",
              "  /* unfitted */\n",
              "  border: var(--sklearn-color-unfitted-level-1) 1pt solid;\n",
              "  color: var(--sklearn-color-unfitted-level-1);\n",
              "}\n",
              "\n",
              ".sk-estimator-doc-link.fitted,\n",
              "a:link.sk-estimator-doc-link.fitted,\n",
              "a:visited.sk-estimator-doc-link.fitted {\n",
              "  /* fitted */\n",
              "  border: var(--sklearn-color-fitted-level-1) 1pt solid;\n",
              "  color: var(--sklearn-color-fitted-level-1);\n",
              "}\n",
              "\n",
              "/* On hover */\n",
              "div.sk-estimator:hover .sk-estimator-doc-link:hover,\n",
              ".sk-estimator-doc-link:hover,\n",
              "div.sk-label-container:hover .sk-estimator-doc-link:hover,\n",
              ".sk-estimator-doc-link:hover {\n",
              "  /* unfitted */\n",
              "  background-color: var(--sklearn-color-unfitted-level-3);\n",
              "  color: var(--sklearn-color-background);\n",
              "  text-decoration: none;\n",
              "}\n",
              "\n",
              "div.sk-estimator.fitted:hover .sk-estimator-doc-link.fitted:hover,\n",
              ".sk-estimator-doc-link.fitted:hover,\n",
              "div.sk-label-container:hover .sk-estimator-doc-link.fitted:hover,\n",
              ".sk-estimator-doc-link.fitted:hover {\n",
              "  /* fitted */\n",
              "  background-color: var(--sklearn-color-fitted-level-3);\n",
              "  color: var(--sklearn-color-background);\n",
              "  text-decoration: none;\n",
              "}\n",
              "\n",
              "/* Span, style for the box shown on hovering the info icon */\n",
              ".sk-estimator-doc-link span {\n",
              "  display: none;\n",
              "  z-index: 9999;\n",
              "  position: relative;\n",
              "  font-weight: normal;\n",
              "  right: .2ex;\n",
              "  padding: .5ex;\n",
              "  margin: .5ex;\n",
              "  width: min-content;\n",
              "  min-width: 20ex;\n",
              "  max-width: 50ex;\n",
              "  color: var(--sklearn-color-text);\n",
              "  box-shadow: 2pt 2pt 4pt #999;\n",
              "  /* unfitted */\n",
              "  background: var(--sklearn-color-unfitted-level-0);\n",
              "  border: .5pt solid var(--sklearn-color-unfitted-level-3);\n",
              "}\n",
              "\n",
              ".sk-estimator-doc-link.fitted span {\n",
              "  /* fitted */\n",
              "  background: var(--sklearn-color-fitted-level-0);\n",
              "  border: var(--sklearn-color-fitted-level-3);\n",
              "}\n",
              "\n",
              ".sk-estimator-doc-link:hover span {\n",
              "  display: block;\n",
              "}\n",
              "\n",
              "/* \"?\"-specific style due to the `<a>` HTML tag */\n",
              "\n",
              "#sk-container-id-2 a.estimator_doc_link {\n",
              "  float: right;\n",
              "  font-size: 1rem;\n",
              "  line-height: 1em;\n",
              "  font-family: monospace;\n",
              "  background-color: var(--sklearn-color-background);\n",
              "  border-radius: 1rem;\n",
              "  height: 1rem;\n",
              "  width: 1rem;\n",
              "  text-decoration: none;\n",
              "  /* unfitted */\n",
              "  color: var(--sklearn-color-unfitted-level-1);\n",
              "  border: var(--sklearn-color-unfitted-level-1) 1pt solid;\n",
              "}\n",
              "\n",
              "#sk-container-id-2 a.estimator_doc_link.fitted {\n",
              "  /* fitted */\n",
              "  border: var(--sklearn-color-fitted-level-1) 1pt solid;\n",
              "  color: var(--sklearn-color-fitted-level-1);\n",
              "}\n",
              "\n",
              "/* On hover */\n",
              "#sk-container-id-2 a.estimator_doc_link:hover {\n",
              "  /* unfitted */\n",
              "  background-color: var(--sklearn-color-unfitted-level-3);\n",
              "  color: var(--sklearn-color-background);\n",
              "  text-decoration: none;\n",
              "}\n",
              "\n",
              "#sk-container-id-2 a.estimator_doc_link.fitted:hover {\n",
              "  /* fitted */\n",
              "  background-color: var(--sklearn-color-fitted-level-3);\n",
              "}\n",
              "</style><div id=\"sk-container-id-2\" class=\"sk-top-container\"><div class=\"sk-text-repr-fallback\"><pre>StandardScaler()</pre><b>In a Jupyter environment, please rerun this cell to show the HTML representation or trust the notebook. <br />On GitHub, the HTML representation is unable to render, please try loading this page with nbviewer.org.</b></div><div class=\"sk-container\" hidden><div class=\"sk-item\"><div class=\"sk-estimator fitted sk-toggleable\"><input class=\"sk-toggleable__control sk-hidden--visually\" id=\"sk-estimator-id-2\" type=\"checkbox\" checked><label for=\"sk-estimator-id-2\" class=\"sk-toggleable__label fitted sk-toggleable__label-arrow fitted\">&nbsp;&nbsp;StandardScaler<a class=\"sk-estimator-doc-link fitted\" rel=\"noreferrer\" target=\"_blank\" href=\"https://scikit-learn.org/1.5/modules/generated/sklearn.preprocessing.StandardScaler.html\">?<span>Documentation for StandardScaler</span></a><span class=\"sk-estimator-doc-link fitted\">i<span>Fitted</span></span></label><div class=\"sk-toggleable__content fitted\"><pre>StandardScaler()</pre></div> </div></div></div></div>"
            ]
          },
          "metadata": {},
          "execution_count": 182
        }
      ],
      "source": [
        "target_scaler = StandardScaler()\n",
        "target_scaler.fit(df_train_scaled[\"bg+1:00\"].values.reshape(-1, 1))"
      ]
    },
    {
      "cell_type": "code",
      "execution_count": null,
      "metadata": {
        "id": "0N5-SEa-RD4j"
      },
      "outputs": [],
      "source": [
        "pred_resc = target_scaler.inverse_transform(pred.reshape(-1,1))\n",
        "pred_resc_train = target_scaler.inverse_transform(pred_train.reshape(-1,1))"
      ]
    },
    {
      "cell_type": "code",
      "execution_count": null,
      "metadata": {
        "id": "i7oDxnhmRD4k",
        "colab": {
          "base_uri": "https://localhost:8080/"
        },
        "outputId": "a7b5f66a-50c4-4e21-f504-61ddf6161ae3"
      },
      "outputs": [
        {
          "output_type": "execute_result",
          "data": {
            "text/plain": [
              "(3644, 2)"
            ]
          },
          "metadata": {},
          "execution_count": 184
        }
      ],
      "source": [
        "sub = pd.read_csv(\"/content/drive/MyDrive/Exercises/Studies_Structured_Data/Data/Glucose/sample_submission.csv\")\n",
        "sub.shape"
      ]
    },
    {
      "cell_type": "code",
      "execution_count": null,
      "metadata": {
        "id": "X9JNtzEqRD4k"
      },
      "outputs": [],
      "source": [
        "sub[\"bg+1:00\"] = pred_resc\n",
        "pred_resc_train = pd.DataFrame(data=pred_resc_train, index=df_train.index, columns=[\"bg+1:00\"])"
      ]
    },
    {
      "cell_type": "code",
      "execution_count": null,
      "metadata": {
        "id": "JZ8QYGNHRD4k"
      },
      "outputs": [],
      "source": [
        "sub.to_csv(f\"/content/drive/MyDrive/Exercises/Studies_Structured_Data/Data/Glucose/submissions/Submission_val_encoder_v4_ext.csv\", index=False)\n",
        "pred_resc_train.to_csv(f\"/content/drive/MyDrive/Exercises/Studies_Structured_Data/Data/Glucose/submissions/train_encoder_v4_ext.csv\")"
      ]
    },
    {
      "cell_type": "markdown",
      "metadata": {
        "id": "6RKN_FkbKvYa"
      },
      "source": [
        "#### MODEL 5 - Convol"
      ]
    },
    {
      "cell_type": "code",
      "execution_count": null,
      "metadata": {
        "id": "koGHgxC7KvYe"
      },
      "outputs": [],
      "source": [
        "cols_bg = ['bg-5:55', 'bg-5:50', 'bg-5:45', 'bg-5:40','bg-5:35', 'bg-5:30',\n",
        "           'bg-5:25', 'bg-5:20', 'bg-5:15', 'bg-5:10','bg-5:05', 'bg-5:00',\n",
        "           'bg-4:55', 'bg-4:50', 'bg-4:45', 'bg-4:40','bg-4:35', 'bg-4:30',\n",
        "           'bg-4:25', 'bg-4:20', 'bg-4:15', 'bg-4:10','bg-4:05', 'bg-4:00',\n",
        "           'bg-3:55', 'bg-3:50', 'bg-3:45', 'bg-3:40','bg-3:35', 'bg-3:30',\n",
        "           'bg-3:25', 'bg-3:20', 'bg-3:15', 'bg-3:10','bg-3:05', 'bg-3:00',\n",
        "           'bg-2:55', 'bg-2:50', 'bg-2:45', 'bg-2:40','bg-2:35', 'bg-2:30',\n",
        "           'bg-2:25', 'bg-2:20', 'bg-2:15', 'bg-2:10','bg-2:05', 'bg-2:00',\n",
        "           'bg-1:55', 'bg-1:50', 'bg-1:45', 'bg-1:40','bg-1:35', 'bg-1:30',\n",
        "           'bg-1:25', 'bg-1:20', 'bg-1:15', 'bg-1:10','bg-1:05', 'bg-1:00',\n",
        "           'bg-0:55', 'bg-0:50', 'bg-0:45', 'bg-0:40','bg-0:35', 'bg-0:30',\n",
        "           'bg-0:25', 'bg-0:20', 'bg-0:15', 'bg-0:10','bg-0:05', 'bg-0:00']\n",
        "\n",
        "cols_brake = ['brake-5:55', 'brake-5:50', 'brake-5:45', 'brake-5:40','brake-5:35', 'brake-5:30',\n",
        "              'brake-5:25', 'brake-5:20', 'brake-5:15', 'brake-5:10','brake-5:05', 'brake-5:00',\n",
        "              'brake-4:55', 'brake-4:50', 'brake-4:45', 'brake-4:40','brake-4:35', 'brake-4:30',\n",
        "              'brake-4:25', 'brake-4:20', 'brake-4:15', 'brake-4:10','brake-4:05', 'brake-4:00',\n",
        "              'brake-3:55', 'brake-3:50', 'brake-3:45', 'brake-3:40','brake-3:35', 'brake-3:30',\n",
        "              'brake-3:25', 'brake-3:20', 'brake-3:15', 'brake-3:10','brake-3:05', 'brake-3:00',\n",
        "              'brake-2:55', 'brake-2:50', 'brake-2:45', 'brake-2:40','brake-2:35', 'brake-2:30',\n",
        "              'brake-2:25', 'brake-2:20', 'brake-2:15', 'brake-2:10','brake-2:05', 'brake-2:00',\n",
        "              'brake-1:55', 'brake-1:50', 'brake-1:45', 'brake-1:40','brake-1:35', 'brake-1:30',\n",
        "              'brake-1:25', 'brake-1:20', 'brake-1:15', 'brake-1:10','brake-1:05', 'brake-1:00',\n",
        "              'brake-0:55', 'brake-0:50', 'brake-0:45', 'brake-0:40','brake-0:35', 'brake-0:30',\n",
        "              'brake-0:25', 'brake-0:20', 'brake-0:15', 'brake-0:10','brake-0:05', 'brake-0:00']\n"
      ]
    },
    {
      "cell_type": "code",
      "execution_count": null,
      "metadata": {
        "id": "IgIdPw89KvYe"
      },
      "outputs": [],
      "source": [
        "X_enc = df_train[[\"p_num\",\"obv_n\"]+cols_bg+cols_brake]\n",
        "y_enc = df_train[\"bg+1:00\"]\n",
        "X_enc_test = df_test[cols_bg+cols_brake]\n",
        "X_enc.shape"
      ]
    },
    {
      "cell_type": "code",
      "execution_count": null,
      "metadata": {
        "id": "fBKuw8CSKvYe"
      },
      "outputs": [],
      "source": [
        "X_enc.isnull().sum().sum(), y_enc.isna().sum()\n",
        "#y_enc[:10]"
      ]
    },
    {
      "cell_type": "code",
      "execution_count": null,
      "metadata": {
        "id": "Ynw8zQWEKvYe"
      },
      "outputs": [],
      "source": [
        "p1_val = list(X_enc[(X_enc[\"p_num\"]==\"p01\")&(X_enc[\"obv_n\"]>=7600)].index)\n",
        "p2_val = list(X_enc[(X_enc[\"p_num\"]==\"p02\")&(X_enc[\"obv_n\"]>=22500)].index)\n",
        "p3_val = list(X_enc[(X_enc[\"p_num\"]==\"p03\")&(X_enc[\"obv_n\"]>=23000)].index)\n",
        "p4_val = list(X_enc[(X_enc[\"p_num\"]==\"p04\")&(X_enc[\"obv_n\"]>=22000)].index)\n",
        "p5_val = list(X_enc[(X_enc[\"p_num\"]==\"p05\")&(X_enc[\"obv_n\"]>=7600)].index)\n",
        "p6_val = list(X_enc[(X_enc[\"p_num\"]==\"p06\")&(X_enc[\"obv_n\"]>=7600)].index)\n",
        "p10_val = list(X_enc[(X_enc[\"p_num\"]==\"p10\")&(X_enc[\"obv_n\"]>=22500)].index)\n",
        "p11_val = list(X_enc[(X_enc[\"p_num\"]==\"p11\")&(X_enc[\"obv_n\"]>=22000)].index)\n",
        "p12_val = list(X_enc[(X_enc[\"p_num\"]==\"p12\")&(X_enc[\"obv_n\"]>=22500)].index)\n",
        "\n",
        "matrix_val = p1_val+p2_val+p3_val+p4_val+p5_val+p6_val+p10_val+p11_val+p12_val\n",
        "len(matrix_val)/X_enc.shape[0]\n",
        "\n",
        "X_enc_train = X_enc.drop(matrix_val)\n",
        "X_enc_valid = X_enc.loc[matrix_val]\n",
        "\n",
        "y_enc_train = y_enc.drop(matrix_val)\n",
        "y_enc_valid = y_enc.loc[matrix_val]\n",
        "\n",
        "X_enc_train.drop([\"p_num\",\"obv_n\"], axis=1, inplace=True)\n",
        "X_enc_valid.drop([\"p_num\",\"obv_n\"], axis=1, inplace=True)\n",
        "X_enc.drop([\"p_num\",\"obv_n\"], axis=1, inplace=True)\n",
        "\n",
        "X_enc_train.shape, X_enc_valid.shape, X_enc.shape, y_enc_train.shape, y_enc_valid.shape, y_enc.shape"
      ]
    },
    {
      "cell_type": "code",
      "execution_count": null,
      "metadata": {
        "id": "VCAO4wS8KvYf"
      },
      "outputs": [],
      "source": [
        "# Assuming your data is in a NumPy array called 'data'\n",
        "train = X_enc_train.values.reshape((-1, 72, 2))  # Reshape for LSTM\n",
        "valid = X_enc_valid.values.reshape((-1, 72, 2))\n",
        "X_enc = X_enc.values.reshape((-1, 72, 2))\n",
        "X_enc_test = X_enc_test.values.reshape((-1, 72, 2))\n",
        "\n",
        "y_enc_train = y_enc_train.values.reshape((-1, 1))\n",
        "y_enc_valid = y_enc_valid.values.reshape((-1, 1))"
      ]
    },
    {
      "cell_type": "code",
      "execution_count": null,
      "metadata": {
        "id": "ho7f3h4GKvYf"
      },
      "outputs": [],
      "source": [
        "def model_autoencoder_v5():\n",
        "  input_dim = 72\n",
        "  latent_vec_dim = 8\n",
        "\n",
        "  # 2. Build the autoencoder model\n",
        "  input_ts = keras.Input(shape=(input_dim, 2))\n",
        "\n",
        "  # Encoder\n",
        "  x = layers.Conv1D(filters=64, kernel_size=3, activation='relu', padding='same')(input_ts)\n",
        "  x = layers.MaxPooling1D(pool_size=2)(x)\n",
        "  x = layers.Conv1D(filters=32, kernel_size=3, activation='relu', padding='same')(x)\n",
        "  x = layers.MaxPooling1D(pool_size=2)(x)\n",
        "  x = layers.Flatten()(x)\n",
        "  encoded = layers.Dense(latent_vec_dim, activation='linear', kernel_regularizer = tf.keras.regularizers.L2(l2=0.1))(x)  # Bottleneck layer with 5 dimensions\n",
        "\n",
        "  output_1 = Dense(1, activation='linear', name=\"Reg_Output\")(encoded)\n",
        "\n",
        "  #encoder = encoded\n",
        "\n",
        "  # Decoder\n",
        "  x = layers.Dense(18 * 32)(encoded)  # Adjusted output size\n",
        "  x = layers.Reshape((18, 32))(x)  # Adjusted reshape\n",
        "  x = layers.Conv1DTranspose(filters=32, kernel_size=3, activation='relu', padding='same')(x)\n",
        "  x = layers.UpSampling1D(size=2)(x)\n",
        "  x = layers.Conv1DTranspose(filters=64, kernel_size=3, activation='relu', padding='same')(x)\n",
        "  x = layers.UpSampling1D(size=2)(x)\n",
        "  decoded = layers.Conv1D(filters=2, kernel_size=3, activation='linear', padding='same', name=\"decoded\")(x)\n",
        "\n",
        "\n",
        "  # Connect both encoder and decoder\n",
        "  autoencoder_mult = Model(inputs = input_ts, outputs = [decoded, output_1], name=\"Deep_Autoencoder\")\n",
        "\n",
        "  # Latent representation (Optional)\n",
        "  latent_model = Model(input_ts, encoded)\n",
        "\n",
        "  return autoencoder_mult, latent_model"
      ]
    },
    {
      "cell_type": "code",
      "execution_count": null,
      "metadata": {
        "id": "hmsllK8rKvYf"
      },
      "outputs": [],
      "source": [
        "autoencoder_prellin_v5, latent_model_prellin_v5 = model_autoencoder_v5()\n",
        "\n",
        "# Get summary\n",
        "autoencoder_prellin_v5.summary()"
      ]
    },
    {
      "cell_type": "code",
      "execution_count": null,
      "metadata": {
        "id": "W9giMfY_KvYf"
      },
      "outputs": [],
      "source": [
        "lr = keras.callbacks.ReduceLROnPlateau(monitor=\"val_Reg_Output_root_mean_squared_error\",\n",
        "                        factor=0.75,\n",
        "                        patience=10,\n",
        "                        verbose=1,\n",
        "                        mode=\"min\")\n",
        "\n",
        "early_stop = keras.callbacks.EarlyStopping(monitor=\"val_Reg_Output_root_mean_squared_error\",\n",
        "                            patience=25,\n",
        "                            verbose=1,\n",
        "                            mode=\"min\",\n",
        "                            restore_best_weights=True)\n",
        "\n",
        "##################################################################### Relevant Folders\n",
        "folders_experiment = f\"/content/drive/MyDrive/Exercises/Studies_Structured_Data/Models/Glucose/encoder_05/\"\n",
        "##################################################################### Generate and Fit Model\n",
        "# Callbacks:\n",
        "checkpoint_filepath = folders_experiment + f'checkpoint/best_weights_v5.weights.h5'\n",
        "\n",
        "Checkpoint = keras.callbacks.ModelCheckpoint(filepath=checkpoint_filepath,\n",
        "                                                 save_weights_only=True,\n",
        "                                                 monitor=\"val_Reg_Output_root_mean_squared_error\",\n",
        "                                                 mode='min')"
      ]
    },
    {
      "cell_type": "code",
      "execution_count": null,
      "metadata": {
        "id": "QoZ-xOv7KvYg"
      },
      "outputs": [],
      "source": [
        "# Compile the autoencoder model\n",
        "optimizer = keras.optimizers.Adam(learning_rate=0.0005)\n",
        "loss_0 = 'mse'\n",
        "loss_1 = 'mse'\n",
        "\n",
        "autoencoder_prellin_v5.compile(loss=[loss_0, loss_1], loss_weights=[0.7,0.30], optimizer=optimizer, metrics={'decoded': 'mse','Reg_Output': RootMeanSquaredError()})\n",
        "\n",
        "# Train the autoencoder with MNIST data\n",
        "#history_prellin_v5 = autoencoder_prellin_v5.fit(train, [train, y_enc_train], epochs=120, batch_size=256, callbacks = [early_stop, Checkpoint, lr],\n",
        "#                                                 shuffle=True, validation_data=(valid, [valid, y_enc_valid]))\n",
        "\n",
        "autoencoder_prellin_v5.load_weights(checkpoint_filepath)"
      ]
    },
    {
      "cell_type": "code",
      "execution_count": null,
      "metadata": {
        "id": "wNx2Q9ubKvYg"
      },
      "outputs": [],
      "source": [
        "# Plot training and validation loss scores\n",
        "# against the number of epochs.\n",
        "plt.figure(figsize=(5, 3))\n",
        "plt.plot(history_prellin_v5.history['loss'], label='Train')\n",
        "plt.plot(history_prellin_v5.history['val_loss'], label='Validation')\n",
        "plt.ylabel('MSE')\n",
        "plt.xlabel('Epoch')\n",
        "plt.title('Autoencoder Reconstruction Loss', pad=13)\n",
        "plt.legend(loc='upper right')\n",
        "plt.show()"
      ]
    },
    {
      "cell_type": "code",
      "execution_count": null,
      "metadata": {
        "id": "nJuAU_I7KvYg"
      },
      "outputs": [],
      "source": [
        "latent_representation_v5 = latent_model_prellin_v5.predict(valid)\n",
        "latent_representation_train_v5 = latent_model_prellin_v5.predict(train)"
      ]
    },
    {
      "cell_type": "code",
      "execution_count": null,
      "metadata": {
        "id": "VDfI0SXeKvYh"
      },
      "outputs": [],
      "source": [
        "fig, axs = plt.subplots(1,2,figsize=(6, 3))\n",
        "\n",
        "sns.scatterplot(x=latent_representation_v5[:,5],\n",
        "                y=latent_representation_v5[:,7],\n",
        "                c=y_enc_valid,\n",
        "                palette='tab10',\n",
        "                ax=axs[0])\n",
        "\n",
        "sns.scatterplot(x=latent_representation_train_v5[:,5],\n",
        "                y=latent_representation_train_v5[:,7],\n",
        "                c=y_enc_train,\n",
        "                palette='tab10',\n",
        "                ax=axs[1]\n",
        "                )\n",
        "\n",
        "axs[0].set_xlabel(\"Enc. Fifth dimension\", fontsize=8)\n",
        "axs[0].set_ylabel(\"Enc. Seventh dimension\", fontsize=8)\n",
        "\n",
        "axs[1].set_xlabel(\"Enc. Fifth dimension - Train\", fontsize=8)\n",
        "axs[1].set_ylabel(\"Enc. Seventh dimension - Train\", fontsize=8)\n",
        "\n",
        "axs[0].grid(linestyle='--', alpha=0.5)\n",
        "\n",
        "plt.tight_layout()\n",
        "plt.show()"
      ]
    },
    {
      "cell_type": "code",
      "execution_count": null,
      "metadata": {
        "id": "Nn8LY8MDKvYh"
      },
      "outputs": [],
      "source": [
        "fig, axs = plt.subplots(1,2,figsize=(6, 3))\n",
        "\n",
        "sns.scatterplot(x=latent_representation_v5[:,0],\n",
        "                y=latent_representation_v5[:,2],\n",
        "                c=y_enc_valid,\n",
        "                palette='tab10',\n",
        "                ax=axs[0])\n",
        "\n",
        "sns.scatterplot(x=latent_representation_train_v5[:,0],\n",
        "                y=latent_representation_train_v5[:,2],\n",
        "                c=y_enc_train,\n",
        "                palette='tab10',\n",
        "                ax=axs[1]\n",
        "                )\n",
        "\n",
        "axs[0].set_xlabel(\"Enc. First dimension\", fontsize=8)\n",
        "axs[0].set_ylabel(\"Enc. Third dimension\", fontsize=8)\n",
        "\n",
        "axs[1].set_xlabel(\"Enc. First dimension - Train\", fontsize=8)\n",
        "axs[1].set_ylabel(\"Enc. Third dimension - Train\", fontsize=8)\n",
        "\n",
        "axs[0].grid(linestyle='--', alpha=0.5)\n",
        "\n",
        "plt.tight_layout()\n",
        "plt.show()"
      ]
    },
    {
      "cell_type": "code",
      "execution_count": null,
      "metadata": {
        "id": "7SkQDe98KvYh"
      },
      "outputs": [],
      "source": [
        "latent_representation_v5_final = latent_model_prellin_v5.predict(X_enc)\n",
        "latent_representation_v5_final_test = latent_model_prellin_v5.predict(X_enc_test)"
      ]
    },
    {
      "cell_type": "code",
      "execution_count": null,
      "metadata": {
        "id": "keVKjE_gKvYh"
      },
      "outputs": [],
      "source": [
        "X_enc.shape"
      ]
    },
    {
      "cell_type": "code",
      "execution_count": null,
      "metadata": {
        "id": "hezIAE0wKvYi"
      },
      "outputs": [],
      "source": [
        "latent_representation_v5_final.shape"
      ]
    },
    {
      "cell_type": "code",
      "execution_count": null,
      "metadata": {
        "id": "zbl4rBAaKvYi"
      },
      "outputs": [],
      "source": [
        "df_train[\"enc_01_v5\"] = latent_representation_v5_final[:,0]\n",
        "df_train[\"enc_02_v5\"] = latent_representation_v5_final[:,1]\n",
        "df_train[\"enc_03_v5\"] = latent_representation_v5_final[:,2]\n",
        "df_train[\"enc_04_v5\"] = latent_representation_v5_final[:,3]\n",
        "df_train[\"enc_05_v5\"] = latent_representation_v5_final[:,4]\n",
        "df_train[\"enc_06_v5\"] = latent_representation_v5_final[:,5]\n",
        "df_train[\"enc_07_v5\"] = latent_representation_v5_final[:,6]\n",
        "df_train[\"enc_08_v5\"] = latent_representation_v5_final[:,7]\n",
        "\n",
        "df_test[\"enc_01_v5\"] = latent_representation_v5_final_test[:,0]\n",
        "df_test[\"enc_02_v5\"] = latent_representation_v5_final_test[:,1]\n",
        "df_test[\"enc_03_v5\"] = latent_representation_v5_final_test[:,2]\n",
        "df_test[\"enc_04_v5\"] = latent_representation_v5_final_test[:,3]\n",
        "df_test[\"enc_05_v5\"] = latent_representation_v5_final_test[:,4]\n",
        "df_test[\"enc_06_v5\"] = latent_representation_v5_final_test[:,5]\n",
        "df_test[\"enc_07_v5\"] = latent_representation_v5_final_test[:,6]\n",
        "df_test[\"enc_08_v5\"] = latent_representation_v5_final_test[:,7]"
      ]
    },
    {
      "cell_type": "code",
      "execution_count": null,
      "metadata": {
        "id": "ygKZbwqNKvYi"
      },
      "outputs": [],
      "source": [
        "df_train.isnull().sum().sum(), df_test.isnull().sum().sum(), df_train.shape, df_test.shape"
      ]
    },
    {
      "cell_type": "markdown",
      "metadata": {
        "id": "lvfUTnWEKvYi"
      },
      "source": [
        "##### STORE ENCODED FEATURES from Model 5:"
      ]
    },
    {
      "cell_type": "code",
      "execution_count": null,
      "metadata": {
        "id": "9lDYsHBGKvYi"
      },
      "outputs": [],
      "source": [
        "#df_train.to_csv(\"/content/drive/MyDrive/Exercises/Studies_Structured_Data/Data/Glucose/train_cluster_enc_v5.csv\")\n",
        "#df_test.to_csv(\"/content/drive/MyDrive/Exercises/Studies_Structured_Data/Data/Glucose/test_cluster_enc_v5.csv\")\n",
        "\n",
        "df_train = pd.read_csv(\"/content/drive/MyDrive/Exercises/Studies_Structured_Data/Data/Glucose/train_cluster_enc_v5.csv\", index_col=0)\n",
        "df_test = pd.read_csv(\"/content/drive/MyDrive/Exercises/Studies_Structured_Data/Data/Glucose/test_cluster_enc_v5.csv\", index_col=0)"
      ]
    },
    {
      "cell_type": "code",
      "execution_count": null,
      "metadata": {
        "id": "d4hV2V2-fvs4"
      },
      "outputs": [],
      "source": [
        "df_train.shape, df_test.shape"
      ]
    },
    {
      "cell_type": "markdown",
      "metadata": {
        "id": "OorqVBy1Sdkg"
      },
      "source": [
        "##### Test Correlations:"
      ]
    },
    {
      "cell_type": "code",
      "execution_count": null,
      "metadata": {
        "id": "DbSb5RRkSdkh"
      },
      "outputs": [],
      "source": [
        "df_train[['PC_1', 'PC_2', 'PC_3', 'enc_01_v5', 'enc_02_v5', 'enc_03_v5','enc_04_v5','enc_05_v5',\n",
        "          'enc_06_v5','enc_07_v5','enc_08_v5',\"bg+1:00\"]].corr().style.background_gradient(cmap='viridis')"
      ]
    },
    {
      "cell_type": "markdown",
      "metadata": {
        "id": "nDBBbrq5Sdkh"
      },
      "source": [
        "##### Submission Model 5:"
      ]
    },
    {
      "cell_type": "code",
      "execution_count": null,
      "metadata": {
        "id": "Sv9iCbwCSdkh"
      },
      "outputs": [],
      "source": [
        "recons, pred = autoencoder_prellin_v5.predict(X_enc_test)\n",
        "_, pred_train = autoencoder_prellin_v5.predict(X_enc)"
      ]
    },
    {
      "cell_type": "code",
      "execution_count": null,
      "metadata": {
        "id": "vhr1RJa2Sdkh"
      },
      "outputs": [],
      "source": [
        "df_train_scaled=pd.read_csv(\"/content/drive/MyDrive/Exercises/Studies_Structured_Data/Data/Glucose/X_train_scaled.csv\", index_col=0)\n",
        "df_test.shape"
      ]
    },
    {
      "cell_type": "code",
      "execution_count": null,
      "metadata": {
        "id": "Gnu2n4awSdki"
      },
      "outputs": [],
      "source": [
        "target_scaler = StandardScaler()\n",
        "target_scaler.fit(df_train_scaled[\"bg+1:00\"].values.reshape(-1, 1))"
      ]
    },
    {
      "cell_type": "code",
      "execution_count": null,
      "metadata": {
        "id": "M-uCWKtASdki"
      },
      "outputs": [],
      "source": [
        "pred_resc = target_scaler.inverse_transform(pred.reshape(-1,1))\n",
        "pred_resc_train = target_scaler.inverse_transform(pred_train.reshape(-1,1))"
      ]
    },
    {
      "cell_type": "code",
      "execution_count": null,
      "metadata": {
        "id": "hZuiPC_oSdki"
      },
      "outputs": [],
      "source": [
        "sub = pd.read_csv(\"/content/drive/MyDrive/Exercises/Studies_Structured_Data/Data/Glucose/sample_submission.csv\")\n",
        "sub.shape"
      ]
    },
    {
      "cell_type": "code",
      "execution_count": null,
      "metadata": {
        "id": "wyzxGACsSdki"
      },
      "outputs": [],
      "source": [
        "sub[\"bg+1:00\"] = pred_resc\n",
        "pred_resc_train = pd.DataFrame(data=pred_resc_train, index=df_train.index, columns=[\"bg+1:00\"])"
      ]
    },
    {
      "cell_type": "code",
      "execution_count": null,
      "metadata": {
        "id": "Pf_UvAE4Sdki"
      },
      "outputs": [],
      "source": [
        "sub.to_csv(f\"/content/drive/MyDrive/Exercises/Studies_Structured_Data/Data/Glucose/submissions/Submission_val_encoder_v5.csv\", index=False)\n",
        "pred_resc_train.to_csv(f\"/content/drive/MyDrive/Exercises/Studies_Structured_Data/Data/Glucose/submissions/train_encoder_v5.csv\")"
      ]
    },
    {
      "cell_type": "markdown",
      "metadata": {
        "id": "aOy_G9-xZFLp"
      },
      "source": [
        "#### MODEL 6 - Convol + Intake"
      ]
    },
    {
      "cell_type": "code",
      "execution_count": null,
      "metadata": {
        "id": "XldeSAzoZFLt"
      },
      "outputs": [],
      "source": [
        "cols_bg = ['bg-5:55', 'bg-5:50', 'bg-5:45', 'bg-5:40','bg-5:35', 'bg-5:30',\n",
        "           'bg-5:25', 'bg-5:20', 'bg-5:15', 'bg-5:10','bg-5:05', 'bg-5:00',\n",
        "           'bg-4:55', 'bg-4:50', 'bg-4:45', 'bg-4:40','bg-4:35', 'bg-4:30',\n",
        "           'bg-4:25', 'bg-4:20', 'bg-4:15', 'bg-4:10','bg-4:05', 'bg-4:00',\n",
        "           'bg-3:55', 'bg-3:50', 'bg-3:45', 'bg-3:40','bg-3:35', 'bg-3:30',\n",
        "           'bg-3:25', 'bg-3:20', 'bg-3:15', 'bg-3:10','bg-3:05', 'bg-3:00',\n",
        "           'bg-2:55', 'bg-2:50', 'bg-2:45', 'bg-2:40','bg-2:35', 'bg-2:30',\n",
        "           'bg-2:25', 'bg-2:20', 'bg-2:15', 'bg-2:10','bg-2:05', 'bg-2:00',\n",
        "           'bg-1:55', 'bg-1:50', 'bg-1:45', 'bg-1:40','bg-1:35', 'bg-1:30',\n",
        "           'bg-1:25', 'bg-1:20', 'bg-1:15', 'bg-1:10','bg-1:05', 'bg-1:00',\n",
        "           'bg-0:55', 'bg-0:50', 'bg-0:45', 'bg-0:40','bg-0:35', 'bg-0:30',\n",
        "           'bg-0:25', 'bg-0:20', 'bg-0:15', 'bg-0:10','bg-0:05', 'bg-0:00']\n",
        "\n",
        "cols_brake = ['brake-5:55', 'brake-5:50', 'brake-5:45', 'brake-5:40','brake-5:35', 'brake-5:30',\n",
        "              'brake-5:25', 'brake-5:20', 'brake-5:15', 'brake-5:10','brake-5:05', 'brake-5:00',\n",
        "              'brake-4:55', 'brake-4:50', 'brake-4:45', 'brake-4:40','brake-4:35', 'brake-4:30',\n",
        "              'brake-4:25', 'brake-4:20', 'brake-4:15', 'brake-4:10','brake-4:05', 'brake-4:00',\n",
        "              'brake-3:55', 'brake-3:50', 'brake-3:45', 'brake-3:40','brake-3:35', 'brake-3:30',\n",
        "              'brake-3:25', 'brake-3:20', 'brake-3:15', 'brake-3:10','brake-3:05', 'brake-3:00',\n",
        "              'brake-2:55', 'brake-2:50', 'brake-2:45', 'brake-2:40','brake-2:35', 'brake-2:30',\n",
        "              'brake-2:25', 'brake-2:20', 'brake-2:15', 'brake-2:10','brake-2:05', 'brake-2:00',\n",
        "              'brake-1:55', 'brake-1:50', 'brake-1:45', 'brake-1:40','brake-1:35', 'brake-1:30',\n",
        "              'brake-1:25', 'brake-1:20', 'brake-1:15', 'brake-1:10','brake-1:05', 'brake-1:00',\n",
        "              'brake-0:55', 'brake-0:50', 'brake-0:45', 'brake-0:40','brake-0:35', 'brake-0:30',\n",
        "              'brake-0:25', 'brake-0:20', 'brake-0:15', 'brake-0:10','brake-0:05', 'brake-0:00']\n",
        "\n",
        "cols_intake = ['intake-5:55', 'intake-5:50', 'intake-5:45', 'intake-5:40','intake-5:35', 'intake-5:30',\n",
        "              'intake-5:25', 'intake-5:20', 'intake-5:15', 'intake-5:10','intake-5:05', 'intake-5:00',\n",
        "              'intake-4:55', 'intake-4:50', 'intake-4:45', 'intake-4:40','intake-4:35', 'intake-4:30',\n",
        "              'intake-4:25', 'intake-4:20', 'intake-4:15', 'intake-4:10','intake-4:05', 'intake-4:00',\n",
        "              'intake-3:55', 'intake-3:50', 'intake-3:45', 'intake-3:40','intake-3:35', 'intake-3:30',\n",
        "              'intake-3:25', 'intake-3:20', 'intake-3:15', 'intake-3:10','intake-3:05', 'intake-3:00',\n",
        "              'intake-2:55', 'intake-2:50', 'intake-2:45', 'intake-2:40','intake-2:35', 'intake-2:30',\n",
        "              'intake-2:25', 'intake-2:20', 'intake-2:15', 'intake-2:10','intake-2:05', 'intake-2:00',\n",
        "              'intake-1:55', 'intake-1:50', 'intake-1:45', 'intake-1:40','intake-1:35', 'intake-1:30',\n",
        "              'intake-1:25', 'intake-1:20', 'intake-1:15', 'intake-1:10','intake-1:05', 'intake-1:00',\n",
        "              'intake-0:55', 'intake-0:50', 'intake-0:45', 'intake-0:40','intake-0:35', 'intake-0:30',\n",
        "              'intake-0:25', 'intake-0:20', 'intake-0:15', 'intake-0:10','intake-0:05', 'intake-0:00']"
      ]
    },
    {
      "cell_type": "code",
      "execution_count": null,
      "metadata": {
        "id": "3yi8CsuYZFLt"
      },
      "outputs": [],
      "source": [
        "X_enc = df_train[[\"p_num\",\"obv_n\"]+cols_bg+cols_brake+cols_intake]\n",
        "y_enc = df_train[\"bg+1:00\"]\n",
        "X_enc_test = df_test[cols_bg+cols_brake+cols_intake]\n",
        "X_enc.shape, X_enc_test.shape"
      ]
    },
    {
      "cell_type": "code",
      "execution_count": null,
      "metadata": {
        "id": "iAzbswrfZFLu"
      },
      "outputs": [],
      "source": [
        "X_enc.isnull().sum().sum(), y_enc.isna().sum()\n",
        "#y_enc[:10]"
      ]
    },
    {
      "cell_type": "code",
      "execution_count": null,
      "metadata": {
        "id": "a3W06wcBZFLu"
      },
      "outputs": [],
      "source": [
        "p1_val = list(X_enc[(X_enc[\"p_num\"]==\"p01\")&(X_enc[\"obv_n\"]>=7600)].index)\n",
        "p2_val = list(X_enc[(X_enc[\"p_num\"]==\"p02\")&(X_enc[\"obv_n\"]>=22500)].index)\n",
        "p3_val = list(X_enc[(X_enc[\"p_num\"]==\"p03\")&(X_enc[\"obv_n\"]>=23000)].index)\n",
        "p4_val = list(X_enc[(X_enc[\"p_num\"]==\"p04\")&(X_enc[\"obv_n\"]>=22000)].index)\n",
        "p5_val = list(X_enc[(X_enc[\"p_num\"]==\"p05\")&(X_enc[\"obv_n\"]>=7600)].index)\n",
        "p6_val = list(X_enc[(X_enc[\"p_num\"]==\"p06\")&(X_enc[\"obv_n\"]>=7600)].index)\n",
        "p10_val = list(X_enc[(X_enc[\"p_num\"]==\"p10\")&(X_enc[\"obv_n\"]>=22500)].index)\n",
        "p11_val = list(X_enc[(X_enc[\"p_num\"]==\"p11\")&(X_enc[\"obv_n\"]>=22000)].index)\n",
        "p12_val = list(X_enc[(X_enc[\"p_num\"]==\"p12\")&(X_enc[\"obv_n\"]>=22500)].index)\n",
        "\n",
        "matrix_val = p1_val+p2_val+p3_val+p4_val+p5_val+p6_val+p10_val+p11_val+p12_val\n",
        "len(matrix_val)/X_enc.shape[0]\n",
        "\n",
        "X_enc_train = X_enc.drop(matrix_val)\n",
        "X_enc_valid = X_enc.loc[matrix_val]\n",
        "\n",
        "y_enc_train = y_enc.drop(matrix_val)\n",
        "y_enc_valid = y_enc.loc[matrix_val]\n",
        "\n",
        "X_enc_train.drop([\"p_num\",\"obv_n\"], axis=1, inplace=True)\n",
        "X_enc_valid.drop([\"p_num\",\"obv_n\"], axis=1, inplace=True)\n",
        "X_enc.drop([\"p_num\",\"obv_n\"], axis=1, inplace=True)\n",
        "\n",
        "X_enc_train.shape, X_enc_valid.shape, X_enc.shape, y_enc_train.shape, y_enc_valid.shape, y_enc.shape"
      ]
    },
    {
      "cell_type": "code",
      "execution_count": null,
      "metadata": {
        "id": "iqJDKG8wZFLv"
      },
      "outputs": [],
      "source": [
        "# Assuming your data is in a NumPy array called 'data'\n",
        "train = X_enc_train.values.reshape((-1, 72, 3))  # Reshape for LSTM\n",
        "valid = X_enc_valid.values.reshape((-1, 72, 3))\n",
        "X_enc = X_enc.values.reshape((-1, 72, 3))\n",
        "X_enc_test = X_enc_test.values.reshape((-1, 72, 3))\n",
        "\n",
        "y_enc_train = y_enc_train.values.reshape((-1, 1))\n",
        "y_enc_valid = y_enc_valid.values.reshape((-1, 1))"
      ]
    },
    {
      "cell_type": "code",
      "execution_count": null,
      "metadata": {
        "id": "0wLec6K_ZFLv"
      },
      "outputs": [],
      "source": [
        "def model_autoencoder_v6():\n",
        "  input_dim = 72\n",
        "  latent_vec_dim = 8\n",
        "\n",
        "  # 2. Build the autoencoder model\n",
        "  input_ts = keras.Input(shape=(input_dim, 3))\n",
        "\n",
        "  # Encoder\n",
        "  x = layers.Conv1D(filters=128, kernel_size=3, activation='relu', padding='same')(input_ts)\n",
        "  x = layers.MaxPooling1D(pool_size=2)(x)\n",
        "  x = layers.Conv1D(filters=64, kernel_size=3, activation='relu', padding='same')(x)\n",
        "  x = layers.MaxPooling1D(pool_size=2)(x)\n",
        "  x = layers.Conv1D(filters=32, kernel_size=3, activation='relu', padding='same')(x)\n",
        "  x = layers.MaxPooling1D(pool_size=2)(x)\n",
        "  x = layers.Flatten()(x)\n",
        "  encoded = layers.Dense(latent_vec_dim, activation='linear', kernel_regularizer = tf.keras.regularizers.L2(l2=0.1))(x)  # Bottleneck layer with 5 dimensions\n",
        "\n",
        "  output_1 = Dense(1, activation='linear', name=\"Reg_Output\")(encoded)\n",
        "\n",
        "  #encoder = encoded\n",
        "\n",
        "  # Decoder\n",
        "  x = layers.Dense(9 * 32)(encoded)  # Adjusted output size\n",
        "  x = layers.Reshape((9, 32))(x)  # Adjusted reshape\n",
        "  x = layers.Conv1DTranspose(filters=32, kernel_size=3, activation='relu', padding='same')(x)\n",
        "  x = layers.UpSampling1D(size=2)(x)\n",
        "  x = layers.Conv1DTranspose(filters=64, kernel_size=3, activation='relu', padding='same')(x)\n",
        "  x = layers.UpSampling1D(size=2)(x)\n",
        "  x = layers.Conv1DTranspose(filters=128, kernel_size=3, activation='relu', padding='same')(x)\n",
        "  x = layers.UpSampling1D(size=2)(x)\n",
        "  decoded = layers.Conv1D(filters=3, kernel_size=3, activation='linear', padding='same', name=\"decoded\")(x)\n",
        "\n",
        "  # Connect both encoder and decoder\n",
        "  autoencoder_mult = Model(inputs = input_ts, outputs = [decoded, output_1], name=\"Deep_Autoencoder\")\n",
        "\n",
        "  # Latent representation (Optional)\n",
        "  latent_model = Model(input_ts, encoded)\n",
        "\n",
        "  return autoencoder_mult, latent_model"
      ]
    },
    {
      "cell_type": "code",
      "execution_count": null,
      "metadata": {
        "id": "FnhXxzjjZFLv"
      },
      "outputs": [],
      "source": [
        "autoencoder_prellin_v6, latent_model_prellin_v6 = model_autoencoder_v6()\n",
        "\n",
        "# Get summary\n",
        "autoencoder_prellin_v6.summary()"
      ]
    },
    {
      "cell_type": "code",
      "execution_count": null,
      "metadata": {
        "id": "_tWt7ICRZFLv"
      },
      "outputs": [],
      "source": [
        "lr = keras.callbacks.ReduceLROnPlateau(monitor=\"val_Reg_Output_root_mean_squared_error\",\n",
        "                        factor=0.75,\n",
        "                        patience=10,\n",
        "                        verbose=1,\n",
        "                        mode=\"min\")\n",
        "\n",
        "early_stop = keras.callbacks.EarlyStopping(monitor=\"val_Reg_Output_root_mean_squared_error\",\n",
        "                            patience=25,\n",
        "                            verbose=1,\n",
        "                            mode=\"min\",\n",
        "                            restore_best_weights=True)\n",
        "\n",
        "##################################################################### Relevant Folders\n",
        "folders_experiment = f\"/content/drive/MyDrive/Exercises/Studies_Structured_Data/Models/Glucose/encoder_06/\"\n",
        "##################################################################### Generate and Fit Model\n",
        "# Callbacks:\n",
        "checkpoint_filepath = folders_experiment + f'checkpoint/best_weights_v6.weights.h5'\n",
        "\n",
        "Checkpoint = keras.callbacks.ModelCheckpoint(filepath=checkpoint_filepath,\n",
        "                                                 save_weights_only=True,\n",
        "                                                 monitor=\"val_Reg_Output_root_mean_squared_error\",\n",
        "                                                 mode='min')"
      ]
    },
    {
      "cell_type": "code",
      "execution_count": null,
      "metadata": {
        "id": "BubSr0R1ZFLv"
      },
      "outputs": [],
      "source": [
        "# Compile the autoencoder model\n",
        "optimizer = keras.optimizers.Adam(learning_rate=0.0005)\n",
        "loss_0 = 'mse'\n",
        "loss_1 = 'mse'\n",
        "\n",
        "autoencoder_prellin_v6.compile(loss=[loss_0, loss_1], loss_weights=[0.7,0.30], optimizer=optimizer, metrics={'decoded': 'mse','Reg_Output': RootMeanSquaredError()})\n",
        "\n",
        "# Train the autoencoder with MNIST data\n",
        "#history_prellin_v6 = autoencoder_prellin_v6.fit(train, [train, y_enc_train], epochs=121, batch_size=256, callbacks = [early_stop, Checkpoint, lr],\n",
        "#                                                 shuffle=True, validation_data=(valid, [valid, y_enc_valid]))\n",
        "\n",
        "autoencoder_prellin_v6.load_weights(checkpoint_filepath)"
      ]
    },
    {
      "cell_type": "code",
      "execution_count": null,
      "metadata": {
        "id": "RBk6onVDZFLw"
      },
      "outputs": [],
      "source": [
        "# Plot training and validation loss scores\n",
        "# against the number of epochs.\n",
        "plt.figure(figsize=(5, 3))\n",
        "plt.plot(history_prellin_v6.history['loss'], label='Train')\n",
        "plt.plot(history_prellin_v6.history['val_loss'], label='Validation')\n",
        "plt.ylabel('MSE')\n",
        "plt.xlabel('Epoch')\n",
        "plt.title('Autoencoder Reconstruction Loss', pad=13)\n",
        "plt.legend(loc='upper right')\n",
        "plt.show()"
      ]
    },
    {
      "cell_type": "code",
      "execution_count": null,
      "metadata": {
        "id": "5jJ9JrBfZFLw"
      },
      "outputs": [],
      "source": [
        "latent_representation_v6 = latent_model_prellin_v6.predict(valid)\n",
        "latent_representation_train_v6 = latent_model_prellin_v6.predict(train)"
      ]
    },
    {
      "cell_type": "code",
      "execution_count": null,
      "metadata": {
        "id": "xjkvdZ4_ZFLw"
      },
      "outputs": [],
      "source": [
        "fig, axs = plt.subplots(1,2,figsize=(6, 3))\n",
        "\n",
        "sns.scatterplot(x=latent_representation_v6[:,0],\n",
        "                y=latent_representation_v6[:,1],\n",
        "                c=y_enc_valid,\n",
        "                palette='tab10',\n",
        "                ax=axs[0])\n",
        "\n",
        "sns.scatterplot(x=latent_representation_train_v6[:,0],\n",
        "                y=latent_representation_train_v6[:,1],\n",
        "                c=y_enc_train,\n",
        "                palette='tab10',\n",
        "                ax=axs[1]\n",
        "                )\n",
        "\n",
        "axs[0].set_xlabel(\"Enc. First dimension\", fontsize=8)\n",
        "axs[0].set_ylabel(\"Enc. Second dimension\", fontsize=8)\n",
        "\n",
        "axs[1].set_xlabel(\"Enc. First dimension - Train\", fontsize=8)\n",
        "axs[1].set_ylabel(\"Enc. Second dimension - Train\", fontsize=8)\n",
        "\n",
        "axs[0].grid(linestyle='--', alpha=0.5)\n",
        "\n",
        "plt.tight_layout()\n",
        "plt.show()"
      ]
    },
    {
      "cell_type": "code",
      "execution_count": null,
      "metadata": {
        "id": "QaKEF4_VZFLw"
      },
      "outputs": [],
      "source": [
        "fig, axs = plt.subplots(1,2,figsize=(6, 3))\n",
        "\n",
        "sns.scatterplot(x=latent_representation_v6[:,4],\n",
        "                y=latent_representation_v6[:,5],\n",
        "                c=y_enc_valid,\n",
        "                palette='tab10',\n",
        "                ax=axs[0])\n",
        "\n",
        "sns.scatterplot(x=latent_representation_train_v6[:,4],\n",
        "                y=latent_representation_train_v6[:,5],\n",
        "                c=y_enc_train,\n",
        "                palette='tab10',\n",
        "                ax=axs[1]\n",
        "                )\n",
        "\n",
        "axs[0].set_xlabel(\"Enc. Fourth dimension\", fontsize=8)\n",
        "axs[0].set_ylabel(\"Enc. Fifth dimension\", fontsize=8)\n",
        "\n",
        "axs[1].set_xlabel(\"Enc. Fourth dimension - Train\", fontsize=8)\n",
        "axs[1].set_ylabel(\"Enc. Fifth dimension - Train\", fontsize=8)\n",
        "\n",
        "axs[0].grid(linestyle='--', alpha=0.5)\n",
        "\n",
        "plt.tight_layout()\n",
        "plt.show()"
      ]
    },
    {
      "cell_type": "code",
      "execution_count": null,
      "metadata": {
        "id": "X07WlqY7ZFLw"
      },
      "outputs": [],
      "source": [
        "latent_representation_v6_final = latent_model_prellin_v6.predict(X_enc)\n",
        "latent_representation_v6_final_test = latent_model_prellin_v6.predict(X_enc_test)"
      ]
    },
    {
      "cell_type": "code",
      "execution_count": null,
      "metadata": {
        "id": "Rx7NeJoEZFLx"
      },
      "outputs": [],
      "source": [
        "X_enc.shape"
      ]
    },
    {
      "cell_type": "code",
      "execution_count": null,
      "metadata": {
        "id": "TvF-202tZFLx"
      },
      "outputs": [],
      "source": [
        "latent_representation_v6_final.shape"
      ]
    },
    {
      "cell_type": "code",
      "execution_count": null,
      "metadata": {
        "id": "xIbgbgnJZFLx"
      },
      "outputs": [],
      "source": [
        "df_train[\"enc_01_v6\"] = latent_representation_v6_final[:,0]\n",
        "df_train[\"enc_02_v6\"] = latent_representation_v6_final[:,1]\n",
        "df_train[\"enc_03_v6\"] = latent_representation_v6_final[:,2]\n",
        "df_train[\"enc_04_v6\"] = latent_representation_v6_final[:,3]\n",
        "df_train[\"enc_05_v6\"] = latent_representation_v6_final[:,4]\n",
        "df_train[\"enc_06_v6\"] = latent_representation_v6_final[:,5]\n",
        "df_train[\"enc_07_v6\"] = latent_representation_v6_final[:,6]\n",
        "df_train[\"enc_08_v6\"] = latent_representation_v6_final[:,7]\n",
        "\n",
        "df_test[\"enc_01_v6\"] = latent_representation_v6_final_test[:,0]\n",
        "df_test[\"enc_02_v6\"] = latent_representation_v6_final_test[:,1]\n",
        "df_test[\"enc_03_v6\"] = latent_representation_v6_final_test[:,2]\n",
        "df_test[\"enc_04_v6\"] = latent_representation_v6_final_test[:,3]\n",
        "df_test[\"enc_05_v6\"] = latent_representation_v6_final_test[:,4]\n",
        "df_test[\"enc_06_v6\"] = latent_representation_v6_final_test[:,5]\n",
        "df_test[\"enc_07_v6\"] = latent_representation_v6_final_test[:,6]\n",
        "df_test[\"enc_08_v6\"] = latent_representation_v6_final_test[:,7]"
      ]
    },
    {
      "cell_type": "code",
      "execution_count": null,
      "metadata": {
        "id": "OQRpRExTZFLx"
      },
      "outputs": [],
      "source": [
        "df_train.isnull().sum().sum(), df_test.isnull().sum().sum(), df_train.shape, df_test.shape"
      ]
    },
    {
      "cell_type": "markdown",
      "metadata": {
        "id": "_ywgAcgiZFLy"
      },
      "source": [
        "##### STORE ENCODED FEATURES from Model 6:"
      ]
    },
    {
      "cell_type": "code",
      "execution_count": null,
      "metadata": {
        "id": "zJPaQIApZFLy"
      },
      "outputs": [],
      "source": [
        "#df_train.to_csv(\"/content/drive/MyDrive/Exercises/Studies_Structured_Data/Data/Glucose/train_cluster_enc_v6.csv\")\n",
        "#df_test.to_csv(\"/content/drive/MyDrive/Exercises/Studies_Structured_Data/Data/Glucose/test_cluster_enc_v6.csv\")\n",
        "\n",
        "df_train = pd.read_csv(\"/content/drive/MyDrive/Exercises/Studies_Structured_Data/Data/Glucose/train_cluster_enc_v6.csv\", index_col=0)\n",
        "df_test = pd.read_csv(\"/content/drive/MyDrive/Exercises/Studies_Structured_Data/Data/Glucose/test_cluster_enc_v6.csv\", index_col=0)"
      ]
    },
    {
      "cell_type": "markdown",
      "metadata": {
        "id": "tST8JORtTenl"
      },
      "source": [
        "##### Test Correlations:"
      ]
    },
    {
      "cell_type": "code",
      "execution_count": null,
      "metadata": {
        "id": "7hjfKN5TTenl"
      },
      "outputs": [],
      "source": [
        "df_train[['PC_1', 'PC_2', 'PC_3', 'enc_01_v6', 'enc_02_v6', 'enc_03_v6','enc_04_v6','enc_05_v6',\n",
        "          'enc_06_v6','enc_07_v6','enc_08_v6',\"bg+1:00\"]].corr().style.background_gradient(cmap='viridis')"
      ]
    },
    {
      "cell_type": "markdown",
      "metadata": {
        "id": "UmnrZ67TTenm"
      },
      "source": [
        "##### Submission Model 6:"
      ]
    },
    {
      "cell_type": "code",
      "execution_count": null,
      "metadata": {
        "id": "nNdk87xWTenm"
      },
      "outputs": [],
      "source": [
        "recons, pred = autoencoder_prellin_v6.predict(X_enc_test)\n",
        "_, pred_train = autoencoder_prellin_v6.predict(X_enc)"
      ]
    },
    {
      "cell_type": "code",
      "execution_count": null,
      "metadata": {
        "id": "hzC78OXgTenm"
      },
      "outputs": [],
      "source": [
        "df_train_scaled=pd.read_csv(\"/content/drive/MyDrive/Exercises/Studies_Structured_Data/Data/Glucose/X_train_scaled.csv\", index_col=0)\n",
        "df_test.shape"
      ]
    },
    {
      "cell_type": "code",
      "execution_count": null,
      "metadata": {
        "id": "7BhNqhkwTenm"
      },
      "outputs": [],
      "source": [
        "target_scaler = StandardScaler()\n",
        "target_scaler.fit(df_train_scaled[\"bg+1:00\"].values.reshape(-1, 1))"
      ]
    },
    {
      "cell_type": "code",
      "execution_count": null,
      "metadata": {
        "id": "iXYeNVPhTenm"
      },
      "outputs": [],
      "source": [
        "pred_resc = target_scaler.inverse_transform(pred.reshape(-1,1))\n",
        "pred_resc_train = target_scaler.inverse_transform(pred_train.reshape(-1,1))"
      ]
    },
    {
      "cell_type": "code",
      "execution_count": null,
      "metadata": {
        "id": "-q4dvJq5Tenn"
      },
      "outputs": [],
      "source": [
        "sub = pd.read_csv(\"/content/drive/MyDrive/Exercises/Studies_Structured_Data/Data/Glucose/sample_submission.csv\")\n",
        "sub.shape"
      ]
    },
    {
      "cell_type": "code",
      "execution_count": null,
      "metadata": {
        "id": "_J9rdeSWTenn"
      },
      "outputs": [],
      "source": [
        "sub[\"bg+1:00\"] = pred_resc\n",
        "pred_resc_train = pd.DataFrame(data=pred_resc_train, index=df_train.index, columns=[\"bg+1:00\"])"
      ]
    },
    {
      "cell_type": "code",
      "execution_count": null,
      "metadata": {
        "id": "8A4BI5JPTenn"
      },
      "outputs": [],
      "source": [
        "sub.to_csv(f\"/content/drive/MyDrive/Exercises/Studies_Structured_Data/Data/Glucose/submissions/Submission_val_encoder_v6.csv\", index=False)\n",
        "pred_resc_train.to_csv(f\"/content/drive/MyDrive/Exercises/Studies_Structured_Data/Data/Glucose/submissions/train_encoder_v6.csv\")"
      ]
    },
    {
      "cell_type": "markdown",
      "metadata": {
        "id": "hKlofs2QpGRF"
      },
      "source": [
        "#### MODEL 7 - Convol + Intake / 10 latent dimensions"
      ]
    },
    {
      "cell_type": "code",
      "execution_count": null,
      "metadata": {
        "id": "vXzBHsGrpGRH"
      },
      "outputs": [],
      "source": [
        "cols_bg = ['bg-5:55', 'bg-5:50', 'bg-5:45', 'bg-5:40','bg-5:35', 'bg-5:30',\n",
        "           'bg-5:25', 'bg-5:20', 'bg-5:15', 'bg-5:10','bg-5:05', 'bg-5:00',\n",
        "           'bg-4:55', 'bg-4:50', 'bg-4:45', 'bg-4:40','bg-4:35', 'bg-4:30',\n",
        "           'bg-4:25', 'bg-4:20', 'bg-4:15', 'bg-4:10','bg-4:05', 'bg-4:00',\n",
        "           'bg-3:55', 'bg-3:50', 'bg-3:45', 'bg-3:40','bg-3:35', 'bg-3:30',\n",
        "           'bg-3:25', 'bg-3:20', 'bg-3:15', 'bg-3:10','bg-3:05', 'bg-3:00',\n",
        "           'bg-2:55', 'bg-2:50', 'bg-2:45', 'bg-2:40','bg-2:35', 'bg-2:30',\n",
        "           'bg-2:25', 'bg-2:20', 'bg-2:15', 'bg-2:10','bg-2:05', 'bg-2:00',\n",
        "           'bg-1:55', 'bg-1:50', 'bg-1:45', 'bg-1:40','bg-1:35', 'bg-1:30',\n",
        "           'bg-1:25', 'bg-1:20', 'bg-1:15', 'bg-1:10','bg-1:05', 'bg-1:00',\n",
        "           'bg-0:55', 'bg-0:50', 'bg-0:45', 'bg-0:40','bg-0:35', 'bg-0:30',\n",
        "           'bg-0:25', 'bg-0:20', 'bg-0:15', 'bg-0:10','bg-0:05', 'bg-0:00']\n",
        "\n",
        "cols_brake = ['brake-5:55', 'brake-5:50', 'brake-5:45', 'brake-5:40','brake-5:35', 'brake-5:30',\n",
        "              'brake-5:25', 'brake-5:20', 'brake-5:15', 'brake-5:10','brake-5:05', 'brake-5:00',\n",
        "              'brake-4:55', 'brake-4:50', 'brake-4:45', 'brake-4:40','brake-4:35', 'brake-4:30',\n",
        "              'brake-4:25', 'brake-4:20', 'brake-4:15', 'brake-4:10','brake-4:05', 'brake-4:00',\n",
        "              'brake-3:55', 'brake-3:50', 'brake-3:45', 'brake-3:40','brake-3:35', 'brake-3:30',\n",
        "              'brake-3:25', 'brake-3:20', 'brake-3:15', 'brake-3:10','brake-3:05', 'brake-3:00',\n",
        "              'brake-2:55', 'brake-2:50', 'brake-2:45', 'brake-2:40','brake-2:35', 'brake-2:30',\n",
        "              'brake-2:25', 'brake-2:20', 'brake-2:15', 'brake-2:10','brake-2:05', 'brake-2:00',\n",
        "              'brake-1:55', 'brake-1:50', 'brake-1:45', 'brake-1:40','brake-1:35', 'brake-1:30',\n",
        "              'brake-1:25', 'brake-1:20', 'brake-1:15', 'brake-1:10','brake-1:05', 'brake-1:00',\n",
        "              'brake-0:55', 'brake-0:50', 'brake-0:45', 'brake-0:40','brake-0:35', 'brake-0:30',\n",
        "              'brake-0:25', 'brake-0:20', 'brake-0:15', 'brake-0:10','brake-0:05', 'brake-0:00']\n",
        "\n",
        "cols_intake = ['intake-5:55', 'intake-5:50', 'intake-5:45', 'intake-5:40','intake-5:35', 'intake-5:30',\n",
        "              'intake-5:25', 'intake-5:20', 'intake-5:15', 'intake-5:10','intake-5:05', 'intake-5:00',\n",
        "              'intake-4:55', 'intake-4:50', 'intake-4:45', 'intake-4:40','intake-4:35', 'intake-4:30',\n",
        "              'intake-4:25', 'intake-4:20', 'intake-4:15', 'intake-4:10','intake-4:05', 'intake-4:00',\n",
        "              'intake-3:55', 'intake-3:50', 'intake-3:45', 'intake-3:40','intake-3:35', 'intake-3:30',\n",
        "              'intake-3:25', 'intake-3:20', 'intake-3:15', 'intake-3:10','intake-3:05', 'intake-3:00',\n",
        "              'intake-2:55', 'intake-2:50', 'intake-2:45', 'intake-2:40','intake-2:35', 'intake-2:30',\n",
        "              'intake-2:25', 'intake-2:20', 'intake-2:15', 'intake-2:10','intake-2:05', 'intake-2:00',\n",
        "              'intake-1:55', 'intake-1:50', 'intake-1:45', 'intake-1:40','intake-1:35', 'intake-1:30',\n",
        "              'intake-1:25', 'intake-1:20', 'intake-1:15', 'intake-1:10','intake-1:05', 'intake-1:00',\n",
        "              'intake-0:55', 'intake-0:50', 'intake-0:45', 'intake-0:40','intake-0:35', 'intake-0:30',\n",
        "              'intake-0:25', 'intake-0:20', 'intake-0:15', 'intake-0:10','intake-0:05', 'intake-0:00']"
      ]
    },
    {
      "cell_type": "code",
      "execution_count": null,
      "metadata": {
        "id": "V2GU6C79pGRH"
      },
      "outputs": [],
      "source": [
        "X_enc = df_train[[\"p_num\",\"obv_n\"]+cols_bg+cols_brake+cols_intake]\n",
        "y_enc = df_train[\"bg+1:00\"]\n",
        "X_enc_test = df_test[cols_bg+cols_brake+cols_intake]\n",
        "X_enc.shape, X_enc_test.shape"
      ]
    },
    {
      "cell_type": "code",
      "execution_count": null,
      "metadata": {
        "id": "fJS7nnl_pGRI"
      },
      "outputs": [],
      "source": [
        "X_enc.isnull().sum().sum(), y_enc.isna().sum()\n",
        "#y_enc[:10]"
      ]
    },
    {
      "cell_type": "code",
      "execution_count": null,
      "metadata": {
        "id": "vFQmdzFtpGRI"
      },
      "outputs": [],
      "source": [
        "p1_val = list(X_enc[(X_enc[\"p_num\"]==\"p01\")&(X_enc[\"obv_n\"]>=7600)].index)\n",
        "p2_val = list(X_enc[(X_enc[\"p_num\"]==\"p02\")&(X_enc[\"obv_n\"]>=22500)].index)\n",
        "p3_val = list(X_enc[(X_enc[\"p_num\"]==\"p03\")&(X_enc[\"obv_n\"]>=23000)].index)\n",
        "p4_val = list(X_enc[(X_enc[\"p_num\"]==\"p04\")&(X_enc[\"obv_n\"]>=22000)].index)\n",
        "p5_val = list(X_enc[(X_enc[\"p_num\"]==\"p05\")&(X_enc[\"obv_n\"]>=7600)].index)\n",
        "p6_val = list(X_enc[(X_enc[\"p_num\"]==\"p06\")&(X_enc[\"obv_n\"]>=7600)].index)\n",
        "p10_val = list(X_enc[(X_enc[\"p_num\"]==\"p10\")&(X_enc[\"obv_n\"]>=22500)].index)\n",
        "p11_val = list(X_enc[(X_enc[\"p_num\"]==\"p11\")&(X_enc[\"obv_n\"]>=22000)].index)\n",
        "p12_val = list(X_enc[(X_enc[\"p_num\"]==\"p12\")&(X_enc[\"obv_n\"]>=22500)].index)\n",
        "\n",
        "matrix_val = p1_val+p2_val+p3_val+p4_val+p5_val+p6_val+p10_val+p11_val+p12_val\n",
        "len(matrix_val)/X_enc.shape[0]\n",
        "\n",
        "X_enc_train = X_enc.drop(matrix_val)\n",
        "X_enc_valid = X_enc.loc[matrix_val]\n",
        "\n",
        "y_enc_train = y_enc.drop(matrix_val)\n",
        "y_enc_valid = y_enc.loc[matrix_val]\n",
        "\n",
        "X_enc_train.drop([\"p_num\",\"obv_n\"], axis=1, inplace=True)\n",
        "X_enc_valid.drop([\"p_num\",\"obv_n\"], axis=1, inplace=True)\n",
        "X_enc.drop([\"p_num\",\"obv_n\"], axis=1, inplace=True)\n",
        "\n",
        "X_enc_train.shape, X_enc_valid.shape, X_enc.shape, y_enc_train.shape, y_enc_valid.shape, y_enc.shape"
      ]
    },
    {
      "cell_type": "code",
      "execution_count": null,
      "metadata": {
        "id": "-QBzM0iUpGRI"
      },
      "outputs": [],
      "source": [
        "# Assuming your data is in a NumPy array called 'data'\n",
        "train = X_enc_train.values.reshape((-1, 72, 3))  # Reshape for LSTM\n",
        "valid = X_enc_valid.values.reshape((-1, 72, 3))\n",
        "X_enc = X_enc.values.reshape((-1, 72, 3))\n",
        "X_enc_test = X_enc_test.values.reshape((-1, 72, 3))\n",
        "\n",
        "y_enc_train = y_enc_train.values.reshape((-1, 1))\n",
        "y_enc_valid = y_enc_valid.values.reshape((-1, 1))"
      ]
    },
    {
      "cell_type": "code",
      "execution_count": null,
      "metadata": {
        "id": "bYcXnO31pGRJ"
      },
      "outputs": [],
      "source": [
        "def dense_block(cells, dropout=0.3,activation=\"selu\", reg=0.0, name=None):\n",
        "  if activation == \"selu\":\n",
        "    block = keras.Sequential(name=name)\n",
        "    block.add(Dense(cells,\n",
        "                    activity_regularizer=keras.regularizers.l1(reg),\n",
        "                    name=f\"{name}_dense\",\n",
        "                    kernel_initializer=\"lecun_normal\"))\n",
        "    block.add(layers.BatchNormalization(name=f\"{name}_bn\"))\n",
        "    block.add(layers.Activation(activation, name=f\"{name}_activ\"))\n",
        "    block.add(layers.AlphaDropout(dropout, name=f\"{name}_do_alpha\"))\n",
        "\n",
        "  else:\n",
        "    block = keras.Sequential(name=name)\n",
        "    block.add(Dense(cells,\n",
        "                    activity_regularizer=keras.regularizers.l1(reg),\n",
        "                    name=f\"{name}_dense\",\n",
        "                    kernel_initializer=\"he_normal\"))\n",
        "    block.add(layers.BatchNormalization(name=f\"{name}_bn\"))\n",
        "    block.add(layers.Activation(activation, name=f\"{name}_activ\"))\n",
        "    block.add(layers.Dropout(dropout, name=f\"{name}_do\"))\n",
        "\n",
        "  return block\n",
        "\n",
        "\n",
        "def model_autoencoder_v7():\n",
        "  input_dim = 72\n",
        "  latent_vec_dim = 10\n",
        "\n",
        "  # 2. Build the autoencoder model\n",
        "  input_ts = keras.Input(shape=(input_dim, 3))\n",
        "\n",
        "  # Encoder\n",
        "  x = layers.Conv1D(filters=128, kernel_size=3, activation='relu', padding='same')(input_ts)\n",
        "  x = layers.MaxPooling1D(pool_size=2)(x)\n",
        "  x = layers.Conv1D(filters=64, kernel_size=3, activation='relu', padding='same')(x)\n",
        "  x = layers.MaxPooling1D(pool_size=2)(x)\n",
        "  x = layers.Conv1D(filters=32, kernel_size=3, activation='relu', padding='same')(x)\n",
        "  x = layers.MaxPooling1D(pool_size=2)(x)\n",
        "  x = layers.Flatten()(x)\n",
        "  encoded = layers.Dense(latent_vec_dim, activation='linear', kernel_regularizer = tf.keras.regularizers.L2(l2=0.1))(x)  # Bottleneck layer with 5 dimensions\n",
        "\n",
        "  output_1 = Dense(1, activation='linear', name=\"Reg_Output\")(encoded)\n",
        "\n",
        "  #encoder = encoded\n",
        "\n",
        "  # Decoder\n",
        "  x = layers.Dense(9 * 32)(encoded)  # Adjusted output size\n",
        "  x = layers.Reshape((9, 32))(x)  # Adjusted reshape\n",
        "  x = layers.Conv1DTranspose(filters=32, kernel_size=3, activation='relu', padding='same')(x)\n",
        "  x = layers.UpSampling1D(size=2)(x)\n",
        "  x = layers.Conv1DTranspose(filters=64, kernel_size=3, activation='relu', padding='same')(x)\n",
        "  x = layers.UpSampling1D(size=2)(x)\n",
        "  x = layers.Conv1DTranspose(filters=128, kernel_size=3, activation='relu', padding='same')(x)\n",
        "  x = layers.UpSampling1D(size=2)(x)\n",
        "  decoded = layers.Conv1D(filters=3, kernel_size=3, activation='linear', padding='same', name=\"decoded\")(x)\n",
        "\n",
        "  # Connect both encoder and decoder\n",
        "  autoencoder_mult = Model(inputs = input_ts, outputs = [decoded, output_1], name=\"Deep_Autoencoder\")\n",
        "\n",
        "  # Latent representation (Optional)\n",
        "  latent_model = Model(input_ts, encoded)\n",
        "\n",
        "  return autoencoder_mult, latent_model"
      ]
    },
    {
      "cell_type": "code",
      "execution_count": null,
      "metadata": {
        "id": "bX4AXgHxpGRJ"
      },
      "outputs": [],
      "source": [
        "autoencoder_prellin_v7, latent_model_prellin_v7 = model_autoencoder_v7()\n",
        "\n",
        "# Get summary\n",
        "autoencoder_prellin_v7.summary()"
      ]
    },
    {
      "cell_type": "code",
      "execution_count": null,
      "metadata": {
        "id": "ZWW8acRgpGRJ"
      },
      "outputs": [],
      "source": [
        "lr = keras.callbacks.ReduceLROnPlateau(monitor=\"val_Reg_Output_root_mean_squared_error\",\n",
        "                        factor=0.75,\n",
        "                        patience=10,\n",
        "                        verbose=1,\n",
        "                        mode=\"min\")\n",
        "\n",
        "early_stop = keras.callbacks.EarlyStopping(monitor=\"val_Reg_Output_root_mean_squared_error\",\n",
        "                            patience=25,\n",
        "                            verbose=1,\n",
        "                            mode=\"min\",\n",
        "                            restore_best_weights=True)\n",
        "\n",
        "\n",
        "##################################################################### Relevant Folders\n",
        "folders_experiment = f\"/content/drive/MyDrive/Exercises/Studies_Structured_Data/Models/Glucose/encoder_07/\"\n",
        "##################################################################### Generate and Fit Model\n",
        "# Callbacks:\n",
        "checkpoint_filepath = folders_experiment + f'checkpoint/best_weights_v7.weights.h5'\n",
        "\n",
        "Checkpoint = keras.callbacks.ModelCheckpoint(filepath=checkpoint_filepath,\n",
        "                                                 save_weights_only=True,\n",
        "                                                 monitor=\"val_Reg_Output_root_mean_squared_error\",\n",
        "                                                 mode='min')"
      ]
    },
    {
      "cell_type": "code",
      "execution_count": null,
      "metadata": {
        "id": "eqF3sc69pGRJ"
      },
      "outputs": [],
      "source": [
        "# Compile the autoencoder model\n",
        "optimizer = keras.optimizers.Adam(learning_rate=0.0005)\n",
        "loss_0 = 'mse'\n",
        "loss_1 = 'mse'\n",
        "\n",
        "autoencoder_prellin_v7.compile(loss=[loss_0, loss_1], loss_weights=[0.6,0.40], optimizer=optimizer, metrics={'decoded': 'mse','Reg_Output': RootMeanSquaredError()})\n",
        "\n",
        "# Train the autoencoder with MNIST data\n",
        "#history_prellin_v7 = autoencoder_prellin_v7.fit(train, [train, y_enc_train], epochs=121, batch_size=256, callbacks = [early_stop, Checkpoint, lr],\n",
        "#                                                 shuffle=True, validation_data=(valid, [valid, y_enc_valid]))\n",
        "\n",
        "autoencoder_prellin_v7.load_weights(checkpoint_filepath)"
      ]
    },
    {
      "cell_type": "code",
      "execution_count": null,
      "metadata": {
        "id": "heJcTQaFpGRK"
      },
      "outputs": [],
      "source": [
        "# Plot training and validation loss scores\n",
        "# against the number of epochs.\n",
        "plt.figure(figsize=(5, 3))\n",
        "plt.plot(history_prellin_v7.history['loss'], label='Train')\n",
        "plt.plot(history_prellin_v7.history['val_loss'], label='Validation')\n",
        "plt.ylabel('MSE')\n",
        "plt.xlabel('Epoch')\n",
        "plt.title('Autoencoder Reconstruction Loss', pad=13)\n",
        "plt.legend(loc='upper right')\n",
        "plt.show()"
      ]
    },
    {
      "cell_type": "code",
      "execution_count": null,
      "metadata": {
        "id": "4o80tdbWpGRK"
      },
      "outputs": [],
      "source": [
        "latent_representation_v7 = latent_model_prellin_v7.predict(valid)\n",
        "latent_representation_train_v7 = latent_model_prellin_v7.predict(train)"
      ]
    },
    {
      "cell_type": "code",
      "execution_count": null,
      "metadata": {
        "id": "twKFYaFSpGRK"
      },
      "outputs": [],
      "source": [
        "fig, axs = plt.subplots(1,2,figsize=(6, 3))\n",
        "\n",
        "sns.scatterplot(x=latent_representation_v7[:,0],\n",
        "                y=latent_representation_v7[:,1],\n",
        "                c=y_enc_valid,\n",
        "                palette='tab10',\n",
        "                ax=axs[0])\n",
        "\n",
        "sns.scatterplot(x=latent_representation_train_v7[:,0],\n",
        "                y=latent_representation_train_v7[:,1],\n",
        "                c=y_enc_train,\n",
        "                palette='tab10',\n",
        "                ax=axs[1]\n",
        "                )\n",
        "\n",
        "axs[0].set_xlabel(\"Enc. First dimension\", fontsize=8)\n",
        "axs[0].set_ylabel(\"Enc. Second dimension\", fontsize=8)\n",
        "\n",
        "axs[1].set_xlabel(\"Enc. First dimension - Train\", fontsize=8)\n",
        "axs[1].set_ylabel(\"Enc. Second dimension - Train\", fontsize=8)\n",
        "\n",
        "axs[0].grid(linestyle='--', alpha=0.5)\n",
        "\n",
        "plt.tight_layout()\n",
        "plt.show()"
      ]
    },
    {
      "cell_type": "code",
      "execution_count": null,
      "metadata": {
        "id": "8xpDbUcppGRL"
      },
      "outputs": [],
      "source": [
        "fig, axs = plt.subplots(1,2,figsize=(6, 3))\n",
        "\n",
        "sns.scatterplot(x=latent_representation_v7[:,5],\n",
        "                y=latent_representation_v7[:,6],\n",
        "                c=y_enc_valid,\n",
        "                palette='tab10',\n",
        "                ax=axs[0])\n",
        "\n",
        "sns.scatterplot(x=latent_representation_train_v7[:,5],\n",
        "                y=latent_representation_train_v7[:,6],\n",
        "                c=y_enc_train,\n",
        "                palette='tab10',\n",
        "                ax=axs[1]\n",
        "                )\n",
        "\n",
        "axs[0].set_xlabel(\"Enc. First dimension\", fontsize=8)\n",
        "axs[0].set_ylabel(\"Enc. Third dimension\", fontsize=8)\n",
        "\n",
        "axs[1].set_xlabel(\"Enc. First dimension - Train\", fontsize=8)\n",
        "axs[1].set_ylabel(\"Enc. Third dimension - Train\", fontsize=8)\n",
        "\n",
        "axs[0].grid(linestyle='--', alpha=0.5)\n",
        "\n",
        "plt.tight_layout()\n",
        "plt.show()"
      ]
    },
    {
      "cell_type": "code",
      "execution_count": null,
      "metadata": {
        "id": "-KfZmbA9pGRL"
      },
      "outputs": [],
      "source": [
        "latent_representation_v7_final = latent_model_prellin_v7.predict(X_enc)\n",
        "latent_representation_v7_final_test = latent_model_prellin_v7.predict(X_enc_test)"
      ]
    },
    {
      "cell_type": "code",
      "execution_count": null,
      "metadata": {
        "id": "Z1o5zp1ipGRL"
      },
      "outputs": [],
      "source": [
        "X_enc.shape"
      ]
    },
    {
      "cell_type": "code",
      "execution_count": null,
      "metadata": {
        "id": "xiUMIfoFpGRL"
      },
      "outputs": [],
      "source": [
        "latent_representation_v7_final.shape"
      ]
    },
    {
      "cell_type": "code",
      "execution_count": null,
      "metadata": {
        "id": "Nq-KxvywpGRL"
      },
      "outputs": [],
      "source": [
        "df_train[\"enc_01_v7\"] = latent_representation_v7_final[:,0]\n",
        "df_train[\"enc_02_v7\"] = latent_representation_v7_final[:,1]\n",
        "df_train[\"enc_03_v7\"] = latent_representation_v7_final[:,2]\n",
        "df_train[\"enc_04_v7\"] = latent_representation_v7_final[:,3]\n",
        "df_train[\"enc_05_v7\"] = latent_representation_v7_final[:,4]\n",
        "df_train[\"enc_06_v7\"] = latent_representation_v7_final[:,5]\n",
        "df_train[\"enc_07_v7\"] = latent_representation_v7_final[:,6]\n",
        "df_train[\"enc_08_v7\"] = latent_representation_v7_final[:,7]\n",
        "df_train[\"enc_09_v7\"] = latent_representation_v7_final[:,8]\n",
        "df_train[\"enc_10_v7\"] = latent_representation_v7_final[:,9]\n",
        "\n",
        "df_test[\"enc_01_v7\"] = latent_representation_v7_final_test[:,0]\n",
        "df_test[\"enc_02_v7\"] = latent_representation_v7_final_test[:,1]\n",
        "df_test[\"enc_03_v7\"] = latent_representation_v7_final_test[:,2]\n",
        "df_test[\"enc_04_v7\"] = latent_representation_v7_final_test[:,3]\n",
        "df_test[\"enc_05_v7\"] = latent_representation_v7_final_test[:,4]\n",
        "df_test[\"enc_06_v7\"] = latent_representation_v7_final_test[:,5]\n",
        "df_test[\"enc_07_v7\"] = latent_representation_v7_final_test[:,6]\n",
        "df_test[\"enc_08_v7\"] = latent_representation_v7_final_test[:,7]\n",
        "df_test[\"enc_09_v7\"] = latent_representation_v7_final_test[:,8]\n",
        "df_test[\"enc_10_v7\"] = latent_representation_v7_final_test[:,9]"
      ]
    },
    {
      "cell_type": "code",
      "execution_count": null,
      "metadata": {
        "id": "wRcL_a2zpGRM"
      },
      "outputs": [],
      "source": [
        "df_train.isnull().sum().sum(), df_test.isnull().sum().sum(), df_train.shape, df_test.shape"
      ]
    },
    {
      "cell_type": "markdown",
      "metadata": {
        "id": "AiiTiUrDpGRM"
      },
      "source": [
        "##### STORE ENCODED FEATURES from Model 7:"
      ]
    },
    {
      "cell_type": "code",
      "execution_count": null,
      "metadata": {
        "id": "AWUfR8PMpGRM"
      },
      "outputs": [],
      "source": [
        "#df_train.to_csv(\"/content/drive/MyDrive/Exercises/Studies_Structured_Data/Data/Glucose/train_cluster_enc_v7.csv\")\n",
        "#df_test.to_csv(\"/content/drive/MyDrive/Exercises/Studies_Structured_Data/Data/Glucose/test_cluster_enc_v7.csv\")\n",
        "\n",
        "df_train = pd.read_csv(\"/content/drive/MyDrive/Exercises/Studies_Structured_Data/Data/Glucose/train_cluster_enc_v7.csv\", index_col=0)\n",
        "df_test = pd.read_csv(\"/content/drive/MyDrive/Exercises/Studies_Structured_Data/Data/Glucose/test_cluster_enc_v7.csv\", index_col=0)"
      ]
    },
    {
      "cell_type": "markdown",
      "metadata": {
        "id": "4p_CPbSzVCJS"
      },
      "source": [
        "##### Test Correlations:"
      ]
    },
    {
      "cell_type": "code",
      "execution_count": null,
      "metadata": {
        "id": "B5A9rW6xVCJY"
      },
      "outputs": [],
      "source": [
        "df_train[['PC_1', 'PC_2', 'PC_3', 'enc_01_v7', 'enc_02_v7', 'enc_03_v7','enc_04_v7','enc_05_v7',\n",
        "          'enc_06_v7','enc_07_v7','enc_08_v7',\"bg+1:00\"]].corr().style.background_gradient(cmap='viridis')"
      ]
    },
    {
      "cell_type": "markdown",
      "metadata": {
        "id": "9EDc2tZUVCJY"
      },
      "source": [
        "##### Submission Model 7:"
      ]
    },
    {
      "cell_type": "code",
      "execution_count": null,
      "metadata": {
        "id": "dvr9kxdcVCJY"
      },
      "outputs": [],
      "source": [
        "recons, pred = autoencoder_prellin_v7.predict(X_enc_test)\n",
        "_, pred_train = autoencoder_prellin_v7.predict(X_enc)"
      ]
    },
    {
      "cell_type": "code",
      "execution_count": null,
      "metadata": {
        "id": "lq6pgGiYVCJZ"
      },
      "outputs": [],
      "source": [
        "df_train_scaled=pd.read_csv(\"/content/drive/MyDrive/Exercises/Studies_Structured_Data/Data/Glucose/X_train_scaled.csv\", index_col=0)\n",
        "df_test.shape"
      ]
    },
    {
      "cell_type": "code",
      "execution_count": null,
      "metadata": {
        "id": "YEktoev5VCJZ"
      },
      "outputs": [],
      "source": [
        "target_scaler = StandardScaler()\n",
        "target_scaler.fit(df_train_scaled[\"bg+1:00\"].values.reshape(-1, 1))"
      ]
    },
    {
      "cell_type": "code",
      "execution_count": null,
      "metadata": {
        "id": "_9zqyRSJVCJZ"
      },
      "outputs": [],
      "source": [
        "pred_resc = target_scaler.inverse_transform(pred.reshape(-1,1))\n",
        "pred_resc_train = target_scaler.inverse_transform(pred_train.reshape(-1,1))"
      ]
    },
    {
      "cell_type": "code",
      "execution_count": null,
      "metadata": {
        "id": "4wAiY3l8VCJa"
      },
      "outputs": [],
      "source": [
        "sub = pd.read_csv(\"/content/drive/MyDrive/Exercises/Studies_Structured_Data/Data/Glucose/sample_submission.csv\")\n",
        "sub.shape"
      ]
    },
    {
      "cell_type": "code",
      "execution_count": null,
      "metadata": {
        "id": "ydujrnzEVCJa"
      },
      "outputs": [],
      "source": [
        "sub[\"bg+1:00\"] = pred_resc\n",
        "pred_resc_train = pd.DataFrame(data=pred_resc_train, index=df_train.index, columns=[\"bg+1:00\"])"
      ]
    },
    {
      "cell_type": "code",
      "execution_count": null,
      "metadata": {
        "id": "v4D3vlDeVCJa"
      },
      "outputs": [],
      "source": [
        "sub.to_csv(f\"/content/drive/MyDrive/Exercises/Studies_Structured_Data/Data/Glucose/submissions/Submission_val_encoder_v7.csv\", index=False)\n",
        "pred_resc_train.to_csv(f\"/content/drive/MyDrive/Exercises/Studies_Structured_Data/Data/Glucose/submissions/train_encoder_v7.csv\")"
      ]
    },
    {
      "cell_type": "markdown",
      "metadata": {
        "id": "F6IzC4Pm0PI2"
      },
      "source": [
        "## Encoded Features Analysis:"
      ]
    },
    {
      "cell_type": "code",
      "execution_count": null,
      "metadata": {
        "id": "vG6YDXOt0UU6"
      },
      "outputs": [],
      "source": [
        "list_columns_final = list(df_train.columns)\n",
        "new_features = list_columns_final[:4]+list_columns_final[-50:]+[\"bg-0:00\"]\n",
        "new_features_test = list_columns_final[:4]+list_columns_final[-49:]+[\"bg-0:00\"]\n",
        "#print(new_features_test)\n",
        "#new_features_test = new_features.remove(\"bg+1:00\")\n",
        "new_features_df = df_train[new_features]\n",
        "new_features_df_test = df_test[new_features_test]\n",
        "new_features_df_test.shape,new_features_df.shape"
      ]
    },
    {
      "cell_type": "code",
      "execution_count": null,
      "metadata": {
        "id": "bqMNto82c5ub"
      },
      "outputs": [],
      "source": [
        "new_features"
      ]
    },
    {
      "cell_type": "code",
      "execution_count": null,
      "metadata": {
        "id": "lFYNgDyn0URt"
      },
      "outputs": [],
      "source": [
        "new_features_df.drop(columns=['p_num','hour','minute','obv_n']).corr().style.background_gradient(cmap='viridis')"
      ]
    },
    {
      "cell_type": "code",
      "execution_count": null,
      "metadata": {
        "id": "6f3XmRSz0UEW"
      },
      "outputs": [],
      "source": [
        "fig, axs = plt.subplots(1,2,figsize=(6, 3))\n",
        "\n",
        "sns.scatterplot(x=new_features_df[\"enc_04_v3\"],\n",
        "                y=new_features_df[\"enc_08_v4\"],\n",
        "                c=new_features_df[\"bg+1:00\"],\n",
        "                palette='tab10',\n",
        "                ax=axs[0])\n",
        "\n",
        "sns.scatterplot(x=new_features_df[\"bg-0:00\"],\n",
        "                y=new_features_df[\"enc_07_v4\"],\n",
        "                c=new_features_df[\"bg+1:00\"],\n",
        "                palette='tab10',\n",
        "                ax=axs[1]\n",
        "                )\n",
        "\n",
        "axs[0].set_xlabel(\"enc_04_v3\", fontsize=8)\n",
        "axs[0].set_ylabel(\"enc_08_v4\", fontsize=8)\n",
        "\n",
        "axs[1].set_xlabel(\"enc_04_v4\", fontsize=8)\n",
        "axs[1].set_ylabel(\"enc_07_v4\", fontsize=8)\n",
        "\n",
        "axs[0].grid(linestyle='--', alpha=0.5)\n",
        "\n",
        "plt.tight_layout()\n",
        "plt.show()"
      ]
    },
    {
      "cell_type": "markdown",
      "metadata": {
        "id": "d8yGaZBn_lmC"
      },
      "source": [
        "### **FEATURES SELECTIONS**"
      ]
    },
    {
      "cell_type": "markdown",
      "metadata": {
        "id": "zEhSIZVgPqA3"
      },
      "source": [
        "##### **Select K-Best**"
      ]
    },
    {
      "cell_type": "code",
      "execution_count": null,
      "metadata": {
        "id": "x5GiRx1r0T9F"
      },
      "outputs": [],
      "source": [
        "import pandas as pd\n",
        "from sklearn.model_selection import train_test_split, cross_val_score\n",
        "from sklearn.feature_selection import SelectKBest, f_regression\n",
        "\n",
        "from sklearn.linear_model import LinearRegression\n",
        "from sklearn.metrics import mean_squared_error\n",
        "\n",
        "# Separate features (X) and target variable (y)\n",
        "\n",
        "X = new_features_df.drop([\"p_num\",\"obv_n\", \"bg+1:00\",\"cluster\",\t\"cluster_pca\",\"bg-0:00\",\"hour\",\t\"minute\"], axis=1)\n",
        "y = new_features_df[\"bg+1:00\"]\n",
        "X_test_lasso = new_features_df_test.drop([\"p_num\",\"obv_n\", \"cluster\",\t\"cluster_pca\",\"bg-0:00\",\"hour\",\t\"minute\"], axis=1)\n",
        "\n",
        "# Split data into training and testing sets\n",
        "X_train, X_test, y_train, y_test = train_test_split(X, y, test_size=0.2, random_state=42)\n",
        "\n",
        "scaler = StandardScaler()\n",
        "X_train = scaler.fit_transform(X_train)\n",
        "X_test = scaler.transform(X_test)\n",
        "\n",
        "# Perform feature selection with cross-validation\n",
        "k_best = 25\n",
        "selector = SelectKBest(score_func=f_regression, k=k_best)\n",
        "X_train_selected = selector.fit_transform(X_train, y_train)\n",
        "selected_feature_indices = selector.get_support(indices=True)\n",
        "X_test_selected = selector.transform(X_test)\n",
        "\n",
        "# Train and evaluate a regression model with the selected features\n",
        "model = LinearRegression()\n",
        "\n",
        "# Perform cross-validation on the training data with selected features\n",
        "cv_scores = cross_val_score(model, X_train_selected, y_train, cv=5, scoring='neg_root_mean_squared_error')\n",
        "\n",
        "# Print cross-validation scores (RMSE)\n",
        "print(\"Cross-validation RMSE scores:\", -cv_scores)  # Negate to get positive RMSE values\n",
        "print(\"Average cross-validation RMSE score:\", -cv_scores.mean())\n",
        "\n",
        "# Train the model on the full training data with selected features\n",
        "model.fit(X_train_selected, y_train)\n",
        "\n",
        "# Predict on the test data\n",
        "y_pred = model.predict(X_test_selected)\n",
        "\n",
        "# Calculate RMSE on the test data\n",
        "rmse = mean_squared_error(y_test, y_pred, squared=False)  # squared=False for RMSE\n",
        "print(\"Test RMSE:\", rmse)"
      ]
    },
    {
      "cell_type": "code",
      "execution_count": null,
      "metadata": {
        "id": "IrKxfzwU7n_U"
      },
      "outputs": [],
      "source": [
        "X.columns[selected_feature_indices]"
      ]
    },
    {
      "cell_type": "markdown",
      "metadata": {
        "id": "OaaLeY-lP1NF"
      },
      "source": [
        "##### LassoCV:"
      ]
    },
    {
      "cell_type": "code",
      "execution_count": null,
      "metadata": {
        "id": "xFy7ImBdP1BB"
      },
      "outputs": [],
      "source": [
        "from sklearn.linear_model import LassoCV\n",
        "from sklearn.metrics import mean_squared_error\n",
        "\n",
        "# Split data into training and testing sets\n",
        "X_train, X_test, y_train, y_test = train_test_split(X, y, test_size=0.2, random_state=42)\n",
        "\n",
        "# Perform feature selection with cross-validation using LassoCV\n",
        "model = LassoCV(cv=5, random_state=42)  # 5-fold cross-validation\n",
        "model.fit(X_train, y_train)\n",
        "\n",
        "# Get the selected features\n",
        "selected_feature_indices = model.coef_ != 0\n",
        "X_train_selected = X_train.loc[:, selected_feature_indices]\n",
        "X_test_selected = X_test.loc[:, selected_feature_indices]\n",
        "\n",
        "# Print the number of selected features\n",
        "print(\"Number of selected features:\", sum(selected_feature_indices))\n",
        "\n",
        "# Evaluate the model with cross-validation\n",
        "cv_scores = cross_val_score(model, X_train_selected, y_train, cv=5, scoring='neg_root_mean_squared_error')\n",
        "\n",
        "# Print cross-validation scores (RMSE)\n",
        "print(\"Cross-validation RMSE scores:\", -cv_scores)\n",
        "print(\"Average cross-validation RMSE score:\", -cv_scores.mean())\n",
        "\n",
        "# Predict on the test data\n",
        "y_pred = model.predict(X_test)\n",
        "\n",
        "y_test_pred = model.predict(X_test_lasso)\n",
        "\n",
        "# Calculate RMSE on the test data\n",
        "rmse = mean_squared_error(y_test, y_pred, squared=False)\n",
        "print(\"Test RMSE:\", rmse)"
      ]
    },
    {
      "cell_type": "code",
      "execution_count": null,
      "metadata": {
        "id": "HHI_NtE2P09l"
      },
      "outputs": [],
      "source": [
        "selected_features_final = X.columns[selected_feature_indices]\n",
        "selected_features_final"
      ]
    },
    {
      "cell_type": "code",
      "execution_count": null,
      "metadata": {
        "id": "oXWTg2GWdMWe"
      },
      "outputs": [],
      "source": [
        "new_feat = ['enc_01_v6', 'enc_03_v6', 'enc_04_v6','enc_06_v6',\n",
        "            'enc_08_v6', 'enc_04_v7', 'enc_05_v7', 'enc_06_v7',\n",
        "            'enc_07_v7','enc_01_v1','enc_05_v4', 'enc_01_v4']\n",
        "new_feat = list(set(new_feat))\n",
        "\n",
        "df_train.head()"
      ]
    },
    {
      "cell_type": "markdown",
      "source": [
        "##### 3.0 RFE"
      ],
      "metadata": {
        "id": "11T1dAe7Icdl"
      }
    },
    {
      "cell_type": "code",
      "source": [
        "from sklearn.model_selection import train_test_split, cross_val_score, TimeSeriesSplit\n",
        "from sklearn.feature_selection import RFE, RFECV\n",
        "from sklearn.linear_model import LinearRegression\n",
        "from sklearn.ensemble import RandomForestRegressor\n",
        "from sklearn.metrics import mean_squared_error\n",
        "\n",
        "\n",
        "# Split data into training and testing sets\n",
        "X_train, X_test, y_train, y_test = train_test_split(X, y, test_size=0.2, random_state=42)\n",
        "\n",
        "# 1. Recursive Feature Elimination (RFE) with cross-validation\n",
        "estimator = LinearRegression()\n",
        "selector = RFECV(estimator, step=1, cv=5, scoring='neg_root_mean_squared_error')\n",
        "selector = selector.fit(X_train, y_train)\n",
        "\n",
        "# Get the selected features\n",
        "X_train_selected = selector.transform(X_train)\n",
        "X_test_selected = selector.transform(X_test)\n",
        "\n",
        "# Print the number of selected features\n",
        "print(\"Number of features selected by RFE:\", selector.n_features_)\n",
        "\n",
        "# Evaluate the model with cross-validation\n",
        "cv_scores = cross_val_score(estimator, X_train_selected, y_train, cv=5, scoring='neg_root_mean_squared_error')\n",
        "\n",
        "# Print cross-validation scores (RMSE)\n",
        "print(\"Cross-validation RMSE scores (RFE):\", -cv_scores)\n",
        "print(\"Average cross-validation RMSE score (RFE):\", -cv_scores.mean())\n",
        "\n",
        "# Train the model on the full training data with selected features\n",
        "estimator.fit(X_train_selected, y_train)\n",
        "\n",
        "# Predict on the test data\n",
        "y_pred = estimator.predict(X_test_selected)\n",
        "\n",
        "# Calculate RMSE on the test data\n",
        "rmse = mean_squared_error(y_test, y_pred, squared=False)\n",
        "print(\"Test RMSE (RFE):\", rmse)"
      ],
      "metadata": {
        "id": "kMxZCBQFIevp"
      },
      "execution_count": null,
      "outputs": []
    },
    {
      "cell_type": "code",
      "source": [
        "selector.ranking_\n",
        "selector.get_feature_names_out()"
      ],
      "metadata": {
        "id": "hYWqAd5_NKLb"
      },
      "execution_count": null,
      "outputs": []
    },
    {
      "cell_type": "code",
      "source": [
        "X.head()\n",
        "#X_train_selected.shape, X.shape"
      ],
      "metadata": {
        "id": "Y--4SuZYRrlT"
      },
      "execution_count": null,
      "outputs": []
    },
    {
      "cell_type": "markdown",
      "metadata": {
        "id": "toxtGDkxSUWX"
      },
      "source": [
        "##### Update Dataset:"
      ]
    },
    {
      "cell_type": "code",
      "execution_count": null,
      "metadata": {
        "id": "Qj_z3iSbP06V"
      },
      "outputs": [],
      "source": [
        "df_train_original = pd.read_csv(\"/content/drive/MyDrive/Exercises/Studies_Structured_Data/Data/Glucose/train_cluster.csv\", index_col=0)\n",
        "df_test_original = pd.read_csv(\"/content/drive/MyDrive/Exercises/Studies_Structured_Data/Data/Glucose/test_cluster.csv\", index_col=0)\n",
        "\n",
        "df_train_original.head()"
      ]
    },
    {
      "cell_type": "code",
      "execution_count": null,
      "metadata": {
        "id": "nXU1jcEmP03W"
      },
      "outputs": [],
      "source": [
        "df_train_final = pd.concat([df_train_original,df_train[new_feat]], axis=1)\n",
        "df_test_final = pd.concat([df_test_original,df_test[new_feat]], axis=1)"
      ]
    },
    {
      "cell_type": "code",
      "execution_count": null,
      "metadata": {
        "id": "nxZ3_CrpP0zl"
      },
      "outputs": [],
      "source": [
        "df_train_final.shape, df_test_final.shape,df_train.shape, df_test.shape"
      ]
    },
    {
      "cell_type": "code",
      "source": [
        "df_train_final.head()"
      ],
      "metadata": {
        "id": "veEo9GqIWD_w"
      },
      "execution_count": null,
      "outputs": []
    },
    {
      "cell_type": "code",
      "source": [
        "new_feat"
      ],
      "metadata": {
        "id": "z2T-PS5n4Hwh"
      },
      "execution_count": null,
      "outputs": []
    },
    {
      "cell_type": "code",
      "source": [
        "df_train_final.iloc[:,-16:].corr().style.background_gradient(cmap='viridis')"
      ],
      "metadata": {
        "id": "gfRbPqCfXpaj"
      },
      "execution_count": null,
      "outputs": []
    },
    {
      "cell_type": "code",
      "source": [
        "df_test_final.head()"
      ],
      "metadata": {
        "id": "PxeVxadxWT6i"
      },
      "execution_count": null,
      "outputs": []
    },
    {
      "cell_type": "code",
      "execution_count": null,
      "metadata": {
        "id": "rkDb6dewebEv"
      },
      "outputs": [],
      "source": [
        "#df_train_final.to_csv(\"/content/drive/MyDrive/Exercises/Studies_Structured_Data/Data/Glucose/train_cluster_enc_final.csv\")\n",
        "#df_test_final.to_csv(\"/content/drive/MyDrive/Exercises/Studies_Structured_Data/Data/Glucose/test_cluster_enc_final.csv\")\n",
        "\n",
        "df_train_final = pd.read_csv(\"/content/drive/MyDrive/Exercises/Studies_Structured_Data/Data/Glucose/train_cluster_enc_final.csv\", index_col=0)\n",
        "df_test_final = pd.read_csv(\"/content/drive/MyDrive/Exercises/Studies_Structured_Data/Data/Glucose/test_cluster_enc_final.csv\", index_col=0)"
      ]
    },
    {
      "cell_type": "code",
      "source": [
        "df_train = pd.read_csv(\"/content/drive/MyDrive/Exercises/Studies_Structured_Data/Data/Glucose/train_cluster_enc_v7.csv\", index_col=0)\n",
        "df_test = pd.read_csv(\"/content/drive/MyDrive/Exercises/Studies_Structured_Data/Data/Glucose/test_cluster_enc_v7.csv\", index_col=0)"
      ],
      "metadata": {
        "id": "1TsohjiN96Qp"
      },
      "execution_count": null,
      "outputs": []
    },
    {
      "cell_type": "code",
      "source": [
        "df_train_final[\"bg+1:00\"].plot()"
      ],
      "metadata": {
        "id": "fuRlmmEbAlTu",
        "colab": {
          "base_uri": "https://localhost:8080/",
          "height": 615
        },
        "outputId": "866465f9-3f95-428f-9cd5-cef9df0ac8f1"
      },
      "execution_count": null,
      "outputs": [
        {
          "output_type": "execute_result",
          "data": {
            "text/plain": [
              "<Axes: xlabel='id'>"
            ]
          },
          "metadata": {},
          "execution_count": 86
        },
        {
          "output_type": "display_data",
          "data": {
            "text/plain": [
              "<Figure size 960x660 with 1 Axes>"
            ],
            "image/png": "[encoded data removed]"
          },
          "metadata": {}
        }
      ]
    },
    {
      "cell_type": "markdown",
      "source": [
        "## Ensemble"
      ],
      "metadata": {
        "id": "eGobFnBw-I6B"
      }
    },
    {
      "cell_type": "code",
      "source": [
        "# Load Data:\n",
        "data_train_dict = dict()\n",
        "data_test_dict  = dict()\n",
        "list_files = list()\n",
        "list_files_test = list()\n",
        "\n",
        "for z in range(1,8):\n",
        "  data_train_dict[f\"train_{z}\"] = pd.read_csv(f\"/content/drive/MyDrive/Exercises/Studies_Structured_Data/Data/Glucose/submissions/train_encoder_v{z}.csv\", index_col=0)\n",
        "  data_test_dict[f\"test_{z}\"] = pd.read_csv(f\"/content/drive/MyDrive/Exercises/Studies_Structured_Data/Data/Glucose/submissions/Submission_val_encoder_v{z}.csv\", index_col=0)\n",
        "  list_files.append(data_train_dict[f\"train_{z}\"])\n",
        "  list_files_test.append(data_test_dict[f\"test_{z}\"])"
      ],
      "metadata": {
        "id": "gbBTcCyJ-Njh"
      },
      "execution_count": null,
      "outputs": []
    },
    {
      "cell_type": "code",
      "source": [
        "data_test_dict.keys()\n",
        "len(list_files_test)"
      ],
      "metadata": {
        "colab": {
          "base_uri": "https://localhost:8080/"
        },
        "id": "8Ec9WKil5YD5",
        "outputId": "2f57350c-60dc-4849-ec37-82b664761e05"
      },
      "execution_count": null,
      "outputs": [
        {
          "output_type": "execute_result",
          "data": {
            "text/plain": [
              "3644"
            ]
          },
          "metadata": {},
          "execution_count": 57
        }
      ]
    },
    {
      "cell_type": "code",
      "source": [
        "all_train_forecast = pd.concat(list_files, axis=1, join=\"inner\")\n",
        "list_files_test = pd.concat(list_files_test, axis=1, join=\"inner\")\n",
        "all_train_forecast.columns = list(data_train_dict.keys())\n",
        "list_files_test.columns = list(data_test_dict.keys())\n",
        "\n",
        "all_train_forecast[\"target\"] = df_train[\"bg+1:00\"]\n",
        "all_train_forecast.head()"
      ],
      "metadata": {
        "colab": {
          "base_uri": "https://localhost:8080/",
          "height": 238
        },
        "id": "ZRZ48zLKvZXc",
        "outputId": "3a89a071-e7a4-4ae7-d365-9bdc464c8703"
      },
      "execution_count": null,
      "outputs": [
        {
          "output_type": "execute_result",
          "data": {
            "text/plain": [
              "         train_1    train_2    train_3    train_4    train_5    train_6  \\\n",
              "id                                                                        \n",
              "p01_0  12.242724  11.849390  12.683821  13.347945  12.097415  11.515986   \n",
              "p01_1  11.042534  11.157609  11.885424  12.754559  11.659672  11.781705   \n",
              "p01_2  10.890669  10.654964  10.890182  12.019331  11.200957  11.990408   \n",
              "p01_3  12.302329  10.779087  10.539309  12.211189  11.755369  12.021352   \n",
              "p01_4  11.809401  10.280115  10.041381  11.634729  11.242258  11.421644   \n",
              "\n",
              "         train_7    target  \n",
              "id                          \n",
              "p01_0  12.129239  1.709709  \n",
              "p01_1  12.296616  1.509468  \n",
              "p01_2  12.378191  2.410552  \n",
              "p01_3  12.710527  2.176938  \n",
              "p01_4  11.872571  1.476095  "
            ],
            "text/html": [
              "\n",
              "  <div id=\"df-3cc117b6-eb05-4f7d-8fc0-ef09125c1445\" class=\"colab-df-container\">\n",
              "    <div>\n",
              "<style scoped>\n",
              "    .dataframe tbody tr th:only-of-type {\n",
              "        vertical-align: middle;\n",
              "    }\n",
              "\n",
              "    .dataframe tbody tr th {\n",
              "        vertical-align: top;\n",
              "    }\n",
              "\n",
              "    .dataframe thead th {\n",
              "        text-align: right;\n",
              "    }\n",
              "</style>\n",
              "<table border=\"1\" class=\"dataframe\">\n",
              "  <thead>\n",
              "    <tr style=\"text-align: right;\">\n",
              "      <th></th>\n",
              "      <th>train_1</th>\n",
              "      <th>train_2</th>\n",
              "      <th>train_3</th>\n",
              "      <th>train_4</th>\n",
              "      <th>train_5</th>\n",
              "      <th>train_6</th>\n",
              "      <th>train_7</th>\n",
              "      <th>target</th>\n",
              "    </tr>\n",
              "    <tr>\n",
              "      <th>id</th>\n",
              "      <th></th>\n",
              "      <th></th>\n",
              "      <th></th>\n",
              "      <th></th>\n",
              "      <th></th>\n",
              "      <th></th>\n",
              "      <th></th>\n",
              "      <th></th>\n",
              "    </tr>\n",
              "  </thead>\n",
              "  <tbody>\n",
              "    <tr>\n",
              "      <th>p01_0</th>\n",
              "      <td>12.242724</td>\n",
              "      <td>11.849390</td>\n",
              "      <td>12.683821</td>\n",
              "      <td>13.347945</td>\n",
              "      <td>12.097415</td>\n",
              "      <td>11.515986</td>\n",
              "      <td>12.129239</td>\n",
              "      <td>1.709709</td>\n",
              "    </tr>\n",
              "    <tr>\n",
              "      <th>p01_1</th>\n",
              "      <td>11.042534</td>\n",
              "      <td>11.157609</td>\n",
              "      <td>11.885424</td>\n",
              "      <td>12.754559</td>\n",
              "      <td>11.659672</td>\n",
              "      <td>11.781705</td>\n",
              "      <td>12.296616</td>\n",
              "      <td>1.509468</td>\n",
              "    </tr>\n",
              "    <tr>\n",
              "      <th>p01_2</th>\n",
              "      <td>10.890669</td>\n",
              "      <td>10.654964</td>\n",
              "      <td>10.890182</td>\n",
              "      <td>12.019331</td>\n",
              "      <td>11.200957</td>\n",
              "      <td>11.990408</td>\n",
              "      <td>12.378191</td>\n",
              "      <td>2.410552</td>\n",
              "    </tr>\n",
              "    <tr>\n",
              "      <th>p01_3</th>\n",
              "      <td>12.302329</td>\n",
              "      <td>10.779087</td>\n",
              "      <td>10.539309</td>\n",
              "      <td>12.211189</td>\n",
              "      <td>11.755369</td>\n",
              "      <td>12.021352</td>\n",
              "      <td>12.710527</td>\n",
              "      <td>2.176938</td>\n",
              "    </tr>\n",
              "    <tr>\n",
              "      <th>p01_4</th>\n",
              "      <td>11.809401</td>\n",
              "      <td>10.280115</td>\n",
              "      <td>10.041381</td>\n",
              "      <td>11.634729</td>\n",
              "      <td>11.242258</td>\n",
              "      <td>11.421644</td>\n",
              "      <td>11.872571</td>\n",
              "      <td>1.476095</td>\n",
              "    </tr>\n",
              "  </tbody>\n",
              "</table>\n",
              "</div>\n",
              "    <div class=\"colab-df-buttons\">\n",
              "\n",
              "  <div class=\"colab-df-container\">\n",
              "    <button class=\"colab-df-convert\" onclick=\"convertToInteractive('df-3cc117b6-eb05-4f7d-8fc0-ef09125c1445')\"\n",
              "            title=\"Convert this dataframe to an interactive table.\"\n",
              "            style=\"display:none;\">\n",
              "\n",
              "  <svg xmlns=\"http://www.w3.org/2000/svg\" height=\"24px\" viewBox=\"0 -960 960 960\">\n",
              "    <path d=\"M120-120v-720h720v720H120Zm60-500h600v-160H180v160Zm220 220h160v-160H400v160Zm0 220h160v-160H400v160ZM180-400h160v-160H180v160Zm440 0h160v-160H620v160ZM180-180h160v-160H180v160Zm440 0h160v-160H620v160Z\"/>\n",
              "  </svg>\n",
              "    </button>\n",
              "\n",
              "  <style>\n",
              "    .colab-df-container {\n",
              "      display:flex;\n",
              "      gap: 12px;\n",
              "    }\n",
              "\n",
              "    .colab-df-convert {\n",
              "      background-color: #E8F0FE;\n",
              "      border: none;\n",
              "      border-radius: 50%;\n",
              "      cursor: pointer;\n",
              "      display: none;\n",
              "      fill: #1967D2;\n",
              "      height: 32px;\n",
              "      padding: 0 0 0 0;\n",
              "      width: 32px;\n",
              "    }\n",
              "\n",
              "    .colab-df-convert:hover {\n",
              "      background-color: #E2EBFA;\n",
              "      box-shadow: 0px 1px 2px rgba(60, 64, 67, 0.3), 0px 1px 3px 1px rgba(60, 64, 67, 0.15);\n",
              "      fill: #174EA6;\n",
              "    }\n",
              "\n",
              "    .colab-df-buttons div {\n",
              "      margin-bottom: 4px;\n",
              "    }\n",
              "\n",
              "    [theme=dark] .colab-df-convert {\n",
              "      background-color: #3B4455;\n",
              "      fill: #D2E3FC;\n",
              "    }\n",
              "\n",
              "    [theme=dark] .colab-df-convert:hover {\n",
              "      background-color: #434B5C;\n",
              "      box-shadow: 0px 1px 3px 1px rgba(0, 0, 0, 0.15);\n",
              "      filter: drop-shadow(0px 1px 2px rgba(0, 0, 0, 0.3));\n",
              "      fill: #FFFFFF;\n",
              "    }\n",
              "  </style>\n",
              "\n",
              "    <script>\n",
              "      const buttonEl =\n",
              "        document.querySelector('#df-3cc117b6-eb05-4f7d-8fc0-ef09125c1445 button.colab-df-convert');\n",
              "      buttonEl.style.display =\n",
              "        google.colab.kernel.accessAllowed ? 'block' : 'none';\n",
              "\n",
              "      async function convertToInteractive(key) {\n",
              "        const element = document.querySelector('#df-3cc117b6-eb05-4f7d-8fc0-ef09125c1445');\n",
              "        const dataTable =\n",
              "          await google.colab.kernel.invokeFunction('convertToInteractive',\n",
              "                                                    [key], {});\n",
              "        if (!dataTable) return;\n",
              "\n",
              "        const docLinkHtml = 'Like what you see? Visit the ' +\n",
              "          '<a target=\"_blank\" href=https://colab.research.google.com/notebooks/data_table.ipynb>data table notebook</a>'\n",
              "          + ' to learn more about interactive tables.';\n",
              "        element.innerHTML = '';\n",
              "        dataTable['output_type'] = 'display_data';\n",
              "        await google.colab.output.renderOutput(dataTable, element);\n",
              "        const docLink = document.createElement('div');\n",
              "        docLink.innerHTML = docLinkHtml;\n",
              "        element.appendChild(docLink);\n",
              "      }\n",
              "    </script>\n",
              "  </div>\n",
              "\n",
              "\n",
              "<div id=\"df-9fe52544-ec96-4999-b75e-45edee68512d\">\n",
              "  <button class=\"colab-df-quickchart\" onclick=\"quickchart('df-9fe52544-ec96-4999-b75e-45edee68512d')\"\n",
              "            title=\"Suggest charts\"\n",
              "            style=\"display:none;\">\n",
              "\n",
              "<svg xmlns=\"http://www.w3.org/2000/svg\" height=\"24px\"viewBox=\"0 0 24 24\"\n",
              "     width=\"24px\">\n",
              "    <g>\n",
              "        <path d=\"M19 3H5c-1.1 0-2 .9-2 2v14c0 1.1.9 2 2 2h14c1.1 0 2-.9 2-2V5c0-1.1-.9-2-2-2zM9 17H7v-7h2v7zm4 0h-2V7h2v10zm4 0h-2v-4h2v4z\"/>\n",
              "    </g>\n",
              "</svg>\n",
              "  </button>\n",
              "\n",
              "<style>\n",
              "  .colab-df-quickchart {\n",
              "      --bg-color: #E8F0FE;\n",
              "      --fill-color: #1967D2;\n",
              "      --hover-bg-color: #E2EBFA;\n",
              "      --hover-fill-color: #174EA6;\n",
              "      --disabled-fill-color: #AAA;\n",
              "      --disabled-bg-color: #DDD;\n",
              "  }\n",
              "\n",
              "  [theme=dark] .colab-df-quickchart {\n",
              "      --bg-color: #3B4455;\n",
              "      --fill-color: #D2E3FC;\n",
              "      --hover-bg-color: #434B5C;\n",
              "      --hover-fill-color: #FFFFFF;\n",
              "      --disabled-bg-color: #3B4455;\n",
              "      --disabled-fill-color: #666;\n",
              "  }\n",
              "\n",
              "  .colab-df-quickchart {\n",
              "    background-color: var(--bg-color);\n",
              "    border: none;\n",
              "    border-radius: 50%;\n",
              "    cursor: pointer;\n",
              "    display: none;\n",
              "    fill: var(--fill-color);\n",
              "    height: 32px;\n",
              "    padding: 0;\n",
              "    width: 32px;\n",
              "  }\n",
              "\n",
              "  .colab-df-quickchart:hover {\n",
              "    background-color: var(--hover-bg-color);\n",
              "    box-shadow: 0 1px 2px rgba(60, 64, 67, 0.3), 0 1px 3px 1px rgba(60, 64, 67, 0.15);\n",
              "    fill: var(--button-hover-fill-color);\n",
              "  }\n",
              "\n",
              "  .colab-df-quickchart-complete:disabled,\n",
              "  .colab-df-quickchart-complete:disabled:hover {\n",
              "    background-color: var(--disabled-bg-color);\n",
              "    fill: var(--disabled-fill-color);\n",
              "    box-shadow: none;\n",
              "  }\n",
              "\n",
              "  .colab-df-spinner {\n",
              "    border: 2px solid var(--fill-color);\n",
              "    border-color: transparent;\n",
              "    border-bottom-color: var(--fill-color);\n",
              "    animation:\n",
              "      spin 1s steps(1) infinite;\n",
              "  }\n",
              "\n",
              "  @keyframes spin {\n",
              "    0% {\n",
              "      border-color: transparent;\n",
              "      border-bottom-color: var(--fill-color);\n",
              "      border-left-color: var(--fill-color);\n",
              "    }\n",
              "    20% {\n",
              "      border-color: transparent;\n",
              "      border-left-color: var(--fill-color);\n",
              "      border-top-color: var(--fill-color);\n",
              "    }\n",
              "    30% {\n",
              "      border-color: transparent;\n",
              "      border-left-color: var(--fill-color);\n",
              "      border-top-color: var(--fill-color);\n",
              "      border-right-color: var(--fill-color);\n",
              "    }\n",
              "    40% {\n",
              "      border-color: transparent;\n",
              "      border-right-color: var(--fill-color);\n",
              "      border-top-color: var(--fill-color);\n",
              "    }\n",
              "    60% {\n",
              "      border-color: transparent;\n",
              "      border-right-color: var(--fill-color);\n",
              "    }\n",
              "    80% {\n",
              "      border-color: transparent;\n",
              "      border-right-color: var(--fill-color);\n",
              "      border-bottom-color: var(--fill-color);\n",
              "    }\n",
              "    90% {\n",
              "      border-color: transparent;\n",
              "      border-bottom-color: var(--fill-color);\n",
              "    }\n",
              "  }\n",
              "</style>\n",
              "\n",
              "  <script>\n",
              "    async function quickchart(key) {\n",
              "      const quickchartButtonEl =\n",
              "        document.querySelector('#' + key + ' button');\n",
              "      quickchartButtonEl.disabled = true;  // To prevent multiple clicks.\n",
              "      quickchartButtonEl.classList.add('colab-df-spinner');\n",
              "      try {\n",
              "        const charts = await google.colab.kernel.invokeFunction(\n",
              "            'suggestCharts', [key], {});\n",
              "      } catch (error) {\n",
              "        console.error('Error during call to suggestCharts:', error);\n",
              "      }\n",
              "      quickchartButtonEl.classList.remove('colab-df-spinner');\n",
              "      quickchartButtonEl.classList.add('colab-df-quickchart-complete');\n",
              "    }\n",
              "    (() => {\n",
              "      let quickchartButtonEl =\n",
              "        document.querySelector('#df-9fe52544-ec96-4999-b75e-45edee68512d button');\n",
              "      quickchartButtonEl.style.display =\n",
              "        google.colab.kernel.accessAllowed ? 'block' : 'none';\n",
              "    })();\n",
              "  </script>\n",
              "</div>\n",
              "\n",
              "    </div>\n",
              "  </div>\n"
            ],
            "application/vnd.google.colaboratory.intrinsic+json": {
              "type": "dataframe",
              "variable_name": "all_train_forecast"
            }
          },
          "metadata": {},
          "execution_count": 56
        }
      ]
    },
    {
      "cell_type": "code",
      "source": [
        "all_train_forecast = pd.concat(list_files, axis=1, join=\"inner\")\n",
        "list_files_test = pd.concat(list_files_test, axis=1, join=\"inner\")\n",
        "all_train_forecast.columns = list(data_train_dict.keys())\n",
        "list_files_test.columns = list(data_test_dict.keys())\n",
        "\n",
        "all_train_forecast[\"target\"] = df_train[\"bg+1:00\"]\n",
        "all_train_forecast.head()"
      ],
      "metadata": {
        "colab": {
          "base_uri": "https://localhost:8080/",
          "height": 237
        },
        "id": "Kd7qPiZ_-NgH",
        "outputId": "4f96f4ef-7260-448d-b41c-96e51af2a101"
      },
      "execution_count": null,
      "outputs": [
        {
          "output_type": "execute_result",
          "data": {
            "text/plain": [
              "         train_1    train_2    train_3    train_4    train_5    train_6  \\\n",
              "id                                                                        \n",
              "p01_0  12.242724  11.849390  12.683821  13.347945  12.097415  11.515986   \n",
              "p01_1  11.042534  11.157609  11.885424  12.754559  11.659672  11.781705   \n",
              "p01_2  10.890669  10.654964  10.890182  12.019331  11.200957  11.990408   \n",
              "p01_3  12.302329  10.779087  10.539309  12.211189  11.755369  12.021352   \n",
              "p01_4  11.809401  10.280115  10.041381  11.634729  11.242258  11.421644   \n",
              "\n",
              "         train_7    target  \n",
              "id                          \n",
              "p01_0  12.129239  1.709709  \n",
              "p01_1  12.296616  1.509468  \n",
              "p01_2  12.378191  2.410552  \n",
              "p01_3  12.710527  2.176938  \n",
              "p01_4  11.872571  1.476095  "
            ],
            "text/html": [
              "\n",
              "  <div id=\"df-d26f2596-8f9a-41d5-ac82-f51b783fd344\" class=\"colab-df-container\">\n",
              "    <div>\n",
              "<style scoped>\n",
              "    .dataframe tbody tr th:only-of-type {\n",
              "        vertical-align: middle;\n",
              "    }\n",
              "\n",
              "    .dataframe tbody tr th {\n",
              "        vertical-align: top;\n",
              "    }\n",
              "\n",
              "    .dataframe thead th {\n",
              "        text-align: right;\n",
              "    }\n",
              "</style>\n",
              "<table border=\"1\" class=\"dataframe\">\n",
              "  <thead>\n",
              "    <tr style=\"text-align: right;\">\n",
              "      <th></th>\n",
              "      <th>train_1</th>\n",
              "      <th>train_2</th>\n",
              "      <th>train_3</th>\n",
              "      <th>train_4</th>\n",
              "      <th>train_5</th>\n",
              "      <th>train_6</th>\n",
              "      <th>train_7</th>\n",
              "      <th>target</th>\n",
              "    </tr>\n",
              "    <tr>\n",
              "      <th>id</th>\n",
              "      <th></th>\n",
              "      <th></th>\n",
              "      <th></th>\n",
              "      <th></th>\n",
              "      <th></th>\n",
              "      <th></th>\n",
              "      <th></th>\n",
              "      <th></th>\n",
              "    </tr>\n",
              "  </thead>\n",
              "  <tbody>\n",
              "    <tr>\n",
              "      <th>p01_0</th>\n",
              "      <td>12.242724</td>\n",
              "      <td>11.849390</td>\n",
              "      <td>12.683821</td>\n",
              "      <td>13.347945</td>\n",
              "      <td>12.097415</td>\n",
              "      <td>11.515986</td>\n",
              "      <td>12.129239</td>\n",
              "      <td>1.709709</td>\n",
              "    </tr>\n",
              "    <tr>\n",
              "      <th>p01_1</th>\n",
              "      <td>11.042534</td>\n",
              "      <td>11.157609</td>\n",
              "      <td>11.885424</td>\n",
              "      <td>12.754559</td>\n",
              "      <td>11.659672</td>\n",
              "      <td>11.781705</td>\n",
              "      <td>12.296616</td>\n",
              "      <td>1.509468</td>\n",
              "    </tr>\n",
              "    <tr>\n",
              "      <th>p01_2</th>\n",
              "      <td>10.890669</td>\n",
              "      <td>10.654964</td>\n",
              "      <td>10.890182</td>\n",
              "      <td>12.019331</td>\n",
              "      <td>11.200957</td>\n",
              "      <td>11.990408</td>\n",
              "      <td>12.378191</td>\n",
              "      <td>2.410552</td>\n",
              "    </tr>\n",
              "    <tr>\n",
              "      <th>p01_3</th>\n",
              "      <td>12.302329</td>\n",
              "      <td>10.779087</td>\n",
              "      <td>10.539309</td>\n",
              "      <td>12.211189</td>\n",
              "      <td>11.755369</td>\n",
              "      <td>12.021352</td>\n",
              "      <td>12.710527</td>\n",
              "      <td>2.176938</td>\n",
              "    </tr>\n",
              "    <tr>\n",
              "      <th>p01_4</th>\n",
              "      <td>11.809401</td>\n",
              "      <td>10.280115</td>\n",
              "      <td>10.041381</td>\n",
              "      <td>11.634729</td>\n",
              "      <td>11.242258</td>\n",
              "      <td>11.421644</td>\n",
              "      <td>11.872571</td>\n",
              "      <td>1.476095</td>\n",
              "    </tr>\n",
              "  </tbody>\n",
              "</table>\n",
              "</div>\n",
              "    <div class=\"colab-df-buttons\">\n",
              "\n",
              "  <div class=\"colab-df-container\">\n",
              "    <button class=\"colab-df-convert\" onclick=\"convertToInteractive('df-d26f2596-8f9a-41d5-ac82-f51b783fd344')\"\n",
              "            title=\"Convert this dataframe to an interactive table.\"\n",
              "            style=\"display:none;\">\n",
              "\n",
              "  <svg xmlns=\"http://www.w3.org/2000/svg\" height=\"24px\" viewBox=\"0 -960 960 960\">\n",
              "    <path d=\"M120-120v-720h720v720H120Zm60-500h600v-160H180v160Zm220 220h160v-160H400v160Zm0 220h160v-160H400v160ZM180-400h160v-160H180v160Zm440 0h160v-160H620v160ZM180-180h160v-160H180v160Zm440 0h160v-160H620v160Z\"/>\n",
              "  </svg>\n",
              "    </button>\n",
              "\n",
              "  <style>\n",
              "    .colab-df-container {\n",
              "      display:flex;\n",
              "      gap: 12px;\n",
              "    }\n",
              "\n",
              "    .colab-df-convert {\n",
              "      background-color: #E8F0FE;\n",
              "      border: none;\n",
              "      border-radius: 50%;\n",
              "      cursor: pointer;\n",
              "      display: none;\n",
              "      fill: #1967D2;\n",
              "      height: 32px;\n",
              "      padding: 0 0 0 0;\n",
              "      width: 32px;\n",
              "    }\n",
              "\n",
              "    .colab-df-convert:hover {\n",
              "      background-color: #E2EBFA;\n",
              "      box-shadow: 0px 1px 2px rgba(60, 64, 67, 0.3), 0px 1px 3px 1px rgba(60, 64, 67, 0.15);\n",
              "      fill: #174EA6;\n",
              "    }\n",
              "\n",
              "    .colab-df-buttons div {\n",
              "      margin-bottom: 4px;\n",
              "    }\n",
              "\n",
              "    [theme=dark] .colab-df-convert {\n",
              "      background-color: #3B4455;\n",
              "      fill: #D2E3FC;\n",
              "    }\n",
              "\n",
              "    [theme=dark] .colab-df-convert:hover {\n",
              "      background-color: #434B5C;\n",
              "      box-shadow: 0px 1px 3px 1px rgba(0, 0, 0, 0.15);\n",
              "      filter: drop-shadow(0px 1px 2px rgba(0, 0, 0, 0.3));\n",
              "      fill: #FFFFFF;\n",
              "    }\n",
              "  </style>\n",
              "\n",
              "    <script>\n",
              "      const buttonEl =\n",
              "        document.querySelector('#df-d26f2596-8f9a-41d5-ac82-f51b783fd344 button.colab-df-convert');\n",
              "      buttonEl.style.display =\n",
              "        google.colab.kernel.accessAllowed ? 'block' : 'none';\n",
              "\n",
              "      async function convertToInteractive(key) {\n",
              "        const element = document.querySelector('#df-d26f2596-8f9a-41d5-ac82-f51b783fd344');\n",
              "        const dataTable =\n",
              "          await google.colab.kernel.invokeFunction('convertToInteractive',\n",
              "                                                    [key], {});\n",
              "        if (!dataTable) return;\n",
              "\n",
              "        const docLinkHtml = 'Like what you see? Visit the ' +\n",
              "          '<a target=\"_blank\" href=https://colab.research.google.com/notebooks/data_table.ipynb>data table notebook</a>'\n",
              "          + ' to learn more about interactive tables.';\n",
              "        element.innerHTML = '';\n",
              "        dataTable['output_type'] = 'display_data';\n",
              "        await google.colab.output.renderOutput(dataTable, element);\n",
              "        const docLink = document.createElement('div');\n",
              "        docLink.innerHTML = docLinkHtml;\n",
              "        element.appendChild(docLink);\n",
              "      }\n",
              "    </script>\n",
              "  </div>\n",
              "\n",
              "\n",
              "<div id=\"df-e259a8a5-4c77-4b25-9f0b-f4bfb71e03ea\">\n",
              "  <button class=\"colab-df-quickchart\" onclick=\"quickchart('df-e259a8a5-4c77-4b25-9f0b-f4bfb71e03ea')\"\n",
              "            title=\"Suggest charts\"\n",
              "            style=\"display:none;\">\n",
              "\n",
              "<svg xmlns=\"http://www.w3.org/2000/svg\" height=\"24px\"viewBox=\"0 0 24 24\"\n",
              "     width=\"24px\">\n",
              "    <g>\n",
              "        <path d=\"M19 3H5c-1.1 0-2 .9-2 2v14c0 1.1.9 2 2 2h14c1.1 0 2-.9 2-2V5c0-1.1-.9-2-2-2zM9 17H7v-7h2v7zm4 0h-2V7h2v10zm4 0h-2v-4h2v4z\"/>\n",
              "    </g>\n",
              "</svg>\n",
              "  </button>\n",
              "\n",
              "<style>\n",
              "  .colab-df-quickchart {\n",
              "      --bg-color: #E8F0FE;\n",
              "      --fill-color: #1967D2;\n",
              "      --hover-bg-color: #E2EBFA;\n",
              "      --hover-fill-color: #174EA6;\n",
              "      --disabled-fill-color: #AAA;\n",
              "      --disabled-bg-color: #DDD;\n",
              "  }\n",
              "\n",
              "  [theme=dark] .colab-df-quickchart {\n",
              "      --bg-color: #3B4455;\n",
              "      --fill-color: #D2E3FC;\n",
              "      --hover-bg-color: #434B5C;\n",
              "      --hover-fill-color: #FFFFFF;\n",
              "      --disabled-bg-color: #3B4455;\n",
              "      --disabled-fill-color: #666;\n",
              "  }\n",
              "\n",
              "  .colab-df-quickchart {\n",
              "    background-color: var(--bg-color);\n",
              "    border: none;\n",
              "    border-radius: 50%;\n",
              "    cursor: pointer;\n",
              "    display: none;\n",
              "    fill: var(--fill-color);\n",
              "    height: 32px;\n",
              "    padding: 0;\n",
              "    width: 32px;\n",
              "  }\n",
              "\n",
              "  .colab-df-quickchart:hover {\n",
              "    background-color: var(--hover-bg-color);\n",
              "    box-shadow: 0 1px 2px rgba(60, 64, 67, 0.3), 0 1px 3px 1px rgba(60, 64, 67, 0.15);\n",
              "    fill: var(--button-hover-fill-color);\n",
              "  }\n",
              "\n",
              "  .colab-df-quickchart-complete:disabled,\n",
              "  .colab-df-quickchart-complete:disabled:hover {\n",
              "    background-color: var(--disabled-bg-color);\n",
              "    fill: var(--disabled-fill-color);\n",
              "    box-shadow: none;\n",
              "  }\n",
              "\n",
              "  .colab-df-spinner {\n",
              "    border: 2px solid var(--fill-color);\n",
              "    border-color: transparent;\n",
              "    border-bottom-color: var(--fill-color);\n",
              "    animation:\n",
              "      spin 1s steps(1) infinite;\n",
              "  }\n",
              "\n",
              "  @keyframes spin {\n",
              "    0% {\n",
              "      border-color: transparent;\n",
              "      border-bottom-color: var(--fill-color);\n",
              "      border-left-color: var(--fill-color);\n",
              "    }\n",
              "    20% {\n",
              "      border-color: transparent;\n",
              "      border-left-color: var(--fill-color);\n",
              "      border-top-color: var(--fill-color);\n",
              "    }\n",
              "    30% {\n",
              "      border-color: transparent;\n",
              "      border-left-color: var(--fill-color);\n",
              "      border-top-color: var(--fill-color);\n",
              "      border-right-color: var(--fill-color);\n",
              "    }\n",
              "    40% {\n",
              "      border-color: transparent;\n",
              "      border-right-color: var(--fill-color);\n",
              "      border-top-color: var(--fill-color);\n",
              "    }\n",
              "    60% {\n",
              "      border-color: transparent;\n",
              "      border-right-color: var(--fill-color);\n",
              "    }\n",
              "    80% {\n",
              "      border-color: transparent;\n",
              "      border-right-color: var(--fill-color);\n",
              "      border-bottom-color: var(--fill-color);\n",
              "    }\n",
              "    90% {\n",
              "      border-color: transparent;\n",
              "      border-bottom-color: var(--fill-color);\n",
              "    }\n",
              "  }\n",
              "</style>\n",
              "\n",
              "  <script>\n",
              "    async function quickchart(key) {\n",
              "      const quickchartButtonEl =\n",
              "        document.querySelector('#' + key + ' button');\n",
              "      quickchartButtonEl.disabled = true;  // To prevent multiple clicks.\n",
              "      quickchartButtonEl.classList.add('colab-df-spinner');\n",
              "      try {\n",
              "        const charts = await google.colab.kernel.invokeFunction(\n",
              "            'suggestCharts', [key], {});\n",
              "      } catch (error) {\n",
              "        console.error('Error during call to suggestCharts:', error);\n",
              "      }\n",
              "      quickchartButtonEl.classList.remove('colab-df-spinner');\n",
              "      quickchartButtonEl.classList.add('colab-df-quickchart-complete');\n",
              "    }\n",
              "    (() => {\n",
              "      let quickchartButtonEl =\n",
              "        document.querySelector('#df-e259a8a5-4c77-4b25-9f0b-f4bfb71e03ea button');\n",
              "      quickchartButtonEl.style.display =\n",
              "        google.colab.kernel.accessAllowed ? 'block' : 'none';\n",
              "    })();\n",
              "  </script>\n",
              "</div>\n",
              "\n",
              "    </div>\n",
              "  </div>\n"
            ],
            "application/vnd.google.colaboratory.intrinsic+json": {
              "type": "dataframe",
              "variable_name": "all_train_forecast"
            }
          },
          "metadata": {},
          "execution_count": 165
        }
      ]
    },
    {
      "cell_type": "code",
      "source": [
        "# g = sns.PairGrid(all_train_forecast,\n",
        "#                  hue=\"target\",\n",
        "#                  palette=\"viridis\",\n",
        "#                  height=2.5,\n",
        "#                  aspect=1, layout_pad=0.5,\n",
        "#                  despine=True,\n",
        "#                  dropna=False,\n",
        "#                  vars=[\"train_1\", \"train_2\", \"train_3\", \"train_4\",\n",
        "#                             \"train_5\", \"train_6\", \"train_7\"],\n",
        "#                   corner=True)\n",
        "\n",
        "# g.map_diag(sns.histplot, hue=None)\n",
        "# g.map_offdiag(sns.scatterplot)\n",
        "# g.add_legend()\n",
        "# plt.show()"
      ],
      "metadata": {
        "id": "8ZFstHwz-Nc-"
      },
      "execution_count": null,
      "outputs": []
    },
    {
      "cell_type": "code",
      "source": [
        "y = all_train_forecast[\"target\"]\n",
        "X = all_train_forecast.drop(columns=[\"target\"])"
      ],
      "metadata": {
        "id": "f9B0sJcn-NZZ"
      },
      "execution_count": null,
      "outputs": []
    },
    {
      "cell_type": "code",
      "source": [
        "p1_val = list(df_train[(df_train[\"p_num\"]==\"p01\")&(df_train[\"obv_n\"]>=7600)].index)\n",
        "p2_val = list(df_train[(df_train[\"p_num\"]==\"p02\")&(df_train[\"obv_n\"]>=22500)].index)\n",
        "p3_val = list(df_train[(df_train[\"p_num\"]==\"p03\")&(df_train[\"obv_n\"]>=23000)].index)\n",
        "p4_val = list(df_train[(df_train[\"p_num\"]==\"p04\")&(df_train[\"obv_n\"]>=22000)].index)\n",
        "p5_val = list(df_train[(df_train[\"p_num\"]==\"p05\")&(df_train[\"obv_n\"]>=7600)].index)\n",
        "p6_val = list(df_train[(df_train[\"p_num\"]==\"p06\")&(df_train[\"obv_n\"]>=7600)].index)\n",
        "p10_val = list(df_train[(df_train[\"p_num\"]==\"p10\")&(df_train[\"obv_n\"]>=22500)].index)\n",
        "p11_val = list(df_train[(df_train[\"p_num\"]==\"p11\")&(df_train[\"obv_n\"]>=22000)].index)\n",
        "p12_val = list(df_train[(df_train[\"p_num\"]==\"p12\")&(df_train[\"obv_n\"]>=22500)].index)\n",
        "\n",
        "matrix_val = p1_val+p2_val+p3_val+p4_val+p5_val+p6_val+p10_val+p11_val+p12_val\n",
        "len(matrix_val)/df_train.shape[0]\n",
        "\n",
        "X_train = X.drop(matrix_val)\n",
        "X_valid = X.loc[matrix_val]\n",
        "y_train = y.drop(matrix_val)\n",
        "y_valid = y.loc[matrix_val]\n",
        "\n",
        "X_train.shape, X_valid.shape, y_train.shape, y_valid.shape"
      ],
      "metadata": {
        "colab": {
          "base_uri": "https://localhost:8080/"
        },
        "id": "71TfPndWqEqY",
        "outputId": "f2b9549b-933c-4540-eb02-15bd5e9070ff"
      },
      "execution_count": null,
      "outputs": [
        {
          "output_type": "execute_result",
          "data": {
            "text/plain": [
              "((157300, 7), (19724, 7), (157300,), (19724,))"
            ]
          },
          "metadata": {},
          "execution_count": 59
        }
      ]
    },
    {
      "cell_type": "markdown",
      "source": [
        "##### Ensemble 1: LightGBM"
      ],
      "metadata": {
        "id": "Sa9qkZkaOi1t"
      }
    },
    {
      "cell_type": "code",
      "source": [
        "def rf_objective(trial):\n",
        "    params = {\n",
        "            #'num_leaves':         trial.suggest_int('num_leaves', 100, 111, step=1),\n",
        "            'n_estimators': 1000, #trial.suggest_int('n_estimators', 250, 800),\n",
        "            #'learning_rate':      0.015, #trial.suggest_loguniform('learning_rate', 0.01, 0.03),\n",
        "            'objective':          'regression',\n",
        "            'min_child_samples':  trial.suggest_int('min_child_samples', 21, 101, step=1),\n",
        "            #'min_child_weight' :  trial.suggest_float(\"min_child_weight\", 1e-2, 0.1, log=True),\n",
        "            \"reg_alpha\" :         trial.suggest_float(\"reg_alpha\", 1e-3, 1.0, log=True),\n",
        "            \"reg_lambda\" :        trial.suggest_float(\"reg_lambda\", 1e-3, 1.0, log=True),\n",
        "            \"max_depth\" :         trial.suggest_int('max_depth', 5, 12, step=1),\n",
        "            #'bagging_freq' :      trial.suggest_int('bagging_freq', 3, 9),\n",
        "            #'max_bin' :           trial.suggest_int('max_bin', 401, 501, step=5),\n",
        "            'colsample_bytree':   trial.suggest_float(\"colsample_bytree\", 0.30, 0.95, step=0.05),\n",
        "            'subsample':          trial.suggest_float(\"subsample\", 0.70, 0.95, step=0.025),\n",
        "            \"learning_rate\" :     0.01,\n",
        "            'random_state':       42,\n",
        "            'force_col_wise':     True,\n",
        "            'device':             \"cpu\"\n",
        "            }\n",
        "\n",
        "  #    if params[\"bagging_freq\"]>0:\n",
        "  #      params['bagging_fraction'] =  trial.suggest_float(\"bagging_fraction\", 0.75, 0.85, step=0.01)\n",
        "\n",
        "\n",
        "    optuna_model = LGBMRegressor(**params)\n",
        "\n",
        "    optuna_model.fit(X_train, y_train, callbacks=[early_stopping(stopping_rounds=51)], eval_set=(X_valid,y_valid) )\n",
        "    y_pred = optuna_model.predict(X_valid)\n",
        "\n",
        "    rmse_scores = root_mean_squared_error(y_valid, y_pred)\n",
        "\n",
        "    return rmse_scores"
      ],
      "metadata": {
        "id": "Rh3C4kFyvGQK"
      },
      "execution_count": null,
      "outputs": []
    },
    {
      "cell_type": "code",
      "source": [
        "rf_study = optuna.create_study(direction = 'minimize', study_name=\"ens_opt\",\n",
        "                                sampler = optuna.samplers.TPESampler(seed=42),\n",
        "                                pruner=optuna.pruners.MedianPruner(n_warmup_steps=10)\n",
        "                                )"
      ],
      "metadata": {
        "id": "CY-16oTXvGNJ"
      },
      "execution_count": null,
      "outputs": []
    },
    {
      "cell_type": "code",
      "source": [
        "rf_study.optimize(rf_objective, 51, show_progress_bar=True)"
      ],
      "metadata": {
        "id": "aWUVuXwZvGKR"
      },
      "execution_count": null,
      "outputs": []
    },
    {
      "cell_type": "code",
      "source": [
        "rf_study.best_params"
      ],
      "metadata": {
        "id": "KPmSheIjvGHY"
      },
      "execution_count": null,
      "outputs": []
    },
    {
      "cell_type": "code",
      "source": [],
      "metadata": {
        "id": "edDQkp4ivGEe"
      },
      "execution_count": null,
      "outputs": []
    },
    {
      "cell_type": "code",
      "source": [
        "params =  {'min_child_samples': 78,\n",
        "          'reg_alpha': 0.3923124608133837,\n",
        "          'reg_lambda': 0.08736092603745824,\n",
        "          'max_depth': 5,\n",
        "          'colsample_bytree': 0.35,\n",
        "          'subsample': 0.825,\n",
        "          \"learning_rate\":0.01,\n",
        "          'random_state':42,\n",
        "          'force_col_wise':True,\n",
        "          'device':\"cpu\",\n",
        "          'objective':'regression'}"
      ],
      "metadata": {
        "id": "-c1k4d7M-NSC"
      },
      "execution_count": null,
      "outputs": []
    },
    {
      "cell_type": "code",
      "source": [
        "model = LGBMRegressor(**params)\n",
        "\n",
        "model.fit(X_train, y_train, callbacks=[early_stopping(stopping_rounds=51)], eval_metric=\"rmse\", eval_set=(X_valid,y_valid))"
      ],
      "metadata": {
        "colab": {
          "base_uri": "https://localhost:8080/",
          "height": 254
        },
        "id": "ihAqmBkM-NOQ",
        "outputId": "9dd6f6e9-9721-476e-a3d6-16b1829a6ee7"
      },
      "execution_count": null,
      "outputs": [
        {
          "output_type": "stream",
          "name": "stdout",
          "text": [
            "[LightGBM] [Info] Total Bins 1785\n",
            "[LightGBM] [Info] Number of data points in the train set: 157300, number of used features: 7\n",
            "[LightGBM] [Info] Start training from score -0.007410\n",
            "Training until validation scores don't improve for 51 rounds\n",
            "Did not meet early stopping. Best iteration is:\n",
            "[100]\tvalid_0's rmse: 0.736984\tvalid_0's l2: 0.543146\n"
          ]
        },
        {
          "output_type": "execute_result",
          "data": {
            "text/plain": [
              "LGBMRegressor(colsample_bytree=0.35, device='cpu', force_col_wise=True,\n",
              "              learning_rate=0.01, max_depth=5, min_child_samples=78,\n",
              "              objective='regression', random_state=42,\n",
              "              reg_alpha=0.3923124608133837, reg_lambda=0.08736092603745824,\n",
              "              subsample=0.825)"
            ],
            "text/html": [
              "<style>#sk-container-id-3 {\n",
              "  /* Definition of color scheme common for light and dark mode */\n",
              "  --sklearn-color-text: black;\n",
              "  --sklearn-color-line: gray;\n",
              "  /* Definition of color scheme for unfitted estimators */\n",
              "  --sklearn-color-unfitted-level-0: #fff5e6;\n",
              "  --sklearn-color-unfitted-level-1: #f6e4d2;\n",
              "  --sklearn-color-unfitted-level-2: #ffe0b3;\n",
              "  --sklearn-color-unfitted-level-3: chocolate;\n",
              "  /* Definition of color scheme for fitted estimators */\n",
              "  --sklearn-color-fitted-level-0: #f0f8ff;\n",
              "  --sklearn-color-fitted-level-1: #d4ebff;\n",
              "  --sklearn-color-fitted-level-2: #b3dbfd;\n",
              "  --sklearn-color-fitted-level-3: cornflowerblue;\n",
              "\n",
              "  /* Specific color for light theme */\n",
              "  --sklearn-color-text-on-default-background: var(--sg-text-color, var(--theme-code-foreground, var(--jp-content-font-color1, black)));\n",
              "  --sklearn-color-background: var(--sg-background-color, var(--theme-background, var(--jp-layout-color0, white)));\n",
              "  --sklearn-color-border-box: var(--sg-text-color, var(--theme-code-foreground, var(--jp-content-font-color1, black)));\n",
              "  --sklearn-color-icon: #696969;\n",
              "\n",
              "  @media (prefers-color-scheme: dark) {\n",
              "    /* Redefinition of color scheme for dark theme */\n",
              "    --sklearn-color-text-on-default-background: var(--sg-text-color, var(--theme-code-foreground, var(--jp-content-font-color1, white)));\n",
              "    --sklearn-color-background: var(--sg-background-color, var(--theme-background, var(--jp-layout-color0, #111)));\n",
              "    --sklearn-color-border-box: var(--sg-text-color, var(--theme-code-foreground, var(--jp-content-font-color1, white)));\n",
              "    --sklearn-color-icon: #878787;\n",
              "  }\n",
              "}\n",
              "\n",
              "#sk-container-id-3 {\n",
              "  color: var(--sklearn-color-text);\n",
              "}\n",
              "\n",
              "#sk-container-id-3 pre {\n",
              "  padding: 0;\n",
              "}\n",
              "\n",
              "#sk-container-id-3 input.sk-hidden--visually {\n",
              "  border: 0;\n",
              "  clip: rect(1px 1px 1px 1px);\n",
              "  clip: rect(1px, 1px, 1px, 1px);\n",
              "  height: 1px;\n",
              "  margin: -1px;\n",
              "  overflow: hidden;\n",
              "  padding: 0;\n",
              "  position: absolute;\n",
              "  width: 1px;\n",
              "}\n",
              "\n",
              "#sk-container-id-3 div.sk-dashed-wrapped {\n",
              "  border: 1px dashed var(--sklearn-color-line);\n",
              "  margin: 0 0.4em 0.5em 0.4em;\n",
              "  box-sizing: border-box;\n",
              "  padding-bottom: 0.4em;\n",
              "  background-color: var(--sklearn-color-background);\n",
              "}\n",
              "\n",
              "#sk-container-id-3 div.sk-container {\n",
              "  /* jupyter's `normalize.less` sets `[hidden] { display: none; }`\n",
              "     but bootstrap.min.css set `[hidden] { display: none !important; }`\n",
              "     so we also need the `!important` here to be able to override the\n",
              "     default hidden behavior on the sphinx rendered scikit-learn.org.\n",
              "     See: https://github.com/scikit-learn/scikit-learn/issues/21755 */\n",
              "  display: inline-block !important;\n",
              "  position: relative;\n",
              "}\n",
              "\n",
              "#sk-container-id-3 div.sk-text-repr-fallback {\n",
              "  display: none;\n",
              "}\n",
              "\n",
              "div.sk-parallel-item,\n",
              "div.sk-serial,\n",
              "div.sk-item {\n",
              "  /* draw centered vertical line to link estimators */\n",
              "  background-image: linear-gradient(var(--sklearn-color-text-on-default-background), var(--sklearn-color-text-on-default-background));\n",
              "  background-size: 2px 100%;\n",
              "  background-repeat: no-repeat;\n",
              "  background-position: center center;\n",
              "}\n",
              "\n",
              "/* Parallel-specific style estimator block */\n",
              "\n",
              "#sk-container-id-3 div.sk-parallel-item::after {\n",
              "  content: \"\";\n",
              "  width: 100%;\n",
              "  border-bottom: 2px solid var(--sklearn-color-text-on-default-background);\n",
              "  flex-grow: 1;\n",
              "}\n",
              "\n",
              "#sk-container-id-3 div.sk-parallel {\n",
              "  display: flex;\n",
              "  align-items: stretch;\n",
              "  justify-content: center;\n",
              "  background-color: var(--sklearn-color-background);\n",
              "  position: relative;\n",
              "}\n",
              "\n",
              "#sk-container-id-3 div.sk-parallel-item {\n",
              "  display: flex;\n",
              "  flex-direction: column;\n",
              "}\n",
              "\n",
              "#sk-container-id-3 div.sk-parallel-item:first-child::after {\n",
              "  align-self: flex-end;\n",
              "  width: 50%;\n",
              "}\n",
              "\n",
              "#sk-container-id-3 div.sk-parallel-item:last-child::after {\n",
              "  align-self: flex-start;\n",
              "  width: 50%;\n",
              "}\n",
              "\n",
              "#sk-container-id-3 div.sk-parallel-item:only-child::after {\n",
              "  width: 0;\n",
              "}\n",
              "\n",
              "/* Serial-specific style estimator block */\n",
              "\n",
              "#sk-container-id-3 div.sk-serial {\n",
              "  display: flex;\n",
              "  flex-direction: column;\n",
              "  align-items: center;\n",
              "  background-color: var(--sklearn-color-background);\n",
              "  padding-right: 1em;\n",
              "  padding-left: 1em;\n",
              "}\n",
              "\n",
              "\n",
              "/* Toggleable style: style used for estimator/Pipeline/ColumnTransformer box that is\n",
              "clickable and can be expanded/collapsed.\n",
              "- Pipeline and ColumnTransformer use this feature and define the default style\n",
              "- Estimators will overwrite some part of the style using the `sk-estimator` class\n",
              "*/\n",
              "\n",
              "/* Pipeline and ColumnTransformer style (default) */\n",
              "\n",
              "#sk-container-id-3 div.sk-toggleable {\n",
              "  /* Default theme specific background. It is overwritten whether we have a\n",
              "  specific estimator or a Pipeline/ColumnTransformer */\n",
              "  background-color: var(--sklearn-color-background);\n",
              "}\n",
              "\n",
              "/* Toggleable label */\n",
              "#sk-container-id-3 label.sk-toggleable__label {\n",
              "  cursor: pointer;\n",
              "  display: block;\n",
              "  width: 100%;\n",
              "  margin-bottom: 0;\n",
              "  padding: 0.5em;\n",
              "  box-sizing: border-box;\n",
              "  text-align: center;\n",
              "}\n",
              "\n",
              "#sk-container-id-3 label.sk-toggleable__label-arrow:before {\n",
              "  /* Arrow on the left of the label */\n",
              "  content: \"▸\";\n",
              "  float: left;\n",
              "  margin-right: 0.25em;\n",
              "  color: var(--sklearn-color-icon);\n",
              "}\n",
              "\n",
              "#sk-container-id-3 label.sk-toggleable__label-arrow:hover:before {\n",
              "  color: var(--sklearn-color-text);\n",
              "}\n",
              "\n",
              "/* Toggleable content - dropdown */\n",
              "\n",
              "#sk-container-id-3 div.sk-toggleable__content {\n",
              "  max-height: 0;\n",
              "  max-width: 0;\n",
              "  overflow: hidden;\n",
              "  text-align: left;\n",
              "  /* unfitted */\n",
              "  background-color: var(--sklearn-color-unfitted-level-0);\n",
              "}\n",
              "\n",
              "#sk-container-id-3 div.sk-toggleable__content.fitted {\n",
              "  /* fitted */\n",
              "  background-color: var(--sklearn-color-fitted-level-0);\n",
              "}\n",
              "\n",
              "#sk-container-id-3 div.sk-toggleable__content pre {\n",
              "  margin: 0.2em;\n",
              "  border-radius: 0.25em;\n",
              "  color: var(--sklearn-color-text);\n",
              "  /* unfitted */\n",
              "  background-color: var(--sklearn-color-unfitted-level-0);\n",
              "}\n",
              "\n",
              "#sk-container-id-3 div.sk-toggleable__content.fitted pre {\n",
              "  /* unfitted */\n",
              "  background-color: var(--sklearn-color-fitted-level-0);\n",
              "}\n",
              "\n",
              "#sk-container-id-3 input.sk-toggleable__control:checked~div.sk-toggleable__content {\n",
              "  /* Expand drop-down */\n",
              "  max-height: 200px;\n",
              "  max-width: 100%;\n",
              "  overflow: auto;\n",
              "}\n",
              "\n",
              "#sk-container-id-3 input.sk-toggleable__control:checked~label.sk-toggleable__label-arrow:before {\n",
              "  content: \"▾\";\n",
              "}\n",
              "\n",
              "/* Pipeline/ColumnTransformer-specific style */\n",
              "\n",
              "#sk-container-id-3 div.sk-label input.sk-toggleable__control:checked~label.sk-toggleable__label {\n",
              "  color: var(--sklearn-color-text);\n",
              "  background-color: var(--sklearn-color-unfitted-level-2);\n",
              "}\n",
              "\n",
              "#sk-container-id-3 div.sk-label.fitted input.sk-toggleable__control:checked~label.sk-toggleable__label {\n",
              "  background-color: var(--sklearn-color-fitted-level-2);\n",
              "}\n",
              "\n",
              "/* Estimator-specific style */\n",
              "\n",
              "/* Colorize estimator box */\n",
              "#sk-container-id-3 div.sk-estimator input.sk-toggleable__control:checked~label.sk-toggleable__label {\n",
              "  /* unfitted */\n",
              "  background-color: var(--sklearn-color-unfitted-level-2);\n",
              "}\n",
              "\n",
              "#sk-container-id-3 div.sk-estimator.fitted input.sk-toggleable__control:checked~label.sk-toggleable__label {\n",
              "  /* fitted */\n",
              "  background-color: var(--sklearn-color-fitted-level-2);\n",
              "}\n",
              "\n",
              "#sk-container-id-3 div.sk-label label.sk-toggleable__label,\n",
              "#sk-container-id-3 div.sk-label label {\n",
              "  /* The background is the default theme color */\n",
              "  color: var(--sklearn-color-text-on-default-background);\n",
              "}\n",
              "\n",
              "/* On hover, darken the color of the background */\n",
              "#sk-container-id-3 div.sk-label:hover label.sk-toggleable__label {\n",
              "  color: var(--sklearn-color-text);\n",
              "  background-color: var(--sklearn-color-unfitted-level-2);\n",
              "}\n",
              "\n",
              "/* Label box, darken color on hover, fitted */\n",
              "#sk-container-id-3 div.sk-label.fitted:hover label.sk-toggleable__label.fitted {\n",
              "  color: var(--sklearn-color-text);\n",
              "  background-color: var(--sklearn-color-fitted-level-2);\n",
              "}\n",
              "\n",
              "/* Estimator label */\n",
              "\n",
              "#sk-container-id-3 div.sk-label label {\n",
              "  font-family: monospace;\n",
              "  font-weight: bold;\n",
              "  display: inline-block;\n",
              "  line-height: 1.2em;\n",
              "}\n",
              "\n",
              "#sk-container-id-3 div.sk-label-container {\n",
              "  text-align: center;\n",
              "}\n",
              "\n",
              "/* Estimator-specific */\n",
              "#sk-container-id-3 div.sk-estimator {\n",
              "  font-family: monospace;\n",
              "  border: 1px dotted var(--sklearn-color-border-box);\n",
              "  border-radius: 0.25em;\n",
              "  box-sizing: border-box;\n",
              "  margin-bottom: 0.5em;\n",
              "  /* unfitted */\n",
              "  background-color: var(--sklearn-color-unfitted-level-0);\n",
              "}\n",
              "\n",
              "#sk-container-id-3 div.sk-estimator.fitted {\n",
              "  /* fitted */\n",
              "  background-color: var(--sklearn-color-fitted-level-0);\n",
              "}\n",
              "\n",
              "/* on hover */\n",
              "#sk-container-id-3 div.sk-estimator:hover {\n",
              "  /* unfitted */\n",
              "  background-color: var(--sklearn-color-unfitted-level-2);\n",
              "}\n",
              "\n",
              "#sk-container-id-3 div.sk-estimator.fitted:hover {\n",
              "  /* fitted */\n",
              "  background-color: var(--sklearn-color-fitted-level-2);\n",
              "}\n",
              "\n",
              "/* Specification for estimator info (e.g. \"i\" and \"?\") */\n",
              "\n",
              "/* Common style for \"i\" and \"?\" */\n",
              "\n",
              ".sk-estimator-doc-link,\n",
              "a:link.sk-estimator-doc-link,\n",
              "a:visited.sk-estimator-doc-link {\n",
              "  float: right;\n",
              "  font-size: smaller;\n",
              "  line-height: 1em;\n",
              "  font-family: monospace;\n",
              "  background-color: var(--sklearn-color-background);\n",
              "  border-radius: 1em;\n",
              "  height: 1em;\n",
              "  width: 1em;\n",
              "  text-decoration: none !important;\n",
              "  margin-left: 1ex;\n",
              "  /* unfitted */\n",
              "  border: var(--sklearn-color-unfitted-level-1) 1pt solid;\n",
              "  color: var(--sklearn-color-unfitted-level-1);\n",
              "}\n",
              "\n",
              ".sk-estimator-doc-link.fitted,\n",
              "a:link.sk-estimator-doc-link.fitted,\n",
              "a:visited.sk-estimator-doc-link.fitted {\n",
              "  /* fitted */\n",
              "  border: var(--sklearn-color-fitted-level-1) 1pt solid;\n",
              "  color: var(--sklearn-color-fitted-level-1);\n",
              "}\n",
              "\n",
              "/* On hover */\n",
              "div.sk-estimator:hover .sk-estimator-doc-link:hover,\n",
              ".sk-estimator-doc-link:hover,\n",
              "div.sk-label-container:hover .sk-estimator-doc-link:hover,\n",
              ".sk-estimator-doc-link:hover {\n",
              "  /* unfitted */\n",
              "  background-color: var(--sklearn-color-unfitted-level-3);\n",
              "  color: var(--sklearn-color-background);\n",
              "  text-decoration: none;\n",
              "}\n",
              "\n",
              "div.sk-estimator.fitted:hover .sk-estimator-doc-link.fitted:hover,\n",
              ".sk-estimator-doc-link.fitted:hover,\n",
              "div.sk-label-container:hover .sk-estimator-doc-link.fitted:hover,\n",
              ".sk-estimator-doc-link.fitted:hover {\n",
              "  /* fitted */\n",
              "  background-color: var(--sklearn-color-fitted-level-3);\n",
              "  color: var(--sklearn-color-background);\n",
              "  text-decoration: none;\n",
              "}\n",
              "\n",
              "/* Span, style for the box shown on hovering the info icon */\n",
              ".sk-estimator-doc-link span {\n",
              "  display: none;\n",
              "  z-index: 9999;\n",
              "  position: relative;\n",
              "  font-weight: normal;\n",
              "  right: .2ex;\n",
              "  padding: .5ex;\n",
              "  margin: .5ex;\n",
              "  width: min-content;\n",
              "  min-width: 20ex;\n",
              "  max-width: 50ex;\n",
              "  color: var(--sklearn-color-text);\n",
              "  box-shadow: 2pt 2pt 4pt #999;\n",
              "  /* unfitted */\n",
              "  background: var(--sklearn-color-unfitted-level-0);\n",
              "  border: .5pt solid var(--sklearn-color-unfitted-level-3);\n",
              "}\n",
              "\n",
              ".sk-estimator-doc-link.fitted span {\n",
              "  /* fitted */\n",
              "  background: var(--sklearn-color-fitted-level-0);\n",
              "  border: var(--sklearn-color-fitted-level-3);\n",
              "}\n",
              "\n",
              ".sk-estimator-doc-link:hover span {\n",
              "  display: block;\n",
              "}\n",
              "\n",
              "/* \"?\"-specific style due to the `<a>` HTML tag */\n",
              "\n",
              "#sk-container-id-3 a.estimator_doc_link {\n",
              "  float: right;\n",
              "  font-size: 1rem;\n",
              "  line-height: 1em;\n",
              "  font-family: monospace;\n",
              "  background-color: var(--sklearn-color-background);\n",
              "  border-radius: 1rem;\n",
              "  height: 1rem;\n",
              "  width: 1rem;\n",
              "  text-decoration: none;\n",
              "  /* unfitted */\n",
              "  color: var(--sklearn-color-unfitted-level-1);\n",
              "  border: var(--sklearn-color-unfitted-level-1) 1pt solid;\n",
              "}\n",
              "\n",
              "#sk-container-id-3 a.estimator_doc_link.fitted {\n",
              "  /* fitted */\n",
              "  border: var(--sklearn-color-fitted-level-1) 1pt solid;\n",
              "  color: var(--sklearn-color-fitted-level-1);\n",
              "}\n",
              "\n",
              "/* On hover */\n",
              "#sk-container-id-3 a.estimator_doc_link:hover {\n",
              "  /* unfitted */\n",
              "  background-color: var(--sklearn-color-unfitted-level-3);\n",
              "  color: var(--sklearn-color-background);\n",
              "  text-decoration: none;\n",
              "}\n",
              "\n",
              "#sk-container-id-3 a.estimator_doc_link.fitted:hover {\n",
              "  /* fitted */\n",
              "  background-color: var(--sklearn-color-fitted-level-3);\n",
              "}\n",
              "</style><div id=\"sk-container-id-3\" class=\"sk-top-container\"><div class=\"sk-text-repr-fallback\"><pre>LGBMRegressor(colsample_bytree=0.35, device=&#x27;cpu&#x27;, force_col_wise=True,\n",
              "              learning_rate=0.01, max_depth=5, min_child_samples=78,\n",
              "              objective=&#x27;regression&#x27;, random_state=42,\n",
              "              reg_alpha=0.3923124608133837, reg_lambda=0.08736092603745824,\n",
              "              subsample=0.825)</pre><b>In a Jupyter environment, please rerun this cell to show the HTML representation or trust the notebook. <br />On GitHub, the HTML representation is unable to render, please try loading this page with nbviewer.org.</b></div><div class=\"sk-container\" hidden><div class=\"sk-item\"><div class=\"sk-estimator fitted sk-toggleable\"><input class=\"sk-toggleable__control sk-hidden--visually\" id=\"sk-estimator-id-3\" type=\"checkbox\" checked><label for=\"sk-estimator-id-3\" class=\"sk-toggleable__label fitted sk-toggleable__label-arrow fitted\">&nbsp;LGBMRegressor<span class=\"sk-estimator-doc-link fitted\">i<span>Fitted</span></span></label><div class=\"sk-toggleable__content fitted\"><pre>LGBMRegressor(colsample_bytree=0.35, device=&#x27;cpu&#x27;, force_col_wise=True,\n",
              "              learning_rate=0.01, max_depth=5, min_child_samples=78,\n",
              "              objective=&#x27;regression&#x27;, random_state=42,\n",
              "              reg_alpha=0.3923124608133837, reg_lambda=0.08736092603745824,\n",
              "              subsample=0.825)</pre></div> </div></div></div></div>"
            ]
          },
          "metadata": {},
          "execution_count": 73
        }
      ]
    },
    {
      "cell_type": "code",
      "source": [
        "y_final = model.predict(list_files_test)"
      ],
      "metadata": {
        "id": "leyeAvUT4nse"
      },
      "execution_count": null,
      "outputs": []
    },
    {
      "cell_type": "code",
      "source": [
        "df_train_scaled=pd.read_csv(\"/content/drive/MyDrive/Exercises/Studies_Structured_Data/Data/Glucose/X_train_scaled.csv\", index_col=0)\n"
      ],
      "metadata": {
        "colab": {
          "base_uri": "https://localhost:8080/"
        },
        "id": "M0iDt2RkxAF9",
        "outputId": "b864e3a1-5649-4743-e3ac-3f74df72733c"
      },
      "execution_count": null,
      "outputs": [
        {
          "output_type": "execute_result",
          "data": {
            "text/plain": [
              "(177024, 653)"
            ]
          },
          "metadata": {},
          "execution_count": 72
        }
      ]
    },
    {
      "cell_type": "code",
      "source": [
        "df_train_scaled[\"bg+1:00\"].plot()"
      ],
      "metadata": {
        "colab": {
          "base_uri": "https://localhost:8080/",
          "height": 615
        },
        "id": "liHmcjxs0KOi",
        "outputId": "c463e6e6-81c6-4a81-eb79-6cb89933d210"
      },
      "execution_count": null,
      "outputs": [
        {
          "output_type": "execute_result",
          "data": {
            "text/plain": [
              "<Axes: xlabel='id'>"
            ]
          },
          "metadata": {},
          "execution_count": 81
        },
        {
          "output_type": "display_data",
          "data": {
            "text/plain": [
              "<Figure size 960x660 with 1 Axes>"
            ],
            "image/png": "[encoded data removed]"
          },
          "metadata": {}
        }
      ]
    },
    {
      "cell_type": "code",
      "execution_count": null,
      "metadata": {
        "id": "0TTOptuNa9lv",
        "outputId": "d7108b13-842e-4e72-9153-44adeec36093",
        "colab": {
          "base_uri": "https://localhost:8080/",
          "height": 80
        }
      },
      "outputs": [
        {
          "output_type": "execute_result",
          "data": {
            "text/plain": [
              "StandardScaler()"
            ],
            "text/html": [
              "<style>#sk-container-id-4 {\n",
              "  /* Definition of color scheme common for light and dark mode */\n",
              "  --sklearn-color-text: black;\n",
              "  --sklearn-color-line: gray;\n",
              "  /* Definition of color scheme for unfitted estimators */\n",
              "  --sklearn-color-unfitted-level-0: #fff5e6;\n",
              "  --sklearn-color-unfitted-level-1: #f6e4d2;\n",
              "  --sklearn-color-unfitted-level-2: #ffe0b3;\n",
              "  --sklearn-color-unfitted-level-3: chocolate;\n",
              "  /* Definition of color scheme for fitted estimators */\n",
              "  --sklearn-color-fitted-level-0: #f0f8ff;\n",
              "  --sklearn-color-fitted-level-1: #d4ebff;\n",
              "  --sklearn-color-fitted-level-2: #b3dbfd;\n",
              "  --sklearn-color-fitted-level-3: cornflowerblue;\n",
              "\n",
              "  /* Specific color for light theme */\n",
              "  --sklearn-color-text-on-default-background: var(--sg-text-color, var(--theme-code-foreground, var(--jp-content-font-color1, black)));\n",
              "  --sklearn-color-background: var(--sg-background-color, var(--theme-background, var(--jp-layout-color0, white)));\n",
              "  --sklearn-color-border-box: var(--sg-text-color, var(--theme-code-foreground, var(--jp-content-font-color1, black)));\n",
              "  --sklearn-color-icon: #696969;\n",
              "\n",
              "  @media (prefers-color-scheme: dark) {\n",
              "    /* Redefinition of color scheme for dark theme */\n",
              "    --sklearn-color-text-on-default-background: var(--sg-text-color, var(--theme-code-foreground, var(--jp-content-font-color1, white)));\n",
              "    --sklearn-color-background: var(--sg-background-color, var(--theme-background, var(--jp-layout-color0, #111)));\n",
              "    --sklearn-color-border-box: var(--sg-text-color, var(--theme-code-foreground, var(--jp-content-font-color1, white)));\n",
              "    --sklearn-color-icon: #878787;\n",
              "  }\n",
              "}\n",
              "\n",
              "#sk-container-id-4 {\n",
              "  color: var(--sklearn-color-text);\n",
              "}\n",
              "\n",
              "#sk-container-id-4 pre {\n",
              "  padding: 0;\n",
              "}\n",
              "\n",
              "#sk-container-id-4 input.sk-hidden--visually {\n",
              "  border: 0;\n",
              "  clip: rect(1px 1px 1px 1px);\n",
              "  clip: rect(1px, 1px, 1px, 1px);\n",
              "  height: 1px;\n",
              "  margin: -1px;\n",
              "  overflow: hidden;\n",
              "  padding: 0;\n",
              "  position: absolute;\n",
              "  width: 1px;\n",
              "}\n",
              "\n",
              "#sk-container-id-4 div.sk-dashed-wrapped {\n",
              "  border: 1px dashed var(--sklearn-color-line);\n",
              "  margin: 0 0.4em 0.5em 0.4em;\n",
              "  box-sizing: border-box;\n",
              "  padding-bottom: 0.4em;\n",
              "  background-color: var(--sklearn-color-background);\n",
              "}\n",
              "\n",
              "#sk-container-id-4 div.sk-container {\n",
              "  /* jupyter's `normalize.less` sets `[hidden] { display: none; }`\n",
              "     but bootstrap.min.css set `[hidden] { display: none !important; }`\n",
              "     so we also need the `!important` here to be able to override the\n",
              "     default hidden behavior on the sphinx rendered scikit-learn.org.\n",
              "     See: https://github.com/scikit-learn/scikit-learn/issues/21755 */\n",
              "  display: inline-block !important;\n",
              "  position: relative;\n",
              "}\n",
              "\n",
              "#sk-container-id-4 div.sk-text-repr-fallback {\n",
              "  display: none;\n",
              "}\n",
              "\n",
              "div.sk-parallel-item,\n",
              "div.sk-serial,\n",
              "div.sk-item {\n",
              "  /* draw centered vertical line to link estimators */\n",
              "  background-image: linear-gradient(var(--sklearn-color-text-on-default-background), var(--sklearn-color-text-on-default-background));\n",
              "  background-size: 2px 100%;\n",
              "  background-repeat: no-repeat;\n",
              "  background-position: center center;\n",
              "}\n",
              "\n",
              "/* Parallel-specific style estimator block */\n",
              "\n",
              "#sk-container-id-4 div.sk-parallel-item::after {\n",
              "  content: \"\";\n",
              "  width: 100%;\n",
              "  border-bottom: 2px solid var(--sklearn-color-text-on-default-background);\n",
              "  flex-grow: 1;\n",
              "}\n",
              "\n",
              "#sk-container-id-4 div.sk-parallel {\n",
              "  display: flex;\n",
              "  align-items: stretch;\n",
              "  justify-content: center;\n",
              "  background-color: var(--sklearn-color-background);\n",
              "  position: relative;\n",
              "}\n",
              "\n",
              "#sk-container-id-4 div.sk-parallel-item {\n",
              "  display: flex;\n",
              "  flex-direction: column;\n",
              "}\n",
              "\n",
              "#sk-container-id-4 div.sk-parallel-item:first-child::after {\n",
              "  align-self: flex-end;\n",
              "  width: 50%;\n",
              "}\n",
              "\n",
              "#sk-container-id-4 div.sk-parallel-item:last-child::after {\n",
              "  align-self: flex-start;\n",
              "  width: 50%;\n",
              "}\n",
              "\n",
              "#sk-container-id-4 div.sk-parallel-item:only-child::after {\n",
              "  width: 0;\n",
              "}\n",
              "\n",
              "/* Serial-specific style estimator block */\n",
              "\n",
              "#sk-container-id-4 div.sk-serial {\n",
              "  display: flex;\n",
              "  flex-direction: column;\n",
              "  align-items: center;\n",
              "  background-color: var(--sklearn-color-background);\n",
              "  padding-right: 1em;\n",
              "  padding-left: 1em;\n",
              "}\n",
              "\n",
              "\n",
              "/* Toggleable style: style used for estimator/Pipeline/ColumnTransformer box that is\n",
              "clickable and can be expanded/collapsed.\n",
              "- Pipeline and ColumnTransformer use this feature and define the default style\n",
              "- Estimators will overwrite some part of the style using the `sk-estimator` class\n",
              "*/\n",
              "\n",
              "/* Pipeline and ColumnTransformer style (default) */\n",
              "\n",
              "#sk-container-id-4 div.sk-toggleable {\n",
              "  /* Default theme specific background. It is overwritten whether we have a\n",
              "  specific estimator or a Pipeline/ColumnTransformer */\n",
              "  background-color: var(--sklearn-color-background);\n",
              "}\n",
              "\n",
              "/* Toggleable label */\n",
              "#sk-container-id-4 label.sk-toggleable__label {\n",
              "  cursor: pointer;\n",
              "  display: block;\n",
              "  width: 100%;\n",
              "  margin-bottom: 0;\n",
              "  padding: 0.5em;\n",
              "  box-sizing: border-box;\n",
              "  text-align: center;\n",
              "}\n",
              "\n",
              "#sk-container-id-4 label.sk-toggleable__label-arrow:before {\n",
              "  /* Arrow on the left of the label */\n",
              "  content: \"▸\";\n",
              "  float: left;\n",
              "  margin-right: 0.25em;\n",
              "  color: var(--sklearn-color-icon);\n",
              "}\n",
              "\n",
              "#sk-container-id-4 label.sk-toggleable__label-arrow:hover:before {\n",
              "  color: var(--sklearn-color-text);\n",
              "}\n",
              "\n",
              "/* Toggleable content - dropdown */\n",
              "\n",
              "#sk-container-id-4 div.sk-toggleable__content {\n",
              "  max-height: 0;\n",
              "  max-width: 0;\n",
              "  overflow: hidden;\n",
              "  text-align: left;\n",
              "  /* unfitted */\n",
              "  background-color: var(--sklearn-color-unfitted-level-0);\n",
              "}\n",
              "\n",
              "#sk-container-id-4 div.sk-toggleable__content.fitted {\n",
              "  /* fitted */\n",
              "  background-color: var(--sklearn-color-fitted-level-0);\n",
              "}\n",
              "\n",
              "#sk-container-id-4 div.sk-toggleable__content pre {\n",
              "  margin: 0.2em;\n",
              "  border-radius: 0.25em;\n",
              "  color: var(--sklearn-color-text);\n",
              "  /* unfitted */\n",
              "  background-color: var(--sklearn-color-unfitted-level-0);\n",
              "}\n",
              "\n",
              "#sk-container-id-4 div.sk-toggleable__content.fitted pre {\n",
              "  /* unfitted */\n",
              "  background-color: var(--sklearn-color-fitted-level-0);\n",
              "}\n",
              "\n",
              "#sk-container-id-4 input.sk-toggleable__control:checked~div.sk-toggleable__content {\n",
              "  /* Expand drop-down */\n",
              "  max-height: 200px;\n",
              "  max-width: 100%;\n",
              "  overflow: auto;\n",
              "}\n",
              "\n",
              "#sk-container-id-4 input.sk-toggleable__control:checked~label.sk-toggleable__label-arrow:before {\n",
              "  content: \"▾\";\n",
              "}\n",
              "\n",
              "/* Pipeline/ColumnTransformer-specific style */\n",
              "\n",
              "#sk-container-id-4 div.sk-label input.sk-toggleable__control:checked~label.sk-toggleable__label {\n",
              "  color: var(--sklearn-color-text);\n",
              "  background-color: var(--sklearn-color-unfitted-level-2);\n",
              "}\n",
              "\n",
              "#sk-container-id-4 div.sk-label.fitted input.sk-toggleable__control:checked~label.sk-toggleable__label {\n",
              "  background-color: var(--sklearn-color-fitted-level-2);\n",
              "}\n",
              "\n",
              "/* Estimator-specific style */\n",
              "\n",
              "/* Colorize estimator box */\n",
              "#sk-container-id-4 div.sk-estimator input.sk-toggleable__control:checked~label.sk-toggleable__label {\n",
              "  /* unfitted */\n",
              "  background-color: var(--sklearn-color-unfitted-level-2);\n",
              "}\n",
              "\n",
              "#sk-container-id-4 div.sk-estimator.fitted input.sk-toggleable__control:checked~label.sk-toggleable__label {\n",
              "  /* fitted */\n",
              "  background-color: var(--sklearn-color-fitted-level-2);\n",
              "}\n",
              "\n",
              "#sk-container-id-4 div.sk-label label.sk-toggleable__label,\n",
              "#sk-container-id-4 div.sk-label label {\n",
              "  /* The background is the default theme color */\n",
              "  color: var(--sklearn-color-text-on-default-background);\n",
              "}\n",
              "\n",
              "/* On hover, darken the color of the background */\n",
              "#sk-container-id-4 div.sk-label:hover label.sk-toggleable__label {\n",
              "  color: var(--sklearn-color-text);\n",
              "  background-color: var(--sklearn-color-unfitted-level-2);\n",
              "}\n",
              "\n",
              "/* Label box, darken color on hover, fitted */\n",
              "#sk-container-id-4 div.sk-label.fitted:hover label.sk-toggleable__label.fitted {\n",
              "  color: var(--sklearn-color-text);\n",
              "  background-color: var(--sklearn-color-fitted-level-2);\n",
              "}\n",
              "\n",
              "/* Estimator label */\n",
              "\n",
              "#sk-container-id-4 div.sk-label label {\n",
              "  font-family: monospace;\n",
              "  font-weight: bold;\n",
              "  display: inline-block;\n",
              "  line-height: 1.2em;\n",
              "}\n",
              "\n",
              "#sk-container-id-4 div.sk-label-container {\n",
              "  text-align: center;\n",
              "}\n",
              "\n",
              "/* Estimator-specific */\n",
              "#sk-container-id-4 div.sk-estimator {\n",
              "  font-family: monospace;\n",
              "  border: 1px dotted var(--sklearn-color-border-box);\n",
              "  border-radius: 0.25em;\n",
              "  box-sizing: border-box;\n",
              "  margin-bottom: 0.5em;\n",
              "  /* unfitted */\n",
              "  background-color: var(--sklearn-color-unfitted-level-0);\n",
              "}\n",
              "\n",
              "#sk-container-id-4 div.sk-estimator.fitted {\n",
              "  /* fitted */\n",
              "  background-color: var(--sklearn-color-fitted-level-0);\n",
              "}\n",
              "\n",
              "/* on hover */\n",
              "#sk-container-id-4 div.sk-estimator:hover {\n",
              "  /* unfitted */\n",
              "  background-color: var(--sklearn-color-unfitted-level-2);\n",
              "}\n",
              "\n",
              "#sk-container-id-4 div.sk-estimator.fitted:hover {\n",
              "  /* fitted */\n",
              "  background-color: var(--sklearn-color-fitted-level-2);\n",
              "}\n",
              "\n",
              "/* Specification for estimator info (e.g. \"i\" and \"?\") */\n",
              "\n",
              "/* Common style for \"i\" and \"?\" */\n",
              "\n",
              ".sk-estimator-doc-link,\n",
              "a:link.sk-estimator-doc-link,\n",
              "a:visited.sk-estimator-doc-link {\n",
              "  float: right;\n",
              "  font-size: smaller;\n",
              "  line-height: 1em;\n",
              "  font-family: monospace;\n",
              "  background-color: var(--sklearn-color-background);\n",
              "  border-radius: 1em;\n",
              "  height: 1em;\n",
              "  width: 1em;\n",
              "  text-decoration: none !important;\n",
              "  margin-left: 1ex;\n",
              "  /* unfitted */\n",
              "  border: var(--sklearn-color-unfitted-level-1) 1pt solid;\n",
              "  color: var(--sklearn-color-unfitted-level-1);\n",
              "}\n",
              "\n",
              ".sk-estimator-doc-link.fitted,\n",
              "a:link.sk-estimator-doc-link.fitted,\n",
              "a:visited.sk-estimator-doc-link.fitted {\n",
              "  /* fitted */\n",
              "  border: var(--sklearn-color-fitted-level-1) 1pt solid;\n",
              "  color: var(--sklearn-color-fitted-level-1);\n",
              "}\n",
              "\n",
              "/* On hover */\n",
              "div.sk-estimator:hover .sk-estimator-doc-link:hover,\n",
              ".sk-estimator-doc-link:hover,\n",
              "div.sk-label-container:hover .sk-estimator-doc-link:hover,\n",
              ".sk-estimator-doc-link:hover {\n",
              "  /* unfitted */\n",
              "  background-color: var(--sklearn-color-unfitted-level-3);\n",
              "  color: var(--sklearn-color-background);\n",
              "  text-decoration: none;\n",
              "}\n",
              "\n",
              "div.sk-estimator.fitted:hover .sk-estimator-doc-link.fitted:hover,\n",
              ".sk-estimator-doc-link.fitted:hover,\n",
              "div.sk-label-container:hover .sk-estimator-doc-link.fitted:hover,\n",
              ".sk-estimator-doc-link.fitted:hover {\n",
              "  /* fitted */\n",
              "  background-color: var(--sklearn-color-fitted-level-3);\n",
              "  color: var(--sklearn-color-background);\n",
              "  text-decoration: none;\n",
              "}\n",
              "\n",
              "/* Span, style for the box shown on hovering the info icon */\n",
              ".sk-estimator-doc-link span {\n",
              "  display: none;\n",
              "  z-index: 9999;\n",
              "  position: relative;\n",
              "  font-weight: normal;\n",
              "  right: .2ex;\n",
              "  padding: .5ex;\n",
              "  margin: .5ex;\n",
              "  width: min-content;\n",
              "  min-width: 20ex;\n",
              "  max-width: 50ex;\n",
              "  color: var(--sklearn-color-text);\n",
              "  box-shadow: 2pt 2pt 4pt #999;\n",
              "  /* unfitted */\n",
              "  background: var(--sklearn-color-unfitted-level-0);\n",
              "  border: .5pt solid var(--sklearn-color-unfitted-level-3);\n",
              "}\n",
              "\n",
              ".sk-estimator-doc-link.fitted span {\n",
              "  /* fitted */\n",
              "  background: var(--sklearn-color-fitted-level-0);\n",
              "  border: var(--sklearn-color-fitted-level-3);\n",
              "}\n",
              "\n",
              ".sk-estimator-doc-link:hover span {\n",
              "  display: block;\n",
              "}\n",
              "\n",
              "/* \"?\"-specific style due to the `<a>` HTML tag */\n",
              "\n",
              "#sk-container-id-4 a.estimator_doc_link {\n",
              "  float: right;\n",
              "  font-size: 1rem;\n",
              "  line-height: 1em;\n",
              "  font-family: monospace;\n",
              "  background-color: var(--sklearn-color-background);\n",
              "  border-radius: 1rem;\n",
              "  height: 1rem;\n",
              "  width: 1rem;\n",
              "  text-decoration: none;\n",
              "  /* unfitted */\n",
              "  color: var(--sklearn-color-unfitted-level-1);\n",
              "  border: var(--sklearn-color-unfitted-level-1) 1pt solid;\n",
              "}\n",
              "\n",
              "#sk-container-id-4 a.estimator_doc_link.fitted {\n",
              "  /* fitted */\n",
              "  border: var(--sklearn-color-fitted-level-1) 1pt solid;\n",
              "  color: var(--sklearn-color-fitted-level-1);\n",
              "}\n",
              "\n",
              "/* On hover */\n",
              "#sk-container-id-4 a.estimator_doc_link:hover {\n",
              "  /* unfitted */\n",
              "  background-color: var(--sklearn-color-unfitted-level-3);\n",
              "  color: var(--sklearn-color-background);\n",
              "  text-decoration: none;\n",
              "}\n",
              "\n",
              "#sk-container-id-4 a.estimator_doc_link.fitted:hover {\n",
              "  /* fitted */\n",
              "  background-color: var(--sklearn-color-fitted-level-3);\n",
              "}\n",
              "</style><div id=\"sk-container-id-4\" class=\"sk-top-container\"><div class=\"sk-text-repr-fallback\"><pre>StandardScaler()</pre><b>In a Jupyter environment, please rerun this cell to show the HTML representation or trust the notebook. <br />On GitHub, the HTML representation is unable to render, please try loading this page with nbviewer.org.</b></div><div class=\"sk-container\" hidden><div class=\"sk-item\"><div class=\"sk-estimator fitted sk-toggleable\"><input class=\"sk-toggleable__control sk-hidden--visually\" id=\"sk-estimator-id-4\" type=\"checkbox\" checked><label for=\"sk-estimator-id-4\" class=\"sk-toggleable__label fitted sk-toggleable__label-arrow fitted\">&nbsp;&nbsp;StandardScaler<a class=\"sk-estimator-doc-link fitted\" rel=\"noreferrer\" target=\"_blank\" href=\"https://scikit-learn.org/1.5/modules/generated/sklearn.preprocessing.StandardScaler.html\">?<span>Documentation for StandardScaler</span></a><span class=\"sk-estimator-doc-link fitted\">i<span>Fitted</span></span></label><div class=\"sk-toggleable__content fitted\"><pre>StandardScaler()</pre></div> </div></div></div></div>"
            ]
          },
          "metadata": {},
          "execution_count": 75
        }
      ],
      "source": [
        "target_scaler = StandardScaler()\n",
        "target_scaler.fit(df_train_scaled[\"bg+1:00\"].values.reshape(-1, 1))"
      ]
    },
    {
      "cell_type": "code",
      "execution_count": null,
      "metadata": {
        "id": "w3HBL9dNa9lw"
      },
      "outputs": [],
      "source": [
        "pred_resc = target_scaler.inverse_transform(y_final.reshape(-1,1))"
      ]
    },
    {
      "cell_type": "code",
      "execution_count": null,
      "metadata": {
        "colab": {
          "base_uri": "https://localhost:8080/"
        },
        "outputId": "73e4ebbb-9333-4725-a9c7-e4158be27b01",
        "id": "ccVfWKkL6HgC"
      },
      "outputs": [
        {
          "output_type": "execute_result",
          "data": {
            "text/plain": [
              "(3644, 2)"
            ]
          },
          "metadata": {},
          "execution_count": 77
        }
      ],
      "source": [
        "sub = pd.read_csv(\"/content/drive/MyDrive/Exercises/Studies_Structured_Data/Data/Glucose/sample_submission.csv\")\n",
        "sub.shape"
      ]
    },
    {
      "cell_type": "code",
      "execution_count": null,
      "metadata": {
        "id": "Ai1ynGC96HgD"
      },
      "outputs": [],
      "source": [
        "sub[\"bg+1:00\"] = pred_resc"
      ]
    },
    {
      "cell_type": "code",
      "execution_count": null,
      "metadata": {
        "id": "QFnbAzBR6HgD"
      },
      "outputs": [],
      "source": [
        "sub.to_csv(f\"/content/drive/MyDrive/Exercises/Studies_Structured_Data/Data/Glucose/submissions/Submission_encoder_ensemble.csv\", index=False)"
      ]
    },
    {
      "cell_type": "code",
      "source": [
        "sub[\"bg+1:00\"].plot()"
      ],
      "metadata": {
        "id": "SjD9Xni06HMV",
        "colab": {
          "base_uri": "https://localhost:8080/",
          "height": 590
        },
        "outputId": "01f7cf93-a963-4153-9407-9e4e912922e4"
      },
      "execution_count": null,
      "outputs": [
        {
          "output_type": "execute_result",
          "data": {
            "text/plain": [
              "<Axes: >"
            ]
          },
          "metadata": {},
          "execution_count": 79
        },
        {
          "output_type": "display_data",
          "data": {
            "text/plain": [
              "<Figure size 960x660 with 1 Axes>"
            ],
            "image/png": "[encoded data removed]"
          },
          "metadata": {}
        }
      ]
    },
    {
      "cell_type": "markdown",
      "metadata": {
        "id": "WdywNnaM7mr2"
      },
      "source": [
        "# END"
      ]
    },
    {
      "cell_type": "code",
      "execution_count": null,
      "metadata": {
        "id": "dGLMkSsIN6dK"
      },
      "outputs": [],
      "source": [
        "df_train_final.head()"
      ]
    },
    {
      "cell_type": "code",
      "execution_count": null,
      "metadata": {
        "id": "--6OYMHtOBgL"
      },
      "outputs": [],
      "source": []
    }
  ],
  "metadata": {
    "colab": {
      "machine_shape": "hm",
      "provenance": [],
      "gpuType": "L4",
      "include_colab_link": true
    },
    "kernelspec": {
      "display_name": "Python 3",
      "name": "python3"
    },
    "language_info": {
      "name": "python"
    },
    "accelerator": "GPU"
  },
  "nbformat": 4,
  "nbformat_minor": 0
}