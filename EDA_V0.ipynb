{
  "nbformat": 4,
  "nbformat_minor": 0,
  "metadata": {
    "colab": {
      "provenance": [],
      "toc_visible": true,
      "machine_shape": "hm",
      "include_colab_link": true
    },
    "kernelspec": {
      "name": "python3",
      "display_name": "Python 3"
    },
    "language_info": {
      "name": "python"
    }
  },
  "cells": [
    {
      "cell_type": "markdown",
      "metadata": {
        "id": "view-in-github",
        "colab_type": "text"
      },
      "source": [
        "<a href=\"https://colab.research.google.com/github/fabriziobasso/Colab_backup/blob/main/EDA_V0.ipynb\" target=\"_parent\"><img src=\"https://colab.research.google.com/assets/colab-badge.svg\" alt=\"Open In Colab\"/></a>"
      ]
    },
    {
      "cell_type": "markdown",
      "source": [
        "# **S4E12 - Insurance Premium Prediction Dataset**\n",
        "\n",
        "## Problem Statement\n",
        "\n",
        "The goal of this dataset is to facilitate the development and testing of regression models for predicting insurance premiums based on various customer characteristics and policy details. Insurance companies often rely on data-driven approaches to estimate premiums, taking into account factors such as age, income, health status, and claim history. This synthetic dataset simulates real-world scenarios to help practitioners practice feature engineering, data cleaning, and model training.\n",
        "\n",
        "## Dataset Overview\n",
        "\n",
        "This dataset contains 2Lk+ and 20 features with a mix of categorical, numerical, and text data. It includes missing values, incorrect data types, and skewed distributions to mimic the complexities faced in real-world datasets. The target variable for prediction is the \"Premium Amount\".\n",
        "\n",
        "### Features\n",
        "\n",
        "1. Age: Age of the insured individual (Numerical)\n",
        "2. Gender: Gender of the insured individual (Categorical: Male, Female)\n",
        "3. Annual Income: Annual income of the insured individual (Numerical, skewed)\n",
        "4. Marital Status: Marital status of the insured individual (Categorical: Single, Married, Divorced)\n",
        "5. Number of Dependents: Number of dependents (Numerical, with missing values)\n",
        "6. Education Level: Highest education level attained (Categorical: High School, Bachelor's, Master's, PhD)\n",
        "7. Occupation: Occupation of the insured individual (Categorical: Employed, Self-Employed, Unemployed)\n",
        "8. Health Score: A score representing the health status (Numerical, skewed)\n",
        "9. Location: Type of location (Categorical: Urban, Suburban, Rural)\n",
        "10. Policy Type: Type of insurance policy (Categorical: Basic, Comprehensive, Premium)\n",
        "11. Previous Claims: Number of previous claims made (Numerical, with outliers)\n",
        "12. Vehicle Age: Age of the vehicle insured (Numerical)\n",
        "13. Credit Score: Credit score of the insured individual (Numerical, with missing values)\n",
        "14. Insurance Duration: Duration of the insurance policy (Numerical, in years)\n",
        "15. Premium Amount: Target variable representing the insurance premium amount (Numerical, skewed)\n",
        "16. Policy Start Date: Start date of the insurance policy (Text, improperly formatted)\n",
        "17. Customer Feedback: Short feedback comments from customers (Text)\n",
        "18. Smoking Status: Smoking status of the insured individual (Categorical: Yes, No)\n",
        "19. Exercise Frequency: Frequency of exercise (Categorical: Daily, Weekly, Monthly, Rarely)\n",
        "20. Property Type: Type of property owned (Categorical: House, Apartment, Condo)\n",
        "\n",
        "# Data Characteristics\n",
        "\n",
        "- Missing Values: Certain features contain missing values to simulate real-world data collection issues.\n",
        "- Incorrect Data Types: Some fields are intentionally set to incorrect data types to practice data cleaning.\n",
        "- Skewed Distributions: Numerical features like **Annual Income** and **Premium Amount** have skewed distributions, which can be addressed through transformations."
      ],
      "metadata": {
        "id": "eGa3SjrXsW_F"
      }
    },
    {
      "cell_type": "code",
      "source": [
        "%%capture\n",
        "!pip install -qq pytorch_tabnet\n",
        "!pip install optuna\n",
        "!pip install catboost\n",
        "!pip install optuna-integration-pytorch-tabnet\n",
        "\n",
        "from pytorch_tabnet.tab_model import TabNetRegressor\n",
        "\n",
        "!pip install category-encoders\n",
        "!pip install optuna-integration\n",
        "\n",
        "!pip install keras-tuner --upgrade\n",
        "!pip install keras-nlp\n",
        "!pip install BorutaShap\n",
        "!pip install scikit-lego\n",
        "!pip install skops\n",
        "\n",
        "from pytorch_tabnet.tab_model import TabNetRegressor"
      ],
      "metadata": {
        "trusted": true,
        "id": "6rYYQgW0Rmxv"
      },
      "outputs": [],
      "execution_count": 108
    },
    {
      "cell_type": "code",
      "source": [
        "# Setup notebook\n",
        "from pathlib import Path\n",
        "import ipywidgets as widgets\n",
        "import pandas as pd\n",
        "import numpy as np\n",
        "from pickle import load, dump\n",
        "import json\n",
        "import joblib\n",
        "#import calplot as cal\n",
        "\n",
        "# Graphic Libraries:\n",
        "import seaborn as sns\n",
        "import matplotlib as mpl\n",
        "import matplotlib.pyplot as plt\n",
        "import matplotlib.patches as patches\n",
        "import matplotlib.image as mpimg\n",
        "# Set Style\n",
        "sns.set_style(\"whitegrid\",{\"grid.linestyle\":\"--\", 'grid.linewidth':0.2, 'grid.alpha':0.5});\n",
        "sns.despine(left=True, bottom=True, top=False, right=False);\n",
        "mpl.rcParams['figure.dpi'] = 120;\n",
        "mpl.rc('axes', labelsize=12);\n",
        "plt.rc('xtick',labelsize=10);\n",
        "plt.rc('ytick',labelsize=10);\n",
        "\n",
        "mpl.rcParams['axes.spines.top'] = False;\n",
        "mpl.rcParams['axes.spines.right'] = False;\n",
        "mpl.rcParams['axes.spines.left'] = True;\n",
        "\n",
        "# Palette Setup\n",
        "colors = ['#FB5B68','#FFEB48','#2676A1','#FFBDB0',]\n",
        "colormap_0 = mpl.colors.LinearSegmentedColormap.from_list(\"\",colors)\n",
        "palette_1 = sns.color_palette(\"coolwarm\", as_cmap=True)\n",
        "palette_2 = sns.color_palette(\"YlOrBr\", as_cmap=True)\n",
        "palette_3 = sns.light_palette(\"red\", as_cmap=True)\n",
        "palette_4 = sns.color_palette(\"viridis\", as_cmap=True)\n",
        "palette_5 = sns.color_palette(\"rocket\", as_cmap=True)\n",
        "palette_6 = sns.color_palette(\"GnBu\", as_cmap=True)\n",
        "palette_7 = sns.color_palette(\"tab20c\", as_cmap=False)\n",
        "palette_8 = sns.color_palette(\"Set2\", as_cmap=False)\n",
        "\n",
        "palette_custom = ['#fbb4ae','#b3cde3','#ccebc5','#decbe4','#fed9a6','#ffffcc','#e5d8bd','#fddaec','#f2f2f2']\n",
        "palette_9 = sns.color_palette(palette_custom, as_cmap=False)\n",
        "\n",
        "# tool for Excel:\n",
        "from openpyxl import load_workbook, Workbook\n",
        "from openpyxl.drawing.image import Image\n",
        "from openpyxl.styles import Border, Side, PatternFill, Font, GradientFill, Alignment\n",
        "from openpyxl.worksheet.cell_range import CellRange\n",
        "\n",
        "from openpyxl.formatting import Rule\n",
        "from openpyxl.styles import Font, PatternFill, Border\n",
        "from openpyxl.styles.differential import DifferentialStyle\n",
        "\n",
        "# Bloomberg\n",
        "#from xbbg import blp\n",
        "from catboost import CatBoostRegressor, Pool\n",
        "import xgboost as xgb\n",
        "from xgboost import XGBRegressor, XGBClassifier\n",
        "from xgboost.callback import EarlyStopping\n",
        "\n",
        "import lightgbm as lgb\n",
        "from lightgbm import (LGBMRegressor,\n",
        "                      LGBMClassifier,\n",
        "                      early_stopping,\n",
        "                      record_evaluation,\n",
        "                      log_evaluation)\n",
        "\n",
        "# Time Management\n",
        "from tqdm import tqdm\n",
        "from datetime import date\n",
        "from datetime import datetime\n",
        "from pandas.tseries.offsets import BMonthEnd, QuarterEnd\n",
        "import datetime\n",
        "from pandas.tseries.offsets import BDay # BDay is business day, not birthday...\n",
        "import datetime as dt\n",
        "import click\n",
        "import glob\n",
        "import os\n",
        "import gc\n",
        "import re\n",
        "import string\n",
        "\n",
        "from ipywidgets import AppLayout\n",
        "from ipywidgets import Dropdown, Layout, HTML, AppLayout, VBox, Label, HBox, BoundedFloatText, interact, Output\n",
        "\n",
        "#from my_func import *\n",
        "\n",
        "import optuna\n",
        "from optuna.integration import TFKerasPruningCallback\n",
        "from optuna.trial import TrialState\n",
        "from optuna.visualization import plot_intermediate_values\n",
        "from optuna.visualization import plot_optimization_history\n",
        "from optuna.visualization import plot_param_importances\n",
        "from optuna.visualization import plot_contour\n",
        "\n",
        "os.environ[\"KERAS_BACKEND\"] = \"tensorflow\"\n",
        "\n",
        "import numpy as np\n",
        "import tensorflow as tf\n",
        "import keras\n",
        "from keras import ops\n",
        "from keras import layers\n",
        "\n",
        "from keras.layers import Input, LSTM, Dense, Lambda, RepeatVector, Reshape\n",
        "from keras.models import Model\n",
        "from keras.losses import MeanSquaredError\n",
        "from keras.metrics import RootMeanSquaredError\n",
        "\n",
        "from keras.utils import FeatureSpace, plot_model\n",
        "\n",
        "# Import libraries for Hypertuning\n",
        "import kerastuner as kt\n",
        "from kerastuner.tuners import RandomSearch, GridSearch, BayesianOptimization\n",
        "\n",
        "#from my_func import *\n",
        "\n",
        "# preprocessing modules\n",
        "from sklearn.model_selection import train_test_split, KFold, StratifiedKFold, cross_val_score, cross_validate, GroupKFold, GridSearchCV, RepeatedStratifiedKFold, cross_val_predict\n",
        "\n",
        "from sklearn.preprocessing import (LabelEncoder,\n",
        "                                   StandardScaler,\n",
        "                                   MinMaxScaler,\n",
        "                                   OrdinalEncoder,\n",
        "                                   RobustScaler,\n",
        "                                   PowerTransformer,\n",
        "                                   OneHotEncoder,\n",
        "                                   QuantileTransformer,\n",
        "                                   PolynomialFeatures)\n",
        "\n",
        "# metrics\n",
        "import sklearn\n",
        "import skops.io as sio\n",
        "from sklearn.metrics import (mean_squared_error,\n",
        "                             root_mean_squared_error,\n",
        "                             root_mean_squared_log_error,\n",
        "                             r2_score,\n",
        "                             mean_absolute_error,\n",
        "                             mean_absolute_percentage_error,\n",
        "                             classification_report,\n",
        "                             confusion_matrix,\n",
        "                             ConfusionMatrixDisplay,\n",
        "                             multilabel_confusion_matrix,\n",
        "                             accuracy_score,\n",
        "                             roc_auc_score,\n",
        "                             auc,\n",
        "                             roc_curve,\n",
        "                             log_loss,\n",
        "                             make_scorer)\n",
        "# modeling algos\n",
        "from sklearn.linear_model import (LogisticRegression,\n",
        "                                  Lasso,\n",
        "                                  ridge_regression,\n",
        "                                  LinearRegression,\n",
        "                                  Ridge,\n",
        "                                  RidgeCV,\n",
        "                                  ElasticNet,\n",
        "                                  BayesianRidge,\n",
        "                                  HuberRegressor,\n",
        "                                  TweedieRegressor,\n",
        "                                  QuantileRegressor,\n",
        "                                  ARDRegression,\n",
        "                                  TheilSenRegressor,\n",
        "                                  PoissonRegressor,\n",
        "                                  GammaRegressor)\n",
        "\n",
        "from sklearn.ensemble import (AdaBoostRegressor,\n",
        "                              AdaBoostClassifier,\n",
        "                              RandomForestRegressor,\n",
        "                              RandomForestClassifier,\n",
        "                              VotingRegressor,\n",
        "                              GradientBoostingRegressor,\n",
        "                              GradientBoostingClassifier,\n",
        "                              StackingRegressor,\n",
        "                              HistGradientBoostingClassifier,\n",
        "                              HistGradientBoostingRegressor,\n",
        "                              ExtraTreesClassifier)\n",
        "\n",
        "from sklearn.decomposition import PCA, TruncatedSVD\n",
        "from sklearn.compose import ColumnTransformer, make_column_transformer\n",
        "from sklearn.pipeline import Pipeline\n",
        "from sklearn.feature_selection import SelectFromModel\n",
        "from sklearn.preprocessing import FunctionTransformer\n",
        "from sklearn.experimental import enable_iterative_imputer\n",
        "from sklearn.impute import IterativeImputer\n",
        "from sklearn.feature_extraction.text import TfidfVectorizer\n",
        "from sklearn.cluster import KMeans\n",
        "from yellowbrick.cluster import KElbowVisualizer\n",
        "\n",
        "import warnings\n",
        "warnings.filterwarnings(\"ignore\")\n",
        "warnings.filterwarnings(\"ignore\", category=DeprecationWarning)\n",
        "warnings.filterwarnings(\"ignore\", category=FutureWarning)\n",
        "%matplotlib inline\n",
        "\n",
        "from sklearn.linear_model import LinearRegression\n",
        "import numpy as np\n",
        "import seaborn as sns\n",
        "from statsmodels.tsa.deterministic import CalendarFourier, DeterministicProcess\n",
        "\n",
        "from sklearn.multioutput import RegressorChain\n",
        "from sklearn.preprocessing import LabelEncoder\n",
        "from xgboost import XGBRegressor\n",
        "\n",
        "import itertools\n",
        "import warnings\n",
        "from openpyxl import load_workbook\n",
        "\n",
        "import statsmodels.api as sm\n",
        "from pylab import rcParams\n",
        "import scipy.stats as ss\n",
        "\n",
        "warnings.filterwarnings('ignore')\n",
        "#plt.style.use('fivethirtyeight')"
      ],
      "metadata": {
        "colab": {
          "base_uri": "https://localhost:8080/",
          "height": 34
        },
        "id": "vIS1habP8JGi",
        "outputId": "443d7621-f39a-4bd4-afa1-34060896e54f"
      },
      "execution_count": 109,
      "outputs": [
        {
          "output_type": "display_data",
          "data": {
            "text/plain": [
              "<Figure size 960x660 with 0 Axes>"
            ]
          },
          "metadata": {}
        }
      ]
    },
    {
      "cell_type": "code",
      "source": [
        "sns.set({\"axes.facecolor\"       : \"#ffffff\",\n",
        "         \"figure.facecolor\"     : \"#ffffff\",\n",
        "         \"axes.edgecolor\"       : \"#000000\",\n",
        "         \"grid.color\"           : \"#ffffff\",\n",
        "         \"font.family\"          : ['Cambria'],\n",
        "         \"axes.labelcolor\"      : \"#000000\",\n",
        "         \"xtick.color\"          : \"#000000\",\n",
        "         \"ytick.color\"          : \"#000000\",\n",
        "         \"grid.linewidth\"       : 0.5,\n",
        "         'grid.alpha'           :0.5,\n",
        "         \"grid.linestyle\"       : \"--\",\n",
        "         \"axes.titlecolor\"      : 'black',\n",
        "         'axes.titlesize'       : 12,\n",
        "         'axes.labelweight'     : \"bold\",\n",
        "         'legend.fontsize'      : 7.0,\n",
        "         'legend.title_fontsize': 7.0,\n",
        "         'font.size'            : 7.5,\n",
        "         'xtick.labelsize'      : 7.5,\n",
        "         'ytick.labelsize'      : 7.5,\n",
        "        });\n",
        "\n",
        "sns.set_style(\"whitegrid\",{\"grid.linestyle\":\"--\", 'grid.linewidth':0.2, 'grid.alpha':0.5})\n",
        "# Set Style\n",
        "mpl.rcParams['figure.dpi'] = 120;\n",
        "\n",
        "# Making sklearn pipeline outputs as dataframe:-\n",
        "pd.set_option('display.max_columns', 100);\n",
        "pd.set_option('display.max_rows', 50);\n",
        "\n",
        "sns.despine(left=True, bottom=True, top=False, right=False)\n",
        "\n",
        "mpl.rcParams['axes.spines.left'] = True\n",
        "mpl.rcParams['axes.spines.right'] = False\n",
        "mpl.rcParams['axes.spines.top'] = False\n",
        "mpl.rcParams['axes.spines.bottom'] = True"
      ],
      "metadata": {
        "id": "pkkRPWKZCkYa",
        "outputId": "56e18a1a-5ce4-4076-9f78-fd365bd5b8ac",
        "colab": {
          "base_uri": "https://localhost:8080/",
          "height": 34
        }
      },
      "execution_count": 110,
      "outputs": [
        {
          "output_type": "display_data",
          "data": {
            "text/plain": [
              "<Figure size 960x660 with 0 Axes>"
            ]
          },
          "metadata": {}
        }
      ]
    },
    {
      "cell_type": "code",
      "source": [
        "from tqdm import tqdm\n",
        "from itertools import product\n",
        "\n",
        "import numpy as np\n",
        "import pandas as pd\n",
        "import gc\n",
        "import matplotlib.pyplot as plt\n",
        "import seaborn as sns\n",
        "\n",
        "from lightgbm import LGBMRegressor\n",
        "from xgboost import XGBRegressor\n",
        "from catboost import CatBoostRegressor\n",
        "\n",
        "from sklearn.model_selection import GroupKFold\n",
        "from sklearn.impute import SimpleImputer\n",
        "import torch\n",
        "\n",
        "import warnings\n",
        "warnings.filterwarnings(\"ignore\")\n",
        "\n",
        "# Connect to Colab:#\n",
        "from google.colab import drive\n",
        "import os\n",
        "drive.mount('/content/drive')"
      ],
      "metadata": {
        "trusted": true,
        "id": "NU7oWpLHRmxy",
        "colab": {
          "base_uri": "https://localhost:8080/"
        },
        "outputId": "b45210fd-aabf-4b03-c101-15cbe536cd4d"
      },
      "outputs": [
        {
          "output_type": "stream",
          "name": "stdout",
          "text": [
            "Drive already mounted at /content/drive; to attempt to forcibly remount, call drive.mount(\"/content/drive\", force_remount=True).\n"
          ]
        }
      ],
      "execution_count": 111
    },
    {
      "cell_type": "markdown",
      "source": [
        "<div style=\"text-align:center; border-radius:15px; padding:15px; margin:0; font-size:100%; font-family:Arial, sans-serif; background-color:#A8DADC; color:#1D3557; overflow:hidden; box-shadow:0 3px 6px rgba(0, 0, 0, 0.2);\">\n",
        "    <h3>Loading and Preprocessing Data for Compatibility</h3>\n",
        "</div>\n"
      ],
      "metadata": {
        "execution": {
          "iopub.status.busy": "2024-11-09T15:12:43.478314Z",
          "iopub.execute_input": "2024-11-09T15:12:43.478984Z",
          "iopub.status.idle": "2024-11-09T15:12:43.484947Z",
          "shell.execute_reply.started": "2024-11-09T15:12:43.478944Z",
          "shell.execute_reply": "2024-11-09T15:12:43.483728Z"
        },
        "id": "b2PuCulFRmx1"
      }
    },
    {
      "cell_type": "code",
      "source": [
        "df_train = pd.read_csv(\n",
        "    '/content/drive/MyDrive/Exercises/Studies_Structured_Data/Data/S4E12/train.csv',\n",
        "     index_col='id',\n",
        "     parse_dates=['Policy Start Date'],\n",
        ")\n",
        "\n",
        "df_test = pd.read_csv(\n",
        "    '/content/drive/MyDrive/Exercises/Studies_Structured_Data/Data/S4E12/test.csv',\n",
        "     index_col='id',\n",
        "     parse_dates=['Policy Start Date'],\n",
        ")\n",
        "\n",
        "df_subm = pd.read_csv(\n",
        "    \"/content/drive/MyDrive/Exercises/Studies_Structured_Data/Data/S4E12/sample_submission.csv\",\n",
        "     index_col='id',\n",
        ")\n",
        "\n",
        "df_orig = pd.read_csv(\n",
        "    \"/content/drive/MyDrive/Exercises/Studies_Structured_Data/Data/S4E12/Insurance Premium Prediction Dataset.csv\",\n",
        "     parse_dates=['Policy Start Date'],\n",
        "    #     index_col='id',\n",
        ")"
      ],
      "metadata": {
        "trusted": true,
        "id": "3odgloSjRmx4"
      },
      "outputs": [],
      "execution_count": 112
    },
    {
      "cell_type": "code",
      "source": [
        "df_train.shape, df_test.shape, df_subm.shape, df_orig.shape, df_orig.shape"
      ],
      "metadata": {
        "id": "LC4gm5_QCk4w",
        "colab": {
          "base_uri": "https://localhost:8080/"
        },
        "outputId": "4eef650e-43ed-4123-e55c-cbe6fc909780"
      },
      "execution_count": 113,
      "outputs": [
        {
          "output_type": "execute_result",
          "data": {
            "text/plain": [
              "((1200000, 20), (800000, 19), (800000, 1), (278860, 20), (278860, 20))"
            ]
          },
          "metadata": {},
          "execution_count": 113
        }
      ]
    },
    {
      "cell_type": "code",
      "source": [
        "print(\"Pytorch Version: {}\".format(torch.__version__))\n",
        "print(\"SKLearn Version: {}\".format(sklearn.__version__))"
      ],
      "metadata": {
        "id": "hfNl3QRCMvNY",
        "colab": {
          "base_uri": "https://localhost:8080/"
        },
        "outputId": "e6337774-21a4-46b2-af90-9c37725cb76d"
      },
      "execution_count": 114,
      "outputs": [
        {
          "output_type": "stream",
          "name": "stdout",
          "text": [
            "Pytorch Version: 2.5.1+cu121\n",
            "SKLearn Version: 1.5.2\n"
          ]
        }
      ]
    },
    {
      "cell_type": "code",
      "execution_count": 115,
      "metadata": {
        "id": "fFcbYYXVpxI-",
        "colab": {
          "base_uri": "https://localhost:8080/",
          "height": 711
        },
        "outputId": "e3ac165e-18c3-41c0-e32a-8adb62682856"
      },
      "outputs": [
        {
          "output_type": "execute_result",
          "data": {
            "text/plain": [
              "Age                      1.558750\n",
              "Gender                   0.000000\n",
              "Annual Income            3.745750\n",
              "Marital Status           1.544083\n",
              "Number of Dependents     9.139333\n",
              "Education Level          0.000000\n",
              "Occupation              29.839583\n",
              "Health Score             6.173000\n",
              "Location                 0.000000\n",
              "Policy Type              0.000000\n",
              "Previous Claims         30.335750\n",
              "Vehicle Age              0.000500\n",
              "Credit Score            11.490167\n",
              "Insurance Duration       0.000083\n",
              "Policy Start Date        0.000000\n",
              "Customer Feedback        6.485333\n",
              "Smoking Status           0.000000\n",
              "Exercise Frequency       0.000000\n",
              "Property Type            0.000000\n",
              "Premium Amount           0.000000\n",
              "dtype: float64"
            ],
            "text/html": [
              "<div>\n",
              "<style scoped>\n",
              "    .dataframe tbody tr th:only-of-type {\n",
              "        vertical-align: middle;\n",
              "    }\n",
              "\n",
              "    .dataframe tbody tr th {\n",
              "        vertical-align: top;\n",
              "    }\n",
              "\n",
              "    .dataframe thead th {\n",
              "        text-align: right;\n",
              "    }\n",
              "</style>\n",
              "<table border=\"1\" class=\"dataframe\">\n",
              "  <thead>\n",
              "    <tr style=\"text-align: right;\">\n",
              "      <th></th>\n",
              "      <th>0</th>\n",
              "    </tr>\n",
              "  </thead>\n",
              "  <tbody>\n",
              "    <tr>\n",
              "      <th>Age</th>\n",
              "      <td>1.558750</td>\n",
              "    </tr>\n",
              "    <tr>\n",
              "      <th>Gender</th>\n",
              "      <td>0.000000</td>\n",
              "    </tr>\n",
              "    <tr>\n",
              "      <th>Annual Income</th>\n",
              "      <td>3.745750</td>\n",
              "    </tr>\n",
              "    <tr>\n",
              "      <th>Marital Status</th>\n",
              "      <td>1.544083</td>\n",
              "    </tr>\n",
              "    <tr>\n",
              "      <th>Number of Dependents</th>\n",
              "      <td>9.139333</td>\n",
              "    </tr>\n",
              "    <tr>\n",
              "      <th>Education Level</th>\n",
              "      <td>0.000000</td>\n",
              "    </tr>\n",
              "    <tr>\n",
              "      <th>Occupation</th>\n",
              "      <td>29.839583</td>\n",
              "    </tr>\n",
              "    <tr>\n",
              "      <th>Health Score</th>\n",
              "      <td>6.173000</td>\n",
              "    </tr>\n",
              "    <tr>\n",
              "      <th>Location</th>\n",
              "      <td>0.000000</td>\n",
              "    </tr>\n",
              "    <tr>\n",
              "      <th>Policy Type</th>\n",
              "      <td>0.000000</td>\n",
              "    </tr>\n",
              "    <tr>\n",
              "      <th>Previous Claims</th>\n",
              "      <td>30.335750</td>\n",
              "    </tr>\n",
              "    <tr>\n",
              "      <th>Vehicle Age</th>\n",
              "      <td>0.000500</td>\n",
              "    </tr>\n",
              "    <tr>\n",
              "      <th>Credit Score</th>\n",
              "      <td>11.490167</td>\n",
              "    </tr>\n",
              "    <tr>\n",
              "      <th>Insurance Duration</th>\n",
              "      <td>0.000083</td>\n",
              "    </tr>\n",
              "    <tr>\n",
              "      <th>Policy Start Date</th>\n",
              "      <td>0.000000</td>\n",
              "    </tr>\n",
              "    <tr>\n",
              "      <th>Customer Feedback</th>\n",
              "      <td>6.485333</td>\n",
              "    </tr>\n",
              "    <tr>\n",
              "      <th>Smoking Status</th>\n",
              "      <td>0.000000</td>\n",
              "    </tr>\n",
              "    <tr>\n",
              "      <th>Exercise Frequency</th>\n",
              "      <td>0.000000</td>\n",
              "    </tr>\n",
              "    <tr>\n",
              "      <th>Property Type</th>\n",
              "      <td>0.000000</td>\n",
              "    </tr>\n",
              "    <tr>\n",
              "      <th>Premium Amount</th>\n",
              "      <td>0.000000</td>\n",
              "    </tr>\n",
              "  </tbody>\n",
              "</table>\n",
              "</div><br><label><b>dtype:</b> float64</label>"
            ]
          },
          "metadata": {},
          "execution_count": 115
        }
      ],
      "source": [
        "100*df_train.isnull().sum()/df_train.shape[0]"
      ]
    },
    {
      "cell_type": "code",
      "source": [
        "100*df_train.isnull().sum()/df_train.shape[0]"
      ],
      "metadata": {
        "colab": {
          "base_uri": "https://localhost:8080/",
          "height": 711
        },
        "id": "fhQc7vV814Dm",
        "outputId": "3a026882-5932-4a9e-9a9c-48b9449459e4"
      },
      "execution_count": 116,
      "outputs": [
        {
          "output_type": "execute_result",
          "data": {
            "text/plain": [
              "Age                      1.558750\n",
              "Gender                   0.000000\n",
              "Annual Income            3.745750\n",
              "Marital Status           1.544083\n",
              "Number of Dependents     9.139333\n",
              "Education Level          0.000000\n",
              "Occupation              29.839583\n",
              "Health Score             6.173000\n",
              "Location                 0.000000\n",
              "Policy Type              0.000000\n",
              "Previous Claims         30.335750\n",
              "Vehicle Age              0.000500\n",
              "Credit Score            11.490167\n",
              "Insurance Duration       0.000083\n",
              "Policy Start Date        0.000000\n",
              "Customer Feedback        6.485333\n",
              "Smoking Status           0.000000\n",
              "Exercise Frequency       0.000000\n",
              "Property Type            0.000000\n",
              "Premium Amount           0.000000\n",
              "dtype: float64"
            ],
            "text/html": [
              "<div>\n",
              "<style scoped>\n",
              "    .dataframe tbody tr th:only-of-type {\n",
              "        vertical-align: middle;\n",
              "    }\n",
              "\n",
              "    .dataframe tbody tr th {\n",
              "        vertical-align: top;\n",
              "    }\n",
              "\n",
              "    .dataframe thead th {\n",
              "        text-align: right;\n",
              "    }\n",
              "</style>\n",
              "<table border=\"1\" class=\"dataframe\">\n",
              "  <thead>\n",
              "    <tr style=\"text-align: right;\">\n",
              "      <th></th>\n",
              "      <th>0</th>\n",
              "    </tr>\n",
              "  </thead>\n",
              "  <tbody>\n",
              "    <tr>\n",
              "      <th>Age</th>\n",
              "      <td>1.558750</td>\n",
              "    </tr>\n",
              "    <tr>\n",
              "      <th>Gender</th>\n",
              "      <td>0.000000</td>\n",
              "    </tr>\n",
              "    <tr>\n",
              "      <th>Annual Income</th>\n",
              "      <td>3.745750</td>\n",
              "    </tr>\n",
              "    <tr>\n",
              "      <th>Marital Status</th>\n",
              "      <td>1.544083</td>\n",
              "    </tr>\n",
              "    <tr>\n",
              "      <th>Number of Dependents</th>\n",
              "      <td>9.139333</td>\n",
              "    </tr>\n",
              "    <tr>\n",
              "      <th>Education Level</th>\n",
              "      <td>0.000000</td>\n",
              "    </tr>\n",
              "    <tr>\n",
              "      <th>Occupation</th>\n",
              "      <td>29.839583</td>\n",
              "    </tr>\n",
              "    <tr>\n",
              "      <th>Health Score</th>\n",
              "      <td>6.173000</td>\n",
              "    </tr>\n",
              "    <tr>\n",
              "      <th>Location</th>\n",
              "      <td>0.000000</td>\n",
              "    </tr>\n",
              "    <tr>\n",
              "      <th>Policy Type</th>\n",
              "      <td>0.000000</td>\n",
              "    </tr>\n",
              "    <tr>\n",
              "      <th>Previous Claims</th>\n",
              "      <td>30.335750</td>\n",
              "    </tr>\n",
              "    <tr>\n",
              "      <th>Vehicle Age</th>\n",
              "      <td>0.000500</td>\n",
              "    </tr>\n",
              "    <tr>\n",
              "      <th>Credit Score</th>\n",
              "      <td>11.490167</td>\n",
              "    </tr>\n",
              "    <tr>\n",
              "      <th>Insurance Duration</th>\n",
              "      <td>0.000083</td>\n",
              "    </tr>\n",
              "    <tr>\n",
              "      <th>Policy Start Date</th>\n",
              "      <td>0.000000</td>\n",
              "    </tr>\n",
              "    <tr>\n",
              "      <th>Customer Feedback</th>\n",
              "      <td>6.485333</td>\n",
              "    </tr>\n",
              "    <tr>\n",
              "      <th>Smoking Status</th>\n",
              "      <td>0.000000</td>\n",
              "    </tr>\n",
              "    <tr>\n",
              "      <th>Exercise Frequency</th>\n",
              "      <td>0.000000</td>\n",
              "    </tr>\n",
              "    <tr>\n",
              "      <th>Property Type</th>\n",
              "      <td>0.000000</td>\n",
              "    </tr>\n",
              "    <tr>\n",
              "      <th>Premium Amount</th>\n",
              "      <td>0.000000</td>\n",
              "    </tr>\n",
              "  </tbody>\n",
              "</table>\n",
              "</div><br><label><b>dtype:</b> float64</label>"
            ]
          },
          "metadata": {},
          "execution_count": 116
        }
      ]
    },
    {
      "cell_type": "code",
      "source": [
        "categorical_cols = ['Gender', 'Marital Status', 'Education Level', 'Occupation', 'Location', 'Policy Type', 'Customer Feedback', 'Smoking Status', 'Exercise Frequency', 'Property Type']\n",
        "numerical_cols = ['Age', 'Annual Income', 'Health Score', 'Number of Dependents', 'Vehicle Age', 'Credit Score', 'Insurance Duration', 'Previous Claims']\n",
        "time_cols = ['Policy Start Date']\n",
        "target = ['Premium Amount']\n",
        "\n",
        "len(categorical_cols+numerical_cols+target+time_cols),len(df_train.columns)"
      ],
      "metadata": {
        "colab": {
          "base_uri": "https://localhost:8080/"
        },
        "id": "Vg9KpTfF2nvl",
        "outputId": "e947edeb-b5c0-4a4a-cca7-505169fc84c7"
      },
      "execution_count": 117,
      "outputs": [
        {
          "output_type": "execute_result",
          "data": {
            "text/plain": [
              "(20, 20)"
            ]
          },
          "metadata": {},
          "execution_count": 117
        }
      ]
    },
    {
      "cell_type": "markdown",
      "source": [
        "## BASELINE MODELS:"
      ],
      "metadata": {
        "id": "-qOp7LMZ2nDC"
      }
    },
    {
      "cell_type": "code",
      "source": [
        "#df_train.info()"
      ],
      "metadata": {
        "id": "uH2zxuT37P8T"
      },
      "execution_count": 118,
      "outputs": []
    },
    {
      "cell_type": "code",
      "source": [
        "df = pd.concat([df_train, df_test], axis=0)\n",
        "\n",
        "# Convert `Policy Start Date` column to datetime64 format\n",
        "df['Policy Start Date'] = pd.to_datetime(df['Policy Start Date'])\n",
        "\n",
        "# Calculate the difference in days between today and the `Policy Start Date` column\n",
        "today = pd.to_datetime('today')\n",
        "difference_in_days = today - df['Policy Start Date']\n",
        "\n",
        "# Divide the difference in days by 365 to get the difference in years\n",
        "difference_in_years = difference_in_days / pd.Timedelta(days=365)\n",
        "\n",
        "# Convert the `Policy Start Date` column to the number of years since the policy start date\n",
        "df['Policy Start Date'] = difference_in_years\n",
        "\n",
        "numerical_cols = numerical_cols+time_cols"
      ],
      "metadata": {
        "id": "B9QaF0ex2okP"
      },
      "execution_count": 119,
      "outputs": []
    },
    {
      "cell_type": "code",
      "source": [
        "df_train = df.iloc[:df_train.shape[0], :]\n",
        "df_test = df.iloc[df_train.shape[0]:, :]\n",
        "\n",
        "df_train.shape, df_test.shape"
      ],
      "metadata": {
        "colab": {
          "base_uri": "https://localhost:8080/"
        },
        "id": "U7f0ff_7mhN6",
        "outputId": "c5343097-04b5-4c3b-fca2-8e8852db650e"
      },
      "execution_count": 120,
      "outputs": [
        {
          "output_type": "execute_result",
          "data": {
            "text/plain": [
              "((1200000, 20), (800000, 20))"
            ]
          },
          "metadata": {},
          "execution_count": 120
        }
      ]
    },
    {
      "cell_type": "code",
      "source": [
        "df_train.head(3)"
      ],
      "metadata": {
        "id": "kni3BXljIs1v",
        "outputId": "91de51e8-7e06-459f-fc77-5a4102dd7a16",
        "colab": {
          "base_uri": "https://localhost:8080/",
          "height": 244
        }
      },
      "execution_count": 121,
      "outputs": [
        {
          "output_type": "execute_result",
          "data": {
            "text/plain": [
              "     Age  Gender  Annual Income Marital Status  Number of Dependents  \\\n",
              "id                                                                     \n",
              "0   19.0  Female        10049.0        Married                   1.0   \n",
              "1   39.0  Female        31678.0       Divorced                   3.0   \n",
              "2   23.0    Male        25602.0       Divorced                   3.0   \n",
              "\n",
              "   Education Level     Occupation  Health Score  Location    Policy Type  \\\n",
              "id                                                                         \n",
              "0       Bachelor's  Self-Employed     22.598761     Urban        Premium   \n",
              "1         Master's            NaN     15.569731     Rural  Comprehensive   \n",
              "2      High School  Self-Employed     47.177549  Suburban        Premium   \n",
              "\n",
              "    Previous Claims  Vehicle Age  Credit Score  Insurance Duration  \\\n",
              "id                                                                   \n",
              "0               2.0         17.0         372.0                 5.0   \n",
              "1               1.0         12.0         694.0                 2.0   \n",
              "2               1.0         14.0           NaN                 3.0   \n",
              "\n",
              "    Policy Start Date Customer Feedback Smoking Status Exercise Frequency  \\\n",
              "id                                                                          \n",
              "0            0.949192              Poor             No             Weekly   \n",
              "1            1.480699           Average            Yes            Monthly   \n",
              "2            1.179329              Good            Yes             Weekly   \n",
              "\n",
              "   Property Type  Premium Amount  \n",
              "id                                \n",
              "0          House          2869.0  \n",
              "1          House          1483.0  \n",
              "2          House           567.0  "
            ],
            "text/html": [
              "\n",
              "  <div id=\"df-3efb95f9-7d55-4ffb-98b4-1a8e9d8a29b7\" class=\"colab-df-container\">\n",
              "    <div>\n",
              "<style scoped>\n",
              "    .dataframe tbody tr th:only-of-type {\n",
              "        vertical-align: middle;\n",
              "    }\n",
              "\n",
              "    .dataframe tbody tr th {\n",
              "        vertical-align: top;\n",
              "    }\n",
              "\n",
              "    .dataframe thead th {\n",
              "        text-align: right;\n",
              "    }\n",
              "</style>\n",
              "<table border=\"1\" class=\"dataframe\">\n",
              "  <thead>\n",
              "    <tr style=\"text-align: right;\">\n",
              "      <th></th>\n",
              "      <th>Age</th>\n",
              "      <th>Gender</th>\n",
              "      <th>Annual Income</th>\n",
              "      <th>Marital Status</th>\n",
              "      <th>Number of Dependents</th>\n",
              "      <th>Education Level</th>\n",
              "      <th>Occupation</th>\n",
              "      <th>Health Score</th>\n",
              "      <th>Location</th>\n",
              "      <th>Policy Type</th>\n",
              "      <th>Previous Claims</th>\n",
              "      <th>Vehicle Age</th>\n",
              "      <th>Credit Score</th>\n",
              "      <th>Insurance Duration</th>\n",
              "      <th>Policy Start Date</th>\n",
              "      <th>Customer Feedback</th>\n",
              "      <th>Smoking Status</th>\n",
              "      <th>Exercise Frequency</th>\n",
              "      <th>Property Type</th>\n",
              "      <th>Premium Amount</th>\n",
              "    </tr>\n",
              "    <tr>\n",
              "      <th>id</th>\n",
              "      <th></th>\n",
              "      <th></th>\n",
              "      <th></th>\n",
              "      <th></th>\n",
              "      <th></th>\n",
              "      <th></th>\n",
              "      <th></th>\n",
              "      <th></th>\n",
              "      <th></th>\n",
              "      <th></th>\n",
              "      <th></th>\n",
              "      <th></th>\n",
              "      <th></th>\n",
              "      <th></th>\n",
              "      <th></th>\n",
              "      <th></th>\n",
              "      <th></th>\n",
              "      <th></th>\n",
              "      <th></th>\n",
              "      <th></th>\n",
              "    </tr>\n",
              "  </thead>\n",
              "  <tbody>\n",
              "    <tr>\n",
              "      <th>0</th>\n",
              "      <td>19.0</td>\n",
              "      <td>Female</td>\n",
              "      <td>10049.0</td>\n",
              "      <td>Married</td>\n",
              "      <td>1.0</td>\n",
              "      <td>Bachelor's</td>\n",
              "      <td>Self-Employed</td>\n",
              "      <td>22.598761</td>\n",
              "      <td>Urban</td>\n",
              "      <td>Premium</td>\n",
              "      <td>2.0</td>\n",
              "      <td>17.0</td>\n",
              "      <td>372.0</td>\n",
              "      <td>5.0</td>\n",
              "      <td>0.949192</td>\n",
              "      <td>Poor</td>\n",
              "      <td>No</td>\n",
              "      <td>Weekly</td>\n",
              "      <td>House</td>\n",
              "      <td>2869.0</td>\n",
              "    </tr>\n",
              "    <tr>\n",
              "      <th>1</th>\n",
              "      <td>39.0</td>\n",
              "      <td>Female</td>\n",
              "      <td>31678.0</td>\n",
              "      <td>Divorced</td>\n",
              "      <td>3.0</td>\n",
              "      <td>Master's</td>\n",
              "      <td>NaN</td>\n",
              "      <td>15.569731</td>\n",
              "      <td>Rural</td>\n",
              "      <td>Comprehensive</td>\n",
              "      <td>1.0</td>\n",
              "      <td>12.0</td>\n",
              "      <td>694.0</td>\n",
              "      <td>2.0</td>\n",
              "      <td>1.480699</td>\n",
              "      <td>Average</td>\n",
              "      <td>Yes</td>\n",
              "      <td>Monthly</td>\n",
              "      <td>House</td>\n",
              "      <td>1483.0</td>\n",
              "    </tr>\n",
              "    <tr>\n",
              "      <th>2</th>\n",
              "      <td>23.0</td>\n",
              "      <td>Male</td>\n",
              "      <td>25602.0</td>\n",
              "      <td>Divorced</td>\n",
              "      <td>3.0</td>\n",
              "      <td>High School</td>\n",
              "      <td>Self-Employed</td>\n",
              "      <td>47.177549</td>\n",
              "      <td>Suburban</td>\n",
              "      <td>Premium</td>\n",
              "      <td>1.0</td>\n",
              "      <td>14.0</td>\n",
              "      <td>NaN</td>\n",
              "      <td>3.0</td>\n",
              "      <td>1.179329</td>\n",
              "      <td>Good</td>\n",
              "      <td>Yes</td>\n",
              "      <td>Weekly</td>\n",
              "      <td>House</td>\n",
              "      <td>567.0</td>\n",
              "    </tr>\n",
              "  </tbody>\n",
              "</table>\n",
              "</div>\n",
              "    <div class=\"colab-df-buttons\">\n",
              "\n",
              "  <div class=\"colab-df-container\">\n",
              "    <button class=\"colab-df-convert\" onclick=\"convertToInteractive('df-3efb95f9-7d55-4ffb-98b4-1a8e9d8a29b7')\"\n",
              "            title=\"Convert this dataframe to an interactive table.\"\n",
              "            style=\"display:none;\">\n",
              "\n",
              "  <svg xmlns=\"http://www.w3.org/2000/svg\" height=\"24px\" viewBox=\"0 -960 960 960\">\n",
              "    <path d=\"M120-120v-720h720v720H120Zm60-500h600v-160H180v160Zm220 220h160v-160H400v160Zm0 220h160v-160H400v160ZM180-400h160v-160H180v160Zm440 0h160v-160H620v160ZM180-180h160v-160H180v160Zm440 0h160v-160H620v160Z\"/>\n",
              "  </svg>\n",
              "    </button>\n",
              "\n",
              "  <style>\n",
              "    .colab-df-container {\n",
              "      display:flex;\n",
              "      gap: 12px;\n",
              "    }\n",
              "\n",
              "    .colab-df-convert {\n",
              "      background-color: #E8F0FE;\n",
              "      border: none;\n",
              "      border-radius: 50%;\n",
              "      cursor: pointer;\n",
              "      display: none;\n",
              "      fill: #1967D2;\n",
              "      height: 32px;\n",
              "      padding: 0 0 0 0;\n",
              "      width: 32px;\n",
              "    }\n",
              "\n",
              "    .colab-df-convert:hover {\n",
              "      background-color: #E2EBFA;\n",
              "      box-shadow: 0px 1px 2px rgba(60, 64, 67, 0.3), 0px 1px 3px 1px rgba(60, 64, 67, 0.15);\n",
              "      fill: #174EA6;\n",
              "    }\n",
              "\n",
              "    .colab-df-buttons div {\n",
              "      margin-bottom: 4px;\n",
              "    }\n",
              "\n",
              "    [theme=dark] .colab-df-convert {\n",
              "      background-color: #3B4455;\n",
              "      fill: #D2E3FC;\n",
              "    }\n",
              "\n",
              "    [theme=dark] .colab-df-convert:hover {\n",
              "      background-color: #434B5C;\n",
              "      box-shadow: 0px 1px 3px 1px rgba(0, 0, 0, 0.15);\n",
              "      filter: drop-shadow(0px 1px 2px rgba(0, 0, 0, 0.3));\n",
              "      fill: #FFFFFF;\n",
              "    }\n",
              "  </style>\n",
              "\n",
              "    <script>\n",
              "      const buttonEl =\n",
              "        document.querySelector('#df-3efb95f9-7d55-4ffb-98b4-1a8e9d8a29b7 button.colab-df-convert');\n",
              "      buttonEl.style.display =\n",
              "        google.colab.kernel.accessAllowed ? 'block' : 'none';\n",
              "\n",
              "      async function convertToInteractive(key) {\n",
              "        const element = document.querySelector('#df-3efb95f9-7d55-4ffb-98b4-1a8e9d8a29b7');\n",
              "        const dataTable =\n",
              "          await google.colab.kernel.invokeFunction('convertToInteractive',\n",
              "                                                    [key], {});\n",
              "        if (!dataTable) return;\n",
              "\n",
              "        const docLinkHtml = 'Like what you see? Visit the ' +\n",
              "          '<a target=\"_blank\" href=https://colab.research.google.com/notebooks/data_table.ipynb>data table notebook</a>'\n",
              "          + ' to learn more about interactive tables.';\n",
              "        element.innerHTML = '';\n",
              "        dataTable['output_type'] = 'display_data';\n",
              "        await google.colab.output.renderOutput(dataTable, element);\n",
              "        const docLink = document.createElement('div');\n",
              "        docLink.innerHTML = docLinkHtml;\n",
              "        element.appendChild(docLink);\n",
              "      }\n",
              "    </script>\n",
              "  </div>\n",
              "\n",
              "\n",
              "<div id=\"df-95c0ba54-22f8-437c-b2c9-6e33163926ca\">\n",
              "  <button class=\"colab-df-quickchart\" onclick=\"quickchart('df-95c0ba54-22f8-437c-b2c9-6e33163926ca')\"\n",
              "            title=\"Suggest charts\"\n",
              "            style=\"display:none;\">\n",
              "\n",
              "<svg xmlns=\"http://www.w3.org/2000/svg\" height=\"24px\"viewBox=\"0 0 24 24\"\n",
              "     width=\"24px\">\n",
              "    <g>\n",
              "        <path d=\"M19 3H5c-1.1 0-2 .9-2 2v14c0 1.1.9 2 2 2h14c1.1 0 2-.9 2-2V5c0-1.1-.9-2-2-2zM9 17H7v-7h2v7zm4 0h-2V7h2v10zm4 0h-2v-4h2v4z\"/>\n",
              "    </g>\n",
              "</svg>\n",
              "  </button>\n",
              "\n",
              "<style>\n",
              "  .colab-df-quickchart {\n",
              "      --bg-color: #E8F0FE;\n",
              "      --fill-color: #1967D2;\n",
              "      --hover-bg-color: #E2EBFA;\n",
              "      --hover-fill-color: #174EA6;\n",
              "      --disabled-fill-color: #AAA;\n",
              "      --disabled-bg-color: #DDD;\n",
              "  }\n",
              "\n",
              "  [theme=dark] .colab-df-quickchart {\n",
              "      --bg-color: #3B4455;\n",
              "      --fill-color: #D2E3FC;\n",
              "      --hover-bg-color: #434B5C;\n",
              "      --hover-fill-color: #FFFFFF;\n",
              "      --disabled-bg-color: #3B4455;\n",
              "      --disabled-fill-color: #666;\n",
              "  }\n",
              "\n",
              "  .colab-df-quickchart {\n",
              "    background-color: var(--bg-color);\n",
              "    border: none;\n",
              "    border-radius: 50%;\n",
              "    cursor: pointer;\n",
              "    display: none;\n",
              "    fill: var(--fill-color);\n",
              "    height: 32px;\n",
              "    padding: 0;\n",
              "    width: 32px;\n",
              "  }\n",
              "\n",
              "  .colab-df-quickchart:hover {\n",
              "    background-color: var(--hover-bg-color);\n",
              "    box-shadow: 0 1px 2px rgba(60, 64, 67, 0.3), 0 1px 3px 1px rgba(60, 64, 67, 0.15);\n",
              "    fill: var(--button-hover-fill-color);\n",
              "  }\n",
              "\n",
              "  .colab-df-quickchart-complete:disabled,\n",
              "  .colab-df-quickchart-complete:disabled:hover {\n",
              "    background-color: var(--disabled-bg-color);\n",
              "    fill: var(--disabled-fill-color);\n",
              "    box-shadow: none;\n",
              "  }\n",
              "\n",
              "  .colab-df-spinner {\n",
              "    border: 2px solid var(--fill-color);\n",
              "    border-color: transparent;\n",
              "    border-bottom-color: var(--fill-color);\n",
              "    animation:\n",
              "      spin 1s steps(1) infinite;\n",
              "  }\n",
              "\n",
              "  @keyframes spin {\n",
              "    0% {\n",
              "      border-color: transparent;\n",
              "      border-bottom-color: var(--fill-color);\n",
              "      border-left-color: var(--fill-color);\n",
              "    }\n",
              "    20% {\n",
              "      border-color: transparent;\n",
              "      border-left-color: var(--fill-color);\n",
              "      border-top-color: var(--fill-color);\n",
              "    }\n",
              "    30% {\n",
              "      border-color: transparent;\n",
              "      border-left-color: var(--fill-color);\n",
              "      border-top-color: var(--fill-color);\n",
              "      border-right-color: var(--fill-color);\n",
              "    }\n",
              "    40% {\n",
              "      border-color: transparent;\n",
              "      border-right-color: var(--fill-color);\n",
              "      border-top-color: var(--fill-color);\n",
              "    }\n",
              "    60% {\n",
              "      border-color: transparent;\n",
              "      border-right-color: var(--fill-color);\n",
              "    }\n",
              "    80% {\n",
              "      border-color: transparent;\n",
              "      border-right-color: var(--fill-color);\n",
              "      border-bottom-color: var(--fill-color);\n",
              "    }\n",
              "    90% {\n",
              "      border-color: transparent;\n",
              "      border-bottom-color: var(--fill-color);\n",
              "    }\n",
              "  }\n",
              "</style>\n",
              "\n",
              "  <script>\n",
              "    async function quickchart(key) {\n",
              "      const quickchartButtonEl =\n",
              "        document.querySelector('#' + key + ' button');\n",
              "      quickchartButtonEl.disabled = true;  // To prevent multiple clicks.\n",
              "      quickchartButtonEl.classList.add('colab-df-spinner');\n",
              "      try {\n",
              "        const charts = await google.colab.kernel.invokeFunction(\n",
              "            'suggestCharts', [key], {});\n",
              "      } catch (error) {\n",
              "        console.error('Error during call to suggestCharts:', error);\n",
              "      }\n",
              "      quickchartButtonEl.classList.remove('colab-df-spinner');\n",
              "      quickchartButtonEl.classList.add('colab-df-quickchart-complete');\n",
              "    }\n",
              "    (() => {\n",
              "      let quickchartButtonEl =\n",
              "        document.querySelector('#df-95c0ba54-22f8-437c-b2c9-6e33163926ca button');\n",
              "      quickchartButtonEl.style.display =\n",
              "        google.colab.kernel.accessAllowed ? 'block' : 'none';\n",
              "    })();\n",
              "  </script>\n",
              "</div>\n",
              "\n",
              "    </div>\n",
              "  </div>\n"
            ],
            "application/vnd.google.colaboratory.intrinsic+json": {
              "type": "dataframe",
              "variable_name": "df_train"
            }
          },
          "metadata": {},
          "execution_count": 121
        }
      ]
    },
    {
      "cell_type": "code",
      "source": [
        "# Imputers for missing values\n",
        "categorical_imputer = SimpleImputer(strategy='most_frequent')\n",
        "numerical_imputer = SimpleImputer(strategy='median')\n",
        "\n",
        "# Encoder for categorical features\n",
        "encoder = OrdinalEncoder()\n",
        "\n",
        "# ColumnTransformer for imputing missing values\n",
        "imputer = ColumnTransformer(\n",
        "    transformers=[\n",
        "        ('categorical', categorical_imputer, categorical_cols),\n",
        "        ('numerical', numerical_imputer, numerical_cols)\n",
        "                  ],remainder='passthrough')\n",
        "\n",
        "# Pipeline\n",
        "pipeline = Pipeline([\n",
        "    ('imputer', imputer)\n",
        "])\n"
      ],
      "metadata": {
        "id": "A903u2Kf2oRd"
      },
      "execution_count": 122,
      "outputs": []
    },
    {
      "cell_type": "code",
      "source": [
        "train_df = pd.DataFrame(data=pipeline.fit_transform(df_train), columns=categorical_cols+numerical_cols+target)\n",
        "test_df = pd.DataFrame(data=pipeline.transform(df_test), columns=categorical_cols+numerical_cols+target)\n",
        "\n",
        "train_df[numerical_cols+target] = train_df[numerical_cols+target].astype(float)\n",
        "test_df[numerical_cols+target] = test_df[numerical_cols+target].astype(float)"
      ],
      "metadata": {
        "id": "4NF_D4TlYwiZ"
      },
      "execution_count": 123,
      "outputs": []
    },
    {
      "cell_type": "code",
      "source": [
        "#train_df.isnull().sum()/train_df.shape[0]\n",
        "gc.collect()"
      ],
      "metadata": {
        "id": "J-FjfiucF_IH",
        "colab": {
          "base_uri": "https://localhost:8080/"
        },
        "outputId": "35f3660b-19d1-4de3-cb0b-d722935e7c47"
      },
      "execution_count": 124,
      "outputs": [
        {
          "output_type": "execute_result",
          "data": {
            "text/plain": [
              "67"
            ]
          },
          "metadata": {},
          "execution_count": 124
        }
      ]
    },
    {
      "cell_type": "code",
      "source": [
        "#test_df.isnull().sum()/test_df.shape[0]"
      ],
      "metadata": {
        "id": "2d2tuMuUGIii"
      },
      "execution_count": 125,
      "outputs": []
    },
    {
      "cell_type": "code",
      "source": [
        "# Initialize a dictionary to keep track of label encoders\n",
        "label_encoders = {}\n",
        "\n",
        "# Loop through each categorical column and label encode\n",
        "for col in categorical_cols:\n",
        "    le = LabelEncoder()\n",
        "    # Combine data to fit on both train and test to handle unseen categories\n",
        "    combined_data = pd.concat([train_df[[col]], test_df[[col]]], axis=0)\n",
        "    le.fit(combined_data)\n",
        "    train_df[col] = le.transform(train_df[[col]])\n",
        "    test_df[col] = le.transform(test_df[[col]])\n",
        "    label_encoders[col] = le  # Save the encoder for future use if needed"
      ],
      "metadata": {
        "id": "dIrYa3agGXFS"
      },
      "execution_count": 126,
      "outputs": []
    },
    {
      "cell_type": "code",
      "source": [
        "train_df.head()"
      ],
      "metadata": {
        "colab": {
          "base_uri": "https://localhost:8080/",
          "height": 241
        },
        "id": "kUcVCWjn7K4E",
        "outputId": "711a1907-899e-43e3-c41b-db49eaf82fb6"
      },
      "execution_count": 127,
      "outputs": [
        {
          "output_type": "execute_result",
          "data": {
            "text/plain": [
              "   Gender  Marital Status  Education Level  Occupation  Location  Policy Type  \\\n",
              "0       0               1                0           1         2            2   \n",
              "1       0               0                2           0         0            1   \n",
              "2       1               0                1           1         1            2   \n",
              "3       1               1                0           0         0            0   \n",
              "4       1               2                0           1         0            2   \n",
              "\n",
              "   Customer Feedback  Smoking Status  Exercise Frequency  Property Type   Age  \\\n",
              "0                  2               0                   3              2  19.0   \n",
              "1                  0               1                   1              2  39.0   \n",
              "2                  1               1                   3              2  23.0   \n",
              "3                  2               1                   0              0  21.0   \n",
              "4                  2               1                   3              2  21.0   \n",
              "\n",
              "   Annual Income  Health Score  Number of Dependents  Vehicle Age  \\\n",
              "0        10049.0     22.598761                   1.0         17.0   \n",
              "1        31678.0     15.569731                   3.0         12.0   \n",
              "2        25602.0     47.177549                   3.0         14.0   \n",
              "3       141855.0     10.938144                   2.0          0.0   \n",
              "4        39651.0     20.376094                   1.0          8.0   \n",
              "\n",
              "   Credit Score  Insurance Duration  Previous Claims  Policy Start Date  \\\n",
              "0         372.0                 5.0              2.0           0.949192   \n",
              "1         694.0                 2.0              1.0           1.480699   \n",
              "2         595.0                 3.0              1.0           1.179329   \n",
              "3         367.0                 1.0              1.0           0.477959   \n",
              "4         598.0                 4.0              0.0           3.009466   \n",
              "\n",
              "   Premium Amount  \n",
              "0          2869.0  \n",
              "1          1483.0  \n",
              "2           567.0  \n",
              "3           765.0  \n",
              "4          2022.0  "
            ],
            "text/html": [
              "\n",
              "  <div id=\"df-a41e7267-6fde-457f-b4fc-082ee98d36f3\" class=\"colab-df-container\">\n",
              "    <div>\n",
              "<style scoped>\n",
              "    .dataframe tbody tr th:only-of-type {\n",
              "        vertical-align: middle;\n",
              "    }\n",
              "\n",
              "    .dataframe tbody tr th {\n",
              "        vertical-align: top;\n",
              "    }\n",
              "\n",
              "    .dataframe thead th {\n",
              "        text-align: right;\n",
              "    }\n",
              "</style>\n",
              "<table border=\"1\" class=\"dataframe\">\n",
              "  <thead>\n",
              "    <tr style=\"text-align: right;\">\n",
              "      <th></th>\n",
              "      <th>Gender</th>\n",
              "      <th>Marital Status</th>\n",
              "      <th>Education Level</th>\n",
              "      <th>Occupation</th>\n",
              "      <th>Location</th>\n",
              "      <th>Policy Type</th>\n",
              "      <th>Customer Feedback</th>\n",
              "      <th>Smoking Status</th>\n",
              "      <th>Exercise Frequency</th>\n",
              "      <th>Property Type</th>\n",
              "      <th>Age</th>\n",
              "      <th>Annual Income</th>\n",
              "      <th>Health Score</th>\n",
              "      <th>Number of Dependents</th>\n",
              "      <th>Vehicle Age</th>\n",
              "      <th>Credit Score</th>\n",
              "      <th>Insurance Duration</th>\n",
              "      <th>Previous Claims</th>\n",
              "      <th>Policy Start Date</th>\n",
              "      <th>Premium Amount</th>\n",
              "    </tr>\n",
              "  </thead>\n",
              "  <tbody>\n",
              "    <tr>\n",
              "      <th>0</th>\n",
              "      <td>0</td>\n",
              "      <td>1</td>\n",
              "      <td>0</td>\n",
              "      <td>1</td>\n",
              "      <td>2</td>\n",
              "      <td>2</td>\n",
              "      <td>2</td>\n",
              "      <td>0</td>\n",
              "      <td>3</td>\n",
              "      <td>2</td>\n",
              "      <td>19.0</td>\n",
              "      <td>10049.0</td>\n",
              "      <td>22.598761</td>\n",
              "      <td>1.0</td>\n",
              "      <td>17.0</td>\n",
              "      <td>372.0</td>\n",
              "      <td>5.0</td>\n",
              "      <td>2.0</td>\n",
              "      <td>0.949192</td>\n",
              "      <td>2869.0</td>\n",
              "    </tr>\n",
              "    <tr>\n",
              "      <th>1</th>\n",
              "      <td>0</td>\n",
              "      <td>0</td>\n",
              "      <td>2</td>\n",
              "      <td>0</td>\n",
              "      <td>0</td>\n",
              "      <td>1</td>\n",
              "      <td>0</td>\n",
              "      <td>1</td>\n",
              "      <td>1</td>\n",
              "      <td>2</td>\n",
              "      <td>39.0</td>\n",
              "      <td>31678.0</td>\n",
              "      <td>15.569731</td>\n",
              "      <td>3.0</td>\n",
              "      <td>12.0</td>\n",
              "      <td>694.0</td>\n",
              "      <td>2.0</td>\n",
              "      <td>1.0</td>\n",
              "      <td>1.480699</td>\n",
              "      <td>1483.0</td>\n",
              "    </tr>\n",
              "    <tr>\n",
              "      <th>2</th>\n",
              "      <td>1</td>\n",
              "      <td>0</td>\n",
              "      <td>1</td>\n",
              "      <td>1</td>\n",
              "      <td>1</td>\n",
              "      <td>2</td>\n",
              "      <td>1</td>\n",
              "      <td>1</td>\n",
              "      <td>3</td>\n",
              "      <td>2</td>\n",
              "      <td>23.0</td>\n",
              "      <td>25602.0</td>\n",
              "      <td>47.177549</td>\n",
              "      <td>3.0</td>\n",
              "      <td>14.0</td>\n",
              "      <td>595.0</td>\n",
              "      <td>3.0</td>\n",
              "      <td>1.0</td>\n",
              "      <td>1.179329</td>\n",
              "      <td>567.0</td>\n",
              "    </tr>\n",
              "    <tr>\n",
              "      <th>3</th>\n",
              "      <td>1</td>\n",
              "      <td>1</td>\n",
              "      <td>0</td>\n",
              "      <td>0</td>\n",
              "      <td>0</td>\n",
              "      <td>0</td>\n",
              "      <td>2</td>\n",
              "      <td>1</td>\n",
              "      <td>0</td>\n",
              "      <td>0</td>\n",
              "      <td>21.0</td>\n",
              "      <td>141855.0</td>\n",
              "      <td>10.938144</td>\n",
              "      <td>2.0</td>\n",
              "      <td>0.0</td>\n",
              "      <td>367.0</td>\n",
              "      <td>1.0</td>\n",
              "      <td>1.0</td>\n",
              "      <td>0.477959</td>\n",
              "      <td>765.0</td>\n",
              "    </tr>\n",
              "    <tr>\n",
              "      <th>4</th>\n",
              "      <td>1</td>\n",
              "      <td>2</td>\n",
              "      <td>0</td>\n",
              "      <td>1</td>\n",
              "      <td>0</td>\n",
              "      <td>2</td>\n",
              "      <td>2</td>\n",
              "      <td>1</td>\n",
              "      <td>3</td>\n",
              "      <td>2</td>\n",
              "      <td>21.0</td>\n",
              "      <td>39651.0</td>\n",
              "      <td>20.376094</td>\n",
              "      <td>1.0</td>\n",
              "      <td>8.0</td>\n",
              "      <td>598.0</td>\n",
              "      <td>4.0</td>\n",
              "      <td>0.0</td>\n",
              "      <td>3.009466</td>\n",
              "      <td>2022.0</td>\n",
              "    </tr>\n",
              "  </tbody>\n",
              "</table>\n",
              "</div>\n",
              "    <div class=\"colab-df-buttons\">\n",
              "\n",
              "  <div class=\"colab-df-container\">\n",
              "    <button class=\"colab-df-convert\" onclick=\"convertToInteractive('df-a41e7267-6fde-457f-b4fc-082ee98d36f3')\"\n",
              "            title=\"Convert this dataframe to an interactive table.\"\n",
              "            style=\"display:none;\">\n",
              "\n",
              "  <svg xmlns=\"http://www.w3.org/2000/svg\" height=\"24px\" viewBox=\"0 -960 960 960\">\n",
              "    <path d=\"M120-120v-720h720v720H120Zm60-500h600v-160H180v160Zm220 220h160v-160H400v160Zm0 220h160v-160H400v160ZM180-400h160v-160H180v160Zm440 0h160v-160H620v160ZM180-180h160v-160H180v160Zm440 0h160v-160H620v160Z\"/>\n",
              "  </svg>\n",
              "    </button>\n",
              "\n",
              "  <style>\n",
              "    .colab-df-container {\n",
              "      display:flex;\n",
              "      gap: 12px;\n",
              "    }\n",
              "\n",
              "    .colab-df-convert {\n",
              "      background-color: #E8F0FE;\n",
              "      border: none;\n",
              "      border-radius: 50%;\n",
              "      cursor: pointer;\n",
              "      display: none;\n",
              "      fill: #1967D2;\n",
              "      height: 32px;\n",
              "      padding: 0 0 0 0;\n",
              "      width: 32px;\n",
              "    }\n",
              "\n",
              "    .colab-df-convert:hover {\n",
              "      background-color: #E2EBFA;\n",
              "      box-shadow: 0px 1px 2px rgba(60, 64, 67, 0.3), 0px 1px 3px 1px rgba(60, 64, 67, 0.15);\n",
              "      fill: #174EA6;\n",
              "    }\n",
              "\n",
              "    .colab-df-buttons div {\n",
              "      margin-bottom: 4px;\n",
              "    }\n",
              "\n",
              "    [theme=dark] .colab-df-convert {\n",
              "      background-color: #3B4455;\n",
              "      fill: #D2E3FC;\n",
              "    }\n",
              "\n",
              "    [theme=dark] .colab-df-convert:hover {\n",
              "      background-color: #434B5C;\n",
              "      box-shadow: 0px 1px 3px 1px rgba(0, 0, 0, 0.15);\n",
              "      filter: drop-shadow(0px 1px 2px rgba(0, 0, 0, 0.3));\n",
              "      fill: #FFFFFF;\n",
              "    }\n",
              "  </style>\n",
              "\n",
              "    <script>\n",
              "      const buttonEl =\n",
              "        document.querySelector('#df-a41e7267-6fde-457f-b4fc-082ee98d36f3 button.colab-df-convert');\n",
              "      buttonEl.style.display =\n",
              "        google.colab.kernel.accessAllowed ? 'block' : 'none';\n",
              "\n",
              "      async function convertToInteractive(key) {\n",
              "        const element = document.querySelector('#df-a41e7267-6fde-457f-b4fc-082ee98d36f3');\n",
              "        const dataTable =\n",
              "          await google.colab.kernel.invokeFunction('convertToInteractive',\n",
              "                                                    [key], {});\n",
              "        if (!dataTable) return;\n",
              "\n",
              "        const docLinkHtml = 'Like what you see? Visit the ' +\n",
              "          '<a target=\"_blank\" href=https://colab.research.google.com/notebooks/data_table.ipynb>data table notebook</a>'\n",
              "          + ' to learn more about interactive tables.';\n",
              "        element.innerHTML = '';\n",
              "        dataTable['output_type'] = 'display_data';\n",
              "        await google.colab.output.renderOutput(dataTable, element);\n",
              "        const docLink = document.createElement('div');\n",
              "        docLink.innerHTML = docLinkHtml;\n",
              "        element.appendChild(docLink);\n",
              "      }\n",
              "    </script>\n",
              "  </div>\n",
              "\n",
              "\n",
              "<div id=\"df-4c075fab-c09f-4bdd-97f6-f7b12ab8d7c6\">\n",
              "  <button class=\"colab-df-quickchart\" onclick=\"quickchart('df-4c075fab-c09f-4bdd-97f6-f7b12ab8d7c6')\"\n",
              "            title=\"Suggest charts\"\n",
              "            style=\"display:none;\">\n",
              "\n",
              "<svg xmlns=\"http://www.w3.org/2000/svg\" height=\"24px\"viewBox=\"0 0 24 24\"\n",
              "     width=\"24px\">\n",
              "    <g>\n",
              "        <path d=\"M19 3H5c-1.1 0-2 .9-2 2v14c0 1.1.9 2 2 2h14c1.1 0 2-.9 2-2V5c0-1.1-.9-2-2-2zM9 17H7v-7h2v7zm4 0h-2V7h2v10zm4 0h-2v-4h2v4z\"/>\n",
              "    </g>\n",
              "</svg>\n",
              "  </button>\n",
              "\n",
              "<style>\n",
              "  .colab-df-quickchart {\n",
              "      --bg-color: #E8F0FE;\n",
              "      --fill-color: #1967D2;\n",
              "      --hover-bg-color: #E2EBFA;\n",
              "      --hover-fill-color: #174EA6;\n",
              "      --disabled-fill-color: #AAA;\n",
              "      --disabled-bg-color: #DDD;\n",
              "  }\n",
              "\n",
              "  [theme=dark] .colab-df-quickchart {\n",
              "      --bg-color: #3B4455;\n",
              "      --fill-color: #D2E3FC;\n",
              "      --hover-bg-color: #434B5C;\n",
              "      --hover-fill-color: #FFFFFF;\n",
              "      --disabled-bg-color: #3B4455;\n",
              "      --disabled-fill-color: #666;\n",
              "  }\n",
              "\n",
              "  .colab-df-quickchart {\n",
              "    background-color: var(--bg-color);\n",
              "    border: none;\n",
              "    border-radius: 50%;\n",
              "    cursor: pointer;\n",
              "    display: none;\n",
              "    fill: var(--fill-color);\n",
              "    height: 32px;\n",
              "    padding: 0;\n",
              "    width: 32px;\n",
              "  }\n",
              "\n",
              "  .colab-df-quickchart:hover {\n",
              "    background-color: var(--hover-bg-color);\n",
              "    box-shadow: 0 1px 2px rgba(60, 64, 67, 0.3), 0 1px 3px 1px rgba(60, 64, 67, 0.15);\n",
              "    fill: var(--button-hover-fill-color);\n",
              "  }\n",
              "\n",
              "  .colab-df-quickchart-complete:disabled,\n",
              "  .colab-df-quickchart-complete:disabled:hover {\n",
              "    background-color: var(--disabled-bg-color);\n",
              "    fill: var(--disabled-fill-color);\n",
              "    box-shadow: none;\n",
              "  }\n",
              "\n",
              "  .colab-df-spinner {\n",
              "    border: 2px solid var(--fill-color);\n",
              "    border-color: transparent;\n",
              "    border-bottom-color: var(--fill-color);\n",
              "    animation:\n",
              "      spin 1s steps(1) infinite;\n",
              "  }\n",
              "\n",
              "  @keyframes spin {\n",
              "    0% {\n",
              "      border-color: transparent;\n",
              "      border-bottom-color: var(--fill-color);\n",
              "      border-left-color: var(--fill-color);\n",
              "    }\n",
              "    20% {\n",
              "      border-color: transparent;\n",
              "      border-left-color: var(--fill-color);\n",
              "      border-top-color: var(--fill-color);\n",
              "    }\n",
              "    30% {\n",
              "      border-color: transparent;\n",
              "      border-left-color: var(--fill-color);\n",
              "      border-top-color: var(--fill-color);\n",
              "      border-right-color: var(--fill-color);\n",
              "    }\n",
              "    40% {\n",
              "      border-color: transparent;\n",
              "      border-right-color: var(--fill-color);\n",
              "      border-top-color: var(--fill-color);\n",
              "    }\n",
              "    60% {\n",
              "      border-color: transparent;\n",
              "      border-right-color: var(--fill-color);\n",
              "    }\n",
              "    80% {\n",
              "      border-color: transparent;\n",
              "      border-right-color: var(--fill-color);\n",
              "      border-bottom-color: var(--fill-color);\n",
              "    }\n",
              "    90% {\n",
              "      border-color: transparent;\n",
              "      border-bottom-color: var(--fill-color);\n",
              "    }\n",
              "  }\n",
              "</style>\n",
              "\n",
              "  <script>\n",
              "    async function quickchart(key) {\n",
              "      const quickchartButtonEl =\n",
              "        document.querySelector('#' + key + ' button');\n",
              "      quickchartButtonEl.disabled = true;  // To prevent multiple clicks.\n",
              "      quickchartButtonEl.classList.add('colab-df-spinner');\n",
              "      try {\n",
              "        const charts = await google.colab.kernel.invokeFunction(\n",
              "            'suggestCharts', [key], {});\n",
              "      } catch (error) {\n",
              "        console.error('Error during call to suggestCharts:', error);\n",
              "      }\n",
              "      quickchartButtonEl.classList.remove('colab-df-spinner');\n",
              "      quickchartButtonEl.classList.add('colab-df-quickchart-complete');\n",
              "    }\n",
              "    (() => {\n",
              "      let quickchartButtonEl =\n",
              "        document.querySelector('#df-4c075fab-c09f-4bdd-97f6-f7b12ab8d7c6 button');\n",
              "      quickchartButtonEl.style.display =\n",
              "        google.colab.kernel.accessAllowed ? 'block' : 'none';\n",
              "    })();\n",
              "  </script>\n",
              "</div>\n",
              "\n",
              "    </div>\n",
              "  </div>\n"
            ],
            "application/vnd.google.colaboratory.intrinsic+json": {
              "type": "dataframe",
              "variable_name": "train_df"
            }
          },
          "metadata": {},
          "execution_count": 127
        }
      ]
    },
    {
      "cell_type": "code",
      "source": [
        "#print(train_df.head().to_markdown(index=False, numalign=\"left\", stralign=\"left\"))\n",
        "df_subm.head()"
      ],
      "metadata": {
        "colab": {
          "base_uri": "https://localhost:8080/",
          "height": 238
        },
        "id": "GZWW2Ivk7K0U",
        "outputId": "bd086acf-20b1-43e2-f230-738393b6390b"
      },
      "execution_count": 128,
      "outputs": [
        {
          "output_type": "execute_result",
          "data": {
            "text/plain": [
              "         Premium Amount\n",
              "id                     \n",
              "1200000        1102.545\n",
              "1200001        1102.545\n",
              "1200002        1102.545\n",
              "1200003        1102.545\n",
              "1200004        1102.545"
            ],
            "text/html": [
              "\n",
              "  <div id=\"df-6340f3c2-fd52-4514-b174-456c4b54b409\" class=\"colab-df-container\">\n",
              "    <div>\n",
              "<style scoped>\n",
              "    .dataframe tbody tr th:only-of-type {\n",
              "        vertical-align: middle;\n",
              "    }\n",
              "\n",
              "    .dataframe tbody tr th {\n",
              "        vertical-align: top;\n",
              "    }\n",
              "\n",
              "    .dataframe thead th {\n",
              "        text-align: right;\n",
              "    }\n",
              "</style>\n",
              "<table border=\"1\" class=\"dataframe\">\n",
              "  <thead>\n",
              "    <tr style=\"text-align: right;\">\n",
              "      <th></th>\n",
              "      <th>Premium Amount</th>\n",
              "    </tr>\n",
              "    <tr>\n",
              "      <th>id</th>\n",
              "      <th></th>\n",
              "    </tr>\n",
              "  </thead>\n",
              "  <tbody>\n",
              "    <tr>\n",
              "      <th>1200000</th>\n",
              "      <td>1102.545</td>\n",
              "    </tr>\n",
              "    <tr>\n",
              "      <th>1200001</th>\n",
              "      <td>1102.545</td>\n",
              "    </tr>\n",
              "    <tr>\n",
              "      <th>1200002</th>\n",
              "      <td>1102.545</td>\n",
              "    </tr>\n",
              "    <tr>\n",
              "      <th>1200003</th>\n",
              "      <td>1102.545</td>\n",
              "    </tr>\n",
              "    <tr>\n",
              "      <th>1200004</th>\n",
              "      <td>1102.545</td>\n",
              "    </tr>\n",
              "  </tbody>\n",
              "</table>\n",
              "</div>\n",
              "    <div class=\"colab-df-buttons\">\n",
              "\n",
              "  <div class=\"colab-df-container\">\n",
              "    <button class=\"colab-df-convert\" onclick=\"convertToInteractive('df-6340f3c2-fd52-4514-b174-456c4b54b409')\"\n",
              "            title=\"Convert this dataframe to an interactive table.\"\n",
              "            style=\"display:none;\">\n",
              "\n",
              "  <svg xmlns=\"http://www.w3.org/2000/svg\" height=\"24px\" viewBox=\"0 -960 960 960\">\n",
              "    <path d=\"M120-120v-720h720v720H120Zm60-500h600v-160H180v160Zm220 220h160v-160H400v160Zm0 220h160v-160H400v160ZM180-400h160v-160H180v160Zm440 0h160v-160H620v160ZM180-180h160v-160H180v160Zm440 0h160v-160H620v160Z\"/>\n",
              "  </svg>\n",
              "    </button>\n",
              "\n",
              "  <style>\n",
              "    .colab-df-container {\n",
              "      display:flex;\n",
              "      gap: 12px;\n",
              "    }\n",
              "\n",
              "    .colab-df-convert {\n",
              "      background-color: #E8F0FE;\n",
              "      border: none;\n",
              "      border-radius: 50%;\n",
              "      cursor: pointer;\n",
              "      display: none;\n",
              "      fill: #1967D2;\n",
              "      height: 32px;\n",
              "      padding: 0 0 0 0;\n",
              "      width: 32px;\n",
              "    }\n",
              "\n",
              "    .colab-df-convert:hover {\n",
              "      background-color: #E2EBFA;\n",
              "      box-shadow: 0px 1px 2px rgba(60, 64, 67, 0.3), 0px 1px 3px 1px rgba(60, 64, 67, 0.15);\n",
              "      fill: #174EA6;\n",
              "    }\n",
              "\n",
              "    .colab-df-buttons div {\n",
              "      margin-bottom: 4px;\n",
              "    }\n",
              "\n",
              "    [theme=dark] .colab-df-convert {\n",
              "      background-color: #3B4455;\n",
              "      fill: #D2E3FC;\n",
              "    }\n",
              "\n",
              "    [theme=dark] .colab-df-convert:hover {\n",
              "      background-color: #434B5C;\n",
              "      box-shadow: 0px 1px 3px 1px rgba(0, 0, 0, 0.15);\n",
              "      filter: drop-shadow(0px 1px 2px rgba(0, 0, 0, 0.3));\n",
              "      fill: #FFFFFF;\n",
              "    }\n",
              "  </style>\n",
              "\n",
              "    <script>\n",
              "      const buttonEl =\n",
              "        document.querySelector('#df-6340f3c2-fd52-4514-b174-456c4b54b409 button.colab-df-convert');\n",
              "      buttonEl.style.display =\n",
              "        google.colab.kernel.accessAllowed ? 'block' : 'none';\n",
              "\n",
              "      async function convertToInteractive(key) {\n",
              "        const element = document.querySelector('#df-6340f3c2-fd52-4514-b174-456c4b54b409');\n",
              "        const dataTable =\n",
              "          await google.colab.kernel.invokeFunction('convertToInteractive',\n",
              "                                                    [key], {});\n",
              "        if (!dataTable) return;\n",
              "\n",
              "        const docLinkHtml = 'Like what you see? Visit the ' +\n",
              "          '<a target=\"_blank\" href=https://colab.research.google.com/notebooks/data_table.ipynb>data table notebook</a>'\n",
              "          + ' to learn more about interactive tables.';\n",
              "        element.innerHTML = '';\n",
              "        dataTable['output_type'] = 'display_data';\n",
              "        await google.colab.output.renderOutput(dataTable, element);\n",
              "        const docLink = document.createElement('div');\n",
              "        docLink.innerHTML = docLinkHtml;\n",
              "        element.appendChild(docLink);\n",
              "      }\n",
              "    </script>\n",
              "  </div>\n",
              "\n",
              "\n",
              "<div id=\"df-20396309-f4d8-4bc3-9d99-464bac3e8b5b\">\n",
              "  <button class=\"colab-df-quickchart\" onclick=\"quickchart('df-20396309-f4d8-4bc3-9d99-464bac3e8b5b')\"\n",
              "            title=\"Suggest charts\"\n",
              "            style=\"display:none;\">\n",
              "\n",
              "<svg xmlns=\"http://www.w3.org/2000/svg\" height=\"24px\"viewBox=\"0 0 24 24\"\n",
              "     width=\"24px\">\n",
              "    <g>\n",
              "        <path d=\"M19 3H5c-1.1 0-2 .9-2 2v14c0 1.1.9 2 2 2h14c1.1 0 2-.9 2-2V5c0-1.1-.9-2-2-2zM9 17H7v-7h2v7zm4 0h-2V7h2v10zm4 0h-2v-4h2v4z\"/>\n",
              "    </g>\n",
              "</svg>\n",
              "  </button>\n",
              "\n",
              "<style>\n",
              "  .colab-df-quickchart {\n",
              "      --bg-color: #E8F0FE;\n",
              "      --fill-color: #1967D2;\n",
              "      --hover-bg-color: #E2EBFA;\n",
              "      --hover-fill-color: #174EA6;\n",
              "      --disabled-fill-color: #AAA;\n",
              "      --disabled-bg-color: #DDD;\n",
              "  }\n",
              "\n",
              "  [theme=dark] .colab-df-quickchart {\n",
              "      --bg-color: #3B4455;\n",
              "      --fill-color: #D2E3FC;\n",
              "      --hover-bg-color: #434B5C;\n",
              "      --hover-fill-color: #FFFFFF;\n",
              "      --disabled-bg-color: #3B4455;\n",
              "      --disabled-fill-color: #666;\n",
              "  }\n",
              "\n",
              "  .colab-df-quickchart {\n",
              "    background-color: var(--bg-color);\n",
              "    border: none;\n",
              "    border-radius: 50%;\n",
              "    cursor: pointer;\n",
              "    display: none;\n",
              "    fill: var(--fill-color);\n",
              "    height: 32px;\n",
              "    padding: 0;\n",
              "    width: 32px;\n",
              "  }\n",
              "\n",
              "  .colab-df-quickchart:hover {\n",
              "    background-color: var(--hover-bg-color);\n",
              "    box-shadow: 0 1px 2px rgba(60, 64, 67, 0.3), 0 1px 3px 1px rgba(60, 64, 67, 0.15);\n",
              "    fill: var(--button-hover-fill-color);\n",
              "  }\n",
              "\n",
              "  .colab-df-quickchart-complete:disabled,\n",
              "  .colab-df-quickchart-complete:disabled:hover {\n",
              "    background-color: var(--disabled-bg-color);\n",
              "    fill: var(--disabled-fill-color);\n",
              "    box-shadow: none;\n",
              "  }\n",
              "\n",
              "  .colab-df-spinner {\n",
              "    border: 2px solid var(--fill-color);\n",
              "    border-color: transparent;\n",
              "    border-bottom-color: var(--fill-color);\n",
              "    animation:\n",
              "      spin 1s steps(1) infinite;\n",
              "  }\n",
              "\n",
              "  @keyframes spin {\n",
              "    0% {\n",
              "      border-color: transparent;\n",
              "      border-bottom-color: var(--fill-color);\n",
              "      border-left-color: var(--fill-color);\n",
              "    }\n",
              "    20% {\n",
              "      border-color: transparent;\n",
              "      border-left-color: var(--fill-color);\n",
              "      border-top-color: var(--fill-color);\n",
              "    }\n",
              "    30% {\n",
              "      border-color: transparent;\n",
              "      border-left-color: var(--fill-color);\n",
              "      border-top-color: var(--fill-color);\n",
              "      border-right-color: var(--fill-color);\n",
              "    }\n",
              "    40% {\n",
              "      border-color: transparent;\n",
              "      border-right-color: var(--fill-color);\n",
              "      border-top-color: var(--fill-color);\n",
              "    }\n",
              "    60% {\n",
              "      border-color: transparent;\n",
              "      border-right-color: var(--fill-color);\n",
              "    }\n",
              "    80% {\n",
              "      border-color: transparent;\n",
              "      border-right-color: var(--fill-color);\n",
              "      border-bottom-color: var(--fill-color);\n",
              "    }\n",
              "    90% {\n",
              "      border-color: transparent;\n",
              "      border-bottom-color: var(--fill-color);\n",
              "    }\n",
              "  }\n",
              "</style>\n",
              "\n",
              "  <script>\n",
              "    async function quickchart(key) {\n",
              "      const quickchartButtonEl =\n",
              "        document.querySelector('#' + key + ' button');\n",
              "      quickchartButtonEl.disabled = true;  // To prevent multiple clicks.\n",
              "      quickchartButtonEl.classList.add('colab-df-spinner');\n",
              "      try {\n",
              "        const charts = await google.colab.kernel.invokeFunction(\n",
              "            'suggestCharts', [key], {});\n",
              "      } catch (error) {\n",
              "        console.error('Error during call to suggestCharts:', error);\n",
              "      }\n",
              "      quickchartButtonEl.classList.remove('colab-df-spinner');\n",
              "      quickchartButtonEl.classList.add('colab-df-quickchart-complete');\n",
              "    }\n",
              "    (() => {\n",
              "      let quickchartButtonEl =\n",
              "        document.querySelector('#df-20396309-f4d8-4bc3-9d99-464bac3e8b5b button');\n",
              "      quickchartButtonEl.style.display =\n",
              "        google.colab.kernel.accessAllowed ? 'block' : 'none';\n",
              "    })();\n",
              "  </script>\n",
              "</div>\n",
              "\n",
              "    </div>\n",
              "  </div>\n"
            ],
            "application/vnd.google.colaboratory.intrinsic+json": {
              "type": "dataframe",
              "variable_name": "df_subm"
            }
          },
          "metadata": {},
          "execution_count": 128
        }
      ]
    },
    {
      "cell_type": "markdown",
      "source": [
        "### **1.0 Stacked Model**"
      ],
      "metadata": {
        "id": "L6dqz_uRJEAR"
      }
    },
    {
      "cell_type": "code",
      "source": [
        "# Meta-learner\n",
        "\n",
        "from lightgbm import LGBMRegressor\n",
        "from xgboost import XGBRegressor\n",
        "from catboost import CatBoostRegressor\n",
        "\n",
        "# Define a common random seed for reproducibility\n",
        "RANDOM_SEED = 42\n",
        "N_ESTIMATORS = 3000  # Number of estimators for the ensemble models\n",
        "\n",
        "X = train_df.drop(columns=\"Premium Amount\").copy()\n",
        "y = np.log(train_df[\"Premium Amount\"].copy())\n",
        "\n",
        "X_test = test_df.drop(columns=\"Premium Amount\").copy()\n",
        "X_test = X_test.values\n",
        "\n",
        "df_subm_stack = df_subm.copy()\n",
        "\n",
        "cv = KFold(5, shuffle=True, random_state=RANDOM_SEED)\n",
        "rmsle = []\n",
        "\n",
        "# Initialize the Stack\n",
        "df_subm_stack['Premium Amount'] = 0.0\n",
        "\n",
        "i=0\n",
        "\n",
        "oof_results_stack = pd.DataFrame(columns=list(range(5)), index=X.index)\n",
        "\n",
        "for idx_train, idx_valid in cv.split(X, y):\n",
        "\n",
        "    print(f\"Fold {i}\")\n",
        "\n",
        "    # Split the data into training and validation sets for the current fold\n",
        "    X_train, y_train = X.iloc[idx_train].to_numpy(), y.iloc[idx_train].to_numpy()\n",
        "    X_valid, y_valid = X.iloc[idx_valid].to_numpy(), y.iloc[idx_valid].to_numpy()\n",
        "\n",
        "    # Define base estimators with random seed and number of estimators\n",
        "    estimators = [\n",
        "        ('lgbm', LGBMRegressor(random_state=RANDOM_SEED, n_estimators=N_ESTIMATORS,subsample=0.9, colsample_bytree=0.95, learning_rate=0.015)),\n",
        "        ('xgb', XGBRegressor(random_state=RANDOM_SEED, n_estimators=N_ESTIMATORS, colsample_bytree = 0.95, subsample= 0.90, learning_rate=0.015)),\n",
        "        ('catboost', CatBoostRegressor(random_seed=RANDOM_SEED, iterations=N_ESTIMATORS, subsample=0.9, learning_rate=0.015))\n",
        "    ]\n",
        "\n",
        "    meta_model = Ridge(alpha=0.1, positive=True)\n",
        "\n",
        "    # Create StackingRegressor\n",
        "    stacking_model = StackingRegressor(estimators=estimators, final_estimator=meta_model)\n",
        "    if i >= 5:\n",
        "        #print(stacking_model.get_params())\n",
        "        # Fit the StackingRegressor\n",
        "        stacking_model.fit(X_train, y_train)\n",
        "        obj = sio.dump(stacking_model, f\"/content/drive/MyDrive/Exercises/Studies_Structured_Data/Models/S4E12/staked_base_{i}.skops\")\n",
        "\n",
        "    else:\n",
        "        unknown_types = sio.get_untrusted_types(file=f\"/content/drive/MyDrive/Exercises/Studies_Structured_Data/Models/S4E12/staked_base_{i}.skops\")\n",
        "        stacking_model = sio.load(f\"/content/drive/MyDrive/Exercises/Studies_Structured_Data/Models/S4E12/staked_base_{i}.skops\", trusted=unknown_types)\n",
        "\n",
        "\n",
        "    stack_preds = np.exp(stacking_model.predict(X_valid))\n",
        "\n",
        "    oof_results_stack.iloc[idx_valid,i] = stack_preds.flatten()\n",
        "    # Prepare the test data and make predictions\n",
        "    error = root_mean_squared_log_error(np.exp(y_valid), stack_preds)\n",
        "\n",
        "    rmsle.append(error)\n",
        "    print(f\"RMSLE fold {i}: {error}\")\n",
        "\n",
        "    # Aggregate the predictions across the 5 folds (averaging for ensemble)\n",
        "    df_subm_stack['Premium Amount'] += np.exp(stacking_model.predict(X_test)) / 5\n",
        "    i += 1"
      ],
      "metadata": {
        "colab": {
          "base_uri": "https://localhost:8080/"
        },
        "id": "WfMoJwmvIgpJ",
        "outputId": "99bc3ecf-d8bb-40b9-a7b7-bb4e2ccc556c"
      },
      "execution_count": null,
      "outputs": [
        {
          "output_type": "stream",
          "name": "stdout",
          "text": [
            "Fold 0\n",
            "RMSLE fold 0: 1.0523832330782492\n",
            "Fold 1\n",
            "RMSLE fold 1: 1.0511181508685226\n",
            "Fold 2\n",
            "RMSLE fold 2: 1.0517750721676338\n",
            "Fold 3\n"
          ]
        }
      ]
    },
    {
      "cell_type": "code",
      "source": [
        "np.mean(rmsle), np.std(rmsle)"
      ],
      "metadata": {
        "id": "H1SFIWUbttpv"
      },
      "execution_count": null,
      "outputs": []
    },
    {
      "cell_type": "code",
      "source": [
        "oof_results_stack[\"average\"] = oof_results_stack.mean(axis=1)\n",
        "oof_results_stack[\"average\"].min(),oof_results_stack[\"average\"].max()"
      ],
      "metadata": {
        "id": "ERnDlNuSD9g0"
      },
      "execution_count": null,
      "outputs": []
    },
    {
      "cell_type": "code",
      "source": [
        "plt.hist(oof_results_stack[\"average\"], bins=100, alpha=0.5)\n",
        "plt.hist(train_df[\"Premium Amount\"], bins=100, color=\"salmon\", alpha=0.5)\n",
        "plt.xlabel(\"Premium Amount\")\n",
        "plt.ylabel(\"Frequency\")\n",
        "plt.title(\"Distribution of Predicted Premium Amounts\")\n",
        "plt.show()"
      ],
      "metadata": {
        "id": "roR0Ay0w2nQa"
      },
      "execution_count": null,
      "outputs": []
    },
    {
      "cell_type": "code",
      "source": [
        "train_df[\"Premium Amount\"].min(),train_df[\"Premium Amount\"].max(),train_df[\"Premium Amount\"].mean(),train_df[\"Premium Amount\"].median()"
      ],
      "metadata": {
        "id": "E-6VJpJnDT4t"
      },
      "execution_count": null,
      "outputs": []
    },
    {
      "cell_type": "markdown",
      "source": [
        "##### Save Results:"
      ],
      "metadata": {
        "id": "-76M70M9unqr"
      }
    },
    {
      "cell_type": "code",
      "source": [
        "df_subm_stack.head()"
      ],
      "metadata": {
        "id": "xdCGRFEbunqr"
      },
      "outputs": [],
      "execution_count": null
    },
    {
      "cell_type": "code",
      "source": [
        "#df_subm_stack.to_csv('/content/drive/MyDrive/Exercises/Studies_Structured_Data/Data/S4E12/Submissions/submission_stack_baseline.csv')"
      ],
      "metadata": {
        "id": "HwU9uAkLunqr"
      },
      "execution_count": null,
      "outputs": []
    },
    {
      "cell_type": "code",
      "source": [
        "#oof_results_stack[\"average\"] = oof_results_stack.mean(axis=1)\n",
        "oof_results_stack.head()"
      ],
      "metadata": {
        "id": "nFwsuh9Eunqr"
      },
      "execution_count": null,
      "outputs": []
    },
    {
      "cell_type": "code",
      "source": [
        "oof_results_stack.isna().sum()"
      ],
      "metadata": {
        "id": "A0zoCwM4unqr"
      },
      "execution_count": null,
      "outputs": []
    },
    {
      "cell_type": "code",
      "source": [
        "train_results_df_ = oof_results_stack[\"average\"].astype(\"float\").copy()\n",
        "train_results_df_.columns = [\"stack_baseline\"]\n",
        "#train_results_df_.to_csv(f\"/content/drive/MyDrive/Exercises/Studies_Structured_Data/Data/S4E12/Submissions/train_stack_baseline.csv\")"
      ],
      "metadata": {
        "id": "mWNl0lIeunqr"
      },
      "execution_count": null,
      "outputs": []
    },
    {
      "cell_type": "markdown",
      "source": [
        "### **2.0 TabNet Regressor**"
      ],
      "metadata": {
        "id": "dD0H-pEvvbRu"
      }
    },
    {
      "cell_type": "markdown",
      "source": [
        "##### **Grouped Features**\n",
        "It is possible to specify attention groups (using grouped_features). Attention is done at the group level and not feature level. This is especially useful if a dataset has a lot of columns coming from on single source of data"
      ],
      "metadata": {
        "id": "ugLy0HoaeTxB"
      }
    },
    {
      "cell_type": "code",
      "source": [
        "train_df.columns"
      ],
      "metadata": {
        "id": "WelRaQCbwD3e"
      },
      "execution_count": null,
      "outputs": []
    },
    {
      "cell_type": "code",
      "source": [
        "grouped_features = []\n",
        "feature_cols = train_df.columns.to_list()\n",
        "target_col = 'Premium Amount'\n",
        "feature_cols.remove(target_col)\n",
        "\n",
        "group_person = ['Age', 'Gender', 'Marital Status', 'Education Level', 'Health Score', 'Smoking Status', 'Exercise Frequency']\n",
        "group_income = ['Annual Income', 'Number of Dependents', 'Occupation', 'Credit Score', 'Property Type', 'Location']\n",
        "group_policy = ['Policy Type', 'Previous Claims', 'Vehicle Age', 'Insurance Duration', 'Policy Start Date', 'Customer Feedback']\n",
        "\n",
        "# Iterate through each set of related columns (e.g., blood glucose, insulin, etc.)\n",
        "for colset in [group_person, group_income, group_policy]:\n",
        "    group_idxs = [idx for idx, col in enumerate(feature_cols) if col in colset]\n",
        "    grouped_features.append(group_idxs)"
      ],
      "metadata": {
        "trusted": true,
        "id": "bsYtsoibeTxB"
      },
      "outputs": [],
      "execution_count": null
    },
    {
      "cell_type": "code",
      "source": [
        "grouped_features"
      ],
      "metadata": {
        "id": "6Ni8Bl9peTxB"
      },
      "execution_count": null,
      "outputs": []
    },
    {
      "cell_type": "markdown",
      "source": [
        "##### **Training & Inference**\n"
      ],
      "metadata": {
        "id": "U-1qm4HLeTxB"
      }
    },
    {
      "cell_type": "code",
      "source": [
        "train_df.head()"
      ],
      "metadata": {
        "id": "kX1Exd-c1Y9-"
      },
      "execution_count": null,
      "outputs": []
    },
    {
      "cell_type": "code",
      "source": [
        "X_ = train_df[feature_cols]\n",
        "y = train_df[[target_col]]"
      ],
      "metadata": {
        "id": "8FKu0bNyeTxB"
      },
      "execution_count": null,
      "outputs": []
    },
    {
      "cell_type": "code",
      "source": [
        "# X.columns\n",
        "\n",
        "# print(feature_cols)\n",
        "\n",
        "X_.isna().sum().sum()"
      ],
      "metadata": {
        "id": "gzyMyyY5eTxB"
      },
      "execution_count": null,
      "outputs": []
    },
    {
      "cell_type": "code",
      "source": [
        "categorical_cols = ['Gender', 'Marital Status', 'Education Level', 'Occupation', 'Location', 'Policy Type', 'Customer Feedback', 'Smoking Status', 'Exercise Frequency', 'Property Type']\n",
        "numerical_cols = ['Age', 'Annual Income', 'Health Score', 'Number of Dependents', 'Vehicle Age', 'Credit Score', 'Insurance Duration', 'Previous Claims', 'Policy Start Date']"
      ],
      "metadata": {
        "id": "5_pETVbA1qwG"
      },
      "execution_count": null,
      "outputs": []
    },
    {
      "cell_type": "code",
      "source": [
        "FOLDS = 5\n",
        "RANDOM_SEED = 42\n",
        "X = train_df.drop(columns=\"Premium Amount\").copy()\n",
        "y = train_df[\"Premium Amount\"].copy()\n",
        "\n",
        "X_test = test_df.drop(columns=\"Premium Amount\").copy()\n",
        "\n",
        "df_subm_tabnet = df_subm.copy()\n",
        "\n",
        "cv = KFold(FOLDS, shuffle=True, random_state=RANDOM_SEED)\n",
        "rmsle = []\n",
        "\n",
        "# Initialize the Stack\n",
        "df_subm_tabnet['Premium Amount'] = 0.0\n",
        "\n",
        "i=0\n",
        "\n",
        "oof_results = pd.DataFrame(columns=list(range(FOLDS)), index=X.index)\n",
        "\n",
        "for idx_train, idx_valid in cv.split(X, y):\n",
        "\n",
        "    print(f\"Fold {i}\")\n",
        "\n",
        "    # Split the data into training and validation sets for the current fold\n",
        "    X_train, y_train = X.iloc[idx_train], y.iloc[idx_train].to_numpy().reshape(-1,1)\n",
        "    X_valid, y_valid = X.iloc[idx_valid], y.iloc[idx_valid].to_numpy().reshape(-1,1)\n",
        "\n",
        "    scaler = MinMaxScaler()\n",
        "    X_train[numerical_cols] = scaler.fit_transform(X_train[numerical_cols])\n",
        "    X_valid[numerical_cols] = scaler.transform(X_valid[numerical_cols])\n",
        "\n",
        "    X_train = X_train.to_numpy()\n",
        "    X_valid = X_valid.to_numpy()\n",
        "\n",
        "    # Initialize the TabNet Regressor model\n",
        "    params = {} #'n_d': 10, 'n_a': 10, 'n_steps': 3, 'gamma': 1.37, 'lambda_sparse': 0.0016\n",
        "    reg = TabNetRegressor(\n",
        "        grouped_features=grouped_features,\n",
        "        optimizer_fn=torch.optim.Adam,\n",
        "        optimizer_params=dict(lr=0.01),\n",
        "        scheduler_params={\"patience\":5, # how to use learning rate scheduler\n",
        "                          \"factor\":0.5,\n",
        "                          \"min_lr\":0.0001},\n",
        "        scheduler_fn=torch.optim.lr_scheduler.ReduceLROnPlateau,\n",
        "        **params)\n",
        "\n",
        "    # Train the model using the training set and validate using the validation set\n",
        "    if i>5:\n",
        "      reg.fit(\n",
        "          X_train, y_train,\n",
        "          eval_set=[(X_valid, y_valid)],\n",
        "          eval_metric=['rmsle'],\n",
        "          batch_size=1024,\n",
        "          max_epochs=100,\n",
        "          patience=17\n",
        "          )\n",
        "\n",
        "      torch.save(reg, f\"/content/drive/MyDrive/Exercises/Studies_Structured_Data/Models/Glucose/Tabnet_v6/tabnet_model_{i}.pth\")\n",
        "\n",
        "    else:\n",
        "      reg = torch.load(f\"/content/drive/MyDrive/Exercises/Studies_Structured_Data/Models/Glucose/Tabnet_v6/tabnet_model_{i}.pth\")\n",
        "\n",
        "    tab_preds = reg.predict(X_valid)\n",
        "\n",
        "    oof_results.iloc[idx_valid,i] = tab_preds.flatten()\n",
        "\n",
        "    # Prepare the test data and make predictions\n",
        "    error = root_mean_squared_log_error(y_valid, tab_preds)\n",
        "    rmsle.append(error)\n",
        "    print(f\"RMSLE fold {i}: {error}\")\n",
        "\n",
        "    X_test_ = X_test.copy()\n",
        "    X_test_[numerical_cols] = scaler.transform(X_test_[numerical_cols])\n",
        "    X_test_ = X_test_.to_numpy()\n",
        "\n",
        "    # Aggregate the predictions across the 5 folds (averaging for ensemble)\n",
        "    df_subm_tabnet['Premium Amount'] += reg.predict(X_test_)[:, 0] / FOLDS\n",
        "    i += 1\n",
        "\n",
        "    del scaler, reg, X_test_, X_train, y_train, X_valid, y_valid\n",
        "    gc.collect()\n",
        "\n",
        "\n",
        "#df_subm.to_csv('submission_tabnet.csv')"
      ],
      "metadata": {
        "trusted": true,
        "id": "kFOMDXH0eTxC"
      },
      "outputs": [],
      "execution_count": null
    },
    {
      "cell_type": "code",
      "source": [
        "rmsle"
      ],
      "metadata": {
        "id": "n-wlEDU71cFP"
      },
      "execution_count": null,
      "outputs": []
    },
    {
      "cell_type": "code",
      "source": [
        "np.mean(rmsle), np.std(rmsle)"
      ],
      "metadata": {
        "id": "oVHRER0d2hfU"
      },
      "execution_count": null,
      "outputs": []
    },
    {
      "cell_type": "code",
      "source": [
        "oof_results[\"average\"] = oof_results.mean(axis=1)\n",
        "oof_results[\"average\"].min(),oof_results[\"average\"].max()"
      ],
      "metadata": {
        "id": "ZL4eKL0A2hfa"
      },
      "execution_count": null,
      "outputs": []
    },
    {
      "cell_type": "code",
      "source": [
        "plt.hist(oof_results[\"average\"], bins=100, alpha=0.5)\n",
        "plt.hist(train_df[\"Premium Amount\"], bins=100, color=\"salmon\", alpha=0.5)\n",
        "plt.xlabel(\"Premium Amount\")\n",
        "plt.ylabel(\"Frequency\")\n",
        "plt.title(\"Distribution of Predicted Premium Amounts\")\n",
        "plt.show()"
      ],
      "metadata": {
        "id": "JEwL8pKl2hfa"
      },
      "execution_count": null,
      "outputs": []
    },
    {
      "cell_type": "code",
      "source": [
        "train_df[\"Premium Amount\"].min(),train_df[\"Premium Amount\"].max(),train_df[\"Premium Amount\"].mean(),train_df[\"Premium Amount\"].median()"
      ],
      "metadata": {
        "id": "Bsv4gl4c2hfa"
      },
      "execution_count": null,
      "outputs": []
    },
    {
      "cell_type": "markdown",
      "source": [
        "##### Save Results:"
      ],
      "metadata": {
        "id": "6hd2Kx6wyfcI"
      }
    },
    {
      "cell_type": "code",
      "source": [
        "df_subm_tabnet.head()"
      ],
      "metadata": {
        "id": "ElShL6XOyfcJ"
      },
      "outputs": [],
      "execution_count": null
    },
    {
      "cell_type": "code",
      "source": [
        "#df_subm_tabnet.to_csv('/content/drive/MyDrive/Exercises/Studies_Structured_Data/Data/S4E12/Submissions/submission_tabnet_baseline.csv')"
      ],
      "metadata": {
        "id": "M3pn1psWyfcK"
      },
      "execution_count": null,
      "outputs": []
    },
    {
      "cell_type": "code",
      "source": [
        "#oof_results_stack[\"average\"] = oof_results_stack.mean(axis=1)\n",
        "oof_results.head()"
      ],
      "metadata": {
        "id": "Oqd2Jl7PyfcK"
      },
      "execution_count": null,
      "outputs": []
    },
    {
      "cell_type": "code",
      "source": [
        "oof_results.isna().sum()"
      ],
      "metadata": {
        "id": "xn9vk-SKyfcK"
      },
      "execution_count": null,
      "outputs": []
    },
    {
      "cell_type": "code",
      "source": [
        "train_results_df_ = oof_results[\"average\"].astype(\"float\").copy()\n",
        "train_results_df_.columns = [\"stack_baseline\"]\n",
        "#train_results_df_.to_csv(f\"/content/drive/MyDrive/Exercises/Studies_Structured_Data/Data/S4E12/Submissions/train_tabnet_baseline.csv\")"
      ],
      "metadata": {
        "id": "_a7TfK2JyfcK"
      },
      "execution_count": null,
      "outputs": []
    },
    {
      "cell_type": "code",
      "source": [],
      "metadata": {
        "id": "So7S33jtEfcP"
      },
      "execution_count": null,
      "outputs": []
    },
    {
      "cell_type": "markdown",
      "source": [
        "### Occupation:"
      ],
      "metadata": {
        "id": "qJSya7EJ3v6_"
      }
    },
    {
      "cell_type": "code",
      "source": [
        "df = pd.concat([df_train, df_test], axis=0)\n",
        "\n",
        "occ_null = df[df['Occupation'].isnull()]\n",
        "\n",
        "occ_null.isnull().sum()/occ_null.shape[0]"
      ],
      "metadata": {
        "id": "nvRJeEIM14AZ"
      },
      "execution_count": null,
      "outputs": []
    },
    {
      "cell_type": "code",
      "source": [
        "occ_null[occ_null[\"Previous Claims\"]>=8]"
      ],
      "metadata": {
        "id": "TGZGyZ0AGEIC"
      },
      "execution_count": null,
      "outputs": []
    },
    {
      "cell_type": "code",
      "source": [
        "fig, axs = plt.subplots(2,2,figsize=(12,10))\n",
        "axs = np.ravel(axs)\n",
        "\n",
        "sns.barplot(df, x=\"Previous Claims\", y=\"Annual Income\", hue=\"Occupation\", ax=axs[0], palette=palette_9)\n",
        "sns.barplot(df, x=\"Previous Claims\", y=\"Annual Income\", ax=axs[1], palette=palette_9)\n",
        "\n",
        "sns.barplot(df, x=\"Previous Claims\", y=\"Credit Score\", hue=\"Occupation\", ax=axs[2], palette=palette_9)\n",
        "sns.barplot(df, x=\"Previous Claims\", y=\"Credit Score\", ax=axs[3], palette=palette_9)\n",
        "\n",
        "plt.show()"
      ],
      "metadata": {
        "id": "OEKZFOdSEtEx"
      },
      "execution_count": null,
      "outputs": []
    },
    {
      "cell_type": "code",
      "source": [
        "df_train.Occupation.unique()"
      ],
      "metadata": {
        "id": "nXH0YgS8139X"
      },
      "execution_count": null,
      "outputs": []
    },
    {
      "cell_type": "code",
      "source": [
        "grouped_means = df.groupby('Occupation').mean(numeric_only=True)\n",
        "grouped_median = df.groupby('Occupation').median(numeric_only=True)\n",
        "display(grouped_means)\n",
        "display(grouped_median)"
      ],
      "metadata": {
        "id": "QNYe342Q135-"
      },
      "execution_count": null,
      "outputs": []
    },
    {
      "cell_type": "code",
      "source": [
        "grouped_counts = df.groupby('Occupation')[categorical_cols].count()\n",
        "grouped_counts"
      ],
      "metadata": {
        "id": "v2Ldj88A132w"
      },
      "execution_count": null,
      "outputs": []
    },
    {
      "cell_type": "code",
      "source": [
        "categorical_cols_no_occ = ['Gender', 'Marital Status', 'Education Level', 'Location', 'Policy Type', 'Customer Feedback', 'Smoking Status', 'Exercise Frequency', 'Property Type']\n",
        "numerical_cols = ['Age', 'Annual Income', 'Health Score', 'Number of Dependents', 'Vehicle Age', 'Credit Score', 'Insurance Duration', 'Previous Claims', 'Policy Start Date']\n",
        "\n",
        "# Preprocessing for categorical features: Imputation + OneHotEncoding\n",
        "categorical_transformer = Pipeline(steps=[\n",
        "    ('imputer', SimpleImputer(strategy='most_frequent')),\n",
        "    ('Ordinal', OrdinalEncoder())\n",
        "])\n",
        "\n",
        "# Preprocessing for numerical features: Imputation + Scaling\n",
        "numerical_transformer = Pipeline(steps=[\n",
        "    ('imputer', SimpleImputer(strategy='mean')),\n",
        "    ('scaler', StandardScaler())\n",
        "])\n",
        "\n",
        "# Combine both transformations\n",
        "preprocessor = ColumnTransformer(\n",
        "    transformers=[\n",
        "        ('num', numerical_transformer, numerical_cols),\n",
        "        ('cat', categorical_transformer, categorical_cols_no_occ)\n",
        "    ],\n",
        "    remainder='drop', # Drop any columns not specified in transformers\n",
        "    verbose_feature_names_out=True\n",
        ")"
      ],
      "metadata": {
        "id": "KyeIVGrT13zI"
      },
      "execution_count": null,
      "outputs": []
    },
    {
      "cell_type": "code",
      "source": [],
      "metadata": {
        "id": "2iz6nKvaZzfb"
      },
      "execution_count": null,
      "outputs": []
    },
    {
      "cell_type": "code",
      "source": [
        "X_test"
      ],
      "metadata": {
        "id": "ffb3pXDkc-2N"
      },
      "execution_count": null,
      "outputs": []
    },
    {
      "cell_type": "code",
      "source": [
        "X = df[df.Occupation.isna()==False]\n",
        "X_test = df[df.Occupation.isna()==True]\n",
        "\n",
        "X_test = X_test.drop(columns=[\"Occupation\",\"Premium Amount\"])\n",
        "X_train = X.drop(columns=[\"Occupation\",\"Premium Amount\"])\n",
        "y_train = X[\"Occupation\"].copy()\n",
        "\n",
        "le = LabelEncoder()\n",
        "y_train = le.fit_transform(y_train)\n",
        "\n",
        "\n",
        "cv = KFold(FOLDS, shuffle=True, random_state=RANDOM_SEED)\n",
        "rmsle = []\n",
        "\n",
        "# Initialize the Stack\n",
        "occ_test_pred = pd.DataFrame(index=)df_subm_tabnet['Premium Amount'] = 0.0\n",
        "\n",
        "i=0\n",
        "\n",
        "oof_results = pd.DataFrame(columns=list(range(FOLDS)), index=X.index)\n",
        "\n",
        "for idx_train, idx_valid in cv.split(X, y):\n",
        "\n",
        "    print(f\"Fold {i}\")\n",
        "\n",
        "    # Split the data into training and validation sets for the current fold\n",
        "    X_train, y_train = X.iloc[idx_train], y.iloc[idx_train].to_numpy().reshape(-1,1)\n",
        "    X_valid, y_valid = X.iloc[idx_valid], y.iloc[idx_valid].to_numpy().reshape(-1,1)\n",
        "\n",
        "    scaler = MinMaxScaler()\n",
        "    X_train[numerical_cols] = scaler.fit_transform(X_train[numerical_cols])\n",
        "    X_valid[numerical_cols] = scaler.transform(X_valid[numerical_cols])\n",
        "\n",
        "    X_train = X_train.to_numpy()\n",
        "    X_valid = X_valid.to_numpy()\n",
        "\n",
        "    # Initialize the TabNet Regressor model\n",
        "    model_pipeline = Pipeline(steps=[('preprocessor', preprocessor),\n",
        "                                      (\"model\",HistGradientBoostingClassifier(learning_rate=0.1,\n",
        "                                                                              max_iter=150,\n",
        "                                                                              max_leaf_nodes=31,\n",
        "                                                                              max_depth=10,\n",
        "                                                                              min_samples_leaf=20,\n",
        "                                                                              l2_regularization=0.0,\n",
        "                                                                              max_features=1.0,\n",
        "                                                                              validation_fraction=0.15,\n",
        "                                                                              max_bins=255,\n",
        "                                                                              n_iter_no_change=21))])\n",
        "\n",
        "    # Train the model using the training set and validate using the validation set\n",
        "    if i>0:\n",
        "      reg.fit(\n",
        "          X_train, y_train,\n",
        "          eval_set=[(X_valid, y_valid)],\n",
        "          eval_metric=['rmsle'],\n",
        "          batch_size=1024,\n",
        "          max_epochs=100,\n",
        "          patience=17\n",
        "          )\n",
        "\n",
        "      torch.save(reg, f\"/content/drive/MyDrive/Exercises/Studies_Structured_Data/Models/Glucose/Tabnet_v6/tabnet_model_{i}.pth\")\n",
        "\n",
        "    elif i==0:\n",
        "      reg = torch.load(f\"/content/drive/MyDrive/Exercises/Studies_Structured_Data/Models/Glucose/Tabnet_v6/tabnet_model_{i}.pth\")\n",
        "\n",
        "    tab_preds = reg.predict(X_valid)\n",
        "\n",
        "    oof_results.iloc[idx_valid,i] = tab_preds.flatten()\n",
        "\n",
        "    # Prepare the test data and make predictions\n",
        "    error = root_mean_squared_log_error(y_valid, tab_preds)\n",
        "    rmsle.append(error)\n",
        "    print(f\"RMSLE fold {i}: {error}\")\n",
        "\n",
        "    X_test_ = X_test.copy()\n",
        "    X_test_[numerical_cols] = scaler.transform(X_test_[numerical_cols])\n",
        "    X_test_ = X_test_.to_numpy()\n",
        "\n",
        "    # Aggregate the predictions across the 5 folds (averaging for ensemble)\n",
        "    df_subm_tabnet['Premium Amount'] += reg.predict(X_test_)[:, 0] / FOLDS\n",
        "    i += 1\n",
        "\n",
        "    del scaler, reg, X_test_, X_train, y_train, X_valid, y_valid\n",
        "    gc.collect()\n",
        "\n",
        "\n",
        "#df_subm.to_csv('submission_tabnet.csv')"
      ],
      "metadata": {
        "id": "_b-fSAQKapCN"
      },
      "execution_count": 106,
      "outputs": []
    },
    {
      "cell_type": "code",
      "source": [
        "# Fit and transform the training data\n",
        "X_preprocessed = preprocessor.fit_transform(df)\n",
        "\n",
        "df_preprocessed = pd.DataFrame(X_preprocessed, columns=numerical_cols+categorical_cols_no_occ)\n",
        "df_preprocessed[\"Target\"] = df[\"Occupation\"]\n",
        "#df_preprocessed[\"Premium Amount\"] = df[\"Premium Amount\"]"
      ],
      "metadata": {
        "id": "fn55MvNB7hYD"
      },
      "execution_count": 97,
      "outputs": []
    },
    {
      "cell_type": "code",
      "source": [
        "#df_preprocessed.isna().sum()\n",
        "df_preprocessed_train = df_preprocessed[df_preprocessed.Target.isna()==False]\n",
        "df_preprocessed_test = df_preprocessed[df_preprocessed.Target.isna()==True]\n",
        "\n",
        "df_preprocessed_train.shape, df_preprocessed_test.shape"
      ],
      "metadata": {
        "colab": {
          "base_uri": "https://localhost:8080/"
        },
        "id": "bwramnNgUFB2",
        "outputId": "0ed10c87-66cc-4df2-9557-e01101721d3c"
      },
      "execution_count": 102,
      "outputs": [
        {
          "output_type": "execute_result",
          "data": {
            "text/plain": [
              "((1402800, 19), (597200, 19))"
            ]
          },
          "metadata": {},
          "execution_count": 102
        }
      ]
    },
    {
      "cell_type": "code",
      "source": [
        "# Calculate the correlation matrix\n",
        "corr_matrix = df.corr(numeric_only=False)\n",
        "\n",
        "# Retrieve the correlations with `Occupation`\n",
        "occupation_corr = corr_matrix['Previous Claims']\n",
        "\n",
        "# Print the correlations\n",
        "print(occupation_corr.to_markdown(numalign=\"left\", stralign=\"left\"))"
      ],
      "metadata": {
        "id": "rpA1zmhOWvLh",
        "colab": {
          "base_uri": "https://localhost:8080/",
          "height": 356
        },
        "outputId": "ef604d32-42df-4e55-97d1-5ae77aace44b"
      },
      "execution_count": 13,
      "outputs": [
        {
          "output_type": "error",
          "ename": "ValueError",
          "evalue": "could not convert string to float: 'Female'",
          "traceback": [
            "\u001b[0;31m---------------------------------------------------------------------------\u001b[0m",
            "\u001b[0;31mValueError\u001b[0m                                Traceback (most recent call last)",
            "\u001b[0;32m<ipython-input-13-ccaf1fad581d>\u001b[0m in \u001b[0;36m<cell line: 2>\u001b[0;34m()\u001b[0m\n\u001b[1;32m      1\u001b[0m \u001b[0;31m# Calculate the correlation matrix\u001b[0m\u001b[0;34m\u001b[0m\u001b[0;34m\u001b[0m\u001b[0m\n\u001b[0;32m----> 2\u001b[0;31m \u001b[0mcorr_matrix\u001b[0m \u001b[0;34m=\u001b[0m \u001b[0mdf\u001b[0m\u001b[0;34m.\u001b[0m\u001b[0mcorr\u001b[0m\u001b[0;34m(\u001b[0m\u001b[0mnumeric_only\u001b[0m\u001b[0;34m=\u001b[0m\u001b[0;32mFalse\u001b[0m\u001b[0;34m)\u001b[0m\u001b[0;34m\u001b[0m\u001b[0;34m\u001b[0m\u001b[0m\n\u001b[0m\u001b[1;32m      3\u001b[0m \u001b[0;34m\u001b[0m\u001b[0m\n\u001b[1;32m      4\u001b[0m \u001b[0;31m# Retrieve the correlations with `Occupation`\u001b[0m\u001b[0;34m\u001b[0m\u001b[0;34m\u001b[0m\u001b[0m\n\u001b[1;32m      5\u001b[0m \u001b[0moccupation_corr\u001b[0m \u001b[0;34m=\u001b[0m \u001b[0mcorr_matrix\u001b[0m\u001b[0;34m[\u001b[0m\u001b[0;34m'Previous Claims'\u001b[0m\u001b[0;34m]\u001b[0m\u001b[0;34m\u001b[0m\u001b[0;34m\u001b[0m\u001b[0m\n",
            "\u001b[0;32m/usr/local/lib/python3.10/dist-packages/pandas/core/frame.py\u001b[0m in \u001b[0;36mcorr\u001b[0;34m(self, method, min_periods, numeric_only)\u001b[0m\n\u001b[1;32m  11047\u001b[0m         \u001b[0mcols\u001b[0m \u001b[0;34m=\u001b[0m \u001b[0mdata\u001b[0m\u001b[0;34m.\u001b[0m\u001b[0mcolumns\u001b[0m\u001b[0;34m\u001b[0m\u001b[0;34m\u001b[0m\u001b[0m\n\u001b[1;32m  11048\u001b[0m         \u001b[0midx\u001b[0m \u001b[0;34m=\u001b[0m \u001b[0mcols\u001b[0m\u001b[0;34m.\u001b[0m\u001b[0mcopy\u001b[0m\u001b[0;34m(\u001b[0m\u001b[0;34m)\u001b[0m\u001b[0;34m\u001b[0m\u001b[0;34m\u001b[0m\u001b[0m\n\u001b[0;32m> 11049\u001b[0;31m         \u001b[0mmat\u001b[0m \u001b[0;34m=\u001b[0m \u001b[0mdata\u001b[0m\u001b[0;34m.\u001b[0m\u001b[0mto_numpy\u001b[0m\u001b[0;34m(\u001b[0m\u001b[0mdtype\u001b[0m\u001b[0;34m=\u001b[0m\u001b[0mfloat\u001b[0m\u001b[0;34m,\u001b[0m \u001b[0mna_value\u001b[0m\u001b[0;34m=\u001b[0m\u001b[0mnp\u001b[0m\u001b[0;34m.\u001b[0m\u001b[0mnan\u001b[0m\u001b[0;34m,\u001b[0m \u001b[0mcopy\u001b[0m\u001b[0;34m=\u001b[0m\u001b[0;32mFalse\u001b[0m\u001b[0;34m)\u001b[0m\u001b[0;34m\u001b[0m\u001b[0;34m\u001b[0m\u001b[0m\n\u001b[0m\u001b[1;32m  11050\u001b[0m \u001b[0;34m\u001b[0m\u001b[0m\n\u001b[1;32m  11051\u001b[0m         \u001b[0;32mif\u001b[0m \u001b[0mmethod\u001b[0m \u001b[0;34m==\u001b[0m \u001b[0;34m\"pearson\"\u001b[0m\u001b[0;34m:\u001b[0m\u001b[0;34m\u001b[0m\u001b[0;34m\u001b[0m\u001b[0m\n",
            "\u001b[0;32m/usr/local/lib/python3.10/dist-packages/pandas/core/frame.py\u001b[0m in \u001b[0;36mto_numpy\u001b[0;34m(self, dtype, copy, na_value)\u001b[0m\n\u001b[1;32m   1991\u001b[0m         \u001b[0;32mif\u001b[0m \u001b[0mdtype\u001b[0m \u001b[0;32mis\u001b[0m \u001b[0;32mnot\u001b[0m \u001b[0;32mNone\u001b[0m\u001b[0;34m:\u001b[0m\u001b[0;34m\u001b[0m\u001b[0;34m\u001b[0m\u001b[0m\n\u001b[1;32m   1992\u001b[0m             \u001b[0mdtype\u001b[0m \u001b[0;34m=\u001b[0m \u001b[0mnp\u001b[0m\u001b[0;34m.\u001b[0m\u001b[0mdtype\u001b[0m\u001b[0;34m(\u001b[0m\u001b[0mdtype\u001b[0m\u001b[0;34m)\u001b[0m\u001b[0;34m\u001b[0m\u001b[0;34m\u001b[0m\u001b[0m\n\u001b[0;32m-> 1993\u001b[0;31m         \u001b[0mresult\u001b[0m \u001b[0;34m=\u001b[0m \u001b[0mself\u001b[0m\u001b[0;34m.\u001b[0m\u001b[0m_mgr\u001b[0m\u001b[0;34m.\u001b[0m\u001b[0mas_array\u001b[0m\u001b[0;34m(\u001b[0m\u001b[0mdtype\u001b[0m\u001b[0;34m=\u001b[0m\u001b[0mdtype\u001b[0m\u001b[0;34m,\u001b[0m \u001b[0mcopy\u001b[0m\u001b[0;34m=\u001b[0m\u001b[0mcopy\u001b[0m\u001b[0;34m,\u001b[0m \u001b[0mna_value\u001b[0m\u001b[0;34m=\u001b[0m\u001b[0mna_value\u001b[0m\u001b[0;34m)\u001b[0m\u001b[0;34m\u001b[0m\u001b[0;34m\u001b[0m\u001b[0m\n\u001b[0m\u001b[1;32m   1994\u001b[0m         \u001b[0;32mif\u001b[0m \u001b[0mresult\u001b[0m\u001b[0;34m.\u001b[0m\u001b[0mdtype\u001b[0m \u001b[0;32mis\u001b[0m \u001b[0;32mnot\u001b[0m \u001b[0mdtype\u001b[0m\u001b[0;34m:\u001b[0m\u001b[0;34m\u001b[0m\u001b[0;34m\u001b[0m\u001b[0m\n\u001b[1;32m   1995\u001b[0m             \u001b[0mresult\u001b[0m \u001b[0;34m=\u001b[0m \u001b[0mnp\u001b[0m\u001b[0;34m.\u001b[0m\u001b[0masarray\u001b[0m\u001b[0;34m(\u001b[0m\u001b[0mresult\u001b[0m\u001b[0;34m,\u001b[0m \u001b[0mdtype\u001b[0m\u001b[0;34m=\u001b[0m\u001b[0mdtype\u001b[0m\u001b[0;34m)\u001b[0m\u001b[0;34m\u001b[0m\u001b[0;34m\u001b[0m\u001b[0m\n",
            "\u001b[0;32m/usr/local/lib/python3.10/dist-packages/pandas/core/internals/managers.py\u001b[0m in \u001b[0;36mas_array\u001b[0;34m(self, dtype, copy, na_value)\u001b[0m\n\u001b[1;32m   1692\u001b[0m                 \u001b[0marr\u001b[0m\u001b[0;34m.\u001b[0m\u001b[0mflags\u001b[0m\u001b[0;34m.\u001b[0m\u001b[0mwriteable\u001b[0m \u001b[0;34m=\u001b[0m \u001b[0;32mFalse\u001b[0m\u001b[0;34m\u001b[0m\u001b[0;34m\u001b[0m\u001b[0m\n\u001b[1;32m   1693\u001b[0m         \u001b[0;32melse\u001b[0m\u001b[0;34m:\u001b[0m\u001b[0;34m\u001b[0m\u001b[0;34m\u001b[0m\u001b[0m\n\u001b[0;32m-> 1694\u001b[0;31m             \u001b[0marr\u001b[0m \u001b[0;34m=\u001b[0m \u001b[0mself\u001b[0m\u001b[0;34m.\u001b[0m\u001b[0m_interleave\u001b[0m\u001b[0;34m(\u001b[0m\u001b[0mdtype\u001b[0m\u001b[0;34m=\u001b[0m\u001b[0mdtype\u001b[0m\u001b[0;34m,\u001b[0m \u001b[0mna_value\u001b[0m\u001b[0;34m=\u001b[0m\u001b[0mna_value\u001b[0m\u001b[0;34m)\u001b[0m\u001b[0;34m\u001b[0m\u001b[0;34m\u001b[0m\u001b[0m\n\u001b[0m\u001b[1;32m   1695\u001b[0m             \u001b[0;31m# The underlying data was copied within _interleave, so no need\u001b[0m\u001b[0;34m\u001b[0m\u001b[0;34m\u001b[0m\u001b[0m\n\u001b[1;32m   1696\u001b[0m             \u001b[0;31m# to further copy if copy=True or setting na_value\u001b[0m\u001b[0;34m\u001b[0m\u001b[0;34m\u001b[0m\u001b[0m\n",
            "\u001b[0;32m/usr/local/lib/python3.10/dist-packages/pandas/core/internals/managers.py\u001b[0m in \u001b[0;36m_interleave\u001b[0;34m(self, dtype, na_value)\u001b[0m\n\u001b[1;32m   1751\u001b[0m             \u001b[0;32melse\u001b[0m\u001b[0;34m:\u001b[0m\u001b[0;34m\u001b[0m\u001b[0;34m\u001b[0m\u001b[0m\n\u001b[1;32m   1752\u001b[0m                 \u001b[0marr\u001b[0m \u001b[0;34m=\u001b[0m \u001b[0mblk\u001b[0m\u001b[0;34m.\u001b[0m\u001b[0mget_values\u001b[0m\u001b[0;34m(\u001b[0m\u001b[0mdtype\u001b[0m\u001b[0;34m)\u001b[0m\u001b[0;34m\u001b[0m\u001b[0;34m\u001b[0m\u001b[0m\n\u001b[0;32m-> 1753\u001b[0;31m             \u001b[0mresult\u001b[0m\u001b[0;34m[\u001b[0m\u001b[0mrl\u001b[0m\u001b[0;34m.\u001b[0m\u001b[0mindexer\u001b[0m\u001b[0;34m]\u001b[0m \u001b[0;34m=\u001b[0m \u001b[0marr\u001b[0m\u001b[0;34m\u001b[0m\u001b[0;34m\u001b[0m\u001b[0m\n\u001b[0m\u001b[1;32m   1754\u001b[0m             \u001b[0mitemmask\u001b[0m\u001b[0;34m[\u001b[0m\u001b[0mrl\u001b[0m\u001b[0;34m.\u001b[0m\u001b[0mindexer\u001b[0m\u001b[0;34m]\u001b[0m \u001b[0;34m=\u001b[0m \u001b[0;36m1\u001b[0m\u001b[0;34m\u001b[0m\u001b[0;34m\u001b[0m\u001b[0m\n\u001b[1;32m   1755\u001b[0m \u001b[0;34m\u001b[0m\u001b[0m\n",
            "\u001b[0;31mValueError\u001b[0m: could not convert string to float: 'Female'"
          ]
        }
      ]
    },
    {
      "cell_type": "code",
      "source": [],
      "metadata": {
        "id": "51HxTlN87ZSb"
      },
      "execution_count": null,
      "outputs": []
    }
  ]
}